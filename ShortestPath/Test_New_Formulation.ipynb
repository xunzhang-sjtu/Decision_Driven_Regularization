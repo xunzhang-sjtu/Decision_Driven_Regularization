{
 "cells": [
  {
   "cell_type": "code",
   "execution_count": 28,
   "metadata": {},
   "outputs": [],
   "source": [
    "import random\n",
    "import numpy as np\n",
    "import torch\n",
    "import os\n",
    "import pathlib\n",
    "import pickle\n",
    "from gurobipy import *"
   ]
  },
  {
   "cell_type": "code",
   "execution_count": 29,
   "metadata": {},
   "outputs": [],
   "source": [
    "# data_generation_process = \"SPO_Data_Generation\"\n",
    "data_generation_process = \"DDR_Data_Generation\""
   ]
  },
  {
   "cell_type": "markdown",
   "metadata": {},
   "source": [
    "# Parameters"
   ]
  },
  {
   "cell_type": "code",
   "execution_count": 30,
   "metadata": {},
   "outputs": [],
   "source": [
    "# import pyepo\n",
    "# generate data\n",
    "grid = (3,3) # grid size\n",
    "num_train = 100 # number of training data\n",
    "num_feat = 5 # size of feature\n",
    "num_test = 10000\n",
    "deg = 1.2 # polynomial degree\n",
    "e = 1 # scale of normal std or the range of uniform. For the error term\n",
    "\n",
    "lower = 0 # coef lower bound\n",
    "upper = 1 # coef upper bound\n",
    "p = num_feat # num of features\n",
    "d = 12 # num of arcs\n",
    "alpha = e # scale of normal std or the range of uniform. For the error term\n",
    "mis = deg # model misspecification\n"
   ]
  },
  {
   "cell_type": "code",
   "execution_count": 31,
   "metadata": {},
   "outputs": [
    {
     "name": "stdout",
     "output_type": "stream",
     "text": [
      "grandparent_directory: /Users/zhangxun/Dropbox/Research/Decision_Driven_Regularization/Code_MacBook\n",
      "DataPath: /Users/zhangxun/Dropbox/Research/Decision_Driven_Regularization/Data_New_Formulation/DDR_Data_Generation/\n"
     ]
    }
   ],
   "source": [
    "current_directory = os.getcwd()\n",
    "parent_directory = os.path.dirname(current_directory)\n",
    "grandparent_directory = os.path.dirname(parent_directory)\n",
    "DataPath = os.path.dirname(grandparent_directory) + '/Data_New_Formulation/' + data_generation_process + \"/\"\n",
    "pathlib.Path(DataPath).mkdir(parents=True, exist_ok=True)\n",
    "print(\"grandparent_directory:\", grandparent_directory)\n",
    "print(\"DataPath:\", DataPath)\n",
    "\n",
    "DataPath = DataPath + \"data_size=\"+str(num_train)+\"_deg=\"+str(deg)+\"_e=\"+str(e)+\"/\"\n",
    "pathlib.Path(DataPath).mkdir(parents=True, exist_ok=True)"
   ]
  },
  {
   "cell_type": "markdown",
   "metadata": {},
   "source": [
    "# Generate Data"
   ]
  },
  {
   "cell_type": "code",
   "execution_count": 32,
   "metadata": {},
   "outputs": [],
   "source": [
    "def Prepare_Data(DataPath,lower, upper, p, d, coef_seed,seed_all,num_test, num_train, alpha,mis,data_generation_process):\n",
    "# #  ****** Coef generation *********\n",
    "    from Data import data_generation\n",
    "    data_gen = data_generation()\n",
    "    # print(\"W_star = \",W_star[0,:])\n",
    "    W_star = data_gen.generate_truth(DataPath,lower, upper, p, d, coef_seed,version = 0) \n",
    "\n",
    "    for seed in seed_all:\n",
    "        DataPath_seed = DataPath +\"Seed=\"+str(seed)+\"/\"\n",
    "        pathlib.Path(DataPath_seed).mkdir(parents=True, exist_ok=True)\n",
    "        # #  ****** Data generation *********\n",
    "        x_test, c_test, x_train, c_train, W_star = data_gen.generate_samples(seed,DataPath_seed,p, d, num_test, num_train, alpha, W_star, mis, thres = 10, \n",
    "                                version = data_generation_process, x_dist = 'normal', e_dist = 'normal', x_low = 0, x_up = 2, x_mean = 2, x_var = 0.25, bump = 0) \n",
    "        # print()\n",
    "    return x_test, c_test, x_train, c_train, W_star"
   ]
  },
  {
   "cell_type": "code",
   "execution_count": 33,
   "metadata": {},
   "outputs": [],
   "source": [
    "coef_seed = 1\n",
    "seed_all = [1]\n",
    "x_test, c_test, x_train, c_train, W_star = Prepare_Data(DataPath,lower, upper, p, d, coef_seed,seed_all,num_test, num_train, alpha,mis,data_generation_process)"
   ]
  },
  {
   "cell_type": "markdown",
   "metadata": {},
   "source": [
    "# Obtain OLS estimation"
   ]
  },
  {
   "cell_type": "code",
   "execution_count": 34,
   "metadata": {},
   "outputs": [],
   "source": [
    "from OLS import ols_method\n",
    "ols_method_obj = ols_method()\n",
    "W_ols, w0_ols, t_ols, obj_ols = ols_method_obj.ols_solver(\"\",x_train, c_train)"
   ]
  },
  {
   "cell_type": "code",
   "execution_count": 35,
   "metadata": {},
   "outputs": [],
   "source": [
    "c_ols_esti = np.zeros((num_train,12))\n",
    "for i in range(num_train):\n",
    "    for j in range(12):\n",
    "        c_ols_esti[i,j] = sum([W_ols[j][k] * x_train[i,k] for k in range(num_feat)])+ w0_ols[j]"
   ]
  },
  {
   "cell_type": "code",
   "execution_count": 37,
   "metadata": {},
   "outputs": [
    {
     "data": {
      "text/plain": [
       "array([3.22394983, 3.56254114, 4.66443909, 4.62700498, 9.02172889,\n",
       "       4.73081283, 6.75095528, 6.82448398, 6.54022279, 4.39169932,\n",
       "       3.80641735, 4.38295283])"
      ]
     },
     "execution_count": 37,
     "metadata": {},
     "output_type": "execute_result"
    }
   ],
   "source": [
    "c_ols_esti[0,:]"
   ]
  },
  {
   "cell_type": "markdown",
   "metadata": {},
   "source": [
    "# Obtain DDR estimation"
   ]
  },
  {
   "cell_type": "code",
   "execution_count": null,
   "metadata": {},
   "outputs": [],
   "source": []
  },
  {
   "cell_type": "markdown",
   "metadata": {},
   "source": [
    "# Solve Shortest Path"
   ]
  },
  {
   "cell_type": "code",
   "execution_count": 38,
   "metadata": {},
   "outputs": [],
   "source": [
    "def _getArcs(grid):\n",
    "    arcs = []\n",
    "    for i in range(grid[0]):\n",
    "        # edges on rows\n",
    "        for j in range(grid[1] - 1):\n",
    "            v = i * grid[1] + j\n",
    "            arcs.append((v, v + 1))\n",
    "        # edges in columns\n",
    "        if i == grid[0] - 1:\n",
    "            continue\n",
    "        for j in range(grid[1]):\n",
    "            v = i * grid[1] + j\n",
    "            arcs.append((v, v + grid[1]))\n",
    "    return arcs"
   ]
  },
  {
   "cell_type": "code",
   "execution_count": 39,
   "metadata": {},
   "outputs": [],
   "source": [
    "arcs = _getArcs(grid)"
   ]
  },
  {
   "cell_type": "code",
   "execution_count": 40,
   "metadata": {},
   "outputs": [],
   "source": [
    "def solve_Shortest_Path(arcs,cost,grid):\n",
    "\n",
    "    import gurobipy as gp\n",
    "    from gurobipy import GRB\n",
    "    # ceate a model\n",
    "    m = gp.Model(\"shortest path\")\n",
    "    m.setParam('OutputFlag', 0)\n",
    "    # varibles\n",
    "    x = m.addVars(arcs, name=\"x\")\n",
    "    # sense\n",
    "    # m.modelSense = GRB.MINIMIZE\n",
    "    # flow conservation constraints\n",
    "    for i in range(grid[0]):\n",
    "        for j in range(grid[1]):\n",
    "            v = i * grid[1] + j\n",
    "            expr = 0\n",
    "            for e in arcs:\n",
    "                # flow in\n",
    "                if v == e[1]:\n",
    "                    expr += x[e]\n",
    "                # flow out\n",
    "                elif v == e[0]:\n",
    "                    expr -= x[e]\n",
    "            # source\n",
    "            if i == 0 and j == 0:\n",
    "                m.addConstr(expr == -1)\n",
    "            # sink\n",
    "            elif i == grid[0] - 1 and j == grid[0] - 1:\n",
    "                m.addConstr(expr == 1)\n",
    "            # transition\n",
    "            else:\n",
    "                m.addConstr(expr == 0)\n",
    "    m.setObjective( sum([cost[ind] * x[arcs[ind]] for ind in range(len(arcs))]) , GRB.MINIMIZE)\n",
    "    m.optimize()\n",
    "    sol = m.getAttr('x')\n",
    "    # print(\"sol = \",sol)\n",
    "    # print(\"shortest_path = \",shortest_path)\n",
    "    return sol,m.objVal"
   ]
  },
  {
   "cell_type": "code",
   "execution_count": 15,
   "metadata": {},
   "outputs": [],
   "source": [
    "sol_oracle_dict = {}; obj_oracle_dict = {}\n",
    "for j in range(num_train):\n",
    "    sol_oracle_dict[j],obj_oracle_dict[j] = solve_Shortest_Path(arcs,c_train[j,:],grid)"
   ]
  },
  {
   "cell_type": "code",
   "execution_count": 47,
   "metadata": {},
   "outputs": [
    {
     "data": {
      "text/plain": [
       "(12, 5)"
      ]
     },
     "execution_count": 47,
     "metadata": {},
     "output_type": "execute_result"
    }
   ],
   "source": [
    "np.shape(W_ols)"
   ]
  },
  {
   "cell_type": "code",
   "execution_count": 53,
   "metadata": {},
   "outputs": [],
   "source": [
    "diff = np.zeros(num_train)\n",
    "for i in range(num_train):\n",
    "    expr = 0\n",
    "    for j in range(len(arcs)):\n",
    "        # Compute the linear combination for row i and column j: (XW)_{ij} + w0_j.\n",
    "        expr = expr + sol_oracle_dict[i][j] * (sum( [x_train[i, l] * W_ols[j][l] for l in range(num_feat)] ) + w0_ols[j])\n",
    "    diff[i] = obj_oracle_dict[i] - expr"
   ]
  },
  {
   "cell_type": "code",
   "execution_count": 57,
   "metadata": {},
   "outputs": [
    {
     "data": {
      "text/plain": [
       "np.float64(472.2127856471093)"
      ]
     },
     "execution_count": 57,
     "metadata": {},
     "output_type": "execute_result"
    }
   ],
   "source": [
    "diff @ diff"
   ]
  },
  {
   "cell_type": "code",
   "execution_count": null,
   "metadata": {},
   "outputs": [
    {
     "name": "stdout",
     "output_type": "stream",
     "text": [
      "Gurobi Optimizer version 11.0.0 build v11.0.0rc2 (mac64[arm] - Darwin 23.6.0 23H420)\n",
      "\n",
      "CPU model: Apple M1 Pro\n",
      "Thread count: 8 physical cores, 8 logical processors, using up to 8 threads\n",
      "\n",
      "Optimize a model with 0 rows, 55 columns and 0 nonzeros\n",
      "Model fingerprint: 0xccdbb91a\n",
      "Model has 330 quadratic objective terms\n",
      "Model has 1 quadratic constraint\n",
      "Coefficient statistics:\n",
      "  Matrix range     [0e+00, 0e+00]\n",
      "  QMatrix range    [2e-02, 7e+02]\n",
      "  QLMatrix range   [4e-03, 4e+01]\n",
      "  Objective range  [1e-01, 4e+01]\n",
      "  QObjective range [1e+00, 2e+02]\n",
      "  Bounds range     [0e+00, 0e+00]\n",
      "  RHS range        [0e+00, 0e+00]\n",
      "  QRHS range       [3e-01, 3e-01]\n",
      "Presolve time: 0.00s\n",
      "Presolved: 63 rows, 119 columns, 505 nonzeros\n",
      "Presolved model has 2 second-order cone constraints\n",
      "Ordering time: 0.00s\n",
      "\n",
      "Barrier statistics:\n",
      " AA' NZ     : 1.671e+03\n",
      " Factor NZ  : 2.016e+03\n",
      " Factor Ops : 8.534e+04 (less than 1 second per iteration)\n",
      " Threads    : 1\n",
      "\n",
      "                  Objective                Residual\n",
      "Iter       Primal          Dual         Primal    Dual     Compl     Time\n",
      "   0   6.00410794e+02  4.98489963e+02  1.21e+00 2.54e+01  7.95e+00     0s\n",
      "   1   4.96741604e+02  4.95171626e+02  1.89e-02 9.91e+00  2.51e-01     0s\n",
      "   2   4.91950656e+02  4.94715277e+02  5.08e-03 4.12e+00  8.54e-02     0s\n",
      "   3   4.88638497e+02  4.91781355e+02  5.59e-09 1.77e+00  3.22e-02     0s\n",
      "   4   4.89247013e+02  4.86145894e+02  1.57e-11 6.24e-01  5.03e-02     0s\n",
      "   5   4.87544807e+02  4.81820432e+02  1.73e-12 2.59e-01  5.98e-02     0s\n",
      "   6   4.79342632e+02  4.81821325e+02  8.59e-14 2.00e-01  8.04e-03     0s\n",
      "   7   4.78937399e+02  4.80625339e+02  1.42e-13 1.32e-01  6.81e-03     0s\n",
      "   8   4.78782089e+02  4.79408121e+02  6.39e-14 4.33e-02  1.96e-03     0s\n",
      "   9   4.78737044e+02  4.78762230e+02  8.88e-14 1.05e-02  1.58e-03     0s\n",
      "  10   4.78618537e+02  4.78623572e+02  1.74e-13 3.96e-04  3.14e-05     0s\n",
      "  11   4.78617015e+02  4.78616457e+02  2.52e-11 1.12e-06  4.90e-06     0s\n",
      "  12   4.78616885e+02  4.78616870e+02  1.25e-10 6.36e-08  1.28e-07     0s\n",
      "\n",
      "Barrier solved model in 12 iterations and 0.01 seconds (0.00 work units)\n",
      "Optimal objective 4.78616885e+02\n",
      "\n",
      "Optimal solution found:\n",
      "W =\n",
      " [[2.23416298e-10 2.91258874e-02 1.54330337e-01 1.16255792e-02\n",
      "  1.54482086e-01]\n",
      " [1.14764682e-10 3.57068834e-02 4.03103619e-11 1.61420158e-09\n",
      "  3.04865308e-11]\n",
      " [5.16227281e-11 6.99892073e-11 8.27929939e-02 2.75950496e-02\n",
      "  1.24388122e-10]\n",
      " [3.12181299e-10 8.49933787e-11 8.49758331e-11 6.66432159e-11\n",
      "  7.44558182e-11]\n",
      " [3.00766158e-02 2.11086532e-09 8.22857145e-11 2.57656810e-09\n",
      "  1.57954031e-01]\n",
      " [1.54594490e-09 4.49272171e-11 1.06432446e-01 5.00996516e-02\n",
      "  2.03305559e-09]\n",
      " [1.26912985e-01 2.98648253e-06 1.68784179e-01 7.70539821e-11\n",
      "  6.37669746e-11]\n",
      " [5.47690320e-11 1.17160087e-01 8.48929319e-11 2.35563598e-10\n",
      "  7.63680485e-11]\n",
      " [4.39286054e-11 3.37076088e-10 1.62249366e-01 1.23930107e-10\n",
      "  5.45609908e-10]\n",
      " [6.79116757e-02 2.50324824e-10 6.82886547e-02 3.31446913e-11\n",
      "  4.78825952e-02]]\n",
      "w0 = [7.08893016e-11 5.75571046e-10 1.50772186e-10 5.97966837e-11\n",
      " 1.52029592e-01]\n",
      "Objective value = 478.6168847608075\n"
     ]
    }
   ],
   "source": [
    "import gurobipy as gp\n",
    "from gurobipy import GRB\n",
    "import numpy as np\n",
    "\n",
    "# -------------------------------------\n",
    "# Data Setup (example data)\n",
    "# -------------------------------------\n",
    "# n: number of observations (rows in X and D)\n",
    "# p: number of features (columns in X, rows in W)\n",
    "# k: number of responses (columns in D, and dimension of the output)\n",
    "\n",
    "n, p, k = 100, 10, 5\n",
    "np.random.seed(0)\n",
    "\n",
    "# D is an n x k matrix\n",
    "D = np.random.randn(n, k)\n",
    "\n",
    "# X is an n x p matrix\n",
    "X = np.random.randn(n, p)\n",
    "\n",
    "# c is assumed to be a 1 x k vector for compatibility with the constraint\n",
    "c = np.random.randn(k)\n",
    "\n",
    "# y is an n-dimensional vector (n x 1)\n",
    "y = np.random.randn(n)\n",
    "\n",
    "# Gamma is a positive scalar for the constraint bound.\n",
    "gamma = 1.0\n",
    "num_acrs = len(arcs)\n",
    "# -------------------------------------\n",
    "# Build the Gurobi Model\n",
    "# -------------------------------------\n",
    "model = gp.Model(\"Matrix_Optimization_with_Intercept\")\n",
    "\n",
    "# Decision variables:\n",
    "# W is a p x k matrix of decision variables.\n",
    "W = model.addVars(num_acrs, num_train, name=\"W\")\n",
    "# w0 is a 1 x k vector (intercept), which will be added to each row.\n",
    "w0 = model.addVars(num_acrs, name=\"w0\")\n",
    "\n",
    "# -------------------------------------\n",
    "# Set the Objective\n",
    "# -------------------------------------\n",
    "# The objective is to minimize the squared Frobenius norm:\n",
    "#   sum_{i=0}^{n-1} sum_{j=0}^{k-1} ( D[i,j] - (sum_{l=0}^{p-1} X[i,l]*W[l,j] + w0[j]) )^2.\n",
    "obj_expr = gp.QuadExpr()\n",
    "for i in range(num_train):\n",
    "    for j in range(num_acrs):\n",
    "        # Compute the linear combination for row i and column j: (XW)_{ij} + w0_j.\n",
    "        expr = gp.quicksum( x_train[i, l] * W[l, j] for l in range(num_feat) ) + w0[j]\n",
    "        diff = c_train[i, j] - expr\n",
    "        obj_expr.add(diff * diff)\n",
    "        5\n",
    "model.setObjective(obj_expr, GRB.MINIMIZE)\n",
    "\n",
    "# -------------------------------------\n",
    "# Add the Norm Constraint\n",
    "# -------------------------------------\n",
    "# The constraint is:\n",
    "#    || c - y^T (XW + repmat(w0, n, 1)) ||_2 <= gamma.\n",
    "# Note that (XW + w0) is an n x k matrix.\n",
    "# Then y^T (XW + w0) is a 1 x k vector, whose j-th component is:\n",
    "#    t_j = sum_{i=0}^{n-1} y[i]*( (XW)[i,j] + w0[j] ).\n",
    "# We enforce that sum_{j=0}^{k-1} ( c[j] - t_j )^2 <= gamma^2.\n",
    "\n",
    "cons_expr = gp.QuadExpr()\n",
    "for i in range(num_train):\n",
    "    # Compute t_j = sum_{i=0}^{n-1} y[i] * ( (XW)[i,j] + w0[j] )\n",
    "    t_i = gp.quicksum( sol_oracle_dict[i][j] * ( gp.quicksum( x_train[i, l] * W[l, j] for l in range(num_feat) ) + w0[j] )\n",
    "                       for j in range(num_acrs) )\n",
    "    diff = obj_oracle_dict[i] - t_i\n",
    "    cons_expr.add(diff * diff)\n",
    "\n",
    "model.addQConstr(cons_expr <= gamma**2, name=\"norm_constraint\")\n",
    "\n",
    "# -------------------------------------\n",
    "# Optimize the Model\n",
    "# -------------------------------------\n",
    "model.optimize()\n",
    "\n",
    "# -------------------------------------\n",
    "# Retrieve and Print the Solution\n",
    "# -------------------------------------\n",
    "if model.status == GRB.OPTIMAL:\n",
    "    # Retrieve optimal W as a p x k matrix\n",
    "    W_opt = np.array([[W[l,j].X for j in range(k)] for l in range(p)])\n",
    "    # Retrieve optimal intercept w0 as a vector of length k\n",
    "    w0_opt = np.array([w0[j].X for j in range(k)])\n",
    "    \n",
    "    print(\"Optimal solution found:\")\n",
    "    print(\"W =\\n\", W_opt)\n",
    "    print(\"w0 =\", w0_opt)\n",
    "    print(\"Objective value =\", model.objVal)\n",
    "else:\n",
    "    print(\"No optimal solution found.\")\n"
   ]
  }
 ],
 "metadata": {
  "kernelspec": {
   "display_name": ".venv",
   "language": "python",
   "name": "python3"
  },
  "language_info": {
   "codemirror_mode": {
    "name": "ipython",
    "version": 3
   },
   "file_extension": ".py",
   "mimetype": "text/x-python",
   "name": "python",
   "nbconvert_exporter": "python",
   "pygments_lexer": "ipython3",
   "version": "3.9.6"
  }
 },
 "nbformat": 4,
 "nbformat_minor": 2
}
