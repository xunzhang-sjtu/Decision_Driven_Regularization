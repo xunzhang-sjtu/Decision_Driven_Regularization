{
 "cells": [
  {
   "cell_type": "code",
   "execution_count": 31,
   "metadata": {},
   "outputs": [],
   "source": [
    "import random\n",
    "import numpy as np\n",
    "import torch\n",
    "import os\n",
    "import pathlib\n",
    "import pickle"
   ]
  },
  {
   "cell_type": "code",
   "execution_count": 32,
   "metadata": {},
   "outputs": [],
   "source": [
    "data_generation_process = \"SPO_Data_Generation\"\n",
    "# data_generation_process = \"DDR_Data_Generation\""
   ]
  },
  {
   "cell_type": "markdown",
   "metadata": {},
   "source": [
    "# Parameters"
   ]
  },
  {
   "cell_type": "code",
   "execution_count": 33,
   "metadata": {},
   "outputs": [],
   "source": [
    "# import pyepo\n",
    "# generate data\n",
    "grid = (5,5) # grid size\n",
    "num_train = 100 # number of training data\n",
    "num_feat = 5 # size of feature\n",
    "num_test = 10000\n",
    "deg = 0.5 # polynomial degree\n",
    "e = 1 # scale of normal std or the range of uniform. For the error term\n",
    "\n",
    "lower = 0 # coef lower bound\n",
    "upper = 1 # coef upper bound\n",
    "p = 5 # num of features\n",
    "d = 40 # num of arcs\n",
    "alpha = e # scale of normal std or the range of uniform. For the error term\n",
    "mis = deg # model misspecification\n"
   ]
  },
  {
   "cell_type": "code",
   "execution_count": null,
   "metadata": {},
   "outputs": [
    {
     "name": "stdout",
     "output_type": "stream",
     "text": [
      "grandparent_directory: /Users/zhangxun/Dropbox/Research/Decision_Driven_Regularization/Code_MacBook\n",
      "DataPath: /Users/zhangxun/Dropbox/Research/Decision_Driven_Regularization/Data/0316SPO_Data_Generation/\n"
     ]
    }
   ],
   "source": [
    "current_directory = os.getcwd()\n",
    "parent_directory = os.path.dirname(current_directory)\n",
    "grandparent_directory = os.path.dirname(parent_directory)\n",
    "DataPath = os.path.dirname(grandparent_directory) + '/Data/0317' + data_generation_process + \"/\"\n",
    "pathlib.Path(DataPath).mkdir(parents=True, exist_ok=True)\n",
    "print(\"grandparent_directory:\", grandparent_directory)\n",
    "print(\"DataPath:\", DataPath)\n",
    "\n",
    "DataPath = DataPath + \"data_size=\"+str(num_train)+\"_deg=\"+str(deg)+\"_e=\"+str(e)+\"/\"\n",
    "pathlib.Path(DataPath).mkdir(parents=True, exist_ok=True)"
   ]
  },
  {
   "cell_type": "markdown",
   "metadata": {},
   "source": [
    "# Generate Data"
   ]
  },
  {
   "cell_type": "code",
   "execution_count": 35,
   "metadata": {},
   "outputs": [],
   "source": [
    "def Prepare_Data(DataPath,lower, upper, p, d, coef_seed,seed_all,num_test, num_train, alpha,mis,data_generation_process):\n",
    "# #  ****** Coef generation *********\n",
    "    from Data import data_generation\n",
    "    data_gen = data_generation()\n",
    "    # print(\"W_star = \",W_star[0,:])\n",
    "    W_star = data_gen.generate_truth(DataPath,lower, upper, p, d, coef_seed,version = 0) \n",
    "\n",
    "    for seed in seed_all:\n",
    "        DataPath_seed = DataPath +\"Seed=\"+str(seed)+\"/\"\n",
    "        pathlib.Path(DataPath_seed).mkdir(parents=True, exist_ok=True)\n",
    "        # #  ****** Data generation *********\n",
    "        x_test, c_test, x_train, c_train, W_star = data_gen.generate_samples(seed,DataPath_seed,p, d, num_test, num_train, alpha, W_star, mis, thres = 10, \n",
    "                                version = data_generation_process, x_dist = 'normal', e_dist = 'normal', x_low = 0, x_up = 2, x_mean = 2, x_var = 0.25, bump = 0) \n",
    "        # print()"
   ]
  },
  {
   "cell_type": "code",
   "execution_count": 36,
   "metadata": {},
   "outputs": [],
   "source": [
    "def Prepare_Data_with_Diff_W(DataPath,lower, upper, p, d, coef_seed,seed_all,num_test, num_train, alpha,mis,data_generation_process):\n",
    "# #  ****** Coef generation *********\n",
    "    from Data import data_generation\n",
    "    data_gen = data_generation()\n",
    "    for seed in seed_all:\n",
    "        DataPath_seed = DataPath +\"Seed=\"+str(seed)+\"/\"\n",
    "        pathlib.Path(DataPath_seed).mkdir(parents=True, exist_ok=True)\n",
    "        # #  ****** Data generation *********\n",
    "        # print(\"W_star = \",W_star[0,:])\n",
    "        W_star = data_gen.generate_truth(DataPath,lower, upper, p, d, seed,version = 0) \n",
    "        x_test, c_test, x_train, c_train, W_star = data_gen.generate_samples(seed,DataPath_seed,p, d, num_test, num_train, alpha, W_star, mis, thres = 10, \n",
    "                                version = data_generation_process, x_dist = 'normal', e_dist = 'normal', x_low = 0, x_up = 2, x_mean = 2, x_var = 0.25, bump = 0) \n",
    "        # print()"
   ]
  },
  {
   "cell_type": "markdown",
   "metadata": {},
   "source": [
    "# Oracle"
   ]
  },
  {
   "cell_type": "code",
   "execution_count": 37,
   "metadata": {},
   "outputs": [],
   "source": [
    "def Implement_Oracle(DataPath,seed_all):\n",
    "    cost_Oracle_all = {}\n",
    "    for seed in seed_all:\n",
    "        DataPath_seed = DataPath +\"Seed=\"+str(seed)+\"/\"\n",
    "        pathlib.Path(DataPath_seed).mkdir(parents=True, exist_ok=True)\n",
    "        with open(DataPath_seed+'Data.pkl', \"rb\") as tf:\n",
    "            Data = pickle.load(tf)\n",
    "        c_test = Data[\"c_test\"]\n",
    "        from Peformance import performance_evaluation\n",
    "        perfs = performance_evaluation()\n",
    "        cost_Oracle_all[seed] = perfs.compute_Oracel_Cost(arcs, grid,c_test)\n",
    "        print(\"*** seed = \",seed,\" Average Oracle Cost = \",np.mean(cost_Oracle_all[seed]))\n",
    "        with open(DataPath_seed +'rst_Oracle.pkl', \"wb\") as tf:\n",
    "            pickle.dump(cost_Oracle_all[seed],tf)\n",
    "    return cost_Oracle_all"
   ]
  },
  {
   "cell_type": "markdown",
   "metadata": {},
   "source": [
    "# EPO approaches, including SPO+,PG,LTR and ..."
   ]
  },
  {
   "cell_type": "code",
   "execution_count": 38,
   "metadata": {},
   "outputs": [],
   "source": [
    "def Implement_EPO(DataPath,seed_all,batch_size,num_epochs,method_names):\n",
    "    cost_EPO = {}\n",
    "    from PYEPO import PyEPO_Method\n",
    "    epo_runner = PyEPO_Method()\n",
    "    # batch_size = 20\n",
    "    # num_epochs = 30\n",
    "    for seed in seed_all:\n",
    "        DataPath_seed = DataPath +\"Seed=\"+str(seed)+\"/\"\n",
    "        pathlib.Path(DataPath_seed).mkdir(parents=True, exist_ok=True)\n",
    "        print(\"*** seed = \",seed,\": Run EPO ******\")\n",
    "        cost_EPO[seed] = epo_runner.run(method_names,DataPath_seed,batch_size,num_feat,grid,num_epochs)\n",
    "    return cost_EPO"
   ]
  },
  {
   "cell_type": "markdown",
   "metadata": {},
   "source": [
    "# OLS "
   ]
  },
  {
   "cell_type": "code",
   "execution_count": 39,
   "metadata": {},
   "outputs": [],
   "source": [
    "def Implement_OLS(DataPath,seed_all,arcs,grid):\n",
    "    cost_OLS_all = {}\n",
    "    for seed in seed_all:\n",
    "        DataPath_seed = DataPath +\"Seed=\"+str(seed)+\"/\"\n",
    "        pathlib.Path(DataPath_seed).mkdir(parents=True, exist_ok=True)\n",
    "\n",
    "        from OLS import run_OLS_Shortest_Path\n",
    "        OLS_runner = run_OLS_Shortest_Path()\n",
    "        cost_OLS_all[seed] = OLS_runner.run(DataPath_seed,arcs,grid)\n",
    "        print(\"*** seed = \",seed,\" Average OLS Cost = \",np.mean(cost_OLS_all[seed]))\n",
    "    return cost_OLS_all"
   ]
  },
  {
   "cell_type": "markdown",
   "metadata": {},
   "source": [
    "# DDR "
   ]
  },
  {
   "cell_type": "code",
   "execution_count": 40,
   "metadata": {},
   "outputs": [],
   "source": [
    "def Implement_DDR(DataPath,seed_all,mu_arr,lamb_arr,arcs, grid):\n",
    "    from DDR import run_DDR_Shortest_Path\n",
    "    DDR_runner = run_DDR_Shortest_Path()\n",
    "    # mu_arr = np.arange(0.025,1.0,0.05)\n",
    "    # lamb_arr = np.arange(0.75,1.251,0.125)\n",
    "    cost_DDR_all = {}\n",
    "    for seed in seed_all:\n",
    "        DataPath_seed = DataPath +\"Seed=\"+str(seed)+\"/\"\n",
    "        pathlib.Path(DataPath_seed).mkdir(parents=True, exist_ok=True)\n",
    "        print(\"*** seed = \",seed,\": Run DDR ========\")\n",
    "        cost_DDR_all[seed] = DDR_runner.run(DataPath_seed,lamb_arr,mu_arr,arcs, grid,num_nodes=25)\n",
    "    return cost_DDR_all"
   ]
  },
  {
   "cell_type": "markdown",
   "metadata": {},
   "source": [
    "# Implement different approaches"
   ]
  },
  {
   "cell_type": "code",
   "execution_count": 41,
   "metadata": {},
   "outputs": [
    {
     "name": "stdout",
     "output_type": "stream",
     "text": [
      "*** seed =  1  Average Oracle Cost =  7.296073158817913\n",
      "*** seed =  2  Average Oracle Cost =  7.292220460440231\n",
      "*** seed =  3  Average Oracle Cost =  7.315276256832993\n",
      "*** seed =  4  Average Oracle Cost =  7.296064850664674\n",
      "*** seed =  5  Average Oracle Cost =  7.340486896271759\n",
      "*** seed =  6  Average Oracle Cost =  7.313664930416059\n",
      "*** seed =  7  Average Oracle Cost =  7.325163300133808\n",
      "*** seed =  8  Average Oracle Cost =  7.307079658432736\n",
      "*** seed =  9  Average Oracle Cost =  7.312554706391886\n",
      "*** seed =  10  Average Oracle Cost =  7.322330720551237\n",
      "*** seed =  11  Average Oracle Cost =  7.306014597677355\n",
      "*** seed =  12  Average Oracle Cost =  7.317294808830078\n",
      "*** seed =  13  Average Oracle Cost =  7.320085661244877\n",
      "*** seed =  14  Average Oracle Cost =  7.33042542867292\n",
      "*** seed =  15  Average Oracle Cost =  7.296879891433379\n",
      "*** seed =  16  Average Oracle Cost =  7.319455302888497\n",
      "*** seed =  17  Average Oracle Cost =  7.319436949451023\n",
      "*** seed =  18  Average Oracle Cost =  7.350258110871954\n",
      "*** seed =  19  Average Oracle Cost =  7.334957755285938\n",
      "*** seed =  1  Average OLS Cost =  11.615191142821049\n",
      "*** seed =  2  Average OLS Cost =  11.620607649678554\n",
      "*** seed =  3  Average OLS Cost =  11.59565152788079\n",
      "*** seed =  4  Average OLS Cost =  11.567577401473024\n",
      "*** seed =  5  Average OLS Cost =  11.626169904934251\n",
      "*** seed =  6  Average OLS Cost =  11.634485565788838\n",
      "*** seed =  7  Average OLS Cost =  11.592712174440466\n",
      "*** seed =  8  Average OLS Cost =  11.62449952525115\n",
      "*** seed =  9  Average OLS Cost =  11.630303519109319\n",
      "*** seed =  10  Average OLS Cost =  11.678033357965337\n",
      "*** seed =  11  Average OLS Cost =  11.614414681193804\n",
      "*** seed =  12  Average OLS Cost =  11.596689279565544\n",
      "*** seed =  13  Average OLS Cost =  11.602870655914323\n",
      "*** seed =  14  Average OLS Cost =  11.616582644476896\n",
      "*** seed =  15  Average OLS Cost =  11.58044703094377\n",
      "*** seed =  16  Average OLS Cost =  11.605893576754049\n",
      "*** seed =  17  Average OLS Cost =  11.589775236784982\n",
      "*** seed =  18  Average OLS Cost =  11.637483827044788\n",
      "*** seed =  19  Average OLS Cost =  11.640567198497184\n",
      "*** seed =  1 : Run DDR ========\n",
      "lambda =  1.0 , mu =  0.7 , Average DDR cost =  11.616788854774008\n",
      "lambda =  1.0 , mu =  0.75 , Average DDR cost =  11.612076059919362\n",
      "lambda =  1.0 , mu =  0.8 , Average DDR cost =  11.6053238727412\n",
      "lambda =  1.0 , mu =  0.8500000000000001 , Average DDR cost =  11.61064005251372\n",
      "lambda =  1.0 , mu =  0.9000000000000001 , Average DDR cost =  11.615251679301318\n",
      "lambda =  1.0 , mu =  0.9500000000000002 , Average DDR cost =  11.609082411999248\n",
      "lambda =  1.0 , mu =  1.0000000000000002 , Average DDR cost =  11.615191142821049\n",
      "*** seed =  2 : Run DDR ========\n",
      "lambda =  1.0 , mu =  0.7 , Average DDR cost =  11.61091490037811\n",
      "lambda =  1.0 , mu =  0.75 , Average DDR cost =  11.607093592049244\n",
      "lambda =  1.0 , mu =  0.8 , Average DDR cost =  11.612375369628186\n",
      "lambda =  1.0 , mu =  0.8500000000000001 , Average DDR cost =  11.611498489465545\n",
      "lambda =  1.0 , mu =  0.9000000000000001 , Average DDR cost =  11.61964758884578\n",
      "lambda =  1.0 , mu =  0.9500000000000002 , Average DDR cost =  11.622200023861097\n",
      "lambda =  1.0 , mu =  1.0000000000000002 , Average DDR cost =  11.620607649678554\n",
      "*** seed =  3 : Run DDR ========\n",
      "lambda =  1.0 , mu =  0.7 , Average DDR cost =  11.602524035015474\n",
      "lambda =  1.0 , mu =  0.75 , Average DDR cost =  11.595565729950025\n",
      "lambda =  1.0 , mu =  0.8 , Average DDR cost =  11.596206203033047\n",
      "lambda =  1.0 , mu =  0.8500000000000001 , Average DDR cost =  11.589575910505879\n",
      "lambda =  1.0 , mu =  0.9000000000000001 , Average DDR cost =  11.591147111751852\n",
      "lambda =  1.0 , mu =  0.9500000000000002 , Average DDR cost =  11.59412222843109\n",
      "lambda =  1.0 , mu =  1.0000000000000002 , Average DDR cost =  11.59565152788079\n",
      "*** seed =  4 : Run DDR ========\n",
      "lambda =  1.0 , mu =  0.7 , Average DDR cost =  11.568165140671624\n",
      "lambda =  1.0 , mu =  0.75 , Average DDR cost =  11.57689658710078\n",
      "lambda =  1.0 , mu =  0.8 , Average DDR cost =  11.563921935740156\n",
      "lambda =  1.0 , mu =  0.8500000000000001 , Average DDR cost =  11.576159803086837\n",
      "lambda =  1.0 , mu =  0.9000000000000001 , Average DDR cost =  11.573283472188248\n",
      "lambda =  1.0 , mu =  0.9500000000000002 , Average DDR cost =  11.57171994901078\n",
      "lambda =  1.0 , mu =  1.0000000000000002 , Average DDR cost =  11.567577401473024\n",
      "*** seed =  5 : Run DDR ========\n",
      "lambda =  1.0 , mu =  0.7 , Average DDR cost =  11.614965214218326\n",
      "lambda =  1.0 , mu =  0.75 , Average DDR cost =  11.61560807495838\n",
      "lambda =  1.0 , mu =  0.8 , Average DDR cost =  11.616569179335746\n",
      "lambda =  1.0 , mu =  0.8500000000000001 , Average DDR cost =  11.62123583857326\n",
      "lambda =  1.0 , mu =  0.9000000000000001 , Average DDR cost =  11.624033438920575\n",
      "lambda =  1.0 , mu =  0.9500000000000002 , Average DDR cost =  11.628421109698023\n",
      "lambda =  1.0 , mu =  1.0000000000000002 , Average DDR cost =  11.626169904934251\n",
      "*** seed =  6 : Run DDR ========\n",
      "lambda =  1.0 , mu =  0.7 , Average DDR cost =  11.620300616265379\n",
      "lambda =  1.0 , mu =  0.75 , Average DDR cost =  11.622128988785553\n",
      "lambda =  1.0 , mu =  0.8 , Average DDR cost =  11.619583170892295\n",
      "lambda =  1.0 , mu =  0.8500000000000001 , Average DDR cost =  11.618652687222188\n",
      "lambda =  1.0 , mu =  0.9000000000000001 , Average DDR cost =  11.630082274319548\n",
      "lambda =  1.0 , mu =  0.9500000000000002 , Average DDR cost =  11.639351042176203\n",
      "lambda =  1.0 , mu =  1.0000000000000002 , Average DDR cost =  11.634485565788838\n",
      "*** seed =  7 : Run DDR ========\n",
      "lambda =  1.0 , mu =  0.7 , Average DDR cost =  11.583150848856405\n",
      "lambda =  1.0 , mu =  0.75 , Average DDR cost =  11.583972595691325\n",
      "lambda =  1.0 , mu =  0.8 , Average DDR cost =  11.579363333165311\n",
      "lambda =  1.0 , mu =  0.8500000000000001 , Average DDR cost =  11.587573747518457\n",
      "lambda =  1.0 , mu =  0.9000000000000001 , Average DDR cost =  11.59067656425591\n",
      "lambda =  1.0 , mu =  0.9500000000000002 , Average DDR cost =  11.59221189091204\n",
      "lambda =  1.0 , mu =  1.0000000000000002 , Average DDR cost =  11.592712174440466\n",
      "*** seed =  8 : Run DDR ========\n",
      "lambda =  1.0 , mu =  0.7 , Average DDR cost =  11.62747700450516\n",
      "lambda =  1.0 , mu =  0.75 , Average DDR cost =  11.628414766540642\n",
      "lambda =  1.0 , mu =  0.8 , Average DDR cost =  11.623079449595899\n",
      "lambda =  1.0 , mu =  0.8500000000000001 , Average DDR cost =  11.622020551044356\n",
      "lambda =  1.0 , mu =  0.9000000000000001 , Average DDR cost =  11.615732140604255\n",
      "lambda =  1.0 , mu =  0.9500000000000002 , Average DDR cost =  11.624066820598326\n",
      "lambda =  1.0 , mu =  1.0000000000000002 , Average DDR cost =  11.62449952525115\n",
      "*** seed =  9 : Run DDR ========\n",
      "lambda =  1.0 , mu =  0.7 , Average DDR cost =  11.62943935400282\n",
      "lambda =  1.0 , mu =  0.75 , Average DDR cost =  11.617537684828624\n",
      "lambda =  1.0 , mu =  0.8 , Average DDR cost =  11.62107587321899\n",
      "lambda =  1.0 , mu =  0.8500000000000001 , Average DDR cost =  11.628141008586185\n",
      "lambda =  1.0 , mu =  0.9000000000000001 , Average DDR cost =  11.631985164616465\n",
      "lambda =  1.0 , mu =  0.9500000000000002 , Average DDR cost =  11.63073391798529\n",
      "lambda =  1.0 , mu =  1.0000000000000002 , Average DDR cost =  11.630303519109319\n",
      "*** seed =  10 : Run DDR ========\n",
      "lambda =  1.0 , mu =  0.7 , Average DDR cost =  11.682711054579535\n",
      "lambda =  1.0 , mu =  0.75 , Average DDR cost =  11.683600909293572\n",
      "lambda =  1.0 , mu =  0.8 , Average DDR cost =  11.682002129752334\n",
      "lambda =  1.0 , mu =  0.8500000000000001 , Average DDR cost =  11.67709144622449\n",
      "lambda =  1.0 , mu =  0.9000000000000001 , Average DDR cost =  11.678562435253877\n",
      "lambda =  1.0 , mu =  0.9500000000000002 , Average DDR cost =  11.681750179230571\n",
      "lambda =  1.0 , mu =  1.0000000000000002 , Average DDR cost =  11.678033357965337\n",
      "*** seed =  11 : Run DDR ========\n",
      "lambda =  1.0 , mu =  0.7 , Average DDR cost =  11.602943550769847\n",
      "lambda =  1.0 , mu =  0.75 , Average DDR cost =  11.606483330588256\n",
      "lambda =  1.0 , mu =  0.8 , Average DDR cost =  11.603104604992065\n",
      "lambda =  1.0 , mu =  0.8500000000000001 , Average DDR cost =  11.594710269131856\n",
      "lambda =  1.0 , mu =  0.9000000000000001 , Average DDR cost =  11.602067930692781\n",
      "lambda =  1.0 , mu =  0.9500000000000002 , Average DDR cost =  11.610771244971009\n",
      "lambda =  1.0 , mu =  1.0000000000000002 , Average DDR cost =  11.614414681193804\n",
      "*** seed =  12 : Run DDR ========\n",
      "lambda =  1.0 , mu =  0.7 , Average DDR cost =  11.583413258232264\n",
      "lambda =  1.0 , mu =  0.75 , Average DDR cost =  11.577902557686615\n",
      "lambda =  1.0 , mu =  0.8 , Average DDR cost =  11.57791014541349\n",
      "lambda =  1.0 , mu =  0.8500000000000001 , Average DDR cost =  11.580306162559948\n",
      "lambda =  1.0 , mu =  0.9000000000000001 , Average DDR cost =  11.58461632473255\n",
      "lambda =  1.0 , mu =  0.9500000000000002 , Average DDR cost =  11.588180132340373\n",
      "lambda =  1.0 , mu =  1.0000000000000002 , Average DDR cost =  11.596689279565544\n",
      "*** seed =  13 : Run DDR ========\n",
      "lambda =  1.0 , mu =  0.7 , Average DDR cost =  11.60423140489192\n",
      "lambda =  1.0 , mu =  0.75 , Average DDR cost =  11.600590050349332\n",
      "lambda =  1.0 , mu =  0.8 , Average DDR cost =  11.604230450883945\n",
      "lambda =  1.0 , mu =  0.8500000000000001 , Average DDR cost =  11.607982511681577\n",
      "lambda =  1.0 , mu =  0.9000000000000001 , Average DDR cost =  11.606910238811036\n",
      "lambda =  1.0 , mu =  0.9500000000000002 , Average DDR cost =  11.606299515762652\n",
      "lambda =  1.0 , mu =  1.0000000000000002 , Average DDR cost =  11.602870655914323\n",
      "*** seed =  14 : Run DDR ========\n",
      "lambda =  1.0 , mu =  0.7 , Average DDR cost =  11.601462377757976\n",
      "lambda =  1.0 , mu =  0.75 , Average DDR cost =  11.603605666054696\n",
      "lambda =  1.0 , mu =  0.8 , Average DDR cost =  11.609560533383938\n",
      "lambda =  1.0 , mu =  0.8500000000000001 , Average DDR cost =  11.616413786430986\n",
      "lambda =  1.0 , mu =  0.9000000000000001 , Average DDR cost =  11.613129414363243\n",
      "lambda =  1.0 , mu =  0.9500000000000002 , Average DDR cost =  11.613488573972633\n",
      "lambda =  1.0 , mu =  1.0000000000000002 , Average DDR cost =  11.616582644476896\n",
      "*** seed =  15 : Run DDR ========\n",
      "lambda =  1.0 , mu =  0.7 , Average DDR cost =  11.572040216964957\n",
      "lambda =  1.0 , mu =  0.75 , Average DDR cost =  11.571236617977247\n",
      "lambda =  1.0 , mu =  0.8 , Average DDR cost =  11.578217470586777\n",
      "lambda =  1.0 , mu =  0.8500000000000001 , Average DDR cost =  11.584124344982513\n",
      "lambda =  1.0 , mu =  0.9000000000000001 , Average DDR cost =  11.583344372657955\n",
      "lambda =  1.0 , mu =  0.9500000000000002 , Average DDR cost =  11.580236504270363\n",
      "lambda =  1.0 , mu =  1.0000000000000002 , Average DDR cost =  11.58044703094377\n",
      "*** seed =  16 : Run DDR ========\n",
      "lambda =  1.0 , mu =  0.7 , Average DDR cost =  11.614529326053377\n",
      "lambda =  1.0 , mu =  0.75 , Average DDR cost =  11.608697526252492\n",
      "lambda =  1.0 , mu =  0.8 , Average DDR cost =  11.605403934481888\n",
      "lambda =  1.0 , mu =  0.8500000000000001 , Average DDR cost =  11.607161773200849\n",
      "lambda =  1.0 , mu =  0.9000000000000001 , Average DDR cost =  11.605787860070889\n",
      "lambda =  1.0 , mu =  0.9500000000000002 , Average DDR cost =  11.605283207857216\n",
      "lambda =  1.0 , mu =  1.0000000000000002 , Average DDR cost =  11.605893576754049\n",
      "*** seed =  17 : Run DDR ========\n",
      "lambda =  1.0 , mu =  0.7 , Average DDR cost =  11.586229212627005\n",
      "lambda =  1.0 , mu =  0.75 , Average DDR cost =  11.59399149144515\n",
      "lambda =  1.0 , mu =  0.8 , Average DDR cost =  11.59613136177205\n",
      "lambda =  1.0 , mu =  0.8500000000000001 , Average DDR cost =  11.587043103909764\n",
      "lambda =  1.0 , mu =  0.9000000000000001 , Average DDR cost =  11.59666396985075\n",
      "lambda =  1.0 , mu =  0.9500000000000002 , Average DDR cost =  11.596862481727332\n",
      "lambda =  1.0 , mu =  1.0000000000000002 , Average DDR cost =  11.589775236784982\n",
      "*** seed =  18 : Run DDR ========\n",
      "lambda =  1.0 , mu =  0.7 , Average DDR cost =  11.650181908589968\n",
      "lambda =  1.0 , mu =  0.75 , Average DDR cost =  11.648198266656637\n",
      "lambda =  1.0 , mu =  0.8 , Average DDR cost =  11.646116566720073\n",
      "lambda =  1.0 , mu =  0.8500000000000001 , Average DDR cost =  11.642770868540907\n",
      "lambda =  1.0 , mu =  0.9000000000000001 , Average DDR cost =  11.640862482516415\n",
      "lambda =  1.0 , mu =  0.9500000000000002 , Average DDR cost =  11.640414535642686\n",
      "lambda =  1.0 , mu =  1.0000000000000002 , Average DDR cost =  11.637483827044788\n",
      "*** seed =  19 : Run DDR ========\n",
      "lambda =  1.0 , mu =  0.7 , Average DDR cost =  11.645877462711365\n",
      "lambda =  1.0 , mu =  0.75 , Average DDR cost =  11.653037120037904\n",
      "lambda =  1.0 , mu =  0.8 , Average DDR cost =  11.650827225090474\n",
      "lambda =  1.0 , mu =  0.8500000000000001 , Average DDR cost =  11.639566362681343\n",
      "lambda =  1.0 , mu =  0.9000000000000001 , Average DDR cost =  11.646711890543589\n",
      "lambda =  1.0 , mu =  0.9500000000000002 , Average DDR cost =  11.638126079636267\n",
      "lambda =  1.0 , mu =  1.0000000000000002 , Average DDR cost =  11.640567198497184\n"
     ]
    }
   ],
   "source": [
    "from SPO_Plus import shortestPathModel\n",
    "SPM = shortestPathModel()\n",
    "arcs = SPM._getArcs()\n",
    "\n",
    "# Data\n",
    "coef_seed = 2\n",
    "seed_all = np.arange(1,20)\n",
    "Prepare_Data(DataPath,lower, upper, p, d, coef_seed,seed_all,num_test, num_train, alpha,mis,data_generation_process)\n",
    "\n",
    "# Oracle\n",
    "cost_Oracle_all = Implement_Oracle(DataPath,seed_all)\n",
    "\n",
    "# # EPO, including SPO, PG, LTR\n",
    "# batch_size = 20\n",
    "# num_epochs = 30\n",
    "# method_names = [\"spo+\",\"pg\",\"ltr\"]\n",
    "# cost_EPO_all = Implement_EPO(DataPath,seed_all,batch_size,num_epochs,method_names)\n",
    "\n",
    "# OLS\n",
    "cost_OLS_all = Implement_OLS(DataPath,seed_all,arcs,grid)\n",
    "\n",
    "# DDR\n",
    "# mu_arr = -np.arange(0.025,1.0,0.05)\n",
    "mu_arr = np.arange(0.7,1.0,0.05)\n",
    "lamb_arr = np.arange(0.75,1.251,0.125)\n",
    "lamb_arr = [1.0]\n",
    "cost_DDR_all = Implement_DDR(DataPath,seed_all,mu_arr,lamb_arr,arcs, grid)"
   ]
  },
  {
   "cell_type": "markdown",
   "metadata": {},
   "source": [
    "# Results"
   ]
  },
  {
   "cell_type": "code",
   "execution_count": 42,
   "metadata": {},
   "outputs": [
    {
     "name": "stdout",
     "output_type": "stream",
     "text": [
      "Seed =  1 , lamb_opt =  1.0 ,mu_opt =  0.8 ,DDR_OLS_ratio =  0.0023\n",
      "Seed =  2 , lamb_opt =  1.0 ,mu_opt =  0.75 ,DDR_OLS_ratio =  0.0031\n",
      "Seed =  3 , lamb_opt =  1.0 ,mu_opt =  0.8500000000000001 ,DDR_OLS_ratio =  0.0014\n",
      "Seed =  4 , lamb_opt =  1.0 ,mu_opt =  0.8 ,DDR_OLS_ratio =  0.0009\n",
      "Seed =  5 , lamb_opt =  1.0 ,mu_opt =  0.7 ,DDR_OLS_ratio =  0.0026\n",
      "Seed =  6 , lamb_opt =  1.0 ,mu_opt =  0.8500000000000001 ,DDR_OLS_ratio =  0.0037\n",
      "Seed =  7 , lamb_opt =  1.0 ,mu_opt =  0.8 ,DDR_OLS_ratio =  0.0031\n",
      "Seed =  8 , lamb_opt =  1.0 ,mu_opt =  0.9000000000000001 ,DDR_OLS_ratio =  0.002\n",
      "Seed =  9 , lamb_opt =  1.0 ,mu_opt =  0.75 ,DDR_OLS_ratio =  0.003\n",
      "Seed =  10 , lamb_opt =  1.0 ,mu_opt =  0.8500000000000001 ,DDR_OLS_ratio =  0.0002\n",
      "Seed =  11 , lamb_opt =  1.0 ,mu_opt =  0.8500000000000001 ,DDR_OLS_ratio =  0.0046\n",
      "Seed =  12 , lamb_opt =  1.0 ,mu_opt =  0.75 ,DDR_OLS_ratio =  0.0044\n",
      "Seed =  13 , lamb_opt =  1.0 ,mu_opt =  0.75 ,DDR_OLS_ratio =  0.0005\n",
      "Seed =  14 , lamb_opt =  1.0 ,mu_opt =  0.7 ,DDR_OLS_ratio =  0.0035\n",
      "Seed =  15 , lamb_opt =  1.0 ,mu_opt =  0.75 ,DDR_OLS_ratio =  0.0022\n",
      "Seed =  16 , lamb_opt =  1.0 ,mu_opt =  0.9500000000000002 ,DDR_OLS_ratio =  0.0001\n",
      "Seed =  17 , lamb_opt =  1.0 ,mu_opt =  0.7 ,DDR_OLS_ratio =  0.0008\n",
      "Seed =  18 , lamb_opt =  1.0 ,mu_opt =  1.0000000000000002 ,DDR_OLS_ratio =  0.0\n",
      "Seed =  19 , lamb_opt =  1.0 ,mu_opt =  0.9500000000000002 ,DDR_OLS_ratio =  0.0006\n"
     ]
    }
   ],
   "source": [
    "cost_OLS_avg = 0; cost_SPO_avg = 0; cost_Oracle_avg = 0; cost_DDR_avg = np.zeros((len(lamb_arr),len(mu_arr)))\n",
    "for seed in seed_all:\n",
    "    cost_ddr_opt = 10000\n",
    "    lamb_opt = 0\n",
    "    mu_opt = 0\n",
    "    ddr_ols_ratio = 0\n",
    "\n",
    "    cost_Oracle_avg = cost_Oracle_avg + np.mean(cost_Oracle_all[seed])\n",
    "    cost_OLS_avg = cost_OLS_avg + np.mean(cost_OLS_all[seed])\n",
    "    # cost_SPO_avg = cost_SPO_avg + np.mean(cost_EPO_all[seed][\"SPO\"]) \n",
    "    lamb_index = 0\n",
    "    for lamb in lamb_arr:\n",
    "        mu_index = 0\n",
    "        for mu in mu_arr:\n",
    "            # print(\"Seed = \",seed,\", lamb_opt = \",lamb,\",mu_opt = \",mu,\", Average DRR Cost = \", np.round(np.mean(cost_DDR_all[seed][lamb,mu][\"cost\"]),4))\n",
    "            if np.mean(cost_DDR_all[seed][lamb,mu][\"cost\"]) < cost_ddr_opt:\n",
    "                cost_ddr_opt = np.mean(cost_DDR_all[seed][lamb,mu][\"cost\"])\n",
    "                lamb_opt = lamb\n",
    "                mu_opt = mu\n",
    "                ddr_ols_ratio = (np.mean(cost_OLS_all[seed]) - cost_ddr_opt)/(np.mean(cost_OLS_all[seed]) - np.mean(cost_Oracle_all[seed]))\n",
    "                # ddr_spo_ratio = ((np.mean(cost_EPO_all[seed][\"SPO\"])) - cost_ddr_opt)/(np.mean(cost_EPO_all[seed][\"SPO\"]) - np.mean(cost_Oracle_all[seed]))\n",
    "            cost_DDR_avg[lamb_index,mu_index] = cost_DDR_avg[lamb_index,mu_index] + np.mean(cost_DDR_all[seed][lamb,mu][\"cost\"])\n",
    "            mu_index = mu_index + 1\n",
    "        lamb_index = lamb_index + 1\n",
    "    print(\"Seed = \",seed,\", lamb_opt = \",lamb_opt,\",mu_opt = \",mu_opt, \\\n",
    "          \",DDR_OLS_ratio = \",np.round(ddr_ols_ratio,4),\\\n",
    "            # \",DDR_SPO_ratio = \",np.round(ddr_spo_ratio,4)\n",
    "            )\n"
   ]
  },
  {
   "cell_type": "code",
   "execution_count": 43,
   "metadata": {},
   "outputs": [
    {
     "data": {
      "image/png": "[encoded data removed]",
      "text/plain": [
       "<Figure size 800x600 with 1 Axes>"
      ]
     },
     "metadata": {},
     "output_type": "display_data"
    }
   ],
   "source": [
    "import matplotlib.pyplot as plt\n",
    "fig,ax = plt.subplots(figsize=(8, 6))\n",
    "# ax.plot(mu_arr,np.ones(len(mu_arr))*cost_Oracle_avg/len(seed_all),'-',color = 'k',label=\"Oracle\")\n",
    "ax.plot(mu_arr,np.ones(len(mu_arr))*cost_OLS_avg/len(seed_all),'-',color = 'r',label=\"OLS\")\n",
    "# ax.plot(mu_arr,np.ones(len(mu_arr))*cost_SPO_avg/len(seed_all),'-',color = 'b',label=\"SPO+\")\n",
    "\n",
    "lamb_index = 0\n",
    "for lamb in lamb_arr:\n",
    "    name = r\"DDR:$\\lambda$=\"+str(lamb)\n",
    "    ax.plot(mu_arr,cost_DDR_avg[lamb_index,:]/len(seed_all),'-.',label=name)\n",
    "    lamb_index = lamb_index + 1\n",
    "ax.legend()\n",
    "\n",
    "plt.show()"
   ]
  },
  {
   "cell_type": "code",
   "execution_count": 50,
   "metadata": {},
   "outputs": [
    {
     "data": {
      "text/plain": [
       "np.float64(0.0009307539574472097)"
      ]
     },
     "execution_count": 50,
     "metadata": {},
     "output_type": "execute_result"
    }
   ],
   "source": [
    "0.004/((cost_OLS_avg - cost_Oracle_avg)/len(seed_all))"
   ]
  },
  {
   "cell_type": "code",
   "execution_count": 49,
   "metadata": {},
   "outputs": [
    {
     "data": {
      "text/plain": [
       "np.float64(11.614208205290428)"
      ]
     },
     "execution_count": 49,
     "metadata": {},
     "output_type": "execute_result"
    }
   ],
   "source": [
    "cost_OLS_avg/len(seed_all)"
   ]
  },
  {
   "cell_type": "code",
   "execution_count": 44,
   "metadata": {},
   "outputs": [],
   "source": [
    "# def cross_compare2plus(c_item, c_base, c_oracle):\n",
    "#     c_item = np.asarray(c_item)\n",
    "#     c_base = np.asarray(c_base)\n",
    "#     c_oracle = np.asarray(c_oracle)\n",
    "\n",
    "#     N = len(c_item)\n",
    "#     c_diff = c_item - c_base\n",
    "#     lbel = np.zeros((N,1))\n",
    "    \n",
    "#     equals = np.sum(c_diff == 0)\n",
    "#     wins = np.sum(c_diff < 0)\n",
    "#     lose = np.sum(c_diff > 0)\n",
    "    \n",
    "#     lbel[c_diff < 0] = 1\n",
    "#     lbel[c_diff > 0] = -1\n",
    "    \n",
    "#     print(N, equals, wins, lose)\n",
    "#     print(\"base cost = \", np.mean(c_base),\",item cost = \",np.mean(c_item))\n",
    "#     if N == equals:\n",
    "#         win_ratio = 0.5\n",
    "#     else:\n",
    "#         win_ratio = wins/(N - equals)\n",
    "#     cost_reduction = (np.mean(c_base) - np.mean(c_item) )/np.abs(np.mean(c_oracle))\n",
    "#     regret_reduction = (np.mean(c_base) - np.mean(c_item))/np.abs(np.mean(c_base) - np.mean(c_oracle))\n",
    "#     return lbel, win_ratio, cost_reduction, regret_reduction"
   ]
  },
  {
   "cell_type": "code",
   "execution_count": 45,
   "metadata": {},
   "outputs": [],
   "source": [
    "# seed = 3\n",
    "# lbel, win_ratio, cost_spo_ols, regret_spo_ols = cross_compare2plus(cost_SPO_all[seed],cost_OLS_all[seed], cost_Oracle_all[seed])"
   ]
  },
  {
   "cell_type": "code",
   "execution_count": 46,
   "metadata": {},
   "outputs": [],
   "source": [
    "def calculate_comparison(file_name,perf_eva,c_item, c_base, c_oracle,ypio):\n",
    "    if ypio == 0:\n",
    "#     # compares results\n",
    "        lbels, h2h, mci = perf_eva.cross_compare2(c_item, c_base, c_oracle)\n",
    "        store_results(file_name,lbels=lbels,h2h=h2h,mci=mci)\n",
    "        print(\"h2h = \",h2h)\n",
    "    else:\n",
    "        # compares results plus\n",
    "        lbels, h2h, mci, pio = perf_eva.cross_compare2plus(c_item, c_base, c_oracle)\n",
    "        store_results(file_name,lbels=lbels,h2h=h2h,mci=mci,pio=pio)\n",
    "        print(\"h2h = \",h2h,\" pio = \",pio)\n",
    "    # return lbels, h2h, mci"
   ]
  }
 ],
 "metadata": {
  "kernelspec": {
   "display_name": ".venv",
   "language": "python",
   "name": "python3"
  },
  "language_info": {
   "codemirror_mode": {
    "name": "ipython",
    "version": 3
   },
   "file_extension": ".py",
   "mimetype": "text/x-python",
   "name": "python",
   "nbconvert_exporter": "python",
   "pygments_lexer": "ipython3",
   "version": "3.9.6"
  }
 },
 "nbformat": 4,
 "nbformat_minor": 2
}
