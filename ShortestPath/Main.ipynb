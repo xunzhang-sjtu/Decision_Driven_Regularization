{
 "cells": [
  {
   "cell_type": "code",
   "execution_count": 1,
   "metadata": {},
   "outputs": [],
   "source": [
    "# set random seed\n",
    "import random\n",
    "random.seed(42)\n",
    "import numpy as np\n",
    "np.random.seed(42)\n",
    "import torch\n",
    "torch.manual_seed(42)\n",
    "torch.cuda.manual_seed(42)"
   ]
  },
  {
   "cell_type": "markdown",
   "metadata": {},
   "source": [
    "# Parameters"
   ]
  },
  {
   "cell_type": "code",
   "execution_count": 2,
   "metadata": {},
   "outputs": [],
   "source": [
    "# import pyepo\n",
    "# generate data\n",
    "grid = (5,5) # grid size\n",
    "num_data = 100 # number of training data\n",
    "num_feat = 5 # size of feature\n",
    "num_test = 1000\n",
    "deg = 1.2 # polynomial degree\n",
    "e = 0.5 # noise width"
   ]
  },
  {
   "cell_type": "markdown",
   "metadata": {},
   "source": [
    "# Generate Data"
   ]
  },
  {
   "cell_type": "code",
   "execution_count": 3,
   "metadata": {},
   "outputs": [],
   "source": [
    "from Data import data_generation\n",
    "data_gen = data_generation()\n",
    "\n",
    "#  ****** Data generation process is the same as SPO+ *********\n",
    "feats, costs = data_gen.generate_Shortest_Path_Data(num_data+num_test, num_feat, grid, deg, e, seed=42)\n",
    "\n",
    "#  ****** Data generation process is the same as DDR *********\n",
    "# lower = 0\n",
    "# upper = 1\n",
    "# p = 5\n",
    "# d = 40\n",
    "# alpha = 1\n",
    "# mis = 4\n",
    "# n_epsilon = 1\n",
    "# W_star = data_gen.generate_truth(\"\",lower, upper, p, d, version = 0) \n",
    "# x_test, z_test_ori, c_test, x_train, z_train_ori, c_train, W_star = data_gen.generate_samples(\"\",p, d, num_test, num_data, alpha, W_star, n_epsilon, mis, thres = 10, \n",
    "#                         version = 1, x_dist = 'normal', e_dist = 'normal', x_low = 0, x_up = 2, x_mean = 2, x_var = 0.25, bump = 0) \n",
    "\n",
    "# split train test data\n",
    "from sklearn.model_selection import train_test_split\n",
    "x_train, x_test, c_train, c_test = train_test_split(feats, costs, test_size=num_test, random_state=42)"
   ]
  },
  {
   "cell_type": "markdown",
   "metadata": {},
   "source": [
    "### SPO+ "
   ]
  },
  {
   "cell_type": "code",
   "execution_count": 4,
   "metadata": {},
   "outputs": [
    {
     "name": "stdout",
     "output_type": "stream",
     "text": [
      "Set parameter Username\n",
      "Academic license - for non-commercial use only - expires 2025-03-25\n",
      "Test\n",
      "Optimizing for optDataset...\n"
     ]
    },
    {
     "name": "stderr",
     "output_type": "stream",
     "text": [
      "100%|██████████| 100/100 [00:00<00:00, 1854.46it/s]\n"
     ]
    },
    {
     "name": "stdout",
     "output_type": "stream",
     "text": [
      "Test\n",
      "Optimizing for optDataset...\n"
     ]
    },
    {
     "name": "stderr",
     "output_type": "stream",
     "text": [
      "100%|██████████| 1000/1000 [00:00<00:00, 2075.47it/s]\n"
     ]
    },
    {
     "name": "stdout",
     "output_type": "stream",
     "text": [
      "oracle cost =  6.6683534908294675\n",
      "Num of cores: 2\n",
      "epoch 0: Average SPO Cost =  8.279449820011854\n",
      "epoch =  0  Average SPO Cost =  8.206841227144002\n"
     ]
    }
   ],
   "source": [
    "from SPO_Plus import run_SPO_Shortest_Path\n",
    "SPO_runner = run_SPO_Shortest_Path()\n",
    "batch_size = 20\n",
    "num_epochs = 1\n",
    "arcs,loader_train,loader_test,cost_Oracle,cost_SPO = SPO_runner.run(x_train,c_train,x_test,c_test,batch_size,num_feat,grid,num_epochs,True)"
   ]
  },
  {
   "cell_type": "markdown",
   "metadata": {},
   "source": [
    "# OLS"
   ]
  },
  {
   "cell_type": "code",
   "execution_count": 5,
   "metadata": {},
   "outputs": [
    {
     "name": "stdout",
     "output_type": "stream",
     "text": [
      "Average OLS Cost =  7.6799817386567595\n"
     ]
    }
   ],
   "source": [
    "from OLS import run_OLS_Shortest_Path\n",
    "OLS_runner = run_OLS_Shortest_Path()\n",
    "cost_OLS = OLS_runner.run(arcs,x_train,c_train,grid,loader_test)\n",
    "print(\"Average OLS Cost = \",np.mean(cost_OLS))"
   ]
  },
  {
   "cell_type": "markdown",
   "metadata": {},
   "source": [
    "# DDR"
   ]
  },
  {
   "cell_type": "code",
   "execution_count": 9,
   "metadata": {},
   "outputs": [
    {
     "name": "stdout",
     "output_type": "stream",
     "text": [
      "Average Oracle Cost =  6.6683534908294675 Std =  1.2185374400285396\n",
      "Average SPO Cost =  8.206841227144002 Std =  1.4921237823474969\n",
      "Average OLS Cost =  7.6799817386567595 Std =  1.5318926993671838\n"
     ]
    }
   ],
   "source": [
    "print(\"Average Oracle Cost = \",np.mean(cost_Oracle),\"Std = \", np.std(cost_Oracle))\n",
    "print(\"Average SPO Cost = \", np.mean(cost_SPO),\"Std = \", np.std(cost_SPO))\n",
    "print(\"Average OLS Cost = \", np.mean(cost_OLS),\"Std = \", np.std(cost_OLS))"
   ]
  },
  {
   "cell_type": "code",
   "execution_count": null,
   "metadata": {},
   "outputs": [
    {
     "name": "stdout",
     "output_type": "stream",
     "text": [
      "======== lambda =  0.1 ============\n",
      "lambda =  0.1 , mu =  0.1 , Lowerst Average DDR Cost =  7.69086926355958  Std =  1.5374735989970505\n",
      "lambda =  0.1 , mu =  0.15000000000000002 , Lowerst Average DDR Cost =  7.6902248392403125  Std =  1.5374344489144305\n",
      "lambda =  0.1 , mu =  0.20000000000000004 , Lowerst Average DDR Cost =  7.683062559485435  Std =  1.5288134090938752\n",
      "lambda =  0.1 , mu =  0.3500000000000001 , Lowerst Average DDR Cost =  7.680836561828852  Std =  1.5359545452277896\n",
      "lambda =  0.1 , mu =  0.6000000000000002 , Lowerst Average DDR Cost =  7.68034748211503  Std =  1.5321031530001343\n",
      "lambda =  0.1 , mu =  0.9000000000000002 , Lowerst Average DDR Cost =  7.677918752789497  Std =  1.5298038000216558\n",
      "lambda =  0.1 , mu =  0.9500000000000003 , Lowerst Average DDR Cost =  7.676757207006216  Std =  1.5304983332245425\n"
     ]
    }
   ],
   "source": [
    "from DDR import run_DDR_Shortest_Path\n",
    "DDR_runner = run_DDR_Shortest_Path()\n",
    "\n",
    "mu_arr = np.arange(0.1,1,0.05)\n",
    "lamb_arr = np.arange(0.1,1,0.05)\n",
    "lamb_arr = [0.1]\n",
    "minimum_value = 1000000000\n",
    "for lamb in lamb_arr:\n",
    "    print(\"======== lambda = \",lamb,\"============\")\n",
    "    for mu in mu_arr:\n",
    "        num_nodes = 25\n",
    "        # w0_ddr_val,W_ddr_val = solve_DDR(lamb,mu,num_nodes,x_train,c_train)\n",
    "        cost_DDR = DDR_runner.run(arcs,x_train, c_train, grid,loader_test,lamb,mu,num_nodes)\n",
    "        if np.mean(cost_DDR) < minimum_value:\n",
    "            minimum_value = np.mean(cost_DDR)\n",
    "            print(\"lambda = \",lamb, \", mu = \",mu, \", Lowerst Average DDR Cost = \",minimum_value, \" Std = \",np.std(cost_DDR))\n",
    "        # print(\"lambda = \",lamb, \", mu = \",mu, \",Average DDR Cost = \",np.mean(cost_DDR), \" Std = \",np.std(cost_DDR))"
   ]
  }
 ],
 "metadata": {
  "kernelspec": {
   "display_name": ".venv",
   "language": "python",
   "name": "python3"
  },
  "language_info": {
   "codemirror_mode": {
    "name": "ipython",
    "version": 3
   },
   "file_extension": ".py",
   "mimetype": "text/x-python",
   "name": "python",
   "nbconvert_exporter": "python",
   "pygments_lexer": "ipython3",
   "version": "3.9.6"
  }
 },
 "nbformat": 4,
 "nbformat_minor": 2
}
