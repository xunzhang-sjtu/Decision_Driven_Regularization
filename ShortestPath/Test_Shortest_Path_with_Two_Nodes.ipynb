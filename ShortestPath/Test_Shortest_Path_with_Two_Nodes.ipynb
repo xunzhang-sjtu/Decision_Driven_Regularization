{
 "cells": [
  {
   "cell_type": "code",
   "execution_count": 1,
   "metadata": {},
   "outputs": [],
   "source": [
    "import random\n",
    "import numpy as np\n",
    "import torch\n",
    "import os\n",
    "import pathlib\n",
    "import pickle\n",
    "from gurobipy import *\n",
    "from rsome import ro\n",
    "from rsome import grb_solver as grb\n",
    "import rsome as rso\n",
    "from rsome import cpt_solver as cpt\n",
    "import pandas as pd"
   ]
  },
  {
   "cell_type": "code",
   "execution_count": 2,
   "metadata": {},
   "outputs": [],
   "source": [
    "# data_generation_process = \"SPO_Data_Generation\"\n",
    "data_generation_process = \"DDR_Data_Generation\""
   ]
  },
  {
   "cell_type": "code",
   "execution_count": 3,
   "metadata": {},
   "outputs": [],
   "source": [
    "num_train = 100 # number of training data\n",
    "num_feat = 4 # size of feature\n",
    "num_test = 10000\n",
    "deg = 1.4 # polynomial degree\n",
    "e = 1.0 # scale of normal std or the range of uniform. For the error term\n",
    "num_arcs = 10\n",
    "\n",
    "lower = 0 # coef lower bound\n",
    "upper = 1 # coef upper bound\n",
    "p = num_feat # num of features\n",
    "d = num_arcs # num of arcs\n",
    "alpha = e # scale of normal std or the range of uniform. For the error term\n",
    "mis = deg # model misspecification\n",
    "coef_seed = 1\n",
    "\n",
    "x_dist = 'uniform'\n",
    "e_dist = 'normal'\n",
    "x_low = -2\n",
    "x_up = 2\n",
    "x_mean = 2\n",
    "x_var = 2\n",
    "bump = 7\n",
    "\n",
    "Oracle_mode = \"Para\"\n",
    "Oracel_mode = \"Realization\""
   ]
  },
  {
   "cell_type": "code",
   "execution_count": 4,
   "metadata": {},
   "outputs": [
    {
     "name": "stdout",
     "output_type": "stream",
     "text": [
      "DataPath: /Users/zhangxun/Dropbox/Research/Decision_Driven_Regularization/Data/Shortest_Path_With_2_Nodes_0404_DDR_Data_Generation/\n"
     ]
    }
   ],
   "source": [
    "current_directory = os.getcwd()\n",
    "parent_directory = os.path.dirname(current_directory)\n",
    "grandparent_directory = os.path.dirname(parent_directory)\n",
    "DataPath = os.path.dirname(grandparent_directory) + '/Data/Shortest_Path_With_2_Nodes_0404_' + data_generation_process + \"/\"\n",
    "pathlib.Path(DataPath).mkdir(parents=True, exist_ok=True)\n",
    "print(\"DataPath:\", DataPath)\n",
    "DataPath = DataPath + \"data_size=\"+str(num_train)+\"_deg=\"+str(deg)+\"_e=\"+str(e)+\"_d=\"+str(d)+\"_x_dist=\"+x_dist+\"_coef_seed=\"+str(coef_seed)+\"_diff_W/\"\n",
    "pathlib.Path(DataPath).mkdir(parents=True, exist_ok=True)"
   ]
  },
  {
   "cell_type": "markdown",
   "metadata": {},
   "source": [
    "## Function to generate data"
   ]
  },
  {
   "cell_type": "code",
   "execution_count": 5,
   "metadata": {},
   "outputs": [],
   "source": [
    "def Prepare_Data(DataPath,lower, upper, p, d, coef_seed,iteration_all,num_test, num_train, alpha,mis,data_generation_process,x_dist, e_dist, x_low, x_up, x_mean, x_var, bump):\n",
    "# #  ****** Coef generation *********\n",
    "    from Data import data_generation\n",
    "    data_gen = data_generation()\n",
    "    # W_star = data_gen.generate_truth(DataPath,lower, upper, p, d, coef_seed,data_generation_process) \n",
    "    # print(\"W_star = \",W_star[0,:])\n",
    "    np.random.seed(coef_seed)\n",
    "    x_test_all = {}; c_test_all = {}; x_train_all = {}; c_train_all = {}; W_star_all = {}\n",
    "    for iter in iteration_all:\n",
    "        DataPath_seed = DataPath +\"iter=\"+str(iter)+\"/\"\n",
    "        pathlib.Path(DataPath_seed).mkdir(parents=True, exist_ok=True)\n",
    "        W_star = data_gen.generate_truth(DataPath_seed,lower, upper, p, d, iter,data_generation_process) \n",
    "        # #  ****** Data generation *********\n",
    "        thres = num_test\n",
    "        x_test_all[iter], c_test_all[iter], x_train_all[iter], c_train_all[iter], W_star_all[iter] = data_gen.generate_samples(iter,DataPath_seed,p, d, num_test, num_train, alpha, W_star, mis, thres, \n",
    "                                data_generation_process, x_dist, e_dist, x_low, x_up, x_mean, x_var, bump) \n",
    "\n",
    "        # print()\n",
    "    return x_test_all, c_test_all, x_train_all, c_train_all, W_star_all"
   ]
  },
  {
   "cell_type": "markdown",
   "metadata": {},
   "source": [
    "## Compute out-of-sample cost"
   ]
  },
  {
   "cell_type": "code",
   "execution_count": 6,
   "metadata": {},
   "outputs": [],
   "source": [
    "def compute_oracle_cost(cost_test):\n",
    "    data_size = np.shape(cost_test)[0]\n",
    "    _cost = np.zeros(data_size)\n",
    "    for j in range(data_size):\n",
    "        _cost[j] = np.min(cost_test[j,:])\n",
    "    return _cost"
   ]
  },
  {
   "cell_type": "code",
   "execution_count": 7,
   "metadata": {},
   "outputs": [],
   "source": [
    "def compute_out_of_sample_cost(W,w0,cost_test,feature):\n",
    "    data_size = np.shape(feature)[0]\n",
    "    _cost = np.zeros(data_size)\n",
    "    for j in range(data_size):\n",
    "        cost = W @ feature[j,:] + w0\n",
    "        opt_index = np.argmin(cost)\n",
    "        cost_test_tem = cost_test[j,:]\n",
    "        _cost[j] = cost_test_tem[opt_index]\n",
    "    return _cost"
   ]
  },
  {
   "cell_type": "markdown",
   "metadata": {},
   "source": [
    "# Oracle"
   ]
  },
  {
   "cell_type": "code",
   "execution_count": 8,
   "metadata": {},
   "outputs": [],
   "source": [
    "iteration_all = np.arange(0,10)\n",
    "x_test_all, c_test_all, x_train_all, c_train_all, W_star_all = Prepare_Data(DataPath,lower, upper, p, d, coef_seed,iteration_all,num_test, num_train, alpha,mis,data_generation_process,x_dist, e_dist, x_low, x_up, x_mean, x_var, bump)"
   ]
  },
  {
   "cell_type": "code",
   "execution_count": 9,
   "metadata": {},
   "outputs": [],
   "source": [
    "cost_Oracle_para_all = {}; cost_Oracle_para_avg = np.zeros(len(iteration_all))\n",
    "cost_Oracle_realization_all = {}; cost_Oracle_realization_avg = np.zeros(len(iteration_all))\n",
    "\n",
    "for iter in iteration_all:\n",
    "    cost_Oracle_realization_all[iter] = compute_oracle_cost(c_test_all[iter])\n",
    "    cost_Oracle_realization_avg[iter] = np.nanmean(cost_Oracle_realization_all[iter])\n",
    "\n",
    "    cost_Oracle_para_all[iter] = compute_out_of_sample_cost(W_star_all[iter],np.ones(num_arcs)*bump,c_test_all[iter],x_test_all[iter])\n",
    "    cost_Oracle_para_avg[iter] = np.nanmean(cost_Oracle_para_all[iter])"
   ]
  },
  {
   "cell_type": "markdown",
   "metadata": {},
   "source": [
    "## OLS"
   ]
  },
  {
   "cell_type": "code",
   "execution_count": 10,
   "metadata": {},
   "outputs": [
    {
     "name": "stdout",
     "output_type": "stream",
     "text": [
      "Set parameter Username\n",
      "Academic license - for non-commercial use only - expires 2026-03-13\n"
     ]
    }
   ],
   "source": [
    "from OLS import ols_method\n",
    "ols_method_obj = ols_method()\n",
    "W_ols_all = {}; w0_ols_all = {}; t_ols_all = {}; obj_ols_all = {}\n",
    "cost_OLS_all = {}; cost_OLS_avg = np.zeros(len(iteration_all))\n",
    "for iter in iteration_all:\n",
    "    W_ols_all[iter], w0_ols_all[iter], t_ols_all[iter], obj_ols_all[iter] = ols_method_obj.ols_solver(\"\",x_train_all[iter], c_train_all[iter])\n",
    "    cost_OLS_all[iter] = compute_out_of_sample_cost(W_ols_all[iter],w0_ols_all[iter],c_test_all[iter],x_test_all[iter])\n",
    "    cost_OLS_avg[iter] = np.nanmean(cost_OLS_all[iter])"
   ]
  },
  {
   "cell_type": "markdown",
   "metadata": {},
   "source": [
    "# Prediction error"
   ]
  },
  {
   "cell_type": "code",
   "execution_count": 11,
   "metadata": {},
   "outputs": [],
   "source": [
    "# iter = 1\n",
    "# cost_OLS_pred = (W_ols_all[iter] @ x_train_all[iter].T).T + w0_ols_all[iter]\n",
    "# cost_Oracle_pred = (W_star_all[iter] @ x_train_all[iter].T).T + np.ones(num_arcs) * bump"
   ]
  },
  {
   "cell_type": "markdown",
   "metadata": {},
   "source": [
    "## DDR"
   ]
  },
  {
   "cell_type": "code",
   "execution_count": 12,
   "metadata": {},
   "outputs": [],
   "source": [
    "def solve_DDR(mu,lamb,num_acrs,num_feat,num_train,c_input,x_input):\n",
    "    model = ro.Model()            # create an RSOME model\n",
    "    w0_d = model.dvar(num_acrs)\n",
    "    W_d = model.dvar((num_acrs,num_feat))\n",
    "\n",
    "    alpha = model.dvar(num_train)                   \n",
    "\n",
    "    eps = model.dvar(num_train*num_acrs)                   \n",
    "    eps_index = 0\n",
    "    for i in range(num_train):\n",
    "        for j in range(num_acrs):\n",
    "            model.st(alpha[i] >= -mu * c_input[i,j] - (1 - mu) * (W_d[j,:] @ x_input[i,:] + w0_d[j]))\n",
    "            model.st(eps[eps_index] == c_input[i,j] - W_d[j,:] @ x_input[i,:] - w0_d[j])\n",
    "            eps_index = eps_index + 1\n",
    "    model.min(rso.norm(eps) + sum(alpha) * (lamb/num_train)) \n",
    "\n",
    "    model.solve(cpt,display=False,log=False)\n",
    "    # print(\"status=\",model.solution.status)\n",
    "    w0_d_sol = w0_d.get()\n",
    "    W_d_sol = W_d.get()\n",
    "    obj = model.obj()\n",
    "    return w0_d_sol,W_d_sol,obj"
   ]
  },
  {
   "cell_type": "code",
   "execution_count": 13,
   "metadata": {},
   "outputs": [],
   "source": [
    "def Loss(x_train, z_train, W, w0):\n",
    "    N,p = x_train.shape\n",
    "    N,d = z_train.shape\n",
    "    a = []\n",
    "    for n in range(N): # Number of samples\n",
    "        for i in range(d): # Number of arcs\n",
    "            temp = []\n",
    "            for j in range(p): # Number of feature\n",
    "                temp.append(x_train[n][j]*W[i,j])\n",
    "            a.append((z_train[n][i] - sum(temp) - w0[i])*(z_train[n][i] - sum(temp) - w0[i]))      \n",
    "    return np.sum(a)/N"
   ]
  },
  {
   "cell_type": "code",
   "execution_count": 14,
   "metadata": {},
   "outputs": [],
   "source": [
    "def ddr_solver(x_train, z_train, thres, mu, lamb):\n",
    "#     x_train = data[3]\n",
    "    z_train_min = np.minimum(z_train,thres) \n",
    "    N,p = x_train.shape\n",
    "    N,d = z_train.shape\n",
    "\n",
    "    # DDR\n",
    "    m = Model(\"ddr\")\n",
    "    #m.setParam(\"DualReductions\",0)\n",
    "    m.setParam('OutputFlag', 0)\n",
    "\n",
    "    W_ind = tuplelist( [(i,j) for i in range(d) for j in range(p)] )\n",
    "    w0_ind = tuplelist( [i for i in range(d)] )\n",
    "    t_ind = tuplelist( [n for n in range(N)] )\n",
    "    \n",
    "    W_ddr = m.addVars(W_ind, lb=-GRB.INFINITY )\n",
    "    w0_ddr = m.addVars(w0_ind, lb=-GRB.INFINITY )\n",
    "    t_ddr = m.addVars( t_ind, lb=-GRB.INFINITY )\n",
    "\n",
    "    m.setObjective( Loss(x_train, z_train, W_ddr, w0_ddr) + lamb*(quicksum([t_ddr[n]  for n in range(N)])/ N) , GRB.MINIMIZE)\n",
    "\n",
    "    for n in range(N):\n",
    "        for i in range(d):\n",
    "            m.addConstr( (- mu*z_train[n,i] - (1- mu)*(quicksum([x_train[n][j]*W_ddr[i,j] for j in range(p)]) + w0_ddr[i])-\\\n",
    "                    t_ddr[n] <= 0))\n",
    "    m.optimize()\n",
    "    W = m.getAttr('x', W_ddr)\n",
    "    w0 = m.getAttr('x', w0_ddr)\n",
    "    t = m.getAttr('x', t_ddr)\n",
    "    W_results = []\n",
    "    for i in range(d):\n",
    "        W_results.append([W[(i,j)] for j in range(p)])\n",
    "    w0_results = [w0[i] for i in range(d)]\n",
    "#     t_results = [t[n] for n in range(N)]\n",
    "    return W_results, w0_results"
   ]
  },
  {
   "cell_type": "code",
   "execution_count": 15,
   "metadata": {},
   "outputs": [
    {
     "name": "stdout",
     "output_type": "stream",
     "text": [
      "iter =  0 ,ddr_vs_ols_ratio\n",
      "[[1.     1.     1.     1.     1.     1.     1.     0.9999 1.     1.    ]\n",
      " [1.     1.     1.     0.9999 0.9999 1.     1.     0.9999 0.9999 0.9999]\n",
      " [1.     1.     1.     1.     1.     0.9999 0.9999 0.9999 0.9999 0.9999]\n",
      " [1.     1.     1.     1.     0.9999 1.     1.     1.     0.9999 0.9999]\n",
      " [1.     1.     1.     1.     0.9999 0.9999 0.9999 1.0001 1.0001 1.    ]\n",
      " [1.     1.     1.     1.     1.     0.9999 0.9999 0.9999 1.     1.    ]\n",
      " [1.     1.     1.     1.     1.     1.     1.     1.     0.9999 0.9999]\n",
      " [1.     1.     1.     1.     1.     1.     1.     1.     1.     1.    ]\n",
      " [1.     1.     1.     1.     1.     1.     1.     1.     1.     1.    ]]\n",
      "iter =  1 ,ddr_vs_ols_ratio\n",
      "[[1.     1.     1.     1.     1.     1.     1.     1.0001 1.0001 1.0001]\n",
      " [1.     1.     1.     1.     1.0001 1.     1.     1.0001 1.0001 1.0001]\n",
      " [1.     1.     1.     0.9999 1.     1.0001 1.0001 1.0001 1.0001 1.0001]\n",
      " [1.     1.     1.     1.     1.     1.     1.     1.     1.0001 1.0001]\n",
      " [1.     1.     1.     1.     1.     1.     1.0001 1.     1.0001 1.0001]\n",
      " [1.     1.     1.0001 1.     1.     1.     1.     1.     1.     1.    ]\n",
      " [1.     1.     1.     1.     1.     1.     1.     1.     1.0001 1.0001]\n",
      " [1.     1.     1.     1.     1.     1.     1.     1.     1.     0.9999]\n",
      " [1.     1.     1.     1.     1.     1.     1.     1.     1.     1.    ]]\n",
      "iter =  2 ,ddr_vs_ols_ratio\n",
      "[[1.     1.0001 1.     1.     1.     1.     0.9999 0.9999 0.9999 1.    ]\n",
      " [1.     1.0001 1.     1.     1.     0.9999 0.9999 0.9999 0.9998 1.    ]\n",
      " [1.     1.0001 1.     1.     1.     1.     0.9999 0.9999 0.9999 0.9998]\n",
      " [1.     1.     1.0001 1.0001 1.0001 1.     1.     0.9999 0.9999 0.9999]\n",
      " [1.     1.0001 1.0001 1.0001 1.     1.     1.     1.     1.0001 0.9999]\n",
      " [1.     1.     1.     1.0001 1.0001 1.     1.0001 1.     1.     1.    ]\n",
      " [1.     1.     1.     1.     1.     1.0001 1.0001 1.     1.     1.    ]\n",
      " [1.     1.     1.     1.     1.     1.     1.     1.0001 1.0001 1.0001]\n",
      " [1.     1.     1.     1.     1.     1.     1.     1.     1.     1.    ]]\n",
      "iter =  3 ,ddr_vs_ols_ratio\n",
      "[[1.     1.     1.     1.     1.     1.     1.     1.     0.9999 0.9998]\n",
      " [1.     1.0001 1.0001 1.     1.     1.     1.     1.     0.9999 0.9998]\n",
      " [1.     1.0001 1.0001 1.0001 1.0001 1.     1.0001 0.9999 0.9999 0.9998]\n",
      " [1.     1.0001 1.0001 1.0001 1.     1.     1.0001 1.0001 1.     1.    ]\n",
      " [1.     1.0001 1.0001 1.0001 1.0001 1.0001 1.0001 1.0001 1.0001 1.0001]\n",
      " [1.     1.0001 1.0001 1.0001 1.0001 1.0001 1.0001 1.0001 1.0001 1.0001]\n",
      " [1.     1.     1.0001 1.0001 1.0001 1.0001 1.0001 1.0001 1.0001 1.0001]\n",
      " [1.     1.     1.0001 1.0001 1.0001 1.0001 1.0002 1.0002 1.0002 1.0001]\n",
      " [1.     1.     1.     1.     1.0001 1.0001 1.0001 1.0001 1.0002 1.0002]]\n",
      "iter =  4 ,ddr_vs_ols_ratio\n",
      "[[1.     1.0001 1.0001 1.     1.     1.     0.9999 0.9999 0.9999 1.    ]\n",
      " [1.     1.0001 1.0001 1.0001 1.0001 1.     1.     0.9999 0.9999 0.9999]\n",
      " [1.     1.     1.0001 1.0001 1.     1.     1.     0.9999 0.9999 1.    ]\n",
      " [1.     1.     1.     1.0001 1.0001 1.0001 1.     1.     0.9999 0.9999]\n",
      " [1.     1.     1.0001 1.     1.0001 1.0001 1.     0.9999 0.9999 0.9999]\n",
      " [1.     1.     1.0001 1.0001 1.     1.0001 1.0001 1.0001 1.     1.    ]\n",
      " [1.     1.     1.     1.0001 1.     1.     1.0001 1.0001 1.0001 1.0001]\n",
      " [1.     1.     1.     1.     1.     1.0001 1.     1.     1.0001 1.0001]\n",
      " [1.     1.     1.     1.     1.     1.0001 1.0001 1.0001 1.0001 1.0001]]\n",
      "iter =  5 ,ddr_vs_ols_ratio\n",
      "[[1.     1.     0.9998 0.9998 0.9998 0.9998 0.9999 0.9998 1.     1.    ]\n",
      " [1.     0.9999 0.9999 0.9999 0.9998 0.9998 0.9998 0.9999 0.9998 0.9998]\n",
      " [1.     0.9999 0.9999 0.9999 0.9998 0.9997 0.9999 0.9999 0.9999 0.9999]\n",
      " [1.     0.9999 0.9999 0.9999 0.9999 0.9999 0.9999 0.9999 0.9998 0.9998]\n",
      " [1.     1.     0.9999 0.9999 0.9999 0.9998 0.9999 0.9998 0.9999 0.9999]\n",
      " [1.     1.     1.     0.9999 0.9999 0.9999 0.9999 0.9998 0.9998 0.9998]\n",
      " [1.     1.     1.     1.     0.9999 0.9999 0.9999 0.9999 0.9999 0.9998]\n",
      " [1.     1.     1.     0.9999 0.9999 0.9999 0.9999 0.9999 0.9999 0.9999]\n",
      " [1.     1.     1.     1.     1.     0.9999 0.9999 0.9999 0.9999 0.9999]]\n",
      "iter =  6 ,ddr_vs_ols_ratio\n",
      "[[1.     1.     1.0001 1.0001 1.0002 1.0002 1.0002 1.0002 1.0002 1.0003]\n",
      " [1.     1.     1.     1.0001 1.0002 1.0001 1.0001 1.0001 1.0001 1.0002]\n",
      " [1.     1.     1.     1.     1.     1.0001 1.0001 1.0001 1.0002 1.0002]\n",
      " [1.     1.     1.     1.     1.     1.     1.     1.     1.0001 1.0001]\n",
      " [1.     1.     0.9999 1.     1.     1.     1.     0.9999 0.9999 1.    ]\n",
      " [1.     1.     1.     1.     1.     1.     1.     1.0001 1.0001 1.0001]\n",
      " [1.     1.     1.     1.     0.9999 1.     1.     1.     1.     1.    ]\n",
      " [1.     1.     1.     1.     1.     0.9999 0.9999 1.     1.     1.    ]\n",
      " [1.     1.     1.     1.     1.     1.     1.     0.9999 1.     0.9999]]\n",
      "iter =  7 ,ddr_vs_ols_ratio\n",
      "[[1.     0.9999 1.     1.     1.0001 1.0001 1.0002 1.0001 1.0002 1.0002]\n",
      " [1.     0.9999 0.9999 0.9999 1.     1.     1.0002 1.0003 1.0002 1.0002]\n",
      " [1.     0.9999 1.     1.     1.0001 1.0002 1.0001 1.0002 1.0002 1.0003]\n",
      " [1.     1.     1.     0.9999 1.0001 1.     1.0001 1.0001 1.0001 1.0002]\n",
      " [1.     1.     1.     1.     1.     1.     1.     1.0001 1.0002 1.0001]\n",
      " [1.     1.     0.9999 0.9999 1.     1.     1.     1.     1.0001 1.0001]\n",
      " [1.     1.     1.     0.9999 0.9999 0.9999 1.     1.     1.     1.    ]\n",
      " [1.     1.     1.     1.     1.     0.9999 0.9999 0.9999 0.9999 0.9999]\n",
      " [1.     1.     1.     0.9999 1.     1.     1.     1.     1.     1.    ]]\n",
      "iter =  8 ,ddr_vs_ols_ratio\n",
      "[[1.     0.9997 0.9998 0.9997 0.9997 0.9996 0.9996 0.9996 0.9996 0.9995]\n",
      " [1.     0.9998 0.9998 0.9998 0.9997 0.9996 0.9996 0.9996 0.9996 0.9996]\n",
      " [1.     0.9998 0.9998 0.9998 0.9998 0.9999 0.9999 0.9998 0.9998 0.9997]\n",
      " [1.     0.9998 0.9998 0.9998 1.     1.     1.     0.9999 0.9999 0.9998]\n",
      " [1.     0.9998 0.9998 0.9998 0.9999 1.     0.9999 1.     1.     1.    ]\n",
      " [1.     0.9998 0.9998 0.9998 0.9999 0.9999 1.     1.     0.9999 1.    ]\n",
      " [1.     0.9999 0.9998 0.9998 0.9998 0.9999 0.9999 0.9999 1.     1.    ]\n",
      " [1.     1.     0.9999 0.9998 0.9998 0.9998 0.9999 0.9999 0.9999 0.9999]\n",
      " [1.     1.     1.     1.     0.9999 0.9998 0.9998 0.9999 0.9998 0.9998]]\n",
      "iter =  9 ,ddr_vs_ols_ratio\n",
      "[[1.     1.     1.     1.     1.0001 1.0001 1.0001 1.     1.     1.    ]\n",
      " [1.     1.     1.     1.0001 1.     1.     1.0001 1.     1.     0.9999]\n",
      " [1.     1.     1.     1.     1.0001 1.0001 1.0001 1.     1.     0.9999]\n",
      " [1.     1.     1.0001 1.     1.0001 1.     1.     1.0001 1.     1.    ]\n",
      " [1.     1.     1.     1.     1.     1.     1.     1.     1.0001 1.    ]\n",
      " [1.     1.     1.0001 1.     1.     1.     1.     1.     1.0001 1.0001]\n",
      " [1.     1.     1.0001 1.0001 1.     1.     1.     1.     1.     1.0001]\n",
      " [1.     1.     1.     1.     1.     1.     1.     1.     1.     1.    ]\n",
      " [1.     1.     1.     1.     1.     1.     1.     1.     1.     1.    ]]\n"
     ]
    }
   ],
   "source": [
    "mu_all = np.arange(0.1,1.0,0.1)\n",
    "lamb_all = np.round(np.arange(0.0,1.0,0.1),4)\n",
    "\n",
    "W_ddr_all = {}; w0_ddr_all = {}; obj_ddr_all = {}\n",
    "cost_DDR_all = {}; cost_DDR_avg_all = {}\n",
    "for iter in iteration_all:\n",
    "    c_input = c_train_all[iter]\n",
    "    x_input = x_train_all[iter]\n",
    "    \n",
    "    cost_ddr_avg_tem = np.zeros((len(mu_all),len(lamb_all)))\n",
    "    for mu_index in range(len(mu_all)):\n",
    "        mu = mu_all[mu_index]\n",
    "        for lamb_index in range(len(lamb_all)):\n",
    "            lamb = lamb_all[lamb_index]\n",
    "            # print(\"iter = \",iter,\",mu = \",mu,\",lamb=\",lamb)\n",
    "            # w0_ddr_all[iter,mu,lamb],W_ddr_all[iter,mu,lamb],obj_ddr_all[iter,mu,lamb] = solve_DDR(mu,lamb,d,num_feat,num_train,c_input,x_input)\n",
    "            W_ddr_all[iter,mu,lamb], w0_ddr_all[iter,mu,lamb] = ddr_solver(x_input, c_input, num_test, mu, lamb)\n",
    "            cost_DDR_all[iter,mu,lamb] = compute_out_of_sample_cost(W_ddr_all[iter,mu,lamb],w0_ddr_all[iter,mu,lamb],c_test_all[iter],x_test_all[iter])\n",
    "            cost_ddr_avg_tem[mu_index,lamb_index] = np.nanmean(cost_DDR_all[iter,mu,lamb])\n",
    "    print(\"iter = \",iter,\",ddr_vs_ols_ratio\")\n",
    "    print(np.round(cost_ddr_avg_tem/np.nanmean(cost_OLS_all[iter]),4))\n",
    "    cost_DDR_avg_all[iter] = cost_ddr_avg_tem"
   ]
  },
  {
   "cell_type": "code",
   "execution_count": 16,
   "metadata": {},
   "outputs": [],
   "source": [
    "regret_DDR_vs_OLS_para_avg = np.zeros((len(mu_all),len(lamb_all)))\n",
    "regret_DDR_vs_OLS_realization_avg = np.zeros((len(mu_all),len(lamb_all)))\n",
    "for iter in iteration_all:\n",
    "    regret_DDR_vs_OLS_para_avg = regret_DDR_vs_OLS_para_avg + (cost_OLS_avg[iter] - cost_DDR_avg_all[iter])/(cost_OLS_avg[iter] - cost_Oracle_para_avg[iter])\n",
    "    regret_DDR_vs_OLS_realization_avg = regret_DDR_vs_OLS_realization_avg + (cost_OLS_avg[iter] - cost_DDR_avg_all[iter])/(cost_OLS_avg[iter] - cost_Oracle_realization_avg[iter])\n",
    "regret_DDR_vs_OLS_para_avg = regret_DDR_vs_OLS_para_avg/len(iteration_all)\n",
    "regret_DDR_vs_OLS_realization_avg = regret_DDR_vs_OLS_realization_avg/len(iteration_all)"
   ]
  },
  {
   "cell_type": "code",
   "execution_count": 18,
   "metadata": {},
   "outputs": [],
   "source": [
    "regret_DDR_vs_OLS_para_avg_df = pd.DataFrame(regret_DDR_vs_OLS_para_avg)\n",
    "regret_DDR_vs_OLS_para_avg_df.index = mu_all\n",
    "regret_DDR_vs_OLS_para_avg_df.columns = lamb_all\n",
    "regret_DDR_vs_OLS_para_avg_df.to_csv(DataPath+\"regret_DDR_vs_OLS_para_avg.csv\")\n",
    "\n",
    "regret_DDR_vs_OLS_realization_avg = pd.DataFrame(regret_DDR_vs_OLS_realization_avg)\n",
    "regret_DDR_vs_OLS_realization_avg.index = mu_all\n",
    "regret_DDR_vs_OLS_realization_avg.columns = lamb_all\n",
    "regret_DDR_vs_OLS_realization_avg.to_csv(DataPath+\"regret_DDR_vs_OLS_realization_avg.csv\")"
   ]
  }
 ],
 "metadata": {
  "kernelspec": {
   "display_name": ".venv",
   "language": "python",
   "name": "python3"
  },
  "language_info": {
   "codemirror_mode": {
    "name": "ipython",
    "version": 3
   },
   "file_extension": ".py",
   "mimetype": "text/x-python",
   "name": "python",
   "nbconvert_exporter": "python",
   "pygments_lexer": "ipython3",
   "version": "3.9.6"
  }
 },
 "nbformat": 4,
 "nbformat_minor": 2
}
