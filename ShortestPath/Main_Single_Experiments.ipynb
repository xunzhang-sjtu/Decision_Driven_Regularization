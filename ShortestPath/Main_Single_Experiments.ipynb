{
 "cells": [
  {
   "cell_type": "code",
   "execution_count": 18,
   "metadata": {},
   "outputs": [],
   "source": [
    "# set random seed\n",
    "import random\n",
    "random.seed(42)\n",
    "import numpy as np\n",
    "np.random.seed(42)\n",
    "import torch\n",
    "torch.manual_seed(42)\n",
    "torch.cuda.manual_seed(42)"
   ]
  },
  {
   "cell_type": "markdown",
   "metadata": {},
   "source": [
    "# Parameters"
   ]
  },
  {
   "cell_type": "code",
   "execution_count": 19,
   "metadata": {},
   "outputs": [],
   "source": [
    "# import pyepo\n",
    "# generate data\n",
    "grid = (5,5) # grid size\n",
    "num_data = 100 # number of training data\n",
    "num_feat = 5 # size of feature\n",
    "num_test = 1000\n",
    "deg = 1.5 # polynomial degree\n",
    "e = 0.5 # noise width"
   ]
  },
  {
   "cell_type": "markdown",
   "metadata": {},
   "source": [
    "# Generate Data"
   ]
  },
  {
   "cell_type": "code",
   "execution_count": 20,
   "metadata": {},
   "outputs": [],
   "source": [
    "from Data import data_generation\n",
    "data_gen = data_generation()\n",
    "\n",
    "#  ****** Data generation process is the same as SPO+ *********\n",
    "feats, costs = data_gen.generate_Shortest_Path_Data(num_data+num_test, num_feat, grid, deg, e, seed=42)\n",
    "\n",
    "#  ****** Data generation process is the same as DDR *********\n",
    "# lower = 0\n",
    "# upper = 1\n",
    "# p = 5\n",
    "# d = 40\n",
    "# alpha = 1\n",
    "# mis = 4\n",
    "# n_epsilon = 1\n",
    "# W_star = data_gen.generate_truth(\"\",lower, upper, p, d, version = 0) \n",
    "# x_test, z_test_ori, c_test, x_train, z_train_ori, c_train, W_star = data_gen.generate_samples(\"\",p, d, num_test, num_data, alpha, W_star, n_epsilon, mis, thres = 10, \n",
    "#                         version = 1, x_dist = 'normal', e_dist = 'normal', x_low = 0, x_up = 2, x_mean = 2, x_var = 0.25, bump = 0) \n",
    "\n",
    "# split train test data\n",
    "from sklearn.model_selection import train_test_split\n",
    "x_train, x_test, c_train, c_test = train_test_split(feats, costs, test_size=num_test, random_state=42)"
   ]
  },
  {
   "cell_type": "markdown",
   "metadata": {},
   "source": [
    "### SPO+ "
   ]
  },
  {
   "cell_type": "code",
   "execution_count": 21,
   "metadata": {},
   "outputs": [
    {
     "name": "stdout",
     "output_type": "stream",
     "text": [
      "Test\n",
      "Optimizing for optDataset...\n"
     ]
    },
    {
     "name": "stderr",
     "output_type": "stream",
     "text": [
      "100%|██████████| 100/100 [00:00<00:00, 1444.67it/s]\n"
     ]
    },
    {
     "name": "stdout",
     "output_type": "stream",
     "text": [
      "Test\n",
      "Optimizing for optDataset...\n"
     ]
    },
    {
     "name": "stderr",
     "output_type": "stream",
     "text": [
      "100%|██████████| 1000/1000 [00:00<00:00, 2149.79it/s]\n"
     ]
    },
    {
     "name": "stdout",
     "output_type": "stream",
     "text": [
      "oracle cost =  5.942930629730225\n",
      "Num of cores: 2\n",
      "epoch 0: Average SPO Cost =  7.459322051167488\n",
      "epoch =  0  Average SPO Cost =  7.350795464716851\n",
      "epoch =  1  Average SPO Cost =  7.282510381780565\n",
      "epoch =  2  Average SPO Cost =  7.168225427724421\n",
      "epoch =  3  Average SPO Cost =  7.088324326217174\n",
      "epoch =  4  Average SPO Cost =  6.9757526120766995\n",
      "epoch =  5  Average SPO Cost =  6.882768048681319\n",
      "epoch =  6  Average SPO Cost =  6.82647914493829\n",
      "epoch =  7  Average SPO Cost =  6.796512143060565\n",
      "epoch =  8  Average SPO Cost =  6.806950685843825\n",
      "epoch =  9  Average SPO Cost =  6.787250279113651\n",
      "epoch =  10  Average SPO Cost =  6.790133129894733\n",
      "epoch =  11  Average SPO Cost =  6.784208420917392\n",
      "epoch =  12  Average SPO Cost =  6.7843580513671045\n",
      "epoch =  13  Average SPO Cost =  6.781296040140092\n",
      "epoch =  14  Average SPO Cost =  6.777269701004029\n",
      "epoch =  15  Average SPO Cost =  6.771785532072187\n",
      "epoch =  16  Average SPO Cost =  6.765004436790943\n",
      "epoch =  17  Average SPO Cost =  6.764555171072483\n",
      "epoch =  18  Average SPO Cost =  6.768111787095666\n",
      "epoch =  19  Average SPO Cost =  6.766240374177694\n",
      "epoch =  20  Average SPO Cost =  6.773483073726297\n",
      "epoch =  21  Average SPO Cost =  6.7739828657358885\n",
      "epoch =  22  Average SPO Cost =  6.776082415610552\n",
      "epoch =  23  Average SPO Cost =  6.768874406963587\n",
      "epoch =  24  Average SPO Cost =  6.7557084327340124\n",
      "epoch =  25  Average SPO Cost =  6.7648832005560395\n",
      "epoch =  26  Average SPO Cost =  6.771230312332511\n",
      "epoch =  27  Average SPO Cost =  6.7688596314787866\n",
      "epoch =  28  Average SPO Cost =  6.780692403525114\n",
      "epoch =  29  Average SPO Cost =  6.77633664688468\n"
     ]
    }
   ],
   "source": [
    "from SPO_Plus import run_SPO_Shortest_Path\n",
    "SPO_runner = run_SPO_Shortest_Path()\n",
    "batch_size = 20\n",
    "num_epochs = 30\n",
    "arcs,loader_train,loader_test,cost_Oracle,cost_SPO = SPO_runner.run(x_train,c_train,x_test,c_test,batch_size,num_feat,grid,num_epochs,True)"
   ]
  },
  {
   "cell_type": "markdown",
   "metadata": {},
   "source": [
    "# OLS"
   ]
  },
  {
   "cell_type": "code",
   "execution_count": 22,
   "metadata": {},
   "outputs": [
    {
     "name": "stdout",
     "output_type": "stream",
     "text": [
      "Average OLS Cost =  6.742132800042629\n"
     ]
    }
   ],
   "source": [
    "from OLS import run_OLS_Shortest_Path\n",
    "OLS_runner = run_OLS_Shortest_Path()\n",
    "cost_OLS = OLS_runner.run(arcs,x_train,c_train,grid,loader_test)\n",
    "print(\"Average OLS Cost = \",np.mean(cost_OLS))"
   ]
  },
  {
   "cell_type": "markdown",
   "metadata": {},
   "source": [
    "# DDR"
   ]
  },
  {
   "cell_type": "code",
   "execution_count": 23,
   "metadata": {},
   "outputs": [
    {
     "name": "stdout",
     "output_type": "stream",
     "text": [
      "Average Oracle Cost =  5.942930629730225 Std =  1.379642731178901\n",
      "Average SPO Cost =  6.77633664688468 Std =  1.6921440034748845\n",
      "Average OLS Cost =  6.742132800042629 Std =  1.673809164608691\n"
     ]
    }
   ],
   "source": [
    "print(\"Average Oracle Cost = \",np.mean(cost_Oracle),\"Std = \", np.std(cost_Oracle))\n",
    "print(\"Average SPO Cost = \", np.mean(cost_SPO),\"Std = \", np.std(cost_SPO))\n",
    "print(\"Average OLS Cost = \", np.mean(cost_OLS),\"Std = \", np.std(cost_OLS))"
   ]
  },
  {
   "cell_type": "code",
   "execution_count": 25,
   "metadata": {},
   "outputs": [
    {
     "name": "stdout",
     "output_type": "stream",
     "text": [
      "======== lambda =  0.1 ============\n",
      "lambda =  0.1 , mu =  0.1 , Lowerst Average DDR Cost =  6.744603146925568  Std =  1.6700484263066824\n",
      "lambda =  0.1 , mu =  0.20000000000000004 , Lowerst Average DDR Cost =  6.744319741591811  Std =  1.6732742820144157\n",
      "lambda =  0.1 , mu =  0.25000000000000006 , Lowerst Average DDR Cost =  6.738677947416901  Std =  1.6724724106727604\n",
      "lambda =  0.1 , mu =  0.3500000000000001 , Lowerst Average DDR Cost =  6.7375347759723665  Std =  1.6740263761904977\n",
      "======== lambda =  0.15 ============\n",
      "======== lambda =  0.2 ============\n",
      "======== lambda =  0.25 ============\n",
      "======== lambda =  0.3 ============\n",
      "======== lambda =  0.35 ============\n",
      "======== lambda =  0.4 ============\n"
     ]
    }
   ],
   "source": [
    "from DDR import run_DDR_Shortest_Path\n",
    "DDR_runner = run_DDR_Shortest_Path()\n",
    "\n",
    "mu_arr = np.arange(0.1,1,0.05)\n",
    "lamb_arr = np.arange(0.1,1,0.05)\n",
    "lamb_arr = [0.1,0.15,0.2,0.25,0.3,0.35,0.4]\n",
    "minimum_value = 1000000000\n",
    "for lamb in lamb_arr:\n",
    "    print(\"======== lambda = \",lamb,\"============\")\n",
    "    for mu in mu_arr:\n",
    "        num_nodes = 25\n",
    "        # w0_ddr_val,W_ddr_val = solve_DDR(lamb,mu,num_nodes,x_train,c_train)\n",
    "        cost_DDR = DDR_runner.run(arcs,x_train, c_train, grid,loader_test,lamb,mu,num_nodes)\n",
    "        if np.mean(cost_DDR) < minimum_value:\n",
    "            minimum_value = np.mean(cost_DDR)\n",
    "            print(\"lambda = \",lamb, \", mu = \",mu, \", Lowest Average DDR Cost = \",minimum_value, \" Std = \",np.std(cost_DDR))\n",
    "        # print(\"lambda = \",lamb, \", mu = \",mu, \",Average DDR Cost = \",np.mean(cost_DDR), \" Std = \",np.std(cost_DDR))"
   ]
  }
 ],
 "metadata": {
  "kernelspec": {
   "display_name": ".venv",
   "language": "python",
   "name": "python3"
  },
  "language_info": {
   "codemirror_mode": {
    "name": "ipython",
    "version": 3
   },
   "file_extension": ".py",
   "mimetype": "text/x-python",
   "name": "python",
   "nbconvert_exporter": "python",
   "pygments_lexer": "ipython3",
   "version": "3.9.6"
  }
 },
 "nbformat": 4,
 "nbformat_minor": 2
}
