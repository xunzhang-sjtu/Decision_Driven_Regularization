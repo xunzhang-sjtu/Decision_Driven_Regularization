{
 "cells": [
  {
   "cell_type": "code",
   "execution_count": 16,
   "metadata": {},
   "outputs": [],
   "source": [
    "import random\n",
    "import numpy as np\n",
    "import torch\n",
    "import os\n",
    "import pathlib\n",
    "import pickle\n",
    "import pandas as pd\n",
    "from scipy.stats import gaussian_kde\n",
    "from matplotlib import gridspec\n",
    "import matplotlib.pyplot as plt\n",
    "import numpy as np"
   ]
  },
  {
   "cell_type": "code",
   "execution_count": 17,
   "metadata": {},
   "outputs": [],
   "source": [
    "data_generation_process = \"SPO_Data_Generation\"\n",
    "# data_generation_process = \"DDR_Data_Generation\""
   ]
  },
  {
   "cell_type": "code",
   "execution_count": 18,
   "metadata": {},
   "outputs": [],
   "source": [
    "num_train = 100 # number of training data\n",
    "deg = 1.0 # polynomial degree\n",
    "e = 0.5 # scale of normal std or the range of uniform. For the error term\n",
    "x_dist = 'uniform'\n",
    "coef_seed = 1\n",
    "iteration_all = np.arange(0,100)\n",
    "mu_all = np.round(np.arange(0.1,1.0,0.1),4)\n",
    "lamb_all = np.round(np.arange(0.0,1.0,0.1),4)"
   ]
  },
  {
   "cell_type": "code",
   "execution_count": 19,
   "metadata": {},
   "outputs": [],
   "source": [
    "current_directory = os.getcwd()\n",
    "parent_directory = os.path.dirname(current_directory)\n",
    "grandparent_directory = os.path.dirname(parent_directory)"
   ]
  },
  {
   "cell_type": "code",
   "execution_count": 20,
   "metadata": {},
   "outputs": [],
   "source": [
    "def obtain_DDR_avg(iteration_all,mu_all,lamb_all,cost_DDR_all):\n",
    "    cost_DDR_avg_all = {}\n",
    "    for iter in iteration_all:\n",
    "        cost_DDR_avg = np.zeros((len(mu_all),len(lamb_all)))\n",
    "        mu_index = 0\n",
    "        for mu in mu_all:\n",
    "            lamb_index = 0\n",
    "            for lamb in lamb_all:\n",
    "                cost_DDR_avg[mu_index,lamb_index] = np.nanmean(cost_DDR_all[iter][mu,lamb])\n",
    "                lamb_index = lamb_index + 1\n",
    "            mu_index = mu_index + 1\n",
    "        cost_DDR_avg_all[iter] = cost_DDR_avg\n",
    "    return cost_DDR_avg_all"
   ]
  },
  {
   "cell_type": "code",
   "execution_count": 21,
   "metadata": {},
   "outputs": [],
   "source": [
    "def obtain_ddr_regret(iteration_all,cost_OLS_all,cost_Oracle_para_all,cost_DDR_avg_all):\n",
    "    regret_ddr_vs_ols_para_all = {}; regret_ddr_vs_ols_para_avg = np.zeros((len(mu_all),len(lamb_all)))\n",
    "\n",
    "    cost_OLS_avg_all = np.zeros(len(iteration_all))\n",
    "    cost_Oracle_para_avg_all = np.zeros(len(iteration_all))\n",
    "    cost_Oracle_realization_avg_all = np.zeros(len(iteration_all))\n",
    "\n",
    "    for iter_index in range(len(iteration_all)):\n",
    "        iter = iteration_all[iter_index]\n",
    "        cost_OLS_avg_all[iter_index] = np.nanmean(cost_OLS_all[iter])\n",
    "        cost_Oracle_para_avg_all[iter_index] = np.nanmean(cost_Oracle_para_all[iter])\n",
    "        regret_ddr_vs_ols_para_all[iter_index] = (cost_OLS_avg_all[iter_index] - cost_DDR_avg_all[iter])/np.abs(cost_OLS_avg_all[iter_index] - cost_Oracle_para_avg_all[iter_index])\n",
    "        \n",
    "        # regret_ddr_vs_ols_para_all[iter_index] = (cost_OLS_avg_all[iter_index] - cost_DDR_avg_all[iter])/np.abs(cost_OLS_avg_all[iter_index])\n",
    "\n",
    "        regret_ddr_vs_ols_para_avg = regret_ddr_vs_ols_para_avg + regret_ddr_vs_ols_para_all[iter_index]\n",
    "\n",
    "    regret_ddr_vs_ols_para_avg = regret_ddr_vs_ols_para_avg/len(iteration_all)\n",
    "    return regret_ddr_vs_ols_para_avg"
   ]
  },
  {
   "cell_type": "code",
   "execution_count": 22,
   "metadata": {},
   "outputs": [],
   "source": [
    "def obtain_max_regret(regret_input,mu_all,lamb_all):\n",
    "    max_regret = -100\n",
    "    max_mu = 0\n",
    "    max_lamb = 0\n",
    "    mu_index = 0\n",
    "    for mu in mu_all:\n",
    "        lamb_index = 0\n",
    "        for lamb in lamb_all:\n",
    "            if regret_input[mu_index,lamb_index] >= max_regret:\n",
    "                max_regret = regret_input[mu_index,lamb_index]\n",
    "                max_mu = mu\n",
    "                max_lamb = lamb\n",
    "            lamb_index = lamb_index + 1\n",
    "        mu_index = mu_index + 1\n",
    "    print(\"max_mu=\",max_mu,\",max_lamb=\",max_lamb,\",max_regret=\",max_regret)\n",
    "    return max_regret,max_mu,max_lamb"
   ]
  },
  {
   "cell_type": "code",
   "execution_count": 24,
   "metadata": {},
   "outputs": [],
   "source": [
    "iteration_all = np.arange(100)\n",
    "num_test = 1000\n",
    "grid_all = [(2,2),(3,3),(4,4),(5,5)]"
   ]
  },
  {
   "cell_type": "code",
   "execution_count": 25,
   "metadata": {},
   "outputs": [
    {
     "name": "stdout",
     "output_type": "stream",
     "text": [
      "data_size=100_deg=1.0_e=0.5_d=4_x_dist=uniform_num_test=1000_diff_W/\n",
      "max_mu= 0.5 ,max_lamb= 0.3 ,max_regret= 0.011875242147071075\n",
      "data_size=100_deg=1.0_e=0.5_d=12_x_dist=uniform_num_test=1000_diff_W/\n",
      "max_mu= 0.7 ,max_lamb= 0.7 ,max_regret= 0.006746761773233504\n",
      "data_size=100_deg=1.0_e=0.5_d=24_x_dist=uniform_num_test=1000_diff_W/\n",
      "max_mu= 0.1 ,max_lamb= 0.2 ,max_regret= 0.001989683098069669\n",
      "data_size=100_deg=1.0_e=0.5_d=40_x_dist=uniform_num_test=1000_diff_W/\n",
      "max_mu= 0.3 ,max_lamb= 0.3 ,max_regret= 0.0029551250555248237\n"
     ]
    }
   ],
   "source": [
    "regret_opt_all = np.zeros(len(grid_all)); mu_opt_all = np.zeros(len(grid_all)); lamb_opt_all = np.zeros(len(grid_all))\n",
    "\n",
    "grid_index = 0\n",
    "for grid in grid_all:\n",
    "    d = (grid[0] - 1) * (grid[0] - 1) * 2 + 2 * (grid[0] - 1) # num of arcs\n",
    "\n",
    "    DataPath = os.path.dirname(grandparent_directory) + '/Data/Shortest_Path_Macbook/'+str(grid[0])+'by'+str(grid[1])+'_grid_' + data_generation_process + \"_exp=1/\"\n",
    "    DataPath = DataPath + \"data_size=\"+str(num_train)+\"_deg=\"+str(deg)+\"_e=\"+str(e)+\"_d=\"+str(d)+\"_x_dist=\"+x_dist+\"_num_test=\"+str(num_test)+\"_diff_W/\"\n",
    "    print(\"data_size=\"+str(num_train)+\"_deg=\"+str(deg)+\"_e=\"+str(e)+\"_d=\"+str(d)+\"_x_dist=\"+x_dist+\"_num_test=\"+str(num_test)+\"_diff_W/\")\n",
    "    with open(DataPath+'cost_OLS_all.pkl', 'rb') as f:\n",
    "        cost_OLS_all = pickle.load(f)\n",
    "    with open(DataPath+'cost_Oracle_para_all.pkl', 'rb') as f:\n",
    "        cost_Oracle_para_all = pickle.load(f)\n",
    "    with open(DataPath+'cost_DDR_all.pkl', 'rb') as f:\n",
    "        cost_DDR_all = pickle.load(f)\n",
    "\n",
    "    cost_DDR_avg_all = obtain_DDR_avg(iteration_all,mu_all,lamb_all,cost_DDR_all)\n",
    "    regret_ddr_vs_ols_para_avg = obtain_ddr_regret(iteration_all,cost_OLS_all,cost_Oracle_para_all,cost_DDR_avg_all)\n",
    "    regret_opt_all[grid_index],mu_opt_all[grid_index],lamb_opt_all[grid_index] = obtain_max_regret(regret_ddr_vs_ols_para_avg,mu_all,lamb_all)\n",
    "    grid_index = grid_index + 1\n"
   ]
  },
  {
   "cell_type": "code",
   "execution_count": 26,
   "metadata": {},
   "outputs": [
    {
     "name": "stdout",
     "output_type": "stream",
     "text": [
      "regret_opt_all= [0.01187524 0.00674676 0.00198968 0.00295513]\n",
      "mu_opt_all= [0.5 0.7 0.1 0.3]\n",
      "lamb_opt_all= [0.3 0.7 0.2 0.3]\n",
      "file_name= /Users/zhangxun/Dropbox/Research/Decision_Driven_Regularization/Data/SPO_Data_GenerationFigure_optimal_regret_comparison_among_diff_network.pdf\n"
     ]
    }
   ],
   "source": [
    "print(\"regret_opt_all=\",regret_opt_all)\n",
    "print(\"mu_opt_all=\",mu_opt_all)\n",
    "print(\"lamb_opt_all=\",lamb_opt_all)\n",
    "regret_opt_all_perc = regret_opt_all * 100  # 转为百分数\n",
    "grid = [2, 3, 4, 5]\n",
    "file_name = os.path.dirname(grandparent_directory) + '/Data/' + data_generation_process +\"Figure_optimal_regret_comparison_among_diff_network.pdf\"\n",
    "print(\"file_name=\",file_name)"
   ]
  },
  {
   "cell_type": "code",
   "execution_count": null,
   "metadata": {},
   "outputs": [
    {
     "data": {
      "image/png": "[encoded data removed]",
      "text/plain": [
       "<Figure size 800x500 with 1 Axes>"
      ]
     },
     "metadata": {},
     "output_type": "display_data"
    }
   ],
   "source": [
    "# 创建图形\n",
    "plt.figure(figsize=(8, 5))\n",
    "plt.plot(grid, regret_opt_all_perc, marker='o', linestyle='-', color='blue', label='Regret (%)')\n",
    "\n",
    "# 添加标注\n",
    "for i in range(len(grid)):\n",
    "    label = r\"($\\mu$={mu_opt_all[i]:.1f}, λ={lamb_opt_all[i]:.1f})\"\n",
    "    plt.annotate(label,\n",
    "                 (grid[i], regret_opt_all_perc[i]),\n",
    "                 textcoords=\"offset points\",\n",
    "                 xytext=(0, 10),\n",
    "                 ha='center',\n",
    "                 fontsize=11,\n",
    "                 color='darkgreen')\n",
    "\n",
    "# 自定义x轴刻度和标签\n",
    "plt.xticks(ticks=grid, labels=[f\"{x}×{x}\" for x in grid], fontsize=12)\n",
    "plt.yticks(fontsize=12)\n",
    "\n",
    "# 坐标轴标签和标题\n",
    "plt.xlabel(\"Network\", fontsize=16)\n",
    "plt.ylabel(\"Regret (%)\", fontsize=16)\n",
    "plt.title(r\"Maximum regret under different networks with optimal $(μ, λ)$\", fontsize=15)\n",
    "\n",
    "plt.grid(True)\n",
    "plt.legend(fontsize=12)\n",
    "plt.tight_layout()\n",
    "plt.savefig(file_name, format='pdf')\n",
    "plt.show()"
   ]
  },
  {
   "cell_type": "code",
   "execution_count": null,
   "metadata": {},
   "outputs": [],
   "source": [
    "grid = (2,2)\n",
    "num_test = 1000\n",
    "d = (grid[0] - 1) * (grid[0] - 1) * 2 + 2 * (grid[0] - 1) # num of arcs\n",
    "DataPath = os.path.dirname(grandparent_directory) + '/Data/Shortest_Path_Macbook/'+str(grid[0])+'by'+str(grid[1])+'_grid_' + data_generation_process + \"_exp=1/\"\n",
    "DataPath = DataPath + \"data_size=\"+str(num_train)+\"_deg=\"+str(deg)+\"_e=\"+str(e)+\"_d=\"+str(d)+\"_x_dist=\"+x_dist+\"_num_test=\"+str(num_test)+\"_diff_W/\"\n",
    "print(\"data_size=\"+str(num_train)+\"_deg=\"+str(deg)+\"_e=\"+str(e)+\"_d=\"+str(d)+\"_x_dist=\"+x_dist+\"_num_test=\"+str(num_test)+\"_diff_W/\")\n",
    "with open(DataPath+'cost_OLS_all.pkl', 'rb') as f:\n",
    "    cost_OLS_all = pickle.load(f)\n",
    "with open(DataPath+'cost_Oracle_para_all.pkl', 'rb') as f:\n",
    "    cost_Oracle_para_all = pickle.load(f)\n",
    "with open(DataPath+'cost_DDR_all.pkl', 'rb') as f:\n",
    "    cost_DDR_all = pickle.load(f)"
   ]
  },
  {
   "cell_type": "code",
   "execution_count": 11,
   "metadata": {},
   "outputs": [],
   "source": [
    "regret_ddr_vs_ols_para_all = {}; regret_ddr_vs_ols_para_avg = np.zeros((len(mu_all),len(lamb_all)))\n",
    "ratio_ddr_vs_ols_para_all = {}; ratio_ddr_vs_ols_para_avg = np.zeros((len(mu_all),len(lamb_all)))\n",
    "cost_reduction_ddr_vs_ols_para_all = {}; cost_reduction_ddr_vs_ols_para_avg = np.zeros((len(mu_all),len(lamb_all)))\n",
    "\n",
    "\n",
    "cost_OLS_avg_all = np.zeros(len(iteration_all))\n",
    "cost_Oracle_para_avg_all = np.zeros(len(iteration_all))\n",
    "for iter_index in range(len(iteration_all)):\n",
    "    iter = iteration_all[iter_index]\n",
    "    cost_OLS_avg_all[iter_index] = np.nanmean(cost_OLS_all[iter])\n",
    "    cost_Oracle_para_avg_all[iter_index] = np.nanmean(cost_Oracle_para_all[iter])\n",
    "    cost_DDR_avg_all = obtain_DDR_avg(iteration_all,mu_all,lamb_all,cost_DDR_all)\n",
    "    \n",
    "    regret_ddr_vs_ols_para_all[iter_index] = (cost_OLS_avg_all[iter_index] - cost_DDR_avg_all[iter])/np.abs(cost_OLS_avg_all[iter_index] - cost_Oracle_para_avg_all[iter_index])\n",
    "    regret_ddr_vs_ols_para_avg = regret_ddr_vs_ols_para_avg + regret_ddr_vs_ols_para_all[iter_index]\n",
    "\n",
    "    ratio_ddr_vs_ols_para_all[iter_index] = (cost_OLS_avg_all[iter_index] - cost_DDR_avg_all[iter])/np.abs(cost_OLS_avg_all[iter_index])\n",
    "    ratio_ddr_vs_ols_para_avg = ratio_ddr_vs_ols_para_avg + ratio_ddr_vs_ols_para_all[iter_index]\n",
    "\n",
    "    cost_reduction_ddr_vs_ols_para_all[iter_index] = (cost_OLS_avg_all[iter_index] - cost_DDR_avg_all[iter])\n",
    "    cost_reduction_ddr_vs_ols_para_avg = cost_reduction_ddr_vs_ols_para_avg + cost_reduction_ddr_vs_ols_para_all[iter_index]\n",
    "\n",
    "\n",
    "regret_ddr_vs_ols_para_avg = regret_ddr_vs_ols_para_avg/len(iteration_all)\n",
    "ratio_ddr_vs_ols_para_avg = ratio_ddr_vs_ols_para_avg/len(iteration_all)\n",
    "cost_reduction_ddr_vs_ols_para_avg =cost_reduction_ddr_vs_ols_para_avg/len(iteration_all)"
   ]
  },
  {
   "cell_type": "code",
   "execution_count": 13,
   "metadata": {},
   "outputs": [],
   "source": [
    "pd.DataFrame(regret_ddr_vs_ols_para_avg).to_csv(DataPath+\"regret.csv\")\n",
    "pd.DataFrame(ratio_ddr_vs_ols_para_avg).to_csv(DataPath+\"ratio.csv\")\n",
    "pd.DataFrame(cost_reduction_ddr_vs_ols_para_avg).to_csv(DataPath+\"cost_reduction.csv\")"
   ]
  },
  {
   "cell_type": "code",
   "execution_count": 12,
   "metadata": {},
   "outputs": [
    {
     "data": {
      "text/plain": [
       "array([[ 0.    ,  0.0003,  0.0003,  0.0001, -0.0001, -0.0007, -0.001 ,\n",
       "        -0.0017, -0.0022, -0.0036],\n",
       "       [ 0.    , -0.0001, -0.0002, -0.0001, -0.0007, -0.0009, -0.0013,\n",
       "        -0.0017, -0.0021, -0.0028],\n",
       "       [ 0.    , -0.    ,  0.0001, -0.    , -0.0003, -0.0004, -0.0005,\n",
       "        -0.001 , -0.0012, -0.002 ],\n",
       "       [ 0.    , -0.0001, -0.0002, -0.0004, -0.0005, -0.0005, -0.0006,\n",
       "        -0.0007, -0.0009, -0.001 ],\n",
       "       [ 0.    , -0.0001, -0.0001, -0.0001, -0.0002, -0.0002, -0.0003,\n",
       "        -0.0004, -0.0006, -0.0006],\n",
       "       [ 0.    , -0.0001, -0.    , -0.0001, -0.    ,  0.    , -0.0002,\n",
       "        -0.0002, -0.0003, -0.0004],\n",
       "       [ 0.    , -0.    ,  0.0001,  0.    ,  0.0002,  0.0002, -0.    ,\n",
       "         0.0001,  0.0001, -0.    ],\n",
       "       [ 0.    , -0.0001, -0.    ,  0.    ,  0.    , -0.    ,  0.0001,\n",
       "         0.0002,  0.0002,  0.0002],\n",
       "       [ 0.    , -0.    , -0.    , -0.0001, -0.    ,  0.    ,  0.    ,\n",
       "        -0.    , -0.    , -0.0001]])"
      ]
     },
     "execution_count": 12,
     "metadata": {},
     "output_type": "execute_result"
    }
   ],
   "source": [
    "np.round(cost_reduction_ddr_vs_ols_para_avg,4)"
   ]
  },
  {
   "cell_type": "code",
   "execution_count": 14,
   "metadata": {},
   "outputs": [
    {
     "data": {
      "text/plain": [
       "array([[ 0.    ,  0.    ,  0.    ,  0.    ,  0.    ,  0.0001, -0.    ,\n",
       "        -0.0001, -0.0002, -0.0004],\n",
       "       [ 0.    ,  0.    , -0.    , -0.    , -0.    , -0.0002, -0.0006,\n",
       "        -0.001 , -0.0013, -0.0012],\n",
       "       [ 0.    ,  0.    , -0.    , -0.    , -0.    , -0.    , -0.0004,\n",
       "        -0.0007, -0.001 , -0.0013],\n",
       "       [ 0.    ,  0.    , -0.    , -0.0001, -0.0001, -0.0001, -0.0003,\n",
       "        -0.0003, -0.0003, -0.0004],\n",
       "       [ 0.    ,  0.    ,  0.    , -0.    , -0.    , -0.0001, -0.0001,\n",
       "        -0.0001, -0.0002, -0.0002],\n",
       "       [ 0.    ,  0.    ,  0.    ,  0.    , -0.    ,  0.    ,  0.    ,\n",
       "         0.    ,  0.    ,  0.    ],\n",
       "       [ 0.    ,  0.    , -0.0001, -0.0001, -0.    , -0.0001, -0.0001,\n",
       "        -0.0001, -0.0002, -0.0002],\n",
       "       [ 0.    , -0.0001, -0.0001, -0.    , -0.    , -0.    , -0.0001,\n",
       "        -0.0001, -0.0001, -0.0002],\n",
       "       [ 0.    ,  0.    , -0.0001, -0.0001, -0.0001, -0.0001, -0.0001,\n",
       "        -0.0001, -0.0001, -0.0001]])"
      ]
     },
     "execution_count": 14,
     "metadata": {},
     "output_type": "execute_result"
    }
   ],
   "source": [
    "np.round(ratio_ddr_vs_ols_para_all[iter],4)"
   ]
  },
  {
   "cell_type": "code",
   "execution_count": 15,
   "metadata": {},
   "outputs": [
    {
     "data": {
      "text/plain": [
       "array([[ 0.    ,  0.    ,  0.    ,  0.0012,  0.0004,  0.0043, -0.0001,\n",
       "        -0.007 , -0.0102, -0.0277],\n",
       "       [ 0.    ,  0.    , -0.0002, -0.0002, -0.    , -0.0133, -0.0373,\n",
       "        -0.0658, -0.0795, -0.0764],\n",
       "       [ 0.    ,  0.    , -0.0002, -0.0002, -0.    , -0.    , -0.0258,\n",
       "        -0.0459, -0.0658, -0.081 ],\n",
       "       [ 0.    ,  0.    , -0.0002, -0.0064, -0.0075, -0.0075, -0.0171,\n",
       "        -0.0171, -0.0212, -0.026 ],\n",
       "       [ 0.    ,  0.    ,  0.    , -0.0002, -0.0002, -0.0064, -0.0064,\n",
       "        -0.0064, -0.012 , -0.0115],\n",
       "       [ 0.    ,  0.    ,  0.    ,  0.    , -0.0002,  0.    ,  0.    ,\n",
       "         0.    ,  0.    ,  0.    ],\n",
       "       [ 0.    ,  0.    , -0.0037, -0.0035, -0.0027, -0.0088, -0.0088,\n",
       "        -0.0072, -0.0138, -0.0138],\n",
       "       [ 0.    , -0.0037, -0.0035, -0.0027, -0.0027, -0.0027, -0.0082,\n",
       "        -0.0082, -0.0089, -0.0105],\n",
       "       [ 0.    ,  0.    , -0.0037, -0.0037, -0.0035, -0.0035, -0.0035,\n",
       "        -0.0035, -0.0035, -0.0035]])"
      ]
     },
     "execution_count": 15,
     "metadata": {},
     "output_type": "execute_result"
    }
   ],
   "source": [
    "np.round(regret_ddr_vs_ols_para_all[iter],4)"
   ]
  },
  {
   "cell_type": "code",
   "execution_count": null,
   "metadata": {},
   "outputs": [],
   "source": []
  },
  {
   "cell_type": "code",
   "execution_count": null,
   "metadata": {},
   "outputs": [],
   "source": [
    "regret_ddr_vs_ols_mu_lamb = np.zeros(len(iteration_all))\n",
    "cost_reduction_ddr_vs_ols_mu_lamb = np.zeros(len(iteration_all))\n",
    "\n",
    "for iter in iteration_all:\n",
    "    regret_ddr_vs_ols_mu_lamb[iter] = regret_ddr_vs_ols_para_all[iter][0,4]\n",
    "    cost_reduction_ddr_vs_ols_mu_lamb[iter] = cost_reduction_ddr_vs_ols_para_all[iter][0,4]\n"
   ]
  },
  {
   "cell_type": "code",
   "execution_count": null,
   "metadata": {},
   "outputs": [],
   "source": [
    "np.nanmean(regret_ddr_vs_ols_mu_lamb)"
   ]
  },
  {
   "cell_type": "code",
   "execution_count": null,
   "metadata": {},
   "outputs": [],
   "source": [
    "np.quantile(regret_ddr_vs_ols_mu_lamb,0.9)"
   ]
  },
  {
   "cell_type": "code",
   "execution_count": null,
   "metadata": {},
   "outputs": [],
   "source": [
    "np.nanmedian(regret_ddr_vs_ols_mu_lamb)"
   ]
  },
  {
   "cell_type": "code",
   "execution_count": null,
   "metadata": {},
   "outputs": [],
   "source": [
    "np.nanmean(cost_reduction_ddr_vs_ols_mu_lamb)"
   ]
  },
  {
   "cell_type": "code",
   "execution_count": null,
   "metadata": {},
   "outputs": [],
   "source": [
    "np.nanmedian(cost_reduction_ddr_vs_ols_mu_lamb)"
   ]
  },
  {
   "cell_type": "code",
   "execution_count": null,
   "metadata": {},
   "outputs": [],
   "source": [
    "np.quantile(cost_reduction_ddr_vs_ols_mu_lamb,0.9)"
   ]
  }
 ],
 "metadata": {
  "kernelspec": {
   "display_name": ".venv",
   "language": "python",
   "name": "python3"
  },
  "language_info": {
   "codemirror_mode": {
    "name": "ipython",
    "version": 3
   },
   "file_extension": ".py",
   "mimetype": "text/x-python",
   "name": "python",
   "nbconvert_exporter": "python",
   "pygments_lexer": "ipython3",
   "version": "3.9.6"
  }
 },
 "nbformat": 4,
 "nbformat_minor": 2
}
