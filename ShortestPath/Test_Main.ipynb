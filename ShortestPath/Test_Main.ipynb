{
 "cells": [
  {
   "cell_type": "code",
   "execution_count": 1,
   "metadata": {},
   "outputs": [],
   "source": [
    "import random\n",
    "import numpy as np\n",
    "import torch\n",
    "import os\n",
    "import pathlib\n",
    "import pickle\n",
    "from gurobipy import *\n",
    "from rsome import ro\n",
    "from rsome import grb_solver as grb\n",
    "import rsome as rso\n",
    "from rsome import cpt_solver as cpt"
   ]
  },
  {
   "cell_type": "code",
   "execution_count": 2,
   "metadata": {},
   "outputs": [],
   "source": [
    "# data_generation_process = \"SPO_Data_Generation\"\n",
    "data_generation_process = \"DDR_Data_Generation\""
   ]
  },
  {
   "cell_type": "markdown",
   "metadata": {},
   "source": [
    "# Parameters"
   ]
  },
  {
   "cell_type": "code",
   "execution_count": null,
   "metadata": {},
   "outputs": [],
   "source": [
    "# import pyepo\n",
    "# generate data\n",
    "grid = (2,2) # grid size\n",
    "num_train = 100 # number of training data\n",
    "num_feat = 5 # size of feature\n",
    "num_test = 1000\n",
    "deg = 1.0 # polynomial degree\n",
    "e = 1 # scale of normal std or the range of uniform. For the error term\n",
    "\n",
    "lower = 0 # coef lower bound\n",
    "upper = 1 # coef upper bound\n",
    "p = num_feat # num of features\n",
    "d = (grid[0] - 1) * (grid[0] - 1) * 2 + 2 * (grid[0] - 1) # num of arcs\n",
    "num_nodes = grid[0]*grid[0]\n",
    "alpha = e # scale of normal std or the range of uniform. For the error term\n",
    "mis = deg # model misspecification\n",
    "coef_seed = 1\n",
    "\n",
    "x_dist = 'uniform'\n",
    "e_dist = 'normal'\n",
    "x_low = -2\n",
    "x_up = 2\n",
    "x_mean = 2\n",
    "x_var = 2\n",
    "bump = 7"
   ]
  },
  {
   "cell_type": "code",
   "execution_count": null,
   "metadata": {},
   "outputs": [
    {
     "name": "stdout",
     "output_type": "stream",
     "text": [
      "grandparent_directory: /Users/zhangxun/Dropbox/Research/Decision_Driven_Regularization/Code_MacBook\n",
      "DataPath: /Users/zhangxun/Dropbox/Research/Decision_Driven_Regularization/Data/Test0330_DDR_Data_Generation/\n"
     ]
    }
   ],
   "source": [
    "current_directory = os.getcwd()\n",
    "parent_directory = os.path.dirname(current_directory)\n",
    "grandparent_directory = os.path.dirname(parent_directory)\n",
    "DataPath = os.path.dirname(grandparent_directory) + '/Data/Test0401_' + data_generation_process + \"/\"\n",
    "pathlib.Path(DataPath).mkdir(parents=True, exist_ok=True)\n",
    "print(\"grandparent_directory:\", grandparent_directory)\n",
    "print(\"DataPath:\", DataPath)\n",
    "DataPath = DataPath + \"data_size=\"+str(num_train)+\"_deg=\"+str(deg)+\"_e=\"+str(e)+\"_d=\"+str(d)+\"_coef_seed=\"+str(coef_seed)+\"_diff_W/\"\n",
    "pathlib.Path(DataPath).mkdir(parents=True, exist_ok=True)"
   ]
  },
  {
   "cell_type": "markdown",
   "metadata": {},
   "source": [
    "# Generate Data"
   ]
  },
  {
   "cell_type": "code",
   "execution_count": null,
   "metadata": {},
   "outputs": [],
   "source": [
    "def Prepare_Data(DataPath,lower, upper, p, d, coef_seed,iteration_all,num_test, num_train, alpha,mis,data_generation_process,x_dist, e_dist, x_low, x_up, x_mean, x_var, bump):\n",
    "# #  ****** Coef generation *********\n",
    "    from Data import data_generation\n",
    "    data_gen = data_generation()\n",
    "    # W_star = data_gen.generate_truth(DataPath,lower, upper, p, d, coef_seed,version = 0) \n",
    "    # print(\"W_star = \",W_star[0,:])\n",
    "    np.random.seed(coef_seed)\n",
    "    x_test_all = {}; c_test_all = {}; x_train_all = {}; c_train_all = {}; W_star_all = {}\n",
    "    for iter in iteration_all:\n",
    "        W_star = data_gen.generate_truth(DataPath,lower, upper, p, d, iter,version = 0) \n",
    "        DataPath_seed = DataPath +\"iter=\"+str(iter)+\"/\"\n",
    "        pathlib.Path(DataPath_seed).mkdir(parents=True, exist_ok=True)\n",
    "        # #  ****** Data generation *********\n",
    "        x_test_all[iter], c_test_all[iter], x_train_all[iter], c_train_all[iter], W_star_all[iter] = data_gen.generate_samples(iter,DataPath_seed,p, d, num_test, num_train, alpha, W_star, mis, num_test, \n",
    "                                data_generation_process, x_dist, e_dist, x_low, x_up, x_mean, x_var, bump) \n",
    "        # print()\n",
    "    return x_test_all, c_test_all, x_train_all, c_train_all, W_star_all"
   ]
  },
  {
   "cell_type": "markdown",
   "metadata": {},
   "source": [
    "# EPO(SPO+,...)"
   ]
  },
  {
   "cell_type": "code",
   "execution_count": 6,
   "metadata": {},
   "outputs": [],
   "source": [
    "# from PYEPO import PyEPO_Method\n",
    "# epo_runner = PyEPO_Method()\n",
    "def Implement_EPO(DataPath,seed_all,batch_size,num_epochs,method_names,x_train_all,c_train_all,x_test_all,c_test_all,arcs,epo_runner):\n",
    "    cost_EPO = {}\n",
    "    for seed in seed_all:\n",
    "        DataPath_seed = DataPath +\"Seed=\"+str(seed)+\"/\"\n",
    "        pathlib.Path(DataPath_seed).mkdir(parents=True, exist_ok=True)\n",
    "        # print(\"*** seed = \",seed,\": Run EPO ******\")\n",
    "        cost_EPO[seed] = epo_runner.run(method_names,DataPath_seed,batch_size,num_feat,grid,num_epochs,\\\n",
    "                                        x_train_all[seed],c_train_all[seed],x_test_all[seed],c_test_all[seed],arcs)\n",
    "    return cost_EPO"
   ]
  },
  {
   "cell_type": "markdown",
   "metadata": {},
   "source": [
    "# Obtain DDR estimation"
   ]
  },
  {
   "cell_type": "markdown",
   "metadata": {},
   "source": [
    "### define network"
   ]
  },
  {
   "cell_type": "code",
   "execution_count": 7,
   "metadata": {},
   "outputs": [],
   "source": [
    "def _getArcs(grid):\n",
    "    arcs = []\n",
    "    for i in range(grid[0]):\n",
    "        # edges on rows\n",
    "        for j in range(grid[1] - 1):\n",
    "            v = i * grid[1] + j\n",
    "            arcs.append((v, v + 1))\n",
    "        # edges in columns\n",
    "        if i == grid[0] - 1:\n",
    "            continue\n",
    "        for j in range(grid[1]):\n",
    "            v = i * grid[1] + j\n",
    "            arcs.append((v, v + grid[1]))\n",
    "\n",
    "    arc_index_mapping = {}\n",
    "    for i in range(len(arcs)):\n",
    "        arc = arcs[i]\n",
    "        arc_index_mapping[arc] = i\n",
    "\n",
    "    return arcs,arc_index_mapping"
   ]
  },
  {
   "cell_type": "code",
   "execution_count": 8,
   "metadata": {},
   "outputs": [],
   "source": [
    "def solve_DDR(arcs,lamb,mu_fixed,num_nodes,x_train,c_train):\n",
    "    \n",
    "    N,p = x_train.shape\n",
    "    N,d = c_train.shape\n",
    "\n",
    "    # DDR\n",
    "    m = Model(\"ddr\")\n",
    "    #m.setParam(\"DualReductions\",0)\n",
    "    m.setParam('OutputFlag', 0)\n",
    "\n",
    "    W_ind = tuplelist( [(i,j) for i in range(d) for j in range(p)] )\n",
    "    w0_ind = tuplelist( [i for i in range(d)])\n",
    "\n",
    "    W_ddr = m.addVars(W_ind, lb=-GRB.INFINITY,name = \"W\" )\n",
    "    w0_ddr = m.addVars(w0_ind, lb=-GRB.INFINITY,name = \"W0\" )\n",
    "    alpha = m.addVars(N,num_nodes,lb=-GRB.INFINITY,name=\"alpha\")\n",
    "    expr_obj = 0\n",
    "    err = []\n",
    "    for n in range(N):\n",
    "        cost_true_tem = c_train[n]\n",
    "        expr_obj = expr_obj + alpha[n,num_nodes-1] - alpha[n,0]\n",
    "        for ind in range(len(arcs)):\n",
    "            cost_pred_tem = quicksum([W_ddr[ind,j] * x_train[n,j] for j in range(p)]) + w0_ddr[ind]\n",
    "            err.append(cost_true_tem[ind] - cost_pred_tem)\n",
    "            e = arcs[ind]\n",
    "            j = e[1]\n",
    "            i = e[0]\n",
    "            # print(\"j = \",j,\", i = \",i, \", e = \",e)\n",
    "            m.addConstr(alpha[n,j] - alpha[n,i] >= -mu_fixed*cost_true_tem[ind] - (1-mu_fixed)*cost_pred_tem)\n",
    "\n",
    "    m.setObjective(quicksum([err[k] * err[k] for k in range(len(err))])/N + lamb*(expr_obj)/N, GRB.MINIMIZE)\n",
    "    m.optimize()\n",
    "    \n",
    "    W_DDR_rst = m.getAttr('x', W_ddr)\n",
    "    w0_DDR_rst = m.getAttr('x', w0_ddr)\n",
    "    W_ddr_val = []\n",
    "    for i in range(d):\n",
    "        W_ddr_val.append([W_DDR_rst[(i,j)] for j in range(p)])\n",
    "    w0_ddr_val = [w0_DDR_rst[i] for i in range(d)]\n",
    "\n",
    "    alpha_rst = m.getAttr('x', alpha)\n",
    "    return w0_ddr_val,W_ddr_val,alpha_rst,m.ObjVal"
   ]
  },
  {
   "cell_type": "markdown",
   "metadata": {},
   "source": [
    "# Out-of-sample performance"
   ]
  },
  {
   "cell_type": "markdown",
   "metadata": {},
   "source": [
    "### Generate data"
   ]
  },
  {
   "cell_type": "code",
   "execution_count": null,
   "metadata": {},
   "outputs": [],
   "source": [
    "arcs,arc_index_mapping = _getArcs(grid)\n",
    "num_arcs = len(arcs)\n",
    "iteration_all = np.arange(0,1)\n",
    "# obtain data\n",
    "x_test_all, c_test_all, x_train_all, c_train_all, W_star_all = Prepare_Data(DataPath,lower, upper, p, d, coef_seed,iteration_all,num_test, num_train, alpha,mis,data_generation_process)"
   ]
  },
  {
   "cell_type": "markdown",
   "metadata": {},
   "source": [
    "### EPO performance"
   ]
  },
  {
   "cell_type": "code",
   "execution_count": 10,
   "metadata": {},
   "outputs": [],
   "source": [
    "# # EPO, including SPO, PG, LTR\n",
    "# batch_size = 20\n",
    "# num_epochs = 100\n",
    "# method_names = [\"spo+\",\"pg\",\"ltr\"]\n",
    "# method_names = [\"spo+\"]\n",
    "# from PYEPO import PyEPO_Method\n",
    "# epo_runner = PyEPO_Method()\n",
    "\n",
    "# cost_EPO_all = Implement_EPO(DataPath,[1],batch_size,num_epochs,method_names,x_train_all,c_train_all,x_test_all,c_test_all,arcs,epo_runner)\n",
    "# print(\"SPO+Cost = \",np.nanmean(cost_EPO_all[1][\"SPO\"]))"
   ]
  },
  {
   "cell_type": "markdown",
   "metadata": {},
   "source": [
    "## Oracle performance"
   ]
  },
  {
   "cell_type": "code",
   "execution_count": null,
   "metadata": {},
   "outputs": [],
   "source": [
    "from Peformance import performance_evaluation\n",
    "perfs = performance_evaluation()\n",
    "cost_Oracle_all = {}\n",
    "for iter in iteration_all:\n",
    "    # compute OLS performance\n",
    "    cost_Oracle_all[iter] = perfs.compute_Cost_with_Prediction(arcs,W_star_all[iter],np.ones(num_arcs)*bump, grid,c_test_all[iter],x_test_all[iter])\n",
    "    # print(\"Oracle Cost = \",np.nanmean(cost_Oracle_all[iter]))"
   ]
  },
  {
   "cell_type": "markdown",
   "metadata": {},
   "source": [
    "### OLS performance"
   ]
  },
  {
   "cell_type": "code",
   "execution_count": null,
   "metadata": {},
   "outputs": [
    {
     "name": "stdout",
     "output_type": "stream",
     "text": [
      "Set parameter Username\n",
      "Academic license - for non-commercial use only - expires 2026-03-13\n",
      "Oracle Cost =  199.07499772359128 ,OLS cost =  206.81770560425903\n",
      "Oracle Cost =  199.64237741065355 ,OLS cost =  207.23339668979605\n",
      "Oracle Cost =  199.33044121318946 ,OLS cost =  206.61422311815087\n",
      "Oracle Cost =  199.86208532050733 ,OLS cost =  207.5373436676744\n",
      "Oracle Cost =  199.11624056821543 ,OLS cost =  206.19173020396562\n",
      "Oracle Cost =  199.3396421072896 ,OLS cost =  207.38384154331126\n",
      "Oracle Cost =  198.77775968948427 ,OLS cost =  206.33038454230942\n",
      "Oracle Cost =  199.4237022531088 ,OLS cost =  206.96668482735214\n",
      "Oracle Cost =  200.1233913465645 ,OLS cost =  207.94452419517393\n",
      "Oracle Cost =  200.07344662197266 ,OLS cost =  207.0080396250465\n",
      "Oracle Cost =  199.1754623477314 ,OLS cost =  206.71363085744747\n",
      "Oracle Cost =  199.0808494151275 ,OLS cost =  206.9805734317515\n",
      "Oracle Cost =  200.09933551587125 ,OLS cost =  206.79709899643473\n",
      "Oracle Cost =  199.46594064627746 ,OLS cost =  206.6650094903115\n",
      "Oracle Cost =  199.02966527826874 ,OLS cost =  206.89182676480314\n",
      "Oracle Cost =  198.95686445434566 ,OLS cost =  206.5176164391981\n",
      "Oracle Cost =  199.2999660349532 ,OLS cost =  207.12843802816002\n",
      "Oracle Cost =  199.01887731296856 ,OLS cost =  207.74213206034787\n",
      "Oracle Cost =  199.713833401496 ,OLS cost =  207.1554012666453\n"
     ]
    }
   ],
   "source": [
    "from OLS import ols_method\n",
    "ols_method_obj = ols_method()\n",
    "W_ols_all = {}; w0_ols_all = {}; t_ols_all = {}; obj_ols_all = {}\n",
    "cost_OLS_all = {}\n",
    "for iter in iteration_all:\n",
    "    # compute OLS performance\n",
    "    W_ols_all[iter], w0_ols_all[iter], t_ols_all[iter], obj_ols_all[iter] = ols_method_obj.ols_solver(\"\",x_train_all[iter], c_train_all[iter])\n",
    "    cost_OLS_all[iter] = perfs.compute_Cost_with_Prediction(arcs,w0_ols_all[iter],W_ols_all[iter], grid,c_test_all[iter],x_test_all[iter])\n",
    "    print(\"OLS cost = \",np.nanmean(cost_OLS_all[iter]))"
   ]
  },
  {
   "cell_type": "markdown",
   "metadata": {},
   "source": [
    "### DDR performance"
   ]
  },
  {
   "cell_type": "code",
   "execution_count": 12,
   "metadata": {},
   "outputs": [],
   "source": [
    "def obtain_DDR_out_of_sample_performance(mu_all,lamb_all,num_nodes,x_train,c_train,x_test,c_test,perfs):\n",
    "    lamb_index = 0\n",
    "    cost_DDR = {}; w0_ddr_dict = {}; W_ddr_dict = {}\n",
    "    cost_DDR_avg = np.zeros((len(mu_all),len(lamb_all)))\n",
    "    mu_index = 0\n",
    "    for mu in mu_all:\n",
    "        lamb_index = 0\n",
    "        for lamb in lamb_all:\n",
    "            w0_ddr_dict[mu,lamb],W_ddr_dict[mu,lamb],alpha_rst,obj_ddr = solve_DDR(arcs,lamb,mu,num_nodes,x_train,c_train)\n",
    "            cost_DDR[mu,lamb] = perfs.compute_Cost_with_Prediction(arcs,w0_ddr_dict[mu,lamb],W_ddr_dict[mu,lamb], grid,c_test,x_test)\n",
    "            cost_DDR_avg[mu_index,lamb_index] = np.nanmean(cost_DDR[mu,lamb])\n",
    "            lamb_index = lamb_index + 1\n",
    "        # print(\"cost_DDR_avg=\",np.round(cost_DDR_avg[0,:],4))\n",
    "        mu_index = mu_index + 1\n",
    "    return cost_DDR,w0_ddr_dict,W_ddr_dict,cost_DDR_avg"
   ]
  },
  {
   "cell_type": "code",
   "execution_count": null,
   "metadata": {},
   "outputs": [
    {
     "name": "stdout",
     "output_type": "stream",
     "text": [
      "iter= 1 ,DDR_vs_OLS =  [[-0.34317672 -0.25203866  0.38034829 -0.37285252 -0.38112009 -0.18465626\n",
      "  -0.67522638 -1.36663584 -2.11806747]\n",
      " [ 0.35300222 -0.54128809  0.1897131  -1.50885584 -1.7631667  -2.21324509\n",
      "  -1.59512994 -2.59977472 -2.10046848]\n",
      " [-0.13920288 -0.78167331 -0.48541047 -1.14514464 -2.71685395 -2.43287072\n",
      "  -3.08833289 -3.01397589 -2.7511866 ]\n",
      " [ 0.         -0.13920288 -0.62941144 -0.64069952 -0.64771456 -1.14514464\n",
      "  -2.16805357 -2.05765318 -2.77557176]\n",
      " [ 0.          0.         -0.13920288  0.23199322  0.23199322  0.53264538\n",
      "   0.53264538 -0.32745154 -0.33162904]]\n",
      "iter= 2 ,DDR_vs_OLS =  [[-0.13327869 -0.34201543 -0.29374848 -1.2149897  -1.31960252 -2.77085059\n",
      "  -2.13137443 -2.6351975  -2.88917432]\n",
      " [-0.38320654 -0.34201543 -0.20025777 -0.29374848 -1.2149897  -0.90204321\n",
      "  -1.95743801 -2.52366189 -2.02468269]\n",
      " [-0.15585733 -0.36459407 -0.36459407 -1.83252009 -2.5072043  -1.89500242\n",
      "  -2.80664547 -3.00392901 -2.04592705]\n",
      " [-0.37732175 -0.15585733 -0.15585733 -0.36459407 -0.6975704  -0.9851918\n",
      "  -1.09556566 -0.97530184 -1.19107986]\n",
      " [ 0.         -0.37732175 -0.38320654 -0.15585733 -0.15585733 -0.15585733\n",
      "  -0.15585733 -0.36459407 -0.50909161]]\n",
      "iter= 3 ,DDR_vs_OLS =  [[-0.08420551  0.57778626  1.07396177  1.50285296  2.89625269  2.88618722\n",
      "   3.00791401  2.21096326  0.96211266]\n",
      " [-0.08420551  0.35546747  1.07396177  1.2195648   1.33144868  2.3922471\n",
      "   2.74159157  2.77747749  2.53874083]\n",
      " [-0.3504233  -0.15506244  0.35546747  1.07396177  1.2195648   1.2195648\n",
      "   1.33144868  2.3922471   2.64339652]\n",
      " [-0.3504233  -0.08420551 -0.15506244  0.35546747  0.35546747  1.07396177\n",
      "   1.2195648   1.2195648   1.2195648 ]\n",
      " [-0.3504233  -0.3504233  -0.14797684  0.06424093 -0.10943581  0.37539463\n",
      "   0.37539463  0.40109409  0.27529341]]\n",
      "iter= 4 ,DDR_vs_OLS =  [[ 0.1509537   0.01011683 -0.24763795 -0.44745089 -0.54812297 -0.50953298\n",
      "  -0.18643697  0.19688109  0.16704384]\n",
      " [ 0.1509537  -0.10856622  0.01011683 -0.65114459 -0.44745089 -0.54812297\n",
      "  -0.05641454 -0.26844283 -0.18643697]\n",
      " [ 0.23813605  0.20519094 -0.12447058 -0.38229625 -0.03993783 -0.36415335\n",
      "  -0.63687911 -0.36758767 -0.37731155]\n",
      " [ 0.23813605  0.23813605  0.20519094 -0.33973192 -0.12447058 -0.38229625\n",
      "  -0.38229625  0.54682396 -0.36415335]\n",
      " [ 0.          0.23813605  0.23813605  0.23813605  0.23860255  0.29237329\n",
      "  -0.13403223 -0.25254957 -0.03728823]]\n",
      "iter= 5 ,DDR_vs_OLS =  [[-0.65492371 -0.1769683   0.23017403 -0.13661536 -0.50751025  0.18635342\n",
      "   1.63138577  2.90529975  4.68741688]\n",
      " [-0.53978956  0.15471564  0.02090391  0.41214935  0.11480976 -0.13661536\n",
      "  -0.16714623  0.77482152  2.61435198]\n",
      " [-0.94050701 -0.65492371  0.15471564  0.12237272  0.05429294 -0.06107133\n",
      "  -0.24304665 -0.09097714  0.08427888]\n",
      " [-0.45467085 -0.53978956 -0.1002072  -0.46607247 -0.23132539 -0.82170298\n",
      "  -0.16768936 -0.72373693 -0.69395927]\n",
      " [-0.31976735  0.26613815  0.37364798 -0.45467085 -0.45467085 -0.45467085\n",
      "  -0.0539534  -0.1002072  -0.1002072 ]]\n",
      "iter= 6 ,DDR_vs_OLS =  [[-0.56729772 -0.23136466 -0.00500996 -0.10031061 -0.20865877 -0.0403092\n",
      "  -0.37830455 -0.54244136 -0.39225996]\n",
      " [-0.57739952 -0.23136466 -0.15125111  0.07407997 -0.10031061 -0.21373901\n",
      "  -0.38164845  0.07617589 -0.44480257]\n",
      " [-0.3237368  -0.28932317 -0.45243378 -0.15125111  0.49725774  0.1573208\n",
      "  -0.10031061 -0.21373901 -0.11447377]\n",
      " [-0.3237368  -0.57739952 -0.28932317 -0.23136466 -0.13226383 -0.15125111\n",
      "   0.497909    0.07407997  0.1573208 ]\n",
      " [-0.33787375 -0.3237368  -0.3237368  -0.57739952 -0.3726415  -0.28932317\n",
      "  -0.28932317 -0.23136466 -0.45243378]]\n",
      "iter= 7 ,DDR_vs_OLS =  [[ 5.42914928e-01  1.09754817e+00  1.60333965e+00  1.09775109e+00\n",
      "   8.90607352e-01  9.84937335e-01  2.98265625e-01 -4.18845212e-01\n",
      "  -8.27438145e-01]\n",
      " [ 1.09441950e-01 -3.89407032e-02  5.17693308e-01  6.33281743e-01\n",
      "   1.68892717e-01  1.24192565e+00  1.21345813e+00  7.61905212e-01\n",
      "   1.45071623e+00]\n",
      " [ 1.15936689e-03  4.70815712e-02  5.17693308e-01  3.75791804e-01\n",
      "   1.68892717e-01  2.44437332e-01  1.24444978e+00  1.21345813e+00\n",
      "   1.21345813e+00]\n",
      " [-3.99137096e-02  1.15936689e-03  4.70815712e-02  5.17693308e-01\n",
      "   5.17693308e-01  3.75791804e-01  3.62072722e-01  5.64152331e-01\n",
      "   2.44437332e-01]\n",
      " [ 0.00000000e+00 -3.99137096e-02  1.15936689e-03  1.15936689e-03\n",
      "   1.15936689e-03  4.70815712e-02 -1.01576573e-02  5.17693308e-01\n",
      "   5.17693308e-01]]\n",
      "iter= 8 ,DDR_vs_OLS =  [[ 1.06914094  1.32971353  1.24978045  1.78887289  2.57143346  3.07860386\n",
      "   3.54495586  4.00563998  3.52880561]\n",
      " [-1.43476193 -0.4867642  -0.46767904 -0.63375466 -0.98495182 -0.62281925\n",
      "   0.92827729  0.88671366  1.71253233]\n",
      " [-1.25794561 -0.65845987  0.0202933  -0.3354747  -0.58556513 -0.74819414\n",
      "  -0.66786881  0.53702758  0.9561705 ]\n",
      " [-1.02600987 -0.95357226 -0.65845987 -0.10695033 -0.22091476 -0.54343787\n",
      "   0.16755364  0.26040557  0.74192063]\n",
      " [-0.50561414 -1.02600987 -1.25794561 -0.95357226 -0.93343126 -0.65845987\n",
      "  -0.47129583 -0.10695033 -0.13863256]]\n",
      "iter= 9 ,DDR_vs_OLS =  [[-0.21028981  0.12058584  0.48515995  0.76816573  1.13178708  1.11142043\n",
      "   2.03564307  2.43356365  2.5756786 ]\n",
      " [ 0.27297402  0.30501959 -0.02414615  0.41512814  0.56437854  1.08593291\n",
      "   1.38493073  1.71865275  1.70323934]\n",
      " [ 0.12067803  0.27297402  0.90703567  0.9074339   0.64553628  0.32485905\n",
      "   0.32485905  0.3040059   0.31805774]\n",
      " [ 0.12067803  0.12067803  0.12067803  0.34542418  0.55718016  0.27410198\n",
      "   0.46865751  0.43105846  0.43105846]\n",
      " [ 0.          0.12067803  0.12067803  0.12067803 -0.11234708  0.03994891\n",
      "   0.03994891  0.36678312  0.41907096]]\n",
      "iter= 10 ,DDR_vs_OLS =  [[ 0.23764306 -0.04924583 -0.99170922 -0.86098835 -0.10357953 -0.44755653\n",
      "  -0.07119583 -0.7579672   0.45815857]\n",
      " [ 0.23764306 -0.19573435 -0.04924583 -0.79065453 -0.86098835  0.29813635\n",
      "  -0.16079854 -1.14808095  0.18278121]\n",
      " [ 0.23764306 -0.21936375 -0.73164699 -1.08620398 -1.32111927 -1.03591897\n",
      "  -0.48382623 -0.96249554 -0.99814846]\n",
      " [ 0.12761056  0.19448331 -0.21936375 -0.62566922 -1.45286213 -1.08620398\n",
      "  -1.6729475  -1.02321948 -1.03591897]\n",
      " [ 0.          0.10435834  0.2319689   0.18880915  0.04577489 -0.58234594\n",
      "  -0.58234594 -0.43585742 -0.66571181]]\n",
      "iter= 11 ,DDR_vs_OLS =  [[ 0.42622795  0.4845845   0.88825449  0.5498462   0.3814378  -0.39248666\n",
      "  -0.68898352 -1.40615104 -2.47362835]\n",
      " [ 0.54487109  0.25659295  0.11893257 -0.61793916 -0.39168649 -1.39411637\n",
      "  -1.61377718 -2.84316359 -2.84316359]\n",
      " [ 0.55498641 -0.13426283  0.25659295  0.11893257 -0.40485685 -0.39168649\n",
      "  -1.21233889 -1.39411637 -1.61377718]\n",
      " [ 0.30592312 -0.12414751  0.10028485  0.22887309  0.3783469   0.36988141\n",
      "   0.2414893  -0.46503359 -1.12782857]\n",
      " [ 0.53948972  0.53948972  0.84544544  0.96928687  1.09787511  1.09787511\n",
      "   1.25776645  1.25776645  1.25776645]]\n",
      "iter= 12 ,DDR_vs_OLS =  [[-0.27301243 -0.28204041 -1.21363416 -0.71841744  0.0101786  -0.4075155\n",
      "  -0.87381289 -1.56382608 -1.36277   ]\n",
      " [ 0.53312534 -0.04736134 -0.04871815 -0.23329185 -0.82855954 -1.19260133\n",
      "  -0.6895132   0.24883315 -0.11466232]\n",
      " [ 0.53312534  0.37124874 -0.04871815 -0.04871815 -0.04871815 -0.74385375\n",
      "  -0.04871815 -0.04871815  0.35737273]\n",
      " [ 0.16480303  0.53312534  0.29495505  0.29495505  0.29495505  0.29495505\n",
      "   0.29495505  0.16429435  0.13307844]\n",
      " [ 0.16480303  0.16480303  0.53312534  0.53312534  0.53312534  0.29495505\n",
      "   0.29495505  0.29495505  0.29495505]]\n",
      "iter= 13 ,DDR_vs_OLS =  [[ 0.47640564 -0.46159832  0.03322971  0.40864929  0.82117254  0.75496894\n",
      "   0.75496894  1.7079486   1.06242771]\n",
      " [ 0.65477243  0.72718194  1.09418115  0.13687025 -0.25943182  0.39854125\n",
      "   0.66184691  1.21873858  1.78376918]\n",
      " [ 0.47640564  0.20697232 -0.57139582 -1.06380649  0.11363807  0.43771849\n",
      "   0.41358635  0.41358635  0.41358635]\n",
      " [ 0.22425079  0.01509195 -0.04518253 -0.53377199 -0.75277564 -1.06380649\n",
      "  -0.35694889  0.11363807  0.43771849]\n",
      " [-0.24796495  0.22425079  0.40261758  0.19345873  0.19345873  0.19345873\n",
      "  -0.09299312  0.21270409 -0.27588537]]\n",
      "iter= 14 ,DDR_vs_OLS =  [[ 0.39840282  0.95741866  0.53119109 -0.01353179  0.3416711   0.14300689\n",
      "  -0.41005994 -0.79644872 -1.26994613]\n",
      " [ 0.39840282  0.61067086  0.9203313   1.31995407  1.09108531  0.81146744\n",
      "   0.37365127  0.37365127  0.10272038]\n",
      " [ 0.39090611  0.44032183  0.44032183  0.65356471  0.5212064   0.97517796\n",
      "   0.49977273  0.44922565  0.31408943]\n",
      " [-0.21226804  0.27377332  0.54844234  0.14117016  0.14117016  0.14117016\n",
      "   0.65077028  0.17379359 -0.21883504]\n",
      " [-0.21226804  0.2243576   0.27377332  0.27377332  0.54844234  0.54094563\n",
      "   0.54094563  0.54094563  0.54094563]]\n",
      "iter= 15 ,DDR_vs_OLS =  [[-1.01205493 -1.62433634 -0.93537902 -0.34571077 -1.02725816 -0.5467048\n",
      "  -0.4483442  -0.67618912 -1.43420879]\n",
      " [-1.35964354 -1.66029109 -1.40573906 -1.98795882 -0.93537902 -1.02725816\n",
      "  -0.68115742 -0.34339859 -0.4483442 ]\n",
      " [-0.87484907 -1.29866655 -1.66029109 -1.40573906 -1.98795882 -1.70361064\n",
      "  -1.88801753 -1.88801753 -2.43195277]\n",
      " [-0.87484907 -0.87484907 -0.87484907 -1.06812126 -1.06812126 -1.00714427\n",
      "  -1.00714427 -0.94139338 -0.94139338]\n",
      " [ 0.          0.          0.          0.          0.         -0.12538319\n",
      "  -0.12538319 -0.12538319 -0.12538319]]\n",
      "iter= 16 ,DDR_vs_OLS =  [[ 0.4064644   0.4064644   0.30963696  0.17421496  0.26113021  0.82637042\n",
      "   1.11024191  0.60900435 -0.04431501]\n",
      " [-0.29808894 -0.31125927 -0.31125927  0.44617087  0.80648388  1.05879241\n",
      "   0.93769855  0.10313969 -0.18729757]\n",
      " [-0.15276    -0.15276    -0.27197453 -0.27197453  0.43000633  0.43000633\n",
      "   0.53235283  1.03320985  0.92607725]\n",
      " [ 0.31468562  0.55793539  0.55793539  0.68637822  0.78872472  0.78872472\n",
      "   0.88554203  1.08877079  1.17164716]\n",
      " [ 0.          0.31468562  0.30151528  0.55793539  0.55793539  0.55793539\n",
      "   0.55793539  0.55793539  0.55793539]]\n",
      "iter= 17 ,DDR_vs_OLS =  [[-0.30176211 -0.65373564 -0.97353776 -1.86361344 -1.94199624 -1.88132248\n",
      "  -1.55178075  0.00211315 -1.72799641]\n",
      " [-0.23923353 -0.80143095 -0.41631591 -1.72030082 -1.96253717 -1.97382107\n",
      "  -1.63145287 -1.60390354 -0.72535505]\n",
      " [-0.23923353 -0.80143095 -1.0141652  -0.41631591 -1.16373187 -1.80373514\n",
      "  -1.96253717 -1.97382107 -1.88263148]\n",
      " [-0.09982455 -0.02924193 -0.01727218 -0.16511971 -0.16511971 -0.40263898\n",
      "  -0.77700705 -1.64550748 -1.60922274]\n",
      " [-0.09982455 -0.18405158 -0.05437131 -0.17208183 -0.17208183 -0.16511971\n",
      "  -0.27959546 -0.6064476  -0.6064476 ]]\n",
      "iter= 18 ,DDR_vs_OLS =  [[-0.41437723 -0.23918569  0.80947379  0.70735492  1.23951869  0.51178213\n",
      "   0.92672002  1.42081864  0.49843993]\n",
      " [-0.14114568 -0.01882862  0.60281765  0.80947379  0.70735492  1.23951869\n",
      "   0.51178213  0.59076185  0.69170201]\n",
      " [ 0.14322013  0.30830061 -0.01882862  0.60281765  0.80947379  0.80947379\n",
      "   0.70735492  1.23951869  0.67675436]\n",
      " [ 0.14322013 -0.14114568  0.30830061 -0.01882862 -0.23918569  0.60281765\n",
      "   0.80947379  0.80947379  0.80947379]\n",
      " [-0.15803557  0.14322013  0.14322013 -0.14114568 -0.41437723  0.30830061\n",
      "   0.12890518 -0.01882862 -0.01882862]]\n",
      "iter= 19 ,DDR_vs_OLS =  [[-0.26996209 -1.62802209 -2.09711622 -1.76200759 -2.77335717 -2.91205249\n",
      "  -2.72918523 -2.9773739  -3.23368159]\n",
      " [-0.12654276 -1.6382327  -1.62802209 -2.14224093 -1.76200759 -2.77335717\n",
      "  -2.81064496 -2.84713914 -2.9034859 ]\n",
      " [-0.12654276 -1.20796712 -2.10787969 -1.44748385 -1.55896381 -2.13097693\n",
      "  -2.02184859 -2.70480533 -2.67865235]\n",
      " [-0.13298024 -0.81780022 -0.96121955 -1.26666282 -1.35059956 -1.48152909\n",
      "  -1.47594686 -1.55896381 -2.13097693]\n",
      " [-0.47942642 -0.46386576 -0.19678748  0.37282035 -0.74954859 -0.74962644\n",
      "  -1.57149557 -1.89974811 -0.8278473 ]]\n",
      "regred_DDR_vs_OLS_all= [[-0.02927303 -0.05033333  0.04404092 -0.04414634  0.09126231  0.02056017\n",
      "   0.1665995   0.12374508 -0.20175802]\n",
      " [-0.10151742 -0.21118048 -0.00810436 -0.26911667 -0.35405294 -0.23532511\n",
      "  -0.15746762 -0.24456285  0.04220285]\n",
      " [-0.09814727 -0.2561262  -0.27366783 -0.30168703 -0.41447584 -0.45855344\n",
      "  -0.53192346 -0.42525808 -0.36793786]\n",
      " [-0.11856268 -0.13172783 -0.10122841 -0.17145395 -0.21312557 -0.270997\n",
      "  -0.18450586 -0.20761863 -0.35488   ]\n",
      " [-0.1056266  -0.02237923  0.05063473  0.06793101 -0.00136971  0.05790146\n",
      "  -0.00199665 -0.01681606 -0.01188032]]\n"
     ]
    }
   ],
   "source": [
    "mu_all = np.arange(0.01,1.0,0.1)\n",
    "lamb_all = np.round(np.arange(0.01,1,0.1),4)\n",
    "regret_all = {}; cost_DDR_all = {}; w0_ddr_all = {}; W_ddr_all = {}\n",
    "cost_DDR_avg_all = np.zeros((len(mu_all),len(lamb_all)))\n",
    "regred_DDR_vs_OLS_all = np.zeros((len(mu_all),len(lamb_all)))\n",
    "\n",
    "for iter in iteration_all:\n",
    "    cost_DDR_all[iter],w0_ddr_all[iter],W_ddr_all[iter],cost_DDR_avg = obtain_DDR_out_of_sample_performance(mu_all,lamb_all,num_nodes,x_train_all[iter],c_train_all[iter],x_test_all[iter],c_test_all[iter],perfs)\n",
    "    cost_DDR_avg_all = cost_DDR_avg_all + cost_DDR_avg\n",
    "    regert_tem = (np.nanmean(cost_OLS_all[iter]) - cost_DDR_avg)/(np.nanmean(cost_OLS_all[iter]) - np.nanmean(cost_Oracle_all[iter])) * 100\n",
    "    print(\"iter=\",iter,\",DDR_vs_OLS = \",regert_tem)\n",
    "    regred_DDR_vs_OLS_all = regred_DDR_vs_OLS_all + regert_tem\n",
    "cost_DDR_avg_all = cost_DDR_avg_all/len(iteration_all)\n",
    "regred_DDR_vs_OLS_all = regred_DDR_vs_OLS_all/len(iteration_all)\n",
    "print(\"regred_DDR_vs_OLS_all=\",regred_DDR_vs_OLS_all)"
   ]
  },
  {
   "cell_type": "code",
   "execution_count": 24,
   "metadata": {},
   "outputs": [
    {
     "name": "stdout",
     "output_type": "stream",
     "text": [
      "regred_DDR_vs_OLS_all= [[-0.0293 -0.0503  0.044  -0.0441  0.0913  0.0206  0.1666  0.1237 -0.2018]\n",
      " [-0.1015 -0.2112 -0.0081 -0.2691 -0.3541 -0.2353 -0.1575 -0.2446  0.0422]\n",
      " [-0.0981 -0.2561 -0.2737 -0.3017 -0.4145 -0.4586 -0.5319 -0.4253 -0.3679]\n",
      " [-0.1186 -0.1317 -0.1012 -0.1715 -0.2131 -0.271  -0.1845 -0.2076 -0.3549]\n",
      " [-0.1056 -0.0224  0.0506  0.0679 -0.0014  0.0579 -0.002  -0.0168 -0.0119]]\n"
     ]
    }
   ],
   "source": [
    "print(\"regred_DDR_vs_OLS_all=\",np.round(regred_DDR_vs_OLS_all,4))"
   ]
  },
  {
   "cell_type": "code",
   "execution_count": 15,
   "metadata": {},
   "outputs": [],
   "source": [
    "# with open(DataPath+'cost_OLS_all.pkl', \"wb\") as tf:\n",
    "#     pickle.dump(cost_OLS_all,tf)\n",
    "# with open(DataPath+'cost_Oracle_all.pkl', \"wb\") as tf:\n",
    "#     pickle.dump(cost_Oracle_all,tf)\n",
    "# with open(DataPath+'cost_DDR_all.pkl', \"wb\") as tf:\n",
    "#     pickle.dump(cost_DDR_all,tf)"
   ]
  },
  {
   "cell_type": "code",
   "execution_count": 16,
   "metadata": {},
   "outputs": [],
   "source": [
    "# seed = 1\n",
    "# lamb = 1\n",
    "# cost_OLS_esti = x_test_all[seed] @ np.asarray(W_ols_all[seed]).T + w0_ols_all[seed]\n",
    "# cost_DDR_esti = x_test_all[seed] @ np.asarray(W_ddr_all[seed,mu][lamb]).T + w0_ddr_all[seed,mu][lamb]\n",
    "\n",
    "# S_test_index = 3\n",
    "# print(\"cost_DDR_esti=\",np.round(cost_DDR_esti[S_test_index,],2))\n",
    "# # print(\"cost:(0,1)-->(1,3) = \",cost_DDR_esti[S_test_index,0] + cost_DDR_esti[S_test_index,2])\n",
    "# # print(\"cost:(0,2)-->(2,3) = \",cost_DDR_esti[S_test_index,1] + cost_DDR_esti[S_test_index,3])\n",
    "\n",
    "# print(\"cost_OLS_esti=\",np.round(cost_OLS_esti[S_test_index,],2))\n",
    "# # print(\"cost:(0,1)-->(1,3) = \",cost_OLS_esti[S_test_index,0] + cost_OLS_esti[S_test_index,2])\n",
    "# # print(\"cost:(0,2)-->(2,3) = \",cost_OLS_esti[S_test_index,1] + cost_OLS_esti[S_test_index,3])\n",
    "\n",
    "\n",
    "# print(\"cost_Oracle=\",np.round(c_test_all[seed][S_test_index],2))\n",
    "# # print(\"cost:(0,1)-->(1,3) = \",c_test_all[seed][S_test_index,0] + c_test_all[seed][S_test_index,2])\n",
    "# # print(\"cost:(0,2)-->(2,3) = \",c_test_all[seed][S_test_index,1] + c_test_all[seed][S_test_index,3])"
   ]
  },
  {
   "cell_type": "markdown",
   "metadata": {},
   "source": [
    "# Plot figures"
   ]
  },
  {
   "cell_type": "code",
   "execution_count": 17,
   "metadata": {},
   "outputs": [],
   "source": [
    "def cross_compare2plus(c_item, c_base, c_oracle):\n",
    "    c_item = np.asarray(c_item)\n",
    "    c_base = np.asarray(c_base)\n",
    "    c_oracle = np.asarray(c_oracle)\n",
    "\n",
    "    N = len(c_item)\n",
    "    c_diff = c_item - c_base\n",
    "    lbel = np.zeros((N,1))\n",
    "    \n",
    "    equals = np.sum(c_diff == 0)\n",
    "    wins = np.sum(c_diff < 0)\n",
    "    lose = np.sum(c_diff > 0)\n",
    "    \n",
    "    lbel[c_diff < 0] = 1\n",
    "    lbel[c_diff > 0] = -1\n",
    "    \n",
    "    # print(\"Num_train =\",N,\",Num_equals =\",equals,\",Num_wins =\",wins,\",Num_lose =\",lose)\n",
    "    # print(\"base cost = \", np.mean(c_base),\",item cost = \",np.mean(c_item))\n",
    "    if N == equals:\n",
    "        win_ratio = 0.5\n",
    "    else:\n",
    "        win_ratio = wins/(N - equals)\n",
    "    # cost_reduction = (np.mean(c_base) - np.mean(c_item) )/np.abs(np.mean(c_oracle))\n",
    "    regret_reduction = (np.nanmean(c_base) - np.nanmean(c_item))/np.abs(np.nanmean(c_base) - np.nanmean(c_oracle))\n",
    "    return lbel, win_ratio, regret_reduction"
   ]
  },
  {
   "cell_type": "markdown",
   "metadata": {},
   "source": [
    "### DDR figure"
   ]
  },
  {
   "cell_type": "code",
   "execution_count": 18,
   "metadata": {},
   "outputs": [],
   "source": [
    "# H2H_DDR_vs_OLS_all = {}; regret_reduction_DDR_vs_OLS_all = {}\n",
    "# for mu in mu_all:\n",
    "#     for lamb in lamb_all:\n",
    "#         H2H_DDR_vs_OLS_arr = np.zeros(len(iteration_all)); regret_reduction_DDR_vs_OLS_arr = np.zeros(len(iteration_all))\n",
    "#         # print(\"lamb = \",lamb)\n",
    "#         for iter in iteration_all:\n",
    "#             lbel, H2H_DDR_vs_OLS_arr[iter-1], regret_reduction_DDR_vs_OLS_arr[iter-1] = cross_compare2plus(cost_DDR_all[iter][mu,lamb],cost_OLS_all[iter], cost_Oracle_all[iter])\n",
    "#         H2H_DDR_vs_OLS_all[mu,lamb] = H2H_DDR_vs_OLS_arr; regret_reduction_DDR_vs_OLS_all[mu,lamb] = regret_reduction_DDR_vs_OLS_arr"
   ]
  },
  {
   "cell_type": "code",
   "execution_count": 19,
   "metadata": {},
   "outputs": [],
   "source": [
    "# mu = mu_all[0]\n",
    "# lamb = lamb_all[7]\n",
    "# import Figures\n",
    "# file_name = DataPath + \"figure_mu=\"+str(mu)+\"_lamb=\"+str(lamb)\n",
    "# Figures.figure_plot_upleft(H2H_DDR_vs_OLS_all[mu,lamb]*100, regret_reduction_DDR_vs_OLS_all[mu,lamb], file_name, size = (5, 5), move = [-0.12, 0.04, 0.35, 0.55], \n",
    "#                     ysame = 0, yrange = [6,6], sublabel = '', ypio = 0)"
   ]
  },
  {
   "cell_type": "code",
   "execution_count": 20,
   "metadata": {},
   "outputs": [],
   "source": [
    "# import matplotlib.pyplot as plt\n",
    "# fig = plt.figure()\n",
    "# ax = plt.subplot()\n",
    "# ax.plot(lamb_all,regret_all[seed,mu])"
   ]
  },
  {
   "cell_type": "markdown",
   "metadata": {},
   "source": [
    "### SPO figure"
   ]
  },
  {
   "cell_type": "code",
   "execution_count": 21,
   "metadata": {},
   "outputs": [],
   "source": [
    "# H2H_SPO_vs_OLS_arr = np.zeros(len(seed_all)); regret_reduction_SPO_vs_OLS_arr = np.zeros(len(seed_all))\n",
    "# seed_index = 0\n",
    "# for seed in seed_all:\n",
    "#     lbel, H2H_SPO_vs_OLS_arr[seed_index], regret_reduction_SPO_vs_OLS_arr[seed_index] = cross_compare2plus(cost_EPO_all[seed][\"SPO\"],cost_OLS_all[seed], cost_Oracle_all[seed])\n",
    "#     seed_index = seed_index + 1\n",
    "# H2H_SPO_vs_OLS_all = H2H_SPO_vs_OLS_arr; regret_reduction_SPO_vs_OLS_all = regret_reduction_SPO_vs_OLS_arr"
   ]
  },
  {
   "cell_type": "code",
   "execution_count": 22,
   "metadata": {},
   "outputs": [],
   "source": [
    "# Figures.figure_plot_upleft(H2H_SPO_vs_OLS_all*100, regret_reduction_SPO_vs_OLS_all, \"\", size = (5, 5), move = [-0.12, 0.04, 0.35, 0.55], \n",
    "#                     ysame = 0, yrange = [6,6], sublabel = '', ypio = 0)"
   ]
  },
  {
   "cell_type": "code",
   "execution_count": 23,
   "metadata": {},
   "outputs": [],
   "source": [
    "# regret_reduction_SPO_vs_OLS_arr"
   ]
  }
 ],
 "metadata": {
  "kernelspec": {
   "display_name": ".venv",
   "language": "python",
   "name": "python3"
  },
  "language_info": {
   "codemirror_mode": {
    "name": "ipython",
    "version": 3
   },
   "file_extension": ".py",
   "mimetype": "text/x-python",
   "name": "python",
   "nbconvert_exporter": "python",
   "pygments_lexer": "ipython3",
   "version": "3.9.6"
  }
 },
 "nbformat": 4,
 "nbformat_minor": 2
}
