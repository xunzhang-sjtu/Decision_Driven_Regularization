{
 "cells": [
  {
   "cell_type": "code",
   "execution_count": 1,
   "metadata": {},
   "outputs": [],
   "source": [
    "import random\n",
    "import numpy as np\n",
    "import torch\n",
    "import os\n",
    "import pathlib\n",
    "import pickle\n",
    "from gurobipy import *\n",
    "from rsome import ro\n",
    "from rsome import grb_solver as grb\n",
    "import rsome as rso\n",
    "from rsome import cpt_solver as cpt\n",
    "import pandas as pd\n",
    "torch.manual_seed(42)\n",
    "torch.cuda.manual_seed(42)"
   ]
  },
  {
   "cell_type": "code",
   "execution_count": 2,
   "metadata": {},
   "outputs": [],
   "source": [
    "data_generation_process = \"SPO_Data_Generation\"\n",
    "# data_generation_process = \"DDR_Data_Generation\""
   ]
  },
  {
   "cell_type": "markdown",
   "metadata": {},
   "source": [
    "# Parameters"
   ]
  },
  {
   "cell_type": "code",
   "execution_count": null,
   "metadata": {},
   "outputs": [],
   "source": [
    "grid = (2,2) # grid size\n",
    "num_train = 20 # number of training data\n",
    "num_feat = 5 # size of feature\n",
    "num_test = 1000\n",
    "deg = 1.0 # polynomial degree\n",
    "e = 0.5 # scale of normal std or the range of uniform. For the error term\n",
    "\n",
    "lower = 0 # coef lower bound\n",
    "upper = 1 # coef upper bound\n",
    "p = num_feat # num of features\n",
    "d = (grid[0] - 1) * (grid[0] - 1) * 2 + 2 * (grid[0] - 1) # num of arcs\n",
    "num_nodes = grid[0]*grid[0]\n",
    "alpha = e # scale of normal std or the range of uniform. For the error term\n",
    "mis = deg # model misspecification\n",
    "coef_seed = 1\n",
    "\n",
    "x_dist = 'uniform'\n",
    "e_dist = 'normal'\n",
    "x_low = -2\n",
    "x_up = 2\n",
    "x_mean = 2\n",
    "x_var = 2\n",
    "bump = 100"
   ]
  },
  {
   "cell_type": "code",
   "execution_count": 4,
   "metadata": {},
   "outputs": [
    {
     "name": "stdout",
     "output_type": "stream",
     "text": [
      "grandparent_directory: /Users/zhangxun/Dropbox/Research/Decision_Driven_Regularization/Code_MacBook\n",
      "DataPath: /Users/zhangxun/Dropbox/Research/Decision_Driven_Regularization/Data/Shortest_Path_Macbook/2by2_grid_SPO_Data_Generation_exp=1/\n"
     ]
    }
   ],
   "source": [
    "current_directory = os.getcwd()\n",
    "parent_directory = os.path.dirname(current_directory)\n",
    "grandparent_directory = os.path.dirname(parent_directory)\n",
    "DataPath = os.path.dirname(grandparent_directory) + '/Data/Shortest_Path_Macbook/'+str(grid[0])+'by'+str(grid[1])+'_grid_' + data_generation_process + \"_exp=1/\"\n",
    "pathlib.Path(DataPath).mkdir(parents=True, exist_ok=True)\n",
    "print(\"grandparent_directory:\", grandparent_directory)\n",
    "print(\"DataPath:\", DataPath)\n",
    "DataPath = DataPath + \"data_size=\"+str(num_train)+\"_deg=\"+str(deg)+\"_e=\"+str(e)+\"_d=\"+str(d)+\"_x_dist=\"+x_dist+\"_num_test=\"+str(num_test)+\"_diff_W/\"\n",
    "pathlib.Path(DataPath).mkdir(parents=True, exist_ok=True)"
   ]
  },
  {
   "cell_type": "markdown",
   "metadata": {},
   "source": [
    "# Generate Data"
   ]
  },
  {
   "cell_type": "code",
   "execution_count": 5,
   "metadata": {},
   "outputs": [],
   "source": [
    "def Prepare_Data(DataPath,lower, upper, p, d, coef_seed,iteration_all,num_test, num_train, alpha,mis,data_generation_process,x_dist, e_dist, x_low, x_up, x_mean, x_var, bump):\n",
    "# #  ****** Coef generation *********\n",
    "    from Data import data_generation\n",
    "    data_gen = data_generation()\n",
    "    # W_star = data_gen.generate_truth(DataPath,lower, upper, p, d, coef_seed,data_generation_process) \n",
    "    # print(\"W_star = \",W_star[0,:])\n",
    "    np.random.seed(coef_seed)\n",
    "    x_test_all = {}; c_test_all = {}; x_train_all = {}; c_train_all = {}; W_star_all = {}; noise_train_all = {}; noise_test_all = {}\n",
    "    for iter in iteration_all:\n",
    "        DataPath_iter = DataPath +\"iter=\"+str(iter)+\"/\"\n",
    "        pathlib.Path(DataPath_iter).mkdir(parents=True, exist_ok=True)\n",
    "        W_star = data_gen.generate_truth(DataPath_iter,lower, upper, p, d, iter,data_generation_process) \n",
    "        # #  ****** Data generation *********\n",
    "        x_test_all[iter], c_test_all[iter], x_train_all[iter], c_train_all[iter], noise_train_all[iter],noise_test_all[iter],W_star_all[iter] = data_gen.generate_samples(iter,DataPath_iter,p, d, num_test, num_train, alpha, W_star, mis, num_test, \n",
    "                                data_generation_process, x_dist, e_dist, x_low, x_up, x_mean, x_var, bump) \n",
    "        # print()\n",
    "    return x_test_all, c_test_all, x_train_all, c_train_all, noise_train_all,noise_test_all,W_star_all"
   ]
  },
  {
   "cell_type": "markdown",
   "metadata": {},
   "source": [
    "# EPO(SPO+,...)"
   ]
  },
  {
   "cell_type": "code",
   "execution_count": 6,
   "metadata": {},
   "outputs": [],
   "source": [
    "def Implement_EPO(DataPath,iteration_all,batch_size,num_epochs,method_names,W_star_all,bump,x_train_all,c_train_all,x_test_all,noise_test_all,\\\n",
    "                  arcs,grid,epo_runner,perfs):\n",
    "    W_EPO_all = {}; w0_EPO_all = {}\n",
    "    cost_EPO_all = {}\n",
    "    for iter in iteration_all:\n",
    "        DataPath_seed = DataPath +\"iter=\"+str(iter)+\"/\"\n",
    "        pathlib.Path(DataPath_seed).mkdir(parents=True, exist_ok=True)\n",
    "        # print(\"*** seed = \",seed,\": Run EPO ******\")\n",
    "        W_EPO_all[iter],w0_EPO_all[iter] = epo_runner.run(method_names,DataPath_seed,batch_size,num_feat,grid,num_epochs,\\\n",
    "                                        x_train_all[iter],c_train_all[iter],arcs)\n",
    "        \n",
    "        cost_dem = (W_EPO_all[iter] @ x_test_all[iter].T).T + w0_EPO_all[iter]\n",
    "        if data_generation_process == \"SPO_Data_Generation\":\n",
    "            cost_oracle_ori = (W_star_all[iter] @ x_test_all[iter].T)/np.sqrt(num_feat) + 3\n",
    "            cost_oracle_pred = (cost_oracle_ori ** mis + 1).T\n",
    "            cost_EPO_all[iter] = perfs.compute_SPO_out_of_sample_Cost(arcs, grid,cost_dem,cost_oracle_pred,noise_test_all[iter])\n",
    "\n",
    "        if data_generation_process == \"DDR_Data_Generation\":\n",
    "            cost_oracle_ori = (W_star_all[iter] @ x_test_all[iter].T) + bump\n",
    "            cost_oracle_pred = (cost_oracle_ori ** mis).T\n",
    "            cost_EPO_all[iter] = perfs.compute_DDR_out_of_sample_Cost(arcs, grid,cost_dem,cost_oracle_pred,noise_test_all[iter])\n",
    "        print(method_names[0],\": iter=\",iter,\",cost=\",np.nanmean(cost_EPO_all[iter]))\n",
    "\n",
    "    return W_EPO_all,w0_EPO_all,cost_EPO_all"
   ]
  },
  {
   "cell_type": "markdown",
   "metadata": {},
   "source": [
    "# Obtain DDR estimation"
   ]
  },
  {
   "cell_type": "markdown",
   "metadata": {},
   "source": [
    "### define network"
   ]
  },
  {
   "cell_type": "code",
   "execution_count": 7,
   "metadata": {},
   "outputs": [],
   "source": [
    "def _getArcs(grid):\n",
    "    arcs = []\n",
    "    for i in range(grid[0]):\n",
    "        # edges on rows\n",
    "        for j in range(grid[1] - 1):\n",
    "            v = i * grid[1] + j\n",
    "            arcs.append((v, v + 1))\n",
    "        # edges in columns\n",
    "        if i == grid[0] - 1:\n",
    "            continue\n",
    "        for j in range(grid[1]):\n",
    "            v = i * grid[1] + j\n",
    "            arcs.append((v, v + grid[1]))\n",
    "\n",
    "    arc_index_mapping = {}\n",
    "    for i in range(len(arcs)):\n",
    "        arc = arcs[i]\n",
    "        arc_index_mapping[arc] = i\n",
    "\n",
    "    return arcs,arc_index_mapping"
   ]
  },
  {
   "cell_type": "code",
   "execution_count": 8,
   "metadata": {},
   "outputs": [],
   "source": [
    "def solve_DDR(arcs,lamb,mu_fixed,num_nodes,x_train,c_train):\n",
    "    \n",
    "    N,p = x_train.shape\n",
    "    N,d = c_train.shape\n",
    "\n",
    "    # DDR\n",
    "    m = Model(\"ddr\")\n",
    "    #m.setParam(\"DualReductions\",0)\n",
    "    m.setParam('OutputFlag', 0)\n",
    "\n",
    "    W_ind = tuplelist( [(i,j) for i in range(d) for j in range(p)] )\n",
    "    w0_ind = tuplelist( [i for i in range(d)])\n",
    "\n",
    "    W_ddr = m.addVars(W_ind, lb=-GRB.INFINITY,name = \"W\" )\n",
    "    w0_ddr = m.addVars(w0_ind, lb=-GRB.INFINITY,name = \"W0\" )\n",
    "    alpha = m.addVars(N,num_nodes,lb=-GRB.INFINITY,name=\"alpha\")\n",
    "    expr_obj = 0\n",
    "    err = []\n",
    "    for n in range(N):\n",
    "        cost_true_tem = c_train[n]\n",
    "        expr_obj = expr_obj + alpha[n,num_nodes-1] - alpha[n,0]\n",
    "        for ind in range(len(arcs)):\n",
    "            cost_pred_tem = quicksum([W_ddr[ind,j] * x_train[n,j] for j in range(p)]) + w0_ddr[ind]\n",
    "            err.append(cost_true_tem[ind] - cost_pred_tem)\n",
    "            e = arcs[ind]\n",
    "            j = e[1]\n",
    "            i = e[0]\n",
    "            # print(\"j = \",j,\", i = \",i, \", e = \",e)\n",
    "            m.addConstr(alpha[n,j] - alpha[n,i] >= -mu_fixed*cost_true_tem[ind] - (1-mu_fixed)*cost_pred_tem)\n",
    "\n",
    "    m.setObjective(quicksum([err[k] * err[k] for k in range(len(err))])/N + lamb*(expr_obj)/N, GRB.MINIMIZE)\n",
    "    m.optimize()\n",
    "    \n",
    "    W_DDR_rst = m.getAttr('x', W_ddr)\n",
    "    w0_DDR_rst = m.getAttr('x', w0_ddr)\n",
    "    W_ddr_val = []\n",
    "    for i in range(d):\n",
    "        W_ddr_val.append([W_DDR_rst[(i,j)] for j in range(p)])\n",
    "    w0_ddr_val = [w0_DDR_rst[i] for i in range(d)]\n",
    "\n",
    "    alpha_rst = m.getAttr('x', alpha)\n",
    "    return w0_ddr_val,W_ddr_val,alpha_rst,m.ObjVal"
   ]
  },
  {
   "cell_type": "markdown",
   "metadata": {},
   "source": [
    "# Out-of-sample performance"
   ]
  },
  {
   "cell_type": "markdown",
   "metadata": {},
   "source": [
    "### Generate data"
   ]
  },
  {
   "cell_type": "code",
   "execution_count": 9,
   "metadata": {},
   "outputs": [],
   "source": [
    "arcs,arc_index_mapping = _getArcs(grid)\n",
    "num_arcs = len(arcs)\n",
    "iteration_all = np.arange(0,100)\n",
    "# obtain data\n",
    "x_test_all, c_test_all, x_train_all, c_train_all,noise_train_all,noise_test_all,W_star_all = Prepare_Data(DataPath,lower, upper, p, d, coef_seed,iteration_all,num_test, num_train, alpha,mis,data_generation_process,x_dist, e_dist, x_low, x_up, x_mean, x_var, bump)"
   ]
  },
  {
   "cell_type": "markdown",
   "metadata": {},
   "source": [
    "# Oracle"
   ]
  },
  {
   "cell_type": "code",
   "execution_count": 10,
   "metadata": {},
   "outputs": [
    {
     "name": "stdout",
     "output_type": "stream",
     "text": [
      "Set parameter Username\n",
      "Academic license - for non-commercial use only - expires 2026-03-13\n",
      "Oracle: iter= 0 ,cost_avg= 7.521533144601641\n",
      "Oracle: iter= 1 ,cost_avg= 7.444351303669702\n",
      "Oracle: iter= 2 ,cost_avg= 7.904685376020488\n",
      "Oracle: iter= 3 ,cost_avg= 7.422847909366657\n",
      "Oracle: iter= 4 ,cost_avg= 7.4797397249356\n",
      "Oracle: iter= 5 ,cost_avg= 7.708463468108752\n",
      "Oracle: iter= 6 ,cost_avg= 7.585535358324262\n",
      "Oracle: iter= 7 ,cost_avg= 7.678715566938768\n",
      "Oracle: iter= 8 ,cost_avg= 7.306874193445141\n",
      "Oracle: iter= 9 ,cost_avg= 7.704565654312079\n",
      "Oracle: iter= 10 ,cost_avg= 7.680774758369178\n",
      "Oracle: iter= 11 ,cost_avg= 7.758467488868476\n",
      "Oracle: iter= 12 ,cost_avg= 7.587478042334291\n",
      "Oracle: iter= 13 ,cost_avg= 7.841945019306693\n",
      "Oracle: iter= 14 ,cost_avg= 7.4386723902057\n",
      "Oracle: iter= 15 ,cost_avg= 7.685978664595026\n",
      "Oracle: iter= 16 ,cost_avg= 7.564161095966034\n",
      "Oracle: iter= 17 ,cost_avg= 7.5556221044128\n",
      "Oracle: iter= 18 ,cost_avg= 7.778834313987996\n",
      "Oracle: iter= 19 ,cost_avg= 7.546646430119443\n",
      "Oracle: iter= 20 ,cost_avg= 7.663066212658257\n",
      "Oracle: iter= 21 ,cost_avg= 7.7301641763441085\n",
      "Oracle: iter= 22 ,cost_avg= 7.677514036234597\n",
      "Oracle: iter= 23 ,cost_avg= 7.420069136554692\n",
      "Oracle: iter= 24 ,cost_avg= 7.667617508815886\n",
      "Oracle: iter= 25 ,cost_avg= 7.7501395127728845\n",
      "Oracle: iter= 26 ,cost_avg= 7.751604523359409\n",
      "Oracle: iter= 27 ,cost_avg= 7.621989507762629\n",
      "Oracle: iter= 28 ,cost_avg= 7.482112357082923\n",
      "Oracle: iter= 29 ,cost_avg= 7.6785233374553234\n",
      "Oracle: iter= 30 ,cost_avg= 7.614119881601858\n",
      "Oracle: iter= 31 ,cost_avg= 7.493373804468638\n",
      "Oracle: iter= 32 ,cost_avg= 7.686281731625862\n",
      "Oracle: iter= 33 ,cost_avg= 7.647666647937087\n",
      "Oracle: iter= 34 ,cost_avg= 7.352965616584365\n",
      "Oracle: iter= 35 ,cost_avg= 7.625129552783225\n",
      "Oracle: iter= 36 ,cost_avg= 7.3675353609951495\n",
      "Oracle: iter= 37 ,cost_avg= 7.534090859086555\n",
      "Oracle: iter= 38 ,cost_avg= 7.55920780587023\n",
      "Oracle: iter= 39 ,cost_avg= 7.449455562858008\n",
      "Oracle: iter= 40 ,cost_avg= 7.789829327894427\n",
      "Oracle: iter= 41 ,cost_avg= 7.502183324104937\n",
      "Oracle: iter= 42 ,cost_avg= 7.539014509094801\n",
      "Oracle: iter= 43 ,cost_avg= 7.739263182669403\n",
      "Oracle: iter= 44 ,cost_avg= 7.559946250954225\n",
      "Oracle: iter= 45 ,cost_avg= 7.591150348884366\n",
      "Oracle: iter= 46 ,cost_avg= 7.6287409571678415\n",
      "Oracle: iter= 47 ,cost_avg= 7.486653394697294\n",
      "Oracle: iter= 48 ,cost_avg= 7.774100633884567\n",
      "Oracle: iter= 49 ,cost_avg= 7.505775333993015\n",
      "Oracle: iter= 50 ,cost_avg= 7.480908529357417\n",
      "Oracle: iter= 51 ,cost_avg= 7.915358908860144\n",
      "Oracle: iter= 52 ,cost_avg= 7.622058384303693\n",
      "Oracle: iter= 53 ,cost_avg= 7.73553217909669\n",
      "Oracle: iter= 54 ,cost_avg= 7.426707483679019\n",
      "Oracle: iter= 55 ,cost_avg= 7.753904532784607\n",
      "Oracle: iter= 56 ,cost_avg= 7.4953098058726475\n",
      "Oracle: iter= 57 ,cost_avg= 7.714951997180591\n",
      "Oracle: iter= 58 ,cost_avg= 7.8056475564178385\n",
      "Oracle: iter= 59 ,cost_avg= 7.721893679436399\n",
      "Oracle: iter= 60 ,cost_avg= 7.7558519213484525\n",
      "Oracle: iter= 61 ,cost_avg= 7.508295198584368\n",
      "Oracle: iter= 62 ,cost_avg= 7.608199915759448\n",
      "Oracle: iter= 63 ,cost_avg= 7.810977826143133\n",
      "Oracle: iter= 64 ,cost_avg= 7.527425233619138\n",
      "Oracle: iter= 65 ,cost_avg= 7.615858572434697\n",
      "Oracle: iter= 66 ,cost_avg= 7.541177361693475\n",
      "Oracle: iter= 67 ,cost_avg= 7.536564366147501\n",
      "Oracle: iter= 68 ,cost_avg= 7.637895617665968\n",
      "Oracle: iter= 69 ,cost_avg= 7.524582526025897\n",
      "Oracle: iter= 70 ,cost_avg= 7.635624826664578\n",
      "Oracle: iter= 71 ,cost_avg= 7.5144055159878995\n",
      "Oracle: iter= 72 ,cost_avg= 7.486936663678624\n",
      "Oracle: iter= 73 ,cost_avg= 7.583166392717387\n",
      "Oracle: iter= 74 ,cost_avg= 7.7479572956454845\n",
      "Oracle: iter= 75 ,cost_avg= 7.568539684098245\n",
      "Oracle: iter= 76 ,cost_avg= 7.689386683932018\n",
      "Oracle: iter= 77 ,cost_avg= 7.488129359000699\n",
      "Oracle: iter= 78 ,cost_avg= 7.786290024607361\n",
      "Oracle: iter= 79 ,cost_avg= 7.688236380663263\n",
      "Oracle: iter= 80 ,cost_avg= 7.598308272052502\n",
      "Oracle: iter= 81 ,cost_avg= 7.506758585846373\n",
      "Oracle: iter= 82 ,cost_avg= 7.623173621034174\n",
      "Oracle: iter= 83 ,cost_avg= 7.47785593176821\n",
      "Oracle: iter= 84 ,cost_avg= 7.572283933292429\n",
      "Oracle: iter= 85 ,cost_avg= 7.611789036951412\n",
      "Oracle: iter= 86 ,cost_avg= 7.602546188398712\n",
      "Oracle: iter= 87 ,cost_avg= 7.558588766702497\n",
      "Oracle: iter= 88 ,cost_avg= 7.729196057402098\n",
      "Oracle: iter= 89 ,cost_avg= 7.683187634232301\n",
      "Oracle: iter= 90 ,cost_avg= 7.591450203292841\n",
      "Oracle: iter= 91 ,cost_avg= 7.507091622709053\n",
      "Oracle: iter= 92 ,cost_avg= 7.449182598248799\n",
      "Oracle: iter= 93 ,cost_avg= 7.671636202548889\n",
      "Oracle: iter= 94 ,cost_avg= 7.5994292900189775\n",
      "Oracle: iter= 95 ,cost_avg= 7.721748805012968\n",
      "Oracle: iter= 96 ,cost_avg= 7.656324286693422\n",
      "Oracle: iter= 97 ,cost_avg= 7.598159478687291\n",
      "Oracle: iter= 98 ,cost_avg= 7.713923410333331\n",
      "Oracle: iter= 99 ,cost_avg= 7.802996306028023\n"
     ]
    }
   ],
   "source": [
    "from Peformance import performance_evaluation\n",
    "perfs = performance_evaluation()\n",
    "cost_Oracle_para_all = {}; cost_Oracle_para_avg = {}\n",
    "cost_Oracle_realization_all = {}; cost_Oracle_realization_avg = {}\n",
    "\n",
    "for iter in iteration_all:\n",
    "    if data_generation_process == \"SPO_Data_Generation\":\n",
    "        cost_oracle_ori = (W_star_all[iter] @ x_test_all[iter].T)/np.sqrt(num_feat) + 3\n",
    "        cost_oracle_pred = (cost_oracle_ori ** mis + 1).T\n",
    "        cost_Oracle_para_all[iter] = perfs.compute_SPO_out_of_sample_Cost(arcs, grid,cost_oracle_pred,cost_oracle_pred,noise_test_all[iter])\n",
    "\n",
    "    if data_generation_process == \"DDR_Data_Generation\":\n",
    "        cost_oracle_ori = (W_star_all[iter] @ x_test_all[iter].T) + bump\n",
    "        cost_oracle_pred = (cost_oracle_ori ** mis).T\n",
    "        cost_Oracle_para_all[iter] = perfs.compute_DDR_out_of_sample_Cost(arcs, grid,cost_oracle_pred,cost_oracle_pred,noise_test_all[iter])\n",
    "        # cost_Oracle_para_avg[iter] = np.nanmean(cost_Oracle_para_all[iter])\n",
    "    print(\"Oracle: iter=\",iter,\",cost_avg=\",np.nanmean(cost_Oracle_para_all[iter]))"
   ]
  },
  {
   "cell_type": "markdown",
   "metadata": {},
   "source": [
    "### EPO performance"
   ]
  },
  {
   "cell_type": "code",
   "execution_count": 11,
   "metadata": {},
   "outputs": [
    {
     "name": "stdout",
     "output_type": "stream",
     "text": [
      "Optimizing for optDataset...\n"
     ]
    },
    {
     "name": "stderr",
     "output_type": "stream",
     "text": [
      "100%|██████████| 20/20 [00:00<00:00, 5264.60it/s]\n"
     ]
    },
    {
     "name": "stdout",
     "output_type": "stream",
     "text": [
      "Num of cores: 2\n",
      "spo+ : iter= 0 ,cost= 7.774670147437088\n",
      "Optimizing for optDataset...\n"
     ]
    },
    {
     "name": "stderr",
     "output_type": "stream",
     "text": [
      "100%|██████████| 20/20 [00:00<00:00, 4449.72it/s]\n"
     ]
    },
    {
     "name": "stdout",
     "output_type": "stream",
     "text": [
      "Num of cores: 2\n",
      "spo+ : iter= 1 ,cost= 8.00755071592412\n",
      "Optimizing for optDataset...\n"
     ]
    },
    {
     "name": "stderr",
     "output_type": "stream",
     "text": [
      "100%|██████████| 20/20 [00:00<00:00, 3931.67it/s]\n"
     ]
    },
    {
     "name": "stdout",
     "output_type": "stream",
     "text": [
      "Num of cores: 2\n",
      "spo+ : iter= 2 ,cost= 7.957789390307837\n",
      "Optimizing for optDataset...\n"
     ]
    },
    {
     "name": "stderr",
     "output_type": "stream",
     "text": [
      "100%|██████████| 20/20 [00:00<00:00, 6331.02it/s]\n"
     ]
    },
    {
     "name": "stdout",
     "output_type": "stream",
     "text": [
      "Num of cores: 2\n",
      "spo+ : iter= 3 ,cost= 7.859977165182821\n",
      "Optimizing for optDataset...\n"
     ]
    },
    {
     "name": "stderr",
     "output_type": "stream",
     "text": [
      "100%|██████████| 20/20 [00:00<00:00, 3166.95it/s]\n"
     ]
    },
    {
     "name": "stdout",
     "output_type": "stream",
     "text": [
      "Num of cores: 2\n",
      "spo+ : iter= 4 ,cost= 7.9792891153135335\n",
      "Optimizing for optDataset...\n"
     ]
    },
    {
     "name": "stderr",
     "output_type": "stream",
     "text": [
      "100%|██████████| 20/20 [00:00<00:00, 4592.47it/s]\n"
     ]
    },
    {
     "name": "stdout",
     "output_type": "stream",
     "text": [
      "Num of cores: 2\n",
      "spo+ : iter= 5 ,cost= 8.026100257884503\n",
      "Optimizing for optDataset...\n"
     ]
    },
    {
     "name": "stderr",
     "output_type": "stream",
     "text": [
      "100%|██████████| 20/20 [00:00<00:00, 4047.77it/s]\n"
     ]
    },
    {
     "name": "stdout",
     "output_type": "stream",
     "text": [
      "Num of cores: 2\n",
      "spo+ : iter= 6 ,cost= 7.827839730240492\n",
      "Optimizing for optDataset...\n"
     ]
    },
    {
     "name": "stderr",
     "output_type": "stream",
     "text": [
      "100%|██████████| 20/20 [00:00<00:00, 8756.38it/s]\n"
     ]
    },
    {
     "name": "stdout",
     "output_type": "stream",
     "text": [
      "Num of cores: 2\n",
      "spo+ : iter= 7 ,cost= 7.9721286821311965\n",
      "Optimizing for optDataset...\n"
     ]
    },
    {
     "name": "stderr",
     "output_type": "stream",
     "text": [
      "100%|██████████| 20/20 [00:00<00:00, 11428.62it/s]\n"
     ]
    },
    {
     "name": "stdout",
     "output_type": "stream",
     "text": [
      "Num of cores: 2\n",
      "spo+ : iter= 8 ,cost= 7.701286737430002\n",
      "Optimizing for optDataset...\n"
     ]
    },
    {
     "name": "stderr",
     "output_type": "stream",
     "text": [
      "100%|██████████| 20/20 [00:00<00:00, 8616.96it/s]\n"
     ]
    },
    {
     "name": "stdout",
     "output_type": "stream",
     "text": [
      "Num of cores: 2\n",
      "spo+ : iter= 9 ,cost= 7.882309419051704\n",
      "Optimizing for optDataset...\n"
     ]
    },
    {
     "name": "stderr",
     "output_type": "stream",
     "text": [
      "100%|██████████| 20/20 [00:00<00:00, 5080.00it/s]\n"
     ]
    },
    {
     "name": "stdout",
     "output_type": "stream",
     "text": [
      "Num of cores: 2\n",
      "spo+ : iter= 10 ,cost= 7.85119990455231\n",
      "Optimizing for optDataset...\n"
     ]
    },
    {
     "name": "stderr",
     "output_type": "stream",
     "text": [
      "100%|██████████| 20/20 [00:00<00:00, 5592.78it/s]\n"
     ]
    },
    {
     "name": "stdout",
     "output_type": "stream",
     "text": [
      "Num of cores: 2\n",
      "spo+ : iter= 11 ,cost= 8.114658568980667\n",
      "Optimizing for optDataset...\n"
     ]
    },
    {
     "name": "stderr",
     "output_type": "stream",
     "text": [
      "100%|██████████| 20/20 [00:00<00:00, 4872.85it/s]\n"
     ]
    },
    {
     "name": "stdout",
     "output_type": "stream",
     "text": [
      "Num of cores: 2\n",
      "spo+ : iter= 12 ,cost= 7.934087283332359\n",
      "Optimizing for optDataset...\n"
     ]
    },
    {
     "name": "stderr",
     "output_type": "stream",
     "text": [
      "100%|██████████| 20/20 [00:00<00:00, 3724.46it/s]\n"
     ]
    },
    {
     "name": "stdout",
     "output_type": "stream",
     "text": [
      "Num of cores: 2\n",
      "spo+ : iter= 13 ,cost= 8.019849183982954\n",
      "Optimizing for optDataset...\n"
     ]
    },
    {
     "name": "stderr",
     "output_type": "stream",
     "text": [
      "100%|██████████| 20/20 [00:00<00:00, 3868.21it/s]\n"
     ]
    },
    {
     "name": "stdout",
     "output_type": "stream",
     "text": [
      "Num of cores: 2\n",
      "spo+ : iter= 14 ,cost= 7.785333483219887\n",
      "Optimizing for optDataset...\n"
     ]
    },
    {
     "name": "stderr",
     "output_type": "stream",
     "text": [
      "100%|██████████| 20/20 [00:00<00:00, 7619.08it/s]\n"
     ]
    },
    {
     "name": "stdout",
     "output_type": "stream",
     "text": [
      "Num of cores: 2\n",
      "spo+ : iter= 15 ,cost= 8.025643150901557\n",
      "Optimizing for optDataset...\n"
     ]
    },
    {
     "name": "stderr",
     "output_type": "stream",
     "text": [
      "100%|██████████| 20/20 [00:00<00:00, 3373.25it/s]\n"
     ]
    },
    {
     "name": "stdout",
     "output_type": "stream",
     "text": [
      "Num of cores: 2\n",
      "spo+ : iter= 16 ,cost= 8.109086203510879\n",
      "Optimizing for optDataset...\n"
     ]
    },
    {
     "name": "stderr",
     "output_type": "stream",
     "text": [
      "100%|██████████| 20/20 [00:00<00:00, 5948.52it/s]\n"
     ]
    },
    {
     "name": "stdout",
     "output_type": "stream",
     "text": [
      "Num of cores: 2\n",
      "spo+ : iter= 17 ,cost= 8.057171030333748\n",
      "Optimizing for optDataset...\n"
     ]
    },
    {
     "name": "stderr",
     "output_type": "stream",
     "text": [
      "100%|██████████| 20/20 [00:00<00:00, 5248.13it/s]\n"
     ]
    },
    {
     "name": "stdout",
     "output_type": "stream",
     "text": [
      "Num of cores: 2\n",
      "spo+ : iter= 18 ,cost= 7.991937453879505\n",
      "Optimizing for optDataset...\n"
     ]
    },
    {
     "name": "stderr",
     "output_type": "stream",
     "text": [
      "100%|██████████| 20/20 [00:00<00:00, 4467.25it/s]\n"
     ]
    },
    {
     "name": "stdout",
     "output_type": "stream",
     "text": [
      "Num of cores: 2\n",
      "spo+ : iter= 19 ,cost= 8.089275140880517\n",
      "Optimizing for optDataset...\n"
     ]
    },
    {
     "name": "stderr",
     "output_type": "stream",
     "text": [
      "100%|██████████| 20/20 [00:00<00:00, 4966.61it/s]\n"
     ]
    },
    {
     "name": "stdout",
     "output_type": "stream",
     "text": [
      "Num of cores: 2\n",
      "spo+ : iter= 20 ,cost= 8.161748393491019\n",
      "Optimizing for optDataset...\n"
     ]
    },
    {
     "name": "stderr",
     "output_type": "stream",
     "text": [
      "100%|██████████| 20/20 [00:00<00:00, 7761.48it/s]\n"
     ]
    },
    {
     "name": "stdout",
     "output_type": "stream",
     "text": [
      "Num of cores: 2\n",
      "spo+ : iter= 21 ,cost= 8.144203817286922\n",
      "Optimizing for optDataset...\n"
     ]
    },
    {
     "name": "stderr",
     "output_type": "stream",
     "text": [
      "100%|██████████| 20/20 [00:00<00:00, 4022.35it/s]\n"
     ]
    },
    {
     "name": "stdout",
     "output_type": "stream",
     "text": [
      "Num of cores: 2\n",
      "spo+ : iter= 22 ,cost= 8.072761513852823\n",
      "Optimizing for optDataset...\n"
     ]
    },
    {
     "name": "stderr",
     "output_type": "stream",
     "text": [
      "100%|██████████| 20/20 [00:00<00:00, 4088.02it/s]\n"
     ]
    },
    {
     "name": "stdout",
     "output_type": "stream",
     "text": [
      "Num of cores: 2\n",
      "spo+ : iter= 23 ,cost= 7.832421445817102\n",
      "Optimizing for optDataset...\n"
     ]
    },
    {
     "name": "stderr",
     "output_type": "stream",
     "text": [
      "100%|██████████| 20/20 [00:00<00:00, 3446.43it/s]\n"
     ]
    },
    {
     "name": "stdout",
     "output_type": "stream",
     "text": [
      "Num of cores: 2\n",
      "spo+ : iter= 24 ,cost= 7.914568700604109\n",
      "Optimizing for optDataset...\n"
     ]
    },
    {
     "name": "stderr",
     "output_type": "stream",
     "text": [
      "100%|██████████| 20/20 [00:00<00:00, 4395.85it/s]\n"
     ]
    },
    {
     "name": "stdout",
     "output_type": "stream",
     "text": [
      "Num of cores: 2\n",
      "spo+ : iter= 25 ,cost= 8.01170793137136\n",
      "Optimizing for optDataset...\n"
     ]
    },
    {
     "name": "stderr",
     "output_type": "stream",
     "text": [
      "100%|██████████| 20/20 [00:00<00:00, 3882.00it/s]\n"
     ]
    },
    {
     "name": "stdout",
     "output_type": "stream",
     "text": [
      "Num of cores: 2\n",
      "spo+ : iter= 26 ,cost= 8.153134931264677\n",
      "Optimizing for optDataset...\n"
     ]
    },
    {
     "name": "stderr",
     "output_type": "stream",
     "text": [
      "100%|██████████| 20/20 [00:00<00:00, 3243.10it/s]\n"
     ]
    },
    {
     "name": "stdout",
     "output_type": "stream",
     "text": [
      "Num of cores: 2\n",
      "spo+ : iter= 27 ,cost= 7.952231502574993\n",
      "Optimizing for optDataset...\n"
     ]
    },
    {
     "name": "stderr",
     "output_type": "stream",
     "text": [
      "100%|██████████| 20/20 [00:00<00:00, 3491.62it/s]\n"
     ]
    },
    {
     "name": "stdout",
     "output_type": "stream",
     "text": [
      "Num of cores: 2\n",
      "spo+ : iter= 28 ,cost= 7.796221057018874\n",
      "Optimizing for optDataset...\n"
     ]
    },
    {
     "name": "stderr",
     "output_type": "stream",
     "text": [
      "100%|██████████| 20/20 [00:00<00:00, 4583.94it/s]\n"
     ]
    },
    {
     "name": "stdout",
     "output_type": "stream",
     "text": [
      "Num of cores: 2\n",
      "spo+ : iter= 29 ,cost= 7.9051681441361215\n",
      "Optimizing for optDataset...\n"
     ]
    },
    {
     "name": "stderr",
     "output_type": "stream",
     "text": [
      "100%|██████████| 20/20 [00:00<00:00, 4617.75it/s]\n"
     ]
    },
    {
     "name": "stdout",
     "output_type": "stream",
     "text": [
      "Num of cores: 2\n",
      "spo+ : iter= 30 ,cost= 7.894756687303812\n",
      "Optimizing for optDataset...\n"
     ]
    },
    {
     "name": "stderr",
     "output_type": "stream",
     "text": [
      "100%|██████████| 20/20 [00:00<00:00, 3969.62it/s]\n"
     ]
    },
    {
     "name": "stdout",
     "output_type": "stream",
     "text": [
      "Num of cores: 2\n",
      "spo+ : iter= 31 ,cost= 8.081274456065355\n",
      "Optimizing for optDataset...\n"
     ]
    },
    {
     "name": "stderr",
     "output_type": "stream",
     "text": [
      "100%|██████████| 20/20 [00:00<00:00, 4013.50it/s]\n"
     ]
    },
    {
     "name": "stdout",
     "output_type": "stream",
     "text": [
      "Num of cores: 2\n",
      "spo+ : iter= 32 ,cost= 7.929612784077993\n",
      "Optimizing for optDataset...\n"
     ]
    },
    {
     "name": "stderr",
     "output_type": "stream",
     "text": [
      "100%|██████████| 20/20 [00:00<00:00, 4492.13it/s]\n"
     ]
    },
    {
     "name": "stdout",
     "output_type": "stream",
     "text": [
      "Num of cores: 2\n",
      "spo+ : iter= 33 ,cost= 8.087562367103533\n",
      "Optimizing for optDataset...\n"
     ]
    },
    {
     "name": "stderr",
     "output_type": "stream",
     "text": [
      "100%|██████████| 20/20 [00:00<00:00, 5844.91it/s]\n"
     ]
    },
    {
     "name": "stdout",
     "output_type": "stream",
     "text": [
      "Num of cores: 2\n",
      "spo+ : iter= 34 ,cost= 7.72198369959781\n",
      "Optimizing for optDataset...\n"
     ]
    },
    {
     "name": "stderr",
     "output_type": "stream",
     "text": [
      "100%|██████████| 20/20 [00:00<00:00, 7578.47it/s]\n"
     ]
    },
    {
     "name": "stdout",
     "output_type": "stream",
     "text": [
      "Num of cores: 2\n",
      "spo+ : iter= 35 ,cost= 7.937089408964173\n",
      "Optimizing for optDataset...\n"
     ]
    },
    {
     "name": "stderr",
     "output_type": "stream",
     "text": [
      "100%|██████████| 20/20 [00:00<00:00, 7325.66it/s]\n"
     ]
    },
    {
     "name": "stdout",
     "output_type": "stream",
     "text": [
      "Num of cores: 2\n",
      "spo+ : iter= 36 ,cost= 7.807018623373591\n",
      "Optimizing for optDataset...\n"
     ]
    },
    {
     "name": "stderr",
     "output_type": "stream",
     "text": [
      "100%|██████████| 20/20 [00:00<00:00, 3940.72it/s]\n"
     ]
    },
    {
     "name": "stdout",
     "output_type": "stream",
     "text": [
      "Num of cores: 2\n",
      "spo+ : iter= 37 ,cost= 7.954026566018744\n",
      "Optimizing for optDataset...\n"
     ]
    },
    {
     "name": "stderr",
     "output_type": "stream",
     "text": [
      "100%|██████████| 20/20 [00:00<00:00, 7074.81it/s]\n"
     ]
    },
    {
     "name": "stdout",
     "output_type": "stream",
     "text": [
      "Num of cores: 2\n",
      "spo+ : iter= 38 ,cost= 8.075207903550268\n",
      "Optimizing for optDataset...\n"
     ]
    },
    {
     "name": "stderr",
     "output_type": "stream",
     "text": [
      "100%|██████████| 20/20 [00:00<00:00, 4361.12it/s]\n"
     ]
    },
    {
     "name": "stdout",
     "output_type": "stream",
     "text": [
      "Num of cores: 2\n",
      "spo+ : iter= 39 ,cost= 8.033421674210054\n",
      "Optimizing for optDataset...\n"
     ]
    },
    {
     "name": "stderr",
     "output_type": "stream",
     "text": [
      "100%|██████████| 20/20 [00:00<00:00, 5856.33it/s]\n"
     ]
    },
    {
     "name": "stdout",
     "output_type": "stream",
     "text": [
      "Num of cores: 2\n",
      "spo+ : iter= 40 ,cost= 8.094413257795107\n",
      "Optimizing for optDataset...\n"
     ]
    },
    {
     "name": "stderr",
     "output_type": "stream",
     "text": [
      "100%|██████████| 20/20 [00:00<00:00, 5034.27it/s]\n"
     ]
    },
    {
     "name": "stdout",
     "output_type": "stream",
     "text": [
      "Num of cores: 2\n",
      "spo+ : iter= 41 ,cost= 7.8180399384957875\n",
      "Optimizing for optDataset...\n"
     ]
    },
    {
     "name": "stderr",
     "output_type": "stream",
     "text": [
      "100%|██████████| 20/20 [00:00<00:00, 4558.78it/s]\n"
     ]
    },
    {
     "name": "stdout",
     "output_type": "stream",
     "text": [
      "Num of cores: 2\n",
      "spo+ : iter= 42 ,cost= 7.87344937005135\n",
      "Optimizing for optDataset...\n"
     ]
    },
    {
     "name": "stderr",
     "output_type": "stream",
     "text": [
      "100%|██████████| 20/20 [00:00<00:00, 3073.65it/s]\n"
     ]
    },
    {
     "name": "stdout",
     "output_type": "stream",
     "text": [
      "Num of cores: 2\n",
      "spo+ : iter= 43 ,cost= 8.169248406268945\n",
      "Optimizing for optDataset...\n"
     ]
    },
    {
     "name": "stderr",
     "output_type": "stream",
     "text": [
      "100%|██████████| 20/20 [00:00<00:00, 4370.43it/s]\n"
     ]
    },
    {
     "name": "stdout",
     "output_type": "stream",
     "text": [
      "Num of cores: 2\n",
      "spo+ : iter= 44 ,cost= 7.832030749828589\n",
      "Optimizing for optDataset...\n"
     ]
    },
    {
     "name": "stderr",
     "output_type": "stream",
     "text": [
      "100%|██████████| 20/20 [00:00<00:00, 6385.48it/s]\n"
     ]
    },
    {
     "name": "stdout",
     "output_type": "stream",
     "text": [
      "Num of cores: 2\n",
      "spo+ : iter= 45 ,cost= 7.916761659443296\n",
      "Optimizing for optDataset...\n"
     ]
    },
    {
     "name": "stderr",
     "output_type": "stream",
     "text": [
      "100%|██████████| 20/20 [00:00<00:00, 4529.98it/s]\n"
     ]
    },
    {
     "name": "stdout",
     "output_type": "stream",
     "text": [
      "Num of cores: 2\n",
      "spo+ : iter= 46 ,cost= 8.173899112002019\n",
      "Optimizing for optDataset...\n"
     ]
    },
    {
     "name": "stderr",
     "output_type": "stream",
     "text": [
      "100%|██████████| 20/20 [00:00<00:00, 5544.72it/s]\n"
     ]
    },
    {
     "name": "stdout",
     "output_type": "stream",
     "text": [
      "Num of cores: 2\n",
      "spo+ : iter= 47 ,cost= 8.210480768267903\n",
      "Optimizing for optDataset...\n"
     ]
    },
    {
     "name": "stderr",
     "output_type": "stream",
     "text": [
      "100%|██████████| 20/20 [00:00<00:00, 4326.03it/s]\n"
     ]
    },
    {
     "name": "stdout",
     "output_type": "stream",
     "text": [
      "Num of cores: 2\n",
      "spo+ : iter= 48 ,cost= 7.848868550836187\n",
      "Optimizing for optDataset...\n"
     ]
    },
    {
     "name": "stderr",
     "output_type": "stream",
     "text": [
      "100%|██████████| 20/20 [00:00<00:00, 4417.15it/s]\n"
     ]
    },
    {
     "name": "stdout",
     "output_type": "stream",
     "text": [
      "Num of cores: 2\n",
      "spo+ : iter= 49 ,cost= 8.123765012949542\n",
      "Optimizing for optDataset...\n"
     ]
    },
    {
     "name": "stderr",
     "output_type": "stream",
     "text": [
      "100%|██████████| 20/20 [00:00<00:00, 3376.10it/s]\n"
     ]
    },
    {
     "name": "stdout",
     "output_type": "stream",
     "text": [
      "Num of cores: 2\n",
      "spo+ : iter= 50 ,cost= 8.471328640365558\n",
      "Optimizing for optDataset...\n"
     ]
    },
    {
     "name": "stderr",
     "output_type": "stream",
     "text": [
      "100%|██████████| 20/20 [00:00<00:00, 3769.99it/s]\n"
     ]
    },
    {
     "name": "stdout",
     "output_type": "stream",
     "text": [
      "Num of cores: 2\n",
      "spo+ : iter= 51 ,cost= 8.039466539208895\n",
      "Optimizing for optDataset...\n"
     ]
    },
    {
     "name": "stderr",
     "output_type": "stream",
     "text": [
      "100%|██████████| 20/20 [00:00<00:00, 3353.97it/s]\n"
     ]
    },
    {
     "name": "stdout",
     "output_type": "stream",
     "text": [
      "Num of cores: 2\n",
      "spo+ : iter= 52 ,cost= 7.795653417985881\n",
      "Optimizing for optDataset...\n"
     ]
    },
    {
     "name": "stderr",
     "output_type": "stream",
     "text": [
      "100%|██████████| 20/20 [00:00<00:00, 3832.86it/s]\n"
     ]
    },
    {
     "name": "stdout",
     "output_type": "stream",
     "text": [
      "Num of cores: 2\n",
      "spo+ : iter= 53 ,cost= 7.9239345638218746\n",
      "Optimizing for optDataset...\n"
     ]
    },
    {
     "name": "stderr",
     "output_type": "stream",
     "text": [
      "100%|██████████| 20/20 [00:00<00:00, 4758.41it/s]\n"
     ]
    },
    {
     "name": "stdout",
     "output_type": "stream",
     "text": [
      "Num of cores: 2\n",
      "spo+ : iter= 54 ,cost= 8.035731411093582\n",
      "Optimizing for optDataset...\n"
     ]
    },
    {
     "name": "stderr",
     "output_type": "stream",
     "text": [
      "100%|██████████| 20/20 [00:00<00:00, 3873.04it/s]\n"
     ]
    },
    {
     "name": "stdout",
     "output_type": "stream",
     "text": [
      "Num of cores: 2\n",
      "spo+ : iter= 55 ,cost= 8.017340657361713\n",
      "Optimizing for optDataset...\n"
     ]
    },
    {
     "name": "stderr",
     "output_type": "stream",
     "text": [
      "100%|██████████| 20/20 [00:00<00:00, 6679.89it/s]\n"
     ]
    },
    {
     "name": "stdout",
     "output_type": "stream",
     "text": [
      "Num of cores: 2\n",
      "spo+ : iter= 56 ,cost= 8.334302814911045\n",
      "Optimizing for optDataset...\n"
     ]
    },
    {
     "name": "stderr",
     "output_type": "stream",
     "text": [
      "100%|██████████| 20/20 [00:00<00:00, 3469.23it/s]\n"
     ]
    },
    {
     "name": "stdout",
     "output_type": "stream",
     "text": [
      "Num of cores: 2\n",
      "spo+ : iter= 57 ,cost= 8.127666665981527\n",
      "Optimizing for optDataset...\n"
     ]
    },
    {
     "name": "stderr",
     "output_type": "stream",
     "text": [
      "100%|██████████| 20/20 [00:00<00:00, 3996.86it/s]\n"
     ]
    },
    {
     "name": "stdout",
     "output_type": "stream",
     "text": [
      "Num of cores: 2\n",
      "spo+ : iter= 58 ,cost= 8.087614050020708\n",
      "Optimizing for optDataset...\n"
     ]
    },
    {
     "name": "stderr",
     "output_type": "stream",
     "text": [
      "100%|██████████| 20/20 [00:00<00:00, 4576.69it/s]\n"
     ]
    },
    {
     "name": "stdout",
     "output_type": "stream",
     "text": [
      "Num of cores: 2\n",
      "spo+ : iter= 59 ,cost= 7.891947141281688\n",
      "Optimizing for optDataset...\n"
     ]
    },
    {
     "name": "stderr",
     "output_type": "stream",
     "text": [
      "100%|██████████| 20/20 [00:00<00:00, 6317.20it/s]\n"
     ]
    },
    {
     "name": "stdout",
     "output_type": "stream",
     "text": [
      "Num of cores: 2\n",
      "spo+ : iter= 60 ,cost= 8.009258693941183\n",
      "Optimizing for optDataset...\n"
     ]
    },
    {
     "name": "stderr",
     "output_type": "stream",
     "text": [
      "100%|██████████| 20/20 [00:00<00:00, 3927.62it/s]\n"
     ]
    },
    {
     "name": "stdout",
     "output_type": "stream",
     "text": [
      "Num of cores: 2\n",
      "spo+ : iter= 61 ,cost= 7.931760606979459\n",
      "Optimizing for optDataset...\n"
     ]
    },
    {
     "name": "stderr",
     "output_type": "stream",
     "text": [
      "100%|██████████| 20/20 [00:00<00:00, 4365.66it/s]\n"
     ]
    },
    {
     "name": "stdout",
     "output_type": "stream",
     "text": [
      "Num of cores: 2\n",
      "spo+ : iter= 62 ,cost= 7.750568645333084\n",
      "Optimizing for optDataset...\n"
     ]
    },
    {
     "name": "stderr",
     "output_type": "stream",
     "text": [
      "100%|██████████| 20/20 [00:00<00:00, 4765.17it/s]\n"
     ]
    },
    {
     "name": "stdout",
     "output_type": "stream",
     "text": [
      "Num of cores: 2\n",
      "spo+ : iter= 63 ,cost= 8.024340681376463\n",
      "Optimizing for optDataset...\n"
     ]
    },
    {
     "name": "stderr",
     "output_type": "stream",
     "text": [
      "100%|██████████| 20/20 [00:00<00:00, 5550.96it/s]\n"
     ]
    },
    {
     "name": "stdout",
     "output_type": "stream",
     "text": [
      "Num of cores: 2\n",
      "spo+ : iter= 64 ,cost= 8.10386856068208\n",
      "Optimizing for optDataset...\n"
     ]
    },
    {
     "name": "stderr",
     "output_type": "stream",
     "text": [
      "100%|██████████| 20/20 [00:00<00:00, 3435.84it/s]\n"
     ]
    },
    {
     "name": "stdout",
     "output_type": "stream",
     "text": [
      "Num of cores: 2\n",
      "spo+ : iter= 65 ,cost= 7.85260992539223\n",
      "Optimizing for optDataset...\n"
     ]
    },
    {
     "name": "stderr",
     "output_type": "stream",
     "text": [
      "100%|██████████| 20/20 [00:00<00:00, 4172.81it/s]\n"
     ]
    },
    {
     "name": "stdout",
     "output_type": "stream",
     "text": [
      "Num of cores: 2\n",
      "spo+ : iter= 66 ,cost= 8.218384541482497\n",
      "Optimizing for optDataset...\n"
     ]
    },
    {
     "name": "stderr",
     "output_type": "stream",
     "text": [
      "100%|██████████| 20/20 [00:00<00:00, 3793.52it/s]\n"
     ]
    },
    {
     "name": "stdout",
     "output_type": "stream",
     "text": [
      "Num of cores: 2\n",
      "spo+ : iter= 67 ,cost= 8.15437599113042\n",
      "Optimizing for optDataset...\n"
     ]
    },
    {
     "name": "stderr",
     "output_type": "stream",
     "text": [
      "100%|██████████| 20/20 [00:00<00:00, 3764.41it/s]\n"
     ]
    },
    {
     "name": "stdout",
     "output_type": "stream",
     "text": [
      "Num of cores: 2\n",
      "spo+ : iter= 68 ,cost= 8.055287965523908\n",
      "Optimizing for optDataset...\n"
     ]
    },
    {
     "name": "stderr",
     "output_type": "stream",
     "text": [
      "100%|██████████| 20/20 [00:00<00:00, 4449.48it/s]\n"
     ]
    },
    {
     "name": "stdout",
     "output_type": "stream",
     "text": [
      "Num of cores: 2\n",
      "spo+ : iter= 69 ,cost= 8.051803704405577\n",
      "Optimizing for optDataset...\n"
     ]
    },
    {
     "name": "stderr",
     "output_type": "stream",
     "text": [
      "100%|██████████| 20/20 [00:00<00:00, 3871.61it/s]\n"
     ]
    },
    {
     "name": "stdout",
     "output_type": "stream",
     "text": [
      "Num of cores: 2\n",
      "spo+ : iter= 70 ,cost= 8.176182873459359\n",
      "Optimizing for optDataset...\n"
     ]
    },
    {
     "name": "stderr",
     "output_type": "stream",
     "text": [
      "100%|██████████| 20/20 [00:00<00:00, 4306.49it/s]\n"
     ]
    },
    {
     "name": "stdout",
     "output_type": "stream",
     "text": [
      "Num of cores: 2\n",
      "spo+ : iter= 71 ,cost= 7.748325077747764\n",
      "Optimizing for optDataset...\n"
     ]
    },
    {
     "name": "stderr",
     "output_type": "stream",
     "text": [
      "100%|██████████| 20/20 [00:00<00:00, 5622.77it/s]\n"
     ]
    },
    {
     "name": "stdout",
     "output_type": "stream",
     "text": [
      "Num of cores: 2\n",
      "spo+ : iter= 72 ,cost= 7.67819658118072\n",
      "Optimizing for optDataset...\n"
     ]
    },
    {
     "name": "stderr",
     "output_type": "stream",
     "text": [
      "100%|██████████| 20/20 [00:00<00:00, 3837.95it/s]\n"
     ]
    },
    {
     "name": "stdout",
     "output_type": "stream",
     "text": [
      "Num of cores: 2\n",
      "spo+ : iter= 73 ,cost= 7.8742441032058235\n",
      "Optimizing for optDataset...\n"
     ]
    },
    {
     "name": "stderr",
     "output_type": "stream",
     "text": [
      "100%|██████████| 20/20 [00:00<00:00, 5285.49it/s]\n"
     ]
    },
    {
     "name": "stdout",
     "output_type": "stream",
     "text": [
      "Num of cores: 2\n",
      "spo+ : iter= 74 ,cost= 8.296843899816752\n",
      "Optimizing for optDataset...\n"
     ]
    },
    {
     "name": "stderr",
     "output_type": "stream",
     "text": [
      "100%|██████████| 20/20 [00:00<00:00, 6757.38it/s]\n"
     ]
    },
    {
     "name": "stdout",
     "output_type": "stream",
     "text": [
      "Num of cores: 2\n",
      "spo+ : iter= 75 ,cost= 7.856183870997669\n",
      "Optimizing for optDataset...\n"
     ]
    },
    {
     "name": "stderr",
     "output_type": "stream",
     "text": [
      "100%|██████████| 20/20 [00:00<00:00, 3810.23it/s]\n"
     ]
    },
    {
     "name": "stdout",
     "output_type": "stream",
     "text": [
      "Num of cores: 2\n",
      "spo+ : iter= 76 ,cost= 8.246624849906427\n",
      "Optimizing for optDataset...\n"
     ]
    },
    {
     "name": "stderr",
     "output_type": "stream",
     "text": [
      "100%|██████████| 20/20 [00:00<00:00, 4414.82it/s]\n"
     ]
    },
    {
     "name": "stdout",
     "output_type": "stream",
     "text": [
      "Num of cores: 2\n",
      "spo+ : iter= 77 ,cost= 7.688269305716325\n",
      "Optimizing for optDataset...\n"
     ]
    },
    {
     "name": "stderr",
     "output_type": "stream",
     "text": [
      "100%|██████████| 20/20 [00:00<00:00, 4807.50it/s]\n"
     ]
    },
    {
     "name": "stdout",
     "output_type": "stream",
     "text": [
      "Num of cores: 2\n",
      "spo+ : iter= 78 ,cost= 8.226235066417612\n",
      "Optimizing for optDataset...\n"
     ]
    },
    {
     "name": "stderr",
     "output_type": "stream",
     "text": [
      "100%|██████████| 20/20 [00:00<00:00, 4536.34it/s]\n"
     ]
    },
    {
     "name": "stdout",
     "output_type": "stream",
     "text": [
      "Num of cores: 2\n",
      "spo+ : iter= 79 ,cost= 8.392131748420224\n",
      "Optimizing for optDataset...\n"
     ]
    },
    {
     "name": "stderr",
     "output_type": "stream",
     "text": [
      "100%|██████████| 20/20 [00:00<00:00, 6949.39it/s]\n"
     ]
    },
    {
     "name": "stdout",
     "output_type": "stream",
     "text": [
      "Num of cores: 2\n",
      "spo+ : iter= 80 ,cost= 8.012809765392438\n",
      "Optimizing for optDataset...\n"
     ]
    },
    {
     "name": "stderr",
     "output_type": "stream",
     "text": [
      "100%|██████████| 20/20 [00:00<00:00, 3863.94it/s]\n"
     ]
    },
    {
     "name": "stdout",
     "output_type": "stream",
     "text": [
      "Num of cores: 2\n",
      "spo+ : iter= 81 ,cost= 7.846163018722737\n",
      "Optimizing for optDataset...\n"
     ]
    },
    {
     "name": "stderr",
     "output_type": "stream",
     "text": [
      "100%|██████████| 20/20 [00:00<00:00, 5480.60it/s]\n"
     ]
    },
    {
     "name": "stdout",
     "output_type": "stream",
     "text": [
      "Num of cores: 2\n",
      "spo+ : iter= 82 ,cost= 7.97533315039233\n",
      "Optimizing for optDataset...\n"
     ]
    },
    {
     "name": "stderr",
     "output_type": "stream",
     "text": [
      "100%|██████████| 20/20 [00:00<00:00, 4637.15it/s]\n"
     ]
    },
    {
     "name": "stdout",
     "output_type": "stream",
     "text": [
      "Num of cores: 2\n",
      "spo+ : iter= 83 ,cost= 8.159341927440689\n",
      "Optimizing for optDataset...\n"
     ]
    },
    {
     "name": "stderr",
     "output_type": "stream",
     "text": [
      "100%|██████████| 20/20 [00:00<00:00, 3947.21it/s]\n"
     ]
    },
    {
     "name": "stdout",
     "output_type": "stream",
     "text": [
      "Num of cores: 2\n",
      "spo+ : iter= 84 ,cost= 8.009505844028492\n",
      "Optimizing for optDataset...\n"
     ]
    },
    {
     "name": "stderr",
     "output_type": "stream",
     "text": [
      "100%|██████████| 20/20 [00:00<00:00, 5704.21it/s]\n"
     ]
    },
    {
     "name": "stdout",
     "output_type": "stream",
     "text": [
      "Num of cores: 2\n",
      "spo+ : iter= 85 ,cost= 7.911655878885724\n",
      "Optimizing for optDataset...\n"
     ]
    },
    {
     "name": "stderr",
     "output_type": "stream",
     "text": [
      "100%|██████████| 20/20 [00:00<00:00, 4657.49it/s]\n"
     ]
    },
    {
     "name": "stdout",
     "output_type": "stream",
     "text": [
      "Num of cores: 2\n",
      "spo+ : iter= 86 ,cost= 7.914676896172427\n",
      "Optimizing for optDataset...\n"
     ]
    },
    {
     "name": "stderr",
     "output_type": "stream",
     "text": [
      "100%|██████████| 20/20 [00:00<00:00, 3812.31it/s]\n"
     ]
    },
    {
     "name": "stdout",
     "output_type": "stream",
     "text": [
      "Num of cores: 2\n",
      "spo+ : iter= 87 ,cost= 8.196102772363355\n",
      "Optimizing for optDataset...\n"
     ]
    },
    {
     "name": "stderr",
     "output_type": "stream",
     "text": [
      "100%|██████████| 20/20 [00:00<00:00, 5069.56it/s]\n"
     ]
    },
    {
     "name": "stdout",
     "output_type": "stream",
     "text": [
      "Num of cores: 2\n",
      "spo+ : iter= 88 ,cost= 8.106827724818167\n",
      "Optimizing for optDataset...\n"
     ]
    },
    {
     "name": "stderr",
     "output_type": "stream",
     "text": [
      "100%|██████████| 20/20 [00:00<00:00, 3199.44it/s]\n"
     ]
    },
    {
     "name": "stdout",
     "output_type": "stream",
     "text": [
      "Num of cores: 2\n",
      "spo+ : iter= 89 ,cost= 8.15642180895089\n",
      "Optimizing for optDataset...\n"
     ]
    },
    {
     "name": "stderr",
     "output_type": "stream",
     "text": [
      "100%|██████████| 20/20 [00:00<00:00, 4441.47it/s]\n"
     ]
    },
    {
     "name": "stdout",
     "output_type": "stream",
     "text": [
      "Num of cores: 2\n",
      "spo+ : iter= 90 ,cost= 8.151401519535908\n",
      "Optimizing for optDataset...\n"
     ]
    },
    {
     "name": "stderr",
     "output_type": "stream",
     "text": [
      "100%|██████████| 20/20 [00:00<00:00, 5811.70it/s]\n"
     ]
    },
    {
     "name": "stdout",
     "output_type": "stream",
     "text": [
      "Num of cores: 2\n",
      "spo+ : iter= 91 ,cost= 8.096543086890057\n",
      "Optimizing for optDataset...\n"
     ]
    },
    {
     "name": "stderr",
     "output_type": "stream",
     "text": [
      "100%|██████████| 20/20 [00:00<00:00, 3547.88it/s]\n"
     ]
    },
    {
     "name": "stdout",
     "output_type": "stream",
     "text": [
      "Num of cores: 2\n",
      "spo+ : iter= 92 ,cost= 7.946421821805705\n",
      "Optimizing for optDataset...\n"
     ]
    },
    {
     "name": "stderr",
     "output_type": "stream",
     "text": [
      "100%|██████████| 20/20 [00:00<00:00, 8097.11it/s]\n"
     ]
    },
    {
     "name": "stdout",
     "output_type": "stream",
     "text": [
      "Num of cores: 2\n",
      "spo+ : iter= 93 ,cost= 7.888308618709284\n",
      "Optimizing for optDataset...\n"
     ]
    },
    {
     "name": "stderr",
     "output_type": "stream",
     "text": [
      "100%|██████████| 20/20 [00:00<00:00, 2760.50it/s]\n"
     ]
    },
    {
     "name": "stdout",
     "output_type": "stream",
     "text": [
      "Num of cores: 2\n",
      "spo+ : iter= 94 ,cost= 7.870035702365686\n",
      "Optimizing for optDataset...\n"
     ]
    },
    {
     "name": "stderr",
     "output_type": "stream",
     "text": [
      "100%|██████████| 20/20 [00:00<00:00, 4630.75it/s]\n"
     ]
    },
    {
     "name": "stdout",
     "output_type": "stream",
     "text": [
      "Num of cores: 2\n",
      "spo+ : iter= 95 ,cost= 7.950936763954974\n",
      "Optimizing for optDataset...\n"
     ]
    },
    {
     "name": "stderr",
     "output_type": "stream",
     "text": [
      "100%|██████████| 20/20 [00:00<00:00, 4923.47it/s]\n"
     ]
    },
    {
     "name": "stdout",
     "output_type": "stream",
     "text": [
      "Num of cores: 2\n",
      "spo+ : iter= 96 ,cost= 8.13813908416631\n",
      "Optimizing for optDataset...\n"
     ]
    },
    {
     "name": "stderr",
     "output_type": "stream",
     "text": [
      "100%|██████████| 20/20 [00:00<00:00, 4442.41it/s]\n"
     ]
    },
    {
     "name": "stdout",
     "output_type": "stream",
     "text": [
      "Num of cores: 2\n",
      "spo+ : iter= 97 ,cost= 7.886421692709109\n",
      "Optimizing for optDataset...\n"
     ]
    },
    {
     "name": "stderr",
     "output_type": "stream",
     "text": [
      "100%|██████████| 20/20 [00:00<00:00, 4485.41it/s]\n"
     ]
    },
    {
     "name": "stdout",
     "output_type": "stream",
     "text": [
      "Num of cores: 2\n",
      "spo+ : iter= 98 ,cost= 8.00531593982822\n",
      "Optimizing for optDataset...\n"
     ]
    },
    {
     "name": "stderr",
     "output_type": "stream",
     "text": [
      "100%|██████████| 20/20 [00:00<00:00, 5076.31it/s]"
     ]
    },
    {
     "name": "stdout",
     "output_type": "stream",
     "text": [
      "Num of cores: 2\n",
      "spo+ : iter= 99 ,cost= 8.155143011479424\n"
     ]
    },
    {
     "name": "stderr",
     "output_type": "stream",
     "text": [
      "\n"
     ]
    }
   ],
   "source": [
    "# EPO, including SPO, PG, LTR\n",
    "batch_size = 20\n",
    "num_epochs = 1000\n",
    "# method_names = [\"spo+\",\"pg\",\"ltr\"]\n",
    "from PYEPO import PyEPO_Method\n",
    "epo_runner = PyEPO_Method()\n",
    "from Peformance import performance_evaluation\n",
    "perfs = performance_evaluation()\n",
    "\n",
    "method_names = [\"spo+\"]\n",
    "W_SPO_all,w0_SPO_all,cost_SPO_all = Implement_EPO(DataPath,iteration_all,batch_size,num_epochs,method_names,W_star_all,bump,x_train_all,c_train_all,x_test_all,noise_test_all,\\\n",
    "                  arcs,grid,epo_runner,perfs)\n",
    "\n",
    "# method_names = [\"pg\"]\n",
    "# W_PG_all,w0_PG_all,cost_PG_all = Implement_EPO(DataPath,iteration_all,batch_size,num_epochs,method_names,W_star_all,bump,x_train_all,c_train_all,x_test_all,noise_test_all,\\\n",
    "#                   arcs,grid,epo_runner,perfs)\n",
    "\n",
    "# method_names = [\"ltr\"]\n",
    "# W_LTR_all,w0_LTR_all,cost_LTR_all = Implement_EPO(DataPath,iteration_all,batch_size,num_epochs,method_names,W_star_all,bump,x_train_all,c_train_all,x_test_all,noise_test_all,\\\n",
    "#                   arcs,grid,epo_runner,perfs)"
   ]
  },
  {
   "cell_type": "markdown",
   "metadata": {},
   "source": [
    "### OLS performance"
   ]
  },
  {
   "cell_type": "code",
   "execution_count": 12,
   "metadata": {},
   "outputs": [
    {
     "name": "stdout",
     "output_type": "stream",
     "text": [
      "OLS: iter= 0 ,cost_avg ratio = 7.958804923430456\n",
      "OLS: iter= 1 ,cost_avg ratio = 7.612786505154947\n",
      "OLS: iter= 2 ,cost_avg ratio = 7.961706277551044\n",
      "OLS: iter= 3 ,cost_avg ratio = 7.455448650757344\n",
      "OLS: iter= 4 ,cost_avg ratio = 7.845201981348276\n",
      "OLS: iter= 5 ,cost_avg ratio = 7.8411597807195985\n",
      "OLS: iter= 6 ,cost_avg ratio = 7.855571257775871\n",
      "OLS: iter= 7 ,cost_avg ratio = 7.751448852897712\n",
      "OLS: iter= 8 ,cost_avg ratio = 7.390880013886479\n",
      "OLS: iter= 9 ,cost_avg ratio = 7.806347238972399\n",
      "OLS: iter= 10 ,cost_avg ratio = 7.987750762826046\n",
      "OLS: iter= 11 ,cost_avg ratio = 7.777013106930069\n",
      "OLS: iter= 12 ,cost_avg ratio = 7.671721896241327\n",
      "OLS: iter= 13 ,cost_avg ratio = 8.123655724563331\n",
      "OLS: iter= 14 ,cost_avg ratio = 7.484084690672268\n",
      "OLS: iter= 15 ,cost_avg ratio = 7.696447535792969\n",
      "OLS: iter= 16 ,cost_avg ratio = 7.610186067132678\n",
      "OLS: iter= 17 ,cost_avg ratio = 7.859986075794883\n",
      "OLS: iter= 18 ,cost_avg ratio = 7.932924943689716\n",
      "OLS: iter= 19 ,cost_avg ratio = 7.8058178601199835\n",
      "OLS: iter= 20 ,cost_avg ratio = 8.166101411643979\n",
      "OLS: iter= 21 ,cost_avg ratio = 7.839198104746933\n",
      "OLS: iter= 22 ,cost_avg ratio = 7.789793956187218\n",
      "OLS: iter= 23 ,cost_avg ratio = 8.061958040717052\n",
      "OLS: iter= 24 ,cost_avg ratio = 7.825975096777669\n",
      "OLS: iter= 25 ,cost_avg ratio = 7.991204862304499\n",
      "OLS: iter= 26 ,cost_avg ratio = 7.821568888904424\n",
      "OLS: iter= 27 ,cost_avg ratio = 7.8926833507933045\n",
      "OLS: iter= 28 ,cost_avg ratio = 7.623738216537558\n",
      "OLS: iter= 29 ,cost_avg ratio = 7.779616353521482\n",
      "OLS: iter= 30 ,cost_avg ratio = 7.845771813792646\n",
      "OLS: iter= 31 ,cost_avg ratio = 7.5804046033143635\n",
      "OLS: iter= 32 ,cost_avg ratio = 7.908126198070409\n",
      "OLS: iter= 33 ,cost_avg ratio = 7.868107502324814\n",
      "OLS: iter= 34 ,cost_avg ratio = 7.8845817274829315\n",
      "OLS: iter= 35 ,cost_avg ratio = 7.788780959389252\n",
      "OLS: iter= 36 ,cost_avg ratio = 7.4930265714879445\n",
      "OLS: iter= 37 ,cost_avg ratio = 7.55426166349905\n",
      "OLS: iter= 38 ,cost_avg ratio = 7.71025817600442\n",
      "OLS: iter= 39 ,cost_avg ratio = 7.604166739650363\n",
      "OLS: iter= 40 ,cost_avg ratio = 8.0602929487876\n",
      "OLS: iter= 41 ,cost_avg ratio = 7.636794506216814\n",
      "OLS: iter= 42 ,cost_avg ratio = 7.661829487886118\n",
      "OLS: iter= 43 ,cost_avg ratio = 7.798757231919595\n",
      "OLS: iter= 44 ,cost_avg ratio = 7.642086290239872\n",
      "OLS: iter= 45 ,cost_avg ratio = 7.685914392223815\n",
      "OLS: iter= 46 ,cost_avg ratio = 7.960333438075255\n",
      "OLS: iter= 47 ,cost_avg ratio = 7.760955907052212\n",
      "OLS: iter= 48 ,cost_avg ratio = 7.816044171068\n",
      "OLS: iter= 49 ,cost_avg ratio = 7.856590012777162\n",
      "OLS: iter= 50 ,cost_avg ratio = 7.564882637299923\n",
      "OLS: iter= 51 ,cost_avg ratio = 8.028652544365166\n",
      "OLS: iter= 52 ,cost_avg ratio = 7.817001273836036\n",
      "OLS: iter= 53 ,cost_avg ratio = 7.782012707514021\n",
      "OLS: iter= 54 ,cost_avg ratio = 7.596052698472222\n",
      "OLS: iter= 55 ,cost_avg ratio = 7.894913204798574\n",
      "OLS: iter= 56 ,cost_avg ratio = 7.565799312592386\n",
      "OLS: iter= 57 ,cost_avg ratio = 7.993260883723106\n",
      "OLS: iter= 58 ,cost_avg ratio = 7.872280719896325\n",
      "OLS: iter= 59 ,cost_avg ratio = 7.780409440477084\n",
      "OLS: iter= 60 ,cost_avg ratio = 7.860889010414242\n",
      "OLS: iter= 61 ,cost_avg ratio = 7.711647228465973\n",
      "OLS: iter= 62 ,cost_avg ratio = 7.794751575813953\n",
      "OLS: iter= 63 ,cost_avg ratio = 7.909364550705142\n",
      "OLS: iter= 64 ,cost_avg ratio = 7.799232623131211\n",
      "OLS: iter= 65 ,cost_avg ratio = 7.6459414071544805\n",
      "OLS: iter= 66 ,cost_avg ratio = 8.188876147448571\n",
      "OLS: iter= 67 ,cost_avg ratio = 7.703523204883657\n",
      "OLS: iter= 68 ,cost_avg ratio = 7.683617956559199\n",
      "OLS: iter= 69 ,cost_avg ratio = 7.583578073708092\n",
      "OLS: iter= 70 ,cost_avg ratio = 7.777420476882064\n",
      "OLS: iter= 71 ,cost_avg ratio = 7.73615973708106\n",
      "OLS: iter= 72 ,cost_avg ratio = 7.712271576682229\n",
      "OLS: iter= 73 ,cost_avg ratio = 7.843368037198026\n",
      "OLS: iter= 74 ,cost_avg ratio = 7.804914396491031\n",
      "OLS: iter= 75 ,cost_avg ratio = 7.913813156052953\n",
      "OLS: iter= 76 ,cost_avg ratio = 7.9388059086552385\n",
      "OLS: iter= 77 ,cost_avg ratio = 7.5095714814711565\n",
      "OLS: iter= 78 ,cost_avg ratio = 7.981303625637578\n",
      "OLS: iter= 79 ,cost_avg ratio = 7.759550073145903\n",
      "OLS: iter= 80 ,cost_avg ratio = 7.715253015611526\n",
      "OLS: iter= 81 ,cost_avg ratio = 7.5663362975403095\n",
      "OLS: iter= 82 ,cost_avg ratio = 7.945442442171592\n",
      "OLS: iter= 83 ,cost_avg ratio = 7.537920725856095\n",
      "OLS: iter= 84 ,cost_avg ratio = 7.61521906044811\n",
      "OLS: iter= 85 ,cost_avg ratio = 7.683938904417718\n",
      "OLS: iter= 86 ,cost_avg ratio = 7.872957099046946\n",
      "OLS: iter= 87 ,cost_avg ratio = 7.873748968922877\n",
      "OLS: iter= 88 ,cost_avg ratio = 7.831252481569824\n",
      "OLS: iter= 89 ,cost_avg ratio = 7.805032466454629\n",
      "OLS: iter= 90 ,cost_avg ratio = 7.628839682235803\n",
      "OLS: iter= 91 ,cost_avg ratio = 7.6092806079719395\n",
      "OLS: iter= 92 ,cost_avg ratio = 7.532995622239144\n",
      "OLS: iter= 93 ,cost_avg ratio = 7.7777925205030005\n",
      "OLS: iter= 94 ,cost_avg ratio = 7.974314790063134\n",
      "OLS: iter= 95 ,cost_avg ratio = 7.796329968812519\n",
      "OLS: iter= 96 ,cost_avg ratio = 7.951406245847141\n",
      "OLS: iter= 97 ,cost_avg ratio = 7.672579545929488\n",
      "OLS: iter= 98 ,cost_avg ratio = 7.9412487138467664\n",
      "OLS: iter= 99 ,cost_avg ratio = 7.904813313912399\n"
     ]
    }
   ],
   "source": [
    "from OLS import ols_method\n",
    "ols_method_obj = ols_method()\n",
    "W_ols_all = {}; w0_ols_all = {}; t_ols_all = {}; obj_ols_all = {}\n",
    "cost_OLS_all = {}\n",
    "for iter in iteration_all:\n",
    "    # compute OLS performance\n",
    "    W_ols_all[iter], w0_ols_all[iter], t_ols_all[iter], obj_ols_all[iter] = ols_method_obj.ols_solver(\"\",x_train_all[iter], c_train_all[iter])\n",
    "    cost_dem = (W_ols_all[iter] @ x_test_all[iter].T).T + w0_ols_all[iter]\n",
    "\n",
    "    if data_generation_process == \"SPO_Data_Generation\":\n",
    "        cost_oracle_ori = (W_star_all[iter] @ x_test_all[iter].T)/np.sqrt(num_feat) + 3\n",
    "        cost_oracle_pred = (cost_oracle_ori ** mis + 1).T\n",
    "        cost_OLS_all[iter] = perfs.compute_SPO_out_of_sample_Cost(arcs, grid,cost_dem,cost_oracle_pred,noise_test_all[iter])\n",
    "\n",
    "    if data_generation_process == \"DDR_Data_Generation\":\n",
    "        cost_oracle_ori = (W_star_all[iter] @ x_test_all[iter].T) + bump\n",
    "        cost_oracle_pred = (cost_oracle_ori ** mis).T\n",
    "        cost_OLS_all[iter] = perfs.compute_DDR_out_of_sample_Cost(arcs, grid,cost_dem,cost_oracle_pred,noise_test_all[iter])\n",
    "    print(\"OLS: iter=\",iter,\",cost_avg ratio =\",np.nanmean(cost_OLS_all[iter]))"
   ]
  },
  {
   "cell_type": "markdown",
   "metadata": {},
   "source": [
    "### DDR performance"
   ]
  },
  {
   "cell_type": "code",
   "execution_count": 13,
   "metadata": {},
   "outputs": [],
   "source": [
    "def obtain_DDR_out_of_sample_performance(mu_all,lamb_all,num_nodes,x_train,c_train,x_test,noise_test,perfs,grid,W_star,bump,mis):\n",
    "    lamb_index = 0\n",
    "    cost_DDR = {}; w0_ddr_dict = {}; W_ddr_dict = {}\n",
    "    cost_DDR_avg = np.zeros((len(mu_all),len(lamb_all)))\n",
    "    mu_index = 0\n",
    "    for mu in mu_all:\n",
    "        lamb_index = 0\n",
    "        for lamb in lamb_all:\n",
    "\n",
    "            w0_ddr_dict[mu,lamb],W_ddr_dict[mu,lamb],alpha_rst,obj_ddr = solve_DDR(arcs,lamb,mu,num_nodes,x_train,c_train)\n",
    "            cost_dem = (W_ddr_dict[mu,lamb] @ x_test.T).T + w0_ddr_dict[mu,lamb]\n",
    "\n",
    "            if data_generation_process == \"SPO_Data_Generation\":\n",
    "                cost_oracle_ori = (W_star @ x_test.T)/np.sqrt(num_feat) + 3\n",
    "                cost_oracle_pred = (cost_oracle_ori ** mis + 1).T\n",
    "                cost_DDR[mu,lamb] = perfs.compute_SPO_out_of_sample_Cost(arcs, grid,cost_dem,cost_oracle_pred,noise_test)\n",
    "\n",
    "            if data_generation_process == \"DDR_Data_Generation\":\n",
    "                cost_oracle_ori = (W_star @ x_test.T) + bump\n",
    "                cost_oracle_pred = (cost_oracle_ori ** mis).T\n",
    "                cost_DDR[mu,lamb] = perfs.compute_DDR_out_of_sample_Cost(arcs, grid,cost_dem,cost_oracle_pred,noise_test)\n",
    "\n",
    "            cost_DDR_avg[mu_index,lamb_index] = np.nanmean(cost_DDR[mu,lamb])\n",
    "            lamb_index = lamb_index + 1\n",
    "        # print(\"cost_DDR_avg=\",np.round(cost_DDR_avg[0,:],4))\n",
    "        mu_index = mu_index + 1\n",
    "    return cost_DDR,w0_ddr_dict,W_ddr_dict,cost_DDR_avg"
   ]
  },
  {
   "cell_type": "code",
   "execution_count": 14,
   "metadata": {},
   "outputs": [],
   "source": [
    "def obtain_ddr_rst(iteration_all,mu_all,lamb_all,num_nodes,x_train_all,c_train_all,x_test_all,noise_test_all,perfs,grid,W_star_all,bump,mis):\n",
    "    cost_DDR_all = {}; w0_ddr_all = {}; W_ddr_all = {}\n",
    "    cost_DDR_avg_all = {}\n",
    "    for iter in iteration_all:\n",
    "        cost_DDR_all[iter],w0_ddr_all[iter],W_ddr_all[iter],cost_DDR_avg_all[iter] = obtain_DDR_out_of_sample_performance(mu_all,lamb_all,num_nodes,x_train_all[iter],c_train_all[iter],x_test_all[iter],noise_test_all[iter],perfs,grid,W_star_all[iter],bump,mis)\n",
    "        print(\"DDR iter = \",iter)\n",
    "    return cost_DDR_all,w0_ddr_all,W_ddr_all,cost_DDR_avg_all"
   ]
  },
  {
   "cell_type": "code",
   "execution_count": 15,
   "metadata": {},
   "outputs": [
    {
     "name": "stdout",
     "output_type": "stream",
     "text": [
      "DDR iter =  0\n",
      "DDR iter =  1\n",
      "DDR iter =  2\n",
      "DDR iter =  3\n",
      "DDR iter =  4\n",
      "DDR iter =  5\n",
      "DDR iter =  6\n",
      "DDR iter =  7\n",
      "DDR iter =  8\n",
      "DDR iter =  9\n",
      "DDR iter =  10\n",
      "DDR iter =  11\n",
      "DDR iter =  12\n",
      "DDR iter =  13\n",
      "DDR iter =  14\n",
      "DDR iter =  15\n",
      "DDR iter =  16\n",
      "DDR iter =  17\n",
      "DDR iter =  18\n",
      "DDR iter =  19\n",
      "DDR iter =  20\n",
      "DDR iter =  21\n",
      "DDR iter =  22\n",
      "DDR iter =  23\n",
      "DDR iter =  24\n",
      "DDR iter =  25\n",
      "DDR iter =  26\n",
      "DDR iter =  27\n",
      "DDR iter =  28\n",
      "DDR iter =  29\n",
      "DDR iter =  30\n",
      "DDR iter =  31\n",
      "DDR iter =  32\n",
      "DDR iter =  33\n",
      "DDR iter =  34\n",
      "DDR iter =  35\n",
      "DDR iter =  36\n",
      "DDR iter =  37\n",
      "DDR iter =  38\n",
      "DDR iter =  39\n",
      "DDR iter =  40\n",
      "DDR iter =  41\n",
      "DDR iter =  42\n",
      "DDR iter =  43\n",
      "DDR iter =  44\n",
      "DDR iter =  45\n",
      "DDR iter =  46\n",
      "DDR iter =  47\n",
      "DDR iter =  48\n",
      "DDR iter =  49\n",
      "DDR iter =  50\n",
      "DDR iter =  51\n",
      "DDR iter =  52\n",
      "DDR iter =  53\n",
      "DDR iter =  54\n",
      "DDR iter =  55\n",
      "DDR iter =  56\n",
      "DDR iter =  57\n",
      "DDR iter =  58\n",
      "DDR iter =  59\n",
      "DDR iter =  60\n",
      "DDR iter =  61\n",
      "DDR iter =  62\n",
      "DDR iter =  63\n",
      "DDR iter =  64\n",
      "DDR iter =  65\n",
      "DDR iter =  66\n",
      "DDR iter =  67\n",
      "DDR iter =  68\n",
      "DDR iter =  69\n",
      "DDR iter =  70\n",
      "DDR iter =  71\n",
      "DDR iter =  72\n",
      "DDR iter =  73\n",
      "DDR iter =  74\n",
      "DDR iter =  75\n",
      "DDR iter =  76\n",
      "DDR iter =  77\n",
      "DDR iter =  78\n",
      "DDR iter =  79\n",
      "DDR iter =  80\n",
      "DDR iter =  81\n",
      "DDR iter =  82\n",
      "DDR iter =  83\n",
      "DDR iter =  84\n",
      "DDR iter =  85\n",
      "DDR iter =  86\n",
      "DDR iter =  87\n",
      "DDR iter =  88\n",
      "DDR iter =  89\n",
      "DDR iter =  90\n",
      "DDR iter =  91\n",
      "DDR iter =  92\n",
      "DDR iter =  93\n",
      "DDR iter =  94\n",
      "DDR iter =  95\n",
      "DDR iter =  96\n",
      "DDR iter =  97\n",
      "DDR iter =  98\n",
      "DDR iter =  99\n"
     ]
    }
   ],
   "source": [
    "mu_all = np.round(np.arange(0.1,1.0,0.1),4)\n",
    "lamb_all = np.round(np.arange(0.0,1.0,0.1),4)\n",
    "cost_DDR_all,w0_ddr_all,W_ddr_all,cost_DDR_avg_all = obtain_ddr_rst(iteration_all,mu_all,lamb_all,num_nodes,x_train_all,c_train_all,x_test_all,noise_test_all,perfs,grid,W_star_all,bump,mis)"
   ]
  },
  {
   "cell_type": "code",
   "execution_count": 16,
   "metadata": {},
   "outputs": [],
   "source": [
    "regret_ddr_vs_ols_para_all = {}; regret_ddr_vs_ols_para_avg = np.zeros((len(mu_all),len(lamb_all)))\n",
    "\n",
    "regret_spo_vs_ols_para_all = {}; regret_spo_vs_ols_para_avg = 0\n",
    "\n",
    "\n",
    "cost_OLS_avg_all = np.zeros(len(iteration_all))\n",
    "cost_Oracle_para_avg_all = np.zeros(len(iteration_all))\n",
    "cost_Oracle_realization_avg_all = np.zeros(len(iteration_all))\n",
    "\n",
    "for iter_index in range(len(iteration_all)):\n",
    "    iter = iteration_all[iter_index]\n",
    "    cost_OLS_avg_all[iter_index] = np.nanmean(cost_OLS_all[iter])\n",
    "    cost_Oracle_para_avg_all[iter_index] = np.nanmean(cost_Oracle_para_all[iter])\n",
    "\n",
    "    regret_ddr_vs_ols_para_all[iter_index] = (cost_OLS_avg_all[iter_index] - cost_DDR_avg_all[iter])/np.abs(cost_OLS_avg_all[iter_index] - cost_Oracle_para_avg_all[iter_index])\n",
    "    regret_ddr_vs_ols_para_avg = regret_ddr_vs_ols_para_avg + regret_ddr_vs_ols_para_all[iter_index]\n",
    "\n",
    "    regret_spo_vs_ols_para_all[iter] = (cost_OLS_avg_all[iter_index] - np.nanmean(cost_SPO_all[iter]))/np.abs(cost_OLS_avg_all[iter_index] - cost_Oracle_para_avg_all[iter_index])\n",
    "    regret_spo_vs_ols_para_avg = regret_spo_vs_ols_para_avg + regret_spo_vs_ols_para_all[iter]\n",
    "\n",
    "regret_ddr_vs_ols_para_avg = regret_ddr_vs_ols_para_avg/len(iteration_all)\n",
    "regret_spo_vs_ols_para_avg = regret_spo_vs_ols_para_avg/len(iteration_all)\n",
    "\n",
    "regret_DDR_vs_OLS_para_avg_df = pd.DataFrame(regret_ddr_vs_ols_para_avg)\n",
    "regret_DDR_vs_OLS_para_avg_df.index = [\"$\\mu=\"+str(mu)+\"$\" for mu in mu_all]\n",
    "regret_DDR_vs_OLS_para_avg_df.columns = [\"$\\lambda=\"+str(lamb)+\"$\" for lamb in lamb_all]\n",
    "regret_DDR_vs_OLS_para_avg_df.to_csv(DataPath+\"regret_DDR_vs_OLS_para_avg.csv\")"
   ]
  },
  {
   "cell_type": "code",
   "execution_count": 17,
   "metadata": {},
   "outputs": [
    {
     "data": {
      "text/plain": [
       "array([7.95880492, 7.61278651, 7.96170628, 7.45544865, 7.84520198,\n",
       "       7.84115978, 7.85557126, 7.75144885, 7.39088001, 7.80634724,\n",
       "       7.98775076, 7.77701311, 7.6717219 , 8.12365572, 7.48408469,\n",
       "       7.69644754, 7.61018607, 7.85998608, 7.93292494, 7.80581786,\n",
       "       8.16610141, 7.8391981 , 7.78979396, 8.06195804, 7.8259751 ,\n",
       "       7.99120486, 7.82156889, 7.89268335, 7.62373822, 7.77961635,\n",
       "       7.84577181, 7.5804046 , 7.9081262 , 7.8681075 , 7.88458173,\n",
       "       7.78878096, 7.49302657, 7.55426166, 7.71025818, 7.60416674,\n",
       "       8.06029295, 7.63679451, 7.66182949, 7.79875723, 7.64208629,\n",
       "       7.68591439, 7.96033344, 7.76095591, 7.81604417, 7.85659001,\n",
       "       7.56488264, 8.02865254, 7.81700127, 7.78201271, 7.5960527 ,\n",
       "       7.8949132 , 7.56579931, 7.99326088, 7.87228072, 7.78040944,\n",
       "       7.86088901, 7.71164723, 7.79475158, 7.90936455, 7.79923262,\n",
       "       7.64594141, 8.18887615, 7.7035232 , 7.68361796, 7.58357807,\n",
       "       7.77742048, 7.73615974, 7.71227158, 7.84336804, 7.8049144 ,\n",
       "       7.91381316, 7.93880591, 7.50957148, 7.98130363, 7.75955007,\n",
       "       7.71525302, 7.5663363 , 7.94544244, 7.53792073, 7.61521906,\n",
       "       7.6839389 , 7.8729571 , 7.87374897, 7.83125248, 7.80503247,\n",
       "       7.62883968, 7.60928061, 7.53299562, 7.77779252, 7.97431479,\n",
       "       7.79632997, 7.95140625, 7.67257955, 7.94124871, 7.90481331])"
      ]
     },
     "execution_count": 17,
     "metadata": {},
     "output_type": "execute_result"
    }
   ],
   "source": [
    "cost_OLS_avg_all"
   ]
  },
  {
   "cell_type": "code",
   "execution_count": 18,
   "metadata": {},
   "outputs": [],
   "source": [
    "with open(DataPath+'cost_OLS_all.pkl', \"wb\") as tf:\n",
    "    pickle.dump(cost_OLS_all,tf)\n",
    "with open(DataPath+'cost_Oracle_para_all.pkl', \"wb\") as tf:\n",
    "    pickle.dump(cost_Oracle_para_all,tf)\n",
    "with open(DataPath+'cost_DDR_all.pkl', \"wb\") as tf:\n",
    "    pickle.dump(cost_DDR_all,tf)\n",
    "with open(DataPath+'cost_SPO_all.pkl', \"wb\") as tf:\n",
    "    pickle.dump(cost_SPO_all,tf)"
   ]
  },
  {
   "cell_type": "markdown",
   "metadata": {},
   "source": [
    "# Plot figures"
   ]
  },
  {
   "cell_type": "code",
   "execution_count": 19,
   "metadata": {},
   "outputs": [],
   "source": [
    "def cross_compare2plus(c_item, c_base, c_oracle):\n",
    "    c_item = np.asarray(c_item)\n",
    "    c_base = np.asarray(c_base)\n",
    "    c_oracle = np.asarray(c_oracle)\n",
    "\n",
    "    N = len(c_item)\n",
    "    c_diff = c_item - c_base\n",
    "    lbel = np.zeros((N,1))\n",
    "    \n",
    "    equals = np.sum(c_diff == 0)\n",
    "    wins = np.sum(c_diff < 0)\n",
    "    lose = np.sum(c_diff > 0)\n",
    "    \n",
    "    lbel[c_diff < 0] = 1\n",
    "    lbel[c_diff > 0] = -1\n",
    "    \n",
    "    # print(\"Num_train =\",N,\",Num_equals =\",equals,\",Num_wins =\",wins,\",Num_lose =\",lose)\n",
    "    # print(\"base cost = \", np.mean(c_base),\",item cost = \",np.mean(c_item))\n",
    "    if N == equals:\n",
    "        win_ratio = 0.5\n",
    "    else:\n",
    "        win_ratio = wins/(N - equals)\n",
    "    # cost_reduction = (np.mean(c_base) - np.mean(c_item) )/np.abs(np.mean(c_oracle))\n",
    "    regret_reduction = (np.nanmean(c_base) - np.nanmean(c_item))/np.abs(np.nanmean(c_base) - np.nanmean(c_oracle))\n",
    "    return lbel, win_ratio, regret_reduction"
   ]
  },
  {
   "cell_type": "markdown",
   "metadata": {},
   "source": [
    "### DDR figure"
   ]
  },
  {
   "cell_type": "code",
   "execution_count": 20,
   "metadata": {},
   "outputs": [],
   "source": [
    "# H2H_DDR_vs_OLS_all = {}; regret_reduction_DDR_vs_OLS_all = {}\n",
    "# for mu in mu_all:\n",
    "#     for lamb in lamb_all:\n",
    "#         H2H_DDR_vs_OLS_arr = np.zeros(len(iteration_all)); regret_reduction_DDR_vs_OLS_arr = np.zeros(len(iteration_all))\n",
    "#         # print(\"lamb = \",lamb)\n",
    "#         iter_index = 0\n",
    "#         for iter in iteration_all:\n",
    "#             lbel, H2H_DDR_vs_OLS_arr[iter_index], regret_reduction_DDR_vs_OLS_arr[iter_index] = cross_compare2plus(cost_DDR_all[iter][mu,lamb],cost_OLS_all[iter], cost_Oracle_para_avg_all[iter])\n",
    "#             iter_index = iter_index + 1\n",
    "#         H2H_DDR_vs_OLS_all[mu,lamb] = H2H_DDR_vs_OLS_arr; regret_reduction_DDR_vs_OLS_all[mu,lamb] = regret_reduction_DDR_vs_OLS_arr"
   ]
  },
  {
   "cell_type": "code",
   "execution_count": 21,
   "metadata": {},
   "outputs": [],
   "source": [
    "# mu = mu_all[4]\n",
    "# lamb = lamb_all[6]\n",
    "# import Figures\n",
    "# file_name = DataPath + \"figure_mu=\"+str(mu)+\"_lamb=\"+str(lamb)\n",
    "# Figures.figure_plot_upleft(H2H_DDR_vs_OLS_all[mu,lamb]*100, regret_reduction_DDR_vs_OLS_all[mu,lamb]*100, file_name, size = (5, 5), move = [-0.12, 0.04, 0.35, 0.55], \n",
    "#                     ysame = 0, yrange = [6,6], sublabel = '', ypio = 1)"
   ]
  },
  {
   "cell_type": "markdown",
   "metadata": {},
   "source": [
    "### SPO figure"
   ]
  },
  {
   "cell_type": "code",
   "execution_count": 22,
   "metadata": {},
   "outputs": [],
   "source": [
    "H2H_SPO_vs_OLS_all = np.zeros(len(iteration_all)); regret_reduction_SPO_vs_OLS_all = np.zeros(len(iteration_all))\n",
    "iter_index = 0\n",
    "for iter in iteration_all:\n",
    "    # regret_SPO_OLS = (np.nanmean(cost_OLS_all[iter]) - np.nanmean(cost_SPO_all[iter]))/np.abs(np.nanmean(cost_OLS_all[iter_index]) - np.nanmean(cost_Oracle_para_all[iter]))\n",
    "    # print(\"iter=\",iter,\",SPO cost Ratio = \",np.nanmean(cost_SPO_all[iter])/np.nanmean(cost_Oracle_para_all[iter]),\",regret=\",regret_SPO_OLS)\n",
    "    lbel, H2H_SPO_vs_OLS_all[iter_index], regret_reduction_SPO_vs_OLS_all[iter_index] = cross_compare2plus(cost_SPO_all[iter],cost_OLS_all[iter], cost_Oracle_para_avg_all[iter])\n",
    "    iter_index = iter_index + 1"
   ]
  },
  {
   "cell_type": "code",
   "execution_count": 23,
   "metadata": {},
   "outputs": [
    {
     "name": "stdout",
     "output_type": "stream",
     "text": [
      "/Users/zhangxun/Dropbox/Research/Decision_Driven_Regularization/Data/Shortest_Path_Macbook/2by2_grid_SPO_Data_Generation_exp=1/data_size=20_deg=1.0_e=0.5_d=4_x_dist=uniform_num_test=1000_diff_W/regret_SPO_vs_OLS_SPO_Data_Generation_grid_2by2.pdf\n"
     ]
    },
    {
     "data": {
      "image/png": "[encoded data removed]",
      "text/plain": [
       "<Figure size 500x500 with 3 Axes>"
      ]
     },
     "metadata": {},
     "output_type": "display_data"
    }
   ],
   "source": [
    "import Figures\n",
    "file_name = DataPath+\"regret_SPO_vs_OLS_\"+data_generation_process+\"_grid_\"+str(grid[0])+\"by\"+str(grid[1])\n",
    "Figures.figure_plot_upleft(H2H_SPO_vs_OLS_all*100, regret_reduction_SPO_vs_OLS_all*100, file_name, size = (5, 5), move = [-0.12, 0.04, 0.35, 0.55], \n",
    "                    ysame = 0, yrange = [6,6], sublabel = '', ypio = 1)"
   ]
  },
  {
   "cell_type": "code",
   "execution_count": 24,
   "metadata": {},
   "outputs": [],
   "source": [
    "# regret_reduction_SPO_vs_OLS_arr"
   ]
  },
  {
   "cell_type": "code",
   "execution_count": 25,
   "metadata": {},
   "outputs": [],
   "source": [
    "cost_avg_ddr_ratio = np.zeros((len(mu_all),len(lamb_all)))\n",
    "for iter in iteration_all:\n",
    "    cost_avg_ddr_ratio += cost_DDR_avg_all[iter]/cost_OLS_avg_all[iter]\n",
    "cost_avg_ddr_ratio = cost_avg_ddr_ratio/len(iteration_all)"
   ]
  },
  {
   "cell_type": "code",
   "execution_count": 26,
   "metadata": {},
   "outputs": [
    {
     "data": {
      "text/plain": [
       "array([[ 0.    ,  0.0031,  0.013 ,  0.0215,  0.0294,  0.0394,  0.0598,\n",
       "         0.0775,  0.0941,  0.1043],\n",
       "       [ 0.    ,  0.0071,  0.0187,  0.0245,  0.0399,  0.0527,  0.0662,\n",
       "         0.0732,  0.0774,  0.0905],\n",
       "       [ 0.    ,  0.0017,  0.0101,  0.0166,  0.025 ,  0.0363,  0.0405,\n",
       "         0.0453,  0.0559,  0.0664],\n",
       "       [ 0.    ,  0.0018,  0.005 ,  0.0163,  0.0229,  0.03  ,  0.0401,\n",
       "         0.0454,  0.0517,  0.0583],\n",
       "       [ 0.    ,  0.0027,  0.003 ,  0.0079,  0.0167,  0.0236,  0.0314,\n",
       "         0.0378,  0.0366,  0.0407],\n",
       "       [ 0.    ,  0.    , -0.0017, -0.0013,  0.0039,  0.0054,  0.0057,\n",
       "         0.008 ,  0.0113,  0.0151],\n",
       "       [ 0.    , -0.0008,  0.0002,  0.0019,  0.0014,  0.0048,  0.0079,\n",
       "         0.007 ,  0.0068,  0.0096],\n",
       "       [ 0.    ,  0.0005,  0.002 ,  0.0019,  0.0026,  0.0036,  0.0037,\n",
       "         0.0052,  0.0057,  0.0074],\n",
       "       [ 0.    , -0.0003, -0.0005, -0.0005,  0.0013,  0.0017,  0.0018,\n",
       "         0.0032,  0.0031,  0.0037]])"
      ]
     },
     "execution_count": 26,
     "metadata": {},
     "output_type": "execute_result"
    }
   ],
   "source": [
    "np.round((cost_avg_ddr_ratio -1)*100,4)"
   ]
  },
  {
   "cell_type": "code",
   "execution_count": 27,
   "metadata": {},
   "outputs": [
    {
     "data": {
      "text/plain": [
       "np.float64(1.0001992267382203)"
      ]
     },
     "execution_count": 27,
     "metadata": {},
     "output_type": "execute_result"
    }
   ],
   "source": [
    "np.nanmean(cost_avg_ddr_ratio)"
   ]
  },
  {
   "cell_type": "code",
   "execution_count": 28,
   "metadata": {},
   "outputs": [
    {
     "data": {
      "text/plain": [
       "array([7.95880492, 7.61278651, 7.96170628, 7.45544865, 7.84520198,\n",
       "       7.84115978, 7.85557126, 7.75144885, 7.39088001, 7.80634724,\n",
       "       7.98775076, 7.77701311, 7.6717219 , 8.12365572, 7.48408469,\n",
       "       7.69644754, 7.61018607, 7.85998608, 7.93292494, 7.80581786,\n",
       "       8.16610141, 7.8391981 , 7.78979396, 8.06195804, 7.8259751 ,\n",
       "       7.99120486, 7.82156889, 7.89268335, 7.62373822, 7.77961635,\n",
       "       7.84577181, 7.5804046 , 7.9081262 , 7.8681075 , 7.88458173,\n",
       "       7.78878096, 7.49302657, 7.55426166, 7.71025818, 7.60416674,\n",
       "       8.06029295, 7.63679451, 7.66182949, 7.79875723, 7.64208629,\n",
       "       7.68591439, 7.96033344, 7.76095591, 7.81604417, 7.85659001,\n",
       "       7.56488264, 8.02865254, 7.81700127, 7.78201271, 7.5960527 ,\n",
       "       7.8949132 , 7.56579931, 7.99326088, 7.87228072, 7.78040944,\n",
       "       7.86088901, 7.71164723, 7.79475158, 7.90936455, 7.79923262,\n",
       "       7.64594141, 8.18887615, 7.7035232 , 7.68361796, 7.58357807,\n",
       "       7.77742048, 7.73615974, 7.71227158, 7.84336804, 7.8049144 ,\n",
       "       7.91381316, 7.93880591, 7.50957148, 7.98130363, 7.75955007,\n",
       "       7.71525302, 7.5663363 , 7.94544244, 7.53792073, 7.61521906,\n",
       "       7.6839389 , 7.8729571 , 7.87374897, 7.83125248, 7.80503247,\n",
       "       7.62883968, 7.60928061, 7.53299562, 7.77779252, 7.97431479,\n",
       "       7.79632997, 7.95140625, 7.67257955, 7.94124871, 7.90481331])"
      ]
     },
     "execution_count": 28,
     "metadata": {},
     "output_type": "execute_result"
    }
   ],
   "source": [
    "cost_OLS_avg_all"
   ]
  }
 ],
 "metadata": {
  "kernelspec": {
   "display_name": ".venv",
   "language": "python",
   "name": "python3"
  },
  "language_info": {
   "codemirror_mode": {
    "name": "ipython",
    "version": 3
   },
   "file_extension": ".py",
   "mimetype": "text/x-python",
   "name": "python",
   "nbconvert_exporter": "python",
   "pygments_lexer": "ipython3",
   "version": "3.9.6"
  }
 },
 "nbformat": 4,
 "nbformat_minor": 2
}
