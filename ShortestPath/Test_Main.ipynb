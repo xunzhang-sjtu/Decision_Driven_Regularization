{
 "cells": [
  {
   "cell_type": "code",
   "execution_count": 1,
   "metadata": {},
   "outputs": [],
   "source": [
    "import random\n",
    "import numpy as np\n",
    "import torch\n",
    "import os\n",
    "import pathlib\n",
    "import pickle\n",
    "from gurobipy import *\n",
    "from rsome import ro\n",
    "from rsome import grb_solver as grb\n",
    "import rsome as rso\n",
    "from rsome import cpt_solver as cpt"
   ]
  },
  {
   "cell_type": "code",
   "execution_count": null,
   "metadata": {},
   "outputs": [],
   "source": [
    "# data_generation_process = \"SPO_Data_Generation\"\n",
    "data_generation_process = \"DDR_Data_Generation\""
   ]
  },
  {
   "cell_type": "markdown",
   "metadata": {},
   "source": [
    "# Parameters"
   ]
  },
  {
   "cell_type": "code",
   "execution_count": 3,
   "metadata": {},
   "outputs": [],
   "source": [
    "# import pyepo\n",
    "# generate data\n",
    "grid = (5,5) # grid size\n",
    "num_train = 50 # number of training data\n",
    "num_feat = 5 # size of feature\n",
    "num_test = 1000\n",
    "deg = 1.2 # polynomial degree\n",
    "e = 10 # scale of normal std or the range of uniform. For the error term\n",
    "\n",
    "lower = 0 # coef lower bound\n",
    "upper = 1 # coef upper bound\n",
    "p = num_feat # num of features\n",
    "d = (grid[0] - 1) * (grid[0] - 1) * 2 + 2 * (grid[0] - 1) # num of arcs\n",
    "alpha = e # scale of normal std or the range of uniform. For the error term\n",
    "mis = deg # model misspecification\n",
    "coef_seed = 1"
   ]
  },
  {
   "cell_type": "code",
   "execution_count": 19,
   "metadata": {},
   "outputs": [
    {
     "name": "stdout",
     "output_type": "stream",
     "text": [
      "grandparent_directory: /Users/zhangxun/Dropbox/Research/Decision_Driven_Regularization/Code_MacBook\n",
      "DataPath: /Users/zhangxun/Dropbox/Research/Decision_Driven_Regularization/Data/Test0325_DDR_Data_Generation/\n"
     ]
    }
   ],
   "source": [
    "current_directory = os.getcwd()\n",
    "parent_directory = os.path.dirname(current_directory)\n",
    "grandparent_directory = os.path.dirname(parent_directory)\n",
    "DataPath = os.path.dirname(grandparent_directory) + '/Data/Test0325_' + data_generation_process + \"/\"\n",
    "pathlib.Path(DataPath).mkdir(parents=True, exist_ok=True)\n",
    "print(\"grandparent_directory:\", grandparent_directory)\n",
    "print(\"DataPath:\", DataPath)\n",
    "DataPath = DataPath + \"data_size=\"+str(num_train)+\"_deg=\"+str(deg)+\"_e=\"+str(e)+\"_d=\"+str(d)+\"_coef_seed=\"+str(coef_seed)+\"/\"\n",
    "pathlib.Path(DataPath).mkdir(parents=True, exist_ok=True)"
   ]
  },
  {
   "cell_type": "markdown",
   "metadata": {},
   "source": [
    "# Generate Data"
   ]
  },
  {
   "cell_type": "code",
   "execution_count": 5,
   "metadata": {},
   "outputs": [],
   "source": [
    "def Prepare_Data(DataPath,lower, upper, p, d, coef_seed,seed_all,num_test, num_train, alpha,mis,data_generation_process):\n",
    "# #  ****** Coef generation *********\n",
    "    from Data import data_generation\n",
    "    data_gen = data_generation()\n",
    "    # print(\"W_star = \",W_star[0,:])\n",
    "    W_star = data_gen.generate_truth(DataPath,lower, upper, p, d, coef_seed,version = 0) \n",
    "\n",
    "    x_test_all = {}; c_test_all = {}; x_train_all = {}; c_train_all = {}; W_star_all = {}\n",
    "    for seed in seed_all:\n",
    "        DataPath_seed = DataPath +\"Seed=\"+str(seed)+\"/\"\n",
    "        pathlib.Path(DataPath_seed).mkdir(parents=True, exist_ok=True)\n",
    "        # #  ****** Data generation *********\n",
    "        x_test_all[seed], c_test_all[seed], x_train_all[seed], c_train_all[seed], W_star_all[seed] = data_gen.generate_samples(seed,DataPath_seed,p, d, num_test, num_train, alpha, W_star, mis, thres = 10, \n",
    "                                version = data_generation_process, x_dist = 'normal', e_dist = 'normal', x_low = 0, x_up = 2, x_mean = 2, x_var = 0.25, bump = 100) \n",
    "        # print()\n",
    "    return x_test_all, c_test_all, x_train_all, c_train_all, W_star_all"
   ]
  },
  {
   "cell_type": "markdown",
   "metadata": {},
   "source": [
    "# EPO(SPO+,...)"
   ]
  },
  {
   "cell_type": "code",
   "execution_count": 6,
   "metadata": {},
   "outputs": [],
   "source": [
    "# from PYEPO import PyEPO_Method\n",
    "# epo_runner = PyEPO_Method()\n",
    "def Implement_EPO(DataPath,seed_all,batch_size,num_epochs,method_names,x_train_all,c_train_all,x_test_all,c_test_all,arcs,epo_runner):\n",
    "    cost_EPO = {}\n",
    "    # batch_size = 20\n",
    "    # num_epochs = 30\n",
    "    for seed in seed_all:\n",
    "        DataPath_seed = DataPath +\"Seed=\"+str(seed)+\"/\"\n",
    "        pathlib.Path(DataPath_seed).mkdir(parents=True, exist_ok=True)\n",
    "        print(\"*** seed = \",seed,\": Run EPO ******\")\n",
    "        cost_EPO[seed] = epo_runner.run(method_names,DataPath_seed,batch_size,num_feat,grid,num_epochs,\\\n",
    "                                        x_train_all[seed],c_train_all[seed],x_test_all[seed],c_test_all[seed],arcs)\n",
    "    return cost_EPO"
   ]
  },
  {
   "cell_type": "markdown",
   "metadata": {},
   "source": [
    "# Obtain DDR estimation"
   ]
  },
  {
   "cell_type": "markdown",
   "metadata": {},
   "source": [
    "### define network"
   ]
  },
  {
   "cell_type": "code",
   "execution_count": 7,
   "metadata": {},
   "outputs": [],
   "source": [
    "def _getArcs(grid):\n",
    "    arcs = []\n",
    "    for i in range(grid[0]):\n",
    "        # edges on rows\n",
    "        for j in range(grid[1] - 1):\n",
    "            v = i * grid[1] + j\n",
    "            arcs.append((v, v + 1))\n",
    "        # edges in columns\n",
    "        if i == grid[0] - 1:\n",
    "            continue\n",
    "        for j in range(grid[1]):\n",
    "            v = i * grid[1] + j\n",
    "            arcs.append((v, v + grid[1]))\n",
    "\n",
    "    arc_index_mapping = {}\n",
    "    for i in range(len(arcs)):\n",
    "        arc = arcs[i]\n",
    "        arc_index_mapping[arc] = i\n",
    "\n",
    "    return arcs,arc_index_mapping"
   ]
  },
  {
   "cell_type": "code",
   "execution_count": 8,
   "metadata": {},
   "outputs": [],
   "source": [
    "def solve_DDR(arcs,lamb,mu_fixed,num_nodes,x_train,c_train):\n",
    "    \n",
    "    N,p = x_train.shape\n",
    "    N,d = c_train.shape\n",
    "\n",
    "    # DDR\n",
    "    m = Model(\"ddr\")\n",
    "    #m.setParam(\"DualReductions\",0)\n",
    "    m.setParam('OutputFlag', 0)\n",
    "\n",
    "    W_ind = tuplelist( [(i,j) for i in range(d) for j in range(p)] )\n",
    "    w0_ind = tuplelist( [i for i in range(d)])\n",
    "\n",
    "    W_ddr = m.addVars(W_ind, lb=-GRB.INFINITY,name = \"W\" )\n",
    "    w0_ddr = m.addVars(w0_ind, lb=-GRB.INFINITY,name = \"W0\" )\n",
    "    alpha = m.addVars(N,num_nodes,lb=-GRB.INFINITY,name=\"alpha\")\n",
    "    expr_obj = 0\n",
    "    err = []\n",
    "    for n in range(N):\n",
    "        cost_true_tem = c_train[n]\n",
    "        expr_obj = expr_obj + alpha[n,num_nodes-1] - alpha[n,0]\n",
    "        for ind in range(len(arcs)):\n",
    "            cost_pred_tem = quicksum([W_ddr[ind,j] * x_train[n,j] for j in range(p)]) + w0_ddr[ind]\n",
    "            err.append(cost_true_tem[ind] - cost_pred_tem)\n",
    "            e = arcs[ind]\n",
    "            j = e[1]\n",
    "            i = e[0]\n",
    "            # print(\"j = \",j,\", i = \",i, \", e = \",e)\n",
    "            m.addConstr(alpha[n,j] - alpha[n,i] >= -mu_fixed*cost_true_tem[ind] - (1-mu_fixed)*cost_pred_tem)\n",
    "\n",
    "    m.setObjective(quicksum([err[k] * err[k] for k in range(len(err))])/N + lamb*(expr_obj)/N, GRB.MINIMIZE)\n",
    "    m.optimize()\n",
    "    \n",
    "    W_DDR_rst = m.getAttr('x', W_ddr)\n",
    "    w0_DDR_rst = m.getAttr('x', w0_ddr)\n",
    "    W_ddr_val = []\n",
    "    for i in range(d):\n",
    "        W_ddr_val.append([W_DDR_rst[(i,j)] for j in range(p)])\n",
    "    w0_ddr_val = [w0_DDR_rst[i] for i in range(d)]\n",
    "\n",
    "    alpha_rst = m.getAttr('x', alpha)\n",
    "    return w0_ddr_val,W_ddr_val,alpha_rst,m.ObjVal"
   ]
  },
  {
   "cell_type": "markdown",
   "metadata": {},
   "source": [
    "# Out-of-sample performance"
   ]
  },
  {
   "cell_type": "markdown",
   "metadata": {},
   "source": [
    "### Generate data"
   ]
  },
  {
   "cell_type": "code",
   "execution_count": 9,
   "metadata": {},
   "outputs": [],
   "source": [
    "arcs,arc_index_mapping = _getArcs(grid)\n",
    "num_arcs = len(arcs)\n",
    "seed_all = np.arange(1,100)\n",
    "# obtain data\n",
    "x_test_all, c_test_all, x_train_all, c_train_all, W_star_all = Prepare_Data(DataPath,lower, upper, p, d, coef_seed,seed_all,num_test, num_train, alpha,mis,data_generation_process)"
   ]
  },
  {
   "cell_type": "markdown",
   "metadata": {},
   "source": [
    "### EPO performance"
   ]
  },
  {
   "cell_type": "code",
   "execution_count": 10,
   "metadata": {},
   "outputs": [
    {
     "name": "stdout",
     "output_type": "stream",
     "text": [
      "*** seed =  1 : Run EPO ******\n",
      "Set parameter Username\n",
      "Academic license - for non-commercial use only - expires 2026-03-13\n",
      "Optimizing for optDataset...\n"
     ]
    },
    {
     "name": "stderr",
     "output_type": "stream",
     "text": [
      "100%|██████████| 50/50 [00:00<00:00, 2076.33it/s]\n"
     ]
    },
    {
     "name": "stdout",
     "output_type": "stream",
     "text": [
      "Optimizing for optDataset...\n"
     ]
    },
    {
     "name": "stderr",
     "output_type": "stream",
     "text": [
      "100%|██████████| 1000/1000 [00:00<00:00, 3386.77it/s]"
     ]
    },
    {
     "name": "stdout",
     "output_type": "stream",
     "text": [
      "=========== Run SPO =============\n"
     ]
    },
    {
     "name": "stderr",
     "output_type": "stream",
     "text": [
      "\n"
     ]
    },
    {
     "name": "stdout",
     "output_type": "stream",
     "text": [
      "Num of cores: 2\n",
      "=========== Run PG =============\n",
      "Num of cores: 2\n",
      "=========== Run LTR =============\n",
      "Num of cores: 2\n"
     ]
    }
   ],
   "source": [
    "# EPO, including SPO, PG, LTR\n",
    "batch_size = 20\n",
    "num_epochs = 30\n",
    "method_names = [\"spo+\",\"pg\",\"ltr\"]\n",
    "\n",
    "from PYEPO import PyEPO_Method\n",
    "epo_runner = PyEPO_Method()\n",
    "cost_EPO_all = Implement_EPO(DataPath,[1],batch_size,num_epochs,method_names,x_train_all,c_train_all,x_test_all,c_test_all,arcs,epo_runner)\n",
    "# OLS"
   ]
  },
  {
   "cell_type": "markdown",
   "metadata": {},
   "source": [
    "### OLS performance"
   ]
  },
  {
   "cell_type": "code",
   "execution_count": 11,
   "metadata": {},
   "outputs": [],
   "source": [
    "from OLS import ols_method\n",
    "ols_method_obj = ols_method()\n",
    "from Peformance import performance_evaluation\n",
    "perfs = performance_evaluation()\n",
    "W_ols_all = {}; w0_ols_all = {}; t_ols_all = {}; obj_ols_all = {}\n",
    "cost_OLS_all = {}; cost_Oracle_all = {}\n",
    "\n",
    "for seed in seed_all:\n",
    "    # compute OLS performance\n",
    "    W_ols_all[seed], w0_ols_all[seed], t_ols_all[seed], obj_ols_all[seed] = ols_method_obj.ols_solver(\"\",x_train_all[seed], c_train_all[seed])\n",
    "    cost_OLS_all[seed] = perfs.compute_Cost_with_Prediction(arcs,w0_ols_all[seed],W_ols_all[seed], grid,c_test_all[seed],x_test_all[seed])\n",
    "    cost_Oracle_all[seed] = perfs.compute_Oracel_Cost(arcs, grid,c_test_all[seed])"
   ]
  },
  {
   "cell_type": "markdown",
   "metadata": {},
   "source": [
    "### DDR performance"
   ]
  },
  {
   "cell_type": "code",
   "execution_count": 12,
   "metadata": {},
   "outputs": [],
   "source": [
    "def obtain_DDR_out_of_sample_performance(mu,lamb_all,num_nodes,x_train,c_train,x_test,c_test,cost_OLS,cost_Oracle,perfs):\n",
    "\n",
    "    regret_arr = np.zeros(len(lamb_all))\n",
    "    lamb_index = 0\n",
    "    cost_DDR = {}\n",
    "    for lamb in lamb_all:\n",
    "        w0_ddr_val,W_ddr_val,alpha_rst,obj_ddr = solve_DDR(arcs,lamb,mu,num_nodes,x_train,c_train)\n",
    "        cost_DDR[lamb] = perfs.compute_Cost_with_Prediction(arcs,w0_ddr_val,W_ddr_val, grid,c_test,x_test)\n",
    "        regret_arr[lamb_index] = (np.nanmean(cost_OLS) - np.nanmean(cost_DDR[lamb]) )/(np.nanmean(cost_OLS) - np.nanmean(cost_Oracle)) * 100\n",
    "        lamb_index = lamb_index + 1\n",
    "        # print(\"seed=\",seed,\",mu=\",mu_fixed,\",lamb=\",lamb,\",obj_ddr=\",obj_ddr,\",regret=\",regret_arr[lamb_index])\n",
    "    return regret_arr,cost_DDR"
   ]
  },
  {
   "cell_type": "code",
   "execution_count": 13,
   "metadata": {},
   "outputs": [
    {
     "name": "stdout",
     "output_type": "stream",
     "text": [
      "seed= 1 ,mu= 0.9 regret= [0.     0.0992 0.0992 0.3358 0.3822 0.3822 0.3729 0.3729 0.3729]\n",
      "seed= 2 ,mu= 0.9 regret= [0. 0. 0. 0. 0. 0. 0. 0. 0.]\n",
      "seed= 3 ,mu= 0.9 regret= [ 0.      0.0367  0.0367  0.0367 -0.191  -0.191  -0.191  -0.191   0.0984]\n",
      "seed= 4 ,mu= 0.9 regret= [ 0.    0.    0.    0.    0.    0.    0.   -0.17 -0.17]\n",
      "seed= 5 ,mu= 0.9 regret= [0.     0.     0.1111 0.1111 0.1111 0.1111 0.1111 0.2178 0.2178]\n",
      "seed= 6 ,mu= 0.9 regret= [0.1569 0.2036 0.2124 0.3224 0.1185 0.1185 0.1185 0.1185 0.1185]\n",
      "seed= 7 ,mu= 0.9 regret= [ 0.      0.      0.      0.     -0.0039 -0.0039 -0.2421 -0.2421 -0.2421]\n",
      "seed= 8 ,mu= 0.9 regret= [0.    0.    0.119 0.119 0.119 0.119 0.119 0.119 0.119]\n",
      "seed= 9 ,mu= 0.9 regret= [ 0.     -0.0721 -0.0721 -0.0721  0.1162 -0.1257 -0.3414 -0.5126 -0.5126]\n",
      "seed= 10 ,mu= 0.9 regret= [-0.1699 -0.3608 -0.5473 -0.5473 -0.6858 -0.6858 -0.6858 -0.6858 -0.8414]\n",
      "seed= 11 ,mu= 0.9 regret= [ 0.      0.     -0.3826 -0.4695 -0.2907 -0.2907 -0.4047 -0.5769 -0.5769]\n",
      "seed= 12 ,mu= 0.9 regret= [0.     0.     0.     0.     0.     0.0125 0.0125 0.0125 0.0125]\n",
      "seed= 13 ,mu= 0.9 regret= [0.0899 0.1832 0.1832 0.1832 0.1832 0.1832 0.1832 0.1832 0.1832]\n",
      "seed= 14 ,mu= 0.9 regret= [ 0.     -0.1373 -0.1373 -0.1373 -0.1373 -0.1373  0.265   0.265   0.265 ]\n",
      "seed= 15 ,mu= 0.9 regret= [ 0.      0.     -0.0361 -0.0361 -0.0361 -0.1    -0.1495 -0.1495 -0.2031]\n",
      "seed= 16 ,mu= 0.9 regret= [0. 0. 0. 0. 0. 0. 0. 0. 0.]\n",
      "seed= 17 ,mu= 0.9 regret= [ 0.      0.     -0.0053 -0.0053 -0.0053 -0.0053 -0.0053 -0.3604 -0.4125]\n",
      "seed= 18 ,mu= 0.9 regret= [ 0.1761 -0.1567 -0.1567 -0.1567 -0.1567  0.0795  0.2049  0.2049  0.2049]\n",
      "seed= 19 ,mu= 0.9 regret= [0.     0.1464 0.1464 0.1464 0.1464 0.2254 0.1605 0.1605 0.1454]\n",
      "seed= 20 ,mu= 0.9 regret= [0.     0.     0.     0.1115 0.1115 0.1115 0.1115 0.2313 0.2467]\n",
      "seed= 21 ,mu= 0.9 regret= [0. 0. 0. 0. 0. 0. 0. 0. 0.]\n",
      "seed= 22 ,mu= 0.9 regret= [ 0.3026 -0.2453 -0.2453 -0.2453 -0.2749 -0.2749 -0.2749 -0.2749 -0.2749]\n",
      "seed= 23 ,mu= 0.9 regret= [ 0.      0.      0.4868  0.6234  0.6234  0.3643  0.3643  0.3446 -0.1857]\n",
      "seed= 24 ,mu= 0.9 regret= [ 0.0498 -0.1145 -0.1145 -0.1145 -0.1145 -0.1145 -0.2773 -0.2773 -0.6125]\n",
      "seed= 25 ,mu= 0.9 regret= [ 0.1878  0.1878  0.1878  0.1878  0.1878  0.1878  0.1878 -0.0253 -0.0253]\n",
      "seed= 26 ,mu= 0.9 regret= [0. 0. 0. 0. 0. 0. 0. 0. 0.]\n",
      "seed= 27 ,mu= 0.9 regret= [-0.0397 -0.0397 -0.0397 -0.0377  0.0278  0.0278  0.1321 -0.1294 -0.1294]\n",
      "seed= 28 ,mu= 0.9 regret= [ 0.1369 -0.0018  0.0576  0.0668  0.1606  0.0704  0.0704  0.0704  0.0704]\n",
      "seed= 29 ,mu= 0.9 regret= [0.     0.1209 0.1209 0.1209 0.1209 0.1209 0.0885 0.0885 0.0885]\n",
      "seed= 30 ,mu= 0.9 regret= [ 0.      0.      0.0103  0.0103  0.0103 -0.0309 -0.0309 -0.0309 -0.1586]\n",
      "seed= 31 ,mu= 0.9 regret= [-0.1582 -0.1582 -0.0677 -0.0677 -0.0677 -0.0643 -0.0643  0.0106 -0.087 ]\n",
      "seed= 32 ,mu= 0.9 regret= [ 0.      0.      0.     -0.2427 -0.2427 -0.2427 -0.3118 -0.3118 -0.3428]\n",
      "seed= 33 ,mu= 0.9 regret= [-0.0183 -0.0183 -0.0183 -0.0183 -0.0183 -0.0183  0.0874  0.0416  0.0416]\n",
      "seed= 34 ,mu= 0.9 regret= [ 0.     -0.0493 -0.0114 -0.0114  0.1373  0.1373  0.1373  0.1373  0.1373]\n",
      "seed= 35 ,mu= 0.9 regret= [ 0.      0.      0.     -0.0549 -0.2948 -0.2948 -0.2948 -0.2948 -0.3308]\n",
      "seed= 36 ,mu= 0.9 regret= [ 0.      0.      0.     -0.1706 -0.0761 -0.0761 -0.0761 -0.0761 -0.0761]\n",
      "seed= 37 ,mu= 0.9 regret= [-0.0799 -0.0799 -0.0799 -0.0799 -0.0799  0.0131 -0.119  -0.119  -0.119 ]\n",
      "seed= 38 ,mu= 0.9 regret= [ 0.      0.     -0.0397 -0.0399 -0.0318 -0.0318 -0.0318  0.02    0.02  ]\n",
      "seed= 39 ,mu= 0.9 regret= [ 0.      0.     -0.2265 -0.2265 -0.2265 -0.2837 -0.2837 -0.2724 -0.2724]\n",
      "seed= 40 ,mu= 0.9 regret= [-0.4177 -0.4177 -0.4177 -0.4177 -0.1953 -0.1953 -0.1953 -0.2826 -0.2826]\n",
      "seed= 41 ,mu= 0.9 regret= [0.0687 0.0687 0.0687 0.0687 0.0687 0.0687 0.0687 0.0687 0.0687]\n",
      "seed= 42 ,mu= 0.9 regret= [0.     0.     0.0495 0.1557 0.1355 0.1355 0.0684 0.0684 0.0684]\n",
      "seed= 43 ,mu= 0.9 regret= [0.     0.5231 0.5194 0.5983 0.5983 0.4259 0.4259 0.6242 0.6242]\n",
      "seed= 44 ,mu= 0.9 regret= [ 0.     -0.0501 -0.2381 -0.2381 -0.2299 -0.1842 -0.2912 -0.2912 -0.2912]\n",
      "seed= 45 ,mu= 0.9 regret= [ 0.      0.      0.      0.     -0.0204 -0.0204 -0.5243 -0.3005 -0.3005]\n",
      "seed= 46 ,mu= 0.9 regret= [ 0.0585 -0.3127 -0.3127 -0.3127 -0.5232 -0.5232 -0.5232 -0.4017 -0.4017]\n",
      "seed= 47 ,mu= 0.9 regret= [0.    0.    0.    0.    0.    0.    0.    0.    0.053]\n",
      "seed= 48 ,mu= 0.9 regret= [ 0.08    0.08    0.08    0.08    0.08    0.08    0.08   -0.0254 -0.0254]\n",
      "seed= 49 ,mu= 0.9 regret= [ 0.0779  0.193   0.193   0.193   0.0326  0.1222  0.1765  0.0815 -0.1061]\n",
      "seed= 50 ,mu= 0.9 regret= [-0.0521 -0.087   0.0415  0.2108  0.3589  0.2133  0.2133  0.2133  0.2133]\n",
      "seed= 51 ,mu= 0.9 regret= [-0.0993 -0.0993 -0.2215 -0.1895 -0.1895 -0.0368 -0.0331 -0.0331 -0.0331]\n",
      "seed= 52 ,mu= 0.9 regret= [-0.1043 -0.1043 -0.1043 -0.1043 -0.1043 -0.1043 -0.1867 -0.1867 -0.1867]\n",
      "seed= 53 ,mu= 0.9 regret= [-0.0198 -0.113  -0.113  -0.0533 -0.0533 -0.0533  0.1438  0.1369  0.1369]\n",
      "seed= 54 ,mu= 0.9 regret= [0.     0.     0.     0.     0.     0.     0.0356 0.0356 0.1458]\n",
      "seed= 55 ,mu= 0.9 regret= [ 0.     -0.0292 -0.0292 -0.0292 -0.0292 -0.0292  0.0848  0.0848  0.1864]\n",
      "seed= 56 ,mu= 0.9 regret= [-0.2523 -0.2523 -0.026  -0.026  -0.1156 -0.1156 -0.1156 -0.1156 -0.1156]\n",
      "seed= 57 ,mu= 0.9 regret= [-0.144  -0.1466 -0.2573 -0.2573 -0.2573 -0.0895 -0.0895  0.0268  0.0268]\n",
      "seed= 58 ,mu= 0.9 regret= [0.     0.     0.1793 0.1793 0.1793 0.1793 0.1793 0.3424 0.4728]\n",
      "seed= 59 ,mu= 0.9 regret= [ 0.      0.     -0.1863 -0.052  -0.2658 -0.2658 -0.2658 -0.2658 -0.2658]\n",
      "seed= 60 ,mu= 0.9 regret= [ 0.0802  0.0722  0.0722  0.0722  0.0798  0.1354  0.1354  0.1354 -0.3355]\n",
      "seed= 61 ,mu= 0.9 regret= [ 0.      0.      0.1965  0.1965 -0.1265  0.0517  0.1297  0.1297  0.1184]\n",
      "seed= 62 ,mu= 0.9 regret= [ 0.      0.      0.      0.      0.      0.      0.      0.     -0.1075]\n",
      "seed= 63 ,mu= 0.9 regret= [-0.0225 -0.081  -0.081   0.0214  0.0214 -0.2212  0.1277  0.0609  0.138 ]\n",
      "seed= 64 ,mu= 0.9 regret= [0.     0.     0.     0.0228 0.0966 0.0966 0.1977 0.1977 0.134 ]\n",
      "seed= 65 ,mu= 0.9 regret= [-0.0159 -0.0159 -0.0159 -0.0159 -0.0159 -0.0223 -0.0223 -0.0223 -0.0223]\n",
      "seed= 66 ,mu= 0.9 regret= [0. 0. 0. 0. 0. 0. 0. 0. 0.]\n",
      "seed= 67 ,mu= 0.9 regret= [ 0.      0.      0.0327  0.0043  0.0337  0.0337  0.1104 -0.0551 -0.2534]\n",
      "seed= 68 ,mu= 0.9 regret= [ 0.1623  0.1623 -0.1604 -0.1604 -0.1185 -0.1185 -0.1185 -0.0067  0.0014]\n",
      "seed= 69 ,mu= 0.9 regret= [ 0.      0.     -0.1681 -0.08   -0.08   -0.2237 -0.2237 -0.2237 -0.2529]\n",
      "seed= 70 ,mu= 0.9 regret= [-0.2995 -0.2146 -0.2146 -0.4649 -0.4649 -0.4649 -0.1402 -0.4257 -0.4257]\n",
      "seed= 71 ,mu= 0.9 regret= [0. 0. 0. 0. 0. 0. 0. 0. 0.]\n",
      "seed= 72 ,mu= 0.9 regret= [-0.1382 -0.1382 -0.1382 -0.1382 -0.1664 -0.1664 -0.2759 -0.2759 -0.0103]\n",
      "seed= 73 ,mu= 0.9 regret= [ 0.     -0.2624 -0.2624 -0.1319 -0.1319 -0.2517 -0.2517 -0.2517  0.1841]\n",
      "seed= 74 ,mu= 0.9 regret= [0.     0.     0.     0.0634 0.302  0.302  0.302  0.302  0.0067]\n",
      "seed= 75 ,mu= 0.9 regret= [ 0.     -0.3292 -0.3292 -0.3292 -0.4546 -0.5264 -0.5858 -0.5858 -0.5367]\n",
      "seed= 76 ,mu= 0.9 regret= [0.     0.     0.0605 0.0605 0.15   0.15   0.314  0.314  0.2976]\n",
      "seed= 77 ,mu= 0.9 regret= [0.     0.     0.     0.1278 0.1646 0.1646 0.076  0.1841 0.1841]\n",
      "seed= 78 ,mu= 0.9 regret= [-0.2292 -0.2536 -0.2536 -0.317  -0.317  -0.317  -0.3124 -0.3124 -0.2317]\n",
      "seed= 79 ,mu= 0.9 regret= [-0.2483 -0.2483 -0.3794 -0.3794 -0.3794 -0.3794 -0.3794 -0.3794 -0.3794]\n",
      "seed= 80 ,mu= 0.9 regret= [ 0.     -0.1401 -0.1401 -0.4744 -0.4744 -0.4744 -0.4744 -0.4744 -0.4744]\n",
      "seed= 81 ,mu= 0.9 regret= [ 0.     -0.1637 -0.1637 -0.1637 -0.1637 -0.1637 -0.1637 -0.0587 -0.1343]\n",
      "seed= 82 ,mu= 0.9 regret= [ 0.     -0.1378 -0.1378 -0.0802 -0.273  -0.273  -0.2788 -0.2788 -0.4236]\n",
      "seed= 83 ,mu= 0.9 regret= [ 0.      0.      0.     -0.09   -0.09   -0.1345 -0.1345 -0.1345 -0.0687]\n",
      "seed= 84 ,mu= 0.9 regret= [ 0.      0.      0.      0.      0.      0.     -0.1471 -0.2896 -0.2896]\n",
      "seed= 85 ,mu= 0.9 regret= [ 0.     -0.014  -0.014  -0.014  -0.0685 -0.0685 -0.2361 -0.2361 -0.2361]\n",
      "seed= 86 ,mu= 0.9 regret= [0.0316 0.0316 0.0316 0.1359 0.3225 0.1808 0.0544 0.0544 0.0544]\n",
      "seed= 87 ,mu= 0.9 regret= [-0.0551 -0.0551 -0.0551 -0.0841 -0.028  -0.0904 -0.0904 -0.3857 -0.3857]\n",
      "seed= 88 ,mu= 0.9 regret= [0.     0.     0.     0.1229 0.1229 0.191  0.191  0.219  0.219 ]\n",
      "seed= 89 ,mu= 0.9 regret= [-0.2496 -0.2496 -0.2423 -0.2423 -0.2423 -0.2423 -0.2423 -0.2423 -0.2878]\n",
      "seed= 90 ,mu= 0.9 regret= [ 0.     -0.1091 -0.1091 -0.1091 -0.1091 -0.1091 -0.1091 -0.2577 -0.2577]\n",
      "seed= 91 ,mu= 0.9 regret= [ 0.     -0.0788 -0.0788 -0.0788 -0.0788 -0.0788 -0.0788 -0.0788 -0.405 ]\n",
      "seed= 92 ,mu= 0.9 regret= [0.     0.     0.2093 0.202  0.3047 0.3047 0.3047 0.3047 0.4176]\n",
      "seed= 93 ,mu= 0.9 regret= [0.     0.1759 0.2304 0.2304 0.4159 0.4159 0.4159 0.4159 0.4159]\n",
      "seed= 94 ,mu= 0.9 regret= [0.     0.0804 0.0804 0.0804 0.0804 0.1018 0.0361 0.0361 0.0361]\n",
      "seed= 95 ,mu= 0.9 regret= [ 0.      0.      0.      0.      0.      0.156   0.156  -0.2357  0.0075]\n",
      "seed= 96 ,mu= 0.9 regret= [0.     0.     0.     0.0708 0.018  0.018  0.0142 0.0142 0.0142]\n",
      "seed= 97 ,mu= 0.9 regret= [ 0.     -0.4306 -0.4306 -0.1089 -0.1113 -0.1113 -0.1113 -0.0824 -0.0824]\n",
      "seed= 98 ,mu= 0.9 regret= [0.     0.     0.     0.     0.2267 0.1892 0.1892 0.1892 0.2383]\n",
      "seed= 99 ,mu= 0.9 regret= [ 0.      0.      0.2784 -0.0538 -0.0538 -0.0538 -0.0538 -0.0538 -0.0538]\n"
     ]
    }
   ],
   "source": [
    "num_nodes = grid[0]*grid[0]\n",
    "mu = 0.9\n",
    "lamb_all = np.round(np.arange(0.1,1.0,0.1),2)\n",
    "regret_all = {}; cost_DDR_all = {}\n",
    "for seed in seed_all:\n",
    "    regret_all[seed,mu],cost_DDR_all[seed,mu] = obtain_DDR_out_of_sample_performance(mu,lamb_all,num_nodes,x_train_all[seed],c_train_all[seed],x_test_all[seed],c_test_all[seed],cost_OLS_all[seed],cost_Oracle_all[seed],perfs)\n",
    "    print(\"seed=\",seed,\",mu=\",mu,\"regret=\",np.round(regret_all[seed,mu],4))"
   ]
  },
  {
   "cell_type": "code",
   "execution_count": 14,
   "metadata": {},
   "outputs": [
    {
     "name": "stdout",
     "output_type": "stream",
     "text": [
      "regret_avg= [-0.0117 -0.0364 -0.034  -0.0268 -0.0254 -0.0313 -0.0352 -0.0516 -0.065 ]\n"
     ]
    }
   ],
   "source": [
    "regret_avg = np.zeros(len(lamb_all))\n",
    "for seed in seed_all:\n",
    "    regret_avg = regret_avg + regret_all[seed,mu]\n",
    "regret_avg = regret_avg/(len(seed_all))\n",
    "print(\"regret_avg=\",np.round(regret_avg,4))"
   ]
  },
  {
   "cell_type": "code",
   "execution_count": 15,
   "metadata": {},
   "outputs": [
    {
     "data": {
      "text/plain": [
       "(1000,)"
      ]
     },
     "execution_count": 15,
     "metadata": {},
     "output_type": "execute_result"
    }
   ],
   "source": [
    "np.shape(cost_DDR_all[seed,mu][0.2])"
   ]
  },
  {
   "cell_type": "markdown",
   "metadata": {},
   "source": [
    "# Plot figures"
   ]
  },
  {
   "cell_type": "code",
   "execution_count": 16,
   "metadata": {},
   "outputs": [],
   "source": [
    "def cross_compare2plus(c_item, c_base, c_oracle):\n",
    "    c_item = np.asarray(c_item)\n",
    "    c_base = np.asarray(c_base)\n",
    "    c_oracle = np.asarray(c_oracle)\n",
    "\n",
    "    N = len(c_item)\n",
    "    c_diff = c_item - c_base\n",
    "    lbel = np.zeros((N,1))\n",
    "    \n",
    "    equals = np.sum(c_diff == 0)\n",
    "    wins = np.sum(c_diff < 0)\n",
    "    lose = np.sum(c_diff > 0)\n",
    "    \n",
    "    lbel[c_diff < 0] = 1\n",
    "    lbel[c_diff > 0] = -1\n",
    "    \n",
    "    # print(\"Num_train =\",N,\",Num_equals =\",equals,\",Num_wins =\",wins,\",Num_lose =\",lose)\n",
    "    # print(\"base cost = \", np.mean(c_base),\",item cost = \",np.mean(c_item))\n",
    "    if N == equals:\n",
    "        win_ratio = 0.5\n",
    "    else:\n",
    "        win_ratio = wins/(N - equals)\n",
    "    # cost_reduction = (np.mean(c_base) - np.mean(c_item) )/np.abs(np.mean(c_oracle))\n",
    "    regret_reduction = (np.nanmean(c_base) - np.nanmean(c_item))/np.abs(np.nanmean(c_base) - np.nanmean(c_oracle))\n",
    "    return lbel, win_ratio, regret_reduction"
   ]
  },
  {
   "cell_type": "code",
   "execution_count": 17,
   "metadata": {},
   "outputs": [
    {
     "name": "stdout",
     "output_type": "stream",
     "text": [
      "lamb =  0.1\n",
      "lamb =  0.2\n",
      "lamb =  0.3\n",
      "lamb =  0.4\n",
      "lamb =  0.5\n",
      "lamb =  0.6\n",
      "lamb =  0.7\n",
      "lamb =  0.8\n",
      "lamb =  0.9\n"
     ]
    }
   ],
   "source": [
    "mu = 0.9\n",
    "H2H_DDR_vs_OLS_all = {}; regret_reduction_DDR_vs_OLS_all = {}\n",
    "for lamb in lamb_all:\n",
    "    H2H_DDR_vs_OLS_arr = np.zeros(len(seed_all)); regret_reduction_DDR_vs_OLS_arr = np.zeros(len(seed_all))\n",
    "    seed_index = 0\n",
    "    print(\"lamb = \",lamb)\n",
    "    for seed in seed_all:\n",
    "        lbel, H2H_DDR_vs_OLS_arr[seed_index], H2H_DDR_vs_OLS_arr[seed_index] = cross_compare2plus(cost_DDR_all[seed,mu][lamb],cost_OLS_all[seed], cost_Oracle_all[seed])\n",
    "        seed_index = seed_index + 1\n",
    "    H2H_DDR_vs_OLS_all[mu,lamb] = H2H_DDR_vs_OLS_arr; regret_reduction_DDR_vs_OLS_all[mu,lamb] = H2H_DDR_vs_OLS_arr"
   ]
  },
  {
   "cell_type": "code",
   "execution_count": 18,
   "metadata": {},
   "outputs": [
    {
     "data": {
      "image/png": "[encoded data removed]",
      "text/plain": [
       "<Figure size 500x500 with 3 Axes>"
      ]
     },
     "metadata": {},
     "output_type": "display_data"
    }
   ],
   "source": [
    "mu = 0.9\n",
    "lamb = 0.5\n",
    "import Figures\n",
    "Figures.figure_plot_upleft(H2H_DDR_vs_OLS_all[mu,lamb], regret_reduction_DDR_vs_OLS_all[mu,lamb], \"\", size = (5, 5), move = [-0.12, 0.04, 0.35, 0.55], \n",
    "                    ysame = 0, yrange = [6,6], sublabel = '', ypio = 0)"
   ]
  }
 ],
 "metadata": {
  "kernelspec": {
   "display_name": ".venv",
   "language": "python",
   "name": "python3"
  },
  "language_info": {
   "codemirror_mode": {
    "name": "ipython",
    "version": 3
   },
   "file_extension": ".py",
   "mimetype": "text/x-python",
   "name": "python",
   "nbconvert_exporter": "python",
   "pygments_lexer": "ipython3",
   "version": "3.9.6"
  }
 },
 "nbformat": 4,
 "nbformat_minor": 2
}
