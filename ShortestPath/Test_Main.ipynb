{
 "cells": [
  {
   "cell_type": "code",
   "execution_count": 1,
   "metadata": {},
   "outputs": [],
   "source": [
    "import random\n",
    "import numpy as np\n",
    "import torch\n",
    "import os\n",
    "import pathlib\n",
    "import pickle\n",
    "from gurobipy import *\n",
    "from rsome import ro\n",
    "from rsome import grb_solver as grb\n",
    "import rsome as rso\n",
    "from rsome import cpt_solver as cpt\n",
    "import pandas as pd"
   ]
  },
  {
   "cell_type": "code",
   "execution_count": 2,
   "metadata": {},
   "outputs": [],
   "source": [
    "# data_generation_process = \"SPO_Data_Generation\"\n",
    "data_generation_process = \"DDR_Data_Generation\""
   ]
  },
  {
   "cell_type": "markdown",
   "metadata": {},
   "source": [
    "# Parameters"
   ]
  },
  {
   "cell_type": "code",
   "execution_count": null,
   "metadata": {},
   "outputs": [],
   "source": [
    "# import pyepo\n",
    "# generate data\n",
    "grid = (5,5) # grid size\n",
    "num_train = 100 # number of training data\n",
    "num_feat = 5 # size of feature\n",
    "num_test = 10000\n",
    "deg = 1.0 # polynomial degree\n",
    "e = 1.0 # scale of normal std or the range of uniform. For the error term\n",
    "\n",
    "lower = 0 # coef lower bound\n",
    "upper = 1 # coef upper bound\n",
    "p = num_feat # num of features\n",
    "d = (grid[0] - 1) * (grid[0] - 1) * 2 + 2 * (grid[0] - 1) # num of arcs\n",
    "num_nodes = grid[0]*grid[0]\n",
    "alpha = e # scale of normal std or the range of uniform. For the error term\n",
    "mis = deg # model misspecification\n",
    "coef_seed = 1\n",
    "\n",
    "x_dist = 'uniform'\n",
    "e_dist = 'normal'\n",
    "x_low = -2\n",
    "x_up = 2\n",
    "x_mean = 2\n",
    "x_var = 2\n",
    "bump = 7"
   ]
  },
  {
   "cell_type": "code",
   "execution_count": null,
   "metadata": {},
   "outputs": [
    {
     "name": "stdout",
     "output_type": "stream",
     "text": [
      "grandparent_directory: /Users/zhangxun/Dropbox/Research/Decision_Driven_Regularization/Code_MacBook\n",
      "DataPath: /Users/zhangxun/Dropbox/Research/Decision_Driven_Regularization/Data/Shortest_Path_2by2_grid_0404_DDR_Data_Generation/\n"
     ]
    }
   ],
   "source": [
    "current_directory = os.getcwd()\n",
    "parent_directory = os.path.dirname(current_directory)\n",
    "grandparent_directory = os.path.dirname(parent_directory)\n",
    "DataPath = os.path.dirname(grandparent_directory) + '/Data/Shortest_Path_'+str(grid[0])+'by'+str(grid[1])+'_grid_0404_' + data_generation_process + \"/\"\n",
    "pathlib.Path(DataPath).mkdir(parents=True, exist_ok=True)\n",
    "print(\"grandparent_directory:\", grandparent_directory)\n",
    "print(\"DataPath:\", DataPath)\n",
    "DataPath = DataPath + \"data_size=\"+str(num_train)+\"_deg=\"+str(deg)+\"_e=\"+str(e)+\"_d=\"+str(d)+\"_x_dist=\"+x_dist+\"_coef_seed=\"+str(coef_seed)+\"_same_W/\"\n",
    "pathlib.Path(DataPath).mkdir(parents=True, exist_ok=True)"
   ]
  },
  {
   "cell_type": "markdown",
   "metadata": {},
   "source": [
    "# Generate Data"
   ]
  },
  {
   "cell_type": "code",
   "execution_count": 5,
   "metadata": {},
   "outputs": [],
   "source": [
    "def Prepare_Data(DataPath,lower, upper, p, d, coef_seed,iteration_all,num_test, num_train, alpha,mis,data_generation_process,x_dist, e_dist, x_low, x_up, x_mean, x_var, bump):\n",
    "# #  ****** Coef generation *********\n",
    "    from Data import data_generation\n",
    "    data_gen = data_generation()\n",
    "    # W_star = data_gen.generate_truth(DataPath,lower, upper, p, d, coef_seed,data_generation_process) \n",
    "    # print(\"W_star = \",W_star[0,:])\n",
    "    np.random.seed(coef_seed)\n",
    "    x_test_all = {}; c_test_all = {}; x_train_all = {}; c_train_all = {}; W_star_all = {}\n",
    "    for iter in iteration_all:\n",
    "        DataPath_iter = DataPath +\"iter=\"+str(iter)+\"/\"\n",
    "        pathlib.Path(DataPath_iter).mkdir(parents=True, exist_ok=True)\n",
    "        W_star = data_gen.generate_truth(DataPath_iter,lower, upper, p, d, iter,data_generation_process) \n",
    "        # #  ****** Data generation *********\n",
    "        x_test_all[iter], c_test_all[iter], x_train_all[iter], c_train_all[iter], W_star_all[iter] = data_gen.generate_samples(iter,DataPath_iter,p, d, num_test, num_train, alpha, W_star, mis, num_test, \n",
    "                                data_generation_process, x_dist, e_dist, x_low, x_up, x_mean, x_var, bump) \n",
    "        # print()\n",
    "    return x_test_all, c_test_all, x_train_all, c_train_all, W_star_all"
   ]
  },
  {
   "cell_type": "markdown",
   "metadata": {},
   "source": [
    "# EPO(SPO+,...)"
   ]
  },
  {
   "cell_type": "code",
   "execution_count": 6,
   "metadata": {},
   "outputs": [],
   "source": [
    "# from PYEPO import PyEPO_Method\n",
    "# epo_runner = PyEPO_Method()\n",
    "def Implement_EPO(DataPath,seed_all,batch_size,num_epochs,method_names,x_train_all,c_train_all,x_test_all,c_test_all,arcs,epo_runner):\n",
    "    cost_EPO = {}\n",
    "    for seed in seed_all:\n",
    "        DataPath_seed = DataPath +\"Seed=\"+str(seed)+\"/\"\n",
    "        pathlib.Path(DataPath_seed).mkdir(parents=True, exist_ok=True)\n",
    "        # print(\"*** seed = \",seed,\": Run EPO ******\")\n",
    "        cost_EPO[seed] = epo_runner.run(method_names,DataPath_seed,batch_size,num_feat,grid,num_epochs,\\\n",
    "                                        x_train_all[seed],c_train_all[seed],x_test_all[seed],c_test_all[seed],arcs)\n",
    "    return cost_EPO"
   ]
  },
  {
   "cell_type": "markdown",
   "metadata": {},
   "source": [
    "# Obtain DDR estimation"
   ]
  },
  {
   "cell_type": "markdown",
   "metadata": {},
   "source": [
    "### define network"
   ]
  },
  {
   "cell_type": "code",
   "execution_count": 7,
   "metadata": {},
   "outputs": [],
   "source": [
    "def _getArcs(grid):\n",
    "    arcs = []\n",
    "    for i in range(grid[0]):\n",
    "        # edges on rows\n",
    "        for j in range(grid[1] - 1):\n",
    "            v = i * grid[1] + j\n",
    "            arcs.append((v, v + 1))\n",
    "        # edges in columns\n",
    "        if i == grid[0] - 1:\n",
    "            continue\n",
    "        for j in range(grid[1]):\n",
    "            v = i * grid[1] + j\n",
    "            arcs.append((v, v + grid[1]))\n",
    "\n",
    "    arc_index_mapping = {}\n",
    "    for i in range(len(arcs)):\n",
    "        arc = arcs[i]\n",
    "        arc_index_mapping[arc] = i\n",
    "\n",
    "    return arcs,arc_index_mapping"
   ]
  },
  {
   "cell_type": "code",
   "execution_count": 8,
   "metadata": {},
   "outputs": [],
   "source": [
    "def solve_DDR(arcs,lamb,mu_fixed,num_nodes,x_train,c_train):\n",
    "    \n",
    "    N,p = x_train.shape\n",
    "    N,d = c_train.shape\n",
    "\n",
    "    # DDR\n",
    "    m = Model(\"ddr\")\n",
    "    #m.setParam(\"DualReductions\",0)\n",
    "    m.setParam('OutputFlag', 0)\n",
    "\n",
    "    W_ind = tuplelist( [(i,j) for i in range(d) for j in range(p)] )\n",
    "    w0_ind = tuplelist( [i for i in range(d)])\n",
    "\n",
    "    W_ddr = m.addVars(W_ind, lb=-GRB.INFINITY,name = \"W\" )\n",
    "    w0_ddr = m.addVars(w0_ind, lb=-GRB.INFINITY,name = \"W0\" )\n",
    "    alpha = m.addVars(N,num_nodes,lb=-GRB.INFINITY,name=\"alpha\")\n",
    "    expr_obj = 0\n",
    "    err = []\n",
    "    for n in range(N):\n",
    "        cost_true_tem = c_train[n]\n",
    "        expr_obj = expr_obj + alpha[n,num_nodes-1] - alpha[n,0]\n",
    "        for ind in range(len(arcs)):\n",
    "            cost_pred_tem = quicksum([W_ddr[ind,j] * x_train[n,j] for j in range(p)]) + w0_ddr[ind]\n",
    "            err.append(cost_true_tem[ind] - cost_pred_tem)\n",
    "            e = arcs[ind]\n",
    "            j = e[1]\n",
    "            i = e[0]\n",
    "            # print(\"j = \",j,\", i = \",i, \", e = \",e)\n",
    "            m.addConstr(alpha[n,j] - alpha[n,i] >= -mu_fixed*cost_true_tem[ind] - (1-mu_fixed)*cost_pred_tem)\n",
    "\n",
    "    m.setObjective(quicksum([err[k] * err[k] for k in range(len(err))])/N + lamb*(expr_obj)/N, GRB.MINIMIZE)\n",
    "    m.optimize()\n",
    "    \n",
    "    W_DDR_rst = m.getAttr('x', W_ddr)\n",
    "    w0_DDR_rst = m.getAttr('x', w0_ddr)\n",
    "    W_ddr_val = []\n",
    "    for i in range(d):\n",
    "        W_ddr_val.append([W_DDR_rst[(i,j)] for j in range(p)])\n",
    "    w0_ddr_val = [w0_DDR_rst[i] for i in range(d)]\n",
    "\n",
    "    alpha_rst = m.getAttr('x', alpha)\n",
    "    return w0_ddr_val,W_ddr_val,alpha_rst,m.ObjVal"
   ]
  },
  {
   "cell_type": "markdown",
   "metadata": {},
   "source": [
    "# Out-of-sample performance"
   ]
  },
  {
   "cell_type": "markdown",
   "metadata": {},
   "source": [
    "### Generate data"
   ]
  },
  {
   "cell_type": "code",
   "execution_count": 9,
   "metadata": {},
   "outputs": [],
   "source": [
    "arcs,arc_index_mapping = _getArcs(grid)\n",
    "num_arcs = len(arcs)\n",
    "iteration_all = np.arange(0,10)\n",
    "# obtain data\n",
    "x_test_all, c_test_all, x_train_all, c_train_all, W_star_all = Prepare_Data(DataPath,lower, upper, p, d, coef_seed,iteration_all,num_test, num_train, alpha,mis,data_generation_process,x_dist, e_dist, x_low, x_up, x_mean, x_var, bump)"
   ]
  },
  {
   "cell_type": "markdown",
   "metadata": {},
   "source": [
    "### EPO performance"
   ]
  },
  {
   "cell_type": "code",
   "execution_count": 10,
   "metadata": {},
   "outputs": [],
   "source": [
    "# # EPO, including SPO, PG, LTR\n",
    "# batch_size = 20\n",
    "# num_epochs = 100\n",
    "# method_names = [\"spo+\",\"pg\",\"ltr\"]\n",
    "# method_names = [\"spo+\"]\n",
    "# from PYEPO import PyEPO_Method\n",
    "# epo_runner = PyEPO_Method()\n",
    "\n",
    "# cost_EPO_all = Implement_EPO(DataPath,[1],batch_size,num_epochs,method_names,x_train_all,c_train_all,x_test_all,c_test_all,arcs,epo_runner)\n",
    "# print(\"SPO+Cost = \",np.nanmean(cost_EPO_all[1][\"SPO\"]))"
   ]
  },
  {
   "cell_type": "markdown",
   "metadata": {},
   "source": [
    "## Oracle performance"
   ]
  },
  {
   "cell_type": "code",
   "execution_count": 11,
   "metadata": {},
   "outputs": [
    {
     "name": "stdout",
     "output_type": "stream",
     "text": [
      "Set parameter Username\n",
      "Academic license - for non-commercial use only - expires 2026-03-13\n"
     ]
    }
   ],
   "source": [
    "from Peformance import performance_evaluation\n",
    "perfs = performance_evaluation()\n",
    "cost_Oracle_para_all = {}; cost_Oracle_para_avg = {}\n",
    "cost_Oracle_realization_all = {}; cost_Oracle_realization_avg = {}\n",
    "\n",
    "for iter in iteration_all:\n",
    "    if data_generation_process == \"SPO_Data_Generation\":\n",
    "        cost_dem = (W_star_all[iter] @ x_test_all[iter].T)/np.sqrt(num_feat) + 3\n",
    "        oracle_cost_pred = (cost_dem ** mis + 1).T\n",
    "    if data_generation_process == \"DDR_Data_Generation\":\n",
    "        cost_dem = (W_star_all[iter] @ x_test_all[iter].T) + bump\n",
    "        oracle_cost_pred = (cost_dem ** mis).T\n",
    "        cost_Oracle_para_all[iter] = perfs.compute_Oracel_Cost(arcs, grid,oracle_cost_pred,c_test_all[iter])\n",
    "        cost_Oracle_para_avg[iter] = np.nanmean(cost_Oracle_para_all[iter])\n",
    "        \n",
    "        cost_Oracle_realization_all[iter] = perfs.compute_Oracel_Cost(arcs, grid,c_test_all[iter],c_test_all[iter])\n",
    "        cost_Oracle_realization_avg[iter] = np.nanmean(cost_Oracle_realization_all[iter])\n",
    "    # cost_Oracle_all[iter] = perfs.compute_Cost_with_Prediction(arcs,np.ones(num_arcs)*bump, W_star_all[iter],grid,c_test_all[iter],x_test_all[iter])"
   ]
  },
  {
   "cell_type": "markdown",
   "metadata": {},
   "source": [
    "### OLS performance"
   ]
  },
  {
   "cell_type": "code",
   "execution_count": 12,
   "metadata": {},
   "outputs": [],
   "source": [
    "from OLS import ols_method\n",
    "ols_method_obj = ols_method()\n",
    "W_ols_all = {}; w0_ols_all = {}; t_ols_all = {}; obj_ols_all = {}\n",
    "cost_OLS_all = {}\n",
    "for iter in iteration_all:\n",
    "    # compute OLS performance\n",
    "    W_ols_all[iter], w0_ols_all[iter], t_ols_all[iter], obj_ols_all[iter] = ols_method_obj.ols_solver(\"\",x_train_all[iter], c_train_all[iter])\n",
    "    cost_dem = (W_ols_all[iter] @ x_test_all[iter].T).T + w0_ols_all[iter]\n",
    "    cost_OLS_all[iter] = perfs.compute_Oracel_Cost(arcs, grid,cost_dem,c_test_all[iter])\n",
    "    # cost_OLS_all[iter] = perfs.compute_Cost_with_Prediction(arcs,w0_ols_all[iter],W_ols_all[iter], grid,c_test_all[iter],x_test_all[iter])"
   ]
  },
  {
   "cell_type": "code",
   "execution_count": 13,
   "metadata": {},
   "outputs": [],
   "source": [
    "# from Shortest_Path_Model import My_ShortestPathModel\n",
    "# full_shortest_model = My_ShortestPathModel()\n",
    "# cost_OLS_avg_log = np.zeros(len(iteration_all))\n",
    "# for iter in iteration_all:\n",
    "#     # compute OLS performance\n",
    "#     W_ols, w0_ols, t_ols, obj_ols = ols_method_obj.ols_solver(\"\",x_train_all[iter], np.log(c_train_all[iter]))\n",
    "#     dem_coef = np.exp((W_ols @ x_test_all[iter].T).T + w0_ols)\n",
    "#     cost_OLS_log = perfs.compute_Oracel_Cost(arcs, grid,dem_coef,c_test_all[iter])\n",
    "#     cost_OLS_avg_log[iter] = np.nanmean(cost_OLS_log)\n",
    "# print(\"OLS cost = \",np.round(cost_OLS_avg_log,4))"
   ]
  },
  {
   "cell_type": "markdown",
   "metadata": {},
   "source": [
    "### DDR performance"
   ]
  },
  {
   "cell_type": "code",
   "execution_count": 14,
   "metadata": {},
   "outputs": [],
   "source": [
    "def obtain_DDR_out_of_sample_performance(mu_all,lamb_all,num_nodes,x_train,c_train,x_test,c_test,perfs,grid,is_log):\n",
    "    lamb_index = 0\n",
    "    cost_DDR = {}; w0_ddr_dict = {}; W_ddr_dict = {}\n",
    "    cost_DDR_avg = np.zeros((len(mu_all),len(lamb_all)))\n",
    "    mu_index = 0\n",
    "    for mu in mu_all:\n",
    "        lamb_index = 0\n",
    "        for lamb in lamb_all:\n",
    "            if is_log:\n",
    "                w0_ddr_dict[mu,lamb],W_ddr_dict[mu,lamb],alpha_rst,obj_ddr = solve_DDR(arcs,lamb,mu,num_nodes,x_train,np.log(c_train))\n",
    "                cost_dem = np.exp((W_ddr_dict[mu,lamb] @ x_test.T).T + w0_ddr_dict[mu,lamb])\n",
    "            else:\n",
    "                w0_ddr_dict[mu,lamb],W_ddr_dict[mu,lamb],alpha_rst,obj_ddr = solve_DDR(arcs,lamb,mu,num_nodes,x_train,c_train)\n",
    "                cost_dem = (W_ddr_dict[mu,lamb] @ x_test.T).T + w0_ddr_dict[mu,lamb]\n",
    "            cost_DDR[mu,lamb] = perfs.compute_Oracel_Cost(arcs, grid,cost_dem,c_test)\n",
    "            # cost_DDR[mu,lamb] = perfs.compute_Cost_with_Prediction(arcs,w0_ddr_dict[mu,lamb],W_ddr_dict[mu,lamb], grid,c_test,x_test)\n",
    "            cost_DDR_avg[mu_index,lamb_index] = np.nanmean(cost_DDR[mu,lamb])\n",
    "            lamb_index = lamb_index + 1\n",
    "        # print(\"cost_DDR_avg=\",np.round(cost_DDR_avg[0,:],4))\n",
    "        mu_index = mu_index + 1\n",
    "    return cost_DDR,w0_ddr_dict,W_ddr_dict,cost_DDR_avg"
   ]
  },
  {
   "cell_type": "code",
   "execution_count": 15,
   "metadata": {},
   "outputs": [],
   "source": [
    "def obtain_ddr_rst(iteration_all,mu_all,lamb_all,num_nodes,x_train_all,c_train_all,x_test_all,c_test_all,perfs,grid,is_log):\n",
    "    cost_DDR_all = {}; w0_ddr_all = {}; W_ddr_all = {}\n",
    "    cost_DDR_avg_all = {}\n",
    "    for iter in iteration_all:\n",
    "        cost_DDR_all[iter],w0_ddr_all[iter],W_ddr_all[iter],cost_DDR_avg_all[iter] = obtain_DDR_out_of_sample_performance(mu_all,lamb_all,num_nodes,x_train_all[iter],c_train_all[iter],x_test_all[iter],c_test_all[iter],perfs,grid,is_log)\n",
    "        print(\"iter = \",iter,\",cost_DDR_avg_all = \")\n",
    "        print(np.round(cost_DDR_avg_all[iter],4))\n",
    "    # print(\"regred_DDR_vs_OLS_all=\",regred_DDR_vs_OLS_all)\n",
    "    return cost_DDR_all,w0_ddr_all,W_ddr_all,cost_DDR_avg_all"
   ]
  },
  {
   "cell_type": "code",
   "execution_count": 16,
   "metadata": {},
   "outputs": [
    {
     "name": "stdout",
     "output_type": "stream",
     "text": [
      "iter =  0 ,cost_DDR_avg_all = \n",
      "[[13.3374 13.3378 13.3387 13.3394 13.3408 13.3415 13.3421 13.3415 13.3433\n",
      "  13.3467]\n",
      " [13.3374 13.3378 13.3367 13.3368 13.3391 13.3389 13.3386 13.3419 13.3428\n",
      "  13.3435]\n",
      " [13.3374 13.3376 13.3379 13.3375 13.3371 13.3382 13.3407 13.3412 13.3364\n",
      "  13.3368]\n",
      " [13.3374 13.3375 13.336  13.3365 13.3369 13.3376 13.3373 13.3359 13.3362\n",
      "  13.3372]\n",
      " [13.3374 13.3378 13.337  13.3359 13.3365 13.3366 13.3376 13.337  13.3362\n",
      "  13.3374]\n",
      " [13.3374 13.3374 13.3371 13.3376 13.3376 13.3368 13.3368 13.3382 13.3383\n",
      "  13.339 ]\n",
      " [13.3374 13.3384 13.3377 13.3381 13.3376 13.3377 13.3385 13.3388 13.3388\n",
      "  13.3385]\n",
      " [13.3374 13.3385 13.3384 13.338  13.3373 13.338  13.3379 13.3377 13.3382\n",
      "  13.3386]\n",
      " [13.3374 13.3379 13.3385 13.3388 13.3391 13.3383 13.338  13.3378 13.338\n",
      "  13.3381]]\n",
      "iter =  1 ,cost_DDR_avg_all = \n",
      "[[13.3344 13.335  13.3361 13.3351 13.3356 13.3361 13.3365 13.339  13.3416\n",
      "  13.3435]\n",
      " [13.3344 13.3348 13.3353 13.3353 13.3353 13.336  13.336  13.3361 13.3363\n",
      "  13.3358]\n",
      " [13.3344 13.3341 13.335  13.3348 13.3363 13.3358 13.3354 13.3356 13.3361\n",
      "  13.3357]\n",
      " [13.3344 13.334  13.3337 13.3339 13.3348 13.334  13.3352 13.3365 13.3371\n",
      "  13.3357]\n",
      " [13.3344 13.3334 13.3332 13.3339 13.3335 13.3331 13.3338 13.3336 13.3334\n",
      "  13.3317]\n",
      " [13.3344 13.3338 13.3339 13.3342 13.3346 13.3348 13.3349 13.3347 13.3353\n",
      "  13.3371]\n",
      " [13.3344 13.334  13.3331 13.3335 13.3341 13.3353 13.3357 13.3361 13.337\n",
      "  13.336 ]\n",
      " [13.3344 13.334  13.3339 13.3327 13.3332 13.3335 13.3335 13.3338 13.3344\n",
      "  13.335 ]\n",
      " [13.3344 13.3343 13.334  13.3344 13.3347 13.3344 13.3343 13.334  13.3342\n",
      "  13.3342]]\n",
      "iter =  2 ,cost_DDR_avg_all = \n",
      "[[13.6979 13.698  13.6988 13.6984 13.6972 13.6937 13.6955 13.6979 13.6946\n",
      "  13.6916]\n",
      " [13.6979 13.6991 13.7013 13.6992 13.6968 13.695  13.693  13.6955 13.6978\n",
      "  13.7035]\n",
      " [13.6979 13.6988 13.7004 13.7002 13.6999 13.6983 13.6974 13.6955 13.6955\n",
      "  13.6965]\n",
      " [13.6979 13.6976 13.6969 13.6973 13.6965 13.6964 13.6954 13.696  13.6972\n",
      "  13.6973]\n",
      " [13.6979 13.699  13.6978 13.6988 13.6996 13.6984 13.6978 13.698  13.6975\n",
      "  13.6978]\n",
      " [13.6979 13.6982 13.6982 13.6983 13.6989 13.6993 13.6997 13.6998 13.6989\n",
      "  13.6989]\n",
      " [13.6979 13.6983 13.6981 13.6982 13.6972 13.6977 13.6989 13.6987 13.6989\n",
      "  13.6991]\n",
      " [13.6979 13.698  13.6978 13.6974 13.6968 13.6977 13.6974 13.6976 13.6991\n",
      "  13.6989]\n",
      " [13.6979 13.6977 13.6983 13.6985 13.6981 13.6978 13.698  13.6982 13.6985\n",
      "  13.6982]]\n",
      "iter =  3 ,cost_DDR_avg_all = \n",
      "[[13.24   13.2405 13.2407 13.2407 13.2393 13.2399 13.2395 13.2385 13.2381\n",
      "  13.2399]\n",
      " [13.24   13.2407 13.2411 13.2412 13.2415 13.243  13.2437 13.2441 13.2439\n",
      "  13.246 ]\n",
      " [13.24   13.2403 13.2411 13.2409 13.2411 13.2416 13.2454 13.2467 13.2477\n",
      "  13.249 ]\n",
      " [13.24   13.2409 13.2403 13.241  13.2411 13.2419 13.2429 13.2438 13.2457\n",
      "  13.2454]\n",
      " [13.24   13.2407 13.2407 13.241  13.2407 13.2413 13.2409 13.2434 13.2444\n",
      "  13.2442]\n",
      " [13.24   13.2407 13.2408 13.2404 13.2412 13.2412 13.2413 13.2417 13.2419\n",
      "  13.2417]\n",
      " [13.24   13.2405 13.2409 13.241  13.2409 13.2406 13.2416 13.2423 13.2428\n",
      "  13.2426]\n",
      " [13.24   13.24   13.24   13.2406 13.2401 13.2401 13.2402 13.2398 13.2397\n",
      "  13.2399]\n",
      " [13.24   13.2398 13.2398 13.2398 13.24   13.2398 13.2398 13.2398 13.2403\n",
      "  13.2399]]\n",
      "iter =  4 ,cost_DDR_avg_all = \n",
      "[[12.9433 12.9426 12.9423 12.9409 12.9411 12.9408 12.9409 12.9389 12.9389\n",
      "  12.9402]\n",
      " [12.9433 12.9426 12.9431 12.9415 12.9403 12.9407 12.9408 12.9403 12.9387\n",
      "  12.9393]\n",
      " [12.9433 12.9433 12.9434 12.9425 12.9409 12.9408 12.9396 12.9408 12.9391\n",
      "  12.9392]\n",
      " [12.9433 12.9432 12.943  12.943  12.9421 12.9431 12.9432 12.9423 12.9424\n",
      "  12.9429]\n",
      " [12.9433 12.9432 12.9432 12.9429 12.9425 12.9426 12.9428 12.942  12.9413\n",
      "  12.9422]\n",
      " [12.9433 12.9436 12.9435 12.9435 12.9437 12.9439 12.9434 12.9438 12.9435\n",
      "  12.9439]\n",
      " [12.9433 12.9433 12.9436 12.9433 12.9433 12.9435 12.9435 12.9435 12.9436\n",
      "  12.9437]\n",
      " [12.9433 12.9432 12.9429 12.9426 12.9427 12.9432 12.9435 12.9427 12.9431\n",
      "  12.9431]\n",
      " [12.9433 12.9433 12.9432 12.9432 12.9429 12.9427 12.9426 12.9425 12.9427\n",
      "  12.9428]]\n",
      "iter =  5 ,cost_DDR_avg_all = \n",
      "[[13.5946 13.5935 13.5949 13.5955 13.5966 13.5958 13.5957 13.596  13.5957\n",
      "  13.5961]\n",
      " [13.5946 13.5945 13.5941 13.5924 13.5942 13.592  13.5896 13.5874 13.589\n",
      "  13.5886]\n",
      " [13.5946 13.5926 13.5916 13.5927 13.593  13.5924 13.5906 13.5914 13.5879\n",
      "  13.5918]\n",
      " [13.5946 13.594  13.5916 13.5933 13.5924 13.5937 13.5934 13.5924 13.5925\n",
      "  13.592 ]\n",
      " [13.5946 13.5938 13.5921 13.5923 13.593  13.5923 13.5924 13.5901 13.5922\n",
      "  13.5911]\n",
      " [13.5946 13.5942 13.5941 13.5941 13.5928 13.5949 13.594  13.5935 13.5931\n",
      "  13.5932]\n",
      " [13.5946 13.5947 13.5935 13.5933 13.5931 13.5926 13.5927 13.5916 13.5919\n",
      "  13.5921]\n",
      " [13.5946 13.5947 13.5941 13.5937 13.5936 13.5941 13.5944 13.5938 13.5923\n",
      "  13.592 ]\n",
      " [13.5946 13.5948 13.5945 13.5943 13.5947 13.5943 13.5945 13.5943 13.5951\n",
      "  13.5958]]\n",
      "iter =  6 ,cost_DDR_avg_all = \n",
      "[[13.4978 13.4999 13.5002 13.502  13.5036 13.5051 13.5031 13.5025 13.502\n",
      "  13.5012]\n",
      " [13.4978 13.4997 13.4997 13.4993 13.4988 13.4985 13.4988 13.5    13.5006\n",
      "  13.5019]\n",
      " [13.4978 13.4989 13.5003 13.5011 13.5027 13.5034 13.5045 13.5058 13.5038\n",
      "  13.5036]\n",
      " [13.4978 13.4985 13.5    13.5017 13.5021 13.5023 13.5021 13.5031 13.5052\n",
      "  13.505 ]\n",
      " [13.4978 13.4989 13.5    13.501  13.5017 13.5025 13.5029 13.5039 13.5034\n",
      "  13.5046]\n",
      " [13.4978 13.499  13.5002 13.5014 13.5016 13.503  13.5036 13.5033 13.5035\n",
      "  13.5022]\n",
      " [13.4978 13.4984 13.4992 13.5007 13.5013 13.5022 13.5035 13.5069 13.5077\n",
      "  13.5072]\n",
      " [13.4978 13.498  13.4994 13.4992 13.5001 13.5002 13.5013 13.5015 13.5029\n",
      "  13.5035]\n",
      " [13.4978 13.4976 13.4974 13.4985 13.4988 13.4995 13.5    13.5001 13.5001\n",
      "  13.5006]]\n",
      "iter =  7 ,cost_DDR_avg_all = \n",
      "[[13.3584 13.3594 13.3613 13.3597 13.3601 13.36   13.3616 13.3642 13.3656\n",
      "  13.366 ]\n",
      " [13.3584 13.3603 13.3605 13.3614 13.3621 13.3631 13.3629 13.3648 13.3637\n",
      "  13.3646]\n",
      " [13.3584 13.3593 13.3606 13.3607 13.361  13.3607 13.3632 13.363  13.3639\n",
      "  13.3676]\n",
      " [13.3584 13.36   13.3609 13.3612 13.3621 13.3629 13.364  13.3643 13.365\n",
      "  13.3672]\n",
      " [13.3584 13.3586 13.3599 13.3605 13.3609 13.3608 13.3626 13.3626 13.3634\n",
      "  13.362 ]\n",
      " [13.3584 13.3589 13.3595 13.3593 13.3602 13.36   13.3603 13.36   13.3609\n",
      "  13.3618]\n",
      " [13.3584 13.3591 13.3592 13.3589 13.3601 13.3601 13.3603 13.36   13.3607\n",
      "  13.3616]\n",
      " [13.3584 13.3586 13.3584 13.3588 13.3588 13.3577 13.3587 13.3584 13.358\n",
      "  13.358 ]\n",
      " [13.3584 13.3589 13.3589 13.3581 13.3591 13.3584 13.3584 13.3587 13.3588\n",
      "  13.3591]]\n",
      "iter =  8 ,cost_DDR_avg_all = \n",
      "[[13.3254 13.3245 13.3239 13.3237 13.3238 13.3238 13.3229 13.3233 13.3224\n",
      "  13.3223]\n",
      " [13.3254 13.3245 13.3239 13.3243 13.3225 13.3236 13.325  13.3242 13.3228\n",
      "  13.3237]\n",
      " [13.3254 13.3254 13.3253 13.3259 13.323  13.3252 13.3253 13.3261 13.3255\n",
      "  13.3269]\n",
      " [13.3254 13.3243 13.3242 13.3234 13.3237 13.3232 13.3231 13.3236 13.3229\n",
      "  13.3234]\n",
      " [13.3254 13.3251 13.325  13.3243 13.3241 13.3239 13.324  13.3236 13.3253\n",
      "  13.3252]\n",
      " [13.3254 13.3246 13.3242 13.3246 13.3244 13.3238 13.3236 13.3232 13.3227\n",
      "  13.3227]\n",
      " [13.3254 13.3251 13.3242 13.3248 13.3249 13.3244 13.3242 13.324  13.3236\n",
      "  13.3232]\n",
      " [13.3254 13.3254 13.3244 13.325  13.3252 13.3254 13.325  13.3247 13.3241\n",
      "  13.3239]\n",
      " [13.3254 13.3258 13.3255 13.325  13.3247 13.3245 13.3247 13.3244 13.3244\n",
      "  13.3242]]\n",
      "iter =  9 ,cost_DDR_avg_all = \n",
      "[[13.5729 13.572  13.5708 13.5692 13.566  13.5693 13.5701 13.5676 13.5671\n",
      "  13.5608]\n",
      " [13.5729 13.5734 13.5722 13.5699 13.5693 13.5683 13.5695 13.5697 13.5656\n",
      "  13.5635]\n",
      " [13.5729 13.5733 13.5714 13.5727 13.5729 13.5731 13.5736 13.5707 13.5708\n",
      "  13.5696]\n",
      " [13.5729 13.5739 13.5736 13.5735 13.5735 13.5723 13.5681 13.5704 13.5767\n",
      "  13.5756]\n",
      " [13.5729 13.5744 13.5757 13.5757 13.5754 13.5743 13.5767 13.5777 13.5787\n",
      "  13.5754]\n",
      " [13.5729 13.5739 13.5748 13.5742 13.5742 13.5745 13.5733 13.5734 13.5727\n",
      "  13.5726]\n",
      " [13.5729 13.573  13.5734 13.5743 13.5737 13.573  13.5727 13.5721 13.5719\n",
      "  13.5712]\n",
      " [13.5729 13.5731 13.5742 13.5735 13.5755 13.5761 13.5762 13.5761 13.5766\n",
      "  13.5767]\n",
      " [13.5729 13.5727 13.5728 13.5737 13.5745 13.5748 13.5754 13.5753 13.5755\n",
      "  13.5759]]\n"
     ]
    }
   ],
   "source": [
    "is_log = False\n",
    "mu_all = np.arange(0.1,1.0,0.1)\n",
    "lamb_all = np.round(np.arange(0.0,1.0,0.1),4)\n",
    "cost_DDR_all,w0_ddr_all,W_ddr_all,cost_DDR_avg_all = obtain_ddr_rst(iteration_all,mu_all,lamb_all,num_nodes,x_train_all,c_train_all,x_test_all,c_test_all,perfs,grid,is_log)"
   ]
  },
  {
   "cell_type": "code",
   "execution_count": 17,
   "metadata": {},
   "outputs": [],
   "source": [
    "regret_ddr_vs_ols_para_all = {}; regret_ddr_vs_ols_para_avg = np.zeros((len(mu_all),len(lamb_all)))\n",
    "regret_ddr_vs_ols_realization_all = {}; regret_ddr_vs_ols_realization_avg = np.zeros((len(mu_all),len(lamb_all)))\n",
    "\n",
    "cost_OLS_avg_all = np.zeros(len(iteration_all))\n",
    "cost_Oracle_para_avg_all = np.zeros(len(iteration_all))\n",
    "cost_Oracle_realization_avg_all = np.zeros(len(iteration_all))\n",
    "\n",
    "for iter_index in range(len(iteration_all)):\n",
    "    iter = iteration_all[iter_index]\n",
    "    cost_OLS_avg_all[iter_index] = np.nanmean(cost_OLS_all[iter])\n",
    "    cost_Oracle_para_avg_all[iter_index] = np.nanmean(cost_Oracle_para_all[iter])\n",
    "    cost_Oracle_realization_avg_all[iter_index] = np.nanmean(cost_Oracle_realization_all[iter])\n",
    "\n",
    "    regret_ddr_vs_ols_para_all[iter_index] = (cost_OLS_avg_all[iter_index] - cost_DDR_avg_all[iter])/np.abs(cost_OLS_avg_all[iter_index] - cost_Oracle_para_avg_all[iter_index])\n",
    "    regret_ddr_vs_ols_para_avg = regret_ddr_vs_ols_para_avg + regret_ddr_vs_ols_para_all[iter_index]\n",
    "\n",
    "    regret_ddr_vs_ols_realization_all[iter_index] = (cost_OLS_avg_all[iter_index] - cost_DDR_avg_all[iter])/np.abs(cost_OLS_avg_all[iter_index] - cost_Oracle_realization_avg_all[iter_index])\n",
    "    regret_ddr_vs_ols_realization_avg = regret_ddr_vs_ols_realization_avg + regret_ddr_vs_ols_realization_all[iter_index]\n",
    "\n",
    "regret_ddr_vs_ols_para_avg = regret_ddr_vs_ols_para_avg/len(iteration_all)\n",
    "regret_ddr_vs_ols_realization_avg = regret_ddr_vs_ols_realization_avg/len(iteration_all)\n"
   ]
  },
  {
   "cell_type": "code",
   "execution_count": 18,
   "metadata": {},
   "outputs": [],
   "source": [
    "regret_DDR_vs_OLS_para_avg_df = pd.DataFrame(regret_ddr_vs_ols_para_avg)\n",
    "regret_DDR_vs_OLS_para_avg_df.index = mu_all\n",
    "regret_DDR_vs_OLS_para_avg_df.columns = lamb_all\n",
    "regret_DDR_vs_OLS_para_avg_df.to_csv(DataPath+\"regret_DDR_vs_OLS_para_avg.csv\")\n",
    "\n",
    "regret_DDR_vs_OLS_realization_avg = pd.DataFrame(regret_ddr_vs_ols_realization_avg)\n",
    "regret_DDR_vs_OLS_realization_avg.index = mu_all\n",
    "regret_DDR_vs_OLS_realization_avg.columns = lamb_all\n",
    "regret_DDR_vs_OLS_realization_avg.to_csv(DataPath+\"regret_DDR_vs_OLS_realization_avg.csv\")"
   ]
  },
  {
   "cell_type": "code",
   "execution_count": 19,
   "metadata": {},
   "outputs": [],
   "source": [
    "# with open(DataPath+'cost_OLS_all.pkl', \"wb\") as tf:\n",
    "#     pickle.dump(cost_OLS_all,tf)\n",
    "# with open(DataPath+'cost_Oracle_all.pkl', \"wb\") as tf:\n",
    "#     pickle.dump(cost_Oracle_all,tf)\n",
    "# with open(DataPath+'cost_DDR_all.pkl', \"wb\") as tf:\n",
    "#     pickle.dump(cost_DDR_all,tf)"
   ]
  },
  {
   "cell_type": "code",
   "execution_count": 20,
   "metadata": {},
   "outputs": [],
   "source": [
    "# seed = 1\n",
    "# lamb = 1\n",
    "# cost_OLS_esti = x_test_all[seed] @ np.asarray(W_ols_all[seed]).T + w0_ols_all[seed]\n",
    "# cost_DDR_esti = x_test_all[seed] @ np.asarray(W_ddr_all[seed,mu][lamb]).T + w0_ddr_all[seed,mu][lamb]\n",
    "\n",
    "# S_test_index = 3\n",
    "# print(\"cost_DDR_esti=\",np.round(cost_DDR_esti[S_test_index,],2))\n",
    "# # print(\"cost:(0,1)-->(1,3) = \",cost_DDR_esti[S_test_index,0] + cost_DDR_esti[S_test_index,2])\n",
    "# # print(\"cost:(0,2)-->(2,3) = \",cost_DDR_esti[S_test_index,1] + cost_DDR_esti[S_test_index,3])\n",
    "\n",
    "# print(\"cost_OLS_esti=\",np.round(cost_OLS_esti[S_test_index,],2))\n",
    "# # print(\"cost:(0,1)-->(1,3) = \",cost_OLS_esti[S_test_index,0] + cost_OLS_esti[S_test_index,2])\n",
    "# # print(\"cost:(0,2)-->(2,3) = \",cost_OLS_esti[S_test_index,1] + cost_OLS_esti[S_test_index,3])\n",
    "\n",
    "\n",
    "# print(\"cost_Oracle=\",np.round(c_test_all[seed][S_test_index],2))\n",
    "# # print(\"cost:(0,1)-->(1,3) = \",c_test_all[seed][S_test_index,0] + c_test_all[seed][S_test_index,2])\n",
    "# # print(\"cost:(0,2)-->(2,3) = \",c_test_all[seed][S_test_index,1] + c_test_all[seed][S_test_index,3])"
   ]
  },
  {
   "cell_type": "markdown",
   "metadata": {},
   "source": [
    "# Plot figures"
   ]
  },
  {
   "cell_type": "code",
   "execution_count": 21,
   "metadata": {},
   "outputs": [],
   "source": [
    "def cross_compare2plus(c_item, c_base, c_oracle):\n",
    "    c_item = np.asarray(c_item)\n",
    "    c_base = np.asarray(c_base)\n",
    "    c_oracle = np.asarray(c_oracle)\n",
    "\n",
    "    N = len(c_item)\n",
    "    c_diff = c_item - c_base\n",
    "    lbel = np.zeros((N,1))\n",
    "    \n",
    "    equals = np.sum(c_diff == 0)\n",
    "    wins = np.sum(c_diff < 0)\n",
    "    lose = np.sum(c_diff > 0)\n",
    "    \n",
    "    lbel[c_diff < 0] = 1\n",
    "    lbel[c_diff > 0] = -1\n",
    "    \n",
    "    # print(\"Num_train =\",N,\",Num_equals =\",equals,\",Num_wins =\",wins,\",Num_lose =\",lose)\n",
    "    # print(\"base cost = \", np.mean(c_base),\",item cost = \",np.mean(c_item))\n",
    "    if N == equals:\n",
    "        win_ratio = 0.5\n",
    "    else:\n",
    "        win_ratio = wins/(N - equals)\n",
    "    # cost_reduction = (np.mean(c_base) - np.mean(c_item) )/np.abs(np.mean(c_oracle))\n",
    "    regret_reduction = (np.nanmean(c_base) - np.nanmean(c_item))/np.abs(np.nanmean(c_base) - np.nanmean(c_oracle))\n",
    "    return lbel, win_ratio, regret_reduction"
   ]
  },
  {
   "cell_type": "markdown",
   "metadata": {},
   "source": [
    "### DDR figure"
   ]
  },
  {
   "cell_type": "code",
   "execution_count": 22,
   "metadata": {},
   "outputs": [],
   "source": [
    "# H2H_DDR_vs_OLS_all = {}; regret_reduction_DDR_vs_OLS_all = {}\n",
    "# for mu in mu_all:\n",
    "#     for lamb in lamb_all:\n",
    "#         H2H_DDR_vs_OLS_arr = np.zeros(len(iteration_all)); regret_reduction_DDR_vs_OLS_arr = np.zeros(len(iteration_all))\n",
    "#         # print(\"lamb = \",lamb)\n",
    "#         for iter in iteration_all:\n",
    "#             lbel, H2H_DDR_vs_OLS_arr[iter-1], regret_reduction_DDR_vs_OLS_arr[iter-1] = cross_compare2plus(cost_DDR_all[iter][mu,lamb],cost_OLS_all[iter], cost_Oracle_all[iter])\n",
    "#         H2H_DDR_vs_OLS_all[mu,lamb] = H2H_DDR_vs_OLS_arr; regret_reduction_DDR_vs_OLS_all[mu,lamb] = regret_reduction_DDR_vs_OLS_arr"
   ]
  },
  {
   "cell_type": "code",
   "execution_count": 23,
   "metadata": {},
   "outputs": [],
   "source": [
    "# mu = mu_all[0]\n",
    "# lamb = lamb_all[7]\n",
    "# import Figures\n",
    "# file_name = DataPath + \"figure_mu=\"+str(mu)+\"_lamb=\"+str(lamb)\n",
    "# Figures.figure_plot_upleft(H2H_DDR_vs_OLS_all[mu,lamb]*100, regret_reduction_DDR_vs_OLS_all[mu,lamb], file_name, size = (5, 5), move = [-0.12, 0.04, 0.35, 0.55], \n",
    "#                     ysame = 0, yrange = [6,6], sublabel = '', ypio = 0)"
   ]
  },
  {
   "cell_type": "code",
   "execution_count": 24,
   "metadata": {},
   "outputs": [],
   "source": [
    "# import matplotlib.pyplot as plt\n",
    "# fig = plt.figure()\n",
    "# ax = plt.subplot()\n",
    "# ax.plot(lamb_all,regret_all[seed,mu])"
   ]
  },
  {
   "cell_type": "markdown",
   "metadata": {},
   "source": [
    "### SPO figure"
   ]
  },
  {
   "cell_type": "code",
   "execution_count": 25,
   "metadata": {},
   "outputs": [],
   "source": [
    "# H2H_SPO_vs_OLS_arr = np.zeros(len(seed_all)); regret_reduction_SPO_vs_OLS_arr = np.zeros(len(seed_all))\n",
    "# seed_index = 0\n",
    "# for seed in seed_all:\n",
    "#     lbel, H2H_SPO_vs_OLS_arr[seed_index], regret_reduction_SPO_vs_OLS_arr[seed_index] = cross_compare2plus(cost_EPO_all[seed][\"SPO\"],cost_OLS_all[seed], cost_Oracle_all[seed])\n",
    "#     seed_index = seed_index + 1\n",
    "# H2H_SPO_vs_OLS_all = H2H_SPO_vs_OLS_arr; regret_reduction_SPO_vs_OLS_all = regret_reduction_SPO_vs_OLS_arr"
   ]
  },
  {
   "cell_type": "code",
   "execution_count": 26,
   "metadata": {},
   "outputs": [],
   "source": [
    "# Figures.figure_plot_upleft(H2H_SPO_vs_OLS_all*100, regret_reduction_SPO_vs_OLS_all, \"\", size = (5, 5), move = [-0.12, 0.04, 0.35, 0.55], \n",
    "#                     ysame = 0, yrange = [6,6], sublabel = '', ypio = 0)"
   ]
  },
  {
   "cell_type": "code",
   "execution_count": 27,
   "metadata": {},
   "outputs": [],
   "source": [
    "# regret_reduction_SPO_vs_OLS_arr"
   ]
  }
 ],
 "metadata": {
  "kernelspec": {
   "display_name": ".venv",
   "language": "python",
   "name": "python3"
  },
  "language_info": {
   "codemirror_mode": {
    "name": "ipython",
    "version": 3
   },
   "file_extension": ".py",
   "mimetype": "text/x-python",
   "name": "python",
   "nbconvert_exporter": "python",
   "pygments_lexer": "ipython3",
   "version": "3.9.6"
  }
 },
 "nbformat": 4,
 "nbformat_minor": 2
}
