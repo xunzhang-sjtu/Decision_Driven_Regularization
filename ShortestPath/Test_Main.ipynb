{
 "cells": [
  {
   "cell_type": "code",
   "execution_count": 1,
   "metadata": {},
   "outputs": [],
   "source": [
    "import random\n",
    "import numpy as np\n",
    "import torch\n",
    "import os\n",
    "import pathlib\n",
    "import pickle\n",
    "from gurobipy import *\n",
    "from rsome import ro\n",
    "from rsome import grb_solver as grb\n",
    "import rsome as rso\n",
    "from rsome import cpt_solver as cpt"
   ]
  },
  {
   "cell_type": "code",
   "execution_count": 2,
   "metadata": {},
   "outputs": [],
   "source": [
    "data_generation_process = \"SPO_Data_Generation\"\n",
    "# data_generation_process = \"DDR_Data_Generation\""
   ]
  },
  {
   "cell_type": "markdown",
   "metadata": {},
   "source": [
    "# Parameters"
   ]
  },
  {
   "cell_type": "code",
   "execution_count": 3,
   "metadata": {},
   "outputs": [],
   "source": [
    "# import pyepo\n",
    "# generate data\n",
    "grid = (5,5) # grid size\n",
    "num_train = 100 # number of training data\n",
    "num_feat = 5 # size of feature\n",
    "num_test = 1000\n",
    "deg = 1.0 # polynomial degree\n",
    "e = 0.5 # scale of normal std or the range of uniform. For the error term\n",
    "\n",
    "lower = 0 # coef lower bound\n",
    "upper = 1 # coef upper bound\n",
    "p = num_feat # num of features\n",
    "d = (grid[0] - 1) * (grid[0] - 1) * 2 + 2 * (grid[0] - 1) # num of arcs\n",
    "num_nodes = grid[0]*grid[0]\n",
    "alpha = e # scale of normal std or the range of uniform. For the error term\n",
    "mis = deg # model misspecification\n",
    "coef_seed = 1"
   ]
  },
  {
   "cell_type": "code",
   "execution_count": 4,
   "metadata": {},
   "outputs": [
    {
     "name": "stdout",
     "output_type": "stream",
     "text": [
      "grandparent_directory: /Users/zhangxun/Dropbox/Research/Decision_Driven_Regularization/Code_MacBook\n",
      "DataPath: /Users/zhangxun/Dropbox/Research/Decision_Driven_Regularization/Data/Test0326_SPO_Data_Generation/\n"
     ]
    }
   ],
   "source": [
    "current_directory = os.getcwd()\n",
    "parent_directory = os.path.dirname(current_directory)\n",
    "grandparent_directory = os.path.dirname(parent_directory)\n",
    "DataPath = os.path.dirname(grandparent_directory) + '/Data/Test0326_' + data_generation_process + \"/\"\n",
    "pathlib.Path(DataPath).mkdir(parents=True, exist_ok=True)\n",
    "print(\"grandparent_directory:\", grandparent_directory)\n",
    "print(\"DataPath:\", DataPath)\n",
    "DataPath = DataPath + \"data_size=\"+str(num_train)+\"_deg=\"+str(deg)+\"_e=\"+str(e)+\"_d=\"+str(d)+\"_coef_seed=\"+str(coef_seed)+\"/\"\n",
    "pathlib.Path(DataPath).mkdir(parents=True, exist_ok=True)"
   ]
  },
  {
   "cell_type": "markdown",
   "metadata": {},
   "source": [
    "# Generate Data"
   ]
  },
  {
   "cell_type": "code",
   "execution_count": 5,
   "metadata": {},
   "outputs": [],
   "source": [
    "def Prepare_Data(DataPath,lower, upper, p, d, coef_seed,seed_all,num_test, num_train, alpha,mis,data_generation_process):\n",
    "# #  ****** Coef generation *********\n",
    "    from Data import data_generation\n",
    "    data_gen = data_generation()\n",
    "    # print(\"W_star = \",W_star[0,:])\n",
    "    W_star = data_gen.generate_truth(DataPath,lower, upper, p, d, coef_seed,version = 0) \n",
    "    \n",
    "    x_test_all = {}; c_test_all = {}; x_train_all = {}; c_train_all = {}; W_star_all = {}\n",
    "    for seed in seed_all:\n",
    "        DataPath_seed = DataPath +\"Seed=\"+str(seed)+\"/\"\n",
    "        pathlib.Path(DataPath_seed).mkdir(parents=True, exist_ok=True)\n",
    "        # #  ****** Data generation *********\n",
    "        x_test_all[seed], c_test_all[seed], x_train_all[seed], c_train_all[seed], W_star_all[seed] = data_gen.generate_samples(seed,DataPath_seed,p, d, num_test, num_train, alpha, W_star, mis, thres = 10, \n",
    "                                version = data_generation_process, x_dist = 'normal', e_dist = 'normal', x_low = 0, x_up = 2, x_mean = 2, x_var = 0.025, bump = 100) \n",
    "        # print()\n",
    "    return x_test_all, c_test_all, x_train_all, c_train_all, W_star_all"
   ]
  },
  {
   "cell_type": "markdown",
   "metadata": {},
   "source": [
    "# EPO(SPO+,...)"
   ]
  },
  {
   "cell_type": "code",
   "execution_count": 6,
   "metadata": {},
   "outputs": [],
   "source": [
    "# from PYEPO import PyEPO_Method\n",
    "# epo_runner = PyEPO_Method()\n",
    "def Implement_EPO(DataPath,seed_all,batch_size,num_epochs,method_names,x_train_all,c_train_all,x_test_all,c_test_all,arcs,epo_runner):\n",
    "    cost_EPO = {}\n",
    "    # batch_size = 20\n",
    "    # num_epochs = 30\n",
    "    for seed in seed_all:\n",
    "        DataPath_seed = DataPath +\"Seed=\"+str(seed)+\"/\"\n",
    "        pathlib.Path(DataPath_seed).mkdir(parents=True, exist_ok=True)\n",
    "        print(\"*** seed = \",seed,\": Run EPO ******\")\n",
    "        cost_EPO[seed] = epo_runner.run(method_names,DataPath_seed,batch_size,num_feat,grid,num_epochs,\\\n",
    "                                        x_train_all[seed],c_train_all[seed],x_test_all[seed],c_test_all[seed],arcs)\n",
    "    return cost_EPO"
   ]
  },
  {
   "cell_type": "markdown",
   "metadata": {},
   "source": [
    "# Obtain DDR estimation"
   ]
  },
  {
   "cell_type": "markdown",
   "metadata": {},
   "source": [
    "### define network"
   ]
  },
  {
   "cell_type": "code",
   "execution_count": 7,
   "metadata": {},
   "outputs": [],
   "source": [
    "def _getArcs(grid):\n",
    "    arcs = []\n",
    "    for i in range(grid[0]):\n",
    "        # edges on rows\n",
    "        for j in range(grid[1] - 1):\n",
    "            v = i * grid[1] + j\n",
    "            arcs.append((v, v + 1))\n",
    "        # edges in columns\n",
    "        if i == grid[0] - 1:\n",
    "            continue\n",
    "        for j in range(grid[1]):\n",
    "            v = i * grid[1] + j\n",
    "            arcs.append((v, v + grid[1]))\n",
    "\n",
    "    arc_index_mapping = {}\n",
    "    for i in range(len(arcs)):\n",
    "        arc = arcs[i]\n",
    "        arc_index_mapping[arc] = i\n",
    "\n",
    "    return arcs,arc_index_mapping"
   ]
  },
  {
   "cell_type": "code",
   "execution_count": 8,
   "metadata": {},
   "outputs": [],
   "source": [
    "def solve_DDR(arcs,lamb,mu_fixed,num_nodes,x_train,c_train):\n",
    "    \n",
    "    N,p = x_train.shape\n",
    "    N,d = c_train.shape\n",
    "\n",
    "    # DDR\n",
    "    m = Model(\"ddr\")\n",
    "    #m.setParam(\"DualReductions\",0)\n",
    "    m.setParam('OutputFlag', 0)\n",
    "\n",
    "    W_ind = tuplelist( [(i,j) for i in range(d) for j in range(p)] )\n",
    "    w0_ind = tuplelist( [i for i in range(d)])\n",
    "\n",
    "    W_ddr = m.addVars(W_ind, lb=-GRB.INFINITY,name = \"W\" )\n",
    "    w0_ddr = m.addVars(w0_ind, lb=-GRB.INFINITY,name = \"W0\" )\n",
    "    alpha = m.addVars(N,num_nodes,lb=-GRB.INFINITY,name=\"alpha\")\n",
    "    expr_obj = 0\n",
    "    err = []\n",
    "    for n in range(N):\n",
    "        cost_true_tem = c_train[n]\n",
    "        expr_obj = expr_obj + alpha[n,num_nodes-1] - alpha[n,0]\n",
    "        for ind in range(len(arcs)):\n",
    "            cost_pred_tem = quicksum([W_ddr[ind,j] * x_train[n,j] for j in range(p)]) + w0_ddr[ind]\n",
    "            err.append(cost_true_tem[ind] - cost_pred_tem)\n",
    "            e = arcs[ind]\n",
    "            j = e[1]\n",
    "            i = e[0]\n",
    "            # print(\"j = \",j,\", i = \",i, \", e = \",e)\n",
    "            m.addConstr(alpha[n,j] - alpha[n,i] >= -mu_fixed*cost_true_tem[ind] - (1-mu_fixed)*cost_pred_tem)\n",
    "\n",
    "    m.setObjective(quicksum([err[k] * err[k] for k in range(len(err))])/N + lamb*(expr_obj)/N, GRB.MINIMIZE)\n",
    "    m.optimize()\n",
    "    \n",
    "    W_DDR_rst = m.getAttr('x', W_ddr)\n",
    "    w0_DDR_rst = m.getAttr('x', w0_ddr)\n",
    "    W_ddr_val = []\n",
    "    for i in range(d):\n",
    "        W_ddr_val.append([W_DDR_rst[(i,j)] for j in range(p)])\n",
    "    w0_ddr_val = [w0_DDR_rst[i] for i in range(d)]\n",
    "\n",
    "    alpha_rst = m.getAttr('x', alpha)\n",
    "    return w0_ddr_val,W_ddr_val,alpha_rst,m.ObjVal"
   ]
  },
  {
   "cell_type": "markdown",
   "metadata": {},
   "source": [
    "# Out-of-sample performance"
   ]
  },
  {
   "cell_type": "markdown",
   "metadata": {},
   "source": [
    "### Generate data"
   ]
  },
  {
   "cell_type": "code",
   "execution_count": 9,
   "metadata": {},
   "outputs": [],
   "source": [
    "arcs,arc_index_mapping = _getArcs(grid)\n",
    "num_arcs = len(arcs)\n",
    "seed_all = np.arange(1,20)\n",
    "# obtain data\n",
    "x_test_all, c_test_all, x_train_all, c_train_all, W_star_all = Prepare_Data(DataPath,lower, upper, p, d, coef_seed,seed_all,num_test, num_train, alpha,mis,data_generation_process)"
   ]
  },
  {
   "cell_type": "markdown",
   "metadata": {},
   "source": [
    "### EPO performance"
   ]
  },
  {
   "cell_type": "code",
   "execution_count": 50,
   "metadata": {},
   "outputs": [
    {
     "name": "stdout",
     "output_type": "stream",
     "text": [
      "*** seed =  1 : Run EPO ******\n",
      "Optimizing for optDataset...\n"
     ]
    },
    {
     "name": "stderr",
     "output_type": "stream",
     "text": [
      "100%|██████████| 100/100 [00:00<00:00, 2326.43it/s]\n"
     ]
    },
    {
     "name": "stdout",
     "output_type": "stream",
     "text": [
      "Optimizing for optDataset...\n"
     ]
    },
    {
     "name": "stderr",
     "output_type": "stream",
     "text": [
      "100%|██████████| 1000/1000 [00:00<00:00, 3207.72it/s]\n"
     ]
    },
    {
     "name": "stdout",
     "output_type": "stream",
     "text": [
      "=========== Run SPO =============\n",
      "Num of cores: 2\n",
      "=========== Run PG =============\n",
      "Num of cores: 2\n",
      "=========== Run LTR =============\n",
      "Num of cores: 2\n",
      "*** seed =  2 : Run EPO ******\n",
      "Optimizing for optDataset...\n"
     ]
    },
    {
     "name": "stderr",
     "output_type": "stream",
     "text": [
      "100%|██████████| 100/100 [00:00<00:00, 2237.83it/s]\n"
     ]
    },
    {
     "name": "stdout",
     "output_type": "stream",
     "text": [
      "Optimizing for optDataset...\n"
     ]
    },
    {
     "name": "stderr",
     "output_type": "stream",
     "text": [
      "100%|██████████| 1000/1000 [00:00<00:00, 3216.49it/s]\n"
     ]
    },
    {
     "name": "stdout",
     "output_type": "stream",
     "text": [
      "=========== Run SPO =============\n",
      "Num of cores: 2\n",
      "=========== Run PG =============\n",
      "Num of cores: 2\n",
      "=========== Run LTR =============\n",
      "Num of cores: 2\n",
      "*** seed =  3 : Run EPO ******\n",
      "Optimizing for optDataset...\n"
     ]
    },
    {
     "name": "stderr",
     "output_type": "stream",
     "text": [
      "100%|██████████| 100/100 [00:00<00:00, 1831.47it/s]\n"
     ]
    },
    {
     "name": "stdout",
     "output_type": "stream",
     "text": [
      "Optimizing for optDataset...\n"
     ]
    },
    {
     "name": "stderr",
     "output_type": "stream",
     "text": [
      "100%|██████████| 1000/1000 [00:00<00:00, 3162.90it/s]\n"
     ]
    },
    {
     "name": "stdout",
     "output_type": "stream",
     "text": [
      "=========== Run SPO =============\n",
      "Num of cores: 2\n",
      "=========== Run PG =============\n",
      "Num of cores: 2\n",
      "=========== Run LTR =============\n",
      "Num of cores: 2\n",
      "*** seed =  4 : Run EPO ******\n",
      "Optimizing for optDataset...\n"
     ]
    },
    {
     "name": "stderr",
     "output_type": "stream",
     "text": [
      "100%|██████████| 100/100 [00:00<00:00, 3048.52it/s]\n"
     ]
    },
    {
     "name": "stdout",
     "output_type": "stream",
     "text": [
      "Optimizing for optDataset...\n"
     ]
    },
    {
     "name": "stderr",
     "output_type": "stream",
     "text": [
      "100%|██████████| 1000/1000 [00:00<00:00, 3161.23it/s]\n"
     ]
    },
    {
     "name": "stdout",
     "output_type": "stream",
     "text": [
      "=========== Run SPO =============\n",
      "Num of cores: 2\n",
      "=========== Run PG =============\n",
      "Num of cores: 2\n",
      "=========== Run LTR =============\n",
      "Num of cores: 2\n",
      "*** seed =  5 : Run EPO ******\n",
      "Optimizing for optDataset...\n"
     ]
    },
    {
     "name": "stderr",
     "output_type": "stream",
     "text": [
      "100%|██████████| 100/100 [00:00<00:00, 2197.71it/s]\n"
     ]
    },
    {
     "name": "stdout",
     "output_type": "stream",
     "text": [
      "Optimizing for optDataset...\n"
     ]
    },
    {
     "name": "stderr",
     "output_type": "stream",
     "text": [
      "100%|██████████| 1000/1000 [00:00<00:00, 3166.79it/s]\n"
     ]
    },
    {
     "name": "stdout",
     "output_type": "stream",
     "text": [
      "=========== Run SPO =============\n",
      "Num of cores: 2\n",
      "=========== Run PG =============\n",
      "Num of cores: 2\n",
      "=========== Run LTR =============\n",
      "Num of cores: 2\n",
      "*** seed =  6 : Run EPO ******\n",
      "Optimizing for optDataset...\n"
     ]
    },
    {
     "name": "stderr",
     "output_type": "stream",
     "text": [
      "100%|██████████| 100/100 [00:00<00:00, 2171.13it/s]\n"
     ]
    },
    {
     "name": "stdout",
     "output_type": "stream",
     "text": [
      "Optimizing for optDataset...\n"
     ]
    },
    {
     "name": "stderr",
     "output_type": "stream",
     "text": [
      "100%|██████████| 1000/1000 [00:00<00:00, 3165.98it/s]\n"
     ]
    },
    {
     "name": "stdout",
     "output_type": "stream",
     "text": [
      "=========== Run SPO =============\n",
      "Num of cores: 2\n",
      "=========== Run PG =============\n",
      "Num of cores: 2\n",
      "=========== Run LTR =============\n",
      "Num of cores: 2\n",
      "*** seed =  7 : Run EPO ******\n",
      "Optimizing for optDataset...\n"
     ]
    },
    {
     "name": "stderr",
     "output_type": "stream",
     "text": [
      "100%|██████████| 100/100 [00:00<00:00, 2047.59it/s]\n"
     ]
    },
    {
     "name": "stdout",
     "output_type": "stream",
     "text": [
      "Optimizing for optDataset...\n"
     ]
    },
    {
     "name": "stderr",
     "output_type": "stream",
     "text": [
      "100%|██████████| 1000/1000 [00:00<00:00, 3280.57it/s]\n"
     ]
    },
    {
     "name": "stdout",
     "output_type": "stream",
     "text": [
      "=========== Run SPO =============\n",
      "Num of cores: 2\n",
      "=========== Run PG =============\n",
      "Num of cores: 2\n",
      "=========== Run LTR =============\n",
      "Num of cores: 2\n",
      "*** seed =  8 : Run EPO ******\n",
      "Optimizing for optDataset...\n"
     ]
    },
    {
     "name": "stderr",
     "output_type": "stream",
     "text": [
      "100%|██████████| 100/100 [00:00<00:00, 2021.30it/s]\n"
     ]
    },
    {
     "name": "stdout",
     "output_type": "stream",
     "text": [
      "Optimizing for optDataset...\n"
     ]
    },
    {
     "name": "stderr",
     "output_type": "stream",
     "text": [
      "100%|██████████| 1000/1000 [00:00<00:00, 3251.38it/s]\n"
     ]
    },
    {
     "name": "stdout",
     "output_type": "stream",
     "text": [
      "=========== Run SPO =============\n",
      "Num of cores: 2\n",
      "=========== Run PG =============\n",
      "Num of cores: 2\n",
      "=========== Run LTR =============\n",
      "Num of cores: 2\n",
      "*** seed =  9 : Run EPO ******\n",
      "Optimizing for optDataset...\n"
     ]
    },
    {
     "name": "stderr",
     "output_type": "stream",
     "text": [
      "100%|██████████| 100/100 [00:00<00:00, 2171.65it/s]\n"
     ]
    },
    {
     "name": "stdout",
     "output_type": "stream",
     "text": [
      "Optimizing for optDataset...\n"
     ]
    },
    {
     "name": "stderr",
     "output_type": "stream",
     "text": [
      "100%|██████████| 1000/1000 [00:00<00:00, 3252.75it/s]\n"
     ]
    },
    {
     "name": "stdout",
     "output_type": "stream",
     "text": [
      "=========== Run SPO =============\n",
      "Num of cores: 2\n",
      "=========== Run PG =============\n",
      "Num of cores: 2\n",
      "=========== Run LTR =============\n",
      "Num of cores: 2\n",
      "*** seed =  10 : Run EPO ******\n",
      "Optimizing for optDataset...\n"
     ]
    },
    {
     "name": "stderr",
     "output_type": "stream",
     "text": [
      "100%|██████████| 100/100 [00:00<00:00, 2174.19it/s]\n"
     ]
    },
    {
     "name": "stdout",
     "output_type": "stream",
     "text": [
      "Optimizing for optDataset...\n"
     ]
    },
    {
     "name": "stderr",
     "output_type": "stream",
     "text": [
      "100%|██████████| 1000/1000 [00:00<00:00, 3227.87it/s]\n"
     ]
    },
    {
     "name": "stdout",
     "output_type": "stream",
     "text": [
      "=========== Run SPO =============\n",
      "Num of cores: 2\n",
      "=========== Run PG =============\n",
      "Num of cores: 2\n",
      "=========== Run LTR =============\n",
      "Num of cores: 2\n",
      "*** seed =  11 : Run EPO ******\n",
      "Optimizing for optDataset...\n"
     ]
    },
    {
     "name": "stderr",
     "output_type": "stream",
     "text": [
      "100%|██████████| 100/100 [00:00<00:00, 2064.16it/s]\n"
     ]
    },
    {
     "name": "stdout",
     "output_type": "stream",
     "text": [
      "Optimizing for optDataset...\n"
     ]
    },
    {
     "name": "stderr",
     "output_type": "stream",
     "text": [
      "100%|██████████| 1000/1000 [00:00<00:00, 3251.17it/s]\n"
     ]
    },
    {
     "name": "stdout",
     "output_type": "stream",
     "text": [
      "=========== Run SPO =============\n",
      "Num of cores: 2\n",
      "=========== Run PG =============\n",
      "Num of cores: 2\n",
      "=========== Run LTR =============\n",
      "Num of cores: 2\n",
      "*** seed =  12 : Run EPO ******\n",
      "Optimizing for optDataset...\n"
     ]
    },
    {
     "name": "stderr",
     "output_type": "stream",
     "text": [
      "100%|██████████| 100/100 [00:00<00:00, 2012.19it/s]\n"
     ]
    },
    {
     "name": "stdout",
     "output_type": "stream",
     "text": [
      "Optimizing for optDataset...\n"
     ]
    },
    {
     "name": "stderr",
     "output_type": "stream",
     "text": [
      "100%|██████████| 1000/1000 [00:00<00:00, 3251.91it/s]\n"
     ]
    },
    {
     "name": "stdout",
     "output_type": "stream",
     "text": [
      "=========== Run SPO =============\n",
      "Num of cores: 2\n",
      "=========== Run PG =============\n",
      "Num of cores: 2\n",
      "=========== Run LTR =============\n",
      "Num of cores: 2\n",
      "*** seed =  13 : Run EPO ******\n",
      "Optimizing for optDataset...\n"
     ]
    },
    {
     "name": "stderr",
     "output_type": "stream",
     "text": [
      "100%|██████████| 100/100 [00:00<00:00, 2026.22it/s]\n"
     ]
    },
    {
     "name": "stdout",
     "output_type": "stream",
     "text": [
      "Optimizing for optDataset...\n"
     ]
    },
    {
     "name": "stderr",
     "output_type": "stream",
     "text": [
      "100%|██████████| 1000/1000 [00:00<00:00, 3162.67it/s]\n"
     ]
    },
    {
     "name": "stdout",
     "output_type": "stream",
     "text": [
      "=========== Run SPO =============\n",
      "Num of cores: 2\n",
      "=========== Run PG =============\n",
      "Num of cores: 2\n",
      "=========== Run LTR =============\n",
      "Num of cores: 2\n",
      "*** seed =  14 : Run EPO ******\n",
      "Optimizing for optDataset...\n"
     ]
    },
    {
     "name": "stderr",
     "output_type": "stream",
     "text": [
      "100%|██████████| 100/100 [00:00<00:00, 2066.24it/s]\n"
     ]
    },
    {
     "name": "stdout",
     "output_type": "stream",
     "text": [
      "Optimizing for optDataset...\n"
     ]
    },
    {
     "name": "stderr",
     "output_type": "stream",
     "text": [
      "100%|██████████| 1000/1000 [00:00<00:00, 3273.32it/s]\n"
     ]
    },
    {
     "name": "stdout",
     "output_type": "stream",
     "text": [
      "=========== Run SPO =============\n",
      "Num of cores: 2\n",
      "=========== Run PG =============\n",
      "Num of cores: 2\n",
      "=========== Run LTR =============\n",
      "Num of cores: 2\n",
      "*** seed =  15 : Run EPO ******\n",
      "Optimizing for optDataset...\n"
     ]
    },
    {
     "name": "stderr",
     "output_type": "stream",
     "text": [
      "100%|██████████| 100/100 [00:00<00:00, 2052.80it/s]\n"
     ]
    },
    {
     "name": "stdout",
     "output_type": "stream",
     "text": [
      "Optimizing for optDataset...\n"
     ]
    },
    {
     "name": "stderr",
     "output_type": "stream",
     "text": [
      "100%|██████████| 1000/1000 [00:00<00:00, 3204.02it/s]\n"
     ]
    },
    {
     "name": "stdout",
     "output_type": "stream",
     "text": [
      "=========== Run SPO =============\n",
      "Num of cores: 2\n",
      "=========== Run PG =============\n",
      "Num of cores: 2\n",
      "=========== Run LTR =============\n",
      "Num of cores: 2\n",
      "*** seed =  16 : Run EPO ******\n",
      "Optimizing for optDataset...\n"
     ]
    },
    {
     "name": "stderr",
     "output_type": "stream",
     "text": [
      "100%|██████████| 100/100 [00:00<00:00, 1945.55it/s]\n"
     ]
    },
    {
     "name": "stdout",
     "output_type": "stream",
     "text": [
      "Optimizing for optDataset...\n"
     ]
    },
    {
     "name": "stderr",
     "output_type": "stream",
     "text": [
      "100%|██████████| 1000/1000 [00:00<00:00, 3165.72it/s]\n"
     ]
    },
    {
     "name": "stdout",
     "output_type": "stream",
     "text": [
      "=========== Run SPO =============\n",
      "Num of cores: 2\n",
      "=========== Run PG =============\n",
      "Num of cores: 2\n",
      "=========== Run LTR =============\n",
      "Num of cores: 2\n",
      "*** seed =  17 : Run EPO ******\n",
      "Optimizing for optDataset...\n"
     ]
    },
    {
     "name": "stderr",
     "output_type": "stream",
     "text": [
      "100%|██████████| 100/100 [00:00<00:00, 1952.86it/s]\n"
     ]
    },
    {
     "name": "stdout",
     "output_type": "stream",
     "text": [
      "Optimizing for optDataset...\n"
     ]
    },
    {
     "name": "stderr",
     "output_type": "stream",
     "text": [
      "100%|██████████| 1000/1000 [00:00<00:00, 3194.71it/s]\n"
     ]
    },
    {
     "name": "stdout",
     "output_type": "stream",
     "text": [
      "=========== Run SPO =============\n",
      "Num of cores: 2\n",
      "=========== Run PG =============\n",
      "Num of cores: 2\n",
      "=========== Run LTR =============\n",
      "Num of cores: 2\n",
      "*** seed =  18 : Run EPO ******\n",
      "Optimizing for optDataset...\n"
     ]
    },
    {
     "name": "stderr",
     "output_type": "stream",
     "text": [
      "100%|██████████| 100/100 [00:00<00:00, 1909.27it/s]\n"
     ]
    },
    {
     "name": "stdout",
     "output_type": "stream",
     "text": [
      "Optimizing for optDataset...\n"
     ]
    },
    {
     "name": "stderr",
     "output_type": "stream",
     "text": [
      "100%|██████████| 1000/1000 [00:00<00:00, 3174.55it/s]\n"
     ]
    },
    {
     "name": "stdout",
     "output_type": "stream",
     "text": [
      "=========== Run SPO =============\n",
      "Num of cores: 2\n",
      "=========== Run PG =============\n",
      "Num of cores: 2\n",
      "=========== Run LTR =============\n",
      "Num of cores: 2\n",
      "*** seed =  19 : Run EPO ******\n",
      "Optimizing for optDataset...\n"
     ]
    },
    {
     "name": "stderr",
     "output_type": "stream",
     "text": [
      "100%|██████████| 100/100 [00:00<00:00, 2186.22it/s]\n"
     ]
    },
    {
     "name": "stdout",
     "output_type": "stream",
     "text": [
      "Optimizing for optDataset...\n"
     ]
    },
    {
     "name": "stderr",
     "output_type": "stream",
     "text": [
      "100%|██████████| 1000/1000 [00:00<00:00, 3214.86it/s]\n"
     ]
    },
    {
     "name": "stdout",
     "output_type": "stream",
     "text": [
      "=========== Run SPO =============\n",
      "Num of cores: 2\n",
      "=========== Run PG =============\n",
      "Num of cores: 2\n",
      "=========== Run LTR =============\n",
      "Num of cores: 2\n"
     ]
    }
   ],
   "source": [
    "# EPO, including SPO, PG, LTR\n",
    "batch_size = 20\n",
    "num_epochs = 30\n",
    "method_names = [\"spo+\",\"pg\",\"ltr\"]\n",
    "\n",
    "from PYEPO import PyEPO_Method\n",
    "epo_runner = PyEPO_Method()\n",
    "cost_EPO_all = Implement_EPO(DataPath,seed_all,batch_size,num_epochs,method_names,x_train_all,c_train_all,x_test_all,c_test_all,arcs,epo_runner)"
   ]
  },
  {
   "cell_type": "markdown",
   "metadata": {},
   "source": [
    "### OLS performance"
   ]
  },
  {
   "cell_type": "code",
   "execution_count": 11,
   "metadata": {},
   "outputs": [
    {
     "name": "stdout",
     "output_type": "stream",
     "text": [
      "Set parameter Username\n",
      "Academic license - for non-commercial use only - expires 2026-03-13\n"
     ]
    }
   ],
   "source": [
    "from OLS import ols_method\n",
    "ols_method_obj = ols_method()\n",
    "from Peformance import performance_evaluation\n",
    "perfs = performance_evaluation()\n",
    "W_ols_all = {}; w0_ols_all = {}; t_ols_all = {}; obj_ols_all = {}\n",
    "cost_OLS_all = {}; cost_Oracle_all = {}\n",
    "\n",
    "for seed in seed_all:\n",
    "    # compute OLS performance\n",
    "    W_ols_all[seed], w0_ols_all[seed], t_ols_all[seed], obj_ols_all[seed] = ols_method_obj.ols_solver(\"\",x_train_all[seed], c_train_all[seed])\n",
    "    cost_OLS_all[seed] = perfs.compute_Cost_with_Prediction(arcs,w0_ols_all[seed],W_ols_all[seed], grid,c_test_all[seed],x_test_all[seed])\n",
    "    cost_Oracle_all[seed] = perfs.compute_Oracel_Cost(arcs, grid,c_test_all[seed])"
   ]
  },
  {
   "cell_type": "code",
   "execution_count": 35,
   "metadata": {},
   "outputs": [
    {
     "data": {
      "text/plain": [
       "'/Users/zhangxun/Dropbox/Research/Decision_Driven_Regularization/Data/Test0326_SPO_Data_Generation/data_size=100_deg=1.0_e=0.5_d=40_coef_seed=1/'"
      ]
     },
     "execution_count": 35,
     "metadata": {},
     "output_type": "execute_result"
    }
   ],
   "source": [
    "DataPath"
   ]
  },
  {
   "cell_type": "markdown",
   "metadata": {},
   "source": [
    "### DDR performance"
   ]
  },
  {
   "cell_type": "code",
   "execution_count": 12,
   "metadata": {},
   "outputs": [],
   "source": [
    "def obtain_DDR_out_of_sample_performance(mu,lamb_all,num_nodes,x_train,c_train,x_test,c_test,cost_OLS,cost_Oracle,perfs):\n",
    "\n",
    "    regret_arr = np.zeros(len(lamb_all))\n",
    "    lamb_index = 0\n",
    "    cost_DDR = {}; w0_ddr_dict = {}; W_ddr_dict = {}\n",
    "    for lamb in lamb_all:\n",
    "        w0_ddr_dict[lamb],W_ddr_dict[lamb],alpha_rst,obj_ddr = solve_DDR(arcs,lamb,mu,num_nodes,x_train,c_train)\n",
    "        cost_DDR[lamb] = perfs.compute_Cost_with_Prediction(arcs,w0_ddr_dict[lamb],W_ddr_dict[lamb], grid,c_test,x_test)\n",
    "        regret_arr[lamb_index] = (np.nanmean(cost_OLS) - np.nanmean(cost_DDR[lamb]) )/(np.nanmean(cost_OLS) - np.nanmean(cost_Oracle)) * 100\n",
    "        lamb_index = lamb_index + 1\n",
    "        # print(\"seed=\",seed,\",mu=\",mu_fixed,\",lamb=\",lamb,\",obj_ddr=\",obj_ddr,\",regret=\",regret_arr[lamb_index])\n",
    "    return regret_arr,cost_DDR,w0_ddr_dict,W_ddr_dict"
   ]
  },
  {
   "cell_type": "code",
   "execution_count": 13,
   "metadata": {},
   "outputs": [
    {
     "name": "stdout",
     "output_type": "stream",
     "text": [
      "seed= 1 ,mu= 0.1 regret= [  0.4701   0.7214  -0.2966  -0.9088  -3.0514  -4.2595  -4.2775  -6.0669\n",
      "  -7.0773  -9.6707 -12.531  -15.6812 -17.7946 -18.7969]\n",
      "seed= 2 ,mu= 0.1 regret= [  0.8308   1.1914   0.6035  -0.7756   0.3529  -0.6734  -1.4169  -1.5211\n",
      "  -2.7258  -4.7665  -5.3963  -6.7758  -8.7365 -10.3434]\n",
      "seed= 3 ,mu= 0.1 regret= [  0.0251  -0.5195  -2.5284  -2.8362  -4.9602  -5.7796  -7.1804  -8.4181\n",
      "  -9.7051 -11.7744 -12.7865 -15.1233 -15.4442 -16.4014]\n",
      "seed= 4 ,mu= 0.1 regret= [  0.2088   0.4704   0.6452  -3.2736  -4.6467  -6.6227  -9.6956 -11.2025\n",
      " -12.1714 -13.5307 -14.3373 -16.24   -18.4208 -20.0974]\n",
      "seed= 5 ,mu= 0.1 regret= [ -0.8117  -2.0293  -2.7369  -3.5961  -5.407   -5.4943  -6.397  -10.7624\n",
      " -15.1067 -19.2314 -21.0889 -24.0159 -25.2469 -27.1044]\n",
      "seed= 6 ,mu= 0.1 regret= [  0.0527   0.4191  -0.5689  -1.8132  -3.4669  -5.1026  -4.9085  -6.6816\n",
      "  -9.1438  -9.4854 -11.6068 -13.6757 -15.8173 -17.6277]\n",
      "seed= 7 ,mu= 0.1 regret= [  0.3774  -0.7431  -0.9409  -1.3576  -3.607   -4.8096  -4.4271  -7.2315\n",
      " -10.093  -12.0717 -15.8144 -18.2072 -19.0488 -19.1593]\n",
      "seed= 8 ,mu= 0.1 regret= [  2.0242   1.5582  -0.1692   0.9025   0.3454   0.2948   0.3048  -1.626\n",
      "  -7.2708  -8.4418 -10.8937 -15.3969 -15.3676 -15.0918]\n",
      "seed= 9 ,mu= 0.1 regret= [ -0.3078  -1.1286  -3.2095  -2.3444  -3.26    -4.2864  -6.7971  -7.7522\n",
      "  -8.741  -13.003  -16.0891 -21.028  -23.1786 -25.8487]\n",
      "seed= 10 ,mu= 0.1 regret= [ -0.6115   1.0363  -0.887   -2.5988  -3.9362  -7.5984  -9.3622 -11.147\n",
      " -11.6336 -12.923  -14.8981 -17.5021 -20.9658 -23.0969]\n",
      "seed= 11 ,mu= 0.1 regret= [ -1.5361  -0.406    0.0791  -0.8521  -2.6092  -4.6734  -5.5431  -6.9421\n",
      "  -7.8894  -9.9014 -12.5323 -11.8024 -12.2873 -13.9864]\n",
      "seed= 12 ,mu= 0.1 regret= [ -1.1355  -1.4988  -2.0542  -3.6196  -5.4908  -8.5846 -10.809  -13.179\n",
      " -15.2703 -15.2402 -16.3965 -17.3232 -18.4306 -18.3654]\n",
      "seed= 13 ,mu= 0.1 regret= [  0.9574   1.8894   0.9958  -1.3433  -1.8811  -4.8226  -6.9183  -8.2893\n",
      " -10.6621 -14.0656 -12.215  -12.7351 -14.3311 -14.617 ]\n",
      "seed= 14 ,mu= 0.1 regret= [ -0.2581   0.7529   0.8      0.8192   1.1132   0.4313  -1.8858  -4.1133\n",
      "  -5.7919  -7.2646  -8.8757 -12.454  -15.233  -18.5644]\n",
      "seed= 15 ,mu= 0.1 regret= [ 0.1784  1.3721  1.6647 -0.3106 -0.0854 -0.9035 -3.221  -3.6099 -4.3683\n",
      " -3.0724 -3.8138 -5.7711 -8.5653 -8.2209]\n",
      "seed= 16 ,mu= 0.1 regret= [  2.131    2.3687   1.4003   0.9818  -2.1598  -3.1748  -4.6596  -5.5129\n",
      " -10.4326 -12.7893 -14.2507 -16.4582 -18.5322 -23.6616]\n",
      "seed= 17 ,mu= 0.1 regret= [ -0.275   -0.5285  -3.8406  -3.7788  -4.4777  -5.0312  -6.6702  -6.3473\n",
      "  -8.307   -9.4277 -10.1181  -9.6191  -8.2825 -11.6158]\n",
      "seed= 18 ,mu= 0.1 regret= [  1.4071   0.4768   0.3153   0.7292  -0.0667  -0.623   -3.1048  -3.3795\n",
      "  -3.3013  -5.1333  -8.1641 -11.2768 -11.6545 -13.0753]\n",
      "seed= 19 ,mu= 0.1 regret= [ -1.265   -0.95     0.1395  -1.9566  -3.1487  -2.497   -2.1281  -4.9082\n",
      "  -6.0272  -7.5454  -8.0073  -8.9512  -8.5873 -10.2643]\n",
      "seed= 1 ,mu= 0.3 regret= [ -0.3941   1.152    1.9076   2.0885   1.2726   0.8562   0.952    0.6032\n",
      "  -0.0301  -2.7427  -5.0445  -6.7255  -7.3509 -10.3714]\n",
      "seed= 2 ,mu= 0.3 regret= [ 0.4909  0.7922  1.6627  1.3078  0.0867 -0.7157 -0.9158 -0.8357 -1.2257\n",
      " -1.5583 -3.5075 -4.3712 -6.0146 -7.9764]\n",
      "seed= 3 ,mu= 0.3 regret= [  0.9867  -0.4104  -0.3906  -1.4599  -2.1872  -3.999   -4.4145  -6.1978\n",
      "  -7.7698  -8.7427 -10.7727 -12.9118 -16.8849 -18.1056]\n",
      "seed= 4 ,mu= 0.3 regret= [  0.5207  -0.4899  -0.8149  -3.1269  -4.086   -4.9277  -9.5758 -11.4635\n",
      " -13.1832 -13.5607 -14.5924 -16.1359 -16.07   -17.1539]\n",
      "seed= 5 ,mu= 0.3 regret= [  0.1072  -2.0565  -2.6505  -2.791   -3.4556  -3.9036  -4.7315  -6.1123\n",
      "  -7.1984 -10.7233 -12.4904 -15.73   -17.5491 -20.2603]\n",
      "seed= 6 ,mu= 0.3 regret= [  0.3179   0.2991   0.063   -0.9991  -1.8864  -2.5667  -2.8838  -5.9829\n",
      "  -8.411   -9.6976 -10.6483 -12.5641 -15.3257 -16.4107]\n",
      "seed= 7 ,mu= 0.3 regret= [ -0.2379  -0.5217  -0.4529   0.4129   0.2656  -0.9184  -4.0127  -7.4999\n",
      "  -9.7531 -11.8494 -12.5978 -13.0078 -14.6194 -16.645 ]\n",
      "seed= 8 ,mu= 0.3 regret= [  1.3788   0.3905   0.6025  -0.0163   0.1953  -0.0406  -0.368   -3.1977\n",
      "  -4.3939  -6.2413  -9.055  -11.2117 -10.9645 -12.0974]\n",
      "seed= 9 ,mu= 0.3 regret= [ -0.6769  -2.1394  -2.0162  -1.8643  -1.9433  -2.7014  -3.7656  -4.9246\n",
      "  -5.1815  -8.2843 -11.7365 -12.8959 -15.3871 -19.0452]\n",
      "seed= 10 ,mu= 0.3 regret= [  0.038    2.0225   0.5358  -1.1258  -2.1148  -3.4047  -3.9993  -6.8383\n",
      "  -8.9751 -13.0175 -15.8412 -18.2387 -19.8607 -21.2262]\n",
      "seed= 11 ,mu= 0.3 regret= [ -0.7771  -1.1725  -1.1188  -1.2791  -1.4178  -1.2503  -0.7165  -2.2773\n",
      "  -3.1793  -7.1155  -7.5949  -9.3264 -10.4406 -13.1618]\n",
      "seed= 12 ,mu= 0.3 regret= [ -1.6611  -2.0389  -2.7821  -3.7915  -4.7285  -5.8234  -6.8519  -7.7935\n",
      "  -9.312  -10.8113 -13.1486 -13.2501 -14.263  -14.0226]\n",
      "seed= 13 ,mu= 0.3 regret= [  0.1044   1.0059   0.7056   0.5293  -0.4464  -2.4431  -3.03    -5.986\n",
      "  -7.311   -7.9596  -8.535   -8.7966 -10.2638 -12.134 ]\n",
      "seed= 14 ,mu= 0.3 regret= [ 0.2759 -0.1305 -0.8329 -0.9612  0.342   0.8343  2.187   0.12   -0.861\n",
      " -2.6296 -3.9834 -4.2811 -5.2761 -9.6975]\n",
      "seed= 15 ,mu= 0.3 regret= [-4.6540e-01 -2.6390e-01  1.0918e+00  1.6641e+00  2.3145e+00  1.7912e+00\n",
      "  1.2762e+00  1.1427e+00 -5.9000e-03 -6.4350e-01 -3.7342e+00 -4.8283e+00\n",
      " -5.8212e+00 -6.2890e+00]\n",
      "seed= 16 ,mu= 0.3 regret= [  1.8244   3.8444   3.3339   2.5324  -0.5586  -2.6007  -4.8925  -7.3197\n",
      " -10.5586 -11.8622 -11.8558 -12.4999 -13.1507 -14.9769]\n",
      "seed= 17 ,mu= 0.3 regret= [  0.4529  -0.0782  -0.5433  -1.2655  -1.8283  -2.7148  -4.2637  -4.9823\n",
      "  -6.5647  -7.1936  -8.8366  -9.5262 -10.0215 -10.1001]\n",
      "seed= 18 ,mu= 0.3 regret= [  0.1943   0.8637   0.8626   0.422   -1.0463  -2.6006  -2.3681  -2.7909\n",
      "  -3.174   -5.4024  -7.2201  -9.4567 -10.5188 -11.749 ]\n",
      "seed= 19 ,mu= 0.3 regret= [-0.0609  1.0464  0.7165  0.7435  0.5238  1.1477  0.7462 -0.3982 -3.6288\n",
      " -4.9922 -8.0939 -9.3965 -9.5642 -9.2834]\n",
      "seed= 1 ,mu= 0.5 regret= [ 0.2686  1.0631  2.8065  1.7684  2.5505  1.2744  1.8916  1.0546  0.1383\n",
      " -1.3672 -2.212  -3.5681 -5.0088 -6.8528]\n",
      "seed= 2 ,mu= 0.5 regret= [ 0.3345  0.5094  0.4295 -0.3238 -0.1639  0.0833 -0.1172 -0.365  -0.7965\n",
      " -0.9462 -0.6025 -1.3801 -2.1534 -3.6925]\n",
      "seed= 3 ,mu= 0.5 regret= [  0.3122   0.9228  -0.066   -1.2094  -1.7175  -3.294   -3.2348  -4.5743\n",
      "  -5.4592  -4.8227  -7.367   -8.5002  -9.4073 -11.0639]\n",
      "seed= 4 ,mu= 0.5 regret= [  0.3348  -0.5672  -1.1035  -0.6453  -2.066   -3.8312  -4.4852  -5.1216\n",
      "  -6.6054  -7.6426  -8.6303  -9.4724 -10.4245 -12.1361]\n",
      "seed= 5 ,mu= 0.5 regret= [ -0.0441  -0.352   -1.5905  -0.8603  -0.8703  -1.6776  -2.5159  -3.752\n",
      "  -4.6128  -4.9789  -6.6231  -8.6551 -10.0349 -11.951 ]\n",
      "seed= 6 ,mu= 0.5 regret= [ 0.3592  0.324  -0.2652 -0.8219 -0.2095 -0.0699 -1.0757 -1.8124 -4.0542\n",
      " -5.0323 -6.1044 -6.1472 -7.6953 -8.3   ]\n",
      "seed= 7 ,mu= 0.5 regret= [ 0.3288  0.665   1.0379  0.9381  0.055   0.4853  0.8203 -1.8753 -3.039\n",
      " -3.5485 -5.2245 -7.0636 -8.0952 -9.1069]\n",
      "seed= 8 ,mu= 0.5 regret= [ 0.4848  1.0298  0.6177  0.5704  0.674  -0.0307 -1.0727 -2.1084 -2.3692\n",
      " -2.1349 -3.3811 -3.979  -4.0722 -5.4575]\n",
      "seed= 9 ,mu= 0.5 regret= [ -0.4238  -0.4667  -0.9569  -1.269   -1.4186  -1.8416  -2.313   -4.0982\n",
      "  -4.0224  -5.5827  -7.1895  -8.9154 -11.5926 -13.8662]\n",
      "seed= 10 ,mu= 0.5 regret= [ -0.3758   0.3432  -0.1024  -0.2115  -0.6884  -1.8442  -4.4867  -5.8855\n",
      "  -7.1043  -8.6151  -9.2284 -10.2744 -11.5112 -13.5031]\n",
      "seed= 11 ,mu= 0.5 regret= [-0.2292 -1.2626 -1.1256 -0.5051 -0.5806  0.1225  0.3343 -0.5484 -0.3648\n",
      " -1.7665 -1.8534 -2.1419 -2.6884 -4.2764]\n",
      "seed= 12 ,mu= 0.5 regret= [-0.1768 -1.4035 -2.3766 -1.8845 -1.8251 -2.0322 -2.5639 -1.675  -2.9701\n",
      " -2.6547 -4.2591 -4.8486 -6.2599 -7.3377]\n",
      "seed= 13 ,mu= 0.5 regret= [ 0.2502  0.5901  0.5511  1.2042  0.9016  0.3147 -1.1736 -0.9062 -1.4874\n",
      " -4.8005 -5.9075 -6.6278 -7.784  -8.0477]\n",
      "seed= 14 ,mu= 0.5 regret= [ 0.1367  0.8065 -0.0682 -0.9704 -0.4949  1.1097  1.187   2.1744  1.0096\n",
      " -0.049  -1.2048 -2.4393 -3.1796 -3.0725]\n",
      "seed= 15 ,mu= 0.5 regret= [ 0.3966  0.1451  0.9871  0.5404  0.0649  0.6711  0.2127  0.3279  2.0827\n",
      "  1.4977  1.1334  0.403   0.4135 -0.7779]\n",
      "seed= 16 ,mu= 0.5 regret= [ 1.0236  2.0339  2.198   2.1046  2.7687  1.023   0.1101 -1.4438 -3.0553\n",
      " -4.0743 -4.5338 -4.0408 -4.6098 -5.5593]\n",
      "seed= 17 ,mu= 0.5 regret= [-0.3809 -0.121   0.5096 -0.0282 -0.6747 -1.1502 -1.2218 -1.6477 -2.1896\n",
      " -1.0195 -1.3463 -2.0643 -2.44   -2.7015]\n",
      "seed= 18 ,mu= 0.5 regret= [ 0.1949  0.5111  0.9181  0.4827  0.6333  0.7993 -0.2714 -0.7704 -0.6082\n",
      " -1.5601 -1.0271 -1.769  -2.2604 -2.5104]\n",
      "seed= 19 ,mu= 0.5 regret= [-0.1514  1.0646  0.9662  1.539   1.3247  0.5999  0.8206  1.0363  0.666\n",
      " -0.3975 -0.1092 -0.9891 -1.9591 -1.8523]\n",
      "seed= 1 ,mu= 0.7 regret= [ 0.3667  0.7758  1.9011  1.8456  2.6405  2.8239  1.7524  2.0581  1.9327\n",
      "  2.1729  1.9649  1.2768  0.3622 -0.3202]\n",
      "seed= 2 ,mu= 0.7 regret= [-0.1338  0.4414 -0.0989  0.1177  0.02   -0.6099 -1.2278 -0.8904 -1.2163\n",
      " -1.2136 -1.3874 -2.0883 -1.1352 -1.6365]\n",
      "seed= 3 ,mu= 0.7 regret= [ 0.2876  0.386   0.4599  0.0585 -0.724  -0.6913 -1.8052 -2.57   -3.8466\n",
      " -3.3994 -3.225  -3.4819 -3.3515 -2.2226]\n",
      "seed= 4 ,mu= 0.7 regret= [ 0.2737  0.1499  0.2905 -0.2356 -0.4802 -0.4413 -1.5801 -2.4553 -3.691\n",
      " -4.6792 -5.4772 -6.1042 -6.2897 -6.4377]\n",
      "seed= 5 ,mu= 0.7 regret= [-0.0126 -0.0866 -0.2256 -0.5363 -1.0977 -1.6739 -1.9377 -2.1295 -1.8319\n",
      " -2.0447 -2.5048 -2.8619 -3.7202 -4.09  ]\n",
      "seed= 6 ,mu= 0.7 regret= [-0.2512 -0.0559  0.425  -0.2594 -0.3416 -0.7744 -0.8598 -0.8487 -0.7294\n",
      " -0.4273 -1.4281 -2.8137 -3.184  -3.2099]\n",
      "seed= 7 ,mu= 0.7 regret= [0.1889 0.4778 0.8445 0.5352 1.3527 0.9227 1.489  1.2413 0.652  0.8041\n",
      " 1.0343 0.2409 0.3636 0.645 ]\n",
      "seed= 8 ,mu= 0.7 regret= [ 0.4716  0.8741  1.4881  1.4778  1.5743  1.6067  2.1369  1.4939  0.3298\n",
      "  0.2466  0.242  -0.9034 -1.6839 -1.755 ]\n",
      "seed= 9 ,mu= 0.7 regret= [-0.0967 -0.1247 -0.8821 -0.7713 -1.0657 -0.8818 -1.051  -1.6996 -2.3524\n",
      " -2.6153 -3.3278 -2.7512 -2.6934 -4.0997]\n",
      "seed= 10 ,mu= 0.7 regret= [ 0.2246 -0.0229  0.6067  0.4313  0.3145  0.1289 -0.2903  0.3365  0.0787\n",
      " -0.4594 -1.4203 -2.238  -2.937  -4.0839]\n",
      "seed= 11 ,mu= 0.7 regret= [-0.4496 -0.0147 -0.2974 -0.6019 -0.4945  0.1291  0.6912  0.1855  0.5955\n",
      "  0.3208  0.4514 -0.3235 -0.4861 -0.9294]\n",
      "seed= 12 ,mu= 0.7 regret= [-0.5272 -0.3126  0.1376 -0.7785 -1.3264 -1.7841 -1.8109 -1.6694 -2.2339\n",
      " -1.9976 -1.2907 -1.3013 -2.1181 -2.192 ]\n",
      "seed= 13 ,mu= 0.7 regret= [-0.0386  0.2956  0.498  -0.0769 -0.0106  0.6987  0.5832  0.7469  0.8727\n",
      "  0.7222  0.5421 -1.0971 -1.1545 -0.8631]\n",
      "seed= 14 ,mu= 0.7 regret= [ 0.5846  0.8175  1.2539  1.2717  1.2345  0.5843 -0.1687 -0.5635 -1.2149\n",
      " -1.1256 -0.4309  1.0306  1.4497  0.8113]\n",
      "seed= 15 ,mu= 0.7 regret= [-0.3042  0.3914  0.1091  0.5576  1.1397  0.5394  0.8632  1.1372  1.4993\n",
      "  1.2506  0.648   0.8206  0.7025  1.2153]\n",
      "seed= 16 ,mu= 0.7 regret= [ 0.6531  1.7393  1.3985  1.0948  1.0501  1.0022  1.1319  0.9206  0.5803\n",
      "  0.3576  0.2013 -0.5998 -0.6893 -1.3569]\n",
      "seed= 17 ,mu= 0.7 regret= [ 0.134   0.1002  0.2478  0.4191  0.2178  0.1199 -0.1857 -0.5038 -0.523\n",
      " -0.8959 -0.7535 -0.3713 -0.6862 -0.5968]\n",
      "seed= 18 ,mu= 0.7 regret= [ 0.1459  0.7833  0.905   0.5737  0.3807  0.6303  0.8386 -0.718  -1.1488\n",
      " -1.1728 -1.2741 -1.9323 -2.264  -3.118 ]\n",
      "seed= 19 ,mu= 0.7 regret= [-0.0636  0.9215  0.8324  0.8717  0.9548  1.4647  1.8855  1.2428  1.1551\n",
      "  1.3187  0.1     0.5652  0.4534 -0.1431]\n",
      "seed= 1 ,mu= 0.9 regret= [0.2251 0.4156 0.6881 0.7866 0.8353 0.6373 0.7206 0.9218 0.9351 1.5892\n",
      " 1.6187 1.7475 1.7136 2.0313]\n",
      "seed= 2 ,mu= 0.9 regret= [-0.4293  0.0705 -0.023   0.168   0.1315  0.3042  0.0672  0.4261  0.1044\n",
      "  0.1741 -0.5405 -0.0336 -0.2251 -0.3022]\n",
      "seed= 3 ,mu= 0.9 regret= [ 0.0304 -0.0484  0.2816  0.3223  0.6132  0.5153  0.3596  0.3047  0.2045\n",
      " -0.0242  0.0664 -0.2774 -0.7534 -0.8687]\n",
      "seed= 4 ,mu= 0.9 regret= [-0.1167  0.0704 -0.4542 -0.227  -0.2565  0.0374 -0.1961 -0.454  -0.6298\n",
      " -0.5133 -0.8313 -0.7981 -1.1175 -1.1634]\n",
      "seed= 5 ,mu= 0.9 regret= [ 0.1818 -0.1523  0.0702 -0.0589 -0.2288 -0.1475 -0.3821 -0.0178 -0.311\n",
      " -0.3571 -0.7314 -0.9463 -1.0509 -1.6192]\n",
      "seed= 6 ,mu= 0.9 regret= [ 0.0843 -0.1629 -0.119  -0.4527 -0.4285 -0.4902 -0.3251  0.5785  0.5555\n",
      "  0.5012  0.1086  0.0989 -0.343  -0.8199]\n",
      "seed= 7 ,mu= 0.9 regret= [-0.0116 -0.0323 -0.0484 -0.0278  0.0546 -0.015  -0.0365  0.0442  0.065\n",
      "  0.1284  0.1109  0.1524  0.4739  0.4054]\n",
      "seed= 8 ,mu= 0.9 regret= [0.1133 0.5108 0.7044 0.7321 0.6641 0.7768 0.7117 0.7164 0.5116 1.1026\n",
      " 1.2127 0.9319 0.6241 0.757 ]\n",
      "seed= 9 ,mu= 0.9 regret= [-0.5041 -0.3399 -0.3837 -0.5545 -0.8411 -0.77   -0.8419 -0.7008 -0.5026\n",
      " -0.6045 -0.87   -0.7164 -0.6547 -0.4171]\n",
      "seed= 10 ,mu= 0.9 regret= [0.137  0.1724 0.5217 0.5054 0.5322 0.2266 0.5947 0.2682 0.343  0.0883\n",
      " 0.4197 0.4337 0.2133 0.4747]\n",
      "seed= 11 ,mu= 0.9 regret= [-0.3913 -0.2583 -0.5149 -0.4727 -0.6508 -0.5157 -0.4862 -0.4347 -0.8072\n",
      " -1.1792 -1.0986 -1.1747 -1.0385 -0.8247]\n",
      "seed= 12 ,mu= 0.9 regret= [-0.0386 -0.5408 -0.0816 -0.0379  0.6238  0.6371  0.4253  0.6289  0.1129\n",
      "  0.1578  0.0114  0.207   0.0921 -0.0905]\n",
      "seed= 13 ,mu= 0.9 regret= [-0.0087 -0.0374  0.1525  0.4097  0.3737  0.3759  0.4459  0.9149  0.737\n",
      "  1.0534  0.6931  0.3986  0.4535  0.2191]\n",
      "seed= 14 ,mu= 0.9 regret= [0.0744 0.0638 0.4507 0.7889 0.7097 1.0117 1.2315 1.1029 0.9631 1.0043\n",
      " 1.0762 1.4689 1.1227 1.1667]\n",
      "seed= 15 ,mu= 0.9 regret= [ 0.086   0.3508  0.0054 -0.0963  0.1288  0.1314  0.2636  0.2751  0.0122\n",
      " -0.0469  0.0802  0.2014  0.2277  0.1096]\n",
      "seed= 16 ,mu= 0.9 regret= [0.2624 0.2271 0.4378 0.9265 0.8639 1.0666 1.4586 1.4214 1.4004 1.576\n",
      " 1.3679 1.6491 1.0999 1.3556]\n",
      "seed= 17 ,mu= 0.9 regret= [ 0.0755  0.1298  0.1346  0.1082  0.0852  0.3279  0.5198  0.7739  0.8335\n",
      "  0.5791  0.474   0.1217 -0.0075  0.2064]\n",
      "seed= 18 ,mu= 0.9 regret= [ 0.1599  0.3232  0.0551  0.0096  0.085   0.645   0.6103  0.5147  0.5545\n",
      "  0.3295  0.3339  0.2392 -0.0644 -0.206 ]\n",
      "seed= 19 ,mu= 0.9 regret= [-0.3349 -0.4855 -0.4131 -0.1694  0.2303  0.5727  1.0128  1.6445  1.4214\n",
      "  1.1578  0.8872  1.3306  1.458   1.7292]\n"
     ]
    }
   ],
   "source": [
    "mu = 0.5\n",
    "mu_all = [0.1,0.3,0.5,0.7,0.9]\n",
    "lamb_all = np.round(np.arange(0.1,1.5,0.1),2)\n",
    "regret_all = {}; cost_DDR_all = {}; w0_ddr_all = {}; W_ddr_all = {}\n",
    "for mu in mu_all:\n",
    "    for seed in seed_all:\n",
    "        regret_all[seed,mu],cost_DDR_all[seed,mu],w0_ddr_all[seed,mu],W_ddr_all[seed,mu] = obtain_DDR_out_of_sample_performance(mu,lamb_all,num_nodes,x_train_all[seed],c_train_all[seed],x_test_all[seed],c_test_all[seed],cost_OLS_all[seed],cost_Oracle_all[seed],perfs)\n",
    "        print(\"seed=\",seed,\",mu=\",mu,\"regret=\",np.round(regret_all[seed,mu],4))"
   ]
  },
  {
   "cell_type": "code",
   "execution_count": 39,
   "metadata": {},
   "outputs": [],
   "source": [
    "with open(DataPath+'cost_OLS_all.pkl', \"wb\") as tf:\n",
    "    pickle.dump(cost_OLS_all,tf)\n",
    "with open(DataPath+'cost_Oracle_all.pkl', \"wb\") as tf:\n",
    "    pickle.dump(cost_Oracle_all,tf)\n",
    "with open(DataPath+'cost_DDR_all.pkl', \"wb\") as tf:\n",
    "    pickle.dump(cost_DDR_all,tf)"
   ]
  },
  {
   "cell_type": "code",
   "execution_count": 14,
   "metadata": {},
   "outputs": [
    {
     "name": "stdout",
     "output_type": "stream",
     "text": [
      "cost_DDR_esti= [1.29 1.16 1.4  1.28 1.49 1.37 1.18 1.24 1.46 1.36 1.1  1.15 1.13 1.31\n",
      " 1.37 1.32 1.49 1.56 1.21 1.18 1.18 1.39 1.23 1.46 1.14 1.32 1.42 1.08\n",
      " 1.29 1.18 1.22 1.39 1.33 1.22 1.17 1.29 1.5  1.37 1.1  1.32]\n",
      "cost_OLS_esti= [1.26 1.14 1.4  1.28 1.48 1.35 1.17 1.23 1.46 1.36 1.09 1.15 1.12 1.3\n",
      " 1.36 1.3  1.49 1.55 1.2  1.16 1.17 1.38 1.23 1.45 1.12 1.3  1.41 1.08\n",
      " 1.28 1.17 1.2  1.39 1.33 1.22 1.15 1.26 1.5  1.37 1.09 1.3 ]\n",
      "cost_Oracle= [1.65 1.19 1.31 0.8  1.41 0.84 0.9  0.74 1.95 1.56 1.09 1.71 1.75 1.18\n",
      " 1.37 0.72 1.61 1.79 1.11 1.33 0.79 1.77 1.17 1.67 1.6  1.96 1.24 1.05\n",
      " 1.45 0.93 1.68 1.87 1.93 1.28 1.49 1.27 1.56 1.8  1.37 0.79]\n"
     ]
    }
   ],
   "source": [
    "seed = 1\n",
    "lamb = 1\n",
    "cost_OLS_esti = x_test_all[seed] @ np.asarray(W_ols_all[seed]).T + w0_ols_all[seed]\n",
    "cost_DDR_esti = x_test_all[seed] @ np.asarray(W_ddr_all[seed,mu][lamb]).T + w0_ddr_all[seed,mu][lamb]\n",
    "\n",
    "S_test_index = 3\n",
    "print(\"cost_DDR_esti=\",np.round(cost_DDR_esti[S_test_index,],2))\n",
    "# print(\"cost:(0,1)-->(1,3) = \",cost_DDR_esti[S_test_index,0] + cost_DDR_esti[S_test_index,2])\n",
    "# print(\"cost:(0,2)-->(2,3) = \",cost_DDR_esti[S_test_index,1] + cost_DDR_esti[S_test_index,3])\n",
    "\n",
    "print(\"cost_OLS_esti=\",np.round(cost_OLS_esti[S_test_index,],2))\n",
    "# print(\"cost:(0,1)-->(1,3) = \",cost_OLS_esti[S_test_index,0] + cost_OLS_esti[S_test_index,2])\n",
    "# print(\"cost:(0,2)-->(2,3) = \",cost_OLS_esti[S_test_index,1] + cost_OLS_esti[S_test_index,3])\n",
    "\n",
    "\n",
    "print(\"cost_Oracle=\",np.round(c_test_all[seed][S_test_index],2))\n",
    "# print(\"cost:(0,1)-->(1,3) = \",c_test_all[seed][S_test_index,0] + c_test_all[seed][S_test_index,2])\n",
    "# print(\"cost:(0,2)-->(2,3) = \",c_test_all[seed][S_test_index,1] + c_test_all[seed][S_test_index,3])"
   ]
  },
  {
   "cell_type": "code",
   "execution_count": 15,
   "metadata": {},
   "outputs": [
    {
     "name": "stdout",
     "output_type": "stream",
     "text": [
      "regret_avg= [-0.0213  0.0146  0.0771  0.14    0.1855  0.2804  0.3239  0.4699  0.3423\n",
      "  0.3535  0.231   0.265   0.117   0.1128]\n"
     ]
    }
   ],
   "source": [
    "regret_avg = np.zeros(len(lamb_all))\n",
    "for seed in seed_all:\n",
    "    regret_avg = regret_avg + regret_all[seed,mu]\n",
    "regret_avg = regret_avg/(len(seed_all))\n",
    "print(\"regret_avg=\",np.round(regret_avg,4))"
   ]
  },
  {
   "cell_type": "markdown",
   "metadata": {},
   "source": [
    "# Plot figures"
   ]
  },
  {
   "cell_type": "code",
   "execution_count": 16,
   "metadata": {},
   "outputs": [],
   "source": [
    "def cross_compare2plus(c_item, c_base, c_oracle):\n",
    "    c_item = np.asarray(c_item)\n",
    "    c_base = np.asarray(c_base)\n",
    "    c_oracle = np.asarray(c_oracle)\n",
    "\n",
    "    N = len(c_item)\n",
    "    c_diff = c_item - c_base\n",
    "    lbel = np.zeros((N,1))\n",
    "    \n",
    "    equals = np.sum(c_diff == 0)\n",
    "    wins = np.sum(c_diff < 0)\n",
    "    lose = np.sum(c_diff > 0)\n",
    "    \n",
    "    lbel[c_diff < 0] = 1\n",
    "    lbel[c_diff > 0] = -1\n",
    "    \n",
    "    # print(\"Num_train =\",N,\",Num_equals =\",equals,\",Num_wins =\",wins,\",Num_lose =\",lose)\n",
    "    # print(\"base cost = \", np.mean(c_base),\",item cost = \",np.mean(c_item))\n",
    "    if N == equals:\n",
    "        win_ratio = 0.5\n",
    "    else:\n",
    "        win_ratio = wins/(N - equals)\n",
    "    # cost_reduction = (np.mean(c_base) - np.mean(c_item) )/np.abs(np.mean(c_oracle))\n",
    "    regret_reduction = (np.nanmean(c_base) - np.nanmean(c_item))/np.abs(np.nanmean(c_base) - np.nanmean(c_oracle))\n",
    "    return lbel, win_ratio, regret_reduction"
   ]
  },
  {
   "cell_type": "code",
   "execution_count": 53,
   "metadata": {},
   "outputs": [],
   "source": [
    "H2H_DDR_vs_OLS_all = {}; regret_reduction_DDR_vs_OLS_all = {}\n",
    "for mu in mu_all:\n",
    "    for lamb in lamb_all:\n",
    "        H2H_DDR_vs_OLS_arr = np.zeros(len(seed_all)); regret_reduction_DDR_vs_OLS_arr = np.zeros(len(seed_all))\n",
    "        seed_index = 0\n",
    "        # print(\"lamb = \",lamb)\n",
    "        for seed in seed_all:\n",
    "            lbel, H2H_DDR_vs_OLS_arr[seed_index], regret_reduction_DDR_vs_OLS_arr[seed_index] = cross_compare2plus(cost_DDR_all[seed,mu][lamb],cost_OLS_all[seed], cost_Oracle_all[seed])\n",
    "            seed_index = seed_index + 1\n",
    "        H2H_DDR_vs_OLS_all[mu,lamb] = H2H_DDR_vs_OLS_arr; regret_reduction_DDR_vs_OLS_all[mu,lamb] = regret_reduction_DDR_vs_OLS_arr"
   ]
  },
  {
   "cell_type": "code",
   "execution_count": 22,
   "metadata": {},
   "outputs": [
    {
     "data": {
      "text/plain": [
       "array([0.1, 0.2, 0.3, 0.4, 0.5, 0.6, 0.7, 0.8, 0.9, 1. , 1.1, 1.2, 1.3,\n",
       "       1.4])"
      ]
     },
     "execution_count": 22,
     "metadata": {},
     "output_type": "execute_result"
    }
   ],
   "source": [
    "lamb_all"
   ]
  },
  {
   "cell_type": "code",
   "execution_count": 34,
   "metadata": {},
   "outputs": [
    {
     "data": {
      "image/png": "[encoded data removed]",
      "text/plain": [
       "<Figure size 500x500 with 3 Axes>"
      ]
     },
     "metadata": {},
     "output_type": "display_data"
    }
   ],
   "source": [
    "mu = 0.1\n",
    "lamb = 0.1\n",
    "import Figures\n",
    "Figures.figure_plot_upleft(H2H_DDR_vs_OLS_all[mu,lamb]*100, regret_reduction_DDR_vs_OLS_all[mu,lamb], \"\", size = (5, 5), move = [-0.12, 0.04, 0.35, 0.55], \n",
    "                    ysame = 0, yrange = [6,6], sublabel = '', ypio = 0)"
   ]
  },
  {
   "cell_type": "code",
   "execution_count": 20,
   "metadata": {},
   "outputs": [],
   "source": [
    "# import matplotlib.pyplot as plt\n",
    "# fig = plt.figure()\n",
    "# ax = plt.subplot()\n",
    "# ax.plot(lamb_all,regret_all[seed,mu])"
   ]
  },
  {
   "cell_type": "code",
   "execution_count": 49,
   "metadata": {},
   "outputs": [
    {
     "data": {
      "text/plain": [
       "dict_keys([1])"
      ]
     },
     "execution_count": 49,
     "metadata": {},
     "output_type": "execute_result"
    }
   ],
   "source": [
    "cost_EPO_all.keys()"
   ]
  },
  {
   "cell_type": "code",
   "execution_count": 54,
   "metadata": {},
   "outputs": [],
   "source": [
    "H2H_SPO_vs_OLS_arr = np.zeros(len(seed_all)); regret_reduction_SPO_vs_OLS_arr = np.zeros(len(seed_all))\n",
    "seed_index = 0\n",
    "for seed in seed_all:\n",
    "    lbel, H2H_SPO_vs_OLS_arr[seed_index], regret_reduction_SPO_vs_OLS_arr[seed_index] = cross_compare2plus(cost_EPO_all[seed][\"SPO\"],cost_OLS_all[seed], cost_Oracle_all[seed])\n",
    "    seed_index = seed_index + 1\n",
    "H2H_SPO_vs_OLS_all = H2H_SPO_vs_OLS_arr; regret_reduction_SPO_vs_OLS_all = regret_reduction_SPO_vs_OLS_arr"
   ]
  },
  {
   "cell_type": "code",
   "execution_count": 60,
   "metadata": {},
   "outputs": [
    {
     "name": "stdout",
     "output_type": "stream",
     "text": [
      "SPO regret reduction =  -0.1667804750831337\n"
     ]
    }
   ],
   "source": [
    "print(\"SPO regret reduction = \",np.nanmean(regret_reduction_SPO_vs_OLS_all))"
   ]
  },
  {
   "cell_type": "code",
   "execution_count": 56,
   "metadata": {},
   "outputs": [
    {
     "data": {
      "image/png": "[encoded data removed]",
      "text/plain": [
       "<Figure size 500x500 with 3 Axes>"
      ]
     },
     "metadata": {},
     "output_type": "display_data"
    }
   ],
   "source": [
    "Figures.figure_plot_upleft(H2H_SPO_vs_OLS_all*100, regret_reduction_SPO_vs_OLS_all, \"\", size = (5, 5), move = [-0.12, 0.04, 0.35, 0.55], \n",
    "                    ysame = 0, yrange = [6,6], sublabel = '', ypio = 0)"
   ]
  },
  {
   "cell_type": "code",
   "execution_count": 55,
   "metadata": {},
   "outputs": [
    {
     "data": {
      "text/plain": [
       "array([0.434, 0.413, 0.378, 0.426, 0.422, 0.434, 0.403, 0.45 , 0.424,\n",
       "       0.416, 0.415, 0.418, 0.448, 0.406, 0.414, 0.396, 0.43 , 0.442,\n",
       "       0.452])"
      ]
     },
     "execution_count": 55,
     "metadata": {},
     "output_type": "execute_result"
    }
   ],
   "source": [
    "H2H_SPO_vs_OLS_all"
   ]
  }
 ],
 "metadata": {
  "kernelspec": {
   "display_name": ".venv",
   "language": "python",
   "name": "python3"
  },
  "language_info": {
   "codemirror_mode": {
    "name": "ipython",
    "version": 3
   },
   "file_extension": ".py",
   "mimetype": "text/x-python",
   "name": "python",
   "nbconvert_exporter": "python",
   "pygments_lexer": "ipython3",
   "version": "3.9.6"
  }
 },
 "nbformat": 4,
 "nbformat_minor": 2
}
