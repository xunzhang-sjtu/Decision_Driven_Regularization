{
 "cells": [
  {
   "cell_type": "code",
   "execution_count": 1,
   "metadata": {},
   "outputs": [],
   "source": [
    "import random\n",
    "import numpy as np\n",
    "import torch\n",
    "import os\n",
    "import pathlib\n",
    "import pickle\n",
    "from gurobipy import *\n",
    "from rsome import ro\n",
    "from rsome import grb_solver as grb\n",
    "import rsome as rso\n",
    "from rsome import cpt_solver as cpt"
   ]
  },
  {
   "cell_type": "code",
   "execution_count": 2,
   "metadata": {},
   "outputs": [],
   "source": [
    "data_generation_process = \"SPO_Data_Generation\"\n",
    "data_generation_process = \"DDR_Data_Generation\""
   ]
  },
  {
   "cell_type": "markdown",
   "metadata": {},
   "source": [
    "# Parameters"
   ]
  },
  {
   "cell_type": "code",
   "execution_count": 3,
   "metadata": {},
   "outputs": [],
   "source": [
    "# import pyepo\n",
    "# generate data\n",
    "grid = (3,3) # grid size\n",
    "num_train = 100 # number of training data\n",
    "num_feat = 5 # size of feature\n",
    "num_test = 10000\n",
    "deg = 1.0 # polynomial degree\n",
    "e = 1.0 # scale of normal std or the range of uniform. For the error term\n",
    "\n",
    "lower = 0 # coef lower bound\n",
    "upper = 1 # coef upper bound\n",
    "p = num_feat # num of features\n",
    "d = (grid[0] - 1) * (grid[0] - 1) * 2 + 2 * (grid[0] - 1) # num of arcs\n",
    "num_nodes = grid[0]*grid[0]\n",
    "alpha = e # scale of normal std or the range of uniform. For the error term\n",
    "mis = deg # model misspecification\n",
    "coef_seed = 1\n",
    "\n",
    "x_dist = 'uniform'\n",
    "e_dist = 'normal'\n",
    "x_low = -2\n",
    "x_up = 2\n",
    "x_mean = 2\n",
    "x_var = 2\n",
    "bump = 7"
   ]
  },
  {
   "cell_type": "code",
   "execution_count": 4,
   "metadata": {},
   "outputs": [
    {
     "name": "stdout",
     "output_type": "stream",
     "text": [
      "grandparent_directory: /Users/zhangxun/Dropbox/Research/Decision_Driven_Regularization/Code_MacBook\n",
      "DataPath: /Users/zhangxun/Dropbox/Research/Decision_Driven_Regularization/Data/Test0401_DDR_Data_Generation/\n"
     ]
    }
   ],
   "source": [
    "current_directory = os.getcwd()\n",
    "parent_directory = os.path.dirname(current_directory)\n",
    "grandparent_directory = os.path.dirname(parent_directory)\n",
    "DataPath = os.path.dirname(grandparent_directory) + '/Data/Test0401_' + data_generation_process + \"/\"\n",
    "pathlib.Path(DataPath).mkdir(parents=True, exist_ok=True)\n",
    "print(\"grandparent_directory:\", grandparent_directory)\n",
    "print(\"DataPath:\", DataPath)\n",
    "DataPath = DataPath + \"data_size=\"+str(num_train)+\"_deg=\"+str(deg)+\"_e=\"+str(e)+\"_d=\"+str(d)+\"_coef_seed=\"+str(coef_seed)+\"_same_W/\"\n",
    "pathlib.Path(DataPath).mkdir(parents=True, exist_ok=True)"
   ]
  },
  {
   "cell_type": "markdown",
   "metadata": {},
   "source": [
    "# Generate Data"
   ]
  },
  {
   "cell_type": "code",
   "execution_count": 5,
   "metadata": {},
   "outputs": [],
   "source": [
    "def Prepare_Data(DataPath,lower, upper, p, d, coef_seed,iteration_all,num_test, num_train, alpha,mis,data_generation_process,x_dist, e_dist, x_low, x_up, x_mean, x_var, bump):\n",
    "# #  ****** Coef generation *********\n",
    "    from Data import data_generation\n",
    "    data_gen = data_generation()\n",
    "    W_star = data_gen.generate_truth(DataPath,lower, upper, p, d, coef_seed,data_generation_process) \n",
    "    # print(\"W_star = \",W_star[0,:])\n",
    "    np.random.seed(coef_seed)\n",
    "    x_test_all = {}; c_test_all = {}; x_train_all = {}; c_train_all = {}; W_star_all = {}\n",
    "    for iter in iteration_all:\n",
    "        DataPath_iter = DataPath +\"iter=\"+str(iter)+\"/\"\n",
    "        pathlib.Path(DataPath_iter).mkdir(parents=True, exist_ok=True)\n",
    "        # W_star = data_gen.generate_truth(DataPath_iter,lower, upper, p, d, iter,data_generation_process) \n",
    "        # #  ****** Data generation *********\n",
    "        x_test_all[iter], c_test_all[iter], x_train_all[iter], c_train_all[iter], W_star_all[iter] = data_gen.generate_samples(iter,DataPath_iter,p, d, num_test, num_train, alpha, W_star, mis, num_test, \n",
    "                                data_generation_process, x_dist, e_dist, x_low, x_up, x_mean, x_var, bump) \n",
    "        # print()\n",
    "    return x_test_all, c_test_all, x_train_all, c_train_all, W_star_all"
   ]
  },
  {
   "cell_type": "markdown",
   "metadata": {},
   "source": [
    "# EPO(SPO+,...)"
   ]
  },
  {
   "cell_type": "code",
   "execution_count": 6,
   "metadata": {},
   "outputs": [],
   "source": [
    "# from PYEPO import PyEPO_Method\n",
    "# epo_runner = PyEPO_Method()\n",
    "def Implement_EPO(DataPath,seed_all,batch_size,num_epochs,method_names,x_train_all,c_train_all,x_test_all,c_test_all,arcs,epo_runner):\n",
    "    cost_EPO = {}\n",
    "    for seed in seed_all:\n",
    "        DataPath_seed = DataPath +\"Seed=\"+str(seed)+\"/\"\n",
    "        pathlib.Path(DataPath_seed).mkdir(parents=True, exist_ok=True)\n",
    "        # print(\"*** seed = \",seed,\": Run EPO ******\")\n",
    "        cost_EPO[seed] = epo_runner.run(method_names,DataPath_seed,batch_size,num_feat,grid,num_epochs,\\\n",
    "                                        x_train_all[seed],c_train_all[seed],x_test_all[seed],c_test_all[seed],arcs)\n",
    "    return cost_EPO"
   ]
  },
  {
   "cell_type": "markdown",
   "metadata": {},
   "source": [
    "# Obtain DDR estimation"
   ]
  },
  {
   "cell_type": "markdown",
   "metadata": {},
   "source": [
    "### define network"
   ]
  },
  {
   "cell_type": "code",
   "execution_count": 7,
   "metadata": {},
   "outputs": [],
   "source": [
    "def _getArcs(grid):\n",
    "    arcs = []\n",
    "    for i in range(grid[0]):\n",
    "        # edges on rows\n",
    "        for j in range(grid[1] - 1):\n",
    "            v = i * grid[1] + j\n",
    "            arcs.append((v, v + 1))\n",
    "        # edges in columns\n",
    "        if i == grid[0] - 1:\n",
    "            continue\n",
    "        for j in range(grid[1]):\n",
    "            v = i * grid[1] + j\n",
    "            arcs.append((v, v + grid[1]))\n",
    "\n",
    "    arc_index_mapping = {}\n",
    "    for i in range(len(arcs)):\n",
    "        arc = arcs[i]\n",
    "        arc_index_mapping[arc] = i\n",
    "\n",
    "    return arcs,arc_index_mapping"
   ]
  },
  {
   "cell_type": "code",
   "execution_count": 8,
   "metadata": {},
   "outputs": [],
   "source": [
    "def solve_DDR(arcs,lamb,mu_fixed,num_nodes,x_train,c_train):\n",
    "    \n",
    "    N,p = x_train.shape\n",
    "    N,d = c_train.shape\n",
    "\n",
    "    # DDR\n",
    "    m = Model(\"ddr\")\n",
    "    #m.setParam(\"DualReductions\",0)\n",
    "    m.setParam('OutputFlag', 0)\n",
    "\n",
    "    W_ind = tuplelist( [(i,j) for i in range(d) for j in range(p)] )\n",
    "    w0_ind = tuplelist( [i for i in range(d)])\n",
    "\n",
    "    W_ddr = m.addVars(W_ind, lb=-GRB.INFINITY,name = \"W\" )\n",
    "    w0_ddr = m.addVars(w0_ind, lb=-GRB.INFINITY,name = \"W0\" )\n",
    "    alpha = m.addVars(N,num_nodes,lb=-GRB.INFINITY,name=\"alpha\")\n",
    "    expr_obj = 0\n",
    "    err = []\n",
    "    for n in range(N):\n",
    "        cost_true_tem = c_train[n]\n",
    "        expr_obj = expr_obj + alpha[n,num_nodes-1] - alpha[n,0]\n",
    "        for ind in range(len(arcs)):\n",
    "            cost_pred_tem = quicksum([W_ddr[ind,j] * x_train[n,j] for j in range(p)]) + w0_ddr[ind]\n",
    "            err.append(cost_true_tem[ind] - cost_pred_tem)\n",
    "            e = arcs[ind]\n",
    "            j = e[1]\n",
    "            i = e[0]\n",
    "            # print(\"j = \",j,\", i = \",i, \", e = \",e)\n",
    "            m.addConstr(alpha[n,j] - alpha[n,i] >= -mu_fixed*cost_true_tem[ind] - (1-mu_fixed)*cost_pred_tem)\n",
    "\n",
    "    m.setObjective(quicksum([err[k] * err[k] for k in range(len(err))])/N + lamb*(expr_obj)/N, GRB.MINIMIZE)\n",
    "    m.optimize()\n",
    "    \n",
    "    W_DDR_rst = m.getAttr('x', W_ddr)\n",
    "    w0_DDR_rst = m.getAttr('x', w0_ddr)\n",
    "    W_ddr_val = []\n",
    "    for i in range(d):\n",
    "        W_ddr_val.append([W_DDR_rst[(i,j)] for j in range(p)])\n",
    "    w0_ddr_val = [w0_DDR_rst[i] for i in range(d)]\n",
    "\n",
    "    alpha_rst = m.getAttr('x', alpha)\n",
    "    return w0_ddr_val,W_ddr_val,alpha_rst,m.ObjVal"
   ]
  },
  {
   "cell_type": "markdown",
   "metadata": {},
   "source": [
    "# Out-of-sample performance"
   ]
  },
  {
   "cell_type": "markdown",
   "metadata": {},
   "source": [
    "### Generate data"
   ]
  },
  {
   "cell_type": "code",
   "execution_count": 9,
   "metadata": {},
   "outputs": [],
   "source": [
    "arcs,arc_index_mapping = _getArcs(grid)\n",
    "num_arcs = len(arcs)\n",
    "iteration_all = np.arange(0,10)\n",
    "# obtain data\n",
    "x_test_all, c_test_all, x_train_all, c_train_all, W_star_all = Prepare_Data(DataPath,lower, upper, p, d, coef_seed,iteration_all,num_test, num_train, alpha,mis,data_generation_process,x_dist, e_dist, x_low, x_up, x_mean, x_var, bump)"
   ]
  },
  {
   "cell_type": "markdown",
   "metadata": {},
   "source": [
    "### EPO performance"
   ]
  },
  {
   "cell_type": "code",
   "execution_count": 10,
   "metadata": {},
   "outputs": [],
   "source": [
    "# # EPO, including SPO, PG, LTR\n",
    "# batch_size = 20\n",
    "# num_epochs = 100\n",
    "# method_names = [\"spo+\",\"pg\",\"ltr\"]\n",
    "# method_names = [\"spo+\"]\n",
    "# from PYEPO import PyEPO_Method\n",
    "# epo_runner = PyEPO_Method()\n",
    "\n",
    "# cost_EPO_all = Implement_EPO(DataPath,[1],batch_size,num_epochs,method_names,x_train_all,c_train_all,x_test_all,c_test_all,arcs,epo_runner)\n",
    "# print(\"SPO+Cost = \",np.nanmean(cost_EPO_all[1][\"SPO\"]))"
   ]
  },
  {
   "cell_type": "markdown",
   "metadata": {},
   "source": [
    "## Oracle performance"
   ]
  },
  {
   "cell_type": "code",
   "execution_count": 11,
   "metadata": {},
   "outputs": [
    {
     "name": "stdout",
     "output_type": "stream",
     "text": [
      "Set parameter Username\n",
      "Academic license - for non-commercial use only - expires 2026-03-13\n"
     ]
    }
   ],
   "source": [
    "from Peformance import performance_evaluation\n",
    "perfs = performance_evaluation()\n",
    "cost_Oracle_all = {}\n",
    "for iter in iteration_all:\n",
    "    if data_generation_process == \"SPO_Data_Generation\":\n",
    "        cost_dem = (W_star_all[iter] @ x_test_all[iter].T)/np.sqrt(num_feat) + 3\n",
    "        oracle_cost_pred = (cost_dem ** mis + 1).T\n",
    "    if data_generation_process == \"DDR_Data_Generation\":\n",
    "        cost_dem = (W_star_all[iter] @ x_test_all[iter].T) + bump\n",
    "        oracle_cost_pred = (cost_dem ** mis).T\n",
    "    cost_Oracle_all[iter] = perfs.compute_Oracel_Cost(arcs, grid,oracle_cost_pred,c_test_all[iter])\n",
    "    # cost_Oracle_all[iter] = perfs.compute_Cost_with_Prediction(arcs,np.ones(num_arcs)*bump, W_star_all[iter],grid,c_test_all[iter],x_test_all[iter])"
   ]
  },
  {
   "cell_type": "markdown",
   "metadata": {},
   "source": [
    "### OLS performance"
   ]
  },
  {
   "cell_type": "code",
   "execution_count": 12,
   "metadata": {},
   "outputs": [],
   "source": [
    "from OLS import ols_method\n",
    "ols_method_obj = ols_method()\n",
    "W_ols_all = {}; w0_ols_all = {}; t_ols_all = {}; obj_ols_all = {}\n",
    "cost_OLS_all = {}\n",
    "for iter in iteration_all:\n",
    "    # compute OLS performance\n",
    "    W_ols_all[iter], w0_ols_all[iter], t_ols_all[iter], obj_ols_all[iter] = ols_method_obj.ols_solver(\"\",x_train_all[iter], c_train_all[iter])\n",
    "    cost_dem = (W_ols_all[iter] @ x_test_all[iter].T).T + w0_ols_all[iter]\n",
    "    cost_OLS_all[iter] = perfs.compute_Oracel_Cost(arcs, grid,cost_dem,c_test_all[iter])\n",
    "    # cost_OLS_all[iter] = perfs.compute_Cost_with_Prediction(arcs,w0_ols_all[iter],W_ols_all[iter], grid,c_test_all[iter],x_test_all[iter])"
   ]
  },
  {
   "cell_type": "code",
   "execution_count": 13,
   "metadata": {},
   "outputs": [],
   "source": [
    "# from Shortest_Path_Model import My_ShortestPathModel\n",
    "# full_shortest_model = My_ShortestPathModel()\n",
    "# cost_OLS_avg_log = np.zeros(len(iteration_all))\n",
    "# for iter in iteration_all:\n",
    "#     # compute OLS performance\n",
    "#     W_ols, w0_ols, t_ols, obj_ols = ols_method_obj.ols_solver(\"\",x_train_all[iter], np.log(c_train_all[iter]))\n",
    "#     dem_coef = np.exp((W_ols @ x_test_all[iter].T).T + w0_ols)\n",
    "#     cost_OLS_log = perfs.compute_Oracel_Cost(arcs, grid,dem_coef,c_test_all[iter])\n",
    "#     cost_OLS_avg_log[iter] = np.nanmean(cost_OLS_log)\n",
    "# print(\"OLS cost = \",np.round(cost_OLS_avg_log,4))"
   ]
  },
  {
   "cell_type": "markdown",
   "metadata": {},
   "source": [
    "### DDR performance"
   ]
  },
  {
   "cell_type": "code",
   "execution_count": 14,
   "metadata": {},
   "outputs": [],
   "source": [
    "def obtain_DDR_out_of_sample_performance(mu_all,lamb_all,num_nodes,x_train,c_train,x_test,c_test,perfs,grid,is_log):\n",
    "    lamb_index = 0\n",
    "    cost_DDR = {}; w0_ddr_dict = {}; W_ddr_dict = {}\n",
    "    cost_DDR_avg = np.zeros((len(mu_all),len(lamb_all)))\n",
    "    mu_index = 0\n",
    "    for mu in mu_all:\n",
    "        lamb_index = 0\n",
    "        for lamb in lamb_all:\n",
    "            if is_log:\n",
    "                w0_ddr_dict[mu,lamb],W_ddr_dict[mu,lamb],alpha_rst,obj_ddr = solve_DDR(arcs,lamb,mu,num_nodes,x_train,np.log(c_train))\n",
    "                cost_dem = np.exp((W_ddr_dict[mu,lamb] @ x_test.T).T + w0_ddr_dict[mu,lamb])\n",
    "            else:\n",
    "                w0_ddr_dict[mu,lamb],W_ddr_dict[mu,lamb],alpha_rst,obj_ddr = solve_DDR(arcs,lamb,mu,num_nodes,x_train,c_train)\n",
    "                cost_dem = (W_ddr_dict[mu,lamb] @ x_test.T).T + w0_ddr_dict[mu,lamb]\n",
    "            cost_DDR[mu,lamb] = perfs.compute_Oracel_Cost(arcs, grid,cost_dem,c_test)\n",
    "            # cost_DDR[mu,lamb] = perfs.compute_Cost_with_Prediction(arcs,w0_ddr_dict[mu,lamb],W_ddr_dict[mu,lamb], grid,c_test,x_test)\n",
    "            cost_DDR_avg[mu_index,lamb_index] = np.nanmean(cost_DDR[mu,lamb])\n",
    "            lamb_index = lamb_index + 1\n",
    "        # print(\"cost_DDR_avg=\",np.round(cost_DDR_avg[0,:],4))\n",
    "        mu_index = mu_index + 1\n",
    "    return cost_DDR,w0_ddr_dict,W_ddr_dict,cost_DDR_avg"
   ]
  },
  {
   "cell_type": "code",
   "execution_count": 15,
   "metadata": {},
   "outputs": [],
   "source": [
    "def obtain_ddr_rst(iteration_all,mu_all,lamb_all,num_nodes,x_train_all,c_train_all,x_test_all,c_test_all,perfs,grid,is_log):\n",
    "    cost_DDR_all = {}; w0_ddr_all = {}; W_ddr_all = {}\n",
    "    cost_DDR_avg_all = {}\n",
    "    for iter in iteration_all:\n",
    "        cost_DDR_all[iter],w0_ddr_all[iter],W_ddr_all[iter],cost_DDR_avg_all[iter] = obtain_DDR_out_of_sample_performance(mu_all,lamb_all,num_nodes,x_train_all[iter],c_train_all[iter],x_test_all[iter],c_test_all[iter],perfs,grid,is_log)\n",
    "        print(\"iter = \",iter,\",cost_DDR_avg_all = \")\n",
    "        print(np.round(cost_DDR_avg_all[iter],4))\n",
    "    # print(\"regred_DDR_vs_OLS_all=\",regred_DDR_vs_OLS_all)\n",
    "    return cost_DDR_all,w0_ddr_all,W_ddr_all,cost_DDR_avg_all"
   ]
  },
  {
   "cell_type": "code",
   "execution_count": 16,
   "metadata": {},
   "outputs": [
    {
     "name": "stdout",
     "output_type": "stream",
     "text": [
      "iter =  0 ,cost_DDR_avg_all = \n",
      "[[26.8425 26.8389 26.8454 26.8513 26.8539 26.8478 26.8435 26.8454 26.8417\n",
      "  26.8334]\n",
      " [26.8425 26.8373 26.8383 26.8348 26.8344 26.8305 26.837  26.8425 26.8366\n",
      "  26.8318]\n",
      " [26.8425 26.8359 26.835  26.8349 26.8335 26.836  26.836  26.8352 26.8334\n",
      "  26.8282]\n",
      " [26.8425 26.8398 26.8358 26.8354 26.8362 26.8355 26.8385 26.8381 26.8335\n",
      "  26.83  ]\n",
      " [26.8425 26.8425 26.8361 26.8325 26.8344 26.8378 26.8372 26.8401 26.8406\n",
      "  26.8418]\n",
      " [26.8425 26.8412 26.8387 26.8309 26.8298 26.8303 26.8309 26.8352 26.8355\n",
      "  26.8339]\n",
      " [26.8425 26.8403 26.8373 26.8336 26.8322 26.8281 26.8271 26.8252 26.8234\n",
      "  26.8234]\n",
      " [26.8425 26.8418 26.8394 26.8399 26.8392 26.8365 26.8357 26.8339 26.8319\n",
      "  26.8305]\n",
      " [26.8425 26.8435 26.8422 26.8398 26.8402 26.8396 26.8402 26.8392 26.8397\n",
      "  26.8394]]\n",
      "iter =  1 ,cost_DDR_avg_all = \n",
      "[[26.6909 26.6898 26.6939 26.6964 26.7053 26.7109 26.7115 26.7217 26.7431\n",
      "  26.7569]\n",
      " [26.6909 26.6936 26.6951 26.6932 26.6941 26.6934 26.6984 26.7052 26.7128\n",
      "  26.721 ]\n",
      " [26.6909 26.692  26.693  26.6912 26.6916 26.6889 26.6886 26.687  26.692\n",
      "  26.7002]\n",
      " [26.6909 26.6911 26.6884 26.6938 26.6926 26.6969 26.6955 26.6967 26.697\n",
      "  26.699 ]\n",
      " [26.6909 26.6904 26.69   26.6897 26.6904 26.692  26.6917 26.6891 26.6914\n",
      "  26.6952]\n",
      " [26.6909 26.6906 26.6915 26.6886 26.6889 26.6917 26.6914 26.6934 26.6939\n",
      "  26.6929]\n",
      " [26.6909 26.6906 26.6896 26.6912 26.6895 26.6896 26.6887 26.6888 26.6916\n",
      "  26.6914]\n",
      " [26.6909 26.691  26.6904 26.69   26.6898 26.6895 26.6909 26.6917 26.6911\n",
      "  26.6912]\n",
      " [26.6909 26.6912 26.6902 26.691  26.6904 26.6896 26.6892 26.6886 26.6878\n",
      "  26.6877]]\n",
      "iter =  2 ,cost_DDR_avg_all = \n",
      "[[26.7505 26.7486 26.7414 26.7387 26.7369 26.7353 26.7285 26.7213 26.7289\n",
      "  26.7334]\n",
      " [26.7505 26.7504 26.7469 26.7449 26.7434 26.7425 26.7396 26.7341 26.729\n",
      "  26.7284]\n",
      " [26.7505 26.7499 26.7479 26.7432 26.7382 26.736  26.7353 26.7336 26.7324\n",
      "  26.7314]\n",
      " [26.7505 26.7494 26.7488 26.7471 26.7429 26.7432 26.7405 26.7416 26.7394\n",
      "  26.7415]\n",
      " [26.7505 26.7519 26.7512 26.7498 26.7487 26.7483 26.7478 26.7458 26.743\n",
      "  26.742 ]\n",
      " [26.7505 26.7507 26.7509 26.751  26.75   26.7501 26.7475 26.7461 26.7473\n",
      "  26.7467]\n",
      " [26.7505 26.7506 26.7507 26.7499 26.7497 26.7488 26.7469 26.7467 26.7461\n",
      "  26.745 ]\n",
      " [26.7505 26.7508 26.7509 26.7501 26.7497 26.7501 26.749  26.7491 26.7481\n",
      "  26.7469]\n",
      " [26.7505 26.7508 26.7506 26.7504 26.7503 26.7508 26.7502 26.7506 26.7504\n",
      "  26.7509]]\n",
      "iter =  3 ,cost_DDR_avg_all = \n",
      "[[26.8619 26.8599 26.8693 26.865  26.8666 26.8667 26.8678 26.8709 26.8751\n",
      "  26.8825]\n",
      " [26.8619 26.8575 26.8588 26.8727 26.8736 26.8753 26.8784 26.8833 26.888\n",
      "  26.8956]\n",
      " [26.8619 26.8616 26.8621 26.8628 26.872  26.8738 26.8761 26.8849 26.8916\n",
      "  26.8935]\n",
      " [26.8619 26.8599 26.8613 26.8634 26.8656 26.8683 26.876  26.8851 26.898\n",
      "  26.9006]\n",
      " [26.8619 26.8618 26.8613 26.8561 26.8552 26.8592 26.8608 26.8615 26.8619\n",
      "  26.8678]\n",
      " [26.8619 26.8635 26.8639 26.862  26.8614 26.8619 26.8667 26.8692 26.8734\n",
      "  26.871 ]\n",
      " [26.8619 26.863  26.8611 26.8633 26.8603 26.8589 26.8577 26.8574 26.8619\n",
      "  26.865 ]\n",
      " [26.8619 26.8638 26.8617 26.8607 26.861  26.8613 26.8602 26.8585 26.8581\n",
      "  26.8577]\n",
      " [26.8619 26.8628 26.8633 26.8616 26.8612 26.8615 26.8599 26.8617 26.861\n",
      "  26.8621]]\n",
      "iter =  4 ,cost_DDR_avg_all = \n",
      "[[26.7585 26.7638 26.7691 26.7778 26.7818 26.7899 26.7971 26.8088 26.818\n",
      "  26.8247]\n",
      " [26.7585 26.7656 26.7671 26.7721 26.7787 26.7841 26.7931 26.7999 26.8194\n",
      "  26.8377]\n",
      " [26.7585 26.7634 26.7649 26.7687 26.7724 26.7747 26.777  26.7768 26.7848\n",
      "  26.7913]\n",
      " [26.7585 26.7607 26.7635 26.7683 26.7693 26.7724 26.7818 26.7839 26.7883\n",
      "  26.7903]\n",
      " [26.7585 26.7609 26.7643 26.7677 26.7673 26.7665 26.771  26.7746 26.7772\n",
      "  26.7807]\n",
      " [26.7585 26.7628 26.766  26.7662 26.767  26.771  26.771  26.7717 26.7731\n",
      "  26.7756]\n",
      " [26.7585 26.76   26.7617 26.7629 26.7645 26.7663 26.7681 26.7685 26.7721\n",
      "  26.7749]\n",
      " [26.7585 26.759  26.7617 26.762  26.7633 26.7649 26.7654 26.7671 26.7676\n",
      "  26.7661]\n",
      " [26.7585 26.7589 26.7591 26.7596 26.7624 26.7629 26.7628 26.7631 26.7632\n",
      "  26.764 ]]\n",
      "iter =  5 ,cost_DDR_avg_all = \n",
      "[[26.6842 26.6844 26.6842 26.6872 26.6888 26.6879 26.6866 26.688  26.6848\n",
      "  26.6936]\n",
      " [26.6842 26.6826 26.686  26.6865 26.6893 26.6907 26.6873 26.6872 26.687\n",
      "  26.6914]\n",
      " [26.6842 26.685  26.6857 26.6899 26.687  26.6875 26.6903 26.6918 26.692\n",
      "  26.6858]\n",
      " [26.6842 26.6835 26.6844 26.6876 26.6901 26.6871 26.6894 26.6869 26.6878\n",
      "  26.6892]\n",
      " [26.6842 26.6838 26.6847 26.6861 26.6876 26.686  26.6852 26.6873 26.69\n",
      "  26.6889]\n",
      " [26.6842 26.6852 26.6833 26.6841 26.684  26.6862 26.6879 26.6894 26.6868\n",
      "  26.6862]\n",
      " [26.6842 26.685  26.6836 26.6834 26.6811 26.6805 26.6817 26.6849 26.6852\n",
      "  26.6837]\n",
      " [26.6842 26.6839 26.6823 26.6823 26.6806 26.6791 26.6799 26.6826 26.6815\n",
      "  26.6831]\n",
      " [26.6842 26.6839 26.6836 26.6822 26.6809 26.681  26.6813 26.6809 26.6808\n",
      "  26.6806]]\n",
      "iter =  6 ,cost_DDR_avg_all = \n",
      "[[26.8177 26.8157 26.8169 26.8133 26.8099 26.8081 26.8065 26.8102 26.8176\n",
      "  26.8177]\n",
      " [26.8177 26.8162 26.8168 26.8121 26.814  26.8126 26.81   26.8107 26.8095\n",
      "  26.8098]\n",
      " [26.8177 26.8189 26.8208 26.8216 26.8221 26.8188 26.8203 26.8218 26.8227\n",
      "  26.8197]\n",
      " [26.8177 26.8224 26.8231 26.8214 26.8216 26.8235 26.8218 26.8239 26.8249\n",
      "  26.8269]\n",
      " [26.8177 26.8212 26.8198 26.8215 26.824  26.8305 26.8301 26.8301 26.8283\n",
      "  26.8294]\n",
      " [26.8177 26.8207 26.8228 26.8239 26.8263 26.8277 26.8299 26.831  26.8315\n",
      "  26.8328]\n",
      " [26.8177 26.8198 26.8212 26.8218 26.8232 26.8266 26.8285 26.8287 26.8296\n",
      "  26.8303]\n",
      " [26.8177 26.8198 26.8206 26.8209 26.8229 26.8259 26.8255 26.8273 26.8282\n",
      "  26.8303]\n",
      " [26.8177 26.8191 26.8189 26.8178 26.8184 26.8182 26.8204 26.8216 26.8217\n",
      "  26.8229]]\n",
      "iter =  7 ,cost_DDR_avg_all = \n",
      "[[26.6439 26.6405 26.6379 26.6386 26.6394 26.6423 26.6459 26.6515 26.6507\n",
      "  26.6479]\n",
      " [26.6439 26.6381 26.6352 26.6366 26.6356 26.6361 26.6304 26.6332 26.6272\n",
      "  26.6286]\n",
      " [26.6439 26.6423 26.6369 26.6381 26.6339 26.636  26.6366 26.6367 26.6346\n",
      "  26.6328]\n",
      " [26.6439 26.6419 26.6412 26.6399 26.6363 26.6406 26.6341 26.6299 26.6327\n",
      "  26.6346]\n",
      " [26.6439 26.6424 26.6409 26.6339 26.6327 26.6337 26.6315 26.6324 26.632\n",
      "  26.6298]\n",
      " [26.6439 26.6455 26.6421 26.6401 26.6387 26.6376 26.6351 26.6352 26.6353\n",
      "  26.6357]\n",
      " [26.6439 26.6449 26.6447 26.6429 26.6407 26.6389 26.64   26.6401 26.6353\n",
      "  26.635 ]\n",
      " [26.6439 26.644  26.6449 26.6443 26.6434 26.6435 26.6421 26.6402 26.6399\n",
      "  26.6395]\n",
      " [26.6439 26.644  26.6444 26.6453 26.645  26.6445 26.6438 26.643  26.6434\n",
      "  26.6438]]\n",
      "iter =  8 ,cost_DDR_avg_all = \n",
      "[[26.87   26.8674 26.8705 26.8742 26.8834 26.8858 26.8912 26.8945 26.8949\n",
      "  26.8907]\n",
      " [26.87   26.8732 26.8773 26.8844 26.8848 26.8911 26.9011 26.9089 26.9144\n",
      "  26.9171]\n",
      " [26.87   26.8719 26.877  26.8812 26.8884 26.898  26.9082 26.9105 26.913\n",
      "  26.9186]\n",
      " [26.87   26.8709 26.8732 26.8773 26.8807 26.8897 26.8922 26.9022 26.9061\n",
      "  26.9114]\n",
      " [26.87   26.8685 26.8709 26.8722 26.8756 26.8795 26.885  26.8888 26.8933\n",
      "  26.8968]\n",
      " [26.87   26.8695 26.8708 26.8733 26.8729 26.8753 26.8809 26.8842 26.8883\n",
      "  26.8899]\n",
      " [26.87   26.869  26.8701 26.8729 26.874  26.8747 26.8754 26.8793 26.8789\n",
      "  26.8827]\n",
      " [26.87   26.8675 26.87   26.8714 26.8735 26.8734 26.8742 26.8732 26.8749\n",
      "  26.8732]\n",
      " [26.87   26.8694 26.8664 26.8674 26.8684 26.8695 26.8707 26.8714 26.8707\n",
      "  26.8697]]\n",
      "iter =  9 ,cost_DDR_avg_all = \n",
      "[[26.875  26.8819 26.8916 26.8925 26.9041 26.9206 26.9452 26.9627 26.966\n",
      "  26.972 ]\n",
      " [26.875  26.8814 26.8899 26.8916 26.9023 26.9041 26.9072 26.9282 26.9431\n",
      "  26.9525]\n",
      " [26.875  26.8815 26.8876 26.891  26.8952 26.8972 26.8974 26.9017 26.9102\n",
      "  26.9187]\n",
      " [26.875  26.878  26.8764 26.8776 26.8868 26.8883 26.8914 26.8943 26.8994\n",
      "  26.9131]\n",
      " [26.875  26.8776 26.8799 26.8805 26.8871 26.8894 26.8956 26.8974 26.9042\n",
      "  26.9049]\n",
      " [26.875  26.8777 26.8808 26.8788 26.8795 26.8811 26.8772 26.8782 26.8814\n",
      "  26.8795]\n",
      " [26.875  26.8764 26.8774 26.8782 26.8783 26.8774 26.8774 26.8769 26.8776\n",
      "  26.8777]\n",
      " [26.875  26.8765 26.8767 26.8767 26.8771 26.8789 26.8803 26.8801 26.8802\n",
      "  26.8813]\n",
      " [26.875  26.8745 26.8758 26.874  26.8756 26.875  26.8747 26.8753 26.8771\n",
      "  26.8772]]\n"
     ]
    }
   ],
   "source": [
    "is_log = False\n",
    "mu_all = np.arange(0.1,1.0,0.1)\n",
    "lamb_all = np.round(np.arange(0.0,1.0,0.1),4)\n",
    "cost_DDR_all,w0_ddr_all,W_ddr_all,cost_DDR_avg_all = obtain_ddr_rst(iteration_all,mu_all,lamb_all,num_nodes,x_train_all,c_train_all,x_test_all,c_test_all,perfs,grid,is_log)"
   ]
  },
  {
   "cell_type": "code",
   "execution_count": 17,
   "metadata": {},
   "outputs": [
    {
     "name": "stdout",
     "output_type": "stream",
     "text": [
      "regret_ddr_vs_ols_avg\n",
      "[[ 0.000e+00  4.000e-02 -2.910e+00 -6.680e+00 -1.168e+01 -1.534e+01\n",
      "  -1.783e+01 -2.568e+01 -3.352e+01 -4.260e+01]\n",
      " [ 0.000e+00 -5.200e-01 -2.840e+00 -4.630e+00 -8.130e+00 -1.000e+01\n",
      "  -1.195e+01 -1.747e+01 -2.339e+01 -3.273e+01]\n",
      " [ 0.000e+00 -1.610e+00 -2.330e+00 -4.760e+00 -4.630e+00 -5.500e+00\n",
      "  -8.110e+00 -9.280e+00 -1.314e+01 -1.407e+01]\n",
      " [ 0.000e+00 -1.500e-01 -3.000e-01 -4.080e+00 -5.040e+00 -7.250e+00\n",
      "  -9.710e+00 -1.056e+01 -1.350e+01 -1.686e+01]\n",
      " [ 0.000e+00 -5.000e-01 -1.030e+00 -7.400e-01 -2.070e+00 -3.220e+00\n",
      "  -4.150e+00 -5.730e+00 -8.270e+00 -1.002e+01]\n",
      " [ 0.000e+00 -2.030e+00 -1.990e+00 -8.800e-01 -8.700e-01 -3.770e+00\n",
      "  -4.480e+00 -6.480e+00 -6.800e+00 -6.670e+00]\n",
      " [ 0.000e+00 -9.000e-01 -3.700e-01 -8.000e-01  7.200e-01  9.500e-01\n",
      "   2.400e-01 -1.320e+00 -2.550e+00 -2.880e+00]\n",
      " [ 0.000e+00 -2.500e-01 -1.300e-01  4.000e-02  3.900e-01  4.500e-01\n",
      "   3.000e-02 -1.300e+00 -7.100e-01 -8.700e-01]\n",
      " [ 0.000e+00 -2.600e-01  2.400e-01  8.100e-01  7.100e-01  7.900e-01\n",
      "   7.700e-01  8.600e-01  9.800e-01  7.200e-01]]\n"
     ]
    }
   ],
   "source": [
    "regret_ddr_vs_ols_all = {}; regret_ddr_vs_ols_avg = np.zeros((len(mu_all),len(lamb_all)))\n",
    "\n",
    "cost_OLS_avg_all = np.zeros(len(iteration_all))\n",
    "cost_Oracle_avg_all = np.zeros(len(iteration_all))\n",
    "\n",
    "for iter_index in range(len(iteration_all)):\n",
    "    iter = iteration_all[iter_index]\n",
    "    cost_OLS_avg_all[iter_index] = np.nanmean(cost_OLS_all[iter])\n",
    "    cost_Oracle_avg_all[iter_index] = np.nanmean(cost_Oracle_all[iter])\n",
    "\n",
    "    regret_ddr_vs_ols_all[iter_index] = (cost_OLS_avg_all[iter_index] - cost_DDR_avg_all[iter])/np.abs(cost_OLS_avg_all[iter_index] - cost_Oracle_avg_all[iter_index])\n",
    "    regret_ddr_vs_ols_avg = regret_ddr_vs_ols_avg + regret_ddr_vs_ols_all[iter_index]\n",
    "regret_ddr_vs_ols_avg = regret_ddr_vs_ols_avg/len(iteration_all)\n",
    "print(\"regret_ddr_vs_ols_avg\")\n",
    "print(np.round(regret_ddr_vs_ols_avg*100,2))"
   ]
  },
  {
   "cell_type": "code",
   "execution_count": 37,
   "metadata": {},
   "outputs": [
    {
     "name": "stdout",
     "output_type": "stream",
     "text": [
      "[ 0.   -0.26  0.24  0.81  0.71  0.79  0.77  0.86  0.98  0.72]\n"
     ]
    }
   ],
   "source": [
    "print(np.round(regret_ddr_vs_ols_avg[8,:]*100,2))"
   ]
  },
  {
   "cell_type": "code",
   "execution_count": 18,
   "metadata": {},
   "outputs": [],
   "source": [
    "# with open(DataPath+'cost_OLS_all.pkl', \"wb\") as tf:\n",
    "#     pickle.dump(cost_OLS_all,tf)\n",
    "# with open(DataPath+'cost_Oracle_all.pkl', \"wb\") as tf:\n",
    "#     pickle.dump(cost_Oracle_all,tf)\n",
    "# with open(DataPath+'cost_DDR_all.pkl', \"wb\") as tf:\n",
    "#     pickle.dump(cost_DDR_all,tf)"
   ]
  },
  {
   "cell_type": "code",
   "execution_count": 19,
   "metadata": {},
   "outputs": [],
   "source": [
    "# seed = 1\n",
    "# lamb = 1\n",
    "# cost_OLS_esti = x_test_all[seed] @ np.asarray(W_ols_all[seed]).T + w0_ols_all[seed]\n",
    "# cost_DDR_esti = x_test_all[seed] @ np.asarray(W_ddr_all[seed,mu][lamb]).T + w0_ddr_all[seed,mu][lamb]\n",
    "\n",
    "# S_test_index = 3\n",
    "# print(\"cost_DDR_esti=\",np.round(cost_DDR_esti[S_test_index,],2))\n",
    "# # print(\"cost:(0,1)-->(1,3) = \",cost_DDR_esti[S_test_index,0] + cost_DDR_esti[S_test_index,2])\n",
    "# # print(\"cost:(0,2)-->(2,3) = \",cost_DDR_esti[S_test_index,1] + cost_DDR_esti[S_test_index,3])\n",
    "\n",
    "# print(\"cost_OLS_esti=\",np.round(cost_OLS_esti[S_test_index,],2))\n",
    "# # print(\"cost:(0,1)-->(1,3) = \",cost_OLS_esti[S_test_index,0] + cost_OLS_esti[S_test_index,2])\n",
    "# # print(\"cost:(0,2)-->(2,3) = \",cost_OLS_esti[S_test_index,1] + cost_OLS_esti[S_test_index,3])\n",
    "\n",
    "\n",
    "# print(\"cost_Oracle=\",np.round(c_test_all[seed][S_test_index],2))\n",
    "# # print(\"cost:(0,1)-->(1,3) = \",c_test_all[seed][S_test_index,0] + c_test_all[seed][S_test_index,2])\n",
    "# # print(\"cost:(0,2)-->(2,3) = \",c_test_all[seed][S_test_index,1] + c_test_all[seed][S_test_index,3])"
   ]
  },
  {
   "cell_type": "markdown",
   "metadata": {},
   "source": [
    "# Plot figures"
   ]
  },
  {
   "cell_type": "code",
   "execution_count": 20,
   "metadata": {},
   "outputs": [],
   "source": [
    "def cross_compare2plus(c_item, c_base, c_oracle):\n",
    "    c_item = np.asarray(c_item)\n",
    "    c_base = np.asarray(c_base)\n",
    "    c_oracle = np.asarray(c_oracle)\n",
    "\n",
    "    N = len(c_item)\n",
    "    c_diff = c_item - c_base\n",
    "    lbel = np.zeros((N,1))\n",
    "    \n",
    "    equals = np.sum(c_diff == 0)\n",
    "    wins = np.sum(c_diff < 0)\n",
    "    lose = np.sum(c_diff > 0)\n",
    "    \n",
    "    lbel[c_diff < 0] = 1\n",
    "    lbel[c_diff > 0] = -1\n",
    "    \n",
    "    # print(\"Num_train =\",N,\",Num_equals =\",equals,\",Num_wins =\",wins,\",Num_lose =\",lose)\n",
    "    # print(\"base cost = \", np.mean(c_base),\",item cost = \",np.mean(c_item))\n",
    "    if N == equals:\n",
    "        win_ratio = 0.5\n",
    "    else:\n",
    "        win_ratio = wins/(N - equals)\n",
    "    # cost_reduction = (np.mean(c_base) - np.mean(c_item) )/np.abs(np.mean(c_oracle))\n",
    "    regret_reduction = (np.nanmean(c_base) - np.nanmean(c_item))/np.abs(np.nanmean(c_base) - np.nanmean(c_oracle))\n",
    "    return lbel, win_ratio, regret_reduction"
   ]
  },
  {
   "cell_type": "markdown",
   "metadata": {},
   "source": [
    "### DDR figure"
   ]
  },
  {
   "cell_type": "code",
   "execution_count": 21,
   "metadata": {},
   "outputs": [],
   "source": [
    "# H2H_DDR_vs_OLS_all = {}; regret_reduction_DDR_vs_OLS_all = {}\n",
    "# for mu in mu_all:\n",
    "#     for lamb in lamb_all:\n",
    "#         H2H_DDR_vs_OLS_arr = np.zeros(len(iteration_all)); regret_reduction_DDR_vs_OLS_arr = np.zeros(len(iteration_all))\n",
    "#         # print(\"lamb = \",lamb)\n",
    "#         for iter in iteration_all:\n",
    "#             lbel, H2H_DDR_vs_OLS_arr[iter-1], regret_reduction_DDR_vs_OLS_arr[iter-1] = cross_compare2plus(cost_DDR_all[iter][mu,lamb],cost_OLS_all[iter], cost_Oracle_all[iter])\n",
    "#         H2H_DDR_vs_OLS_all[mu,lamb] = H2H_DDR_vs_OLS_arr; regret_reduction_DDR_vs_OLS_all[mu,lamb] = regret_reduction_DDR_vs_OLS_arr"
   ]
  },
  {
   "cell_type": "code",
   "execution_count": 22,
   "metadata": {},
   "outputs": [],
   "source": [
    "# mu = mu_all[0]\n",
    "# lamb = lamb_all[7]\n",
    "# import Figures\n",
    "# file_name = DataPath + \"figure_mu=\"+str(mu)+\"_lamb=\"+str(lamb)\n",
    "# Figures.figure_plot_upleft(H2H_DDR_vs_OLS_all[mu,lamb]*100, regret_reduction_DDR_vs_OLS_all[mu,lamb], file_name, size = (5, 5), move = [-0.12, 0.04, 0.35, 0.55], \n",
    "#                     ysame = 0, yrange = [6,6], sublabel = '', ypio = 0)"
   ]
  },
  {
   "cell_type": "code",
   "execution_count": 23,
   "metadata": {},
   "outputs": [],
   "source": [
    "# import matplotlib.pyplot as plt\n",
    "# fig = plt.figure()\n",
    "# ax = plt.subplot()\n",
    "# ax.plot(lamb_all,regret_all[seed,mu])"
   ]
  },
  {
   "cell_type": "markdown",
   "metadata": {},
   "source": [
    "### SPO figure"
   ]
  },
  {
   "cell_type": "code",
   "execution_count": 24,
   "metadata": {},
   "outputs": [],
   "source": [
    "# H2H_SPO_vs_OLS_arr = np.zeros(len(seed_all)); regret_reduction_SPO_vs_OLS_arr = np.zeros(len(seed_all))\n",
    "# seed_index = 0\n",
    "# for seed in seed_all:\n",
    "#     lbel, H2H_SPO_vs_OLS_arr[seed_index], regret_reduction_SPO_vs_OLS_arr[seed_index] = cross_compare2plus(cost_EPO_all[seed][\"SPO\"],cost_OLS_all[seed], cost_Oracle_all[seed])\n",
    "#     seed_index = seed_index + 1\n",
    "# H2H_SPO_vs_OLS_all = H2H_SPO_vs_OLS_arr; regret_reduction_SPO_vs_OLS_all = regret_reduction_SPO_vs_OLS_arr"
   ]
  },
  {
   "cell_type": "code",
   "execution_count": 25,
   "metadata": {},
   "outputs": [],
   "source": [
    "# Figures.figure_plot_upleft(H2H_SPO_vs_OLS_all*100, regret_reduction_SPO_vs_OLS_all, \"\", size = (5, 5), move = [-0.12, 0.04, 0.35, 0.55], \n",
    "#                     ysame = 0, yrange = [6,6], sublabel = '', ypio = 0)"
   ]
  },
  {
   "cell_type": "code",
   "execution_count": 26,
   "metadata": {},
   "outputs": [],
   "source": [
    "# regret_reduction_SPO_vs_OLS_arr"
   ]
  }
 ],
 "metadata": {
  "kernelspec": {
   "display_name": ".venv",
   "language": "python",
   "name": "python3"
  },
  "language_info": {
   "codemirror_mode": {
    "name": "ipython",
    "version": 3
   },
   "file_extension": ".py",
   "mimetype": "text/x-python",
   "name": "python",
   "nbconvert_exporter": "python",
   "pygments_lexer": "ipython3",
   "version": "3.9.6"
  }
 },
 "nbformat": 4,
 "nbformat_minor": 2
}
