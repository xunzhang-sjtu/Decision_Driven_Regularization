{
 "cells": [
  {
   "cell_type": "code",
   "execution_count": 14,
   "metadata": {},
   "outputs": [],
   "source": [
    "# set random seed\n",
    "import random\n",
    "random.seed(42)\n",
    "import numpy as np\n",
    "np.random.seed(42)\n",
    "import torch\n",
    "torch.manual_seed(42)\n",
    "torch.cuda.manual_seed(42)"
   ]
  },
  {
   "cell_type": "markdown",
   "metadata": {},
   "source": [
    "# Parameters"
   ]
  },
  {
   "cell_type": "code",
   "execution_count": 15,
   "metadata": {},
   "outputs": [],
   "source": [
    "# import pyepo\n",
    "# generate data\n",
    "grid = (5,5) # grid size\n",
    "num_data = 100 # number of training data\n",
    "num_feat = 5 # size of feature\n",
    "num_test = 1000\n",
    "deg = 1.2 # polynomial degree\n",
    "e = 0.5 # noise width"
   ]
  },
  {
   "cell_type": "markdown",
   "metadata": {},
   "source": [
    "# Generate Data"
   ]
  },
  {
   "cell_type": "code",
   "execution_count": 16,
   "metadata": {},
   "outputs": [],
   "source": [
    "from Data import data_generation\n",
    "data_gen = data_generation()\n",
    "\n",
    "#  ****** Data generation process is the same as SPO+ *********\n",
    "feats, costs = data_gen.generate_Shortest_Path_Data(num_data+num_test, num_feat, grid, deg, e, seed=42)\n",
    "\n",
    "#  ****** Data generation process is the same as DDR *********\n",
    "# lower = 0\n",
    "# upper = 1\n",
    "# p = 5\n",
    "# d = 40\n",
    "# alpha = 1\n",
    "# mis = 4\n",
    "# n_epsilon = 1\n",
    "# W_star = data_gen.generate_truth(\"\",lower, upper, p, d, version = 0) \n",
    "# x_test, z_test_ori, c_test, x_train, z_train_ori, c_train, W_star = data_gen.generate_samples(\"\",p, d, num_test, num_data, alpha, W_star, n_epsilon, mis, thres = 10, \n",
    "#                         version = 1, x_dist = 'normal', e_dist = 'normal', x_low = 0, x_up = 2, x_mean = 2, x_var = 0.25, bump = 0) \n",
    "\n",
    "# split train test data\n",
    "from sklearn.model_selection import train_test_split\n",
    "x_train, x_test, c_train, c_test = train_test_split(feats, costs, test_size=num_test, random_state=42)"
   ]
  },
  {
   "cell_type": "markdown",
   "metadata": {},
   "source": [
    "### SPO+ "
   ]
  },
  {
   "cell_type": "code",
   "execution_count": 17,
   "metadata": {},
   "outputs": [
    {
     "name": "stdout",
     "output_type": "stream",
     "text": [
      "Test\n",
      "Optimizing for optDataset...\n"
     ]
    },
    {
     "name": "stderr",
     "output_type": "stream",
     "text": [
      "100%|██████████| 100/100 [00:00<00:00, 1416.89it/s]\n"
     ]
    },
    {
     "name": "stdout",
     "output_type": "stream",
     "text": [
      "Test\n",
      "Optimizing for optDataset...\n"
     ]
    },
    {
     "name": "stderr",
     "output_type": "stream",
     "text": [
      "100%|██████████| 1000/1000 [00:00<00:00, 2093.28it/s]\n"
     ]
    },
    {
     "name": "stdout",
     "output_type": "stream",
     "text": [
      "oracle cost =  6.6683534908294675\n",
      "Num of cores: 2\n",
      "epoch 0: Average SPO Cost =  8.279449820011854\n",
      "epoch =  0  Average SPO Cost =  8.206841227144002\n"
     ]
    }
   ],
   "source": [
    "from SPO_Plus import run_SPO_Shortest_Path\n",
    "SPO_runner = run_SPO_Shortest_Path()\n",
    "batch_size = 20\n",
    "num_epochs = 1\n",
    "arcs,loader_train,loader_test,cost_Oracle,cost_SPO = SPO_runner.run(x_train,c_train,x_test,c_test,batch_size,num_feat,grid,num_epochs,True)"
   ]
  },
  {
   "cell_type": "markdown",
   "metadata": {},
   "source": [
    "## Inner problem of the shortest path problem"
   ]
  },
  {
   "cell_type": "code",
   "execution_count": 18,
   "metadata": {},
   "outputs": [],
   "source": [
    "def solve_Inner_Problem(arcs,cost_true,cost_pred,mu,is_binary):\n",
    "    \"\"\"\n",
    "    A method to build Gurobi model\n",
    "\n",
    "    Returns:\n",
    "        tuple: optimization model and variables\n",
    "    \"\"\"\n",
    "    import gurobipy as gp\n",
    "    from gurobipy import GRB\n",
    "    # import gurobipy as grb\n",
    "    # ceate a model\n",
    "    m = gp.Model(\"shortest path\")\n",
    "    m.setParam('OutputFlag', 0)\n",
    "    if is_binary:\n",
    "    # varibles\n",
    "        x = m.addVars(arcs, lb = 0,vtype=GRB.BINARY  ,name=\"x\")\n",
    "    else:\n",
    "        x = m.addVars(arcs, lb = 0,name=\"x\")\n",
    "    # sense\n",
    "    # m.modelSense = GRB.MINIMIZE\n",
    "    # flow conservation constraints\n",
    "    for i in range(grid[0]):\n",
    "        for j in range(grid[1]):\n",
    "            v = i * grid[1] + j\n",
    "            expr = 0\n",
    "            for e in arcs:\n",
    "                # flow in\n",
    "                if v == e[1]:\n",
    "                    expr += x[e]\n",
    "                # flow out\n",
    "                elif v == e[0]:\n",
    "                    expr -= x[e]\n",
    "            # source\n",
    "            if i == 0 and j == 0:\n",
    "                m.addConstr(expr == -1)\n",
    "            # sink\n",
    "            elif i == grid[0] - 1 and j == grid[0] - 1:\n",
    "                m.addConstr(expr == 1)\n",
    "            # transition\n",
    "            else:\n",
    "                m.addConstr(expr == 0)\n",
    "    m.setObjective( sum([-mu*cost_true[ind] * x[arcs[ind]] - (1-mu)*cost_pred[ind] * x[arcs[ind]] for ind in range(len(arcs))]) , GRB.MAXIMIZE)\n",
    "    m.optimize()\n",
    "    sol = m.getAttr('x')\n",
    "    # print(\"sol = \",sol)\n",
    "    # shortest_path = obtain_path(arcs,sol)\n",
    "    obj = m.ObjVal\n",
    "    # print(\"shortest_path = \",shortest_path)\n",
    "    return obj,sol"
   ]
  },
  {
   "cell_type": "markdown",
   "metadata": {},
   "source": [
    "## The dual problem of the inner problem"
   ]
  },
  {
   "cell_type": "code",
   "execution_count": 19,
   "metadata": {},
   "outputs": [],
   "source": [
    "def solve_Inner_Problem_Dual(arcs,cost_true,cost_pred,mu):\n",
    "    num_nodes = 25\n",
    "    import gurobipy as gp\n",
    "    from gurobipy import GRB\n",
    "    # import gurobipy as grb\n",
    "    # ceate a model\n",
    "    m = gp.Model(\"Maximium path\")\n",
    "    m.setParam('OutputFlag', 0)\n",
    "    alpha = m.addVars(num_nodes,name=\"alpha\")\n",
    "    # sense\n",
    "    # m.modelSense = GRB.MINIMIZE\n",
    "    # flow conservation constraints\n",
    "    for ind in range(len(arcs)):\n",
    "        e = arcs[ind]\n",
    "        j = e[1]\n",
    "        i = e[0]\n",
    "        # print(\"j = \",j,\", i = \",i, \", e = \",e)\n",
    "        m.addConstr(alpha[j] - alpha[i] >= -mu*cost_true[ind] - (1-mu)*cost_pred[ind])\n",
    "\n",
    "    m.setObjective( alpha[num_nodes-1] - alpha[0], GRB.MINIMIZE)\n",
    "    m.optimize()\n",
    "    # # print(\"sol = \",sol)\n",
    "    obj = m.ObjVal\n",
    "    # print(\"obj = \",obj)\n",
    "    return obj"
   ]
  },
  {
   "cell_type": "markdown",
   "metadata": {},
   "source": [
    "# Check the equivalence between shortest path, its linear relaxation and dual problem"
   ]
  },
  {
   "cell_type": "code",
   "execution_count": 20,
   "metadata": {},
   "outputs": [
    {
     "name": "stdout",
     "output_type": "stream",
     "text": [
      "obj_continous =  -2.224103448996429\n",
      "obj_binary =  -2.224103448996429\n",
      "obj_dual =  -2.224103448996429\n"
     ]
    }
   ],
   "source": [
    "cost_true_tem = np.random.uniform(0,1,40) \n",
    "cost_pred_tem = np.random.uniform(0,1,40) \n",
    "mu_fixed = 0.4\n",
    "obj_continous,sol_continous = solve_Inner_Problem(arcs,cost_true_tem,cost_pred_tem,mu_fixed,False)\n",
    "print(\"obj_continous = \",obj_continous)\n",
    "\n",
    "obj_binary,sol_binary = solve_Inner_Problem(arcs,cost_true_tem,cost_pred_tem,mu_fixed,True)\n",
    "print(\"obj_binary = \",obj_binary)\n",
    "\n",
    "\n",
    "obj_dual = solve_Inner_Problem_Dual(arcs,cost_true_tem,cost_pred_tem,mu_fixed)\n",
    "print(\"obj_dual = \",obj_dual)\n"
   ]
  }
 ],
 "metadata": {
  "kernelspec": {
   "display_name": ".venv",
   "language": "python",
   "name": "python3"
  },
  "language_info": {
   "codemirror_mode": {
    "name": "ipython",
    "version": 3
   },
   "file_extension": ".py",
   "mimetype": "text/x-python",
   "name": "python",
   "nbconvert_exporter": "python",
   "pygments_lexer": "ipython3",
   "version": "3.9.6"
  }
 },
 "nbformat": 4,
 "nbformat_minor": 2
}
