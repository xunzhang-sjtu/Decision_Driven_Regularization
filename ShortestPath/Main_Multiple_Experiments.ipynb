{
 "cells": [
  {
   "cell_type": "code",
   "execution_count": 35,
   "metadata": {},
   "outputs": [],
   "source": [
    "# set random seed\n",
    "import random\n",
    "# random.seed(42)\n",
    "import numpy as np\n",
    "# np.random.seed(42)\n",
    "import torch\n",
    "# torch.manual_seed(42)\n",
    "# torch.cuda.manual_seed(42)\n",
    "import os\n",
    "import pathlib\n",
    "import pickle"
   ]
  },
  {
   "cell_type": "code",
   "execution_count": 36,
   "metadata": {},
   "outputs": [
    {
     "name": "stdout",
     "output_type": "stream",
     "text": [
      "grandparent_directory: /Users/zhangxun/Dropbox/Research/Decision_Driven_Regularization/Code_MacBook\n",
      "DataPath: /Users/zhangxun/Dropbox/Research/Decision_Driven_Regularization/Data/SPO_Data_Generation/\n"
     ]
    }
   ],
   "source": [
    "current_directory = os.getcwd()\n",
    "parent_directory = os.path.dirname(current_directory)\n",
    "grandparent_directory = os.path.dirname(parent_directory)\n",
    "DataPath = os.path.dirname(grandparent_directory) + '/Data/SPO_Data_Generation/'\n",
    "pathlib.Path(DataPath).mkdir(parents=True, exist_ok=True)\n",
    "print(\"grandparent_directory:\", grandparent_directory)\n",
    "print(\"DataPath:\", DataPath)"
   ]
  },
  {
   "cell_type": "markdown",
   "metadata": {},
   "source": [
    "# Parameters"
   ]
  },
  {
   "cell_type": "code",
   "execution_count": 37,
   "metadata": {},
   "outputs": [],
   "source": [
    "# import pyepo\n",
    "# generate data\n",
    "grid = (5,5) # grid size\n",
    "num_data = 50 # number of training data\n",
    "num_feat = 5 # size of feature\n",
    "num_test = 1000\n",
    "deg = 0.8 # polynomial degree\n",
    "e = 0.5 # noise width"
   ]
  },
  {
   "cell_type": "code",
   "execution_count": 38,
   "metadata": {},
   "outputs": [],
   "source": [
    "DataPath = DataPath + \"data_size=\"+str(num_data)+\"_deg=\"+str(deg)+\"_e=\"+str(e)+\"/\"\n",
    "pathlib.Path(DataPath).mkdir(parents=True, exist_ok=True)"
   ]
  },
  {
   "cell_type": "code",
   "execution_count": null,
   "metadata": {},
   "outputs": [
    {
     "name": "stdout",
     "output_type": "stream",
     "text": [
      "*** seed =  1 : Run SPO ========\n",
      "Test\n",
      "Optimizing for optDataset...\n"
     ]
    },
    {
     "name": "stderr",
     "output_type": "stream",
     "text": [
      "100%|██████████| 50/50 [00:00<00:00, 1153.30it/s]\n"
     ]
    },
    {
     "name": "stdout",
     "output_type": "stream",
     "text": [
      "Test\n",
      "Optimizing for optDataset...\n"
     ]
    },
    {
     "name": "stderr",
     "output_type": "stream",
     "text": [
      "100%|██████████| 1000/1000 [00:00<00:00, 2061.33it/s]\n"
     ]
    },
    {
     "name": "stdout",
     "output_type": "stream",
     "text": [
      "Num of cores: 2\n",
      "*** seed =  1 : Run OLS ========\n",
      "*** seed =  1 : Run DDR ========\n"
     ]
    }
   ],
   "source": [
    "seed_all = np.arange(1,10)\n",
    "cost_Oracle_all = {}; cost_SPO_all = {}; cost_OLS_all = {}; cost_DDR_all = {}\n",
    "\n",
    "for seed in seed_all:\n",
    "    DataPath_seed = DataPath +\"Seed=\"+str(seed)+\"/\"\n",
    "    pathlib.Path(DataPath_seed).mkdir(parents=True, exist_ok=True)\n",
    "    from Data import data_generation\n",
    "    data_gen = data_generation()\n",
    "\n",
    "    #  ****** Data generation *********\n",
    "    feats, costs = data_gen.generate_Shortest_Path_Data(num_data+num_test, num_feat, grid, deg, e, seed=seed)\n",
    "    # split train test data\n",
    "    from sklearn.model_selection import train_test_split\n",
    "    x_train, x_test, c_train, c_test = train_test_split(feats, costs, test_size=num_test, random_state=42)\n",
    "    raw_data = {}\n",
    "    raw_data[\"x_train\"] = x_train; raw_data[\"x_test\"] = x_test; raw_data[\"c_train\"] = c_train; raw_data[\"c_test\"] = c_test\n",
    "    with open(DataPath_seed +'raw_data.pkl', \"wb\") as tf:\n",
    "        pickle.dump(raw_data,tf)\n",
    "\n",
    "    #  ****** SPO *********\n",
    "    print(\"*** seed = \",seed,\": Run SPO ========\")\n",
    "    from SPO_Plus import run_SPO_Shortest_Path\n",
    "    SPO_runner = run_SPO_Shortest_Path()\n",
    "    batch_size = 20\n",
    "    num_epochs = 30\n",
    "    arcs,loader_train,loader_test,cost_Oracle_all[seed],cost_SPO_all[seed] = SPO_runner.run(DataPath_seed,x_train,c_train,x_test,c_test,batch_size,num_feat,grid,num_epochs,True)\n",
    "\n",
    "    #  ****** OLS *********\n",
    "    print(\"*** seed = \",seed,\": Run OLS ========\")\n",
    "    from OLS import run_OLS_Shortest_Path\n",
    "    OLS_runner = run_OLS_Shortest_Path()\n",
    "    cost_OLS_all[seed] = OLS_runner.run(DataPath_seed,arcs,x_train,c_train,grid,loader_test)\n",
    "    # print(\"Average OLS Cost = \",np.mean(cost_OLS))\n",
    "\n",
    "\n",
    "    #  ****** DDR *********\n",
    "    print(\"*** seed = \",seed,\": Run DDR ========\")\n",
    "    from DDR import run_DDR_Shortest_Path\n",
    "    DDR_runner = run_DDR_Shortest_Path()\n",
    "    mu_arr = np.arange(0.1,1,0.05)\n",
    "    lamb_arr = np.arange(0.1,1,0.05)\n",
    "    lamb_arr = [0.05,0.1,0.15,0.2]\n",
    "    minimum_value = 1000000000\n",
    "\n",
    "    cost_DDR_all[seed] = DDR_runner.run(DataPath_seed,lamb_arr,mu_arr,arcs,x_train, c_train, grid,loader_test,num_nodes=25)\n"
   ]
  },
  {
   "cell_type": "markdown",
   "metadata": {},
   "source": [
    "# Results"
   ]
  },
  {
   "cell_type": "code",
   "execution_count": null,
   "metadata": {},
   "outputs": [],
   "source": [
    "seed = 5\n",
    "lamb = 0.1\n",
    "for seed in seed_all:\n",
    "    print(\"Seed = \",seed,\", Average Oracle Cost = \",np.round(np.mean(cost_Oracle_all[seed]),4),\"Std = \", np.round(np.std(cost_Oracle_all[seed]),4))\n",
    "    print(\"Seed = \",seed,\", Average SPO Cost = \", np.round(np.mean(cost_SPO_all[seed]),4),\"Std = \", np.round(np.std(cost_SPO_all[seed]),4))\n",
    "    print(\"Seed = \",seed,\", Average OLS Cost = \", np.round(np.mean(cost_OLS_all[seed]),4),\"Std = \", np.round(np.std(cost_OLS_all[seed]),4))\n",
    "    cost_ddr_lowest = 10000; lamb_opt = 0; mu_opt = 0\n",
    "    for lamb in lamb_arr:\n",
    "        # print(\"======== lambda = \",lamb,\"============\")\n",
    "        for mu in mu_arr:\n",
    "            # print(\"Seed = \",seed,\", lamb = \",lamb,\",mu = \",mu,\", Average DRR Cost = \", np.round(np.mean(cost_DDR_all[seed][lamb,mu][\"cost\"]),4),\"Std = \", np.round(np.std(cost_DDR_all[seed][lamb,mu][\"cost\"]),4))\n",
    "            if np.mean(cost_DDR_all[seed][lamb,mu][\"cost\"]) < cost_ddr_lowest:\n",
    "                cost_ddr_lowest = np.mean(cost_DDR_all[seed][lamb,mu][\"cost\"])\n",
    "                lamb_opt = lamb\n",
    "                mu_opt = mu\n",
    "    print(\"Seed = \",seed,\", lamb_opt = \",lamb_opt,\",mu_opt = \",mu_opt,\", Average DRR Cost = \", np.round(cost_ddr_lowest,4))\n",
    "    print(\"Seed = \",seed,\", opt ratio = \",(np.mean(cost_OLS_all[seed]) - cost_ddr_lowest)/np.mean(cost_OLS_all[seed]))\n",
    "    print()"
   ]
  }
 ],
 "metadata": {
  "kernelspec": {
   "display_name": ".venv",
   "language": "python",
   "name": "python3"
  },
  "language_info": {
   "codemirror_mode": {
    "name": "ipython",
    "version": 3
   },
   "file_extension": ".py",
   "mimetype": "text/x-python",
   "name": "python",
   "nbconvert_exporter": "python",
   "pygments_lexer": "ipython3",
   "version": "3.9.6"
  }
 },
 "nbformat": 4,
 "nbformat_minor": 2
}
