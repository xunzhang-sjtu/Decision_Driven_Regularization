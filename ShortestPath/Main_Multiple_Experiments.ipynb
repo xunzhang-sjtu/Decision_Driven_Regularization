{
 "cells": [
  {
   "cell_type": "code",
   "execution_count": 1,
   "metadata": {},
   "outputs": [],
   "source": [
    "# set random seed\n",
    "import random\n",
    "# random.seed(42)\n",
    "import numpy as np\n",
    "# np.random.seed(42)\n",
    "import torch\n",
    "# torch.manual_seed(42)\n",
    "# torch.cuda.manual_seed(42)"
   ]
  },
  {
   "cell_type": "markdown",
   "metadata": {},
   "source": [
    "# Parameters"
   ]
  },
  {
   "cell_type": "code",
   "execution_count": 2,
   "metadata": {},
   "outputs": [],
   "source": [
    "# import pyepo\n",
    "# generate data\n",
    "grid = (5,5) # grid size\n",
    "num_data = 100 # number of training data\n",
    "num_feat = 5 # size of feature\n",
    "num_test = 1000\n",
    "deg = 1.5 # polynomial degree\n",
    "e = 0.5 # noise width"
   ]
  },
  {
   "cell_type": "code",
   "execution_count": 6,
   "metadata": {},
   "outputs": [
    {
     "name": "stdout",
     "output_type": "stream",
     "text": [
      "*** seed =  1 : Run SPO ========\n",
      "Set parameter Username\n",
      "Academic license - for non-commercial use only - expires 2025-03-25\n",
      "Test\n",
      "Optimizing for optDataset...\n"
     ]
    },
    {
     "name": "stderr",
     "output_type": "stream",
     "text": [
      "100%|██████████| 100/100 [00:00<00:00, 1808.48it/s]\n"
     ]
    },
    {
     "name": "stdout",
     "output_type": "stream",
     "text": [
      "Test\n",
      "Optimizing for optDataset...\n"
     ]
    },
    {
     "name": "stderr",
     "output_type": "stream",
     "text": [
      "100%|██████████| 1000/1000 [00:00<00:00, 2084.34it/s]\n"
     ]
    },
    {
     "name": "stdout",
     "output_type": "stream",
     "text": [
      "Num of cores: 2\n",
      "*** seed =  1 : Run OLS ========\n",
      "*** seed =  1 : Run DDR ========\n",
      "*** seed =  2 : Run SPO ========\n",
      "Test\n",
      "Optimizing for optDataset...\n"
     ]
    },
    {
     "name": "stderr",
     "output_type": "stream",
     "text": [
      "100%|██████████| 100/100 [00:00<00:00, 1384.01it/s]\n"
     ]
    },
    {
     "name": "stdout",
     "output_type": "stream",
     "text": [
      "Test\n",
      "Optimizing for optDataset...\n"
     ]
    },
    {
     "name": "stderr",
     "output_type": "stream",
     "text": [
      "100%|██████████| 1000/1000 [00:00<00:00, 2083.78it/s]\n"
     ]
    },
    {
     "name": "stdout",
     "output_type": "stream",
     "text": [
      "Num of cores: 2\n",
      "*** seed =  2 : Run OLS ========\n",
      "*** seed =  2 : Run DDR ========\n"
     ]
    }
   ],
   "source": [
    "seed_all = np.arange(1,3)\n",
    "cost_Oracle_all = {}; cost_SPO_all = {}; cost_OLS_all = {}; cost_DDR_all = {}\n",
    "\n",
    "for seed in seed_all:\n",
    "    from Data import data_generation\n",
    "    data_gen = data_generation()\n",
    "\n",
    "    #  ****** Data generation *********\n",
    "    feats, costs = data_gen.generate_Shortest_Path_Data(num_data+num_test, num_feat, grid, deg, e, seed=seed)\n",
    "    # split train test data\n",
    "    from sklearn.model_selection import train_test_split\n",
    "    x_train, x_test, c_train, c_test = train_test_split(feats, costs, test_size=num_test, random_state=42)\n",
    "\n",
    "    #  ****** SPO *********\n",
    "    print(\"*** seed = \",seed,\": Run SPO ========\")\n",
    "    from SPO_Plus import run_SPO_Shortest_Path\n",
    "    SPO_runner = run_SPO_Shortest_Path()\n",
    "    batch_size = 20\n",
    "    num_epochs = 30\n",
    "    arcs,loader_train,loader_test,cost_Oracle_all[seed],cost_SPO_all[seed] = SPO_runner.run(x_train,c_train,x_test,c_test,batch_size,num_feat,grid,num_epochs,True)\n",
    "\n",
    "    #  ****** OLS *********\n",
    "    print(\"*** seed = \",seed,\": Run OLS ========\")\n",
    "    from OLS import run_OLS_Shortest_Path\n",
    "    OLS_runner = run_OLS_Shortest_Path()\n",
    "    cost_OLS_all[seed] = OLS_runner.run(arcs,x_train,c_train,grid,loader_test)\n",
    "    # print(\"Average OLS Cost = \",np.mean(cost_OLS))\n",
    "\n",
    "\n",
    "    #  ****** DDR *********\n",
    "    print(\"*** seed = \",seed,\": Run DDR ========\")\n",
    "    from DDR import run_DDR_Shortest_Path\n",
    "    DDR_runner = run_DDR_Shortest_Path()\n",
    "    mu_arr = np.arange(0.1,1,0.05)\n",
    "    lamb_arr = np.arange(0.1,1,0.05)\n",
    "    lamb_arr = [0.1]\n",
    "    minimum_value = 1000000000\n",
    "    for lamb in lamb_arr:\n",
    "        # print(\"======== lambda = \",lamb,\"============\")\n",
    "        for mu in mu_arr:\n",
    "            num_nodes = 25\n",
    "            # w0_ddr_val,W_ddr_val = solve_DDR(lamb,mu,num_nodes,x_train,c_train)\n",
    "            cost_DDR = DDR_runner.run(arcs,x_train, c_train, grid,loader_test,lamb,mu,num_nodes)\n",
    "            cost_DDR_all[seed,lamb,mu] = cost_DDR\n",
    "            # if np.mean(cost_DDR) < minimum_value:\n",
    "            #     minimum_value = np.mean(cost_DDR)\n",
    "            #     print(\"lambda = \",lamb, \", mu = \",mu, \", Lowest Average DDR Cost = \",minimum_value, \" Std = \",np.std(cost_DDR))\n",
    "            # print(\"lambda = \",lamb, \", mu = \",mu, \",Average DDR Cost = \",np.mean(cost_DDR), \" Std = \",np.std(cost_DDR))"
   ]
  },
  {
   "cell_type": "markdown",
   "metadata": {},
   "source": [
    "# Results"
   ]
  },
  {
   "cell_type": "code",
   "execution_count": 13,
   "metadata": {},
   "outputs": [
    {
     "name": "stdout",
     "output_type": "stream",
     "text": [
      "Seed =  2 , Average Oracle Cost =  6.0116 Std =  1.2782\n",
      "Seed =  2 , Average SPO Cost =  6.9605 Std =  1.582\n",
      "Seed =  2 , Average OLS Cost =  6.9325 Std =  1.595\n",
      "Seed =  2 , lamb =  0.1 ,mu =  0.1 , Average DRR Cost =  6.924 Std =  1.5888\n",
      "Seed =  2 , lamb =  0.1 ,mu =  0.15000000000000002 , Average DRR Cost =  6.9298 Std =  1.6025\n",
      "Seed =  2 , lamb =  0.1 ,mu =  0.20000000000000004 , Average DRR Cost =  6.9328 Std =  1.6049\n",
      "Seed =  2 , lamb =  0.1 ,mu =  0.25000000000000006 , Average DRR Cost =  6.929 Std =  1.597\n",
      "Seed =  2 , lamb =  0.1 ,mu =  0.30000000000000004 , Average DRR Cost =  6.9268 Std =  1.5945\n",
      "Seed =  2 , lamb =  0.1 ,mu =  0.3500000000000001 , Average DRR Cost =  6.933 Std =  1.6003\n",
      "Seed =  2 , lamb =  0.1 ,mu =  0.40000000000000013 , Average DRR Cost =  6.9348 Std =  1.6041\n",
      "Seed =  2 , lamb =  0.1 ,mu =  0.4500000000000001 , Average DRR Cost =  6.9332 Std =  1.6003\n",
      "Seed =  2 , lamb =  0.1 ,mu =  0.5000000000000001 , Average DRR Cost =  6.9392 Std =  1.6059\n",
      "Seed =  2 , lamb =  0.1 ,mu =  0.5500000000000002 , Average DRR Cost =  6.9345 Std =  1.6041\n",
      "Seed =  2 , lamb =  0.1 ,mu =  0.6000000000000002 , Average DRR Cost =  6.9381 Std =  1.6041\n",
      "Seed =  2 , lamb =  0.1 ,mu =  0.6500000000000001 , Average DRR Cost =  6.9373 Std =  1.6025\n",
      "Seed =  2 , lamb =  0.1 ,mu =  0.7000000000000002 , Average DRR Cost =  6.9377 Std =  1.603\n",
      "Seed =  2 , lamb =  0.1 ,mu =  0.7500000000000002 , Average DRR Cost =  6.9351 Std =  1.6004\n",
      "Seed =  2 , lamb =  0.1 ,mu =  0.8000000000000003 , Average DRR Cost =  6.9346 Std =  1.6006\n",
      "Seed =  2 , lamb =  0.1 ,mu =  0.8500000000000003 , Average DRR Cost =  6.9355 Std =  1.6009\n",
      "Seed =  2 , lamb =  0.1 ,mu =  0.9000000000000002 , Average DRR Cost =  6.9351 Std =  1.5985\n",
      "Seed =  2 , lamb =  0.1 ,mu =  0.9500000000000003 , Average DRR Cost =  6.9342 Std =  1.5977\n"
     ]
    }
   ],
   "source": [
    "seed = 2\n",
    "lamb = 0.1\n",
    "\n",
    "print(\"Seed = \",seed,\", Average Oracle Cost = \",np.round(np.mean(cost_Oracle_all[seed]),4),\"Std = \", np.round(np.std(cost_Oracle_all[seed]),4))\n",
    "print(\"Seed = \",seed,\", Average SPO Cost = \", np.round(np.mean(cost_SPO_all[seed]),4),\"Std = \", np.round(np.std(cost_SPO_all[seed]),4))\n",
    "print(\"Seed = \",seed,\", Average OLS Cost = \", np.round(np.mean(cost_OLS_all[seed]),4),\"Std = \", np.round(np.std(cost_OLS_all[seed]),4))\n",
    "for lamb in lamb_arr:\n",
    "    # print(\"======== lambda = \",lamb,\"============\")\n",
    "    for mu in mu_arr:\n",
    "        print(\"Seed = \",seed,\", lamb = \",lamb,\",mu = \",mu,\", Average DRR Cost = \", np.round(np.mean(cost_DDR_all[seed,lamb,mu]),4),\"Std = \", np.round(np.std(cost_DDR_all[seed,lamb,mu]),4))"
   ]
  }
 ],
 "metadata": {
  "kernelspec": {
   "display_name": ".venv",
   "language": "python",
   "name": "python3"
  },
  "language_info": {
   "codemirror_mode": {
    "name": "ipython",
    "version": 3
   },
   "file_extension": ".py",
   "mimetype": "text/x-python",
   "name": "python",
   "nbconvert_exporter": "python",
   "pygments_lexer": "ipython3",
   "version": "3.9.6"
  }
 },
 "nbformat": 4,
 "nbformat_minor": 2
}
