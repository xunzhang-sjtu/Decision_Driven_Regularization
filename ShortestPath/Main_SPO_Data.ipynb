{
 "cells": [
  {
   "cell_type": "code",
   "execution_count": 1,
   "metadata": {},
   "outputs": [],
   "source": [
    "import random\n",
    "import numpy as np\n",
    "import torch\n",
    "import os\n",
    "import pathlib\n",
    "import pickle"
   ]
  },
  {
   "cell_type": "code",
   "execution_count": 2,
   "metadata": {},
   "outputs": [],
   "source": [
    "# data_generation_process = \"SPO_Data_Generation\"\n",
    "data_generation_process = \"DDR_Generation\""
   ]
  },
  {
   "cell_type": "code",
   "execution_count": 3,
   "metadata": {},
   "outputs": [
    {
     "name": "stdout",
     "output_type": "stream",
     "text": [
      "grandparent_directory: /Users/zhangxun/Dropbox/Research/Decision_Driven_Regularization/Code_MacBook\n",
      "DataPath: /Users/zhangxun/Dropbox/Research/Decision_Driven_Regularization/Data/DDR_Generation/\n"
     ]
    }
   ],
   "source": [
    "current_directory = os.getcwd()\n",
    "parent_directory = os.path.dirname(current_directory)\n",
    "grandparent_directory = os.path.dirname(parent_directory)\n",
    "DataPath = os.path.dirname(grandparent_directory) + '/Data/' + data_generation_process + \"/\"\n",
    "pathlib.Path(DataPath).mkdir(parents=True, exist_ok=True)\n",
    "print(\"grandparent_directory:\", grandparent_directory)\n",
    "print(\"DataPath:\", DataPath)"
   ]
  },
  {
   "cell_type": "markdown",
   "metadata": {},
   "source": [
    "# Parameters"
   ]
  },
  {
   "cell_type": "code",
   "execution_count": 4,
   "metadata": {},
   "outputs": [],
   "source": [
    "# import pyepo\n",
    "# generate data\n",
    "grid = (5,5) # grid size\n",
    "num_data = 100 # number of training data\n",
    "num_feat = 5 # size of feature\n",
    "num_test = 1000\n",
    "deg = 1.0 # polynomial degree\n",
    "e = 1.0 # noise width"
   ]
  },
  {
   "cell_type": "code",
   "execution_count": 5,
   "metadata": {},
   "outputs": [],
   "source": [
    "DataPath = DataPath + \"data_size=\"+str(num_data)+\"_deg=\"+str(deg)+\"_e=\"+str(e)+\"/\"\n",
    "pathlib.Path(DataPath).mkdir(parents=True, exist_ok=True)"
   ]
  },
  {
   "cell_type": "code",
   "execution_count": 6,
   "metadata": {},
   "outputs": [],
   "source": [
    "def obtain_data(data_generation_process,num_data,num_test, num_feat, grid, deg, e, seed):\n",
    "    from Data import data_generation\n",
    "    data_gen = data_generation()\n",
    "    if data_generation_process == \"SPO_Data_Generation\":\n",
    "        feats, costs = data_gen.generate_Shortest_Path_Data(num_data+num_test, num_feat, grid, deg, e, seed=seed)\n",
    "        # split train test data\n",
    "        from sklearn.model_selection import train_test_split\n",
    "        x_train, x_test, c_train, c_test = train_test_split(feats, costs, test_size=num_test, random_state=42)\n",
    "\n",
    "    if data_generation_process == \"DDR_Generation\":\n",
    "        lower = 0\n",
    "        upper = 1\n",
    "        p = 5\n",
    "        d = 40\n",
    "        alpha = 1.0\n",
    "        mis = deg\n",
    "        n_epsilon = 1\n",
    "        W_star = data_gen.generate_truth(\"\",lower, upper, p, d, seed,version = 0) \n",
    "        # print(\"W_star = \",W_star[0,:])\n",
    "        x_test, z_test_ori, c_test, x_train, z_train_ori, c_train, W_star = data_gen.generate_samples(\"\",p, d, num_test, num_data, alpha, W_star, n_epsilon, mis, thres = 10, \n",
    "                                version = 1, x_dist = 'normal', e_dist = 'normal', x_low = 0, x_up = 2, x_mean = 2, x_var = 0.25, bump = 0) \n",
    "\n",
    "    return x_train, x_test, c_train, c_test"
   ]
  },
  {
   "cell_type": "code",
   "execution_count": 7,
   "metadata": {},
   "outputs": [
    {
     "name": "stdout",
     "output_type": "stream",
     "text": [
      "*** seed =  1 : Run SPO ========\n",
      "Set parameter Username\n",
      "\n",
      "--------------------------------------------\n",
      "Warning: your license will expire in 14 days\n",
      "--------------------------------------------\n",
      "\n",
      "Academic license - for non-commercial use only - expires 2025-03-25\n",
      "Test\n",
      "Optimizing for optDataset...\n"
     ]
    },
    {
     "name": "stderr",
     "output_type": "stream",
     "text": [
      "100%|██████████| 100/100 [00:00<00:00, 912.78it/s]\n"
     ]
    },
    {
     "name": "stdout",
     "output_type": "stream",
     "text": [
      "Test\n",
      "Optimizing for optDataset...\n"
     ]
    },
    {
     "name": "stderr",
     "output_type": "stream",
     "text": [
      "100%|██████████| 1000/1000 [00:00<00:00, 2112.45it/s]\n"
     ]
    },
    {
     "name": "stdout",
     "output_type": "stream",
     "text": [
      "Num of cores: 2\n",
      "Average Oracle Cost =  29.145387698173522\n",
      "Average SPO Cost =  30.582061832024717\n",
      "\n",
      "*** seed =  1 : Run OLS ========\n",
      "Average OLS Cost =  30.51923964820255\n",
      "\n",
      "*** seed =  1 : Run DDR ========\n",
      "lambda =  0.1 , mu =  -1.0 , Average DDR cost =  30.523408426612733\n",
      "\n",
      "lambda =  0.1 , mu =  -0.9 , Average DDR cost =  30.52216194412124\n",
      "\n",
      "lambda =  0.1 , mu =  -0.8 , Average DDR cost =  30.52036291763198\n",
      "\n",
      "lambda =  0.1 , mu =  -0.7000000000000001 , Average DDR cost =  30.52131504902255\n",
      "\n",
      "lambda =  0.1 , mu =  -0.6000000000000001 , Average DDR cost =  30.522275850027917\n",
      "\n",
      "lambda =  0.1 , mu =  -0.5000000000000001 , Average DDR cost =  30.520380322188256\n",
      "\n",
      "lambda =  0.1 , mu =  -0.40000000000000013 , Average DDR cost =  30.518313771933432\n",
      "\n",
      "lambda =  0.1 , mu =  -0.30000000000000016 , Average DDR cost =  30.516211866468307\n",
      "\n",
      "lambda =  0.1 , mu =  -0.20000000000000018 , Average DDR cost =  30.523287116676684\n",
      "\n",
      "lambda =  0.1 , mu =  -0.1000000000000002 , Average DDR cost =  30.529007207105053\n",
      "\n",
      "lambda =  0.1 , mu =  -2.220446049250313e-16 , Average DDR cost =  30.522503927895915\n",
      "\n",
      "lambda =  0.1 , mu =  0.09999999999999976 , Average DDR cost =  30.520407466778646\n",
      "\n",
      "lambda =  0.1 , mu =  0.19999999999999973 , Average DDR cost =  30.515181989500416\n",
      "\n",
      "lambda =  0.1 , mu =  0.2999999999999997 , Average DDR cost =  30.51991320080508\n",
      "\n",
      "lambda =  0.1 , mu =  0.3999999999999997 , Average DDR cost =  30.527974220881354\n",
      "\n",
      "lambda =  0.1 , mu =  0.49999999999999967 , Average DDR cost =  30.522073359498872\n",
      "\n",
      "lambda =  0.1 , mu =  0.5999999999999996 , Average DDR cost =  30.522073359498872\n",
      "\n",
      "lambda =  0.1 , mu =  0.6999999999999996 , Average DDR cost =  30.514345628509414\n",
      "\n",
      "lambda =  0.1 , mu =  0.7999999999999996 , Average DDR cost =  30.51600510264386\n",
      "\n",
      "lambda =  0.1 , mu =  0.8999999999999996 , Average DDR cost =  30.51923964820255\n",
      "\n",
      "lambda =  1.0 , mu =  -1.0 , Average DDR cost =  30.566747625278424\n",
      "\n",
      "lambda =  1.0 , mu =  -0.9 , Average DDR cost =  30.579583163427305\n",
      "\n",
      "lambda =  1.0 , mu =  -0.8 , Average DDR cost =  30.588437650220584\n",
      "\n",
      "lambda =  1.0 , mu =  -0.7000000000000001 , Average DDR cost =  30.59810381198686\n",
      "\n",
      "lambda =  1.0 , mu =  -0.6000000000000001 , Average DDR cost =  30.57627714473766\n",
      "\n",
      "lambda =  1.0 , mu =  -0.5000000000000001 , Average DDR cost =  30.560216029733535\n",
      "\n",
      "lambda =  1.0 , mu =  -0.40000000000000013 , Average DDR cost =  30.585829308301328\n",
      "\n",
      "lambda =  1.0 , mu =  -0.30000000000000016 , Average DDR cost =  30.582838136136647\n",
      "\n",
      "lambda =  1.0 , mu =  -0.20000000000000018 , Average DDR cost =  30.59572688500595\n",
      "\n",
      "lambda =  1.0 , mu =  -0.1000000000000002 , Average DDR cost =  30.580733928009984\n",
      "\n",
      "lambda =  1.0 , mu =  -2.220446049250313e-16 , Average DDR cost =  30.631956551060195\n",
      "\n",
      "lambda =  1.0 , mu =  0.09999999999999976 , Average DDR cost =  30.603405452460166\n",
      "\n",
      "lambda =  1.0 , mu =  0.19999999999999973 , Average DDR cost =  30.588678661137937\n",
      "\n",
      "lambda =  1.0 , mu =  0.2999999999999997 , Average DDR cost =  30.583808711260673\n",
      "\n",
      "lambda =  1.0 , mu =  0.3999999999999997 , Average DDR cost =  30.559415308922645\n",
      "\n",
      "lambda =  1.0 , mu =  0.49999999999999967 , Average DDR cost =  30.536151767194387\n",
      "\n",
      "lambda =  1.0 , mu =  0.5999999999999996 , Average DDR cost =  30.530300909817335\n",
      "\n",
      "lambda =  1.0 , mu =  0.6999999999999996 , Average DDR cost =  30.52510499733698\n",
      "\n",
      "lambda =  1.0 , mu =  0.7999999999999996 , Average DDR cost =  30.5179444755913\n",
      "\n",
      "lambda =  1.0 , mu =  0.8999999999999996 , Average DDR cost =  30.526452687988176\n",
      "\n",
      "lambda =  10 , mu =  -1.0 , Average DDR cost =  30.562914596902324\n",
      "\n",
      "lambda =  10 , mu =  -0.9 , Average DDR cost =  30.54369832314749\n",
      "\n",
      "lambda =  10 , mu =  -0.8 , Average DDR cost =  30.5405864985754\n",
      "\n",
      "lambda =  10 , mu =  -0.7000000000000001 , Average DDR cost =  30.563637860940887\n",
      "\n",
      "lambda =  10 , mu =  -0.6000000000000001 , Average DDR cost =  30.54187263682124\n",
      "\n",
      "lambda =  10 , mu =  -0.5000000000000001 , Average DDR cost =  30.557734753754108\n",
      "\n",
      "lambda =  10 , mu =  -0.40000000000000013 , Average DDR cost =  30.54374171909329\n",
      "\n",
      "lambda =  10 , mu =  -0.30000000000000016 , Average DDR cost =  30.584242913868394\n",
      "\n",
      "lambda =  10 , mu =  -0.20000000000000018 , Average DDR cost =  30.59331566962239\n",
      "\n",
      "lambda =  10 , mu =  -0.1000000000000002 , Average DDR cost =  30.621069683361917\n",
      "\n",
      "lambda =  10 , mu =  -2.220446049250313e-16 , Average DDR cost =  35.2608319206211\n",
      "\n",
      "lambda =  10 , mu =  0.09999999999999976 , Average DDR cost =  40.11644402947611\n",
      "\n",
      "lambda =  10 , mu =  0.19999999999999973 , Average DDR cost =  40.02267267430163\n",
      "\n",
      "lambda =  10 , mu =  0.2999999999999997 , Average DDR cost =  39.275873650330674\n",
      "\n",
      "lambda =  10 , mu =  0.3999999999999997 , Average DDR cost =  38.349515398926656\n",
      "\n",
      "lambda =  10 , mu =  0.49999999999999967 , Average DDR cost =  37.220130816138436\n",
      "\n",
      "lambda =  10 , mu =  0.5999999999999996 , Average DDR cost =  35.58457910615683\n",
      "\n",
      "lambda =  10 , mu =  0.6999999999999996 , Average DDR cost =  32.44880162187398\n",
      "\n",
      "lambda =  10 , mu =  0.7999999999999996 , Average DDR cost =  30.88782313479495\n",
      "\n",
      "lambda =  10 , mu =  0.8999999999999996 , Average DDR cost =  30.59952630436432\n",
      "\n",
      "\n"
     ]
    }
   ],
   "source": [
    "seed_all = np.arange(1,2)\n",
    "cost_Oracle_all = {}; cost_SPO_all = {}; cost_OLS_all = {}; cost_DDR_all = {}\n",
    "\n",
    "for seed in seed_all:\n",
    "    DataPath_seed = DataPath +\"Seed=\"+str(seed)+\"/\"\n",
    "    pathlib.Path(DataPath_seed).mkdir(parents=True, exist_ok=True)\n",
    "\n",
    "    # #  ****** Data generation *********\n",
    "    x_train, x_test, c_train, c_test = obtain_data(data_generation_process,num_data,num_test, num_feat, grid, deg, e, seed)\n",
    "\n",
    "    raw_data = {}\n",
    "    raw_data[\"x_train\"] = x_train; raw_data[\"x_test\"] = x_test; raw_data[\"c_train\"] = c_train; raw_data[\"c_test\"] = c_test\n",
    "    with open(DataPath_seed +'raw_data.pkl', \"wb\") as tf:\n",
    "        pickle.dump(raw_data,tf)\n",
    "\n",
    "    #  ****** SPO *********\n",
    "    print(\"*** seed = \",seed,\": Run SPO ========\")\n",
    "    from SPO_Plus import run_SPO_Shortest_Path\n",
    "    SPO_runner = run_SPO_Shortest_Path()\n",
    "    batch_size = 1\n",
    "    num_epochs = 1\n",
    "    arcs,loader_train,loader_test,cost_Oracle_all[seed],cost_SPO_all[seed] = SPO_runner.run(DataPath_seed,x_train,c_train,x_test,c_test,batch_size,num_feat,grid,num_epochs,True)\n",
    "    print(\"Average Oracle Cost = \",np.mean(cost_Oracle_all[seed]))\n",
    "    print(\"Average SPO Cost = \",np.mean(cost_SPO_all[seed]))\n",
    "    print()\n",
    "\n",
    "    #  ****** OLS *********\n",
    "    print(\"*** seed = \",seed,\": Run OLS ========\")\n",
    "    from OLS import run_OLS_Shortest_Path\n",
    "    OLS_runner = run_OLS_Shortest_Path()\n",
    "    cost_OLS_all[seed] = OLS_runner.run(DataPath_seed,arcs,x_train,c_train,grid,loader_test,loader_train)\n",
    "    print(\"Average OLS Cost = \",np.mean(cost_OLS_all[seed]))\n",
    "    print()\n",
    "\n",
    "    #  ****** DDR *********\n",
    "    print(\"*** seed = \",seed,\": Run DDR ========\")\n",
    "    from DDR import run_DDR_Shortest_Path\n",
    "    DDR_runner = run_DDR_Shortest_Path()\n",
    "    mu_arr = np.arange(-1.0,1.0,0.1)\n",
    "    lamb_arr = np.arange(-1,1,0.1)\n",
    "    # mu_arr = [0.5]\n",
    "    lamb_arr = [0.1,1.0,10]\n",
    "    minimum_value = 1000000000\n",
    "\n",
    "    cost_DDR_all[seed] = DDR_runner.run(DataPath_seed,lamb_arr,mu_arr,arcs,x_train, c_train, grid,loader_test,num_nodes=25)\n",
    "    print()"
   ]
  },
  {
   "cell_type": "markdown",
   "metadata": {},
   "source": [
    "# Results"
   ]
  },
  {
   "cell_type": "code",
   "execution_count": 8,
   "metadata": {},
   "outputs": [
    {
     "name": "stdout",
     "output_type": "stream",
     "text": [
      "Seed =  1 , Average Oracle Cost =  29.1454 Std =  4.42\n",
      "Seed =  1 , Average SPO Cost =  30.5821 Std =  4.6044\n",
      "Seed =  1 , Average OLS Cost =  30.5192 Std =  4.6149\n",
      "Seed =  1 , lamb_opt =  0.1 ,mu_opt =  0.6999999999999996 , Average DRR Cost =  30.5143\n",
      "Seed =  1 , opt ratio =  0.00016035850661909995\n",
      "\n"
     ]
    }
   ],
   "source": [
    "for seed in seed_all:\n",
    "    print(\"Seed = \",seed,\", Average Oracle Cost = \",np.round(np.mean(cost_Oracle_all[seed]),4),\"Std = \", np.round(np.std(cost_Oracle_all[seed]),4))\n",
    "    print(\"Seed = \",seed,\", Average SPO Cost = \", np.round(np.mean(cost_SPO_all[seed]),4),\"Std = \", np.round(np.std(cost_SPO_all[seed]),4))\n",
    "    print(\"Seed = \",seed,\", Average OLS Cost = \", np.round(np.mean(cost_OLS_all[seed]),4),\"Std = \", np.round(np.std(cost_OLS_all[seed]),4))\n",
    "    cost_ddr_lowest = 10000; lamb_opt = 0; mu_opt = 0\n",
    "    for lamb in lamb_arr:\n",
    "        # print(\"======== lambda = \",lamb,\"============\")\n",
    "        for mu in mu_arr:\n",
    "            # print(\"Seed = \",seed,\", lamb = \",lamb,\",mu = \",mu,\", Average DRR Cost = \", np.round(np.mean(cost_DDR_all[seed][lamb,mu][\"cost\"]),4),\"Std = \", np.round(np.std(cost_DDR_all[seed][lamb,mu][\"cost\"]),4))\n",
    "            if np.mean(cost_DDR_all[seed][lamb,mu][\"cost\"]) < cost_ddr_lowest:\n",
    "                cost_ddr_lowest = np.mean(cost_DDR_all[seed][lamb,mu][\"cost\"])\n",
    "                lamb_opt = lamb\n",
    "                mu_opt = mu\n",
    "    print(\"Seed = \",seed,\", lamb_opt = \",lamb_opt,\",mu_opt = \",mu_opt,\", Average DRR Cost = \", np.round(cost_ddr_lowest,4))\n",
    "    print(\"Seed = \",seed,\", opt ratio = \",(np.mean(cost_OLS_all[seed]) - cost_ddr_lowest)/np.mean(cost_OLS_all[seed]))\n",
    "    print()"
   ]
  }
 ],
 "metadata": {
  "kernelspec": {
   "display_name": ".venv",
   "language": "python",
   "name": "python3"
  },
  "language_info": {
   "codemirror_mode": {
    "name": "ipython",
    "version": 3
   },
   "file_extension": ".py",
   "mimetype": "text/x-python",
   "name": "python",
   "nbconvert_exporter": "python",
   "pygments_lexer": "ipython3",
   "version": "3.9.6"
  }
 },
 "nbformat": 4,
 "nbformat_minor": 2
}
