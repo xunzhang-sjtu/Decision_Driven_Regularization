{
 "cells": [
  {
   "cell_type": "code",
   "execution_count": 1,
   "metadata": {},
   "outputs": [],
   "source": [
    "import random\n",
    "import numpy as np\n",
    "import torch\n",
    "import os\n",
    "import pathlib\n",
    "import pickle"
   ]
  },
  {
   "cell_type": "code",
   "execution_count": 2,
   "metadata": {},
   "outputs": [],
   "source": [
    "data_generation_process = \"SPO_Data_Generation\"\n",
    "# data_generation_process = \"DDR_Data_Generation\""
   ]
  },
  {
   "cell_type": "code",
   "execution_count": 3,
   "metadata": {},
   "outputs": [
    {
     "name": "stdout",
     "output_type": "stream",
     "text": [
      "grandparent_directory: /Users/zhangxun/Dropbox/Research/Decision_Driven_Regularization/Code_MacBook\n",
      "DataPath: /Users/zhangxun/Dropbox/Research/Decision_Driven_Regularization/Data/MacBook_SPO_Data_Generation/\n"
     ]
    }
   ],
   "source": [
    "current_directory = os.getcwd()\n",
    "parent_directory = os.path.dirname(current_directory)\n",
    "grandparent_directory = os.path.dirname(parent_directory)\n",
    "DataPath = os.path.dirname(grandparent_directory) + '/Data/MacBook_' + data_generation_process + \"/\"\n",
    "pathlib.Path(DataPath).mkdir(parents=True, exist_ok=True)\n",
    "print(\"grandparent_directory:\", grandparent_directory)\n",
    "print(\"DataPath:\", DataPath)"
   ]
  },
  {
   "cell_type": "markdown",
   "metadata": {},
   "source": [
    "# Parameters"
   ]
  },
  {
   "cell_type": "code",
   "execution_count": 4,
   "metadata": {},
   "outputs": [],
   "source": [
    "# import pyepo\n",
    "# generate data\n",
    "grid = (5,5) # grid size\n",
    "num_train = 50 # number of training data\n",
    "num_feat = 5 # size of feature\n",
    "num_test = 1000\n",
    "deg = 1.0 # polynomial degree\n",
    "e = 1.0 # noise width\n",
    "\n",
    "lower = 0 # coef lower bound\n",
    "upper = 1 # coef upper bound\n",
    "p = 5 # num of features\n",
    "d = 40 # num of arcs\n",
    "alpha = 1.0 # scale of normal std or the range of uniform. For the error term\n",
    "mis = deg # model misspecification\n"
   ]
  },
  {
   "cell_type": "code",
   "execution_count": 5,
   "metadata": {},
   "outputs": [],
   "source": [
    "DataPath = DataPath + \"data_size=\"+str(num_train)+\"_deg=\"+str(deg)+\"_e=\"+str(e)+\"/\"\n",
    "pathlib.Path(DataPath).mkdir(parents=True, exist_ok=True)"
   ]
  },
  {
   "cell_type": "code",
   "execution_count": 7,
   "metadata": {},
   "outputs": [],
   "source": [
    "def Prepare_Data(DataPath,lower, upper, p, d, coef_seed,seed_all,num_test, num_train, alpha,mis,data_generation_process):\n",
    "# #  ****** Coef generation *********\n",
    "    from Data import data_generation\n",
    "    data_gen = data_generation()\n",
    "    # print(\"W_star = \",W_star[0,:])\n",
    "    W_star = data_gen.generate_truth(\"\",lower, upper, p, d, coef_seed,version = 0) \n",
    "\n",
    "    for seed in seed_all:\n",
    "        DataPath_seed = DataPath +\"Seed=\"+str(seed)+\"/\"\n",
    "        pathlib.Path(DataPath_seed).mkdir(parents=True, exist_ok=True)\n",
    "        # #  ****** Data generation *********\n",
    "        x_test, c_test, x_train, c_train, W_star = data_gen.generate_samples(seed,DataPath_seed,p, d, num_test, num_train, alpha, W_star, mis, thres = 10, \n",
    "                                version = data_generation_process, x_dist = 'normal', e_dist = 'normal', x_low = 0, x_up = 2, x_mean = 2, x_var = 0.25, bump = 0) \n",
    "        print()"
   ]
  },
  {
   "cell_type": "code",
   "execution_count": null,
   "metadata": {},
   "outputs": [
    {
     "name": "stdout",
     "output_type": "stream",
     "text": [
      "\n",
      "\n"
     ]
    }
   ],
   "source": [
    "coef_seed = 2\n",
    "seed_all = np.arange(1,3)\n",
    "Prepare_Data(DataPath,lower, upper, p, d, coef_seed,seed_all,num_test, num_train, alpha,mis,data_generation_process)"
   ]
  },
  {
   "cell_type": "code",
   "execution_count": 9,
   "metadata": {},
   "outputs": [
    {
     "name": "stdout",
     "output_type": "stream",
     "text": [
      "Set parameter Username\n",
      "\n",
      "--------------------------------------------\n",
      "Warning: your license will expire in 12 days\n",
      "--------------------------------------------\n",
      "\n",
      "Academic license - for non-commercial use only - expires 2025-03-25\n"
     ]
    }
   ],
   "source": [
    "from SPO_Plus import shortestPathModel\n",
    "SPM = shortestPathModel()\n",
    "arcs = SPM._getArcs()"
   ]
  },
  {
   "cell_type": "markdown",
   "metadata": {},
   "source": [
    "# Oracle"
   ]
  },
  {
   "cell_type": "code",
   "execution_count": 10,
   "metadata": {},
   "outputs": [],
   "source": [
    "def Implement_Oracle(DataPath,seed_all):\n",
    "    cost_Oracle_all = {}\n",
    "    for seed in seed_all:\n",
    "        DataPath_seed = DataPath +\"Seed=\"+str(seed)+\"/\"\n",
    "        pathlib.Path(DataPath_seed).mkdir(parents=True, exist_ok=True)\n",
    "        with open(DataPath_seed+'Data.pkl', \"rb\") as tf:\n",
    "            Data = pickle.load(tf)\n",
    "        c_test = Data[\"c_test\"]\n",
    "        from Peformance import performance_evaluation\n",
    "        perfs = performance_evaluation()\n",
    "        cost_Oracle_all[seed] = perfs.compute_Oracel_Cost(arcs, grid,c_test)\n",
    "        print(\"*** seed = \",seed,\" Average Oracle Cost = \",np.mean(cost_Oracle_all[seed]))\n",
    "        with open(DataPath_seed +'rst_Oracle.pkl', \"wb\") as tf:\n",
    "            pickle.dump(cost_Oracle_all[seed],tf)\n",
    "    return cost_Oracle_all"
   ]
  },
  {
   "cell_type": "code",
   "execution_count": 11,
   "metadata": {},
   "outputs": [
    {
     "name": "stdout",
     "output_type": "stream",
     "text": [
      "*** seed =  1  Average Oracle Cost =  5.789756910705729\n",
      "*** seed =  2  Average Oracle Cost =  5.706931208938956\n"
     ]
    }
   ],
   "source": [
    "cost_Oracle_all = Implement_Oracle(DataPath,seed_all)"
   ]
  },
  {
   "cell_type": "markdown",
   "metadata": {},
   "source": [
    "# EPO approaches, including SPO+,PG,LTR and ..."
   ]
  },
  {
   "cell_type": "code",
   "execution_count": 12,
   "metadata": {},
   "outputs": [],
   "source": [
    "def Implement_EPO(DataPath,seed_all,batch_size,num_epochs,method_names):\n",
    "    cost_EPO = {}\n",
    "    from PYEPO import PyEPO_Method\n",
    "    epo_runner = PyEPO_Method()\n",
    "    # batch_size = 20\n",
    "    # num_epochs = 30\n",
    "    for seed in seed_all:\n",
    "        DataPath_seed = DataPath +\"Seed=\"+str(seed)+\"/\"\n",
    "        pathlib.Path(DataPath_seed).mkdir(parents=True, exist_ok=True)\n",
    "        cost_EPO[seed] = epo_runner.run(method_names,DataPath_seed,batch_size,num_feat,grid,num_epochs)\n",
    "    return cost_EPO"
   ]
  },
  {
   "cell_type": "code",
   "execution_count": 13,
   "metadata": {},
   "outputs": [
    {
     "name": "stdout",
     "output_type": "stream",
     "text": [
      "Optimizing for optDataset...\n"
     ]
    },
    {
     "name": "stderr",
     "output_type": "stream",
     "text": [
      "100%|██████████| 50/50 [00:00<00:00, 1460.91it/s]\n"
     ]
    },
    {
     "name": "stdout",
     "output_type": "stream",
     "text": [
      "Optimizing for optDataset...\n"
     ]
    },
    {
     "name": "stderr",
     "output_type": "stream",
     "text": [
      "100%|██████████| 1000/1000 [00:00<00:00, 2102.05it/s]"
     ]
    },
    {
     "name": "stdout",
     "output_type": "stream",
     "text": [
      "=========== Run SPO =============\n"
     ]
    },
    {
     "name": "stderr",
     "output_type": "stream",
     "text": [
      "\n"
     ]
    },
    {
     "name": "stdout",
     "output_type": "stream",
     "text": [
      "Num of cores: 2\n",
      "epoch =  0 cost =  9.149511917524643\n",
      "epoch =  1 cost =  9.161244721566\n",
      "epoch =  2 cost =  9.16586338334591\n",
      "epoch =  3 cost =  9.169867951542743\n",
      "epoch =  4 cost =  9.162056982070462\n",
      "epoch =  5 cost =  9.162313940164422\n",
      "epoch =  6 cost =  9.161331838917707\n",
      "epoch =  7 cost =  9.134464706266089\n",
      "epoch =  8 cost =  9.133659865232906\n",
      "epoch =  9 cost =  9.151298950592311\n",
      "epoch =  10 cost =  9.153513150176288\n",
      "epoch =  11 cost =  9.163790211023668\n",
      "epoch =  12 cost =  9.158283574180583\n",
      "epoch =  13 cost =  9.158502439203577\n",
      "epoch =  14 cost =  9.148300616344342\n",
      "epoch =  15 cost =  9.162024084704369\n",
      "epoch =  16 cost =  9.158978995972102\n",
      "epoch =  17 cost =  9.164355500359342\n",
      "epoch =  18 cost =  9.178696322975934\n",
      "epoch =  19 cost =  9.176400024215015\n",
      "epoch =  20 cost =  9.180442560407588\n",
      "epoch =  21 cost =  9.18897064382421\n",
      "epoch =  22 cost =  9.205422790155524\n",
      "epoch =  23 cost =  9.204088761859351\n",
      "epoch =  24 cost =  9.212279345258848\n",
      "epoch =  25 cost =  9.226902754141728\n",
      "epoch =  26 cost =  9.230213512978528\n",
      "epoch =  27 cost =  9.219477382662717\n",
      "epoch =  28 cost =  9.20612566673179\n",
      "epoch =  29 cost =  9.21051736641704\n",
      "=========== Run PG =============\n",
      "Num of cores: 2\n",
      "epoch =  0 cost =  9.243507215545687\n",
      "epoch =  1 cost =  9.231624033668252\n",
      "epoch =  2 cost =  9.229704347643244\n",
      "epoch =  3 cost =  9.230776189258963\n",
      "epoch =  4 cost =  9.228494564088702\n",
      "epoch =  5 cost =  9.229362364954955\n",
      "epoch =  6 cost =  9.233291696803354\n",
      "epoch =  7 cost =  9.225674174965999\n",
      "epoch =  8 cost =  9.220230127657008\n",
      "epoch =  9 cost =  9.220418108722836\n",
      "epoch =  10 cost =  9.224579705915122\n",
      "epoch =  11 cost =  9.225269576302438\n",
      "epoch =  12 cost =  9.226054143030371\n",
      "epoch =  13 cost =  9.229385383755144\n",
      "epoch =  14 cost =  9.22551808097976\n",
      "epoch =  15 cost =  9.221812182478782\n",
      "epoch =  16 cost =  9.214541620798583\n",
      "epoch =  17 cost =  9.220797832897107\n",
      "epoch =  18 cost =  9.216954494673933\n",
      "epoch =  19 cost =  9.208469054603192\n",
      "epoch =  20 cost =  9.196943168782804\n",
      "epoch =  21 cost =  9.196812540691054\n",
      "epoch =  22 cost =  9.200647347085175\n",
      "epoch =  23 cost =  9.206032865965735\n",
      "epoch =  24 cost =  9.203636171041053\n",
      "epoch =  25 cost =  9.207451093593608\n",
      "epoch =  26 cost =  9.210303151113909\n",
      "epoch =  27 cost =  9.216615215346213\n",
      "epoch =  28 cost =  9.214336090907452\n",
      "epoch =  29 cost =  9.21644668289646\n",
      "=========== Run LTR =============\n",
      "Num of cores: 2\n",
      "epoch =  0 cost =  9.300923104852016\n",
      "epoch =  1 cost =  9.300169946461494\n",
      "epoch =  2 cost =  9.300732162624175\n",
      "epoch =  3 cost =  9.298680109044115\n",
      "epoch =  4 cost =  9.298680109044115\n",
      "epoch =  5 cost =  9.300291256000797\n",
      "epoch =  6 cost =  9.299994688966821\n",
      "epoch =  7 cost =  9.299321634614419\n",
      "epoch =  8 cost =  9.295490931467663\n",
      "epoch =  9 cost =  9.29544459168757\n",
      "epoch =  10 cost =  9.298258881898175\n",
      "epoch =  11 cost =  9.294855503426442\n",
      "epoch =  12 cost =  9.287334674164232\n",
      "epoch =  13 cost =  9.287309234333733\n",
      "epoch =  14 cost =  9.285877250956881\n",
      "epoch =  15 cost =  9.285388565214861\n",
      "epoch =  16 cost =  9.292356143771249\n",
      "epoch =  17 cost =  9.295866199095311\n",
      "epoch =  18 cost =  9.290808813401076\n",
      "epoch =  19 cost =  9.292316965615885\n",
      "epoch =  20 cost =  9.287517223639924\n",
      "epoch =  21 cost =  9.28224811005457\n",
      "epoch =  22 cost =  9.28224811005457\n",
      "epoch =  23 cost =  9.274997604797171\n",
      "epoch =  24 cost =  9.271925951479512\n",
      "epoch =  25 cost =  9.271594724147159\n",
      "epoch =  26 cost =  9.275132912574845\n",
      "epoch =  27 cost =  9.284290144658225\n",
      "epoch =  28 cost =  9.278465038756417\n",
      "epoch =  29 cost =  9.277862355681645\n",
      "Optimizing for optDataset...\n"
     ]
    },
    {
     "name": "stderr",
     "output_type": "stream",
     "text": [
      "100%|██████████| 50/50 [00:00<00:00, 1233.23it/s]\n"
     ]
    },
    {
     "name": "stdout",
     "output_type": "stream",
     "text": [
      "Optimizing for optDataset...\n"
     ]
    },
    {
     "name": "stderr",
     "output_type": "stream",
     "text": [
      "100%|██████████| 1000/1000 [00:00<00:00, 2084.96it/s]\n"
     ]
    },
    {
     "name": "stdout",
     "output_type": "stream",
     "text": [
      "=========== Run SPO =============\n",
      "Num of cores: 2\n",
      "epoch =  0 cost =  9.208047387127758\n",
      "epoch =  1 cost =  9.202598213449637\n",
      "epoch =  2 cost =  9.200908734627586\n",
      "epoch =  3 cost =  9.191680312257311\n",
      "epoch =  4 cost =  9.193731542103043\n",
      "epoch =  5 cost =  9.19287271687766\n",
      "epoch =  6 cost =  9.19673548633983\n",
      "epoch =  7 cost =  9.201149321353114\n",
      "epoch =  8 cost =  9.184112293943814\n",
      "epoch =  9 cost =  9.192958452747254\n",
      "epoch =  10 cost =  9.180769495997628\n",
      "epoch =  11 cost =  9.175072191816806\n",
      "epoch =  12 cost =  9.16560106291534\n",
      "epoch =  13 cost =  9.166406677586078\n",
      "epoch =  14 cost =  9.162844290173663\n",
      "epoch =  15 cost =  9.15312373217247\n",
      "epoch =  16 cost =  9.147287232112657\n",
      "epoch =  17 cost =  9.149300884282733\n",
      "epoch =  18 cost =  9.152722188933337\n",
      "epoch =  19 cost =  9.136098418580884\n",
      "epoch =  20 cost =  9.12856156757898\n",
      "epoch =  21 cost =  9.135790056494582\n",
      "epoch =  22 cost =  9.143199456104478\n",
      "epoch =  23 cost =  9.14488748836278\n",
      "epoch =  24 cost =  9.134878845808496\n",
      "epoch =  25 cost =  9.132968587829433\n",
      "epoch =  26 cost =  9.123783550789748\n",
      "epoch =  27 cost =  9.113143950845283\n",
      "epoch =  28 cost =  9.114057354492303\n",
      "epoch =  29 cost =  9.115752571475161\n",
      "=========== Run PG =============\n",
      "Num of cores: 2\n",
      "epoch =  0 cost =  9.080406439417596\n",
      "epoch =  1 cost =  9.07554390234375\n",
      "epoch =  2 cost =  9.070199560963228\n",
      "epoch =  3 cost =  9.067845225377619\n",
      "epoch =  4 cost =  9.07722145790761\n",
      "epoch =  5 cost =  9.075873421640747\n",
      "epoch =  6 cost =  9.073030301680468\n",
      "epoch =  7 cost =  9.067482232434354\n",
      "epoch =  8 cost =  9.075203714444914\n",
      "epoch =  9 cost =  9.074126126714603\n",
      "epoch =  10 cost =  9.066424249068456\n",
      "epoch =  11 cost =  9.062563354867132\n",
      "epoch =  12 cost =  9.059570425092796\n",
      "epoch =  13 cost =  9.054058352965484\n",
      "epoch =  14 cost =  9.055385977029422\n",
      "epoch =  15 cost =  9.04368163083456\n",
      "epoch =  16 cost =  9.037420904014871\n",
      "epoch =  17 cost =  9.02763397051455\n",
      "epoch =  18 cost =  9.024849208698289\n",
      "epoch =  19 cost =  9.03005018825704\n",
      "epoch =  20 cost =  9.039355554830895\n",
      "epoch =  21 cost =  9.038199783368647\n",
      "epoch =  22 cost =  9.032830021529138\n",
      "epoch =  23 cost =  9.032681445470692\n",
      "epoch =  24 cost =  9.028237442354351\n",
      "epoch =  25 cost =  9.021535006337478\n",
      "epoch =  26 cost =  9.01498422940509\n",
      "epoch =  27 cost =  9.015203276511892\n",
      "epoch =  28 cost =  9.021862580422923\n",
      "epoch =  29 cost =  9.016929217968748\n",
      "=========== Run LTR =============\n",
      "Num of cores: 2\n",
      "epoch =  0 cost =  9.163587057389282\n",
      "epoch =  1 cost =  9.162501124836469\n",
      "epoch =  2 cost =  9.155699867367709\n",
      "epoch =  3 cost =  9.151494378596508\n",
      "epoch =  4 cost =  9.14876891909536\n",
      "epoch =  5 cost =  9.142890822326729\n",
      "epoch =  6 cost =  9.144607228523084\n",
      "epoch =  7 cost =  9.146222300559247\n",
      "epoch =  8 cost =  9.146222300559247\n",
      "epoch =  9 cost =  9.14938369038325\n",
      "epoch =  10 cost =  9.152906232763046\n",
      "epoch =  11 cost =  9.151102189931983\n",
      "epoch =  12 cost =  9.148290192884124\n",
      "epoch =  13 cost =  9.149632379027747\n",
      "epoch =  14 cost =  9.149632379027747\n",
      "epoch =  15 cost =  9.15559791451945\n",
      "epoch =  16 cost =  9.15788601072385\n",
      "epoch =  17 cost =  9.157298019478759\n",
      "epoch =  18 cost =  9.15771826496414\n",
      "epoch =  19 cost =  9.15243493319113\n",
      "epoch =  20 cost =  9.15243493319113\n",
      "epoch =  21 cost =  9.150254807245881\n",
      "epoch =  22 cost =  9.152365295347721\n",
      "epoch =  23 cost =  9.150349416349979\n",
      "epoch =  24 cost =  9.144519504130782\n",
      "epoch =  25 cost =  9.139531242114455\n",
      "epoch =  26 cost =  9.14086054708153\n",
      "epoch =  27 cost =  9.139548625969292\n",
      "epoch =  28 cost =  9.13974449616015\n",
      "epoch =  29 cost =  9.144327784948945\n"
     ]
    }
   ],
   "source": [
    "batch_size = 20\n",
    "num_epochs = 30\n",
    "method_names = [\"spo+\",\"pg\",\"ltr\"]\n",
    "cost_EPO_all = Implement_EPO(DataPath,seed_all,batch_size,num_epochs,method_names)"
   ]
  },
  {
   "cell_type": "code",
   "execution_count": null,
   "metadata": {},
   "outputs": [
    {
     "name": "stdout",
     "output_type": "stream",
     "text": [
      "SPO =  9.115752571475161 , PG =  9.016929217968748 , LTR =  9.144327784948945\n"
     ]
    }
   ],
   "source": [
    "seed = 2\n",
    "print(\"SPO = \",np.mean(cost_EPO_all[seed][\"SPO\"]),\", PG = \",np.mean(cost_EPO_all[seed][\"PG\"]), \", LTR = \",np.mean(cost_EPO_all[seed][\"LTR\"]))"
   ]
  },
  {
   "cell_type": "markdown",
   "metadata": {},
   "source": [
    "# OLS "
   ]
  },
  {
   "cell_type": "code",
   "execution_count": 21,
   "metadata": {},
   "outputs": [],
   "source": [
    "def Implement_OLS(DataPath,seed_all,arcs,grid):\n",
    "    cost_OLS_all = {}\n",
    "    for seed in seed_all:\n",
    "        DataPath_seed = DataPath +\"Seed=\"+str(seed)+\"/\"\n",
    "        pathlib.Path(DataPath_seed).mkdir(parents=True, exist_ok=True)\n",
    "\n",
    "        from OLS import run_OLS_Shortest_Path\n",
    "        OLS_runner = run_OLS_Shortest_Path()\n",
    "        cost_OLS_all[seed] = OLS_runner.run(DataPath_seed,arcs,grid)\n",
    "        print(\"*** seed = \",seed,\" Average OLS Cost = \",np.mean(cost_OLS_all[seed]))\n",
    "    return cost_OLS_all"
   ]
  },
  {
   "cell_type": "code",
   "execution_count": 22,
   "metadata": {},
   "outputs": [
    {
     "name": "stdout",
     "output_type": "stream",
     "text": [
      "*** seed =  1  Average OLS Cost =  9.258242699766951\n",
      "*** seed =  2  Average OLS Cost =  8.862625838915589\n"
     ]
    }
   ],
   "source": [
    "cost_OLS_all = Implement_OLS(DataPath,seed_all,arcs,grid)"
   ]
  },
  {
   "cell_type": "markdown",
   "metadata": {},
   "source": [
    "# DDR "
   ]
  },
  {
   "cell_type": "code",
   "execution_count": 25,
   "metadata": {},
   "outputs": [
    {
     "name": "stdout",
     "output_type": "stream",
     "text": [
      "*** seed =  1 : Run DDR ========\n",
      "lambda =  0.75 , mu =  0.025 , Average DDR cost =  9.072871957195154\n",
      "lambda =  0.75 , mu =  0.07500000000000001 , Average DDR cost =  9.12549936353363\n",
      "lambda =  0.75 , mu =  0.12500000000000003 , Average DDR cost =  9.106086396278803\n",
      "lambda =  0.75 , mu =  0.17500000000000004 , Average DDR cost =  9.124458173906639\n",
      "lambda =  0.75 , mu =  0.22500000000000003 , Average DDR cost =  9.132592592397563\n",
      "lambda =  0.75 , mu =  0.275 , Average DDR cost =  9.173426808335302\n",
      "lambda =  0.75 , mu =  0.32500000000000007 , Average DDR cost =  9.157483570664889\n",
      "lambda =  0.75 , mu =  0.37500000000000006 , Average DDR cost =  9.180256110416206\n",
      "lambda =  0.75 , mu =  0.4250000000000001 , Average DDR cost =  9.192710079602636\n",
      "lambda =  0.75 , mu =  0.4750000000000001 , Average DDR cost =  9.221926819719767\n",
      "lambda =  0.75 , mu =  0.5250000000000001 , Average DDR cost =  9.23972142153398\n",
      "lambda =  0.75 , mu =  0.5750000000000001 , Average DDR cost =  9.263256355240959\n",
      "lambda =  0.75 , mu =  0.6250000000000001 , Average DDR cost =  9.241855071536683\n",
      "lambda =  0.75 , mu =  0.6750000000000002 , Average DDR cost =  9.242248787627638\n",
      "lambda =  0.75 , mu =  0.7250000000000001 , Average DDR cost =  9.25613203566034\n",
      "lambda =  0.75 , mu =  0.7750000000000001 , Average DDR cost =  9.25660321330471\n",
      "lambda =  0.75 , mu =  0.8250000000000002 , Average DDR cost =  9.236962181948387\n",
      "lambda =  0.75 , mu =  0.8750000000000002 , Average DDR cost =  9.257369212108475\n",
      "lambda =  0.75 , mu =  0.9250000000000002 , Average DDR cost =  9.25601189458029\n",
      "lambda =  0.75 , mu =  0.9750000000000002 , Average DDR cost =  9.244803699179219\n",
      "lambda =  0.875 , mu =  0.025 , Average DDR cost =  9.135586848487938\n",
      "lambda =  0.875 , mu =  0.07500000000000001 , Average DDR cost =  9.051884467233384\n",
      "lambda =  0.875 , mu =  0.12500000000000003 , Average DDR cost =  9.08129435584967\n",
      "lambda =  0.875 , mu =  0.17500000000000004 , Average DDR cost =  9.106912022635536\n",
      "lambda =  0.875 , mu =  0.22500000000000003 , Average DDR cost =  9.159861437683096\n",
      "lambda =  0.875 , mu =  0.275 , Average DDR cost =  9.156270155993814\n",
      "lambda =  0.875 , mu =  0.32500000000000007 , Average DDR cost =  9.155533039477378\n",
      "lambda =  0.875 , mu =  0.37500000000000006 , Average DDR cost =  9.179585606480698\n",
      "lambda =  0.875 , mu =  0.4250000000000001 , Average DDR cost =  9.192238657994455\n",
      "lambda =  0.875 , mu =  0.4750000000000001 , Average DDR cost =  9.229094642553886\n",
      "lambda =  0.875 , mu =  0.5250000000000001 , Average DDR cost =  9.239712552696481\n",
      "lambda =  0.875 , mu =  0.5750000000000001 , Average DDR cost =  9.273347191284628\n",
      "lambda =  0.875 , mu =  0.6250000000000001 , Average DDR cost =  9.266890830829416\n",
      "lambda =  0.875 , mu =  0.6750000000000002 , Average DDR cost =  9.2433049407591\n",
      "lambda =  0.875 , mu =  0.7250000000000001 , Average DDR cost =  9.259782310545823\n",
      "lambda =  0.875 , mu =  0.7750000000000001 , Average DDR cost =  9.257306988279947\n",
      "lambda =  0.875 , mu =  0.8250000000000002 , Average DDR cost =  9.232211741420238\n",
      "lambda =  0.875 , mu =  0.8750000000000002 , Average DDR cost =  9.260316980136729\n",
      "lambda =  0.875 , mu =  0.9250000000000002 , Average DDR cost =  9.261840802120409\n",
      "lambda =  0.875 , mu =  0.9750000000000002 , Average DDR cost =  9.245799474746656\n",
      "lambda =  1.0 , mu =  0.025 , Average DDR cost =  9.12049696850606\n",
      "lambda =  1.0 , mu =  0.07500000000000001 , Average DDR cost =  9.053145249342156\n",
      "lambda =  1.0 , mu =  0.12500000000000003 , Average DDR cost =  9.109654364354185\n",
      "lambda =  1.0 , mu =  0.17500000000000004 , Average DDR cost =  9.116652199037668\n",
      "lambda =  1.0 , mu =  0.22500000000000003 , Average DDR cost =  9.186127193845273\n",
      "lambda =  1.0 , mu =  0.275 , Average DDR cost =  9.134076784743296\n",
      "lambda =  1.0 , mu =  0.32500000000000007 , Average DDR cost =  9.138959951294224\n",
      "lambda =  1.0 , mu =  0.37500000000000006 , Average DDR cost =  9.176832871575545\n",
      "lambda =  1.0 , mu =  0.4250000000000001 , Average DDR cost =  9.208185627382267\n",
      "lambda =  1.0 , mu =  0.4750000000000001 , Average DDR cost =  9.205193868825278\n",
      "lambda =  1.0 , mu =  0.5250000000000001 , Average DDR cost =  9.189209452041956\n",
      "lambda =  1.0 , mu =  0.5750000000000001 , Average DDR cost =  9.256200866522319\n",
      "lambda =  1.0 , mu =  0.6250000000000001 , Average DDR cost =  9.268588488709197\n",
      "lambda =  1.0 , mu =  0.6750000000000002 , Average DDR cost =  9.260602917567336\n",
      "lambda =  1.0 , mu =  0.7250000000000001 , Average DDR cost =  9.261500579154617\n",
      "lambda =  1.0 , mu =  0.7750000000000001 , Average DDR cost =  9.266351770930013\n",
      "lambda =  1.0 , mu =  0.8250000000000002 , Average DDR cost =  9.243479449351062\n",
      "lambda =  1.0 , mu =  0.8750000000000002 , Average DDR cost =  9.251288219618083\n",
      "lambda =  1.0 , mu =  0.9250000000000002 , Average DDR cost =  9.263000155150348\n",
      "lambda =  1.0 , mu =  0.9750000000000002 , Average DDR cost =  9.24560661449031\n",
      "lambda =  1.125 , mu =  0.025 , Average DDR cost =  9.120388837459222\n",
      "lambda =  1.125 , mu =  0.07500000000000001 , Average DDR cost =  9.05367130582865\n",
      "lambda =  1.125 , mu =  0.12500000000000003 , Average DDR cost =  9.155358189501785\n",
      "lambda =  1.125 , mu =  0.17500000000000004 , Average DDR cost =  9.125492868303764\n",
      "lambda =  1.125 , mu =  0.22500000000000003 , Average DDR cost =  9.153849974714335\n",
      "lambda =  1.125 , mu =  0.275 , Average DDR cost =  9.130766190398678\n",
      "lambda =  1.125 , mu =  0.32500000000000007 , Average DDR cost =  9.11694184278666\n",
      "lambda =  1.125 , mu =  0.37500000000000006 , Average DDR cost =  9.18081597858017\n",
      "lambda =  1.125 , mu =  0.4250000000000001 , Average DDR cost =  9.179364938171119\n",
      "lambda =  1.125 , mu =  0.4750000000000001 , Average DDR cost =  9.21353410124738\n",
      "lambda =  1.125 , mu =  0.5250000000000001 , Average DDR cost =  9.18746475545695\n",
      "lambda =  1.125 , mu =  0.5750000000000001 , Average DDR cost =  9.26461913343089\n",
      "lambda =  1.125 , mu =  0.6250000000000001 , Average DDR cost =  9.256423072283672\n",
      "lambda =  1.125 , mu =  0.6750000000000002 , Average DDR cost =  9.254773528935807\n",
      "lambda =  1.125 , mu =  0.7250000000000001 , Average DDR cost =  9.262546321653215\n",
      "lambda =  1.125 , mu =  0.7750000000000001 , Average DDR cost =  9.266950167759632\n",
      "lambda =  1.125 , mu =  0.8250000000000002 , Average DDR cost =  9.25025287082787\n",
      "lambda =  1.125 , mu =  0.8750000000000002 , Average DDR cost =  9.246393462153584\n",
      "lambda =  1.125 , mu =  0.9250000000000002 , Average DDR cost =  9.263950359233343\n",
      "lambda =  1.125 , mu =  0.9750000000000002 , Average DDR cost =  9.246804314600949\n",
      "lambda =  1.25 , mu =  0.025 , Average DDR cost =  9.130449548155635\n",
      "lambda =  1.25 , mu =  0.07500000000000001 , Average DDR cost =  9.086840556653678\n",
      "lambda =  1.25 , mu =  0.12500000000000003 , Average DDR cost =  9.147725241686139\n",
      "lambda =  1.25 , mu =  0.17500000000000004 , Average DDR cost =  9.12176475841337\n",
      "lambda =  1.25 , mu =  0.22500000000000003 , Average DDR cost =  9.143234480254417\n",
      "lambda =  1.25 , mu =  0.275 , Average DDR cost =  9.132113652210796\n",
      "lambda =  1.25 , mu =  0.32500000000000007 , Average DDR cost =  9.144748567486033\n",
      "lambda =  1.25 , mu =  0.37500000000000006 , Average DDR cost =  9.159903402579795\n",
      "lambda =  1.25 , mu =  0.4250000000000001 , Average DDR cost =  9.188594659629533\n",
      "lambda =  1.25 , mu =  0.4750000000000001 , Average DDR cost =  9.202737879539576\n",
      "lambda =  1.25 , mu =  0.5250000000000001 , Average DDR cost =  9.188090246155074\n",
      "lambda =  1.25 , mu =  0.5750000000000001 , Average DDR cost =  9.25613550374366\n",
      "lambda =  1.25 , mu =  0.6250000000000001 , Average DDR cost =  9.258408455913326\n",
      "lambda =  1.25 , mu =  0.6750000000000002 , Average DDR cost =  9.252354562278997\n",
      "lambda =  1.25 , mu =  0.7250000000000001 , Average DDR cost =  9.266580844004071\n",
      "lambda =  1.25 , mu =  0.7750000000000001 , Average DDR cost =  9.267477242338915\n",
      "lambda =  1.25 , mu =  0.8250000000000002 , Average DDR cost =  9.26335422260924\n",
      "lambda =  1.25 , mu =  0.8750000000000002 , Average DDR cost =  9.247871315537854\n",
      "lambda =  1.25 , mu =  0.9250000000000002 , Average DDR cost =  9.26176164358071\n",
      "lambda =  1.25 , mu =  0.9750000000000002 , Average DDR cost =  9.247254931215776\n",
      "*** seed =  2 : Run DDR ========\n",
      "lambda =  0.75 , mu =  0.025 , Average DDR cost =  8.995404496994759\n",
      "lambda =  0.75 , mu =  0.07500000000000001 , Average DDR cost =  8.998552392005307\n",
      "lambda =  0.75 , mu =  0.12500000000000003 , Average DDR cost =  8.953682477380017\n",
      "lambda =  0.75 , mu =  0.17500000000000004 , Average DDR cost =  8.893722678487192\n",
      "lambda =  0.75 , mu =  0.22500000000000003 , Average DDR cost =  8.867803723775745\n",
      "lambda =  0.75 , mu =  0.275 , Average DDR cost =  8.886145477521753\n",
      "lambda =  0.75 , mu =  0.32500000000000007 , Average DDR cost =  8.876846066649225\n",
      "lambda =  0.75 , mu =  0.37500000000000006 , Average DDR cost =  8.893316803195491\n",
      "lambda =  0.75 , mu =  0.4250000000000001 , Average DDR cost =  8.891083017355006\n",
      "lambda =  0.75 , mu =  0.4750000000000001 , Average DDR cost =  8.890467338178684\n",
      "lambda =  0.75 , mu =  0.5250000000000001 , Average DDR cost =  8.882866456000988\n",
      "lambda =  0.75 , mu =  0.5750000000000001 , Average DDR cost =  8.866488610090974\n",
      "lambda =  0.75 , mu =  0.6250000000000001 , Average DDR cost =  8.860523964063733\n",
      "lambda =  0.75 , mu =  0.6750000000000002 , Average DDR cost =  8.853185659456418\n",
      "lambda =  0.75 , mu =  0.7250000000000001 , Average DDR cost =  8.85001109817563\n",
      "lambda =  0.75 , mu =  0.7750000000000001 , Average DDR cost =  8.863003101276433\n",
      "lambda =  0.75 , mu =  0.8250000000000002 , Average DDR cost =  8.866564010922618\n",
      "lambda =  0.75 , mu =  0.8750000000000002 , Average DDR cost =  8.851034331270947\n",
      "lambda =  0.75 , mu =  0.9250000000000002 , Average DDR cost =  8.845871023054151\n",
      "lambda =  0.75 , mu =  0.9750000000000002 , Average DDR cost =  8.867475621079508\n",
      "lambda =  0.875 , mu =  0.025 , Average DDR cost =  8.987491051298802\n",
      "lambda =  0.875 , mu =  0.07500000000000001 , Average DDR cost =  8.997689572557826\n",
      "lambda =  0.875 , mu =  0.12500000000000003 , Average DDR cost =  8.947678972395293\n",
      "lambda =  0.875 , mu =  0.17500000000000004 , Average DDR cost =  8.926729983328341\n",
      "lambda =  0.875 , mu =  0.22500000000000003 , Average DDR cost =  8.869414759310839\n",
      "lambda =  0.875 , mu =  0.275 , Average DDR cost =  8.892949608695933\n",
      "lambda =  0.875 , mu =  0.32500000000000007 , Average DDR cost =  8.875127280832082\n",
      "lambda =  0.875 , mu =  0.37500000000000006 , Average DDR cost =  8.860614128170266\n",
      "lambda =  0.875 , mu =  0.4250000000000001 , Average DDR cost =  8.907783431789282\n",
      "lambda =  0.875 , mu =  0.4750000000000001 , Average DDR cost =  8.90157507213586\n",
      "lambda =  0.875 , mu =  0.5250000000000001 , Average DDR cost =  8.879894596131999\n",
      "lambda =  0.875 , mu =  0.5750000000000001 , Average DDR cost =  8.880203706684497\n",
      "lambda =  0.875 , mu =  0.6250000000000001 , Average DDR cost =  8.884755513058481\n",
      "lambda =  0.875 , mu =  0.6750000000000002 , Average DDR cost =  8.866611490525575\n",
      "lambda =  0.875 , mu =  0.7250000000000001 , Average DDR cost =  8.85941455820539\n",
      "lambda =  0.875 , mu =  0.7750000000000001 , Average DDR cost =  8.852743148351804\n",
      "lambda =  0.875 , mu =  0.8250000000000002 , Average DDR cost =  8.867925679494833\n",
      "lambda =  0.875 , mu =  0.8750000000000002 , Average DDR cost =  8.85115781911896\n",
      "lambda =  0.875 , mu =  0.9250000000000002 , Average DDR cost =  8.838512678952036\n",
      "lambda =  0.875 , mu =  0.9750000000000002 , Average DDR cost =  8.86775582272375\n",
      "lambda =  1.0 , mu =  0.025 , Average DDR cost =  9.005970046620908\n",
      "lambda =  1.0 , mu =  0.07500000000000001 , Average DDR cost =  8.975881836364346\n",
      "lambda =  1.0 , mu =  0.12500000000000003 , Average DDR cost =  8.98236379712478\n",
      "lambda =  1.0 , mu =  0.17500000000000004 , Average DDR cost =  8.910211472930092\n",
      "lambda =  1.0 , mu =  0.22500000000000003 , Average DDR cost =  8.856500948314395\n",
      "lambda =  1.0 , mu =  0.275 , Average DDR cost =  8.88380877757797\n",
      "lambda =  1.0 , mu =  0.32500000000000007 , Average DDR cost =  8.895986674252581\n",
      "lambda =  1.0 , mu =  0.37500000000000006 , Average DDR cost =  8.885492639172197\n",
      "lambda =  1.0 , mu =  0.4250000000000001 , Average DDR cost =  8.900068211169154\n",
      "lambda =  1.0 , mu =  0.4750000000000001 , Average DDR cost =  8.914507282059537\n",
      "lambda =  1.0 , mu =  0.5250000000000001 , Average DDR cost =  8.886777399349825\n",
      "lambda =  1.0 , mu =  0.5750000000000001 , Average DDR cost =  8.887099701177304\n",
      "lambda =  1.0 , mu =  0.6250000000000001 , Average DDR cost =  8.889617347781536\n",
      "lambda =  1.0 , mu =  0.6750000000000002 , Average DDR cost =  8.879373549314534\n",
      "lambda =  1.0 , mu =  0.7250000000000001 , Average DDR cost =  8.862855253319264\n",
      "lambda =  1.0 , mu =  0.7750000000000001 , Average DDR cost =  8.85238271874669\n",
      "lambda =  1.0 , mu =  0.8250000000000002 , Average DDR cost =  8.86148534239491\n",
      "lambda =  1.0 , mu =  0.8750000000000002 , Average DDR cost =  8.85799200824742\n",
      "lambda =  1.0 , mu =  0.9250000000000002 , Average DDR cost =  8.85571089698887\n",
      "lambda =  1.0 , mu =  0.9750000000000002 , Average DDR cost =  8.866413595680264\n",
      "lambda =  1.125 , mu =  0.025 , Average DDR cost =  9.017428456110672\n",
      "lambda =  1.125 , mu =  0.07500000000000001 , Average DDR cost =  8.96918498089207\n",
      "lambda =  1.125 , mu =  0.12500000000000003 , Average DDR cost =  8.978712940829954\n",
      "lambda =  1.125 , mu =  0.17500000000000004 , Average DDR cost =  8.943482880866721\n",
      "lambda =  1.125 , mu =  0.22500000000000003 , Average DDR cost =  8.896394436423272\n",
      "lambda =  1.125 , mu =  0.275 , Average DDR cost =  8.914236343822253\n",
      "lambda =  1.125 , mu =  0.32500000000000007 , Average DDR cost =  8.887470057275682\n",
      "lambda =  1.125 , mu =  0.37500000000000006 , Average DDR cost =  8.879891757948899\n",
      "lambda =  1.125 , mu =  0.4250000000000001 , Average DDR cost =  8.91131171117613\n",
      "lambda =  1.125 , mu =  0.4750000000000001 , Average DDR cost =  8.910464999956163\n",
      "lambda =  1.125 , mu =  0.5250000000000001 , Average DDR cost =  8.885841416521089\n",
      "lambda =  1.125 , mu =  0.5750000000000001 , Average DDR cost =  8.882482264761373\n",
      "lambda =  1.125 , mu =  0.6250000000000001 , Average DDR cost =  8.878226067399984\n",
      "lambda =  1.125 , mu =  0.6750000000000002 , Average DDR cost =  8.883137623658127\n",
      "lambda =  1.125 , mu =  0.7250000000000001 , Average DDR cost =  8.878178802737834\n",
      "lambda =  1.125 , mu =  0.7750000000000001 , Average DDR cost =  8.86337447507327\n",
      "lambda =  1.125 , mu =  0.8250000000000002 , Average DDR cost =  8.861984680021719\n",
      "lambda =  1.125 , mu =  0.8750000000000002 , Average DDR cost =  8.865152686266123\n",
      "lambda =  1.125 , mu =  0.9250000000000002 , Average DDR cost =  8.851920645845356\n",
      "lambda =  1.125 , mu =  0.9750000000000002 , Average DDR cost =  8.866256409114104\n",
      "lambda =  1.25 , mu =  0.025 , Average DDR cost =  9.031191577494205\n",
      "lambda =  1.25 , mu =  0.07500000000000001 , Average DDR cost =  8.954642747635026\n",
      "lambda =  1.25 , mu =  0.12500000000000003 , Average DDR cost =  8.976651554650202\n",
      "lambda =  1.25 , mu =  0.17500000000000004 , Average DDR cost =  8.973037346834897\n",
      "lambda =  1.25 , mu =  0.22500000000000003 , Average DDR cost =  8.938822454324638\n",
      "lambda =  1.25 , mu =  0.275 , Average DDR cost =  8.925321638473015\n",
      "lambda =  1.25 , mu =  0.32500000000000007 , Average DDR cost =  8.913549578309839\n",
      "lambda =  1.25 , mu =  0.37500000000000006 , Average DDR cost =  8.915193142231862\n",
      "lambda =  1.25 , mu =  0.4250000000000001 , Average DDR cost =  8.92503009376659\n",
      "lambda =  1.25 , mu =  0.4750000000000001 , Average DDR cost =  8.910205387300655\n",
      "lambda =  1.25 , mu =  0.5250000000000001 , Average DDR cost =  8.895086078296247\n",
      "lambda =  1.25 , mu =  0.5750000000000001 , Average DDR cost =  8.8867736828751\n",
      "lambda =  1.25 , mu =  0.6250000000000001 , Average DDR cost =  8.896536281767775\n",
      "lambda =  1.25 , mu =  0.6750000000000002 , Average DDR cost =  8.873544354449976\n",
      "lambda =  1.25 , mu =  0.7250000000000001 , Average DDR cost =  8.891217576130073\n",
      "lambda =  1.25 , mu =  0.7750000000000001 , Average DDR cost =  8.86025966586115\n",
      "lambda =  1.25 , mu =  0.8250000000000002 , Average DDR cost =  8.8563481516996\n",
      "lambda =  1.25 , mu =  0.8750000000000002 , Average DDR cost =  8.867790577241722\n",
      "lambda =  1.25 , mu =  0.9250000000000002 , Average DDR cost =  8.850007637349645\n",
      "lambda =  1.25 , mu =  0.9750000000000002 , Average DDR cost =  8.86499217064738\n"
     ]
    }
   ],
   "source": [
    "from DDR import run_DDR_Shortest_Path\n",
    "DDR_runner = run_DDR_Shortest_Path()\n",
    "mu_arr = np.arange(0.025,1.0,0.05)\n",
    "lamb_arr = np.arange(0.75,1.251,0.125)\n",
    "cost_DDR_all = {}\n",
    "for seed in seed_all:\n",
    "    DataPath_seed = DataPath +\"Seed=\"+str(seed)+\"/\"\n",
    "    pathlib.Path(DataPath_seed).mkdir(parents=True, exist_ok=True)\n",
    "    print(\"*** seed = \",seed,\": Run DDR ========\")\n",
    "    cost_DDR_all[seed] = DDR_runner.run(DataPath_seed,lamb_arr,mu_arr,arcs, grid,num_nodes=25)"
   ]
  },
  {
   "cell_type": "markdown",
   "metadata": {},
   "source": [
    "# Implement different approaches"
   ]
  },
  {
   "cell_type": "markdown",
   "metadata": {},
   "source": [
    "# Results"
   ]
  },
  {
   "cell_type": "code",
   "execution_count": 29,
   "metadata": {},
   "outputs": [
    {
     "name": "stdout",
     "output_type": "stream",
     "text": [
      "Seed =  1 , lamb_opt =  0.875 ,mu_opt =  0.07500000000000001 ,DDR_OLS_ratio =  0.0595 ,DDR_SPO_ratio =  0.0464\n",
      "Seed =  2 , lamb_opt =  0.875 ,mu_opt =  0.9250000000000002 ,DDR_OLS_ratio =  0.0076 ,DDR_SPO_ratio =  0.0813\n"
     ]
    }
   ],
   "source": [
    "cost_OLS_avg = 0; cost_SPO_avg = 0; cost_Oracle_avg = 0; cost_DDR_avg = np.zeros((len(lamb_arr),len(mu_arr)))\n",
    "for seed in seed_all:\n",
    "    cost_ddr_opt = 10000\n",
    "    lamb_opt = 0\n",
    "    mu_opt = 0\n",
    "    ddr_ols_ratio = 0\n",
    "\n",
    "    cost_Oracle_avg = cost_Oracle_avg + np.mean(cost_Oracle_all[seed])\n",
    "    cost_OLS_avg = cost_OLS_avg + np.mean(cost_OLS_all[seed])\n",
    "    cost_SPO_avg = cost_SPO_avg + np.mean(cost_EPO_all[seed][\"SPO\"]) \n",
    "    lamb_index = 0\n",
    "    for lamb in lamb_arr:\n",
    "        mu_index = 0\n",
    "        for mu in mu_arr:\n",
    "            # print(\"Seed = \",seed,\", lamb_opt = \",lamb,\",mu_opt = \",mu,\", Average DRR Cost = \", np.round(np.mean(cost_DDR_all[seed][lamb,mu][\"cost\"]),4))\n",
    "            if np.mean(cost_DDR_all[seed][lamb,mu][\"cost\"]) < cost_ddr_opt:\n",
    "                cost_ddr_opt = np.mean(cost_DDR_all[seed][lamb,mu][\"cost\"])\n",
    "                lamb_opt = lamb\n",
    "                mu_opt = mu\n",
    "                ddr_ols_ratio = (np.mean(cost_OLS_all[seed]) - cost_ddr_opt)/(np.mean(cost_OLS_all[seed]) - np.mean(cost_Oracle_all[seed]))\n",
    "                ddr_spo_ratio = ((np.mean(cost_EPO_all[seed][\"SPO\"])) - cost_ddr_opt)/(np.mean(cost_EPO_all[seed][\"SPO\"]) - np.mean(cost_Oracle_all[seed]))\n",
    "            cost_DDR_avg[lamb_index,mu_index] = cost_DDR_avg[lamb_index,mu_index] + np.mean(cost_DDR_all[seed][lamb,mu][\"cost\"])\n",
    "            mu_index = mu_index + 1\n",
    "        lamb_index = lamb_index + 1\n",
    "    print(\"Seed = \",seed,\", lamb_opt = \",lamb_opt,\",mu_opt = \",mu_opt, \\\n",
    "          \",DDR_OLS_ratio = \",np.round(ddr_ols_ratio,4), \",DDR_SPO_ratio = \",np.round(ddr_spo_ratio,4))\n"
   ]
  },
  {
   "cell_type": "code",
   "execution_count": 30,
   "metadata": {},
   "outputs": [
    {
     "data": {
      "image/png": "[encoded data removed]",
      "text/plain": [
       "<Figure size 1200x800 with 1 Axes>"
      ]
     },
     "metadata": {},
     "output_type": "display_data"
    }
   ],
   "source": [
    "import matplotlib.pyplot as plt\n",
    "fig,ax = plt.subplots(figsize=(12, 8))\n",
    "# ax.plot(mu_arr,np.ones(len(mu_arr))*cost_Oracle_avg/len(seed_all),'-',color = 'k',label=\"Oracle\")\n",
    "ax.plot(mu_arr,np.ones(len(mu_arr))*cost_OLS_avg/len(seed_all),'-',color = 'r',label=\"OLS\")\n",
    "ax.plot(mu_arr,np.ones(len(mu_arr))*cost_SPO_avg/len(seed_all),'-',color = 'b',label=\"SPO+\")\n",
    "\n",
    "lamb_index = 0\n",
    "for lamb in lamb_arr:\n",
    "    name = r\"DDR:$\\lambda$=\"+str(lamb)\n",
    "    ax.plot(mu_arr,cost_DDR_avg[lamb_index,:]/len(seed_all),'-.',label=name)\n",
    "    lamb_index = lamb_index + 1\n",
    "ax.legend()\n",
    "\n",
    "plt.show()"
   ]
  },
  {
   "cell_type": "code",
   "execution_count": null,
   "metadata": {},
   "outputs": [],
   "source": [
    "def cross_compare2plus(c_item, c_base, c_oracle):\n",
    "    c_item = np.asarray(c_item)\n",
    "    c_base = np.asarray(c_base)\n",
    "    c_oracle = np.asarray(c_oracle)\n",
    "\n",
    "    N = len(c_item)\n",
    "    c_diff = c_item - c_base\n",
    "    lbel = np.zeros((N,1))\n",
    "    \n",
    "    equals = np.sum(c_diff == 0)\n",
    "    wins = np.sum(c_diff < 0)\n",
    "    lose = np.sum(c_diff > 0)\n",
    "    \n",
    "    lbel[c_diff < 0] = 1\n",
    "    lbel[c_diff > 0] = -1\n",
    "    \n",
    "    print(N, equals, wins, lose)\n",
    "    print(\"base cost = \", np.mean(c_base),\",item cost = \",np.mean(c_item))\n",
    "    if N == equals:\n",
    "        win_ratio = 0.5\n",
    "    else:\n",
    "        win_ratio = wins/(N - equals)\n",
    "    cost_reduction = (np.mean(c_base) - np.mean(c_item) )/np.abs(np.mean(c_oracle))\n",
    "    regret_reduction = (np.mean(c_base) - np.mean(c_item))/np.abs(np.mean(c_base) - np.mean(c_oracle))\n",
    "    return lbel, win_ratio, cost_reduction, regret_reduction"
   ]
  },
  {
   "cell_type": "code",
   "execution_count": null,
   "metadata": {},
   "outputs": [],
   "source": [
    "seed = 3\n",
    "lbel, win_ratio, cost_spo_ols, regret_spo_ols = cross_compare2plus(cost_SPO_all[seed],cost_OLS_all[seed], cost_Oracle_all[seed])"
   ]
  },
  {
   "cell_type": "code",
   "execution_count": null,
   "metadata": {},
   "outputs": [],
   "source": [
    "def calculate_comparison(file_name,perf_eva,c_item, c_base, c_oracle,ypio):\n",
    "    if ypio == 0:\n",
    "#     # compares results\n",
    "        lbels, h2h, mci = perf_eva.cross_compare2(c_item, c_base, c_oracle)\n",
    "        store_results(file_name,lbels=lbels,h2h=h2h,mci=mci)\n",
    "        print(\"h2h = \",h2h)\n",
    "    else:\n",
    "        # compares results plus\n",
    "        lbels, h2h, mci, pio = perf_eva.cross_compare2plus(c_item, c_base, c_oracle)\n",
    "        store_results(file_name,lbels=lbels,h2h=h2h,mci=mci,pio=pio)\n",
    "        print(\"h2h = \",h2h,\" pio = \",pio)\n",
    "    # return lbels, h2h, mci"
   ]
  }
 ],
 "metadata": {
  "kernelspec": {
   "display_name": ".venv",
   "language": "python",
   "name": "python3"
  },
  "language_info": {
   "codemirror_mode": {
    "name": "ipython",
    "version": 3
   },
   "file_extension": ".py",
   "mimetype": "text/x-python",
   "name": "python",
   "nbconvert_exporter": "python",
   "pygments_lexer": "ipython3",
   "version": "3.9.6"
  }
 },
 "nbformat": 4,
 "nbformat_minor": 2
}
