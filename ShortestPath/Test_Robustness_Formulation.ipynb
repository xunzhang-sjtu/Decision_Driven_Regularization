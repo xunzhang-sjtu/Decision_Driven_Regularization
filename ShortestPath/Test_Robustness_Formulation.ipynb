{
 "cells": [
  {
   "cell_type": "code",
   "execution_count": 1,
   "metadata": {},
   "outputs": [],
   "source": [
    "import random\n",
    "import numpy as np\n",
    "import torch\n",
    "import os\n",
    "import pathlib\n",
    "import pickle\n",
    "from gurobipy import *\n",
    "from rsome import ro\n",
    "from rsome import grb_solver as grb\n",
    "import rsome as rso\n",
    "from rsome import cpt_solver as cpt"
   ]
  },
  {
   "cell_type": "code",
   "execution_count": 2,
   "metadata": {},
   "outputs": [],
   "source": [
    "# data_generation_process = \"SPO_Data_Generation\"\n",
    "data_generation_process = \"DDR_Data_Generation\""
   ]
  },
  {
   "cell_type": "markdown",
   "metadata": {},
   "source": [
    "# Parameters"
   ]
  },
  {
   "cell_type": "code",
   "execution_count": 3,
   "metadata": {},
   "outputs": [],
   "source": [
    "# import pyepo\n",
    "# generate data\n",
    "grid = (5,5) # grid size\n",
    "num_train = 50 # number of training data\n",
    "num_feat = 5 # size of feature\n",
    "num_test = 1000\n",
    "deg = 1.0 # polynomial degree\n",
    "e = 10 # scale of normal std or the range of uniform. For the error term\n",
    "lower = 0.9 # coef lower bound\n",
    "upper = 1 # coef upper bound\n",
    "p = num_feat # num of features\n",
    "d = (grid[0] - 1) * (grid[0] - 1) * 2 + 2 * (grid[0] - 1) # num of arcs\n",
    "alpha = e # scale of normal std or the range of uniform. For the error term\n",
    "mis = deg # model misspecification\n",
    "coef_seed = 1"
   ]
  },
  {
   "cell_type": "code",
   "execution_count": 4,
   "metadata": {},
   "outputs": [
    {
     "name": "stdout",
     "output_type": "stream",
     "text": [
      "grandparent_directory: /Users/zhangxun/Dropbox/Research/Decision_Driven_Regularization/Code_MacBook\n",
      "DataPath: /Users/zhangxun/Dropbox/Research/Decision_Driven_Regularization/Data/Test_0324DDR_Data_Generation/\n"
     ]
    }
   ],
   "source": [
    "current_directory = os.getcwd()\n",
    "parent_directory = os.path.dirname(current_directory)\n",
    "grandparent_directory = os.path.dirname(parent_directory)\n",
    "DataPath = os.path.dirname(grandparent_directory) + '/Data/Test_0324' + data_generation_process + \"/\"\n",
    "pathlib.Path(DataPath).mkdir(parents=True, exist_ok=True)\n",
    "print(\"grandparent_directory:\", grandparent_directory)\n",
    "print(\"DataPath:\", DataPath)\n",
    "DataPath = DataPath + \"data_size=\"+str(num_train)+\"_deg=\"+str(deg)+\"_e=\"+str(e)+\"_d=\"+str(d)+\"_coef_seed=\"+str(coef_seed)+\"/\"\n",
    "pathlib.Path(DataPath).mkdir(parents=True, exist_ok=True)"
   ]
  },
  {
   "cell_type": "markdown",
   "metadata": {},
   "source": [
    "# Generate Data"
   ]
  },
  {
   "cell_type": "code",
   "execution_count": null,
   "metadata": {},
   "outputs": [],
   "source": [
    "def Prepare_Data(DataPath,lower, upper, p, d, coef_seed,seed_all,num_test, num_train, alpha,mis,data_generation_process):\n",
    "# #  ****** Coef generation *********\n",
    "    from Data import data_generation\n",
    "    data_gen = data_generation()\n",
    "    # print(\"W_star = \",W_star[0,:])\n",
    "    W_star = data_gen.generate_truth(DataPath,lower, upper, p, d, coef_seed,version = 0) \n",
    "\n",
    "    x_test_all = {}; c_test_all = {}; x_train_all = {}; c_train_all = {}; W_star_all = {}\n",
    "    for seed in seed_all:\n",
    "        DataPath_seed = DataPath +\"Seed=\"+str(seed)+\"/\"\n",
    "        pathlib.Path(DataPath_seed).mkdir(parents=True, exist_ok=True)\n",
    "        # #  ****** Data generation *********\n",
    "        x_test_all[seed], c_test_all[seed], x_train_all[seed], c_train_all[seed], W_star_all[seed] = data_gen.generate_samples(seed,DataPath_seed,p, d, num_test, num_train, alpha, W_star, mis, thres = 10, \n",
    "                                version = data_generation_process, x_dist = 'normal', e_dist = 'normal', x_low = 0, x_up = 2, x_mean = 2, x_var = 0.25, bump = 100) \n",
    "        # print()\n",
    "    return x_test_all, c_test_all, x_train_all, c_train_all, W_star_all"
   ]
  },
  {
   "cell_type": "markdown",
   "metadata": {},
   "source": [
    "# Robustness Formulation"
   ]
  },
  {
   "cell_type": "markdown",
   "metadata": {},
   "source": [
    "### Define network"
   ]
  },
  {
   "cell_type": "code",
   "execution_count": 6,
   "metadata": {},
   "outputs": [],
   "source": [
    "def _getArcs(grid):\n",
    "    arcs = []\n",
    "    for i in range(grid[0]):\n",
    "        # edges on rows\n",
    "        for j in range(grid[1] - 1):\n",
    "            v = i * grid[1] + j\n",
    "            arcs.append((v, v + 1))\n",
    "        # edges in columns\n",
    "        if i == grid[0] - 1:\n",
    "            continue\n",
    "        for j in range(grid[1]):\n",
    "            v = i * grid[1] + j\n",
    "            arcs.append((v, v + grid[1]))\n",
    "\n",
    "    arc_index_mapping = {}\n",
    "    for i in range(len(arcs)):\n",
    "        arc = arcs[i]\n",
    "        arc_index_mapping[arc] = i\n",
    "\n",
    "    return arcs,arc_index_mapping"
   ]
  },
  {
   "cell_type": "markdown",
   "metadata": {},
   "source": [
    "## Solve the model with OLS estimation, the objective can be used as target"
   ]
  },
  {
   "cell_type": "markdown",
   "metadata": {},
   "source": [
    "$\\min \\frac{1}{N} \\sum_{n \\in [N]}[\\mu y_{n}^{\\top}\\tilde{z}_{n} + (1 - \\mu )y_{n}^\\top f(\\tilde{x}_{n},w^{OLS})]$"
   ]
  },
  {
   "cell_type": "code",
   "execution_count": 7,
   "metadata": {},
   "outputs": [],
   "source": [
    "def Solve_DDR_inner(arcs,arc_index_mapping,mu,num_train,num_arcs,c_train,x_train,W_ols,w0_ols,grid):\n",
    "    model = ro.Model()            # create an RSOME model\n",
    "    y = model.dvar((num_train,num_arcs))\n",
    "    t = model.dvar()\n",
    "    weight_sum = model.dvar(num_train)                   \n",
    "\n",
    "    for i in range(num_train):\n",
    "        model.st(weight_sum[i] == mu * (y[i,:] @ c_train[i,:]) + (1 - mu) *  y[i,:] @ (W_ols @ x_train[i,:] + w0_ols))\n",
    "    model.st(t == weight_sum.sum() * (1/num_train))\n",
    "    model.st(y >= 0)\n",
    "\n",
    "    # shortest path constraints\n",
    "    for n in range(num_train):\n",
    "        for i in range(grid[0]):\n",
    "            for j in range(grid[1]):\n",
    "                v = i * grid[1] + j\n",
    "                expr = 0\n",
    "                for arc in arcs:\n",
    "                    # flow in\n",
    "                    if v == arc[1]:\n",
    "                        expr += y[n,arc_index_mapping[arc]]\n",
    "                    # flow out\n",
    "                    elif v == arc[0]:\n",
    "                        expr -= y[n,arc_index_mapping[arc]]\n",
    "                # source\n",
    "                if i == 0 and j == 0:\n",
    "                    model.st(expr == -1)\n",
    "                # sink\n",
    "                elif i == grid[0] - 1 and j == grid[0] - 1:\n",
    "                    model.st(expr == 1)\n",
    "                # transition\n",
    "                else:\n",
    "                    model.st(expr == 0)\n",
    "\n",
    "    model.min(t) \n",
    "\n",
    "    model.solve(grb)\n",
    "    y_sol = y.get()\n",
    "    obj = model.obj()\n",
    "    # print(\"obj = \",obj)\n",
    "\n",
    "    # i = 1\n",
    "    # path = []\n",
    "    # for j in range(num_arcs):\n",
    "    #     if y_sol[i,j] > 0:\n",
    "    #         path.append(arcs[j])\n",
    "    # print(\"The\",i,\"Sample: shortest path = \",path)\n",
    "    return obj,y_sol"
   ]
  },
  {
   "cell_type": "markdown",
   "metadata": {},
   "source": [
    "## Solve Sub-RDDR"
   ]
  },
  {
   "cell_type": "code",
   "execution_count": 8,
   "metadata": {},
   "outputs": [],
   "source": [
    "def solve_sub_rddr(arcs,arc_index_mapping,mu,rho,num_train,num_arcs,c_train,x_train,grid,is_binary):\n",
    "    model = ro.Model()            # create an RSOME model\n",
    "    if is_binary:\n",
    "        y = model.dvar((num_train,num_arcs),vtype='B')\n",
    "    else:\n",
    "        y = model.dvar((num_train,num_arcs))\n",
    "    t = model.dvar()\n",
    "    gamma = model.dvar()\n",
    "    delta = model.dvar((num_train,num_arcs))\n",
    "    delta_vector = model.dvar(num_train * num_arcs)\n",
    "    weight_sum = model.dvar(num_train)                   \n",
    "\n",
    "    for i in range(num_train):\n",
    "        model.st(weight_sum[i] == mu * (y[i,:] @ c_train[i,:]) + (1 - mu) *  delta[i,:] @ c_train[i,:])\n",
    "    model.st(y >= 0)\n",
    "    model.st(t >= weight_sum.sum() * (1/num_train) + ((1-mu)/num_train)*rho*gamma)\n",
    "\n",
    "    for j in range(num_arcs):\n",
    "        model.st(delta[:,j].sum() == y[:,j].sum())\n",
    "        model.st(x_train.T @ delta[:,j] == x_train.T @ y[:,j])\n",
    "\n",
    "    index = 0\n",
    "    for i in range(num_train):\n",
    "        for j in range(num_arcs):\n",
    "            model.st(delta_vector[index] == delta[i,j])\n",
    "            index = index + 1\n",
    "    model.st(rso.norm(delta_vector,2) <= gamma)        # a constraint with 2-norm terms\n",
    "    model.st(gamma >= 0)\n",
    "\n",
    "\n",
    "    # shortest path constraints\n",
    "    for n in range(num_train):\n",
    "        for i in range(grid[0]):\n",
    "            for j in range(grid[1]):\n",
    "                v = i * grid[1] + j\n",
    "                expr = 0\n",
    "                for arc in arcs:\n",
    "                    # flow in\n",
    "                    if v == arc[1]:\n",
    "                        expr += y[n,arc_index_mapping[arc]]\n",
    "                    # flow out\n",
    "                    elif v == arc[0]:\n",
    "                        expr -= y[n,arc_index_mapping[arc]]\n",
    "                # source\n",
    "                if i == 0 and j == 0:\n",
    "                    model.st(expr == -1)\n",
    "                # sink\n",
    "                elif i == grid[0] - 1 and j == grid[0] - 1:\n",
    "                    model.st(expr == 1)\n",
    "                # transition\n",
    "                else:\n",
    "                    model.st(expr == 0)\n",
    "\n",
    "    model.min(t) \n",
    "    model.solve(cpt,display=False,log=False)\n",
    "    y_sol = y.get()\n",
    "    obj = model.obj()\n",
    "    # print(\"obj = \",obj)\n",
    "    return obj,y_sol"
   ]
  },
  {
   "cell_type": "markdown",
   "metadata": {},
   "source": [
    "## RobustW"
   ]
  },
  {
   "cell_type": "code",
   "execution_count": 9,
   "metadata": {},
   "outputs": [],
   "source": [
    "def solve_robustW(mu,rho,num_train,num_arcs,num_feat,c_train,x_train,y_sol):\n",
    "    model = ro.Model()            # create an RSOME model\n",
    "\n",
    "    W_DDR = model.dvar((num_arcs,num_feat))\n",
    "    W0_DDR = model.dvar(num_arcs)\n",
    "    norm_vector = model.dvar(num_train*num_arcs)\n",
    "    t = model.dvar()\n",
    "    weight_sum = model.dvar(num_train)                   \n",
    "\n",
    "    for i in range(num_train):\n",
    "        model.st(weight_sum[i] == mu * (y_sol[i,:] @ c_train[i,:]) + (1 - mu) *  y_sol[i,:] @ (W_DDR @ x_train[i,:] + W0_DDR))\n",
    "    model.st(t == weight_sum.sum() * (1/num_train))\n",
    "\n",
    "    for i in range(num_train):\n",
    "        model.st(norm_vector[i*num_arcs:(i+1)*num_arcs] == c_train[i,:] - W_DDR @ x_train[i,:] - W0_DDR)\n",
    "    model.st(rso.norm(norm_vector,2) <= rho)\n",
    "\n",
    "    model.max(t) \n",
    "\n",
    "    model.solve(cpt,display=False,log=False)\n",
    "    obj = model.obj()\n",
    "    # print(\"obj = \",obj)\n",
    "    W_DDR_val = W_DDR.get()\n",
    "    W0_DDR_val = W0_DDR.get()\n",
    "    return obj,W_DDR_val,W0_DDR_val"
   ]
  },
  {
   "cell_type": "markdown",
   "metadata": {},
   "source": [
    "# Compute out-of-sample performance"
   ]
  },
  {
   "cell_type": "code",
   "execution_count": 10,
   "metadata": {},
   "outputs": [],
   "source": [
    "arcs,arc_index_mapping = _getArcs(grid)\n",
    "num_arcs = len(arcs)\n",
    "\n",
    "seed_all = np.arange(1,20)\n",
    "# obtain data\n",
    "x_test_all, c_test_all, x_train_all, c_train_all, W_star_all = Prepare_Data(DataPath,lower, upper, p, d, coef_seed,seed_all,num_test, num_train, alpha,mis,data_generation_process)"
   ]
  },
  {
   "cell_type": "code",
   "execution_count": 11,
   "metadata": {},
   "outputs": [
    {
     "name": "stdout",
     "output_type": "stream",
     "text": [
      "Set parameter Username\n",
      "Academic license - for non-commercial use only - expires 2026-03-13\n"
     ]
    }
   ],
   "source": [
    "from OLS import ols_method\n",
    "ols_method_obj = ols_method()\n",
    "from Peformance import performance_evaluation\n",
    "perfs = performance_evaluation()\n",
    "W_ols_all = {}; w0_ols_all = {}; t_ols_all = {}; obj_ols_all = {}; rho_lb_all = {}\n",
    "cost_OLS_all = {}; cost_Oracle_all = {}\n",
    "\n",
    "for seed in seed_all:\n",
    "    # compute OLS performance\n",
    "    W_ols_all[seed], w0_ols_all[seed], t_ols_all[seed], obj_ols_all[seed] = ols_method_obj.ols_solver(\"\",x_train_all[seed], c_train_all[seed])\n",
    "    cost_OLS_all[seed] = perfs.compute_Cost_with_Prediction(arcs,w0_ols_all[seed],W_ols_all[seed], grid,c_test_all[seed],x_test_all[seed])\n",
    "    cost_Oracle_all[seed] = perfs.compute_Oracel_Cost(arcs, grid,c_test_all[seed])\n",
    "\n",
    "    # obtain the lowest rho\n",
    "    # is_binary = False\n",
    "    rho_lb_all[seed] =  np.sqrt(obj_ols_all[seed] * num_train) "
   ]
  },
  {
   "cell_type": "code",
   "execution_count": 12,
   "metadata": {},
   "outputs": [],
   "source": [
    "def obtain_out_of_sample_performance(seed,mu,rho_lb,rho_coef_all,is_binary,arcs,arc_index_mapping,grid,x_train_all,c_train_all,x_test_all,c_test_all,cost_OLS,cost_Oracle,perfs):\n",
    "    x_train = x_train_all[seed]\n",
    "    c_train = c_train_all[seed]\n",
    "    x_test = x_test_all[seed]\n",
    "    c_test = c_test_all[seed]\n",
    "\n",
    "    regret_arr = np.zeros(len(rho_coef_all)), \n",
    "    cost_DDR = {}\n",
    "    rho_index = 0\n",
    "    for rho_coef in rho_coef_all:\n",
    "        rho = rho_lb + rho_coef * rho_lb\n",
    "    \n",
    "        obj_rddr,y_sol_rddr = solve_sub_rddr(arcs,arc_index_mapping,mu,rho,num_train,num_arcs,c_train,x_train,grid,is_binary)\n",
    "        obj,W_DDR,W0_DDR = solve_robustW(mu,rho,num_train,num_arcs,num_feat,c_train,x_train,y_sol_rddr)\n",
    "        cost_DDR[rho_coef] = perfs.compute_Cost_with_Prediction(arcs,W0_DDR,W_DDR, grid,c_test,x_test)\n",
    "        # regret = (np.nanmean(cost_OLS) - np.nanmean(cost_DDR[rho_coef]))/(np.nanmean(cost_OLS) - np.nanmean(cost_Oracle)) * 100\n",
    "        # print(\"seed=\",seed,\",mu=\",mu,\"rho=\",rho,\",regret=\",np.round(regret,4))\n",
    "        # regret_arr[rho_index] = regret\n",
    "        rho_index = rho_index +1\n",
    "    return cost_DDR"
   ]
  },
  {
   "cell_type": "code",
   "execution_count": 13,
   "metadata": {},
   "outputs": [],
   "source": [
    "seed_all = np.arange(1,20)"
   ]
  },
  {
   "cell_type": "code",
   "execution_count": 18,
   "metadata": {},
   "outputs": [
    {
     "name": "stdout",
     "output_type": "stream",
     "text": [
      "seed= 1 ,mu= 0.5 ,regret = [ 0.0259 -0.2896 -0.51   -0.4932 -0.0015 -0.2736  0.0481  0.0999  0.0286\n",
      "  0.2294]\n",
      "seed= 2 ,mu= 0.5 ,regret = [-0.0778  0.2465  0.1433  0.0182  0.3012  0.4268  0.5323  0.8334  0.7561\n",
      "  0.5495]\n",
      "seed= 3 ,mu= 0.5 ,regret = [0.1017 0.348  0.4128 0.141  0.347  0.4138 0.328  0.1903 0.5221 0.4721]\n",
      "seed= 4 ,mu= 0.5 ,regret = [0.     0.1277 0.0616 0.3615 0.3641 0.6538 0.5894 0.4344 0.1563 0.1943]\n",
      "seed= 5 ,mu= 0.5 ,regret = [ 0.0338 -0.0051 -0.1047  0.1221  0.2003  0.2353 -0.0489 -0.0613 -0.0191\n",
      "  0.0838]\n",
      "seed= 6 ,mu= 0.5 ,regret = [ 0.0177 -0.2004  0.0894 -0.1376 -0.1304 -0.1221  0.2778  0.2767  0.1972\n",
      "  0.2479]\n",
      "seed= 7 ,mu= 0.5 ,regret = [-0.1039  0.2362  0.4896  0.2165  0.2974  0.3422  0.0907  0.5445  0.5159\n",
      "  0.6165]\n",
      "seed= 8 ,mu= 0.5 ,regret = [-0.0063  0.0115 -0.4066 -0.6603 -0.6769 -0.6735 -0.9094 -0.9461 -1.0574\n",
      " -1.0522]\n",
      "seed= 9 ,mu= 0.5 ,regret = [ 0.0068 -1.0808 -1.0209 -1.2477 -1.2286 -1.2816 -1.2379 -1.169  -1.1196\n",
      " -1.0448]\n",
      "seed= 10 ,mu= 0.5 ,regret = [-0.0103 -0.3318 -0.2744 -0.2952 -0.4874 -0.5784 -0.4137 -0.5764 -0.4854\n",
      " -0.32  ]\n",
      "seed= 11 ,mu= 0.5 ,regret = [ 0.     -0.5882 -0.0947 -0.3216 -0.5127 -0.6295 -0.7747 -0.7403 -0.6195\n",
      " -0.9737]\n",
      "seed= 12 ,mu= 0.5 ,regret = [ 0.     -0.6018 -1.3636 -1.4278 -1.2494 -1.1253 -0.9153 -1.0175 -0.9703\n",
      " -1.1888]\n",
      "seed= 13 ,mu= 0.5 ,regret = [-0.0151 -0.1682 -0.6068 -0.5838 -0.6213 -0.7972 -0.744  -0.5591 -0.7136\n",
      " -0.8738]\n",
      "seed= 14 ,mu= 0.5 ,regret = [ 0.      0.4522  0.388   0.107   0.2827  0.306   0.1525 -0.0709 -0.0742\n",
      " -0.098 ]\n",
      "seed= 15 ,mu= 0.5 ,regret = [-0.0241  0.094  -0.2665 -0.1833  0.138   0.3159  0.1751  0.1244 -0.1042\n",
      "  0.286 ]\n",
      "seed= 16 ,mu= 0.5 ,regret = [ 0.      0.8836  0.7122  0.7902  0.4825  0.5331  0.3152  0.0679  0.1448\n",
      " -0.2362]\n",
      "seed= 17 ,mu= 0.5 ,regret = [ 0.0494 -0.0737  0.2481  0.3515  0.2399  0.2387  0.1957  0.2772  0.5178\n",
      "  0.6578]\n",
      "seed= 18 ,mu= 0.5 ,regret = [ 0.0689 -0.1536  0.3993  0.2035  0.0938  0.3601  0.3785  0.4828  0.4759\n",
      "  0.4521]\n",
      "seed= 19 ,mu= 0.5 ,regret = [-0.0489 -0.4697 -0.423  -0.3647 -0.3438 -0.4125 -0.0118 -0.3977 -0.3073\n",
      " -0.3059]\n",
      "mu= 0.5 ,avg regret  = [ 0.0009 -0.0823 -0.1119 -0.1791 -0.1318 -0.1088 -0.1038 -0.1161 -0.1135\n",
      " -0.1213]\n"
     ]
    }
   ],
   "source": [
    "mu = 0.5\n",
    "rho_coef_all = np.round(np.arange(0.0,0.001,0.0001),4)\n",
    "is_binary = False\n",
    "regret_DDR_all = {}; cost_DDR_all = {}\n",
    "regret_DDR_avg = np.zeros(len(rho_coef_all)) \n",
    "for seed in seed_all:\n",
    "    cost_DDR_all[seed,mu] = obtain_out_of_sample_performance(seed,mu,rho_lb_all[seed],rho_coef_all,is_binary,arcs,arc_index_mapping,grid,x_train_all,c_train_all,x_test_all,c_test_all,cost_OLS_all[seed],cost_Oracle_all[seed],perfs)\n",
    "    regret_tem = np.zeros(len(rho_coef_all)) \n",
    "    rho_index = 0\n",
    "    for rho_coef in rho_coef_all:\n",
    "        regret = (np.nanmean(cost_OLS_all[seed]) - np.nanmean(cost_DDR_all[seed,mu][rho_coef]))/(np.nanmean(cost_OLS_all[seed]) - np.nanmean(cost_Oracle_all[seed])) * 100\n",
    "        # print(\"seed=\",seed,\",mu=\",mu,\"rho_coef=\",rho_coef,\",regret=\",np.round(regret,4))\n",
    "        regret_tem[rho_index] = regret\n",
    "        rho_index = rho_index +1\n",
    "    print(\"seed=\",seed,\",mu=\",mu,\",regret =\",np.round(regret_tem,4))\n",
    "    regret_DDR_avg = regret_DDR_avg + regret_tem\n",
    "regret_DDR_avg = regret_DDR_avg/len(seed_all)\n",
    "print(\"mu=\",mu,\",avg regret  =\",np.round(regret_DDR_avg,4))\n"
   ]
  },
  {
   "cell_type": "code",
   "execution_count": 15,
   "metadata": {},
   "outputs": [],
   "source": [
    "def cross_compare2plus(c_item, c_base, c_oracle):\n",
    "    c_item = np.asarray(c_item)\n",
    "    c_base = np.asarray(c_base)\n",
    "    c_oracle = np.asarray(c_oracle)\n",
    "\n",
    "    N = len(c_item)\n",
    "    c_diff = c_item - c_base\n",
    "    lbel = np.zeros((N,1))\n",
    "    \n",
    "    equals = np.sum(c_diff == 0)\n",
    "    wins = np.sum(c_diff < 0)\n",
    "    lose = np.sum(c_diff > 0)\n",
    "    \n",
    "    lbel[c_diff < 0] = 1\n",
    "    lbel[c_diff > 0] = -1\n",
    "    \n",
    "    # print(\"Num_train =\",N,\",Num_equals =\",equals,\",Num_wins =\",wins,\",Num_lose =\",lose)\n",
    "    # print(\"base cost = \", np.mean(c_base),\",item cost = \",np.mean(c_item))\n",
    "    if N == equals:\n",
    "        win_ratio = 0.5\n",
    "    else:\n",
    "        win_ratio = wins/(N - equals)\n",
    "    # cost_reduction = (np.mean(c_base) - np.mean(c_item) )/np.abs(np.mean(c_oracle))\n",
    "    regret_reduction = (np.nanmean(c_base) - np.nanmean(c_item))/np.abs(np.nanmean(c_base) - np.nanmean(c_oracle))\n",
    "    return lbel, win_ratio, regret_reduction"
   ]
  },
  {
   "cell_type": "code",
   "execution_count": 16,
   "metadata": {},
   "outputs": [
    {
     "name": "stdout",
     "output_type": "stream",
     "text": [
      "rho_coef =  0.0\n",
      "rho_coef =  0.0001\n",
      "rho_coef =  0.0002\n",
      "rho_coef =  0.0003\n",
      "rho_coef =  0.0004\n",
      "rho_coef =  0.0005\n",
      "rho_coef =  0.0006\n",
      "rho_coef =  0.0007\n",
      "rho_coef =  0.0008\n",
      "rho_coef =  0.0009\n"
     ]
    }
   ],
   "source": [
    "H2H_DDR_vs_OLS_all = {}; regret_reduction_DDR_vs_OLS_all = {}\n",
    "for rho_coef in rho_coef_all:\n",
    "    H2H_DDR_vs_OLS_arr = np.zeros(len(seed_all)); regret_reduction_DDR_vs_OLS_arr = np.zeros(len(seed_all))\n",
    "    seed_index = 0\n",
    "    print(\"rho_coef = \",rho_coef)\n",
    "    for seed in seed_all:\n",
    "        lbel, H2H_DDR_vs_OLS_arr[seed_index], H2H_DDR_vs_OLS_arr[seed_index] = cross_compare2plus(cost_DDR_all[seed,mu][rho_coef],cost_OLS_all[seed], cost_Oracle_all[seed])\n",
    "        seed_index = seed_index + 1\n",
    "    H2H_DDR_vs_OLS_all[mu,rho_coef] = H2H_DDR_vs_OLS_arr; regret_reduction_DDR_vs_OLS_all[mu,rho_coef] = H2H_DDR_vs_OLS_arr"
   ]
  },
  {
   "cell_type": "code",
   "execution_count": 17,
   "metadata": {},
   "outputs": [
    {
     "data": {
      "image/png": "[encoded data removed]",
      "text/plain": [
       "<Figure size 500x500 with 3 Axes>"
      ]
     },
     "metadata": {},
     "output_type": "display_data"
    }
   ],
   "source": [
    "rho_coef = rho_coef_all[1]\n",
    "import Figures\n",
    "Figures.figure_plot_upleft(H2H_DDR_vs_OLS_all[mu,rho_coef], regret_reduction_DDR_vs_OLS_all[mu,rho_coef], \"\", size = (5, 5), move = [-0.12, 0.04, 0.35, 0.55], \n",
    "                    ysame = 0, yrange = [6,6], sublabel = '', ypio = 0)"
   ]
  }
 ],
 "metadata": {
  "kernelspec": {
   "display_name": ".venv",
   "language": "python",
   "name": "python3"
  },
  "language_info": {
   "codemirror_mode": {
    "name": "ipython",
    "version": 3
   },
   "file_extension": ".py",
   "mimetype": "text/x-python",
   "name": "python",
   "nbconvert_exporter": "python",
   "pygments_lexer": "ipython3",
   "version": "3.9.6"
  }
 },
 "nbformat": 4,
 "nbformat_minor": 2
}
