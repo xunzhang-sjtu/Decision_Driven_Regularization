{
 "cells": [
  {
   "cell_type": "code",
   "execution_count": 6,
   "metadata": {},
   "outputs": [],
   "source": [
    "import numpy as np\n",
    "import pickle"
   ]
  },
  {
   "cell_type": "code",
   "execution_count": 7,
   "metadata": {},
   "outputs": [],
   "source": [
    "DataPath = \"/Users/zhangxun/Dropbox/Research/Decision_Driven_Regularization/Data/DDR_vs_OLS/\"\n",
    "iters = 10"
   ]
  },
  {
   "cell_type": "code",
   "execution_count": 17,
   "metadata": {},
   "outputs": [],
   "source": [
    "cost_OLS = np.zeros(iters); cost_DDR = np.zeros(iters); cost_orcale = np.zeros(iters)\n",
    "for i in range(iters):\n",
    "    file_path = DataPath + \"iter=\"+str(i) +\"/\"\n",
    "    with open(file_path+\"OLS.pkl\", \"rb\") as f:\n",
    "        rst_OLS = pickle.load(f)\n",
    "    with open(file_path+\"DDR.pkl\", \"rb\") as f:\n",
    "        rst_DDR = pickle.load(f)\n",
    "    with open(file_path+\"oracle.pkl\", \"rb\") as f:\n",
    "        rst_orcale = pickle.load(f)\n",
    "    cost_OLS[i] = np.mean(rst_OLS['cost'])\n",
    "    cost_DDR[i] = np.mean(rst_DDR['cost'])\n",
    "    cost_orcale[i] = np.mean(rst_orcale['cost'])"
   ]
  },
  {
   "cell_type": "code",
   "execution_count": 21,
   "metadata": {},
   "outputs": [
    {
     "data": {
      "text/plain": [
       "np.float64(-0.011320393776651045)"
      ]
     },
     "execution_count": 21,
     "metadata": {},
     "output_type": "execute_result"
    }
   ],
   "source": [
    "np.mean((cost_DDR - cost_OLS)/(cost_OLS-cost_orcale))"
   ]
  }
 ],
 "metadata": {
  "kernelspec": {
   "display_name": ".venv",
   "language": "python",
   "name": "python3"
  },
  "language_info": {
   "codemirror_mode": {
    "name": "ipython",
    "version": 3
   },
   "file_extension": ".py",
   "mimetype": "text/x-python",
   "name": "python",
   "nbconvert_exporter": "python",
   "pygments_lexer": "ipython3",
   "version": "3.9.6"
  }
 },
 "nbformat": 4,
 "nbformat_minor": 2
}
