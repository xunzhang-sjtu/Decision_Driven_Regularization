{
 "cells": [
  {
   "cell_type": "code",
   "execution_count": 1,
   "metadata": {},
   "outputs": [],
   "source": [
    "import random\n",
    "import numpy as np\n",
    "import torch\n",
    "import os\n",
    "import pathlib\n",
    "import pickle\n",
    "from gurobipy import *\n",
    "from rsome import ro\n",
    "from rsome import grb_solver as grb\n",
    "import rsome as rso\n",
    "from rsome import cpt_solver as cpt\n",
    "import pandas as pd\n",
    "torch.manual_seed(42)\n",
    "torch.cuda.manual_seed(42)\n",
    "\n",
    "from Performance import performance_evaluation\n",
    "perfs = performance_evaluation()"
   ]
  },
  {
   "cell_type": "code",
   "execution_count": 2,
   "metadata": {},
   "outputs": [],
   "source": [
    "def Prepare_Data(DataPath,lower, upper, p, d, coef_seed,iteration_all,num_test, num_train, alpha,mis,data_generation_process,x_dist, e_dist, x_low, x_up, x_mean, x_var, bump):\n",
    "# #  ****** Coef generation *********\n",
    "    from Data import data_generation\n",
    "    data_gen = data_generation()\n",
    "    # W_star = data_gen.generate_truth(DataPath,lower, upper, p, d, coef_seed,data_generation_process) \n",
    "    # print(\"W_star = \",W_star[0,:])\n",
    "    np.random.seed(coef_seed)\n",
    "    x_test_all = {}; c_test_all = {}; x_train_all = {}; c_train_all = {}; W_star_all = {}; noise_train_all = {}; noise_test_all = {}\n",
    "    for iter in iteration_all:\n",
    "        DataPath_iter = DataPath +\"iter=\"+str(iter)+\"/\"\n",
    "        pathlib.Path(DataPath_iter).mkdir(parents=True, exist_ok=True)\n",
    "        W_star = data_gen.generate_truth(DataPath_iter,lower, upper, p, d, iter,data_generation_process) \n",
    "        # #  ****** Data generation *********\n",
    "        x_test_all[iter], c_test_all[iter], x_train_all[iter], c_train_all[iter], noise_train_all[iter],noise_test_all[iter],W_star_all[iter] = data_gen.generate_samples(iter,DataPath_iter,p, d, num_test, num_train, alpha, W_star, mis, num_test, \n",
    "                                data_generation_process, x_dist, e_dist, x_low, x_up, x_mean, x_var, bump) \n",
    "        # print()\n",
    "    return x_test_all, c_test_all, x_train_all, c_train_all, noise_train_all,noise_test_all,W_star_all"
   ]
  },
  {
   "cell_type": "code",
   "execution_count": 3,
   "metadata": {},
   "outputs": [],
   "source": [
    "def Implement_Oracle(arcs, grid,mis,bump,W_star_all,x_test_all,noise_test_all,iteration_all,num_feat,data_generation_process):\n",
    "    cost_Oracle_with_noise_all = {}; cost_Oracle_wo_noise_all = {}\n",
    "    for iter in iteration_all:\n",
    "        if data_generation_process == \"SPO_Data_Generation\":\n",
    "            cost_oracle_ori = (W_star_all[iter] @ x_test_all[iter].T)/np.sqrt(num_feat) + 3\n",
    "            cost_oracle_pred = (cost_oracle_ori ** mis + 1).T\n",
    "            cost_Oracle_with_noise_all[iter] = perfs.compute_SPO_out_of_sample_Cost(arcs, grid,cost_oracle_pred,cost_oracle_pred,noise_test_all[iter])\n",
    "            # print(\"Oracle: iter=\",iter,\",cost_Oracle_with_noise_all=\",np.nanmean(cost_Oracle_with_noise_all[iter]))\n",
    "\n",
    "        if data_generation_process == \"DDR_Data_Generation\":\n",
    "            cost_oracle_ori = (W_star_all[iter] @ x_test_all[iter].T) + bump\n",
    "            cost_oracle_pred = (cost_oracle_ori ** mis).T\n",
    "            cost_Oracle_with_noise_all[iter] = perfs.compute_DDR_out_of_sample_Cost(arcs, grid,cost_oracle_pred,cost_oracle_pred,noise_test_all[iter],True)\n",
    "            cost_Oracle_wo_noise_all[iter] = perfs.compute_DDR_out_of_sample_Cost(arcs, grid,cost_oracle_pred,cost_oracle_pred,noise_test_all[iter],False)\n",
    "        if iter % 10 == 0 and iter >= 0:\n",
    "            print(\"Oracle: iter=\",iter,\",cost_Oracle_with_noise_all=\",np.nanmean(cost_Oracle_with_noise_all[iter]))\n",
    "\n",
    "            # print(\"Oracle: iter=\",iter,\",cost_Oracle_with_noise_all=\",np.nanmean(cost_Oracle_with_noise_all[iter]),\",cost_Oracle_wo_noise_all=\",np.nanmean(cost_Oracle_wo_noise_all[iter]))\n",
    "    return cost_Oracle_with_noise_all,cost_Oracle_wo_noise_all"
   ]
  },
  {
   "cell_type": "code",
   "execution_count": 4,
   "metadata": {},
   "outputs": [],
   "source": [
    "def Implement_OLS(arcs, grid,mis,bump,W_star_all,x_test_all,noise_test_all,x_train_all,c_train_all,iteration_all,num_feat,data_generation_process):\n",
    "    from OLS import ols_method\n",
    "    ols_method_obj = ols_method()\n",
    "    W_ols_all = {}; w0_ols_all = {}; t_ols_all = {}; obj_ols_all = {}\n",
    "    cost_OLS_with_noise_all = {}; cost_OLS_wo_noise_all = {}\n",
    "    for iter in iteration_all:\n",
    "        # compute OLS performance\n",
    "        W_ols_all[iter], w0_ols_all[iter], t_ols_all[iter], obj_ols_all[iter] = ols_method_obj.ols_solver(\"\",x_train_all[iter], c_train_all[iter])\n",
    "        cost_dem = (W_ols_all[iter] @ x_test_all[iter].T).T + w0_ols_all[iter]\n",
    "\n",
    "        if data_generation_process == \"SPO_Data_Generation\":\n",
    "            cost_oracle_ori = (W_star_all[iter] @ x_test_all[iter].T)/np.sqrt(num_feat) + 3\n",
    "            cost_oracle_pred = (cost_oracle_ori ** mis + 1).T\n",
    "            cost_OLS_with_noise_all[iter] = perfs.compute_SPO_out_of_sample_Cost(arcs, grid,cost_dem,cost_oracle_pred,noise_test_all[iter])\n",
    "\n",
    "        if data_generation_process == \"DDR_Data_Generation\":\n",
    "            cost_oracle_ori = (W_star_all[iter] @ x_test_all[iter].T) + bump\n",
    "            cost_oracle_pred = (cost_oracle_ori ** mis).T\n",
    "            cost_OLS_with_noise_all[iter] = perfs.compute_DDR_out_of_sample_Cost(arcs, grid,cost_dem,cost_oracle_pred,noise_test_all[iter],True)\n",
    "            cost_OLS_wo_noise_all[iter] = perfs.compute_DDR_out_of_sample_Cost(arcs, grid,cost_dem,cost_oracle_pred,noise_test_all[iter],False)\n",
    "        if iter % 10 == 0 and iter >= 0:\n",
    "            print(\"OLS: iter=\",iter,\",cost_OLS_with_noise_all =\",np.nanmean(cost_OLS_with_noise_all[iter]))\n",
    "    return cost_OLS_with_noise_all,cost_OLS_wo_noise_all"
   ]
  },
  {
   "cell_type": "code",
   "execution_count": 5,
   "metadata": {},
   "outputs": [],
   "source": [
    "def Implement_DDR(mu_all,lamb_all,arcs, grid,mis,bump,W_star_all,x_test_all,noise_test_all,x_train_all,c_train_all,iteration_all,num_feat,data_generation_process):\n",
    "    from DDR import DDR_method\n",
    "    ddr_object = DDR_method()\n",
    "    num_nodes = grid[0] * grid[0]\n",
    "\n",
    "    w0_ddr_dict = {}; W_ddr_dict = {}\n",
    "    cost_DDR_with_noise_all = {}; cost_DDR_wo_noise_all = {}\n",
    "    for iter in iteration_all:\n",
    "        for mu in mu_all:\n",
    "            for lamb in lamb_all:\n",
    "                w0_ddr_dict[iter,mu,lamb],W_ddr_dict[iter,mu,lamb],alpha_rst,obj_ddr = ddr_object.solve_DDR(arcs,lamb,mu,num_nodes,x_train_all[iter],c_train_all[iter])\n",
    "                cost_pred = (W_ddr_dict[iter,mu,lamb] @ x_test_all[iter].T).T + w0_ddr_dict[iter,mu,lamb]\n",
    "\n",
    "                if data_generation_process == \"SPO_Data_Generation\":\n",
    "                    cost_oracle_ori = (W_star_all[iter] @ x_test_all[iter].T)/np.sqrt(num_feat) + 3\n",
    "                    cost_oracle_pred = (cost_oracle_ori ** mis + 1).T\n",
    "                    cost_DDR_with_noise_all[iter,mu,lamb] = perfs.compute_SPO_out_of_sample_Cost(arcs, grid,cost_pred,cost_oracle_pred,noise_test_all[iter])\n",
    "\n",
    "                if data_generation_process == \"DDR_Data_Generation\":\n",
    "                    cost_oracle_ori = (W_star_all[iter] @ x_test_all[iter].T) + bump\n",
    "                    cost_oracle_pred = (cost_oracle_ori ** mis).T\n",
    "                    # cost_DDR_with_noise_all[iter,mu,lamb] = perfs.compute_DDR_out_of_sample_Cost(arcs, grid,cost_pred,cost_oracle_pred,noise_test_all[iter],True)\n",
    "                    cost_DDR_wo_noise_all[iter,mu,lamb] = perfs.compute_DDR_out_of_sample_Cost(arcs, grid,cost_pred,cost_oracle_pred,noise_test_all[iter],False)\n",
    "        if iter % 10 == 0 and iter >= 0:\n",
    "            print(\"DDR: iter=\",iter,\",mu=\",mu,\",lamb=\",lamb,\",cost_DDR_with_noise_all =\",np.nanmean(cost_DDR_with_noise_all[iter,mu,lamb]))\n",
    "\n",
    "    return cost_DDR_with_noise_all,cost_DDR_wo_noise_all"
   ]
  },
  {
   "cell_type": "code",
   "execution_count": 6,
   "metadata": {},
   "outputs": [],
   "source": [
    "def Implement_EPO(DataPath,iteration_all,batch_size,num_epochs,method_names,W_star_all,bump,x_train_all,c_train_all,x_test_all,noise_test_all,\\\n",
    "                  arcs,grid,epo_runner,perfs,num_feat,mis,data_generation_process):\n",
    "    W_EPO_all = {}; w0_EPO_all = {}\n",
    "    cost_EPO_wo_noise_all = {}; cost_EPO_with_noise_all = {}\n",
    "    for iter in iteration_all:\n",
    "        DataPath_seed = DataPath +\"iter=\"+str(iter)+\"/\"\n",
    "        pathlib.Path(DataPath_seed).mkdir(parents=True, exist_ok=True)\n",
    "        W_EPO_all[iter],w0_EPO_all[iter] = epo_runner.run(method_names,DataPath_seed,batch_size,num_feat,grid,num_epochs,\\\n",
    "                                        x_train_all[iter],c_train_all[iter],arcs)\n",
    "        \n",
    "        cost_pred = (W_EPO_all[iter] @ x_test_all[iter].T).T + w0_EPO_all[iter]\n",
    "        if data_generation_process == \"SPO_Data_Generation\":\n",
    "            cost_oracle_ori = (W_star_all[iter] @ x_test_all[iter].T)/np.sqrt(num_feat) + 3\n",
    "            non_negative_cols = (cost_oracle_ori > 0).all(axis=0)\n",
    "            cost_oracle_ori = cost_oracle_ori[:,non_negative_cols]\n",
    "            cost_oracle_pred = (cost_oracle_ori ** mis + 1).T\n",
    "            \n",
    "            cost_pred = cost_pred[non_negative_cols,:]\n",
    "            cost_EPO_with_noise_all[iter] = perfs.compute_SPO_out_of_sample_Cost(arcs, grid,cost_pred,cost_oracle_pred,noise_test_all[iter])\n",
    "\n",
    "        if data_generation_process == \"DDR_Data_Generation\":\n",
    "            cost_oracle_ori = (W_star_all[iter] @ x_test_all[iter].T) + bump\n",
    "            cost_oracle_pred = (cost_oracle_ori ** mis).T\n",
    "            cost_EPO_wo_noise_all[iter] = perfs.compute_DDR_out_of_sample_Cost(arcs, grid,cost_pred,cost_oracle_pred,noise_test_all[iter],False)\n",
    "            cost_EPO_with_noise_all[iter] = perfs.compute_DDR_out_of_sample_Cost(arcs, grid,cost_pred,cost_oracle_pred,noise_test_all[iter],True)\n",
    "\n",
    "        print(method_names[0],\": iter=\",iter,\",cost=\",np.nanmean(cost_EPO_with_noise_all[iter]))\n",
    "\n",
    "    return cost_EPO_with_noise_all,cost_EPO_wo_noise_all"
   ]
  },
  {
   "cell_type": "markdown",
   "metadata": {},
   "source": [
    "# Parameters"
   ]
  },
  {
   "cell_type": "code",
   "execution_count": 2,
   "metadata": {},
   "outputs": [],
   "source": [
    "# grid = (5,5) # grid size\n",
    "num_train = 100 # number of training data\n",
    "num_feat = 5 # size of feature\n",
    "num_test = 1000\n",
    "deg = 1.0 # polynomial degree\n",
    "e = 0.5 # scale of normal std or the range of uniform. For the error term\n",
    "\n",
    "lower = 0 # coef lower bound\n",
    "upper = 1 # coef upper bound\n",
    "p = num_feat # num of features\n",
    "# d = (grid[0] - 1) * (grid[0] - 1) * 2 + 2 * (grid[0] - 1) # num of arcs\n",
    "# num_nodes = grid[0]*grid[0]\n",
    "alpha = e # scale of normal std or the range of uniform. For the error term\n",
    "mis = deg # model misspecification\n",
    "coef_seed = 1\n",
    "\n",
    "x_dist = 'uniform'\n",
    "e_dist = 'normal'\n",
    "x_low = -2\n",
    "x_up = 2\n",
    "x_mean = 2\n",
    "x_var = 2\n",
    "bump = 100\n",
    "\n",
    "data_generation_process = \"SPO_Data_Generation\"\n",
    "# data_generation_process = \"DDR_Data_Generation\"\n",
    "\n",
    "current_directory = os.getcwd()\n",
    "parent_directory = os.path.dirname(current_directory)\n",
    "grandparent_directory = os.path.dirname(parent_directory)"
   ]
  },
  {
   "cell_type": "markdown",
   "metadata": {},
   "source": [
    "#### Data Generation"
   ]
  },
  {
   "cell_type": "code",
   "execution_count": 8,
   "metadata": {},
   "outputs": [
    {
     "name": "stdout",
     "output_type": "stream",
     "text": [
      "DataPath_parent: /Users/zhangxun/Dropbox/Research/Decision_Driven_Regularization/Data/Shortest_Path_Reproduce/Network_all/2by2_grid_SPO_Data_Generation_S=100/\n",
      "DataPath_parent: /Users/zhangxun/Dropbox/Research/Decision_Driven_Regularization/Data/Shortest_Path_Reproduce/Network_all/3by3_grid_SPO_Data_Generation_S=100/\n",
      "DataPath_parent: /Users/zhangxun/Dropbox/Research/Decision_Driven_Regularization/Data/Shortest_Path_Reproduce/Network_all/4by4_grid_SPO_Data_Generation_S=100/\n",
      "DataPath_parent: /Users/zhangxun/Dropbox/Research/Decision_Driven_Regularization/Data/Shortest_Path_Reproduce/Network_all/5by5_grid_SPO_Data_Generation_S=100/\n"
     ]
    }
   ],
   "source": [
    "grid_all = [(2,2),(3,3),(4,4),(5,5)]\n",
    "middle_path = '/Data/Shortest_Path_Reproduce/Network_all/'\n",
    "x_test_all = {}; c_test_all = {}; x_train_all = {}; c_train_all = {}; noise_train_all = {}; noise_test_all = {}; W_star_all = {}\n",
    "iteration_all = np.arange(0,100)\n",
    "for grid in grid_all:\n",
    "    d = (grid[0] - 1) * (grid[0] - 1) * 2 + 2 * (grid[0] - 1) # num of arcs\n",
    "    num_nodes = grid[0]*grid[0]\n",
    "    DataPath_parent = os.path.dirname(grandparent_directory) + middle_path +str(grid[0])+'by'+str(grid[1])+'_grid_' + data_generation_process + \"_S=100/\"\n",
    "    pathlib.Path(DataPath_parent).mkdir(parents=True, exist_ok=True)\n",
    "    print(\"DataPath_parent:\", DataPath_parent)\n",
    "    DataPath = DataPath_parent + \"data_size=\"+str(num_train)+\"_deg=\"+str(deg)+\"_e=\"+str(e)+\"_d=\"+str(d)+\"_x_dist=\"+x_dist+\"_num_test=\"+str(num_test)+\"_diff_W/\"\n",
    "    pathlib.Path(DataPath).mkdir(parents=True, exist_ok=True)\n",
    "    x_test_all[grid[0]], c_test_all[grid[0]], x_train_all[grid[0]], c_train_all[grid[0]],noise_train_all[grid[0]],noise_test_all[grid[0]],W_star_all[grid[0]] \\\n",
    "    = Prepare_Data(DataPath,lower, upper, p, d, coef_seed,iteration_all,num_test, num_train, alpha,mis,data_generation_process,x_dist, e_dist, x_low, x_up, x_mean, x_var, bump)\n",
    "\n",
    "    with open(DataPath+'x_test_all.pkl', \"wb\") as tf:\n",
    "        pickle.dump(x_test_all[grid[0]],tf)\n",
    "    with open(DataPath+'c_test_all.pkl', \"wb\") as tf:\n",
    "        pickle.dump(c_test_all[grid[0]],tf)\n",
    "    with open(DataPath+'x_train_all.pkl', \"wb\") as tf:\n",
    "        pickle.dump(x_train_all[grid[0]],tf)\n",
    "    with open(DataPath+'c_train_all.pkl', \"wb\") as tf:\n",
    "        pickle.dump(c_train_all[grid[0]],tf)\n",
    "    with open(DataPath+'noise_train_all.pkl', \"wb\") as tf:\n",
    "        pickle.dump(noise_test_all[grid[0]],tf)\n",
    "    with open(DataPath+'noise_train_all.pkl', \"wb\") as tf:\n",
    "        pickle.dump(noise_test_all[grid[0]],tf)\n",
    "    with open(DataPath+'W_star_all.pkl', \"wb\") as tf:\n",
    "        pickle.dump(W_star_all[grid[0]],tf)"
   ]
  },
  {
   "cell_type": "markdown",
   "metadata": {},
   "source": [
    "### Oracle"
   ]
  },
  {
   "cell_type": "code",
   "execution_count": 9,
   "metadata": {},
   "outputs": [
    {
     "name": "stdout",
     "output_type": "stream",
     "text": [
      "Set parameter Username\n",
      "Academic license - for non-commercial use only - expires 2026-04-14\n",
      "Oracle: iter= 0 ,cost_Oracle_with_noise_all= 7.518113970776958\n",
      "Oracle: iter= 10 ,cost_Oracle_with_noise_all= 7.714351381287567\n",
      "Oracle: iter= 20 ,cost_Oracle_with_noise_all= 7.657783242002904\n",
      "Oracle: iter= 30 ,cost_Oracle_with_noise_all= 7.599347831334145\n",
      "Oracle: iter= 40 ,cost_Oracle_with_noise_all= 7.787269966292056\n",
      "Oracle: iter= 50 ,cost_Oracle_with_noise_all= 7.451293271575745\n",
      "Oracle: iter= 60 ,cost_Oracle_with_noise_all= 7.749552907108204\n",
      "Oracle: iter= 70 ,cost_Oracle_with_noise_all= 7.661290587501351\n",
      "Oracle: iter= 80 ,cost_Oracle_with_noise_all= 7.599788287866947\n",
      "Oracle: iter= 90 ,cost_Oracle_with_noise_all= 7.626130662932813\n",
      "Oracle: iter= 0 ,cost_Oracle_with_noise_all= 15.000977310409718\n",
      "Oracle: iter= 10 ,cost_Oracle_with_noise_all= 14.734942034360087\n",
      "Oracle: iter= 20 ,cost_Oracle_with_noise_all= 15.147329996892488\n",
      "Oracle: iter= 30 ,cost_Oracle_with_noise_all= 14.854494267475612\n",
      "Oracle: iter= 40 ,cost_Oracle_with_noise_all= 14.637498027800738\n",
      "Oracle: iter= 50 ,cost_Oracle_with_noise_all= 15.0941505546989\n",
      "Oracle: iter= 60 ,cost_Oracle_with_noise_all= 15.0359941202134\n",
      "Oracle: iter= 70 ,cost_Oracle_with_noise_all= 14.712706262202746\n",
      "Oracle: iter= 80 ,cost_Oracle_with_noise_all= 14.871087515552972\n",
      "Oracle: iter= 90 ,cost_Oracle_with_noise_all= 14.835350861457085\n",
      "Oracle: iter= 0 ,cost_Oracle_with_noise_all= 22.15416311678521\n",
      "Oracle: iter= 10 ,cost_Oracle_with_noise_all= 22.192817100034087\n",
      "Oracle: iter= 20 ,cost_Oracle_with_noise_all= 22.203255502492418\n",
      "Oracle: iter= 30 ,cost_Oracle_with_noise_all= 22.39990243134123\n",
      "Oracle: iter= 40 ,cost_Oracle_with_noise_all= 22.274388081939584\n",
      "Oracle: iter= 50 ,cost_Oracle_with_noise_all= 22.452748579239348\n",
      "Oracle: iter= 60 ,cost_Oracle_with_noise_all= 22.316196508323983\n",
      "Oracle: iter= 70 ,cost_Oracle_with_noise_all= 22.08574933845985\n",
      "Oracle: iter= 80 ,cost_Oracle_with_noise_all= 22.142759682651025\n",
      "Oracle: iter= 90 ,cost_Oracle_with_noise_all= 22.442715631780978\n",
      "Oracle: iter= 0 ,cost_Oracle_with_noise_all= 29.3866090601035\n",
      "Oracle: iter= 10 ,cost_Oracle_with_noise_all= 29.314580959557848\n",
      "Oracle: iter= 20 ,cost_Oracle_with_noise_all= 29.477691153720873\n",
      "Oracle: iter= 30 ,cost_Oracle_with_noise_all= 29.51054495525926\n",
      "Oracle: iter= 40 ,cost_Oracle_with_noise_all= 29.9677596736168\n",
      "Oracle: iter= 50 ,cost_Oracle_with_noise_all= 29.343470355798846\n",
      "Oracle: iter= 60 ,cost_Oracle_with_noise_all= 29.673924033100285\n",
      "Oracle: iter= 70 ,cost_Oracle_with_noise_all= 29.897402793645437\n",
      "Oracle: iter= 80 ,cost_Oracle_with_noise_all= 29.4445010707317\n",
      "Oracle: iter= 90 ,cost_Oracle_with_noise_all= 29.478195276938\n"
     ]
    }
   ],
   "source": [
    "for grid in grid_all:\n",
    "    d = (grid[0] - 1) * (grid[0] - 1) * 2 + 2 * (grid[0] - 1) # num of arcs\n",
    "    num_nodes = grid[0]*grid[0]\n",
    "    DataPath_parent = os.path.dirname(grandparent_directory) + middle_path +str(grid[0])+'by'+str(grid[1])+'_grid_' + data_generation_process + \"_S=100/\"\n",
    "    DataPath = DataPath_parent + \"data_size=\"+str(num_train)+\"_deg=\"+str(deg)+\"_e=\"+str(e)+\"_d=\"+str(d)+\"_x_dist=\"+x_dist+\"_num_test=\"+str(num_test)+\"_diff_W/\"\n",
    "\n",
    "    from Network import network_design\n",
    "    Network = network_design()\n",
    "    arcs,arc_index_mapping = Network._getArcs(grid)\n",
    "    cost_Oracle_with_noise_all,cost_Oracle_wo_noise_all \\\n",
    "        = Implement_Oracle(arcs, grid,mis,bump,W_star_all[grid[0]],x_test_all[grid[0]],noise_test_all[grid[0]],iteration_all,num_feat,data_generation_process)\n",
    "    with open(DataPath+'cost_Oracle_with_noise_all.pkl', \"wb\") as tf:\n",
    "        pickle.dump(cost_Oracle_with_noise_all,tf)"
   ]
  },
  {
   "cell_type": "markdown",
   "metadata": {},
   "source": [
    "### OLS"
   ]
  },
  {
   "cell_type": "code",
   "execution_count": 10,
   "metadata": {},
   "outputs": [
    {
     "name": "stdout",
     "output_type": "stream",
     "text": [
      "OLS: iter= 0 ,cost_OLS_with_noise_all = 7.572913363495361\n",
      "OLS: iter= 10 ,cost_OLS_with_noise_all = 7.73359024637193\n",
      "OLS: iter= 20 ,cost_OLS_with_noise_all = 7.668219451633791\n",
      "OLS: iter= 30 ,cost_OLS_with_noise_all = 7.66757081630409\n",
      "OLS: iter= 40 ,cost_OLS_with_noise_all = 7.8642940597864985\n",
      "OLS: iter= 50 ,cost_OLS_with_noise_all = 7.500253720806246\n",
      "OLS: iter= 60 ,cost_OLS_with_noise_all = 7.81155404376656\n",
      "OLS: iter= 70 ,cost_OLS_with_noise_all = 7.817993292509578\n",
      "OLS: iter= 80 ,cost_OLS_with_noise_all = 7.6195403980723695\n",
      "OLS: iter= 90 ,cost_OLS_with_noise_all = 7.685580256506786\n",
      "OLS: iter= 0 ,cost_OLS_with_noise_all = 15.11246936115915\n",
      "OLS: iter= 10 ,cost_OLS_with_noise_all = 14.892850337386385\n",
      "OLS: iter= 20 ,cost_OLS_with_noise_all = 15.313933616637385\n",
      "OLS: iter= 30 ,cost_OLS_with_noise_all = 14.974973132592766\n",
      "OLS: iter= 40 ,cost_OLS_with_noise_all = 14.685791916456248\n",
      "OLS: iter= 50 ,cost_OLS_with_noise_all = 15.160166402869955\n",
      "OLS: iter= 60 ,cost_OLS_with_noise_all = 15.149522165894485\n",
      "OLS: iter= 70 ,cost_OLS_with_noise_all = 14.811919064016205\n",
      "OLS: iter= 80 ,cost_OLS_with_noise_all = 15.032634293917797\n",
      "OLS: iter= 90 ,cost_OLS_with_noise_all = 14.996318038045029\n",
      "OLS: iter= 0 ,cost_OLS_with_noise_all = 22.311321962488673\n",
      "OLS: iter= 10 ,cost_OLS_with_noise_all = 22.452985996533776\n",
      "OLS: iter= 20 ,cost_OLS_with_noise_all = 22.469914868788216\n",
      "OLS: iter= 30 ,cost_OLS_with_noise_all = 22.55010885691858\n",
      "OLS: iter= 40 ,cost_OLS_with_noise_all = 22.45990194547888\n",
      "OLS: iter= 50 ,cost_OLS_with_noise_all = 22.87402491436338\n",
      "OLS: iter= 60 ,cost_OLS_with_noise_all = 22.478098219934623\n",
      "OLS: iter= 70 ,cost_OLS_with_noise_all = 22.326007420558607\n",
      "OLS: iter= 80 ,cost_OLS_with_noise_all = 22.323853667045018\n",
      "OLS: iter= 90 ,cost_OLS_with_noise_all = 22.59509193442813\n",
      "OLS: iter= 0 ,cost_OLS_with_noise_all = 29.640419482695265\n",
      "OLS: iter= 10 ,cost_OLS_with_noise_all = 29.679088093401965\n",
      "OLS: iter= 20 ,cost_OLS_with_noise_all = 29.753776569887517\n",
      "OLS: iter= 30 ,cost_OLS_with_noise_all = 29.737612146801432\n",
      "OLS: iter= 40 ,cost_OLS_with_noise_all = 30.269029629341485\n",
      "OLS: iter= 50 ,cost_OLS_with_noise_all = 29.595770443675274\n",
      "OLS: iter= 60 ,cost_OLS_with_noise_all = 29.890047525489848\n",
      "OLS: iter= 70 ,cost_OLS_with_noise_all = 30.292426307233537\n",
      "OLS: iter= 80 ,cost_OLS_with_noise_all = 29.776666480830645\n",
      "OLS: iter= 90 ,cost_OLS_with_noise_all = 29.81085883658472\n"
     ]
    }
   ],
   "source": [
    "for grid in grid_all:\n",
    "    d = (grid[0] - 1) * (grid[0] - 1) * 2 + 2 * (grid[0] - 1) # num of arcs\n",
    "    num_nodes = grid[0]*grid[0]\n",
    "\n",
    "    DataPath_parent = os.path.dirname(grandparent_directory) + middle_path +str(grid[0])+'by'+str(grid[1])+'_grid_' + data_generation_process + \"_S=100/\"\n",
    "    DataPath = DataPath_parent + \"data_size=\"+str(num_train)+\"_deg=\"+str(deg)+\"_e=\"+str(e)+\"_d=\"+str(d)+\"_x_dist=\"+x_dist+\"_num_test=\"+str(num_test)+\"_diff_W/\"\n",
    "\n",
    "    from Network import network_design\n",
    "    Network = network_design()\n",
    "    arcs,arc_index_mapping = Network._getArcs(grid)\n",
    "    cost_OLS_with_noise_all,cost_OLS_wo_noise_all \\\n",
    "        = Implement_OLS(arcs, grid,mis,bump,W_star_all[grid[0]],x_test_all[grid[0]],noise_test_all[grid[0]],x_train_all[grid[0]],c_train_all[grid[0]],iteration_all,num_feat,data_generation_process)\n",
    "    with open(DataPath+'cost_OLS_with_noise_all.pkl', \"wb\") as tf:\n",
    "        pickle.dump(cost_OLS_with_noise_all,tf)"
   ]
  },
  {
   "cell_type": "markdown",
   "metadata": {},
   "source": [
    "### DDR"
   ]
  },
  {
   "cell_type": "code",
   "execution_count": 11,
   "metadata": {},
   "outputs": [
    {
     "name": "stdout",
     "output_type": "stream",
     "text": [
      "DDR: iter= 0 ,mu= 0.9 ,lamb= 0.9 ,cost_DDR_with_noise_all = 7.570879237548399\n",
      "DDR: iter= 10 ,mu= 0.9 ,lamb= 0.9 ,cost_DDR_with_noise_all = 7.733049244910601\n",
      "DDR: iter= 20 ,mu= 0.9 ,lamb= 0.9 ,cost_DDR_with_noise_all = 7.668782922600514\n",
      "DDR: iter= 30 ,mu= 0.9 ,lamb= 0.9 ,cost_DDR_with_noise_all = 7.666348504252206\n",
      "DDR: iter= 40 ,mu= 0.9 ,lamb= 0.9 ,cost_DDR_with_noise_all = 7.860506930015548\n",
      "DDR: iter= 50 ,mu= 0.9 ,lamb= 0.9 ,cost_DDR_with_noise_all = 7.49916150370262\n",
      "DDR: iter= 60 ,mu= 0.9 ,lamb= 0.9 ,cost_DDR_with_noise_all = 7.812285585977034\n",
      "DDR: iter= 70 ,mu= 0.9 ,lamb= 0.9 ,cost_DDR_with_noise_all = 7.821552273593068\n",
      "DDR: iter= 80 ,mu= 0.9 ,lamb= 0.9 ,cost_DDR_with_noise_all = 7.6197175913772925\n",
      "DDR: iter= 90 ,mu= 0.9 ,lamb= 0.9 ,cost_DDR_with_noise_all = 7.686569735658682\n",
      "DDR: iter= 0 ,mu= 0.9 ,lamb= 0.9 ,cost_DDR_with_noise_all = 15.110179774058114\n",
      "DDR: iter= 10 ,mu= 0.9 ,lamb= 0.9 ,cost_DDR_with_noise_all = 14.892542888570585\n",
      "DDR: iter= 20 ,mu= 0.9 ,lamb= 0.9 ,cost_DDR_with_noise_all = 15.311155306430225\n",
      "DDR: iter= 30 ,mu= 0.9 ,lamb= 0.9 ,cost_DDR_with_noise_all = 14.97303786350985\n",
      "DDR: iter= 40 ,mu= 0.9 ,lamb= 0.9 ,cost_DDR_with_noise_all = 14.687382270734481\n",
      "DDR: iter= 50 ,mu= 0.9 ,lamb= 0.9 ,cost_DDR_with_noise_all = 15.161610301895296\n",
      "DDR: iter= 60 ,mu= 0.9 ,lamb= 0.9 ,cost_DDR_with_noise_all = 15.151398972091368\n",
      "DDR: iter= 70 ,mu= 0.9 ,lamb= 0.9 ,cost_DDR_with_noise_all = 14.810862952009694\n",
      "DDR: iter= 80 ,mu= 0.9 ,lamb= 0.9 ,cost_DDR_with_noise_all = 15.032721472563058\n",
      "DDR: iter= 90 ,mu= 0.9 ,lamb= 0.9 ,cost_DDR_with_noise_all = 14.994877750575347\n",
      "DDR: iter= 0 ,mu= 0.9 ,lamb= 0.9 ,cost_DDR_with_noise_all = 22.311302816019698\n",
      "DDR: iter= 10 ,mu= 0.9 ,lamb= 0.9 ,cost_DDR_with_noise_all = 22.454692882384656\n",
      "DDR: iter= 20 ,mu= 0.9 ,lamb= 0.9 ,cost_DDR_with_noise_all = 22.47351790938768\n",
      "DDR: iter= 30 ,mu= 0.9 ,lamb= 0.9 ,cost_DDR_with_noise_all = 22.5480747607626\n",
      "DDR: iter= 40 ,mu= 0.9 ,lamb= 0.9 ,cost_DDR_with_noise_all = 22.458719734376142\n",
      "DDR: iter= 50 ,mu= 0.9 ,lamb= 0.9 ,cost_DDR_with_noise_all = 22.870146833490946\n",
      "DDR: iter= 60 ,mu= 0.9 ,lamb= 0.9 ,cost_DDR_with_noise_all = 22.477583906195562\n",
      "DDR: iter= 70 ,mu= 0.9 ,lamb= 0.9 ,cost_DDR_with_noise_all = 22.322432579352096\n",
      "DDR: iter= 80 ,mu= 0.9 ,lamb= 0.9 ,cost_DDR_with_noise_all = 22.32831413021474\n",
      "DDR: iter= 90 ,mu= 0.9 ,lamb= 0.9 ,cost_DDR_with_noise_all = 22.594104232917562\n",
      "DDR: iter= 0 ,mu= 0.9 ,lamb= 0.9 ,cost_DDR_with_noise_all = 29.640281535168054\n",
      "DDR: iter= 10 ,mu= 0.9 ,lamb= 0.9 ,cost_DDR_with_noise_all = 29.67115809059136\n",
      "DDR: iter= 20 ,mu= 0.9 ,lamb= 0.9 ,cost_DDR_with_noise_all = 29.756444699057045\n",
      "DDR: iter= 30 ,mu= 0.9 ,lamb= 0.9 ,cost_DDR_with_noise_all = 29.73683753317543\n",
      "DDR: iter= 40 ,mu= 0.9 ,lamb= 0.9 ,cost_DDR_with_noise_all = 30.27117205532961\n",
      "DDR: iter= 50 ,mu= 0.9 ,lamb= 0.9 ,cost_DDR_with_noise_all = 29.600843902882573\n",
      "DDR: iter= 60 ,mu= 0.9 ,lamb= 0.9 ,cost_DDR_with_noise_all = 29.88684086757512\n",
      "DDR: iter= 70 ,mu= 0.9 ,lamb= 0.9 ,cost_DDR_with_noise_all = 30.29056534398403\n",
      "DDR: iter= 80 ,mu= 0.9 ,lamb= 0.9 ,cost_DDR_with_noise_all = 29.76834174099611\n",
      "DDR: iter= 90 ,mu= 0.9 ,lamb= 0.9 ,cost_DDR_with_noise_all = 29.810983698085195\n"
     ]
    }
   ],
   "source": [
    "for grid in grid_all:\n",
    "    d = (grid[0] - 1) * (grid[0] - 1) * 2 + 2 * (grid[0] - 1) # num of arcs\n",
    "    num_nodes = grid[0]*grid[0]\n",
    "\n",
    "    DataPath_parent = os.path.dirname(grandparent_directory) + middle_path +str(grid[0])+'by'+str(grid[1])+'_grid_' + data_generation_process + \"_S=100/\"\n",
    "    DataPath = DataPath_parent + \"data_size=\"+str(num_train)+\"_deg=\"+str(deg)+\"_e=\"+str(e)+\"_d=\"+str(d)+\"_x_dist=\"+x_dist+\"_num_test=\"+str(num_test)+\"_diff_W/\"\n",
    "\n",
    "    from Network import network_design\n",
    "    Network = network_design()\n",
    "    arcs,arc_index_mapping = Network._getArcs(grid)\n",
    "    \n",
    "    mu_all = np.round(np.arange(0.1,1.0,0.1),4)\n",
    "    lamb_all = np.round(np.arange(0.0,1.0,0.1),4)\n",
    "    cost_DDR_with_noise_all,cost_DDR_wo_noise_all \\\n",
    "        = Implement_DDR(mu_all,lamb_all,arcs, grid,mis,\\\n",
    "                        bump,W_star_all[grid[0]],x_test_all[grid[0]],noise_test_all[grid[0]],x_train_all[grid[0]],c_train_all[grid[0]],\\\n",
    "                            iteration_all,num_feat,data_generation_process)\n",
    "    with open(DataPath+'cost_DDR_with_noise_all.pkl', \"wb\") as tf:\n",
    "        pickle.dump(cost_DDR_with_noise_all,tf)"
   ]
  },
  {
   "cell_type": "markdown",
   "metadata": {},
   "source": [
    "### EPO"
   ]
  },
  {
   "cell_type": "code",
   "execution_count": 12,
   "metadata": {},
   "outputs": [
    {
     "name": "stdout",
     "output_type": "stream",
     "text": [
      "Optimizing for optDataset...\n"
     ]
    },
    {
     "name": "stderr",
     "output_type": "stream",
     "text": [
      "100%|██████████| 100/100 [00:00<00:00, 8378.05it/s]\n"
     ]
    },
    {
     "name": "stdout",
     "output_type": "stream",
     "text": [
      "Num of cores: 2\n",
      "spo+ : iter= 0 ,cost= 7.780944010223618\n",
      "Optimizing for optDataset...\n"
     ]
    },
    {
     "name": "stderr",
     "output_type": "stream",
     "text": [
      "100%|██████████| 100/100 [00:00<00:00, 3939.68it/s]\n"
     ]
    },
    {
     "name": "stdout",
     "output_type": "stream",
     "text": [
      "Num of cores: 2\n",
      "spo+ : iter= 1 ,cost= 8.009010723630045\n",
      "Optimizing for optDataset...\n"
     ]
    },
    {
     "name": "stderr",
     "output_type": "stream",
     "text": [
      "100%|██████████| 100/100 [00:00<00:00, 3858.18it/s]\n"
     ]
    },
    {
     "name": "stdout",
     "output_type": "stream",
     "text": [
      "Num of cores: 2\n",
      "spo+ : iter= 2 ,cost= 7.9785164408696\n",
      "Optimizing for optDataset...\n"
     ]
    },
    {
     "name": "stderr",
     "output_type": "stream",
     "text": [
      "100%|██████████| 100/100 [00:00<00:00, 3730.53it/s]\n"
     ]
    },
    {
     "name": "stdout",
     "output_type": "stream",
     "text": [
      "Num of cores: 2\n",
      "spo+ : iter= 3 ,cost= 8.140531306471695\n",
      "Optimizing for optDataset...\n"
     ]
    },
    {
     "name": "stderr",
     "output_type": "stream",
     "text": [
      "100%|██████████| 100/100 [00:00<00:00, 3779.88it/s]\n"
     ]
    },
    {
     "name": "stdout",
     "output_type": "stream",
     "text": [
      "Num of cores: 2\n",
      "spo+ : iter= 4 ,cost= 8.157452108930372\n",
      "Optimizing for optDataset...\n"
     ]
    },
    {
     "name": "stderr",
     "output_type": "stream",
     "text": [
      "100%|██████████| 100/100 [00:00<00:00, 3832.02it/s]\n"
     ]
    },
    {
     "name": "stdout",
     "output_type": "stream",
     "text": [
      "Num of cores: 2\n",
      "spo+ : iter= 5 ,cost= 8.256205017146108\n",
      "Optimizing for optDataset...\n"
     ]
    },
    {
     "name": "stderr",
     "output_type": "stream",
     "text": [
      "100%|██████████| 100/100 [00:00<00:00, 3467.86it/s]\n"
     ]
    },
    {
     "name": "stdout",
     "output_type": "stream",
     "text": [
      "Num of cores: 2\n",
      "spo+ : iter= 6 ,cost= 8.343002095301642\n",
      "Optimizing for optDataset...\n"
     ]
    },
    {
     "name": "stderr",
     "output_type": "stream",
     "text": [
      "100%|██████████| 100/100 [00:00<00:00, 3779.71it/s]\n"
     ]
    },
    {
     "name": "stdout",
     "output_type": "stream",
     "text": [
      "Num of cores: 2\n",
      "spo+ : iter= 7 ,cost= 8.132648285667994\n",
      "Optimizing for optDataset...\n"
     ]
    },
    {
     "name": "stderr",
     "output_type": "stream",
     "text": [
      "100%|██████████| 100/100 [00:00<00:00, 3866.22it/s]\n"
     ]
    },
    {
     "name": "stdout",
     "output_type": "stream",
     "text": [
      "Num of cores: 2\n",
      "spo+ : iter= 8 ,cost= 8.11968107663187\n",
      "Optimizing for optDataset...\n"
     ]
    },
    {
     "name": "stderr",
     "output_type": "stream",
     "text": [
      "100%|██████████| 100/100 [00:00<00:00, 3603.23it/s]\n"
     ]
    },
    {
     "name": "stdout",
     "output_type": "stream",
     "text": [
      "Num of cores: 2\n",
      "spo+ : iter= 9 ,cost= 8.046313260917369\n",
      "Optimizing for optDataset...\n"
     ]
    },
    {
     "name": "stderr",
     "output_type": "stream",
     "text": [
      "100%|██████████| 100/100 [00:00<00:00, 4005.94it/s]\n"
     ]
    },
    {
     "name": "stdout",
     "output_type": "stream",
     "text": [
      "Num of cores: 2\n",
      "spo+ : iter= 10 ,cost= 7.788811356999034\n",
      "Optimizing for optDataset...\n"
     ]
    },
    {
     "name": "stderr",
     "output_type": "stream",
     "text": [
      "100%|██████████| 100/100 [00:00<00:00, 3976.59it/s]\n"
     ]
    },
    {
     "name": "stdout",
     "output_type": "stream",
     "text": [
      "Num of cores: 2\n",
      "spo+ : iter= 11 ,cost= 7.85067878422508\n",
      "Optimizing for optDataset...\n"
     ]
    },
    {
     "name": "stderr",
     "output_type": "stream",
     "text": [
      "100%|██████████| 100/100 [00:00<00:00, 3777.29it/s]\n"
     ]
    },
    {
     "name": "stdout",
     "output_type": "stream",
     "text": [
      "Num of cores: 2\n",
      "spo+ : iter= 12 ,cost= 8.182586958995936\n",
      "Optimizing for optDataset...\n"
     ]
    },
    {
     "name": "stderr",
     "output_type": "stream",
     "text": [
      "100%|██████████| 100/100 [00:00<00:00, 3750.64it/s]\n"
     ]
    },
    {
     "name": "stdout",
     "output_type": "stream",
     "text": [
      "Num of cores: 2\n",
      "spo+ : iter= 13 ,cost= 8.339787336409252\n",
      "Optimizing for optDataset...\n"
     ]
    },
    {
     "name": "stderr",
     "output_type": "stream",
     "text": [
      "100%|██████████| 100/100 [00:00<00:00, 3962.27it/s]\n"
     ]
    },
    {
     "name": "stdout",
     "output_type": "stream",
     "text": [
      "Num of cores: 2\n",
      "spo+ : iter= 14 ,cost= 7.902971816190651\n",
      "Optimizing for optDataset...\n"
     ]
    },
    {
     "name": "stderr",
     "output_type": "stream",
     "text": [
      "100%|██████████| 100/100 [00:00<00:00, 3953.83it/s]\n"
     ]
    },
    {
     "name": "stdout",
     "output_type": "stream",
     "text": [
      "Num of cores: 2\n",
      "spo+ : iter= 15 ,cost= 8.016878046401416\n",
      "Optimizing for optDataset...\n"
     ]
    },
    {
     "name": "stderr",
     "output_type": "stream",
     "text": [
      "100%|██████████| 100/100 [00:00<00:00, 4075.94it/s]\n"
     ]
    },
    {
     "name": "stdout",
     "output_type": "stream",
     "text": [
      "Num of cores: 2\n",
      "spo+ : iter= 16 ,cost= 8.003183157228612\n",
      "Optimizing for optDataset...\n"
     ]
    },
    {
     "name": "stderr",
     "output_type": "stream",
     "text": [
      "100%|██████████| 100/100 [00:00<00:00, 3575.86it/s]\n"
     ]
    },
    {
     "name": "stdout",
     "output_type": "stream",
     "text": [
      "Num of cores: 2\n",
      "spo+ : iter= 17 ,cost= 7.828885102517822\n",
      "Optimizing for optDataset...\n"
     ]
    },
    {
     "name": "stderr",
     "output_type": "stream",
     "text": [
      "100%|██████████| 100/100 [00:00<00:00, 3627.51it/s]\n"
     ]
    },
    {
     "name": "stdout",
     "output_type": "stream",
     "text": [
      "Num of cores: 2\n",
      "spo+ : iter= 18 ,cost= 7.886980144148956\n",
      "Optimizing for optDataset...\n"
     ]
    },
    {
     "name": "stderr",
     "output_type": "stream",
     "text": [
      "100%|██████████| 100/100 [00:00<00:00, 3691.10it/s]\n"
     ]
    },
    {
     "name": "stdout",
     "output_type": "stream",
     "text": [
      "Num of cores: 2\n",
      "spo+ : iter= 19 ,cost= 8.336445694932893\n",
      "Optimizing for optDataset...\n"
     ]
    },
    {
     "name": "stderr",
     "output_type": "stream",
     "text": [
      "100%|██████████| 100/100 [00:00<00:00, 3489.64it/s]\n"
     ]
    },
    {
     "name": "stdout",
     "output_type": "stream",
     "text": [
      "Num of cores: 2\n",
      "spo+ : iter= 20 ,cost= 8.064151803225316\n",
      "Optimizing for optDataset...\n"
     ]
    },
    {
     "name": "stderr",
     "output_type": "stream",
     "text": [
      "100%|██████████| 100/100 [00:00<00:00, 3630.55it/s]\n"
     ]
    },
    {
     "name": "stdout",
     "output_type": "stream",
     "text": [
      "Num of cores: 2\n",
      "spo+ : iter= 21 ,cost= 8.125697199033505\n",
      "Optimizing for optDataset...\n"
     ]
    },
    {
     "name": "stderr",
     "output_type": "stream",
     "text": [
      "100%|██████████| 100/100 [00:00<00:00, 3655.39it/s]\n"
     ]
    },
    {
     "name": "stdout",
     "output_type": "stream",
     "text": [
      "Num of cores: 2\n",
      "spo+ : iter= 22 ,cost= 7.813990968571867\n",
      "Optimizing for optDataset...\n"
     ]
    },
    {
     "name": "stderr",
     "output_type": "stream",
     "text": [
      "100%|██████████| 100/100 [00:00<00:00, 4050.71it/s]\n"
     ]
    },
    {
     "name": "stdout",
     "output_type": "stream",
     "text": [
      "Num of cores: 2\n",
      "spo+ : iter= 23 ,cost= 8.08567447479011\n",
      "Optimizing for optDataset...\n"
     ]
    },
    {
     "name": "stderr",
     "output_type": "stream",
     "text": [
      "100%|██████████| 100/100 [00:00<00:00, 3634.48it/s]\n"
     ]
    },
    {
     "name": "stdout",
     "output_type": "stream",
     "text": [
      "Num of cores: 2\n",
      "spo+ : iter= 24 ,cost= 7.997333127644348\n",
      "Optimizing for optDataset...\n"
     ]
    },
    {
     "name": "stderr",
     "output_type": "stream",
     "text": [
      "100%|██████████| 100/100 [00:00<00:00, 3433.00it/s]\n"
     ]
    },
    {
     "name": "stdout",
     "output_type": "stream",
     "text": [
      "Num of cores: 2\n",
      "spo+ : iter= 25 ,cost= 8.138614360910404\n",
      "Optimizing for optDataset...\n"
     ]
    },
    {
     "name": "stderr",
     "output_type": "stream",
     "text": [
      "100%|██████████| 100/100 [00:00<00:00, 3827.02it/s]\n"
     ]
    },
    {
     "name": "stdout",
     "output_type": "stream",
     "text": [
      "Num of cores: 2\n",
      "spo+ : iter= 26 ,cost= 7.970173002705755\n",
      "Optimizing for optDataset...\n"
     ]
    },
    {
     "name": "stderr",
     "output_type": "stream",
     "text": [
      "100%|██████████| 100/100 [00:00<00:00, 3324.70it/s]\n"
     ]
    },
    {
     "name": "stdout",
     "output_type": "stream",
     "text": [
      "Num of cores: 2\n",
      "spo+ : iter= 27 ,cost= 8.058343593056934\n",
      "Optimizing for optDataset...\n"
     ]
    },
    {
     "name": "stderr",
     "output_type": "stream",
     "text": [
      "100%|██████████| 100/100 [00:00<00:00, 3900.92it/s]\n"
     ]
    },
    {
     "name": "stdout",
     "output_type": "stream",
     "text": [
      "Num of cores: 2\n",
      "spo+ : iter= 28 ,cost= 7.8434790876675775\n",
      "Optimizing for optDataset...\n"
     ]
    },
    {
     "name": "stderr",
     "output_type": "stream",
     "text": [
      "100%|██████████| 100/100 [00:00<00:00, 3599.55it/s]\n"
     ]
    },
    {
     "name": "stdout",
     "output_type": "stream",
     "text": [
      "Num of cores: 2\n",
      "spo+ : iter= 29 ,cost= 8.134508244976123\n",
      "Optimizing for optDataset...\n"
     ]
    },
    {
     "name": "stderr",
     "output_type": "stream",
     "text": [
      "100%|██████████| 100/100 [00:00<00:00, 3636.09it/s]\n"
     ]
    },
    {
     "name": "stdout",
     "output_type": "stream",
     "text": [
      "Num of cores: 2\n",
      "spo+ : iter= 30 ,cost= 8.171286587612204\n",
      "Optimizing for optDataset...\n"
     ]
    },
    {
     "name": "stderr",
     "output_type": "stream",
     "text": [
      "100%|██████████| 100/100 [00:00<00:00, 3933.11it/s]\n"
     ]
    },
    {
     "name": "stdout",
     "output_type": "stream",
     "text": [
      "Num of cores: 2\n",
      "spo+ : iter= 31 ,cost= 8.072077122629539\n",
      "Optimizing for optDataset...\n"
     ]
    },
    {
     "name": "stderr",
     "output_type": "stream",
     "text": [
      "100%|██████████| 100/100 [00:00<00:00, 3822.18it/s]\n"
     ]
    },
    {
     "name": "stdout",
     "output_type": "stream",
     "text": [
      "Num of cores: 2\n",
      "spo+ : iter= 32 ,cost= 8.235841073531104\n",
      "Optimizing for optDataset...\n"
     ]
    },
    {
     "name": "stderr",
     "output_type": "stream",
     "text": [
      "100%|██████████| 100/100 [00:00<00:00, 4003.19it/s]\n"
     ]
    },
    {
     "name": "stdout",
     "output_type": "stream",
     "text": [
      "Num of cores: 2\n",
      "spo+ : iter= 33 ,cost= 7.74707849043608\n",
      "Optimizing for optDataset...\n"
     ]
    },
    {
     "name": "stderr",
     "output_type": "stream",
     "text": [
      "100%|██████████| 100/100 [00:00<00:00, 3691.39it/s]\n"
     ]
    },
    {
     "name": "stdout",
     "output_type": "stream",
     "text": [
      "Num of cores: 2\n",
      "spo+ : iter= 34 ,cost= 8.157701539614687\n",
      "Optimizing for optDataset...\n"
     ]
    },
    {
     "name": "stderr",
     "output_type": "stream",
     "text": [
      "100%|██████████| 100/100 [00:00<00:00, 3750.24it/s]\n"
     ]
    },
    {
     "name": "stdout",
     "output_type": "stream",
     "text": [
      "Num of cores: 2\n",
      "spo+ : iter= 35 ,cost= 7.933857537052346\n",
      "Optimizing for optDataset...\n"
     ]
    },
    {
     "name": "stderr",
     "output_type": "stream",
     "text": [
      "100%|██████████| 100/100 [00:00<00:00, 3736.51it/s]\n"
     ]
    },
    {
     "name": "stdout",
     "output_type": "stream",
     "text": [
      "Num of cores: 2\n",
      "spo+ : iter= 36 ,cost= 7.807027096204368\n",
      "Optimizing for optDataset...\n"
     ]
    },
    {
     "name": "stderr",
     "output_type": "stream",
     "text": [
      "100%|██████████| 100/100 [00:00<00:00, 3516.47it/s]\n"
     ]
    },
    {
     "name": "stdout",
     "output_type": "stream",
     "text": [
      "Num of cores: 2\n",
      "spo+ : iter= 37 ,cost= 8.035120854073758\n",
      "Optimizing for optDataset...\n"
     ]
    },
    {
     "name": "stderr",
     "output_type": "stream",
     "text": [
      "100%|██████████| 100/100 [00:00<00:00, 3836.58it/s]\n"
     ]
    },
    {
     "name": "stdout",
     "output_type": "stream",
     "text": [
      "Num of cores: 2\n",
      "spo+ : iter= 38 ,cost= 7.796860236458184\n",
      "Optimizing for optDataset...\n"
     ]
    },
    {
     "name": "stderr",
     "output_type": "stream",
     "text": [
      "100%|██████████| 100/100 [00:00<00:00, 3560.86it/s]\n"
     ]
    },
    {
     "name": "stdout",
     "output_type": "stream",
     "text": [
      "Num of cores: 2\n",
      "spo+ : iter= 39 ,cost= 8.248427229787602\n",
      "Optimizing for optDataset...\n"
     ]
    },
    {
     "name": "stderr",
     "output_type": "stream",
     "text": [
      "100%|██████████| 100/100 [00:00<00:00, 3684.06it/s]\n"
     ]
    },
    {
     "name": "stdout",
     "output_type": "stream",
     "text": [
      "Num of cores: 2\n",
      "spo+ : iter= 40 ,cost= 8.14989454470956\n",
      "Optimizing for optDataset...\n"
     ]
    },
    {
     "name": "stderr",
     "output_type": "stream",
     "text": [
      "100%|██████████| 100/100 [00:00<00:00, 3731.92it/s]\n"
     ]
    },
    {
     "name": "stdout",
     "output_type": "stream",
     "text": [
      "Num of cores: 2\n",
      "spo+ : iter= 41 ,cost= 7.748137637493105\n",
      "Optimizing for optDataset...\n"
     ]
    },
    {
     "name": "stderr",
     "output_type": "stream",
     "text": [
      "100%|██████████| 100/100 [00:00<00:00, 4044.14it/s]\n"
     ]
    },
    {
     "name": "stdout",
     "output_type": "stream",
     "text": [
      "Num of cores: 2\n",
      "spo+ : iter= 42 ,cost= 8.267254783431309\n",
      "Optimizing for optDataset...\n"
     ]
    },
    {
     "name": "stderr",
     "output_type": "stream",
     "text": [
      "100%|██████████| 100/100 [00:00<00:00, 3856.83it/s]\n"
     ]
    },
    {
     "name": "stdout",
     "output_type": "stream",
     "text": [
      "Num of cores: 2\n",
      "spo+ : iter= 43 ,cost= 8.468417219084325\n",
      "Optimizing for optDataset...\n"
     ]
    },
    {
     "name": "stderr",
     "output_type": "stream",
     "text": [
      "100%|██████████| 100/100 [00:00<00:00, 3759.25it/s]\n"
     ]
    },
    {
     "name": "stdout",
     "output_type": "stream",
     "text": [
      "Num of cores: 2\n",
      "spo+ : iter= 44 ,cost= 8.254596052016266\n",
      "Optimizing for optDataset...\n"
     ]
    },
    {
     "name": "stderr",
     "output_type": "stream",
     "text": [
      "100%|██████████| 100/100 [00:00<00:00, 3990.74it/s]\n"
     ]
    },
    {
     "name": "stdout",
     "output_type": "stream",
     "text": [
      "Num of cores: 2\n",
      "spo+ : iter= 45 ,cost= 8.118655860812247\n",
      "Optimizing for optDataset...\n"
     ]
    },
    {
     "name": "stderr",
     "output_type": "stream",
     "text": [
      "100%|██████████| 100/100 [00:00<00:00, 4079.78it/s]\n"
     ]
    },
    {
     "name": "stdout",
     "output_type": "stream",
     "text": [
      "Num of cores: 2\n",
      "spo+ : iter= 46 ,cost= 7.973172589025458\n",
      "Optimizing for optDataset...\n"
     ]
    },
    {
     "name": "stderr",
     "output_type": "stream",
     "text": [
      "100%|██████████| 100/100 [00:00<00:00, 3692.20it/s]\n"
     ]
    },
    {
     "name": "stdout",
     "output_type": "stream",
     "text": [
      "Num of cores: 2\n",
      "spo+ : iter= 47 ,cost= 7.948636235322654\n",
      "Optimizing for optDataset...\n"
     ]
    },
    {
     "name": "stderr",
     "output_type": "stream",
     "text": [
      "100%|██████████| 100/100 [00:00<00:00, 3875.50it/s]\n"
     ]
    },
    {
     "name": "stdout",
     "output_type": "stream",
     "text": [
      "Num of cores: 2\n",
      "spo+ : iter= 48 ,cost= 8.074804010897154\n",
      "Optimizing for optDataset...\n"
     ]
    },
    {
     "name": "stderr",
     "output_type": "stream",
     "text": [
      "100%|██████████| 100/100 [00:00<00:00, 4145.27it/s]\n"
     ]
    },
    {
     "name": "stdout",
     "output_type": "stream",
     "text": [
      "Num of cores: 2\n",
      "spo+ : iter= 49 ,cost= 8.16402514865089\n",
      "Optimizing for optDataset...\n"
     ]
    },
    {
     "name": "stderr",
     "output_type": "stream",
     "text": [
      "100%|██████████| 100/100 [00:00<00:00, 3634.52it/s]\n"
     ]
    },
    {
     "name": "stdout",
     "output_type": "stream",
     "text": [
      "Num of cores: 2\n",
      "spo+ : iter= 50 ,cost= 7.937537314107233\n",
      "Optimizing for optDataset...\n"
     ]
    },
    {
     "name": "stderr",
     "output_type": "stream",
     "text": [
      "100%|██████████| 100/100 [00:00<00:00, 3761.67it/s]\n"
     ]
    },
    {
     "name": "stdout",
     "output_type": "stream",
     "text": [
      "Num of cores: 2\n",
      "spo+ : iter= 51 ,cost= 8.03924520652904\n",
      "Optimizing for optDataset...\n"
     ]
    },
    {
     "name": "stderr",
     "output_type": "stream",
     "text": [
      "100%|██████████| 100/100 [00:00<00:00, 3950.96it/s]\n"
     ]
    },
    {
     "name": "stdout",
     "output_type": "stream",
     "text": [
      "Num of cores: 2\n",
      "spo+ : iter= 52 ,cost= 7.899445867315694\n",
      "Optimizing for optDataset...\n"
     ]
    },
    {
     "name": "stderr",
     "output_type": "stream",
     "text": [
      "100%|██████████| 100/100 [00:00<00:00, 3934.84it/s]\n"
     ]
    },
    {
     "name": "stdout",
     "output_type": "stream",
     "text": [
      "Num of cores: 2\n",
      "spo+ : iter= 53 ,cost= 7.803713558009135\n",
      "Optimizing for optDataset...\n"
     ]
    },
    {
     "name": "stderr",
     "output_type": "stream",
     "text": [
      "100%|██████████| 100/100 [00:00<00:00, 3732.75it/s]\n"
     ]
    },
    {
     "name": "stdout",
     "output_type": "stream",
     "text": [
      "Num of cores: 2\n",
      "spo+ : iter= 54 ,cost= 8.092939854997555\n",
      "Optimizing for optDataset...\n"
     ]
    },
    {
     "name": "stderr",
     "output_type": "stream",
     "text": [
      "100%|██████████| 100/100 [00:00<00:00, 3946.61it/s]\n"
     ]
    },
    {
     "name": "stdout",
     "output_type": "stream",
     "text": [
      "Num of cores: 2\n",
      "spo+ : iter= 55 ,cost= 8.0895057615501\n",
      "Optimizing for optDataset...\n"
     ]
    },
    {
     "name": "stderr",
     "output_type": "stream",
     "text": [
      "100%|██████████| 100/100 [00:00<00:00, 3579.61it/s]\n"
     ]
    },
    {
     "name": "stdout",
     "output_type": "stream",
     "text": [
      "Num of cores: 2\n",
      "spo+ : iter= 56 ,cost= 7.9096973889329165\n",
      "Optimizing for optDataset...\n"
     ]
    },
    {
     "name": "stderr",
     "output_type": "stream",
     "text": [
      "100%|██████████| 100/100 [00:00<00:00, 3982.32it/s]\n"
     ]
    },
    {
     "name": "stdout",
     "output_type": "stream",
     "text": [
      "Num of cores: 2\n",
      "spo+ : iter= 57 ,cost= 8.224768617251614\n",
      "Optimizing for optDataset...\n"
     ]
    },
    {
     "name": "stderr",
     "output_type": "stream",
     "text": [
      "100%|██████████| 100/100 [00:00<00:00, 3589.38it/s]\n"
     ]
    },
    {
     "name": "stdout",
     "output_type": "stream",
     "text": [
      "Num of cores: 2\n",
      "spo+ : iter= 58 ,cost= 7.940972370764428\n",
      "Optimizing for optDataset...\n"
     ]
    },
    {
     "name": "stderr",
     "output_type": "stream",
     "text": [
      "100%|██████████| 100/100 [00:00<00:00, 4059.72it/s]\n"
     ]
    },
    {
     "name": "stdout",
     "output_type": "stream",
     "text": [
      "Num of cores: 2\n",
      "spo+ : iter= 59 ,cost= 8.344486306713035\n",
      "Optimizing for optDataset...\n"
     ]
    },
    {
     "name": "stderr",
     "output_type": "stream",
     "text": [
      "100%|██████████| 100/100 [00:00<00:00, 4135.95it/s]\n"
     ]
    },
    {
     "name": "stdout",
     "output_type": "stream",
     "text": [
      "Num of cores: 2\n",
      "spo+ : iter= 60 ,cost= 7.8864438440016675\n",
      "Optimizing for optDataset...\n"
     ]
    },
    {
     "name": "stderr",
     "output_type": "stream",
     "text": [
      "100%|██████████| 100/100 [00:00<00:00, 3726.35it/s]\n"
     ]
    },
    {
     "name": "stdout",
     "output_type": "stream",
     "text": [
      "Num of cores: 2\n",
      "spo+ : iter= 61 ,cost= 7.666011247987775\n",
      "Optimizing for optDataset...\n"
     ]
    },
    {
     "name": "stderr",
     "output_type": "stream",
     "text": [
      "100%|██████████| 100/100 [00:00<00:00, 3644.69it/s]\n"
     ]
    },
    {
     "name": "stdout",
     "output_type": "stream",
     "text": [
      "Num of cores: 2\n",
      "spo+ : iter= 62 ,cost= 7.957185246500549\n",
      "Optimizing for optDataset...\n"
     ]
    },
    {
     "name": "stderr",
     "output_type": "stream",
     "text": [
      "100%|██████████| 100/100 [00:00<00:00, 3869.39it/s]\n"
     ]
    },
    {
     "name": "stdout",
     "output_type": "stream",
     "text": [
      "Num of cores: 2\n",
      "spo+ : iter= 63 ,cost= 7.8486172721984095\n",
      "Optimizing for optDataset...\n"
     ]
    },
    {
     "name": "stderr",
     "output_type": "stream",
     "text": [
      "100%|██████████| 100/100 [00:00<00:00, 3607.51it/s]\n"
     ]
    },
    {
     "name": "stdout",
     "output_type": "stream",
     "text": [
      "Num of cores: 2\n",
      "spo+ : iter= 64 ,cost= 8.20063749916971\n",
      "Optimizing for optDataset...\n"
     ]
    },
    {
     "name": "stderr",
     "output_type": "stream",
     "text": [
      "100%|██████████| 100/100 [00:00<00:00, 3745.32it/s]\n"
     ]
    },
    {
     "name": "stdout",
     "output_type": "stream",
     "text": [
      "Num of cores: 2\n",
      "spo+ : iter= 65 ,cost= 7.795784196872317\n",
      "Optimizing for optDataset...\n"
     ]
    },
    {
     "name": "stderr",
     "output_type": "stream",
     "text": [
      "100%|██████████| 100/100 [00:00<00:00, 3978.47it/s]\n"
     ]
    },
    {
     "name": "stdout",
     "output_type": "stream",
     "text": [
      "Num of cores: 2\n",
      "spo+ : iter= 66 ,cost= 7.875870869668345\n",
      "Optimizing for optDataset...\n"
     ]
    },
    {
     "name": "stderr",
     "output_type": "stream",
     "text": [
      "100%|██████████| 100/100 [00:00<00:00, 4072.65it/s]\n"
     ]
    },
    {
     "name": "stdout",
     "output_type": "stream",
     "text": [
      "Num of cores: 2\n",
      "spo+ : iter= 67 ,cost= 7.88952180987267\n",
      "Optimizing for optDataset...\n"
     ]
    },
    {
     "name": "stderr",
     "output_type": "stream",
     "text": [
      "100%|██████████| 100/100 [00:00<00:00, 3707.41it/s]\n"
     ]
    },
    {
     "name": "stdout",
     "output_type": "stream",
     "text": [
      "Num of cores: 2\n",
      "spo+ : iter= 68 ,cost= 7.790399634025855\n",
      "Optimizing for optDataset...\n"
     ]
    },
    {
     "name": "stderr",
     "output_type": "stream",
     "text": [
      "100%|██████████| 100/100 [00:00<00:00, 4085.47it/s]\n"
     ]
    },
    {
     "name": "stdout",
     "output_type": "stream",
     "text": [
      "Num of cores: 2\n",
      "spo+ : iter= 69 ,cost= 7.696266805443935\n",
      "Optimizing for optDataset...\n"
     ]
    },
    {
     "name": "stderr",
     "output_type": "stream",
     "text": [
      "100%|██████████| 100/100 [00:00<00:00, 4098.72it/s]\n"
     ]
    },
    {
     "name": "stdout",
     "output_type": "stream",
     "text": [
      "Num of cores: 2\n",
      "spo+ : iter= 70 ,cost= 7.81142875310971\n",
      "Optimizing for optDataset...\n"
     ]
    },
    {
     "name": "stderr",
     "output_type": "stream",
     "text": [
      "100%|██████████| 100/100 [00:00<00:00, 3965.42it/s]\n"
     ]
    },
    {
     "name": "stdout",
     "output_type": "stream",
     "text": [
      "Num of cores: 2\n",
      "spo+ : iter= 71 ,cost= 8.036550258179044\n",
      "Optimizing for optDataset...\n"
     ]
    },
    {
     "name": "stderr",
     "output_type": "stream",
     "text": [
      "100%|██████████| 100/100 [00:00<00:00, 3878.41it/s]\n"
     ]
    },
    {
     "name": "stdout",
     "output_type": "stream",
     "text": [
      "Num of cores: 2\n",
      "spo+ : iter= 72 ,cost= 8.277956317908238\n",
      "Optimizing for optDataset...\n"
     ]
    },
    {
     "name": "stderr",
     "output_type": "stream",
     "text": [
      "100%|██████████| 100/100 [00:00<00:00, 3875.36it/s]\n"
     ]
    },
    {
     "name": "stdout",
     "output_type": "stream",
     "text": [
      "Num of cores: 2\n",
      "spo+ : iter= 73 ,cost= 7.998003917400079\n",
      "Optimizing for optDataset...\n"
     ]
    },
    {
     "name": "stderr",
     "output_type": "stream",
     "text": [
      "100%|██████████| 100/100 [00:00<00:00, 3518.50it/s]\n"
     ]
    },
    {
     "name": "stdout",
     "output_type": "stream",
     "text": [
      "Num of cores: 2\n",
      "spo+ : iter= 74 ,cost= 8.036009739069083\n",
      "Optimizing for optDataset...\n"
     ]
    },
    {
     "name": "stderr",
     "output_type": "stream",
     "text": [
      "100%|██████████| 100/100 [00:00<00:00, 3749.50it/s]\n"
     ]
    },
    {
     "name": "stdout",
     "output_type": "stream",
     "text": [
      "Num of cores: 2\n",
      "spo+ : iter= 75 ,cost= 8.068341667306347\n",
      "Optimizing for optDataset...\n"
     ]
    },
    {
     "name": "stderr",
     "output_type": "stream",
     "text": [
      "100%|██████████| 100/100 [00:00<00:00, 3783.42it/s]\n"
     ]
    },
    {
     "name": "stdout",
     "output_type": "stream",
     "text": [
      "Num of cores: 2\n",
      "spo+ : iter= 76 ,cost= 8.105604512439308\n",
      "Optimizing for optDataset...\n"
     ]
    },
    {
     "name": "stderr",
     "output_type": "stream",
     "text": [
      "100%|██████████| 100/100 [00:00<00:00, 3774.91it/s]\n"
     ]
    },
    {
     "name": "stdout",
     "output_type": "stream",
     "text": [
      "Num of cores: 2\n",
      "spo+ : iter= 77 ,cost= 7.823376688547008\n",
      "Optimizing for optDataset...\n"
     ]
    },
    {
     "name": "stderr",
     "output_type": "stream",
     "text": [
      "100%|██████████| 100/100 [00:00<00:00, 3632.50it/s]\n"
     ]
    },
    {
     "name": "stdout",
     "output_type": "stream",
     "text": [
      "Num of cores: 2\n",
      "spo+ : iter= 78 ,cost= 8.001747637187957\n",
      "Optimizing for optDataset...\n"
     ]
    },
    {
     "name": "stderr",
     "output_type": "stream",
     "text": [
      "100%|██████████| 100/100 [00:00<00:00, 3942.27it/s]\n"
     ]
    },
    {
     "name": "stdout",
     "output_type": "stream",
     "text": [
      "Num of cores: 2\n",
      "spo+ : iter= 79 ,cost= 8.321786718522613\n",
      "Optimizing for optDataset...\n"
     ]
    },
    {
     "name": "stderr",
     "output_type": "stream",
     "text": [
      "100%|██████████| 100/100 [00:00<00:00, 3886.82it/s]\n"
     ]
    },
    {
     "name": "stdout",
     "output_type": "stream",
     "text": [
      "Num of cores: 2\n",
      "spo+ : iter= 80 ,cost= 8.128600596989255\n",
      "Optimizing for optDataset...\n"
     ]
    },
    {
     "name": "stderr",
     "output_type": "stream",
     "text": [
      "100%|██████████| 100/100 [00:00<00:00, 4141.99it/s]\n"
     ]
    },
    {
     "name": "stdout",
     "output_type": "stream",
     "text": [
      "Num of cores: 2\n",
      "spo+ : iter= 81 ,cost= 7.99699634529035\n",
      "Optimizing for optDataset...\n"
     ]
    },
    {
     "name": "stderr",
     "output_type": "stream",
     "text": [
      "100%|██████████| 100/100 [00:00<00:00, 3852.97it/s]\n"
     ]
    },
    {
     "name": "stdout",
     "output_type": "stream",
     "text": [
      "Num of cores: 2\n",
      "spo+ : iter= 82 ,cost= 7.868745975900422\n",
      "Optimizing for optDataset...\n"
     ]
    },
    {
     "name": "stderr",
     "output_type": "stream",
     "text": [
      "100%|██████████| 100/100 [00:00<00:00, 3933.44it/s]\n"
     ]
    },
    {
     "name": "stdout",
     "output_type": "stream",
     "text": [
      "Num of cores: 2\n",
      "spo+ : iter= 83 ,cost= 7.775799803490745\n",
      "Optimizing for optDataset...\n"
     ]
    },
    {
     "name": "stderr",
     "output_type": "stream",
     "text": [
      "100%|██████████| 100/100 [00:00<00:00, 4140.93it/s]\n"
     ]
    },
    {
     "name": "stdout",
     "output_type": "stream",
     "text": [
      "Num of cores: 2\n",
      "spo+ : iter= 84 ,cost= 8.020472439641255\n",
      "Optimizing for optDataset...\n"
     ]
    },
    {
     "name": "stderr",
     "output_type": "stream",
     "text": [
      "100%|██████████| 100/100 [00:00<00:00, 3648.33it/s]\n"
     ]
    },
    {
     "name": "stdout",
     "output_type": "stream",
     "text": [
      "Num of cores: 2\n",
      "spo+ : iter= 85 ,cost= 8.106206909940612\n",
      "Optimizing for optDataset...\n"
     ]
    },
    {
     "name": "stderr",
     "output_type": "stream",
     "text": [
      "100%|██████████| 100/100 [00:00<00:00, 3846.47it/s]\n"
     ]
    },
    {
     "name": "stdout",
     "output_type": "stream",
     "text": [
      "Num of cores: 2\n",
      "spo+ : iter= 86 ,cost= 7.939831557305908\n",
      "Optimizing for optDataset...\n"
     ]
    },
    {
     "name": "stderr",
     "output_type": "stream",
     "text": [
      "100%|██████████| 100/100 [00:00<00:00, 4157.63it/s]\n"
     ]
    },
    {
     "name": "stdout",
     "output_type": "stream",
     "text": [
      "Num of cores: 2\n",
      "spo+ : iter= 87 ,cost= 8.08227561881259\n",
      "Optimizing for optDataset...\n"
     ]
    },
    {
     "name": "stderr",
     "output_type": "stream",
     "text": [
      "100%|██████████| 100/100 [00:00<00:00, 3639.40it/s]\n"
     ]
    },
    {
     "name": "stdout",
     "output_type": "stream",
     "text": [
      "Num of cores: 2\n",
      "spo+ : iter= 88 ,cost= 7.850089492514224\n",
      "Optimizing for optDataset...\n"
     ]
    },
    {
     "name": "stderr",
     "output_type": "stream",
     "text": [
      "100%|██████████| 100/100 [00:00<00:00, 4000.33it/s]\n"
     ]
    },
    {
     "name": "stdout",
     "output_type": "stream",
     "text": [
      "Num of cores: 2\n",
      "spo+ : iter= 89 ,cost= 8.218793230223856\n",
      "Optimizing for optDataset...\n"
     ]
    },
    {
     "name": "stderr",
     "output_type": "stream",
     "text": [
      "100%|██████████| 100/100 [00:00<00:00, 3689.77it/s]\n"
     ]
    },
    {
     "name": "stdout",
     "output_type": "stream",
     "text": [
      "Num of cores: 2\n",
      "spo+ : iter= 90 ,cost= 8.33916020559604\n",
      "Optimizing for optDataset...\n"
     ]
    },
    {
     "name": "stderr",
     "output_type": "stream",
     "text": [
      "100%|██████████| 100/100 [00:00<00:00, 3786.02it/s]\n"
     ]
    },
    {
     "name": "stdout",
     "output_type": "stream",
     "text": [
      "Num of cores: 2\n",
      "spo+ : iter= 91 ,cost= 8.101405909681082\n",
      "Optimizing for optDataset...\n"
     ]
    },
    {
     "name": "stderr",
     "output_type": "stream",
     "text": [
      "100%|██████████| 100/100 [00:00<00:00, 3972.03it/s]\n"
     ]
    },
    {
     "name": "stdout",
     "output_type": "stream",
     "text": [
      "Num of cores: 2\n",
      "spo+ : iter= 92 ,cost= 8.022760860749738\n",
      "Optimizing for optDataset...\n"
     ]
    },
    {
     "name": "stderr",
     "output_type": "stream",
     "text": [
      "100%|██████████| 100/100 [00:00<00:00, 3953.98it/s]\n"
     ]
    },
    {
     "name": "stdout",
     "output_type": "stream",
     "text": [
      "Num of cores: 2\n",
      "spo+ : iter= 93 ,cost= 8.175238986422189\n",
      "Optimizing for optDataset...\n"
     ]
    },
    {
     "name": "stderr",
     "output_type": "stream",
     "text": [
      "100%|██████████| 100/100 [00:00<00:00, 4091.80it/s]\n"
     ]
    },
    {
     "name": "stdout",
     "output_type": "stream",
     "text": [
      "Num of cores: 2\n",
      "spo+ : iter= 94 ,cost= 7.719387337330372\n",
      "Optimizing for optDataset...\n"
     ]
    },
    {
     "name": "stderr",
     "output_type": "stream",
     "text": [
      "100%|██████████| 100/100 [00:00<00:00, 4295.11it/s]\n"
     ]
    },
    {
     "name": "stdout",
     "output_type": "stream",
     "text": [
      "Num of cores: 2\n",
      "spo+ : iter= 95 ,cost= 7.843897314276904\n",
      "Optimizing for optDataset...\n"
     ]
    },
    {
     "name": "stderr",
     "output_type": "stream",
     "text": [
      "100%|██████████| 100/100 [00:00<00:00, 3820.44it/s]\n"
     ]
    },
    {
     "name": "stdout",
     "output_type": "stream",
     "text": [
      "Num of cores: 2\n",
      "spo+ : iter= 96 ,cost= 7.893990280013146\n",
      "Optimizing for optDataset...\n"
     ]
    },
    {
     "name": "stderr",
     "output_type": "stream",
     "text": [
      "100%|██████████| 100/100 [00:00<00:00, 3691.13it/s]\n"
     ]
    },
    {
     "name": "stdout",
     "output_type": "stream",
     "text": [
      "Num of cores: 2\n",
      "spo+ : iter= 97 ,cost= 7.8667325333199605\n",
      "Optimizing for optDataset...\n"
     ]
    },
    {
     "name": "stderr",
     "output_type": "stream",
     "text": [
      "100%|██████████| 100/100 [00:00<00:00, 3671.61it/s]\n"
     ]
    },
    {
     "name": "stdout",
     "output_type": "stream",
     "text": [
      "Num of cores: 2\n",
      "spo+ : iter= 98 ,cost= 7.949778538593586\n",
      "Optimizing for optDataset...\n"
     ]
    },
    {
     "name": "stderr",
     "output_type": "stream",
     "text": [
      "100%|██████████| 100/100 [00:00<00:00, 3968.38it/s]\n"
     ]
    },
    {
     "name": "stdout",
     "output_type": "stream",
     "text": [
      "Num of cores: 2\n",
      "spo+ : iter= 99 ,cost= 7.905422680093449\n",
      "Optimizing for optDataset...\n"
     ]
    },
    {
     "name": "stderr",
     "output_type": "stream",
     "text": [
      "100%|██████████| 100/100 [00:00<00:00, 2321.16it/s]\n"
     ]
    },
    {
     "name": "stdout",
     "output_type": "stream",
     "text": [
      "Num of cores: 2\n",
      "spo+ : iter= 0 ,cost= 15.975522931044809\n",
      "Optimizing for optDataset...\n"
     ]
    },
    {
     "name": "stderr",
     "output_type": "stream",
     "text": [
      "100%|██████████| 100/100 [00:00<00:00, 2316.68it/s]\n"
     ]
    },
    {
     "name": "stdout",
     "output_type": "stream",
     "text": [
      "Num of cores: 2\n",
      "spo+ : iter= 1 ,cost= 16.31716134108101\n",
      "Optimizing for optDataset...\n"
     ]
    },
    {
     "name": "stderr",
     "output_type": "stream",
     "text": [
      "100%|██████████| 100/100 [00:00<00:00, 2198.66it/s]\n"
     ]
    },
    {
     "name": "stdout",
     "output_type": "stream",
     "text": [
      "Num of cores: 2\n",
      "spo+ : iter= 2 ,cost= 16.33341520266166\n",
      "Optimizing for optDataset...\n"
     ]
    },
    {
     "name": "stderr",
     "output_type": "stream",
     "text": [
      "100%|██████████| 100/100 [00:00<00:00, 2139.78it/s]\n"
     ]
    },
    {
     "name": "stdout",
     "output_type": "stream",
     "text": [
      "Num of cores: 2\n",
      "spo+ : iter= 3 ,cost= 16.038896753447318\n",
      "Optimizing for optDataset...\n"
     ]
    },
    {
     "name": "stderr",
     "output_type": "stream",
     "text": [
      "100%|██████████| 100/100 [00:00<00:00, 2371.69it/s]\n"
     ]
    },
    {
     "name": "stdout",
     "output_type": "stream",
     "text": [
      "Num of cores: 2\n",
      "spo+ : iter= 4 ,cost= 15.804793137506818\n",
      "Optimizing for optDataset...\n"
     ]
    },
    {
     "name": "stderr",
     "output_type": "stream",
     "text": [
      "100%|██████████| 100/100 [00:00<00:00, 2173.82it/s]\n"
     ]
    },
    {
     "name": "stdout",
     "output_type": "stream",
     "text": [
      "Num of cores: 2\n",
      "spo+ : iter= 5 ,cost= 15.973593578908996\n",
      "Optimizing for optDataset...\n"
     ]
    },
    {
     "name": "stderr",
     "output_type": "stream",
     "text": [
      "100%|██████████| 100/100 [00:00<00:00, 2291.01it/s]\n"
     ]
    },
    {
     "name": "stdout",
     "output_type": "stream",
     "text": [
      "Num of cores: 2\n",
      "spo+ : iter= 6 ,cost= 15.797603570094779\n",
      "Optimizing for optDataset...\n"
     ]
    },
    {
     "name": "stderr",
     "output_type": "stream",
     "text": [
      "100%|██████████| 100/100 [00:00<00:00, 2329.42it/s]\n"
     ]
    },
    {
     "name": "stdout",
     "output_type": "stream",
     "text": [
      "Num of cores: 2\n",
      "spo+ : iter= 7 ,cost= 15.560019845346158\n",
      "Optimizing for optDataset...\n"
     ]
    },
    {
     "name": "stderr",
     "output_type": "stream",
     "text": [
      "100%|██████████| 100/100 [00:00<00:00, 2220.01it/s]\n"
     ]
    },
    {
     "name": "stdout",
     "output_type": "stream",
     "text": [
      "Num of cores: 2\n",
      "spo+ : iter= 8 ,cost= 15.800668313030735\n",
      "Optimizing for optDataset...\n"
     ]
    },
    {
     "name": "stderr",
     "output_type": "stream",
     "text": [
      "100%|██████████| 100/100 [00:00<00:00, 2321.66it/s]\n"
     ]
    },
    {
     "name": "stdout",
     "output_type": "stream",
     "text": [
      "Num of cores: 2\n",
      "spo+ : iter= 9 ,cost= 15.884835582468238\n",
      "Optimizing for optDataset...\n"
     ]
    },
    {
     "name": "stderr",
     "output_type": "stream",
     "text": [
      "100%|██████████| 100/100 [00:00<00:00, 2167.35it/s]\n"
     ]
    },
    {
     "name": "stdout",
     "output_type": "stream",
     "text": [
      "Num of cores: 2\n",
      "spo+ : iter= 10 ,cost= 15.867685211182039\n",
      "Optimizing for optDataset...\n"
     ]
    },
    {
     "name": "stderr",
     "output_type": "stream",
     "text": [
      "100%|██████████| 100/100 [00:00<00:00, 2261.63it/s]\n"
     ]
    },
    {
     "name": "stdout",
     "output_type": "stream",
     "text": [
      "Num of cores: 2\n",
      "spo+ : iter= 11 ,cost= 16.06551837041192\n",
      "Optimizing for optDataset...\n"
     ]
    },
    {
     "name": "stderr",
     "output_type": "stream",
     "text": [
      "100%|██████████| 100/100 [00:00<00:00, 2346.36it/s]\n"
     ]
    },
    {
     "name": "stdout",
     "output_type": "stream",
     "text": [
      "Num of cores: 2\n",
      "spo+ : iter= 12 ,cost= 16.31300267946625\n",
      "Optimizing for optDataset...\n"
     ]
    },
    {
     "name": "stderr",
     "output_type": "stream",
     "text": [
      "100%|██████████| 100/100 [00:00<00:00, 2224.60it/s]\n"
     ]
    },
    {
     "name": "stdout",
     "output_type": "stream",
     "text": [
      "Num of cores: 2\n",
      "spo+ : iter= 13 ,cost= 15.583612990509023\n",
      "Optimizing for optDataset...\n"
     ]
    },
    {
     "name": "stderr",
     "output_type": "stream",
     "text": [
      "100%|██████████| 100/100 [00:00<00:00, 2309.63it/s]\n"
     ]
    },
    {
     "name": "stdout",
     "output_type": "stream",
     "text": [
      "Num of cores: 2\n",
      "spo+ : iter= 14 ,cost= 15.982261946521241\n",
      "Optimizing for optDataset...\n"
     ]
    },
    {
     "name": "stderr",
     "output_type": "stream",
     "text": [
      "100%|██████████| 100/100 [00:00<00:00, 2265.42it/s]\n"
     ]
    },
    {
     "name": "stdout",
     "output_type": "stream",
     "text": [
      "Num of cores: 2\n",
      "spo+ : iter= 15 ,cost= 16.330852587121708\n",
      "Optimizing for optDataset...\n"
     ]
    },
    {
     "name": "stderr",
     "output_type": "stream",
     "text": [
      "100%|██████████| 100/100 [00:00<00:00, 2347.26it/s]\n"
     ]
    },
    {
     "name": "stdout",
     "output_type": "stream",
     "text": [
      "Num of cores: 2\n",
      "spo+ : iter= 16 ,cost= 15.559930190410357\n",
      "Optimizing for optDataset...\n"
     ]
    },
    {
     "name": "stderr",
     "output_type": "stream",
     "text": [
      "100%|██████████| 100/100 [00:00<00:00, 2259.58it/s]\n"
     ]
    },
    {
     "name": "stdout",
     "output_type": "stream",
     "text": [
      "Num of cores: 2\n",
      "spo+ : iter= 17 ,cost= 15.582582065864008\n",
      "Optimizing for optDataset...\n"
     ]
    },
    {
     "name": "stderr",
     "output_type": "stream",
     "text": [
      "100%|██████████| 100/100 [00:00<00:00, 2342.64it/s]\n"
     ]
    },
    {
     "name": "stdout",
     "output_type": "stream",
     "text": [
      "Num of cores: 2\n",
      "spo+ : iter= 18 ,cost= 15.379654377982309\n",
      "Optimizing for optDataset...\n"
     ]
    },
    {
     "name": "stderr",
     "output_type": "stream",
     "text": [
      "100%|██████████| 100/100 [00:00<00:00, 2436.65it/s]\n"
     ]
    },
    {
     "name": "stdout",
     "output_type": "stream",
     "text": [
      "Num of cores: 2\n",
      "spo+ : iter= 19 ,cost= 15.64982987220326\n",
      "Optimizing for optDataset...\n"
     ]
    },
    {
     "name": "stderr",
     "output_type": "stream",
     "text": [
      "100%|██████████| 100/100 [00:00<00:00, 2249.32it/s]\n"
     ]
    },
    {
     "name": "stdout",
     "output_type": "stream",
     "text": [
      "Num of cores: 2\n",
      "spo+ : iter= 20 ,cost= 16.271785963428144\n",
      "Optimizing for optDataset...\n"
     ]
    },
    {
     "name": "stderr",
     "output_type": "stream",
     "text": [
      "100%|██████████| 100/100 [00:00<00:00, 2337.55it/s]\n"
     ]
    },
    {
     "name": "stdout",
     "output_type": "stream",
     "text": [
      "Num of cores: 2\n",
      "spo+ : iter= 21 ,cost= 15.535491180318214\n",
      "Optimizing for optDataset...\n"
     ]
    },
    {
     "name": "stderr",
     "output_type": "stream",
     "text": [
      "100%|██████████| 100/100 [00:00<00:00, 2300.82it/s]\n"
     ]
    },
    {
     "name": "stdout",
     "output_type": "stream",
     "text": [
      "Num of cores: 2\n",
      "spo+ : iter= 22 ,cost= 16.20045463889953\n",
      "Optimizing for optDataset...\n"
     ]
    },
    {
     "name": "stderr",
     "output_type": "stream",
     "text": [
      "100%|██████████| 100/100 [00:00<00:00, 2321.75it/s]\n"
     ]
    },
    {
     "name": "stdout",
     "output_type": "stream",
     "text": [
      "Num of cores: 2\n",
      "spo+ : iter= 23 ,cost= 15.568016097406627\n",
      "Optimizing for optDataset...\n"
     ]
    },
    {
     "name": "stderr",
     "output_type": "stream",
     "text": [
      "100%|██████████| 100/100 [00:00<00:00, 2368.61it/s]\n"
     ]
    },
    {
     "name": "stdout",
     "output_type": "stream",
     "text": [
      "Num of cores: 2\n",
      "spo+ : iter= 24 ,cost= 15.33416098365446\n",
      "Optimizing for optDataset...\n"
     ]
    },
    {
     "name": "stderr",
     "output_type": "stream",
     "text": [
      "100%|██████████| 100/100 [00:00<00:00, 2274.28it/s]\n"
     ]
    },
    {
     "name": "stdout",
     "output_type": "stream",
     "text": [
      "Num of cores: 2\n",
      "spo+ : iter= 25 ,cost= 15.905582964252666\n",
      "Optimizing for optDataset...\n"
     ]
    },
    {
     "name": "stderr",
     "output_type": "stream",
     "text": [
      "100%|██████████| 100/100 [00:00<00:00, 2334.15it/s]\n"
     ]
    },
    {
     "name": "stdout",
     "output_type": "stream",
     "text": [
      "Num of cores: 2\n",
      "spo+ : iter= 26 ,cost= 16.233534657001506\n",
      "Optimizing for optDataset...\n"
     ]
    },
    {
     "name": "stderr",
     "output_type": "stream",
     "text": [
      "100%|██████████| 100/100 [00:00<00:00, 2334.42it/s]\n"
     ]
    },
    {
     "name": "stdout",
     "output_type": "stream",
     "text": [
      "Num of cores: 2\n",
      "spo+ : iter= 27 ,cost= 15.584012508856157\n",
      "Optimizing for optDataset...\n"
     ]
    },
    {
     "name": "stderr",
     "output_type": "stream",
     "text": [
      "100%|██████████| 100/100 [00:00<00:00, 2347.37it/s]\n"
     ]
    },
    {
     "name": "stdout",
     "output_type": "stream",
     "text": [
      "Num of cores: 2\n",
      "spo+ : iter= 28 ,cost= 16.17057408385362\n",
      "Optimizing for optDataset...\n"
     ]
    },
    {
     "name": "stderr",
     "output_type": "stream",
     "text": [
      "100%|██████████| 100/100 [00:00<00:00, 2227.87it/s]\n"
     ]
    },
    {
     "name": "stdout",
     "output_type": "stream",
     "text": [
      "Num of cores: 2\n",
      "spo+ : iter= 29 ,cost= 15.96487969634995\n",
      "Optimizing for optDataset...\n"
     ]
    },
    {
     "name": "stderr",
     "output_type": "stream",
     "text": [
      "100%|██████████| 100/100 [00:00<00:00, 2381.18it/s]\n"
     ]
    },
    {
     "name": "stdout",
     "output_type": "stream",
     "text": [
      "Num of cores: 2\n",
      "spo+ : iter= 30 ,cost= 15.926150718445264\n",
      "Optimizing for optDataset...\n"
     ]
    },
    {
     "name": "stderr",
     "output_type": "stream",
     "text": [
      "100%|██████████| 100/100 [00:00<00:00, 2299.58it/s]\n"
     ]
    },
    {
     "name": "stdout",
     "output_type": "stream",
     "text": [
      "Num of cores: 2\n",
      "spo+ : iter= 31 ,cost= 16.01859962991398\n",
      "Optimizing for optDataset...\n"
     ]
    },
    {
     "name": "stderr",
     "output_type": "stream",
     "text": [
      "100%|██████████| 100/100 [00:00<00:00, 2425.53it/s]\n"
     ]
    },
    {
     "name": "stdout",
     "output_type": "stream",
     "text": [
      "Num of cores: 2\n",
      "spo+ : iter= 32 ,cost= 16.33419815951567\n",
      "Optimizing for optDataset...\n"
     ]
    },
    {
     "name": "stderr",
     "output_type": "stream",
     "text": [
      "100%|██████████| 100/100 [00:00<00:00, 2195.30it/s]\n"
     ]
    },
    {
     "name": "stdout",
     "output_type": "stream",
     "text": [
      "Num of cores: 2\n",
      "spo+ : iter= 33 ,cost= 15.83647941085458\n",
      "Optimizing for optDataset...\n"
     ]
    },
    {
     "name": "stderr",
     "output_type": "stream",
     "text": [
      "100%|██████████| 100/100 [00:00<00:00, 2292.41it/s]\n"
     ]
    },
    {
     "name": "stdout",
     "output_type": "stream",
     "text": [
      "Num of cores: 2\n",
      "spo+ : iter= 34 ,cost= 15.62606934487867\n",
      "Optimizing for optDataset...\n"
     ]
    },
    {
     "name": "stderr",
     "output_type": "stream",
     "text": [
      "100%|██████████| 100/100 [00:00<00:00, 2264.54it/s]\n"
     ]
    },
    {
     "name": "stdout",
     "output_type": "stream",
     "text": [
      "Num of cores: 2\n",
      "spo+ : iter= 35 ,cost= 16.28338590678323\n",
      "Optimizing for optDataset...\n"
     ]
    },
    {
     "name": "stderr",
     "output_type": "stream",
     "text": [
      "100%|██████████| 100/100 [00:00<00:00, 2303.46it/s]\n"
     ]
    },
    {
     "name": "stdout",
     "output_type": "stream",
     "text": [
      "Num of cores: 2\n",
      "spo+ : iter= 36 ,cost= 16.12973480325168\n",
      "Optimizing for optDataset...\n"
     ]
    },
    {
     "name": "stderr",
     "output_type": "stream",
     "text": [
      "100%|██████████| 100/100 [00:00<00:00, 2324.77it/s]\n"
     ]
    },
    {
     "name": "stdout",
     "output_type": "stream",
     "text": [
      "Num of cores: 2\n",
      "spo+ : iter= 37 ,cost= 16.002529440223793\n",
      "Optimizing for optDataset...\n"
     ]
    },
    {
     "name": "stderr",
     "output_type": "stream",
     "text": [
      "100%|██████████| 100/100 [00:00<00:00, 2231.10it/s]\n"
     ]
    },
    {
     "name": "stdout",
     "output_type": "stream",
     "text": [
      "Num of cores: 2\n",
      "spo+ : iter= 38 ,cost= 16.517805726659343\n",
      "Optimizing for optDataset...\n"
     ]
    },
    {
     "name": "stderr",
     "output_type": "stream",
     "text": [
      "100%|██████████| 100/100 [00:00<00:00, 2280.55it/s]\n"
     ]
    },
    {
     "name": "stdout",
     "output_type": "stream",
     "text": [
      "Num of cores: 2\n",
      "spo+ : iter= 39 ,cost= 15.781709293975968\n",
      "Optimizing for optDataset...\n"
     ]
    },
    {
     "name": "stderr",
     "output_type": "stream",
     "text": [
      "100%|██████████| 100/100 [00:00<00:00, 2253.97it/s]\n"
     ]
    },
    {
     "name": "stdout",
     "output_type": "stream",
     "text": [
      "Num of cores: 2\n",
      "spo+ : iter= 40 ,cost= 15.85571255826925\n",
      "Optimizing for optDataset...\n"
     ]
    },
    {
     "name": "stderr",
     "output_type": "stream",
     "text": [
      "100%|██████████| 100/100 [00:00<00:00, 2337.55it/s]\n"
     ]
    },
    {
     "name": "stdout",
     "output_type": "stream",
     "text": [
      "Num of cores: 2\n",
      "spo+ : iter= 41 ,cost= 16.31938780527137\n",
      "Optimizing for optDataset...\n"
     ]
    },
    {
     "name": "stderr",
     "output_type": "stream",
     "text": [
      "100%|██████████| 100/100 [00:00<00:00, 2250.88it/s]\n"
     ]
    },
    {
     "name": "stdout",
     "output_type": "stream",
     "text": [
      "Num of cores: 2\n",
      "spo+ : iter= 42 ,cost= 15.880061197295111\n",
      "Optimizing for optDataset...\n"
     ]
    },
    {
     "name": "stderr",
     "output_type": "stream",
     "text": [
      "100%|██████████| 100/100 [00:00<00:00, 2454.19it/s]\n"
     ]
    },
    {
     "name": "stdout",
     "output_type": "stream",
     "text": [
      "Num of cores: 2\n",
      "spo+ : iter= 43 ,cost= 16.26419342876126\n",
      "Optimizing for optDataset...\n"
     ]
    },
    {
     "name": "stderr",
     "output_type": "stream",
     "text": [
      "100%|██████████| 100/100 [00:00<00:00, 2236.44it/s]\n"
     ]
    },
    {
     "name": "stdout",
     "output_type": "stream",
     "text": [
      "Num of cores: 2\n",
      "spo+ : iter= 44 ,cost= 15.839983663390042\n",
      "Optimizing for optDataset...\n"
     ]
    },
    {
     "name": "stderr",
     "output_type": "stream",
     "text": [
      "100%|██████████| 100/100 [00:00<00:00, 2348.53it/s]\n"
     ]
    },
    {
     "name": "stdout",
     "output_type": "stream",
     "text": [
      "Num of cores: 2\n",
      "spo+ : iter= 45 ,cost= 15.798516225707106\n",
      "Optimizing for optDataset...\n"
     ]
    },
    {
     "name": "stderr",
     "output_type": "stream",
     "text": [
      "100%|██████████| 100/100 [00:00<00:00, 2213.22it/s]\n"
     ]
    },
    {
     "name": "stdout",
     "output_type": "stream",
     "text": [
      "Num of cores: 2\n",
      "spo+ : iter= 46 ,cost= 15.965152047441071\n",
      "Optimizing for optDataset...\n"
     ]
    },
    {
     "name": "stderr",
     "output_type": "stream",
     "text": [
      "100%|██████████| 100/100 [00:00<00:00, 2331.20it/s]\n"
     ]
    },
    {
     "name": "stdout",
     "output_type": "stream",
     "text": [
      "Num of cores: 2\n",
      "spo+ : iter= 47 ,cost= 16.11737492408888\n",
      "Optimizing for optDataset...\n"
     ]
    },
    {
     "name": "stderr",
     "output_type": "stream",
     "text": [
      "100%|██████████| 100/100 [00:00<00:00, 2343.46it/s]\n"
     ]
    },
    {
     "name": "stdout",
     "output_type": "stream",
     "text": [
      "Num of cores: 2\n",
      "spo+ : iter= 48 ,cost= 15.875353626745229\n",
      "Optimizing for optDataset...\n"
     ]
    },
    {
     "name": "stderr",
     "output_type": "stream",
     "text": [
      "100%|██████████| 100/100 [00:00<00:00, 2230.47it/s]\n"
     ]
    },
    {
     "name": "stdout",
     "output_type": "stream",
     "text": [
      "Num of cores: 2\n",
      "spo+ : iter= 49 ,cost= 15.456742148209132\n",
      "Optimizing for optDataset...\n"
     ]
    },
    {
     "name": "stderr",
     "output_type": "stream",
     "text": [
      "100%|██████████| 100/100 [00:00<00:00, 2230.24it/s]\n"
     ]
    },
    {
     "name": "stdout",
     "output_type": "stream",
     "text": [
      "Num of cores: 2\n",
      "spo+ : iter= 50 ,cost= 16.188006662366796\n",
      "Optimizing for optDataset...\n"
     ]
    },
    {
     "name": "stderr",
     "output_type": "stream",
     "text": [
      "100%|██████████| 100/100 [00:00<00:00, 2244.73it/s]\n"
     ]
    },
    {
     "name": "stdout",
     "output_type": "stream",
     "text": [
      "Num of cores: 2\n",
      "spo+ : iter= 51 ,cost= 16.341615858038754\n",
      "Optimizing for optDataset...\n"
     ]
    },
    {
     "name": "stderr",
     "output_type": "stream",
     "text": [
      "100%|██████████| 100/100 [00:00<00:00, 2252.86it/s]\n"
     ]
    },
    {
     "name": "stdout",
     "output_type": "stream",
     "text": [
      "Num of cores: 2\n",
      "spo+ : iter= 52 ,cost= 15.781600499069041\n",
      "Optimizing for optDataset...\n"
     ]
    },
    {
     "name": "stderr",
     "output_type": "stream",
     "text": [
      "100%|██████████| 100/100 [00:00<00:00, 2433.09it/s]\n"
     ]
    },
    {
     "name": "stdout",
     "output_type": "stream",
     "text": [
      "Num of cores: 2\n",
      "spo+ : iter= 53 ,cost= 15.922472026049848\n",
      "Optimizing for optDataset...\n"
     ]
    },
    {
     "name": "stderr",
     "output_type": "stream",
     "text": [
      "100%|██████████| 100/100 [00:00<00:00, 2434.88it/s]\n"
     ]
    },
    {
     "name": "stdout",
     "output_type": "stream",
     "text": [
      "Num of cores: 2\n",
      "spo+ : iter= 54 ,cost= 15.762011198660598\n",
      "Optimizing for optDataset...\n"
     ]
    },
    {
     "name": "stderr",
     "output_type": "stream",
     "text": [
      "100%|██████████| 100/100 [00:00<00:00, 2298.63it/s]\n"
     ]
    },
    {
     "name": "stdout",
     "output_type": "stream",
     "text": [
      "Num of cores: 2\n",
      "spo+ : iter= 55 ,cost= 16.177040820389475\n",
      "Optimizing for optDataset...\n"
     ]
    },
    {
     "name": "stderr",
     "output_type": "stream",
     "text": [
      "100%|██████████| 100/100 [00:00<00:00, 2227.47it/s]\n"
     ]
    },
    {
     "name": "stdout",
     "output_type": "stream",
     "text": [
      "Num of cores: 2\n",
      "spo+ : iter= 56 ,cost= 15.419922351543162\n",
      "Optimizing for optDataset...\n"
     ]
    },
    {
     "name": "stderr",
     "output_type": "stream",
     "text": [
      "100%|██████████| 100/100 [00:00<00:00, 2303.18it/s]\n"
     ]
    },
    {
     "name": "stdout",
     "output_type": "stream",
     "text": [
      "Num of cores: 2\n",
      "spo+ : iter= 57 ,cost= 16.5208278182522\n",
      "Optimizing for optDataset...\n"
     ]
    },
    {
     "name": "stderr",
     "output_type": "stream",
     "text": [
      "100%|██████████| 100/100 [00:00<00:00, 2251.25it/s]\n"
     ]
    },
    {
     "name": "stdout",
     "output_type": "stream",
     "text": [
      "Num of cores: 2\n",
      "spo+ : iter= 58 ,cost= 16.12538995913045\n",
      "Optimizing for optDataset...\n"
     ]
    },
    {
     "name": "stderr",
     "output_type": "stream",
     "text": [
      "100%|██████████| 100/100 [00:00<00:00, 2178.46it/s]\n"
     ]
    },
    {
     "name": "stdout",
     "output_type": "stream",
     "text": [
      "Num of cores: 2\n",
      "spo+ : iter= 59 ,cost= 16.065478378313358\n",
      "Optimizing for optDataset...\n"
     ]
    },
    {
     "name": "stderr",
     "output_type": "stream",
     "text": [
      "100%|██████████| 100/100 [00:00<00:00, 2284.31it/s]\n"
     ]
    },
    {
     "name": "stdout",
     "output_type": "stream",
     "text": [
      "Num of cores: 2\n",
      "spo+ : iter= 60 ,cost= 15.64263835144945\n",
      "Optimizing for optDataset...\n"
     ]
    },
    {
     "name": "stderr",
     "output_type": "stream",
     "text": [
      "100%|██████████| 100/100 [00:00<00:00, 2458.98it/s]\n"
     ]
    },
    {
     "name": "stdout",
     "output_type": "stream",
     "text": [
      "Num of cores: 2\n",
      "spo+ : iter= 61 ,cost= 15.702104153274588\n",
      "Optimizing for optDataset...\n"
     ]
    },
    {
     "name": "stderr",
     "output_type": "stream",
     "text": [
      "100%|██████████| 100/100 [00:00<00:00, 2342.13it/s]\n"
     ]
    },
    {
     "name": "stdout",
     "output_type": "stream",
     "text": [
      "Num of cores: 2\n",
      "spo+ : iter= 62 ,cost= 16.61520422167734\n",
      "Optimizing for optDataset...\n"
     ]
    },
    {
     "name": "stderr",
     "output_type": "stream",
     "text": [
      "100%|██████████| 100/100 [00:00<00:00, 2339.83it/s]\n"
     ]
    },
    {
     "name": "stdout",
     "output_type": "stream",
     "text": [
      "Num of cores: 2\n",
      "spo+ : iter= 63 ,cost= 15.957169680218797\n",
      "Optimizing for optDataset...\n"
     ]
    },
    {
     "name": "stderr",
     "output_type": "stream",
     "text": [
      "100%|██████████| 100/100 [00:00<00:00, 2242.55it/s]\n"
     ]
    },
    {
     "name": "stdout",
     "output_type": "stream",
     "text": [
      "Num of cores: 2\n",
      "spo+ : iter= 64 ,cost= 16.024253188436255\n",
      "Optimizing for optDataset...\n"
     ]
    },
    {
     "name": "stderr",
     "output_type": "stream",
     "text": [
      "100%|██████████| 100/100 [00:00<00:00, 2212.78it/s]\n"
     ]
    },
    {
     "name": "stdout",
     "output_type": "stream",
     "text": [
      "Num of cores: 2\n",
      "spo+ : iter= 65 ,cost= 15.449834873790936\n",
      "Optimizing for optDataset...\n"
     ]
    },
    {
     "name": "stderr",
     "output_type": "stream",
     "text": [
      "100%|██████████| 100/100 [00:00<00:00, 2241.66it/s]\n"
     ]
    },
    {
     "name": "stdout",
     "output_type": "stream",
     "text": [
      "Num of cores: 2\n",
      "spo+ : iter= 66 ,cost= 15.780869511425236\n",
      "Optimizing for optDataset...\n"
     ]
    },
    {
     "name": "stderr",
     "output_type": "stream",
     "text": [
      "100%|██████████| 100/100 [00:00<00:00, 2171.22it/s]\n"
     ]
    },
    {
     "name": "stdout",
     "output_type": "stream",
     "text": [
      "Num of cores: 2\n",
      "spo+ : iter= 67 ,cost= 16.30282018204713\n",
      "Optimizing for optDataset...\n"
     ]
    },
    {
     "name": "stderr",
     "output_type": "stream",
     "text": [
      "100%|██████████| 100/100 [00:00<00:00, 2390.18it/s]\n"
     ]
    },
    {
     "name": "stdout",
     "output_type": "stream",
     "text": [
      "Num of cores: 2\n",
      "spo+ : iter= 68 ,cost= 15.55356760477281\n",
      "Optimizing for optDataset...\n"
     ]
    },
    {
     "name": "stderr",
     "output_type": "stream",
     "text": [
      "100%|██████████| 100/100 [00:00<00:00, 2358.48it/s]\n"
     ]
    },
    {
     "name": "stdout",
     "output_type": "stream",
     "text": [
      "Num of cores: 2\n",
      "spo+ : iter= 69 ,cost= 16.00025476225702\n",
      "Optimizing for optDataset...\n"
     ]
    },
    {
     "name": "stderr",
     "output_type": "stream",
     "text": [
      "100%|██████████| 100/100 [00:00<00:00, 2205.71it/s]\n"
     ]
    },
    {
     "name": "stdout",
     "output_type": "stream",
     "text": [
      "Num of cores: 2\n",
      "spo+ : iter= 70 ,cost= 15.712913564597232\n",
      "Optimizing for optDataset...\n"
     ]
    },
    {
     "name": "stderr",
     "output_type": "stream",
     "text": [
      "100%|██████████| 100/100 [00:00<00:00, 2215.93it/s]\n"
     ]
    },
    {
     "name": "stdout",
     "output_type": "stream",
     "text": [
      "Num of cores: 2\n",
      "spo+ : iter= 71 ,cost= 15.91693868899255\n",
      "Optimizing for optDataset...\n"
     ]
    },
    {
     "name": "stderr",
     "output_type": "stream",
     "text": [
      "100%|██████████| 100/100 [00:00<00:00, 2273.87it/s]\n"
     ]
    },
    {
     "name": "stdout",
     "output_type": "stream",
     "text": [
      "Num of cores: 2\n",
      "spo+ : iter= 72 ,cost= 16.47078967218031\n",
      "Optimizing for optDataset...\n"
     ]
    },
    {
     "name": "stderr",
     "output_type": "stream",
     "text": [
      "100%|██████████| 100/100 [00:00<00:00, 2355.60it/s]\n"
     ]
    },
    {
     "name": "stdout",
     "output_type": "stream",
     "text": [
      "Num of cores: 2\n",
      "spo+ : iter= 73 ,cost= 15.577469187099908\n",
      "Optimizing for optDataset...\n"
     ]
    },
    {
     "name": "stderr",
     "output_type": "stream",
     "text": [
      "100%|██████████| 100/100 [00:00<00:00, 2237.13it/s]\n"
     ]
    },
    {
     "name": "stdout",
     "output_type": "stream",
     "text": [
      "Num of cores: 2\n",
      "spo+ : iter= 74 ,cost= 16.367372856782794\n",
      "Optimizing for optDataset...\n"
     ]
    },
    {
     "name": "stderr",
     "output_type": "stream",
     "text": [
      "100%|██████████| 100/100 [00:00<00:00, 2285.09it/s]\n"
     ]
    },
    {
     "name": "stdout",
     "output_type": "stream",
     "text": [
      "Num of cores: 2\n",
      "spo+ : iter= 75 ,cost= 15.87664404122465\n",
      "Optimizing for optDataset...\n"
     ]
    },
    {
     "name": "stderr",
     "output_type": "stream",
     "text": [
      "100%|██████████| 100/100 [00:00<00:00, 2321.76it/s]\n"
     ]
    },
    {
     "name": "stdout",
     "output_type": "stream",
     "text": [
      "Num of cores: 2\n",
      "spo+ : iter= 76 ,cost= 16.326679323775274\n",
      "Optimizing for optDataset...\n"
     ]
    },
    {
     "name": "stderr",
     "output_type": "stream",
     "text": [
      "100%|██████████| 100/100 [00:00<00:00, 2412.79it/s]\n"
     ]
    },
    {
     "name": "stdout",
     "output_type": "stream",
     "text": [
      "Num of cores: 2\n",
      "spo+ : iter= 77 ,cost= 15.818857777202208\n",
      "Optimizing for optDataset...\n"
     ]
    },
    {
     "name": "stderr",
     "output_type": "stream",
     "text": [
      "100%|██████████| 100/100 [00:00<00:00, 2341.75it/s]\n"
     ]
    },
    {
     "name": "stdout",
     "output_type": "stream",
     "text": [
      "Num of cores: 2\n",
      "spo+ : iter= 78 ,cost= 15.88779663543999\n",
      "Optimizing for optDataset...\n"
     ]
    },
    {
     "name": "stderr",
     "output_type": "stream",
     "text": [
      "100%|██████████| 100/100 [00:00<00:00, 2219.87it/s]\n"
     ]
    },
    {
     "name": "stdout",
     "output_type": "stream",
     "text": [
      "Num of cores: 2\n",
      "spo+ : iter= 79 ,cost= 16.590101183022174\n",
      "Optimizing for optDataset...\n"
     ]
    },
    {
     "name": "stderr",
     "output_type": "stream",
     "text": [
      "100%|██████████| 100/100 [00:00<00:00, 2290.15it/s]\n"
     ]
    },
    {
     "name": "stdout",
     "output_type": "stream",
     "text": [
      "Num of cores: 2\n",
      "spo+ : iter= 80 ,cost= 15.869301103501002\n",
      "Optimizing for optDataset...\n"
     ]
    },
    {
     "name": "stderr",
     "output_type": "stream",
     "text": [
      "100%|██████████| 100/100 [00:00<00:00, 2234.44it/s]\n"
     ]
    },
    {
     "name": "stdout",
     "output_type": "stream",
     "text": [
      "Num of cores: 2\n",
      "spo+ : iter= 81 ,cost= 15.829499604725015\n",
      "Optimizing for optDataset...\n"
     ]
    },
    {
     "name": "stderr",
     "output_type": "stream",
     "text": [
      "100%|██████████| 100/100 [00:00<00:00, 2331.70it/s]\n"
     ]
    },
    {
     "name": "stdout",
     "output_type": "stream",
     "text": [
      "Num of cores: 2\n",
      "spo+ : iter= 82 ,cost= 16.244817682915283\n",
      "Optimizing for optDataset...\n"
     ]
    },
    {
     "name": "stderr",
     "output_type": "stream",
     "text": [
      "100%|██████████| 100/100 [00:00<00:00, 2238.10it/s]\n"
     ]
    },
    {
     "name": "stdout",
     "output_type": "stream",
     "text": [
      "Num of cores: 2\n",
      "spo+ : iter= 83 ,cost= 15.80094536320195\n",
      "Optimizing for optDataset...\n"
     ]
    },
    {
     "name": "stderr",
     "output_type": "stream",
     "text": [
      "100%|██████████| 100/100 [00:00<00:00, 2360.33it/s]\n"
     ]
    },
    {
     "name": "stdout",
     "output_type": "stream",
     "text": [
      "Num of cores: 2\n",
      "spo+ : iter= 84 ,cost= 16.54556342973654\n",
      "Optimizing for optDataset...\n"
     ]
    },
    {
     "name": "stderr",
     "output_type": "stream",
     "text": [
      "100%|██████████| 100/100 [00:00<00:00, 2281.17it/s]\n"
     ]
    },
    {
     "name": "stdout",
     "output_type": "stream",
     "text": [
      "Num of cores: 2\n",
      "spo+ : iter= 85 ,cost= 15.691618666762198\n",
      "Optimizing for optDataset...\n"
     ]
    },
    {
     "name": "stderr",
     "output_type": "stream",
     "text": [
      "100%|██████████| 100/100 [00:00<00:00, 2123.87it/s]\n"
     ]
    },
    {
     "name": "stdout",
     "output_type": "stream",
     "text": [
      "Num of cores: 2\n",
      "spo+ : iter= 86 ,cost= 15.733678769406353\n",
      "Optimizing for optDataset...\n"
     ]
    },
    {
     "name": "stderr",
     "output_type": "stream",
     "text": [
      "100%|██████████| 100/100 [00:00<00:00, 2227.38it/s]\n"
     ]
    },
    {
     "name": "stdout",
     "output_type": "stream",
     "text": [
      "Num of cores: 2\n",
      "spo+ : iter= 87 ,cost= 16.31597591036497\n",
      "Optimizing for optDataset...\n"
     ]
    },
    {
     "name": "stderr",
     "output_type": "stream",
     "text": [
      "100%|██████████| 100/100 [00:00<00:00, 2332.73it/s]\n"
     ]
    },
    {
     "name": "stdout",
     "output_type": "stream",
     "text": [
      "Num of cores: 2\n",
      "spo+ : iter= 88 ,cost= 15.824365550617884\n",
      "Optimizing for optDataset...\n"
     ]
    },
    {
     "name": "stderr",
     "output_type": "stream",
     "text": [
      "100%|██████████| 100/100 [00:00<00:00, 2135.93it/s]\n"
     ]
    },
    {
     "name": "stdout",
     "output_type": "stream",
     "text": [
      "Num of cores: 2\n",
      "spo+ : iter= 89 ,cost= 15.705912358424458\n",
      "Optimizing for optDataset...\n"
     ]
    },
    {
     "name": "stderr",
     "output_type": "stream",
     "text": [
      "100%|██████████| 100/100 [00:00<00:00, 2444.86it/s]\n"
     ]
    },
    {
     "name": "stdout",
     "output_type": "stream",
     "text": [
      "Num of cores: 2\n",
      "spo+ : iter= 90 ,cost= 15.809139804451961\n",
      "Optimizing for optDataset...\n"
     ]
    },
    {
     "name": "stderr",
     "output_type": "stream",
     "text": [
      "100%|██████████| 100/100 [00:00<00:00, 2427.65it/s]\n"
     ]
    },
    {
     "name": "stdout",
     "output_type": "stream",
     "text": [
      "Num of cores: 2\n",
      "spo+ : iter= 91 ,cost= 15.955089155470024\n",
      "Optimizing for optDataset...\n"
     ]
    },
    {
     "name": "stderr",
     "output_type": "stream",
     "text": [
      "100%|██████████| 100/100 [00:00<00:00, 2220.45it/s]\n"
     ]
    },
    {
     "name": "stdout",
     "output_type": "stream",
     "text": [
      "Num of cores: 2\n",
      "spo+ : iter= 92 ,cost= 16.047674651587982\n",
      "Optimizing for optDataset...\n"
     ]
    },
    {
     "name": "stderr",
     "output_type": "stream",
     "text": [
      "100%|██████████| 100/100 [00:00<00:00, 2298.27it/s]\n"
     ]
    },
    {
     "name": "stdout",
     "output_type": "stream",
     "text": [
      "Num of cores: 2\n",
      "spo+ : iter= 93 ,cost= 16.0855660632903\n",
      "Optimizing for optDataset...\n"
     ]
    },
    {
     "name": "stderr",
     "output_type": "stream",
     "text": [
      "100%|██████████| 100/100 [00:00<00:00, 2315.20it/s]\n"
     ]
    },
    {
     "name": "stdout",
     "output_type": "stream",
     "text": [
      "Num of cores: 2\n",
      "spo+ : iter= 94 ,cost= 15.945558055061545\n",
      "Optimizing for optDataset...\n"
     ]
    },
    {
     "name": "stderr",
     "output_type": "stream",
     "text": [
      "100%|██████████| 100/100 [00:00<00:00, 2251.81it/s]\n"
     ]
    },
    {
     "name": "stdout",
     "output_type": "stream",
     "text": [
      "Num of cores: 2\n",
      "spo+ : iter= 95 ,cost= 15.936666568171383\n",
      "Optimizing for optDataset...\n"
     ]
    },
    {
     "name": "stderr",
     "output_type": "stream",
     "text": [
      "100%|██████████| 100/100 [00:00<00:00, 2383.28it/s]\n"
     ]
    },
    {
     "name": "stdout",
     "output_type": "stream",
     "text": [
      "Num of cores: 2\n",
      "spo+ : iter= 96 ,cost= 16.113439038326593\n",
      "Optimizing for optDataset...\n"
     ]
    },
    {
     "name": "stderr",
     "output_type": "stream",
     "text": [
      "100%|██████████| 100/100 [00:00<00:00, 2356.20it/s]\n"
     ]
    },
    {
     "name": "stdout",
     "output_type": "stream",
     "text": [
      "Num of cores: 2\n",
      "spo+ : iter= 97 ,cost= 15.329333350069982\n",
      "Optimizing for optDataset...\n"
     ]
    },
    {
     "name": "stderr",
     "output_type": "stream",
     "text": [
      "100%|██████████| 100/100 [00:00<00:00, 2301.12it/s]\n"
     ]
    },
    {
     "name": "stdout",
     "output_type": "stream",
     "text": [
      "Num of cores: 2\n",
      "spo+ : iter= 98 ,cost= 15.74068337042948\n",
      "Optimizing for optDataset...\n"
     ]
    },
    {
     "name": "stderr",
     "output_type": "stream",
     "text": [
      "100%|██████████| 100/100 [00:00<00:00, 2412.42it/s]\n"
     ]
    },
    {
     "name": "stdout",
     "output_type": "stream",
     "text": [
      "Num of cores: 2\n",
      "spo+ : iter= 99 ,cost= 16.08656497070995\n",
      "Optimizing for optDataset...\n"
     ]
    },
    {
     "name": "stderr",
     "output_type": "stream",
     "text": [
      "100%|██████████| 100/100 [00:00<00:00, 1563.60it/s]\n"
     ]
    },
    {
     "name": "stdout",
     "output_type": "stream",
     "text": [
      "Num of cores: 2\n",
      "spo+ : iter= 0 ,cost= 22.949289668206337\n",
      "Optimizing for optDataset...\n"
     ]
    },
    {
     "name": "stderr",
     "output_type": "stream",
     "text": [
      "100%|██████████| 100/100 [00:00<00:00, 1678.55it/s]\n"
     ]
    },
    {
     "name": "stdout",
     "output_type": "stream",
     "text": [
      "Num of cores: 2\n",
      "spo+ : iter= 1 ,cost= 23.780883705798658\n",
      "Optimizing for optDataset...\n"
     ]
    },
    {
     "name": "stderr",
     "output_type": "stream",
     "text": [
      "100%|██████████| 100/100 [00:00<00:00, 1566.10it/s]\n"
     ]
    },
    {
     "name": "stdout",
     "output_type": "stream",
     "text": [
      "Num of cores: 2\n",
      "spo+ : iter= 2 ,cost= 22.9131345250235\n",
      "Optimizing for optDataset...\n"
     ]
    },
    {
     "name": "stderr",
     "output_type": "stream",
     "text": [
      "100%|██████████| 100/100 [00:00<00:00, 1617.29it/s]\n"
     ]
    },
    {
     "name": "stdout",
     "output_type": "stream",
     "text": [
      "Num of cores: 2\n",
      "spo+ : iter= 3 ,cost= 23.652858174770433\n",
      "Optimizing for optDataset...\n"
     ]
    },
    {
     "name": "stderr",
     "output_type": "stream",
     "text": [
      "100%|██████████| 100/100 [00:00<00:00, 1580.30it/s]\n"
     ]
    },
    {
     "name": "stdout",
     "output_type": "stream",
     "text": [
      "Num of cores: 2\n",
      "spo+ : iter= 4 ,cost= 24.354448841520227\n",
      "Optimizing for optDataset...\n"
     ]
    },
    {
     "name": "stderr",
     "output_type": "stream",
     "text": [
      "100%|██████████| 100/100 [00:00<00:00, 1630.82it/s]\n"
     ]
    },
    {
     "name": "stdout",
     "output_type": "stream",
     "text": [
      "Num of cores: 2\n",
      "spo+ : iter= 5 ,cost= 24.10399776240939\n",
      "Optimizing for optDataset...\n"
     ]
    },
    {
     "name": "stderr",
     "output_type": "stream",
     "text": [
      "100%|██████████| 100/100 [00:00<00:00, 1623.79it/s]\n"
     ]
    },
    {
     "name": "stdout",
     "output_type": "stream",
     "text": [
      "Num of cores: 2\n",
      "spo+ : iter= 6 ,cost= 24.220059161922865\n",
      "Optimizing for optDataset...\n"
     ]
    },
    {
     "name": "stderr",
     "output_type": "stream",
     "text": [
      "100%|██████████| 100/100 [00:00<00:00, 1530.92it/s]\n"
     ]
    },
    {
     "name": "stdout",
     "output_type": "stream",
     "text": [
      "Num of cores: 2\n",
      "spo+ : iter= 7 ,cost= 24.229872953760655\n",
      "Optimizing for optDataset...\n"
     ]
    },
    {
     "name": "stderr",
     "output_type": "stream",
     "text": [
      "100%|██████████| 100/100 [00:00<00:00, 1560.82it/s]\n"
     ]
    },
    {
     "name": "stdout",
     "output_type": "stream",
     "text": [
      "Num of cores: 2\n",
      "spo+ : iter= 8 ,cost= 23.08206083026062\n",
      "Optimizing for optDataset...\n"
     ]
    },
    {
     "name": "stderr",
     "output_type": "stream",
     "text": [
      "100%|██████████| 100/100 [00:00<00:00, 1636.23it/s]\n"
     ]
    },
    {
     "name": "stdout",
     "output_type": "stream",
     "text": [
      "Num of cores: 2\n",
      "spo+ : iter= 9 ,cost= 23.72738790947038\n",
      "Optimizing for optDataset...\n"
     ]
    },
    {
     "name": "stderr",
     "output_type": "stream",
     "text": [
      "100%|██████████| 100/100 [00:00<00:00, 1574.36it/s]\n"
     ]
    },
    {
     "name": "stdout",
     "output_type": "stream",
     "text": [
      "Num of cores: 2\n",
      "spo+ : iter= 10 ,cost= 23.906870520863453\n",
      "Optimizing for optDataset...\n"
     ]
    },
    {
     "name": "stderr",
     "output_type": "stream",
     "text": [
      "100%|██████████| 100/100 [00:00<00:00, 1539.62it/s]\n"
     ]
    },
    {
     "name": "stdout",
     "output_type": "stream",
     "text": [
      "Num of cores: 2\n",
      "spo+ : iter= 11 ,cost= 23.8591638650777\n",
      "Optimizing for optDataset...\n"
     ]
    },
    {
     "name": "stderr",
     "output_type": "stream",
     "text": [
      "100%|██████████| 100/100 [00:00<00:00, 1576.11it/s]\n"
     ]
    },
    {
     "name": "stdout",
     "output_type": "stream",
     "text": [
      "Num of cores: 2\n",
      "spo+ : iter= 12 ,cost= 23.635170083609964\n",
      "Optimizing for optDataset...\n"
     ]
    },
    {
     "name": "stderr",
     "output_type": "stream",
     "text": [
      "100%|██████████| 100/100 [00:00<00:00, 1626.60it/s]\n"
     ]
    },
    {
     "name": "stdout",
     "output_type": "stream",
     "text": [
      "Num of cores: 2\n",
      "spo+ : iter= 13 ,cost= 23.970110276706823\n",
      "Optimizing for optDataset...\n"
     ]
    },
    {
     "name": "stderr",
     "output_type": "stream",
     "text": [
      "100%|██████████| 100/100 [00:00<00:00, 1547.87it/s]\n"
     ]
    },
    {
     "name": "stdout",
     "output_type": "stream",
     "text": [
      "Num of cores: 2\n",
      "spo+ : iter= 14 ,cost= 23.968829961961216\n",
      "Optimizing for optDataset...\n"
     ]
    },
    {
     "name": "stderr",
     "output_type": "stream",
     "text": [
      "100%|██████████| 100/100 [00:00<00:00, 1537.11it/s]\n"
     ]
    },
    {
     "name": "stdout",
     "output_type": "stream",
     "text": [
      "Num of cores: 2\n",
      "spo+ : iter= 15 ,cost= 23.796864784270433\n",
      "Optimizing for optDataset...\n"
     ]
    },
    {
     "name": "stderr",
     "output_type": "stream",
     "text": [
      "100%|██████████| 100/100 [00:00<00:00, 1559.84it/s]\n"
     ]
    },
    {
     "name": "stdout",
     "output_type": "stream",
     "text": [
      "Num of cores: 2\n",
      "spo+ : iter= 16 ,cost= 23.15890985542096\n",
      "Optimizing for optDataset...\n"
     ]
    },
    {
     "name": "stderr",
     "output_type": "stream",
     "text": [
      "100%|██████████| 100/100 [00:00<00:00, 1622.25it/s]\n"
     ]
    },
    {
     "name": "stdout",
     "output_type": "stream",
     "text": [
      "Num of cores: 2\n",
      "spo+ : iter= 17 ,cost= 23.53683030467643\n",
      "Optimizing for optDataset...\n"
     ]
    },
    {
     "name": "stderr",
     "output_type": "stream",
     "text": [
      "100%|██████████| 100/100 [00:00<00:00, 1626.49it/s]\n"
     ]
    },
    {
     "name": "stdout",
     "output_type": "stream",
     "text": [
      "Num of cores: 2\n",
      "spo+ : iter= 18 ,cost= 24.000601245072033\n",
      "Optimizing for optDataset...\n"
     ]
    },
    {
     "name": "stderr",
     "output_type": "stream",
     "text": [
      "100%|██████████| 100/100 [00:00<00:00, 1680.13it/s]\n"
     ]
    },
    {
     "name": "stdout",
     "output_type": "stream",
     "text": [
      "Num of cores: 2\n",
      "spo+ : iter= 19 ,cost= 24.080374586576493\n",
      "Optimizing for optDataset...\n"
     ]
    },
    {
     "name": "stderr",
     "output_type": "stream",
     "text": [
      "100%|██████████| 100/100 [00:00<00:00, 1630.50it/s]\n"
     ]
    },
    {
     "name": "stdout",
     "output_type": "stream",
     "text": [
      "Num of cores: 2\n",
      "spo+ : iter= 20 ,cost= 23.55422947549686\n",
      "Optimizing for optDataset...\n"
     ]
    },
    {
     "name": "stderr",
     "output_type": "stream",
     "text": [
      "100%|██████████| 100/100 [00:00<00:00, 1575.65it/s]\n"
     ]
    },
    {
     "name": "stdout",
     "output_type": "stream",
     "text": [
      "Num of cores: 2\n",
      "spo+ : iter= 21 ,cost= 24.1236473263745\n",
      "Optimizing for optDataset...\n"
     ]
    },
    {
     "name": "stderr",
     "output_type": "stream",
     "text": [
      "100%|██████████| 100/100 [00:00<00:00, 1629.72it/s]\n"
     ]
    },
    {
     "name": "stdout",
     "output_type": "stream",
     "text": [
      "Num of cores: 2\n",
      "spo+ : iter= 22 ,cost= 23.501645470557254\n",
      "Optimizing for optDataset...\n"
     ]
    },
    {
     "name": "stderr",
     "output_type": "stream",
     "text": [
      "100%|██████████| 100/100 [00:00<00:00, 1546.74it/s]\n"
     ]
    },
    {
     "name": "stdout",
     "output_type": "stream",
     "text": [
      "Num of cores: 2\n",
      "spo+ : iter= 23 ,cost= 23.818913004129186\n",
      "Optimizing for optDataset...\n"
     ]
    },
    {
     "name": "stderr",
     "output_type": "stream",
     "text": [
      "100%|██████████| 100/100 [00:00<00:00, 1583.78it/s]\n"
     ]
    },
    {
     "name": "stdout",
     "output_type": "stream",
     "text": [
      "Num of cores: 2\n",
      "spo+ : iter= 24 ,cost= 23.331820282326554\n",
      "Optimizing for optDataset...\n"
     ]
    },
    {
     "name": "stderr",
     "output_type": "stream",
     "text": [
      "100%|██████████| 100/100 [00:00<00:00, 1586.37it/s]\n"
     ]
    },
    {
     "name": "stdout",
     "output_type": "stream",
     "text": [
      "Num of cores: 2\n",
      "spo+ : iter= 25 ,cost= 23.45159647669179\n",
      "Optimizing for optDataset...\n"
     ]
    },
    {
     "name": "stderr",
     "output_type": "stream",
     "text": [
      "100%|██████████| 100/100 [00:00<00:00, 1588.21it/s]\n"
     ]
    },
    {
     "name": "stdout",
     "output_type": "stream",
     "text": [
      "Num of cores: 2\n",
      "spo+ : iter= 26 ,cost= 23.920260944065223\n",
      "Optimizing for optDataset...\n"
     ]
    },
    {
     "name": "stderr",
     "output_type": "stream",
     "text": [
      "100%|██████████| 100/100 [00:00<00:00, 1626.87it/s]\n"
     ]
    },
    {
     "name": "stdout",
     "output_type": "stream",
     "text": [
      "Num of cores: 2\n",
      "spo+ : iter= 27 ,cost= 23.451475709662844\n",
      "Optimizing for optDataset...\n"
     ]
    },
    {
     "name": "stderr",
     "output_type": "stream",
     "text": [
      "100%|██████████| 100/100 [00:00<00:00, 1607.43it/s]\n"
     ]
    },
    {
     "name": "stdout",
     "output_type": "stream",
     "text": [
      "Num of cores: 2\n",
      "spo+ : iter= 28 ,cost= 22.99742589894341\n",
      "Optimizing for optDataset...\n"
     ]
    },
    {
     "name": "stderr",
     "output_type": "stream",
     "text": [
      "100%|██████████| 100/100 [00:00<00:00, 1605.01it/s]\n"
     ]
    },
    {
     "name": "stdout",
     "output_type": "stream",
     "text": [
      "Num of cores: 2\n",
      "spo+ : iter= 29 ,cost= 23.836141814198427\n",
      "Optimizing for optDataset...\n"
     ]
    },
    {
     "name": "stderr",
     "output_type": "stream",
     "text": [
      "100%|██████████| 100/100 [00:00<00:00, 1611.81it/s]\n"
     ]
    },
    {
     "name": "stdout",
     "output_type": "stream",
     "text": [
      "Num of cores: 2\n",
      "spo+ : iter= 30 ,cost= 23.82832786870659\n",
      "Optimizing for optDataset...\n"
     ]
    },
    {
     "name": "stderr",
     "output_type": "stream",
     "text": [
      "100%|██████████| 100/100 [00:00<00:00, 1594.05it/s]\n"
     ]
    },
    {
     "name": "stdout",
     "output_type": "stream",
     "text": [
      "Num of cores: 2\n",
      "spo+ : iter= 31 ,cost= 24.011935146501635\n",
      "Optimizing for optDataset...\n"
     ]
    },
    {
     "name": "stderr",
     "output_type": "stream",
     "text": [
      "100%|██████████| 100/100 [00:00<00:00, 1623.06it/s]\n"
     ]
    },
    {
     "name": "stdout",
     "output_type": "stream",
     "text": [
      "Num of cores: 2\n",
      "spo+ : iter= 32 ,cost= 22.997123951324145\n",
      "Optimizing for optDataset...\n"
     ]
    },
    {
     "name": "stderr",
     "output_type": "stream",
     "text": [
      "100%|██████████| 100/100 [00:00<00:00, 1610.31it/s]\n"
     ]
    },
    {
     "name": "stdout",
     "output_type": "stream",
     "text": [
      "Num of cores: 2\n",
      "spo+ : iter= 33 ,cost= 23.407478725818603\n",
      "Optimizing for optDataset...\n"
     ]
    },
    {
     "name": "stderr",
     "output_type": "stream",
     "text": [
      "100%|██████████| 100/100 [00:00<00:00, 1609.19it/s]\n"
     ]
    },
    {
     "name": "stdout",
     "output_type": "stream",
     "text": [
      "Num of cores: 2\n",
      "spo+ : iter= 34 ,cost= 23.685059226118195\n",
      "Optimizing for optDataset...\n"
     ]
    },
    {
     "name": "stderr",
     "output_type": "stream",
     "text": [
      "100%|██████████| 100/100 [00:00<00:00, 1556.35it/s]\n"
     ]
    },
    {
     "name": "stdout",
     "output_type": "stream",
     "text": [
      "Num of cores: 2\n",
      "spo+ : iter= 35 ,cost= 22.803111244010584\n",
      "Optimizing for optDataset...\n"
     ]
    },
    {
     "name": "stderr",
     "output_type": "stream",
     "text": [
      "100%|██████████| 100/100 [00:00<00:00, 1585.69it/s]\n"
     ]
    },
    {
     "name": "stdout",
     "output_type": "stream",
     "text": [
      "Num of cores: 2\n",
      "spo+ : iter= 36 ,cost= 22.818752348542994\n",
      "Optimizing for optDataset...\n"
     ]
    },
    {
     "name": "stderr",
     "output_type": "stream",
     "text": [
      "100%|██████████| 100/100 [00:00<00:00, 1583.01it/s]\n"
     ]
    },
    {
     "name": "stdout",
     "output_type": "stream",
     "text": [
      "Num of cores: 2\n",
      "spo+ : iter= 37 ,cost= 23.729623049378105\n",
      "Optimizing for optDataset...\n"
     ]
    },
    {
     "name": "stderr",
     "output_type": "stream",
     "text": [
      "100%|██████████| 100/100 [00:00<00:00, 1601.04it/s]\n"
     ]
    },
    {
     "name": "stdout",
     "output_type": "stream",
     "text": [
      "Num of cores: 2\n",
      "spo+ : iter= 38 ,cost= 23.722311962870684\n",
      "Optimizing for optDataset...\n"
     ]
    },
    {
     "name": "stderr",
     "output_type": "stream",
     "text": [
      "100%|██████████| 100/100 [00:00<00:00, 1608.29it/s]\n"
     ]
    },
    {
     "name": "stdout",
     "output_type": "stream",
     "text": [
      "Num of cores: 2\n",
      "spo+ : iter= 39 ,cost= 23.683143383269712\n",
      "Optimizing for optDataset...\n"
     ]
    },
    {
     "name": "stderr",
     "output_type": "stream",
     "text": [
      "100%|██████████| 100/100 [00:00<00:00, 1542.86it/s]\n"
     ]
    },
    {
     "name": "stdout",
     "output_type": "stream",
     "text": [
      "Num of cores: 2\n",
      "spo+ : iter= 40 ,cost= 24.099849542078413\n",
      "Optimizing for optDataset...\n"
     ]
    },
    {
     "name": "stderr",
     "output_type": "stream",
     "text": [
      "100%|██████████| 100/100 [00:00<00:00, 1573.51it/s]\n"
     ]
    },
    {
     "name": "stdout",
     "output_type": "stream",
     "text": [
      "Num of cores: 2\n",
      "spo+ : iter= 41 ,cost= 23.242699417126502\n",
      "Optimizing for optDataset...\n"
     ]
    },
    {
     "name": "stderr",
     "output_type": "stream",
     "text": [
      "100%|██████████| 100/100 [00:00<00:00, 1594.56it/s]\n"
     ]
    },
    {
     "name": "stdout",
     "output_type": "stream",
     "text": [
      "Num of cores: 2\n",
      "spo+ : iter= 42 ,cost= 23.67862121277481\n",
      "Optimizing for optDataset...\n"
     ]
    },
    {
     "name": "stderr",
     "output_type": "stream",
     "text": [
      "100%|██████████| 100/100 [00:00<00:00, 1563.25it/s]\n"
     ]
    },
    {
     "name": "stdout",
     "output_type": "stream",
     "text": [
      "Num of cores: 2\n",
      "spo+ : iter= 43 ,cost= 23.641377697347195\n",
      "Optimizing for optDataset...\n"
     ]
    },
    {
     "name": "stderr",
     "output_type": "stream",
     "text": [
      "100%|██████████| 100/100 [00:00<00:00, 1638.64it/s]\n"
     ]
    },
    {
     "name": "stdout",
     "output_type": "stream",
     "text": [
      "Num of cores: 2\n",
      "spo+ : iter= 44 ,cost= 23.47000822587449\n",
      "Optimizing for optDataset...\n"
     ]
    },
    {
     "name": "stderr",
     "output_type": "stream",
     "text": [
      "100%|██████████| 100/100 [00:00<00:00, 1579.85it/s]\n"
     ]
    },
    {
     "name": "stdout",
     "output_type": "stream",
     "text": [
      "Num of cores: 2\n",
      "spo+ : iter= 45 ,cost= 23.869761622853346\n",
      "Optimizing for optDataset...\n"
     ]
    },
    {
     "name": "stderr",
     "output_type": "stream",
     "text": [
      "100%|██████████| 100/100 [00:00<00:00, 1640.28it/s]\n"
     ]
    },
    {
     "name": "stdout",
     "output_type": "stream",
     "text": [
      "Num of cores: 2\n",
      "spo+ : iter= 46 ,cost= 23.964976929625628\n",
      "Optimizing for optDataset...\n"
     ]
    },
    {
     "name": "stderr",
     "output_type": "stream",
     "text": [
      "100%|██████████| 100/100 [00:00<00:00, 1568.19it/s]\n"
     ]
    },
    {
     "name": "stdout",
     "output_type": "stream",
     "text": [
      "Num of cores: 2\n",
      "spo+ : iter= 47 ,cost= 24.649418522717525\n",
      "Optimizing for optDataset...\n"
     ]
    },
    {
     "name": "stderr",
     "output_type": "stream",
     "text": [
      "100%|██████████| 100/100 [00:00<00:00, 1535.60it/s]\n"
     ]
    },
    {
     "name": "stdout",
     "output_type": "stream",
     "text": [
      "Num of cores: 2\n",
      "spo+ : iter= 48 ,cost= 23.032345528895124\n",
      "Optimizing for optDataset...\n"
     ]
    },
    {
     "name": "stderr",
     "output_type": "stream",
     "text": [
      "100%|██████████| 100/100 [00:00<00:00, 1601.05it/s]\n"
     ]
    },
    {
     "name": "stdout",
     "output_type": "stream",
     "text": [
      "Num of cores: 2\n",
      "spo+ : iter= 49 ,cost= 24.361549618487043\n",
      "Optimizing for optDataset...\n"
     ]
    },
    {
     "name": "stderr",
     "output_type": "stream",
     "text": [
      "100%|██████████| 100/100 [00:00<00:00, 1531.16it/s]\n"
     ]
    },
    {
     "name": "stdout",
     "output_type": "stream",
     "text": [
      "Num of cores: 2\n",
      "spo+ : iter= 50 ,cost= 23.821053029134582\n",
      "Optimizing for optDataset...\n"
     ]
    },
    {
     "name": "stderr",
     "output_type": "stream",
     "text": [
      "100%|██████████| 100/100 [00:00<00:00, 1586.62it/s]\n"
     ]
    },
    {
     "name": "stdout",
     "output_type": "stream",
     "text": [
      "Num of cores: 2\n",
      "spo+ : iter= 51 ,cost= 23.718401771727244\n",
      "Optimizing for optDataset...\n"
     ]
    },
    {
     "name": "stderr",
     "output_type": "stream",
     "text": [
      "100%|██████████| 100/100 [00:00<00:00, 1536.69it/s]\n"
     ]
    },
    {
     "name": "stdout",
     "output_type": "stream",
     "text": [
      "Num of cores: 2\n",
      "spo+ : iter= 52 ,cost= 23.69079029159928\n",
      "Optimizing for optDataset...\n"
     ]
    },
    {
     "name": "stderr",
     "output_type": "stream",
     "text": [
      "100%|██████████| 100/100 [00:00<00:00, 1652.40it/s]\n"
     ]
    },
    {
     "name": "stdout",
     "output_type": "stream",
     "text": [
      "Num of cores: 2\n",
      "spo+ : iter= 53 ,cost= 24.134326374795023\n",
      "Optimizing for optDataset...\n"
     ]
    },
    {
     "name": "stderr",
     "output_type": "stream",
     "text": [
      "100%|██████████| 100/100 [00:00<00:00, 1541.07it/s]\n"
     ]
    },
    {
     "name": "stdout",
     "output_type": "stream",
     "text": [
      "Num of cores: 2\n",
      "spo+ : iter= 54 ,cost= 23.50573185722943\n",
      "Optimizing for optDataset...\n"
     ]
    },
    {
     "name": "stderr",
     "output_type": "stream",
     "text": [
      "100%|██████████| 100/100 [00:00<00:00, 1591.04it/s]\n"
     ]
    },
    {
     "name": "stdout",
     "output_type": "stream",
     "text": [
      "Num of cores: 2\n",
      "spo+ : iter= 55 ,cost= 23.42140734391761\n",
      "Optimizing for optDataset...\n"
     ]
    },
    {
     "name": "stderr",
     "output_type": "stream",
     "text": [
      "100%|██████████| 100/100 [00:00<00:00, 1586.57it/s]\n"
     ]
    },
    {
     "name": "stdout",
     "output_type": "stream",
     "text": [
      "Num of cores: 2\n",
      "spo+ : iter= 56 ,cost= 23.727353438975943\n",
      "Optimizing for optDataset...\n"
     ]
    },
    {
     "name": "stderr",
     "output_type": "stream",
     "text": [
      "100%|██████████| 100/100 [00:00<00:00, 1641.44it/s]\n"
     ]
    },
    {
     "name": "stdout",
     "output_type": "stream",
     "text": [
      "Num of cores: 2\n",
      "spo+ : iter= 57 ,cost= 23.571825612671155\n",
      "Optimizing for optDataset...\n"
     ]
    },
    {
     "name": "stderr",
     "output_type": "stream",
     "text": [
      "100%|██████████| 100/100 [00:00<00:00, 1574.37it/s]\n"
     ]
    },
    {
     "name": "stdout",
     "output_type": "stream",
     "text": [
      "Num of cores: 2\n",
      "spo+ : iter= 58 ,cost= 23.99092474773907\n",
      "Optimizing for optDataset...\n"
     ]
    },
    {
     "name": "stderr",
     "output_type": "stream",
     "text": [
      "100%|██████████| 100/100 [00:00<00:00, 1615.70it/s]\n"
     ]
    },
    {
     "name": "stdout",
     "output_type": "stream",
     "text": [
      "Num of cores: 2\n",
      "spo+ : iter= 59 ,cost= 23.691680431077252\n",
      "Optimizing for optDataset...\n"
     ]
    },
    {
     "name": "stderr",
     "output_type": "stream",
     "text": [
      "100%|██████████| 100/100 [00:00<00:00, 1609.24it/s]\n"
     ]
    },
    {
     "name": "stdout",
     "output_type": "stream",
     "text": [
      "Num of cores: 2\n",
      "spo+ : iter= 60 ,cost= 23.324732697921178\n",
      "Optimizing for optDataset...\n"
     ]
    },
    {
     "name": "stderr",
     "output_type": "stream",
     "text": [
      "100%|██████████| 100/100 [00:00<00:00, 1586.97it/s]\n"
     ]
    },
    {
     "name": "stdout",
     "output_type": "stream",
     "text": [
      "Num of cores: 2\n",
      "spo+ : iter= 61 ,cost= 24.161901129970442\n",
      "Optimizing for optDataset...\n"
     ]
    },
    {
     "name": "stderr",
     "output_type": "stream",
     "text": [
      "100%|██████████| 100/100 [00:00<00:00, 1579.08it/s]\n"
     ]
    },
    {
     "name": "stdout",
     "output_type": "stream",
     "text": [
      "Num of cores: 2\n",
      "spo+ : iter= 62 ,cost= 23.474344707495984\n",
      "Optimizing for optDataset...\n"
     ]
    },
    {
     "name": "stderr",
     "output_type": "stream",
     "text": [
      "100%|██████████| 100/100 [00:00<00:00, 1575.51it/s]\n"
     ]
    },
    {
     "name": "stdout",
     "output_type": "stream",
     "text": [
      "Num of cores: 2\n",
      "spo+ : iter= 63 ,cost= 23.878622909290527\n",
      "Optimizing for optDataset...\n"
     ]
    },
    {
     "name": "stderr",
     "output_type": "stream",
     "text": [
      "100%|██████████| 100/100 [00:00<00:00, 1595.84it/s]\n"
     ]
    },
    {
     "name": "stdout",
     "output_type": "stream",
     "text": [
      "Num of cores: 2\n",
      "spo+ : iter= 64 ,cost= 23.98264521563699\n",
      "Optimizing for optDataset...\n"
     ]
    },
    {
     "name": "stderr",
     "output_type": "stream",
     "text": [
      "100%|██████████| 100/100 [00:00<00:00, 1678.49it/s]\n"
     ]
    },
    {
     "name": "stdout",
     "output_type": "stream",
     "text": [
      "Num of cores: 2\n",
      "spo+ : iter= 65 ,cost= 22.895051767285782\n",
      "Optimizing for optDataset...\n"
     ]
    },
    {
     "name": "stderr",
     "output_type": "stream",
     "text": [
      "100%|██████████| 100/100 [00:00<00:00, 1511.50it/s]\n"
     ]
    },
    {
     "name": "stdout",
     "output_type": "stream",
     "text": [
      "Num of cores: 2\n",
      "spo+ : iter= 66 ,cost= 23.623764669476984\n",
      "Optimizing for optDataset...\n"
     ]
    },
    {
     "name": "stderr",
     "output_type": "stream",
     "text": [
      "100%|██████████| 100/100 [00:00<00:00, 1662.59it/s]\n"
     ]
    },
    {
     "name": "stdout",
     "output_type": "stream",
     "text": [
      "Num of cores: 2\n",
      "spo+ : iter= 67 ,cost= 23.75155319643116\n",
      "Optimizing for optDataset...\n"
     ]
    },
    {
     "name": "stderr",
     "output_type": "stream",
     "text": [
      "100%|██████████| 100/100 [00:00<00:00, 1587.37it/s]\n"
     ]
    },
    {
     "name": "stdout",
     "output_type": "stream",
     "text": [
      "Num of cores: 2\n",
      "spo+ : iter= 68 ,cost= 23.263970287845897\n",
      "Optimizing for optDataset...\n"
     ]
    },
    {
     "name": "stderr",
     "output_type": "stream",
     "text": [
      "100%|██████████| 100/100 [00:00<00:00, 1583.78it/s]\n"
     ]
    },
    {
     "name": "stdout",
     "output_type": "stream",
     "text": [
      "Num of cores: 2\n",
      "spo+ : iter= 69 ,cost= 24.13525985348131\n",
      "Optimizing for optDataset...\n"
     ]
    },
    {
     "name": "stderr",
     "output_type": "stream",
     "text": [
      "100%|██████████| 100/100 [00:00<00:00, 1639.83it/s]\n"
     ]
    },
    {
     "name": "stdout",
     "output_type": "stream",
     "text": [
      "Num of cores: 2\n",
      "spo+ : iter= 70 ,cost= 24.553138171361656\n",
      "Optimizing for optDataset...\n"
     ]
    },
    {
     "name": "stderr",
     "output_type": "stream",
     "text": [
      "100%|██████████| 100/100 [00:00<00:00, 1554.61it/s]\n"
     ]
    },
    {
     "name": "stdout",
     "output_type": "stream",
     "text": [
      "Num of cores: 2\n",
      "spo+ : iter= 71 ,cost= 24.05622588520479\n",
      "Optimizing for optDataset...\n"
     ]
    },
    {
     "name": "stderr",
     "output_type": "stream",
     "text": [
      "100%|██████████| 100/100 [00:00<00:00, 1613.90it/s]\n"
     ]
    },
    {
     "name": "stdout",
     "output_type": "stream",
     "text": [
      "Num of cores: 2\n",
      "spo+ : iter= 72 ,cost= 23.990837412739122\n",
      "Optimizing for optDataset...\n"
     ]
    },
    {
     "name": "stderr",
     "output_type": "stream",
     "text": [
      "100%|██████████| 100/100 [00:00<00:00, 1619.12it/s]\n"
     ]
    },
    {
     "name": "stdout",
     "output_type": "stream",
     "text": [
      "Num of cores: 2\n",
      "spo+ : iter= 73 ,cost= 23.564524178750247\n",
      "Optimizing for optDataset...\n"
     ]
    },
    {
     "name": "stderr",
     "output_type": "stream",
     "text": [
      "100%|██████████| 100/100 [00:00<00:00, 1674.43it/s]\n"
     ]
    },
    {
     "name": "stdout",
     "output_type": "stream",
     "text": [
      "Num of cores: 2\n",
      "spo+ : iter= 74 ,cost= 23.796822205067976\n",
      "Optimizing for optDataset...\n"
     ]
    },
    {
     "name": "stderr",
     "output_type": "stream",
     "text": [
      "100%|██████████| 100/100 [00:00<00:00, 1647.91it/s]\n"
     ]
    },
    {
     "name": "stdout",
     "output_type": "stream",
     "text": [
      "Num of cores: 2\n",
      "spo+ : iter= 75 ,cost= 23.04665179746282\n",
      "Optimizing for optDataset...\n"
     ]
    },
    {
     "name": "stderr",
     "output_type": "stream",
     "text": [
      "100%|██████████| 100/100 [00:00<00:00, 1610.28it/s]\n"
     ]
    },
    {
     "name": "stdout",
     "output_type": "stream",
     "text": [
      "Num of cores: 2\n",
      "spo+ : iter= 76 ,cost= 23.933024655485976\n",
      "Optimizing for optDataset...\n"
     ]
    },
    {
     "name": "stderr",
     "output_type": "stream",
     "text": [
      "100%|██████████| 100/100 [00:00<00:00, 1577.49it/s]\n"
     ]
    },
    {
     "name": "stdout",
     "output_type": "stream",
     "text": [
      "Num of cores: 2\n",
      "spo+ : iter= 77 ,cost= 23.492661350749145\n",
      "Optimizing for optDataset...\n"
     ]
    },
    {
     "name": "stderr",
     "output_type": "stream",
     "text": [
      "100%|██████████| 100/100 [00:00<00:00, 1593.42it/s]\n"
     ]
    },
    {
     "name": "stdout",
     "output_type": "stream",
     "text": [
      "Num of cores: 2\n",
      "spo+ : iter= 78 ,cost= 24.08729377317802\n",
      "Optimizing for optDataset...\n"
     ]
    },
    {
     "name": "stderr",
     "output_type": "stream",
     "text": [
      "100%|██████████| 100/100 [00:00<00:00, 1551.30it/s]\n"
     ]
    },
    {
     "name": "stdout",
     "output_type": "stream",
     "text": [
      "Num of cores: 2\n",
      "spo+ : iter= 79 ,cost= 24.440849453382\n",
      "Optimizing for optDataset...\n"
     ]
    },
    {
     "name": "stderr",
     "output_type": "stream",
     "text": [
      "100%|██████████| 100/100 [00:00<00:00, 1591.68it/s]\n"
     ]
    },
    {
     "name": "stdout",
     "output_type": "stream",
     "text": [
      "Num of cores: 2\n",
      "spo+ : iter= 80 ,cost= 23.655733727372382\n",
      "Optimizing for optDataset...\n"
     ]
    },
    {
     "name": "stderr",
     "output_type": "stream",
     "text": [
      "100%|██████████| 100/100 [00:00<00:00, 1591.72it/s]\n"
     ]
    },
    {
     "name": "stdout",
     "output_type": "stream",
     "text": [
      "Num of cores: 2\n",
      "spo+ : iter= 81 ,cost= 23.62437630359078\n",
      "Optimizing for optDataset...\n"
     ]
    },
    {
     "name": "stderr",
     "output_type": "stream",
     "text": [
      "100%|██████████| 100/100 [00:00<00:00, 1609.30it/s]\n"
     ]
    },
    {
     "name": "stdout",
     "output_type": "stream",
     "text": [
      "Num of cores: 2\n",
      "spo+ : iter= 82 ,cost= 23.290083372962414\n",
      "Optimizing for optDataset...\n"
     ]
    },
    {
     "name": "stderr",
     "output_type": "stream",
     "text": [
      "100%|██████████| 100/100 [00:00<00:00, 1518.28it/s]\n"
     ]
    },
    {
     "name": "stdout",
     "output_type": "stream",
     "text": [
      "Num of cores: 2\n",
      "spo+ : iter= 83 ,cost= 23.90371081480726\n",
      "Optimizing for optDataset...\n"
     ]
    },
    {
     "name": "stderr",
     "output_type": "stream",
     "text": [
      "100%|██████████| 100/100 [00:00<00:00, 1531.30it/s]\n"
     ]
    },
    {
     "name": "stdout",
     "output_type": "stream",
     "text": [
      "Num of cores: 2\n",
      "spo+ : iter= 84 ,cost= 23.467992393976537\n",
      "Optimizing for optDataset...\n"
     ]
    },
    {
     "name": "stderr",
     "output_type": "stream",
     "text": [
      "100%|██████████| 100/100 [00:00<00:00, 1613.50it/s]\n"
     ]
    },
    {
     "name": "stdout",
     "output_type": "stream",
     "text": [
      "Num of cores: 2\n",
      "spo+ : iter= 85 ,cost= 23.507724089041425\n",
      "Optimizing for optDataset...\n"
     ]
    },
    {
     "name": "stderr",
     "output_type": "stream",
     "text": [
      "100%|██████████| 100/100 [00:00<00:00, 1609.25it/s]\n"
     ]
    },
    {
     "name": "stdout",
     "output_type": "stream",
     "text": [
      "Num of cores: 2\n",
      "spo+ : iter= 86 ,cost= 23.61922560811982\n",
      "Optimizing for optDataset...\n"
     ]
    },
    {
     "name": "stderr",
     "output_type": "stream",
     "text": [
      "100%|██████████| 100/100 [00:00<00:00, 1626.17it/s]\n"
     ]
    },
    {
     "name": "stdout",
     "output_type": "stream",
     "text": [
      "Num of cores: 2\n",
      "spo+ : iter= 87 ,cost= 23.410024162027614\n",
      "Optimizing for optDataset...\n"
     ]
    },
    {
     "name": "stderr",
     "output_type": "stream",
     "text": [
      "100%|██████████| 100/100 [00:00<00:00, 1528.26it/s]\n"
     ]
    },
    {
     "name": "stdout",
     "output_type": "stream",
     "text": [
      "Num of cores: 2\n",
      "spo+ : iter= 88 ,cost= 23.503879356944502\n",
      "Optimizing for optDataset...\n"
     ]
    },
    {
     "name": "stderr",
     "output_type": "stream",
     "text": [
      "100%|██████████| 100/100 [00:00<00:00, 1665.00it/s]\n"
     ]
    },
    {
     "name": "stdout",
     "output_type": "stream",
     "text": [
      "Num of cores: 2\n",
      "spo+ : iter= 89 ,cost= 23.7890679776934\n",
      "Optimizing for optDataset...\n"
     ]
    },
    {
     "name": "stderr",
     "output_type": "stream",
     "text": [
      "100%|██████████| 100/100 [00:00<00:00, 1537.73it/s]\n"
     ]
    },
    {
     "name": "stdout",
     "output_type": "stream",
     "text": [
      "Num of cores: 2\n",
      "spo+ : iter= 90 ,cost= 24.352298215650972\n",
      "Optimizing for optDataset...\n"
     ]
    },
    {
     "name": "stderr",
     "output_type": "stream",
     "text": [
      "100%|██████████| 100/100 [00:00<00:00, 1544.16it/s]\n"
     ]
    },
    {
     "name": "stdout",
     "output_type": "stream",
     "text": [
      "Num of cores: 2\n",
      "spo+ : iter= 91 ,cost= 23.837598985123492\n",
      "Optimizing for optDataset...\n"
     ]
    },
    {
     "name": "stderr",
     "output_type": "stream",
     "text": [
      "100%|██████████| 100/100 [00:00<00:00, 1541.79it/s]\n"
     ]
    },
    {
     "name": "stdout",
     "output_type": "stream",
     "text": [
      "Num of cores: 2\n",
      "spo+ : iter= 92 ,cost= 23.4781043526878\n",
      "Optimizing for optDataset...\n"
     ]
    },
    {
     "name": "stderr",
     "output_type": "stream",
     "text": [
      "100%|██████████| 100/100 [00:00<00:00, 1581.20it/s]\n"
     ]
    },
    {
     "name": "stdout",
     "output_type": "stream",
     "text": [
      "Num of cores: 2\n",
      "spo+ : iter= 93 ,cost= 23.74846512093915\n",
      "Optimizing for optDataset...\n"
     ]
    },
    {
     "name": "stderr",
     "output_type": "stream",
     "text": [
      "100%|██████████| 100/100 [00:00<00:00, 1640.71it/s]\n"
     ]
    },
    {
     "name": "stdout",
     "output_type": "stream",
     "text": [
      "Num of cores: 2\n",
      "spo+ : iter= 94 ,cost= 23.354273110055566\n",
      "Optimizing for optDataset...\n"
     ]
    },
    {
     "name": "stderr",
     "output_type": "stream",
     "text": [
      "100%|██████████| 100/100 [00:00<00:00, 1529.94it/s]\n"
     ]
    },
    {
     "name": "stdout",
     "output_type": "stream",
     "text": [
      "Num of cores: 2\n",
      "spo+ : iter= 95 ,cost= 24.048532860873305\n",
      "Optimizing for optDataset...\n"
     ]
    },
    {
     "name": "stderr",
     "output_type": "stream",
     "text": [
      "100%|██████████| 100/100 [00:00<00:00, 2447.30it/s]\n"
     ]
    },
    {
     "name": "stdout",
     "output_type": "stream",
     "text": [
      "Num of cores: 2\n",
      "spo+ : iter= 96 ,cost= 23.24288668726608\n",
      "Optimizing for optDataset...\n"
     ]
    },
    {
     "name": "stderr",
     "output_type": "stream",
     "text": [
      "100%|██████████| 100/100 [00:00<00:00, 1524.51it/s]\n"
     ]
    },
    {
     "name": "stdout",
     "output_type": "stream",
     "text": [
      "Num of cores: 2\n",
      "spo+ : iter= 97 ,cost= 23.197411164983492\n",
      "Optimizing for optDataset...\n"
     ]
    },
    {
     "name": "stderr",
     "output_type": "stream",
     "text": [
      "100%|██████████| 100/100 [00:00<00:00, 1626.68it/s]\n"
     ]
    },
    {
     "name": "stdout",
     "output_type": "stream",
     "text": [
      "Num of cores: 2\n",
      "spo+ : iter= 98 ,cost= 23.42232823927912\n",
      "Optimizing for optDataset...\n"
     ]
    },
    {
     "name": "stderr",
     "output_type": "stream",
     "text": [
      "100%|██████████| 100/100 [00:00<00:00, 1673.67it/s]\n"
     ]
    },
    {
     "name": "stdout",
     "output_type": "stream",
     "text": [
      "Num of cores: 2\n",
      "spo+ : iter= 99 ,cost= 24.14325369210561\n",
      "Optimizing for optDataset...\n"
     ]
    },
    {
     "name": "stderr",
     "output_type": "stream",
     "text": [
      "100%|██████████| 100/100 [00:00<00:00, 1238.94it/s]\n"
     ]
    },
    {
     "name": "stdout",
     "output_type": "stream",
     "text": [
      "Num of cores: 2\n",
      "spo+ : iter= 0 ,cost= 30.868107177694466\n",
      "Optimizing for optDataset...\n"
     ]
    },
    {
     "name": "stderr",
     "output_type": "stream",
     "text": [
      "100%|██████████| 100/100 [00:00<00:00, 1237.53it/s]\n"
     ]
    },
    {
     "name": "stdout",
     "output_type": "stream",
     "text": [
      "Num of cores: 2\n",
      "spo+ : iter= 1 ,cost= 30.50998345538852\n",
      "Optimizing for optDataset...\n"
     ]
    },
    {
     "name": "stderr",
     "output_type": "stream",
     "text": [
      "100%|██████████| 100/100 [00:00<00:00, 1221.08it/s]\n"
     ]
    },
    {
     "name": "stdout",
     "output_type": "stream",
     "text": [
      "Num of cores: 2\n",
      "spo+ : iter= 2 ,cost= 31.289542963473796\n",
      "Optimizing for optDataset...\n"
     ]
    },
    {
     "name": "stderr",
     "output_type": "stream",
     "text": [
      "100%|██████████| 100/100 [00:00<00:00, 1212.21it/s]\n"
     ]
    },
    {
     "name": "stdout",
     "output_type": "stream",
     "text": [
      "Num of cores: 2\n",
      "spo+ : iter= 3 ,cost= 30.837512987568694\n",
      "Optimizing for optDataset...\n"
     ]
    },
    {
     "name": "stderr",
     "output_type": "stream",
     "text": [
      "100%|██████████| 100/100 [00:00<00:00, 1212.77it/s]\n"
     ]
    },
    {
     "name": "stdout",
     "output_type": "stream",
     "text": [
      "Num of cores: 2\n",
      "spo+ : iter= 4 ,cost= 30.856937249084293\n",
      "Optimizing for optDataset...\n"
     ]
    },
    {
     "name": "stderr",
     "output_type": "stream",
     "text": [
      "100%|██████████| 100/100 [00:00<00:00, 1177.05it/s]\n"
     ]
    },
    {
     "name": "stdout",
     "output_type": "stream",
     "text": [
      "Num of cores: 2\n",
      "spo+ : iter= 5 ,cost= 32.11598786105914\n",
      "Optimizing for optDataset...\n"
     ]
    },
    {
     "name": "stderr",
     "output_type": "stream",
     "text": [
      "100%|██████████| 100/100 [00:00<00:00, 1252.14it/s]\n"
     ]
    },
    {
     "name": "stdout",
     "output_type": "stream",
     "text": [
      "Num of cores: 2\n",
      "spo+ : iter= 6 ,cost= 30.800138281027717\n",
      "Optimizing for optDataset...\n"
     ]
    },
    {
     "name": "stderr",
     "output_type": "stream",
     "text": [
      "100%|██████████| 100/100 [00:00<00:00, 1210.86it/s]\n"
     ]
    },
    {
     "name": "stdout",
     "output_type": "stream",
     "text": [
      "Num of cores: 2\n",
      "spo+ : iter= 7 ,cost= 30.793656171474634\n",
      "Optimizing for optDataset...\n"
     ]
    },
    {
     "name": "stderr",
     "output_type": "stream",
     "text": [
      "100%|██████████| 100/100 [00:00<00:00, 1211.99it/s]\n"
     ]
    },
    {
     "name": "stdout",
     "output_type": "stream",
     "text": [
      "Num of cores: 2\n",
      "spo+ : iter= 8 ,cost= 31.612716030786054\n",
      "Optimizing for optDataset...\n"
     ]
    },
    {
     "name": "stderr",
     "output_type": "stream",
     "text": [
      "100%|██████████| 100/100 [00:00<00:00, 1230.67it/s]\n"
     ]
    },
    {
     "name": "stdout",
     "output_type": "stream",
     "text": [
      "Num of cores: 2\n",
      "spo+ : iter= 9 ,cost= 31.579492054439964\n",
      "Optimizing for optDataset...\n"
     ]
    },
    {
     "name": "stderr",
     "output_type": "stream",
     "text": [
      "100%|██████████| 100/100 [00:00<00:00, 1173.78it/s]\n"
     ]
    },
    {
     "name": "stdout",
     "output_type": "stream",
     "text": [
      "Num of cores: 2\n",
      "spo+ : iter= 10 ,cost= 31.764147818845988\n",
      "Optimizing for optDataset...\n"
     ]
    },
    {
     "name": "stderr",
     "output_type": "stream",
     "text": [
      "100%|██████████| 100/100 [00:00<00:00, 1178.33it/s]\n"
     ]
    },
    {
     "name": "stdout",
     "output_type": "stream",
     "text": [
      "Num of cores: 2\n",
      "spo+ : iter= 11 ,cost= 31.669779321444363\n",
      "Optimizing for optDataset...\n"
     ]
    },
    {
     "name": "stderr",
     "output_type": "stream",
     "text": [
      "100%|██████████| 100/100 [00:00<00:00, 1227.31it/s]\n"
     ]
    },
    {
     "name": "stdout",
     "output_type": "stream",
     "text": [
      "Num of cores: 2\n",
      "spo+ : iter= 12 ,cost= 31.81840696014381\n",
      "Optimizing for optDataset...\n"
     ]
    },
    {
     "name": "stderr",
     "output_type": "stream",
     "text": [
      "100%|██████████| 100/100 [00:00<00:00, 1220.15it/s]\n"
     ]
    },
    {
     "name": "stdout",
     "output_type": "stream",
     "text": [
      "Num of cores: 2\n",
      "spo+ : iter= 13 ,cost= 30.73059317937164\n",
      "Optimizing for optDataset...\n"
     ]
    },
    {
     "name": "stderr",
     "output_type": "stream",
     "text": [
      "100%|██████████| 100/100 [00:00<00:00, 1193.91it/s]\n"
     ]
    },
    {
     "name": "stdout",
     "output_type": "stream",
     "text": [
      "Num of cores: 2\n",
      "spo+ : iter= 14 ,cost= 30.441855149594574\n",
      "Optimizing for optDataset...\n"
     ]
    },
    {
     "name": "stderr",
     "output_type": "stream",
     "text": [
      "100%|██████████| 100/100 [00:00<00:00, 1160.40it/s]\n"
     ]
    },
    {
     "name": "stdout",
     "output_type": "stream",
     "text": [
      "Num of cores: 2\n",
      "spo+ : iter= 15 ,cost= 31.46909658373647\n",
      "Optimizing for optDataset...\n"
     ]
    },
    {
     "name": "stderr",
     "output_type": "stream",
     "text": [
      "100%|██████████| 100/100 [00:00<00:00, 1198.50it/s]\n"
     ]
    },
    {
     "name": "stdout",
     "output_type": "stream",
     "text": [
      "Num of cores: 2\n",
      "spo+ : iter= 16 ,cost= 31.129446392819176\n",
      "Optimizing for optDataset...\n"
     ]
    },
    {
     "name": "stderr",
     "output_type": "stream",
     "text": [
      "100%|██████████| 100/100 [00:00<00:00, 1246.85it/s]\n"
     ]
    },
    {
     "name": "stdout",
     "output_type": "stream",
     "text": [
      "Num of cores: 2\n",
      "spo+ : iter= 17 ,cost= 31.5101584796807\n",
      "Optimizing for optDataset...\n"
     ]
    },
    {
     "name": "stderr",
     "output_type": "stream",
     "text": [
      "100%|██████████| 100/100 [00:00<00:00, 1172.74it/s]\n"
     ]
    },
    {
     "name": "stdout",
     "output_type": "stream",
     "text": [
      "Num of cores: 2\n",
      "spo+ : iter= 18 ,cost= 31.98423981644869\n",
      "Optimizing for optDataset...\n"
     ]
    },
    {
     "name": "stderr",
     "output_type": "stream",
     "text": [
      "100%|██████████| 100/100 [00:00<00:00, 1217.17it/s]\n"
     ]
    },
    {
     "name": "stdout",
     "output_type": "stream",
     "text": [
      "Num of cores: 2\n",
      "spo+ : iter= 19 ,cost= 31.630026692341154\n",
      "Optimizing for optDataset...\n"
     ]
    },
    {
     "name": "stderr",
     "output_type": "stream",
     "text": [
      "100%|██████████| 100/100 [00:00<00:00, 1234.36it/s]\n"
     ]
    },
    {
     "name": "stdout",
     "output_type": "stream",
     "text": [
      "Num of cores: 2\n",
      "spo+ : iter= 20 ,cost= 31.48658679097284\n",
      "Optimizing for optDataset...\n"
     ]
    },
    {
     "name": "stderr",
     "output_type": "stream",
     "text": [
      "100%|██████████| 100/100 [00:00<00:00, 1242.47it/s]\n"
     ]
    },
    {
     "name": "stdout",
     "output_type": "stream",
     "text": [
      "Num of cores: 2\n",
      "spo+ : iter= 21 ,cost= 30.225684570563182\n",
      "Optimizing for optDataset...\n"
     ]
    },
    {
     "name": "stderr",
     "output_type": "stream",
     "text": [
      "100%|██████████| 100/100 [00:00<00:00, 1188.22it/s]\n"
     ]
    },
    {
     "name": "stdout",
     "output_type": "stream",
     "text": [
      "Num of cores: 2\n",
      "spo+ : iter= 22 ,cost= 31.942468079228956\n",
      "Optimizing for optDataset...\n"
     ]
    },
    {
     "name": "stderr",
     "output_type": "stream",
     "text": [
      "100%|██████████| 100/100 [00:00<00:00, 1198.78it/s]\n"
     ]
    },
    {
     "name": "stdout",
     "output_type": "stream",
     "text": [
      "Num of cores: 2\n",
      "spo+ : iter= 23 ,cost= 31.632096185311674\n",
      "Optimizing for optDataset...\n"
     ]
    },
    {
     "name": "stderr",
     "output_type": "stream",
     "text": [
      "100%|██████████| 100/100 [00:00<00:00, 1201.67it/s]\n"
     ]
    },
    {
     "name": "stdout",
     "output_type": "stream",
     "text": [
      "Num of cores: 2\n",
      "spo+ : iter= 24 ,cost= 30.76225378993654\n",
      "Optimizing for optDataset...\n"
     ]
    },
    {
     "name": "stderr",
     "output_type": "stream",
     "text": [
      "100%|██████████| 100/100 [00:00<00:00, 1198.19it/s]\n"
     ]
    },
    {
     "name": "stdout",
     "output_type": "stream",
     "text": [
      "Num of cores: 2\n",
      "spo+ : iter= 25 ,cost= 32.08430321931019\n",
      "Optimizing for optDataset...\n"
     ]
    },
    {
     "name": "stderr",
     "output_type": "stream",
     "text": [
      "100%|██████████| 100/100 [00:00<00:00, 1225.63it/s]\n"
     ]
    },
    {
     "name": "stdout",
     "output_type": "stream",
     "text": [
      "Num of cores: 2\n",
      "spo+ : iter= 26 ,cost= 31.82370006504007\n",
      "Optimizing for optDataset...\n"
     ]
    },
    {
     "name": "stderr",
     "output_type": "stream",
     "text": [
      "100%|██████████| 100/100 [00:00<00:00, 1212.10it/s]\n"
     ]
    },
    {
     "name": "stdout",
     "output_type": "stream",
     "text": [
      "Num of cores: 2\n",
      "spo+ : iter= 27 ,cost= 31.196895997845655\n",
      "Optimizing for optDataset...\n"
     ]
    },
    {
     "name": "stderr",
     "output_type": "stream",
     "text": [
      "100%|██████████| 100/100 [00:00<00:00, 1234.37it/s]\n"
     ]
    },
    {
     "name": "stdout",
     "output_type": "stream",
     "text": [
      "Num of cores: 2\n",
      "spo+ : iter= 28 ,cost= 30.362219990796593\n",
      "Optimizing for optDataset...\n"
     ]
    },
    {
     "name": "stderr",
     "output_type": "stream",
     "text": [
      "100%|██████████| 100/100 [00:00<00:00, 1229.42it/s]\n"
     ]
    },
    {
     "name": "stdout",
     "output_type": "stream",
     "text": [
      "Num of cores: 2\n",
      "spo+ : iter= 29 ,cost= 31.20202366755533\n",
      "Optimizing for optDataset...\n"
     ]
    },
    {
     "name": "stderr",
     "output_type": "stream",
     "text": [
      "100%|██████████| 100/100 [00:00<00:00, 1204.20it/s]\n"
     ]
    },
    {
     "name": "stdout",
     "output_type": "stream",
     "text": [
      "Num of cores: 2\n",
      "spo+ : iter= 30 ,cost= 31.572185666995182\n",
      "Optimizing for optDataset...\n"
     ]
    },
    {
     "name": "stderr",
     "output_type": "stream",
     "text": [
      "100%|██████████| 100/100 [00:00<00:00, 1191.13it/s]\n"
     ]
    },
    {
     "name": "stdout",
     "output_type": "stream",
     "text": [
      "Num of cores: 2\n",
      "spo+ : iter= 31 ,cost= 31.988258955468353\n",
      "Optimizing for optDataset...\n"
     ]
    },
    {
     "name": "stderr",
     "output_type": "stream",
     "text": [
      "100%|██████████| 100/100 [00:00<00:00, 1225.12it/s]\n"
     ]
    },
    {
     "name": "stdout",
     "output_type": "stream",
     "text": [
      "Num of cores: 2\n",
      "spo+ : iter= 32 ,cost= 31.43584587415157\n",
      "Optimizing for optDataset...\n"
     ]
    },
    {
     "name": "stderr",
     "output_type": "stream",
     "text": [
      "100%|██████████| 100/100 [00:00<00:00, 1500.87it/s]\n"
     ]
    },
    {
     "name": "stdout",
     "output_type": "stream",
     "text": [
      "Num of cores: 2\n",
      "spo+ : iter= 33 ,cost= 32.171220852387435\n",
      "Optimizing for optDataset...\n"
     ]
    },
    {
     "name": "stderr",
     "output_type": "stream",
     "text": [
      "100%|██████████| 100/100 [00:00<00:00, 1248.81it/s]\n"
     ]
    },
    {
     "name": "stdout",
     "output_type": "stream",
     "text": [
      "Num of cores: 2\n",
      "spo+ : iter= 34 ,cost= 31.667170029421897\n",
      "Optimizing for optDataset...\n"
     ]
    },
    {
     "name": "stderr",
     "output_type": "stream",
     "text": [
      "100%|██████████| 100/100 [00:00<00:00, 1240.13it/s]\n"
     ]
    },
    {
     "name": "stdout",
     "output_type": "stream",
     "text": [
      "Num of cores: 2\n",
      "spo+ : iter= 35 ,cost= 31.85713683149796\n",
      "Optimizing for optDataset...\n"
     ]
    },
    {
     "name": "stderr",
     "output_type": "stream",
     "text": [
      "100%|██████████| 100/100 [00:00<00:00, 1252.00it/s]\n"
     ]
    },
    {
     "name": "stdout",
     "output_type": "stream",
     "text": [
      "Num of cores: 2\n",
      "spo+ : iter= 36 ,cost= 31.662395304424525\n",
      "Optimizing for optDataset...\n"
     ]
    },
    {
     "name": "stderr",
     "output_type": "stream",
     "text": [
      "100%|██████████| 100/100 [00:00<00:00, 1218.96it/s]\n"
     ]
    },
    {
     "name": "stdout",
     "output_type": "stream",
     "text": [
      "Num of cores: 2\n",
      "spo+ : iter= 37 ,cost= 31.23856683676192\n",
      "Optimizing for optDataset...\n"
     ]
    },
    {
     "name": "stderr",
     "output_type": "stream",
     "text": [
      "100%|██████████| 100/100 [00:00<00:00, 1263.65it/s]\n"
     ]
    },
    {
     "name": "stdout",
     "output_type": "stream",
     "text": [
      "Num of cores: 2\n",
      "spo+ : iter= 38 ,cost= 31.085797876816216\n",
      "Optimizing for optDataset...\n"
     ]
    },
    {
     "name": "stderr",
     "output_type": "stream",
     "text": [
      "100%|██████████| 100/100 [00:00<00:00, 1251.66it/s]\n"
     ]
    },
    {
     "name": "stdout",
     "output_type": "stream",
     "text": [
      "Num of cores: 2\n",
      "spo+ : iter= 39 ,cost= 30.872290441921315\n",
      "Optimizing for optDataset...\n"
     ]
    },
    {
     "name": "stderr",
     "output_type": "stream",
     "text": [
      "100%|██████████| 100/100 [00:00<00:00, 1262.58it/s]\n"
     ]
    },
    {
     "name": "stdout",
     "output_type": "stream",
     "text": [
      "Num of cores: 2\n",
      "spo+ : iter= 40 ,cost= 31.69359929039171\n",
      "Optimizing for optDataset...\n"
     ]
    },
    {
     "name": "stderr",
     "output_type": "stream",
     "text": [
      "100%|██████████| 100/100 [00:00<00:00, 1244.74it/s]\n"
     ]
    },
    {
     "name": "stdout",
     "output_type": "stream",
     "text": [
      "Num of cores: 2\n",
      "spo+ : iter= 41 ,cost= 32.25403831529031\n",
      "Optimizing for optDataset...\n"
     ]
    },
    {
     "name": "stderr",
     "output_type": "stream",
     "text": [
      "100%|██████████| 100/100 [00:00<00:00, 1247.60it/s]\n"
     ]
    },
    {
     "name": "stdout",
     "output_type": "stream",
     "text": [
      "Num of cores: 2\n",
      "spo+ : iter= 42 ,cost= 30.82185642963211\n",
      "Optimizing for optDataset...\n"
     ]
    },
    {
     "name": "stderr",
     "output_type": "stream",
     "text": [
      "100%|██████████| 100/100 [00:00<00:00, 1250.66it/s]\n"
     ]
    },
    {
     "name": "stdout",
     "output_type": "stream",
     "text": [
      "Num of cores: 2\n",
      "spo+ : iter= 43 ,cost= 31.08765569067092\n",
      "Optimizing for optDataset...\n"
     ]
    },
    {
     "name": "stderr",
     "output_type": "stream",
     "text": [
      "100%|██████████| 100/100 [00:00<00:00, 1234.16it/s]\n"
     ]
    },
    {
     "name": "stdout",
     "output_type": "stream",
     "text": [
      "Num of cores: 2\n",
      "spo+ : iter= 44 ,cost= 32.20769755083795\n",
      "Optimizing for optDataset...\n"
     ]
    },
    {
     "name": "stderr",
     "output_type": "stream",
     "text": [
      "100%|██████████| 100/100 [00:00<00:00, 1210.76it/s]\n"
     ]
    },
    {
     "name": "stdout",
     "output_type": "stream",
     "text": [
      "Num of cores: 2\n",
      "spo+ : iter= 45 ,cost= 30.907143363943433\n",
      "Optimizing for optDataset...\n"
     ]
    },
    {
     "name": "stderr",
     "output_type": "stream",
     "text": [
      "100%|██████████| 100/100 [00:00<00:00, 1162.28it/s]\n"
     ]
    },
    {
     "name": "stdout",
     "output_type": "stream",
     "text": [
      "Num of cores: 2\n",
      "spo+ : iter= 46 ,cost= 30.77432439251027\n",
      "Optimizing for optDataset...\n"
     ]
    },
    {
     "name": "stderr",
     "output_type": "stream",
     "text": [
      "100%|██████████| 100/100 [00:00<00:00, 1242.07it/s]\n"
     ]
    },
    {
     "name": "stdout",
     "output_type": "stream",
     "text": [
      "Num of cores: 2\n",
      "spo+ : iter= 47 ,cost= 32.41820267705102\n",
      "Optimizing for optDataset...\n"
     ]
    },
    {
     "name": "stderr",
     "output_type": "stream",
     "text": [
      "100%|██████████| 100/100 [00:00<00:00, 1231.35it/s]\n"
     ]
    },
    {
     "name": "stdout",
     "output_type": "stream",
     "text": [
      "Num of cores: 2\n",
      "spo+ : iter= 48 ,cost= 30.82299346516241\n",
      "Optimizing for optDataset...\n"
     ]
    },
    {
     "name": "stderr",
     "output_type": "stream",
     "text": [
      "100%|██████████| 100/100 [00:00<00:00, 1228.77it/s]\n"
     ]
    },
    {
     "name": "stdout",
     "output_type": "stream",
     "text": [
      "Num of cores: 2\n",
      "spo+ : iter= 49 ,cost= 31.607051525815173\n",
      "Optimizing for optDataset...\n"
     ]
    },
    {
     "name": "stderr",
     "output_type": "stream",
     "text": [
      "100%|██████████| 100/100 [00:00<00:00, 1198.74it/s]\n"
     ]
    },
    {
     "name": "stdout",
     "output_type": "stream",
     "text": [
      "Num of cores: 2\n",
      "spo+ : iter= 50 ,cost= 31.47402774901001\n",
      "Optimizing for optDataset...\n"
     ]
    },
    {
     "name": "stderr",
     "output_type": "stream",
     "text": [
      "100%|██████████| 100/100 [00:00<00:00, 1208.37it/s]\n"
     ]
    },
    {
     "name": "stdout",
     "output_type": "stream",
     "text": [
      "Num of cores: 2\n",
      "spo+ : iter= 51 ,cost= 31.44537626265562\n",
      "Optimizing for optDataset...\n"
     ]
    },
    {
     "name": "stderr",
     "output_type": "stream",
     "text": [
      "100%|██████████| 100/100 [00:00<00:00, 1179.83it/s]\n"
     ]
    },
    {
     "name": "stdout",
     "output_type": "stream",
     "text": [
      "Num of cores: 2\n",
      "spo+ : iter= 52 ,cost= 30.879915021099382\n",
      "Optimizing for optDataset...\n"
     ]
    },
    {
     "name": "stderr",
     "output_type": "stream",
     "text": [
      "100%|██████████| 100/100 [00:00<00:00, 1255.43it/s]\n"
     ]
    },
    {
     "name": "stdout",
     "output_type": "stream",
     "text": [
      "Num of cores: 2\n",
      "spo+ : iter= 53 ,cost= 31.59366991341264\n",
      "Optimizing for optDataset...\n"
     ]
    },
    {
     "name": "stderr",
     "output_type": "stream",
     "text": [
      "100%|██████████| 100/100 [00:00<00:00, 1205.90it/s]\n"
     ]
    },
    {
     "name": "stdout",
     "output_type": "stream",
     "text": [
      "Num of cores: 2\n",
      "spo+ : iter= 54 ,cost= 30.29404465094656\n",
      "Optimizing for optDataset...\n"
     ]
    },
    {
     "name": "stderr",
     "output_type": "stream",
     "text": [
      "100%|██████████| 100/100 [00:00<00:00, 1223.36it/s]\n"
     ]
    },
    {
     "name": "stdout",
     "output_type": "stream",
     "text": [
      "Num of cores: 2\n",
      "spo+ : iter= 55 ,cost= 31.486445931468896\n",
      "Optimizing for optDataset...\n"
     ]
    },
    {
     "name": "stderr",
     "output_type": "stream",
     "text": [
      "100%|██████████| 100/100 [00:00<00:00, 1224.14it/s]\n"
     ]
    },
    {
     "name": "stdout",
     "output_type": "stream",
     "text": [
      "Num of cores: 2\n",
      "spo+ : iter= 56 ,cost= 31.737257024164073\n",
      "Optimizing for optDataset...\n"
     ]
    },
    {
     "name": "stderr",
     "output_type": "stream",
     "text": [
      "100%|██████████| 100/100 [00:00<00:00, 1194.83it/s]\n"
     ]
    },
    {
     "name": "stdout",
     "output_type": "stream",
     "text": [
      "Num of cores: 2\n",
      "spo+ : iter= 57 ,cost= 32.115906510200425\n",
      "Optimizing for optDataset...\n"
     ]
    },
    {
     "name": "stderr",
     "output_type": "stream",
     "text": [
      "100%|██████████| 100/100 [00:00<00:00, 1226.78it/s]\n"
     ]
    },
    {
     "name": "stdout",
     "output_type": "stream",
     "text": [
      "Num of cores: 2\n",
      "spo+ : iter= 58 ,cost= 30.901758401338842\n",
      "Optimizing for optDataset...\n"
     ]
    },
    {
     "name": "stderr",
     "output_type": "stream",
     "text": [
      "100%|██████████| 100/100 [00:00<00:00, 1200.86it/s]\n"
     ]
    },
    {
     "name": "stdout",
     "output_type": "stream",
     "text": [
      "Num of cores: 2\n",
      "spo+ : iter= 59 ,cost= 31.743768956704844\n",
      "Optimizing for optDataset...\n"
     ]
    },
    {
     "name": "stderr",
     "output_type": "stream",
     "text": [
      "100%|██████████| 100/100 [00:00<00:00, 1196.07it/s]\n"
     ]
    },
    {
     "name": "stdout",
     "output_type": "stream",
     "text": [
      "Num of cores: 2\n",
      "spo+ : iter= 60 ,cost= 31.283588475867205\n",
      "Optimizing for optDataset...\n"
     ]
    },
    {
     "name": "stderr",
     "output_type": "stream",
     "text": [
      "100%|██████████| 100/100 [00:00<00:00, 1203.35it/s]\n"
     ]
    },
    {
     "name": "stdout",
     "output_type": "stream",
     "text": [
      "Num of cores: 2\n",
      "spo+ : iter= 61 ,cost= 31.963900712720264\n",
      "Optimizing for optDataset...\n"
     ]
    },
    {
     "name": "stderr",
     "output_type": "stream",
     "text": [
      "100%|██████████| 100/100 [00:00<00:00, 1195.72it/s]\n"
     ]
    },
    {
     "name": "stdout",
     "output_type": "stream",
     "text": [
      "Num of cores: 2\n",
      "spo+ : iter= 62 ,cost= 31.523938350000563\n",
      "Optimizing for optDataset...\n"
     ]
    },
    {
     "name": "stderr",
     "output_type": "stream",
     "text": [
      "100%|██████████| 100/100 [00:00<00:00, 1211.68it/s]\n"
     ]
    },
    {
     "name": "stdout",
     "output_type": "stream",
     "text": [
      "Num of cores: 2\n",
      "spo+ : iter= 63 ,cost= 32.11662034819406\n",
      "Optimizing for optDataset...\n"
     ]
    },
    {
     "name": "stderr",
     "output_type": "stream",
     "text": [
      "100%|██████████| 100/100 [00:00<00:00, 1228.06it/s]\n"
     ]
    },
    {
     "name": "stdout",
     "output_type": "stream",
     "text": [
      "Num of cores: 2\n",
      "spo+ : iter= 64 ,cost= 31.39752790115387\n",
      "Optimizing for optDataset...\n"
     ]
    },
    {
     "name": "stderr",
     "output_type": "stream",
     "text": [
      "100%|██████████| 100/100 [00:00<00:00, 1210.78it/s]\n"
     ]
    },
    {
     "name": "stdout",
     "output_type": "stream",
     "text": [
      "Num of cores: 2\n",
      "spo+ : iter= 65 ,cost= 32.208422629449366\n",
      "Optimizing for optDataset...\n"
     ]
    },
    {
     "name": "stderr",
     "output_type": "stream",
     "text": [
      "100%|██████████| 100/100 [00:00<00:00, 1219.78it/s]\n"
     ]
    },
    {
     "name": "stdout",
     "output_type": "stream",
     "text": [
      "Num of cores: 2\n",
      "spo+ : iter= 66 ,cost= 32.02756978132467\n",
      "Optimizing for optDataset...\n"
     ]
    },
    {
     "name": "stderr",
     "output_type": "stream",
     "text": [
      "100%|██████████| 100/100 [00:00<00:00, 1201.57it/s]\n"
     ]
    },
    {
     "name": "stdout",
     "output_type": "stream",
     "text": [
      "Num of cores: 2\n",
      "spo+ : iter= 67 ,cost= 31.467516397637464\n",
      "Optimizing for optDataset...\n"
     ]
    },
    {
     "name": "stderr",
     "output_type": "stream",
     "text": [
      "100%|██████████| 100/100 [00:00<00:00, 1235.79it/s]\n"
     ]
    },
    {
     "name": "stdout",
     "output_type": "stream",
     "text": [
      "Num of cores: 2\n",
      "spo+ : iter= 68 ,cost= 31.42854228099164\n",
      "Optimizing for optDataset...\n"
     ]
    },
    {
     "name": "stderr",
     "output_type": "stream",
     "text": [
      "100%|██████████| 100/100 [00:00<00:00, 1201.22it/s]\n"
     ]
    },
    {
     "name": "stdout",
     "output_type": "stream",
     "text": [
      "Num of cores: 2\n",
      "spo+ : iter= 69 ,cost= 31.3911651862597\n",
      "Optimizing for optDataset...\n"
     ]
    },
    {
     "name": "stderr",
     "output_type": "stream",
     "text": [
      "100%|██████████| 100/100 [00:00<00:00, 1287.71it/s]\n"
     ]
    },
    {
     "name": "stdout",
     "output_type": "stream",
     "text": [
      "Num of cores: 2\n",
      "spo+ : iter= 70 ,cost= 31.636932526013236\n",
      "Optimizing for optDataset...\n"
     ]
    },
    {
     "name": "stderr",
     "output_type": "stream",
     "text": [
      "100%|██████████| 100/100 [00:00<00:00, 1215.17it/s]\n"
     ]
    },
    {
     "name": "stdout",
     "output_type": "stream",
     "text": [
      "Num of cores: 2\n",
      "spo+ : iter= 71 ,cost= 30.477776333026764\n",
      "Optimizing for optDataset...\n"
     ]
    },
    {
     "name": "stderr",
     "output_type": "stream",
     "text": [
      "100%|██████████| 100/100 [00:00<00:00, 1218.69it/s]\n"
     ]
    },
    {
     "name": "stdout",
     "output_type": "stream",
     "text": [
      "Num of cores: 2\n",
      "spo+ : iter= 72 ,cost= 31.484343622929302\n",
      "Optimizing for optDataset...\n"
     ]
    },
    {
     "name": "stderr",
     "output_type": "stream",
     "text": [
      "100%|██████████| 100/100 [00:00<00:00, 1199.95it/s]\n"
     ]
    },
    {
     "name": "stdout",
     "output_type": "stream",
     "text": [
      "Num of cores: 2\n",
      "spo+ : iter= 73 ,cost= 31.290208306155176\n",
      "Optimizing for optDataset...\n"
     ]
    },
    {
     "name": "stderr",
     "output_type": "stream",
     "text": [
      "100%|██████████| 100/100 [00:00<00:00, 1187.80it/s]\n"
     ]
    },
    {
     "name": "stdout",
     "output_type": "stream",
     "text": [
      "Num of cores: 2\n",
      "spo+ : iter= 74 ,cost= 32.34451304603981\n",
      "Optimizing for optDataset...\n"
     ]
    },
    {
     "name": "stderr",
     "output_type": "stream",
     "text": [
      "100%|██████████| 100/100 [00:00<00:00, 1219.23it/s]\n"
     ]
    },
    {
     "name": "stdout",
     "output_type": "stream",
     "text": [
      "Num of cores: 2\n",
      "spo+ : iter= 75 ,cost= 31.186387263175632\n",
      "Optimizing for optDataset...\n"
     ]
    },
    {
     "name": "stderr",
     "output_type": "stream",
     "text": [
      "100%|██████████| 100/100 [00:00<00:00, 1167.17it/s]\n"
     ]
    },
    {
     "name": "stdout",
     "output_type": "stream",
     "text": [
      "Num of cores: 2\n",
      "spo+ : iter= 76 ,cost= 31.110852975938155\n",
      "Optimizing for optDataset...\n"
     ]
    },
    {
     "name": "stderr",
     "output_type": "stream",
     "text": [
      "100%|██████████| 100/100 [00:00<00:00, 1189.87it/s]\n"
     ]
    },
    {
     "name": "stdout",
     "output_type": "stream",
     "text": [
      "Num of cores: 2\n",
      "spo+ : iter= 77 ,cost= 31.082282639948126\n",
      "Optimizing for optDataset...\n"
     ]
    },
    {
     "name": "stderr",
     "output_type": "stream",
     "text": [
      "100%|██████████| 100/100 [00:00<00:00, 1173.06it/s]\n"
     ]
    },
    {
     "name": "stdout",
     "output_type": "stream",
     "text": [
      "Num of cores: 2\n",
      "spo+ : iter= 78 ,cost= 32.292828182761326\n",
      "Optimizing for optDataset...\n"
     ]
    },
    {
     "name": "stderr",
     "output_type": "stream",
     "text": [
      "100%|██████████| 100/100 [00:00<00:00, 1228.67it/s]\n"
     ]
    },
    {
     "name": "stdout",
     "output_type": "stream",
     "text": [
      "Num of cores: 2\n",
      "spo+ : iter= 79 ,cost= 32.025049694232926\n",
      "Optimizing for optDataset...\n"
     ]
    },
    {
     "name": "stderr",
     "output_type": "stream",
     "text": [
      "100%|██████████| 100/100 [00:00<00:00, 1329.68it/s]\n"
     ]
    },
    {
     "name": "stdout",
     "output_type": "stream",
     "text": [
      "Num of cores: 2\n",
      "spo+ : iter= 80 ,cost= 30.856921188969388\n",
      "Optimizing for optDataset...\n"
     ]
    },
    {
     "name": "stderr",
     "output_type": "stream",
     "text": [
      "100%|██████████| 100/100 [00:00<00:00, 1211.03it/s]\n"
     ]
    },
    {
     "name": "stdout",
     "output_type": "stream",
     "text": [
      "Num of cores: 2\n",
      "spo+ : iter= 81 ,cost= 31.864225493161353\n",
      "Optimizing for optDataset...\n"
     ]
    },
    {
     "name": "stderr",
     "output_type": "stream",
     "text": [
      "100%|██████████| 100/100 [00:00<00:00, 1215.92it/s]\n"
     ]
    },
    {
     "name": "stdout",
     "output_type": "stream",
     "text": [
      "Num of cores: 2\n",
      "spo+ : iter= 82 ,cost= 31.169612393480907\n",
      "Optimizing for optDataset...\n"
     ]
    },
    {
     "name": "stderr",
     "output_type": "stream",
     "text": [
      "100%|██████████| 100/100 [00:00<00:00, 1193.92it/s]\n"
     ]
    },
    {
     "name": "stdout",
     "output_type": "stream",
     "text": [
      "Num of cores: 2\n",
      "spo+ : iter= 83 ,cost= 31.370011592463815\n",
      "Optimizing for optDataset...\n"
     ]
    },
    {
     "name": "stderr",
     "output_type": "stream",
     "text": [
      "100%|██████████| 100/100 [00:00<00:00, 1171.32it/s]\n"
     ]
    },
    {
     "name": "stdout",
     "output_type": "stream",
     "text": [
      "Num of cores: 2\n",
      "spo+ : iter= 84 ,cost= 31.952392272250282\n",
      "Optimizing for optDataset...\n"
     ]
    },
    {
     "name": "stderr",
     "output_type": "stream",
     "text": [
      "100%|██████████| 100/100 [00:00<00:00, 1244.17it/s]\n"
     ]
    },
    {
     "name": "stdout",
     "output_type": "stream",
     "text": [
      "Num of cores: 2\n",
      "spo+ : iter= 85 ,cost= 31.036881751700165\n",
      "Optimizing for optDataset...\n"
     ]
    },
    {
     "name": "stderr",
     "output_type": "stream",
     "text": [
      "100%|██████████| 100/100 [00:00<00:00, 1185.72it/s]\n"
     ]
    },
    {
     "name": "stdout",
     "output_type": "stream",
     "text": [
      "Num of cores: 2\n",
      "spo+ : iter= 86 ,cost= 31.55195148452626\n",
      "Optimizing for optDataset...\n"
     ]
    },
    {
     "name": "stderr",
     "output_type": "stream",
     "text": [
      "100%|██████████| 100/100 [00:00<00:00, 1166.21it/s]\n"
     ]
    },
    {
     "name": "stdout",
     "output_type": "stream",
     "text": [
      "Num of cores: 2\n",
      "spo+ : iter= 87 ,cost= 30.93599451137938\n",
      "Optimizing for optDataset...\n"
     ]
    },
    {
     "name": "stderr",
     "output_type": "stream",
     "text": [
      "100%|██████████| 100/100 [00:00<00:00, 1198.17it/s]\n"
     ]
    },
    {
     "name": "stdout",
     "output_type": "stream",
     "text": [
      "Num of cores: 2\n",
      "spo+ : iter= 88 ,cost= 31.68111071738471\n",
      "Optimizing for optDataset...\n"
     ]
    },
    {
     "name": "stderr",
     "output_type": "stream",
     "text": [
      "100%|██████████| 100/100 [00:00<00:00, 1247.26it/s]\n"
     ]
    },
    {
     "name": "stdout",
     "output_type": "stream",
     "text": [
      "Num of cores: 2\n",
      "spo+ : iter= 89 ,cost= 30.811120688871817\n",
      "Optimizing for optDataset...\n"
     ]
    },
    {
     "name": "stderr",
     "output_type": "stream",
     "text": [
      "100%|██████████| 100/100 [00:00<00:00, 1216.83it/s]\n"
     ]
    },
    {
     "name": "stdout",
     "output_type": "stream",
     "text": [
      "Num of cores: 2\n",
      "spo+ : iter= 90 ,cost= 30.533290749910122\n",
      "Optimizing for optDataset...\n"
     ]
    },
    {
     "name": "stderr",
     "output_type": "stream",
     "text": [
      "100%|██████████| 100/100 [00:00<00:00, 1218.89it/s]\n"
     ]
    },
    {
     "name": "stdout",
     "output_type": "stream",
     "text": [
      "Num of cores: 2\n",
      "spo+ : iter= 91 ,cost= 32.37318403742455\n",
      "Optimizing for optDataset...\n"
     ]
    },
    {
     "name": "stderr",
     "output_type": "stream",
     "text": [
      "100%|██████████| 100/100 [00:00<00:00, 1309.26it/s]\n"
     ]
    },
    {
     "name": "stdout",
     "output_type": "stream",
     "text": [
      "Num of cores: 2\n",
      "spo+ : iter= 92 ,cost= 31.384561740729534\n",
      "Optimizing for optDataset...\n"
     ]
    },
    {
     "name": "stderr",
     "output_type": "stream",
     "text": [
      "100%|██████████| 100/100 [00:00<00:00, 1220.72it/s]\n"
     ]
    },
    {
     "name": "stdout",
     "output_type": "stream",
     "text": [
      "Num of cores: 2\n",
      "spo+ : iter= 93 ,cost= 30.45272568226229\n",
      "Optimizing for optDataset...\n"
     ]
    },
    {
     "name": "stderr",
     "output_type": "stream",
     "text": [
      "100%|██████████| 100/100 [00:00<00:00, 1214.24it/s]\n"
     ]
    },
    {
     "name": "stdout",
     "output_type": "stream",
     "text": [
      "Num of cores: 2\n",
      "spo+ : iter= 94 ,cost= 31.017893596590582\n",
      "Optimizing for optDataset...\n"
     ]
    },
    {
     "name": "stderr",
     "output_type": "stream",
     "text": [
      "100%|██████████| 100/100 [00:00<00:00, 1194.73it/s]\n"
     ]
    },
    {
     "name": "stdout",
     "output_type": "stream",
     "text": [
      "Num of cores: 2\n",
      "spo+ : iter= 95 ,cost= 30.326298284396778\n",
      "Optimizing for optDataset...\n"
     ]
    },
    {
     "name": "stderr",
     "output_type": "stream",
     "text": [
      "100%|██████████| 100/100 [00:00<00:00, 1202.40it/s]\n"
     ]
    },
    {
     "name": "stdout",
     "output_type": "stream",
     "text": [
      "Num of cores: 2\n",
      "spo+ : iter= 96 ,cost= 30.982544830115884\n",
      "Optimizing for optDataset...\n"
     ]
    },
    {
     "name": "stderr",
     "output_type": "stream",
     "text": [
      "100%|██████████| 100/100 [00:00<00:00, 1206.64it/s]\n"
     ]
    },
    {
     "name": "stdout",
     "output_type": "stream",
     "text": [
      "Num of cores: 2\n",
      "spo+ : iter= 97 ,cost= 30.66375823561295\n",
      "Optimizing for optDataset...\n"
     ]
    },
    {
     "name": "stderr",
     "output_type": "stream",
     "text": [
      "100%|██████████| 100/100 [00:00<00:00, 1202.44it/s]\n"
     ]
    },
    {
     "name": "stdout",
     "output_type": "stream",
     "text": [
      "Num of cores: 2\n",
      "spo+ : iter= 98 ,cost= 32.07761447254557\n",
      "Optimizing for optDataset...\n"
     ]
    },
    {
     "name": "stderr",
     "output_type": "stream",
     "text": [
      "100%|██████████| 100/100 [00:00<00:00, 1231.19it/s]\n"
     ]
    },
    {
     "name": "stdout",
     "output_type": "stream",
     "text": [
      "Num of cores: 2\n",
      "spo+ : iter= 99 ,cost= 31.94186337395903\n"
     ]
    }
   ],
   "source": [
    "from PYEPO import PyEPO_Method\n",
    "epo_runner = PyEPO_Method()\n",
    "method_names = [\"spo+\"]\n",
    "for grid in grid_all:\n",
    "    d = (grid[0] - 1) * (grid[0] - 1) * 2 + 2 * (grid[0] - 1) # num of arcs\n",
    "    num_nodes = grid[0]*grid[0]\n",
    "\n",
    "    DataPath_parent = os.path.dirname(grandparent_directory) + middle_path +str(grid[0])+'by'+str(grid[1])+'_grid_' + data_generation_process + \"_S=100/\"\n",
    "    DataPath = DataPath_parent + \"data_size=\"+str(num_train)+\"_deg=\"+str(deg)+\"_e=\"+str(e)+\"_d=\"+str(d)+\"_x_dist=\"+x_dist+\"_num_test=\"+str(num_test)+\"_diff_W/\"\n",
    "\n",
    "    from Network import network_design\n",
    "    Network = network_design()\n",
    "    arcs,arc_index_mapping = Network._getArcs(grid)\n",
    "    batch_size = 20\n",
    "    num_epochs = 1000\n",
    "    cost_SPO_with_noise_all,cost_SPO_wo_noise_all = Implement_EPO(DataPath,iteration_all,batch_size,num_epochs,method_names,\\\n",
    "                                                                  W_star_all[grid[0]],bump,x_train_all[grid[0]],c_train_all[grid[0]],x_test_all[grid[0]],noise_test_all[grid[0]],\\\n",
    "                    arcs,grid,epo_runner,perfs,num_feat,mis,data_generation_process)\n",
    "    with open(DataPath+'cost_SPO_with_noise_all.pkl', \"wb\") as tf:\n",
    "        pickle.dump(cost_SPO_with_noise_all,tf)"
   ]
  },
  {
   "cell_type": "markdown",
   "metadata": {},
   "source": [
    "## DDR vs OLS Comparison"
   ]
  },
  {
   "cell_type": "code",
   "execution_count": 65,
   "metadata": {},
   "outputs": [],
   "source": [
    "def cross_compare2plus(c_item, c_base, c_oracle):\n",
    "    N = len(c_item)\n",
    "    c_diff = c_base - c_item\n",
    "    lbel = np.zeros((N,1))\n",
    "    \n",
    "    equals = np.sum(c_diff == 0)\n",
    "    wins = np.sum(c_diff > 0) # indicate num of c_item is lower than c_base\n",
    "    lose = np.sum(c_diff < 0)\n",
    "    \n",
    "    lbel[c_diff < 0] = 1\n",
    "    lbel[c_diff > 0] = -1\n",
    "    \n",
    "#     print(N, equals, wins, lose)\n",
    "    if N == equals:\n",
    "        win_ratio = 0.5\n",
    "    else:\n",
    "        win_ratio = wins/(N - equals)\n",
    "    cost_reduction = (np.mean(c_diff))/np.abs(np.mean(c_base))\n",
    "    regret_reduction = (np.mean(c_diff))/np.abs(np.mean(c_base) - np.mean(c_oracle))\n",
    "    return win_ratio, cost_reduction, regret_reduction"
   ]
  },
  {
   "cell_type": "code",
   "execution_count": 66,
   "metadata": {},
   "outputs": [
    {
     "name": "stdout",
     "output_type": "stream",
     "text": [
      "DataPath_parent: /Users/zhangxun/Dropbox/Research/Decision_Driven_Regularization/Data/Shortest_Path_Reproduce/Network_all/2by2_grid_SPO_Data_Generation_S=100/\n",
      "DataPath_parent: /Users/zhangxun/Dropbox/Research/Decision_Driven_Regularization/Data/Shortest_Path_Reproduce/Network_all/3by3_grid_SPO_Data_Generation_S=100/\n",
      "DataPath_parent: /Users/zhangxun/Dropbox/Research/Decision_Driven_Regularization/Data/Shortest_Path_Reproduce/Network_all/4by4_grid_SPO_Data_Generation_S=100/\n",
      "DataPath_parent: /Users/zhangxun/Dropbox/Research/Decision_Driven_Regularization/Data/Shortest_Path_Reproduce/Network_all/5by5_grid_SPO_Data_Generation_S=100/\n"
     ]
    }
   ],
   "source": [
    "iteration_all = np.arange(0,100) \n",
    "h2h_ddr_vs_ols_all = {}; cost_reduction_ddr_vs_ols_all = {}; regret_reduction_ddr_vs_ols_all = {}\n",
    "for grid in grid_all:\n",
    "    d = (grid[0] - 1) * (grid[0] - 1) * 2 + 2 * (grid[0] - 1) # num of arcs\n",
    "    num_nodes = grid[0]*grid[0]\n",
    "\n",
    "    DataPath_parent = os.path.dirname(grandparent_directory) + middle_path +str(grid[0])+'by'+str(grid[1])+'_grid_' + data_generation_process + \"_S=100/\"\n",
    "    pathlib.Path(DataPath_parent).mkdir(parents=True, exist_ok=True)\n",
    "    print(\"DataPath_parent:\", DataPath_parent)\n",
    "    DataPath = DataPath_parent + \"data_size=\"+str(num_train)+\"_deg=\"+str(deg)+\"_e=\"+str(e)+\"_d=\"+str(d)+\"_x_dist=\"+x_dist+\"_num_test=\"+str(num_test)+\"_diff_W/\"\n",
    "    pathlib.Path(DataPath).mkdir(parents=True, exist_ok=True)\n",
    "    # iteration_all = np.arange(0,20)\n",
    "\n",
    "    with open(DataPath+'cost_OLS_with_noise_all.pkl', \"rb\") as tf:\n",
    "        cost_OLS_with_noise_all = pickle.load(tf)\n",
    "    with open(DataPath+'cost_Oracle_with_noise_all.pkl', \"rb\") as tf:\n",
    "        cost_Oracle_with_noise_all = pickle.load(tf)\n",
    "    with open(DataPath+'cost_DDR_with_noise_all.pkl', \"rb\") as tf:\n",
    "        cost_DDR_with_noise_all = pickle.load(tf)\n",
    "\n",
    "\n",
    "    h2h_ddr_vs_ols_avg = np.zeros((len(mu_all),len(lamb_all))); regret_ddr_vs_ols_avg = np.zeros((len(mu_all),len(lamb_all)))\n",
    "    h2h_ddr_vs_ols_perc = np.zeros((len(mu_all),len(lamb_all))); regret_ddr_vs_ols_perc = np.zeros((len(mu_all),len(lamb_all)))\n",
    "\n",
    "    mu_index = 0\n",
    "    for mu in mu_all:\n",
    "        lamb_index = 0\n",
    "        for lamb in lamb_all:\n",
    "            h2h_ddr_ols = np.zeros(len(iteration_all)); cost_reduction_ddr_vs_ols = np.zeros(len(iteration_all)); regret_reduction_ddr_vs_ols = np.zeros(len(iteration_all))\n",
    "            for iter_index in range(len(iteration_all)):\n",
    "                iter = iteration_all[iter_index]\n",
    "                h2h_ddr_ols[iter_index],cost_reduction_ddr_vs_ols[iter_index],regret_reduction_ddr_vs_ols[iter_index] = cross_compare2plus(cost_DDR_with_noise_all[iter,mu,lamb], cost_OLS_with_noise_all[iter], cost_Oracle_with_noise_all[iter])\n",
    "            h2h_ddr_vs_ols_avg[mu_index,lamb_index] = np.nanmean(h2h_ddr_ols)\n",
    "            regret_ddr_vs_ols_avg[mu_index,lamb_index] = np.nanmean(regret_reduction_ddr_vs_ols)\n",
    "            regret_ddr_vs_ols_perc[mu_index,lamb_index] = len(regret_reduction_ddr_vs_ols[regret_reduction_ddr_vs_ols > 0.0])/len(regret_reduction_ddr_vs_ols)\n",
    "            h2h_ddr_vs_ols_perc[mu_index,lamb_index] = len(h2h_ddr_ols[h2h_ddr_ols >= 0.5])/len(h2h_ddr_ols)\n",
    "            # print(\"mu=\",mu,\",lamb=\",lamb,\"h2h_ddr_ols=\",np.nanmean(h2h_ddr_ols),\"regret=\",np.nanmean(regret_reduction_ddr_vs_ols))\n",
    "            lamb_index = lamb_index + 1\n",
    "\n",
    "            h2h_ddr_vs_ols_all[grid[0],mu,lamb] = h2h_ddr_ols\n",
    "            cost_reduction_ddr_vs_ols_all[grid[0],mu,lamb] = cost_reduction_ddr_vs_ols\n",
    "            regret_reduction_ddr_vs_ols_all[grid[0],mu,lamb] = regret_reduction_ddr_vs_ols\n",
    "        mu_index = mu_index + 1\n",
    "    regret_DDR_vs_OLS_para_avg_df = pd.DataFrame(regret_ddr_vs_ols_avg)\n",
    "    regret_DDR_vs_OLS_para_avg_df.index = [\"$\\mu=\"+str(mu)+\"$\" for mu in mu_all]\n",
    "    regret_DDR_vs_OLS_para_avg_df.columns = [\"$\\lambda=\"+str(lamb)+\"$\" for lamb in lamb_all]\n",
    "    regret_DDR_vs_OLS_para_avg_df.to_csv(DataPath+\"regret_ddr_vs_ols_avg.csv\")\n",
    "\n",
    "    h2h_DDR_vs_OLS_para_avg_df = pd.DataFrame(h2h_ddr_vs_ols_avg)\n",
    "    h2h_DDR_vs_OLS_para_avg_df.index = [\"$\\mu=\"+str(mu)+\"$\" for mu in mu_all]\n",
    "    h2h_DDR_vs_OLS_para_avg_df.columns = [\"$\\lambda=\"+str(lamb)+\"$\" for lamb in lamb_all]\n",
    "    h2h_DDR_vs_OLS_para_avg_df.to_csv(DataPath+\"h2h_ddr_vs_ols_avg.csv\")\n",
    "\n",
    "    regret_ddr_vs_ols_perc_df = pd.DataFrame(regret_ddr_vs_ols_perc)\n",
    "    regret_ddr_vs_ols_perc_df.index = [\"$\\mu=\"+str(mu)+\"$\" for mu in mu_all]\n",
    "    regret_ddr_vs_ols_perc_df.columns = [\"$\\lambda=\"+str(lamb)+\"$\" for lamb in lamb_all]\n",
    "    regret_ddr_vs_ols_perc_df.to_csv(DataPath+\"regret_ddr_vs_ols_perc.csv\")\n",
    "\n",
    "    h2h_ddr_vs_ols_perc_df = pd.DataFrame(h2h_ddr_vs_ols_perc)\n",
    "    h2h_ddr_vs_ols_perc_df.index = [\"$\\mu=\"+str(mu)+\"$\" for mu in mu_all]\n",
    "    h2h_ddr_vs_ols_perc_df.columns = [\"$\\lambda=\"+str(lamb)+\"$\" for lamb in lamb_all]\n",
    "    h2h_ddr_vs_ols_perc_df.to_csv(DataPath+\"h2h_ddr_vs_ols_perc.csv\")"
   ]
  },
  {
   "cell_type": "markdown",
   "metadata": {},
   "source": [
    "### * Impact of network"
   ]
  },
  {
   "cell_type": "code",
   "execution_count": 39,
   "metadata": {},
   "outputs": [],
   "source": [
    "grid_all = [(2,2),(3,3),(4,4),(5,5)]\n",
    "mu_all = np.round(np.arange(0.1,1.0,0.1),4)\n",
    "lamb_all = np.round(np.arange(0.0,1.0,0.1),4)\n",
    "middle_path = '/Data/Shortest_Path_Reproduce/Network_all/'\n",
    "avg_max_arr = np.zeros(len(grid_all)); avg_opt_para = {}\n",
    "pert_max_arr = np.zeros(len(grid_all)); pert_opt_para = {}\n",
    "grid_index = 0\n",
    "for grid in grid_all:\n",
    "    d = (grid[0] - 1) * (grid[0] - 1) * 2 + 2 * (grid[0] - 1) # num of arcs\n",
    "    num_nodes = grid[0]*grid[0]\n",
    "    DataPath_parent = os.path.dirname(grandparent_directory) + middle_path +str(grid[0])+'by'+str(grid[1])+'_grid_' + data_generation_process + \"_S=100/\"\n",
    "    DataPath = DataPath_parent + \"data_size=\"+str(num_train)+\"_deg=\"+str(deg)+\"_e=\"+str(e)+\"_d=\"+str(d)+\"_x_dist=\"+x_dist+\"_num_test=\"+str(num_test)+\"_diff_W/\"\n",
    "    regret_ddr_vs_ols_avg = pd.read_csv(DataPath+\"regret_ddr_vs_ols_avg.csv\").values[:,1:len(lamb_all)+1].astype(float)\n",
    "    avg_max_arr[grid_index] = np.max(regret_ddr_vs_ols_avg) * 100\n",
    "    max_index = np.unravel_index(np.argmax(regret_ddr_vs_ols_avg), regret_ddr_vs_ols_avg.shape)\n",
    "    avg_opt_para[grid[0]] = (mu_all[max_index[0]],lamb_all[max_index[1]])\n",
    "\n",
    "    regret_ddr_vs_ols_perc = pd.read_csv(DataPath+\"regret_ddr_vs_ols_perc.csv\").values[:,1:len(lamb_all)+1].astype(float)\n",
    "    pert_max_arr[grid_index] = np.max(regret_ddr_vs_ols_perc)\n",
    "    max_index = np.unravel_index(np.argmax(regret_ddr_vs_ols_perc), regret_ddr_vs_ols_perc.shape)\n",
    "    pert_opt_para[grid[0]] = (mu_all[max_index[0]],lamb_all[max_index[1]])\n",
    "\n",
    "    grid_index = grid_index + 1"
   ]
  },
  {
   "cell_type": "code",
   "execution_count": null,
   "metadata": {},
   "outputs": [
    {
     "data": {
      "image/png": "[encoded data removed]",
      "text/plain": [
       "<Figure size 800x500 with 1 Axes>"
      ]
     },
     "metadata": {},
     "output_type": "display_data"
    }
   ],
   "source": [
    "import numpy as np\n",
    "import matplotlib.pyplot as plt\n",
    "# 数据\n",
    "grid_all = [(2,2), (3,3), (4,4), (5,5)]\n",
    "# 横坐标只取网格边长\n",
    "grid_sizes = [g[0] for g in grid_all]\n",
    "# 绘图\n",
    "plt.figure(figsize=(8, 5))\n",
    "plt.plot(grid_sizes, avg_max_arr, marker='o', linestyle='-', color='b', label='Avg Max Value')\n",
    "plt.plot(grid_sizes, pert_max_arr, marker='o', linestyle='-', color='g', label='Percentage Max Value')\n",
    "# 添加注释\n",
    "for i, size in enumerate(grid_sizes):\n",
    "    x_offset, y_offset = avg_opt_para[size]\n",
    "    plt.annotate(f\"({x_offset:.1f}, {y_offset:.1f})\",\n",
    "                 (size, avg_max_arr[i]),\n",
    "                 textcoords=\"offset points\",\n",
    "                 xytext=(15, -20),  # 注释位置偏移\n",
    "                 ha='center',\n",
    "                 fontsize=10,\n",
    "                 color = \"blue\")\n",
    "\n",
    "# 添加注释\n",
    "for i, size in enumerate(grid_sizes):\n",
    "    x_offset, y_offset = pert_opt_para[size]\n",
    "    plt.annotate(f\"({x_offset:.1f}, {y_offset:.1f})\",\n",
    "                 (size, pert_max_arr[i]),\n",
    "                 textcoords=\"offset points\",\n",
    "                 xytext=(15, 10),  # 注释位置偏移\n",
    "                 ha='center',\n",
    "                 fontsize=10,\n",
    "                 color = \"green\")\n",
    "    \n",
    "# 坐标轴和标题\n",
    "plt.xlabel(\"Grid Size\",fontsize = 16)\n",
    "plt.ylabel(\"Max Value\",fontsize = 16)\n",
    "plt.title(\"Max Value vs Grid Size\")\n",
    "plt.xticks(grid_sizes,fontsize = 12)\n",
    "plt.yticks(fontsize = 12)\n",
    "\n",
    "plt.grid(True)\n",
    "plt.tight_layout()\n",
    "plt.legend()\n",
    "plt.savefig(os.path.dirname(grandparent_directory) + middle_path +\"Impact_Network_Structure.pdf\", format='pdf')\n",
    "plt.show()"
   ]
  },
  {
   "cell_type": "markdown",
   "metadata": {},
   "source": [
    "### * H2H_regret"
   ]
  },
  {
   "cell_type": "code",
   "execution_count": 71,
   "metadata": {},
   "outputs": [],
   "source": [
    "from Figures import regret_and_h2h_figure\n",
    "rhf = regret_and_h2h_figure()"
   ]
  },
  {
   "cell_type": "code",
   "execution_count": 103,
   "metadata": {},
   "outputs": [
    {
     "name": "stderr",
     "output_type": "stream",
     "text": [
      "The PostScript backend does not support transparency; partially transparent artists will be rendered opaque.\n"
     ]
    },
    {
     "data": {
      "image/png": "[encoded data removed]",
      "text/plain": [
       "<Figure size 500x500 with 3 Axes>"
      ]
     },
     "metadata": {},
     "output_type": "display_data"
    }
   ],
   "source": [
    "grid = (5,5)\n",
    "mu = 0.3\n",
    "lamb = 0.3\n",
    "file_name = os.path.dirname(grandparent_directory) + middle_path +\"DDR_vs_OLS_H2H_Regret_\"+str(grid[0])+\"times\"+str(grid[1])+\"_mu=\"+str(mu)+\"_lamb=\"+str(lamb)\n",
    "rhf.figure_plot_upright(h2h_ddr_vs_ols_all[grid[0],mu,lamb]*100,regret_reduction_ddr_vs_ols_all[grid[0],mu,lamb]*100,file_name,\\\n",
    "                        size = (5, 5), move = [-0.12, 0.04, 0.35, 0.55], \n",
    "                        ysame = 0, yrange = [6,6], sublabel = '', ypio = 1)"
   ]
  },
  {
   "cell_type": "markdown",
   "metadata": {},
   "source": [
    "## DDR vs SPO"
   ]
  },
  {
   "cell_type": "code",
   "execution_count": 85,
   "metadata": {},
   "outputs": [],
   "source": [
    "iteration_all = np.arange(0,100) \n",
    "h2h_ddr_vs_spo_all = {}; cost_reduction_ddr_vs_spo_all = {}; regret_reduction_ddr_vs_spo_all = {}\n",
    "for grid in grid_all:\n",
    "    d = (grid[0] - 1) * (grid[0] - 1) * 2 + 2 * (grid[0] - 1) # num of arcs\n",
    "    num_nodes = grid[0]*grid[0]\n",
    "    DataPath_parent = os.path.dirname(grandparent_directory) + middle_path +str(grid[0])+'by'+str(grid[1])+'_grid_' + data_generation_process + \"_S=100/\"\n",
    "    DataPath = DataPath_parent + \"data_size=\"+str(num_train)+\"_deg=\"+str(deg)+\"_e=\"+str(e)+\"_d=\"+str(d)+\"_x_dist=\"+x_dist+\"_num_test=\"+str(num_test)+\"_diff_W/\"\n",
    "\n",
    "    with open(DataPath+'cost_SPO_with_noise_all.pkl', \"rb\") as tf:\n",
    "        cost_SPO_with_noise_all = pickle.load(tf)\n",
    "    with open(DataPath+'cost_Oracle_with_noise_all.pkl', \"rb\") as tf:\n",
    "        cost_Oracle_with_noise_all = pickle.load(tf)\n",
    "    with open(DataPath+'cost_DDR_with_noise_all.pkl', \"rb\") as tf:\n",
    "        cost_DDR_with_noise_all = pickle.load(tf)\n",
    "\n",
    "    h2h_ddr_vs_spo_avg = np.zeros((len(mu_all),len(lamb_all))); regret_ddr_vs_spo_avg = np.zeros((len(mu_all),len(lamb_all)))\n",
    "    h2h_ddr_vs_spo_perc = np.zeros((len(mu_all),len(lamb_all))); regret_ddr_vs_spo_perc = np.zeros((len(mu_all),len(lamb_all)))\n",
    "\n",
    "    mu_index = 0\n",
    "    for mu in mu_all:\n",
    "        lamb_index = 0\n",
    "        for lamb in lamb_all:\n",
    "            h2h_ddr_spo = np.zeros(len(iteration_all)); cost_reduction_ddr_vs_spo = np.zeros(len(iteration_all)); regret_reduction_ddr_vs_spo = np.zeros(len(iteration_all))\n",
    "            for iter_index in range(len(iteration_all)):\n",
    "                iter = iteration_all[iter_index]\n",
    "                h2h_ddr_spo[iter_index],cost_reduction_ddr_vs_spo[iter_index],regret_reduction_ddr_vs_spo[iter_index] = cross_compare2plus(cost_DDR_with_noise_all[iter,mu,lamb], cost_SPO_with_noise_all[iter], cost_Oracle_with_noise_all[iter])\n",
    "            h2h_ddr_vs_spo_avg[mu_index,lamb_index] = np.nanmean(h2h_ddr_spo)\n",
    "            regret_ddr_vs_spo_avg[mu_index,lamb_index] = np.nanmean(regret_reduction_ddr_vs_spo)\n",
    "            regret_ddr_vs_spo_perc[mu_index,lamb_index] = len(regret_reduction_ddr_vs_spo[regret_reduction_ddr_vs_spo > 0.0])/len(regret_reduction_ddr_vs_spo)\n",
    "            h2h_ddr_vs_spo_perc[mu_index,lamb_index] = len(h2h_ddr_spo[h2h_ddr_ols >= 0.5])/len(h2h_ddr_spo)\n",
    "            # print(\"mu=\",mu,\",lamb=\",lamb,\"h2h_ddr_ols=\",np.nanmean(h2h_ddr_ols),\"regret=\",np.nanmean(regret_reduction_ddr_vs_ols))\n",
    "            lamb_index = lamb_index + 1\n",
    "\n",
    "            h2h_ddr_vs_spo_all[grid[0],mu,lamb] = h2h_ddr_spo\n",
    "            cost_reduction_ddr_vs_spo_all[grid[0],mu,lamb] = cost_reduction_ddr_vs_spo\n",
    "            regret_reduction_ddr_vs_spo_all[grid[0],mu,lamb] = regret_reduction_ddr_vs_spo\n",
    "        mu_index = mu_index + 1\n",
    "    regret_DDR_vs_SPO_para_avg_df = pd.DataFrame(regret_ddr_vs_spo_avg)\n",
    "    regret_DDR_vs_SPO_para_avg_df.index = [\"$\\mu=\"+str(mu)+\"$\" for mu in mu_all]\n",
    "    regret_DDR_vs_SPO_para_avg_df.columns = [\"$\\lambda=\"+str(lamb)+\"$\" for lamb in lamb_all]\n",
    "    regret_DDR_vs_SPO_para_avg_df.to_csv(DataPath+\"regret_ddr_vs_spo_avg.csv\")\n",
    "\n",
    "    h2h_DDR_vs_SPO_para_avg_df = pd.DataFrame(h2h_ddr_vs_spo_avg)\n",
    "    h2h_DDR_vs_SPO_para_avg_df.index = [\"$\\mu=\"+str(mu)+\"$\" for mu in mu_all]\n",
    "    h2h_DDR_vs_SPO_para_avg_df.columns = [\"$\\lambda=\"+str(lamb)+\"$\" for lamb in lamb_all]\n",
    "    h2h_DDR_vs_SPO_para_avg_df.to_csv(DataPath+\"h2h_ddr_vs_spo_avg.csv\")\n",
    "\n",
    "    regret_ddr_vs_SPO_perc_df = pd.DataFrame(regret_ddr_vs_spo_perc)\n",
    "    regret_ddr_vs_SPO_perc_df.index = [\"$\\mu=\"+str(mu)+\"$\" for mu in mu_all]\n",
    "    regret_ddr_vs_SPO_perc_df.columns = [\"$\\lambda=\"+str(lamb)+\"$\" for lamb in lamb_all]\n",
    "    regret_ddr_vs_SPO_perc_df.to_csv(DataPath+\"regret_ddr_vs_spo_perc.csv\")\n",
    "\n",
    "    h2h_ddr_vs_SPO_perc_df = pd.DataFrame(h2h_ddr_vs_spo_perc)\n",
    "    h2h_ddr_vs_SPO_perc_df.index = [\"$\\mu=\"+str(mu)+\"$\" for mu in mu_all]\n",
    "    h2h_ddr_vs_SPO_perc_df.columns = [\"$\\lambda=\"+str(lamb)+\"$\" for lamb in lamb_all]\n",
    "    h2h_ddr_vs_SPO_perc_df.to_csv(DataPath+\"h2h_ddr_vs_spo_perc.csv\")"
   ]
  },
  {
   "cell_type": "code",
   "execution_count": 110,
   "metadata": {},
   "outputs": [
    {
     "name": "stderr",
     "output_type": "stream",
     "text": [
      "The PostScript backend does not support transparency; partially transparent artists will be rendered opaque.\n"
     ]
    },
    {
     "data": {
      "image/png": "[encoded data removed]",
      "text/plain": [
       "<Figure size 500x500 with 3 Axes>"
      ]
     },
     "metadata": {},
     "output_type": "display_data"
    }
   ],
   "source": [
    "grid = (5,5)\n",
    "mu = 0.3\n",
    "lamb = 0.3\n",
    "file_name = os.path.dirname(grandparent_directory) + middle_path +\"DDR_vs_SPO_H2H_Regret_\"+str(grid[0])+\"times\"+str(grid[1])+\"_mu=\"+str(mu)+\"_lamb=\"+str(lamb)\n",
    "rhf.figure_plot_upright(h2h_ddr_vs_spo_all[grid[0],mu,lamb]*100,regret_reduction_ddr_vs_spo_all[grid[0],mu,lamb]*100,file_name)"
   ]
  }
 ],
 "metadata": {
  "kernelspec": {
   "display_name": ".venv",
   "language": "python",
   "name": "python3"
  },
  "language_info": {
   "codemirror_mode": {
    "name": "ipython",
    "version": 3
   },
   "file_extension": ".py",
   "mimetype": "text/x-python",
   "name": "python",
   "nbconvert_exporter": "python",
   "pygments_lexer": "ipython3",
   "version": "3.9.6"
  }
 },
 "nbformat": 4,
 "nbformat_minor": 2
}
