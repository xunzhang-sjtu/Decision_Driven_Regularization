{
 "cells": [
  {
   "cell_type": "code",
   "execution_count": 1,
   "metadata": {},
   "outputs": [],
   "source": [
    "import random\n",
    "import numpy as np\n",
    "import torch\n",
    "import os\n",
    "import pathlib\n",
    "import pickle\n",
    "from gurobipy import *\n",
    "from rsome import ro\n",
    "from rsome import grb_solver as grb\n",
    "import rsome as rso\n",
    "from rsome import cpt_solver as cpt\n",
    "import pandas as pd\n",
    "torch.manual_seed(42)\n",
    "torch.cuda.manual_seed(42)\n",
    "\n",
    "from Performance import performance_evaluation\n",
    "perfs = performance_evaluation()"
   ]
  },
  {
   "cell_type": "code",
   "execution_count": 2,
   "metadata": {},
   "outputs": [],
   "source": [
    "def Prepare_Data(DataPath,lower, upper, p, d, coef_seed,iteration_all,num_test, num_train, alpha,mis,data_generation_process,x_dist, e_dist, x_low, x_up, x_mean, x_var, bump):\n",
    "# #  ****** Coef generation *********\n",
    "    from Data import data_generation\n",
    "    data_gen = data_generation()\n",
    "    # W_star = data_gen.generate_truth(DataPath,lower, upper, p, d, coef_seed,data_generation_process) \n",
    "    # print(\"W_star = \",W_star[0,:])\n",
    "    np.random.seed(coef_seed)\n",
    "    x_test_all = {}; c_test_all = {}; x_train_all = {}; c_train_all = {}; W_star_all = {}; noise_train_all = {}; noise_test_all = {}\n",
    "    for iter in iteration_all:\n",
    "        DataPath_iter = DataPath +\"iter=\"+str(iter)+\"/\"\n",
    "        pathlib.Path(DataPath_iter).mkdir(parents=True, exist_ok=True)\n",
    "        W_star = data_gen.generate_truth(DataPath_iter,lower, upper, p, d, iter,data_generation_process) \n",
    "        # #  ****** Data generation *********\n",
    "        x_test_all[iter], c_test_all[iter], x_train_all[iter], c_train_all[iter], noise_train_all[iter],noise_test_all[iter],W_star_all[iter] = data_gen.generate_samples(iter,DataPath_iter,p, d, num_test, num_train, alpha, W_star, mis, num_test, \n",
    "                                data_generation_process, x_dist, e_dist, x_low, x_up, x_mean, x_var, bump) \n",
    "        # print()\n",
    "    return x_test_all, c_test_all, x_train_all, c_train_all, noise_train_all,noise_test_all,W_star_all"
   ]
  },
  {
   "cell_type": "code",
   "execution_count": 3,
   "metadata": {},
   "outputs": [],
   "source": [
    "def Implement_Oracle(arcs, grid,mis,bump,W_star_all,x_test_all,noise_test_all,iteration_all,num_feat,data_generation_process):\n",
    "    cost_Oracle_with_noise_all = {}; cost_Oracle_wo_noise_all = {}\n",
    "    for iter in iteration_all:\n",
    "        if data_generation_process == \"SPO_Data_Generation\":\n",
    "            cost_oracle_ori = (W_star_all[iter] @ x_test_all[iter].T)/np.sqrt(num_feat) + 3\n",
    "            cost_oracle_pred = (cost_oracle_ori ** mis + 1).T\n",
    "            cost_Oracle_with_noise_all[iter] = perfs.compute_SPO_out_of_sample_Cost(arcs, grid,cost_oracle_pred,cost_oracle_pred,noise_test_all[iter])\n",
    "            print(\"Oracle: iter=\",iter,\",cost_Oracle_with_noise_all=\",np.nanmean(cost_Oracle_with_noise_all[iter]))\n",
    "\n",
    "        if data_generation_process == \"DDR_Data_Generation\":\n",
    "            cost_oracle_ori = (W_star_all[iter] @ x_test_all[iter].T) + bump\n",
    "            cost_oracle_pred = (cost_oracle_ori ** mis).T\n",
    "            cost_Oracle_with_noise_all[iter] = perfs.compute_DDR_out_of_sample_Cost(arcs, grid,cost_oracle_pred,cost_oracle_pred,noise_test_all[iter],True)\n",
    "            cost_Oracle_wo_noise_all[iter] = perfs.compute_DDR_out_of_sample_Cost(arcs, grid,cost_oracle_pred,cost_oracle_pred,noise_test_all[iter],False)\n",
    "\n",
    "            # print(\"Oracle: iter=\",iter,\",cost_Oracle_with_noise_all=\",np.nanmean(cost_Oracle_with_noise_all[iter]),\",cost_Oracle_wo_noise_all=\",np.nanmean(cost_Oracle_wo_noise_all[iter]))\n",
    "    return cost_Oracle_with_noise_all,cost_Oracle_wo_noise_all"
   ]
  },
  {
   "cell_type": "code",
   "execution_count": 4,
   "metadata": {},
   "outputs": [],
   "source": [
    "def Implement_OLS(arcs, grid,mis,bump,W_star_all,x_test_all,noise_test_all,x_train_all,c_train_all,iteration_all,num_feat,data_generation_process):\n",
    "    from OLS import ols_method\n",
    "    ols_method_obj = ols_method()\n",
    "    W_ols_all = {}; w0_ols_all = {}; t_ols_all = {}; obj_ols_all = {}\n",
    "    cost_OLS_with_noise_all = {}; cost_OLS_wo_noise_all = {}\n",
    "    for iter in iteration_all:\n",
    "        # compute OLS performance\n",
    "        W_ols_all[iter], w0_ols_all[iter], t_ols_all[iter], obj_ols_all[iter] = ols_method_obj.ols_solver(\"\",x_train_all[iter], c_train_all[iter])\n",
    "        cost_dem = (W_ols_all[iter] @ x_test_all[iter].T).T + w0_ols_all[iter]\n",
    "\n",
    "        if data_generation_process == \"SPO_Data_Generation\":\n",
    "            cost_oracle_ori = (W_star_all[iter] @ x_test_all[iter].T)/np.sqrt(num_feat) + 3\n",
    "            cost_oracle_pred = (cost_oracle_ori ** mis + 1).T\n",
    "            cost_OLS_with_noise_all[iter] = perfs.compute_SPO_out_of_sample_Cost(arcs, grid,cost_dem,cost_oracle_pred,noise_test_all[iter])\n",
    "\n",
    "        if data_generation_process == \"DDR_Data_Generation\":\n",
    "            cost_oracle_ori = (W_star_all[iter] @ x_test_all[iter].T) + bump\n",
    "            cost_oracle_pred = (cost_oracle_ori ** mis).T\n",
    "            cost_OLS_with_noise_all[iter] = perfs.compute_DDR_out_of_sample_Cost(arcs, grid,cost_dem,cost_oracle_pred,noise_test_all[iter],True)\n",
    "            cost_OLS_wo_noise_all[iter] = perfs.compute_DDR_out_of_sample_Cost(arcs, grid,cost_dem,cost_oracle_pred,noise_test_all[iter],False)\n",
    "        if iter % 20 == 0 and iter > 0:\n",
    "            print(\"OLS: iter=\",iter,\",cost_OLS_with_noise_all =\",np.nanmean(cost_OLS_with_noise_all[iter]))\n",
    "    return cost_OLS_with_noise_all,cost_OLS_wo_noise_all"
   ]
  },
  {
   "cell_type": "code",
   "execution_count": 5,
   "metadata": {},
   "outputs": [],
   "source": [
    "def Implement_DDR(mu_all,lamb_all,arcs, grid,mis,bump,W_star_all,x_test_all,noise_test_all,x_train_all,c_train_all,iteration_all,num_feat,data_generation_process):\n",
    "    from DDR import DDR_method\n",
    "    ddr_object = DDR_method()\n",
    "    num_nodes = grid[0] * grid[0]\n",
    "\n",
    "    w0_ddr_dict = {}; W_ddr_dict = {}\n",
    "    cost_DDR_with_noise_all = {}; cost_DDR_wo_noise_all = {}\n",
    "    for iter in iteration_all:\n",
    "        for mu in mu_all:\n",
    "            for lamb in lamb_all:\n",
    "                w0_ddr_dict[iter,mu,lamb],W_ddr_dict[iter,mu,lamb],alpha_rst,obj_ddr = ddr_object.solve_DDR(arcs,lamb,mu,num_nodes,x_train_all[iter],c_train_all[iter])\n",
    "                cost_pred = (W_ddr_dict[iter,mu,lamb] @ x_test_all[iter].T).T + w0_ddr_dict[iter,mu,lamb]\n",
    "\n",
    "                if data_generation_process == \"SPO_Data_Generation\":\n",
    "                    cost_oracle_ori = (W_star_all[iter] @ x_test_all[iter].T)/np.sqrt(num_feat) + 3\n",
    "                    cost_oracle_pred = (cost_oracle_ori ** mis + 1).T\n",
    "                    cost_DDR_with_noise_all[iter,mu,lamb] = perfs.compute_SPO_out_of_sample_Cost(arcs, grid,cost_pred,cost_oracle_pred,noise_test_all[iter])\n",
    "\n",
    "                if data_generation_process == \"DDR_Data_Generation\":\n",
    "                    cost_oracle_ori = (W_star_all[iter] @ x_test_all[iter].T) + bump\n",
    "                    cost_oracle_pred = (cost_oracle_ori ** mis).T\n",
    "                    # cost_DDR_with_noise_all[iter,mu,lamb] = perfs.compute_DDR_out_of_sample_Cost(arcs, grid,cost_pred,cost_oracle_pred,noise_test_all[iter],True)\n",
    "                    cost_DDR_wo_noise_all[iter,mu,lamb] = perfs.compute_DDR_out_of_sample_Cost(arcs, grid,cost_pred,cost_oracle_pred,noise_test_all[iter],False)\n",
    "        if iter % 1 == 0 and iter > 0:\n",
    "            print(\"DDR: iter=\",iter,\",mu=\",mu,\",lamb=\",lamb,\",cost_DDR_with_noise_all =\",np.nanmean(cost_DDR_with_noise_all[iter,mu,lamb]))\n",
    "\n",
    "    return cost_DDR_with_noise_all,cost_DDR_wo_noise_all"
   ]
  },
  {
   "cell_type": "markdown",
   "metadata": {},
   "source": [
    "# Parameters"
   ]
  },
  {
   "cell_type": "code",
   "execution_count": 6,
   "metadata": {},
   "outputs": [
    {
     "name": "stdout",
     "output_type": "stream",
     "text": [
      "grandparent_directory: /Users/zhangxun/Dropbox/Research/Decision_Driven_Regularization/Code_MacBook\n",
      "DataPath: /Users/zhangxun/Dropbox/Research/Decision_Driven_Regularization/Data/Shortest_Path_Reproduce/5by5_grid_SPO_Data_Generation/\n"
     ]
    }
   ],
   "source": [
    "grid = (5,5) # grid size\n",
    "num_train = 100 # number of training data\n",
    "num_feat = 5 # size of feature\n",
    "num_test = 1000\n",
    "deg = 1.0 # polynomial degree\n",
    "e = 0.5 # scale of normal std or the range of uniform. For the error term\n",
    "\n",
    "lower = 0 # coef lower bound\n",
    "upper = 1 # coef upper bound\n",
    "p = num_feat # num of features\n",
    "d = (grid[0] - 1) * (grid[0] - 1) * 2 + 2 * (grid[0] - 1) # num of arcs\n",
    "num_nodes = grid[0]*grid[0]\n",
    "alpha = e # scale of normal std or the range of uniform. For the error term\n",
    "mis = deg # model misspecification\n",
    "coef_seed = 1\n",
    "\n",
    "x_dist = 'uniform'\n",
    "e_dist = 'normal'\n",
    "x_low = -2\n",
    "x_up = 2\n",
    "x_mean = 2\n",
    "x_var = 2\n",
    "bump = 100\n",
    "\n",
    "data_generation_process = \"SPO_Data_Generation\"\n",
    "# data_generation_process = \"DDR_Data_Generation\"\n",
    "\n",
    "current_directory = os.getcwd()\n",
    "parent_directory = os.path.dirname(current_directory)\n",
    "grandparent_directory = os.path.dirname(parent_directory)\n",
    "DataPath = os.path.dirname(grandparent_directory) + '/Data/Shortest_Path_Reproduce/'+str(grid[0])+'by'+str(grid[1])+'_grid_' + data_generation_process + \"/\"\n",
    "pathlib.Path(DataPath).mkdir(parents=True, exist_ok=True)\n",
    "print(\"grandparent_directory:\", grandparent_directory)\n",
    "print(\"DataPath:\", DataPath)\n",
    "DataPath = DataPath + \"data_size=\"+str(num_train)+\"_deg=\"+str(deg)+\"_e=\"+str(e)+\"_d=\"+str(d)+\"_x_dist=\"+x_dist+\"_num_test=\"+str(num_test)+\"_diff_W/\"\n",
    "pathlib.Path(DataPath).mkdir(parents=True, exist_ok=True)"
   ]
  },
  {
   "cell_type": "code",
   "execution_count": 7,
   "metadata": {},
   "outputs": [],
   "source": [
    "iteration_all = np.arange(0,20)\n",
    "x_test_all, c_test_all, x_train_all, c_train_all,noise_train_all,noise_test_all,W_star_all = Prepare_Data(DataPath,lower, upper, p, d, coef_seed,iteration_all,num_test, num_train, alpha,mis,data_generation_process,x_dist, e_dist, x_low, x_up, x_mean, x_var, bump)"
   ]
  },
  {
   "cell_type": "code",
   "execution_count": 8,
   "metadata": {},
   "outputs": [
    {
     "name": "stdout",
     "output_type": "stream",
     "text": [
      "Set parameter Username\n",
      "Academic license - for non-commercial use only - expires 2026-03-13\n",
      "Oracle: iter= 0 ,cost_Oracle_with_noise_all= 29.3866090601035\n",
      "Oracle: iter= 1 ,cost_Oracle_with_noise_all= 29.206888258544698\n",
      "Oracle: iter= 2 ,cost_Oracle_with_noise_all= 29.84722265331638\n",
      "Oracle: iter= 3 ,cost_Oracle_with_noise_all= 29.54973437815811\n",
      "Oracle: iter= 4 ,cost_Oracle_with_noise_all= 30.04309887526118\n",
      "Oracle: iter= 5 ,cost_Oracle_with_noise_all= 29.822800718946777\n",
      "Oracle: iter= 6 ,cost_Oracle_with_noise_all= 29.553496105402882\n",
      "Oracle: iter= 7 ,cost_Oracle_with_noise_all= 29.344619889515098\n",
      "Oracle: iter= 8 ,cost_Oracle_with_noise_all= 29.18228176386138\n",
      "Oracle: iter= 9 ,cost_Oracle_with_noise_all= 29.529635487694396\n",
      "Oracle: iter= 10 ,cost_Oracle_with_noise_all= 29.314580959557848\n",
      "Oracle: iter= 11 ,cost_Oracle_with_noise_all= 29.861832481945385\n",
      "Oracle: iter= 12 ,cost_Oracle_with_noise_all= 29.60493782617165\n",
      "Oracle: iter= 13 ,cost_Oracle_with_noise_all= 29.38400175647671\n",
      "Oracle: iter= 14 ,cost_Oracle_with_noise_all= 29.635930717106408\n",
      "Oracle: iter= 15 ,cost_Oracle_with_noise_all= 30.181635844143702\n",
      "Oracle: iter= 16 ,cost_Oracle_with_noise_all= 30.05752349464362\n",
      "Oracle: iter= 17 ,cost_Oracle_with_noise_all= 29.26361728445232\n",
      "Oracle: iter= 18 ,cost_Oracle_with_noise_all= 29.382238974359545\n",
      "Oracle: iter= 19 ,cost_Oracle_with_noise_all= 29.6232498138704\n"
     ]
    }
   ],
   "source": [
    "from Network import network_design\n",
    "Network = network_design()\n",
    "arcs,arc_index_mapping = Network._getArcs(grid)\n",
    "\n",
    "cost_Oracle_with_noise_all,cost_Oracle_wo_noise_all = Implement_Oracle(arcs, grid,mis,bump,W_star_all,x_test_all,noise_test_all,iteration_all,num_feat,data_generation_process)"
   ]
  },
  {
   "cell_type": "code",
   "execution_count": 9,
   "metadata": {},
   "outputs": [],
   "source": [
    "cost_OLS_with_noise_all,cost_OLS_wo_noise_all = Implement_OLS(arcs, grid,mis,bump,W_star_all,x_test_all,noise_test_all,x_train_all,c_train_all,iteration_all,num_feat,data_generation_process)"
   ]
  },
  {
   "cell_type": "code",
   "execution_count": 10,
   "metadata": {},
   "outputs": [
    {
     "name": "stdout",
     "output_type": "stream",
     "text": [
      "DDR: iter= 1 ,mu= 0.9 ,lamb= 0.9 ,cost_DDR_with_noise_all = 29.65109719021676\n",
      "DDR: iter= 2 ,mu= 0.9 ,lamb= 0.9 ,cost_DDR_with_noise_all = 30.356211891837965\n",
      "DDR: iter= 3 ,mu= 0.9 ,lamb= 0.9 ,cost_DDR_with_noise_all = 29.788252922121124\n",
      "DDR: iter= 4 ,mu= 0.9 ,lamb= 0.9 ,cost_DDR_with_noise_all = 30.36010856426727\n",
      "DDR: iter= 5 ,mu= 0.9 ,lamb= 0.9 ,cost_DDR_with_noise_all = 30.169854805130687\n",
      "DDR: iter= 6 ,mu= 0.9 ,lamb= 0.9 ,cost_DDR_with_noise_all = 29.937245822291704\n",
      "DDR: iter= 7 ,mu= 0.9 ,lamb= 0.9 ,cost_DDR_with_noise_all = 29.72658514639245\n",
      "DDR: iter= 8 ,mu= 0.9 ,lamb= 0.9 ,cost_DDR_with_noise_all = 29.480551341650383\n",
      "DDR: iter= 9 ,mu= 0.9 ,lamb= 0.9 ,cost_DDR_with_noise_all = 29.87084667377576\n",
      "DDR: iter= 10 ,mu= 0.9 ,lamb= 0.9 ,cost_DDR_with_noise_all = 29.67115809059136\n",
      "DDR: iter= 11 ,mu= 0.9 ,lamb= 0.9 ,cost_DDR_with_noise_all = 30.231641970699158\n",
      "DDR: iter= 12 ,mu= 0.9 ,lamb= 0.9 ,cost_DDR_with_noise_all = 29.863476901813033\n",
      "DDR: iter= 13 ,mu= 0.9 ,lamb= 0.9 ,cost_DDR_with_noise_all = 29.622711193501992\n",
      "DDR: iter= 14 ,mu= 0.9 ,lamb= 0.9 ,cost_DDR_with_noise_all = 30.03900617176271\n",
      "DDR: iter= 15 ,mu= 0.9 ,lamb= 0.9 ,cost_DDR_with_noise_all = 30.41162150228776\n",
      "DDR: iter= 16 ,mu= 0.9 ,lamb= 0.9 ,cost_DDR_with_noise_all = 30.349374287830774\n",
      "DDR: iter= 17 ,mu= 0.9 ,lamb= 0.9 ,cost_DDR_with_noise_all = 29.508004942338438\n",
      "DDR: iter= 18 ,mu= 0.9 ,lamb= 0.9 ,cost_DDR_with_noise_all = 29.677738937756153\n",
      "DDR: iter= 19 ,mu= 0.9 ,lamb= 0.9 ,cost_DDR_with_noise_all = 29.989825491532514\n"
     ]
    }
   ],
   "source": [
    "mu_all = np.round(np.arange(0.1,1.0,0.1),4)\n",
    "lamb_all = np.round(np.arange(0.0,1.0,0.1),4)\n",
    "cost_DDR_with_noise_all,cost_DDR_wo_noise_all = Implement_DDR(mu_all,lamb_all,arcs, grid,mis,bump,W_star_all,x_test_all,noise_test_all,x_train_all,c_train_all,iteration_all,num_feat,data_generation_process)"
   ]
  },
  {
   "cell_type": "code",
   "execution_count": 16,
   "metadata": {},
   "outputs": [],
   "source": [
    "with open(DataPath+'cost_OLS_with_noise_all.pkl', \"wb\") as tf:\n",
    "    pickle.dump(cost_OLS_with_noise_all,tf)\n",
    "with open(DataPath+'cost_Oracle_with_noise_all.pkl', \"wb\") as tf:\n",
    "    pickle.dump(cost_Oracle_with_noise_all,tf)\n",
    "with open(DataPath+'cost_DDR_with_noise_all.pkl', \"wb\") as tf:\n",
    "    pickle.dump(cost_DDR_with_noise_all,tf)"
   ]
  },
  {
   "cell_type": "markdown",
   "metadata": {},
   "source": [
    "### Comparison"
   ]
  },
  {
   "cell_type": "code",
   "execution_count": 11,
   "metadata": {},
   "outputs": [],
   "source": [
    "def cross_compare2plus(c_item, c_base, c_oracle):\n",
    "    N = len(c_item)\n",
    "    c_diff = c_base - c_item\n",
    "    lbel = np.zeros((N,1))\n",
    "    \n",
    "    equals = np.sum(c_diff == 0)\n",
    "    wins = np.sum(c_diff > 0) # indicate num of c_item is lower than c_base\n",
    "    lose = np.sum(c_diff < 0)\n",
    "    \n",
    "    lbel[c_diff < 0] = 1\n",
    "    lbel[c_diff > 0] = -1\n",
    "    \n",
    "#     print(N, equals, wins, lose)\n",
    "    if N == equals:\n",
    "        win_ratio = 0.5\n",
    "    else:\n",
    "        win_ratio = wins/(N - equals)\n",
    "    cost_reduction = (np.mean(c_diff))/np.abs(np.mean(c_base))\n",
    "    regret_reduction = (np.mean(c_diff))/np.abs(np.mean(c_base) - np.mean(c_oracle))\n",
    "    return win_ratio, cost_reduction, regret_reduction"
   ]
  },
  {
   "cell_type": "code",
   "execution_count": 12,
   "metadata": {},
   "outputs": [
    {
     "name": "stdout",
     "output_type": "stream",
     "text": [
      "mu= 0.1 ,lamb= 0.0 h2h_ddr_ols= 0.5 regret= 0.0\n",
      "mu= 0.1 ,lamb= 0.1 h2h_ddr_ols= 0.48922617850420547 regret= -0.0023930977451193905\n",
      "mu= 0.1 ,lamb= 0.2 h2h_ddr_ols= 0.48400866232206025 regret= -0.0090662773548883\n",
      "mu= 0.1 ,lamb= 0.3 h2h_ddr_ols= 0.479537488778622 regret= -0.018881462882073555\n",
      "mu= 0.1 ,lamb= 0.4 h2h_ddr_ols= 0.46658916658900396 regret= -0.03296507951692523\n",
      "mu= 0.1 ,lamb= 0.5 h2h_ddr_ols= 0.44982647123715214 regret= -0.0540944213190967\n",
      "mu= 0.1 ,lamb= 0.6 h2h_ddr_ols= 0.4345242370835396 regret= -0.0795019613431329\n",
      "mu= 0.1 ,lamb= 0.7 h2h_ddr_ols= 0.42095450571224424 regret= -0.10420810343969875\n",
      "mu= 0.1 ,lamb= 0.8 h2h_ddr_ols= 0.40532007132376346 regret= -0.1352964317037468\n",
      "mu= 0.1 ,lamb= 0.9 h2h_ddr_ols= 0.39338735478263975 regret= -0.17038085956572555\n",
      "mu= 0.2 ,lamb= 0.0 h2h_ddr_ols= 0.5 regret= 0.0\n",
      "mu= 0.2 ,lamb= 0.1 h2h_ddr_ols= 0.4671797197290489 regret= -0.005305716048485306\n",
      "mu= 0.2 ,lamb= 0.2 h2h_ddr_ols= 0.47947166622148557 regret= -0.01059463121042337\n",
      "mu= 0.2 ,lamb= 0.3 h2h_ddr_ols= 0.46962924949280554 regret= -0.016730276254963816\n",
      "mu= 0.2 ,lamb= 0.4 h2h_ddr_ols= 0.4585349936835805 regret= -0.022953366436644623\n",
      "mu= 0.2 ,lamb= 0.5 h2h_ddr_ols= 0.45733461187242214 regret= -0.0359096954519179\n",
      "mu= 0.2 ,lamb= 0.6 h2h_ddr_ols= 0.45232072481773355 regret= -0.05073904590178614\n",
      "mu= 0.2 ,lamb= 0.7 h2h_ddr_ols= 0.4422765097164101 regret= -0.06947617000568702\n",
      "mu= 0.2 ,lamb= 0.8 h2h_ddr_ols= 0.428276671990149 regret= -0.09286307964132799\n",
      "mu= 0.2 ,lamb= 0.9 h2h_ddr_ols= 0.41597883784710643 regret= -0.12130241056413853\n",
      "mu= 0.3 ,lamb= 0.0 h2h_ddr_ols= 0.5 regret= 0.0\n",
      "mu= 0.3 ,lamb= 0.1 h2h_ddr_ols= 0.4531662494408735 regret= -0.004589861022286364\n",
      "mu= 0.3 ,lamb= 0.2 h2h_ddr_ols= 0.47067294573622426 regret= -0.007609225409725498\n",
      "mu= 0.3 ,lamb= 0.3 h2h_ddr_ols= 0.46868662183471593 regret= -0.010836606005590927\n",
      "mu= 0.3 ,lamb= 0.4 h2h_ddr_ols= 0.4669887520994239 regret= -0.018296092717812244\n",
      "mu= 0.3 ,lamb= 0.5 h2h_ddr_ols= 0.4542914988252738 regret= -0.027600917074573367\n",
      "mu= 0.3 ,lamb= 0.6 h2h_ddr_ols= 0.45438599414414804 regret= -0.035391035422191595\n",
      "mu= 0.3 ,lamb= 0.7 h2h_ddr_ols= 0.4473016508771354 regret= -0.05282671762372817\n",
      "mu= 0.3 ,lamb= 0.8 h2h_ddr_ols= 0.44091130415092045 regret= -0.06721017732076166\n",
      "mu= 0.3 ,lamb= 0.9 h2h_ddr_ols= 0.43488560126526793 regret= -0.08079838431604416\n",
      "mu= 0.4 ,lamb= 0.0 h2h_ddr_ols= 0.5 regret= 0.0\n",
      "mu= 0.4 ,lamb= 0.1 h2h_ddr_ols= 0.4536596919900121 regret= -0.0035514824139652825\n",
      "mu= 0.4 ,lamb= 0.2 h2h_ddr_ols= 0.4553905945425719 regret= -0.008038584658312909\n",
      "mu= 0.4 ,lamb= 0.3 h2h_ddr_ols= 0.47401533283837016 regret= -0.008204100354501209\n",
      "mu= 0.4 ,lamb= 0.4 h2h_ddr_ols= 0.46194472645368967 regret= -0.015553705055391174\n",
      "mu= 0.4 ,lamb= 0.5 h2h_ddr_ols= 0.4580216626733346 regret= -0.02062149686729512\n",
      "mu= 0.4 ,lamb= 0.6 h2h_ddr_ols= 0.4584962773430621 regret= -0.02931917668725721\n",
      "mu= 0.4 ,lamb= 0.7 h2h_ddr_ols= 0.45376201696917684 regret= -0.03935162891718734\n",
      "mu= 0.4 ,lamb= 0.8 h2h_ddr_ols= 0.449525812173681 regret= -0.04865600517552661\n",
      "mu= 0.4 ,lamb= 0.9 h2h_ddr_ols= 0.4429088559246764 regret= -0.06062937867416588\n",
      "mu= 0.5 ,lamb= 0.0 h2h_ddr_ols= 0.5 regret= 0.0\n",
      "mu= 0.5 ,lamb= 0.1 h2h_ddr_ols= 0.48635511461362857 regret= -0.0037307678560786215\n",
      "mu= 0.5 ,lamb= 0.2 h2h_ddr_ols= 0.4626721816482327 regret= -0.005785706564755149\n",
      "mu= 0.5 ,lamb= 0.3 h2h_ddr_ols= 0.4768515067224365 regret= -0.006699808458516551\n",
      "mu= 0.5 ,lamb= 0.4 h2h_ddr_ols= 0.48859491363215096 regret= -0.006134539277858846\n",
      "mu= 0.5 ,lamb= 0.5 h2h_ddr_ols= 0.48418757934316564 regret= -0.009189670452997512\n",
      "mu= 0.5 ,lamb= 0.6 h2h_ddr_ols= 0.47643663068416736 regret= -0.01366987381471002\n",
      "mu= 0.5 ,lamb= 0.7 h2h_ddr_ols= 0.48503934029516715 regret= -0.016523647553222075\n",
      "mu= 0.5 ,lamb= 0.8 h2h_ddr_ols= 0.48488574105196713 regret= -0.02098435626114639\n",
      "mu= 0.5 ,lamb= 0.9 h2h_ddr_ols= 0.47124501927822965 regret= -0.029250469315511302\n",
      "mu= 0.6 ,lamb= 0.0 h2h_ddr_ols= 0.5 regret= 0.0\n",
      "mu= 0.6 ,lamb= 0.1 h2h_ddr_ols= 0.44511977058029684 regret= -0.004409543854036169\n",
      "mu= 0.6 ,lamb= 0.2 h2h_ddr_ols= 0.4471392051989878 regret= -0.005757965745468336\n",
      "mu= 0.6 ,lamb= 0.3 h2h_ddr_ols= 0.4689305392580111 regret= -0.006685664005750112\n",
      "mu= 0.6 ,lamb= 0.4 h2h_ddr_ols= 0.48820295206280917 regret= -0.007917615282983938\n",
      "mu= 0.6 ,lamb= 0.5 h2h_ddr_ols= 0.5016796975200399 regret= -0.005922387210526023\n",
      "mu= 0.6 ,lamb= 0.6 h2h_ddr_ols= 0.4923565031363152 regret= -0.007585683738875087\n",
      "mu= 0.6 ,lamb= 0.7 h2h_ddr_ols= 0.481727870902563 regret= -0.011246761550542089\n",
      "mu= 0.6 ,lamb= 0.8 h2h_ddr_ols= 0.4756440115186476 regret= -0.015176513510416195\n",
      "mu= 0.6 ,lamb= 0.9 h2h_ddr_ols= 0.4753723417565155 regret= -0.01791849478524432\n",
      "mu= 0.7 ,lamb= 0.0 h2h_ddr_ols= 0.5 regret= 0.0\n",
      "mu= 0.7 ,lamb= 0.1 h2h_ddr_ols= 0.39341089466089463 regret= -0.003157621573250902\n",
      "mu= 0.7 ,lamb= 0.2 h2h_ddr_ols= 0.46653814902847407 regret= -0.004349882804731172\n",
      "mu= 0.7 ,lamb= 0.3 h2h_ddr_ols= 0.4676352210391519 regret= -0.004865417835678105\n",
      "mu= 0.7 ,lamb= 0.4 h2h_ddr_ols= 0.4770433406455278 regret= -0.005379008028035067\n",
      "mu= 0.7 ,lamb= 0.5 h2h_ddr_ols= 0.48614648237924535 regret= -0.006367316994284866\n",
      "mu= 0.7 ,lamb= 0.6 h2h_ddr_ols= 0.48760804691904625 regret= -0.005802960740635968\n",
      "mu= 0.7 ,lamb= 0.7 h2h_ddr_ols= 0.4899418796254739 regret= -0.006318088152737494\n",
      "mu= 0.7 ,lamb= 0.8 h2h_ddr_ols= 0.48898998148138473 regret= -0.007309610863914179\n",
      "mu= 0.7 ,lamb= 0.9 h2h_ddr_ols= 0.4991175508705303 regret= -0.005385697039021282\n",
      "mu= 0.8 ,lamb= 0.0 h2h_ddr_ols= 0.5 regret= 0.0\n",
      "mu= 0.8 ,lamb= 0.1 h2h_ddr_ols= 0.4230952380952381 regret= -0.0019655659636124345\n",
      "mu= 0.8 ,lamb= 0.2 h2h_ddr_ols= 0.44123927134956553 regret= -0.002712604875655619\n",
      "mu= 0.8 ,lamb= 0.3 h2h_ddr_ols= 0.46177680442192826 regret= -0.00397861190159801\n",
      "mu= 0.8 ,lamb= 0.4 h2h_ddr_ols= 0.46542028208539243 regret= -0.0050649832084327705\n",
      "mu= 0.8 ,lamb= 0.5 h2h_ddr_ols= 0.473799523121619 regret= -0.003751658325754848\n",
      "mu= 0.8 ,lamb= 0.6 h2h_ddr_ols= 0.4889661249270234 regret= -0.003843495441638373\n",
      "mu= 0.8 ,lamb= 0.7 h2h_ddr_ols= 0.4883177407399882 regret= -0.005147033008738993\n",
      "mu= 0.8 ,lamb= 0.8 h2h_ddr_ols= 0.49680186147435945 regret= -0.005618941219218638\n",
      "mu= 0.8 ,lamb= 0.9 h2h_ddr_ols= 0.488240284247029 regret= -0.009248482083105497\n",
      "mu= 0.9 ,lamb= 0.0 h2h_ddr_ols= 0.5 regret= 0.0\n",
      "mu= 0.9 ,lamb= 0.1 h2h_ddr_ols= 0.33249999999999996 regret= -0.0009083301856651786\n",
      "mu= 0.9 ,lamb= 0.2 h2h_ddr_ols= 0.40369047619047616 regret= -0.002127793112629679\n",
      "mu= 0.9 ,lamb= 0.3 h2h_ddr_ols= 0.40954365079365085 regret= -0.0030170560512685247\n",
      "mu= 0.9 ,lamb= 0.4 h2h_ddr_ols= 0.40050241425241423 regret= -0.004051434293284948\n",
      "mu= 0.9 ,lamb= 0.5 h2h_ddr_ols= 0.4513780663780663 regret= -0.0035948707782278216\n",
      "mu= 0.9 ,lamb= 0.6 h2h_ddr_ols= 0.4486231506711382 regret= -0.0040470214293871895\n",
      "mu= 0.9 ,lamb= 0.7 h2h_ddr_ols= 0.4415659724841647 regret= -0.005931703390242137\n",
      "mu= 0.9 ,lamb= 0.8 h2h_ddr_ols= 0.43873693699184607 regret= -0.006468030083097161\n",
      "mu= 0.9 ,lamb= 0.9 h2h_ddr_ols= 0.4433933680249228 regret= -0.005908196186085843\n"
     ]
    }
   ],
   "source": [
    "h2h_ddr_vs_ols_all = {}; cost_reduction_ddr_vs_ols_all = {}; regret_reduction_ddr_vs_ols_all = {}\n",
    "h2h_ddr_vs_ols_avg = np.zeros((len(mu_all),len(lamb_all))); regret_ddr_vs_ols_avg = np.zeros((len(mu_all),len(lamb_all)))\n",
    "\n",
    "mu_index = 0\n",
    "for mu in mu_all:\n",
    "    lamb_index = 0\n",
    "    for lamb in lamb_all:\n",
    "\n",
    "        h2h_ddr_ols = np.zeros(len(iteration_all)); cost_reduction_ddr_vs_ols = np.zeros(len(iteration_all)); regret_reduction_ddr_vs_ols = np.zeros(len(iteration_all))\n",
    "        for iter_index in range(len(iteration_all)):\n",
    "            iter = iteration_all[iter_index]\n",
    "            h2h_ddr_ols[iter_index],cost_reduction_ddr_vs_ols[iter_index],regret_reduction_ddr_vs_ols[iter_index] = cross_compare2plus(cost_DDR_with_noise_all[iter,mu,lamb], cost_OLS_with_noise_all[iter], cost_Oracle_with_noise_all[iter])\n",
    "        h2h_ddr_vs_ols_avg[mu_index,lamb_index] = np.nanmean(h2h_ddr_ols)\n",
    "        regret_ddr_vs_ols_avg[mu_index,lamb_index] = np.nanmean(regret_reduction_ddr_vs_ols)\n",
    "        print(\"mu=\",mu,\",lamb=\",lamb,\"h2h_ddr_ols=\",np.nanmean(h2h_ddr_ols),\"regret=\",np.nanmean(regret_reduction_ddr_vs_ols))\n",
    "        lamb_index = lamb_index + 1\n",
    "    \n",
    "        h2h_ddr_vs_ols_all[mu,lamb] = h2h_ddr_ols\n",
    "        cost_reduction_ddr_vs_ols_all[mu,lamb] = cost_reduction_ddr_vs_ols\n",
    "        regret_reduction_ddr_vs_ols_all[mu,lamb] = regret_reduction_ddr_vs_ols\n",
    "    mu_index = mu_index + 1"
   ]
  },
  {
   "cell_type": "code",
   "execution_count": 13,
   "metadata": {},
   "outputs": [],
   "source": [
    "regret_DDR_vs_OLS_para_avg_df = pd.DataFrame(regret_ddr_vs_ols_avg)\n",
    "regret_DDR_vs_OLS_para_avg_df.index = [\"$\\mu=\"+str(mu)+\"$\" for mu in mu_all]\n",
    "regret_DDR_vs_OLS_para_avg_df.columns = [\"$\\lambda=\"+str(lamb)+\"$\" for lamb in lamb_all]\n",
    "regret_DDR_vs_OLS_para_avg_df.to_csv(DataPath+\"regret_ddr_vs_ols_avg.csv\")"
   ]
  },
  {
   "cell_type": "code",
   "execution_count": 14,
   "metadata": {},
   "outputs": [],
   "source": [
    "h2h_DDR_vs_OLS_para_avg_df = pd.DataFrame(h2h_ddr_vs_ols_avg)\n",
    "h2h_DDR_vs_OLS_para_avg_df.index = [\"$\\mu=\"+str(mu)+\"$\" for mu in mu_all]\n",
    "h2h_DDR_vs_OLS_para_avg_df.columns = [\"$\\lambda=\"+str(lamb)+\"$\" for lamb in lamb_all]\n",
    "h2h_DDR_vs_OLS_para_avg_df.to_csv(DataPath+\"h2h_ddr_vs_ols_avg.csv\")"
   ]
  },
  {
   "cell_type": "markdown",
   "metadata": {},
   "source": [
    "# EPO(SPO+,...)"
   ]
  },
  {
   "cell_type": "code",
   "execution_count": 15,
   "metadata": {},
   "outputs": [],
   "source": [
    "# def Implement_EPO(DataPath,iteration_all,batch_size,num_epochs,method_names,W_star_all,bump,x_train_all,c_train_all,x_test_all,noise_test_all,\\\n",
    "#                   arcs,grid,epo_runner,perfs):\n",
    "#     W_EPO_all = {}; w0_EPO_all = {}\n",
    "#     cost_EPO_all = {}\n",
    "#     for iter in iteration_all:\n",
    "#         DataPath_seed = DataPath +\"iter=\"+str(iter)+\"/\"\n",
    "#         pathlib.Path(DataPath_seed).mkdir(parents=True, exist_ok=True)\n",
    "#         # print(\"*** seed = \",seed,\": Run EPO ******\")\n",
    "#         W_EPO_all[iter],w0_EPO_all[iter] = epo_runner.run(method_names,DataPath_seed,batch_size,num_feat,grid,num_epochs,\\\n",
    "#                                         x_train_all[iter],c_train_all[iter],arcs)\n",
    "        \n",
    "#         cost_dem = (W_EPO_all[iter] @ x_test_all[iter].T).T + w0_EPO_all[iter]\n",
    "#         if data_generation_process == \"SPO_Data_Generation\":\n",
    "#             cost_oracle_ori = (W_star_all[iter] @ x_test_all[iter].T)/np.sqrt(num_feat) + 3\n",
    "#             cost_oracle_pred = (cost_oracle_ori ** mis + 1).T\n",
    "#             cost_EPO_all[iter] = perfs.compute_SPO_out_of_sample_Cost(arcs, grid,cost_dem,cost_oracle_pred,noise_test_all[iter])\n",
    "\n",
    "#         if data_generation_process == \"DDR_Data_Generation\":\n",
    "#             cost_oracle_ori = (W_star_all[iter] @ x_test_all[iter].T) + bump\n",
    "#             cost_oracle_pred = (cost_oracle_ori ** mis).T\n",
    "#             cost_EPO_all[iter] = perfs.compute_DDR_out_of_sample_Cost(arcs, grid,cost_dem,cost_oracle_pred,noise_test_all[iter])\n",
    "#         print(method_names[0],\": iter=\",iter,\",cost=\",np.nanmean(cost_EPO_all[iter]))\n",
    "\n",
    "#     return W_EPO_all,w0_EPO_all,cost_EPO_all"
   ]
  },
  {
   "cell_type": "code",
   "execution_count": 65,
   "metadata": {},
   "outputs": [
    {
     "name": "stdout",
     "output_type": "stream",
     "text": [
      "DataPath_parents: /Users/zhangxun/Dropbox/Research/Decision_Driven_Regularization/Data/Shortest_Path_Reproduce/2by2_grid_SPO_Data_Generation/\n",
      "DataPath_current: /Users/zhangxun/Dropbox/Research/Decision_Driven_Regularization/Data/Shortest_Path_Reproduce/2by2_grid_SPO_Data_Generation/data_size=100_deg=1.0_e=0.5_d=4_x_dist=uniform_num_test=1000_diff_W/\n",
      "max regert =  7.75\n",
      "DataPath_parents: /Users/zhangxun/Dropbox/Research/Decision_Driven_Regularization/Data/Shortest_Path_Reproduce/3by3_grid_SPO_Data_Generation/\n",
      "DataPath_current: /Users/zhangxun/Dropbox/Research/Decision_Driven_Regularization/Data/Shortest_Path_Reproduce/3by3_grid_SPO_Data_Generation/data_size=100_deg=1.0_e=0.5_d=12_x_dist=uniform_num_test=1000_diff_W/\n",
      "max regert =  2.44\n",
      "DataPath_parents: /Users/zhangxun/Dropbox/Research/Decision_Driven_Regularization/Data/Shortest_Path_Reproduce/4by4_grid_SPO_Data_Generation/\n",
      "DataPath_current: /Users/zhangxun/Dropbox/Research/Decision_Driven_Regularization/Data/Shortest_Path_Reproduce/4by4_grid_SPO_Data_Generation/data_size=100_deg=1.0_e=0.5_d=24_x_dist=uniform_num_test=1000_diff_W/\n",
      "max regert =  0.32\n",
      "DataPath_parents: /Users/zhangxun/Dropbox/Research/Decision_Driven_Regularization/Data/Shortest_Path_Reproduce/5by5_grid_SPO_Data_Generation/\n",
      "DataPath_current: /Users/zhangxun/Dropbox/Research/Decision_Driven_Regularization/Data/Shortest_Path_Reproduce/5by5_grid_SPO_Data_Generation/data_size=100_deg=1.0_e=0.5_d=40_x_dist=uniform_num_test=1000_diff_W/\n",
      "max regert =  0.0\n"
     ]
    },
    {
     "name": "stderr",
     "output_type": "stream",
     "text": [
      "/var/folders/m2/j39mx9854cbb70jqvn7cjcqh0000gn/T/ipykernel_40340/140606056.py:17: FutureWarning: DataFrame.applymap has been deprecated. Use DataFrame.map instead.\n",
      "  regret_np = pd.DataFrame(regret_ddr_vs_ols_avg.values).applymap(lambda x: float(x.strip('%')) / 100).values\n",
      "/var/folders/m2/j39mx9854cbb70jqvn7cjcqh0000gn/T/ipykernel_40340/140606056.py:17: FutureWarning: DataFrame.applymap has been deprecated. Use DataFrame.map instead.\n",
      "  regret_np = pd.DataFrame(regret_ddr_vs_ols_avg.values).applymap(lambda x: float(x.strip('%')) / 100).values\n",
      "/var/folders/m2/j39mx9854cbb70jqvn7cjcqh0000gn/T/ipykernel_40340/140606056.py:17: FutureWarning: DataFrame.applymap has been deprecated. Use DataFrame.map instead.\n",
      "  regret_np = pd.DataFrame(regret_ddr_vs_ols_avg.values).applymap(lambda x: float(x.strip('%')) / 100).values\n",
      "/var/folders/m2/j39mx9854cbb70jqvn7cjcqh0000gn/T/ipykernel_40340/140606056.py:17: FutureWarning: DataFrame.applymap has been deprecated. Use DataFrame.map instead.\n",
      "  regret_np = pd.DataFrame(regret_ddr_vs_ols_avg.values).applymap(lambda x: float(x.strip('%')) / 100).values\n"
     ]
    }
   ],
   "source": [
    "data_generation_process = \"SPO_Data_Generation\"\n",
    "# data_generation_process = \"DDR_Data_Generation\"\n",
    "\n",
    "grid_all = [(2,2),(3,3),(4,4),(5,5)] # grid size\n",
    "max_regret_arr = []\n",
    "for grid in grid_all:\n",
    "    d = (grid[0] - 1) * (grid[0] - 1) * 2 + 2 * (grid[0] - 1) # num of arcs\n",
    "\n",
    "    current_directory = os.getcwd()\n",
    "    parent_directory = os.path.dirname(current_directory)\n",
    "    grandparent_directory = os.path.dirname(parent_directory)\n",
    "    DataPath_parents = os.path.dirname(grandparent_directory) + '/Data/Shortest_Path_Reproduce/'+str(grid[0])+'by'+str(grid[1])+'_grid_' + data_generation_process + \"/\"\n",
    "    print(\"DataPath_parents:\", DataPath_parents)\n",
    "    DataPath_current = DataPath_parents + \"data_size=\"+str(num_train)+\"_deg=\"+str(deg)+\"_e=\"+str(e)+\"_d=\"+str(d)+\"_x_dist=\"+x_dist+\"_num_test=\"+str(num_test)+\"_diff_W/\"\n",
    "    print(\"DataPath_current:\", DataPath_current)\n",
    "    regret_ddr_vs_ols_avg = pd.read_csv(DataPath_current +'regret_ddr_vs_ols_avg.csv',index_col=0)\n",
    "    regret_np = pd.DataFrame(regret_ddr_vs_ols_avg.values).applymap(lambda x: float(x.strip('%')) / 100).values\n",
    "    print(\"max regert = \",np.max(regret_np)*100)\n",
    "    max_regret_arr.append(np.max(regret_np)*100)\n",
    "max_regret_arr = np.asarray(max_regret_arr)"
   ]
  },
  {
   "cell_type": "code",
   "execution_count": 66,
   "metadata": {},
   "outputs": [
    {
     "data": {
      "text/plain": [
       "array([7.75, 2.44, 0.32, 0.  ])"
      ]
     },
     "execution_count": 66,
     "metadata": {},
     "output_type": "execute_result"
    }
   ],
   "source": [
    "max_regret_arr"
   ]
  }
 ],
 "metadata": {
  "kernelspec": {
   "display_name": ".venv",
   "language": "python",
   "name": "python3"
  },
  "language_info": {
   "codemirror_mode": {
    "name": "ipython",
    "version": 3
   },
   "file_extension": ".py",
   "mimetype": "text/x-python",
   "name": "python",
   "nbconvert_exporter": "python",
   "pygments_lexer": "ipython3",
   "version": "3.9.6"
  }
 },
 "nbformat": 4,
 "nbformat_minor": 2
}
