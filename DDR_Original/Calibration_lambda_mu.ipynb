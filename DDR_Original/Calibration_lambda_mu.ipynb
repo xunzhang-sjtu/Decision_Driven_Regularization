{
 "cells": [
  {
   "cell_type": "code",
   "execution_count": null,
   "metadata": {},
   "outputs": [],
   "source": [
    "import numpy as np\n",
    "from numpy import random\n",
    "import time\n",
    "import pickle\n",
    "import os\n",
    "import pathlib\n",
    "import inspect\n",
    "\n",
    "from Data import data_generation\n",
    "from OLS import ols_method\n",
    "from DDR import ddr_method\n",
    "from SPO_Plus import SPO_plus_method\n",
    "from Performance import performance_evaluation\n",
    "from Figure import regret_h2h\n",
    "regret_h2h_fig = regret_h2h()"
   ]
  },
  {
   "cell_type": "code",
   "execution_count": null,
   "metadata": {},
   "outputs": [],
   "source": [
    "def obtain_cost(iters,DataPath,file_name):\n",
    "    cost = []\n",
    "    for i in range(iters):\n",
    "        file_path = DataPath + \"iter=\"+str(i) +\"/\"\n",
    "        with open(file_path+file_name, \"rb\") as f:\n",
    "            file_pkl = pickle.load(f)\n",
    "        cost.append(file_pkl['cost'])\n",
    "    return cost"
   ]
  },
  {
   "cell_type": "markdown",
   "metadata": {},
   "source": [
    "# Store results"
   ]
  },
  {
   "cell_type": "code",
   "execution_count": null,
   "metadata": {},
   "outputs": [],
   "source": [
    "def store_results(file_name, **kwargs):\n",
    "    \"\"\"\n",
    "    存储变量名和值到字典，并保存为 pickle 文件。\n",
    "\n",
    "    参数:\n",
    "    - file_name (str): 要存储的 pickle 文件名\n",
    "    - **kwargs: 需要存储的变量（自动识别变量名）\n",
    "\n",
    "    返回:\n",
    "    - result: 包含变量名和值的字典\n",
    "    \"\"\"\n",
    "    result = {}\n",
    "    frame = inspect.currentframe().f_back  # 获取上一层调用的栈帧\n",
    "    # 遍历 kwargs 变量\n",
    "    for key, value in kwargs.items():\n",
    "        result[key] = value\n",
    "    # 存储为 pickle 文件\n",
    "    with open(file_name, \"wb\") as f:\n",
    "        pickle.dump(result, f)"
   ]
  },
  {
   "cell_type": "markdown",
   "metadata": {},
   "source": [
    "# Comparison"
   ]
  },
  {
   "cell_type": "code",
   "execution_count": 25,
   "metadata": {},
   "outputs": [],
   "source": [
    "def calculate_comparison(file_name,perf_eva,c_item, c_base, c_oracle,ypio):\n",
    "    if ypio == 0:\n",
    "#     # compares results\n",
    "        lbels, h2h, mci = perf_eva.cross_compare2(c_item, c_base, c_oracle)\n",
    "        store_results(file_name,lbels=lbels,h2h=h2h,mci=mci)\n",
    "        print(\"h2h = \",h2h)\n",
    "    else:\n",
    "        # compares results plus\n",
    "        lbels, h2h, mci, pio = perf_eva.cross_compare2plus(c_item, c_base, c_oracle)\n",
    "        store_results(file_name,lbels=lbels,h2h=h2h,mci=mci,pio=pio)\n",
    "        print(\"h2h = \",h2h,\" pio = \",pio)\n",
    "    return lbels, h2h, mci, pio"
   ]
  },
  {
   "cell_type": "markdown",
   "metadata": {},
   "source": [
    "# Main process"
   ]
  },
  {
   "cell_type": "code",
   "execution_count": 18,
   "metadata": {},
   "outputs": [
    {
     "name": "stdout",
     "output_type": "stream",
     "text": [
      "grandparent_directory: /Users/zhangxun/Dropbox/Research/Decision_Driven_Regularization\n",
      "DataPath: /Users/zhangxun/Dropbox/Research/Decision_Driven_Regularization/Data/Regret_H2H_Comparison/\n"
     ]
    }
   ],
   "source": [
    "## Train and test are together\n",
    "seed = 3\n",
    "## Train and test are together\n",
    "start = time.time()\n",
    "random.seed(seed)\n",
    "iters = 100\n",
    "p = 4\n",
    "d = 10\n",
    "samples_test = 10000\n",
    "samples_train = 100\n",
    "lower = 0\n",
    "upper = 1\n",
    "alpha = 1\n",
    "n_epsilon = 1\n",
    "mis = 1\n",
    "thres = 10000\n",
    "ver = 1\n",
    "x_dister = 'uniform'\n",
    "e_dister = 'normal'\n",
    "xl = -2\n",
    "xu = 2\n",
    "xm = 2\n",
    "xv = 0.25\n",
    "#bp = abs(xl)*upper*d\n",
    "bp = 7\n",
    "\n",
    "mu = 0.25\n",
    "lamb = 0.25\n",
    "\n",
    "current_directory = os.getcwd()\n",
    "parent_directory = os.path.dirname(current_directory)\n",
    "grandparent_directory = os.path.dirname(parent_directory)\n",
    "DataPath = grandparent_directory + '/Data/Regret_H2H_Comparison/'\n",
    "pathlib.Path(DataPath).mkdir(parents=True, exist_ok=True)\n",
    "print(\"grandparent_directory:\", grandparent_directory)\n",
    "print(\"DataPath:\", DataPath)"
   ]
  },
  {
   "cell_type": "markdown",
   "metadata": {},
   "source": [
    "# Obtain cost of each approach"
   ]
  },
  {
   "cell_type": "code",
   "execution_count": 19,
   "metadata": {},
   "outputs": [],
   "source": [
    "c_oracle = obtain_cost(iters,DataPath,\"Oracle.pkl\")\n",
    "c_ols = obtain_cost(iters,DataPath,\"OLS.pkl\")\n",
    "c_ddr = obtain_cost(iters,DataPath,\"DDR.pkl\")"
   ]
  },
  {
   "cell_type": "code",
   "execution_count": 26,
   "metadata": {},
   "outputs": [
    {
     "name": "stdout",
     "output_type": "stream",
     "text": [
      "============== iteration =  0 ==============\n",
      "h2h =  0.6587301587301587  pio =  0.03507476215258564\n",
      "============== iteration =  1 ==============\n",
      "h2h =  0.42142857142857143  pio =  0.003118474803942481\n",
      "============== iteration =  2 ==============\n",
      "h2h =  0.6818181818181818  pio =  0.04439574301091119\n",
      "============== iteration =  3 ==============\n",
      "h2h =  0.6035502958579881  pio =  0.014927833107800617\n",
      "============== iteration =  4 ==============\n",
      "h2h =  0.4147727272727273  pio =  -0.005907309133409202\n",
      "============== iteration =  5 ==============\n",
      "h2h =  0.5224719101123596  pio =  0.003257236066615833\n",
      "============== iteration =  6 ==============\n",
      "h2h =  0.36363636363636365  pio =  -0.030777045171919426\n",
      "============== iteration =  7 ==============\n",
      "h2h =  0.5555555555555556  pio =  0.016528690121354325\n",
      "============== iteration =  8 ==============\n",
      "h2h =  0.4494949494949495  pio =  -0.0036800653251629575\n",
      "============== iteration =  9 ==============\n",
      "h2h =  0.6203208556149733  pio =  0.02156939663867968\n",
      "============== iteration =  10 ==============\n",
      "h2h =  0.8507462686567164  pio =  0.07096399180845175\n",
      "============== iteration =  11 ==============\n",
      "h2h =  0.4230769230769231  pio =  -0.018891567676433373\n",
      "============== iteration =  12 ==============\n",
      "h2h =  0.541095890410959  pio =  0.00524277852548161\n",
      "============== iteration =  13 ==============\n",
      "h2h =  0.5902439024390244  pio =  0.02317548942067235\n",
      "============== iteration =  14 ==============\n",
      "h2h =  0.5204081632653061  pio =  0.018238051452433946\n",
      "============== iteration =  15 ==============\n",
      "h2h =  0.5583756345177665  pio =  0.01848143841638906\n",
      "============== iteration =  16 ==============\n",
      "h2h =  0.6699029126213593  pio =  0.039756061376836016\n",
      "============== iteration =  17 ==============\n",
      "h2h =  0.4214876033057851  pio =  -0.003956048104755489\n",
      "============== iteration =  18 ==============\n",
      "h2h =  0.41818181818181815  pio =  -0.0022387395515939923\n",
      "============== iteration =  19 ==============\n",
      "h2h =  0.5502645502645502  pio =  0.010794157670155327\n",
      "============== iteration =  20 ==============\n",
      "h2h =  0.4864864864864865  pio =  0.015183363573779954\n",
      "============== iteration =  21 ==============\n",
      "h2h =  0.6153846153846154  pio =  8.288579372023897e-05\n",
      "============== iteration =  22 ==============\n",
      "h2h =  0.7142857142857143  pio =  0.02303933678588968\n",
      "============== iteration =  23 ==============\n",
      "h2h =  0.615819209039548  pio =  0.03336601524811202\n",
      "============== iteration =  24 ==============\n",
      "h2h =  0.4930555555555556  pio =  0.0024896274494633683\n",
      "============== iteration =  25 ==============\n",
      "h2h =  0.8197674418604651  pio =  0.05336157548442488\n",
      "============== iteration =  26 ==============\n",
      "h2h =  0.6811594202898551  pio =  0.02089312986437134\n",
      "============== iteration =  27 ==============\n",
      "h2h =  0.5355191256830601  pio =  -0.004056547101194129\n",
      "============== iteration =  28 ==============\n",
      "h2h =  0.7227722772277227  pio =  0.025002725430895538\n",
      "============== iteration =  29 ==============\n",
      "h2h =  0.6181818181818182  pio =  0.03151873870546966\n",
      "============== iteration =  30 ==============\n",
      "h2h =  0.553030303030303  pio =  0.014753222440556674\n",
      "============== iteration =  31 ==============\n",
      "h2h =  0.695364238410596  pio =  0.028482237960589265\n",
      "============== iteration =  32 ==============\n",
      "h2h =  0.43243243243243246  pio =  -0.003235966891454681\n",
      "============== iteration =  33 ==============\n",
      "h2h =  0.6222222222222222  pio =  0.019565191893771972\n",
      "============== iteration =  34 ==============\n",
      "h2h =  0.5129533678756477  pio =  0.0077398585253241866\n",
      "============== iteration =  35 ==============\n",
      "h2h =  0.5583333333333333  pio =  0.010399754525647049\n",
      "============== iteration =  36 ==============\n",
      "h2h =  0.3670886075949367  pio =  -0.018396643838208184\n",
      "============== iteration =  37 ==============\n",
      "h2h =  0.3829787234042553  pio =  -0.016305528829935505\n",
      "============== iteration =  38 ==============\n",
      "h2h =  0.5804195804195804  pio =  0.013693407529521464\n",
      "============== iteration =  39 ==============\n",
      "h2h =  0.7743589743589744  pio =  0.04521288797171306\n",
      "============== iteration =  40 ==============\n",
      "h2h =  0.6223404255319149  pio =  0.03995302031279266\n",
      "============== iteration =  41 ==============\n",
      "h2h =  0.5746606334841629  pio =  0.0008462521233366883\n",
      "============== iteration =  42 ==============\n",
      "h2h =  0.689119170984456  pio =  0.04363427266669096\n",
      "============== iteration =  43 ==============\n",
      "h2h =  0.6274509803921569  pio =  0.004561143138906147\n",
      "============== iteration =  44 ==============\n",
      "h2h =  0.5714285714285714  pio =  0.01757942663131789\n",
      "============== iteration =  45 ==============\n",
      "h2h =  0.5147058823529411  pio =  0.01599327051041049\n",
      "============== iteration =  46 ==============\n",
      "h2h =  0.5043478260869565  pio =  0.01429637924912375\n",
      "============== iteration =  47 ==============\n",
      "h2h =  0.40076335877862596  pio =  -0.02537448782596616\n",
      "============== iteration =  48 ==============\n",
      "h2h =  0.44654088050314467  pio =  -0.0004232829055484911\n",
      "============== iteration =  49 ==============\n",
      "h2h =  0.6888888888888889  pio =  0.052563875405783014\n",
      "============== iteration =  50 ==============\n",
      "h2h =  0.4429530201342282  pio =  -0.004563584843126329\n",
      "============== iteration =  51 ==============\n",
      "h2h =  0.7267080745341615  pio =  0.040877636957954606\n",
      "============== iteration =  52 ==============\n",
      "h2h =  0.6820809248554913  pio =  0.04259537675391268\n",
      "============== iteration =  53 ==============\n",
      "h2h =  0.47126436781609193  pio =  -0.007844845500328355\n",
      "============== iteration =  54 ==============\n",
      "h2h =  0.5094339622641509  pio =  -0.009549008467206249\n",
      "============== iteration =  55 ==============\n",
      "h2h =  0.5739644970414202  pio =  0.002718628470411453\n",
      "============== iteration =  56 ==============\n",
      "h2h =  0.6785714285714286  pio =  0.025948168810548684\n",
      "============== iteration =  57 ==============\n",
      "h2h =  0.40372670807453415  pio =  -0.021646585054420103\n",
      "============== iteration =  58 ==============\n",
      "h2h =  0.6782178217821783  pio =  0.04483479941933659\n",
      "============== iteration =  59 ==============\n",
      "h2h =  0.4666666666666667  pio =  -0.021525280597183446\n",
      "============== iteration =  60 ==============\n",
      "h2h =  0.625  pio =  0.017456662180646305\n",
      "============== iteration =  61 ==============\n",
      "h2h =  0.6707317073170732  pio =  0.019758514616085836\n",
      "============== iteration =  62 ==============\n",
      "h2h =  0.6287128712871287  pio =  0.02375475954161395\n",
      "============== iteration =  63 ==============\n",
      "h2h =  0.5684210526315789  pio =  0.006580724655736974\n",
      "============== iteration =  64 ==============\n",
      "h2h =  0.7156398104265402  pio =  0.05680907081149516\n",
      "============== iteration =  65 ==============\n",
      "h2h =  0.5448717948717948  pio =  0.015292419098759783\n",
      "============== iteration =  66 ==============\n",
      "h2h =  0.7387387387387387  pio =  0.04884141862654297\n",
      "============== iteration =  67 ==============\n",
      "h2h =  0.4268292682926829  pio =  -0.009552745179345866\n",
      "============== iteration =  68 ==============\n",
      "h2h =  0.3987730061349693  pio =  -0.021611782358502547\n",
      "============== iteration =  69 ==============\n",
      "h2h =  0.6666666666666666  pio =  0.018478352696656437\n",
      "============== iteration =  70 ==============\n",
      "h2h =  0.546583850931677  pio =  0.015946350021776738\n",
      "============== iteration =  71 ==============\n",
      "h2h =  0.796875  pio =  0.05138148144952844\n",
      "============== iteration =  72 ==============\n",
      "h2h =  0.33695652173913043  pio =  -0.01446720194303495\n",
      "============== iteration =  73 ==============\n",
      "h2h =  0.4868421052631579  pio =  0.0013984884213605775\n",
      "============== iteration =  74 ==============\n",
      "h2h =  0.5257731958762887  pio =  -0.003522471419452584\n",
      "============== iteration =  75 ==============\n",
      "h2h =  0.5636363636363636  pio =  0.021411987380879998\n",
      "============== iteration =  76 ==============\n",
      "h2h =  0.4723926380368098  pio =  0.016511803418578146\n",
      "============== iteration =  77 ==============\n",
      "h2h =  0.6228070175438597  pio =  0.023808573755184973\n",
      "============== iteration =  78 ==============\n",
      "h2h =  0.6291390728476821  pio =  0.0362525091502694\n",
      "============== iteration =  79 ==============\n",
      "h2h =  0.5555555555555556  pio =  0.0422827897004024\n",
      "============== iteration =  80 ==============\n",
      "h2h =  0.5555555555555556  pio =  0.017787064884931966\n",
      "============== iteration =  81 ==============\n",
      "h2h =  0.75  pio =  0.05492116396965336\n",
      "============== iteration =  82 ==============\n",
      "h2h =  0.8348214285714286  pio =  0.09915734715875203\n",
      "============== iteration =  83 ==============\n",
      "h2h =  0.6666666666666666  pio =  0.023976291611733848\n",
      "============== iteration =  84 ==============\n",
      "h2h =  0.5659340659340659  pio =  0.005306364813862027\n",
      "============== iteration =  85 ==============\n",
      "h2h =  0.2912621359223301  pio =  -0.03325689424109448\n",
      "============== iteration =  86 ==============\n",
      "h2h =  0.391304347826087  pio =  -0.013853748323249851\n",
      "============== iteration =  87 ==============\n",
      "h2h =  0.5  pio =  0.012494145496068535\n",
      "============== iteration =  88 ==============\n",
      "h2h =  0.7567567567567568  pio =  0.022826534854329884\n",
      "============== iteration =  89 ==============\n",
      "h2h =  0.42857142857142855  pio =  -0.0036741006868709182\n",
      "============== iteration =  90 ==============\n",
      "h2h =  0.4928571428571429  pio =  0.0009411136842624937\n",
      "============== iteration =  91 ==============\n",
      "h2h =  0.43870967741935485  pio =  -0.016892886932442952\n",
      "============== iteration =  92 ==============\n",
      "h2h =  0.582010582010582  pio =  0.008502082574845568\n",
      "============== iteration =  93 ==============\n",
      "h2h =  0.5195530726256983  pio =  -0.0037102273561723637\n",
      "============== iteration =  94 ==============\n",
      "h2h =  0.631578947368421  pio =  0.01762989868438027\n",
      "============== iteration =  95 ==============\n",
      "h2h =  0.2967741935483871  pio =  -0.041261512983199494\n",
      "============== iteration =  96 ==============\n",
      "h2h =  0.6111111111111112  pio =  0.021779801406594846\n",
      "============== iteration =  97 ==============\n",
      "h2h =  0.5754716981132075  pio =  0.010031553646711495\n",
      "============== iteration =  98 ==============\n",
      "h2h =  0.5197368421052632  pio =  0.0033239967947027277\n",
      "============== iteration =  99 ==============\n",
      "h2h =  0.5528455284552846  pio =  0.021105392780191457\n"
     ]
    }
   ],
   "source": [
    "lbels_ddrols = []; h2h_ddrols = []; mci_ddrols = [];pio_ddrols = []\n",
    "Data = {}\n",
    "data_gen = data_generation()\n",
    "perf_eva = performance_evaluation()\n",
    "for i in range(iters):\n",
    "    print(\"============== iteration = \",i,\"==============\")\n",
    "    file_path = DataPath + \"iter=\"+str(i) +\"/\"\n",
    "    pathlib.Path(file_path).mkdir(parents=True, exist_ok=True)\n",
    "\n",
    "    lbels_ddrols, h2h, mci,pio = calculate_comparison(file_path+\"DDR_vs_OLS.pkl\",perf_eva,c_ddr[i], c_ols[i], c_oracle[i],ypio = 1)\n",
    "    h2h_ddrols.append(h2h); mci_ddrols.append(mci); pio_ddrols.append(pio)\n",
    "    # print(\"h2h = \",h2h, \"mci = \",mci)\n",
    "    # calculate_comparison(file_path+\"DDR_vs_SPO.pkl\",perf_eva,c_ddr, c_spo, c_oracle,ypio = 1)\n",
    "    # calculate_comparison(file_path+\"Lasso_vs_OLS.pkl\",perf_eva,c_lasso, c_ols, c_oracle,ypio = 1)\n",
    "    # calculate_comparison(file_path+\"Lasso_vs_DDR.pkl\",perf_eva,c_lasso, c_ddr, c_oracle,ypio = 1)\n",
    "    # calculate_comparison(file_path+\"Ridge_vs_OLS.pkl\",perf_eva,c_ridge, c_ols, c_oracle,ypio = 1)\n",
    "    # calculate_comparison(file_path+\"Ridge_vs_DDR.pkl\",perf_eva,c_ridge, c_ddr, c_oracle,ypio = 1)"
   ]
  },
  {
   "cell_type": "markdown",
   "metadata": {},
   "source": [
    "# calibrate "
   ]
  },
  {
   "cell_type": "code",
   "execution_count": 28,
   "metadata": {},
   "outputs": [
    {
     "name": "stdout",
     "output_type": "stream",
     "text": [
      "-0.0008254129868500973 82\n",
      "0.09915734715875203 82\n"
     ]
    }
   ],
   "source": [
    "print( min(mci_ddrols), np.argmin(mci_ddrols) )\n",
    "print( max(pio_ddrols), np.argmax(pio_ddrols) )"
   ]
  },
  {
   "cell_type": "code",
   "execution_count": 39,
   "metadata": {},
   "outputs": [
    {
     "data": {
      "text/plain": [
       "np.float64(1.797775995277656)"
      ]
     },
     "execution_count": 39,
     "metadata": {},
     "output_type": "execute_result"
    }
   ],
   "source": [
    "max_index = np.argmax(pio_ddrols)\n",
    "file_path = DataPath + \"iter=\"+str(max_index) +\"/\"\n",
    "with open(file_path+\"Data.pkl\", \"rb\") as f:\n",
    "    Data = pickle.load(f)\n",
    "# x_test, z_test_ori, z_test, x_train, z_train_ori, z_train, W_star = Data\n",
    "x_test = Data[\"x_test\"]\n",
    "z_test_ori = Data[\"z_test_ori\"]\n",
    "z_test = Data[\"z_test\"]\n",
    "x_train = Data[\"x_train\"]\n",
    "z_train_ori = Data[\"z_train_ori\"]\n",
    "z_train = Data[\"z_train\"]\n",
    "W_star = Data[\"W_star\"]\n",
    "np.min(z_train)"
   ]
  },
  {
   "cell_type": "code",
   "execution_count": 40,
   "metadata": {},
   "outputs": [
    {
     "name": "stdout",
     "output_type": "stream",
     "text": [
      "Set parameter Username\n",
      "Academic license - for non-commercial use only - expires 2025-03-25\n"
     ]
    }
   ],
   "source": [
    "## Solve and evaluate the OLS model\n",
    "ols_method_obj = ols_method()\n",
    "W_ols, w0_ols, t_ols, obj_ols = ols_method_obj.ols_solver(file_path,x_train, z_train)\n",
    "z_test_ols, y_test_ols, c_test_ols = perf_eva.param_prediction_and_cost_estimation(x_test, W_ols, w0_ols, thres)\n",
    "c_ols_true =  np.sum(np.minimum(z_test_ori,thres) * y_test_ols, axis = 1)\n",
    "pac_ols = ( np.linalg.norm(z_test_ols - z_test) )**2/len(z_test) ## prediction accuracy"
   ]
  },
  {
   "cell_type": "code",
   "execution_count": 41,
   "metadata": {},
   "outputs": [],
   "source": [
    "y_test_opt = perf_eva.decision_finder(z_test_ori)\n",
    "c_oracle = np.mean(np.sum(z_test_ori * y_test_opt, axis = 1))"
   ]
  },
  {
   "cell_type": "code",
   "execution_count": 42,
   "metadata": {},
   "outputs": [],
   "source": [
    "c_ddr_true_all = {}\n",
    "pac_ddr_all = {}\n",
    "pac_ddr_true_all = {}\n",
    "\n",
    "mu_range = [-0.25 + i*0.05 for i in range(13)]\n",
    "lamb_range = [0 + i*0.05 for i in range(81)]\n",
    "\n",
    "ddr_method_obj = ddr_method()\n",
    "for mu in mu_range:\n",
    "    for lamb in lamb_range:\n",
    "        # Obtain regression parameters\n",
    "        W_ddr, w0_ddr, t_ddr = ddr_method_obj.ddr_solver(x_train, z_train, thres, mu, lamb)\n",
    "        z_test_ddr, y_test_ddr, c_test_ddr = perf_eva.param_prediction_and_cost_estimation(x_test, W_ddr, w0_ddr, thres)\n",
    "        c_ddr_true_all[mu,lamb] =  np.sum(np.minimum(z_test_ori,thres) * y_test_ddr, axis = 1)\n",
    "        # obtain prediction accuracy\n",
    "        pac_ddr_all[mu,lamb] = ( np.linalg.norm(z_test_ddr - z_test) )**2/len(z_test) ## prediction accuracy\n",
    "        pac_ddr_true_all[mu,lamb] = ( np.linalg.norm(z_test_ddr - z_test_ori) )**2/len(z_test_ori) ## prediction accuracy\n",
    "        "
   ]
  },
  {
   "cell_type": "markdown",
   "metadata": {},
   "source": [
    "# Figures"
   ]
  },
  {
   "cell_type": "code",
   "execution_count": null,
   "metadata": {},
   "outputs": [],
   "source": [
    "def obtain_all_rst(iters,DataPath,file_name):\n",
    "    all_h2h = []; all_mci = []\n",
    "    for i in range(iters):\n",
    "        file_path = DataPath + \"iter=\"+str(i) +\"/\"\n",
    "        with open(file_path+file_name, \"rb\") as f:\n",
    "            file_pkl = pickle.load(f)\n",
    "        all_h2h.append(100*file_pkl[\"h2h\"])\n",
    "        all_mci.append(100*file_pkl[\"mci\"])\n",
    "    return all_h2h,all_mci"
   ]
  },
  {
   "cell_type": "markdown",
   "metadata": {},
   "source": [
    "# DDR vs OLS"
   ]
  },
  {
   "cell_type": "code",
   "execution_count": null,
   "metadata": {},
   "outputs": [],
   "source": [
    "all_h2h_ddrols,all_mci_ddrols = obtain_all_rst(iters,DataPath,\"DDR_vs_OLS.pkl\")"
   ]
  },
  {
   "cell_type": "code",
   "execution_count": null,
   "metadata": {},
   "outputs": [],
   "source": [
    "regret_h2h_fig.figure_plot_upleft(all_h2h_ddrols, all_mci_ddrols, figure_name = '411_ddr_ols', size = (5, 5), move = [-0.10, 0.04, 0.30, 0.55])"
   ]
  },
  {
   "cell_type": "markdown",
   "metadata": {},
   "source": [
    "# Lasso vs OLS"
   ]
  },
  {
   "cell_type": "code",
   "execution_count": null,
   "metadata": {},
   "outputs": [],
   "source": [
    "all_h2h_lsools,all_mci_lsools = obtain_all_rst(iters,DataPath,\"Lasso_vs_OLS.pkl\")"
   ]
  },
  {
   "cell_type": "code",
   "execution_count": null,
   "metadata": {},
   "outputs": [],
   "source": [
    "regret_h2h_fig.figure_plot_upleft(all_h2h_lsools, all_mci_lsools, figure_name = '411_ddr_ols', size = (5, 5), move = [-0.10, 0.04, 0.30, 0.55])"
   ]
  },
  {
   "cell_type": "markdown",
   "metadata": {},
   "source": [
    "# OLS vs SPO"
   ]
  },
  {
   "cell_type": "code",
   "execution_count": null,
   "metadata": {},
   "outputs": [],
   "source": [
    "all_h2h_olsspo,all_mci_olsspo = obtain_all_rst(iters,DataPath,\"Lasso_vs_OLS.pkl\")"
   ]
  },
  {
   "cell_type": "markdown",
   "metadata": {},
   "source": []
  }
 ],
 "metadata": {
  "kernelspec": {
   "display_name": ".venv",
   "language": "python",
   "name": "python3"
  },
  "language_info": {
   "codemirror_mode": {
    "name": "ipython",
    "version": 3
   },
   "file_extension": ".py",
   "mimetype": "text/x-python",
   "name": "python",
   "nbconvert_exporter": "python",
   "pygments_lexer": "ipython3",
   "version": "3.9.6"
  }
 },
 "nbformat": 4,
 "nbformat_minor": 2
}
