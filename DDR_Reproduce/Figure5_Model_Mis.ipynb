{
 "cells": [
  {
   "cell_type": "code",
   "execution_count": 1,
   "metadata": {},
   "outputs": [],
   "source": [
    "import numpy as np\n",
    "from numpy import random\n",
    "import time\n",
    "import pickle\n",
    "import os\n",
    "import pathlib\n",
    "import inspect\n",
    "\n",
    "from Performance import DDR_Problem_Evaluation\n",
    "ddr_eva = DDR_Problem_Evaluation()\n",
    "from OLS import ols_method\n",
    "from DDR import ddr_method\n",
    "\n",
    "from SPO import SPO_plus_method\n",
    "from Figures import regret_and_h2h_figure\n",
    "regret_h2h = regret_and_h2h_figure()"
   ]
  },
  {
   "cell_type": "markdown",
   "metadata": {},
   "source": [
    "## Generate Data"
   ]
  },
  {
   "cell_type": "code",
   "execution_count": 2,
   "metadata": {},
   "outputs": [],
   "source": [
    "def generate_data(DataPath,iters,lower, upper, p, d, data_generation_process,\n",
    "                  samples_test, samples_train, alpha, n_epsilon, mis, thres, x_dister, e_dister, xl, xu, xm, xv, bp):\n",
    "    from Data import data_generation\n",
    "    data_gen = data_generation()\n",
    "    Data = {}\n",
    "    for i in range(iters):\n",
    "        # print(\"============== iteration = \",i,\"==============\")\n",
    "        file_path = DataPath + \"iter=\"+str(i) +\"/\"\n",
    "        pathlib.Path(file_path).mkdir(parents=True, exist_ok=True)\n",
    "        # o uniform, 1 binary, 2 uniform + feature, 3 binary + feature, 4 sparse, 5 012\n",
    "        W_star = data_gen.generate_truth(lower, upper, p, d, data_generation_process) \n",
    "        Data[i] = data_gen.generate_samples(file_path,p, d, samples_test, samples_train, alpha, W_star, n_epsilon, mis, thres, \n",
    "                            data_generation_process, x_dister, e_dister, xl, xu, xm, xv, bp) \n",
    "    return Data"
   ]
  },
  {
   "cell_type": "markdown",
   "metadata": {},
   "source": [
    "## Oracle"
   ]
  },
  {
   "cell_type": "code",
   "execution_count": 3,
   "metadata": {},
   "outputs": [],
   "source": [
    "def Implement_Oracle(iters,Data,data_generation_process,DataPath,fold_name):\n",
    "    Data_path_child = DataPath + fold_name\n",
    "    cost_Oracle_with_noise_all = {}; cost_Oracle_wo_noise_all = {}\n",
    "    for i in range(iters):\n",
    "        x_test, z_test_ori, z_test, x_train, z_train_ori, z_train, W_star = Data[i]\n",
    "        cost_Oracle_wo_noise_all[i] = ddr_eva.compute_DDR_out_of_sample_Cost(z_test_ori,z_test_ori,z_test-z_test_ori,data_generation_process,False)\n",
    "        cost_Oracle_with_noise_all[i] = ddr_eva.compute_DDR_out_of_sample_Cost(z_test_ori,z_test_ori,z_test-z_test_ori,data_generation_process,True)\n",
    "        # if i % 100 == 0:\n",
    "        #     print(fold_name,\",iteration = \",i,\",c_oracle_without_noise = \",np.nanmean(cost_Oracle_wo_noise_all[i]))\n",
    "        #     print(fold_name,\",iteration = \",i,\",c_oracle_with_noise = \",np.nanmean(cost_Oracle_with_noise_all[i]))\n",
    "\n",
    "    with open(Data_path_child+'cost_Oracle_with_noise_all.pkl', \"wb\") as tf:\n",
    "        pickle.dump(cost_Oracle_with_noise_all,tf)\n",
    "    with open(Data_path_child+'cost_Oracle_wo_noise_all.pkl', \"wb\") as tf:\n",
    "        pickle.dump(cost_Oracle_wo_noise_all,tf)\n",
    "    return cost_Oracle_with_noise_all,cost_Oracle_wo_noise_all"
   ]
  },
  {
   "cell_type": "markdown",
   "metadata": {},
   "source": [
    "## OLS"
   ]
  },
  {
   "cell_type": "code",
   "execution_count": 4,
   "metadata": {},
   "outputs": [],
   "source": [
    "def Implement_OLS(iters,Data,data_generation_process,DataPath,fold_name):\n",
    "    Data_path_child = DataPath + fold_name\n",
    "\n",
    "    ols_method_obj = ols_method()\n",
    "    cost_OLS_with_noise_all = {}; cost_OLS_wo_noise_all = {}\n",
    "    for i in range(iters):\n",
    "        x_test, z_test_ori, z_test, x_train, z_train_ori, z_train, W_star = Data[i]\n",
    "        W_ols, w0_ols, t_ols, obj_ols = ols_method_obj.ols_solver(\"\",x_train, z_train)\n",
    "        cost_pred = (W_ols @ x_test.T).T + w0_ols\n",
    "        cost_OLS_wo_noise_all[i] = ddr_eva.compute_DDR_out_of_sample_Cost(cost_pred,z_test_ori,z_test-z_test_ori,data_generation_process,False)\n",
    "        cost_OLS_with_noise_all[i] = ddr_eva.compute_DDR_out_of_sample_Cost(cost_pred,z_test_ori,z_test-z_test_ori,data_generation_process,True)\n",
    "        # if i % 100 == 0:\n",
    "        #     print(fold_name,\",iteration = \",i,\",c_OLS_without_noise = \",np.nanmean(cost_OLS_wo_noise_all[i]))\n",
    "        #     print(fold_name,\",iteration = \",i,\",c_OLS_with_noise = \",np.nanmean(cost_OLS_with_noise_all[i]))\n",
    "    with open(Data_path_child+'cost_OLS_wo_noise_all.pkl', \"wb\") as tf:\n",
    "        pickle.dump(cost_OLS_wo_noise_all,tf)\n",
    "    with open(Data_path_child+'cost_OLS_with_noise_all.pkl', \"wb\") as tf:\n",
    "        pickle.dump(cost_OLS_with_noise_all,tf)\n",
    "    return cost_OLS_with_noise_all,cost_OLS_wo_noise_all"
   ]
  },
  {
   "cell_type": "markdown",
   "metadata": {},
   "source": [
    "## Lasso"
   ]
  },
  {
   "cell_type": "code",
   "execution_count": 5,
   "metadata": {},
   "outputs": [],
   "source": [
    "def Implement_Lasso(iters,Data,data_generation_process,DataPath,fold_name):\n",
    "    Data_path_child = DataPath + fold_name\n",
    "\n",
    "    ols_method_obj = ols_method()\n",
    "    cost_Lasso_with_noise_all = {}; cost_Lasso_wo_noise_all = {}\n",
    "    for i in range(iters):\n",
    "        x_test, z_test_ori, z_test, x_train, z_train_ori, z_train, W_star = Data[i]\n",
    "        W_lasso, w0_lasso, t_lasso = ols_method_obj.lasso_solver(x_train, z_train)\n",
    "        cost_pred = (W_lasso @ x_test.T).T + w0_lasso\n",
    "        cost_Lasso_wo_noise_all[i] = ddr_eva.compute_DDR_out_of_sample_Cost(cost_pred,z_test_ori,z_test-z_test_ori,data_generation_process,False)\n",
    "        cost_Lasso_with_noise_all[i] = ddr_eva.compute_DDR_out_of_sample_Cost(cost_pred,z_test_ori,z_test-z_test_ori,data_generation_process,True)\n",
    "        # if i % 100 == 0:\n",
    "        #     print(fold_name,\",iteration = \",i,\",c_Lasso_without_noise = \",np.nanmean(cost_Lasso_wo_noise_all[i]))\n",
    "        #     print(fold_name,\",iteration = \",i,\",c_Lasso_with_noise = \",np.nanmean(cost_Lasso_with_noise_all[i]))\n",
    "\n",
    "    with open(Data_path_child+'cost_Lasso_wo_noise_all.pkl', \"wb\") as tf:\n",
    "        pickle.dump(cost_Lasso_wo_noise_all,tf)\n",
    "    with open(Data_path_child+'cost_Lasso_with_noise_all.pkl', \"wb\") as tf:\n",
    "        pickle.dump(cost_Lasso_with_noise_all,tf)\n",
    "    return cost_Lasso_with_noise_all,cost_Lasso_wo_noise_all"
   ]
  },
  {
   "cell_type": "markdown",
   "metadata": {},
   "source": [
    "## Ridge"
   ]
  },
  {
   "cell_type": "code",
   "execution_count": 6,
   "metadata": {},
   "outputs": [],
   "source": [
    "def Implement_Ridge(iters,Data,data_generation_process,DataPath,fold_name):\n",
    "    Data_path_child = DataPath + fold_name\n",
    "\n",
    "    ols_method_obj = ols_method()\n",
    "    cost_Ridge_with_noise_all = {}; cost_Ridge_wo_noise_all = {}\n",
    "    for i in range(iters):\n",
    "        x_test, z_test_ori, z_test, x_train, z_train_ori, z_train, W_star = Data[i]\n",
    "        W_ridge, w0_ridge, t_ridge = ols_method_obj.ridge_solver(x_train, z_train)\n",
    "        cost_pred = (W_ridge @ x_test.T).T + w0_ridge\n",
    "        cost_Ridge_wo_noise_all[i] = ddr_eva.compute_DDR_out_of_sample_Cost(cost_pred,z_test_ori,z_test-z_test_ori,data_generation_process,False)\n",
    "        cost_Ridge_with_noise_all[i] = ddr_eva.compute_DDR_out_of_sample_Cost(cost_pred,z_test_ori,z_test-z_test_ori,data_generation_process,True)\n",
    "        # if i % 100 == 0:\n",
    "        #     print(fold_name,\",iteration = \",i,\",c_Ridge_without_noise = \",np.nanmean(cost_Ridge_wo_noise_all[i]))\n",
    "        #     print(fold_name,\",iteration = \",i,\",c_Ridge_with_noise = \",np.nanmean(cost_Ridge_with_noise_all[i]))\n",
    "\n",
    "    with open(Data_path_child+'cost_Ridge_wo_noise_all.pkl', \"wb\") as tf:\n",
    "        pickle.dump(cost_Ridge_wo_noise_all,tf)\n",
    "    with open(Data_path_child+'cost_Ridge_with_noise_all.pkl', \"wb\") as tf:\n",
    "        pickle.dump(cost_Ridge_with_noise_all,tf)\n",
    "    return cost_Ridge_with_noise_all,cost_Ridge_wo_noise_all"
   ]
  },
  {
   "cell_type": "markdown",
   "metadata": {},
   "source": [
    "## DDR"
   ]
  },
  {
   "cell_type": "code",
   "execution_count": 7,
   "metadata": {},
   "outputs": [],
   "source": [
    "def Implement_DDR(iters,Data,data_generation_process,DataPath,fold_name,mu_all,lamb_all):\n",
    "    Data_path_child = DataPath + fold_name\n",
    "    ddr_method_obj = ddr_method()\n",
    "    W_ddr_all = {}; w0_ddr_all = {}; obj_ddr_all = {}\n",
    "    cost_DDR_wo_noise_all = {}; cost_DDR_with_noise_all = {}\n",
    "    for i in range(iters):\n",
    "        x_test, z_test_ori, z_test, x_train, z_train_ori, z_train, W_star = Data[i]\n",
    "        cost_ddr_avg_tem = np.zeros((len(mu_all),len(lamb_all)))\n",
    "        for mu_index in range(len(mu_all)):\n",
    "            mu = mu_all[mu_index]\n",
    "            for lamb_index in range(len(lamb_all)):\n",
    "                lamb = lamb_all[lamb_index]\n",
    "                W_ddr_all[i,mu,lamb], w0_ddr_all[i,mu,lamb] = ddr_method_obj.ddr_solver(x_train, z_train, mu, lamb)\n",
    "                cost_pred = (W_ddr_all[i,mu,lamb] @ x_test.T).T + w0_ddr_all[i,mu,lamb]\n",
    "                cost_DDR_wo_noise_all[i,mu,lamb] = ddr_eva.compute_DDR_out_of_sample_Cost(cost_pred,z_test_ori,z_test-z_test_ori,data_generation_process,False)\n",
    "                cost_DDR_with_noise_all[i,mu,lamb] = ddr_eva.compute_DDR_out_of_sample_Cost(cost_pred,z_test_ori,z_test-z_test_ori,data_generation_process,True)\n",
    "        # if i % 100 == 0:\n",
    "        #     print(fold_name,\",iteration = \",i,\",cost_DDR_wo_noise_all = \",np.nanmean(cost_DDR_wo_noise_all[i,mu,lamb]))\n",
    "        #     print(fold_name,\",iteration = \",i,\",cost_DDR_with_noise_all = \",np.nanmean(cost_DDR_with_noise_all[i,mu,lamb]))\n",
    "\n",
    "    with open(Data_path_child+'cost_DDR_wo_noise_all.pkl', \"wb\") as tf:\n",
    "        pickle.dump(cost_DDR_wo_noise_all,tf)\n",
    "    with open(Data_path_child+'cost_DDR_with_noise_all.pkl', \"wb\") as tf:\n",
    "        pickle.dump(cost_DDR_with_noise_all,tf)\n",
    "    return cost_DDR_with_noise_all,cost_DDR_wo_noise_all"
   ]
  },
  {
   "cell_type": "markdown",
   "metadata": {},
   "source": [
    "## SPO Plus"
   ]
  },
  {
   "cell_type": "code",
   "execution_count": 8,
   "metadata": {},
   "outputs": [],
   "source": [
    "def Implement_SPO_plus(iters,Data,data_generation_process,DataPath,fold_name):\n",
    "    Data_path_child = DataPath + fold_name\n",
    "\n",
    "    spo_method_obj = SPO_plus_method()\n",
    "    cost_SPO_with_noise_all = {}; cost_SPO_wo_noise_all = {}\n",
    "    for i in range(iters):\n",
    "        x_test, z_test_ori, z_test, x_train, z_train_ori, z_train, W_star = Data[i]\n",
    "        y_train_opt = ddr_eva.decision_finder(z_train) #generates the optimal y from the training costs\n",
    "        W_spo, w0_spo, t_spo = spo_method_obj.spo_solver(x_train, z_train, y_train_opt)\n",
    "        cost_pred = (W_spo @ x_test.T).T + w0_spo\n",
    "        cost_SPO_wo_noise_all[i] = ddr_eva.compute_DDR_out_of_sample_Cost(cost_pred,z_test_ori,z_test-z_test_ori,data_generation_process,False)\n",
    "        cost_SPO_with_noise_all[i] = ddr_eva.compute_DDR_out_of_sample_Cost(cost_pred,z_test_ori,z_test-z_test_ori,data_generation_process,True)\n",
    "        # if i % 100 == 0:\n",
    "        #     print(fold_name,\",iteration = \",i,\",cost_SPO_wo_noise_all = \",np.nanmean(cost_SPO_wo_noise_all[i]))\n",
    "        #     print(fold_name,\",iteration = \",i,\",cost_SPO_with_noise_all = \",np.nanmean(cost_SPO_with_noise_all[i]))\n",
    "\n",
    "    with open(Data_path_child+'cost_SPO_wo_noise_all.pkl', \"wb\") as tf:\n",
    "        pickle.dump(cost_SPO_wo_noise_all,tf)\n",
    "    with open(Data_path_child+'cost_SPO_with_noise_all.pkl', \"wb\") as tf:\n",
    "        pickle.dump(cost_SPO_with_noise_all,tf)\n",
    "    return cost_SPO_with_noise_all,cost_SPO_wo_noise_all"
   ]
  },
  {
   "cell_type": "markdown",
   "metadata": {},
   "source": [
    "## Comparison"
   ]
  },
  {
   "cell_type": "code",
   "execution_count": 9,
   "metadata": {},
   "outputs": [
    {
     "name": "stdout",
     "output_type": "stream",
     "text": [
      "grandparent_directory: /Users/zhangxun/Dropbox/Research/Decision_Driven_Regularization/Code_MacBook\n",
      "DataPath: /Users/zhangxun/Dropbox/Research/Decision_Driven_Regularization/Data/DDR_Problem_Reproduce_DDR_Data_Generation_Figure5/\n"
     ]
    }
   ],
   "source": [
    "seed = 3\n",
    "random.seed(seed)\n",
    "\n",
    "iters = 100\n",
    "samples_test = 10000\n",
    "thres = samples_test\n",
    "lower = 0\n",
    "upper = 1\n",
    "n_epsilon = 1\n",
    "mis = 1\n",
    "x_dister = 'uniform'\n",
    "e_dister = 'normal'\n",
    "xl = -2\n",
    "xu = 2\n",
    "xm = 2\n",
    "xv = 0.25\n",
    "bp = 7\n",
    "\n",
    "d = 10\n",
    "alpha = 1\n",
    "samples_train = 100\n",
    "p = 4\n",
    "mis_all = [0.4, 0.6, 0.8, 1, 1.2, 1.4, 1.8, 2.0, 2.5, 3.0, 3.5, 4.0]\n",
    "\n",
    "mu_all = np.round(np.arange(0.25,0.251,0.1),4)\n",
    "lamb_all = np.round(np.arange(0.25,0.251,0.1),4)\n",
    "data_generation_process = \"DDR_Data_Generation\"\n",
    "current_directory = os.getcwd()\n",
    "parent_directory = os.path.dirname(current_directory)\n",
    "grandparent_directory = os.path.dirname(parent_directory)\n",
    "DataPath = os.path.dirname(grandparent_directory) + '/Data/DDR_Problem_Reproduce_' + data_generation_process +\"_Figure5/\"\n",
    "pathlib.Path(DataPath).mkdir(parents=True, exist_ok=True)\n",
    "print(\"grandparent_directory:\", grandparent_directory)\n",
    "print(\"DataPath:\", DataPath)"
   ]
  },
  {
   "cell_type": "code",
   "execution_count": 10,
   "metadata": {},
   "outputs": [
    {
     "name": "stdout",
     "output_type": "stream",
     "text": [
      "Set parameter Username\n",
      "Academic license - for non-commercial use only - expires 2026-03-13\n",
      "mis= 0.4 ,h2h= 0.59 ,regret= 0.62\n",
      "mis= 0.6 ,h2h= 0.68 ,regret= 0.72\n",
      "mis= 0.8 ,h2h= 0.65 ,regret= 0.66\n",
      "mis= 1 ,h2h= 0.72 ,regret= 0.72\n",
      "mis= 1.2 ,h2h= 0.56 ,regret= 0.59\n",
      "mis= 1.4 ,h2h= 0.52 ,regret= 0.5\n",
      "mis= 1.8 ,h2h= 0.31 ,regret= 0.33\n",
      "mis= 2.0 ,h2h= 0.33 ,regret= 0.31\n",
      "mis= 2.5 ,h2h= 0.37 ,regret= 0.47\n",
      "mis= 3.0 ,h2h= 0.25 ,regret= 0.32\n",
      "mis= 3.5 ,h2h= 0.07 ,regret= 0.11\n",
      "mis= 4.0 ,h2h= 0.07 ,regret= 0.07\n"
     ]
    }
   ],
   "source": [
    "mu = mu_all[0]\n",
    "lamb = lamb_all[0]\n",
    "h2h_ddr_ols = np.zeros(len(mis_all))\n",
    "regret_ddr_ols = np.zeros(len(mis_all))\n",
    "# Data = {}\n",
    "mis_index = 0\n",
    "for mis in mis_all:\n",
    "    random.seed(seed)\n",
    "    fold_name = \"samples_train=\"+str(samples_train)+\"_p=\"+str(p)+\"_d=\"+str(d)+\"_alpha=\"+str(alpha)+\"_mis=\"+str(mis)+\"/\"\n",
    "    Data = generate_data(DataPath+fold_name,iters,lower, upper, p, d, data_generation_process,\n",
    "        samples_test, samples_train, alpha, n_epsilon, mis, thres, x_dister, e_dister, xl, xu, xm, xv, bp)\n",
    "    \n",
    "    cost_Oracle_with_noise_all,cost_Oracle_wo_noise_all = Implement_Oracle(iters,Data,data_generation_process,DataPath,fold_name)\n",
    "    cost_OLS_with_noise_all,cost_OLS_wo_noise_all = Implement_OLS(iters,Data,data_generation_process,DataPath,fold_name)\n",
    "    cost_DDR_with_noise_all,cost_DDR_wo_noise_all = Implement_DDR(iters,Data,data_generation_process,DataPath,fold_name,mu_all,lamb_all)\n",
    "    \n",
    "    win_ratio_ddr_ols_wo_noise = np.zeros(iters); cost_reduction_ddr_ols_wo_noise = np.zeros(iters); regret_reduction_ddr_ols_wo_noise = np.zeros(iters)\n",
    "    for i in range(iters):\n",
    "        lbel, win_ratio_ddr_ols_wo_noise[i], cost_reduction_ddr_ols_wo_noise[i], regret_reduction_ddr_ols_wo_noise[i] = ddr_eva.cross_compare2plus(cost_DDR_wo_noise_all[i,mu,lamb],cost_OLS_wo_noise_all[i],cost_Oracle_wo_noise_all[i])\n",
    "    regret_ddr_ols[mis_index] = np.round( len(regret_reduction_ddr_ols_wo_noise[regret_reduction_ddr_ols_wo_noise > 0.0])/len(regret_reduction_ddr_ols_wo_noise),4 )\n",
    "    h2h_ddr_ols[mis_index] = np.round( len(win_ratio_ddr_ols_wo_noise[win_ratio_ddr_ols_wo_noise > 0.5])/len(win_ratio_ddr_ols_wo_noise),4 )\n",
    "    \n",
    "    print(\"mis=\",mis,\",h2h=\",h2h_ddr_ols[mis_index],\",regret=\",regret_ddr_ols[mis_index])\n",
    "    mis_index = mis_index + 1"
   ]
  },
  {
   "cell_type": "code",
   "execution_count": null,
   "metadata": {},
   "outputs": [
    {
     "name": "stderr",
     "output_type": "stream",
     "text": [
      "/var/folders/m2/j39mx9854cbb70jqvn7cjcqh0000gn/T/ipykernel_81212/292602237.py:6: UserWarning: color is redundantly defined by the 'color' keyword argument and the fmt string \"bo\" (-> color='b'). The keyword argument will take precedence.\n",
      "  plt.plot(h2h[0:3], pio[0:3],'bo', color='#003D7C')\n"
     ]
    },
    {
     "data": {
      "image/png": "[encoded data removed]",
      "text/plain": [
       "<Figure size 600x500 with 1 Axes>"
      ]
     },
     "metadata": {},
     "output_type": "display_data"
    }
   ],
   "source": [
    "import matplotlib.pyplot as plt\n",
    "h2h = h2h_ddr_ols * 100\n",
    "pio = regret_ddr_ols\n",
    "mis = mis_all\n",
    "plt.figure(figsize = (6,5))\n",
    "plt.plot(h2h[0:3], pio[0:3],'bo', color='#003D7C')\n",
    "for i in range(3):\n",
    "    plt.text(h2h[i] - 7, pio[i] - 0.01,np.round(mis[i],1), color='#003D7C')\n",
    "\n",
    "plt.plot(h2h[3], pio[3],'d', color='red')\n",
    "plt.text(h2h[3] + 1, pio[3] - 0.02, np.round(mis[3],1), color='red')\n",
    "\n",
    "plt.plot(h2h[4:7], pio[4:7],'v', color = '#EF7C00')\n",
    "for i in range(4, 7):\n",
    "    plt.text(h2h[i] - 2.2, pio[i] - 0.05, np.round(mis[i],1), color='#EF7C00')\n",
    "\n",
    "plt.plot(h2h[7], pio[7],'v', color = '#EF7C00')\n",
    "plt.text(h2h[7] - 2.2, pio[7] - 0.05, np.round(mis[7],1), color='#EF7C00')\n",
    "\n",
    "plt.plot(h2h[8:12], pio[8:12],'v', color = '#EF7C00')\n",
    "for i in range(8, 12):\n",
    "       plt.text(h2h[i] - 2.2, pio[i] - 0.05, np.round(mis[i],1), color='#EF7C00')\n",
    "\n",
    "plt.vlines(50, 0.0, 0.8, linestyle=\"dashed\", alpha = 0.8, color = 'k')\n",
    "plt.hlines(0.0, 0, 80, linestyle=\"dashed\", alpha = 0.8, color = 'k')\n",
    "\n",
    "\n",
    "plt.xlabel('Head-to-head (%)', fontsize=13)\n",
    "plt.ylabel('Regret reduction (%)', fontsize=13)\n",
    "plt.rcParams.update({'font.size': 13})\n",
    "\n",
    "plt.savefig('430_mis_ddrols.eps', format='eps', bbox_inches=\"tight\")"
   ]
  }
 ],
 "metadata": {
  "kernelspec": {
   "display_name": ".venv",
   "language": "python",
   "name": "python3"
  },
  "language_info": {
   "codemirror_mode": {
    "name": "ipython",
    "version": 3
   },
   "file_extension": ".py",
   "mimetype": "text/x-python",
   "name": "python",
   "nbconvert_exporter": "python",
   "pygments_lexer": "ipython3",
   "version": "3.9.6"
  }
 },
 "nbformat": 4,
 "nbformat_minor": 2
}
