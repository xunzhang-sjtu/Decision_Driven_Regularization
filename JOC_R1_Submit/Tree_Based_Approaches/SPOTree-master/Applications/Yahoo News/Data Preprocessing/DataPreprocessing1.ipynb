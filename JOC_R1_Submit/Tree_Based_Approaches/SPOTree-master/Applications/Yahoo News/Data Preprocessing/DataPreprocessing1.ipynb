{
 "cells": [
  {
   "cell_type": "code",
   "execution_count": null,
   "metadata": {},
   "outputs": [],
   "source": [
    "import YahooNewsDataExtraction as tool\n",
    "from sklearn.cluster import KMeans\n",
    "import numpy as np\n",
    "import pandas as pd\n",
    "import pickle"
   ]
  },
  {
   "cell_type": "markdown",
   "metadata": {},
   "source": [
    "# Read all data and save in separate files"
   ]
  },
  {
   "cell_type": "code",
   "execution_count": null,
   "metadata": {},
   "outputs": [],
   "source": [
    "'''The process time for each raw Yahoo news data file is around 10 - 30 minutes.'''\n",
    "count = 0\n",
    "adsDict = dict()\n",
    "recordDict = dict()                                                                                                                                                                                                                                                                                                                                                                                                                                                                                                                                                                                                                                                                                                                                                                                                                                                                                                                                                                                                                                                                                                                                                                                                                                                                                                                                                                                                                                                                                                                                                                                                                                                                                                                                                                                                                                                                                                                                                                                                                                                                                                                                                                                                          \n",
    "for day in range(1,11):\n",
    "    if day == 10:\n",
    "        '''Use raw Yahoo News data path and filename'''\n",
    "        filename = '../ydata-fp-td-clicks-v1_0.200905' + str(day)\n",
    "    else:\n",
    "        filename = '../ydata-fp-td-clicks-v1_0.2009050' + str(day)\n",
    "    with open(filename) as fp:\n",
    "        line = fp.readline()\n",
    "        while line:\n",
    "            timestamp, offered_ad_id, click, user_feat, eligible_ads_ids, eligible_ads_feat = tool.parse_line(line)\n",
    "            recordDict.update({count:np.hstack([user_feat[1:], offered_ad_id, click])})\n",
    "            adsDict.update(dict(zip(eligible_ads_ids,eligible_ads_feat[:,1:])))\n",
    "            count += 1\n",
    "            line = fp.readline()\n",
    "            \n",
    "        recordDF = pd.DataFrame(recordDict).T\n",
    "        filename = 'day' + str(day) + '_records.npy'\n",
    "        np.save(filename, recordDF.values)\n",
    "        \n",
    "        filename = 'day' + str(day) + '_adsDict.p'\n",
    "        pickle.dump(adsDict, open(filename,'wb'))\n",
    "    count = 0\n",
    "    adsDict = dict()\n",
    "    recordDict = dict()\n",
    "    print('Completed processing: ', filename)"
   ]
  },
  {
   "cell_type": "code",
   "execution_count": null,
   "metadata": {},
   "outputs": [],
   "source": []
  },
  {
   "cell_type": "markdown",
   "metadata": {},
   "source": [
    "# Clustering user data"
   ]
  },
  {
   "cell_type": "code",
   "execution_count": null,
   "metadata": {},
   "outputs": [],
   "source": [
    "'''Load train data. Note that this data will be further split into the training set and validation set via random sampling.'''\n",
    "train_records = np.vstack([np.load('day' + str(day) + '_records.npy') for day in range(1,6)]) \n"
   ]
  },
  {
   "cell_type": "code",
   "execution_count": null,
   "metadata": {},
   "outputs": [],
   "source": [
    "'''Cluster users in train data according to user features (excluding constant feature)'''\n",
    "from sklearn.cluster import MiniBatchKMeans\n",
    "n_userClusters = 10000\n",
    "user_kmeans = MiniBatchKMeans(n_clusters=n_userClusters,random_state=0,batch_size=3000, init_size= n_userClusters)\n",
    "user_kmeans.fit(train_records[:,:5])\n",
    "filename = 'train_userCluster.p'\n",
    "pickle.dump(user_kmeans,open(filename,'wb'))"
   ]
  },
  {
   "cell_type": "code",
   "execution_count": null,
   "metadata": {},
   "outputs": [],
   "source": [
    "'''Load test data.'''\n",
    "test_records = np.vstack([np.load('day' + str(day) + '_records.npy') for day in range(6,11)]) "
   ]
  },
  {
   "cell_type": "code",
   "execution_count": null,
   "metadata": {},
   "outputs": [],
   "source": [
    "'''Cluster test users via cluster trained using training set user data '''\n",
    "\n",
    "filename = 'train_userCluster.p'\n",
    "user_kmeans = pickle.load(open(filename,'rb'))\n",
    "test_usertype_predictions = user_kmeans.predict(test_records[:,:5])\n",
    "\n",
    "filename = 'test_userTypePredictions.npy'\n",
    "np.save(filename,test_usertype_predictions)"
   ]
  }
 ],
 "metadata": {
  "kernelspec": {
   "display_name": "Python 3",
   "language": "python",
   "name": "python3"
  },
  "language_info": {
   "codemirror_mode": {
    "name": "ipython",
    "version": 3
   },
   "file_extension": ".py",
   "mimetype": "text/x-python",
   "name": "python",
   "nbconvert_exporter": "python",
   "pygments_lexer": "ipython3",
   "version": "3.6.3"
  }
 },
 "nbformat": 4,
 "nbformat_minor": 2
}
