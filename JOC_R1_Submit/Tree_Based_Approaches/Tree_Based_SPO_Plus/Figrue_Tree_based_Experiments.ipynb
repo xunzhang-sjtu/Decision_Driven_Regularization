{
 "cells": [
  {
   "cell_type": "code",
   "execution_count": 1,
   "id": "3a263161",
   "metadata": {},
   "outputs": [],
   "source": [
    "import pickle \n",
    "import numpy as np\n",
    "import os"
   ]
  },
  {
   "cell_type": "code",
   "execution_count": 2,
   "id": "2dae2277",
   "metadata": {},
   "outputs": [],
   "source": [
    "dim = 3\n",
    "num_train = 200\n",
    "reps_st = 0 #0 #can be as low as 0\n",
    "reps_end = 100 #1 #can be as high as 50\n",
    "iteration_all = np.arange(reps_st,reps_end)\n",
    "#training parameters\n",
    "max_depth = 3 #3\n",
    "max_depth_true = 3\n",
    "min_weights_per_node = 20 #20\n",
    "\n",
    "mu_all = np.round(np.arange(0.1,1,0.1),4)\n",
    "mu_all = [0.5]\n",
    "lamb_all = np.append(np.append(np.round(np.arange(0.1,1.0,0.2),4),np.arange(1.0,10.0,2.0)),np.arange(10,100,20))\n",
    "# lamb_all = np.append(lamb_all,np.arange(100,1000,200))\n",
    "lamb_all = [100]"
   ]
  },
  {
   "cell_type": "code",
   "execution_count": 3,
   "id": "584e1b76",
   "metadata": {},
   "outputs": [
    {
     "name": "stdout",
     "output_type": "stream",
     "text": [
      "result_dir: /Users/zhangxun/Dropbox/Research/Decision_Driven_Regularization/Data_JOC_R1_Submit/Shortest_Path_Tree/dim=3_depth_3_Tree_based_Data_Generation/result/Data_size=200/\n"
     ]
    }
   ],
   "source": [
    "data_generation_process = \"Tree_based_Data_Generation\"\n",
    "current_directory = os.getcwd()\n",
    "parent_directory = os.path.dirname(current_directory)\n",
    "project_directory = os.path.dirname(os.path.dirname(os.path.dirname(os.path.dirname(parent_directory))))\n",
    "# print(\"project_directory:\", project_directory)\n",
    "DataPath_parent = project_directory + '/Data_JOC_R1_Submit/Shortest_Path_Tree/dim='+str(dim) +'_depth_'+str(max_depth)+\"_Tree_based_Data_Generation/\"\n",
    "# print(\"DataPath_parent:\", DataPath_parent)\n",
    "result_dir = DataPath_parent +\"result/Data_size=\"+str(num_train)+\"/\"\n",
    "print(\"result_dir:\", result_dir)"
   ]
  },
  {
   "cell_type": "code",
   "execution_count": 4,
   "id": "e3b925f0",
   "metadata": {},
   "outputs": [],
   "source": [
    "with open(result_dir+'cost_Oracle.pkl', \"rb\") as tf:\n",
    "    cost_Oracle = pickle.load(tf)\n",
    "with open(result_dir+'cost_MSE.pkl', \"rb\") as tf:\n",
    "    cost_MSE = pickle.load(tf)\n",
    "with open(result_dir+'cost_SPO.pkl', \"rb\") as tf:\n",
    "    cost_SPO = pickle.load(tf)\n",
    "with open(result_dir+'cost_DDR.pkl', \"rb\") as tf:\n",
    "    cost_DDR = pickle.load(tf)"
   ]
  },
  {
   "cell_type": "code",
   "execution_count": 5,
   "id": "f6328af0",
   "metadata": {},
   "outputs": [],
   "source": [
    "from scipy.stats import gaussian_kde\n",
    "from matplotlib import gridspec\n",
    "import seaborn as sns\n",
    "import matplotlib.pyplot as plt"
   ]
  },
  {
   "cell_type": "code",
   "execution_count": 6,
   "id": "fa26fcc6",
   "metadata": {},
   "outputs": [],
   "source": [
    "def figure_plot_upright(all_x, all_y, figure_name, size = (5, 5), move = [-0.07, 0.07, 0.35, 0.55], \n",
    "                        ysame = 0, yrange = [6,6], sublabel = '', ypio = 1):\n",
    "    \n",
    "    data = np.asarray([all_x,all_y])\n",
    "\n",
    "    xmin, ymin = data.min(axis = 1)\n",
    "    xmax, ymax = data.max(axis = 1)\n",
    "\n",
    "    xmax, xmin = tuple(np.array([xmax, xmin]) + 0.1*(xmax - xmin)*np.array([1, -1]))\n",
    "    ymax, ymin = tuple(np.array([ymax, ymin]) + 0.1*(ymax - ymin)*np.array([1, -1]))\n",
    "\n",
    "    ####### Obtain KDE  \n",
    "\n",
    "    #KDE for top marginal\n",
    "    kde_X = gaussian_kde(data[0])\n",
    "    #KDE for right marginal\n",
    "    kde_Y = gaussian_kde(data[1])\n",
    "\n",
    "    x = np.linspace(0, 100, 100)\n",
    "    y = np.linspace(ymin, ymax, 100)\n",
    "\n",
    "    dx = kde_X(x) # X-marginal density\n",
    "    dy = kde_Y(y) # Y-marginal density\n",
    "\n",
    "    #Define grid for subplots\n",
    "    gs = gridspec.GridSpec(2, 2, width_ratios=[3, 1], height_ratios = [1, 3])\n",
    "\n",
    "    ####### Create scatter plot\n",
    "    fig = plt.figure(figsize = size)\n",
    "    ax = plt.subplot(gs[1, 0])\n",
    "    cax = ax.scatter(data[0], data[1], s = 15, color='#003D7C', marker = \"o\", edgecolors = \"#EF7C00\")\n",
    "    plt.xlabel('Head-to-head (%)')\n",
    "\n",
    "    plt.ylabel('Regret reduction (%)') #pio\n",
    "    \n",
    "    \n",
    "    if ysame == 0:\n",
    "        plt.vlines(50, ymin, ymax, linestyle=\"dashed\", alpha = 0.8,color = 'k')\n",
    "    else:\n",
    "        plt.vlines(50, yrange[0], yrange[1], linestyle=\"dashed\", alpha = 0.8,color = 'k')\n",
    "    \n",
    "    if ypio == 0:\n",
    "        plt.hlines(0, 0, 100, linestyle=\"dashed\", alpha = 0.8,color = 'k')\n",
    "        ax.annotate(sublabel, xy = (0.55,0.9), xycoords = 'axes fraction', bbox=dict(boxstyle=\"round\", fc=\"w\"), size = 10)\n",
    "    elif ypio == 1:\n",
    "        plt.hlines(0, 0, 100, linestyle=\"dashed\", alpha = 0.8,color = 'k')\n",
    "        ax.annotate(sublabel, xy = (0.05,0.9), xycoords = 'axes fraction', bbox=dict(boxstyle=\"round\", fc=\"w\"), size = 10)\n",
    "    else:\n",
    "        plt.hlines(100, 0, 100, linestyle=\"dashed\", alpha = 0.8,color = 'k') #pio\n",
    "        ax.annotate(sublabel, xy = (0.55,0.9), xycoords = 'axes fraction', bbox=dict(boxstyle=\"round\", fc=\"w\"), size = 10)\n",
    "\n",
    "    ####### Create Y-marginal (right)\n",
    "    axr = plt.subplot(gs[1, 1], xticks = [], yticks = [], frameon = False)\n",
    "    axr.plot(dy, y, color = 'black')\n",
    "\n",
    "    if ypio == 0:\n",
    "        axr.fill_betweenx(y, 0, dy, where = y <= -0.0001, alpha = 1, color='#EF7C00')\n",
    "        axr.fill_betweenx(y, 0, dy, where = y >= 0, alpha = 1, color='#003D7C')\n",
    "\n",
    "        leftarea = np.round( sum(n <= 0 for n in all_y)/len(all_y),2 )\n",
    "        rightarea = np.round( sum(n > 0 for n in all_y)/len(all_y),2 )\n",
    "\n",
    "        axr.annotate(leftarea, xy=(0.15, abs(ymin)/(ymax - ymin) + move[0]), xycoords='axes fraction', bbox=dict(boxstyle=\"round\", fc=\"w\"), size = 12)\n",
    "        axr.annotate(rightarea, xy=(0.15, abs(ymin)/(ymax - ymin) + move[1]), xycoords='axes fraction', bbox=dict(boxstyle=\"round\", fc=\"w\"), size = 12)\n",
    "    \n",
    "    elif ypio == 1:\n",
    "        axr.fill_betweenx(y, 0, dy, where = y <= 0, alpha = 1, color='#EF7C00')\n",
    "        axr.fill_betweenx(y, 0, dy, where = y >= 0, alpha = 1, color='#003D7C')\n",
    "\n",
    "        leftarea = np.round( sum(n <= 0 for n in all_y)/len(all_y),2 )\n",
    "        rightarea = np.round( sum(n > 0 for n in all_y)/len(all_y),2 )\n",
    "\n",
    "        axr.annotate(leftarea, xy=(0.15, abs(ymin)/(ymax - ymin) + move[0]), xycoords='axes fraction', bbox=dict(boxstyle=\"round\", fc=\"w\"), size = 12)\n",
    "        axr.annotate(rightarea, xy=(0.15, abs(ymin)/(ymax - ymin) + move[1]), xycoords='axes fraction', bbox=dict(boxstyle=\"round\", fc=\"w\"), size = 12)\n",
    "    else:\n",
    "        axr.fill_betweenx(y, 0, dy, where = y <= 100, alpha = 1, color='#EF7C00') #pio\n",
    "        axr.fill_betweenx(y, 0, dy, where = y >= 100, alpha = 1, color='#003D7C') #pio\n",
    "\n",
    "        leftarea = np.round( sum(n <= 100 for n in all_y)/len(all_y),2 ) #pio\n",
    "        rightarea = np.round( sum(n > 100 for n in all_y)/len(all_y),2 ) #pio\n",
    "\n",
    "        axr.annotate(leftarea, xy=(0.15, (100 - ymin)/(ymax - ymin) + move[0]), xycoords='axes fraction', bbox=dict(boxstyle=\"round\", fc=\"w\"), size = 12)\n",
    "        axr.annotate(rightarea, xy=(0.15, (100 - ymin)/(ymax - ymin) + move[1]), xycoords='axes fraction', bbox=dict(boxstyle=\"round\", fc=\"w\"), size = 12)\n",
    "#     axr.invert_xaxis()\n",
    "\n",
    "    ####### Create X-marginal (top)\n",
    "    axt = plt.subplot(gs[0,0], frameon = False, yticks = [], xticks = [])\n",
    "    #base = pyplot.gca().transData\n",
    "    #rot = transforms.Affine2D().rotate_deg(180)\n",
    "    axt.plot(x, dx, color = 'black')\n",
    "    axt.fill_between(x, 0, dx, where = x >= 49.9, alpha= 1, color = '#003D7C')\n",
    "    axt.fill_between(x, 0, dx, where = x <= 50, alpha= 1, color = '#EF7C00')\n",
    "\n",
    "#     axt.invert_yaxis()\n",
    "    leftarea = np.round( sum(n <= 50 for n in all_x)/len(all_x),2 )\n",
    "    rightarea = np.round( sum(n > 50 for n in all_x)/len(all_x),2 )\n",
    "\n",
    "    axt.annotate(leftarea, xy=(move[2], 0.15), xycoords='axes fraction', bbox=dict(boxstyle=\"round\", fc=\"w\"), size = 12)\n",
    "    axt.annotate(rightarea, xy=(move[3], 0.15), xycoords='axes fraction', bbox=dict(boxstyle=\"round\", fc=\"w\"), size = 12)\n",
    "\n",
    "    ####### Bring the marginals closer to the scatter plot and save eps file\n",
    "    fig.tight_layout(pad = 1)\n",
    "    # plt.savefig(figure_name + '.eps', format='eps')\n",
    "    plt.savefig(figure_name + '.pdf', format='pdf')"
   ]
  },
  {
   "cell_type": "code",
   "execution_count": 7,
   "id": "76ca2848",
   "metadata": {},
   "outputs": [],
   "source": [
    "def cross_compare2plus(c_item, c_base, c_oracle):\n",
    "    N = len(c_item)\n",
    "    c_diff = c_base - c_item\n",
    "    lbel = np.zeros((N,1))\n",
    "    \n",
    "    equals = np.sum(c_diff == 0)\n",
    "    wins = np.sum(c_diff > 0) # indicate num of c_item is lower than c_base\n",
    "    lose = np.sum(c_diff < 0)\n",
    "    \n",
    "    lbel[c_diff < 0] = 1\n",
    "    lbel[c_diff > 0] = -1\n",
    "    \n",
    "#     print(N, equals, wins, lose)\n",
    "    if N == equals:\n",
    "        win_ratio = 0.5\n",
    "    else:\n",
    "        win_ratio = wins/(N - equals)\n",
    "    cost_reduction = (np.nanmean(c_diff))/np.abs(np.nanmean(c_base))\n",
    "    if np.nanmean(c_base) - np.nanmean(c_oracle) <= 1e-6:\n",
    "        regret_reduction = 0.0\n",
    "    else:\n",
    "        regret_reduction = (np.nanmean(c_diff))/np.abs(np.nanmean(c_base) - np.nanmean(c_oracle))\n",
    "    return win_ratio, cost_reduction, regret_reduction"
   ]
  },
  {
   "cell_type": "code",
   "execution_count": 8,
   "id": "2868cde4",
   "metadata": {},
   "outputs": [],
   "source": [
    "def calculate_Main_vs_Benchmark_h2h_regret(iteration_all,cost_Main,cost_bench,cost_Oracle_Ante_all):\n",
    "    \n",
    "    h2h_ = np.zeros(len(iteration_all)); cost_rd_ = np.zeros(len(iteration_all)); regret_rd_ = np.zeros(len(iteration_all))\n",
    "    for iter_index in range(len(iteration_all)):\n",
    "        iter = iteration_all[iter_index]\n",
    "        h2h_[iter_index],cost_rd_[iter_index],regret_rd_[iter_index] = cross_compare2plus(cost_Main[iter], cost_bench[iter], cost_Oracle_Ante_all[iter])\n",
    "\n",
    "    # return h2h_post,regret_post,h2h_ante,regret_ante\n",
    "    return h2h_,regret_rd_"
   ]
  },
  {
   "cell_type": "code",
   "execution_count": 9,
   "id": "9170fad5",
   "metadata": {},
   "outputs": [],
   "source": [
    "h2h_ddr_vs_spo = {}; regret_rd_ddr_vs_spo = {}\n",
    "h2h_ddr_vs_mse = {}; regret_rd_ddr_vs_mse = {}\n",
    "\n",
    "for mu in mu_all:\n",
    "    for lamb in lamb_all:\n",
    "        cost_DDR_mu_lamb = {}\n",
    "        cost_SPO_deg = {}\n",
    "        cost_Oracle_deg = {}\n",
    "        cost_MSE_deg = {}\n",
    "        for iter in iteration_all:\n",
    "            cost_DDR_mu_lamb[iter] = np.asarray(cost_DDR[iter,mu,lamb])\n",
    "            cost_SPO_deg[iter] = np.asarray(cost_SPO[iter])\n",
    "            cost_Oracle_deg[iter] = np.asarray(cost_Oracle[iter])\n",
    "            cost_MSE_deg[iter] = np.asarray(cost_MSE[iter])\n",
    "        h2h_ddr_vs_spo[mu,lamb],regret_rd_ddr_vs_spo[mu,lamb] = calculate_Main_vs_Benchmark_h2h_regret(iteration_all,cost_DDR_mu_lamb,cost_SPO_deg,cost_Oracle_deg)\n",
    "        h2h_ddr_vs_mse[mu,lamb],regret_rd_ddr_vs_mse[mu,lamb] = calculate_Main_vs_Benchmark_h2h_regret(iteration_all,cost_DDR_mu_lamb,cost_MSE_deg,cost_Oracle_deg)"
   ]
  },
  {
   "cell_type": "markdown",
   "id": "4a096dfb",
   "metadata": {},
   "source": [
    "##### DDR vs SPO"
   ]
  },
  {
   "cell_type": "code",
   "execution_count": 10,
   "id": "4732bca0",
   "metadata": {},
   "outputs": [
    {
     "data": {
      "image/png": "[encoded data removed]",
      "text/plain": [
       "<Figure size 500x500 with 3 Axes>"
      ]
     },
     "metadata": {},
     "output_type": "display_data"
    }
   ],
   "source": [
    "mu = mu_all[0]\n",
    "lamb = lamb_all[0]\n",
    "figure_name = result_dir + f\"ddr_vs_spo_mu={mu}_lamb={lamb}\"\n",
    "# Upright_Figure(h2h_ddr_vs_spo[mu,lamb]*100, regret_rd_ddr_vs_spo[mu,lamb]*100, figure_name, size = (5, 5), move = [-0.07, 0.07, 0.35, 0.55], \n",
    "#                         ymin = 0, ymax=100,xmin = 0,xmax = 100)\n",
    "figure_plot_upright(h2h_ddr_vs_spo[mu,lamb]*100, regret_rd_ddr_vs_spo[mu,lamb]*100, figure_name, size = (5, 5), move = [-0.07, 0.07, 0.35, 0.55], \n",
    "                        ysame = 0, yrange = [6,6], sublabel = '', ypio = 1)"
   ]
  },
  {
   "cell_type": "markdown",
   "id": "d8ab5293",
   "metadata": {},
   "source": [
    "##### DDR vs MSE"
   ]
  },
  {
   "cell_type": "markdown",
   "id": "78012da8",
   "metadata": {},
   "source": [
    "- Note that there are only five points are not the same."
   ]
  },
  {
   "cell_type": "code",
   "execution_count": 11,
   "id": "f1d0680e",
   "metadata": {},
   "outputs": [],
   "source": [
    "# mu = mu_all[0]\n",
    "# lamb = lamb_all[0]\n",
    "# figure_name = result_dir + f\"ddr_vs_mse_mu={mu}_lamb={lamb}\"\n",
    "# # Upright_Figure(h2h_ddr_vs_mse[mu,lamb]*100, regret_rd_ddr_vs_mse[mu,lamb]*100, figure_name, size = (5, 5), move = [-0.07, 0.07, 0.35, 0.55], \n",
    "# #                         ymin = 0, ymax=100,xmin = 0,xmax = 100)\n",
    "# figure_plot_upright(h2h_ddr_vs_mse[mu,lamb]*100, regret_rd_ddr_vs_mse[mu,lamb]*100, figure_name, size = (5, 5), move = [-0.07, 0.07, 0.35, 0.55], \n",
    "#                         ysame = 0, yrange = [6,6], sublabel = '', ypio = 1)"
   ]
  },
  {
   "cell_type": "markdown",
   "id": "a7d4e786",
   "metadata": {},
   "source": [
    "### boxplot"
   ]
  },
  {
   "cell_type": "code",
   "execution_count": 12,
   "id": "dbafcb44",
   "metadata": {},
   "outputs": [],
   "source": [
    "# cost_MSE_avg = np.asarray([np.nanmean(cost_MSE[iter]) for iter in iteration_all])\n",
    "# cost_SPO_avg = np.asarray([np.nanmean(cost_SPO[iter]) for iter in iteration_all])"
   ]
  },
  {
   "cell_type": "code",
   "execution_count": 13,
   "id": "940c20f1",
   "metadata": {},
   "outputs": [],
   "source": [
    "# cost_MSE_avg_normalized = np.asarray([np.nanmean(cost_MSE[iter]/np.nanmean(cost_Oracle[iter])) for iter in iteration_all])\n",
    "# cost_SPO_avg_normalized = np.asarray([np.nanmean(cost_SPO[iter]/np.nanmean(cost_Oracle[iter])) for iter in iteration_all])"
   ]
  },
  {
   "cell_type": "code",
   "execution_count": 14,
   "id": "98d743ea",
   "metadata": {},
   "outputs": [],
   "source": [
    "# import matplotlib.pyplot as plt\n",
    "# import seaborn as sns\n",
    "# iter = 0\n",
    "# # 创建图形\n",
    "# plt.figure(figsize=(10, 6))\n",
    "\n",
    "# # 方法1: 使用matplotlib的boxplot\n",
    "# plt.subplot(1, 2, 1)\n",
    "# # plt.boxplot([cost_MSE[iter], cost_SPO[iter]], labels=['MSE', 'SPO'])\n",
    "# plt.boxplot([cost_MSE_avg_normalized, cost_SPO_avg_normalized], labels=['MSE', 'SPO'])\n",
    "# plt.title('Boxplot using matplotlib')\n",
    "# plt.ylabel('Values')\n",
    "\n",
    "# # # 方法2: 使用seaborn的boxplot (更美观)\n",
    "# # plt.subplot(1, 2, 2)\n",
    "# # sns.boxplot(data=[data1, data2], palette=\"Set2\")\n",
    "# # plt.xticks([0, 1], ['Group 1', 'Group 2'])\n",
    "# # plt.title('Boxplot using seaborn')\n",
    "# # plt.ylabel('Values')\n",
    "\n",
    "# # 调整布局\n",
    "# plt.tight_layout()\n",
    "\n",
    "# # 显示图形\n",
    "# plt.show()\n",
    "\n",
    "# # # 保存图形\n",
    "# # plt.savefig('boxplot_comparison.png')\n",
    "# # print(\"箱线图已保存为 boxplot_comparison.png\")\n"
   ]
  }
 ],
 "metadata": {
  "kernelspec": {
   "display_name": ".venv",
   "language": "python",
   "name": "python3"
  },
  "language_info": {
   "codemirror_mode": {
    "name": "ipython",
    "version": 3
   },
   "file_extension": ".py",
   "mimetype": "text/x-python",
   "name": "python",
   "nbconvert_exporter": "python",
   "pygments_lexer": "ipython3",
   "version": "3.9.6"
  }
 },
 "nbformat": 4,
 "nbformat_minor": 5
}
