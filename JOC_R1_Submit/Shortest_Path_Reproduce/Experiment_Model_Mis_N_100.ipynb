{
 "cells": [
  {
   "cell_type": "code",
   "execution_count": 1,
   "id": "e5423203",
   "metadata": {},
   "outputs": [],
   "source": [
    "import random\n",
    "import numpy as np\n",
    "import torch\n",
    "import os\n",
    "import pathlib\n",
    "import pickle\n",
    "import pandas as pd\n",
    "torch.manual_seed(42)\n",
    "torch.cuda.manual_seed(42)\n",
    "from Performance import performance_evaluation\n",
    "perfs = performance_evaluation()\n",
    "\n",
    "from Performance import H2h_Regret_Evaluation\n",
    "h2h_regret_eva = H2h_Regret_Evaluation()\n",
    "\n",
    "from Data import Data_Simulator\n",
    "DS_Obj = Data_Simulator()\n",
    "\n",
    "from Oracle import Oracle_Processing\n",
    "Oracle_Proc = Oracle_Processing()\n",
    "\n",
    "from OLS import OLS_Processing\n",
    "OLS_Proc = OLS_Processing()\n",
    "\n",
    "from DDR import DDR_Processing\n",
    "DDR_Proc = DDR_Processing()\n",
    "\n",
    "from PYEPO import EPO_Processing\n",
    "PYEPO_Proc = EPO_Processing()\n",
    "\n",
    "from Data_Load_Store import Load_Store_Methods\n",
    "Data_LSM = Load_Store_Methods()"
   ]
  },
  {
   "cell_type": "code",
   "execution_count": 2,
   "id": "9e1d3bf5",
   "metadata": {},
   "outputs": [],
   "source": [
    "import Sequential_Learning_Approaches as SLA\n",
    "import Integrated_Learning_Approaches as ILA"
   ]
  },
  {
   "cell_type": "markdown",
   "id": "886e7311",
   "metadata": {},
   "source": [
    "### Parameters"
   ]
  },
  {
   "cell_type": "code",
   "execution_count": 3,
   "id": "782cc897",
   "metadata": {},
   "outputs": [],
   "source": [
    "grid = (3,3) # grid size\n",
    "from Network import network_design\n",
    "Network = network_design()\n",
    "arcs,arc_index_mapping = Network._getArcs(grid)\n",
    "\n",
    "num_test = 1000\n",
    "lower = 0 # coef lower bound\n",
    "upper = 1 # coef upper bound\n",
    "d = (grid[0] - 1) * (grid[0] - 1) * 2 + 2 * (grid[0] - 1) # num of arcs\n",
    "num_nodes = grid[0]*grid[0]\n",
    "coef_seed = 1\n",
    "\n",
    "x_dist = 'uniform'\n",
    "e_dist = 'normal'\n",
    "x_low = -2\n",
    "x_up = 2\n",
    "x_mean = 2\n",
    "x_var = 2\n",
    "bump = 100"
   ]
  },
  {
   "cell_type": "code",
   "execution_count": null,
   "id": "554bf254",
   "metadata": {},
   "outputs": [
    {
     "name": "stdout",
     "output_type": "stream",
     "text": [
      "DataPath_parent: /Users/zhangxun/Dropbox/Research/Decision_Driven_Regularization/Data_JOC_R1_Submit/Shortest_Path_Final/Model_MisSPO_Data_Generation/3by3_grid/\n"
     ]
    }
   ],
   "source": [
    "data_generation_process = \"SPO_Data_Generation\"\n",
    "# data_generation_process = \"DDR_Data_Generation\"\n",
    "current_directory = os.getcwd()\n",
    "parent_directory = os.path.dirname(current_directory)\n",
    "project_directory = os.path.dirname(os.path.dirname(os.path.dirname(parent_directory)))\n",
    "DataPath_Parent = project_directory + '/Data_JOC_R1_Submit/Shortest_Path_Final/Model_Mis' + data_generation_process + f'/{grid[0]}by{grid[1]}_grid/'\n",
    "pathlib.Path(DataPath_Parent).mkdir(parents=True, exist_ok=True)\n",
    "print(\"DataPath_parent:\", DataPath_Parent)"
   ]
  },
  {
   "cell_type": "code",
   "execution_count": 5,
   "id": "82492c6b",
   "metadata": {},
   "outputs": [],
   "source": [
    "Result_dir = DataPath_Parent + \"Result/\"\n",
    "pathlib.Path(Result_dir).mkdir(parents=True, exist_ok=True)"
   ]
  },
  {
   "cell_type": "markdown",
   "id": "a25df629",
   "metadata": {},
   "source": [
    "#### Impact of model misspecification when $N=100$"
   ]
  },
  {
   "cell_type": "code",
   "execution_count": 6,
   "id": "318667b4",
   "metadata": {},
   "outputs": [],
   "source": [
    "num_feat = 5 # size of feature\n",
    "p = num_feat\n",
    "e = 0.5 # scale of normal std or the range of uniform. For the error term\n",
    "alpha = e # scale of normal std or the range of uniform. For the error term\n",
    "iteration_all = np.arange(0,100)\n",
    "batch_size = 20\n",
    "num_epochs = 1000\n",
    "num_train = 100\n",
    "mu_all = [0.75]\n",
    "lamb_all = [0.8]\n",
    "deg_all = [0.4,0.6,0.8,1.0,1.2,1.4,1.6,2.0,3.0,4.0,8.0] # polynomial degree"
   ]
  },
  {
   "cell_type": "code",
   "execution_count": 7,
   "id": "ce605d38",
   "metadata": {},
   "outputs": [
    {
     "name": "stdout",
     "output_type": "stream",
     "text": [
      "DataPath: /Users/zhangxun/Dropbox/Research/Decision_Driven_Regularization/Data_JOC_R1_Submit/Shortest_Path_Final/Model_MisSPO_Data_Generation/3by3_grid/data_size=100_deg=0.4_e=0.5_p=5_num_test=1000_x_dist=uniform_e_dist=normal/\n",
      "DataPath: /Users/zhangxun/Dropbox/Research/Decision_Driven_Regularization/Data_JOC_R1_Submit/Shortest_Path_Final/Model_MisSPO_Data_Generation/3by3_grid/data_size=100_deg=0.6_e=0.5_p=5_num_test=1000_x_dist=uniform_e_dist=normal/\n",
      "DataPath: /Users/zhangxun/Dropbox/Research/Decision_Driven_Regularization/Data_JOC_R1_Submit/Shortest_Path_Final/Model_MisSPO_Data_Generation/3by3_grid/data_size=100_deg=0.8_e=0.5_p=5_num_test=1000_x_dist=uniform_e_dist=normal/\n",
      "DataPath: /Users/zhangxun/Dropbox/Research/Decision_Driven_Regularization/Data_JOC_R1_Submit/Shortest_Path_Final/Model_MisSPO_Data_Generation/3by3_grid/data_size=100_deg=1.0_e=0.5_p=5_num_test=1000_x_dist=uniform_e_dist=normal/\n",
      "DataPath: /Users/zhangxun/Dropbox/Research/Decision_Driven_Regularization/Data_JOC_R1_Submit/Shortest_Path_Final/Model_MisSPO_Data_Generation/3by3_grid/data_size=100_deg=1.2_e=0.5_p=5_num_test=1000_x_dist=uniform_e_dist=normal/\n",
      "DataPath: /Users/zhangxun/Dropbox/Research/Decision_Driven_Regularization/Data_JOC_R1_Submit/Shortest_Path_Final/Model_MisSPO_Data_Generation/3by3_grid/data_size=100_deg=1.4_e=0.5_p=5_num_test=1000_x_dist=uniform_e_dist=normal/\n",
      "DataPath: /Users/zhangxun/Dropbox/Research/Decision_Driven_Regularization/Data_JOC_R1_Submit/Shortest_Path_Final/Model_MisSPO_Data_Generation/3by3_grid/data_size=100_deg=1.6_e=0.5_p=5_num_test=1000_x_dist=uniform_e_dist=normal/\n",
      "DataPath: /Users/zhangxun/Dropbox/Research/Decision_Driven_Regularization/Data_JOC_R1_Submit/Shortest_Path_Final/Model_MisSPO_Data_Generation/3by3_grid/data_size=100_deg=2.0_e=0.5_p=5_num_test=1000_x_dist=uniform_e_dist=normal/\n",
      "DataPath: /Users/zhangxun/Dropbox/Research/Decision_Driven_Regularization/Data_JOC_R1_Submit/Shortest_Path_Final/Model_MisSPO_Data_Generation/3by3_grid/data_size=100_deg=3.0_e=0.5_p=5_num_test=1000_x_dist=uniform_e_dist=normal/\n",
      "DataPath: /Users/zhangxun/Dropbox/Research/Decision_Driven_Regularization/Data_JOC_R1_Submit/Shortest_Path_Final/Model_MisSPO_Data_Generation/3by3_grid/data_size=100_deg=4.0_e=0.5_p=5_num_test=1000_x_dist=uniform_e_dist=normal/\n",
      "DataPath: /Users/zhangxun/Dropbox/Research/Decision_Driven_Regularization/Data_JOC_R1_Submit/Shortest_Path_Final/Model_MisSPO_Data_Generation/3by3_grid/data_size=100_deg=8.0_e=0.5_p=5_num_test=1000_x_dist=uniform_e_dist=normal/\n"
     ]
    }
   ],
   "source": [
    "for deg in deg_all:\n",
    "    mis = deg # model misspecification\n",
    "    DataPath = DataPath_Parent + f\"data_size={num_train}_deg={deg}_e={e}_p={p}_num_test={num_test}\"+\"_x_dist=\"+x_dist+\"_e_dist=\"+e_dist+\"/\"\n",
    "    pathlib.Path(DataPath).mkdir(parents=True, exist_ok=True)\n",
    "    print(\"DataPath:\", DataPath)\n",
    "    if os.path.exists(DataPath+\"x_test_all.pkl\"):\n",
    "        print(\"Already Exist\")\n",
    "    else:\n",
    "        x_test_all, c_test_all, x_train_all, c_train_all,noise_train_all,noise_test_all,W_star_all = \\\n",
    "        DS_Obj.Simulator(DataPath,lower, upper, p, d, coef_seed,iteration_all,num_test, num_train, alpha,mis,data_generation_process,x_dist, e_dist, x_low, x_up, x_mean, x_var, bump)\n",
    "        Data_LSM.store_input_data(DataPath,x_test_all,c_test_all,x_train_all,c_train_all,noise_test_all,noise_train_all,W_star_all)"
   ]
  },
  {
   "cell_type": "markdown",
   "id": "99d09f4d",
   "metadata": {},
   "source": [
    "### Run Oracle"
   ]
  },
  {
   "cell_type": "code",
   "execution_count": 8,
   "id": "99b3b7bc",
   "metadata": {},
   "outputs": [
    {
     "name": "stdout",
     "output_type": "stream",
     "text": [
      "DataPath: /Users/zhangxun/Dropbox/Research/Decision_Driven_Regularization/Data_JOC_R1_Submit/Shortest_Path_Final/Model_MisSPO_Data_Generation/3by3_grid/data_size=100_deg=0.4_e=0.5_p=5_num_test=1000_x_dist=uniform_e_dist=normal/\n",
      "Set parameter Username\n",
      "Academic license - for non-commercial use only - expires 2026-03-13\n",
      "Oracle: iter= 20 ,cost_Oracle_Ante= 9.974746843194604\n",
      "Oracle: iter= 40 ,cost_Oracle_Ante= 9.856448226220069\n",
      "Oracle: iter= 60 ,cost_Oracle_Ante= 9.949329095991978\n",
      "Oracle: iter= 80 ,cost_Oracle_Ante= 9.918527311495193\n",
      "DataPath: /Users/zhangxun/Dropbox/Research/Decision_Driven_Regularization/Data_JOC_R1_Submit/Shortest_Path_Final/Model_MisSPO_Data_Generation/3by3_grid/data_size=100_deg=0.6_e=0.5_p=5_num_test=1000_x_dist=uniform_e_dist=normal/\n",
      "Oracle: iter= 20 ,cost_Oracle_Ante= 11.338732132399196\n",
      "Oracle: iter= 40 ,cost_Oracle_Ante= 11.118387299619572\n",
      "Oracle: iter= 60 ,cost_Oracle_Ante= 11.287140012956202\n",
      "Oracle: iter= 80 ,cost_Oracle_Ante= 11.232739214324324\n",
      "DataPath: /Users/zhangxun/Dropbox/Research/Decision_Driven_Regularization/Data_JOC_R1_Submit/Shortest_Path_Final/Model_MisSPO_Data_Generation/3by3_grid/data_size=100_deg=0.8_e=0.5_p=5_num_test=1000_x_dist=uniform_e_dist=normal/\n",
      "Oracle: iter= 20 ,cost_Oracle_Ante= 13.041807419015502\n",
      "Oracle: iter= 40 ,cost_Oracle_Ante= 12.675834853159431\n",
      "Oracle: iter= 60 ,cost_Oracle_Ante= 12.948886244206552\n",
      "Oracle: iter= 80 ,cost_Oracle_Ante= 12.864210119078383\n",
      "DataPath: /Users/zhangxun/Dropbox/Research/Decision_Driven_Regularization/Data_JOC_R1_Submit/Shortest_Path_Final/Model_MisSPO_Data_Generation/3by3_grid/data_size=100_deg=1.0_e=0.5_p=5_num_test=1000_x_dist=uniform_e_dist=normal/\n",
      "Oracle: iter= 20 ,cost_Oracle_Ante= 15.172642031123184\n",
      "Oracle: iter= 40 ,cost_Oracle_Ante= 14.600967169194192\n",
      "Oracle: iter= 60 ,cost_Oracle_Ante= 15.016002191297218\n",
      "Oracle: iter= 80 ,cost_Oracle_Ante= 14.89354010044007\n",
      "DataPath: /Users/zhangxun/Dropbox/Research/Decision_Driven_Regularization/Data_JOC_R1_Submit/Shortest_Path_Final/Model_MisSPO_Data_Generation/3by3_grid/data_size=100_deg=1.2_e=0.5_p=5_num_test=1000_x_dist=uniform_e_dist=normal/\n",
      "Oracle: iter= 20 ,cost_Oracle_Ante= 17.84392937131793\n",
      "Oracle: iter= 40 ,cost_Oracle_Ante= 16.984367942606596\n",
      "Oracle: iter= 60 ,cost_Oracle_Ante= 17.59092075767087\n",
      "Oracle: iter= 80 ,cost_Oracle_Ante= 17.422644200809266\n",
      "DataPath: /Users/zhangxun/Dropbox/Research/Decision_Driven_Regularization/Data_JOC_R1_Submit/Shortest_Path_Final/Model_MisSPO_Data_Generation/3by3_grid/data_size=100_deg=1.4_e=0.5_p=5_num_test=1000_x_dist=uniform_e_dist=normal/\n",
      "Oracle: iter= 20 ,cost_Oracle_Ante= 21.199464769859734\n",
      "Oracle: iter= 40 ,cost_Oracle_Ante= 19.939859416081816\n",
      "Oracle: iter= 60 ,cost_Oracle_Ante= 20.8034386577543\n",
      "Oracle: iter= 80 ,cost_Oracle_Ante= 20.58097719911729\n",
      "DataPath: /Users/zhangxun/Dropbox/Research/Decision_Driven_Regularization/Data_JOC_R1_Submit/Shortest_Path_Final/Model_MisSPO_Data_Generation/3by3_grid/data_size=100_deg=1.6_e=0.5_p=5_num_test=1000_x_dist=uniform_e_dist=normal/\n",
      "Oracle: iter= 20 ,cost_Oracle_Ante= 25.423029599678035\n",
      "Oracle: iter= 40 ,cost_Oracle_Ante= 23.61010193101374\n",
      "Oracle: iter= 60 ,cost_Oracle_Ante= 24.81662361749427\n",
      "Oracle: iter= 80 ,cost_Oracle_Ante= 24.533252404828644\n",
      "DataPath: /Users/zhangxun/Dropbox/Research/Decision_Driven_Regularization/Data_JOC_R1_Submit/Shortest_Path_Final/Model_MisSPO_Data_Generation/3by3_grid/data_size=100_deg=2.0_e=0.5_p=5_num_test=1000_x_dist=uniform_e_dist=normal/\n",
      "Oracle: iter= 20 ,cost_Oracle_Ante= 37.47798939500506\n",
      "Oracle: iter= 40 ,cost_Oracle_Ante= 33.86087014607474\n",
      "Oracle: iter= 60 ,cost_Oracle_Ante= 36.1240312645982\n",
      "Oracle: iter= 80 ,cost_Oracle_Ante= 35.71547119085479\n",
      "DataPath: /Users/zhangxun/Dropbox/Research/Decision_Driven_Regularization/Data_JOC_R1_Submit/Shortest_Path_Final/Model_MisSPO_Data_Generation/3by3_grid/data_size=100_deg=3.0_e=0.5_p=5_num_test=1000_x_dist=uniform_e_dist=normal/\n",
      "Oracle: iter= 20 ,cost_Oracle_Ante= 110.21441871202357\n",
      "Oracle: iter= 40 ,cost_Oracle_Ante= 92.19467157687451\n",
      "Oracle: iter= 60 ,cost_Oracle_Ante= 101.8873536790841\n",
      "Oracle: iter= 80 ,cost_Oracle_Ante= 101.84353520893609\n",
      "DataPath: /Users/zhangxun/Dropbox/Research/Decision_Driven_Regularization/Data_JOC_R1_Submit/Shortest_Path_Final/Model_MisSPO_Data_Generation/3by3_grid/data_size=100_deg=4.0_e=0.5_p=5_num_test=1000_x_dist=uniform_e_dist=normal/\n",
      "Oracle: iter= 20 ,cost_Oracle_Ante= 357.72591658917406\n",
      "Oracle: iter= 40 ,cost_Oracle_Ante= 275.11264904880977\n",
      "Oracle: iter= 60 ,cost_Oracle_Ante= 313.77668009891704\n",
      "Oracle: iter= 80 ,cost_Oracle_Ante= 322.2775641706925\n",
      "DataPath: /Users/zhangxun/Dropbox/Research/Decision_Driven_Regularization/Data_JOC_R1_Submit/Shortest_Path_Final/Model_MisSPO_Data_Generation/3by3_grid/data_size=100_deg=8.0_e=0.5_p=5_num_test=1000_x_dist=uniform_e_dist=normal/\n",
      "Oracle: iter= 20 ,cost_Oracle_Ante= 63776.5114508837\n",
      "Oracle: iter= 40 ,cost_Oracle_Ante= 33430.788123636135\n",
      "Oracle: iter= 60 ,cost_Oracle_Ante= 42435.45025832233\n",
      "Oracle: iter= 80 ,cost_Oracle_Ante= 57526.63494033722\n"
     ]
    }
   ],
   "source": [
    "for deg in deg_all:\n",
    "    mis = deg # model misspecification\n",
    "    DataPath = DataPath_Parent + f\"data_size={num_train}_deg={deg}_e={e}_p={p}_num_test={num_test}\"+\"_x_dist=\"+x_dist+\"_e_dist=\"+e_dist+\"/\"\n",
    "    print(\"DataPath:\", DataPath)\n",
    "    if os.path.exists(DataPath+\"cost_Oracle_Ante_all.pkl\"):\n",
    "        print(\"Results already exist\")\n",
    "    else:\n",
    "        SLA.Run_Oracle(DataPath,arcs, grid,mis,bump,iteration_all,num_feat,data_generation_process)"
   ]
  },
  {
   "cell_type": "markdown",
   "id": "7a6a0e9b",
   "metadata": {},
   "source": [
    "### Run OLS"
   ]
  },
  {
   "cell_type": "code",
   "execution_count": 9,
   "id": "7494a637",
   "metadata": {},
   "outputs": [
    {
     "name": "stdout",
     "output_type": "stream",
     "text": [
      "DataPath: /Users/zhangxun/Dropbox/Research/Decision_Driven_Regularization/Data_JOC_R1_Submit/Shortest_Path_Final/Model_MisSPO_Data_Generation/3by3_grid/data_size=100_deg=0.4_e=0.5_p=5_num_test=1000_x_dist=uniform_e_dist=normal/\n",
      "OLS: iter= 20 ,cost_OLS_Ante= 10.066202257534798\n",
      "OLS: iter= 40 ,cost_OLS_Ante= 9.91609848122351\n",
      "OLS: iter= 60 ,cost_OLS_Ante= 10.014275543903883\n",
      "OLS: iter= 80 ,cost_OLS_Ante= 10.07851624680234\n",
      "DataPath: /Users/zhangxun/Dropbox/Research/Decision_Driven_Regularization/Data_JOC_R1_Submit/Shortest_Path_Final/Model_MisSPO_Data_Generation/3by3_grid/data_size=100_deg=0.6_e=0.5_p=5_num_test=1000_x_dist=uniform_e_dist=normal/\n",
      "OLS: iter= 20 ,cost_OLS_Ante= 11.460790124910684\n",
      "OLS: iter= 40 ,cost_OLS_Ante= 11.172104134086428\n",
      "OLS: iter= 60 ,cost_OLS_Ante= 11.370962074342195\n",
      "OLS: iter= 80 ,cost_OLS_Ante= 11.393709347267736\n",
      "DataPath: /Users/zhangxun/Dropbox/Research/Decision_Driven_Regularization/Data_JOC_R1_Submit/Shortest_Path_Final/Model_MisSPO_Data_Generation/3by3_grid/data_size=100_deg=0.8_e=0.5_p=5_num_test=1000_x_dist=uniform_e_dist=normal/\n",
      "OLS: iter= 20 ,cost_OLS_Ante= 13.188025602190104\n",
      "OLS: iter= 40 ,cost_OLS_Ante= 12.726269320483377\n",
      "OLS: iter= 60 ,cost_OLS_Ante= 13.041457624780882\n",
      "OLS: iter= 80 ,cost_OLS_Ante= 13.012377398807374\n",
      "DataPath: /Users/zhangxun/Dropbox/Research/Decision_Driven_Regularization/Data_JOC_R1_Submit/Shortest_Path_Final/Model_MisSPO_Data_Generation/3by3_grid/data_size=100_deg=1.0_e=0.5_p=5_num_test=1000_x_dist=uniform_e_dist=normal/\n",
      "OLS: iter= 20 ,cost_OLS_Ante= 15.342978625531082\n",
      "OLS: iter= 40 ,cost_OLS_Ante= 14.653128870271075\n",
      "OLS: iter= 60 ,cost_OLS_Ante= 15.116680536722342\n",
      "OLS: iter= 80 ,cost_OLS_Ante= 15.042281568159728\n",
      "DataPath: /Users/zhangxun/Dropbox/Research/Decision_Driven_Regularization/Data_JOC_R1_Submit/Shortest_Path_Final/Model_MisSPO_Data_Generation/3by3_grid/data_size=100_deg=1.2_e=0.5_p=5_num_test=1000_x_dist=uniform_e_dist=normal/\n",
      "OLS: iter= 20 ,cost_OLS_Ante= 18.045518139421368\n",
      "OLS: iter= 40 ,cost_OLS_Ante= 17.052947718055393\n",
      "OLS: iter= 60 ,cost_OLS_Ante= 17.69498081549373\n",
      "OLS: iter= 80 ,cost_OLS_Ante= 17.569433239706036\n",
      "DataPath: /Users/zhangxun/Dropbox/Research/Decision_Driven_Regularization/Data_JOC_R1_Submit/Shortest_Path_Final/Model_MisSPO_Data_Generation/3by3_grid/data_size=100_deg=1.4_e=0.5_p=5_num_test=1000_x_dist=uniform_e_dist=normal/\n",
      "OLS: iter= 20 ,cost_OLS_Ante= 21.431505433745134\n",
      "OLS: iter= 40 ,cost_OLS_Ante= 20.019901221242073\n",
      "OLS: iter= 60 ,cost_OLS_Ante= 20.922110282850625\n",
      "OLS: iter= 80 ,cost_OLS_Ante= 20.73052921118435\n",
      "DataPath: /Users/zhangxun/Dropbox/Research/Decision_Driven_Regularization/Data_JOC_R1_Submit/Shortest_Path_Final/Model_MisSPO_Data_Generation/3by3_grid/data_size=100_deg=1.6_e=0.5_p=5_num_test=1000_x_dist=uniform_e_dist=normal/\n",
      "OLS: iter= 20 ,cost_OLS_Ante= 25.712143761910227\n",
      "OLS: iter= 40 ,cost_OLS_Ante= 23.698818123581173\n",
      "OLS: iter= 60 ,cost_OLS_Ante= 24.95183673527168\n",
      "OLS: iter= 80 ,cost_OLS_Ante= 24.686766970523493\n",
      "DataPath: /Users/zhangxun/Dropbox/Research/Decision_Driven_Regularization/Data_JOC_R1_Submit/Shortest_Path_Final/Model_MisSPO_Data_Generation/3by3_grid/data_size=100_deg=2.0_e=0.5_p=5_num_test=1000_x_dist=uniform_e_dist=normal/\n",
      "OLS: iter= 20 ,cost_OLS_Ante= 37.932795278821466\n",
      "OLS: iter= 40 ,cost_OLS_Ante= 34.02070550900565\n",
      "OLS: iter= 60 ,cost_OLS_Ante= 36.33523546381481\n",
      "OLS: iter= 80 ,cost_OLS_Ante= 35.90373888059851\n",
      "DataPath: /Users/zhangxun/Dropbox/Research/Decision_Driven_Regularization/Data_JOC_R1_Submit/Shortest_Path_Final/Model_MisSPO_Data_Generation/3by3_grid/data_size=100_deg=3.0_e=0.5_p=5_num_test=1000_x_dist=uniform_e_dist=normal/\n",
      "OLS: iter= 20 ,cost_OLS_Ante= 112.25302157832193\n",
      "OLS: iter= 40 ,cost_OLS_Ante= 93.44721915899764\n",
      "OLS: iter= 60 ,cost_OLS_Ante= 103.17460633839448\n",
      "OLS: iter= 80 ,cost_OLS_Ante= 102.52779711972809\n",
      "DataPath: /Users/zhangxun/Dropbox/Research/Decision_Driven_Regularization/Data_JOC_R1_Submit/Shortest_Path_Final/Model_MisSPO_Data_Generation/3by3_grid/data_size=100_deg=4.0_e=0.5_p=5_num_test=1000_x_dist=uniform_e_dist=normal/\n",
      "OLS: iter= 20 ,cost_OLS_Ante= 368.46066403678805\n",
      "OLS: iter= 40 ,cost_OLS_Ante= 283.23572451895745\n",
      "OLS: iter= 60 ,cost_OLS_Ante= 321.6270261737723\n",
      "OLS: iter= 80 ,cost_OLS_Ante= 325.91268513114716\n",
      "DataPath: /Users/zhangxun/Dropbox/Research/Decision_Driven_Regularization/Data_JOC_R1_Submit/Shortest_Path_Final/Model_MisSPO_Data_Generation/3by3_grid/data_size=100_deg=8.0_e=0.5_p=5_num_test=1000_x_dist=uniform_e_dist=normal/\n",
      "OLS: iter= 20 ,cost_OLS_Ante= 70834.71102342349\n",
      "OLS: iter= 40 ,cost_OLS_Ante= 39376.94726143448\n",
      "OLS: iter= 60 ,cost_OLS_Ante= 49461.861884494094\n",
      "OLS: iter= 80 ,cost_OLS_Ante= 59908.652317682965\n"
     ]
    }
   ],
   "source": [
    "for deg in deg_all:\n",
    "    mis = deg # model misspecification\n",
    "    DataPath = DataPath_Parent + f\"data_size={num_train}_deg={deg}_e={e}_p={p}_num_test={num_test}\"+\"_x_dist=\"+x_dist+\"_e_dist=\"+e_dist+\"/\"\n",
    "    print(\"DataPath:\", DataPath)\n",
    "    if os.path.exists(DataPath+\"cost_OLS_Ante_all.pkl\"):\n",
    "        print(\"Results already exist\")\n",
    "    else:\n",
    "        SLA.Run_OLS(DataPath,arcs, grid,mis,bump,iteration_all,num_feat,data_generation_process)"
   ]
  },
  {
   "cell_type": "markdown",
   "id": "4b31321f",
   "metadata": {},
   "source": [
    "### Run DDR"
   ]
  },
  {
   "cell_type": "code",
   "execution_count": 10,
   "id": "7b29eec3",
   "metadata": {},
   "outputs": [
    {
     "name": "stdout",
     "output_type": "stream",
     "text": [
      "DataPath: /Users/zhangxun/Dropbox/Research/Decision_Driven_Regularization/Data_JOC_R1_Submit/Shortest_Path_Final/Model_MisSPO_Data_Generation/3by3_grid/data_size=100_deg=0.4_e=0.5_p=5_num_test=1000_x_dist=uniform_e_dist=normal/\n",
      "DDR: iter= 20 ,mu= 0.75 ,lamb= 0.8 ,cost_DDR_Ante = 10.061393294410914\n",
      "DDR: iter= 40 ,mu= 0.75 ,lamb= 0.8 ,cost_DDR_Ante = 9.914878086948772\n",
      "DDR: iter= 60 ,mu= 0.75 ,lamb= 0.8 ,cost_DDR_Ante = 10.023159923819945\n",
      "DDR: iter= 80 ,mu= 0.75 ,lamb= 0.8 ,cost_DDR_Ante = 10.070910947980352\n",
      "DataPath: /Users/zhangxun/Dropbox/Research/Decision_Driven_Regularization/Data_JOC_R1_Submit/Shortest_Path_Final/Model_MisSPO_Data_Generation/3by3_grid/data_size=100_deg=0.6_e=0.5_p=5_num_test=1000_x_dist=uniform_e_dist=normal/\n",
      "DDR: iter= 20 ,mu= 0.75 ,lamb= 0.8 ,cost_DDR_Ante = 11.454695539690645\n",
      "DDR: iter= 40 ,mu= 0.75 ,lamb= 0.8 ,cost_DDR_Ante = 11.168802150412775\n",
      "DDR: iter= 60 ,mu= 0.75 ,lamb= 0.8 ,cost_DDR_Ante = 11.376943228628425\n",
      "DDR: iter= 80 ,mu= 0.75 ,lamb= 0.8 ,cost_DDR_Ante = 11.395793911601773\n",
      "DataPath: /Users/zhangxun/Dropbox/Research/Decision_Driven_Regularization/Data_JOC_R1_Submit/Shortest_Path_Final/Model_MisSPO_Data_Generation/3by3_grid/data_size=100_deg=0.8_e=0.5_p=5_num_test=1000_x_dist=uniform_e_dist=normal/\n",
      "DDR: iter= 20 ,mu= 0.75 ,lamb= 0.8 ,cost_DDR_Ante = 13.191886297421531\n",
      "DDR: iter= 40 ,mu= 0.75 ,lamb= 0.8 ,cost_DDR_Ante = 12.723760662761663\n",
      "DDR: iter= 60 ,mu= 0.75 ,lamb= 0.8 ,cost_DDR_Ante = 13.043962243812482\n",
      "DDR: iter= 80 ,mu= 0.75 ,lamb= 0.8 ,cost_DDR_Ante = 13.010505616755239\n",
      "DataPath: /Users/zhangxun/Dropbox/Research/Decision_Driven_Regularization/Data_JOC_R1_Submit/Shortest_Path_Final/Model_MisSPO_Data_Generation/3by3_grid/data_size=100_deg=1.0_e=0.5_p=5_num_test=1000_x_dist=uniform_e_dist=normal/\n",
      "DDR: iter= 20 ,mu= 0.75 ,lamb= 0.8 ,cost_DDR_Ante = 15.337811541026513\n",
      "DDR: iter= 40 ,mu= 0.75 ,lamb= 0.8 ,cost_DDR_Ante = 14.654655156382018\n",
      "DDR: iter= 60 ,mu= 0.75 ,lamb= 0.8 ,cost_DDR_Ante = 15.120450780187118\n",
      "DDR: iter= 80 ,mu= 0.75 ,lamb= 0.8 ,cost_DDR_Ante = 15.038106628998422\n",
      "DataPath: /Users/zhangxun/Dropbox/Research/Decision_Driven_Regularization/Data_JOC_R1_Submit/Shortest_Path_Final/Model_MisSPO_Data_Generation/3by3_grid/data_size=100_deg=1.2_e=0.5_p=5_num_test=1000_x_dist=uniform_e_dist=normal/\n",
      "DDR: iter= 20 ,mu= 0.75 ,lamb= 0.8 ,cost_DDR_Ante = 18.043064419168957\n",
      "DDR: iter= 40 ,mu= 0.75 ,lamb= 0.8 ,cost_DDR_Ante = 17.054382433015824\n",
      "DDR: iter= 60 ,mu= 0.75 ,lamb= 0.8 ,cost_DDR_Ante = 17.695822623906665\n",
      "DDR: iter= 80 ,mu= 0.75 ,lamb= 0.8 ,cost_DDR_Ante = 17.568980554492402\n",
      "DataPath: /Users/zhangxun/Dropbox/Research/Decision_Driven_Regularization/Data_JOC_R1_Submit/Shortest_Path_Final/Model_MisSPO_Data_Generation/3by3_grid/data_size=100_deg=1.4_e=0.5_p=5_num_test=1000_x_dist=uniform_e_dist=normal/\n",
      "DDR: iter= 20 ,mu= 0.75 ,lamb= 0.8 ,cost_DDR_Ante = 21.430718847369672\n",
      "DDR: iter= 40 ,mu= 0.75 ,lamb= 0.8 ,cost_DDR_Ante = 20.017744223989215\n",
      "DDR: iter= 60 ,mu= 0.75 ,lamb= 0.8 ,cost_DDR_Ante = 20.919253650629066\n",
      "DDR: iter= 80 ,mu= 0.75 ,lamb= 0.8 ,cost_DDR_Ante = 20.72867074166387\n",
      "DataPath: /Users/zhangxun/Dropbox/Research/Decision_Driven_Regularization/Data_JOC_R1_Submit/Shortest_Path_Final/Model_MisSPO_Data_Generation/3by3_grid/data_size=100_deg=1.6_e=0.5_p=5_num_test=1000_x_dist=uniform_e_dist=normal/\n",
      "DDR: iter= 20 ,mu= 0.75 ,lamb= 0.8 ,cost_DDR_Ante = 25.708944027365185\n",
      "DDR: iter= 40 ,mu= 0.75 ,lamb= 0.8 ,cost_DDR_Ante = 23.69692548816881\n",
      "DDR: iter= 60 ,mu= 0.75 ,lamb= 0.8 ,cost_DDR_Ante = 24.954628841715444\n",
      "DDR: iter= 80 ,mu= 0.75 ,lamb= 0.8 ,cost_DDR_Ante = 24.696145080540706\n",
      "DataPath: /Users/zhangxun/Dropbox/Research/Decision_Driven_Regularization/Data_JOC_R1_Submit/Shortest_Path_Final/Model_MisSPO_Data_Generation/3by3_grid/data_size=100_deg=2.0_e=0.5_p=5_num_test=1000_x_dist=uniform_e_dist=normal/\n",
      "DDR: iter= 20 ,mu= 0.75 ,lamb= 0.8 ,cost_DDR_Ante = 37.93560954456419\n",
      "DDR: iter= 40 ,mu= 0.75 ,lamb= 0.8 ,cost_DDR_Ante = 34.01841821861105\n",
      "DDR: iter= 60 ,mu= 0.75 ,lamb= 0.8 ,cost_DDR_Ante = 36.33501257139082\n",
      "DDR: iter= 80 ,mu= 0.75 ,lamb= 0.8 ,cost_DDR_Ante = 35.905529509913315\n",
      "DataPath: /Users/zhangxun/Dropbox/Research/Decision_Driven_Regularization/Data_JOC_R1_Submit/Shortest_Path_Final/Model_MisSPO_Data_Generation/3by3_grid/data_size=100_deg=3.0_e=0.5_p=5_num_test=1000_x_dist=uniform_e_dist=normal/\n",
      "DDR: iter= 20 ,mu= 0.75 ,lamb= 0.8 ,cost_DDR_Ante = 112.28826061446553\n",
      "DDR: iter= 40 ,mu= 0.75 ,lamb= 0.8 ,cost_DDR_Ante = 93.44721915899764\n",
      "DDR: iter= 60 ,mu= 0.75 ,lamb= 0.8 ,cost_DDR_Ante = 103.17041454195537\n",
      "DDR: iter= 80 ,mu= 0.75 ,lamb= 0.8 ,cost_DDR_Ante = 102.52858290730164\n",
      "DataPath: /Users/zhangxun/Dropbox/Research/Decision_Driven_Regularization/Data_JOC_R1_Submit/Shortest_Path_Final/Model_MisSPO_Data_Generation/3by3_grid/data_size=100_deg=4.0_e=0.5_p=5_num_test=1000_x_dist=uniform_e_dist=normal/\n",
      "DDR: iter= 20 ,mu= 0.75 ,lamb= 0.8 ,cost_DDR_Ante = 368.46066403678805\n",
      "DDR: iter= 40 ,mu= 0.75 ,lamb= 0.8 ,cost_DDR_Ante = 283.23572451895745\n",
      "DDR: iter= 60 ,mu= 0.75 ,lamb= 0.8 ,cost_DDR_Ante = 321.6244021566878\n",
      "DDR: iter= 80 ,mu= 0.75 ,lamb= 0.8 ,cost_DDR_Ante = 325.8818676780609\n",
      "DataPath: /Users/zhangxun/Dropbox/Research/Decision_Driven_Regularization/Data_JOC_R1_Submit/Shortest_Path_Final/Model_MisSPO_Data_Generation/3by3_grid/data_size=100_deg=8.0_e=0.5_p=5_num_test=1000_x_dist=uniform_e_dist=normal/\n",
      "DDR: iter= 20 ,mu= 0.75 ,lamb= 0.8 ,cost_DDR_Ante = 70834.71102342349\n",
      "DDR: iter= 40 ,mu= 0.75 ,lamb= 0.8 ,cost_DDR_Ante = 39376.94726143448\n",
      "DDR: iter= 60 ,mu= 0.75 ,lamb= 0.8 ,cost_DDR_Ante = 49461.861884494094\n",
      "DDR: iter= 80 ,mu= 0.75 ,lamb= 0.8 ,cost_DDR_Ante = 59908.652317682965\n"
     ]
    }
   ],
   "source": [
    "for deg in deg_all:\n",
    "    mis = deg # model misspecification\n",
    "    DataPath = DataPath_Parent + f\"data_size={num_train}_deg={deg}_e={e}_p={p}_num_test={num_test}\"+\"_x_dist=\"+x_dist+\"_e_dist=\"+e_dist+\"/\"\n",
    "    print(\"DataPath:\", DataPath)\n",
    "    if os.path.exists(DataPath+\"cost_DDR_Ante_all.pkl\"):\n",
    "        print(\"Results already exist\")\n",
    "    else:\n",
    "        ILA.Run_DDR(DataPath,mu_all,lamb_all,arcs, grid,mis,bump,iteration_all,num_feat,data_generation_process)"
   ]
  },
  {
   "cell_type": "markdown",
   "id": "e608d51b",
   "metadata": {},
   "source": [
    "### Run SPO+"
   ]
  },
  {
   "cell_type": "code",
   "execution_count": 11,
   "id": "14ecc51e",
   "metadata": {},
   "outputs": [
    {
     "name": "stdout",
     "output_type": "stream",
     "text": [
      "DataPath: /Users/zhangxun/Dropbox/Research/Decision_Driven_Regularization/Data_JOC_R1_Submit/Shortest_Path_Final/Model_MisSPO_Data_Generation/3by3_grid/data_size=100_deg=0.4_e=0.5_p=5_num_test=1000_x_dist=uniform_e_dist=normal/\n",
      "['spo+'] : iter= 20 ,cost_EPO_Ante= 10.222777849653314\n",
      "['spo+'] : iter= 40 ,cost_EPO_Ante= 10.11751602978794\n",
      "['spo+'] : iter= 60 ,cost_EPO_Ante= 10.123548079667243\n",
      "['spo+'] : iter= 80 ,cost_EPO_Ante= 10.078496234374876\n",
      "DataPath: /Users/zhangxun/Dropbox/Research/Decision_Driven_Regularization/Data_JOC_R1_Submit/Shortest_Path_Final/Model_MisSPO_Data_Generation/3by3_grid/data_size=100_deg=0.6_e=0.5_p=5_num_test=1000_x_dist=uniform_e_dist=normal/\n",
      "['spo+'] : iter= 20 ,cost_EPO_Ante= 11.662703356672207\n",
      "['spo+'] : iter= 40 ,cost_EPO_Ante= 11.403667902161196\n",
      "['spo+'] : iter= 60 ,cost_EPO_Ante= 11.608047328811303\n",
      "['spo+'] : iter= 80 ,cost_EPO_Ante= 11.616450931967405\n",
      "DataPath: /Users/zhangxun/Dropbox/Research/Decision_Driven_Regularization/Data_JOC_R1_Submit/Shortest_Path_Final/Model_MisSPO_Data_Generation/3by3_grid/data_size=100_deg=0.8_e=0.5_p=5_num_test=1000_x_dist=uniform_e_dist=normal/\n",
      "['spo+'] : iter= 20 ,cost_EPO_Ante= 13.617463232247635\n",
      "['spo+'] : iter= 40 ,cost_EPO_Ante= 13.626923340890254\n",
      "['spo+'] : iter= 60 ,cost_EPO_Ante= 13.377497223826461\n",
      "['spo+'] : iter= 80 ,cost_EPO_Ante= 13.345421135953137\n",
      "DataPath: /Users/zhangxun/Dropbox/Research/Decision_Driven_Regularization/Data_JOC_R1_Submit/Shortest_Path_Final/Model_MisSPO_Data_Generation/3by3_grid/data_size=100_deg=1.0_e=0.5_p=5_num_test=1000_x_dist=uniform_e_dist=normal/\n",
      "['spo+'] : iter= 20 ,cost_EPO_Ante= 15.815072335388718\n",
      "['spo+'] : iter= 40 ,cost_EPO_Ante= 16.292689183455735\n",
      "['spo+'] : iter= 60 ,cost_EPO_Ante= 15.959505951348575\n",
      "['spo+'] : iter= 80 ,cost_EPO_Ante= 16.200318094315403\n",
      "DataPath: /Users/zhangxun/Dropbox/Research/Decision_Driven_Regularization/Data_JOC_R1_Submit/Shortest_Path_Final/Model_MisSPO_Data_Generation/3by3_grid/data_size=100_deg=1.2_e=0.5_p=5_num_test=1000_x_dist=uniform_e_dist=normal/\n",
      "['spo+'] : iter= 20 ,cost_EPO_Ante= 19.196246364001563\n",
      "['spo+'] : iter= 40 ,cost_EPO_Ante= 19.00851642237643\n",
      "['spo+'] : iter= 60 ,cost_EPO_Ante= 18.99849391531638\n",
      "['spo+'] : iter= 80 ,cost_EPO_Ante= 19.400896665213388\n",
      "DataPath: /Users/zhangxun/Dropbox/Research/Decision_Driven_Regularization/Data_JOC_R1_Submit/Shortest_Path_Final/Model_MisSPO_Data_Generation/3by3_grid/data_size=100_deg=1.4_e=0.5_p=5_num_test=1000_x_dist=uniform_e_dist=normal/\n",
      "['spo+'] : iter= 20 ,cost_EPO_Ante= 22.233536110472475\n",
      "['spo+'] : iter= 40 ,cost_EPO_Ante= 22.452767668091802\n",
      "['spo+'] : iter= 60 ,cost_EPO_Ante= 21.919854129104504\n",
      "['spo+'] : iter= 80 ,cost_EPO_Ante= 23.40144822928915\n",
      "DataPath: /Users/zhangxun/Dropbox/Research/Decision_Driven_Regularization/Data_JOC_R1_Submit/Shortest_Path_Final/Model_MisSPO_Data_Generation/3by3_grid/data_size=100_deg=1.6_e=0.5_p=5_num_test=1000_x_dist=uniform_e_dist=normal/\n",
      "['spo+'] : iter= 20 ,cost_EPO_Ante= 27.398636744332478\n",
      "['spo+'] : iter= 40 ,cost_EPO_Ante= 27.175972891191773\n",
      "['spo+'] : iter= 60 ,cost_EPO_Ante= 28.54699983352829\n",
      "['spo+'] : iter= 80 ,cost_EPO_Ante= 26.78228274726886\n",
      "DataPath: /Users/zhangxun/Dropbox/Research/Decision_Driven_Regularization/Data_JOC_R1_Submit/Shortest_Path_Final/Model_MisSPO_Data_Generation/3by3_grid/data_size=100_deg=2.0_e=0.5_p=5_num_test=1000_x_dist=uniform_e_dist=normal/\n",
      "['spo+'] : iter= 20 ,cost_EPO_Ante= 42.80161309288896\n",
      "['spo+'] : iter= 40 ,cost_EPO_Ante= 37.29345403518267\n",
      "['spo+'] : iter= 60 ,cost_EPO_Ante= 43.11823156472141\n",
      "['spo+'] : iter= 80 ,cost_EPO_Ante= 41.602533309911536\n",
      "DataPath: /Users/zhangxun/Dropbox/Research/Decision_Driven_Regularization/Data_JOC_R1_Submit/Shortest_Path_Final/Model_MisSPO_Data_Generation/3by3_grid/data_size=100_deg=3.0_e=0.5_p=5_num_test=1000_x_dist=uniform_e_dist=normal/\n",
      "['spo+'] : iter= 20 ,cost_EPO_Ante= 138.45488084720466\n",
      "['spo+'] : iter= 40 ,cost_EPO_Ante= 121.3981337746431\n",
      "['spo+'] : iter= 60 ,cost_EPO_Ante= 132.64642572513904\n",
      "['spo+'] : iter= 80 ,cost_EPO_Ante= 127.03281547072925\n",
      "DataPath: /Users/zhangxun/Dropbox/Research/Decision_Driven_Regularization/Data_JOC_R1_Submit/Shortest_Path_Final/Model_MisSPO_Data_Generation/3by3_grid/data_size=100_deg=4.0_e=0.5_p=5_num_test=1000_x_dist=uniform_e_dist=normal/\n",
      "['spo+'] : iter= 20 ,cost_EPO_Ante= 496.3928208668216\n",
      "['spo+'] : iter= 40 ,cost_EPO_Ante= 364.2446986215806\n",
      "['spo+'] : iter= 60 ,cost_EPO_Ante= 372.31131977307496\n",
      "['spo+'] : iter= 80 ,cost_EPO_Ante= 398.306829352379\n",
      "DataPath: /Users/zhangxun/Dropbox/Research/Decision_Driven_Regularization/Data_JOC_R1_Submit/Shortest_Path_Final/Model_MisSPO_Data_Generation/3by3_grid/data_size=100_deg=8.0_e=0.5_p=5_num_test=1000_x_dist=uniform_e_dist=normal/\n",
      "['spo+'] : iter= 20 ,cost_EPO_Ante= 108326.9418824405\n",
      "['spo+'] : iter= 40 ,cost_EPO_Ante= 82801.20430551055\n",
      "['spo+'] : iter= 60 ,cost_EPO_Ante= 69125.13108024414\n",
      "['spo+'] : iter= 80 ,cost_EPO_Ante= 95739.22710931966\n"
     ]
    }
   ],
   "source": [
    "method_names = [\"spo+\"]\n",
    "for deg in deg_all:\n",
    "    mis = deg # model misspecification\n",
    "    DataPath = DataPath_Parent + f\"data_size={num_train}_deg={deg}_e={e}_p={p}_num_test={num_test}\"+\"_x_dist=\"+x_dist+\"_e_dist=\"+e_dist+\"/\"\n",
    "    print(\"DataPath:\", DataPath)\n",
    "    if os.path.exists(DataPath+\"cost_spo+_Ante_all.pkl\"):\n",
    "        print(\"Results already exist\")\n",
    "    else:\n",
    "        ILA.run_EPO_approaches(DataPath,method_names,arcs, grid,mis,bump,iteration_all,num_feat,data_generation_process)"
   ]
  },
  {
   "cell_type": "markdown",
   "id": "62a219a9",
   "metadata": {},
   "source": [
    "### Run PG"
   ]
  },
  {
   "cell_type": "code",
   "execution_count": 12,
   "id": "0ccd07a2",
   "metadata": {},
   "outputs": [
    {
     "name": "stdout",
     "output_type": "stream",
     "text": [
      "DataPath: /Users/zhangxun/Dropbox/Research/Decision_Driven_Regularization/Data_JOC_R1_Submit/Shortest_Path_Final/Model_MisSPO_Data_Generation/3by3_grid/data_size=100_deg=0.4_e=0.5_p=5_num_test=1000_x_dist=uniform_e_dist=normal/\n",
      "['pg'] : iter= 20 ,cost_EPO_Ante= 10.085211239992498\n",
      "['pg'] : iter= 40 ,cost_EPO_Ante= 10.148223113507395\n",
      "['pg'] : iter= 60 ,cost_EPO_Ante= 10.116905157228041\n",
      "['pg'] : iter= 80 ,cost_EPO_Ante= 10.171941252320961\n",
      "DataPath: /Users/zhangxun/Dropbox/Research/Decision_Driven_Regularization/Data_JOC_R1_Submit/Shortest_Path_Final/Model_MisSPO_Data_Generation/3by3_grid/data_size=100_deg=0.6_e=0.5_p=5_num_test=1000_x_dist=uniform_e_dist=normal/\n",
      "['pg'] : iter= 20 ,cost_EPO_Ante= 11.835677237272318\n",
      "['pg'] : iter= 40 ,cost_EPO_Ante= 11.660871011105442\n",
      "['pg'] : iter= 60 ,cost_EPO_Ante= 11.590715666281325\n",
      "['pg'] : iter= 80 ,cost_EPO_Ante= 11.748696881484756\n",
      "DataPath: /Users/zhangxun/Dropbox/Research/Decision_Driven_Regularization/Data_JOC_R1_Submit/Shortest_Path_Final/Model_MisSPO_Data_Generation/3by3_grid/data_size=100_deg=0.8_e=0.5_p=5_num_test=1000_x_dist=uniform_e_dist=normal/\n",
      "['pg'] : iter= 20 ,cost_EPO_Ante= 13.486207306001257\n",
      "['pg'] : iter= 40 ,cost_EPO_Ante= 13.346848795584224\n",
      "['pg'] : iter= 60 ,cost_EPO_Ante= 13.49432457662087\n",
      "['pg'] : iter= 80 ,cost_EPO_Ante= 13.612440596542193\n",
      "DataPath: /Users/zhangxun/Dropbox/Research/Decision_Driven_Regularization/Data_JOC_R1_Submit/Shortest_Path_Final/Model_MisSPO_Data_Generation/3by3_grid/data_size=100_deg=1.0_e=0.5_p=5_num_test=1000_x_dist=uniform_e_dist=normal/\n",
      "['pg'] : iter= 20 ,cost_EPO_Ante= 16.066977599267084\n",
      "['pg'] : iter= 40 ,cost_EPO_Ante= 16.286012025846187\n",
      "['pg'] : iter= 60 ,cost_EPO_Ante= 16.406321496642313\n",
      "['pg'] : iter= 80 ,cost_EPO_Ante= 16.219341192907866\n",
      "DataPath: /Users/zhangxun/Dropbox/Research/Decision_Driven_Regularization/Data_JOC_R1_Submit/Shortest_Path_Final/Model_MisSPO_Data_Generation/3by3_grid/data_size=100_deg=1.2_e=0.5_p=5_num_test=1000_x_dist=uniform_e_dist=normal/\n",
      "['pg'] : iter= 20 ,cost_EPO_Ante= 19.096355398580965\n",
      "['pg'] : iter= 40 ,cost_EPO_Ante= 18.823022714211717\n",
      "['pg'] : iter= 60 ,cost_EPO_Ante= 18.88246889100095\n",
      "['pg'] : iter= 80 ,cost_EPO_Ante= 18.786060162565263\n",
      "DataPath: /Users/zhangxun/Dropbox/Research/Decision_Driven_Regularization/Data_JOC_R1_Submit/Shortest_Path_Final/Model_MisSPO_Data_Generation/3by3_grid/data_size=100_deg=1.4_e=0.5_p=5_num_test=1000_x_dist=uniform_e_dist=normal/\n",
      "['pg'] : iter= 20 ,cost_EPO_Ante= 23.266110901452617\n",
      "['pg'] : iter= 40 ,cost_EPO_Ante= 22.412447541614725\n",
      "['pg'] : iter= 60 ,cost_EPO_Ante= 21.571932218558562\n",
      "['pg'] : iter= 80 ,cost_EPO_Ante= 22.862080239452144\n",
      "DataPath: /Users/zhangxun/Dropbox/Research/Decision_Driven_Regularization/Data_JOC_R1_Submit/Shortest_Path_Final/Model_MisSPO_Data_Generation/3by3_grid/data_size=100_deg=1.6_e=0.5_p=5_num_test=1000_x_dist=uniform_e_dist=normal/\n",
      "['pg'] : iter= 20 ,cost_EPO_Ante= 28.71840858364485\n",
      "['pg'] : iter= 40 ,cost_EPO_Ante= 27.007879542589993\n",
      "['pg'] : iter= 60 ,cost_EPO_Ante= 27.57898437583897\n",
      "['pg'] : iter= 80 ,cost_EPO_Ante= 29.757628090501772\n",
      "DataPath: /Users/zhangxun/Dropbox/Research/Decision_Driven_Regularization/Data_JOC_R1_Submit/Shortest_Path_Final/Model_MisSPO_Data_Generation/3by3_grid/data_size=100_deg=2.0_e=0.5_p=5_num_test=1000_x_dist=uniform_e_dist=normal/\n",
      "['pg'] : iter= 20 ,cost_EPO_Ante= 42.17527159237346\n",
      "['pg'] : iter= 40 ,cost_EPO_Ante= 43.92529257651183\n",
      "['pg'] : iter= 60 ,cost_EPO_Ante= 41.563608547011505\n",
      "['pg'] : iter= 80 ,cost_EPO_Ante= 45.74166804000937\n",
      "DataPath: /Users/zhangxun/Dropbox/Research/Decision_Driven_Regularization/Data_JOC_R1_Submit/Shortest_Path_Final/Model_MisSPO_Data_Generation/3by3_grid/data_size=100_deg=3.0_e=0.5_p=5_num_test=1000_x_dist=uniform_e_dist=normal/\n",
      "['pg'] : iter= 20 ,cost_EPO_Ante= 128.59847777074685\n",
      "['pg'] : iter= 40 ,cost_EPO_Ante= 128.11199780078434\n",
      "['pg'] : iter= 60 ,cost_EPO_Ante= 131.54281881120258\n",
      "['pg'] : iter= 80 ,cost_EPO_Ante= 133.05705269053735\n",
      "DataPath: /Users/zhangxun/Dropbox/Research/Decision_Driven_Regularization/Data_JOC_R1_Submit/Shortest_Path_Final/Model_MisSPO_Data_Generation/3by3_grid/data_size=100_deg=4.0_e=0.5_p=5_num_test=1000_x_dist=uniform_e_dist=normal/\n",
      "['pg'] : iter= 20 ,cost_EPO_Ante= 467.0971270085032\n",
      "['pg'] : iter= 40 ,cost_EPO_Ante= 420.5367863627683\n",
      "['pg'] : iter= 60 ,cost_EPO_Ante= 452.9866013564889\n",
      "['pg'] : iter= 80 ,cost_EPO_Ante= 450.3920385548432\n",
      "DataPath: /Users/zhangxun/Dropbox/Research/Decision_Driven_Regularization/Data_JOC_R1_Submit/Shortest_Path_Final/Model_MisSPO_Data_Generation/3by3_grid/data_size=100_deg=8.0_e=0.5_p=5_num_test=1000_x_dist=uniform_e_dist=normal/\n",
      "['pg'] : iter= 20 ,cost_EPO_Ante= 134565.56103260763\n",
      "['pg'] : iter= 40 ,cost_EPO_Ante= 89572.07018532735\n",
      "['pg'] : iter= 60 ,cost_EPO_Ante= 88074.78415947554\n",
      "['pg'] : iter= 80 ,cost_EPO_Ante= 130484.0438549712\n"
     ]
    }
   ],
   "source": [
    "method_names = [\"pg\"]\n",
    "for deg in deg_all:\n",
    "    mis = deg # model misspecification\n",
    "    DataPath = DataPath_Parent + f\"data_size={num_train}_deg={deg}_e={e}_p={p}_num_test={num_test}\"+\"_x_dist=\"+x_dist+\"_e_dist=\"+e_dist+\"/\"\n",
    "    print(\"DataPath:\", DataPath)\n",
    "    if os.path.exists(DataPath+\"cost_pg_Ante_all.pkl\"):\n",
    "        print(\"Results already exist\")\n",
    "    else:\n",
    "        ILA.run_EPO_approaches(DataPath,method_names,arcs, grid,mis,bump,iteration_all,num_feat,data_generation_process)"
   ]
  },
  {
   "cell_type": "markdown",
   "id": "8bbcbdbc",
   "metadata": {},
   "source": [
    "### Run LTR"
   ]
  },
  {
   "cell_type": "code",
   "execution_count": 13,
   "id": "b9841ccb",
   "metadata": {},
   "outputs": [
    {
     "name": "stdout",
     "output_type": "stream",
     "text": [
      "DataPath: /Users/zhangxun/Dropbox/Research/Decision_Driven_Regularization/Data_JOC_R1_Submit/Shortest_Path_Final/Model_MisSPO_Data_Generation/3by3_grid/data_size=100_deg=0.4_e=0.5_p=5_num_test=1000_x_dist=uniform_e_dist=normal/\n",
      "['ltr'] : iter= 20 ,cost_EPO_Ante= 10.165668588693931\n",
      "['ltr'] : iter= 40 ,cost_EPO_Ante= 10.214128473488142\n",
      "['ltr'] : iter= 60 ,cost_EPO_Ante= 10.110339674312087\n",
      "['ltr'] : iter= 80 ,cost_EPO_Ante= 10.145245810462646\n",
      "DataPath: /Users/zhangxun/Dropbox/Research/Decision_Driven_Regularization/Data_JOC_R1_Submit/Shortest_Path_Final/Model_MisSPO_Data_Generation/3by3_grid/data_size=100_deg=0.6_e=0.5_p=5_num_test=1000_x_dist=uniform_e_dist=normal/\n",
      "['ltr'] : iter= 20 ,cost_EPO_Ante= 11.77244816396002\n",
      "['ltr'] : iter= 40 ,cost_EPO_Ante= 11.6746980036143\n",
      "['ltr'] : iter= 60 ,cost_EPO_Ante= 11.548534492025738\n",
      "['ltr'] : iter= 80 ,cost_EPO_Ante= 11.703522003202586\n",
      "DataPath: /Users/zhangxun/Dropbox/Research/Decision_Driven_Regularization/Data_JOC_R1_Submit/Shortest_Path_Final/Model_MisSPO_Data_Generation/3by3_grid/data_size=100_deg=0.8_e=0.5_p=5_num_test=1000_x_dist=uniform_e_dist=normal/\n",
      "['ltr'] : iter= 20 ,cost_EPO_Ante= 13.711741571042582\n",
      "['ltr'] : iter= 40 ,cost_EPO_Ante= 13.338936228217245\n",
      "['ltr'] : iter= 60 ,cost_EPO_Ante= 13.417482579727883\n",
      "['ltr'] : iter= 80 ,cost_EPO_Ante= 13.582987958707678\n",
      "DataPath: /Users/zhangxun/Dropbox/Research/Decision_Driven_Regularization/Data_JOC_R1_Submit/Shortest_Path_Final/Model_MisSPO_Data_Generation/3by3_grid/data_size=100_deg=1.0_e=0.5_p=5_num_test=1000_x_dist=uniform_e_dist=normal/\n",
      "['ltr'] : iter= 20 ,cost_EPO_Ante= 16.319180273510828\n",
      "['ltr'] : iter= 40 ,cost_EPO_Ante= 15.911805332620467\n",
      "['ltr'] : iter= 60 ,cost_EPO_Ante= 15.753066535800498\n",
      "['ltr'] : iter= 80 ,cost_EPO_Ante= 15.794911805693319\n",
      "DataPath: /Users/zhangxun/Dropbox/Research/Decision_Driven_Regularization/Data_JOC_R1_Submit/Shortest_Path_Final/Model_MisSPO_Data_Generation/3by3_grid/data_size=100_deg=1.2_e=0.5_p=5_num_test=1000_x_dist=uniform_e_dist=normal/\n",
      "['ltr'] : iter= 20 ,cost_EPO_Ante= 19.286992796682362\n",
      "['ltr'] : iter= 40 ,cost_EPO_Ante= 18.608664518568144\n",
      "['ltr'] : iter= 60 ,cost_EPO_Ante= 18.567263519472572\n",
      "['ltr'] : iter= 80 ,cost_EPO_Ante= 19.28589039367168\n",
      "DataPath: /Users/zhangxun/Dropbox/Research/Decision_Driven_Regularization/Data_JOC_R1_Submit/Shortest_Path_Final/Model_MisSPO_Data_Generation/3by3_grid/data_size=100_deg=1.4_e=0.5_p=5_num_test=1000_x_dist=uniform_e_dist=normal/\n",
      "['ltr'] : iter= 20 ,cost_EPO_Ante= 23.261567568864383\n",
      "['ltr'] : iter= 40 ,cost_EPO_Ante= 24.031729971731068\n",
      "['ltr'] : iter= 60 ,cost_EPO_Ante= 22.614697188533636\n",
      "['ltr'] : iter= 80 ,cost_EPO_Ante= 23.484902095706342\n",
      "DataPath: /Users/zhangxun/Dropbox/Research/Decision_Driven_Regularization/Data_JOC_R1_Submit/Shortest_Path_Final/Model_MisSPO_Data_Generation/3by3_grid/data_size=100_deg=1.6_e=0.5_p=5_num_test=1000_x_dist=uniform_e_dist=normal/\n",
      "['ltr'] : iter= 20 ,cost_EPO_Ante= 27.759616220116722\n",
      "['ltr'] : iter= 40 ,cost_EPO_Ante= 29.187194874557616\n",
      "['ltr'] : iter= 60 ,cost_EPO_Ante= 27.73376256935085\n",
      "['ltr'] : iter= 80 ,cost_EPO_Ante= 27.646471772296923\n",
      "DataPath: /Users/zhangxun/Dropbox/Research/Decision_Driven_Regularization/Data_JOC_R1_Submit/Shortest_Path_Final/Model_MisSPO_Data_Generation/3by3_grid/data_size=100_deg=2.0_e=0.5_p=5_num_test=1000_x_dist=uniform_e_dist=normal/\n",
      "['ltr'] : iter= 20 ,cost_EPO_Ante= 42.86579204105989\n",
      "['ltr'] : iter= 40 ,cost_EPO_Ante= 39.21759431520424\n",
      "['ltr'] : iter= 60 ,cost_EPO_Ante= 42.17426802433947\n",
      "['ltr'] : iter= 80 ,cost_EPO_Ante= 43.14207313891353\n",
      "DataPath: /Users/zhangxun/Dropbox/Research/Decision_Driven_Regularization/Data_JOC_R1_Submit/Shortest_Path_Final/Model_MisSPO_Data_Generation/3by3_grid/data_size=100_deg=3.0_e=0.5_p=5_num_test=1000_x_dist=uniform_e_dist=normal/\n",
      "['ltr'] : iter= 20 ,cost_EPO_Ante= 126.05687915578976\n",
      "['ltr'] : iter= 40 ,cost_EPO_Ante= 131.30718816866084\n",
      "['ltr'] : iter= 60 ,cost_EPO_Ante= 136.95107639038525\n",
      "['ltr'] : iter= 80 ,cost_EPO_Ante= 134.56952237535302\n",
      "DataPath: /Users/zhangxun/Dropbox/Research/Decision_Driven_Regularization/Data_JOC_R1_Submit/Shortest_Path_Final/Model_MisSPO_Data_Generation/3by3_grid/data_size=100_deg=4.0_e=0.5_p=5_num_test=1000_x_dist=uniform_e_dist=normal/\n",
      "['ltr'] : iter= 20 ,cost_EPO_Ante= 436.22457422033847\n",
      "['ltr'] : iter= 40 ,cost_EPO_Ante= 462.88023770130866\n",
      "['ltr'] : iter= 60 ,cost_EPO_Ante= 441.29097765230495\n",
      "['ltr'] : iter= 80 ,cost_EPO_Ante= 472.05936715440885\n",
      "DataPath: /Users/zhangxun/Dropbox/Research/Decision_Driven_Regularization/Data_JOC_R1_Submit/Shortest_Path_Final/Model_MisSPO_Data_Generation/3by3_grid/data_size=100_deg=8.0_e=0.5_p=5_num_test=1000_x_dist=uniform_e_dist=normal/\n",
      "['ltr'] : iter= 20 ,cost_EPO_Ante= 108229.35745188463\n",
      "['ltr'] : iter= 40 ,cost_EPO_Ante= 77725.19599185161\n",
      "['ltr'] : iter= 60 ,cost_EPO_Ante= 71071.69839667199\n",
      "['ltr'] : iter= 80 ,cost_EPO_Ante= 118042.33815886857\n"
     ]
    }
   ],
   "source": [
    "method_names = [\"ltr\"]\n",
    "for deg in deg_all:\n",
    "    mis = deg # model misspecification\n",
    "    DataPath = DataPath_Parent + f\"data_size={num_train}_deg={deg}_e={e}_p={p}_num_test={num_test}\"+\"_x_dist=\"+x_dist+\"_e_dist=\"+e_dist+\"/\"\n",
    "    print(\"DataPath:\", DataPath)\n",
    "    if os.path.exists(DataPath+\"cost_ltr_Ante_all.pkl\"):\n",
    "        print(\"Results already exist\")\n",
    "    else:\n",
    "        ILA.run_EPO_approaches(DataPath,method_names,arcs, grid,mis,bump,iteration_all,num_feat,data_generation_process)"
   ]
  },
  {
   "cell_type": "markdown",
   "id": "2bd286d8",
   "metadata": {},
   "source": [
    "### Comparison"
   ]
  },
  {
   "cell_type": "code",
   "execution_count": 14,
   "id": "92549fa1",
   "metadata": {},
   "outputs": [],
   "source": [
    "def obtain_DDR_vs_benchmarks_h2h_regret(mu_all,lamb_all,deg_all,Result_dir,DataPath_Parent,num_train,e,p,num_test,x_dist,e_dist,benchmark):\n",
    "    regret_d_ante_Dict = {}; h2h_d_ante_Dict = {}\n",
    "    for mu in mu_all:\n",
    "        for lamb in lamb_all:\n",
    "            regret_d_ante = np.zeros(len(deg_all)); h2h_d_ante = np.zeros(len(deg_all))\n",
    "            _index = 0\n",
    "            for deg in deg_all:\n",
    "                mis = deg # model misspecification\n",
    "                DataPath = DataPath_Parent + f\"data_size={num_train}_deg={deg}_e={e}_p={p}_num_test={num_test}\"+\"_x_dist=\"+x_dist+\"_e_dist=\"+e_dist+\"/\"\n",
    "                print(\"DataPath:\", DataPath)\n",
    "                cost_Oracle_Ante_all,cost_OLS_Ante_all,cost_DDR_Ante_all = Data_LSM.load_cost_data(DataPath)\n",
    "                if benchmark == \"OLS\":\n",
    "                    h2h_d_ante[_index], regret_d_ante[_index] = h2h_regret_eva.calculate_h2h_regret(mu,lamb,iteration_all,0,0,0,cost_DDR_Ante_all,cost_OLS_Ante_all,cost_Oracle_Ante_all)\n",
    "                    regret_name = 'regret_DDR_vs_OLS_Mis.pkl'\n",
    "                    h2h_name = 'h2h_DDR_vs_OLS_Mis.pkl'\n",
    "\n",
    "                if benchmark == \"SPO+\":\n",
    "                    with open(DataPath+'cost_spo+_Ante_all.pkl', \"rb\") as tf:\n",
    "                        cost_SPO_Ante_all = pickle.load(tf)      \n",
    "                    h2h_d_ante[_index], regret_d_ante[_index] = h2h_regret_eva.calculate_h2h_regret(mu,lamb,iteration_all,0,0,0,cost_DDR_Ante_all,cost_SPO_Ante_all,cost_Oracle_Ante_all)\n",
    "                    regret_name = 'regret_DDR_vs_SPO_Mis.pkl'\n",
    "                    h2h_name = 'h2h_DDR_vs_SPO_Mis.pkl'\n",
    "                    \n",
    "                if benchmark == \"PG\":\n",
    "                    with open(DataPath+'cost_pg_Ante_all.pkl', \"rb\") as tf:\n",
    "                        cost_PG_Ante_all = pickle.load(tf)     \n",
    "                    h2h_d_ante[_index], regret_d_ante[_index] = h2h_regret_eva.calculate_h2h_regret(mu,lamb,iteration_all,0,0,0,cost_DDR_Ante_all,cost_PG_Ante_all,cost_Oracle_Ante_all)\n",
    "                    regret_name = 'regret_DDR_vs_PG_Mis.pkl'\n",
    "                    h2h_name = 'h2h_DDR_vs_PG_Mis.pkl'\n",
    "\n",
    "                if benchmark == \"LTR\":\n",
    "                    with open(DataPath+'cost_ltr_Ante_all.pkl', \"rb\") as tf:\n",
    "                        cost_LTR_Ante_all = pickle.load(tf)   \n",
    "                    h2h_d_ante[_index], regret_d_ante[_index] = h2h_regret_eva.calculate_h2h_regret(mu,lamb,iteration_all,0,0,0,cost_DDR_Ante_all,cost_LTR_Ante_all,cost_Oracle_Ante_all)\n",
    "                    regret_name = 'regret_DDR_vs_LTR_Mis.pkl'\n",
    "                    h2h_name = 'h2h_DDR_vs_LTR_Mis.pkl'\n",
    "\n",
    "                _index = _index + 1\n",
    "            regret_d_ante_Dict[mu,lamb] = regret_d_ante\n",
    "            h2h_d_ante_Dict[mu,lamb] = h2h_d_ante\n",
    "    with open(Result_dir+regret_name, \"wb\") as tf:\n",
    "        pickle.dump(regret_d_ante_Dict,tf)\n",
    "    with open(Result_dir+h2h_name, \"wb\") as tf:\n",
    "        pickle.dump(h2h_d_ante_Dict,tf)\n",
    "    return regret_d_ante_Dict,h2h_d_ante_Dict"
   ]
  },
  {
   "cell_type": "markdown",
   "id": "006e400a",
   "metadata": {},
   "source": [
    "##### DDR vs OLS"
   ]
  },
  {
   "cell_type": "code",
   "execution_count": 15,
   "id": "15316817",
   "metadata": {},
   "outputs": [
    {
     "name": "stdout",
     "output_type": "stream",
     "text": [
      "DataPath: /Users/zhangxun/Dropbox/Research/Decision_Driven_Regularization/Data_JOC_R1_Submit/Shortest_Path_Final/Model_MisSPO_Data_Generation/3by3_grid/data_size=100_deg=0.4_e=0.5_p=5_num_test=1000_x_dist=uniform_e_dist=normal/\n",
      "DataPath: /Users/zhangxun/Dropbox/Research/Decision_Driven_Regularization/Data_JOC_R1_Submit/Shortest_Path_Final/Model_MisSPO_Data_Generation/3by3_grid/data_size=100_deg=0.6_e=0.5_p=5_num_test=1000_x_dist=uniform_e_dist=normal/\n",
      "DataPath: /Users/zhangxun/Dropbox/Research/Decision_Driven_Regularization/Data_JOC_R1_Submit/Shortest_Path_Final/Model_MisSPO_Data_Generation/3by3_grid/data_size=100_deg=0.8_e=0.5_p=5_num_test=1000_x_dist=uniform_e_dist=normal/\n",
      "DataPath: /Users/zhangxun/Dropbox/Research/Decision_Driven_Regularization/Data_JOC_R1_Submit/Shortest_Path_Final/Model_MisSPO_Data_Generation/3by3_grid/data_size=100_deg=1.0_e=0.5_p=5_num_test=1000_x_dist=uniform_e_dist=normal/\n",
      "DataPath: /Users/zhangxun/Dropbox/Research/Decision_Driven_Regularization/Data_JOC_R1_Submit/Shortest_Path_Final/Model_MisSPO_Data_Generation/3by3_grid/data_size=100_deg=1.2_e=0.5_p=5_num_test=1000_x_dist=uniform_e_dist=normal/\n",
      "DataPath: /Users/zhangxun/Dropbox/Research/Decision_Driven_Regularization/Data_JOC_R1_Submit/Shortest_Path_Final/Model_MisSPO_Data_Generation/3by3_grid/data_size=100_deg=1.4_e=0.5_p=5_num_test=1000_x_dist=uniform_e_dist=normal/\n",
      "DataPath: /Users/zhangxun/Dropbox/Research/Decision_Driven_Regularization/Data_JOC_R1_Submit/Shortest_Path_Final/Model_MisSPO_Data_Generation/3by3_grid/data_size=100_deg=1.6_e=0.5_p=5_num_test=1000_x_dist=uniform_e_dist=normal/\n",
      "DataPath: /Users/zhangxun/Dropbox/Research/Decision_Driven_Regularization/Data_JOC_R1_Submit/Shortest_Path_Final/Model_MisSPO_Data_Generation/3by3_grid/data_size=100_deg=2.0_e=0.5_p=5_num_test=1000_x_dist=uniform_e_dist=normal/\n",
      "DataPath: /Users/zhangxun/Dropbox/Research/Decision_Driven_Regularization/Data_JOC_R1_Submit/Shortest_Path_Final/Model_MisSPO_Data_Generation/3by3_grid/data_size=100_deg=3.0_e=0.5_p=5_num_test=1000_x_dist=uniform_e_dist=normal/\n",
      "DataPath: /Users/zhangxun/Dropbox/Research/Decision_Driven_Regularization/Data_JOC_R1_Submit/Shortest_Path_Final/Model_MisSPO_Data_Generation/3by3_grid/data_size=100_deg=4.0_e=0.5_p=5_num_test=1000_x_dist=uniform_e_dist=normal/\n",
      "DataPath: /Users/zhangxun/Dropbox/Research/Decision_Driven_Regularization/Data_JOC_R1_Submit/Shortest_Path_Final/Model_MisSPO_Data_Generation/3by3_grid/data_size=100_deg=8.0_e=0.5_p=5_num_test=1000_x_dist=uniform_e_dist=normal/\n"
     ]
    }
   ],
   "source": [
    "regret_DDR_vs_OLS_Mis,h2h_DDR_vs_OLS_Mis = obtain_DDR_vs_benchmarks_h2h_regret(mu_all,lamb_all,deg_all,Result_dir,DataPath_Parent,num_train,e,p,num_test,x_dist,e_dist,\"OLS\")"
   ]
  },
  {
   "cell_type": "code",
   "execution_count": 16,
   "id": "67fe95e1",
   "metadata": {},
   "outputs": [
    {
     "data": {
      "image/png": "[encoded data removed]",
      "text/plain": [
       "<Figure size 500x500 with 1 Axes>"
      ]
     },
     "metadata": {},
     "output_type": "display_data"
    }
   ],
   "source": [
    "mu = 0.75\n",
    "lamb = 0.8\n",
    "h2h_fig = h2h_DDR_vs_OLS_Mis[mu,lamb]\n",
    "regret_fig = regret_DDR_vs_OLS_Mis[mu,lamb]\n",
    "\n",
    "ms = 6 # marker size\n",
    "fs = 12 # font size\n",
    "ls = 12 # label size\n",
    "import matplotlib.pyplot as plt\n",
    "fig, ax = plt.subplots(figsize=(5, 5))\n",
    "d_indices = [0, 1, 2, 4, 5, 6, 7, 8, 9]\n",
    "for i in d_indices:\n",
    "    ax.plot(h2h_fig[i], regret_fig[i], color='#003D7C', marker='o', markersize = ms,linestyle='None')\n",
    "ax.plot(h2h_fig[3], regret_fig[3],color='red', marker='o', markersize = ms,linestyle='None')\n",
    "ax.text(h2h_fig[3] + 0.02, regret_fig[3] - 0.01, 'Baseline', color='red',fontsize=fs)\n",
    "\n",
    "ax.text(h2h_fig[0] + 0.02, regret_fig[0] - 0.01, fr'$\\beta$={deg_all[0]}', color='#003D7C',fontsize=fs)\n",
    "ax.text(h2h_fig[1] + 0.02, regret_fig[1] - 0.01, fr'$\\beta$={deg_all[1]}', color='#003D7C',fontsize=fs)\n",
    "ax.text(h2h_fig[2] + 0.02, regret_fig[2] - 0.01, fr'$\\beta$={deg_all[2]}', color='#003D7C',fontsize=fs)\n",
    "ax.text(h2h_fig[4] + 0.02, regret_fig[4] - 0.02, fr'$\\beta$={deg_all[4]}', color='#003D7C',fontsize=fs)\n",
    "ax.text(h2h_fig[5] - 0.1, regret_fig[5] - 0.02, fr'$\\beta$={deg_all[5]}', color='#003D7C',fontsize=fs)\n",
    "ax.text(h2h_fig[6] - 0.06, regret_fig[6] - 0.04, fr'$\\beta$={deg_all[6]}', color='#003D7C',fontsize=fs)\n",
    "ax.text(h2h_fig[7] + 0.016, regret_fig[7] - 0.01, fr'$\\beta$={deg_all[7]}', color='#003D7C',fontsize=fs)\n",
    "ax.text(h2h_fig[8] + 0.02, regret_fig[8] - 0.01, fr'$\\beta$={deg_all[8]}', color='#003D7C',fontsize=fs)\n",
    "ax.text(h2h_fig[9] + 0.02, regret_fig[9] - 0.01, fr'$\\beta$={deg_all[9]}', color='#003D7C',fontsize=fs)\n",
    "\n",
    "# ax.set_title(r'Effect of model misspecification: $\\beta$')\n",
    "ax.set_xlabel('Head-to-head')\n",
    "ax.set_ylabel('Regret reduction')\n",
    "# ax.grid(True)\n",
    "\n",
    "ax.axvline(0.5, linestyle='dashed', alpha=0.8, color='k')\n",
    "ax.axhline(0.0, linestyle='dashed', alpha=0.8, color='k')\n",
    "ax.set_xlim(0.4, 1.05)\n",
    "ax.set_ylim(-0.1, 0.7)\n",
    "ax.label_outer()\n",
    "\n",
    "# plt.tight_layout()\n",
    "fig.savefig(Result_dir + f'DDR_vs_OLS_Mis_ante_mu={mu}_lamb={lamb}.pdf', format='pdf', bbox_inches=\"tight\")\n",
    "plt.show()\n"
   ]
  },
  {
   "cell_type": "markdown",
   "id": "64612156",
   "metadata": {},
   "source": [
    "##### DDR vs SPO+"
   ]
  },
  {
   "cell_type": "code",
   "execution_count": 17,
   "id": "288531fa",
   "metadata": {},
   "outputs": [
    {
     "name": "stdout",
     "output_type": "stream",
     "text": [
      "DataPath: /Users/zhangxun/Dropbox/Research/Decision_Driven_Regularization/Data_JOC_R1_Submit/Shortest_Path_Final/Model_MisSPO_Data_Generation/3by3_grid/data_size=100_deg=0.4_e=0.5_p=5_num_test=1000_x_dist=uniform_e_dist=normal/\n",
      "DataPath: /Users/zhangxun/Dropbox/Research/Decision_Driven_Regularization/Data_JOC_R1_Submit/Shortest_Path_Final/Model_MisSPO_Data_Generation/3by3_grid/data_size=100_deg=0.6_e=0.5_p=5_num_test=1000_x_dist=uniform_e_dist=normal/\n",
      "DataPath: /Users/zhangxun/Dropbox/Research/Decision_Driven_Regularization/Data_JOC_R1_Submit/Shortest_Path_Final/Model_MisSPO_Data_Generation/3by3_grid/data_size=100_deg=0.8_e=0.5_p=5_num_test=1000_x_dist=uniform_e_dist=normal/\n",
      "DataPath: /Users/zhangxun/Dropbox/Research/Decision_Driven_Regularization/Data_JOC_R1_Submit/Shortest_Path_Final/Model_MisSPO_Data_Generation/3by3_grid/data_size=100_deg=1.0_e=0.5_p=5_num_test=1000_x_dist=uniform_e_dist=normal/\n",
      "DataPath: /Users/zhangxun/Dropbox/Research/Decision_Driven_Regularization/Data_JOC_R1_Submit/Shortest_Path_Final/Model_MisSPO_Data_Generation/3by3_grid/data_size=100_deg=1.2_e=0.5_p=5_num_test=1000_x_dist=uniform_e_dist=normal/\n",
      "DataPath: /Users/zhangxun/Dropbox/Research/Decision_Driven_Regularization/Data_JOC_R1_Submit/Shortest_Path_Final/Model_MisSPO_Data_Generation/3by3_grid/data_size=100_deg=1.4_e=0.5_p=5_num_test=1000_x_dist=uniform_e_dist=normal/\n",
      "DataPath: /Users/zhangxun/Dropbox/Research/Decision_Driven_Regularization/Data_JOC_R1_Submit/Shortest_Path_Final/Model_MisSPO_Data_Generation/3by3_grid/data_size=100_deg=1.6_e=0.5_p=5_num_test=1000_x_dist=uniform_e_dist=normal/\n",
      "DataPath: /Users/zhangxun/Dropbox/Research/Decision_Driven_Regularization/Data_JOC_R1_Submit/Shortest_Path_Final/Model_MisSPO_Data_Generation/3by3_grid/data_size=100_deg=2.0_e=0.5_p=5_num_test=1000_x_dist=uniform_e_dist=normal/\n",
      "DataPath: /Users/zhangxun/Dropbox/Research/Decision_Driven_Regularization/Data_JOC_R1_Submit/Shortest_Path_Final/Model_MisSPO_Data_Generation/3by3_grid/data_size=100_deg=3.0_e=0.5_p=5_num_test=1000_x_dist=uniform_e_dist=normal/\n",
      "DataPath: /Users/zhangxun/Dropbox/Research/Decision_Driven_Regularization/Data_JOC_R1_Submit/Shortest_Path_Final/Model_MisSPO_Data_Generation/3by3_grid/data_size=100_deg=4.0_e=0.5_p=5_num_test=1000_x_dist=uniform_e_dist=normal/\n",
      "DataPath: /Users/zhangxun/Dropbox/Research/Decision_Driven_Regularization/Data_JOC_R1_Submit/Shortest_Path_Final/Model_MisSPO_Data_Generation/3by3_grid/data_size=100_deg=8.0_e=0.5_p=5_num_test=1000_x_dist=uniform_e_dist=normal/\n"
     ]
    }
   ],
   "source": [
    "regret_DDR_vs_SPO_Mis,h2h_DDR_vs_SPO_Mis = obtain_DDR_vs_benchmarks_h2h_regret(mu_all,lamb_all,deg_all,Result_dir,DataPath_Parent,num_train,e,p,num_test,x_dist,e_dist,\"SPO+\")"
   ]
  },
  {
   "cell_type": "code",
   "execution_count": 18,
   "id": "48c21d3b",
   "metadata": {},
   "outputs": [
    {
     "data": {
      "image/png": "[encoded data removed]",
      "text/plain": [
       "<Figure size 500x500 with 1 Axes>"
      ]
     },
     "metadata": {},
     "output_type": "display_data"
    }
   ],
   "source": [
    "mu = 0.75\n",
    "lamb = 0.8\n",
    "h2h_fig = h2h_DDR_vs_SPO_Mis[mu,lamb]\n",
    "regret_fig = regret_DDR_vs_SPO_Mis[mu,lamb]\n",
    "\n",
    "ms = 6 # marker size\n",
    "fs = 12 # font size\n",
    "ls = 12 # label size\n",
    "import matplotlib.pyplot as plt\n",
    "fig, ax = plt.subplots(figsize=(5, 5))\n",
    "d_indices = [0, 1, 2, 4, 5, 6, 7, 8, 9]\n",
    "for i in d_indices:\n",
    "    ax.plot(h2h_fig[i], regret_fig[i], color='#003D7C', marker='o', markersize = ms,linestyle='None')\n",
    "ax.plot(h2h_fig[3], regret_fig[3],color='red', marker='o', markersize = ms,linestyle='None')\n",
    "ax.text(h2h_fig[3] - 0.068, regret_fig[3] - 0.01, 'Baseline', color='red',fontsize=fs)\n",
    "\n",
    "ax.text(h2h_fig[0] - 0.1, regret_fig[0] - 0.002, fr'$\\beta$={deg_all[0]}', color='#003D7C',fontsize=fs)\n",
    "ax.text(h2h_fig[1] - 0.06, regret_fig[1] - 0.01, fr'$\\beta$={deg_all[1]}', color='#003D7C',fontsize=fs)\n",
    "ax.text(h2h_fig[2] - 0.38, regret_fig[2] - 0.002, fr'$\\beta$=0.8,1.4,1.6,2.0,3.0,4.0', color='#003D7C',fontsize=fs)\n",
    "# ax.set_title(r'Effect of model misspecification: $\\beta$')\n",
    "ax.set_xlabel('Head-to-head')\n",
    "ax.set_ylabel('Regret reduction')\n",
    "# ax.grid(True)\n",
    "\n",
    "ax.axvline(0.5, linestyle='dashed', alpha=0.8, color='k')\n",
    "ax.axhline(0.0, linestyle='dashed', alpha=0.8, color='k')\n",
    "ax.set_xlim(0.4, 1.05)\n",
    "ax.set_ylim(0.9, 1.05)\n",
    "ax.label_outer()\n",
    "# plt.tight_layout()\n",
    "fig.savefig(Result_dir + f'DDR_vs_SPO_Mis_ante_mu={mu}_lamb={lamb}.pdf', format='pdf', bbox_inches=\"tight\")\n",
    "plt.show()\n"
   ]
  },
  {
   "cell_type": "markdown",
   "id": "1b04ce27",
   "metadata": {},
   "source": [
    "##### DDR vs PG"
   ]
  },
  {
   "cell_type": "code",
   "execution_count": 19,
   "id": "80772ae3",
   "metadata": {},
   "outputs": [
    {
     "name": "stdout",
     "output_type": "stream",
     "text": [
      "DataPath: /Users/zhangxun/Dropbox/Research/Decision_Driven_Regularization/Data_JOC_R1_Submit/Shortest_Path_Final/Model_MisSPO_Data_Generation/3by3_grid/data_size=100_deg=0.4_e=0.5_p=5_num_test=1000_x_dist=uniform_e_dist=normal/\n",
      "DataPath: /Users/zhangxun/Dropbox/Research/Decision_Driven_Regularization/Data_JOC_R1_Submit/Shortest_Path_Final/Model_MisSPO_Data_Generation/3by3_grid/data_size=100_deg=0.6_e=0.5_p=5_num_test=1000_x_dist=uniform_e_dist=normal/\n",
      "DataPath: /Users/zhangxun/Dropbox/Research/Decision_Driven_Regularization/Data_JOC_R1_Submit/Shortest_Path_Final/Model_MisSPO_Data_Generation/3by3_grid/data_size=100_deg=0.8_e=0.5_p=5_num_test=1000_x_dist=uniform_e_dist=normal/\n",
      "DataPath: /Users/zhangxun/Dropbox/Research/Decision_Driven_Regularization/Data_JOC_R1_Submit/Shortest_Path_Final/Model_MisSPO_Data_Generation/3by3_grid/data_size=100_deg=1.0_e=0.5_p=5_num_test=1000_x_dist=uniform_e_dist=normal/\n",
      "DataPath: /Users/zhangxun/Dropbox/Research/Decision_Driven_Regularization/Data_JOC_R1_Submit/Shortest_Path_Final/Model_MisSPO_Data_Generation/3by3_grid/data_size=100_deg=1.2_e=0.5_p=5_num_test=1000_x_dist=uniform_e_dist=normal/\n",
      "DataPath: /Users/zhangxun/Dropbox/Research/Decision_Driven_Regularization/Data_JOC_R1_Submit/Shortest_Path_Final/Model_MisSPO_Data_Generation/3by3_grid/data_size=100_deg=1.4_e=0.5_p=5_num_test=1000_x_dist=uniform_e_dist=normal/\n",
      "DataPath: /Users/zhangxun/Dropbox/Research/Decision_Driven_Regularization/Data_JOC_R1_Submit/Shortest_Path_Final/Model_MisSPO_Data_Generation/3by3_grid/data_size=100_deg=1.6_e=0.5_p=5_num_test=1000_x_dist=uniform_e_dist=normal/\n",
      "DataPath: /Users/zhangxun/Dropbox/Research/Decision_Driven_Regularization/Data_JOC_R1_Submit/Shortest_Path_Final/Model_MisSPO_Data_Generation/3by3_grid/data_size=100_deg=2.0_e=0.5_p=5_num_test=1000_x_dist=uniform_e_dist=normal/\n",
      "DataPath: /Users/zhangxun/Dropbox/Research/Decision_Driven_Regularization/Data_JOC_R1_Submit/Shortest_Path_Final/Model_MisSPO_Data_Generation/3by3_grid/data_size=100_deg=3.0_e=0.5_p=5_num_test=1000_x_dist=uniform_e_dist=normal/\n",
      "DataPath: /Users/zhangxun/Dropbox/Research/Decision_Driven_Regularization/Data_JOC_R1_Submit/Shortest_Path_Final/Model_MisSPO_Data_Generation/3by3_grid/data_size=100_deg=4.0_e=0.5_p=5_num_test=1000_x_dist=uniform_e_dist=normal/\n",
      "DataPath: /Users/zhangxun/Dropbox/Research/Decision_Driven_Regularization/Data_JOC_R1_Submit/Shortest_Path_Final/Model_MisSPO_Data_Generation/3by3_grid/data_size=100_deg=8.0_e=0.5_p=5_num_test=1000_x_dist=uniform_e_dist=normal/\n"
     ]
    }
   ],
   "source": [
    "regret_DDR_vs_PG_Mis,h2h_DDR_vs_PG_Mis = obtain_DDR_vs_benchmarks_h2h_regret(mu_all,lamb_all,deg_all,Result_dir,DataPath_Parent,num_train,e,p,num_test,x_dist,e_dist,\"PG\")"
   ]
  },
  {
   "cell_type": "code",
   "execution_count": 20,
   "id": "d107abbf",
   "metadata": {},
   "outputs": [
    {
     "data": {
      "image/png": "[encoded data removed]",
      "text/plain": [
       "<Figure size 500x500 with 1 Axes>"
      ]
     },
     "metadata": {},
     "output_type": "display_data"
    }
   ],
   "source": [
    "mu = 0.75\n",
    "lamb = 0.8\n",
    "h2h_fig = h2h_DDR_vs_PG_Mis[mu,lamb]\n",
    "regret_fig = regret_DDR_vs_PG_Mis[mu,lamb]\n",
    "\n",
    "ms = 6 # marker size\n",
    "fs = 12 # font size\n",
    "ls = 12 # label size\n",
    "import matplotlib.pyplot as plt\n",
    "fig, ax = plt.subplots(figsize=(5, 5))\n",
    "d_indices = [0, 1, 2, 4, 5, 6, 7, 8, 9]\n",
    "for i in d_indices:\n",
    "    ax.plot(h2h_fig[i], regret_fig[i], color='#003D7C', marker='o', markersize = ms,linestyle='None')\n",
    "ax.plot(h2h_fig[3], regret_fig[3],color='red', marker='o', markersize = ms,linestyle='None')\n",
    "ax.text(h2h_fig[3] - 0.068, regret_fig[3] - 0.01, 'Baseline', color='red',fontsize=fs)\n",
    "\n",
    "ax.text(h2h_fig[0] - 0.1, regret_fig[0] - 0.002, fr'$\\beta$={deg_all[0]}', color='#003D7C',fontsize=fs)\n",
    "# ax.text(h2h_fig[1] - 0.06, regret_fig[1] - 0.01, fr'$\\beta$={deg_all[1]}', color='#003D7C',fontsize=fs)\n",
    "ax.text(h2h_fig[2] - 0.42, regret_fig[2] - 0.002, fr'$\\beta$=0.6,0.8,1.4,1.6,2.0,3.0,4.0', color='#003D7C',fontsize=fs)\n",
    "# ax.set_title(r'Effect of model misspecification: $\\beta$')\n",
    "ax.set_xlabel('Head-to-head')\n",
    "ax.set_ylabel('Regret reduction')\n",
    "# ax.grid(True)\n",
    "\n",
    "ax.axvline(0.5, linestyle='dashed', alpha=0.8, color='k')\n",
    "ax.axhline(0.0, linestyle='dashed', alpha=0.8, color='k')\n",
    "ax.set_xlim(0.4, 1.05)\n",
    "ax.set_ylim(0.9, 1.05)\n",
    "ax.label_outer()\n",
    "\n",
    "# plt.tight_layout()\n",
    "fig.savefig(Result_dir + f'DDR_vs_PG_Mis_ante_mu={mu}_lamb={lamb}.pdf', format='pdf', bbox_inches=\"tight\")\n",
    "plt.show()\n"
   ]
  },
  {
   "cell_type": "markdown",
   "id": "7bac3510",
   "metadata": {},
   "source": [
    "##### DDR vs LTR"
   ]
  },
  {
   "cell_type": "code",
   "execution_count": 21,
   "id": "b67de449",
   "metadata": {},
   "outputs": [
    {
     "name": "stdout",
     "output_type": "stream",
     "text": [
      "DataPath: /Users/zhangxun/Dropbox/Research/Decision_Driven_Regularization/Data_JOC_R1_Submit/Shortest_Path_Final/Model_MisSPO_Data_Generation/3by3_grid/data_size=100_deg=0.4_e=0.5_p=5_num_test=1000_x_dist=uniform_e_dist=normal/\n",
      "DataPath: /Users/zhangxun/Dropbox/Research/Decision_Driven_Regularization/Data_JOC_R1_Submit/Shortest_Path_Final/Model_MisSPO_Data_Generation/3by3_grid/data_size=100_deg=0.6_e=0.5_p=5_num_test=1000_x_dist=uniform_e_dist=normal/\n",
      "DataPath: /Users/zhangxun/Dropbox/Research/Decision_Driven_Regularization/Data_JOC_R1_Submit/Shortest_Path_Final/Model_MisSPO_Data_Generation/3by3_grid/data_size=100_deg=0.8_e=0.5_p=5_num_test=1000_x_dist=uniform_e_dist=normal/\n",
      "DataPath: /Users/zhangxun/Dropbox/Research/Decision_Driven_Regularization/Data_JOC_R1_Submit/Shortest_Path_Final/Model_MisSPO_Data_Generation/3by3_grid/data_size=100_deg=1.0_e=0.5_p=5_num_test=1000_x_dist=uniform_e_dist=normal/\n",
      "DataPath: /Users/zhangxun/Dropbox/Research/Decision_Driven_Regularization/Data_JOC_R1_Submit/Shortest_Path_Final/Model_MisSPO_Data_Generation/3by3_grid/data_size=100_deg=1.2_e=0.5_p=5_num_test=1000_x_dist=uniform_e_dist=normal/\n",
      "DataPath: /Users/zhangxun/Dropbox/Research/Decision_Driven_Regularization/Data_JOC_R1_Submit/Shortest_Path_Final/Model_MisSPO_Data_Generation/3by3_grid/data_size=100_deg=1.4_e=0.5_p=5_num_test=1000_x_dist=uniform_e_dist=normal/\n",
      "DataPath: /Users/zhangxun/Dropbox/Research/Decision_Driven_Regularization/Data_JOC_R1_Submit/Shortest_Path_Final/Model_MisSPO_Data_Generation/3by3_grid/data_size=100_deg=1.6_e=0.5_p=5_num_test=1000_x_dist=uniform_e_dist=normal/\n",
      "DataPath: /Users/zhangxun/Dropbox/Research/Decision_Driven_Regularization/Data_JOC_R1_Submit/Shortest_Path_Final/Model_MisSPO_Data_Generation/3by3_grid/data_size=100_deg=2.0_e=0.5_p=5_num_test=1000_x_dist=uniform_e_dist=normal/\n",
      "DataPath: /Users/zhangxun/Dropbox/Research/Decision_Driven_Regularization/Data_JOC_R1_Submit/Shortest_Path_Final/Model_MisSPO_Data_Generation/3by3_grid/data_size=100_deg=3.0_e=0.5_p=5_num_test=1000_x_dist=uniform_e_dist=normal/\n",
      "DataPath: /Users/zhangxun/Dropbox/Research/Decision_Driven_Regularization/Data_JOC_R1_Submit/Shortest_Path_Final/Model_MisSPO_Data_Generation/3by3_grid/data_size=100_deg=4.0_e=0.5_p=5_num_test=1000_x_dist=uniform_e_dist=normal/\n",
      "DataPath: /Users/zhangxun/Dropbox/Research/Decision_Driven_Regularization/Data_JOC_R1_Submit/Shortest_Path_Final/Model_MisSPO_Data_Generation/3by3_grid/data_size=100_deg=8.0_e=0.5_p=5_num_test=1000_x_dist=uniform_e_dist=normal/\n"
     ]
    }
   ],
   "source": [
    "regret_DDR_vs_LTR_Mis,h2h_DDR_vs_LTR_Mis = obtain_DDR_vs_benchmarks_h2h_regret(mu_all,lamb_all,deg_all,Result_dir,DataPath_Parent,num_train,e,p,num_test,x_dist,e_dist,\"LTR\")"
   ]
  },
  {
   "cell_type": "code",
   "execution_count": 22,
   "id": "d1b47937",
   "metadata": {},
   "outputs": [
    {
     "data": {
      "image/png": "[encoded data removed]",
      "text/plain": [
       "<Figure size 500x500 with 1 Axes>"
      ]
     },
     "metadata": {},
     "output_type": "display_data"
    }
   ],
   "source": [
    "mu = 0.75\n",
    "lamb = 0.8\n",
    "h2h_fig = h2h_DDR_vs_LTR_Mis[mu,lamb]\n",
    "regret_fig = regret_DDR_vs_LTR_Mis[mu,lamb]\n",
    "\n",
    "ms = 6 # marker size\n",
    "fs = 12 # font size\n",
    "ls = 12 # label size\n",
    "import matplotlib.pyplot as plt\n",
    "fig, ax = plt.subplots(figsize=(5, 5))\n",
    "d_indices = [0, 1, 2, 4, 5, 6, 7, 8, 9]\n",
    "for i in d_indices:\n",
    "    ax.plot(h2h_fig[i], regret_fig[i], color='#003D7C', marker='o', markersize = ms,linestyle='None')\n",
    "ax.plot(h2h_fig[3], regret_fig[3],color='red', marker='o', markersize = ms,linestyle='None')\n",
    "ax.text(h2h_fig[3] - 0.068, regret_fig[3] + 0.01, 'Baseline', color='red',fontsize=fs)\n",
    "\n",
    "ax.text(h2h_fig[0] - 0.1, regret_fig[0] - 0.002, fr'$\\beta$={deg_all[0]}', color='#003D7C',fontsize=fs)\n",
    "ax.text(h2h_fig[1] - 0.1, regret_fig[1] - 0.002, fr'$\\beta$={deg_all[1]}', color='#003D7C',fontsize=fs)\n",
    "ax.text(h2h_fig[2] - 0.38, regret_fig[2] - 0.002, fr'$\\beta$=0.8,1.4,1.6,2.0,3.0,4.0', color='#003D7C',fontsize=fs)\n",
    "\n",
    "ax.set_xlabel('Head-to-head')\n",
    "ax.set_ylabel('Regret reduction')\n",
    "# ax.grid(True)\n",
    "\n",
    "ax.axvline(0.5, linestyle='dashed', alpha=0.8, color='k')\n",
    "ax.axhline(0.0, linestyle='dashed', alpha=0.8, color='k')\n",
    "ax.set_xlim(0.4, 1.05)\n",
    "ax.set_ylim(0.9, 1.05)\n",
    "ax.label_outer()\n",
    "\n",
    "# plt.tight_layout()\n",
    "fig.savefig(Result_dir + f'DDR_vs_LTR_Mis_ante_mu={mu}_lamb={lamb}.pdf', format='pdf', bbox_inches=\"tight\")\n",
    "plt.show()\n"
   ]
  }
 ],
 "metadata": {
  "kernelspec": {
   "display_name": ".venv",
   "language": "python",
   "name": "python3"
  },
  "language_info": {
   "codemirror_mode": {
    "name": "ipython",
    "version": 3
   },
   "file_extension": ".py",
   "mimetype": "text/x-python",
   "name": "python",
   "nbconvert_exporter": "python",
   "pygments_lexer": "ipython3",
   "version": "3.9.6"
  }
 },
 "nbformat": 4,
 "nbformat_minor": 5
}
