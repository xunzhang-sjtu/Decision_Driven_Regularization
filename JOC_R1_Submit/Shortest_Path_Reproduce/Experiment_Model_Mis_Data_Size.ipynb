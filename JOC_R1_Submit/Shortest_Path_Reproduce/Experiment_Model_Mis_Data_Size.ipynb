{
 "cells": [
  {
   "cell_type": "code",
   "execution_count": 1,
   "id": "e5423203",
   "metadata": {},
   "outputs": [],
   "source": [
    "import random\n",
    "import numpy as np\n",
    "import torch\n",
    "import os\n",
    "import pathlib\n",
    "import pickle\n",
    "import pandas as pd\n",
    "torch.manual_seed(42)\n",
    "torch.cuda.manual_seed(42)\n",
    "from Performance import performance_evaluation\n",
    "perfs = performance_evaluation()\n",
    "\n",
    "from Performance import H2h_Regret_Evaluation\n",
    "h2h_regret_eva = H2h_Regret_Evaluation()\n",
    "\n",
    "from Data import Data_Simulator\n",
    "DS_Obj = Data_Simulator()\n",
    "\n",
    "from Oracle import Oracle_Processing\n",
    "Oracle_Proc = Oracle_Processing()\n",
    "\n",
    "from OLS import OLS_Processing\n",
    "OLS_Proc = OLS_Processing()\n",
    "\n",
    "from DDR import DDR_Processing\n",
    "DDR_Proc = DDR_Processing()\n",
    "\n",
    "from PYEPO import EPO_Processing\n",
    "PYEPO_Proc = EPO_Processing()\n",
    "\n",
    "from Data_Load_Store import Load_Store_Methods\n",
    "Data_LSM = Load_Store_Methods()\n",
    "\n",
    "import Figure_H2H_Regret"
   ]
  },
  {
   "cell_type": "code",
   "execution_count": 2,
   "id": "9e1d3bf5",
   "metadata": {},
   "outputs": [],
   "source": [
    "import Sequential_Learning_Approaches as SLA\n",
    "import Integrated_Learning_Approaches as ILA"
   ]
  },
  {
   "cell_type": "markdown",
   "id": "886e7311",
   "metadata": {},
   "source": [
    "### Parameters"
   ]
  },
  {
   "cell_type": "code",
   "execution_count": 3,
   "id": "782cc897",
   "metadata": {},
   "outputs": [],
   "source": [
    "grid = (3,3) # grid size\n",
    "from Network import network_design\n",
    "Network = network_design()\n",
    "arcs,arc_index_mapping = Network._getArcs(grid)\n",
    "\n",
    "num_test = 1000\n",
    "lower = 0 # coef lower bound\n",
    "upper = 1 # coef upper bound\n",
    "d = (grid[0] - 1) * (grid[0] - 1) * 2 + 2 * (grid[0] - 1) # num of arcs\n",
    "num_nodes = grid[0]*grid[0]\n",
    "coef_seed = 1\n",
    "\n",
    "x_dist = 'uniform'\n",
    "e_dist = 'normal'\n",
    "x_low = -2\n",
    "x_up = 2\n",
    "x_mean = 2\n",
    "x_var = 2\n",
    "bump = 100"
   ]
  },
  {
   "cell_type": "code",
   "execution_count": 4,
   "id": "554bf254",
   "metadata": {},
   "outputs": [
    {
     "name": "stdout",
     "output_type": "stream",
     "text": [
      "DataPath_parent: /Users/zhangxun/Dropbox/Research/Decision_Driven_Regularization/Data_JOC_R1_Submit/Shortest_Path_Final/Model_Mis_Data_Size_SPO_Data_Generation/3by3_grid_All/\n"
     ]
    }
   ],
   "source": [
    "data_generation_process = \"SPO_Data_Generation\"\n",
    "# data_generation_process = \"DDR_Data_Generation\"\n",
    "current_directory = os.getcwd()\n",
    "parent_directory = os.path.dirname(current_directory)\n",
    "project_directory = os.path.dirname(os.path.dirname(os.path.dirname(parent_directory)))\n",
    "DataPath_Parent = project_directory + '/Data_JOC_R1_Submit/Shortest_Path_Final/Model_Mis_Data_Size_' + data_generation_process + f'/{grid[0]}by{grid[1]}_grid_All/'\n",
    "pathlib.Path(DataPath_Parent).mkdir(parents=True, exist_ok=True)\n",
    "print(\"DataPath_parent:\", DataPath_Parent)\n",
    "Result_dir = DataPath_Parent + \"Result/\"\n",
    "pathlib.Path(Result_dir).mkdir(parents=True, exist_ok=True)"
   ]
  },
  {
   "cell_type": "markdown",
   "id": "e36b76bb",
   "metadata": {},
   "source": [
    "### Impact of model misspecification when N changes"
   ]
  },
  {
   "cell_type": "code",
   "execution_count": 5,
   "id": "19a90759",
   "metadata": {},
   "outputs": [],
   "source": [
    "num_feat = 5 # size of feature\n",
    "p = num_feat\n",
    "e = 0.5 # scale of normal std or the range of uniform. For the error term\n",
    "alpha = e # scale of normal std or the range of uniform. For the error term\n",
    "iteration_all = np.arange(0,100)\n",
    "batch_size = 20\n",
    "num_epochs = 1000\n",
    "num_train_all = [50,100,200,500,1000]\n",
    "mu_all = [0.75]\n",
    "lamb_all = [0.8]\n",
    "deg_all = [1.0] # polynomial degree"
   ]
  },
  {
   "cell_type": "markdown",
   "id": "0e31bc37",
   "metadata": {},
   "source": [
    "##### Data Generation"
   ]
  },
  {
   "cell_type": "code",
   "execution_count": 6,
   "id": "43a82c3b",
   "metadata": {},
   "outputs": [
    {
     "name": "stdout",
     "output_type": "stream",
     "text": [
      "DataPath: /Users/zhangxun/Dropbox/Research/Decision_Driven_Regularization/Data_JOC_R1_Submit/Shortest_Path_Final/Model_Mis_Data_Size_SPO_Data_Generation/3by3_grid_All/data_size=50_deg=1.0_e=0.5_p=5_num_test=1000_x_dist=uniform_e_dist=normal/\n",
      "DataPath: /Users/zhangxun/Dropbox/Research/Decision_Driven_Regularization/Data_JOC_R1_Submit/Shortest_Path_Final/Model_Mis_Data_Size_SPO_Data_Generation/3by3_grid_All/data_size=100_deg=1.0_e=0.5_p=5_num_test=1000_x_dist=uniform_e_dist=normal/\n",
      "DataPath: /Users/zhangxun/Dropbox/Research/Decision_Driven_Regularization/Data_JOC_R1_Submit/Shortest_Path_Final/Model_Mis_Data_Size_SPO_Data_Generation/3by3_grid_All/data_size=200_deg=1.0_e=0.5_p=5_num_test=1000_x_dist=uniform_e_dist=normal/\n",
      "DataPath: /Users/zhangxun/Dropbox/Research/Decision_Driven_Regularization/Data_JOC_R1_Submit/Shortest_Path_Final/Model_Mis_Data_Size_SPO_Data_Generation/3by3_grid_All/data_size=500_deg=1.0_e=0.5_p=5_num_test=1000_x_dist=uniform_e_dist=normal/\n",
      "DataPath: /Users/zhangxun/Dropbox/Research/Decision_Driven_Regularization/Data_JOC_R1_Submit/Shortest_Path_Final/Model_Mis_Data_Size_SPO_Data_Generation/3by3_grid_All/data_size=1000_deg=1.0_e=0.5_p=5_num_test=1000_x_dist=uniform_e_dist=normal/\n"
     ]
    }
   ],
   "source": [
    "for num_train in num_train_all:\n",
    "    for deg in deg_all:\n",
    "        mis = deg # model misspecification\n",
    "        DataPath = DataPath_Parent + f\"data_size={num_train}_deg={deg}_e={e}_p={p}_num_test={num_test}\"+\"_x_dist=\"+x_dist+\"_e_dist=\"+e_dist+\"/\"\n",
    "        pathlib.Path(DataPath).mkdir(parents=True, exist_ok=True)\n",
    "        print(\"DataPath:\", DataPath)\n",
    "        if os.path.exists(DataPath+\"x_test_all.pkl\"):\n",
    "            print(\"Already Exist\")\n",
    "        else:\n",
    "            x_test_all, c_test_all, x_train_all, c_train_all,noise_train_all,noise_test_all,W_star_all = \\\n",
    "            DS_Obj.Simulator(DataPath,lower, upper, p, d, coef_seed,iteration_all,num_test, num_train, alpha,mis,data_generation_process,x_dist, e_dist, x_low, x_up, x_mean, x_var, bump)\n",
    "            Data_LSM.store_input_data(DataPath,x_test_all,c_test_all,x_train_all,c_train_all,noise_test_all,noise_train_all,W_star_all)"
   ]
  },
  {
   "cell_type": "markdown",
   "id": "cea683e1",
   "metadata": {},
   "source": [
    "##### Run Oracle"
   ]
  },
  {
   "cell_type": "code",
   "execution_count": 7,
   "id": "4e39a0e4",
   "metadata": {},
   "outputs": [
    {
     "name": "stdout",
     "output_type": "stream",
     "text": [
      "DataPath: /Users/zhangxun/Dropbox/Research/Decision_Driven_Regularization/Data_JOC_R1_Submit/Shortest_Path_Final/Model_Mis_Data_Size_SPO_Data_Generation/3by3_grid_All/data_size=50_deg=1.0_e=0.5_p=5_num_test=1000_x_dist=uniform_e_dist=normal/\n",
      "Set parameter Username\n",
      "Academic license - for non-commercial use only - expires 2026-03-13\n",
      "Oracle: iter= 20 ,cost_Oracle_Ante= 15.200104903979533\n",
      "Oracle: iter= 40 ,cost_Oracle_Ante= 14.596885929404289\n",
      "Oracle: iter= 60 ,cost_Oracle_Ante= 15.026113920699338\n",
      "Oracle: iter= 80 ,cost_Oracle_Ante= 14.899560511015855\n",
      "DataPath: /Users/zhangxun/Dropbox/Research/Decision_Driven_Regularization/Data_JOC_R1_Submit/Shortest_Path_Final/Model_Mis_Data_Size_SPO_Data_Generation/3by3_grid_All/data_size=100_deg=1.0_e=0.5_p=5_num_test=1000_x_dist=uniform_e_dist=normal/\n",
      "Oracle: iter= 20 ,cost_Oracle_Ante= 15.172642031123184\n",
      "Oracle: iter= 40 ,cost_Oracle_Ante= 14.600967169194192\n",
      "Oracle: iter= 60 ,cost_Oracle_Ante= 15.016002191297218\n",
      "Oracle: iter= 80 ,cost_Oracle_Ante= 14.89354010044007\n",
      "DataPath: /Users/zhangxun/Dropbox/Research/Decision_Driven_Regularization/Data_JOC_R1_Submit/Shortest_Path_Final/Model_Mis_Data_Size_SPO_Data_Generation/3by3_grid_All/data_size=200_deg=1.0_e=0.5_p=5_num_test=1000_x_dist=uniform_e_dist=normal/\n",
      "Oracle: iter= 20 ,cost_Oracle_Ante= 15.144328224483132\n",
      "Oracle: iter= 40 ,cost_Oracle_Ante= 14.62145215630615\n",
      "Oracle: iter= 60 ,cost_Oracle_Ante= 15.020095165472316\n",
      "Oracle: iter= 80 ,cost_Oracle_Ante= 14.876566823690675\n",
      "DataPath: /Users/zhangxun/Dropbox/Research/Decision_Driven_Regularization/Data_JOC_R1_Submit/Shortest_Path_Final/Model_Mis_Data_Size_SPO_Data_Generation/3by3_grid_All/data_size=500_deg=1.0_e=0.5_p=5_num_test=1000_x_dist=uniform_e_dist=normal/\n",
      "Oracle: iter= 20 ,cost_Oracle_Ante= 15.096535898629712\n",
      "Oracle: iter= 40 ,cost_Oracle_Ante= 14.590733464812468\n",
      "Oracle: iter= 60 ,cost_Oracle_Ante= 15.022101085286174\n",
      "Oracle: iter= 80 ,cost_Oracle_Ante= 14.867069378054255\n",
      "DataPath: /Users/zhangxun/Dropbox/Research/Decision_Driven_Regularization/Data_JOC_R1_Submit/Shortest_Path_Final/Model_Mis_Data_Size_SPO_Data_Generation/3by3_grid_All/data_size=1000_deg=1.0_e=0.5_p=5_num_test=1000_x_dist=uniform_e_dist=normal/\n",
      "Oracle: iter= 20 ,cost_Oracle_Ante= 15.09087935516319\n",
      "Oracle: iter= 40 ,cost_Oracle_Ante= 14.582147266863872\n",
      "Oracle: iter= 60 ,cost_Oracle_Ante= 15.083167411029242\n",
      "Oracle: iter= 80 ,cost_Oracle_Ante= 14.847525439198733\n"
     ]
    }
   ],
   "source": [
    "for num_train in num_train_all:\n",
    "    for deg in deg_all:\n",
    "        mis = deg # model misspecification\n",
    "        DataPath = DataPath_Parent + f\"data_size={num_train}_deg={deg}_e={e}_p={p}_num_test={num_test}\"+\"_x_dist=\"+x_dist+\"_e_dist=\"+e_dist+\"/\"\n",
    "        print(\"DataPath:\", DataPath)\n",
    "        if os.path.exists(DataPath+\"cost_Oracle_Ante_all.pkl\"):\n",
    "            print(\"Results already exist\")\n",
    "        else:\n",
    "            SLA.Run_Oracle(DataPath,arcs, grid,mis,bump,iteration_all,num_feat,data_generation_process)"
   ]
  },
  {
   "cell_type": "markdown",
   "id": "dc7b64b6",
   "metadata": {},
   "source": [
    "##### Run OLS"
   ]
  },
  {
   "cell_type": "code",
   "execution_count": 8,
   "id": "479e43d9",
   "metadata": {},
   "outputs": [
    {
     "name": "stdout",
     "output_type": "stream",
     "text": [
      "DataPath: /Users/zhangxun/Dropbox/Research/Decision_Driven_Regularization/Data_JOC_R1_Submit/Shortest_Path_Final/Model_Mis_Data_Size_SPO_Data_Generation/3by3_grid_All/data_size=50_deg=1.0_e=0.5_p=5_num_test=1000_x_dist=uniform_e_dist=normal/\n",
      "OLS: iter= 20 ,cost_OLS_Ante= 15.542637096531974\n",
      "OLS: iter= 40 ,cost_OLS_Ante= 14.775261817049653\n",
      "OLS: iter= 60 ,cost_OLS_Ante= 15.161339987933882\n",
      "OLS: iter= 80 ,cost_OLS_Ante= 15.594084285435885\n",
      "DataPath: /Users/zhangxun/Dropbox/Research/Decision_Driven_Regularization/Data_JOC_R1_Submit/Shortest_Path_Final/Model_Mis_Data_Size_SPO_Data_Generation/3by3_grid_All/data_size=100_deg=1.0_e=0.5_p=5_num_test=1000_x_dist=uniform_e_dist=normal/\n",
      "OLS: iter= 20 ,cost_OLS_Ante= 15.342978625531082\n",
      "OLS: iter= 40 ,cost_OLS_Ante= 14.653128870271075\n",
      "OLS: iter= 60 ,cost_OLS_Ante= 15.116680536722342\n",
      "OLS: iter= 80 ,cost_OLS_Ante= 15.042281568159728\n",
      "DataPath: /Users/zhangxun/Dropbox/Research/Decision_Driven_Regularization/Data_JOC_R1_Submit/Shortest_Path_Final/Model_Mis_Data_Size_SPO_Data_Generation/3by3_grid_All/data_size=200_deg=1.0_e=0.5_p=5_num_test=1000_x_dist=uniform_e_dist=normal/\n",
      "OLS: iter= 20 ,cost_OLS_Ante= 15.247515825728104\n",
      "OLS: iter= 40 ,cost_OLS_Ante= 14.67204293501217\n",
      "OLS: iter= 60 ,cost_OLS_Ante= 15.126560990087825\n",
      "OLS: iter= 80 ,cost_OLS_Ante= 14.910392757838164\n",
      "DataPath: /Users/zhangxun/Dropbox/Research/Decision_Driven_Regularization/Data_JOC_R1_Submit/Shortest_Path_Final/Model_Mis_Data_Size_SPO_Data_Generation/3by3_grid_All/data_size=500_deg=1.0_e=0.5_p=5_num_test=1000_x_dist=uniform_e_dist=normal/\n",
      "OLS: iter= 20 ,cost_OLS_Ante= 15.12187223704079\n",
      "OLS: iter= 40 ,cost_OLS_Ante= 14.617217503266208\n",
      "OLS: iter= 60 ,cost_OLS_Ante= 15.036388146202594\n",
      "OLS: iter= 80 ,cost_OLS_Ante= 14.883867265629533\n",
      "DataPath: /Users/zhangxun/Dropbox/Research/Decision_Driven_Regularization/Data_JOC_R1_Submit/Shortest_Path_Final/Model_Mis_Data_Size_SPO_Data_Generation/3by3_grid_All/data_size=1000_deg=1.0_e=0.5_p=5_num_test=1000_x_dist=uniform_e_dist=normal/\n",
      "OLS: iter= 20 ,cost_OLS_Ante= 15.099134437542874\n",
      "OLS: iter= 40 ,cost_OLS_Ante= 14.593109675244712\n",
      "OLS: iter= 60 ,cost_OLS_Ante= 15.108846295032436\n",
      "OLS: iter= 80 ,cost_OLS_Ante= 14.855867073013822\n"
     ]
    }
   ],
   "source": [
    "for num_train in num_train_all:\n",
    "    for deg in deg_all:\n",
    "        mis = deg # model misspecification\n",
    "        DataPath = DataPath_Parent + f\"data_size={num_train}_deg={deg}_e={e}_p={p}_num_test={num_test}\"+\"_x_dist=\"+x_dist+\"_e_dist=\"+e_dist+\"/\"\n",
    "        print(\"DataPath:\", DataPath)\n",
    "        if os.path.exists(DataPath+\"cost_OLS_Ante_all.pkl\"):\n",
    "            print(\"Results already exist\")\n",
    "        else:\n",
    "            SLA.Run_OLS(DataPath,arcs, grid,mis,bump,iteration_all,num_feat,data_generation_process)"
   ]
  },
  {
   "cell_type": "markdown",
   "id": "4343cc89",
   "metadata": {},
   "source": [
    "##### Run DDR"
   ]
  },
  {
   "cell_type": "code",
   "execution_count": 9,
   "id": "a38577c6",
   "metadata": {},
   "outputs": [
    {
     "name": "stdout",
     "output_type": "stream",
     "text": [
      "DataPath: /Users/zhangxun/Dropbox/Research/Decision_Driven_Regularization/Data_JOC_R1_Submit/Shortest_Path_Final/Model_Mis_Data_Size_SPO_Data_Generation/3by3_grid_All/data_size=50_deg=1.0_e=0.5_p=5_num_test=1000_x_dist=uniform_e_dist=normal/\n",
      "DDR: iter= 20 ,mu= 0.75 ,lamb= 0.8 ,cost_DDR_Ante = 15.546355566977873\n",
      "DDR: iter= 40 ,mu= 0.75 ,lamb= 0.8 ,cost_DDR_Ante = 14.781150928562798\n",
      "DDR: iter= 60 ,mu= 0.75 ,lamb= 0.8 ,cost_DDR_Ante = 15.151464378697474\n",
      "DDR: iter= 80 ,mu= 0.75 ,lamb= 0.8 ,cost_DDR_Ante = 15.554302949456766\n",
      "DataPath: /Users/zhangxun/Dropbox/Research/Decision_Driven_Regularization/Data_JOC_R1_Submit/Shortest_Path_Final/Model_Mis_Data_Size_SPO_Data_Generation/3by3_grid_All/data_size=100_deg=1.0_e=0.5_p=5_num_test=1000_x_dist=uniform_e_dist=normal/\n",
      "DDR: iter= 20 ,mu= 0.75 ,lamb= 0.8 ,cost_DDR_Ante = 15.337811541026513\n",
      "DDR: iter= 40 ,mu= 0.75 ,lamb= 0.8 ,cost_DDR_Ante = 14.654655156382018\n",
      "DDR: iter= 60 ,mu= 0.75 ,lamb= 0.8 ,cost_DDR_Ante = 15.120450780187118\n",
      "DDR: iter= 80 ,mu= 0.75 ,lamb= 0.8 ,cost_DDR_Ante = 15.038106628998422\n",
      "DataPath: /Users/zhangxun/Dropbox/Research/Decision_Driven_Regularization/Data_JOC_R1_Submit/Shortest_Path_Final/Model_Mis_Data_Size_SPO_Data_Generation/3by3_grid_All/data_size=200_deg=1.0_e=0.5_p=5_num_test=1000_x_dist=uniform_e_dist=normal/\n",
      "DDR: iter= 20 ,mu= 0.75 ,lamb= 0.8 ,cost_DDR_Ante = 15.242316403977641\n",
      "DDR: iter= 40 ,mu= 0.75 ,lamb= 0.8 ,cost_DDR_Ante = 14.676800054595336\n",
      "DDR: iter= 60 ,mu= 0.75 ,lamb= 0.8 ,cost_DDR_Ante = 15.122884439839865\n",
      "DDR: iter= 80 ,mu= 0.75 ,lamb= 0.8 ,cost_DDR_Ante = 14.910375341810292\n",
      "DataPath: /Users/zhangxun/Dropbox/Research/Decision_Driven_Regularization/Data_JOC_R1_Submit/Shortest_Path_Final/Model_Mis_Data_Size_SPO_Data_Generation/3by3_grid_All/data_size=500_deg=1.0_e=0.5_p=5_num_test=1000_x_dist=uniform_e_dist=normal/\n",
      "DDR: iter= 20 ,mu= 0.75 ,lamb= 0.8 ,cost_DDR_Ante = 15.121498863313887\n",
      "DDR: iter= 40 ,mu= 0.75 ,lamb= 0.8 ,cost_DDR_Ante = 14.617826803486285\n",
      "DDR: iter= 60 ,mu= 0.75 ,lamb= 0.8 ,cost_DDR_Ante = 15.036334813418883\n",
      "DDR: iter= 80 ,mu= 0.75 ,lamb= 0.8 ,cost_DDR_Ante = 14.884368154442942\n",
      "DataPath: /Users/zhangxun/Dropbox/Research/Decision_Driven_Regularization/Data_JOC_R1_Submit/Shortest_Path_Final/Model_Mis_Data_Size_SPO_Data_Generation/3by3_grid_All/data_size=1000_deg=1.0_e=0.5_p=5_num_test=1000_x_dist=uniform_e_dist=normal/\n",
      "DDR: iter= 20 ,mu= 0.75 ,lamb= 0.8 ,cost_DDR_Ante = 15.099776895651193\n",
      "DDR: iter= 40 ,mu= 0.75 ,lamb= 0.8 ,cost_DDR_Ante = 14.594497551860067\n",
      "DDR: iter= 60 ,mu= 0.75 ,lamb= 0.8 ,cost_DDR_Ante = 15.109764747650933\n",
      "DDR: iter= 80 ,mu= 0.75 ,lamb= 0.8 ,cost_DDR_Ante = 14.855624907650238\n"
     ]
    }
   ],
   "source": [
    "for num_train in num_train_all:\n",
    "    for deg in deg_all:\n",
    "        mis = deg # model misspecification\n",
    "        DataPath = DataPath_Parent + f\"data_size={num_train}_deg={deg}_e={e}_p={p}_num_test={num_test}\"+\"_x_dist=\"+x_dist+\"_e_dist=\"+e_dist+\"/\"\n",
    "        print(\"DataPath:\", DataPath)\n",
    "        if os.path.exists(DataPath+\"cost_DDR_Ante_all.pkl\"):\n",
    "            print(\"Results already exist\")\n",
    "        else:\n",
    "            ILA.Run_DDR(DataPath,mu_all,lamb_all,arcs, grid,mis,bump,iteration_all,num_feat,data_generation_process)"
   ]
  },
  {
   "cell_type": "markdown",
   "id": "2134bafc",
   "metadata": {},
   "source": [
    "##### Run SPO+"
   ]
  },
  {
   "cell_type": "code",
   "execution_count": null,
   "id": "f1f70950",
   "metadata": {},
   "outputs": [
    {
     "name": "stdout",
     "output_type": "stream",
     "text": [
      "DataPath: /Users/zhangxun/Dropbox/Research/Decision_Driven_Regularization/Data_JOC_R1_Submit/Shortest_Path_Final/Model_Mis_Data_Size_SPO_Data_Generation/3by3_grid_All/data_size=50_deg=1.0_e=0.5_p=5_num_test=1000_x_dist=uniform_e_dist=normal/\n",
      "['spo+'] : iter= 20 ,cost_EPO_Ante= 16.244893892552973\n",
      "['spo+'] : iter= 40 ,cost_EPO_Ante= 16.428055532274975\n",
      "['spo+'] : iter= 60 ,cost_EPO_Ante= 15.981433882029382\n",
      "['spo+'] : iter= 80 ,cost_EPO_Ante= 15.859118474945745\n",
      "DataPath: /Users/zhangxun/Dropbox/Research/Decision_Driven_Regularization/Data_JOC_R1_Submit/Shortest_Path_Final/Model_Mis_Data_Size_SPO_Data_Generation/3by3_grid_All/data_size=100_deg=1.0_e=0.5_p=5_num_test=1000_x_dist=uniform_e_dist=normal/\n",
      "['spo+'] : iter= 20 ,cost_EPO_Ante= 16.417801861458877\n",
      "['spo+'] : iter= 40 ,cost_EPO_Ante= 16.17762456340405\n",
      "['spo+'] : iter= 60 ,cost_EPO_Ante= 15.520834399445182\n",
      "['spo+'] : iter= 80 ,cost_EPO_Ante= 16.005682898751196\n",
      "DataPath: /Users/zhangxun/Dropbox/Research/Decision_Driven_Regularization/Data_JOC_R1_Submit/Shortest_Path_Final/Model_Mis_Data_Size_SPO_Data_Generation/3by3_grid_All/data_size=200_deg=1.0_e=0.5_p=5_num_test=1000_x_dist=uniform_e_dist=normal/\n",
      "['spo+'] : iter= 20 ,cost_EPO_Ante= 16.07660353905089\n",
      "['spo+'] : iter= 40 ,cost_EPO_Ante= 14.868193430580726\n",
      "['spo+'] : iter= 60 ,cost_EPO_Ante= 15.241925433607316\n",
      "['spo+'] : iter= 80 ,cost_EPO_Ante= 15.368418284643951\n",
      "DataPath: /Users/zhangxun/Dropbox/Research/Decision_Driven_Regularization/Data_JOC_R1_Submit/Shortest_Path_Final/Model_Mis_Data_Size_SPO_Data_Generation/3by3_grid_All/data_size=500_deg=1.0_e=0.5_p=5_num_test=1000_x_dist=uniform_e_dist=normal/\n",
      "['spo+'] : iter= 20 ,cost_EPO_Ante= 15.140218010643911\n",
      "['spo+'] : iter= 40 ,cost_EPO_Ante= 14.645985309197288\n",
      "['spo+'] : iter= 60 ,cost_EPO_Ante= 15.065589174384373\n",
      "['spo+'] : iter= 80 ,cost_EPO_Ante= 14.908703471199152\n",
      "DataPath: /Users/zhangxun/Dropbox/Research/Decision_Driven_Regularization/Data_JOC_R1_Submit/Shortest_Path_Final/Model_Mis_Data_Size_SPO_Data_Generation/3by3_grid_All/data_size=1000_deg=1.0_e=0.5_p=5_num_test=1000_x_dist=uniform_e_dist=normal/\n",
      "['spo+'] : iter= 20 ,cost_EPO_Ante= 15.098203050220636\n",
      "['spo+'] : iter= 40 ,cost_EPO_Ante= 14.607646582747082\n",
      "['spo+'] : iter= 60 ,cost_EPO_Ante= 15.113758420438067\n",
      "['spo+'] : iter= 80 ,cost_EPO_Ante= 14.8653408646218\n"
     ]
    },
    {
     "name": "stderr",
     "output_type": "stream",
     "text": [
      "Process ForkPoolWorker-2:\n",
      "Traceback (most recent call last):\n",
      "  File \"/Users/zhangxun/Dropbox/Research/Decision_Driven_Regularization/Code_MacBook/Decision_Driven_Regularization/.venv/lib/python3.9/site-packages/multiprocess/process.py\", line 315, in _bootstrap\n",
      "    self.run()\n",
      "  File \"/Users/zhangxun/Dropbox/Research/Decision_Driven_Regularization/Code_MacBook/Decision_Driven_Regularization/.venv/lib/python3.9/site-packages/multiprocess/process.py\", line 108, in run\n",
      "    self._target(*self._args, **self._kwargs)\n",
      "  File \"/Users/zhangxun/Dropbox/Research/Decision_Driven_Regularization/Code_MacBook/Decision_Driven_Regularization/.venv/lib/python3.9/site-packages/multiprocess/pool.py\", line 114, in worker\n",
      "    task = get()\n",
      "  File \"/Users/zhangxun/Dropbox/Research/Decision_Driven_Regularization/Code_MacBook/Decision_Driven_Regularization/.venv/lib/python3.9/site-packages/multiprocess/queues.py\", line 367, in get\n",
      "    with self._rlock:\n",
      "  File \"/Users/zhangxun/Dropbox/Research/Decision_Driven_Regularization/Code_MacBook/Decision_Driven_Regularization/.venv/lib/python3.9/site-packages/multiprocess/synchronize.py\", line 101, in __enter__\n",
      "    return self._semlock.__enter__()\n",
      "KeyboardInterrupt\n"
     ]
    }
   ],
   "source": [
    "for num_train in num_train_all:\n",
    "    method_names = [\"spo+\"]\n",
    "    for deg in deg_all:\n",
    "        mis = deg # model misspecification\n",
    "        DataPath = DataPath_Parent + f\"data_size={num_train}_deg={deg}_e={e}_p={p}_num_test={num_test}\"+\"_x_dist=\"+x_dist+\"_e_dist=\"+e_dist+\"/\"\n",
    "        print(\"DataPath:\", DataPath)\n",
    "        if os.path.exists(DataPath+\"cost_spo+_Ante_all.pkl\"):\n",
    "            print(\"Results already exist\")\n",
    "        else:\n",
    "            ILA.run_EPO_approaches(DataPath,method_names,arcs, grid,mis,bump,iteration_all,num_feat,data_generation_process)"
   ]
  },
  {
   "cell_type": "markdown",
   "id": "e20c5c64",
   "metadata": {},
   "source": [
    "##### Run PG"
   ]
  },
  {
   "cell_type": "code",
   "execution_count": 11,
   "id": "f0547b9d",
   "metadata": {},
   "outputs": [],
   "source": [
    "# for num_train in num_train_all:\n",
    "#     method_names = [\"pg\"]\n",
    "#     for deg in deg_all:\n",
    "#         mis = deg # model misspecification\n",
    "#         DataPath = DataPath_Parent + f\"data_size={num_train}_deg={deg}_e={e}_p={p}_num_test={num_test}\"+\"_x_dist=\"+x_dist+\"_e_dist=\"+e_dist+\"/\"\n",
    "#         print(\"DataPath:\", DataPath)\n",
    "#         if os.path.exists(DataPath+\"cost_pg_Ante_all.pkl\"):\n",
    "#             print(\"Results already exist\")\n",
    "#         else:\n",
    "#             ILA.run_EPO_approaches(DataPath,method_names,arcs, grid,mis,bump,iteration_all,num_feat,data_generation_process)"
   ]
  },
  {
   "cell_type": "markdown",
   "id": "b1f3a5cf",
   "metadata": {},
   "source": [
    "##### Run LTR"
   ]
  },
  {
   "cell_type": "code",
   "execution_count": 12,
   "id": "38ce0ab8",
   "metadata": {},
   "outputs": [],
   "source": [
    "# for num_train in num_train_all:\n",
    "#     method_names = [\"ltr\"]\n",
    "#     for deg in deg_all:\n",
    "#         mis = deg # model misspecification\n",
    "#         DataPath = DataPath_Parent + f\"data_size={num_train}_deg={deg}_e={e}_p={p}_num_test={num_test}\"+\"_x_dist=\"+x_dist+\"_e_dist=\"+e_dist+\"/\"\n",
    "#         print(\"DataPath:\", DataPath)\n",
    "#         if os.path.exists(DataPath+\"cost_ltr_Ante_all.pkl\"):\n",
    "#             print(\"Results already exist\")\n",
    "#         else:\n",
    "#             ILA.run_EPO_approaches(DataPath,method_names,arcs, grid,mis,bump,iteration_all,num_feat,data_generation_process)"
   ]
  },
  {
   "cell_type": "markdown",
   "id": "deaeb691",
   "metadata": {},
   "source": [
    "### Comparison"
   ]
  },
  {
   "cell_type": "code",
   "execution_count": 13,
   "id": "efb788f6",
   "metadata": {},
   "outputs": [],
   "source": [
    "def h2h_regret(iteration_all,cost_this_all,cost_bench_all,cost_Oracle_Ante_all):\n",
    "    h2h_ = np.zeros(len(iteration_all)); cost_rd_ = np.zeros(len(iteration_all)); regret_rd_ = np.zeros(len(iteration_all))\n",
    "    for iter_index in range(len(iteration_all)):\n",
    "        iter = iteration_all[iter_index]\n",
    "        h2h_[iter_index],cost_rd_[iter_index],regret_rd_[iter_index] = h2h_regret_eva.cross_compare2plus(cost_this_all[iter], cost_bench_all[iter], cost_Oracle_Ante_all[iter])\n",
    "    return h2h_,regret_rd_"
   ]
  },
  {
   "cell_type": "code",
   "execution_count": 14,
   "id": "6bea5c09",
   "metadata": {},
   "outputs": [],
   "source": [
    "def calculate_h2h_regret_this_vs_benchmarks(num_train_all,deg_all,this_method,benchmark_methods,is_ddr,mu,lamb,is_bench_ddr):\n",
    "    h2h_ddr_vs_ = {}; cost_rd_ddr_vs_ = {}; regret_rd_ddr_vs_ = {}\n",
    "    for num_train in num_train_all:\n",
    "        for deg in deg_all:\n",
    "            DataPath = DataPath_Parent + f\"data_size={num_train}_deg={deg}_e={e}_p={p}_num_test={num_test}\"+\"_x_dist=\"+x_dist+\"_e_dist=\"+e_dist+\"/\"\n",
    "            print(\"DataPath:\", DataPath)     \n",
    "            with open(DataPath+'cost_Oracle_Ante_all.pkl', \"rb\") as tf:\n",
    "                cost_Oracle_Ante_all = pickle.load(tf)\n",
    "            with open(DataPath+this_method, \"rb\") as tf:\n",
    "                cost_this = pickle.load(tf)\n",
    "            with open(DataPath+benchmark_methods, \"rb\") as tf:\n",
    "                cost_bench = pickle.load(tf)\n",
    "\n",
    "            if is_ddr:\n",
    "                cost_this_input = {}\n",
    "                for iter in iteration_all:\n",
    "                    cost_this_input[iter] = cost_this[iter,mu,lamb]\n",
    "            else:\n",
    "                cost_this_input = cost_this\n",
    "            if is_bench_ddr:\n",
    "                cost_bench_input = {}\n",
    "                for iter in iteration_all:\n",
    "                    cost_bench_input[iter] = cost_bench[iter,mu,lamb]\n",
    "            else:\n",
    "                cost_bench_input = cost_bench\n",
    "\n",
    "            h2h_ddr_vs_[num_train,deg],regret_rd_ddr_vs_[num_train,deg] = h2h_regret(iteration_all,cost_this_input,cost_bench_input,cost_Oracle_Ante_all)\n",
    "\n",
    "        print(\"num_train = \",num_train,\",deg = \",deg)\n",
    "    return h2h_ddr_vs_,regret_rd_ddr_vs_"
   ]
  },
  {
   "cell_type": "code",
   "execution_count": 15,
   "id": "b010e75e",
   "metadata": {},
   "outputs": [],
   "source": [
    "def obtain_DDR_vs_benchmarks_h2h_regret(DataPath_Parent,num_train_all,deg_all,e,num_test,x_dist,e_dist,mu_all,lamb_all,benchmark):\n",
    "    h2h_ = {}; cost_rd_ = {}; regret_rd_ = {}\n",
    "    for num_train in num_train_all:\n",
    "        for deg in deg_all:\n",
    "            DataPath = DataPath_Parent + f\"data_size={num_train}_deg={deg}_e={e}_p={p}_num_test={num_test}\"+\"_x_dist=\"+x_dist+\"_e_dist=\"+e_dist+\"/\"\n",
    "            print(\"DataPath:\", DataPath)     \n",
    "            cost_Oracle_Ante_all,cost_OLS_Ante_all,cost_DDR_Ante_all = Data_LSM.load_cost_data(DataPath)\n",
    "            with open(DataPath+'cost_spo+_Ante_all.pkl', \"rb\") as tf:\n",
    "                cost_SPO_Ante_all = pickle.load(tf)\n",
    "            # with open(DataPath+'cost_rf_Ante_all.pkl', \"rb\") as tf:\n",
    "            #     cost_RF_Ante_all = pickle.load(tf)\n",
    "            # with open(DataPath+'cost_xg_Ante_all.pkl', \"rb\") as tf:\n",
    "                # cost_XG_Ante_all = pickle.load(tf)\n",
    "            # with open(DataPath+'cost_pg_Ante_all.pkl', \"rb\") as tf:\n",
    "            #     cost_PG_Ante_all = pickle.load(tf)\n",
    "            # with open(DataPath+'cost_ltr_Ante_all.pkl', \"rb\") as tf:\n",
    "            #     cost_LTR_Ante_all = pickle.load(tf)\n",
    "\n",
    "            for mu in mu_all:\n",
    "                for lamb in lamb_all:\n",
    "                    if benchmark == \"OLS\":\n",
    "                        h2h_[num_train,deg,mu,lamb],regret_rd_[num_train,deg,mu,lamb] = h2h_regret_eva.calculate_DDR_vs_Others_h2h_regret(mu,lamb,iteration_all,cost_DDR_Ante_all,cost_OLS_Ante_all,cost_Oracle_Ante_all)\n",
    "                    if benchmark == \"SPO+\":\n",
    "                        h2h_[num_train,deg,mu,lamb],regret_rd_[num_train,deg,mu,lamb] = h2h_regret_eva.calculate_DDR_vs_Others_h2h_regret(mu,lamb,iteration_all,cost_DDR_Ante_all,cost_SPO_Ante_all,cost_Oracle_Ante_all)\n",
    "                    # if benchmark == \"RF\":\n",
    "                    #     h2h_[num_train,deg,mu,lamb],regret_rd_[num_train,deg,mu,lamb] = h2h_regret_eva.calculate_DDR_vs_Others_h2h_regret(mu,lamb,iteration_all,cost_DDR_Ante_all,cost_RF_Ante_all,cost_Oracle_Ante_all)\n",
    "                    # if benchmark == \"XG\":\n",
    "                    #     h2h_[num_train,deg,mu,lamb],regret_rd_[num_train,deg,mu,lamb] = h2h_regret_eva.calculate_DDR_vs_Others_h2h_regret(mu,lamb,iteration_all,cost_DDR_Ante_all,cost_XG_Ante_all,cost_Oracle_Ante_all)\n",
    "                    if benchmark == \"PG\":\n",
    "                        h2h_[num_train,deg,mu,lamb],regret_rd_[num_train,deg,mu,lamb] = h2h_regret_eva.calculate_DDR_vs_Others_h2h_regret(mu,lamb,iteration_all,cost_DDR_Ante_all,cost_PG_Ante_all,cost_Oracle_Ante_all)\n",
    "                    if benchmark == \"LTR\":\n",
    "                        h2h_[num_train,deg,mu,lamb],regret_rd_[num_train,deg,mu,lamb] = h2h_regret_eva.calculate_DDR_vs_Others_h2h_regret(mu,lamb,iteration_all,cost_DDR_Ante_all,cost_LTR_Ante_all,cost_Oracle_Ante_all)\n",
    "            print(\"num_train = \",num_train,\",deg = \",deg)\n",
    "    return h2h_,regret_rd_"
   ]
  },
  {
   "cell_type": "markdown",
   "id": "7d302445",
   "metadata": {},
   "source": [
    "##### DDR vs SPO"
   ]
  },
  {
   "cell_type": "markdown",
   "id": "53439a40",
   "metadata": {},
   "source": [
    "- N = 500,deg = 1.0"
   ]
  },
  {
   "cell_type": "code",
   "execution_count": 16,
   "id": "68c57aeb",
   "metadata": {},
   "outputs": [],
   "source": [
    "# num_train = 1000\n",
    "# deg = deg_all[0]\n",
    "# mu = 0.75\n",
    "# lamb = 0.8\n",
    "# file_name = Result_dir + f'DDR_vs_SPO_mu={mu}_lamb={lamb}_N={num_train}_deg={deg}'\n",
    "# h2h_ddr_wo_vs_spo_wo,regret_rd_ddr_wo_vs_spo_wo = calculate_h2h_regret_this_vs_benchmarks(num_train_all,deg_all,'cost_DDR_Ante_all.pkl','cost_spo+_Ante_all.pkl',True,mu,lamb)\n",
    "\n",
    "# all_x = h2h_ddr_wo_vs_spo_wo[num_train,deg] * 100\n",
    "# all_y = regret_rd_ddr_wo_vs_spo_wo[num_train,deg] * 100\n",
    "# Figure_H2H_Regret.figure_plot_upright(all_x, all_y, file_name, size = (5, 5), move = [-0.07, 0.07, 0.35, 0.55], ysame = 0, yrange = [6,6], sublabel = '', ypio = 0)"
   ]
  },
  {
   "cell_type": "markdown",
   "id": "62766e9d",
   "metadata": {},
   "source": [
    "- N = 500,deg = 4.0"
   ]
  },
  {
   "cell_type": "code",
   "execution_count": 17,
   "id": "abc8ab71",
   "metadata": {},
   "outputs": [],
   "source": [
    "# num_train = 500\n",
    "# deg = deg_all[2]\n",
    "# mu = 0.75\n",
    "# lamb = 0.8\n",
    "# file_name = Result_dir + f'DDR_vs_SPO_mu={mu}_lamb={lamb}_N={num_train}_deg={deg}'\n",
    "# all_x = h2h_ddr_vs_spo[num_train,deg,mu,lamb] * 100\n",
    "# all_y = regret_rd_ddr_vs_spo[num_train,deg,mu,lamb] * 100\n",
    "# Figure_H2H_Regret.figure_plot_upright(all_x, all_y, file_name, size = (5, 5), move = [-0.07, 0.07, 0.35, 0.55], ysame = 0, yrange = [6,6], sublabel = '', ypio = 0)"
   ]
  },
  {
   "cell_type": "markdown",
   "id": "bdaf15c6",
   "metadata": {},
   "source": [
    "- N = 500,deg = 8.0"
   ]
  },
  {
   "cell_type": "code",
   "execution_count": 18,
   "id": "29ac8334",
   "metadata": {},
   "outputs": [],
   "source": [
    "# num_train = 500\n",
    "# deg = deg_all[3]\n",
    "# mu = 0.75\n",
    "# lamb = 0.8\n",
    "# file_name = Result_dir + f'DDR_vs_SPO_mu={mu}_lamb={lamb}_N={num_train}_deg={deg}'\n",
    "# all_x = h2h_ddr_vs_spo[num_train,deg,mu,lamb] * 100\n",
    "# all_y = regret_rd_ddr_vs_spo[num_train,deg,mu,lamb] * 100\n",
    "# Figure_H2H_Regret.figure_plot_upright(all_x, all_y, file_name, size = (5, 5), move = [-0.07, 0.07, 0.35, 0.55], ysame = 0, yrange = [6,6], sublabel = '', ypio = 0)"
   ]
  },
  {
   "cell_type": "markdown",
   "id": "a985bbf6",
   "metadata": {},
   "source": [
    "##### DDR vs PG"
   ]
  },
  {
   "cell_type": "code",
   "execution_count": 19,
   "id": "e82f9ffa",
   "metadata": {},
   "outputs": [],
   "source": [
    "# h2h_ddr_vs_pg,regret_rd_ddr_vs_pg = obtain_DDR_vs_benchmarks_h2h_regret(DataPath_Parent,num_train_all,deg_all,e,num_test,x_dist,e_dist,mu_all,lamb_all,\"PG\")"
   ]
  },
  {
   "cell_type": "markdown",
   "id": "1e795192",
   "metadata": {},
   "source": [
    "- N = 500, deg = 8.0"
   ]
  },
  {
   "cell_type": "code",
   "execution_count": 20,
   "id": "4196b0d8",
   "metadata": {},
   "outputs": [],
   "source": [
    "# num_train = 500\n",
    "# deg = deg_all[0]\n",
    "# mu = 0.75\n",
    "# lamb = 0.8\n",
    "# file_name = Result_dir + f'DDR_vs_PG_mu={mu}_lamb={lamb}_N={num_train}_deg={deg}'\n",
    "# all_x = h2h_ddr_vs_pg[num_train,deg,mu,lamb] * 100\n",
    "# all_y = regret_rd_ddr_vs_pg[num_train,deg,mu,lamb] * 100\n",
    "# Figure_H2H_Regret.figure_plot_upright(all_x, all_y, file_name, size = (5, 5), move = [-0.07, 0.07, 0.35, 0.55], ysame = 0, yrange = [6,6], sublabel = '', ypio = 0)"
   ]
  },
  {
   "cell_type": "markdown",
   "id": "53919454",
   "metadata": {},
   "source": [
    "##### DDR vs LTR"
   ]
  },
  {
   "cell_type": "code",
   "execution_count": 21,
   "id": "21fe7ef4",
   "metadata": {},
   "outputs": [],
   "source": [
    "# h2h_ddr_vs_ltr,regret_rd_ddr_vs_ltr = obtain_DDR_vs_benchmarks_h2h_regret(DataPath_Parent,num_train_all,deg_all,e,num_test,x_dist,e_dist,mu_all,lamb_all,\"LTR\")"
   ]
  },
  {
   "cell_type": "markdown",
   "id": "c5d1b34a",
   "metadata": {},
   "source": [
    "- N = 500, deg = 8.0"
   ]
  },
  {
   "cell_type": "code",
   "execution_count": 22,
   "id": "1ed9a5ce",
   "metadata": {},
   "outputs": [],
   "source": [
    "# num_train = 500\n",
    "# deg = deg_all[0]\n",
    "# mu = 0.75\n",
    "# lamb = 0.8\n",
    "# file_name = Result_dir + f'DDR_vs_LTR_mu={mu}_lamb={lamb}_N={num_train}_deg={deg}'\n",
    "# all_x = h2h_ddr_vs_ltr[num_train,deg,mu,lamb] * 100\n",
    "# all_y = regret_rd_ddr_vs_ltr[num_train,deg,mu,lamb] * 100\n",
    "# Figure_H2H_Regret.figure_plot_upright(all_x, all_y, file_name, size = (5, 5), move = [-0.07, 0.07, 0.35, 0.55], ysame = 0, yrange = [6,6], sublabel = '', ypio = 0)"
   ]
  },
  {
   "cell_type": "markdown",
   "id": "28ec9ded",
   "metadata": {},
   "source": [
    "##### DDR vs OLS"
   ]
  },
  {
   "cell_type": "code",
   "execution_count": 23,
   "id": "cf374c26",
   "metadata": {},
   "outputs": [],
   "source": [
    "# h2h_ddr_vs_ols,regret_rd_ddr_vs_ols = obtain_DDR_vs_benchmarks_h2h_regret(DataPath_Parent,num_train_all,deg_all,e,num_test,x_dist,e_dist,mu_all,lamb_all,\"OLS\")"
   ]
  },
  {
   "cell_type": "markdown",
   "id": "2c55b3a3",
   "metadata": {},
   "source": [
    "- N = 500, deg = 8.0"
   ]
  },
  {
   "cell_type": "code",
   "execution_count": 24,
   "id": "81fb2ffd",
   "metadata": {},
   "outputs": [],
   "source": [
    "# num_train = 500\n",
    "# deg = deg_all[0]\n",
    "# mu = 0.75\n",
    "# lamb = 0.8\n",
    "# file_name = Result_dir + f'DDR_vs_OLS_mu={mu}_lamb={lamb}_N={num_train}_deg={deg}'\n",
    "# all_x = h2h_ddr_vs_ols[num_train,deg,mu,lamb] * 100\n",
    "# all_y = regret_rd_ddr_vs_ols[num_train,deg,mu,lamb] * 100\n",
    "# Figure_H2H_Regret.figure_plot_upright(all_x, all_y, file_name, size = (5, 5), move = [-0.07, 0.07, 0.35, 0.55], ysame = 0, yrange = [6,6], sublabel = '', ypio = 0)"
   ]
  },
  {
   "cell_type": "markdown",
   "id": "4cc3d1dd",
   "metadata": {},
   "source": [
    "### Run Approahces with quadratic term"
   ]
  },
  {
   "cell_type": "markdown",
   "id": "03bb9f7d",
   "metadata": {},
   "source": [
    "##### DDR with quadratic"
   ]
  },
  {
   "cell_type": "code",
   "execution_count": 25,
   "id": "dbc434eb",
   "metadata": {},
   "outputs": [],
   "source": [
    "# for num_train in num_train_all:\n",
    "#     for deg in deg_all:\n",
    "#         mis = deg # model misspecification\n",
    "#         DataPath = DataPath_Parent + f\"data_size={num_train}_deg={deg}_e={e}_p={p}_num_test={num_test}\"+\"_x_dist=\"+x_dist+\"_e_dist=\"+e_dist+\"/\"\n",
    "#         print(\"DataPath:\", DataPath)\n",
    "#         if os.path.exists(DataPath+\"cost_DDR_Ante_quad_all.pkl\"):\n",
    "#             print(\"Results already exist\")\n",
    "#         else:\n",
    "#             ILA.Run_DDR_Quadratic(DataPath,mu_all,lamb_all,arcs, grid,mis,bump,iteration_all,num_feat,data_generation_process)"
   ]
  },
  {
   "cell_type": "markdown",
   "id": "575bee7d",
   "metadata": {},
   "source": [
    "##### SPO+ with quadratic"
   ]
  },
  {
   "cell_type": "code",
   "execution_count": 26,
   "id": "007948f8",
   "metadata": {},
   "outputs": [
    {
     "name": "stdout",
     "output_type": "stream",
     "text": [
      "DataPath: /Users/zhangxun/Dropbox/Research/Decision_Driven_Regularization/Data_JOC_R1_Submit/Shortest_Path_Final/Model_Mis_Data_Size_SPO_Data_Generation/3by3_grid_All/data_size=50_deg=1.0_e=0.5_p=5_num_test=1000_x_dist=uniform_e_dist=normal/\n",
      "['spo+'] : iter= 20 ,cost_EPO_Ante= 15.973003697616136\n",
      "['spo+'] : iter= 40 ,cost_EPO_Ante= 15.797280205943032\n",
      "['spo+'] : iter= 60 ,cost_EPO_Ante= 16.017947248079686\n",
      "['spo+'] : iter= 80 ,cost_EPO_Ante= 15.930057030181253\n",
      "DataPath: /Users/zhangxun/Dropbox/Research/Decision_Driven_Regularization/Data_JOC_R1_Submit/Shortest_Path_Final/Model_Mis_Data_Size_SPO_Data_Generation/3by3_grid_All/data_size=100_deg=1.0_e=0.5_p=5_num_test=1000_x_dist=uniform_e_dist=normal/\n",
      "['spo+'] : iter= 20 ,cost_EPO_Ante= 16.015595837542126\n",
      "['spo+'] : iter= 40 ,cost_EPO_Ante= 15.704653694395427\n",
      "['spo+'] : iter= 60 ,cost_EPO_Ante= 15.856408170956202\n",
      "['spo+'] : iter= 80 ,cost_EPO_Ante= 15.450785165219932\n",
      "DataPath: /Users/zhangxun/Dropbox/Research/Decision_Driven_Regularization/Data_JOC_R1_Submit/Shortest_Path_Final/Model_Mis_Data_Size_SPO_Data_Generation/3by3_grid_All/data_size=200_deg=1.0_e=0.5_p=5_num_test=1000_x_dist=uniform_e_dist=normal/\n",
      "['spo+'] : iter= 20 ,cost_EPO_Ante= 15.400449773173143\n",
      "['spo+'] : iter= 40 ,cost_EPO_Ante= 14.8098230467935\n",
      "['spo+'] : iter= 60 ,cost_EPO_Ante= 15.374154431053876\n",
      "['spo+'] : iter= 80 ,cost_EPO_Ante= 15.2707598524789\n",
      "DataPath: /Users/zhangxun/Dropbox/Research/Decision_Driven_Regularization/Data_JOC_R1_Submit/Shortest_Path_Final/Model_Mis_Data_Size_SPO_Data_Generation/3by3_grid_All/data_size=500_deg=1.0_e=0.5_p=5_num_test=1000_x_dist=uniform_e_dist=normal/\n",
      "['spo+'] : iter= 20 ,cost_EPO_Ante= 15.206566619746665\n",
      "['spo+'] : iter= 40 ,cost_EPO_Ante= 14.682270288717147\n",
      "['spo+'] : iter= 60 ,cost_EPO_Ante= 15.207050389953027\n",
      "['spo+'] : iter= 80 ,cost_EPO_Ante= 14.985486688922727\n",
      "DataPath: /Users/zhangxun/Dropbox/Research/Decision_Driven_Regularization/Data_JOC_R1_Submit/Shortest_Path_Final/Model_Mis_Data_Size_SPO_Data_Generation/3by3_grid_All/data_size=1000_deg=1.0_e=0.5_p=5_num_test=1000_x_dist=uniform_e_dist=normal/\n"
     ]
    },
    {
     "ename": "KeyboardInterrupt",
     "evalue": "",
     "output_type": "error",
     "traceback": [
      "\u001b[0;31m---------------------------------------------------------------------------\u001b[0m",
      "\u001b[0;31mKeyboardInterrupt\u001b[0m                         Traceback (most recent call last)",
      "Cell \u001b[0;32mIn[26], line 10\u001b[0m\n\u001b[1;32m      8\u001b[0m     \u001b[38;5;28mprint\u001b[39m(\u001b[38;5;124m\"\u001b[39m\u001b[38;5;124mResults already exist\u001b[39m\u001b[38;5;124m\"\u001b[39m)\n\u001b[1;32m      9\u001b[0m \u001b[38;5;28;01melse\u001b[39;00m:\n\u001b[0;32m---> 10\u001b[0m     \u001b[43mILA\u001b[49m\u001b[38;5;241;43m.\u001b[39;49m\u001b[43mrun_EPO_approaches_Quadratic\u001b[49m\u001b[43m(\u001b[49m\u001b[43mDataPath\u001b[49m\u001b[43m,\u001b[49m\u001b[43mmethod_names\u001b[49m\u001b[43m,\u001b[49m\u001b[43marcs\u001b[49m\u001b[43m,\u001b[49m\u001b[43m \u001b[49m\u001b[43mgrid\u001b[49m\u001b[43m,\u001b[49m\u001b[43mmis\u001b[49m\u001b[43m,\u001b[49m\u001b[43mbump\u001b[49m\u001b[43m,\u001b[49m\u001b[43miteration_all\u001b[49m\u001b[43m,\u001b[49m\u001b[43mnum_feat\u001b[49m\u001b[43m,\u001b[49m\u001b[43mdata_generation_process\u001b[49m\u001b[43m)\u001b[49m\n",
      "File \u001b[0;32m~/Dropbox/Research/Decision_Driven_Regularization/Code_MacBook/Decision_Driven_Regularization/JOC_R1_Submit/Shortest_Path_Reproduce/Integrated_Learning_Approaches.py:108\u001b[0m, in \u001b[0;36mrun_EPO_approaches_Quadratic\u001b[0;34m(DataPath, method_names, arcs, grid, mis, bump, iteration_all, num_feat, data_generation_process)\u001b[0m\n\u001b[1;32m    106\u001b[0m batch_size \u001b[38;5;241m=\u001b[39m \u001b[38;5;241m20\u001b[39m\n\u001b[1;32m    107\u001b[0m num_epochs \u001b[38;5;241m=\u001b[39m \u001b[38;5;241m1000\u001b[39m\n\u001b[0;32m--> 108\u001b[0m cost_EPO_Post_all,cost_EPO_Ante_all,RMSE_in_all,RMSE_out_all \u001b[38;5;241m=\u001b[39m \u001b[43mPYEPO_Proc\u001b[49m\u001b[38;5;241;43m.\u001b[39;49m\u001b[43mImplement_EPO_quad\u001b[49m\u001b[43m(\u001b[49m\u001b[43mDataPath\u001b[49m\u001b[43m,\u001b[49m\u001b[43miteration_all\u001b[49m\u001b[43m,\u001b[49m\u001b[43mbatch_size\u001b[49m\u001b[43m,\u001b[49m\u001b[43mnum_epochs\u001b[49m\u001b[43m,\u001b[49m\u001b[43mmethod_names\u001b[49m\u001b[43m,\u001b[49m\u001b[43m\\\u001b[49m\n\u001b[1;32m    109\u001b[0m \u001b[43m                                            \u001b[49m\u001b[43mW_star_all\u001b[49m\u001b[43m,\u001b[49m\u001b[43mbump\u001b[49m\u001b[43m,\u001b[49m\u001b[43mx_train_all\u001b[49m\u001b[43m,\u001b[49m\u001b[43mc_train_all\u001b[49m\u001b[43m,\u001b[49m\u001b[43mx_test_all\u001b[49m\u001b[43m,\u001b[49m\u001b[43mc_test_all\u001b[49m\u001b[43m,\u001b[49m\u001b[43m\\\u001b[49m\n\u001b[1;32m    110\u001b[0m \u001b[43m                                            \u001b[49m\u001b[43marcs\u001b[49m\u001b[43m,\u001b[49m\u001b[43mgrid\u001b[49m\u001b[43m,\u001b[49m\u001b[43mperfs\u001b[49m\u001b[43m,\u001b[49m\u001b[43mnum_feat\u001b[49m\u001b[43m,\u001b[49m\u001b[43mmis\u001b[49m\u001b[43m,\u001b[49m\u001b[43mdata_generation_process\u001b[49m\u001b[43m,\u001b[49m\u001b[43mx_train_quad_all\u001b[49m\u001b[43m,\u001b[49m\u001b[43mx_test_quad_all\u001b[49m\u001b[43m)\u001b[49m\n\u001b[1;32m    112\u001b[0m \u001b[38;5;28;01mwith\u001b[39;00m \u001b[38;5;28mopen\u001b[39m(DataPath\u001b[38;5;241m+\u001b[39m\u001b[38;5;124m'\u001b[39m\u001b[38;5;124mcost_\u001b[39m\u001b[38;5;124m'\u001b[39m\u001b[38;5;241m+\u001b[39mmethod_names[\u001b[38;5;241m0\u001b[39m]\u001b[38;5;241m+\u001b[39m\u001b[38;5;124m'\u001b[39m\u001b[38;5;124m_Ante_quad_all.pkl\u001b[39m\u001b[38;5;124m'\u001b[39m, \u001b[38;5;124m\"\u001b[39m\u001b[38;5;124mwb\u001b[39m\u001b[38;5;124m\"\u001b[39m) \u001b[38;5;28;01mas\u001b[39;00m tf:\n\u001b[1;32m    113\u001b[0m     pickle\u001b[38;5;241m.\u001b[39mdump(cost_EPO_Ante_all,tf)\n",
      "File \u001b[0;32m~/Dropbox/Research/Decision_Driven_Regularization/Code_MacBook/Decision_Driven_Regularization/JOC_R1_Submit/Shortest_Path_Reproduce/PYEPO.py:242\u001b[0m, in \u001b[0;36mEPO_Processing.Implement_EPO_quad\u001b[0;34m(self, DataPath, iteration_all, batch_size, num_epochs, method_names, W_star_all, bump, x_train_all, c_train_all, x_test_all, c_test_all, arcs, grid, perfs, num_feat, mis, data_generation_process, x_train_quad_all, x_test_quad_all)\u001b[0m\n\u001b[1;32m    240\u001b[0m DataPath_seed \u001b[38;5;241m=\u001b[39m DataPath \u001b[38;5;241m+\u001b[39m\u001b[38;5;124m\"\u001b[39m\u001b[38;5;124miter=\u001b[39m\u001b[38;5;124m\"\u001b[39m\u001b[38;5;241m+\u001b[39m\u001b[38;5;28mstr\u001b[39m(\u001b[38;5;28miter\u001b[39m)\u001b[38;5;241m+\u001b[39m\u001b[38;5;124m\"\u001b[39m\u001b[38;5;124m/\u001b[39m\u001b[38;5;124m\"\u001b[39m\n\u001b[1;32m    241\u001b[0m pathlib\u001b[38;5;241m.\u001b[39mPath(DataPath_seed)\u001b[38;5;241m.\u001b[39mmkdir(parents\u001b[38;5;241m=\u001b[39m\u001b[38;5;28;01mTrue\u001b[39;00m, exist_ok\u001b[38;5;241m=\u001b[39m\u001b[38;5;28;01mTrue\u001b[39;00m)\n\u001b[0;32m--> 242\u001b[0m W_EPO_all[\u001b[38;5;28miter\u001b[39m],w0_EPO_all[\u001b[38;5;28miter\u001b[39m] \u001b[38;5;241m=\u001b[39m \u001b[43mepo_runner\u001b[49m\u001b[38;5;241;43m.\u001b[39;49m\u001b[43mrun\u001b[49m\u001b[43m(\u001b[49m\u001b[43mmethod_names\u001b[49m\u001b[43m,\u001b[49m\u001b[43mDataPath_seed\u001b[49m\u001b[43m,\u001b[49m\u001b[43mbatch_size\u001b[49m\u001b[43m,\u001b[49m\u001b[43mnum_feat_quad\u001b[49m\u001b[43m,\u001b[49m\u001b[43mgrid\u001b[49m\u001b[43m,\u001b[49m\u001b[43mnum_epochs\u001b[49m\u001b[43m,\u001b[49m\u001b[43m\\\u001b[49m\n\u001b[1;32m    243\u001b[0m \u001b[43m                                \u001b[49m\u001b[43mx_train_quad_all\u001b[49m\u001b[43m[\u001b[49m\u001b[38;5;28;43miter\u001b[39;49m\u001b[43m]\u001b[49m\u001b[43m,\u001b[49m\u001b[43mc_train_all\u001b[49m\u001b[43m[\u001b[49m\u001b[38;5;28;43miter\u001b[39;49m\u001b[43m]\u001b[49m\u001b[43m,\u001b[49m\u001b[43marcs\u001b[49m\u001b[43m)\u001b[49m\n\u001b[1;32m    245\u001b[0m cost_pred \u001b[38;5;241m=\u001b[39m (W_EPO_all[\u001b[38;5;28miter\u001b[39m] \u001b[38;5;241m@\u001b[39m x_test_quad_all[\u001b[38;5;28miter\u001b[39m]\u001b[38;5;241m.\u001b[39mT)\u001b[38;5;241m.\u001b[39mT \u001b[38;5;241m+\u001b[39m w0_EPO_all[\u001b[38;5;28miter\u001b[39m]\n\u001b[1;32m    246\u001b[0m cost_in \u001b[38;5;241m=\u001b[39m (W_EPO_all[\u001b[38;5;28miter\u001b[39m] \u001b[38;5;241m@\u001b[39m x_train_quad_all[\u001b[38;5;28miter\u001b[39m]\u001b[38;5;241m.\u001b[39mT)\u001b[38;5;241m.\u001b[39mT \u001b[38;5;241m+\u001b[39m w0_EPO_all[\u001b[38;5;28miter\u001b[39m]\n",
      "File \u001b[0;32m~/Dropbox/Research/Decision_Driven_Regularization/Code_MacBook/Decision_Driven_Regularization/JOC_R1_Submit/Shortest_Path_Reproduce/PYEPO.py:174\u001b[0m, in \u001b[0;36mPyEPO_Method.run\u001b[0;34m(self, method_names, DataPath_seed, batch_size, num_feat, grid, num_epochs, x_train, c_train, arcs)\u001b[0m\n\u001b[1;32m    170\u001b[0m \u001b[38;5;28;01mif\u001b[39;00m method_name \u001b[38;5;241m==\u001b[39m \u001b[38;5;124m\"\u001b[39m\u001b[38;5;124mspo+\u001b[39m\u001b[38;5;124m\"\u001b[39m:\n\u001b[1;32m    171\u001b[0m     \u001b[38;5;66;03m# print(\"=========== Run SPO,\",DataPath_seed)\u001b[39;00m\n\u001b[1;32m    172\u001b[0m \u001b[38;5;66;03m# Obtain SPO cost\u001b[39;00m\n\u001b[1;32m    173\u001b[0m     spop \u001b[38;5;241m=\u001b[39m pyepo\u001b[38;5;241m.\u001b[39mfunc\u001b[38;5;241m.\u001b[39mSPOPlus(optmodel, processes\u001b[38;5;241m=\u001b[39m\u001b[38;5;241m2\u001b[39m)\n\u001b[0;32m--> 174\u001b[0m     cost_SPO,W_EPO_mat,w0_EPO \u001b[38;5;241m=\u001b[39m \u001b[38;5;28;43mself\u001b[39;49m\u001b[38;5;241;43m.\u001b[39;49m\u001b[43mImplement_PyEPO\u001b[49m\u001b[43m(\u001b[49m\u001b[43marcs\u001b[49m\u001b[43m,\u001b[49m\u001b[43mgrid\u001b[49m\u001b[43m,\u001b[49m\u001b[43mnum_feat\u001b[49m\u001b[43m,\u001b[49m\u001b[43m \u001b[49m\u001b[43mspop\u001b[49m\u001b[43m,\u001b[49m\u001b[43m \u001b[49m\u001b[43mmethod_name\u001b[49m\u001b[43m,\u001b[49m\u001b[43m \u001b[49m\u001b[43mloader_train\u001b[49m\u001b[43m,\u001b[49m\u001b[43mnum_epochs\u001b[49m\u001b[43m,\u001b[49m\u001b[43m \u001b[49m\u001b[38;5;241;43m1e-3\u001b[39;49m\u001b[43m)\u001b[49m\n\u001b[1;32m    175\u001b[0m     rst_EPO[\u001b[38;5;124m\"\u001b[39m\u001b[38;5;124mSPO\u001b[39m\u001b[38;5;124m\"\u001b[39m] \u001b[38;5;241m=\u001b[39m cost_SPO\n\u001b[1;32m    177\u001b[0m \u001b[38;5;28;01mif\u001b[39;00m method_name \u001b[38;5;241m==\u001b[39m \u001b[38;5;124m\"\u001b[39m\u001b[38;5;124mpg\u001b[39m\u001b[38;5;124m\"\u001b[39m:\n\u001b[1;32m    178\u001b[0m     \u001b[38;5;66;03m# print(\"=========== Run PG,\",DataPath_seed)\u001b[39;00m\n",
      "File \u001b[0;32m~/Dropbox/Research/Decision_Driven_Regularization/Code_MacBook/Decision_Driven_Regularization/JOC_R1_Submit/Shortest_Path_Reproduce/PYEPO.py:145\u001b[0m, in \u001b[0;36mPyEPO_Method.Implement_PyEPO\u001b[0;34m(self, arcs, grid, num_feat, loss_func, method_name, loader_train, num_epochs, lr)\u001b[0m\n\u001b[1;32m    142\u001b[0m W_EPO_mat \u001b[38;5;241m=\u001b[39m (reg\u001b[38;5;241m.\u001b[39mlinear\u001b[38;5;241m.\u001b[39mweight\u001b[38;5;241m.\u001b[39mdata)\u001b[38;5;241m.\u001b[39mnumpy()\n\u001b[1;32m    143\u001b[0m w0_EPO \u001b[38;5;241m=\u001b[39m (reg\u001b[38;5;241m.\u001b[39mlinear\u001b[38;5;241m.\u001b[39mbias\u001b[38;5;241m.\u001b[39mdata)\u001b[38;5;241m.\u001b[39mnumpy()\n\u001b[0;32m--> 145\u001b[0m cost_arr \u001b[38;5;241m=\u001b[39m \u001b[43mperfs\u001b[49m\u001b[38;5;241;43m.\u001b[39;49m\u001b[43mcompute_EPO_Cost\u001b[49m\u001b[43m(\u001b[49m\u001b[43mfull_shortest_model\u001b[49m\u001b[43m,\u001b[49m\u001b[43mreg\u001b[49m\u001b[43m,\u001b[49m\u001b[43m \u001b[49m\u001b[43mloader_train\u001b[49m\u001b[43m,\u001b[49m\u001b[43marcs\u001b[49m\u001b[43m,\u001b[49m\u001b[43mgrid\u001b[49m\u001b[43m)\u001b[49m\n\u001b[1;32m    146\u001b[0m \u001b[38;5;66;03m# 终止条件计算\u001b[39;00m\n\u001b[1;32m    147\u001b[0m diff \u001b[38;5;241m=\u001b[39m \u001b[38;5;28mabs\u001b[39m(np\u001b[38;5;241m.\u001b[39mnanmean(cost_arr) \u001b[38;5;241m-\u001b[39m prev_cost_mean)\n",
      "File \u001b[0;32m~/Dropbox/Research/Decision_Driven_Regularization/Code_MacBook/Decision_Driven_Regularization/JOC_R1_Submit/Shortest_Path_Reproduce/Performance.py:28\u001b[0m, in \u001b[0;36mperformance_evaluation.compute_EPO_Cost\u001b[0;34m(self, full_shortest_model, predmodel, dataloader, arcs, grid)\u001b[0m\n\u001b[1;32m     25\u001b[0m \u001b[38;5;66;03m# print(\"cp[0] = \",cp[0])\u001b[39;00m\n\u001b[1;32m     26\u001b[0m \u001b[38;5;66;03m# solve\u001b[39;00m\n\u001b[1;32m     27\u001b[0m \u001b[38;5;28;01mfor\u001b[39;00m j \u001b[38;5;129;01min\u001b[39;00m \u001b[38;5;28mrange\u001b[39m(cp\u001b[38;5;241m.\u001b[39mshape[\u001b[38;5;241m0\u001b[39m]):\n\u001b[0;32m---> 28\u001b[0m     sol_pred \u001b[38;5;241m=\u001b[39m \u001b[43mfull_shortest_model\u001b[49m\u001b[38;5;241;43m.\u001b[39;49m\u001b[43msolve_Shortest_Path\u001b[49m\u001b[43m(\u001b[49m\u001b[43marcs\u001b[49m\u001b[43m,\u001b[49m\u001b[43mcp\u001b[49m\u001b[43m[\u001b[49m\u001b[43mj\u001b[49m\u001b[43m]\u001b[49m\u001b[43m,\u001b[49m\u001b[43mgrid\u001b[49m\u001b[43m)\u001b[49m\n\u001b[1;32m     29\u001b[0m     cost_pred \u001b[38;5;241m=\u001b[39m np\u001b[38;5;241m.\u001b[39mdot(sol_pred, c[j]\u001b[38;5;241m.\u001b[39mto(\u001b[38;5;124m\"\u001b[39m\u001b[38;5;124mcpu\u001b[39m\u001b[38;5;124m\"\u001b[39m)\u001b[38;5;241m.\u001b[39mdetach()\u001b[38;5;241m.\u001b[39mnumpy())\n\u001b[1;32m     30\u001b[0m     cost_pred_arr\u001b[38;5;241m.\u001b[39mappend(cost_pred)\n",
      "File \u001b[0;32m~/Dropbox/Research/Decision_Driven_Regularization/Code_MacBook/Decision_Driven_Regularization/JOC_R1_Submit/Shortest_Path_Reproduce/Shortest_Path_Model.py:50\u001b[0m, in \u001b[0;36mMy_ShortestPathModel.solve_Shortest_Path\u001b[0;34m(self, arcs, cost, grid)\u001b[0m\n\u001b[1;32m     47\u001b[0m         \u001b[38;5;66;03m# transition\u001b[39;00m\n\u001b[1;32m     48\u001b[0m         \u001b[38;5;28;01melse\u001b[39;00m:\n\u001b[1;32m     49\u001b[0m             m\u001b[38;5;241m.\u001b[39maddConstr(expr \u001b[38;5;241m==\u001b[39m \u001b[38;5;241m0\u001b[39m)\n\u001b[0;32m---> 50\u001b[0m m\u001b[38;5;241m.\u001b[39msetObjective( \u001b[38;5;28msum\u001b[39m([cost[ind] \u001b[38;5;241m*\u001b[39m x[arcs[ind]] \u001b[38;5;28;01mfor\u001b[39;00m ind \u001b[38;5;129;01min\u001b[39;00m \u001b[38;5;28mrange\u001b[39m(\u001b[38;5;28mlen\u001b[39m(arcs))]) , GRB\u001b[38;5;241m.\u001b[39mMINIMIZE)\n\u001b[1;32m     51\u001b[0m m\u001b[38;5;241m.\u001b[39moptimize()\n\u001b[1;32m     52\u001b[0m sol \u001b[38;5;241m=\u001b[39m m\u001b[38;5;241m.\u001b[39mgetAttr(\u001b[38;5;124m'\u001b[39m\u001b[38;5;124mx\u001b[39m\u001b[38;5;124m'\u001b[39m)\n",
      "File \u001b[0;32m~/Dropbox/Research/Decision_Driven_Regularization/Code_MacBook/Decision_Driven_Regularization/JOC_R1_Submit/Shortest_Path_Reproduce/Shortest_Path_Model.py:50\u001b[0m, in \u001b[0;36m<listcomp>\u001b[0;34m(.0)\u001b[0m\n\u001b[1;32m     47\u001b[0m         \u001b[38;5;66;03m# transition\u001b[39;00m\n\u001b[1;32m     48\u001b[0m         \u001b[38;5;28;01melse\u001b[39;00m:\n\u001b[1;32m     49\u001b[0m             m\u001b[38;5;241m.\u001b[39maddConstr(expr \u001b[38;5;241m==\u001b[39m \u001b[38;5;241m0\u001b[39m)\n\u001b[0;32m---> 50\u001b[0m m\u001b[38;5;241m.\u001b[39msetObjective( \u001b[38;5;28msum\u001b[39m([\u001b[43mcost\u001b[49m\u001b[43m[\u001b[49m\u001b[43mind\u001b[49m\u001b[43m]\u001b[49m\u001b[43m \u001b[49m\u001b[38;5;241;43m*\u001b[39;49m\u001b[43m \u001b[49m\u001b[43mx\u001b[49m\u001b[43m[\u001b[49m\u001b[43marcs\u001b[49m\u001b[43m[\u001b[49m\u001b[43mind\u001b[49m\u001b[43m]\u001b[49m\u001b[43m]\u001b[49m \u001b[38;5;28;01mfor\u001b[39;00m ind \u001b[38;5;129;01min\u001b[39;00m \u001b[38;5;28mrange\u001b[39m(\u001b[38;5;28mlen\u001b[39m(arcs))]) , GRB\u001b[38;5;241m.\u001b[39mMINIMIZE)\n\u001b[1;32m     51\u001b[0m m\u001b[38;5;241m.\u001b[39moptimize()\n\u001b[1;32m     52\u001b[0m sol \u001b[38;5;241m=\u001b[39m m\u001b[38;5;241m.\u001b[39mgetAttr(\u001b[38;5;124m'\u001b[39m\u001b[38;5;124mx\u001b[39m\u001b[38;5;124m'\u001b[39m)\n",
      "\u001b[0;31mKeyboardInterrupt\u001b[0m: "
     ]
    }
   ],
   "source": [
    "# for num_train in num_train_all:\n",
    "#     method_names = [\"spo+\"]\n",
    "#     for deg in deg_all:\n",
    "#         mis = deg # model misspecification\n",
    "#         DataPath = DataPath_Parent + f\"data_size={num_train}_deg={deg}_e={e}_p={p}_num_test={num_test}\"+\"_x_dist=\"+x_dist+\"_e_dist=\"+e_dist+\"/\"\n",
    "#         print(\"DataPath:\", DataPath)\n",
    "#         if os.path.exists(DataPath+\"cost_spo+_Ante_quad_all.pkl\"):\n",
    "#             print(\"Results already exist\")\n",
    "#         else:\n",
    "#             ILA.run_EPO_approaches_Quadratic(DataPath,method_names,arcs, grid,mis,bump,iteration_all,num_feat,data_generation_process)"
   ]
  },
  {
   "cell_type": "code",
   "execution_count": null,
   "id": "1088e51c",
   "metadata": {},
   "outputs": [],
   "source": [
    "# for num_train in num_train_all:\n",
    "#     method_names = [\"pg\"]\n",
    "#     for deg in deg_all:\n",
    "#         mis = deg # model misspecification\n",
    "#         DataPath = DataPath_Parent + f\"data_size={num_train}_deg={deg}_e={e}_p={p}_num_test={num_test}\"+\"_x_dist=\"+x_dist+\"_e_dist=\"+e_dist+\"/\"\n",
    "#         print(\"DataPath:\", DataPath)\n",
    "#         if os.path.exists(DataPath+\"cost_pg_Ante_quad_all.pkl\"):\n",
    "#             print(\"Results already exist\")\n",
    "#         else:\n",
    "#             ILA.run_EPO_approaches_Quadratic(DataPath,method_names,arcs, grid,mis,bump,iteration_all,num_feat,data_generation_process)"
   ]
  },
  {
   "cell_type": "code",
   "execution_count": null,
   "id": "4d61a351",
   "metadata": {},
   "outputs": [],
   "source": [
    "# for num_train in num_train_all:\n",
    "#     method_names = [\"ltr\"]\n",
    "#     for deg in deg_all:\n",
    "#         mis = deg # model misspecification\n",
    "#         DataPath = DataPath_Parent + f\"data_size={num_train}_deg={deg}_e={e}_p={p}_num_test={num_test}\"+\"_x_dist=\"+x_dist+\"_e_dist=\"+e_dist+\"/\"\n",
    "#         print(\"DataPath:\", DataPath)\n",
    "#         if os.path.exists(DataPath+\"cost_ltr_Ante_quad_all.pkl\"):\n",
    "#             print(\"Results already exist\")\n",
    "#         else:\n",
    "#             ILA.run_EPO_approaches_Quadratic(DataPath,method_names,arcs, grid,mis,bump,iteration_all,num_feat,data_generation_process)"
   ]
  },
  {
   "cell_type": "markdown",
   "id": "4179ef4e",
   "metadata": {},
   "source": [
    "##### OLS with quadratic"
   ]
  },
  {
   "cell_type": "code",
   "execution_count": null,
   "id": "18c3826e",
   "metadata": {},
   "outputs": [],
   "source": [
    "# for num_train in num_train_all:\n",
    "#     for deg in deg_all:\n",
    "#         mis = deg # model misspecification\n",
    "#         DataPath = DataPath_Parent + f\"data_size={num_train}_deg={deg}_e={e}_p={p}_num_test={num_test}\"+\"_x_dist=\"+x_dist+\"_e_dist=\"+e_dist+\"/\"\n",
    "#         print(\"DataPath:\", DataPath)\n",
    "#         if os.path.exists(DataPath+\"cost_OLS_Ante_quad_all.pkl\"):\n",
    "#             print(\"Results already exist\")\n",
    "#         else:\n",
    "#             SLA.Run_OLS_Quadratic(DataPath,arcs, grid,mis,bump,iteration_all,num_feat,data_generation_process)"
   ]
  },
  {
   "cell_type": "markdown",
   "id": "c1d02089",
   "metadata": {},
   "source": [
    "### Comparison"
   ]
  },
  {
   "cell_type": "markdown",
   "id": "cb29f71d",
   "metadata": {},
   "source": [
    "##### Quadratic vs baseline"
   ]
  },
  {
   "cell_type": "markdown",
   "id": "cf69f22d",
   "metadata": {},
   "source": [
    "- OLS quadratic with OLS without quadratic"
   ]
  },
  {
   "cell_type": "code",
   "execution_count": null,
   "id": "e219ebf4",
   "metadata": {},
   "outputs": [],
   "source": [
    "# num_train = 1000\n",
    "# deg = deg_all[1]\n",
    "# mu = 0.75\n",
    "# lamb = 0.8\n",
    "# file_name = Result_dir + f'OLS_wi_vs_OLS_wo_mu={mu}_lamb={lamb}_N={num_train}_deg={deg}'\n",
    "# h2h_ols_wi_vs_ols_wo,regret_rd_ols_wi_vs_ols_wo = calculate_h2h_regret_this_vs_benchmarks(num_train_all,deg_all,'cost_OLS_Ante_quad_all.pkl','cost_OLS_Ante_all.pkl',False,mu,lamb,False)\n",
    "# all_x = h2h_ols_wi_vs_ols_wo[num_train,deg] * 100\n",
    "# all_y = regret_rd_ols_wi_vs_ols_wo[num_train,deg] * 100\n",
    "# Figure_H2H_Regret.figure_plot_upright(all_x, all_y, file_name, size = (5, 5), move = [-0.07, 0.07, 0.35, 0.55], ysame = 0, yrange = [6,6], sublabel = '', ypio = 0)"
   ]
  },
  {
   "cell_type": "markdown",
   "id": "025b08f3",
   "metadata": {},
   "source": [
    "- SPO+ with quadratic with SPO+ without quadratic"
   ]
  },
  {
   "cell_type": "code",
   "execution_count": null,
   "id": "7b8b1b24",
   "metadata": {},
   "outputs": [],
   "source": [
    "deg_all"
   ]
  },
  {
   "cell_type": "code",
   "execution_count": null,
   "id": "b412d3a0",
   "metadata": {},
   "outputs": [],
   "source": [
    "# num_train = 2000\n",
    "# deg = deg_all[0]\n",
    "# mu = 0.75\n",
    "# lamb = 0.8\n",
    "# file_name = Result_dir + f'SPO_wi_vs_SPO_wo_mu={mu}_lamb={lamb}_N={num_train}_deg={deg}'\n",
    "# h2h_spo_wi_vs_spo_wo,regret_rd_spo_wi_vs_spo_wo = calculate_h2h_regret_this_vs_benchmarks(num_train_all,deg_all,'cost_spo+_Ante_quad_all.pkl','cost_spo+_Ante_all.pkl',False,mu,lamb,False)\n",
    "# all_x = h2h_spo_wi_vs_spo_wo[num_train,deg] * 100\n",
    "# all_y = regret_rd_spo_wi_vs_spo_wo[num_train,deg] * 100\n",
    "# Figure_H2H_Regret.figure_plot_upright(all_x, all_y, file_name, size = (5, 5), move = [-0.07, 0.07, 0.35, 0.55], ysame = 0, yrange = [6,6], sublabel = '', ypio = 0)"
   ]
  },
  {
   "cell_type": "markdown",
   "id": "b91a6301",
   "metadata": {},
   "source": [
    "- DDR with quadratic vs DDR without quadratic"
   ]
  },
  {
   "cell_type": "code",
   "execution_count": null,
   "id": "ad7ef4b0",
   "metadata": {},
   "outputs": [],
   "source": [
    "# num_train = 1000\n",
    "# deg = deg_all[1]\n",
    "# mu = 0.75\n",
    "# lamb = 0.8\n",
    "# file_name = Result_dir + f'DDR_wi_vs_DDR_wo_mu={mu}_lamb={lamb}_N={num_train}_deg={deg}'\n",
    "# h2h_ddr_wi_vs_ddr_wo,regret_rd_ddr_wi_vs_ddr_wo = calculate_h2h_regret_this_vs_benchmarks(num_train_all,deg_all,'cost_DDR_Ante_quad_all.pkl','cost_DDR_Ante_all.pkl',True,mu,lamb,True)\n",
    "# all_x = h2h_ddr_wi_vs_ddr_wo[num_train,deg] * 100\n",
    "# all_y = regret_rd_ddr_wi_vs_ddr_wo[num_train,deg] * 100\n",
    "# Figure_H2H_Regret.figure_plot_upright(all_x, all_y, file_name, size = (5, 5), move = [-0.07, 0.07, 0.35, 0.55], ysame = 0, yrange = [6,6], sublabel = '', ypio = 0)"
   ]
  },
  {
   "cell_type": "markdown",
   "id": "6c8c6d8c",
   "metadata": {},
   "source": [
    "- PG with quadratic vs PG without quadratic"
   ]
  },
  {
   "cell_type": "code",
   "execution_count": null,
   "id": "7edcd537",
   "metadata": {},
   "outputs": [],
   "source": [
    "# num_train = 500\n",
    "# deg = deg_all[4]\n",
    "# mu = 0.75\n",
    "# lamb = 0.8\n",
    "# file_name = Result_dir + f'PG_wi_vs_PG_wo_mu={mu}_lamb={lamb}_N={num_train}_deg={deg}'\n",
    "# h2h_pg_wi_vs_pg_wo,regret_rd_pg_wi_vs_pg_wo = calculate_h2h_regret_this_vs_benchmarks(num_train_all,deg_all,'cost_pg_Ante_quad_all.pkl','cost_pg_Ante_all.pkl',False,mu,lamb,False)\n",
    "# all_x = h2h_pg_wi_vs_pg_wo[num_train,deg] * 100\n",
    "# all_y = regret_rd_pg_wi_vs_pg_wo[num_train,deg] * 100\n",
    "# Figure_H2H_Regret.figure_plot_upright(all_x, all_y, file_name, size = (5, 5), move = [-0.07, 0.07, 0.35, 0.55], ysame = 0, yrange = [6,6], sublabel = '', ypio = 0)"
   ]
  },
  {
   "cell_type": "markdown",
   "id": "e500b3a3",
   "metadata": {},
   "source": [
    "- LTR with quadratic vs LTR without quadratic"
   ]
  },
  {
   "cell_type": "code",
   "execution_count": null,
   "id": "ee206f36",
   "metadata": {},
   "outputs": [],
   "source": [
    "# num_train = 500\n",
    "# deg = deg_all[4]\n",
    "# mu = 0.75\n",
    "# lamb = 0.8\n",
    "# file_name = Result_dir + f'LTR_wi_vs_LTR_wo_mu={mu}_lamb={lamb}_N={num_train}_deg={deg}'\n",
    "# h2h_ltr_wi_vs_ltr_wo,regret_rd_ltr_wi_vs_ltr_wo = calculate_h2h_regret_this_vs_benchmarks(num_train_all,deg_all,'cost_ltr_Ante_quad_all.pkl','cost_ltr_Ante_all.pkl',False,mu,lamb,False)\n",
    "# all_x = h2h_ltr_wi_vs_ltr_wo[num_train,deg] * 100\n",
    "# all_y = regret_rd_ltr_wi_vs_ltr_wo[num_train,deg] * 100\n",
    "# Figure_H2H_Regret.figure_plot_upright(all_x, all_y, file_name, size = (5, 5), move = [-0.07, 0.07, 0.35, 0.55], ysame = 0, yrange = [6,6], sublabel = '', ypio = 0)"
   ]
  },
  {
   "cell_type": "markdown",
   "id": "c88c063f",
   "metadata": {},
   "source": [
    "##### DDR vs SPO+ "
   ]
  },
  {
   "cell_type": "markdown",
   "id": "155ecb0e",
   "metadata": {},
   "source": [
    "- DDR without quadratic vs SPO+ without quadratic"
   ]
  },
  {
   "cell_type": "code",
   "execution_count": null,
   "id": "115b2e5e",
   "metadata": {},
   "outputs": [],
   "source": [
    "# num_train = 500\n",
    "# deg = deg_all[4]\n",
    "# mu = 0.75\n",
    "# lamb = 0.8\n",
    "# file_name = Result_dir + f'DDR_wo_vs_SPO_wo_mu={mu}_lamb={lamb}_N={num_train}_deg={deg}'\n",
    "# h2h_ddr_wo_vs_spo_wo,regret_rd_ddr_wo_vs_spo_wo = calculate_h2h_regret_this_vs_benchmarks(num_train_all,deg_all,'cost_DDR_Ante_all.pkl','cost_spo+_Ante_all.pkl',True,mu,lamb,False)\n",
    "# all_x = h2h_ddr_wo_vs_spo_wo[num_train,deg] * 100\n",
    "# all_y = regret_rd_ddr_wo_vs_spo_wo[num_train,deg] * 100\n",
    "# Figure_H2H_Regret.figure_plot_upright(all_x, all_y, file_name, size = (5, 5), move = [-0.07, 0.07, 0.35, 0.55], ysame = 0, yrange = [6,6], sublabel = '', ypio = 0)"
   ]
  },
  {
   "cell_type": "markdown",
   "id": "7fcaf2ff",
   "metadata": {},
   "source": [
    "- DDR quadratic vs SPO+ without quadratic"
   ]
  },
  {
   "cell_type": "code",
   "execution_count": null,
   "id": "6e1b6b85",
   "metadata": {},
   "outputs": [],
   "source": [
    "# num_train = 500\n",
    "# deg = deg_all[4]\n",
    "# mu = 0.75\n",
    "# lamb = 0.8\n",
    "# file_name = Result_dir + f'DDR_wi_vs_SPO_wo_mu={mu}_lamb={lamb}_N={num_train}_deg={deg}'\n",
    "# h2h_ddr_wi_vs_spo_wo,regret_rd_ddr_wi_vs_spo_wo = calculate_h2h_regret_this_vs_benchmarks(num_train_all,deg_all,'cost_DDR_Ante_quad_all.pkl','cost_spo+_Ante_all.pkl',True,mu,lamb,False)\n",
    "# all_x = h2h_ddr_wi_vs_spo_wo[num_train,deg] * 100\n",
    "# all_y = regret_rd_ddr_wi_vs_spo_wo[num_train,deg] * 100\n",
    "# Figure_H2H_Regret.figure_plot_upright(all_x, all_y, file_name, size = (5, 5), move = [-0.07, 0.07, 0.35, 0.55], ysame = 0, yrange = [6,6], sublabel = '', ypio = 0)"
   ]
  },
  {
   "cell_type": "markdown",
   "id": "d122fbbc",
   "metadata": {},
   "source": [
    "- DDR with quadratic vs SPO+ with quadratic "
   ]
  },
  {
   "cell_type": "code",
   "execution_count": null,
   "id": "9f866fbd",
   "metadata": {},
   "outputs": [],
   "source": [
    "# num_train = 500\n",
    "# deg = deg_all[4]\n",
    "# mu = 0.75\n",
    "# lamb = 0.8\n",
    "# file_name = Result_dir + f'DDR_wi_vs_SPO_wi_mu={mu}_lamb={lamb}_N={num_train}_deg={deg}'\n",
    "# h2h_ddr_wi_vs_spo_wi,regret_rd_ddr_wi_vs_spo_wi = calculate_h2h_regret_this_vs_benchmarks(num_train_all,deg_all,'cost_DDR_Ante_quad_all.pkl',\"cost_spo+_Ante_quad_all.pkl\",True,mu,lamb,False)\n",
    "# all_x = h2h_ddr_wi_vs_spo_wi[num_train,deg] * 100\n",
    "# all_y = regret_rd_ddr_wi_vs_spo_wi[num_train,deg] * 100\n",
    "# Figure_H2H_Regret.figure_plot_upright(all_x, all_y, file_name, size = (5, 5), move = [-0.07, 0.07, 0.35, 0.55], ysame = 0, yrange = [6,6], sublabel = '', ypio = 0)"
   ]
  },
  {
   "cell_type": "markdown",
   "id": "3448aad8",
   "metadata": {},
   "source": [
    "##### DDR vs PG"
   ]
  },
  {
   "cell_type": "markdown",
   "id": "22c08511",
   "metadata": {},
   "source": [
    "- DDR without quadratic vs DDR without quadratic"
   ]
  },
  {
   "cell_type": "code",
   "execution_count": null,
   "id": "f14186b4",
   "metadata": {},
   "outputs": [],
   "source": [
    "# num_train = 500\n",
    "# deg = deg_all[4]\n",
    "# mu = 0.75\n",
    "# lamb = 0.8\n",
    "# file_name = Result_dir + f'DDR_wo_vs_PG_wo_mu={mu}_lamb={lamb}_N={num_train}_deg={deg}'\n",
    "# h2h_ddr_wo_vs_pg_wo,regret_rd_ddr_wo_vs_pg_wo = calculate_h2h_regret_this_vs_benchmarks(num_train_all,deg_all,'cost_DDR_Ante_all.pkl','cost_pg_Ante_all.pkl',True,mu,lamb,False)\n",
    "# all_x = h2h_ddr_wo_vs_pg_wo[num_train,deg] * 100\n",
    "# all_y = regret_rd_ddr_wo_vs_pg_wo[num_train,deg] * 100\n",
    "# Figure_H2H_Regret.figure_plot_upright(all_x, all_y, file_name, size = (5, 5), move = [-0.07, 0.07, 0.35, 0.55], ysame = 0, yrange = [6,6], sublabel = '', ypio = 0)"
   ]
  },
  {
   "cell_type": "markdown",
   "id": "7276d81c",
   "metadata": {},
   "source": [
    "- DDR with quadratic vs PG without quadratic"
   ]
  },
  {
   "cell_type": "code",
   "execution_count": null,
   "id": "0a0d6441",
   "metadata": {},
   "outputs": [],
   "source": [
    "# num_train = 500\n",
    "# deg = deg_all[4]\n",
    "# mu = 0.75\n",
    "# lamb = 0.8\n",
    "# file_name = Result_dir + f'DDR_wi_vs_PG_wo_mu={mu}_lamb={lamb}_N={num_train}_deg={deg}'\n",
    "# h2h_ddr_wi_vs_pg_wo,regret_rd_ddr_wi_vs_pg_wo = calculate_h2h_regret_this_vs_benchmarks(num_train_all,deg_all,'cost_DDR_Ante_quad_all.pkl','cost_pg_Ante_all.pkl',True,mu,lamb,False)\n",
    "# all_x = h2h_ddr_wi_vs_pg_wo[num_train,deg] * 100\n",
    "# all_y = regret_rd_ddr_wi_vs_pg_wo[num_train,deg] * 100\n",
    "# Figure_H2H_Regret.figure_plot_upright(all_x, all_y, file_name, size = (5, 5), move = [-0.07, 0.07, 0.35, 0.55], ysame = 0, yrange = [6,6], sublabel = '', ypio = 0)"
   ]
  },
  {
   "cell_type": "markdown",
   "id": "f1a1ea2e",
   "metadata": {},
   "source": [
    "- DDR with quadratic vs PG with quadratic"
   ]
  },
  {
   "cell_type": "code",
   "execution_count": null,
   "id": "bab72f09",
   "metadata": {},
   "outputs": [],
   "source": [
    "# num_train = 500\n",
    "# deg = deg_all[4]\n",
    "# mu = 0.75\n",
    "# lamb = 0.8\n",
    "# file_name = Result_dir + f'DDR_wi_vs_PG_wi_mu={mu}_lamb={lamb}_N={num_train}_deg={deg}'\n",
    "# h2h_ddr_wi_vs_pg_wi,regret_rd_ddr_wi_vs_pg_wi = calculate_h2h_regret_this_vs_benchmarks(num_train_all,deg_all,'cost_DDR_Ante_quad_all.pkl','cost_pg_Ante_quad_all.pkl',True,mu,lamb,False)\n",
    "# all_x = h2h_ddr_wi_vs_pg_wi[num_train,deg] * 100\n",
    "# all_y = regret_rd_ddr_wi_vs_pg_wi[num_train,deg] * 100\n",
    "# Figure_H2H_Regret.figure_plot_upright(all_x, all_y, file_name, size = (5, 5), move = [-0.07, 0.07, 0.35, 0.55], ysame = 0, yrange = [6,6], sublabel = '', ypio = 0)"
   ]
  },
  {
   "cell_type": "markdown",
   "id": "bea040fb",
   "metadata": {},
   "source": [
    "##### DDR vs LTR"
   ]
  },
  {
   "cell_type": "markdown",
   "id": "9620c6cf",
   "metadata": {},
   "source": [
    "- DDR without quadratic with LTR without quadratic"
   ]
  },
  {
   "cell_type": "code",
   "execution_count": null,
   "id": "e279c070",
   "metadata": {},
   "outputs": [],
   "source": [
    "# num_train = 500\n",
    "# deg = deg_all[4]\n",
    "# mu = 0.75\n",
    "# lamb = 0.8\n",
    "# file_name = Result_dir + f'DDR_wo_vs_LTR_wo_mu={mu}_lamb={lamb}_N={num_train}_deg={deg}'\n",
    "# h2h_ddr_wo_vs_ltr_wo,regret_rd_ddr_wo_vs_ltr_wo = calculate_h2h_regret_this_vs_benchmarks(num_train_all,deg_all,'cost_DDR_Ante_all.pkl','cost_ltr_Ante_all.pkl',True,mu,lamb,False)\n",
    "# all_x = h2h_ddr_wo_vs_ltr_wo[num_train,deg] * 100\n",
    "# all_y = regret_rd_ddr_wo_vs_ltr_wo[num_train,deg] * 100\n",
    "# Figure_H2H_Regret.figure_plot_upright(all_x, all_y, file_name, size = (5, 5), move = [-0.07, 0.07, 0.35, 0.55], ysame = 0, yrange = [6,6], sublabel = '', ypio = 0)"
   ]
  },
  {
   "cell_type": "markdown",
   "id": "6c39bae4",
   "metadata": {},
   "source": [
    "- DDR with quadratic vs LTR without quadratic"
   ]
  },
  {
   "cell_type": "code",
   "execution_count": null,
   "id": "9a763dc4",
   "metadata": {},
   "outputs": [],
   "source": [
    "# num_train = 500\n",
    "# deg = deg_all[4]\n",
    "# mu = 0.75\n",
    "# lamb = 0.8\n",
    "# file_name = Result_dir + f'DDR_wi_vs_LTR_wo_mu={mu}_lamb={lamb}_N={num_train}_deg={deg}'\n",
    "# h2h_ddr_wi_vs_ltr_wo,regret_rd_ddr_wi_vs_ltr_wo = calculate_h2h_regret_this_vs_benchmarks(num_train_all,deg_all,'cost_DDR_Ante_quad_all.pkl','cost_ltr_Ante_all.pkl',True,mu,lamb,False)\n",
    "# all_x = h2h_ddr_wi_vs_ltr_wo[num_train,deg] * 100\n",
    "# all_y = regret_rd_ddr_wi_vs_ltr_wo[num_train,deg] * 100\n",
    "# Figure_H2H_Regret.figure_plot_upright(all_x, all_y, file_name, size = (5, 5), move = [-0.07, 0.07, 0.35, 0.55], ysame = 0, yrange = [6,6], sublabel = '', ypio = 0)"
   ]
  },
  {
   "cell_type": "markdown",
   "id": "21856b4b",
   "metadata": {},
   "source": [
    "- DDR with quadratic vs LTR with quadratic"
   ]
  },
  {
   "cell_type": "code",
   "execution_count": null,
   "id": "483f7308",
   "metadata": {},
   "outputs": [],
   "source": [
    "# num_train = 500\n",
    "# deg = deg_all[4]\n",
    "# mu = 0.75\n",
    "# lamb = 0.8\n",
    "# file_name = Result_dir + f'DDR_wi_vs_LTR_wi_mu={mu}_lamb={lamb}_N={num_train}_deg={deg}'\n",
    "# h2h_ddr_wi_vs_ltr_wi,regret_rd_ddr_wi_vs_ltr_wi = calculate_h2h_regret_this_vs_benchmarks(num_train_all,deg_all,'cost_DDR_Ante_quad_all.pkl','cost_ltr_Ante_quad_all.pkl',True,mu,lamb,False)\n",
    "# all_x = h2h_ddr_wi_vs_ltr_wi[num_train,deg] * 100\n",
    "# all_y = regret_rd_ddr_wi_vs_ltr_wi[num_train,deg] * 100\n",
    "# Figure_H2H_Regret.figure_plot_upright(all_x, all_y, file_name, size = (5, 5), move = [-0.07, 0.07, 0.35, 0.55], ysame = 0, yrange = [6,6], sublabel = '', ypio = 0)"
   ]
  },
  {
   "cell_type": "markdown",
   "id": "b494fa9c",
   "metadata": {},
   "source": [
    "##### DDR vs OLS"
   ]
  },
  {
   "cell_type": "markdown",
   "id": "56d6cfcf",
   "metadata": {},
   "source": [
    "- DDR without quadratic with OLS without quadratic"
   ]
  },
  {
   "cell_type": "code",
   "execution_count": null,
   "id": "e3bfabd1",
   "metadata": {},
   "outputs": [],
   "source": [
    "# num_train = 500\n",
    "# deg = deg_all[4]\n",
    "# mu = 0.75\n",
    "# lamb = 0.8\n",
    "# file_name = Result_dir + f'DDR_vs_OLS_mu={mu}_lamb={lamb}_N={num_train}_deg={deg}'\n",
    "# h2h_ddr_wo_vs_ols_wo,regret_rd_ddr_wo_vs_ols_wo = calculate_h2h_regret_this_vs_benchmarks(num_train_all,deg_all,'cost_DDR_Ante_all.pkl','cost_OLS_Ante_all.pkl',True,mu,lamb,False)\n",
    "# all_x = h2h_ddr_wo_vs_ols_wo[num_train,deg] * 100\n",
    "# all_y = regret_rd_ddr_wo_vs_ols_wo[num_train,deg] * 100\n",
    "# Figure_H2H_Regret.figure_plot_upright(all_x, all_y, file_name, size = (5, 5), move = [-0.07, 0.07, 0.35, 0.55], ysame = 0, yrange = [6,6], sublabel = '', ypio = 0)"
   ]
  },
  {
   "cell_type": "markdown",
   "id": "ccaac25d",
   "metadata": {},
   "source": [
    "- DDR with quadratic with OLS without quadratic"
   ]
  },
  {
   "cell_type": "code",
   "execution_count": null,
   "id": "33e4da5b",
   "metadata": {},
   "outputs": [],
   "source": [
    "# num_train = 500\n",
    "# deg = deg_all[4]\n",
    "# mu = 0.75\n",
    "# lamb = 0.8\n",
    "# file_name = Result_dir + f'DDR_wi_vs_OLS_wo_mu={mu}_lamb={lamb}_N={num_train}_deg={deg}'\n",
    "# h2h_ddr_wi_vs_ols_wo,regret_rd_ddr_wi_vs_ols_wo = calculate_h2h_regret_this_vs_benchmarks(num_train_all,deg_all,'cost_DDR_Ante_quad_all.pkl','cost_OLS_Ante_all.pkl',True,mu,lamb,False)\n",
    "\n",
    "# all_x = h2h_ddr_wi_vs_ols_wo[num_train,deg] * 100\n",
    "# all_y = regret_rd_ddr_wi_vs_ols_wo[num_train,deg] * 100\n",
    "# Figure_H2H_Regret.figure_plot_upright(all_x, all_y, file_name, size = (5, 5), move = [-0.07, 0.07, 0.35, 0.55], ysame = 0, yrange = [6,6], sublabel = '', ypio = 0)"
   ]
  },
  {
   "cell_type": "markdown",
   "id": "8377717b",
   "metadata": {},
   "source": [
    "- DDR with quadratic vs OLS with quadratic"
   ]
  },
  {
   "cell_type": "code",
   "execution_count": null,
   "id": "ab10306c",
   "metadata": {},
   "outputs": [],
   "source": [
    "# num_train = 500\n",
    "# deg = deg_all[4]\n",
    "# mu = 0.75\n",
    "# lamb = 0.8\n",
    "# file_name = Result_dir + f'DDR_wi_vs_OLS_wi_mu={mu}_lamb={lamb}_N={num_train}_deg={deg}'\n",
    "# h2h_ddr_wi_vs_ols_wi,regret_rd_ddr_wi_vs_ols_wi = calculate_h2h_regret_this_vs_benchmarks(num_train_all,deg_all,'cost_DDR_Ante_quad_all.pkl','cost_OLS_Ante_quad_all.pkl',True,mu,lamb,False)\n",
    "\n",
    "# all_x = h2h_ddr_wi_vs_ols_wi[num_train,deg] * 100\n",
    "# all_y = regret_rd_ddr_wi_vs_ols_wi[num_train,deg] * 100\n",
    "# Figure_H2H_Regret.figure_plot_upright(all_x, all_y, file_name, size = (5, 5), move = [-0.07, 0.07, 0.35, 0.55], ysame = 0, yrange = [6,6], sublabel = '', ypio = 0)"
   ]
  }
 ],
 "metadata": {
  "kernelspec": {
   "display_name": ".venv",
   "language": "python",
   "name": "python3"
  },
  "language_info": {
   "codemirror_mode": {
    "name": "ipython",
    "version": 3
   },
   "file_extension": ".py",
   "mimetype": "text/x-python",
   "name": "python",
   "nbconvert_exporter": "python",
   "pygments_lexer": "ipython3",
   "version": "3.9.6"
  }
 },
 "nbformat": 4,
 "nbformat_minor": 5
}
