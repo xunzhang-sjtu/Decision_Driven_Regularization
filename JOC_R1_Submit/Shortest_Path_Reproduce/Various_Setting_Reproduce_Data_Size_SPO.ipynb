{
 "cells": [
  {
   "cell_type": "code",
   "execution_count": 1,
   "id": "e5423203",
   "metadata": {},
   "outputs": [],
   "source": [
    "import random\n",
    "import numpy as np\n",
    "import torch\n",
    "import os\n",
    "import pathlib\n",
    "import pickle\n",
    "import pandas as pd\n",
    "torch.manual_seed(42)\n",
    "torch.cuda.manual_seed(42)\n",
    "from Performance import performance_evaluation\n",
    "perfs = performance_evaluation()\n",
    "\n",
    "from Performance import H2h_Regret_Evaluation\n",
    "h2h_regret_eva = H2h_Regret_Evaluation()\n",
    "\n",
    "from Data import Data_Simulator\n",
    "DS_Obj = Data_Simulator()\n",
    "\n",
    "from Oracle import Oracle_Processing\n",
    "Oracle_Proc = Oracle_Processing()\n",
    "\n",
    "from OLS import OLS_Processing\n",
    "OLS_Proc = OLS_Processing()\n",
    "\n",
    "from DDR import DDR_Processing\n",
    "DDR_Proc = DDR_Processing()\n",
    "\n",
    "from PYEPO import EPO_Processing\n",
    "PYEPO_Proc = EPO_Processing()\n",
    "\n",
    "from Data_Load_Store import Load_Store_Methods\n",
    "Data_LSM = Load_Store_Methods()"
   ]
  },
  {
   "cell_type": "code",
   "execution_count": 2,
   "id": "914343e2",
   "metadata": {},
   "outputs": [],
   "source": [
    "import Various_Setting_Params as VSP\n",
    "import Sequential_Learning_Approaches as SLA\n",
    "import Integrated_Learning_Approaches as ILA"
   ]
  },
  {
   "cell_type": "markdown",
   "id": "886e7311",
   "metadata": {},
   "source": [
    "### Parameters"
   ]
  },
  {
   "cell_type": "code",
   "execution_count": 3,
   "id": "f6729fd4",
   "metadata": {},
   "outputs": [],
   "source": [
    "grid = (3,3)"
   ]
  },
  {
   "cell_type": "code",
   "execution_count": 4,
   "id": "554bf254",
   "metadata": {},
   "outputs": [
    {
     "name": "stdout",
     "output_type": "stream",
     "text": [
      "DataPath_parent: /Users/zhangxun/Dropbox/Research/Decision_Driven_Regularization/Data_JOC_R1_Submit/Shortest_Path_Final/Various_Settings_SPO_Data_Generation/3by3_grid/\n"
     ]
    }
   ],
   "source": [
    "data_generation_process = \"SPO_Data_Generation\"\n",
    "# data_generation_process = \"DDR_Data_Generation\"\n",
    "current_directory = os.getcwd()\n",
    "parent_directory = os.path.dirname(current_directory)\n",
    "project_directory = os.path.dirname(os.path.dirname(os.path.dirname(parent_directory)))\n",
    "DataPath_Parent = project_directory + '/Data_JOC_R1_Submit/Shortest_Path_Final/Various_Settings_' + data_generation_process + f'/{grid[0]}by{grid[1]}_grid/'\n",
    "pathlib.Path(DataPath_Parent).mkdir(parents=True, exist_ok=True)\n",
    "print(\"DataPath_parent:\", DataPath_Parent)\n",
    "Result_dir = DataPath_Parent + \"Result/\"\n",
    "pathlib.Path(Result_dir).mkdir(parents=True, exist_ok=True)"
   ]
  },
  {
   "cell_type": "code",
   "execution_count": 5,
   "id": "d2781f36",
   "metadata": {},
   "outputs": [],
   "source": [
    "grid,num_test,lower,upper,coef_seed,x_dist,e_dist,x_low,x_up,x_mean,x_var,bump,iteration_all,batch_size,num_epochs,mu_all,lamb_all = VSP.get_Params(DataPath_Parent)\n",
    "from Network import network_design\n",
    "Network = network_design()\n",
    "arcs,arc_index_mapping = Network._getArcs(grid)\n",
    "d = (grid[0] - 1) * (grid[0] - 1) * 2 + 2 * (grid[0] - 1) # num of arcs\n",
    "num_nodes = grid[0]*grid[0]"
   ]
  },
  {
   "cell_type": "code",
   "execution_count": 6,
   "id": "964552d0",
   "metadata": {},
   "outputs": [],
   "source": [
    "VSP.set_Params_Data(DataPath_Parent)\n",
    "num_feat,p,deg,mis,e,alpha,num_train_all = VSP.get_Params_Data(DataPath_Parent)"
   ]
  },
  {
   "cell_type": "markdown",
   "id": "6a0006fa",
   "metadata": {},
   "source": [
    "#### Data Generation"
   ]
  },
  {
   "cell_type": "code",
   "execution_count": 7,
   "id": "318667b4",
   "metadata": {},
   "outputs": [
    {
     "name": "stdout",
     "output_type": "stream",
     "text": [
      "DataPath: /Users/zhangxun/Dropbox/Research/Decision_Driven_Regularization/Data_JOC_R1_Submit/Shortest_Path_Final/Various_Settings_SPO_Data_Generation/3by3_grid/data_size=50_deg=1.0_e=0.5_p=5_num_test=1000_x_dist=uniform_e_dist=normal/\n",
      "DataPath: /Users/zhangxun/Dropbox/Research/Decision_Driven_Regularization/Data_JOC_R1_Submit/Shortest_Path_Final/Various_Settings_SPO_Data_Generation/3by3_grid/data_size=100_deg=1.0_e=0.5_p=5_num_test=1000_x_dist=uniform_e_dist=normal/\n",
      "DataPath: /Users/zhangxun/Dropbox/Research/Decision_Driven_Regularization/Data_JOC_R1_Submit/Shortest_Path_Final/Various_Settings_SPO_Data_Generation/3by3_grid/data_size=200_deg=1.0_e=0.5_p=5_num_test=1000_x_dist=uniform_e_dist=normal/\n",
      "DataPath: /Users/zhangxun/Dropbox/Research/Decision_Driven_Regularization/Data_JOC_R1_Submit/Shortest_Path_Final/Various_Settings_SPO_Data_Generation/3by3_grid/data_size=500_deg=1.0_e=0.5_p=5_num_test=1000_x_dist=uniform_e_dist=normal/\n",
      "DataPath: /Users/zhangxun/Dropbox/Research/Decision_Driven_Regularization/Data_JOC_R1_Submit/Shortest_Path_Final/Various_Settings_SPO_Data_Generation/3by3_grid/data_size=1000_deg=1.0_e=0.5_p=5_num_test=1000_x_dist=uniform_e_dist=normal/\n"
     ]
    }
   ],
   "source": [
    "for num_train in num_train_all:\n",
    "    DataPath = DataPath_Parent + f\"data_size={num_train}_deg={deg}_e={e}_p={p}_num_test={num_test}\"+\"_x_dist=\"+x_dist+\"_e_dist=\"+e_dist+\"/\"\n",
    "    pathlib.Path(DataPath).mkdir(parents=True, exist_ok=True)\n",
    "    print(\"DataPath:\", DataPath)\n",
    "    if os.path.exists(DataPath+\"x_test_all.pkl\"):\n",
    "        print(\"Already Exist\")\n",
    "    else:\n",
    "        x_test_all, c_test_all, x_train_all, c_train_all,noise_train_all,noise_test_all,W_star_all = \\\n",
    "        DS_Obj.Simulator(DataPath,lower, upper, p, d, coef_seed,iteration_all,num_test, num_train, alpha,mis,data_generation_process,x_dist, e_dist, x_low, x_up, x_mean, x_var, bump)\n",
    "        Data_LSM.store_input_data(DataPath,x_test_all,c_test_all,x_train_all,c_train_all,noise_test_all,noise_train_all,W_star_all)"
   ]
  },
  {
   "cell_type": "markdown",
   "id": "1aa08795",
   "metadata": {},
   "source": [
    "#### Run Oracle"
   ]
  },
  {
   "cell_type": "code",
   "execution_count": 8,
   "id": "99b3b7bc",
   "metadata": {},
   "outputs": [
    {
     "name": "stdout",
     "output_type": "stream",
     "text": [
      "DataPath: /Users/zhangxun/Dropbox/Research/Decision_Driven_Regularization/Data_JOC_R1_Submit/Shortest_Path_Final/Various_Settings_SPO_Data_Generation/3by3_grid/data_size=50_deg=1.0_e=0.5_p=5_num_test=1000_x_dist=uniform_e_dist=normal/\n",
      "Set parameter Username\n",
      "Academic license - for non-commercial use only - expires 2026-03-13\n",
      "Oracle: iter= 20 ,cost_Oracle_Ante= 15.200104903979533\n",
      "Oracle: iter= 40 ,cost_Oracle_Ante= 14.596885929404289\n",
      "Oracle: iter= 60 ,cost_Oracle_Ante= 15.026113920699338\n",
      "Oracle: iter= 80 ,cost_Oracle_Ante= 14.899560511015855\n",
      "DataPath: /Users/zhangxun/Dropbox/Research/Decision_Driven_Regularization/Data_JOC_R1_Submit/Shortest_Path_Final/Various_Settings_SPO_Data_Generation/3by3_grid/data_size=100_deg=1.0_e=0.5_p=5_num_test=1000_x_dist=uniform_e_dist=normal/\n",
      "Oracle: iter= 20 ,cost_Oracle_Ante= 15.172642031123184\n",
      "Oracle: iter= 40 ,cost_Oracle_Ante= 14.600967169194192\n",
      "Oracle: iter= 60 ,cost_Oracle_Ante= 15.016002191297218\n",
      "Oracle: iter= 80 ,cost_Oracle_Ante= 14.89354010044007\n",
      "DataPath: /Users/zhangxun/Dropbox/Research/Decision_Driven_Regularization/Data_JOC_R1_Submit/Shortest_Path_Final/Various_Settings_SPO_Data_Generation/3by3_grid/data_size=200_deg=1.0_e=0.5_p=5_num_test=1000_x_dist=uniform_e_dist=normal/\n",
      "Oracle: iter= 20 ,cost_Oracle_Ante= 15.144328224483132\n",
      "Oracle: iter= 40 ,cost_Oracle_Ante= 14.62145215630615\n",
      "Oracle: iter= 60 ,cost_Oracle_Ante= 15.020095165472316\n",
      "Oracle: iter= 80 ,cost_Oracle_Ante= 14.876566823690675\n",
      "DataPath: /Users/zhangxun/Dropbox/Research/Decision_Driven_Regularization/Data_JOC_R1_Submit/Shortest_Path_Final/Various_Settings_SPO_Data_Generation/3by3_grid/data_size=500_deg=1.0_e=0.5_p=5_num_test=1000_x_dist=uniform_e_dist=normal/\n",
      "Oracle: iter= 20 ,cost_Oracle_Ante= 15.096535898629712\n",
      "Oracle: iter= 40 ,cost_Oracle_Ante= 14.590733464812468\n",
      "Oracle: iter= 60 ,cost_Oracle_Ante= 15.022101085286174\n",
      "Oracle: iter= 80 ,cost_Oracle_Ante= 14.867069378054255\n",
      "DataPath: /Users/zhangxun/Dropbox/Research/Decision_Driven_Regularization/Data_JOC_R1_Submit/Shortest_Path_Final/Various_Settings_SPO_Data_Generation/3by3_grid/data_size=1000_deg=1.0_e=0.5_p=5_num_test=1000_x_dist=uniform_e_dist=normal/\n",
      "Oracle: iter= 20 ,cost_Oracle_Ante= 15.09087935516319\n",
      "Oracle: iter= 40 ,cost_Oracle_Ante= 14.582147266863872\n",
      "Oracle: iter= 60 ,cost_Oracle_Ante= 15.083167411029242\n",
      "Oracle: iter= 80 ,cost_Oracle_Ante= 14.847525439198733\n"
     ]
    }
   ],
   "source": [
    "for num_train in num_train_all:\n",
    "    DataPath = DataPath_Parent + f\"data_size={num_train}_deg={deg}_e={e}_p={p}_num_test={num_test}\"+\"_x_dist=\"+x_dist+\"_e_dist=\"+e_dist+\"/\"\n",
    "    print(\"DataPath:\", DataPath)\n",
    "    if os.path.exists(DataPath+\"cost_Oracle_Ante_all.pkl\"):\n",
    "        print(\"Results already exist\")\n",
    "    else:\n",
    "        SLA.Run_Oracle(DataPath,arcs, grid,mis,bump,iteration_all,num_feat,data_generation_process)"
   ]
  },
  {
   "cell_type": "markdown",
   "id": "9bc48412",
   "metadata": {},
   "source": [
    "#### Run OLS"
   ]
  },
  {
   "cell_type": "code",
   "execution_count": 9,
   "id": "dcafc47f",
   "metadata": {},
   "outputs": [
    {
     "name": "stdout",
     "output_type": "stream",
     "text": [
      "DataPath: /Users/zhangxun/Dropbox/Research/Decision_Driven_Regularization/Data_JOC_R1_Submit/Shortest_Path_Final/Various_Settings_SPO_Data_Generation/3by3_grid/data_size=50_deg=1.0_e=0.5_p=5_num_test=1000_x_dist=uniform_e_dist=normal/\n",
      "OLS: iter= 20 ,cost_OLS_Ante= 15.542637096531974\n",
      "OLS: iter= 40 ,cost_OLS_Ante= 14.775261817049653\n",
      "OLS: iter= 60 ,cost_OLS_Ante= 15.161339987933882\n",
      "OLS: iter= 80 ,cost_OLS_Ante= 15.594084285435885\n",
      "DataPath: /Users/zhangxun/Dropbox/Research/Decision_Driven_Regularization/Data_JOC_R1_Submit/Shortest_Path_Final/Various_Settings_SPO_Data_Generation/3by3_grid/data_size=100_deg=1.0_e=0.5_p=5_num_test=1000_x_dist=uniform_e_dist=normal/\n",
      "OLS: iter= 20 ,cost_OLS_Ante= 15.342978625531082\n",
      "OLS: iter= 40 ,cost_OLS_Ante= 14.653128870271075\n",
      "OLS: iter= 60 ,cost_OLS_Ante= 15.116680536722342\n",
      "OLS: iter= 80 ,cost_OLS_Ante= 15.042281568159728\n",
      "DataPath: /Users/zhangxun/Dropbox/Research/Decision_Driven_Regularization/Data_JOC_R1_Submit/Shortest_Path_Final/Various_Settings_SPO_Data_Generation/3by3_grid/data_size=200_deg=1.0_e=0.5_p=5_num_test=1000_x_dist=uniform_e_dist=normal/\n",
      "OLS: iter= 20 ,cost_OLS_Ante= 15.247515825728104\n",
      "OLS: iter= 40 ,cost_OLS_Ante= 14.67204293501217\n",
      "OLS: iter= 60 ,cost_OLS_Ante= 15.126560990087825\n",
      "OLS: iter= 80 ,cost_OLS_Ante= 14.910392757838164\n",
      "DataPath: /Users/zhangxun/Dropbox/Research/Decision_Driven_Regularization/Data_JOC_R1_Submit/Shortest_Path_Final/Various_Settings_SPO_Data_Generation/3by3_grid/data_size=500_deg=1.0_e=0.5_p=5_num_test=1000_x_dist=uniform_e_dist=normal/\n",
      "OLS: iter= 20 ,cost_OLS_Ante= 15.12187223704079\n",
      "OLS: iter= 40 ,cost_OLS_Ante= 14.617217503266208\n",
      "OLS: iter= 60 ,cost_OLS_Ante= 15.036388146202594\n",
      "OLS: iter= 80 ,cost_OLS_Ante= 14.883867265629533\n",
      "DataPath: /Users/zhangxun/Dropbox/Research/Decision_Driven_Regularization/Data_JOC_R1_Submit/Shortest_Path_Final/Various_Settings_SPO_Data_Generation/3by3_grid/data_size=1000_deg=1.0_e=0.5_p=5_num_test=1000_x_dist=uniform_e_dist=normal/\n",
      "OLS: iter= 20 ,cost_OLS_Ante= 15.099134437542874\n",
      "OLS: iter= 40 ,cost_OLS_Ante= 14.593109675244712\n",
      "OLS: iter= 60 ,cost_OLS_Ante= 15.108846295032436\n",
      "OLS: iter= 80 ,cost_OLS_Ante= 14.855867073013822\n"
     ]
    }
   ],
   "source": [
    "for num_train in num_train_all:\n",
    "    DataPath = DataPath_Parent + f\"data_size={num_train}_deg={deg}_e={e}_p={p}_num_test={num_test}\"+\"_x_dist=\"+x_dist+\"_e_dist=\"+e_dist+\"/\"\n",
    "    print(\"DataPath:\", DataPath)\n",
    "    if os.path.exists(DataPath+\"cost_OLS_Ante_all.pkl\"):\n",
    "        print(\"Results already exist\")\n",
    "    else:\n",
    "        SLA.Run_OLS(DataPath,arcs, grid,mis,bump,iteration_all,num_feat,data_generation_process)"
   ]
  },
  {
   "cell_type": "markdown",
   "id": "99617761",
   "metadata": {},
   "source": [
    "#### Run DDR"
   ]
  },
  {
   "cell_type": "code",
   "execution_count": 10,
   "id": "c3a25f14",
   "metadata": {},
   "outputs": [
    {
     "name": "stdout",
     "output_type": "stream",
     "text": [
      "DataPath: /Users/zhangxun/Dropbox/Research/Decision_Driven_Regularization/Data_JOC_R1_Submit/Shortest_Path_Final/Various_Settings_SPO_Data_Generation/3by3_grid/data_size=50_deg=1.0_e=0.5_p=5_num_test=1000_x_dist=uniform_e_dist=normal/\n",
      "DDR: iter= 20 ,mu= 0.75 ,lamb= 0.8 ,cost_DDR_Ante = 15.546355566977873\n",
      "DDR: iter= 40 ,mu= 0.75 ,lamb= 0.8 ,cost_DDR_Ante = 14.781150928562798\n",
      "DDR: iter= 60 ,mu= 0.75 ,lamb= 0.8 ,cost_DDR_Ante = 15.151464378697474\n",
      "DDR: iter= 80 ,mu= 0.75 ,lamb= 0.8 ,cost_DDR_Ante = 15.554302949456766\n",
      "DataPath: /Users/zhangxun/Dropbox/Research/Decision_Driven_Regularization/Data_JOC_R1_Submit/Shortest_Path_Final/Various_Settings_SPO_Data_Generation/3by3_grid/data_size=100_deg=1.0_e=0.5_p=5_num_test=1000_x_dist=uniform_e_dist=normal/\n",
      "DDR: iter= 20 ,mu= 0.75 ,lamb= 0.8 ,cost_DDR_Ante = 15.337811541026513\n",
      "DDR: iter= 40 ,mu= 0.75 ,lamb= 0.8 ,cost_DDR_Ante = 14.654655156382018\n",
      "DDR: iter= 60 ,mu= 0.75 ,lamb= 0.8 ,cost_DDR_Ante = 15.120450780187118\n",
      "DDR: iter= 80 ,mu= 0.75 ,lamb= 0.8 ,cost_DDR_Ante = 15.038106628998422\n",
      "DataPath: /Users/zhangxun/Dropbox/Research/Decision_Driven_Regularization/Data_JOC_R1_Submit/Shortest_Path_Final/Various_Settings_SPO_Data_Generation/3by3_grid/data_size=200_deg=1.0_e=0.5_p=5_num_test=1000_x_dist=uniform_e_dist=normal/\n",
      "DDR: iter= 20 ,mu= 0.75 ,lamb= 0.8 ,cost_DDR_Ante = 15.242316403977641\n",
      "DDR: iter= 40 ,mu= 0.75 ,lamb= 0.8 ,cost_DDR_Ante = 14.676800054595336\n",
      "DDR: iter= 60 ,mu= 0.75 ,lamb= 0.8 ,cost_DDR_Ante = 15.122884439839865\n",
      "DDR: iter= 80 ,mu= 0.75 ,lamb= 0.8 ,cost_DDR_Ante = 14.910375341810292\n",
      "DataPath: /Users/zhangxun/Dropbox/Research/Decision_Driven_Regularization/Data_JOC_R1_Submit/Shortest_Path_Final/Various_Settings_SPO_Data_Generation/3by3_grid/data_size=500_deg=1.0_e=0.5_p=5_num_test=1000_x_dist=uniform_e_dist=normal/\n",
      "DDR: iter= 20 ,mu= 0.75 ,lamb= 0.8 ,cost_DDR_Ante = 15.121498863313887\n",
      "DDR: iter= 40 ,mu= 0.75 ,lamb= 0.8 ,cost_DDR_Ante = 14.617826803486285\n",
      "DDR: iter= 60 ,mu= 0.75 ,lamb= 0.8 ,cost_DDR_Ante = 15.036334813418883\n",
      "DDR: iter= 80 ,mu= 0.75 ,lamb= 0.8 ,cost_DDR_Ante = 14.884368154442942\n",
      "DataPath: /Users/zhangxun/Dropbox/Research/Decision_Driven_Regularization/Data_JOC_R1_Submit/Shortest_Path_Final/Various_Settings_SPO_Data_Generation/3by3_grid/data_size=1000_deg=1.0_e=0.5_p=5_num_test=1000_x_dist=uniform_e_dist=normal/\n",
      "DDR: iter= 20 ,mu= 0.75 ,lamb= 0.8 ,cost_DDR_Ante = 15.099776895651193\n",
      "DDR: iter= 40 ,mu= 0.75 ,lamb= 0.8 ,cost_DDR_Ante = 14.594497551860067\n",
      "DDR: iter= 60 ,mu= 0.75 ,lamb= 0.8 ,cost_DDR_Ante = 15.109764747650933\n",
      "DDR: iter= 80 ,mu= 0.75 ,lamb= 0.8 ,cost_DDR_Ante = 14.855624907650238\n"
     ]
    }
   ],
   "source": [
    "for num_train in num_train_all:\n",
    "    DataPath = DataPath_Parent + f\"data_size={num_train}_deg={deg}_e={e}_p={p}_num_test={num_test}\"+\"_x_dist=\"+x_dist+\"_e_dist=\"+e_dist+\"/\"\n",
    "    print(\"DataPath:\", DataPath)\n",
    "    if os.path.exists(DataPath+\"cost_DDR_Ante_all.pkl\"):\n",
    "        print(\"Results already exist\")\n",
    "    else:\n",
    "        ILA.Run_DDR(DataPath,mu_all,lamb_all,arcs, grid,mis,bump,iteration_all,num_feat,data_generation_process)"
   ]
  },
  {
   "cell_type": "markdown",
   "id": "23ff0fbe",
   "metadata": {},
   "source": [
    "#### Run SPO+"
   ]
  },
  {
   "cell_type": "code",
   "execution_count": 11,
   "id": "5fd7ee5d",
   "metadata": {},
   "outputs": [
    {
     "name": "stdout",
     "output_type": "stream",
     "text": [
      "DataPath: /Users/zhangxun/Dropbox/Research/Decision_Driven_Regularization/Data_JOC_R1_Submit/Shortest_Path_Final/Various_Settings_SPO_Data_Generation/3by3_grid/data_size=50_deg=1.0_e=0.5_p=5_num_test=1000_x_dist=uniform_e_dist=normal/\n",
      "['spo+'] : iter= 20 ,cost_EPO_Ante= 16.244893892552973\n",
      "['spo+'] : iter= 40 ,cost_EPO_Ante= 16.428055532274975\n",
      "['spo+'] : iter= 60 ,cost_EPO_Ante= 15.981433882029382\n",
      "['spo+'] : iter= 80 ,cost_EPO_Ante= 15.859118474945745\n",
      "DataPath: /Users/zhangxun/Dropbox/Research/Decision_Driven_Regularization/Data_JOC_R1_Submit/Shortest_Path_Final/Various_Settings_SPO_Data_Generation/3by3_grid/data_size=100_deg=1.0_e=0.5_p=5_num_test=1000_x_dist=uniform_e_dist=normal/\n",
      "['spo+'] : iter= 20 ,cost_EPO_Ante= 16.417801861458877\n",
      "['spo+'] : iter= 40 ,cost_EPO_Ante= 16.17762456340405\n",
      "['spo+'] : iter= 60 ,cost_EPO_Ante= 15.520834399445182\n",
      "['spo+'] : iter= 80 ,cost_EPO_Ante= 16.005682898751196\n",
      "DataPath: /Users/zhangxun/Dropbox/Research/Decision_Driven_Regularization/Data_JOC_R1_Submit/Shortest_Path_Final/Various_Settings_SPO_Data_Generation/3by3_grid/data_size=200_deg=1.0_e=0.5_p=5_num_test=1000_x_dist=uniform_e_dist=normal/\n",
      "['spo+'] : iter= 20 ,cost_EPO_Ante= 16.07660353905089\n",
      "['spo+'] : iter= 40 ,cost_EPO_Ante= 14.868193430580726\n",
      "['spo+'] : iter= 60 ,cost_EPO_Ante= 15.241925433607316\n",
      "['spo+'] : iter= 80 ,cost_EPO_Ante= 15.368418284643951\n",
      "DataPath: /Users/zhangxun/Dropbox/Research/Decision_Driven_Regularization/Data_JOC_R1_Submit/Shortest_Path_Final/Various_Settings_SPO_Data_Generation/3by3_grid/data_size=500_deg=1.0_e=0.5_p=5_num_test=1000_x_dist=uniform_e_dist=normal/\n",
      "['spo+'] : iter= 20 ,cost_EPO_Ante= 15.140218010643911\n",
      "['spo+'] : iter= 40 ,cost_EPO_Ante= 14.645985309197288\n",
      "['spo+'] : iter= 60 ,cost_EPO_Ante= 15.065589174384373\n",
      "['spo+'] : iter= 80 ,cost_EPO_Ante= 14.908703471199152\n",
      "DataPath: /Users/zhangxun/Dropbox/Research/Decision_Driven_Regularization/Data_JOC_R1_Submit/Shortest_Path_Final/Various_Settings_SPO_Data_Generation/3by3_grid/data_size=1000_deg=1.0_e=0.5_p=5_num_test=1000_x_dist=uniform_e_dist=normal/\n",
      "['spo+'] : iter= 20 ,cost_EPO_Ante= 15.098203050220636\n",
      "['spo+'] : iter= 40 ,cost_EPO_Ante= 14.607646582747082\n",
      "['spo+'] : iter= 60 ,cost_EPO_Ante= 15.113758420438067\n",
      "['spo+'] : iter= 80 ,cost_EPO_Ante= 14.8653408646218\n"
     ]
    }
   ],
   "source": [
    "method_names = [\"spo+\"]\n",
    "for num_train in num_train_all:\n",
    "    DataPath = DataPath_Parent + f\"data_size={num_train}_deg={deg}_e={e}_p={p}_num_test={num_test}\"+\"_x_dist=\"+x_dist+\"_e_dist=\"+e_dist+\"/\"\n",
    "    print(\"DataPath:\", DataPath)\n",
    "    if os.path.exists(DataPath+\"cost_spo+_Ante_all.pkl\"):\n",
    "        print(\"Results already exist\")\n",
    "    else:\n",
    "        ILA.run_EPO_approaches(DataPath,method_names,arcs, grid,mis,bump,iteration_all,num_feat,data_generation_process)"
   ]
  },
  {
   "cell_type": "markdown",
   "id": "88378e92",
   "metadata": {},
   "source": [
    "#### Run PG"
   ]
  },
  {
   "cell_type": "code",
   "execution_count": 12,
   "id": "cc71653a",
   "metadata": {},
   "outputs": [
    {
     "name": "stdout",
     "output_type": "stream",
     "text": [
      "DataPath: /Users/zhangxun/Dropbox/Research/Decision_Driven_Regularization/Data_JOC_R1_Submit/Shortest_Path_Final/Various_Settings_SPO_Data_Generation/3by3_grid/data_size=50_deg=1.0_e=0.5_p=5_num_test=1000_x_dist=uniform_e_dist=normal/\n",
      "['pg'] : iter= 20 ,cost_EPO_Ante= 15.917475278584174\n",
      "['pg'] : iter= 40 ,cost_EPO_Ante= 16.439868557845497\n",
      "['pg'] : iter= 60 ,cost_EPO_Ante= 15.96582178267357\n",
      "['pg'] : iter= 80 ,cost_EPO_Ante= 16.135711599134602\n",
      "DataPath: /Users/zhangxun/Dropbox/Research/Decision_Driven_Regularization/Data_JOC_R1_Submit/Shortest_Path_Final/Various_Settings_SPO_Data_Generation/3by3_grid/data_size=100_deg=1.0_e=0.5_p=5_num_test=1000_x_dist=uniform_e_dist=normal/\n",
      "['pg'] : iter= 20 ,cost_EPO_Ante= 16.365690348212798\n",
      "['pg'] : iter= 40 ,cost_EPO_Ante= 15.438446768858842\n",
      "['pg'] : iter= 60 ,cost_EPO_Ante= 15.755128001100434\n",
      "['pg'] : iter= 80 ,cost_EPO_Ante= 16.092923854764933\n",
      "DataPath: /Users/zhangxun/Dropbox/Research/Decision_Driven_Regularization/Data_JOC_R1_Submit/Shortest_Path_Final/Various_Settings_SPO_Data_Generation/3by3_grid/data_size=200_deg=1.0_e=0.5_p=5_num_test=1000_x_dist=uniform_e_dist=normal/\n",
      "['pg'] : iter= 20 ,cost_EPO_Ante= 16.150849885616925\n",
      "['pg'] : iter= 40 ,cost_EPO_Ante= 15.536140301908155\n",
      "['pg'] : iter= 60 ,cost_EPO_Ante= 16.022928711278244\n",
      "['pg'] : iter= 80 ,cost_EPO_Ante= 15.525396274406496\n",
      "DataPath: /Users/zhangxun/Dropbox/Research/Decision_Driven_Regularization/Data_JOC_R1_Submit/Shortest_Path_Final/Various_Settings_SPO_Data_Generation/3by3_grid/data_size=500_deg=1.0_e=0.5_p=5_num_test=1000_x_dist=uniform_e_dist=normal/\n",
      "['pg'] : iter= 20 ,cost_EPO_Ante= 15.56884601229132\n",
      "['pg'] : iter= 40 ,cost_EPO_Ante= 15.290852224441204\n",
      "['pg'] : iter= 60 ,cost_EPO_Ante= 16.02693464131699\n",
      "['pg'] : iter= 80 ,cost_EPO_Ante= 15.405727051784408\n",
      "DataPath: /Users/zhangxun/Dropbox/Research/Decision_Driven_Regularization/Data_JOC_R1_Submit/Shortest_Path_Final/Various_Settings_SPO_Data_Generation/3by3_grid/data_size=1000_deg=1.0_e=0.5_p=5_num_test=1000_x_dist=uniform_e_dist=normal/\n",
      "['pg'] : iter= 20 ,cost_EPO_Ante= 15.366403311901719\n",
      "['pg'] : iter= 40 ,cost_EPO_Ante= 15.143844641432485\n",
      "['pg'] : iter= 60 ,cost_EPO_Ante= 15.548478307417216\n",
      "['pg'] : iter= 80 ,cost_EPO_Ante= 15.300200216348355\n"
     ]
    }
   ],
   "source": [
    "method_names = [\"pg\"]\n",
    "for num_train in num_train_all:\n",
    "    DataPath = DataPath_Parent + f\"data_size={num_train}_deg={deg}_e={e}_p={p}_num_test={num_test}\"+\"_x_dist=\"+x_dist+\"_e_dist=\"+e_dist+\"/\"\n",
    "    print(\"DataPath:\", DataPath)\n",
    "    if os.path.exists(DataPath+\"cost_pg_Ante_all.pkl\"):\n",
    "        print(\"Results already exist\")\n",
    "    else:\n",
    "        ILA.run_EPO_approaches(DataPath,method_names,arcs, grid,mis,bump,iteration_all,num_feat,data_generation_process)"
   ]
  },
  {
   "cell_type": "markdown",
   "id": "33db90e3",
   "metadata": {},
   "source": [
    "#### Run LTR"
   ]
  },
  {
   "cell_type": "code",
   "execution_count": 13,
   "id": "e8a3235c",
   "metadata": {},
   "outputs": [
    {
     "name": "stdout",
     "output_type": "stream",
     "text": [
      "DataPath: /Users/zhangxun/Dropbox/Research/Decision_Driven_Regularization/Data_JOC_R1_Submit/Shortest_Path_Final/Various_Settings_SPO_Data_Generation/3by3_grid/data_size=50_deg=1.0_e=0.5_p=5_num_test=1000_x_dist=uniform_e_dist=normal/\n",
      "['ltr'] : iter= 20 ,cost_EPO_Ante= 16.30310049413704\n",
      "['ltr'] : iter= 40 ,cost_EPO_Ante= 16.15912356425022\n",
      "['ltr'] : iter= 60 ,cost_EPO_Ante= 15.590983028363063\n",
      "['ltr'] : iter= 80 ,cost_EPO_Ante= 15.860581116441306\n",
      "DataPath: /Users/zhangxun/Dropbox/Research/Decision_Driven_Regularization/Data_JOC_R1_Submit/Shortest_Path_Final/Various_Settings_SPO_Data_Generation/3by3_grid/data_size=100_deg=1.0_e=0.5_p=5_num_test=1000_x_dist=uniform_e_dist=normal/\n",
      "['ltr'] : iter= 20 ,cost_EPO_Ante= 15.722384756494813\n",
      "['ltr'] : iter= 40 ,cost_EPO_Ante= 15.897365633170383\n",
      "['ltr'] : iter= 60 ,cost_EPO_Ante= 15.859414883884536\n",
      "['ltr'] : iter= 80 ,cost_EPO_Ante= 15.866775103817941\n",
      "DataPath: /Users/zhangxun/Dropbox/Research/Decision_Driven_Regularization/Data_JOC_R1_Submit/Shortest_Path_Final/Various_Settings_SPO_Data_Generation/3by3_grid/data_size=200_deg=1.0_e=0.5_p=5_num_test=1000_x_dist=uniform_e_dist=normal/\n",
      "['ltr'] : iter= 20 ,cost_EPO_Ante= 15.955535562121375\n",
      "['ltr'] : iter= 40 ,cost_EPO_Ante= 16.036061746929377\n",
      "['ltr'] : iter= 60 ,cost_EPO_Ante= 15.608122742472316\n",
      "['ltr'] : iter= 80 ,cost_EPO_Ante= 16.23527617913463\n",
      "DataPath: /Users/zhangxun/Dropbox/Research/Decision_Driven_Regularization/Data_JOC_R1_Submit/Shortest_Path_Final/Various_Settings_SPO_Data_Generation/3by3_grid/data_size=500_deg=1.0_e=0.5_p=5_num_test=1000_x_dist=uniform_e_dist=normal/\n",
      "['ltr'] : iter= 20 ,cost_EPO_Ante= 15.403117260279705\n",
      "['ltr'] : iter= 40 ,cost_EPO_Ante= 15.114019097225956\n",
      "['ltr'] : iter= 60 ,cost_EPO_Ante= 15.6439000189412\n",
      "['ltr'] : iter= 80 ,cost_EPO_Ante= 15.152828685457898\n",
      "DataPath: /Users/zhangxun/Dropbox/Research/Decision_Driven_Regularization/Data_JOC_R1_Submit/Shortest_Path_Final/Various_Settings_SPO_Data_Generation/3by3_grid/data_size=1000_deg=1.0_e=0.5_p=5_num_test=1000_x_dist=uniform_e_dist=normal/\n",
      "['ltr'] : iter= 20 ,cost_EPO_Ante= 15.137657418739192\n",
      "['ltr'] : iter= 40 ,cost_EPO_Ante= 14.634509150762064\n",
      "['ltr'] : iter= 60 ,cost_EPO_Ante= 15.110323925612278\n",
      "['ltr'] : iter= 80 ,cost_EPO_Ante= 14.856897873182724\n"
     ]
    }
   ],
   "source": [
    "method_names = [\"ltr\"]\n",
    "for num_train in num_train_all:\n",
    "    DataPath = DataPath_Parent + f\"data_size={num_train}_deg={deg}_e={e}_p={p}_num_test={num_test}\"+\"_x_dist=\"+x_dist+\"_e_dist=\"+e_dist+\"/\"\n",
    "    print(\"DataPath:\", DataPath)\n",
    "    if os.path.exists(DataPath+\"cost_ltr_Ante_all.pkl\"):\n",
    "        print(\"Results already exist\")\n",
    "    else:\n",
    "        ILA.run_EPO_approaches(DataPath,method_names,arcs, grid,mis,bump,iteration_all,num_feat,data_generation_process)"
   ]
  },
  {
   "cell_type": "markdown",
   "id": "193688b9",
   "metadata": {},
   "source": [
    "### Comparison"
   ]
  },
  {
   "cell_type": "markdown",
   "id": "31ebe9bc",
   "metadata": {},
   "source": [
    "##### DDR vs OLS"
   ]
  },
  {
   "cell_type": "code",
   "execution_count": 14,
   "id": "15b7aff1",
   "metadata": {},
   "outputs": [
    {
     "name": "stdout",
     "output_type": "stream",
     "text": [
      "/Users/zhangxun/Dropbox/Research/Decision_Driven_Regularization/Data_JOC_R1_Submit/Shortest_Path_Final/Various_Settings_SPO_Data_Generation/3by3_grid/data_size=50_deg=1.0_e=0.5_p=5_num_test=1000_x_dist=uniform_e_dist=normal/\n",
      "/Users/zhangxun/Dropbox/Research/Decision_Driven_Regularization/Data_JOC_R1_Submit/Shortest_Path_Final/Various_Settings_SPO_Data_Generation/3by3_grid/data_size=100_deg=1.0_e=0.5_p=5_num_test=1000_x_dist=uniform_e_dist=normal/\n",
      "/Users/zhangxun/Dropbox/Research/Decision_Driven_Regularization/Data_JOC_R1_Submit/Shortest_Path_Final/Various_Settings_SPO_Data_Generation/3by3_grid/data_size=200_deg=1.0_e=0.5_p=5_num_test=1000_x_dist=uniform_e_dist=normal/\n",
      "/Users/zhangxun/Dropbox/Research/Decision_Driven_Regularization/Data_JOC_R1_Submit/Shortest_Path_Final/Various_Settings_SPO_Data_Generation/3by3_grid/data_size=500_deg=1.0_e=0.5_p=5_num_test=1000_x_dist=uniform_e_dist=normal/\n",
      "/Users/zhangxun/Dropbox/Research/Decision_Driven_Regularization/Data_JOC_R1_Submit/Shortest_Path_Final/Various_Settings_SPO_Data_Generation/3by3_grid/data_size=1000_deg=1.0_e=0.5_p=5_num_test=1000_x_dist=uniform_e_dist=normal/\n"
     ]
    }
   ],
   "source": [
    "regret_N_ante_Dict = {}; h2h_N_ante_Dict = {}\n",
    "for mu in mu_all:\n",
    "    for lamb in lamb_all:\n",
    "        regret_N_ante = np.zeros(len(num_train_all)); h2h_N_ante = np.zeros(len(num_train_all))\n",
    "        _index = 0\n",
    "        for num_train in num_train_all:\n",
    "            DataPath = DataPath_Parent + f\"data_size={num_train}_deg={deg}_e={e}_p={p}_num_test={num_test}\"+\"_x_dist=\"+x_dist+\"_e_dist=\"+e_dist+\"/\"\n",
    "            print(DataPath)\n",
    "            cost_Oracle_Ante_all,cost_OLS_Ante_all,cost_DDR_Ante_all = Data_LSM.load_cost_data(DataPath)\n",
    "\n",
    "            h2h_N_ante[_index], regret_N_ante[_index] = h2h_regret_eva.calculate_h2h_regret(mu,lamb,iteration_all,0,0,0,cost_DDR_Ante_all,cost_OLS_Ante_all,cost_Oracle_Ante_all)\n",
    "            _index = _index + 1\n",
    "        regret_N_ante_Dict[mu,lamb] = regret_N_ante\n",
    "        h2h_N_ante_Dict[mu,lamb] = h2h_N_ante\n",
    "with open(Result_dir+'regret_N_ante_Dict.pkl', \"wb\") as tf:\n",
    "    pickle.dump(regret_N_ante_Dict,tf)\n",
    "with open(Result_dir+'h2h_N_ante_Dict.pkl', \"wb\") as tf:\n",
    "    pickle.dump(h2h_N_ante_Dict,tf)"
   ]
  },
  {
   "cell_type": "code",
   "execution_count": 15,
   "id": "58d93e9c",
   "metadata": {},
   "outputs": [
    {
     "data": {
      "image/png": "[encoded data removed]",
      "text/plain": [
       "<Figure size 500x500 with 1 Axes>"
      ]
     },
     "metadata": {},
     "output_type": "display_data"
    }
   ],
   "source": [
    "mu = 0.75\n",
    "lamb = 0.8\n",
    "h2h_fig = h2h_N_ante_Dict[mu,lamb]\n",
    "regret_fig = regret_N_ante_Dict[mu,lamb]\n",
    "\n",
    "ms = 8 # marker size\n",
    "fs = 12 # font size\n",
    "ls = 12 # label size\n",
    "\n",
    "import matplotlib.pyplot as plt\n",
    "fig, ax = plt.subplots(figsize=(5, 5))\n",
    "_indices = [0, 2, 3, 4]\n",
    "for i in _indices:\n",
    "    ax.plot(h2h_fig[i], regret_fig[i], color='#EF7C00', marker='^', markersize = ms,linestyle='None')\n",
    "ax.plot(h2h_fig[1], regret_fig[1],color='red', marker='o', markersize = 6,linestyle='None')\n",
    "ax.text(h2h_fig[1] + 0.02, regret_fig[1] - 0.01, 'Baseline', color='red',fontsize=fs)\n",
    "\n",
    "ax.text(h2h_fig[0] - 0.1, regret_fig[0] - 0.01, f'N={num_train_all[0]}', color='#EF7C00',fontsize=fs)\n",
    "ax.text(h2h_fig[2] + 0.02, regret_fig[2] - 0.01, f'N={num_train_all[2]}', color='#EF7C00',fontsize=fs)\n",
    "ax.text(h2h_fig[3] + 0.02, regret_fig[3] - 0.01, f'N={num_train_all[3]}', color='#EF7C00',fontsize=fs)\n",
    "ax.text(h2h_fig[4] + 0.02, regret_fig[4] - 0.01, f'N={num_train_all[4]}', color='#EF7C00',fontsize=fs)\n",
    "\n",
    "# ax.set_title(r'Effect of model misspecification: $\\beta$')\n",
    "ax.set_xlabel('Head-to-head')\n",
    "ax.set_ylabel('Regret reduction')\n",
    "# ax.grid(True)\n",
    "\n",
    "ax.axvline(0.5, linestyle='dashed', alpha=0.8, color='k')\n",
    "ax.axhline(0.0, linestyle='dashed', alpha=0.8, color='k')\n",
    "ax.set_xlim(0.35, 1.05)\n",
    "ax.set_ylim(-0.1, 0.7)\n",
    "ax.label_outer()\n",
    "# plt.tight_layout()\n",
    "fig.savefig(Result_dir + f'DDR_vs_OLS_Data_ante_mu={mu}_lamb={lamb}.pdf', format='pdf', bbox_inches=\"tight\")\n",
    "plt.show()"
   ]
  },
  {
   "cell_type": "markdown",
   "id": "63970727",
   "metadata": {},
   "source": [
    "##### DDR vs SPO+"
   ]
  },
  {
   "cell_type": "code",
   "execution_count": 16,
   "id": "d107abbf",
   "metadata": {},
   "outputs": [
    {
     "name": "stdout",
     "output_type": "stream",
     "text": [
      "/Users/zhangxun/Dropbox/Research/Decision_Driven_Regularization/Data_JOC_R1_Submit/Shortest_Path_Final/Various_Settings_SPO_Data_Generation/3by3_grid/data_size=50_deg=1.0_e=0.5_p=5_num_test=1000_x_dist=uniform_e_dist=normal/\n",
      "/Users/zhangxun/Dropbox/Research/Decision_Driven_Regularization/Data_JOC_R1_Submit/Shortest_Path_Final/Various_Settings_SPO_Data_Generation/3by3_grid/data_size=100_deg=1.0_e=0.5_p=5_num_test=1000_x_dist=uniform_e_dist=normal/\n",
      "/Users/zhangxun/Dropbox/Research/Decision_Driven_Regularization/Data_JOC_R1_Submit/Shortest_Path_Final/Various_Settings_SPO_Data_Generation/3by3_grid/data_size=200_deg=1.0_e=0.5_p=5_num_test=1000_x_dist=uniform_e_dist=normal/\n",
      "/Users/zhangxun/Dropbox/Research/Decision_Driven_Regularization/Data_JOC_R1_Submit/Shortest_Path_Final/Various_Settings_SPO_Data_Generation/3by3_grid/data_size=500_deg=1.0_e=0.5_p=5_num_test=1000_x_dist=uniform_e_dist=normal/\n",
      "/Users/zhangxun/Dropbox/Research/Decision_Driven_Regularization/Data_JOC_R1_Submit/Shortest_Path_Final/Various_Settings_SPO_Data_Generation/3by3_grid/data_size=1000_deg=1.0_e=0.5_p=5_num_test=1000_x_dist=uniform_e_dist=normal/\n"
     ]
    }
   ],
   "source": [
    "regret_DDR_vs_SPO_N_ante_Dict = {}; h2h_DDR_vs_SPO_N_ante_Dict = {}\n",
    "for mu in mu_all:\n",
    "    for lamb in lamb_all:\n",
    "        regret_N_ante = np.zeros(len(num_train_all)); h2h_N_ante = np.zeros(len(num_train_all))\n",
    "        _index = 0\n",
    "        for num_train in num_train_all:\n",
    "            DataPath = DataPath_Parent + f\"data_size={num_train}_deg={deg}_e={e}_p={p}_num_test={num_test}\"+\"_x_dist=\"+x_dist+\"_e_dist=\"+e_dist+\"/\"\n",
    "            print(DataPath)\n",
    "            cost_Oracle_Ante_all,cost_OLS_Ante_all,cost_DDR_Ante_all = Data_LSM.load_cost_data(DataPath)\n",
    "            with open(DataPath+'cost_spo+_Ante_all.pkl', \"rb\") as tf:\n",
    "                cost_SPO_Ante_all = pickle.load(tf)\n",
    "            h2h_N_ante[_index], regret_N_ante[_index] = h2h_regret_eva.calculate_h2h_regret(mu,lamb,iteration_all,0,0,0,cost_DDR_Ante_all,cost_SPO_Ante_all,cost_Oracle_Ante_all)\n",
    "            _index = _index + 1\n",
    "        h2h_DDR_vs_SPO_N_ante_Dict[mu,lamb] = regret_N_ante\n",
    "        regret_DDR_vs_SPO_N_ante_Dict[mu,lamb] = h2h_N_ante\n",
    "with open(Result_dir+'regret_DDR_vs_SPO_N_ante_Dict.pkl', \"wb\") as tf:\n",
    "    pickle.dump(regret_DDR_vs_SPO_N_ante_Dict,tf)\n",
    "with open(Result_dir+'h2h_DDR_vs_SPO_N_ante_Dict.pkl', \"wb\") as tf:\n",
    "    pickle.dump(h2h_DDR_vs_SPO_N_ante_Dict,tf)"
   ]
  },
  {
   "cell_type": "code",
   "execution_count": 18,
   "id": "90a7da68",
   "metadata": {},
   "outputs": [
    {
     "data": {
      "image/png": "[encoded data removed]",
      "text/plain": [
       "<Figure size 500x500 with 1 Axes>"
      ]
     },
     "metadata": {},
     "output_type": "display_data"
    }
   ],
   "source": [
    "mu = 0.75\n",
    "lamb = 0.8\n",
    "h2h_fig = h2h_DDR_vs_SPO_N_ante_Dict[mu,lamb]\n",
    "regret_fig = regret_DDR_vs_SPO_N_ante_Dict[mu,lamb]\n",
    "\n",
    "ms = 6 # marker size\n",
    "fs = 12 # font size\n",
    "ls = 12 # label size\n",
    "\n",
    "import matplotlib.pyplot as plt\n",
    "fig, ax = plt.subplots(figsize=(5, 5))\n",
    "_indices = [0, 2, 3, 4]\n",
    "for i in _indices:\n",
    "    ax.plot(h2h_fig[i], regret_fig[i], color='#EF7C00', marker='^', markersize = 10,linestyle='None')\n",
    "ax.plot(h2h_fig[1], regret_fig[1],color='red', marker='o', markersize = 6,linestyle='None')\n",
    "ax.text(h2h_fig[1] - 0.068, regret_fig[1] + 0.01, 'Baseline', color='red',fontsize=fs)\n",
    "\n",
    "ax.text(h2h_fig[0] - 0.1, regret_fig[0] - 0.003, f'N={num_train_all[0]}', color='#EF7C00',fontsize=fs)\n",
    "ax.text(h2h_fig[2] - 0.12, regret_fig[2] - 0.003, f'N={num_train_all[2]}', color='#EF7C00',fontsize=fs)\n",
    "ax.text(h2h_fig[3] - 0.12, regret_fig[3] - 0.003, f'N={num_train_all[3]}', color='#EF7C00',fontsize=fs)\n",
    "ax.text(h2h_fig[4] - 0.135, regret_fig[4] - 0.003, f'N={num_train_all[4]}', color='#EF7C00',fontsize=fs)\n",
    "\n",
    "ax.set_xlabel('Head-to-head')\n",
    "ax.set_ylabel('Regret reduction')\n",
    "# ax.grid(True)\n",
    "\n",
    "ax.axvline(0.5, linestyle='dashed', alpha=0.8, color='k')\n",
    "ax.axhline(0.0, linestyle='dashed', alpha=0.8, color='k')\n",
    "ax.set_xlim(0.4, 1.05)\n",
    "ax.set_ylim(0.8, 1.05)\n",
    "ax.label_outer()\n",
    "\n",
    "# plt.tight_layout()\n",
    "fig.savefig(Result_dir + f'DDR_vs_SPO_Data_ante_mu={mu}_lamb={lamb}.pdf', format='pdf', bbox_inches=\"tight\")\n",
    "plt.show()\n"
   ]
  }
 ],
 "metadata": {
  "kernelspec": {
   "display_name": ".venv",
   "language": "python",
   "name": "python3"
  },
  "language_info": {
   "codemirror_mode": {
    "name": "ipython",
    "version": 3
   },
   "file_extension": ".py",
   "mimetype": "text/x-python",
   "name": "python",
   "nbconvert_exporter": "python",
   "pygments_lexer": "ipython3",
   "version": "3.9.6"
  }
 },
 "nbformat": 4,
 "nbformat_minor": 5
}
