{
 "cells": [
  {
   "cell_type": "code",
   "execution_count": 1,
   "id": "e5423203",
   "metadata": {},
   "outputs": [],
   "source": [
    "import random\n",
    "import numpy as np\n",
    "import torch\n",
    "import os\n",
    "import pathlib\n",
    "import pickle\n",
    "import pandas as pd\n",
    "torch.manual_seed(42)\n",
    "torch.cuda.manual_seed(42)\n",
    "from Performance import performance_evaluation\n",
    "perfs = performance_evaluation()\n",
    "\n",
    "from Performance import H2h_Regret_Evaluation\n",
    "h2h_regret_eva = H2h_Regret_Evaluation()\n",
    "\n",
    "from Data import Data_Simulator\n",
    "DS_Obj = Data_Simulator()\n",
    "\n",
    "from Oracle import Oracle_Processing\n",
    "Oracle_Proc = Oracle_Processing()\n",
    "\n",
    "from OLS import OLS_Processing\n",
    "OLS_Proc = OLS_Processing()\n",
    "\n",
    "from DDR import DDR_Processing\n",
    "DDR_Proc = DDR_Processing()\n",
    "\n",
    "from PYEPO import EPO_Processing\n",
    "PYEPO_Proc = EPO_Processing()\n",
    "\n",
    "from Data_Load_Store import Load_Store_Methods\n",
    "Data_LSM = Load_Store_Methods()"
   ]
  },
  {
   "cell_type": "code",
   "execution_count": 2,
   "id": "914343e2",
   "metadata": {},
   "outputs": [],
   "source": [
    "import Various_Setting_Params as VSP\n",
    "import Sequential_Learning_Approaches as SLA\n",
    "import Integrated_Learning_Approaches as ILA"
   ]
  },
  {
   "cell_type": "markdown",
   "id": "886e7311",
   "metadata": {},
   "source": [
    "### Parameters"
   ]
  },
  {
   "cell_type": "code",
   "execution_count": 3,
   "id": "b34a8e54",
   "metadata": {},
   "outputs": [],
   "source": [
    "grid = (3,3)"
   ]
  },
  {
   "cell_type": "code",
   "execution_count": 4,
   "id": "554bf254",
   "metadata": {},
   "outputs": [
    {
     "name": "stdout",
     "output_type": "stream",
     "text": [
      "DataPath_parent: /Users/zhangxun/Dropbox/Research/Decision_Driven_Regularization/Data_JOC_R1_Submit/Shortest_Path_Final/Various_Settings_SPO_Data_Generation/3by3_grid/\n"
     ]
    }
   ],
   "source": [
    "data_generation_process = \"SPO_Data_Generation\"\n",
    "# data_generation_process = \"DDR_Data_Generation\"\n",
    "current_directory = os.getcwd()\n",
    "parent_directory = os.path.dirname(current_directory)\n",
    "project_directory = os.path.dirname(os.path.dirname(os.path.dirname(parent_directory)))\n",
    "DataPath_Parent = project_directory + '/Data_JOC_R1_Submit/Shortest_Path_Final/Various_Settings_' + data_generation_process + f'/{grid[0]}by{grid[1]}_grid/'\n",
    "pathlib.Path(DataPath_Parent).mkdir(parents=True, exist_ok=True)\n",
    "print(\"DataPath_parent:\", DataPath_Parent)\n",
    "Result_dir = DataPath_Parent + \"Result/\"\n",
    "pathlib.Path(Result_dir).mkdir(parents=True, exist_ok=True)"
   ]
  },
  {
   "cell_type": "code",
   "execution_count": 5,
   "id": "d2781f36",
   "metadata": {},
   "outputs": [],
   "source": [
    "grid,num_test,lower,upper,coef_seed,x_dist,e_dist,x_low,x_up,x_mean,x_var,bump,iteration_all,batch_size,num_epochs,mu_all,lamb_all = VSP.get_Params(DataPath_Parent)\n",
    "from Network import network_design\n",
    "Network = network_design()\n",
    "arcs,arc_index_mapping = Network._getArcs(grid)\n",
    "d = (grid[0] - 1) * (grid[0] - 1) * 2 + 2 * (grid[0] - 1) # num of arcs\n",
    "num_nodes = grid[0]*grid[0]"
   ]
  },
  {
   "cell_type": "code",
   "execution_count": 6,
   "id": "964552d0",
   "metadata": {},
   "outputs": [],
   "source": [
    "VSP.set_Params_Mis(DataPath_Parent)\n",
    "num_feat,deg_all,e,num_train = VSP.get_Params_Mis(DataPath_Parent)\n",
    "p = num_feat\n",
    "alpha = e"
   ]
  },
  {
   "cell_type": "markdown",
   "id": "6a0006fa",
   "metadata": {},
   "source": [
    "#### Data Generation"
   ]
  },
  {
   "cell_type": "code",
   "execution_count": 7,
   "id": "318667b4",
   "metadata": {},
   "outputs": [
    {
     "name": "stdout",
     "output_type": "stream",
     "text": [
      "DataPath: /Users/zhangxun/Dropbox/Research/Decision_Driven_Regularization/Data_JOC_R1_Submit/Shortest_Path_Final/Various_Settings_SPO_Data_Generation/3by3_grid/data_size=100_deg=0.4_e=0.5_p=5_num_test=1000_x_dist=uniform_e_dist=normal/\n",
      "DataPath: /Users/zhangxun/Dropbox/Research/Decision_Driven_Regularization/Data_JOC_R1_Submit/Shortest_Path_Final/Various_Settings_SPO_Data_Generation/3by3_grid/data_size=100_deg=0.6_e=0.5_p=5_num_test=1000_x_dist=uniform_e_dist=normal/\n",
      "DataPath: /Users/zhangxun/Dropbox/Research/Decision_Driven_Regularization/Data_JOC_R1_Submit/Shortest_Path_Final/Various_Settings_SPO_Data_Generation/3by3_grid/data_size=100_deg=0.8_e=0.5_p=5_num_test=1000_x_dist=uniform_e_dist=normal/\n",
      "DataPath: /Users/zhangxun/Dropbox/Research/Decision_Driven_Regularization/Data_JOC_R1_Submit/Shortest_Path_Final/Various_Settings_SPO_Data_Generation/3by3_grid/data_size=100_deg=1.0_e=0.5_p=5_num_test=1000_x_dist=uniform_e_dist=normal/\n",
      "Already Exist\n",
      "DataPath: /Users/zhangxun/Dropbox/Research/Decision_Driven_Regularization/Data_JOC_R1_Submit/Shortest_Path_Final/Various_Settings_SPO_Data_Generation/3by3_grid/data_size=100_deg=1.2_e=0.5_p=5_num_test=1000_x_dist=uniform_e_dist=normal/\n",
      "DataPath: /Users/zhangxun/Dropbox/Research/Decision_Driven_Regularization/Data_JOC_R1_Submit/Shortest_Path_Final/Various_Settings_SPO_Data_Generation/3by3_grid/data_size=100_deg=1.4_e=0.5_p=5_num_test=1000_x_dist=uniform_e_dist=normal/\n",
      "DataPath: /Users/zhangxun/Dropbox/Research/Decision_Driven_Regularization/Data_JOC_R1_Submit/Shortest_Path_Final/Various_Settings_SPO_Data_Generation/3by3_grid/data_size=100_deg=1.6_e=0.5_p=5_num_test=1000_x_dist=uniform_e_dist=normal/\n",
      "DataPath: /Users/zhangxun/Dropbox/Research/Decision_Driven_Regularization/Data_JOC_R1_Submit/Shortest_Path_Final/Various_Settings_SPO_Data_Generation/3by3_grid/data_size=100_deg=2.0_e=0.5_p=5_num_test=1000_x_dist=uniform_e_dist=normal/\n",
      "DataPath: /Users/zhangxun/Dropbox/Research/Decision_Driven_Regularization/Data_JOC_R1_Submit/Shortest_Path_Final/Various_Settings_SPO_Data_Generation/3by3_grid/data_size=100_deg=3.0_e=0.5_p=5_num_test=1000_x_dist=uniform_e_dist=normal/\n",
      "DataPath: /Users/zhangxun/Dropbox/Research/Decision_Driven_Regularization/Data_JOC_R1_Submit/Shortest_Path_Final/Various_Settings_SPO_Data_Generation/3by3_grid/data_size=100_deg=4.0_e=0.5_p=5_num_test=1000_x_dist=uniform_e_dist=normal/\n"
     ]
    }
   ],
   "source": [
    "for deg in deg_all:\n",
    "    mis = deg # model misspecification\n",
    "    DataPath = DataPath_Parent + f\"data_size={num_train}_deg={deg}_e={e}_p={p}_num_test={num_test}\"+\"_x_dist=\"+x_dist+\"_e_dist=\"+e_dist+\"/\"\n",
    "    pathlib.Path(DataPath).mkdir(parents=True, exist_ok=True)\n",
    "    print(\"DataPath:\", DataPath)\n",
    "    if os.path.exists(DataPath+\"x_test_all.pkl\"):\n",
    "        print(\"Already Exist\")\n",
    "    else:\n",
    "        x_test_all, c_test_all, x_train_all, c_train_all,noise_train_all,noise_test_all,W_star_all = \\\n",
    "        DS_Obj.Simulator(DataPath,lower, upper, p, d, coef_seed,iteration_all,num_test, num_train, alpha,mis,data_generation_process,x_dist, e_dist, x_low, x_up, x_mean, x_var, bump)\n",
    "        Data_LSM.store_input_data(DataPath,x_test_all,c_test_all,x_train_all,c_train_all,noise_test_all,noise_train_all,W_star_all)"
   ]
  },
  {
   "cell_type": "markdown",
   "id": "1aa08795",
   "metadata": {},
   "source": [
    "#### Run Oracle"
   ]
  },
  {
   "cell_type": "code",
   "execution_count": 8,
   "id": "99b3b7bc",
   "metadata": {},
   "outputs": [
    {
     "name": "stdout",
     "output_type": "stream",
     "text": [
      "DataPath: /Users/zhangxun/Dropbox/Research/Decision_Driven_Regularization/Data_JOC_R1_Submit/Shortest_Path_Final/Various_Settings_SPO_Data_Generation/3by3_grid/data_size=100_deg=0.4_e=0.5_p=5_num_test=1000_x_dist=uniform_e_dist=normal/\n",
      "Set parameter Username\n",
      "Academic license - for non-commercial use only - expires 2026-03-13\n",
      "Oracle: iter= 20 ,cost_Oracle_Ante= 9.974746843194604\n",
      "Oracle: iter= 40 ,cost_Oracle_Ante= 9.856448226220069\n",
      "Oracle: iter= 60 ,cost_Oracle_Ante= 9.949329095991978\n",
      "Oracle: iter= 80 ,cost_Oracle_Ante= 9.918527311495193\n",
      "DataPath: /Users/zhangxun/Dropbox/Research/Decision_Driven_Regularization/Data_JOC_R1_Submit/Shortest_Path_Final/Various_Settings_SPO_Data_Generation/3by3_grid/data_size=100_deg=0.6_e=0.5_p=5_num_test=1000_x_dist=uniform_e_dist=normal/\n",
      "Oracle: iter= 20 ,cost_Oracle_Ante= 11.338732132399196\n",
      "Oracle: iter= 40 ,cost_Oracle_Ante= 11.118387299619572\n",
      "Oracle: iter= 60 ,cost_Oracle_Ante= 11.287140012956202\n",
      "Oracle: iter= 80 ,cost_Oracle_Ante= 11.232739214324324\n",
      "DataPath: /Users/zhangxun/Dropbox/Research/Decision_Driven_Regularization/Data_JOC_R1_Submit/Shortest_Path_Final/Various_Settings_SPO_Data_Generation/3by3_grid/data_size=100_deg=0.8_e=0.5_p=5_num_test=1000_x_dist=uniform_e_dist=normal/\n",
      "Oracle: iter= 20 ,cost_Oracle_Ante= 13.041807419015502\n",
      "Oracle: iter= 40 ,cost_Oracle_Ante= 12.675834853159431\n",
      "Oracle: iter= 60 ,cost_Oracle_Ante= 12.948886244206552\n",
      "Oracle: iter= 80 ,cost_Oracle_Ante= 12.864210119078383\n",
      "DataPath: /Users/zhangxun/Dropbox/Research/Decision_Driven_Regularization/Data_JOC_R1_Submit/Shortest_Path_Final/Various_Settings_SPO_Data_Generation/3by3_grid/data_size=100_deg=1.0_e=0.5_p=5_num_test=1000_x_dist=uniform_e_dist=normal/\n",
      "Results already exist\n",
      "DataPath: /Users/zhangxun/Dropbox/Research/Decision_Driven_Regularization/Data_JOC_R1_Submit/Shortest_Path_Final/Various_Settings_SPO_Data_Generation/3by3_grid/data_size=100_deg=1.2_e=0.5_p=5_num_test=1000_x_dist=uniform_e_dist=normal/\n",
      "Oracle: iter= 20 ,cost_Oracle_Ante= 17.84392937131793\n",
      "Oracle: iter= 40 ,cost_Oracle_Ante= 16.984367942606596\n",
      "Oracle: iter= 60 ,cost_Oracle_Ante= 17.59092075767087\n",
      "Oracle: iter= 80 ,cost_Oracle_Ante= 17.422644200809266\n",
      "DataPath: /Users/zhangxun/Dropbox/Research/Decision_Driven_Regularization/Data_JOC_R1_Submit/Shortest_Path_Final/Various_Settings_SPO_Data_Generation/3by3_grid/data_size=100_deg=1.4_e=0.5_p=5_num_test=1000_x_dist=uniform_e_dist=normal/\n",
      "Oracle: iter= 20 ,cost_Oracle_Ante= 21.199464769859734\n",
      "Oracle: iter= 40 ,cost_Oracle_Ante= 19.939859416081816\n",
      "Oracle: iter= 60 ,cost_Oracle_Ante= 20.8034386577543\n",
      "Oracle: iter= 80 ,cost_Oracle_Ante= 20.58097719911729\n",
      "DataPath: /Users/zhangxun/Dropbox/Research/Decision_Driven_Regularization/Data_JOC_R1_Submit/Shortest_Path_Final/Various_Settings_SPO_Data_Generation/3by3_grid/data_size=100_deg=1.6_e=0.5_p=5_num_test=1000_x_dist=uniform_e_dist=normal/\n",
      "Oracle: iter= 20 ,cost_Oracle_Ante= 25.423029599678035\n",
      "Oracle: iter= 40 ,cost_Oracle_Ante= 23.61010193101374\n",
      "Oracle: iter= 60 ,cost_Oracle_Ante= 24.81662361749427\n",
      "Oracle: iter= 80 ,cost_Oracle_Ante= 24.533252404828644\n",
      "DataPath: /Users/zhangxun/Dropbox/Research/Decision_Driven_Regularization/Data_JOC_R1_Submit/Shortest_Path_Final/Various_Settings_SPO_Data_Generation/3by3_grid/data_size=100_deg=2.0_e=0.5_p=5_num_test=1000_x_dist=uniform_e_dist=normal/\n",
      "Oracle: iter= 20 ,cost_Oracle_Ante= 37.47798939500506\n",
      "Oracle: iter= 40 ,cost_Oracle_Ante= 33.86087014607474\n",
      "Oracle: iter= 60 ,cost_Oracle_Ante= 36.1240312645982\n",
      "Oracle: iter= 80 ,cost_Oracle_Ante= 35.71547119085479\n",
      "DataPath: /Users/zhangxun/Dropbox/Research/Decision_Driven_Regularization/Data_JOC_R1_Submit/Shortest_Path_Final/Various_Settings_SPO_Data_Generation/3by3_grid/data_size=100_deg=3.0_e=0.5_p=5_num_test=1000_x_dist=uniform_e_dist=normal/\n",
      "Oracle: iter= 20 ,cost_Oracle_Ante= 110.21441871202357\n",
      "Oracle: iter= 40 ,cost_Oracle_Ante= 92.19467157687451\n",
      "Oracle: iter= 60 ,cost_Oracle_Ante= 101.8873536790841\n",
      "Oracle: iter= 80 ,cost_Oracle_Ante= 101.84353520893609\n",
      "DataPath: /Users/zhangxun/Dropbox/Research/Decision_Driven_Regularization/Data_JOC_R1_Submit/Shortest_Path_Final/Various_Settings_SPO_Data_Generation/3by3_grid/data_size=100_deg=4.0_e=0.5_p=5_num_test=1000_x_dist=uniform_e_dist=normal/\n",
      "Oracle: iter= 20 ,cost_Oracle_Ante= 357.72591658917406\n",
      "Oracle: iter= 40 ,cost_Oracle_Ante= 275.11264904880977\n",
      "Oracle: iter= 60 ,cost_Oracle_Ante= 313.77668009891704\n",
      "Oracle: iter= 80 ,cost_Oracle_Ante= 322.2775641706925\n"
     ]
    }
   ],
   "source": [
    "for deg in deg_all:\n",
    "    mis = deg # model misspecification\n",
    "    DataPath = DataPath_Parent + f\"data_size={num_train}_deg={deg}_e={e}_p={p}_num_test={num_test}\"+\"_x_dist=\"+x_dist+\"_e_dist=\"+e_dist+\"/\"\n",
    "    print(\"DataPath:\", DataPath)\n",
    "    if os.path.exists(DataPath+\"cost_Oracle_Ante_all.pkl\"):\n",
    "        print(\"Results already exist\")\n",
    "    else:\n",
    "        SLA.Run_Oracle(DataPath,arcs, grid,mis,bump,iteration_all,num_feat,data_generation_process)"
   ]
  },
  {
   "cell_type": "markdown",
   "id": "9bc48412",
   "metadata": {},
   "source": [
    "#### Run OLS"
   ]
  },
  {
   "cell_type": "code",
   "execution_count": 9,
   "id": "dcafc47f",
   "metadata": {},
   "outputs": [
    {
     "name": "stdout",
     "output_type": "stream",
     "text": [
      "DataPath: /Users/zhangxun/Dropbox/Research/Decision_Driven_Regularization/Data_JOC_R1_Submit/Shortest_Path_Final/Various_Settings_SPO_Data_Generation/3by3_grid/data_size=100_deg=0.4_e=0.5_p=5_num_test=1000_x_dist=uniform_e_dist=normal/\n",
      "OLS: iter= 20 ,cost_OLS_Ante= 10.066202257534798\n",
      "OLS: iter= 40 ,cost_OLS_Ante= 9.91609848122351\n",
      "OLS: iter= 60 ,cost_OLS_Ante= 10.014275543903883\n",
      "OLS: iter= 80 ,cost_OLS_Ante= 10.07851624680234\n",
      "DataPath: /Users/zhangxun/Dropbox/Research/Decision_Driven_Regularization/Data_JOC_R1_Submit/Shortest_Path_Final/Various_Settings_SPO_Data_Generation/3by3_grid/data_size=100_deg=0.6_e=0.5_p=5_num_test=1000_x_dist=uniform_e_dist=normal/\n",
      "OLS: iter= 20 ,cost_OLS_Ante= 11.460790124910684\n",
      "OLS: iter= 40 ,cost_OLS_Ante= 11.172104134086428\n",
      "OLS: iter= 60 ,cost_OLS_Ante= 11.370962074342195\n",
      "OLS: iter= 80 ,cost_OLS_Ante= 11.393709347267736\n",
      "DataPath: /Users/zhangxun/Dropbox/Research/Decision_Driven_Regularization/Data_JOC_R1_Submit/Shortest_Path_Final/Various_Settings_SPO_Data_Generation/3by3_grid/data_size=100_deg=0.8_e=0.5_p=5_num_test=1000_x_dist=uniform_e_dist=normal/\n",
      "OLS: iter= 20 ,cost_OLS_Ante= 13.188025602190104\n",
      "OLS: iter= 40 ,cost_OLS_Ante= 12.726269320483377\n",
      "OLS: iter= 60 ,cost_OLS_Ante= 13.041457624780882\n",
      "OLS: iter= 80 ,cost_OLS_Ante= 13.012377398807374\n",
      "DataPath: /Users/zhangxun/Dropbox/Research/Decision_Driven_Regularization/Data_JOC_R1_Submit/Shortest_Path_Final/Various_Settings_SPO_Data_Generation/3by3_grid/data_size=100_deg=1.0_e=0.5_p=5_num_test=1000_x_dist=uniform_e_dist=normal/\n",
      "Results already exist\n",
      "DataPath: /Users/zhangxun/Dropbox/Research/Decision_Driven_Regularization/Data_JOC_R1_Submit/Shortest_Path_Final/Various_Settings_SPO_Data_Generation/3by3_grid/data_size=100_deg=1.2_e=0.5_p=5_num_test=1000_x_dist=uniform_e_dist=normal/\n",
      "OLS: iter= 20 ,cost_OLS_Ante= 18.045518139421368\n",
      "OLS: iter= 40 ,cost_OLS_Ante= 17.052947718055393\n",
      "OLS: iter= 60 ,cost_OLS_Ante= 17.69498081549373\n",
      "OLS: iter= 80 ,cost_OLS_Ante= 17.569433239706036\n",
      "DataPath: /Users/zhangxun/Dropbox/Research/Decision_Driven_Regularization/Data_JOC_R1_Submit/Shortest_Path_Final/Various_Settings_SPO_Data_Generation/3by3_grid/data_size=100_deg=1.4_e=0.5_p=5_num_test=1000_x_dist=uniform_e_dist=normal/\n",
      "OLS: iter= 20 ,cost_OLS_Ante= 21.431505433745134\n",
      "OLS: iter= 40 ,cost_OLS_Ante= 20.019901221242073\n",
      "OLS: iter= 60 ,cost_OLS_Ante= 20.922110282850625\n",
      "OLS: iter= 80 ,cost_OLS_Ante= 20.73052921118435\n",
      "DataPath: /Users/zhangxun/Dropbox/Research/Decision_Driven_Regularization/Data_JOC_R1_Submit/Shortest_Path_Final/Various_Settings_SPO_Data_Generation/3by3_grid/data_size=100_deg=1.6_e=0.5_p=5_num_test=1000_x_dist=uniform_e_dist=normal/\n",
      "OLS: iter= 20 ,cost_OLS_Ante= 25.712143761910227\n",
      "OLS: iter= 40 ,cost_OLS_Ante= 23.698818123581173\n",
      "OLS: iter= 60 ,cost_OLS_Ante= 24.95183673527168\n",
      "OLS: iter= 80 ,cost_OLS_Ante= 24.686766970523493\n",
      "DataPath: /Users/zhangxun/Dropbox/Research/Decision_Driven_Regularization/Data_JOC_R1_Submit/Shortest_Path_Final/Various_Settings_SPO_Data_Generation/3by3_grid/data_size=100_deg=2.0_e=0.5_p=5_num_test=1000_x_dist=uniform_e_dist=normal/\n",
      "OLS: iter= 20 ,cost_OLS_Ante= 37.932795278821466\n",
      "OLS: iter= 40 ,cost_OLS_Ante= 34.02070550900565\n",
      "OLS: iter= 60 ,cost_OLS_Ante= 36.33523546381481\n",
      "OLS: iter= 80 ,cost_OLS_Ante= 35.90373888059851\n",
      "DataPath: /Users/zhangxun/Dropbox/Research/Decision_Driven_Regularization/Data_JOC_R1_Submit/Shortest_Path_Final/Various_Settings_SPO_Data_Generation/3by3_grid/data_size=100_deg=3.0_e=0.5_p=5_num_test=1000_x_dist=uniform_e_dist=normal/\n",
      "OLS: iter= 20 ,cost_OLS_Ante= 112.25302157832193\n",
      "OLS: iter= 40 ,cost_OLS_Ante= 93.44721915899764\n",
      "OLS: iter= 60 ,cost_OLS_Ante= 103.17460633839448\n",
      "OLS: iter= 80 ,cost_OLS_Ante= 102.52779711972809\n",
      "DataPath: /Users/zhangxun/Dropbox/Research/Decision_Driven_Regularization/Data_JOC_R1_Submit/Shortest_Path_Final/Various_Settings_SPO_Data_Generation/3by3_grid/data_size=100_deg=4.0_e=0.5_p=5_num_test=1000_x_dist=uniform_e_dist=normal/\n",
      "OLS: iter= 20 ,cost_OLS_Ante= 368.46066403678805\n",
      "OLS: iter= 40 ,cost_OLS_Ante= 283.23572451895745\n",
      "OLS: iter= 60 ,cost_OLS_Ante= 321.6270261737723\n",
      "OLS: iter= 80 ,cost_OLS_Ante= 325.91268513114716\n"
     ]
    }
   ],
   "source": [
    "for deg in deg_all:\n",
    "    mis = deg # model misspecification\n",
    "    DataPath = DataPath_Parent + f\"data_size={num_train}_deg={deg}_e={e}_p={p}_num_test={num_test}\"+\"_x_dist=\"+x_dist+\"_e_dist=\"+e_dist+\"/\"\n",
    "    print(\"DataPath:\", DataPath)\n",
    "    if os.path.exists(DataPath+\"cost_OLS_Ante_all.pkl\"):\n",
    "        print(\"Results already exist\")\n",
    "    else:\n",
    "        SLA.Run_OLS(DataPath,arcs, grid,mis,bump,iteration_all,num_feat,data_generation_process)"
   ]
  },
  {
   "cell_type": "markdown",
   "id": "99617761",
   "metadata": {},
   "source": [
    "#### Run DDR"
   ]
  },
  {
   "cell_type": "code",
   "execution_count": 10,
   "id": "c3a25f14",
   "metadata": {},
   "outputs": [
    {
     "name": "stdout",
     "output_type": "stream",
     "text": [
      "DataPath: /Users/zhangxun/Dropbox/Research/Decision_Driven_Regularization/Data_JOC_R1_Submit/Shortest_Path_Final/Various_Settings_SPO_Data_Generation/3by3_grid/data_size=100_deg=0.4_e=0.5_p=5_num_test=1000_x_dist=uniform_e_dist=normal/\n",
      "DDR: iter= 20 ,mu= 0.75 ,lamb= 0.8 ,cost_DDR_Ante = 10.061393294410914\n",
      "DDR: iter= 40 ,mu= 0.75 ,lamb= 0.8 ,cost_DDR_Ante = 9.914878086948772\n",
      "DDR: iter= 60 ,mu= 0.75 ,lamb= 0.8 ,cost_DDR_Ante = 10.023159923819945\n",
      "DDR: iter= 80 ,mu= 0.75 ,lamb= 0.8 ,cost_DDR_Ante = 10.070910947980352\n",
      "DataPath: /Users/zhangxun/Dropbox/Research/Decision_Driven_Regularization/Data_JOC_R1_Submit/Shortest_Path_Final/Various_Settings_SPO_Data_Generation/3by3_grid/data_size=100_deg=0.6_e=0.5_p=5_num_test=1000_x_dist=uniform_e_dist=normal/\n",
      "DDR: iter= 20 ,mu= 0.75 ,lamb= 0.8 ,cost_DDR_Ante = 11.454695539690645\n",
      "DDR: iter= 40 ,mu= 0.75 ,lamb= 0.8 ,cost_DDR_Ante = 11.168802150412775\n",
      "DDR: iter= 60 ,mu= 0.75 ,lamb= 0.8 ,cost_DDR_Ante = 11.376943228628425\n",
      "DDR: iter= 80 ,mu= 0.75 ,lamb= 0.8 ,cost_DDR_Ante = 11.395793911601773\n",
      "DataPath: /Users/zhangxun/Dropbox/Research/Decision_Driven_Regularization/Data_JOC_R1_Submit/Shortest_Path_Final/Various_Settings_SPO_Data_Generation/3by3_grid/data_size=100_deg=0.8_e=0.5_p=5_num_test=1000_x_dist=uniform_e_dist=normal/\n",
      "DDR: iter= 20 ,mu= 0.75 ,lamb= 0.8 ,cost_DDR_Ante = 13.191886297421531\n",
      "DDR: iter= 40 ,mu= 0.75 ,lamb= 0.8 ,cost_DDR_Ante = 12.723760662761663\n",
      "DDR: iter= 60 ,mu= 0.75 ,lamb= 0.8 ,cost_DDR_Ante = 13.043962243812482\n",
      "DDR: iter= 80 ,mu= 0.75 ,lamb= 0.8 ,cost_DDR_Ante = 13.010505616755239\n",
      "DataPath: /Users/zhangxun/Dropbox/Research/Decision_Driven_Regularization/Data_JOC_R1_Submit/Shortest_Path_Final/Various_Settings_SPO_Data_Generation/3by3_grid/data_size=100_deg=1.0_e=0.5_p=5_num_test=1000_x_dist=uniform_e_dist=normal/\n",
      "Results already exist\n",
      "DataPath: /Users/zhangxun/Dropbox/Research/Decision_Driven_Regularization/Data_JOC_R1_Submit/Shortest_Path_Final/Various_Settings_SPO_Data_Generation/3by3_grid/data_size=100_deg=1.2_e=0.5_p=5_num_test=1000_x_dist=uniform_e_dist=normal/\n",
      "DDR: iter= 20 ,mu= 0.75 ,lamb= 0.8 ,cost_DDR_Ante = 18.043064419168957\n",
      "DDR: iter= 40 ,mu= 0.75 ,lamb= 0.8 ,cost_DDR_Ante = 17.054382433015824\n",
      "DDR: iter= 60 ,mu= 0.75 ,lamb= 0.8 ,cost_DDR_Ante = 17.695822623906665\n",
      "DDR: iter= 80 ,mu= 0.75 ,lamb= 0.8 ,cost_DDR_Ante = 17.568980554492402\n",
      "DataPath: /Users/zhangxun/Dropbox/Research/Decision_Driven_Regularization/Data_JOC_R1_Submit/Shortest_Path_Final/Various_Settings_SPO_Data_Generation/3by3_grid/data_size=100_deg=1.4_e=0.5_p=5_num_test=1000_x_dist=uniform_e_dist=normal/\n",
      "DDR: iter= 20 ,mu= 0.75 ,lamb= 0.8 ,cost_DDR_Ante = 21.430718847369672\n",
      "DDR: iter= 40 ,mu= 0.75 ,lamb= 0.8 ,cost_DDR_Ante = 20.017744223989215\n",
      "DDR: iter= 60 ,mu= 0.75 ,lamb= 0.8 ,cost_DDR_Ante = 20.919253650629066\n",
      "DDR: iter= 80 ,mu= 0.75 ,lamb= 0.8 ,cost_DDR_Ante = 20.72867074166387\n",
      "DataPath: /Users/zhangxun/Dropbox/Research/Decision_Driven_Regularization/Data_JOC_R1_Submit/Shortest_Path_Final/Various_Settings_SPO_Data_Generation/3by3_grid/data_size=100_deg=1.6_e=0.5_p=5_num_test=1000_x_dist=uniform_e_dist=normal/\n",
      "DDR: iter= 20 ,mu= 0.75 ,lamb= 0.8 ,cost_DDR_Ante = 25.708944027365185\n",
      "DDR: iter= 40 ,mu= 0.75 ,lamb= 0.8 ,cost_DDR_Ante = 23.69692548816881\n",
      "DDR: iter= 60 ,mu= 0.75 ,lamb= 0.8 ,cost_DDR_Ante = 24.954628841715444\n",
      "DDR: iter= 80 ,mu= 0.75 ,lamb= 0.8 ,cost_DDR_Ante = 24.696145080540706\n",
      "DataPath: /Users/zhangxun/Dropbox/Research/Decision_Driven_Regularization/Data_JOC_R1_Submit/Shortest_Path_Final/Various_Settings_SPO_Data_Generation/3by3_grid/data_size=100_deg=2.0_e=0.5_p=5_num_test=1000_x_dist=uniform_e_dist=normal/\n",
      "DDR: iter= 20 ,mu= 0.75 ,lamb= 0.8 ,cost_DDR_Ante = 37.93560954456419\n",
      "DDR: iter= 40 ,mu= 0.75 ,lamb= 0.8 ,cost_DDR_Ante = 34.01841821861105\n",
      "DDR: iter= 60 ,mu= 0.75 ,lamb= 0.8 ,cost_DDR_Ante = 36.33501257139082\n",
      "DDR: iter= 80 ,mu= 0.75 ,lamb= 0.8 ,cost_DDR_Ante = 35.905529509913315\n",
      "DataPath: /Users/zhangxun/Dropbox/Research/Decision_Driven_Regularization/Data_JOC_R1_Submit/Shortest_Path_Final/Various_Settings_SPO_Data_Generation/3by3_grid/data_size=100_deg=3.0_e=0.5_p=5_num_test=1000_x_dist=uniform_e_dist=normal/\n",
      "DDR: iter= 20 ,mu= 0.75 ,lamb= 0.8 ,cost_DDR_Ante = 112.28826061446553\n",
      "DDR: iter= 40 ,mu= 0.75 ,lamb= 0.8 ,cost_DDR_Ante = 93.44721915899764\n",
      "DDR: iter= 60 ,mu= 0.75 ,lamb= 0.8 ,cost_DDR_Ante = 103.17041454195537\n",
      "DDR: iter= 80 ,mu= 0.75 ,lamb= 0.8 ,cost_DDR_Ante = 102.52858290730164\n",
      "DataPath: /Users/zhangxun/Dropbox/Research/Decision_Driven_Regularization/Data_JOC_R1_Submit/Shortest_Path_Final/Various_Settings_SPO_Data_Generation/3by3_grid/data_size=100_deg=4.0_e=0.5_p=5_num_test=1000_x_dist=uniform_e_dist=normal/\n",
      "DDR: iter= 20 ,mu= 0.75 ,lamb= 0.8 ,cost_DDR_Ante = 368.46066403678805\n",
      "DDR: iter= 40 ,mu= 0.75 ,lamb= 0.8 ,cost_DDR_Ante = 283.23572451895745\n",
      "DDR: iter= 60 ,mu= 0.75 ,lamb= 0.8 ,cost_DDR_Ante = 321.6244021566878\n",
      "DDR: iter= 80 ,mu= 0.75 ,lamb= 0.8 ,cost_DDR_Ante = 325.8818676780609\n"
     ]
    }
   ],
   "source": [
    "for deg in deg_all:\n",
    "    mis = deg # model misspecification\n",
    "    DataPath = DataPath_Parent + f\"data_size={num_train}_deg={deg}_e={e}_p={p}_num_test={num_test}\"+\"_x_dist=\"+x_dist+\"_e_dist=\"+e_dist+\"/\"\n",
    "    print(\"DataPath:\", DataPath)\n",
    "    if os.path.exists(DataPath+\"cost_DDR_Ante_all.pkl\"):\n",
    "        print(\"Results already exist\")\n",
    "    else:\n",
    "        ILA.Run_DDR(DataPath,mu_all,lamb_all,arcs, grid,mis,bump,iteration_all,num_feat,data_generation_process)"
   ]
  },
  {
   "cell_type": "markdown",
   "id": "23ff0fbe",
   "metadata": {},
   "source": [
    "#### Run SPO+"
   ]
  },
  {
   "cell_type": "code",
   "execution_count": 11,
   "id": "5fd7ee5d",
   "metadata": {},
   "outputs": [
    {
     "name": "stdout",
     "output_type": "stream",
     "text": [
      "DataPath: /Users/zhangxun/Dropbox/Research/Decision_Driven_Regularization/Data_JOC_R1_Submit/Shortest_Path_Final/Various_Settings_SPO_Data_Generation/3by3_grid/data_size=100_deg=0.4_e=0.5_p=5_num_test=1000_x_dist=uniform_e_dist=normal/\n",
      "['spo+'] : iter= 20 ,cost_EPO_Ante= 10.222777849653314\n",
      "['spo+'] : iter= 40 ,cost_EPO_Ante= 10.11751602978794\n",
      "['spo+'] : iter= 60 ,cost_EPO_Ante= 10.123548079667243\n",
      "['spo+'] : iter= 80 ,cost_EPO_Ante= 10.078496234374876\n",
      "DataPath: /Users/zhangxun/Dropbox/Research/Decision_Driven_Regularization/Data_JOC_R1_Submit/Shortest_Path_Final/Various_Settings_SPO_Data_Generation/3by3_grid/data_size=100_deg=0.6_e=0.5_p=5_num_test=1000_x_dist=uniform_e_dist=normal/\n",
      "['spo+'] : iter= 20 ,cost_EPO_Ante= 11.662703356672207\n",
      "['spo+'] : iter= 40 ,cost_EPO_Ante= 11.403667902161196\n",
      "['spo+'] : iter= 60 ,cost_EPO_Ante= 11.608047328811303\n",
      "['spo+'] : iter= 80 ,cost_EPO_Ante= 11.616450931967405\n",
      "DataPath: /Users/zhangxun/Dropbox/Research/Decision_Driven_Regularization/Data_JOC_R1_Submit/Shortest_Path_Final/Various_Settings_SPO_Data_Generation/3by3_grid/data_size=100_deg=0.8_e=0.5_p=5_num_test=1000_x_dist=uniform_e_dist=normal/\n",
      "['spo+'] : iter= 20 ,cost_EPO_Ante= 13.617463232247635\n",
      "['spo+'] : iter= 40 ,cost_EPO_Ante= 13.626923340890254\n",
      "['spo+'] : iter= 60 ,cost_EPO_Ante= 13.377497223826461\n",
      "['spo+'] : iter= 80 ,cost_EPO_Ante= 13.345421135953137\n",
      "DataPath: /Users/zhangxun/Dropbox/Research/Decision_Driven_Regularization/Data_JOC_R1_Submit/Shortest_Path_Final/Various_Settings_SPO_Data_Generation/3by3_grid/data_size=100_deg=1.0_e=0.5_p=5_num_test=1000_x_dist=uniform_e_dist=normal/\n",
      "Results already exist\n",
      "DataPath: /Users/zhangxun/Dropbox/Research/Decision_Driven_Regularization/Data_JOC_R1_Submit/Shortest_Path_Final/Various_Settings_SPO_Data_Generation/3by3_grid/data_size=100_deg=1.2_e=0.5_p=5_num_test=1000_x_dist=uniform_e_dist=normal/\n",
      "['spo+'] : iter= 20 ,cost_EPO_Ante= 19.230289756924726\n",
      "['spo+'] : iter= 40 ,cost_EPO_Ante= 19.116926264125173\n",
      "['spo+'] : iter= 60 ,cost_EPO_Ante= 18.435636275328886\n",
      "['spo+'] : iter= 80 ,cost_EPO_Ante= 18.34709242872339\n",
      "DataPath: /Users/zhangxun/Dropbox/Research/Decision_Driven_Regularization/Data_JOC_R1_Submit/Shortest_Path_Final/Various_Settings_SPO_Data_Generation/3by3_grid/data_size=100_deg=1.4_e=0.5_p=5_num_test=1000_x_dist=uniform_e_dist=normal/\n",
      "['spo+'] : iter= 20 ,cost_EPO_Ante= 23.370546199682845\n",
      "['spo+'] : iter= 40 ,cost_EPO_Ante= 22.792483203668358\n",
      "['spo+'] : iter= 60 ,cost_EPO_Ante= 21.901766244827677\n",
      "['spo+'] : iter= 80 ,cost_EPO_Ante= 21.644457992825078\n",
      "DataPath: /Users/zhangxun/Dropbox/Research/Decision_Driven_Regularization/Data_JOC_R1_Submit/Shortest_Path_Final/Various_Settings_SPO_Data_Generation/3by3_grid/data_size=100_deg=1.6_e=0.5_p=5_num_test=1000_x_dist=uniform_e_dist=normal/\n",
      "['spo+'] : iter= 20 ,cost_EPO_Ante= 26.855501787216756\n",
      "['spo+'] : iter= 40 ,cost_EPO_Ante= 26.81887101996822\n",
      "['spo+'] : iter= 60 ,cost_EPO_Ante= 26.205447595604934\n",
      "['spo+'] : iter= 80 ,cost_EPO_Ante= 25.958454917600406\n",
      "DataPath: /Users/zhangxun/Dropbox/Research/Decision_Driven_Regularization/Data_JOC_R1_Submit/Shortest_Path_Final/Various_Settings_SPO_Data_Generation/3by3_grid/data_size=100_deg=2.0_e=0.5_p=5_num_test=1000_x_dist=uniform_e_dist=normal/\n",
      "['spo+'] : iter= 20 ,cost_EPO_Ante= 45.02687064117586\n",
      "['spo+'] : iter= 40 ,cost_EPO_Ante= 41.87545739386787\n",
      "['spo+'] : iter= 60 ,cost_EPO_Ante= 39.37182101984577\n",
      "['spo+'] : iter= 80 ,cost_EPO_Ante= 39.99855131900359\n",
      "DataPath: /Users/zhangxun/Dropbox/Research/Decision_Driven_Regularization/Data_JOC_R1_Submit/Shortest_Path_Final/Various_Settings_SPO_Data_Generation/3by3_grid/data_size=100_deg=3.0_e=0.5_p=5_num_test=1000_x_dist=uniform_e_dist=normal/\n",
      "['spo+'] : iter= 20 ,cost_EPO_Ante= 134.5618921912767\n",
      "['spo+'] : iter= 40 ,cost_EPO_Ante= 114.86312827124542\n",
      "['spo+'] : iter= 60 ,cost_EPO_Ante= 116.41569164700842\n",
      "['spo+'] : iter= 80 ,cost_EPO_Ante= 128.88688251829572\n",
      "DataPath: /Users/zhangxun/Dropbox/Research/Decision_Driven_Regularization/Data_JOC_R1_Submit/Shortest_Path_Final/Various_Settings_SPO_Data_Generation/3by3_grid/data_size=100_deg=4.0_e=0.5_p=5_num_test=1000_x_dist=uniform_e_dist=normal/\n",
      "['spo+'] : iter= 20 ,cost_EPO_Ante= 482.73645927296917\n",
      "['spo+'] : iter= 40 ,cost_EPO_Ante= 455.14930305355836\n",
      "['spo+'] : iter= 60 ,cost_EPO_Ante= 429.2346383229641\n",
      "['spo+'] : iter= 80 ,cost_EPO_Ante= 486.86932569415563\n"
     ]
    }
   ],
   "source": [
    "method_names = [\"spo+\"]\n",
    "for deg in deg_all:\n",
    "    mis = deg # model misspecification\n",
    "    DataPath = DataPath_Parent + f\"data_size={num_train}_deg={deg}_e={e}_p={p}_num_test={num_test}\"+\"_x_dist=\"+x_dist+\"_e_dist=\"+e_dist+\"/\"\n",
    "    print(\"DataPath:\", DataPath)\n",
    "    if os.path.exists(DataPath+\"cost_spo+_Ante_all.pkl\"):\n",
    "        print(\"Results already exist\")\n",
    "    else:\n",
    "        ILA.run_EPO_approaches(DataPath,method_names,arcs, grid,mis,bump,iteration_all,num_feat,data_generation_process)"
   ]
  },
  {
   "cell_type": "markdown",
   "id": "88378e92",
   "metadata": {},
   "source": [
    "#### Run PG"
   ]
  },
  {
   "cell_type": "code",
   "execution_count": 12,
   "id": "cc71653a",
   "metadata": {},
   "outputs": [
    {
     "name": "stdout",
     "output_type": "stream",
     "text": [
      "DataPath: /Users/zhangxun/Dropbox/Research/Decision_Driven_Regularization/Data_JOC_R1_Submit/Shortest_Path_Final/Various_Settings_SPO_Data_Generation/3by3_grid/data_size=100_deg=0.4_e=0.5_p=5_num_test=1000_x_dist=uniform_e_dist=normal/\n",
      "['pg'] : iter= 20 ,cost_EPO_Ante= 10.169004056290138\n",
      "['pg'] : iter= 40 ,cost_EPO_Ante= 10.215616224485197\n",
      "['pg'] : iter= 60 ,cost_EPO_Ante= 10.151747614673083\n",
      "['pg'] : iter= 80 ,cost_EPO_Ante= 10.131334788871595\n",
      "DataPath: /Users/zhangxun/Dropbox/Research/Decision_Driven_Regularization/Data_JOC_R1_Submit/Shortest_Path_Final/Various_Settings_SPO_Data_Generation/3by3_grid/data_size=100_deg=0.6_e=0.5_p=5_num_test=1000_x_dist=uniform_e_dist=normal/\n",
      "['pg'] : iter= 20 ,cost_EPO_Ante= 11.785697821960213\n",
      "['pg'] : iter= 40 ,cost_EPO_Ante= 11.699819598085377\n",
      "['pg'] : iter= 60 ,cost_EPO_Ante= 11.656763895342385\n",
      "['pg'] : iter= 80 ,cost_EPO_Ante= 11.558193864709654\n",
      "DataPath: /Users/zhangxun/Dropbox/Research/Decision_Driven_Regularization/Data_JOC_R1_Submit/Shortest_Path_Final/Various_Settings_SPO_Data_Generation/3by3_grid/data_size=100_deg=0.8_e=0.5_p=5_num_test=1000_x_dist=uniform_e_dist=normal/\n",
      "['pg'] : iter= 20 ,cost_EPO_Ante= 13.744253765738144\n",
      "['pg'] : iter= 40 ,cost_EPO_Ante= 13.733615239608957\n",
      "['pg'] : iter= 60 ,cost_EPO_Ante= 13.509098795166214\n",
      "['pg'] : iter= 80 ,cost_EPO_Ante= 13.459358859651454\n",
      "DataPath: /Users/zhangxun/Dropbox/Research/Decision_Driven_Regularization/Data_JOC_R1_Submit/Shortest_Path_Final/Various_Settings_SPO_Data_Generation/3by3_grid/data_size=100_deg=1.0_e=0.5_p=5_num_test=1000_x_dist=uniform_e_dist=normal/\n",
      "Results already exist\n",
      "DataPath: /Users/zhangxun/Dropbox/Research/Decision_Driven_Regularization/Data_JOC_R1_Submit/Shortest_Path_Final/Various_Settings_SPO_Data_Generation/3by3_grid/data_size=100_deg=1.2_e=0.5_p=5_num_test=1000_x_dist=uniform_e_dist=normal/\n",
      "['pg'] : iter= 20 ,cost_EPO_Ante= 19.569785771353835\n",
      "['pg'] : iter= 40 ,cost_EPO_Ante= 18.594872440953566\n",
      "['pg'] : iter= 60 ,cost_EPO_Ante= 18.81135684122901\n",
      "['pg'] : iter= 80 ,cost_EPO_Ante= 19.585742729549732\n",
      "DataPath: /Users/zhangxun/Dropbox/Research/Decision_Driven_Regularization/Data_JOC_R1_Submit/Shortest_Path_Final/Various_Settings_SPO_Data_Generation/3by3_grid/data_size=100_deg=1.4_e=0.5_p=5_num_test=1000_x_dist=uniform_e_dist=normal/\n",
      "['pg'] : iter= 20 ,cost_EPO_Ante= 23.228617188519284\n",
      "['pg'] : iter= 40 ,cost_EPO_Ante= 22.40070712870991\n",
      "['pg'] : iter= 60 ,cost_EPO_Ante= 22.75617540626653\n",
      "['pg'] : iter= 80 ,cost_EPO_Ante= 22.492245509892218\n",
      "DataPath: /Users/zhangxun/Dropbox/Research/Decision_Driven_Regularization/Data_JOC_R1_Submit/Shortest_Path_Final/Various_Settings_SPO_Data_Generation/3by3_grid/data_size=100_deg=1.6_e=0.5_p=5_num_test=1000_x_dist=uniform_e_dist=normal/\n",
      "['pg'] : iter= 20 ,cost_EPO_Ante= 27.120555294741795\n",
      "['pg'] : iter= 40 ,cost_EPO_Ante= 27.410743455430158\n",
      "['pg'] : iter= 60 ,cost_EPO_Ante= 27.616447169647238\n",
      "['pg'] : iter= 80 ,cost_EPO_Ante= 27.403223659568617\n",
      "DataPath: /Users/zhangxun/Dropbox/Research/Decision_Driven_Regularization/Data_JOC_R1_Submit/Shortest_Path_Final/Various_Settings_SPO_Data_Generation/3by3_grid/data_size=100_deg=2.0_e=0.5_p=5_num_test=1000_x_dist=uniform_e_dist=normal/\n",
      "['pg'] : iter= 20 ,cost_EPO_Ante= 44.493924133516686\n",
      "['pg'] : iter= 40 ,cost_EPO_Ante= 41.90059096796221\n",
      "['pg'] : iter= 60 ,cost_EPO_Ante= 41.19023176348413\n",
      "['pg'] : iter= 80 ,cost_EPO_Ante= 40.872527631721894\n",
      "DataPath: /Users/zhangxun/Dropbox/Research/Decision_Driven_Regularization/Data_JOC_R1_Submit/Shortest_Path_Final/Various_Settings_SPO_Data_Generation/3by3_grid/data_size=100_deg=3.0_e=0.5_p=5_num_test=1000_x_dist=uniform_e_dist=normal/\n",
      "['pg'] : iter= 20 ,cost_EPO_Ante= 139.47296990074148\n",
      "['pg'] : iter= 40 ,cost_EPO_Ante= 131.39065475150448\n",
      "['pg'] : iter= 60 ,cost_EPO_Ante= 121.3017811773005\n",
      "['pg'] : iter= 80 ,cost_EPO_Ante= 140.01513640806544\n",
      "DataPath: /Users/zhangxun/Dropbox/Research/Decision_Driven_Regularization/Data_JOC_R1_Submit/Shortest_Path_Final/Various_Settings_SPO_Data_Generation/3by3_grid/data_size=100_deg=4.0_e=0.5_p=5_num_test=1000_x_dist=uniform_e_dist=normal/\n",
      "['pg'] : iter= 20 ,cost_EPO_Ante= 430.13315645054865\n",
      "['pg'] : iter= 40 ,cost_EPO_Ante= 417.71754465805304\n",
      "['pg'] : iter= 60 ,cost_EPO_Ante= 368.40566103591294\n",
      "['pg'] : iter= 80 ,cost_EPO_Ante= 502.1958080420583\n"
     ]
    }
   ],
   "source": [
    "method_names = [\"pg\"]\n",
    "for deg in deg_all:\n",
    "    mis = deg # model misspecification\n",
    "    DataPath = DataPath_Parent + f\"data_size={num_train}_deg={deg}_e={e}_p={p}_num_test={num_test}\"+\"_x_dist=\"+x_dist+\"_e_dist=\"+e_dist+\"/\"\n",
    "    print(\"DataPath:\", DataPath)\n",
    "    if os.path.exists(DataPath+\"cost_pg_Ante_all.pkl\"):\n",
    "        print(\"Results already exist\")\n",
    "    else:\n",
    "        ILA.run_EPO_approaches(DataPath,method_names,arcs, grid,mis,bump,iteration_all,num_feat,data_generation_process)"
   ]
  },
  {
   "cell_type": "markdown",
   "id": "33db90e3",
   "metadata": {},
   "source": [
    "#### Run LTR"
   ]
  },
  {
   "cell_type": "code",
   "execution_count": 13,
   "id": "e8a3235c",
   "metadata": {},
   "outputs": [
    {
     "name": "stdout",
     "output_type": "stream",
     "text": [
      "DataPath: /Users/zhangxun/Dropbox/Research/Decision_Driven_Regularization/Data_JOC_R1_Submit/Shortest_Path_Final/Various_Settings_SPO_Data_Generation/3by3_grid/data_size=100_deg=0.4_e=0.5_p=5_num_test=1000_x_dist=uniform_e_dist=normal/\n",
      "['ltr'] : iter= 20 ,cost_EPO_Ante= 10.224570137444902\n",
      "['ltr'] : iter= 40 ,cost_EPO_Ante= 10.12096669469061\n",
      "['ltr'] : iter= 60 ,cost_EPO_Ante= 10.044288671908403\n",
      "['ltr'] : iter= 80 ,cost_EPO_Ante= 10.15814064303655\n",
      "DataPath: /Users/zhangxun/Dropbox/Research/Decision_Driven_Regularization/Data_JOC_R1_Submit/Shortest_Path_Final/Various_Settings_SPO_Data_Generation/3by3_grid/data_size=100_deg=0.6_e=0.5_p=5_num_test=1000_x_dist=uniform_e_dist=normal/\n",
      "['ltr'] : iter= 20 ,cost_EPO_Ante= 11.556794303504573\n",
      "['ltr'] : iter= 40 ,cost_EPO_Ante= 11.68456409032566\n",
      "['ltr'] : iter= 60 ,cost_EPO_Ante= 11.580911034470704\n",
      "['ltr'] : iter= 80 ,cost_EPO_Ante= 11.85542673380648\n",
      "DataPath: /Users/zhangxun/Dropbox/Research/Decision_Driven_Regularization/Data_JOC_R1_Submit/Shortest_Path_Final/Various_Settings_SPO_Data_Generation/3by3_grid/data_size=100_deg=0.8_e=0.5_p=5_num_test=1000_x_dist=uniform_e_dist=normal/\n",
      "['ltr'] : iter= 20 ,cost_EPO_Ante= 13.586257777036868\n",
      "['ltr'] : iter= 40 ,cost_EPO_Ante= 13.60416897450928\n",
      "['ltr'] : iter= 60 ,cost_EPO_Ante= 13.37958093826727\n",
      "['ltr'] : iter= 80 ,cost_EPO_Ante= 13.636392909502135\n",
      "DataPath: /Users/zhangxun/Dropbox/Research/Decision_Driven_Regularization/Data_JOC_R1_Submit/Shortest_Path_Final/Various_Settings_SPO_Data_Generation/3by3_grid/data_size=100_deg=1.0_e=0.5_p=5_num_test=1000_x_dist=uniform_e_dist=normal/\n",
      "Results already exist\n",
      "DataPath: /Users/zhangxun/Dropbox/Research/Decision_Driven_Regularization/Data_JOC_R1_Submit/Shortest_Path_Final/Various_Settings_SPO_Data_Generation/3by3_grid/data_size=100_deg=1.2_e=0.5_p=5_num_test=1000_x_dist=uniform_e_dist=normal/\n",
      "['ltr'] : iter= 20 ,cost_EPO_Ante= 19.173648278170724\n",
      "['ltr'] : iter= 40 ,cost_EPO_Ante= 18.616413031969405\n",
      "['ltr'] : iter= 60 ,cost_EPO_Ante= 18.419123917297785\n",
      "['ltr'] : iter= 80 ,cost_EPO_Ante= 19.009389832750045\n",
      "DataPath: /Users/zhangxun/Dropbox/Research/Decision_Driven_Regularization/Data_JOC_R1_Submit/Shortest_Path_Final/Various_Settings_SPO_Data_Generation/3by3_grid/data_size=100_deg=1.4_e=0.5_p=5_num_test=1000_x_dist=uniform_e_dist=normal/\n",
      "['ltr'] : iter= 20 ,cost_EPO_Ante= 23.13545107170196\n",
      "['ltr'] : iter= 40 ,cost_EPO_Ante= 23.586456746213692\n",
      "['ltr'] : iter= 60 ,cost_EPO_Ante= 22.87960352367579\n",
      "['ltr'] : iter= 80 ,cost_EPO_Ante= 22.828763114839617\n",
      "DataPath: /Users/zhangxun/Dropbox/Research/Decision_Driven_Regularization/Data_JOC_R1_Submit/Shortest_Path_Final/Various_Settings_SPO_Data_Generation/3by3_grid/data_size=100_deg=1.6_e=0.5_p=5_num_test=1000_x_dist=uniform_e_dist=normal/\n",
      "['ltr'] : iter= 20 ,cost_EPO_Ante= 28.216364574505256\n",
      "['ltr'] : iter= 40 ,cost_EPO_Ante= 30.056934057481264\n",
      "['ltr'] : iter= 60 ,cost_EPO_Ante= 26.962408394252662\n",
      "['ltr'] : iter= 80 ,cost_EPO_Ante= 27.9677952414741\n",
      "DataPath: /Users/zhangxun/Dropbox/Research/Decision_Driven_Regularization/Data_JOC_R1_Submit/Shortest_Path_Final/Various_Settings_SPO_Data_Generation/3by3_grid/data_size=100_deg=2.0_e=0.5_p=5_num_test=1000_x_dist=uniform_e_dist=normal/\n",
      "['ltr'] : iter= 20 ,cost_EPO_Ante= 42.24998560268475\n",
      "['ltr'] : iter= 40 ,cost_EPO_Ante= 41.28592564454588\n",
      "['ltr'] : iter= 60 ,cost_EPO_Ante= 41.51392317331645\n",
      "['ltr'] : iter= 80 ,cost_EPO_Ante= 40.96344833281801\n",
      "DataPath: /Users/zhangxun/Dropbox/Research/Decision_Driven_Regularization/Data_JOC_R1_Submit/Shortest_Path_Final/Various_Settings_SPO_Data_Generation/3by3_grid/data_size=100_deg=3.0_e=0.5_p=5_num_test=1000_x_dist=uniform_e_dist=normal/\n",
      "['ltr'] : iter= 20 ,cost_EPO_Ante= 131.3634710224585\n",
      "['ltr'] : iter= 40 ,cost_EPO_Ante= 137.68071371045954\n",
      "['ltr'] : iter= 60 ,cost_EPO_Ante= 130.9190325379184\n",
      "['ltr'] : iter= 80 ,cost_EPO_Ante= 133.87134160910887\n",
      "DataPath: /Users/zhangxun/Dropbox/Research/Decision_Driven_Regularization/Data_JOC_R1_Submit/Shortest_Path_Final/Various_Settings_SPO_Data_Generation/3by3_grid/data_size=100_deg=4.0_e=0.5_p=5_num_test=1000_x_dist=uniform_e_dist=normal/\n",
      "['ltr'] : iter= 20 ,cost_EPO_Ante= 448.7419310189699\n",
      "['ltr'] : iter= 40 ,cost_EPO_Ante= 428.74511801825275\n",
      "['ltr'] : iter= 60 ,cost_EPO_Ante= 459.1922424042494\n",
      "['ltr'] : iter= 80 ,cost_EPO_Ante= 463.66037891758606\n"
     ]
    }
   ],
   "source": [
    "method_names = [\"ltr\"]\n",
    "for deg in deg_all:\n",
    "    mis = deg # model misspecification\n",
    "    DataPath = DataPath_Parent + f\"data_size={num_train}_deg={deg}_e={e}_p={p}_num_test={num_test}\"+\"_x_dist=\"+x_dist+\"_e_dist=\"+e_dist+\"/\"\n",
    "    print(\"DataPath:\", DataPath)\n",
    "    if os.path.exists(DataPath+\"cost_ltr_Ante_all.pkl\"):\n",
    "        print(\"Results already exist\")\n",
    "    else:\n",
    "        ILA.run_EPO_approaches(DataPath,method_names,arcs, grid,mis,bump,iteration_all,num_feat,data_generation_process)"
   ]
  },
  {
   "cell_type": "markdown",
   "id": "03ae7c19",
   "metadata": {},
   "source": [
    "### Comparison "
   ]
  },
  {
   "cell_type": "markdown",
   "id": "7afed910",
   "metadata": {},
   "source": [
    "##### DDR vs OLS"
   ]
  },
  {
   "cell_type": "code",
   "execution_count": 14,
   "id": "15b7aff1",
   "metadata": {},
   "outputs": [
    {
     "name": "stdout",
     "output_type": "stream",
     "text": [
      "DataPath: /Users/zhangxun/Dropbox/Research/Decision_Driven_Regularization/Data_JOC_R1_Submit/Shortest_Path_Final/Various_Settings_SPO_Data_Generation/3by3_grid/data_size=100_deg=0.4_e=0.5_p=5_num_test=1000_x_dist=uniform_e_dist=normal/\n",
      "DataPath: /Users/zhangxun/Dropbox/Research/Decision_Driven_Regularization/Data_JOC_R1_Submit/Shortest_Path_Final/Various_Settings_SPO_Data_Generation/3by3_grid/data_size=100_deg=0.6_e=0.5_p=5_num_test=1000_x_dist=uniform_e_dist=normal/\n",
      "DataPath: /Users/zhangxun/Dropbox/Research/Decision_Driven_Regularization/Data_JOC_R1_Submit/Shortest_Path_Final/Various_Settings_SPO_Data_Generation/3by3_grid/data_size=100_deg=0.8_e=0.5_p=5_num_test=1000_x_dist=uniform_e_dist=normal/\n",
      "DataPath: /Users/zhangxun/Dropbox/Research/Decision_Driven_Regularization/Data_JOC_R1_Submit/Shortest_Path_Final/Various_Settings_SPO_Data_Generation/3by3_grid/data_size=100_deg=1.0_e=0.5_p=5_num_test=1000_x_dist=uniform_e_dist=normal/\n",
      "DataPath: /Users/zhangxun/Dropbox/Research/Decision_Driven_Regularization/Data_JOC_R1_Submit/Shortest_Path_Final/Various_Settings_SPO_Data_Generation/3by3_grid/data_size=100_deg=1.2_e=0.5_p=5_num_test=1000_x_dist=uniform_e_dist=normal/\n",
      "DataPath: /Users/zhangxun/Dropbox/Research/Decision_Driven_Regularization/Data_JOC_R1_Submit/Shortest_Path_Final/Various_Settings_SPO_Data_Generation/3by3_grid/data_size=100_deg=1.4_e=0.5_p=5_num_test=1000_x_dist=uniform_e_dist=normal/\n",
      "DataPath: /Users/zhangxun/Dropbox/Research/Decision_Driven_Regularization/Data_JOC_R1_Submit/Shortest_Path_Final/Various_Settings_SPO_Data_Generation/3by3_grid/data_size=100_deg=1.6_e=0.5_p=5_num_test=1000_x_dist=uniform_e_dist=normal/\n",
      "DataPath: /Users/zhangxun/Dropbox/Research/Decision_Driven_Regularization/Data_JOC_R1_Submit/Shortest_Path_Final/Various_Settings_SPO_Data_Generation/3by3_grid/data_size=100_deg=2.0_e=0.5_p=5_num_test=1000_x_dist=uniform_e_dist=normal/\n",
      "DataPath: /Users/zhangxun/Dropbox/Research/Decision_Driven_Regularization/Data_JOC_R1_Submit/Shortest_Path_Final/Various_Settings_SPO_Data_Generation/3by3_grid/data_size=100_deg=3.0_e=0.5_p=5_num_test=1000_x_dist=uniform_e_dist=normal/\n",
      "DataPath: /Users/zhangxun/Dropbox/Research/Decision_Driven_Regularization/Data_JOC_R1_Submit/Shortest_Path_Final/Various_Settings_SPO_Data_Generation/3by3_grid/data_size=100_deg=4.0_e=0.5_p=5_num_test=1000_x_dist=uniform_e_dist=normal/\n"
     ]
    }
   ],
   "source": [
    "regret_d_ante_Dict = {}; h2h_d_ante_Dict = {}\n",
    "for mu in mu_all:\n",
    "    for lamb in lamb_all:\n",
    "        regret_d_ante = np.zeros(len(deg_all)); h2h_d_ante = np.zeros(len(deg_all))\n",
    "        _index = 0\n",
    "        for deg in deg_all:\n",
    "            mis = deg # model misspecification\n",
    "            DataPath = DataPath_Parent + f\"data_size={num_train}_deg={deg}_e={e}_p={p}_num_test={num_test}\"+\"_x_dist=\"+x_dist+\"_e_dist=\"+e_dist+\"/\"\n",
    "            print(\"DataPath:\", DataPath)\n",
    "            cost_Oracle_Ante_all,cost_OLS_Ante_all,cost_DDR_Ante_all = Data_LSM.load_cost_data(DataPath)\n",
    "            h2h_d_ante[_index], regret_d_ante[_index] = h2h_regret_eva.calculate_h2h_regret(mu,lamb,iteration_all,\\\n",
    "                                        0,0,0,\\\n",
    "                                        cost_DDR_Ante_all,cost_OLS_Ante_all,cost_Oracle_Ante_all)\n",
    "            _index = _index + 1\n",
    "        regret_d_ante_Dict[mu,lamb] = regret_d_ante\n",
    "        h2h_d_ante_Dict[mu,lamb] = h2h_d_ante\n",
    "with open(Result_dir+'regret_d_ante_Dict.pkl', \"wb\") as tf:\n",
    "    pickle.dump(regret_d_ante_Dict,tf)\n",
    "with open(Result_dir+'h2h_d_ante_Dict.pkl', \"wb\") as tf:\n",
    "    pickle.dump(h2h_d_ante_Dict,tf)"
   ]
  },
  {
   "cell_type": "code",
   "execution_count": 15,
   "id": "b4127127",
   "metadata": {},
   "outputs": [],
   "source": [
    "mu = 0.75\n",
    "lamb = 0.8\n",
    "h2h_fig = h2h_d_ante_Dict[mu,lamb]\n",
    "regret_fig = regret_d_ante_Dict[mu,lamb]"
   ]
  },
  {
   "cell_type": "code",
   "execution_count": 16,
   "id": "7cba1a20",
   "metadata": {},
   "outputs": [
    {
     "data": {
      "image/png": "[encoded data removed]",
      "text/plain": [
       "<Figure size 500x500 with 1 Axes>"
      ]
     },
     "metadata": {},
     "output_type": "display_data"
    }
   ],
   "source": [
    "ms = 6 # marker size\n",
    "fs = 12 # font size\n",
    "ls = 12 # label size\n",
    "import matplotlib.pyplot as plt\n",
    "fig, ax = plt.subplots(figsize=(5, 5))\n",
    "d_indices = [0, 1, 2, 4, 5, 6, 7, 8, 9]\n",
    "for i in d_indices:\n",
    "    ax.plot(h2h_fig[i], regret_fig[i], color='#003D7C', marker='o', markersize = ms,linestyle='None')\n",
    "ax.plot(h2h_fig[3], regret_fig[3],color='red', marker='o', markersize = ms,linestyle='None')\n",
    "ax.text(h2h_fig[3] + 0.02, regret_fig[3] - 0.01, 'Baseline', color='red',fontsize=fs)\n",
    "\n",
    "ax.text(h2h_fig[0] + 0.02, regret_fig[0] - 0.01, fr'$\\beta$={deg_all[0]}', color='#003D7C',fontsize=fs)\n",
    "ax.text(h2h_fig[1] + 0.02, regret_fig[1] - 0.01, fr'$\\beta$={deg_all[1]}', color='#003D7C',fontsize=fs)\n",
    "ax.text(h2h_fig[2] + 0.02, regret_fig[2] - 0.01, fr'$\\beta$={deg_all[2]}', color='#003D7C',fontsize=fs)\n",
    "ax.text(h2h_fig[4] + 0.02, regret_fig[4] - 0.02, fr'$\\beta$={deg_all[4]}', color='#003D7C',fontsize=fs)\n",
    "ax.text(h2h_fig[5] - 0.1, regret_fig[5] - 0.02, fr'$\\beta$={deg_all[5]}', color='#003D7C',fontsize=fs)\n",
    "ax.text(h2h_fig[6] - 0.06, regret_fig[6] - 0.04, fr'$\\beta$={deg_all[6]}', color='#003D7C',fontsize=fs)\n",
    "ax.text(h2h_fig[7] + 0.016, regret_fig[7] - 0.01, fr'$\\beta$={deg_all[7]}', color='#003D7C',fontsize=fs)\n",
    "ax.text(h2h_fig[8] + 0.02, regret_fig[8] - 0.01, fr'$\\beta$={deg_all[8]}', color='#003D7C',fontsize=fs)\n",
    "ax.text(h2h_fig[9] + 0.02, regret_fig[9] - 0.01, fr'$\\beta$={deg_all[9]}', color='#003D7C',fontsize=fs)\n",
    "\n",
    "# ax.set_title(r'Effect of model misspecification: $\\beta$')\n",
    "ax.set_xlabel('Head-to-head')\n",
    "ax.set_ylabel('Regret reduction')\n",
    "# ax.grid(True)\n",
    "\n",
    "ax.axvline(0.5, linestyle='dashed', alpha=0.8, color='k')\n",
    "ax.axhline(0.0, linestyle='dashed', alpha=0.8, color='k')\n",
    "ax.set_xlim(0.4, 1.05)\n",
    "ax.set_ylim(-0.1, 0.7)\n",
    "ax.label_outer()\n",
    "\n",
    "# plt.tight_layout()\n",
    "fig.savefig(Result_dir + f'DDR_vs_OLS_Mis_ante_mu={mu}_lamb={lamb}.pdf', format='pdf', bbox_inches=\"tight\")\n",
    "plt.show()\n"
   ]
  },
  {
   "cell_type": "markdown",
   "id": "9a4fe78b",
   "metadata": {},
   "source": [
    "##### DDR vs SPO+"
   ]
  },
  {
   "cell_type": "code",
   "execution_count": 17,
   "id": "d107abbf",
   "metadata": {},
   "outputs": [
    {
     "name": "stdout",
     "output_type": "stream",
     "text": [
      "DataPath: /Users/zhangxun/Dropbox/Research/Decision_Driven_Regularization/Data_JOC_R1_Submit/Shortest_Path_Final/Various_Settings_SPO_Data_Generation/3by3_grid/data_size=100_deg=0.4_e=0.5_p=5_num_test=1000_x_dist=uniform_e_dist=normal/\n",
      "DataPath: /Users/zhangxun/Dropbox/Research/Decision_Driven_Regularization/Data_JOC_R1_Submit/Shortest_Path_Final/Various_Settings_SPO_Data_Generation/3by3_grid/data_size=100_deg=0.6_e=0.5_p=5_num_test=1000_x_dist=uniform_e_dist=normal/\n",
      "DataPath: /Users/zhangxun/Dropbox/Research/Decision_Driven_Regularization/Data_JOC_R1_Submit/Shortest_Path_Final/Various_Settings_SPO_Data_Generation/3by3_grid/data_size=100_deg=0.8_e=0.5_p=5_num_test=1000_x_dist=uniform_e_dist=normal/\n",
      "DataPath: /Users/zhangxun/Dropbox/Research/Decision_Driven_Regularization/Data_JOC_R1_Submit/Shortest_Path_Final/Various_Settings_SPO_Data_Generation/3by3_grid/data_size=100_deg=1.0_e=0.5_p=5_num_test=1000_x_dist=uniform_e_dist=normal/\n",
      "DataPath: /Users/zhangxun/Dropbox/Research/Decision_Driven_Regularization/Data_JOC_R1_Submit/Shortest_Path_Final/Various_Settings_SPO_Data_Generation/3by3_grid/data_size=100_deg=1.2_e=0.5_p=5_num_test=1000_x_dist=uniform_e_dist=normal/\n",
      "DataPath: /Users/zhangxun/Dropbox/Research/Decision_Driven_Regularization/Data_JOC_R1_Submit/Shortest_Path_Final/Various_Settings_SPO_Data_Generation/3by3_grid/data_size=100_deg=1.4_e=0.5_p=5_num_test=1000_x_dist=uniform_e_dist=normal/\n",
      "DataPath: /Users/zhangxun/Dropbox/Research/Decision_Driven_Regularization/Data_JOC_R1_Submit/Shortest_Path_Final/Various_Settings_SPO_Data_Generation/3by3_grid/data_size=100_deg=1.6_e=0.5_p=5_num_test=1000_x_dist=uniform_e_dist=normal/\n",
      "DataPath: /Users/zhangxun/Dropbox/Research/Decision_Driven_Regularization/Data_JOC_R1_Submit/Shortest_Path_Final/Various_Settings_SPO_Data_Generation/3by3_grid/data_size=100_deg=2.0_e=0.5_p=5_num_test=1000_x_dist=uniform_e_dist=normal/\n",
      "DataPath: /Users/zhangxun/Dropbox/Research/Decision_Driven_Regularization/Data_JOC_R1_Submit/Shortest_Path_Final/Various_Settings_SPO_Data_Generation/3by3_grid/data_size=100_deg=3.0_e=0.5_p=5_num_test=1000_x_dist=uniform_e_dist=normal/\n",
      "DataPath: /Users/zhangxun/Dropbox/Research/Decision_Driven_Regularization/Data_JOC_R1_Submit/Shortest_Path_Final/Various_Settings_SPO_Data_Generation/3by3_grid/data_size=100_deg=4.0_e=0.5_p=5_num_test=1000_x_dist=uniform_e_dist=normal/\n"
     ]
    }
   ],
   "source": [
    "regret_DDR_vs_SPO_d_ante_Dict = {}; h2h_DDR_vs_SPO_d_ante_Dict = {}\n",
    "for mu in mu_all:\n",
    "    for lamb in lamb_all:\n",
    "        regret_d_ante = np.zeros(len(deg_all)); h2h_d_ante = np.zeros(len(deg_all))\n",
    "        _index = 0\n",
    "        for deg in deg_all:\n",
    "            mis = deg # model misspecification\n",
    "            DataPath = DataPath_Parent + f\"data_size={num_train}_deg={deg}_e={e}_p={p}_num_test={num_test}\"+\"_x_dist=\"+x_dist+\"_e_dist=\"+e_dist+\"/\"\n",
    "            print(\"DataPath:\", DataPath)\n",
    "\n",
    "            cost_Oracle_Ante_all,cost_OLS_Ante_all,cost_DDR_Ante_all = Data_LSM.load_cost_data(DataPath)\n",
    "            with open(DataPath+'cost_spo+_Ante_all.pkl', \"rb\") as tf:\n",
    "                cost_SPO_Ante_all = pickle.load(tf)            \n",
    "            h2h_d_ante[_index], regret_d_ante[_index] = h2h_regret_eva.calculate_h2h_regret(mu,lamb,iteration_all,\\\n",
    "                                0,0,0,\\\n",
    "                                    cost_DDR_Ante_all,cost_SPO_Ante_all,cost_Oracle_Ante_all)\n",
    "            _index = _index + 1\n",
    "        regret_DDR_vs_SPO_d_ante_Dict[mu,lamb] = regret_d_ante\n",
    "        h2h_DDR_vs_SPO_d_ante_Dict[mu,lamb] = h2h_d_ante\n",
    "with open(Result_dir+'regret_DDR_vs_SPO_d_ante_Dict.pkl', \"wb\") as tf:\n",
    "    pickle.dump(regret_DDR_vs_SPO_d_ante_Dict,tf)\n",
    "with open(Result_dir+'h2h_DDR_vs_SPO_d_ante_Dict.pkl', \"wb\") as tf:\n",
    "    pickle.dump(h2h_DDR_vs_SPO_d_ante_Dict,tf)"
   ]
  },
  {
   "cell_type": "code",
   "execution_count": 18,
   "id": "47a91ba4",
   "metadata": {},
   "outputs": [],
   "source": [
    "mu = 0.75\n",
    "lamb = 0.8\n",
    "h2h_fig = h2h_DDR_vs_SPO_d_ante_Dict[mu,lamb]\n",
    "regret_fig = regret_DDR_vs_SPO_d_ante_Dict[mu,lamb]"
   ]
  },
  {
   "cell_type": "code",
   "execution_count": 19,
   "id": "83c9c783",
   "metadata": {},
   "outputs": [
    {
     "data": {
      "image/png": "[encoded data removed]",
      "text/plain": [
       "<Figure size 500x500 with 1 Axes>"
      ]
     },
     "metadata": {},
     "output_type": "display_data"
    }
   ],
   "source": [
    "ms = 6 # marker size\n",
    "fs = 12 # font size\n",
    "ls = 12 # label size\n",
    "import matplotlib.pyplot as plt\n",
    "fig, ax = plt.subplots(figsize=(5, 5))\n",
    "d_indices = [0, 1, 2, 4, 5, 6, 7, 8, 9]\n",
    "for i in d_indices:\n",
    "    ax.plot(h2h_fig[i], regret_fig[i], color='#003D7C', marker='o', markersize = ms,linestyle='None')\n",
    "ax.plot(h2h_fig[3], regret_fig[3],color='red', marker='o', markersize = ms,linestyle='None')\n",
    "ax.text(h2h_fig[3] - 0.068, regret_fig[3] - 0.01, 'Baseline', color='red',fontsize=fs)\n",
    "\n",
    "ax.text(h2h_fig[0] - 0.1, regret_fig[0] - 0.002, fr'$\\beta$={deg_all[0]}', color='#003D7C',fontsize=fs)\n",
    "ax.text(h2h_fig[1] - 0.06, regret_fig[1] - 0.01, fr'$\\beta$={deg_all[1]}', color='#003D7C',fontsize=fs)\n",
    "ax.text(h2h_fig[2] - 0.38, regret_fig[2] - 0.002, fr'$\\beta$=0.8,1.4,1.6,2.0,3.0,4.0', color='#003D7C',fontsize=fs)\n",
    "# ax.text(h2h_fig[4] + 0.02, regret_fig[4] - 0.02, fr'$\\beta$={deg_all[4]}', color='#003D7C',fontsize=fs)\n",
    "# ax.text(h2h_fig[5] - 0.1, regret_fig[5] - 0.02, fr'$\\beta$={deg_all[5]}', color='#003D7C',fontsize=fs)\n",
    "# ax.text(h2h_fig[6] - 0.06, regret_fig[6] - 0.04, fr'$\\beta$={deg_all[6]}', color='#003D7C',fontsize=fs)\n",
    "# ax.text(h2h_fig[7] + 0.016, regret_fig[7] - 0.01, fr'$\\beta$={deg_all[7]}', color='#003D7C',fontsize=fs)\n",
    "# ax.text(h2h_fig[8] + 0.02, regret_fig[8] - 0.01, fr'$\\beta$={deg_all[8]}', color='#003D7C',fontsize=fs)\n",
    "# ax.text(h2h_fig[9] + 0.02, regret_fig[9] - 0.01, fr'$\\beta$={deg_all[9]}', color='#003D7C',fontsize=fs)\n",
    "\n",
    "# ax.set_title(r'Effect of model misspecification: $\\beta$')\n",
    "ax.set_xlabel('Head-to-head')\n",
    "ax.set_ylabel('Regret reduction')\n",
    "# ax.grid(True)\n",
    "\n",
    "ax.axvline(0.5, linestyle='dashed', alpha=0.8, color='k')\n",
    "ax.axhline(0.0, linestyle='dashed', alpha=0.8, color='k')\n",
    "ax.set_xlim(0.4, 1.05)\n",
    "ax.set_ylim(0.9, 1.05)\n",
    "ax.label_outer()\n",
    "\n",
    "# plt.tight_layout()\n",
    "fig.savefig(Result_dir + f'DDR_vs_SPO_Mis_ante_mu={mu}_lamb={lamb}.pdf', format='pdf', bbox_inches=\"tight\")\n",
    "plt.show()\n"
   ]
  },
  {
   "cell_type": "markdown",
   "id": "a20a2ab2",
   "metadata": {},
   "source": [
    "### DDR vs PG"
   ]
  },
  {
   "cell_type": "code",
   "execution_count": 20,
   "id": "adecd978",
   "metadata": {},
   "outputs": [
    {
     "name": "stdout",
     "output_type": "stream",
     "text": [
      "DataPath: /Users/zhangxun/Dropbox/Research/Decision_Driven_Regularization/Data_JOC_R1_Submit/Shortest_Path_Final/Various_Settings_SPO_Data_Generation/3by3_grid/data_size=100_deg=0.4_e=0.5_p=5_num_test=1000_x_dist=uniform_e_dist=normal/\n",
      "DataPath: /Users/zhangxun/Dropbox/Research/Decision_Driven_Regularization/Data_JOC_R1_Submit/Shortest_Path_Final/Various_Settings_SPO_Data_Generation/3by3_grid/data_size=100_deg=0.6_e=0.5_p=5_num_test=1000_x_dist=uniform_e_dist=normal/\n",
      "DataPath: /Users/zhangxun/Dropbox/Research/Decision_Driven_Regularization/Data_JOC_R1_Submit/Shortest_Path_Final/Various_Settings_SPO_Data_Generation/3by3_grid/data_size=100_deg=0.8_e=0.5_p=5_num_test=1000_x_dist=uniform_e_dist=normal/\n",
      "DataPath: /Users/zhangxun/Dropbox/Research/Decision_Driven_Regularization/Data_JOC_R1_Submit/Shortest_Path_Final/Various_Settings_SPO_Data_Generation/3by3_grid/data_size=100_deg=1.0_e=0.5_p=5_num_test=1000_x_dist=uniform_e_dist=normal/\n",
      "DataPath: /Users/zhangxun/Dropbox/Research/Decision_Driven_Regularization/Data_JOC_R1_Submit/Shortest_Path_Final/Various_Settings_SPO_Data_Generation/3by3_grid/data_size=100_deg=1.2_e=0.5_p=5_num_test=1000_x_dist=uniform_e_dist=normal/\n",
      "DataPath: /Users/zhangxun/Dropbox/Research/Decision_Driven_Regularization/Data_JOC_R1_Submit/Shortest_Path_Final/Various_Settings_SPO_Data_Generation/3by3_grid/data_size=100_deg=1.4_e=0.5_p=5_num_test=1000_x_dist=uniform_e_dist=normal/\n",
      "DataPath: /Users/zhangxun/Dropbox/Research/Decision_Driven_Regularization/Data_JOC_R1_Submit/Shortest_Path_Final/Various_Settings_SPO_Data_Generation/3by3_grid/data_size=100_deg=1.6_e=0.5_p=5_num_test=1000_x_dist=uniform_e_dist=normal/\n",
      "DataPath: /Users/zhangxun/Dropbox/Research/Decision_Driven_Regularization/Data_JOC_R1_Submit/Shortest_Path_Final/Various_Settings_SPO_Data_Generation/3by3_grid/data_size=100_deg=2.0_e=0.5_p=5_num_test=1000_x_dist=uniform_e_dist=normal/\n",
      "DataPath: /Users/zhangxun/Dropbox/Research/Decision_Driven_Regularization/Data_JOC_R1_Submit/Shortest_Path_Final/Various_Settings_SPO_Data_Generation/3by3_grid/data_size=100_deg=3.0_e=0.5_p=5_num_test=1000_x_dist=uniform_e_dist=normal/\n",
      "DataPath: /Users/zhangxun/Dropbox/Research/Decision_Driven_Regularization/Data_JOC_R1_Submit/Shortest_Path_Final/Various_Settings_SPO_Data_Generation/3by3_grid/data_size=100_deg=4.0_e=0.5_p=5_num_test=1000_x_dist=uniform_e_dist=normal/\n"
     ]
    }
   ],
   "source": [
    "regret_DDR_vs_PG_d_ante_Dict = {}; h2h_DDR_vs_PG_d_ante_Dict = {}\n",
    "for mu in mu_all:\n",
    "    for lamb in lamb_all:\n",
    "        regret_d_ante = np.zeros(len(deg_all)); h2h_d_ante = np.zeros(len(deg_all))\n",
    "        _index = 0\n",
    "        for deg in deg_all:\n",
    "            mis = deg # model misspecification\n",
    "            DataPath = DataPath_Parent + f\"data_size={num_train}_deg={deg}_e={e}_p={p}_num_test={num_test}\"+\"_x_dist=\"+x_dist+\"_e_dist=\"+e_dist+\"/\"\n",
    "            print(\"DataPath:\", DataPath)\n",
    "\n",
    "            cost_Oracle_Ante_all,cost_OLS_Ante_all,cost_DDR_Ante_all = Data_LSM.load_cost_data(DataPath)\n",
    "            with open(DataPath+'cost_pg_Ante_all.pkl', \"rb\") as tf:\n",
    "                cost_PG_Ante_all = pickle.load(tf)            \n",
    "            h2h_d_ante[_index], regret_d_ante[_index] = h2h_regret_eva.calculate_h2h_regret(mu,lamb,iteration_all,\\\n",
    "                                0,0,0,\\\n",
    "                                    cost_DDR_Ante_all,cost_PG_Ante_all,cost_Oracle_Ante_all)\n",
    "            _index = _index + 1\n",
    "        regret_DDR_vs_PG_d_ante_Dict[mu,lamb] = regret_d_ante\n",
    "        h2h_DDR_vs_PG_d_ante_Dict[mu,lamb] = h2h_d_ante\n",
    "with open(Result_dir+'regret_DDR_vs_PG_d_ante_Dict.pkl', \"wb\") as tf:\n",
    "    pickle.dump(regret_DDR_vs_PG_d_ante_Dict,tf)\n",
    "with open(Result_dir+'h2h_DDR_vs_PG_d_ante_Dict.pkl', \"wb\") as tf:\n",
    "    pickle.dump(h2h_DDR_vs_PG_d_ante_Dict,tf)"
   ]
  },
  {
   "cell_type": "code",
   "execution_count": 21,
   "id": "c010d143",
   "metadata": {},
   "outputs": [
    {
     "data": {
      "image/png": "[encoded data removed]",
      "text/plain": [
       "<Figure size 500x500 with 1 Axes>"
      ]
     },
     "metadata": {},
     "output_type": "display_data"
    }
   ],
   "source": [
    "mu = 0.75\n",
    "lamb = 0.8\n",
    "h2h_fig = h2h_DDR_vs_PG_d_ante_Dict[mu,lamb]\n",
    "regret_fig = regret_DDR_vs_PG_d_ante_Dict[mu,lamb]\n",
    "\n",
    "ms = 6 # marker size\n",
    "fs = 12 # font size\n",
    "ls = 12 # label size\n",
    "import matplotlib.pyplot as plt\n",
    "fig, ax = plt.subplots(figsize=(5, 5))\n",
    "d_indices = [0, 1, 2, 4, 5, 6, 7, 8, 9]\n",
    "for i in d_indices:\n",
    "    ax.plot(h2h_fig[i], regret_fig[i], color='#003D7C', marker='o', markersize = ms,linestyle='None')\n",
    "ax.plot(h2h_fig[3], regret_fig[3],color='red', marker='o', markersize = ms,linestyle='None')\n",
    "ax.text(h2h_fig[3] - 0.068, regret_fig[3] - 0.01, 'Baseline', color='red',fontsize=fs)\n",
    "\n",
    "ax.text(h2h_fig[0] - 0.1, regret_fig[0] - 0.002, fr'$\\beta$={deg_all[0]}', color='#003D7C',fontsize=fs)\n",
    "# ax.text(h2h_fig[1] - 0.06, regret_fig[1] - 0.01, fr'$\\beta$={deg_all[1]}', color='#003D7C',fontsize=fs)\n",
    "ax.text(h2h_fig[2] - 0.42, regret_fig[2] - 0.002, fr'$\\beta$=0.6,0.8,1.4,1.6,2.0,3.0,4.0', color='#003D7C',fontsize=fs)\n",
    "# ax.text(h2h_fig[4] + 0.02, regret_fig[4] - 0.02, fr'$\\beta$={deg_all[4]}', color='#003D7C',fontsize=fs)\n",
    "# ax.text(h2h_fig[5] - 0.1, regret_fig[5] - 0.02, fr'$\\beta$={deg_all[5]}', color='#003D7C',fontsize=fs)\n",
    "# ax.text(h2h_fig[6] - 0.06, regret_fig[6] - 0.04, fr'$\\beta$={deg_all[6]}', color='#003D7C',fontsize=fs)\n",
    "# ax.text(h2h_fig[7] + 0.016, regret_fig[7] - 0.01, fr'$\\beta$={deg_all[7]}', color='#003D7C',fontsize=fs)\n",
    "# ax.text(h2h_fig[8] + 0.02, regret_fig[8] - 0.01, fr'$\\beta$={deg_all[8]}', color='#003D7C',fontsize=fs)\n",
    "# ax.text(h2h_fig[9] + 0.02, regret_fig[9] - 0.01, fr'$\\beta$={deg_all[9]}', color='#003D7C',fontsize=fs)\n",
    "\n",
    "# ax.set_title(r'Effect of model misspecification: $\\beta$')\n",
    "ax.set_xlabel('Head-to-head')\n",
    "ax.set_ylabel('Regret reduction')\n",
    "# ax.grid(True)\n",
    "\n",
    "ax.axvline(0.5, linestyle='dashed', alpha=0.8, color='k')\n",
    "ax.axhline(0.0, linestyle='dashed', alpha=0.8, color='k')\n",
    "ax.set_xlim(0.4, 1.05)\n",
    "ax.set_ylim(0.9, 1.05)\n",
    "ax.label_outer()\n",
    "\n",
    "# plt.tight_layout()\n",
    "fig.savefig(Result_dir + f'DDR_vs_PG_Mis_ante_mu={mu}_lamb={lamb}.pdf', format='pdf', bbox_inches=\"tight\")\n",
    "plt.show()\n"
   ]
  },
  {
   "cell_type": "markdown",
   "id": "22613ff4",
   "metadata": {},
   "source": [
    "### DDR vs LTR"
   ]
  },
  {
   "cell_type": "code",
   "execution_count": 22,
   "id": "854e5cba",
   "metadata": {},
   "outputs": [
    {
     "name": "stdout",
     "output_type": "stream",
     "text": [
      "DataPath: /Users/zhangxun/Dropbox/Research/Decision_Driven_Regularization/Data_JOC_R1_Submit/Shortest_Path_Final/Various_Settings_SPO_Data_Generation/3by3_grid/data_size=100_deg=0.4_e=0.5_p=5_num_test=1000_x_dist=uniform_e_dist=normal/\n",
      "DataPath: /Users/zhangxun/Dropbox/Research/Decision_Driven_Regularization/Data_JOC_R1_Submit/Shortest_Path_Final/Various_Settings_SPO_Data_Generation/3by3_grid/data_size=100_deg=0.6_e=0.5_p=5_num_test=1000_x_dist=uniform_e_dist=normal/\n",
      "DataPath: /Users/zhangxun/Dropbox/Research/Decision_Driven_Regularization/Data_JOC_R1_Submit/Shortest_Path_Final/Various_Settings_SPO_Data_Generation/3by3_grid/data_size=100_deg=0.8_e=0.5_p=5_num_test=1000_x_dist=uniform_e_dist=normal/\n",
      "DataPath: /Users/zhangxun/Dropbox/Research/Decision_Driven_Regularization/Data_JOC_R1_Submit/Shortest_Path_Final/Various_Settings_SPO_Data_Generation/3by3_grid/data_size=100_deg=1.0_e=0.5_p=5_num_test=1000_x_dist=uniform_e_dist=normal/\n",
      "DataPath: /Users/zhangxun/Dropbox/Research/Decision_Driven_Regularization/Data_JOC_R1_Submit/Shortest_Path_Final/Various_Settings_SPO_Data_Generation/3by3_grid/data_size=100_deg=1.2_e=0.5_p=5_num_test=1000_x_dist=uniform_e_dist=normal/\n",
      "DataPath: /Users/zhangxun/Dropbox/Research/Decision_Driven_Regularization/Data_JOC_R1_Submit/Shortest_Path_Final/Various_Settings_SPO_Data_Generation/3by3_grid/data_size=100_deg=1.4_e=0.5_p=5_num_test=1000_x_dist=uniform_e_dist=normal/\n",
      "DataPath: /Users/zhangxun/Dropbox/Research/Decision_Driven_Regularization/Data_JOC_R1_Submit/Shortest_Path_Final/Various_Settings_SPO_Data_Generation/3by3_grid/data_size=100_deg=1.6_e=0.5_p=5_num_test=1000_x_dist=uniform_e_dist=normal/\n",
      "DataPath: /Users/zhangxun/Dropbox/Research/Decision_Driven_Regularization/Data_JOC_R1_Submit/Shortest_Path_Final/Various_Settings_SPO_Data_Generation/3by3_grid/data_size=100_deg=2.0_e=0.5_p=5_num_test=1000_x_dist=uniform_e_dist=normal/\n",
      "DataPath: /Users/zhangxun/Dropbox/Research/Decision_Driven_Regularization/Data_JOC_R1_Submit/Shortest_Path_Final/Various_Settings_SPO_Data_Generation/3by3_grid/data_size=100_deg=3.0_e=0.5_p=5_num_test=1000_x_dist=uniform_e_dist=normal/\n",
      "DataPath: /Users/zhangxun/Dropbox/Research/Decision_Driven_Regularization/Data_JOC_R1_Submit/Shortest_Path_Final/Various_Settings_SPO_Data_Generation/3by3_grid/data_size=100_deg=4.0_e=0.5_p=5_num_test=1000_x_dist=uniform_e_dist=normal/\n"
     ]
    }
   ],
   "source": [
    "regret_DDR_vs_LTR_d_ante_Dict = {}; h2h_DDR_vs_LTR_d_ante_Dict = {}\n",
    "for mu in mu_all:\n",
    "    for lamb in lamb_all:\n",
    "        regret_d_ante = np.zeros(len(deg_all)); h2h_d_ante = np.zeros(len(deg_all))\n",
    "        _index = 0\n",
    "        for deg in deg_all:\n",
    "            mis = deg # model misspecification\n",
    "            DataPath = DataPath_Parent + f\"data_size={num_train}_deg={deg}_e={e}_p={p}_num_test={num_test}\"+\"_x_dist=\"+x_dist+\"_e_dist=\"+e_dist+\"/\"\n",
    "            print(\"DataPath:\", DataPath)\n",
    "\n",
    "            cost_Oracle_Ante_all,cost_OLS_Ante_all,cost_DDR_Ante_all = Data_LSM.load_cost_data(DataPath)\n",
    "            with open(DataPath+'cost_ltr_Ante_all.pkl', \"rb\") as tf:\n",
    "                cost_LTR_Ante_all = pickle.load(tf)            \n",
    "            h2h_d_ante[_index], regret_d_ante[_index] = h2h_regret_eva.calculate_h2h_regret(mu,lamb,iteration_all,\\\n",
    "                                0,0,0,\\\n",
    "                                    cost_DDR_Ante_all,cost_LTR_Ante_all,cost_Oracle_Ante_all)\n",
    "            _index = _index + 1\n",
    "        regret_DDR_vs_LTR_d_ante_Dict[mu,lamb] = regret_d_ante\n",
    "        h2h_DDR_vs_LTR_d_ante_Dict[mu,lamb] = h2h_d_ante\n",
    "with open(Result_dir+'regret_DDR_vs_LTR_d_ante_Dict.pkl', \"wb\") as tf:\n",
    "    pickle.dump(regret_DDR_vs_LTR_d_ante_Dict,tf)\n",
    "with open(Result_dir+'h2h_DDR_vs_LTR_d_ante_Dict.pkl', \"wb\") as tf:\n",
    "    pickle.dump(h2h_DDR_vs_LTR_d_ante_Dict,tf)"
   ]
  },
  {
   "cell_type": "code",
   "execution_count": 23,
   "id": "02cf4ee7",
   "metadata": {},
   "outputs": [
    {
     "data": {
      "image/png": "[encoded data removed]",
      "text/plain": [
       "<Figure size 500x500 with 1 Axes>"
      ]
     },
     "metadata": {},
     "output_type": "display_data"
    }
   ],
   "source": [
    "mu = 0.75\n",
    "lamb = 0.8\n",
    "h2h_fig = h2h_DDR_vs_LTR_d_ante_Dict[mu,lamb]\n",
    "regret_fig = regret_DDR_vs_LTR_d_ante_Dict[mu,lamb]\n",
    "\n",
    "ms = 6 # marker size\n",
    "fs = 12 # font size\n",
    "ls = 12 # label size\n",
    "import matplotlib.pyplot as plt\n",
    "fig, ax = plt.subplots(figsize=(5, 5))\n",
    "d_indices = [0, 1, 2, 4, 5, 6, 7, 8, 9]\n",
    "for i in d_indices:\n",
    "    ax.plot(h2h_fig[i], regret_fig[i], color='#003D7C', marker='o', markersize = ms,linestyle='None')\n",
    "ax.plot(h2h_fig[3], regret_fig[3],color='red', marker='o', markersize = ms,linestyle='None')\n",
    "ax.text(h2h_fig[3] - 0.068, regret_fig[3] - 0.01, 'Baseline', color='red',fontsize=fs)\n",
    "\n",
    "ax.text(h2h_fig[0] - 0.1, regret_fig[0] - 0.002, fr'$\\beta$={deg_all[0]}', color='#003D7C',fontsize=fs)\n",
    "# ax.text(h2h_fig[1] - 0.06, regret_fig[1] - 0.01, fr'$\\beta$={deg_all[1]}', color='#003D7C',fontsize=fs)\n",
    "ax.text(h2h_fig[2] - 0.42, regret_fig[2] - 0.002, fr'$\\beta$=0.6,0.8,1.4,1.6,2.0,3.0,4.0', color='#003D7C',fontsize=fs)\n",
    "# ax.text(h2h_fig[4] + 0.02, regret_fig[4] - 0.02, fr'$\\beta$={deg_all[4]}', color='#003D7C',fontsize=fs)\n",
    "# ax.text(h2h_fig[5] - 0.1, regret_fig[5] - 0.02, fr'$\\beta$={deg_all[5]}', color='#003D7C',fontsize=fs)\n",
    "# ax.text(h2h_fig[6] - 0.06, regret_fig[6] - 0.04, fr'$\\beta$={deg_all[6]}', color='#003D7C',fontsize=fs)\n",
    "# ax.text(h2h_fig[7] + 0.016, regret_fig[7] - 0.01, fr'$\\beta$={deg_all[7]}', color='#003D7C',fontsize=fs)\n",
    "# ax.text(h2h_fig[8] + 0.02, regret_fig[8] - 0.01, fr'$\\beta$={deg_all[8]}', color='#003D7C',fontsize=fs)\n",
    "# ax.text(h2h_fig[9] + 0.02, regret_fig[9] - 0.01, fr'$\\beta$={deg_all[9]}', color='#003D7C',fontsize=fs)\n",
    "\n",
    "# ax.set_title(r'Effect of model misspecification: $\\beta$')\n",
    "ax.set_xlabel('Head-to-head')\n",
    "ax.set_ylabel('Regret reduction')\n",
    "# ax.grid(True)\n",
    "\n",
    "ax.axvline(0.5, linestyle='dashed', alpha=0.8, color='k')\n",
    "ax.axhline(0.0, linestyle='dashed', alpha=0.8, color='k')\n",
    "ax.set_xlim(0.4, 1.05)\n",
    "ax.set_ylim(0.9, 1.05)\n",
    "ax.label_outer()\n",
    "\n",
    "# plt.tight_layout()\n",
    "fig.savefig(Result_dir + f'DDR_vs_LTR_Mis_ante_mu={mu}_lamb={lamb}.pdf', format='pdf', bbox_inches=\"tight\")\n",
    "plt.show()\n"
   ]
  }
 ],
 "metadata": {
  "kernelspec": {
   "display_name": ".venv",
   "language": "python",
   "name": "python3"
  },
  "language_info": {
   "codemirror_mode": {
    "name": "ipython",
    "version": 3
   },
   "file_extension": ".py",
   "mimetype": "text/x-python",
   "name": "python",
   "nbconvert_exporter": "python",
   "pygments_lexer": "ipython3",
   "version": "3.9.6"
  }
 },
 "nbformat": 4,
 "nbformat_minor": 5
}
