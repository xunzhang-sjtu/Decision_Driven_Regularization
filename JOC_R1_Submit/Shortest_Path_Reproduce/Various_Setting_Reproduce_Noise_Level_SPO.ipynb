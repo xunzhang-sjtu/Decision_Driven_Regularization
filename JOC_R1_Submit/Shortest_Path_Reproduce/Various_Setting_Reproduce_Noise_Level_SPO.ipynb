{
 "cells": [
  {
   "cell_type": "code",
   "execution_count": 1,
   "id": "e5423203",
   "metadata": {},
   "outputs": [],
   "source": [
    "import random\n",
    "import numpy as np\n",
    "import torch\n",
    "import os\n",
    "import pathlib\n",
    "import pickle\n",
    "import pandas as pd\n",
    "torch.manual_seed(42)\n",
    "torch.cuda.manual_seed(42)\n",
    "from Performance import performance_evaluation\n",
    "perfs = performance_evaluation()\n",
    "\n",
    "from Performance import H2h_Regret_Evaluation\n",
    "h2h_regret_eva = H2h_Regret_Evaluation()\n",
    "\n",
    "from Data import Data_Simulator\n",
    "DS_Obj = Data_Simulator()\n",
    "\n",
    "from Oracle import Oracle_Processing\n",
    "Oracle_Proc = Oracle_Processing()\n",
    "\n",
    "from OLS import OLS_Processing\n",
    "OLS_Proc = OLS_Processing()\n",
    "\n",
    "from DDR import DDR_Processing\n",
    "DDR_Proc = DDR_Processing()\n",
    "\n",
    "from PYEPO import EPO_Processing\n",
    "PYEPO_Proc = EPO_Processing()\n",
    "\n",
    "from Data_Load_Store import Load_Store_Methods\n",
    "Data_LSM = Load_Store_Methods()"
   ]
  },
  {
   "cell_type": "code",
   "execution_count": 2,
   "id": "914343e2",
   "metadata": {},
   "outputs": [],
   "source": [
    "import Various_Setting_Params as VSP\n",
    "import Sequential_Learning_Approaches as SLA\n",
    "import Integrated_Learning_Approaches as ILA"
   ]
  },
  {
   "cell_type": "markdown",
   "id": "886e7311",
   "metadata": {},
   "source": [
    "### Parameters"
   ]
  },
  {
   "cell_type": "code",
   "execution_count": 3,
   "id": "01a52a00",
   "metadata": {},
   "outputs": [],
   "source": [
    "grid = (3,3)"
   ]
  },
  {
   "cell_type": "code",
   "execution_count": 4,
   "id": "554bf254",
   "metadata": {},
   "outputs": [
    {
     "name": "stdout",
     "output_type": "stream",
     "text": [
      "DataPath_parent: /Users/zhangxun/Dropbox/Research/Decision_Driven_Regularization/Data_JOC_R1_Submit/Shortest_Path_Final/Various_Settings_SPO_Data_Generation/3by3_grid/\n"
     ]
    }
   ],
   "source": [
    "data_generation_process = \"SPO_Data_Generation\"\n",
    "# data_generation_process = \"DDR_Data_Generation\"\n",
    "current_directory = os.getcwd()\n",
    "parent_directory = os.path.dirname(current_directory)\n",
    "project_directory = os.path.dirname(os.path.dirname(os.path.dirname(parent_directory)))\n",
    "DataPath_Parent = project_directory + '/Data_JOC_R1_Submit/Shortest_Path_Final/Various_Settings_' + data_generation_process + f'/{grid[0]}by{grid[1]}_grid/'\n",
    "pathlib.Path(DataPath_Parent).mkdir(parents=True, exist_ok=True)\n",
    "print(\"DataPath_parent:\", DataPath_Parent)\n",
    "Result_dir = DataPath_Parent + \"Result/\"\n",
    "pathlib.Path(Result_dir).mkdir(parents=True, exist_ok=True)"
   ]
  },
  {
   "cell_type": "code",
   "execution_count": 5,
   "id": "d2781f36",
   "metadata": {},
   "outputs": [],
   "source": [
    "grid,num_test,lower,upper,coef_seed,x_dist,e_dist,x_low,x_up,x_mean,x_var,bump,iteration_all,batch_size,num_epochs,mu_all,lamb_all = VSP.get_Params(DataPath_Parent)\n",
    "from Network import network_design\n",
    "Network = network_design()\n",
    "arcs,arc_index_mapping = Network._getArcs(grid)\n",
    "d = (grid[0] - 1) * (grid[0] - 1) * 2 + 2 * (grid[0] - 1) # num of arcs\n",
    "num_nodes = grid[0]*grid[0]"
   ]
  },
  {
   "cell_type": "code",
   "execution_count": 6,
   "id": "964552d0",
   "metadata": {},
   "outputs": [],
   "source": [
    "VSP.set_Params_Noise(DataPath_Parent)\n",
    "num_feat,deg,mis,e_all,num_train = VSP.get_Params_Noise(DataPath_Parent)\n",
    "p = num_feat"
   ]
  },
  {
   "cell_type": "markdown",
   "id": "6a0006fa",
   "metadata": {},
   "source": [
    "#### Data Generation"
   ]
  },
  {
   "cell_type": "code",
   "execution_count": 7,
   "id": "318667b4",
   "metadata": {},
   "outputs": [
    {
     "name": "stdout",
     "output_type": "stream",
     "text": [
      "DataPath: /Users/zhangxun/Dropbox/Research/Decision_Driven_Regularization/Data_JOC_R1_Submit/Shortest_Path_Final/Various_Settings_SPO_Data_Generation/3by3_grid/data_size=100_deg=1.0_e=0.25_p=5_num_test=1000_x_dist=uniform_e_dist=normal/\n",
      "DataPath: /Users/zhangxun/Dropbox/Research/Decision_Driven_Regularization/Data_JOC_R1_Submit/Shortest_Path_Final/Various_Settings_SPO_Data_Generation/3by3_grid/data_size=100_deg=1.0_e=0.5_p=5_num_test=1000_x_dist=uniform_e_dist=normal/\n",
      "Already Exist\n",
      "DataPath: /Users/zhangxun/Dropbox/Research/Decision_Driven_Regularization/Data_JOC_R1_Submit/Shortest_Path_Final/Various_Settings_SPO_Data_Generation/3by3_grid/data_size=100_deg=1.0_e=0.75_p=5_num_test=1000_x_dist=uniform_e_dist=normal/\n",
      "DataPath: /Users/zhangxun/Dropbox/Research/Decision_Driven_Regularization/Data_JOC_R1_Submit/Shortest_Path_Final/Various_Settings_SPO_Data_Generation/3by3_grid/data_size=100_deg=1.0_e=1.0_p=5_num_test=1000_x_dist=uniform_e_dist=normal/\n"
     ]
    }
   ],
   "source": [
    "for e in e_all:\n",
    "    alpha = e # scale of normal std or the range of uniform. For the error term\n",
    "    DataPath = DataPath_Parent + f\"data_size={num_train}_deg={deg}_e={e}_p={p}_num_test={num_test}\"+\"_x_dist=\"+x_dist+\"_e_dist=\"+e_dist+\"/\"\n",
    "    pathlib.Path(DataPath).mkdir(parents=True, exist_ok=True)\n",
    "    print(\"DataPath:\", DataPath)\n",
    "    if os.path.exists(DataPath+\"x_test_all.pkl\"):\n",
    "        print(\"Already Exist\")\n",
    "    else:\n",
    "        x_test_all, c_test_all, x_train_all, c_train_all,noise_train_all,noise_test_all,W_star_all = \\\n",
    "        DS_Obj.Simulator(DataPath,lower, upper, p, d, coef_seed,iteration_all,num_test, num_train, alpha,mis,data_generation_process,x_dist, e_dist, x_low, x_up, x_mean, x_var, bump)\n",
    "        Data_LSM.store_input_data(DataPath,x_test_all,c_test_all,x_train_all,c_train_all,noise_test_all,noise_train_all,W_star_all)"
   ]
  },
  {
   "cell_type": "markdown",
   "id": "1aa08795",
   "metadata": {},
   "source": [
    "#### Run Oracle"
   ]
  },
  {
   "cell_type": "code",
   "execution_count": 8,
   "id": "99b3b7bc",
   "metadata": {},
   "outputs": [
    {
     "name": "stdout",
     "output_type": "stream",
     "text": [
      "DataPath: /Users/zhangxun/Dropbox/Research/Decision_Driven_Regularization/Data_JOC_R1_Submit/Shortest_Path_Final/Various_Settings_SPO_Data_Generation/3by3_grid/data_size=100_deg=1.0_e=0.25_p=5_num_test=1000_x_dist=uniform_e_dist=normal/\n",
      "Set parameter Username\n",
      "Academic license - for non-commercial use only - expires 2026-03-13\n",
      "Oracle: iter= 20 ,cost_Oracle_Ante= 15.172642031123184\n",
      "Oracle: iter= 40 ,cost_Oracle_Ante= 14.600967169194192\n",
      "Oracle: iter= 60 ,cost_Oracle_Ante= 15.016002191297218\n",
      "Oracle: iter= 80 ,cost_Oracle_Ante= 14.89354010044007\n",
      "DataPath: /Users/zhangxun/Dropbox/Research/Decision_Driven_Regularization/Data_JOC_R1_Submit/Shortest_Path_Final/Various_Settings_SPO_Data_Generation/3by3_grid/data_size=100_deg=1.0_e=0.5_p=5_num_test=1000_x_dist=uniform_e_dist=normal/\n",
      "Results already exist\n",
      "DataPath: /Users/zhangxun/Dropbox/Research/Decision_Driven_Regularization/Data_JOC_R1_Submit/Shortest_Path_Final/Various_Settings_SPO_Data_Generation/3by3_grid/data_size=100_deg=1.0_e=0.75_p=5_num_test=1000_x_dist=uniform_e_dist=normal/\n",
      "Oracle: iter= 20 ,cost_Oracle_Ante= 15.172642031123184\n",
      "Oracle: iter= 40 ,cost_Oracle_Ante= 14.600967169194192\n",
      "Oracle: iter= 60 ,cost_Oracle_Ante= 15.016002191297218\n",
      "Oracle: iter= 80 ,cost_Oracle_Ante= 14.89354010044007\n",
      "DataPath: /Users/zhangxun/Dropbox/Research/Decision_Driven_Regularization/Data_JOC_R1_Submit/Shortest_Path_Final/Various_Settings_SPO_Data_Generation/3by3_grid/data_size=100_deg=1.0_e=1.0_p=5_num_test=1000_x_dist=uniform_e_dist=normal/\n",
      "Oracle: iter= 20 ,cost_Oracle_Ante= 15.172642031123184\n",
      "Oracle: iter= 40 ,cost_Oracle_Ante= 14.600967169194192\n",
      "Oracle: iter= 60 ,cost_Oracle_Ante= 15.016002191297218\n",
      "Oracle: iter= 80 ,cost_Oracle_Ante= 14.89354010044007\n"
     ]
    }
   ],
   "source": [
    "for e in e_all:\n",
    "    alpha = e # scale of normal std or the range of uniform. For the error term\n",
    "    DataPath = DataPath_Parent + f\"data_size={num_train}_deg={deg}_e={e}_p={p}_num_test={num_test}\"+\"_x_dist=\"+x_dist+\"_e_dist=\"+e_dist+\"/\"\n",
    "    print(\"DataPath:\", DataPath)\n",
    "    if os.path.exists(DataPath+\"cost_Oracle_Ante_all.pkl\"):\n",
    "        print(\"Results already exist\")\n",
    "    else:\n",
    "        SLA.Run_Oracle(DataPath,arcs, grid,mis,bump,iteration_all,num_feat,data_generation_process)"
   ]
  },
  {
   "cell_type": "markdown",
   "id": "9bc48412",
   "metadata": {},
   "source": [
    "#### Run OLS"
   ]
  },
  {
   "cell_type": "code",
   "execution_count": 9,
   "id": "dcafc47f",
   "metadata": {},
   "outputs": [
    {
     "name": "stdout",
     "output_type": "stream",
     "text": [
      "DataPath: /Users/zhangxun/Dropbox/Research/Decision_Driven_Regularization/Data_JOC_R1_Submit/Shortest_Path_Final/Various_Settings_SPO_Data_Generation/3by3_grid/data_size=100_deg=1.0_e=0.25_p=5_num_test=1000_x_dist=uniform_e_dist=normal/\n",
      "OLS: iter= 20 ,cost_OLS_Ante= 15.235883205968085\n",
      "OLS: iter= 40 ,cost_OLS_Ante= 14.617245664800324\n",
      "OLS: iter= 60 ,cost_OLS_Ante= 15.049181318205603\n",
      "OLS: iter= 80 ,cost_OLS_Ante= 14.928611363318609\n",
      "DataPath: /Users/zhangxun/Dropbox/Research/Decision_Driven_Regularization/Data_JOC_R1_Submit/Shortest_Path_Final/Various_Settings_SPO_Data_Generation/3by3_grid/data_size=100_deg=1.0_e=0.5_p=5_num_test=1000_x_dist=uniform_e_dist=normal/\n",
      "Results already exist\n",
      "DataPath: /Users/zhangxun/Dropbox/Research/Decision_Driven_Regularization/Data_JOC_R1_Submit/Shortest_Path_Final/Various_Settings_SPO_Data_Generation/3by3_grid/data_size=100_deg=1.0_e=0.75_p=5_num_test=1000_x_dist=uniform_e_dist=normal/\n",
      "OLS: iter= 20 ,cost_OLS_Ante= 15.442839535664964\n",
      "OLS: iter= 40 ,cost_OLS_Ante= 14.701483311750032\n",
      "OLS: iter= 60 ,cost_OLS_Ante= 15.17474461136963\n",
      "OLS: iter= 80 ,cost_OLS_Ante= 15.19382359864488\n",
      "DataPath: /Users/zhangxun/Dropbox/Research/Decision_Driven_Regularization/Data_JOC_R1_Submit/Shortest_Path_Final/Various_Settings_SPO_Data_Generation/3by3_grid/data_size=100_deg=1.0_e=1.0_p=5_num_test=1000_x_dist=uniform_e_dist=normal/\n",
      "OLS: iter= 20 ,cost_OLS_Ante= 15.507107580190999\n",
      "OLS: iter= 40 ,cost_OLS_Ante= 14.758252122653335\n",
      "OLS: iter= 60 ,cost_OLS_Ante= 15.2250643966774\n",
      "OLS: iter= 80 ,cost_OLS_Ante= 15.37775453824075\n"
     ]
    }
   ],
   "source": [
    "for e in e_all:\n",
    "    alpha = e # scale of normal std or the range of uniform. For the error term\n",
    "    DataPath = DataPath_Parent + f\"data_size={num_train}_deg={deg}_e={e}_p={p}_num_test={num_test}\"+\"_x_dist=\"+x_dist+\"_e_dist=\"+e_dist+\"/\"\n",
    "    print(\"DataPath:\", DataPath)\n",
    "    if os.path.exists(DataPath+\"cost_OLS_Ante_all.pkl\"):\n",
    "        print(\"Results already exist\")\n",
    "    else:\n",
    "        SLA.Run_OLS(DataPath,arcs, grid,mis,bump,iteration_all,num_feat,data_generation_process)"
   ]
  },
  {
   "cell_type": "markdown",
   "id": "99617761",
   "metadata": {},
   "source": [
    "#### Run DDR"
   ]
  },
  {
   "cell_type": "code",
   "execution_count": 10,
   "id": "c3a25f14",
   "metadata": {},
   "outputs": [
    {
     "name": "stdout",
     "output_type": "stream",
     "text": [
      "DataPath: /Users/zhangxun/Dropbox/Research/Decision_Driven_Regularization/Data_JOC_R1_Submit/Shortest_Path_Final/Various_Settings_SPO_Data_Generation/3by3_grid/data_size=100_deg=1.0_e=0.25_p=5_num_test=1000_x_dist=uniform_e_dist=normal/\n",
      "DDR: iter= 20 ,mu= 0.75 ,lamb= 0.8 ,cost_DDR_Ante = 15.228272905080612\n",
      "DDR: iter= 40 ,mu= 0.75 ,lamb= 0.8 ,cost_DDR_Ante = 14.615602780102718\n",
      "DDR: iter= 60 ,mu= 0.75 ,lamb= 0.8 ,cost_DDR_Ante = 15.051726546794859\n",
      "DDR: iter= 80 ,mu= 0.75 ,lamb= 0.8 ,cost_DDR_Ante = 14.931873294527923\n",
      "DataPath: /Users/zhangxun/Dropbox/Research/Decision_Driven_Regularization/Data_JOC_R1_Submit/Shortest_Path_Final/Various_Settings_SPO_Data_Generation/3by3_grid/data_size=100_deg=1.0_e=0.5_p=5_num_test=1000_x_dist=uniform_e_dist=normal/\n",
      "Results already exist\n",
      "DataPath: /Users/zhangxun/Dropbox/Research/Decision_Driven_Regularization/Data_JOC_R1_Submit/Shortest_Path_Final/Various_Settings_SPO_Data_Generation/3by3_grid/data_size=100_deg=1.0_e=0.75_p=5_num_test=1000_x_dist=uniform_e_dist=normal/\n",
      "DDR: iter= 20 ,mu= 0.75 ,lamb= 0.8 ,cost_DDR_Ante = 15.438586951244769\n",
      "DDR: iter= 40 ,mu= 0.75 ,lamb= 0.8 ,cost_DDR_Ante = 14.69945042540493\n",
      "DDR: iter= 60 ,mu= 0.75 ,lamb= 0.8 ,cost_DDR_Ante = 15.178282517334383\n",
      "DDR: iter= 80 ,mu= 0.75 ,lamb= 0.8 ,cost_DDR_Ante = 15.188965227488309\n",
      "DataPath: /Users/zhangxun/Dropbox/Research/Decision_Driven_Regularization/Data_JOC_R1_Submit/Shortest_Path_Final/Various_Settings_SPO_Data_Generation/3by3_grid/data_size=100_deg=1.0_e=1.0_p=5_num_test=1000_x_dist=uniform_e_dist=normal/\n",
      "DDR: iter= 20 ,mu= 0.75 ,lamb= 0.8 ,cost_DDR_Ante = 15.505845701289996\n",
      "DDR: iter= 40 ,mu= 0.75 ,lamb= 0.8 ,cost_DDR_Ante = 14.75979344379733\n",
      "DDR: iter= 60 ,mu= 0.75 ,lamb= 0.8 ,cost_DDR_Ante = 15.233171691708845\n",
      "DDR: iter= 80 ,mu= 0.75 ,lamb= 0.8 ,cost_DDR_Ante = 15.380523503075468\n"
     ]
    }
   ],
   "source": [
    "for e in e_all:\n",
    "    alpha = e # scale of normal std or the range of uniform. For the error term\n",
    "    DataPath = DataPath_Parent + f\"data_size={num_train}_deg={deg}_e={e}_p={p}_num_test={num_test}\"+\"_x_dist=\"+x_dist+\"_e_dist=\"+e_dist+\"/\"\n",
    "    print(\"DataPath:\", DataPath)\n",
    "    if os.path.exists(DataPath+\"cost_DDR_Ante_all.pkl\"):\n",
    "        print(\"Results already exist\")\n",
    "    else:\n",
    "        ILA.Run_DDR(DataPath,mu_all,lamb_all,arcs, grid,mis,bump,iteration_all,num_feat,data_generation_process)"
   ]
  },
  {
   "cell_type": "markdown",
   "id": "23ff0fbe",
   "metadata": {},
   "source": [
    "#### Run SPO+"
   ]
  },
  {
   "cell_type": "code",
   "execution_count": 11,
   "id": "5fd7ee5d",
   "metadata": {},
   "outputs": [
    {
     "name": "stdout",
     "output_type": "stream",
     "text": [
      "DataPath: /Users/zhangxun/Dropbox/Research/Decision_Driven_Regularization/Data_JOC_R1_Submit/Shortest_Path_Final/Various_Settings_SPO_Data_Generation/3by3_grid/data_size=100_deg=1.0_e=0.25_p=5_num_test=1000_x_dist=uniform_e_dist=normal/\n",
      "['spo+'] : iter= 20 ,cost_EPO_Ante= 15.606027496220376\n",
      "['spo+'] : iter= 40 ,cost_EPO_Ante= 16.08687301815297\n",
      "['spo+'] : iter= 60 ,cost_EPO_Ante= 15.943156735890836\n",
      "['spo+'] : iter= 80 ,cost_EPO_Ante= 15.798908650583853\n",
      "DataPath: /Users/zhangxun/Dropbox/Research/Decision_Driven_Regularization/Data_JOC_R1_Submit/Shortest_Path_Final/Various_Settings_SPO_Data_Generation/3by3_grid/data_size=100_deg=1.0_e=0.5_p=5_num_test=1000_x_dist=uniform_e_dist=normal/\n",
      "Results already exist\n",
      "DataPath: /Users/zhangxun/Dropbox/Research/Decision_Driven_Regularization/Data_JOC_R1_Submit/Shortest_Path_Final/Various_Settings_SPO_Data_Generation/3by3_grid/data_size=100_deg=1.0_e=0.75_p=5_num_test=1000_x_dist=uniform_e_dist=normal/\n",
      "['spo+'] : iter= 20 ,cost_EPO_Ante= 15.72513308434702\n",
      "['spo+'] : iter= 40 ,cost_EPO_Ante= 15.077319434683954\n",
      "['spo+'] : iter= 60 ,cost_EPO_Ante= 16.148995129879335\n",
      "['spo+'] : iter= 80 ,cost_EPO_Ante= 16.11481558708936\n",
      "DataPath: /Users/zhangxun/Dropbox/Research/Decision_Driven_Regularization/Data_JOC_R1_Submit/Shortest_Path_Final/Various_Settings_SPO_Data_Generation/3by3_grid/data_size=100_deg=1.0_e=1.0_p=5_num_test=1000_x_dist=uniform_e_dist=normal/\n",
      "['spo+'] : iter= 20 ,cost_EPO_Ante= 15.90320615026444\n",
      "['spo+'] : iter= 40 ,cost_EPO_Ante= 15.705338665883273\n",
      "['spo+'] : iter= 60 ,cost_EPO_Ante= 15.959087417586819\n",
      "['spo+'] : iter= 80 ,cost_EPO_Ante= 16.089347441998953\n"
     ]
    }
   ],
   "source": [
    "method_names = [\"spo+\"]\n",
    "for e in e_all:\n",
    "    alpha = e # scale of normal std or the range of uniform. For the error term\n",
    "    DataPath = DataPath_Parent + f\"data_size={num_train}_deg={deg}_e={e}_p={p}_num_test={num_test}\"+\"_x_dist=\"+x_dist+\"_e_dist=\"+e_dist+\"/\"\n",
    "    print(\"DataPath:\", DataPath)\n",
    "    if os.path.exists(DataPath+\"cost_spo+_Ante_all.pkl\"):\n",
    "        print(\"Results already exist\")\n",
    "    else:\n",
    "        ILA.run_EPO_approaches(DataPath,method_names,arcs, grid,mis,bump,iteration_all,num_feat,data_generation_process)"
   ]
  },
  {
   "cell_type": "markdown",
   "id": "88378e92",
   "metadata": {},
   "source": [
    "#### Run PG"
   ]
  },
  {
   "cell_type": "code",
   "execution_count": 12,
   "id": "cc71653a",
   "metadata": {},
   "outputs": [
    {
     "name": "stdout",
     "output_type": "stream",
     "text": [
      "DataPath: /Users/zhangxun/Dropbox/Research/Decision_Driven_Regularization/Data_JOC_R1_Submit/Shortest_Path_Final/Various_Settings_SPO_Data_Generation/3by3_grid/data_size=100_deg=1.0_e=0.25_p=5_num_test=1000_x_dist=uniform_e_dist=normal/\n",
      "['pg'] : iter= 20 ,cost_EPO_Ante= 15.95887254330851\n",
      "['pg'] : iter= 40 ,cost_EPO_Ante= 15.728970604890343\n",
      "['pg'] : iter= 60 ,cost_EPO_Ante= 15.9447657618236\n",
      "['pg'] : iter= 80 ,cost_EPO_Ante= 16.064353008245448\n",
      "DataPath: /Users/zhangxun/Dropbox/Research/Decision_Driven_Regularization/Data_JOC_R1_Submit/Shortest_Path_Final/Various_Settings_SPO_Data_Generation/3by3_grid/data_size=100_deg=1.0_e=0.5_p=5_num_test=1000_x_dist=uniform_e_dist=normal/\n",
      "Results already exist\n",
      "DataPath: /Users/zhangxun/Dropbox/Research/Decision_Driven_Regularization/Data_JOC_R1_Submit/Shortest_Path_Final/Various_Settings_SPO_Data_Generation/3by3_grid/data_size=100_deg=1.0_e=0.75_p=5_num_test=1000_x_dist=uniform_e_dist=normal/\n",
      "['pg'] : iter= 20 ,cost_EPO_Ante= 16.05676345483702\n",
      "['pg'] : iter= 40 ,cost_EPO_Ante= 15.905006233988093\n",
      "['pg'] : iter= 60 ,cost_EPO_Ante= 15.578498755628472\n",
      "['pg'] : iter= 80 ,cost_EPO_Ante= 16.517337752474813\n",
      "DataPath: /Users/zhangxun/Dropbox/Research/Decision_Driven_Regularization/Data_JOC_R1_Submit/Shortest_Path_Final/Various_Settings_SPO_Data_Generation/3by3_grid/data_size=100_deg=1.0_e=1.0_p=5_num_test=1000_x_dist=uniform_e_dist=normal/\n",
      "['pg'] : iter= 20 ,cost_EPO_Ante= 16.479012683630764\n",
      "['pg'] : iter= 40 ,cost_EPO_Ante= 15.996029780539383\n",
      "['pg'] : iter= 60 ,cost_EPO_Ante= 15.688466993266214\n",
      "['pg'] : iter= 80 ,cost_EPO_Ante= 15.525478230430405\n"
     ]
    }
   ],
   "source": [
    "method_names = [\"pg\"]\n",
    "for e in e_all:\n",
    "    alpha = e # scale of normal std or the range of uniform. For the error term\n",
    "    DataPath = DataPath_Parent + f\"data_size={num_train}_deg={deg}_e={e}_p={p}_num_test={num_test}\"+\"_x_dist=\"+x_dist+\"_e_dist=\"+e_dist+\"/\"\n",
    "    print(\"DataPath:\", DataPath)\n",
    "    if os.path.exists(DataPath+\"cost_pg_Ante_all.pkl\"):\n",
    "        print(\"Results already exist\")\n",
    "    else:\n",
    "        ILA.run_EPO_approaches(DataPath,method_names,arcs, grid,mis,bump,iteration_all,num_feat,data_generation_process)"
   ]
  },
  {
   "cell_type": "markdown",
   "id": "33db90e3",
   "metadata": {},
   "source": [
    "#### Run LTR"
   ]
  },
  {
   "cell_type": "code",
   "execution_count": 13,
   "id": "e8a3235c",
   "metadata": {},
   "outputs": [
    {
     "name": "stdout",
     "output_type": "stream",
     "text": [
      "DataPath: /Users/zhangxun/Dropbox/Research/Decision_Driven_Regularization/Data_JOC_R1_Submit/Shortest_Path_Final/Various_Settings_SPO_Data_Generation/3by3_grid/data_size=100_deg=1.0_e=0.25_p=5_num_test=1000_x_dist=uniform_e_dist=normal/\n",
      "['ltr'] : iter= 20 ,cost_EPO_Ante= 15.876317283087529\n",
      "['ltr'] : iter= 40 ,cost_EPO_Ante= 16.154592129811476\n",
      "['ltr'] : iter= 60 ,cost_EPO_Ante= 15.52974990984018\n",
      "['ltr'] : iter= 80 ,cost_EPO_Ante= 16.24138633153059\n",
      "DataPath: /Users/zhangxun/Dropbox/Research/Decision_Driven_Regularization/Data_JOC_R1_Submit/Shortest_Path_Final/Various_Settings_SPO_Data_Generation/3by3_grid/data_size=100_deg=1.0_e=0.5_p=5_num_test=1000_x_dist=uniform_e_dist=normal/\n",
      "Results already exist\n",
      "DataPath: /Users/zhangxun/Dropbox/Research/Decision_Driven_Regularization/Data_JOC_R1_Submit/Shortest_Path_Final/Various_Settings_SPO_Data_Generation/3by3_grid/data_size=100_deg=1.0_e=0.75_p=5_num_test=1000_x_dist=uniform_e_dist=normal/\n",
      "['ltr'] : iter= 20 ,cost_EPO_Ante= 15.666274461194966\n",
      "['ltr'] : iter= 40 ,cost_EPO_Ante= 16.365408637706977\n",
      "['ltr'] : iter= 60 ,cost_EPO_Ante= 15.881641809976452\n",
      "['ltr'] : iter= 80 ,cost_EPO_Ante= 16.17783760253204\n",
      "DataPath: /Users/zhangxun/Dropbox/Research/Decision_Driven_Regularization/Data_JOC_R1_Submit/Shortest_Path_Final/Various_Settings_SPO_Data_Generation/3by3_grid/data_size=100_deg=1.0_e=1.0_p=5_num_test=1000_x_dist=uniform_e_dist=normal/\n",
      "['ltr'] : iter= 20 ,cost_EPO_Ante= 16.00899169006154\n",
      "['ltr'] : iter= 40 ,cost_EPO_Ante= 16.0893045231085\n",
      "['ltr'] : iter= 60 ,cost_EPO_Ante= 15.664919628365654\n",
      "['ltr'] : iter= 80 ,cost_EPO_Ante= 15.934529841803364\n"
     ]
    }
   ],
   "source": [
    "method_names = [\"ltr\"]\n",
    "for e in e_all:\n",
    "    alpha = e # scale of normal std or the range of uniform. For the error term\n",
    "    DataPath = DataPath_Parent + f\"data_size={num_train}_deg={deg}_e={e}_p={p}_num_test={num_test}\"+\"_x_dist=\"+x_dist+\"_e_dist=\"+e_dist+\"/\"\n",
    "    print(\"DataPath:\", DataPath)\n",
    "    if os.path.exists(DataPath+\"cost_ltr_Ante_all.pkl\"):\n",
    "        print(\"Results already exist\")\n",
    "    else:\n",
    "        ILA.run_EPO_approaches(DataPath,method_names,arcs, grid,mis,bump,iteration_all,num_feat,data_generation_process)"
   ]
  },
  {
   "cell_type": "markdown",
   "id": "7b67f146",
   "metadata": {},
   "source": [
    "### Comparison"
   ]
  },
  {
   "cell_type": "code",
   "execution_count": 7,
   "id": "15b7aff1",
   "metadata": {},
   "outputs": [
    {
     "name": "stdout",
     "output_type": "stream",
     "text": [
      "DataPath: /Users/zhangxun/Dropbox/Research/Decision_Driven_Regularization/Data_JOC_R1_Submit/Shortest_Path_Final/Various_Settings_SPO_Data_Generation/3by3_grid/data_size=100_deg=1.0_e=0.25_p=5_num_test=1000_x_dist=uniform_e_dist=normal/\n",
      "DataPath: /Users/zhangxun/Dropbox/Research/Decision_Driven_Regularization/Data_JOC_R1_Submit/Shortest_Path_Final/Various_Settings_SPO_Data_Generation/3by3_grid/data_size=100_deg=1.0_e=0.5_p=5_num_test=1000_x_dist=uniform_e_dist=normal/\n",
      "DataPath: /Users/zhangxun/Dropbox/Research/Decision_Driven_Regularization/Data_JOC_R1_Submit/Shortest_Path_Final/Various_Settings_SPO_Data_Generation/3by3_grid/data_size=100_deg=1.0_e=0.75_p=5_num_test=1000_x_dist=uniform_e_dist=normal/\n",
      "DataPath: /Users/zhangxun/Dropbox/Research/Decision_Driven_Regularization/Data_JOC_R1_Submit/Shortest_Path_Final/Various_Settings_SPO_Data_Generation/3by3_grid/data_size=100_deg=1.0_e=1.0_p=5_num_test=1000_x_dist=uniform_e_dist=normal/\n"
     ]
    }
   ],
   "source": [
    "regret_e_ante_Dict = {}; h2h_e_ante_Dict = {}\n",
    "for mu in mu_all:\n",
    "    for lamb in lamb_all:\n",
    "        regret_e_ante = np.zeros(len(e_all)); h2h_e_ante = np.zeros(len(e_all))\n",
    "        _index = 0\n",
    "        for e in e_all:\n",
    "            alpha = e \n",
    "            DataPath = DataPath_Parent + f\"data_size={num_train}_deg={deg}_e={e}_p={p}_num_test={num_test}\"+\"_x_dist=\"+x_dist+\"_e_dist=\"+e_dist+\"/\"\n",
    "            print(\"DataPath:\", DataPath)\n",
    "            cost_Oracle_Ante_all,cost_OLS_Ante_all,cost_DDR_Ante_all = Data_LSM.load_cost_data(DataPath)\n",
    "            h2h_e_ante[_index], regret_e_ante[_index] = h2h_regret_eva.calculate_h2h_regret(mu,lamb,iteration_all,0,0,0,cost_DDR_Ante_all,cost_OLS_Ante_all,cost_Oracle_Ante_all)\n",
    "            _index = _index + 1\n",
    "        regret_e_ante_Dict[mu,lamb] = regret_e_ante\n",
    "        h2h_e_ante_Dict[mu,lamb] = h2h_e_ante\n",
    "with open(Result_dir+'regret_e_ante_Dict.pkl', \"wb\") as tf:\n",
    "    pickle.dump(regret_e_ante_Dict,tf)\n",
    "with open(Result_dir+'h2h_e_ante_Dict.pkl', \"wb\") as tf:\n",
    "    pickle.dump(h2h_e_ante_Dict,tf)"
   ]
  },
  {
   "cell_type": "code",
   "execution_count": 15,
   "id": "ab8f25f9",
   "metadata": {},
   "outputs": [
    {
     "data": {
      "text/plain": [
       "[0.25, 0.5, 0.75, 1.0]"
      ]
     },
     "execution_count": 15,
     "metadata": {},
     "output_type": "execute_result"
    }
   ],
   "source": [
    "e_all"
   ]
  },
  {
   "cell_type": "code",
   "execution_count": 8,
   "id": "8e6a1cb1",
   "metadata": {},
   "outputs": [
    {
     "data": {
      "image/png": "[encoded data removed]",
      "text/plain": [
       "<Figure size 500x500 with 1 Axes>"
      ]
     },
     "metadata": {},
     "output_type": "display_data"
    }
   ],
   "source": [
    "mu = 0.75\n",
    "lamb = 0.8\n",
    "h2h_fig = h2h_e_ante_Dict[mu,lamb] * 100\n",
    "regret_fig = regret_e_ante_Dict[mu,lamb] * 100\n",
    "\n",
    "ms = 8 # marker size\n",
    "fs = 12 # font size\n",
    "ls = 12 # label size\n",
    "\n",
    "import matplotlib.pyplot as plt\n",
    "fig, ax = plt.subplots(figsize=(5, 5))\n",
    "_indices = [0, 2,3]\n",
    "for i in _indices:\n",
    "    ax.plot(h2h_fig[i], regret_fig[i], color='gray', marker='d', markersize = ms,linestyle='None')\n",
    "ax.plot(h2h_fig[1], regret_fig[1],color='red', marker='o', markersize = 6,linestyle='None')\n",
    "ax.text(h2h_fig[1] + 2, regret_fig[1] - 1, 'Baseline', color='red',fontsize=fs)\n",
    "\n",
    "ax.text(h2h_fig[0] - 12, regret_fig[0] - 1, r'$\\bar{\\epsilon}$=0.25', color='gray',fontsize=fs)\n",
    "ax.text(h2h_fig[2] + 2, regret_fig[2] - 1, r'$\\bar{\\epsilon}$=0.75', color='gray',fontsize=fs)\n",
    "ax.text(h2h_fig[3] + 2, regret_fig[3] - 1, r'$\\bar{\\epsilon}$=1.0', color='gray',fontsize=fs)\n",
    "\n",
    "# ax.set_title(r'Effect of model misspecification: $\\beta$')\n",
    "ax.set_xlabel('Head-to-head (%)')\n",
    "ax.set_ylabel('Regret reduction (%)')\n",
    "# ax.grid(True)\n",
    "\n",
    "ax.axvline(50, linestyle='dashed', alpha=0.8, color='k')\n",
    "ax.axhline(0.0, linestyle='dashed', alpha=0.8, color='k')\n",
    "ax.set_xlim(35, 105)\n",
    "ax.set_ylim(-9, 70)\n",
    "ax.label_outer()\n",
    "# plt.tight_layout()\n",
    "fig.savefig(Result_dir + f'DDR_vs_OLS_Noise_ante_mu={mu}_lamb={lamb}.pdf', format='pdf', bbox_inches=\"tight\")\n",
    "plt.show()\n"
   ]
  },
  {
   "cell_type": "markdown",
   "id": "1672dd12",
   "metadata": {},
   "source": [
    "#### DDR vs SPO+"
   ]
  },
  {
   "cell_type": "code",
   "execution_count": 9,
   "id": "d107abbf",
   "metadata": {},
   "outputs": [
    {
     "name": "stdout",
     "output_type": "stream",
     "text": [
      "DataPath: /Users/zhangxun/Dropbox/Research/Decision_Driven_Regularization/Data_JOC_R1_Submit/Shortest_Path_Final/Various_Settings_SPO_Data_Generation/3by3_grid/data_size=100_deg=1.0_e=0.25_p=5_num_test=1000_x_dist=uniform_e_dist=normal/\n",
      "DataPath: /Users/zhangxun/Dropbox/Research/Decision_Driven_Regularization/Data_JOC_R1_Submit/Shortest_Path_Final/Various_Settings_SPO_Data_Generation/3by3_grid/data_size=100_deg=1.0_e=0.5_p=5_num_test=1000_x_dist=uniform_e_dist=normal/\n",
      "DataPath: /Users/zhangxun/Dropbox/Research/Decision_Driven_Regularization/Data_JOC_R1_Submit/Shortest_Path_Final/Various_Settings_SPO_Data_Generation/3by3_grid/data_size=100_deg=1.0_e=0.75_p=5_num_test=1000_x_dist=uniform_e_dist=normal/\n",
      "DataPath: /Users/zhangxun/Dropbox/Research/Decision_Driven_Regularization/Data_JOC_R1_Submit/Shortest_Path_Final/Various_Settings_SPO_Data_Generation/3by3_grid/data_size=100_deg=1.0_e=1.0_p=5_num_test=1000_x_dist=uniform_e_dist=normal/\n"
     ]
    }
   ],
   "source": [
    "regret_DDR_vs_SPO_e_ante_Dict = {}; h2h_DDR_vs_SPO_e_ante_Dict = {}\n",
    "for mu in mu_all:\n",
    "    for lamb in lamb_all:\n",
    "        regret_e_ante = np.zeros(len(e_all)); h2h_e_ante = np.zeros(len(e_all))\n",
    "        _index = 0\n",
    "        for e in e_all:\n",
    "            alpha = e \n",
    "            DataPath = DataPath_Parent + f\"data_size={num_train}_deg={deg}_e={e}_p={p}_num_test={num_test}\"+\"_x_dist=\"+x_dist+\"_e_dist=\"+e_dist+\"/\"\n",
    "            print(\"DataPath:\", DataPath)\n",
    "\n",
    "            cost_Oracle_Ante_all,cost_OLS_Ante_all,cost_DDR_Ante_all = Data_LSM.load_cost_data(DataPath)\n",
    "            with open(DataPath+'cost_spo+_Ante_all.pkl', \"rb\") as tf:\n",
    "                cost_SPO_Ante_all = pickle.load(tf)\n",
    "            h2h_e_ante[_index], regret_e_ante[_index] = h2h_regret_eva.calculate_h2h_regret(mu,lamb,iteration_all,0,0,0,cost_DDR_Ante_all,cost_SPO_Ante_all,cost_Oracle_Ante_all)\n",
    "            _index = _index + 1\n",
    "        regret_DDR_vs_SPO_e_ante_Dict[mu,lamb] = regret_e_ante\n",
    "        h2h_DDR_vs_SPO_e_ante_Dict[mu,lamb] = h2h_e_ante\n",
    "with open(Result_dir+'regret_DDR_vs_SPO_e_ante_Dict.pkl', \"wb\") as tf:\n",
    "    pickle.dump(regret_DDR_vs_SPO_e_ante_Dict,tf)\n",
    "with open(Result_dir+'h2h_DDR_vs_SPO_e_ante_Dict.pkl', \"wb\") as tf:\n",
    "    pickle.dump(h2h_DDR_vs_SPO_e_ante_Dict,tf)"
   ]
  },
  {
   "cell_type": "code",
   "execution_count": 10,
   "id": "6b621db2",
   "metadata": {},
   "outputs": [
    {
     "data": {
      "image/png": "[encoded data removed]",
      "text/plain": [
       "<Figure size 500x500 with 1 Axes>"
      ]
     },
     "metadata": {},
     "output_type": "display_data"
    }
   ],
   "source": [
    "mu = 0.75\n",
    "lamb = 0.8\n",
    "h2h_fig = h2h_DDR_vs_SPO_e_ante_Dict[mu,lamb] * 100\n",
    "regret_fig = regret_DDR_vs_SPO_e_ante_Dict[mu,lamb] * 100\n",
    "\n",
    "ms = 6 # marker size\n",
    "fs = 12 # font size\n",
    "ls = 12 # label size\n",
    "\n",
    "import matplotlib.pyplot as plt\n",
    "fig, ax = plt.subplots(figsize=(5, 5))\n",
    "_indices = [0, 2,3]\n",
    "for i in _indices:\n",
    "    ax.plot(h2h_fig[i], regret_fig[i], color='grey', marker='d', markersize = 10,linestyle='None')\n",
    "ax.plot(h2h_fig[1], regret_fig[1],color='red', marker='o', markersize = 6,linestyle='None')\n",
    "ax.text(h2h_fig[1] - 6.8, regret_fig[1] + 1, 'Baseline', color='red',fontsize=fs)\n",
    "\n",
    "ax.text(h2h_fig[0] - 20, regret_fig[0] - 0.2, r'$\\bar{\\epsilon}$=0.25,0.75', color='grey',fontsize=fs)\n",
    "ax.text(h2h_fig[3] - 10, regret_fig[3] - 0.4, r'$\\bar{\\epsilon}$=1.0', color='grey',fontsize=fs)\n",
    "ax.set_xlabel('Head-to-head (%)')\n",
    "ax.set_ylabel('Regret reduction (%)')\n",
    "# ax.grid(True)\n",
    "\n",
    "ax.axvline(50, linestyle='dashed', alpha=0.8, color='k')\n",
    "ax.axhline(0.0, linestyle='dashed', alpha=0.8, color='k')\n",
    "ax.set_xlim(40, 105)\n",
    "ax.set_ylim(90, 105)\n",
    "ax.label_outer()\n",
    "\n",
    "# plt.tight_layout()\n",
    "fig.savefig(Result_dir + f'DDR_vs_SPO_Noise_ante_mu={mu}_lamb={lamb}.pdf', format='pdf', bbox_inches=\"tight\")\n",
    "plt.show()\n"
   ]
  }
 ],
 "metadata": {
  "kernelspec": {
   "display_name": ".venv",
   "language": "python",
   "name": "python3"
  },
  "language_info": {
   "codemirror_mode": {
    "name": "ipython",
    "version": 3
   },
   "file_extension": ".py",
   "mimetype": "text/x-python",
   "name": "python",
   "nbconvert_exporter": "python",
   "pygments_lexer": "ipython3",
   "version": "3.9.6"
  }
 },
 "nbformat": 4,
 "nbformat_minor": 5
}
