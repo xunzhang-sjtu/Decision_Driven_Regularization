{
 "cells": [
  {
   "cell_type": "code",
   "execution_count": 1,
   "id": "e5423203",
   "metadata": {},
   "outputs": [],
   "source": [
    "import random\n",
    "import numpy as np\n",
    "import torch\n",
    "import os\n",
    "import pathlib\n",
    "import pickle\n",
    "import pandas as pd\n",
    "torch.manual_seed(42)\n",
    "torch.cuda.manual_seed(42)\n",
    "from Performance import performance_evaluation\n",
    "perfs = performance_evaluation()\n",
    "\n",
    "from Performance import H2h_Regret_Evaluation\n",
    "h2h_regret_eva = H2h_Regret_Evaluation()\n",
    "\n",
    "from Data import Data_Simulator\n",
    "DS_Obj = Data_Simulator()\n",
    "\n",
    "from Oracle import Oracle_Processing\n",
    "Oracle_Proc = Oracle_Processing()\n",
    "\n",
    "from OLS import OLS_Processing\n",
    "OLS_Proc = OLS_Processing()\n",
    "\n",
    "from DDR import DDR_Processing\n",
    "DDR_Proc = DDR_Processing()\n",
    "\n",
    "from PYEPO import EPO_Processing\n",
    "PYEPO_Proc = EPO_Processing()\n",
    "\n",
    "from Data_Load_Store import Load_Store_Methods\n",
    "Data_LSM = Load_Store_Methods()\n",
    "\n",
    "import Figure_H2H_Regret"
   ]
  },
  {
   "cell_type": "code",
   "execution_count": 2,
   "id": "9e1d3bf5",
   "metadata": {},
   "outputs": [],
   "source": [
    "import Sequential_Learning_Approaches as SLA\n",
    "import Integrated_Learning_Approaches as ILA"
   ]
  },
  {
   "cell_type": "markdown",
   "id": "886e7311",
   "metadata": {},
   "source": [
    "### Parameters"
   ]
  },
  {
   "cell_type": "code",
   "execution_count": 3,
   "id": "782cc897",
   "metadata": {},
   "outputs": [],
   "source": [
    "grid = (3,3) # grid size\n",
    "from Network import network_design\n",
    "Network = network_design()\n",
    "arcs,arc_index_mapping = Network._getArcs(grid)\n",
    "\n",
    "num_test = 1000\n",
    "lower = 0 # coef lower bound\n",
    "upper = 1 # coef upper bound\n",
    "d = (grid[0] - 1) * (grid[0] - 1) * 2 + 2 * (grid[0] - 1) # num of arcs\n",
    "num_nodes = grid[0]*grid[0]\n",
    "coef_seed = 1\n",
    "\n",
    "x_dist = 'uniform'\n",
    "e_dist = 'normal'\n",
    "x_low = -2\n",
    "x_up = 2\n",
    "x_mean = 2\n",
    "x_var = 2\n",
    "bump = 100"
   ]
  },
  {
   "cell_type": "code",
   "execution_count": 4,
   "id": "554bf254",
   "metadata": {},
   "outputs": [
    {
     "name": "stdout",
     "output_type": "stream",
     "text": [
      "DataPath_parent: /Users/zhangxun/Dropbox/Research/Decision_Driven_Regularization/Data_JOC_R1_Submit/Shortest_Path_Final/Quadratic_Term_deg_all_SPO_Data_Generation/3by3_grid_All/\n"
     ]
    }
   ],
   "source": [
    "data_generation_process = \"SPO_Data_Generation\"\n",
    "# data_generation_process = \"DDR_Data_Generation\"\n",
    "current_directory = os.getcwd()\n",
    "parent_directory = os.path.dirname(current_directory)\n",
    "project_directory = os.path.dirname(os.path.dirname(os.path.dirname(parent_directory)))\n",
    "DataPath_Parent = project_directory + '/Data_JOC_R1_Submit/Shortest_Path_Final/Quadratic_Term_deg_all_' + data_generation_process + f'/{grid[0]}by{grid[1]}_grid_All/'\n",
    "pathlib.Path(DataPath_Parent).mkdir(parents=True, exist_ok=True)\n",
    "print(\"DataPath_parent:\", DataPath_Parent)\n",
    "Result_dir = DataPath_Parent + \"Result/\"\n",
    "pathlib.Path(Result_dir).mkdir(parents=True, exist_ok=True)"
   ]
  },
  {
   "cell_type": "markdown",
   "id": "e36b76bb",
   "metadata": {},
   "source": [
    "### Impact of model misspecification when N changes"
   ]
  },
  {
   "cell_type": "code",
   "execution_count": 5,
   "id": "19a90759",
   "metadata": {},
   "outputs": [],
   "source": [
    "num_feat = 5 # size of feature\n",
    "p = num_feat\n",
    "e = 0.5 # scale of normal std or the range of uniform. For the error term\n",
    "alpha = e # scale of normal std or the range of uniform. For the error term\n",
    "iteration_all = np.arange(0,100)\n",
    "batch_size = 20\n",
    "num_epochs = 1000\n",
    "num_train_all = [500]\n",
    "mu_all = [0.75]\n",
    "lamb_all = [0.8]\n",
    "deg_all = [0.4,0.6,0.8,1.0,1.5,2.0,4.0,8.0] # polynomial degree"
   ]
  },
  {
   "cell_type": "markdown",
   "id": "0e31bc37",
   "metadata": {},
   "source": [
    "##### Data Generation"
   ]
  },
  {
   "cell_type": "code",
   "execution_count": 6,
   "id": "43a82c3b",
   "metadata": {},
   "outputs": [
    {
     "name": "stdout",
     "output_type": "stream",
     "text": [
      "DataPath: /Users/zhangxun/Dropbox/Research/Decision_Driven_Regularization/Data_JOC_R1_Submit/Shortest_Path_Final/Quadratic_Term_deg_all_SPO_Data_Generation/3by3_grid_All/data_size=500_deg=0.4_e=0.5_p=5_num_test=1000_x_dist=uniform_e_dist=normal/\n",
      "Already Exist\n",
      "DataPath: /Users/zhangxun/Dropbox/Research/Decision_Driven_Regularization/Data_JOC_R1_Submit/Shortest_Path_Final/Quadratic_Term_deg_all_SPO_Data_Generation/3by3_grid_All/data_size=500_deg=0.6_e=0.5_p=5_num_test=1000_x_dist=uniform_e_dist=normal/\n",
      "Already Exist\n",
      "DataPath: /Users/zhangxun/Dropbox/Research/Decision_Driven_Regularization/Data_JOC_R1_Submit/Shortest_Path_Final/Quadratic_Term_deg_all_SPO_Data_Generation/3by3_grid_All/data_size=500_deg=0.8_e=0.5_p=5_num_test=1000_x_dist=uniform_e_dist=normal/\n",
      "Already Exist\n",
      "DataPath: /Users/zhangxun/Dropbox/Research/Decision_Driven_Regularization/Data_JOC_R1_Submit/Shortest_Path_Final/Quadratic_Term_deg_all_SPO_Data_Generation/3by3_grid_All/data_size=500_deg=1.0_e=0.5_p=5_num_test=1000_x_dist=uniform_e_dist=normal/\n",
      "Already Exist\n",
      "DataPath: /Users/zhangxun/Dropbox/Research/Decision_Driven_Regularization/Data_JOC_R1_Submit/Shortest_Path_Final/Quadratic_Term_deg_all_SPO_Data_Generation/3by3_grid_All/data_size=500_deg=1.5_e=0.5_p=5_num_test=1000_x_dist=uniform_e_dist=normal/\n",
      "Already Exist\n",
      "DataPath: /Users/zhangxun/Dropbox/Research/Decision_Driven_Regularization/Data_JOC_R1_Submit/Shortest_Path_Final/Quadratic_Term_deg_all_SPO_Data_Generation/3by3_grid_All/data_size=500_deg=2.0_e=0.5_p=5_num_test=1000_x_dist=uniform_e_dist=normal/\n",
      "Already Exist\n",
      "DataPath: /Users/zhangxun/Dropbox/Research/Decision_Driven_Regularization/Data_JOC_R1_Submit/Shortest_Path_Final/Quadratic_Term_deg_all_SPO_Data_Generation/3by3_grid_All/data_size=500_deg=4.0_e=0.5_p=5_num_test=1000_x_dist=uniform_e_dist=normal/\n",
      "Already Exist\n",
      "DataPath: /Users/zhangxun/Dropbox/Research/Decision_Driven_Regularization/Data_JOC_R1_Submit/Shortest_Path_Final/Quadratic_Term_deg_all_SPO_Data_Generation/3by3_grid_All/data_size=500_deg=8.0_e=0.5_p=5_num_test=1000_x_dist=uniform_e_dist=normal/\n",
      "Already Exist\n"
     ]
    }
   ],
   "source": [
    "for num_train in num_train_all:\n",
    "    for deg in deg_all:\n",
    "        mis = deg # model misspecification\n",
    "        DataPath = DataPath_Parent + f\"data_size={num_train}_deg={deg}_e={e}_p={p}_num_test={num_test}\"+\"_x_dist=\"+x_dist+\"_e_dist=\"+e_dist+\"/\"\n",
    "        pathlib.Path(DataPath).mkdir(parents=True, exist_ok=True)\n",
    "        print(\"DataPath:\", DataPath)\n",
    "        if os.path.exists(DataPath+\"x_test_all.pkl\"):\n",
    "            print(\"Already Exist\")\n",
    "        else:\n",
    "            x_test_all, c_test_all, x_train_all, c_train_all,noise_train_all,noise_test_all,W_star_all = \\\n",
    "            DS_Obj.Simulator(DataPath,lower, upper, p, d, coef_seed,iteration_all,num_test, num_train, alpha,mis,data_generation_process,x_dist, e_dist, x_low, x_up, x_mean, x_var, bump)\n",
    "            Data_LSM.store_input_data(DataPath,x_test_all,c_test_all,x_train_all,c_train_all,noise_test_all,noise_train_all,W_star_all)"
   ]
  },
  {
   "cell_type": "markdown",
   "id": "cea683e1",
   "metadata": {},
   "source": [
    "##### Run Oracle"
   ]
  },
  {
   "cell_type": "code",
   "execution_count": 7,
   "id": "4e39a0e4",
   "metadata": {},
   "outputs": [
    {
     "name": "stdout",
     "output_type": "stream",
     "text": [
      "DataPath: /Users/zhangxun/Dropbox/Research/Decision_Driven_Regularization/Data_JOC_R1_Submit/Shortest_Path_Final/Quadratic_Term_deg_all_SPO_Data_Generation/3by3_grid_All/data_size=500_deg=0.4_e=0.5_p=5_num_test=1000_x_dist=uniform_e_dist=normal/\n",
      "Results already exist\n",
      "DataPath: /Users/zhangxun/Dropbox/Research/Decision_Driven_Regularization/Data_JOC_R1_Submit/Shortest_Path_Final/Quadratic_Term_deg_all_SPO_Data_Generation/3by3_grid_All/data_size=500_deg=0.6_e=0.5_p=5_num_test=1000_x_dist=uniform_e_dist=normal/\n",
      "Results already exist\n",
      "DataPath: /Users/zhangxun/Dropbox/Research/Decision_Driven_Regularization/Data_JOC_R1_Submit/Shortest_Path_Final/Quadratic_Term_deg_all_SPO_Data_Generation/3by3_grid_All/data_size=500_deg=0.8_e=0.5_p=5_num_test=1000_x_dist=uniform_e_dist=normal/\n",
      "Results already exist\n",
      "DataPath: /Users/zhangxun/Dropbox/Research/Decision_Driven_Regularization/Data_JOC_R1_Submit/Shortest_Path_Final/Quadratic_Term_deg_all_SPO_Data_Generation/3by3_grid_All/data_size=500_deg=1.0_e=0.5_p=5_num_test=1000_x_dist=uniform_e_dist=normal/\n",
      "Results already exist\n",
      "DataPath: /Users/zhangxun/Dropbox/Research/Decision_Driven_Regularization/Data_JOC_R1_Submit/Shortest_Path_Final/Quadratic_Term_deg_all_SPO_Data_Generation/3by3_grid_All/data_size=500_deg=1.5_e=0.5_p=5_num_test=1000_x_dist=uniform_e_dist=normal/\n",
      "Results already exist\n",
      "DataPath: /Users/zhangxun/Dropbox/Research/Decision_Driven_Regularization/Data_JOC_R1_Submit/Shortest_Path_Final/Quadratic_Term_deg_all_SPO_Data_Generation/3by3_grid_All/data_size=500_deg=2.0_e=0.5_p=5_num_test=1000_x_dist=uniform_e_dist=normal/\n",
      "Results already exist\n",
      "DataPath: /Users/zhangxun/Dropbox/Research/Decision_Driven_Regularization/Data_JOC_R1_Submit/Shortest_Path_Final/Quadratic_Term_deg_all_SPO_Data_Generation/3by3_grid_All/data_size=500_deg=4.0_e=0.5_p=5_num_test=1000_x_dist=uniform_e_dist=normal/\n",
      "Results already exist\n",
      "DataPath: /Users/zhangxun/Dropbox/Research/Decision_Driven_Regularization/Data_JOC_R1_Submit/Shortest_Path_Final/Quadratic_Term_deg_all_SPO_Data_Generation/3by3_grid_All/data_size=500_deg=8.0_e=0.5_p=5_num_test=1000_x_dist=uniform_e_dist=normal/\n",
      "Results already exist\n"
     ]
    }
   ],
   "source": [
    "for num_train in num_train_all:\n",
    "    for deg in deg_all:\n",
    "        mis = deg # model misspecification\n",
    "        DataPath = DataPath_Parent + f\"data_size={num_train}_deg={deg}_e={e}_p={p}_num_test={num_test}\"+\"_x_dist=\"+x_dist+\"_e_dist=\"+e_dist+\"/\"\n",
    "        print(\"DataPath:\", DataPath)\n",
    "        if os.path.exists(DataPath+\"cost_Oracle_Ante_all.pkl\"):\n",
    "            print(\"Results already exist\")\n",
    "        else:\n",
    "            SLA.Run_Oracle(DataPath,arcs, grid,mis,bump,iteration_all,num_feat,data_generation_process)"
   ]
  },
  {
   "cell_type": "markdown",
   "id": "dc7b64b6",
   "metadata": {},
   "source": [
    "##### Run OLS"
   ]
  },
  {
   "cell_type": "code",
   "execution_count": 8,
   "id": "479e43d9",
   "metadata": {},
   "outputs": [],
   "source": [
    "# for num_train in num_train_all:\n",
    "#     for deg in deg_all:\n",
    "#         mis = deg # model misspecification\n",
    "#         DataPath = DataPath_Parent + f\"data_size={num_train}_deg={deg}_e={e}_p={p}_num_test={num_test}\"+\"_x_dist=\"+x_dist+\"_e_dist=\"+e_dist+\"/\"\n",
    "#         print(\"DataPath:\", DataPath)\n",
    "#         if os.path.exists(DataPath+\"cost_OLS_Ante_all.pkl\"):\n",
    "#             print(\"Results already exist\")\n",
    "#         else:\n",
    "#             SLA.Run_OLS(DataPath,arcs, grid,mis,bump,iteration_all,num_feat,data_generation_process)"
   ]
  },
  {
   "cell_type": "markdown",
   "id": "4343cc89",
   "metadata": {},
   "source": [
    "##### Run DDR"
   ]
  },
  {
   "cell_type": "code",
   "execution_count": 9,
   "id": "a38577c6",
   "metadata": {},
   "outputs": [
    {
     "name": "stdout",
     "output_type": "stream",
     "text": [
      "DataPath: /Users/zhangxun/Dropbox/Research/Decision_Driven_Regularization/Data_JOC_R1_Submit/Shortest_Path_Final/Quadratic_Term_deg_all_SPO_Data_Generation/3by3_grid_All/data_size=500_deg=0.4_e=0.5_p=5_num_test=1000_x_dist=uniform_e_dist=normal/\n",
      "Results already exist\n",
      "DataPath: /Users/zhangxun/Dropbox/Research/Decision_Driven_Regularization/Data_JOC_R1_Submit/Shortest_Path_Final/Quadratic_Term_deg_all_SPO_Data_Generation/3by3_grid_All/data_size=500_deg=0.6_e=0.5_p=5_num_test=1000_x_dist=uniform_e_dist=normal/\n",
      "Results already exist\n",
      "DataPath: /Users/zhangxun/Dropbox/Research/Decision_Driven_Regularization/Data_JOC_R1_Submit/Shortest_Path_Final/Quadratic_Term_deg_all_SPO_Data_Generation/3by3_grid_All/data_size=500_deg=0.8_e=0.5_p=5_num_test=1000_x_dist=uniform_e_dist=normal/\n",
      "Results already exist\n",
      "DataPath: /Users/zhangxun/Dropbox/Research/Decision_Driven_Regularization/Data_JOC_R1_Submit/Shortest_Path_Final/Quadratic_Term_deg_all_SPO_Data_Generation/3by3_grid_All/data_size=500_deg=1.0_e=0.5_p=5_num_test=1000_x_dist=uniform_e_dist=normal/\n",
      "Results already exist\n",
      "DataPath: /Users/zhangxun/Dropbox/Research/Decision_Driven_Regularization/Data_JOC_R1_Submit/Shortest_Path_Final/Quadratic_Term_deg_all_SPO_Data_Generation/3by3_grid_All/data_size=500_deg=1.5_e=0.5_p=5_num_test=1000_x_dist=uniform_e_dist=normal/\n",
      "Results already exist\n",
      "DataPath: /Users/zhangxun/Dropbox/Research/Decision_Driven_Regularization/Data_JOC_R1_Submit/Shortest_Path_Final/Quadratic_Term_deg_all_SPO_Data_Generation/3by3_grid_All/data_size=500_deg=2.0_e=0.5_p=5_num_test=1000_x_dist=uniform_e_dist=normal/\n",
      "Results already exist\n",
      "DataPath: /Users/zhangxun/Dropbox/Research/Decision_Driven_Regularization/Data_JOC_R1_Submit/Shortest_Path_Final/Quadratic_Term_deg_all_SPO_Data_Generation/3by3_grid_All/data_size=500_deg=4.0_e=0.5_p=5_num_test=1000_x_dist=uniform_e_dist=normal/\n",
      "Results already exist\n",
      "DataPath: /Users/zhangxun/Dropbox/Research/Decision_Driven_Regularization/Data_JOC_R1_Submit/Shortest_Path_Final/Quadratic_Term_deg_all_SPO_Data_Generation/3by3_grid_All/data_size=500_deg=8.0_e=0.5_p=5_num_test=1000_x_dist=uniform_e_dist=normal/\n",
      "Results already exist\n"
     ]
    }
   ],
   "source": [
    "for num_train in num_train_all:\n",
    "    for deg in deg_all:\n",
    "        mis = deg # model misspecification\n",
    "        DataPath = DataPath_Parent + f\"data_size={num_train}_deg={deg}_e={e}_p={p}_num_test={num_test}\"+\"_x_dist=\"+x_dist+\"_e_dist=\"+e_dist+\"/\"\n",
    "        print(\"DataPath:\", DataPath)\n",
    "        if os.path.exists(DataPath+\"cost_DDR_Ante_all.pkl\"):\n",
    "            print(\"Results already exist\")\n",
    "        else:\n",
    "            ILA.Run_DDR(DataPath,mu_all,lamb_all,arcs, grid,mis,bump,iteration_all,num_feat,data_generation_process)"
   ]
  },
  {
   "cell_type": "markdown",
   "id": "2134bafc",
   "metadata": {},
   "source": [
    "##### Run SPO+"
   ]
  },
  {
   "cell_type": "code",
   "execution_count": 10,
   "id": "f1f70950",
   "metadata": {},
   "outputs": [
    {
     "name": "stdout",
     "output_type": "stream",
     "text": [
      "DataPath: /Users/zhangxun/Dropbox/Research/Decision_Driven_Regularization/Data_JOC_R1_Submit/Shortest_Path_Final/Quadratic_Term_deg_all_SPO_Data_Generation/3by3_grid_All/data_size=500_deg=0.4_e=0.5_p=5_num_test=1000_x_dist=uniform_e_dist=normal/\n",
      "Results already exist\n",
      "DataPath: /Users/zhangxun/Dropbox/Research/Decision_Driven_Regularization/Data_JOC_R1_Submit/Shortest_Path_Final/Quadratic_Term_deg_all_SPO_Data_Generation/3by3_grid_All/data_size=500_deg=0.6_e=0.5_p=5_num_test=1000_x_dist=uniform_e_dist=normal/\n",
      "Results already exist\n",
      "DataPath: /Users/zhangxun/Dropbox/Research/Decision_Driven_Regularization/Data_JOC_R1_Submit/Shortest_Path_Final/Quadratic_Term_deg_all_SPO_Data_Generation/3by3_grid_All/data_size=500_deg=0.8_e=0.5_p=5_num_test=1000_x_dist=uniform_e_dist=normal/\n",
      "Results already exist\n",
      "DataPath: /Users/zhangxun/Dropbox/Research/Decision_Driven_Regularization/Data_JOC_R1_Submit/Shortest_Path_Final/Quadratic_Term_deg_all_SPO_Data_Generation/3by3_grid_All/data_size=500_deg=1.0_e=0.5_p=5_num_test=1000_x_dist=uniform_e_dist=normal/\n",
      "Results already exist\n",
      "DataPath: /Users/zhangxun/Dropbox/Research/Decision_Driven_Regularization/Data_JOC_R1_Submit/Shortest_Path_Final/Quadratic_Term_deg_all_SPO_Data_Generation/3by3_grid_All/data_size=500_deg=1.5_e=0.5_p=5_num_test=1000_x_dist=uniform_e_dist=normal/\n",
      "Results already exist\n",
      "DataPath: /Users/zhangxun/Dropbox/Research/Decision_Driven_Regularization/Data_JOC_R1_Submit/Shortest_Path_Final/Quadratic_Term_deg_all_SPO_Data_Generation/3by3_grid_All/data_size=500_deg=2.0_e=0.5_p=5_num_test=1000_x_dist=uniform_e_dist=normal/\n",
      "Results already exist\n",
      "DataPath: /Users/zhangxun/Dropbox/Research/Decision_Driven_Regularization/Data_JOC_R1_Submit/Shortest_Path_Final/Quadratic_Term_deg_all_SPO_Data_Generation/3by3_grid_All/data_size=500_deg=4.0_e=0.5_p=5_num_test=1000_x_dist=uniform_e_dist=normal/\n",
      "Results already exist\n",
      "DataPath: /Users/zhangxun/Dropbox/Research/Decision_Driven_Regularization/Data_JOC_R1_Submit/Shortest_Path_Final/Quadratic_Term_deg_all_SPO_Data_Generation/3by3_grid_All/data_size=500_deg=8.0_e=0.5_p=5_num_test=1000_x_dist=uniform_e_dist=normal/\n",
      "Results already exist\n"
     ]
    }
   ],
   "source": [
    "for num_train in num_train_all:\n",
    "    method_names = [\"spo+\"]\n",
    "    for deg in deg_all:\n",
    "        mis = deg # model misspecification\n",
    "        DataPath = DataPath_Parent + f\"data_size={num_train}_deg={deg}_e={e}_p={p}_num_test={num_test}\"+\"_x_dist=\"+x_dist+\"_e_dist=\"+e_dist+\"/\"\n",
    "        print(\"DataPath:\", DataPath)\n",
    "        if os.path.exists(DataPath+\"cost_spo+_Ante_all.pkl\"):\n",
    "            print(\"Results already exist\")\n",
    "        else:\n",
    "            ILA.run_EPO_approaches(DataPath,method_names,arcs, grid,mis,bump,iteration_all,num_feat,data_generation_process)"
   ]
  },
  {
   "cell_type": "markdown",
   "id": "e20c5c64",
   "metadata": {},
   "source": [
    "##### Run PG"
   ]
  },
  {
   "cell_type": "code",
   "execution_count": 11,
   "id": "f0547b9d",
   "metadata": {},
   "outputs": [
    {
     "name": "stdout",
     "output_type": "stream",
     "text": [
      "DataPath: /Users/zhangxun/Dropbox/Research/Decision_Driven_Regularization/Data_JOC_R1_Submit/Shortest_Path_Final/Quadratic_Term_deg_all_SPO_Data_Generation/3by3_grid_All/data_size=500_deg=0.4_e=0.5_p=5_num_test=1000_x_dist=uniform_e_dist=normal/\n",
      "Results already exist\n",
      "DataPath: /Users/zhangxun/Dropbox/Research/Decision_Driven_Regularization/Data_JOC_R1_Submit/Shortest_Path_Final/Quadratic_Term_deg_all_SPO_Data_Generation/3by3_grid_All/data_size=500_deg=0.6_e=0.5_p=5_num_test=1000_x_dist=uniform_e_dist=normal/\n",
      "Results already exist\n",
      "DataPath: /Users/zhangxun/Dropbox/Research/Decision_Driven_Regularization/Data_JOC_R1_Submit/Shortest_Path_Final/Quadratic_Term_deg_all_SPO_Data_Generation/3by3_grid_All/data_size=500_deg=0.8_e=0.5_p=5_num_test=1000_x_dist=uniform_e_dist=normal/\n",
      "Results already exist\n",
      "DataPath: /Users/zhangxun/Dropbox/Research/Decision_Driven_Regularization/Data_JOC_R1_Submit/Shortest_Path_Final/Quadratic_Term_deg_all_SPO_Data_Generation/3by3_grid_All/data_size=500_deg=1.0_e=0.5_p=5_num_test=1000_x_dist=uniform_e_dist=normal/\n",
      "Results already exist\n",
      "DataPath: /Users/zhangxun/Dropbox/Research/Decision_Driven_Regularization/Data_JOC_R1_Submit/Shortest_Path_Final/Quadratic_Term_deg_all_SPO_Data_Generation/3by3_grid_All/data_size=500_deg=1.5_e=0.5_p=5_num_test=1000_x_dist=uniform_e_dist=normal/\n",
      "Results already exist\n",
      "DataPath: /Users/zhangxun/Dropbox/Research/Decision_Driven_Regularization/Data_JOC_R1_Submit/Shortest_Path_Final/Quadratic_Term_deg_all_SPO_Data_Generation/3by3_grid_All/data_size=500_deg=2.0_e=0.5_p=5_num_test=1000_x_dist=uniform_e_dist=normal/\n",
      "Results already exist\n",
      "DataPath: /Users/zhangxun/Dropbox/Research/Decision_Driven_Regularization/Data_JOC_R1_Submit/Shortest_Path_Final/Quadratic_Term_deg_all_SPO_Data_Generation/3by3_grid_All/data_size=500_deg=4.0_e=0.5_p=5_num_test=1000_x_dist=uniform_e_dist=normal/\n",
      "Results already exist\n",
      "DataPath: /Users/zhangxun/Dropbox/Research/Decision_Driven_Regularization/Data_JOC_R1_Submit/Shortest_Path_Final/Quadratic_Term_deg_all_SPO_Data_Generation/3by3_grid_All/data_size=500_deg=8.0_e=0.5_p=5_num_test=1000_x_dist=uniform_e_dist=normal/\n",
      "Results already exist\n"
     ]
    }
   ],
   "source": [
    "for num_train in num_train_all:\n",
    "    method_names = [\"pg\"]\n",
    "    for deg in deg_all:\n",
    "        mis = deg # model misspecification\n",
    "        DataPath = DataPath_Parent + f\"data_size={num_train}_deg={deg}_e={e}_p={p}_num_test={num_test}\"+\"_x_dist=\"+x_dist+\"_e_dist=\"+e_dist+\"/\"\n",
    "        print(\"DataPath:\", DataPath)\n",
    "        if os.path.exists(DataPath+\"cost_pg_Ante_all.pkl\"):\n",
    "            print(\"Results already exist\")\n",
    "        else:\n",
    "            ILA.run_EPO_approaches(DataPath,method_names,arcs, grid,mis,bump,iteration_all,num_feat,data_generation_process)"
   ]
  },
  {
   "cell_type": "markdown",
   "id": "b1f3a5cf",
   "metadata": {},
   "source": [
    "##### Run LTR"
   ]
  },
  {
   "cell_type": "code",
   "execution_count": 12,
   "id": "38ce0ab8",
   "metadata": {},
   "outputs": [
    {
     "name": "stdout",
     "output_type": "stream",
     "text": [
      "DataPath: /Users/zhangxun/Dropbox/Research/Decision_Driven_Regularization/Data_JOC_R1_Submit/Shortest_Path_Final/Quadratic_Term_deg_all_SPO_Data_Generation/3by3_grid_All/data_size=500_deg=0.4_e=0.5_p=5_num_test=1000_x_dist=uniform_e_dist=normal/\n",
      "Results already exist\n",
      "DataPath: /Users/zhangxun/Dropbox/Research/Decision_Driven_Regularization/Data_JOC_R1_Submit/Shortest_Path_Final/Quadratic_Term_deg_all_SPO_Data_Generation/3by3_grid_All/data_size=500_deg=0.6_e=0.5_p=5_num_test=1000_x_dist=uniform_e_dist=normal/\n",
      "Results already exist\n",
      "DataPath: /Users/zhangxun/Dropbox/Research/Decision_Driven_Regularization/Data_JOC_R1_Submit/Shortest_Path_Final/Quadratic_Term_deg_all_SPO_Data_Generation/3by3_grid_All/data_size=500_deg=0.8_e=0.5_p=5_num_test=1000_x_dist=uniform_e_dist=normal/\n",
      "Results already exist\n",
      "DataPath: /Users/zhangxun/Dropbox/Research/Decision_Driven_Regularization/Data_JOC_R1_Submit/Shortest_Path_Final/Quadratic_Term_deg_all_SPO_Data_Generation/3by3_grid_All/data_size=500_deg=1.0_e=0.5_p=5_num_test=1000_x_dist=uniform_e_dist=normal/\n",
      "Results already exist\n",
      "DataPath: /Users/zhangxun/Dropbox/Research/Decision_Driven_Regularization/Data_JOC_R1_Submit/Shortest_Path_Final/Quadratic_Term_deg_all_SPO_Data_Generation/3by3_grid_All/data_size=500_deg=1.5_e=0.5_p=5_num_test=1000_x_dist=uniform_e_dist=normal/\n",
      "Results already exist\n",
      "DataPath: /Users/zhangxun/Dropbox/Research/Decision_Driven_Regularization/Data_JOC_R1_Submit/Shortest_Path_Final/Quadratic_Term_deg_all_SPO_Data_Generation/3by3_grid_All/data_size=500_deg=2.0_e=0.5_p=5_num_test=1000_x_dist=uniform_e_dist=normal/\n",
      "Results already exist\n",
      "DataPath: /Users/zhangxun/Dropbox/Research/Decision_Driven_Regularization/Data_JOC_R1_Submit/Shortest_Path_Final/Quadratic_Term_deg_all_SPO_Data_Generation/3by3_grid_All/data_size=500_deg=4.0_e=0.5_p=5_num_test=1000_x_dist=uniform_e_dist=normal/\n",
      "Results already exist\n",
      "DataPath: /Users/zhangxun/Dropbox/Research/Decision_Driven_Regularization/Data_JOC_R1_Submit/Shortest_Path_Final/Quadratic_Term_deg_all_SPO_Data_Generation/3by3_grid_All/data_size=500_deg=8.0_e=0.5_p=5_num_test=1000_x_dist=uniform_e_dist=normal/\n",
      "Results already exist\n"
     ]
    }
   ],
   "source": [
    "for num_train in num_train_all:\n",
    "    method_names = [\"ltr\"]\n",
    "    for deg in deg_all:\n",
    "        mis = deg # model misspecification\n",
    "        DataPath = DataPath_Parent + f\"data_size={num_train}_deg={deg}_e={e}_p={p}_num_test={num_test}\"+\"_x_dist=\"+x_dist+\"_e_dist=\"+e_dist+\"/\"\n",
    "        print(\"DataPath:\", DataPath)\n",
    "        if os.path.exists(DataPath+\"cost_ltr_Ante_all.pkl\"):\n",
    "            print(\"Results already exist\")\n",
    "        else:\n",
    "            ILA.run_EPO_approaches(DataPath,method_names,arcs, grid,mis,bump,iteration_all,num_feat,data_generation_process)"
   ]
  },
  {
   "cell_type": "markdown",
   "id": "3327de0f",
   "metadata": {},
   "source": [
    "### Run Approahces with quadratic term"
   ]
  },
  {
   "cell_type": "code",
   "execution_count": 13,
   "id": "5b45b65c",
   "metadata": {},
   "outputs": [],
   "source": [
    "deg_all = [8.0]"
   ]
  },
  {
   "cell_type": "markdown",
   "id": "8b364ef9",
   "metadata": {},
   "source": [
    "##### DDR with quadratic"
   ]
  },
  {
   "cell_type": "code",
   "execution_count": 14,
   "id": "d0745e8c",
   "metadata": {},
   "outputs": [
    {
     "name": "stdout",
     "output_type": "stream",
     "text": [
      "DataPath: /Users/zhangxun/Dropbox/Research/Decision_Driven_Regularization/Data_JOC_R1_Submit/Shortest_Path_Final/Quadratic_Term_deg_all_SPO_Data_Generation/3by3_grid_All/data_size=500_deg=8.0_e=0.5_p=5_num_test=1000_x_dist=uniform_e_dist=normal/\n",
      "Results already exist\n"
     ]
    }
   ],
   "source": [
    "for num_train in num_train_all:\n",
    "    for deg in deg_all:\n",
    "        mis = deg # model misspecification\n",
    "        DataPath = DataPath_Parent + f\"data_size={num_train}_deg={deg}_e={e}_p={p}_num_test={num_test}\"+\"_x_dist=\"+x_dist+\"_e_dist=\"+e_dist+\"/\"\n",
    "        print(\"DataPath:\", DataPath)\n",
    "        if os.path.exists(DataPath+\"cost_DDR_Ante_quad_all.pkl\"):\n",
    "            print(\"Results already exist\")\n",
    "        else:\n",
    "            ILA.Run_DDR_Quadratic(DataPath,mu_all,lamb_all,arcs, grid,mis,bump,iteration_all,num_feat,data_generation_process)"
   ]
  },
  {
   "cell_type": "markdown",
   "id": "6a469742",
   "metadata": {},
   "source": [
    "##### SPO+ with quadratic"
   ]
  },
  {
   "cell_type": "code",
   "execution_count": 15,
   "id": "31355391",
   "metadata": {},
   "outputs": [
    {
     "name": "stdout",
     "output_type": "stream",
     "text": [
      "DataPath: /Users/zhangxun/Dropbox/Research/Decision_Driven_Regularization/Data_JOC_R1_Submit/Shortest_Path_Final/Quadratic_Term_deg_all_SPO_Data_Generation/3by3_grid_All/data_size=500_deg=8.0_e=0.5_p=5_num_test=1000_x_dist=uniform_e_dist=normal/\n",
      "Results already exist\n"
     ]
    }
   ],
   "source": [
    "for num_train in num_train_all:\n",
    "    method_names = [\"spo+\"]\n",
    "    for deg in deg_all:\n",
    "        mis = deg # model misspecification\n",
    "        DataPath = DataPath_Parent + f\"data_size={num_train}_deg={deg}_e={e}_p={p}_num_test={num_test}\"+\"_x_dist=\"+x_dist+\"_e_dist=\"+e_dist+\"/\"\n",
    "        print(\"DataPath:\", DataPath)\n",
    "        if os.path.exists(DataPath+\"cost_spo+_Ante_quad_all.pkl\"):\n",
    "            print(\"Results already exist\")\n",
    "        else:\n",
    "            ILA.run_EPO_approaches_Quadratic(DataPath,method_names,arcs, grid,mis,bump,iteration_all,num_feat,data_generation_process)"
   ]
  },
  {
   "cell_type": "code",
   "execution_count": 16,
   "id": "20500121",
   "metadata": {},
   "outputs": [],
   "source": [
    "# for num_train in num_train_all:\n",
    "#     method_names = [\"pg\"]\n",
    "#     for deg in deg_all:\n",
    "#         mis = deg # model misspecification\n",
    "#         DataPath = DataPath_Parent + f\"data_size={num_train}_deg={deg}_e={e}_p={p}_num_test={num_test}\"+\"_x_dist=\"+x_dist+\"_e_dist=\"+e_dist+\"/\"\n",
    "#         print(\"DataPath:\", DataPath)\n",
    "#         if os.path.exists(DataPath+\"cost_pg_Ante_quad_all.pkl\"):\n",
    "#             print(\"Results already exist\")\n",
    "#         else:\n",
    "#             ILA.run_EPO_approaches_Quadratic(DataPath,method_names,arcs, grid,mis,bump,iteration_all,num_feat,data_generation_process)"
   ]
  },
  {
   "cell_type": "code",
   "execution_count": 17,
   "id": "d7c54fc2",
   "metadata": {},
   "outputs": [],
   "source": [
    "# for num_train in num_train_all:\n",
    "#     method_names = [\"ltr\"]\n",
    "#     for deg in deg_all:\n",
    "#         mis = deg # model misspecification\n",
    "#         DataPath = DataPath_Parent + f\"data_size={num_train}_deg={deg}_e={e}_p={p}_num_test={num_test}\"+\"_x_dist=\"+x_dist+\"_e_dist=\"+e_dist+\"/\"\n",
    "#         print(\"DataPath:\", DataPath)\n",
    "#         if os.path.exists(DataPath+\"cost_ltr_Ante_quad_all.pkl\"):\n",
    "#             print(\"Results already exist\")\n",
    "#         else:\n",
    "#             ILA.run_EPO_approaches_Quadratic(DataPath,method_names,arcs, grid,mis,bump,iteration_all,num_feat,data_generation_process)"
   ]
  },
  {
   "cell_type": "markdown",
   "id": "66660d3d",
   "metadata": {},
   "source": [
    "##### OLS with quadratic"
   ]
  },
  {
   "cell_type": "code",
   "execution_count": 18,
   "id": "8caa0d56",
   "metadata": {},
   "outputs": [],
   "source": [
    "# for num_train in num_train_all:\n",
    "#     for deg in deg_all:\n",
    "#         mis = deg # model misspecification\n",
    "#         DataPath = DataPath_Parent + f\"data_size={num_train}_deg={deg}_e={e}_p={p}_num_test={num_test}\"+\"_x_dist=\"+x_dist+\"_e_dist=\"+e_dist+\"/\"\n",
    "#         print(\"DataPath:\", DataPath)\n",
    "#         if os.path.exists(DataPath+\"cost_OLS_Ante_quad_all.pkl\"):\n",
    "#             print(\"Results already exist\")\n",
    "#         else:\n",
    "#             SLA.Run_OLS_Quadratic(DataPath,arcs, grid,mis,bump,iteration_all,num_feat,data_generation_process)"
   ]
  },
  {
   "cell_type": "markdown",
   "id": "deaeb691",
   "metadata": {},
   "source": [
    "### Comparison"
   ]
  },
  {
   "cell_type": "code",
   "execution_count": 19,
   "id": "efb788f6",
   "metadata": {},
   "outputs": [],
   "source": [
    "def h2h_regret(iteration_all,cost_this_all,cost_bench_all,cost_Oracle_Ante_all):\n",
    "    h2h_ = np.zeros(len(iteration_all)); cost_rd_ = np.zeros(len(iteration_all)); regret_rd_ = np.zeros(len(iteration_all))\n",
    "    for iter_index in range(len(iteration_all)):\n",
    "        iter = iteration_all[iter_index]\n",
    "        h2h_[iter_index],cost_rd_[iter_index],regret_rd_[iter_index] = h2h_regret_eva.cross_compare2plus(cost_this_all[iter], cost_bench_all[iter], cost_Oracle_Ante_all[iter])\n",
    "    return h2h_,regret_rd_"
   ]
  },
  {
   "cell_type": "code",
   "execution_count": 20,
   "id": "6bea5c09",
   "metadata": {},
   "outputs": [],
   "source": [
    "def calculate_h2h_regret_this_vs_benchmarks(num_train_all,deg_all,this_method,benchmark_methods,is_ddr,mu,lamb,is_bench_ddr):\n",
    "    h2h_ddr_vs_ = {}; cost_rd_ddr_vs_ = {}; regret_rd_ddr_vs_ = {}\n",
    "    for num_train in num_train_all:\n",
    "        for deg in deg_all:\n",
    "            DataPath = DataPath_Parent + f\"data_size={num_train}_deg={deg}_e={e}_p={p}_num_test={num_test}\"+\"_x_dist=\"+x_dist+\"_e_dist=\"+e_dist+\"/\"\n",
    "            print(\"DataPath:\", DataPath)     \n",
    "            with open(DataPath+'cost_Oracle_Ante_all.pkl', \"rb\") as tf:\n",
    "                cost_Oracle_Ante_all = pickle.load(tf)\n",
    "            with open(DataPath+this_method, \"rb\") as tf:\n",
    "                cost_this = pickle.load(tf)\n",
    "            with open(DataPath+benchmark_methods, \"rb\") as tf:\n",
    "                cost_bench = pickle.load(tf)\n",
    "\n",
    "            if is_ddr:\n",
    "                cost_this_input = {}\n",
    "                for iter in iteration_all:\n",
    "                    cost_this_input[iter] = cost_this[iter,mu,lamb]\n",
    "            else:\n",
    "                cost_this_input = cost_this\n",
    "            if is_bench_ddr:\n",
    "                cost_bench_input = {}\n",
    "                for iter in iteration_all:\n",
    "                    cost_bench_input[iter] = cost_bench[iter,mu,lamb]\n",
    "            else:\n",
    "                cost_bench_input = cost_bench\n",
    "\n",
    "            h2h_ddr_vs_[num_train,deg],regret_rd_ddr_vs_[num_train,deg] = h2h_regret(iteration_all,cost_this_input,cost_bench_input,cost_Oracle_Ante_all)\n",
    "\n",
    "        print(\"num_train = \",num_train,\",deg = \",deg)\n",
    "    return h2h_ddr_vs_,regret_rd_ddr_vs_"
   ]
  },
  {
   "cell_type": "markdown",
   "id": "59901a2a",
   "metadata": {},
   "source": [
    "### Performance under diff $\\beta$ and without quadratic term "
   ]
  },
  {
   "cell_type": "code",
   "execution_count": 21,
   "id": "952f6e0c",
   "metadata": {},
   "outputs": [],
   "source": [
    "deg_all = [0.4,0.6,0.8,1.0,1.5,2.0,4.0,8.0]"
   ]
  },
  {
   "cell_type": "markdown",
   "id": "ba0c2243",
   "metadata": {},
   "source": [
    "##### DDR vs SPO+"
   ]
  },
  {
   "cell_type": "code",
   "execution_count": 22,
   "id": "40867af3",
   "metadata": {},
   "outputs": [
    {
     "name": "stdout",
     "output_type": "stream",
     "text": [
      "DataPath: /Users/zhangxun/Dropbox/Research/Decision_Driven_Regularization/Data_JOC_R1_Submit/Shortest_Path_Final/Quadratic_Term_deg_all_SPO_Data_Generation/3by3_grid_All/data_size=500_deg=0.4_e=0.5_p=5_num_test=1000_x_dist=uniform_e_dist=normal/\n",
      "DataPath: /Users/zhangxun/Dropbox/Research/Decision_Driven_Regularization/Data_JOC_R1_Submit/Shortest_Path_Final/Quadratic_Term_deg_all_SPO_Data_Generation/3by3_grid_All/data_size=500_deg=0.6_e=0.5_p=5_num_test=1000_x_dist=uniform_e_dist=normal/\n",
      "DataPath: /Users/zhangxun/Dropbox/Research/Decision_Driven_Regularization/Data_JOC_R1_Submit/Shortest_Path_Final/Quadratic_Term_deg_all_SPO_Data_Generation/3by3_grid_All/data_size=500_deg=0.8_e=0.5_p=5_num_test=1000_x_dist=uniform_e_dist=normal/\n",
      "DataPath: /Users/zhangxun/Dropbox/Research/Decision_Driven_Regularization/Data_JOC_R1_Submit/Shortest_Path_Final/Quadratic_Term_deg_all_SPO_Data_Generation/3by3_grid_All/data_size=500_deg=1.0_e=0.5_p=5_num_test=1000_x_dist=uniform_e_dist=normal/\n",
      "DataPath: /Users/zhangxun/Dropbox/Research/Decision_Driven_Regularization/Data_JOC_R1_Submit/Shortest_Path_Final/Quadratic_Term_deg_all_SPO_Data_Generation/3by3_grid_All/data_size=500_deg=1.5_e=0.5_p=5_num_test=1000_x_dist=uniform_e_dist=normal/\n",
      "DataPath: /Users/zhangxun/Dropbox/Research/Decision_Driven_Regularization/Data_JOC_R1_Submit/Shortest_Path_Final/Quadratic_Term_deg_all_SPO_Data_Generation/3by3_grid_All/data_size=500_deg=2.0_e=0.5_p=5_num_test=1000_x_dist=uniform_e_dist=normal/\n",
      "DataPath: /Users/zhangxun/Dropbox/Research/Decision_Driven_Regularization/Data_JOC_R1_Submit/Shortest_Path_Final/Quadratic_Term_deg_all_SPO_Data_Generation/3by3_grid_All/data_size=500_deg=4.0_e=0.5_p=5_num_test=1000_x_dist=uniform_e_dist=normal/\n",
      "DataPath: /Users/zhangxun/Dropbox/Research/Decision_Driven_Regularization/Data_JOC_R1_Submit/Shortest_Path_Final/Quadratic_Term_deg_all_SPO_Data_Generation/3by3_grid_All/data_size=500_deg=8.0_e=0.5_p=5_num_test=1000_x_dist=uniform_e_dist=normal/\n"
     ]
    }
   ],
   "source": [
    "regret_DDR_vs_SPO_d_ante_Dict = {}; h2h_DDR_vs_SPO_d_ante_Dict = {}\n",
    "for mu in mu_all:\n",
    "    for lamb in lamb_all:\n",
    "        regret_d_ante = np.zeros(len(deg_all)); h2h_d_ante = np.zeros(len(deg_all))\n",
    "        _index = 0\n",
    "        for deg in deg_all:\n",
    "            mis = deg # model misspecification\n",
    "            DataPath = DataPath_Parent + f\"data_size={num_train}_deg={deg}_e={e}_p={p}_num_test={num_test}\"+\"_x_dist=\"+x_dist+\"_e_dist=\"+e_dist+\"/\"\n",
    "            print(\"DataPath:\", DataPath)\n",
    "\n",
    "            cost_Oracle_Ante_all,cost_OLS_Ante_all,cost_DDR_Ante_all = Data_LSM.load_cost_data(DataPath)\n",
    "            with open(DataPath+'cost_spo+_Ante_all.pkl', \"rb\") as tf:\n",
    "                cost_SPO_Ante_all = pickle.load(tf)            \n",
    "            h2h_d_ante[_index], regret_d_ante[_index] = h2h_regret_eva.calculate_h2h_regret(mu,lamb,iteration_all,\\\n",
    "                                0,0,0,cost_DDR_Ante_all,cost_SPO_Ante_all,cost_Oracle_Ante_all)\n",
    "            _index = _index + 1\n",
    "        regret_DDR_vs_SPO_d_ante_Dict[mu,lamb] = regret_d_ante\n",
    "        h2h_DDR_vs_SPO_d_ante_Dict[mu,lamb] = h2h_d_ante\n",
    "with open(Result_dir+'regret_DDR_vs_SPO_d_ante_Dict.pkl', \"wb\") as tf:\n",
    "    pickle.dump(regret_DDR_vs_SPO_d_ante_Dict,tf)\n",
    "with open(Result_dir+'h2h_DDR_vs_SPO_d_ante_Dict.pkl', \"wb\") as tf:\n",
    "    pickle.dump(h2h_DDR_vs_SPO_d_ante_Dict,tf)"
   ]
  },
  {
   "cell_type": "code",
   "execution_count": 23,
   "id": "98318455",
   "metadata": {},
   "outputs": [
    {
     "data": {
      "image/png": "[encoded data removed]",
      "text/plain": [
       "<Figure size 500x500 with 1 Axes>"
      ]
     },
     "metadata": {},
     "output_type": "display_data"
    }
   ],
   "source": [
    "mu = 0.75\n",
    "lamb = 0.8\n",
    "h2h_fig = h2h_DDR_vs_SPO_d_ante_Dict[mu,lamb] * 100\n",
    "regret_fig = regret_DDR_vs_SPO_d_ante_Dict[mu,lamb] * 100\n",
    "\n",
    "ms = 6 # marker size\n",
    "fs = 12 # font size\n",
    "ls = 12 # label size\n",
    "import matplotlib.pyplot as plt\n",
    "fig, ax = plt.subplots(figsize=(5, 5))\n",
    "d_indices = [0, 1, 2, 4, 5, 6, 7]\n",
    "for i in d_indices:\n",
    "    ax.plot(h2h_fig[i], regret_fig[i], color='#003D7C', marker='o', markersize = ms,linestyle='None')\n",
    "ax.plot(h2h_fig[3], regret_fig[3],color='red', marker='o', markersize = ms,linestyle='None')\n",
    "ax.text(h2h_fig[3] - 21, regret_fig[3] - 1, 'Baseline', color='red',fontsize=fs)\n",
    "\n",
    "# ax.plot(h2h_fig[7], regret_fig[7], color='red', marker='o', markersize = ms,linestyle='None')\n",
    "ax.text(h2h_fig[0] - 25, regret_fig[0] - 2, fr'$\\beta$=0.4,0.6', color='#003D7C',fontsize=fs)\n",
    "ax.text(h2h_fig[2] - 8, regret_fig[2] - 6, fr'$\\beta$={deg_all[2]}', color='#003D7C',fontsize=fs)\n",
    "ax.text(h2h_fig[4] + 2, regret_fig[4] - 2, fr'$\\beta$={deg_all[4]}', color='#003D7C',fontsize=fs)\n",
    "ax.text(h2h_fig[5] - 16, regret_fig[5] - 2, fr'$\\beta$={deg_all[5]}', color='#003D7C',fontsize=fs)\n",
    "ax.text(h2h_fig[6] - 4, regret_fig[6] + 2, fr'$\\beta$={deg_all[6]}', color='#003D7C',fontsize=fs)\n",
    "ax.text(h2h_fig[7] + 2, regret_fig[7] - 2, fr'$\\beta$={deg_all[7]}', color='#003D7C',fontsize=fs)\n",
    "\n",
    "# ax.set_title(r'Effect of model misspecification: $\\beta$')\n",
    "ax.set_xlabel('Head-to-head (%)')\n",
    "ax.set_ylabel('Regret reduction (%)')\n",
    "# ax.grid(True)\n",
    "\n",
    "ax.axvline(50, linestyle='dashed', alpha=0.8, color='k')\n",
    "ax.axhline(0.0, linestyle='dashed', alpha=0.8, color='k')\n",
    "ax.set_xlim(0, 109)\n",
    "ax.set_ylim(-9, 105)\n",
    "ax.label_outer()\n",
    "\n",
    "# plt.tight_layout()\n",
    "fig.savefig(Result_dir + f'DDR_vs_SPO_Mis_ante_mu={mu}_lamb={lamb}_N={num_train}.pdf', format='pdf', bbox_inches=\"tight\")\n",
    "plt.show()"
   ]
  },
  {
   "cell_type": "markdown",
   "id": "02cedc88",
   "metadata": {},
   "source": [
    "##### DDR vs PG"
   ]
  },
  {
   "cell_type": "code",
   "execution_count": 24,
   "id": "ba61ccd5",
   "metadata": {},
   "outputs": [
    {
     "name": "stdout",
     "output_type": "stream",
     "text": [
      "DataPath: /Users/zhangxun/Dropbox/Research/Decision_Driven_Regularization/Data_JOC_R1_Submit/Shortest_Path_Final/Quadratic_Term_deg_all_SPO_Data_Generation/3by3_grid_All/data_size=500_deg=0.4_e=0.5_p=5_num_test=1000_x_dist=uniform_e_dist=normal/\n",
      "DataPath: /Users/zhangxun/Dropbox/Research/Decision_Driven_Regularization/Data_JOC_R1_Submit/Shortest_Path_Final/Quadratic_Term_deg_all_SPO_Data_Generation/3by3_grid_All/data_size=500_deg=0.6_e=0.5_p=5_num_test=1000_x_dist=uniform_e_dist=normal/\n",
      "DataPath: /Users/zhangxun/Dropbox/Research/Decision_Driven_Regularization/Data_JOC_R1_Submit/Shortest_Path_Final/Quadratic_Term_deg_all_SPO_Data_Generation/3by3_grid_All/data_size=500_deg=0.8_e=0.5_p=5_num_test=1000_x_dist=uniform_e_dist=normal/\n",
      "DataPath: /Users/zhangxun/Dropbox/Research/Decision_Driven_Regularization/Data_JOC_R1_Submit/Shortest_Path_Final/Quadratic_Term_deg_all_SPO_Data_Generation/3by3_grid_All/data_size=500_deg=1.0_e=0.5_p=5_num_test=1000_x_dist=uniform_e_dist=normal/\n",
      "DataPath: /Users/zhangxun/Dropbox/Research/Decision_Driven_Regularization/Data_JOC_R1_Submit/Shortest_Path_Final/Quadratic_Term_deg_all_SPO_Data_Generation/3by3_grid_All/data_size=500_deg=1.5_e=0.5_p=5_num_test=1000_x_dist=uniform_e_dist=normal/\n",
      "DataPath: /Users/zhangxun/Dropbox/Research/Decision_Driven_Regularization/Data_JOC_R1_Submit/Shortest_Path_Final/Quadratic_Term_deg_all_SPO_Data_Generation/3by3_grid_All/data_size=500_deg=2.0_e=0.5_p=5_num_test=1000_x_dist=uniform_e_dist=normal/\n",
      "DataPath: /Users/zhangxun/Dropbox/Research/Decision_Driven_Regularization/Data_JOC_R1_Submit/Shortest_Path_Final/Quadratic_Term_deg_all_SPO_Data_Generation/3by3_grid_All/data_size=500_deg=4.0_e=0.5_p=5_num_test=1000_x_dist=uniform_e_dist=normal/\n",
      "DataPath: /Users/zhangxun/Dropbox/Research/Decision_Driven_Regularization/Data_JOC_R1_Submit/Shortest_Path_Final/Quadratic_Term_deg_all_SPO_Data_Generation/3by3_grid_All/data_size=500_deg=8.0_e=0.5_p=5_num_test=1000_x_dist=uniform_e_dist=normal/\n"
     ]
    }
   ],
   "source": [
    "regret_DDR_vs_PG_d_ante_Dict = {}; h2h_DDR_vs_PG_d_ante_Dict = {}\n",
    "for mu in mu_all:\n",
    "    for lamb in lamb_all:\n",
    "        regret_d_ante = np.zeros(len(deg_all)); h2h_d_ante = np.zeros(len(deg_all))\n",
    "        _index = 0\n",
    "        for deg in deg_all:\n",
    "            mis = deg # model misspecification\n",
    "            DataPath = DataPath_Parent + f\"data_size={num_train}_deg={deg}_e={e}_p={p}_num_test={num_test}\"+\"_x_dist=\"+x_dist+\"_e_dist=\"+e_dist+\"/\"\n",
    "            print(\"DataPath:\", DataPath)\n",
    "\n",
    "            cost_Oracle_Ante_all,cost_OLS_Ante_all,cost_DDR_Ante_all = Data_LSM.load_cost_data(DataPath)\n",
    "            with open(DataPath+'cost_pg_Ante_all.pkl', \"rb\") as tf:\n",
    "                cost_PG_Ante_all = pickle.load(tf)            \n",
    "            h2h_d_ante[_index], regret_d_ante[_index] = h2h_regret_eva.calculate_h2h_regret(mu,lamb,iteration_all,\\\n",
    "                                0,0,0,cost_DDR_Ante_all,cost_PG_Ante_all,cost_Oracle_Ante_all)\n",
    "            _index = _index + 1\n",
    "        regret_DDR_vs_PG_d_ante_Dict[mu,lamb] = regret_d_ante\n",
    "        h2h_DDR_vs_PG_d_ante_Dict[mu,lamb] = h2h_d_ante\n",
    "with open(Result_dir+'regret_DDR_vs_PG_d_ante_Dict.pkl', \"wb\") as tf:\n",
    "    pickle.dump(regret_DDR_vs_PG_d_ante_Dict,tf)\n",
    "with open(Result_dir+'h2h_DDR_vs_PG_d_ante_Dict.pkl', \"wb\") as tf:\n",
    "    pickle.dump(h2h_DDR_vs_PG_d_ante_Dict,tf)"
   ]
  },
  {
   "cell_type": "code",
   "execution_count": 25,
   "id": "5d469113",
   "metadata": {},
   "outputs": [
    {
     "data": {
      "image/png": "[encoded data removed]",
      "text/plain": [
       "<Figure size 500x500 with 1 Axes>"
      ]
     },
     "metadata": {},
     "output_type": "display_data"
    }
   ],
   "source": [
    "mu = 0.75\n",
    "lamb = 0.8\n",
    "h2h_fig = h2h_DDR_vs_PG_d_ante_Dict[mu,lamb] * 100\n",
    "regret_fig = regret_DDR_vs_PG_d_ante_Dict[mu,lamb] * 100\n",
    "\n",
    "ms = 6 # marker size\n",
    "fs = 12 # font size\n",
    "ls = 12 # label size\n",
    "import matplotlib.pyplot as plt\n",
    "fig, ax = plt.subplots(figsize=(5, 5))\n",
    "d_indices = [0, 1, 2, 4, 5, 6, 7]\n",
    "for i in d_indices:\n",
    "    ax.plot(h2h_fig[i], regret_fig[i], color='#003D7C', marker='o', markersize = ms,linestyle='None')\n",
    "ax.plot(h2h_fig[3], regret_fig[3],color='red', marker='o', markersize = ms,linestyle='None')\n",
    "ax.text(h2h_fig[3] - 12, regret_fig[3] - 6, 'Baseline', color='red',fontsize=fs)\n",
    "\n",
    "# ax.text(h2h_fig[0] - 10, regret_fig[0] - 0.2, fr'$\\beta$={deg_all[0]}', color='#003D7C',fontsize=fs)\n",
    "# ax.text(h2h_fig[1] - 0.06, regret_fig[1] - 0.01, fr'$\\beta$={deg_all[1]}', color='#003D7C',fontsize=fs)\n",
    "ax.text(h2h_fig[2] - 70, regret_fig[2] - 2, fr'$\\beta$=0.4,0.6,0.8,1.5,2.0,4.0,8.0', color='#003D7C',fontsize=fs)\n",
    "# ax.set_title(r'Effect of model misspecification: $\\beta$')\n",
    "ax.set_xlabel('Head-to-head (%)')\n",
    "ax.set_ylabel('Regret reduction (%)')\n",
    "# ax.grid(True)\n",
    "\n",
    "ax.axvline(50, linestyle='dashed', alpha=0.8, color='k')\n",
    "ax.axhline(0.0, linestyle='dashed', alpha=0.8, color='k')\n",
    "ax.set_xlim(0, 109)\n",
    "ax.set_ylim(-9, 105)\n",
    "ax.label_outer()\n",
    "\n",
    "# plt.tight_layout()\n",
    "fig.savefig(Result_dir + f'DDR_vs_PG_Mis_ante_mu={mu}_lamb={lamb}_N={num_train}.pdf', format='pdf', bbox_inches=\"tight\")\n",
    "plt.show()\n"
   ]
  },
  {
   "cell_type": "code",
   "execution_count": 26,
   "id": "2f4e11b1",
   "metadata": {},
   "outputs": [
    {
     "name": "stdout",
     "output_type": "stream",
     "text": [
      "DataPath: /Users/zhangxun/Dropbox/Research/Decision_Driven_Regularization/Data_JOC_R1_Submit/Shortest_Path_Final/Quadratic_Term_deg_all_SPO_Data_Generation/3by3_grid_All/data_size=500_deg=0.4_e=0.5_p=5_num_test=1000_x_dist=uniform_e_dist=normal/\n",
      "DataPath: /Users/zhangxun/Dropbox/Research/Decision_Driven_Regularization/Data_JOC_R1_Submit/Shortest_Path_Final/Quadratic_Term_deg_all_SPO_Data_Generation/3by3_grid_All/data_size=500_deg=0.6_e=0.5_p=5_num_test=1000_x_dist=uniform_e_dist=normal/\n",
      "DataPath: /Users/zhangxun/Dropbox/Research/Decision_Driven_Regularization/Data_JOC_R1_Submit/Shortest_Path_Final/Quadratic_Term_deg_all_SPO_Data_Generation/3by3_grid_All/data_size=500_deg=0.8_e=0.5_p=5_num_test=1000_x_dist=uniform_e_dist=normal/\n",
      "DataPath: /Users/zhangxun/Dropbox/Research/Decision_Driven_Regularization/Data_JOC_R1_Submit/Shortest_Path_Final/Quadratic_Term_deg_all_SPO_Data_Generation/3by3_grid_All/data_size=500_deg=1.0_e=0.5_p=5_num_test=1000_x_dist=uniform_e_dist=normal/\n",
      "DataPath: /Users/zhangxun/Dropbox/Research/Decision_Driven_Regularization/Data_JOC_R1_Submit/Shortest_Path_Final/Quadratic_Term_deg_all_SPO_Data_Generation/3by3_grid_All/data_size=500_deg=1.5_e=0.5_p=5_num_test=1000_x_dist=uniform_e_dist=normal/\n",
      "DataPath: /Users/zhangxun/Dropbox/Research/Decision_Driven_Regularization/Data_JOC_R1_Submit/Shortest_Path_Final/Quadratic_Term_deg_all_SPO_Data_Generation/3by3_grid_All/data_size=500_deg=2.0_e=0.5_p=5_num_test=1000_x_dist=uniform_e_dist=normal/\n",
      "DataPath: /Users/zhangxun/Dropbox/Research/Decision_Driven_Regularization/Data_JOC_R1_Submit/Shortest_Path_Final/Quadratic_Term_deg_all_SPO_Data_Generation/3by3_grid_All/data_size=500_deg=4.0_e=0.5_p=5_num_test=1000_x_dist=uniform_e_dist=normal/\n",
      "DataPath: /Users/zhangxun/Dropbox/Research/Decision_Driven_Regularization/Data_JOC_R1_Submit/Shortest_Path_Final/Quadratic_Term_deg_all_SPO_Data_Generation/3by3_grid_All/data_size=500_deg=8.0_e=0.5_p=5_num_test=1000_x_dist=uniform_e_dist=normal/\n"
     ]
    }
   ],
   "source": [
    "regret_DDR_vs_LTR_d_ante_Dict = {}; h2h_DDR_vs_LTR_d_ante_Dict = {}\n",
    "for mu in mu_all:\n",
    "    for lamb in lamb_all:\n",
    "        regret_d_ante = np.zeros(len(deg_all)); h2h_d_ante = np.zeros(len(deg_all))\n",
    "        _index = 0\n",
    "        for deg in deg_all:\n",
    "            mis = deg # model misspecification\n",
    "            DataPath = DataPath_Parent + f\"data_size={num_train}_deg={deg}_e={e}_p={p}_num_test={num_test}\"+\"_x_dist=\"+x_dist+\"_e_dist=\"+e_dist+\"/\"\n",
    "            print(\"DataPath:\", DataPath)\n",
    "\n",
    "            cost_Oracle_Ante_all,cost_OLS_Ante_all,cost_DDR_Ante_all = Data_LSM.load_cost_data(DataPath)\n",
    "            with open(DataPath+'cost_ltr_Ante_all.pkl', \"rb\") as tf:\n",
    "                cost_LTR_Ante_all = pickle.load(tf)            \n",
    "            h2h_d_ante[_index], regret_d_ante[_index] = h2h_regret_eva.calculate_h2h_regret(mu,lamb,iteration_all,\\\n",
    "                                0,0,0,cost_DDR_Ante_all,cost_LTR_Ante_all,cost_Oracle_Ante_all)\n",
    "            _index = _index + 1\n",
    "        regret_DDR_vs_LTR_d_ante_Dict[mu,lamb] = regret_d_ante\n",
    "        h2h_DDR_vs_LTR_d_ante_Dict[mu,lamb] = h2h_d_ante\n",
    "with open(Result_dir+'regret_DDR_vs_LTR_d_ante_Dict.pkl', \"wb\") as tf:\n",
    "    pickle.dump(regret_DDR_vs_LTR_d_ante_Dict,tf)\n",
    "with open(Result_dir+'h2h_DDR_vs_LTR_d_ante_Dict.pkl', \"wb\") as tf:\n",
    "    pickle.dump(h2h_DDR_vs_LTR_d_ante_Dict,tf)"
   ]
  },
  {
   "cell_type": "code",
   "execution_count": 27,
   "id": "2b8c2433",
   "metadata": {},
   "outputs": [
    {
     "data": {
      "image/png": "[encoded data removed]",
      "text/plain": [
       "<Figure size 500x500 with 1 Axes>"
      ]
     },
     "metadata": {},
     "output_type": "display_data"
    }
   ],
   "source": [
    "mu = 0.75\n",
    "lamb = 0.8\n",
    "h2h_fig = h2h_DDR_vs_LTR_d_ante_Dict[mu,lamb] * 100\n",
    "regret_fig = regret_DDR_vs_LTR_d_ante_Dict[mu,lamb] * 100\n",
    "\n",
    "ms = 6 # marker size\n",
    "fs = 12 # font size\n",
    "ls = 12 # label size\n",
    "import matplotlib.pyplot as plt\n",
    "fig, ax = plt.subplots(figsize=(5, 5))\n",
    "d_indices = [0, 1, 2, 4, 5, 6, 7]\n",
    "for i in d_indices:\n",
    "    ax.plot(h2h_fig[i], regret_fig[i], color='#003D7C', marker='o', markersize = ms,linestyle='None')\n",
    "ax.plot(h2h_fig[3], regret_fig[3],color='red', marker='o', markersize = ms,linestyle='None')\n",
    "ax.text(h2h_fig[3] - 12, regret_fig[3] - 6, 'Baseline', color='red',fontsize=fs)\n",
    "\n",
    "ax.text(h2h_fig[0] - 70, regret_fig[0] - 1, fr'$\\beta$=0.4,0.6,0.8,1.5,2.0,4.0,8.0', color='#003D7C',fontsize=fs)\n",
    "\n",
    "# ax.set_title(r'Effect of model misspecification: $\\beta$')\n",
    "ax.set_xlabel('Head-to-head (%)')\n",
    "ax.set_ylabel('Regret reduction (%)')\n",
    "# ax.grid(True)\n",
    "\n",
    "ax.axvline(50, linestyle='dashed', alpha=0.8, color='k')\n",
    "ax.axhline(0.0, linestyle='dashed', alpha=0.8, color='k')\n",
    "ax.set_xlim(0, 109)\n",
    "ax.set_ylim(-9, 105)\n",
    "ax.label_outer()\n",
    "\n",
    "# plt.tight_layout()\n",
    "fig.savefig(Result_dir + f'DDR_vs_LTR_Mis_ante_mu={mu}_lamb={lamb}_N={num_train}.pdf', format='pdf', bbox_inches=\"tight\")\n",
    "plt.show()\n"
   ]
  },
  {
   "cell_type": "markdown",
   "id": "cb29f71d",
   "metadata": {},
   "source": [
    "##### Quadratic vs baseline"
   ]
  },
  {
   "cell_type": "code",
   "execution_count": 28,
   "id": "a4050fbd",
   "metadata": {},
   "outputs": [],
   "source": [
    "deg_all = [8.0]"
   ]
  },
  {
   "cell_type": "markdown",
   "id": "6d540647",
   "metadata": {},
   "source": [
    "- DDR without quadratic vs SPO+ without quadratic"
   ]
  },
  {
   "cell_type": "code",
   "execution_count": 29,
   "id": "2955f56d",
   "metadata": {},
   "outputs": [
    {
     "name": "stdout",
     "output_type": "stream",
     "text": [
      "DataPath: /Users/zhangxun/Dropbox/Research/Decision_Driven_Regularization/Data_JOC_R1_Submit/Shortest_Path_Final/Quadratic_Term_deg_all_SPO_Data_Generation/3by3_grid_All/data_size=500_deg=8.0_e=0.5_p=5_num_test=1000_x_dist=uniform_e_dist=normal/\n",
      "num_train =  500 ,deg =  8.0\n"
     ]
    },
    {
     "data": {
      "image/png": "[encoded data removed]",
      "text/plain": [
       "<Figure size 500x500 with 3 Axes>"
      ]
     },
     "metadata": {},
     "output_type": "display_data"
    }
   ],
   "source": [
    "num_train = 500\n",
    "deg = deg_all[0]\n",
    "mu = 0.75\n",
    "lamb = 0.8\n",
    "file_name = Result_dir + f'DDR_wo_vs_SPO_wo_mu={mu}_lamb={lamb}_N={num_train}_deg={deg}'\n",
    "h2h_ddr_wo_vs_spo_wo,regret_rd_ddr_wo_vs_spo_wo = calculate_h2h_regret_this_vs_benchmarks(num_train_all,deg_all,'cost_DDR_Ante_all.pkl','cost_spo+_Ante_all.pkl',True,mu,lamb,False)\n",
    "all_x = h2h_ddr_wo_vs_spo_wo[num_train,deg] * 100\n",
    "all_y = regret_rd_ddr_wo_vs_spo_wo[num_train,deg] * 100\n",
    "Figure_H2H_Regret.figure_plot_upright(all_x, all_y, file_name, size = (5, 5), move = [-0.07, 0.07, 0.35, 0.55], ysame = 0, yrange = [6,6], sublabel = '', ypio = 0)"
   ]
  },
  {
   "cell_type": "markdown",
   "id": "392c28a1",
   "metadata": {},
   "source": [
    "- DDR with quadratic vs SPO+ with quadratic "
   ]
  },
  {
   "cell_type": "code",
   "execution_count": 30,
   "id": "d3a2fd64",
   "metadata": {},
   "outputs": [
    {
     "name": "stdout",
     "output_type": "stream",
     "text": [
      "DataPath: /Users/zhangxun/Dropbox/Research/Decision_Driven_Regularization/Data_JOC_R1_Submit/Shortest_Path_Final/Quadratic_Term_deg_all_SPO_Data_Generation/3by3_grid_All/data_size=500_deg=8.0_e=0.5_p=5_num_test=1000_x_dist=uniform_e_dist=normal/\n",
      "num_train =  500 ,deg =  8.0\n"
     ]
    },
    {
     "data": {
      "image/png": "[encoded data removed]",
      "text/plain": [
       "<Figure size 500x500 with 3 Axes>"
      ]
     },
     "metadata": {},
     "output_type": "display_data"
    }
   ],
   "source": [
    "num_train = 500\n",
    "deg = deg_all[0]\n",
    "mu = 0.75\n",
    "lamb = 0.8\n",
    "file_name = Result_dir + f'DDR_wi_vs_SPO_wi_mu={mu}_lamb={lamb}_N={num_train}_deg={deg}'\n",
    "h2h_ddr_wi_vs_spo_wi,regret_rd_ddr_wi_vs_spo_wi = calculate_h2h_regret_this_vs_benchmarks(num_train_all,deg_all,'cost_DDR_Ante_quad_all.pkl',\"cost_spo+_Ante_quad_all.pkl\",True,mu,lamb,False)\n",
    "all_x = h2h_ddr_wi_vs_spo_wi[num_train,deg] * 100\n",
    "all_y = regret_rd_ddr_wi_vs_spo_wi[num_train,deg] * 100\n",
    "Figure_H2H_Regret.figure_plot_upright(all_x, all_y, file_name, size = (5, 5), move = [-0.07, 0.07, 0.35, 0.55], ysame = 0, yrange = [6,6], sublabel = '', ypio = 0)"
   ]
  },
  {
   "cell_type": "markdown",
   "id": "4f0eae9e",
   "metadata": {},
   "source": [
    "- DDR with quadratic vs SPO+ without quadratic"
   ]
  },
  {
   "cell_type": "code",
   "execution_count": 31,
   "id": "ffa8ca78",
   "metadata": {},
   "outputs": [
    {
     "name": "stdout",
     "output_type": "stream",
     "text": [
      "DataPath: /Users/zhangxun/Dropbox/Research/Decision_Driven_Regularization/Data_JOC_R1_Submit/Shortest_Path_Final/Quadratic_Term_deg_all_SPO_Data_Generation/3by3_grid_All/data_size=500_deg=8.0_e=0.5_p=5_num_test=1000_x_dist=uniform_e_dist=normal/\n",
      "num_train =  500 ,deg =  8.0\n"
     ]
    },
    {
     "data": {
      "image/png": "[encoded data removed]",
      "text/plain": [
       "<Figure size 500x500 with 3 Axes>"
      ]
     },
     "metadata": {},
     "output_type": "display_data"
    }
   ],
   "source": [
    "num_train = 500\n",
    "deg = deg_all[0]\n",
    "mu = 0.75\n",
    "lamb = 0.8\n",
    "file_name = Result_dir + f'DDR_wi_vs_SPO_wo_mu={mu}_lamb={lamb}_N={num_train}_deg={deg}'\n",
    "h2h_ddr_wi_vs_spo_wo,regret_rd_ddr_wi_vs_spo_wo = calculate_h2h_regret_this_vs_benchmarks(num_train_all,deg_all,'cost_DDR_Ante_quad_all.pkl','cost_spo+_Ante_all.pkl',True,mu,lamb,False)\n",
    "all_x = h2h_ddr_wi_vs_spo_wo[num_train,deg] * 100\n",
    "all_y = regret_rd_ddr_wi_vs_spo_wo[num_train,deg] * 100\n",
    "Figure_H2H_Regret.figure_plot_upright(all_x, all_y, file_name, size = (5, 5), move = [-0.07, 0.07, 0.35, 0.55], ysame = 0, yrange = [6,6], sublabel = '', ypio = 0)"
   ]
  },
  {
   "cell_type": "code",
   "execution_count": null,
   "id": "55bde6be",
   "metadata": {},
   "outputs": [],
   "source": []
  },
  {
   "cell_type": "code",
   "execution_count": null,
   "id": "a87af17b",
   "metadata": {},
   "outputs": [],
   "source": []
  },
  {
   "cell_type": "code",
   "execution_count": null,
   "id": "5f676b12",
   "metadata": {},
   "outputs": [],
   "source": []
  },
  {
   "cell_type": "code",
   "execution_count": null,
   "id": "476290ec",
   "metadata": {},
   "outputs": [],
   "source": []
  },
  {
   "cell_type": "code",
   "execution_count": null,
   "id": "75fdc370",
   "metadata": {},
   "outputs": [],
   "source": []
  },
  {
   "cell_type": "code",
   "execution_count": null,
   "id": "d6d03b74",
   "metadata": {},
   "outputs": [],
   "source": []
  },
  {
   "cell_type": "code",
   "execution_count": null,
   "id": "a785f869",
   "metadata": {},
   "outputs": [],
   "source": []
  },
  {
   "cell_type": "code",
   "execution_count": null,
   "id": "043a9053",
   "metadata": {},
   "outputs": [],
   "source": []
  },
  {
   "cell_type": "code",
   "execution_count": null,
   "id": "e61f327a",
   "metadata": {},
   "outputs": [],
   "source": []
  },
  {
   "cell_type": "code",
   "execution_count": null,
   "id": "b0c4e590",
   "metadata": {},
   "outputs": [],
   "source": []
  },
  {
   "cell_type": "code",
   "execution_count": null,
   "id": "77ea6d97",
   "metadata": {},
   "outputs": [],
   "source": []
  },
  {
   "cell_type": "markdown",
   "id": "cf69f22d",
   "metadata": {},
   "source": [
    "- OLS quadratic with OLS without quadratic"
   ]
  },
  {
   "cell_type": "code",
   "execution_count": 32,
   "id": "e219ebf4",
   "metadata": {},
   "outputs": [],
   "source": [
    "# num_train = 500\n",
    "# deg = deg_all[0]\n",
    "# mu = 0.75\n",
    "# lamb = 0.8\n",
    "# file_name = Result_dir + f'OLS_wi_vs_OLS_wo_mu={mu}_lamb={lamb}_N={num_train}_deg={deg}'\n",
    "# h2h_ols_wi_vs_ols_wo,regret_rd_ols_wi_vs_ols_wo = calculate_h2h_regret_this_vs_benchmarks(num_train_all,deg_all,'cost_OLS_Ante_quad_all.pkl','cost_OLS_Ante_all.pkl',False,mu,lamb,False)\n",
    "# all_x = h2h_ols_wi_vs_ols_wo[num_train,deg] * 100\n",
    "# all_y = regret_rd_ols_wi_vs_ols_wo[num_train,deg] * 100\n",
    "# Figure_H2H_Regret.figure_plot_upright(all_x, all_y, file_name, size = (5, 5), move = [-0.07, 0.07, 0.35, 0.55], ysame = 0, yrange = [6,6], sublabel = '', ypio = 0)"
   ]
  },
  {
   "cell_type": "markdown",
   "id": "025b08f3",
   "metadata": {},
   "source": [
    "- SPO+ with quadratic with SPO+ without quadratic"
   ]
  },
  {
   "cell_type": "code",
   "execution_count": 33,
   "id": "b412d3a0",
   "metadata": {},
   "outputs": [],
   "source": [
    "# num_train = 500\n",
    "# deg = deg_all[0]\n",
    "# mu = 0.75\n",
    "# lamb = 0.8\n",
    "# file_name = Result_dir + f'SPO_wi_vs_SPO_wo_mu={mu}_lamb={lamb}_N={num_train}_deg={deg}'\n",
    "# h2h_spo_wi_vs_spo_wo,regret_rd_spo_wi_vs_spo_wo = calculate_h2h_regret_this_vs_benchmarks(num_train_all,deg_all,'cost_spo+_Ante_quad_all.pkl','cost_spo+_Ante_all.pkl',False,mu,lamb,False)\n",
    "# all_x = h2h_spo_wi_vs_spo_wo[num_train,deg] * 100\n",
    "# all_y = regret_rd_spo_wi_vs_spo_wo[num_train,deg] * 100\n",
    "# Figure_H2H_Regret.figure_plot_upright(all_x, all_y, file_name, size = (5, 5), move = [-0.07, 0.07, 0.35, 0.55], ysame = 0, yrange = [6,6], sublabel = '', ypio = 0)"
   ]
  },
  {
   "cell_type": "markdown",
   "id": "b91a6301",
   "metadata": {},
   "source": [
    "- DDR with quadratic vs DDR without quadratic"
   ]
  },
  {
   "cell_type": "code",
   "execution_count": 34,
   "id": "ad7ef4b0",
   "metadata": {},
   "outputs": [],
   "source": [
    "# num_train = 500\n",
    "# deg = deg_all[0]\n",
    "# mu = 0.75\n",
    "# lamb = 0.8\n",
    "# file_name = Result_dir + f'DDR_wi_vs_DDR_wo_mu={mu}_lamb={lamb}_N={num_train}_deg={deg}'\n",
    "# h2h_ddr_wi_vs_ddr_wo,regret_rd_ddr_wi_vs_ddr_wo = calculate_h2h_regret_this_vs_benchmarks(num_train_all,deg_all,'cost_DDR_Ante_quad_all.pkl','cost_DDR_Ante_all.pkl',True,mu,lamb,True)\n",
    "# all_x = h2h_ddr_wi_vs_ddr_wo[num_train,deg] * 100\n",
    "# all_y = regret_rd_ddr_wi_vs_ddr_wo[num_train,deg] * 100\n",
    "# Figure_H2H_Regret.figure_plot_upright(all_x, all_y, file_name, size = (5, 5), move = [-0.07, 0.07, 0.35, 0.55], ysame = 0, yrange = [6,6], sublabel = '', ypio = 0)"
   ]
  },
  {
   "cell_type": "markdown",
   "id": "6c8c6d8c",
   "metadata": {},
   "source": [
    "- PG with quadratic vs PG without quadratic"
   ]
  },
  {
   "cell_type": "code",
   "execution_count": 35,
   "id": "7edcd537",
   "metadata": {},
   "outputs": [],
   "source": [
    "# num_train = 500\n",
    "# deg = deg_all[0]\n",
    "# mu = 0.75\n",
    "# lamb = 0.8\n",
    "# file_name = Result_dir + f'PG_wi_vs_PG_wo_mu={mu}_lamb={lamb}_N={num_train}_deg={deg}'\n",
    "# h2h_pg_wi_vs_pg_wo,regret_rd_pg_wi_vs_pg_wo = calculate_h2h_regret_this_vs_benchmarks(num_train_all,deg_all,'cost_pg_Ante_quad_all.pkl','cost_pg_Ante_all.pkl',False,mu,lamb,False)\n",
    "# all_x = h2h_pg_wi_vs_pg_wo[num_train,deg] * 100\n",
    "# all_y = regret_rd_pg_wi_vs_pg_wo[num_train,deg] * 100\n",
    "# Figure_H2H_Regret.figure_plot_upright(all_x, all_y, file_name, size = (5, 5), move = [-0.07, 0.07, 0.35, 0.55], ysame = 0, yrange = [6,6], sublabel = '', ypio = 0)"
   ]
  },
  {
   "cell_type": "markdown",
   "id": "e500b3a3",
   "metadata": {},
   "source": [
    "- LTR with quadratic vs LTR without quadratic"
   ]
  },
  {
   "cell_type": "code",
   "execution_count": 36,
   "id": "ee206f36",
   "metadata": {},
   "outputs": [],
   "source": [
    "# num_train = 500\n",
    "# deg = deg_all[4]\n",
    "# mu = 0.75\n",
    "# lamb = 0.8\n",
    "# file_name = Result_dir + f'LTR_wi_vs_LTR_wo_mu={mu}_lamb={lamb}_N={num_train}_deg={deg}'\n",
    "# h2h_ltr_wi_vs_ltr_wo,regret_rd_ltr_wi_vs_ltr_wo = calculate_h2h_regret_this_vs_benchmarks(num_train_all,deg_all,'cost_ltr_Ante_quad_all.pkl','cost_ltr_Ante_all.pkl',False,mu,lamb,False)\n",
    "# all_x = h2h_ltr_wi_vs_ltr_wo[num_train,deg] * 100\n",
    "# all_y = regret_rd_ltr_wi_vs_ltr_wo[num_train,deg] * 100\n",
    "# Figure_H2H_Regret.figure_plot_upright(all_x, all_y, file_name, size = (5, 5), move = [-0.07, 0.07, 0.35, 0.55], ysame = 0, yrange = [6,6], sublabel = '', ypio = 0)"
   ]
  },
  {
   "cell_type": "markdown",
   "id": "3448aad8",
   "metadata": {},
   "source": [
    "##### DDR vs PG"
   ]
  },
  {
   "cell_type": "markdown",
   "id": "22c08511",
   "metadata": {},
   "source": [
    "- DDR without quadratic vs DDR without quadratic"
   ]
  },
  {
   "cell_type": "code",
   "execution_count": 37,
   "id": "f14186b4",
   "metadata": {},
   "outputs": [],
   "source": [
    "# num_train = 500\n",
    "# deg = deg_all[0]\n",
    "# mu = 0.75\n",
    "# lamb = 0.8\n",
    "# file_name = Result_dir + f'DDR_wo_vs_PG_wo_mu={mu}_lamb={lamb}_N={num_train}_deg={deg}'\n",
    "# h2h_ddr_wo_vs_pg_wo,regret_rd_ddr_wo_vs_pg_wo = calculate_h2h_regret_this_vs_benchmarks(num_train_all,deg_all,'cost_DDR_Ante_all.pkl','cost_pg_Ante_all.pkl',True,mu,lamb,False)\n",
    "# all_x = h2h_ddr_wo_vs_pg_wo[num_train,deg] * 100\n",
    "# all_y = regret_rd_ddr_wo_vs_pg_wo[num_train,deg] * 100\n",
    "# Figure_H2H_Regret.figure_plot_upright(all_x, all_y, file_name, size = (5, 5), move = [-0.07, 0.07, 0.35, 0.55], ysame = 0, yrange = [6,6], sublabel = '', ypio = 0)"
   ]
  },
  {
   "cell_type": "markdown",
   "id": "7276d81c",
   "metadata": {},
   "source": [
    "- DDR with quadratic vs PG without quadratic"
   ]
  },
  {
   "cell_type": "code",
   "execution_count": 38,
   "id": "0a0d6441",
   "metadata": {},
   "outputs": [],
   "source": [
    "# num_train = 500\n",
    "# deg = deg_all[4]\n",
    "# mu = 0.75\n",
    "# lamb = 0.8\n",
    "# file_name = Result_dir + f'DDR_wi_vs_PG_wo_mu={mu}_lamb={lamb}_N={num_train}_deg={deg}'\n",
    "# h2h_ddr_wi_vs_pg_wo,regret_rd_ddr_wi_vs_pg_wo = calculate_h2h_regret_this_vs_benchmarks(num_train_all,deg_all,'cost_DDR_Ante_quad_all.pkl','cost_pg_Ante_all.pkl',True,mu,lamb,False)\n",
    "# all_x = h2h_ddr_wi_vs_pg_wo[num_train,deg] * 100\n",
    "# all_y = regret_rd_ddr_wi_vs_pg_wo[num_train,deg] * 100\n",
    "# Figure_H2H_Regret.figure_plot_upright(all_x, all_y, file_name, size = (5, 5), move = [-0.07, 0.07, 0.35, 0.55], ysame = 0, yrange = [6,6], sublabel = '', ypio = 0)"
   ]
  },
  {
   "cell_type": "markdown",
   "id": "f1a1ea2e",
   "metadata": {},
   "source": [
    "- DDR with quadratic vs PG with quadratic"
   ]
  },
  {
   "cell_type": "code",
   "execution_count": 39,
   "id": "bab72f09",
   "metadata": {},
   "outputs": [],
   "source": [
    "# num_train = 500\n",
    "# deg = deg_all[4]\n",
    "# mu = 0.75\n",
    "# lamb = 0.8\n",
    "# file_name = Result_dir + f'DDR_wi_vs_PG_wi_mu={mu}_lamb={lamb}_N={num_train}_deg={deg}'\n",
    "# h2h_ddr_wi_vs_pg_wi,regret_rd_ddr_wi_vs_pg_wi = calculate_h2h_regret_this_vs_benchmarks(num_train_all,deg_all,'cost_DDR_Ante_quad_all.pkl','cost_pg_Ante_quad_all.pkl',True,mu,lamb,False)\n",
    "# all_x = h2h_ddr_wi_vs_pg_wi[num_train,deg] * 100\n",
    "# all_y = regret_rd_ddr_wi_vs_pg_wi[num_train,deg] * 100\n",
    "# Figure_H2H_Regret.figure_plot_upright(all_x, all_y, file_name, size = (5, 5), move = [-0.07, 0.07, 0.35, 0.55], ysame = 0, yrange = [6,6], sublabel = '', ypio = 0)"
   ]
  },
  {
   "cell_type": "markdown",
   "id": "bea040fb",
   "metadata": {},
   "source": [
    "##### DDR vs LTR"
   ]
  },
  {
   "cell_type": "markdown",
   "id": "9620c6cf",
   "metadata": {},
   "source": [
    "- DDR without quadratic with LTR without quadratic"
   ]
  },
  {
   "cell_type": "code",
   "execution_count": 40,
   "id": "e279c070",
   "metadata": {},
   "outputs": [],
   "source": [
    "# num_train = 500\n",
    "# deg = deg_all[0]\n",
    "# mu = 0.75\n",
    "# lamb = 0.8\n",
    "# file_name = Result_dir + f'DDR_wo_vs_LTR_wo_mu={mu}_lamb={lamb}_N={num_train}_deg={deg}'\n",
    "# h2h_ddr_wo_vs_ltr_wo,regret_rd_ddr_wo_vs_ltr_wo = calculate_h2h_regret_this_vs_benchmarks(num_train_all,deg_all,'cost_DDR_Ante_all.pkl','cost_ltr_Ante_all.pkl',True,mu,lamb,False)\n",
    "# all_x = h2h_ddr_wo_vs_ltr_wo[num_train,deg] * 100\n",
    "# all_y = regret_rd_ddr_wo_vs_ltr_wo[num_train,deg] * 100\n",
    "# Figure_H2H_Regret.figure_plot_upright(all_x, all_y, file_name, size = (5, 5), move = [0.0, 0.1, 0.35, 0.55], ysame = 0, yrange = [6,6], sublabel = '', ypio = 0)"
   ]
  },
  {
   "cell_type": "markdown",
   "id": "6c39bae4",
   "metadata": {},
   "source": [
    "- DDR with quadratic vs LTR without quadratic"
   ]
  },
  {
   "cell_type": "code",
   "execution_count": 41,
   "id": "9a763dc4",
   "metadata": {},
   "outputs": [],
   "source": [
    "# num_train = 500\n",
    "# deg = deg_all[4]\n",
    "# mu = 0.75\n",
    "# lamb = 0.8\n",
    "# file_name = Result_dir + f'DDR_wi_vs_LTR_wo_mu={mu}_lamb={lamb}_N={num_train}_deg={deg}'\n",
    "# h2h_ddr_wi_vs_ltr_wo,regret_rd_ddr_wi_vs_ltr_wo = calculate_h2h_regret_this_vs_benchmarks(num_train_all,deg_all,'cost_DDR_Ante_quad_all.pkl','cost_ltr_Ante_all.pkl',True,mu,lamb,False)\n",
    "# all_x = h2h_ddr_wi_vs_ltr_wo[num_train,deg] * 100\n",
    "# all_y = regret_rd_ddr_wi_vs_ltr_wo[num_train,deg] * 100\n",
    "# Figure_H2H_Regret.figure_plot_upright(all_x, all_y, file_name, size = (5, 5), move = [-0.07, 0.07, 0.35, 0.55], ysame = 0, yrange = [6,6], sublabel = '', ypio = 0)"
   ]
  },
  {
   "cell_type": "markdown",
   "id": "21856b4b",
   "metadata": {},
   "source": [
    "- DDR with quadratic vs LTR with quadratic"
   ]
  },
  {
   "cell_type": "code",
   "execution_count": 42,
   "id": "483f7308",
   "metadata": {},
   "outputs": [],
   "source": [
    "# num_train = 500\n",
    "# deg = deg_all[4]\n",
    "# mu = 0.75\n",
    "# lamb = 0.8\n",
    "# file_name = Result_dir + f'DDR_wi_vs_LTR_wi_mu={mu}_lamb={lamb}_N={num_train}_deg={deg}'\n",
    "# h2h_ddr_wi_vs_ltr_wi,regret_rd_ddr_wi_vs_ltr_wi = calculate_h2h_regret_this_vs_benchmarks(num_train_all,deg_all,'cost_DDR_Ante_quad_all.pkl','cost_ltr_Ante_quad_all.pkl',True,mu,lamb,False)\n",
    "# all_x = h2h_ddr_wi_vs_ltr_wi[num_train,deg] * 100\n",
    "# all_y = regret_rd_ddr_wi_vs_ltr_wi[num_train,deg] * 100\n",
    "# Figure_H2H_Regret.figure_plot_upright(all_x, all_y, file_name, size = (5, 5), move = [-0.07, 0.07, 0.35, 0.55], ysame = 0, yrange = [6,6], sublabel = '', ypio = 0)"
   ]
  },
  {
   "cell_type": "markdown",
   "id": "b494fa9c",
   "metadata": {},
   "source": [
    "##### DDR vs OLS"
   ]
  },
  {
   "cell_type": "markdown",
   "id": "56d6cfcf",
   "metadata": {},
   "source": [
    "- DDR without quadratic with OLS without quadratic"
   ]
  },
  {
   "cell_type": "code",
   "execution_count": 43,
   "id": "e3bfabd1",
   "metadata": {},
   "outputs": [],
   "source": [
    "# num_train = 500\n",
    "# deg = deg_all[0]\n",
    "# mu = 0.75\n",
    "# lamb = 0.8\n",
    "# file_name = Result_dir + f'DDR_vs_OLS_mu={mu}_lamb={lamb}_N={num_train}_deg={deg}'\n",
    "# h2h_ddr_wo_vs_ols_wo,regret_rd_ddr_wo_vs_ols_wo = calculate_h2h_regret_this_vs_benchmarks(num_train_all,deg_all,'cost_DDR_Ante_all.pkl','cost_OLS_Ante_all.pkl',True,mu,lamb,False)\n",
    "# all_x = h2h_ddr_wo_vs_ols_wo[num_train,deg] * 100\n",
    "# all_y = regret_rd_ddr_wo_vs_ols_wo[num_train,deg] * 100\n",
    "# Figure_H2H_Regret.figure_plot_upright(all_x, all_y, file_name, size = (5, 5), move = [-0.07, 0.07, 0.35, 0.55], ysame = 0, yrange = [6,6], sublabel = '', ypio = 0)"
   ]
  },
  {
   "cell_type": "markdown",
   "id": "ccaac25d",
   "metadata": {},
   "source": [
    "- DDR with quadratic with OLS without quadratic"
   ]
  },
  {
   "cell_type": "code",
   "execution_count": 44,
   "id": "33e4da5b",
   "metadata": {},
   "outputs": [],
   "source": [
    "# num_train = 500\n",
    "# deg = deg_all[0]\n",
    "# mu = 0.75\n",
    "# lamb = 0.8\n",
    "# file_name = Result_dir + f'DDR_wi_vs_OLS_wo_mu={mu}_lamb={lamb}_N={num_train}_deg={deg}'\n",
    "# h2h_ddr_wi_vs_ols_wo,regret_rd_ddr_wi_vs_ols_wo = calculate_h2h_regret_this_vs_benchmarks(num_train_all,deg_all,'cost_DDR_Ante_quad_all.pkl','cost_OLS_Ante_all.pkl',True,mu,lamb,False)\n",
    "\n",
    "# all_x = h2h_ddr_wi_vs_ols_wo[num_train,deg] * 100\n",
    "# all_y = regret_rd_ddr_wi_vs_ols_wo[num_train,deg] * 100\n",
    "# Figure_H2H_Regret.figure_plot_upright(all_x, all_y, file_name, size = (5, 5), move = [-0.07, 0.07, 0.35, 0.55], ysame = 0, yrange = [6,6], sublabel = '', ypio = 0)"
   ]
  },
  {
   "cell_type": "markdown",
   "id": "8377717b",
   "metadata": {},
   "source": [
    "- DDR with quadratic vs OLS with quadratic"
   ]
  },
  {
   "cell_type": "code",
   "execution_count": 45,
   "id": "ab10306c",
   "metadata": {},
   "outputs": [],
   "source": [
    "# num_train = 500\n",
    "# deg = deg_all[0]\n",
    "# mu = 0.75\n",
    "# lamb = 0.8\n",
    "# file_name = Result_dir + f'DDR_wi_vs_OLS_wi_mu={mu}_lamb={lamb}_N={num_train}_deg={deg}'\n",
    "# h2h_ddr_wi_vs_ols_wi,regret_rd_ddr_wi_vs_ols_wi = calculate_h2h_regret_this_vs_benchmarks(num_train_all,deg_all,'cost_DDR_Ante_quad_all.pkl','cost_OLS_Ante_quad_all.pkl',True,mu,lamb,False)\n",
    "\n",
    "# all_x = h2h_ddr_wi_vs_ols_wi[num_train,deg] * 100\n",
    "# all_y = regret_rd_ddr_wi_vs_ols_wi[num_train,deg] * 100\n",
    "# Figure_H2H_Regret.figure_plot_upright(all_x, all_y, file_name, size = (5, 5), move = [-0.07, 0.07, 0.35, 0.55], ysame = 0, yrange = [6,6], sublabel = '', ypio = 0)"
   ]
  }
 ],
 "metadata": {
  "kernelspec": {
   "display_name": ".venv",
   "language": "python",
   "name": "python3"
  },
  "language_info": {
   "codemirror_mode": {
    "name": "ipython",
    "version": 3
   },
   "file_extension": ".py",
   "mimetype": "text/x-python",
   "name": "python",
   "nbconvert_exporter": "python",
   "pygments_lexer": "ipython3",
   "version": "3.9.6"
  }
 },
 "nbformat": 4,
 "nbformat_minor": 5
}
