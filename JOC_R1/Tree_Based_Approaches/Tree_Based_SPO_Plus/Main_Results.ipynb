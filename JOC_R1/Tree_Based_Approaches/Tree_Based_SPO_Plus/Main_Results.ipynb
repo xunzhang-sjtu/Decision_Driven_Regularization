{
 "cells": [
  {
   "cell_type": "code",
   "execution_count": 1,
   "id": "3a263161",
   "metadata": {},
   "outputs": [],
   "source": [
    "import pickle \n",
    "import numpy as np\n",
    "import os"
   ]
  },
  {
   "cell_type": "code",
   "execution_count": 3,
   "id": "3e7cdb98",
   "metadata": {},
   "outputs": [
    {
     "data": {
      "text/plain": [
       "array([  0, 100, 200, 300, 400, 500, 600, 700, 800, 900])"
      ]
     },
     "execution_count": 3,
     "metadata": {},
     "output_type": "execute_result"
    }
   ],
   "source": [
    "np.round(np.arange(0,1000,100),4)"
   ]
  },
  {
   "cell_type": "code",
   "execution_count": 2,
   "id": "2dae2277",
   "metadata": {},
   "outputs": [],
   "source": [
    "#problem parameters\n",
    "grid = (2,2)\n",
    "d = (grid[0] - 1) * (grid[0] - 1) * 2 + 2 * (grid[0] - 1) # num of arcs\n",
    "num_train = 100\n",
    "num_feat = 1 # size of feature\n",
    "num_test = 1000\n",
    "e = 0.5 # scale of normal std or the range of uniform. For the error term\n",
    "lower = 0 # coef lower bound\n",
    "upper = 1 # coef upper bound\n",
    "p = num_feat # num of features\n",
    "num_nodes = grid[0]*grid[0]\n",
    "alpha = e # scale of normal std or the range of uniform. For the error term\n",
    "coef_seed = 1\n",
    "x_dist = 'uniform'\n",
    "e_dist = 'normal'\n",
    "x_low = -2\n",
    "x_up = 2\n",
    "x_mean = 2\n",
    "x_var = 2\n",
    "bump = 100\n",
    "\n",
    "deg_set= [1.0]\n",
    "#evaluate algs of dataset replications from rep_st to rep_end\n",
    "reps_st = 0 #0 #can be as low as 0\n",
    "reps_end = 20 #1 #can be as high as 50\n",
    "iteration_all = np.arange(reps_st,reps_end)\n",
    "max_depth = 3\n",
    "mu_all = np.round(np.arange(0.6,1.0,0.05),4)\n",
    "lamb_all = np.round(np.arange(0.4,0.8,0.05),4)\n",
    "lamb_all = np.round(np.arange(0,1000,100),4)\n",
    "lamb_all[0] = 50"
   ]
  },
  {
   "cell_type": "code",
   "execution_count": null,
   "id": "584e1b76",
   "metadata": {},
   "outputs": [],
   "source": [
    "# data_generation_process = \"SPO_Data_Generation\"\n",
    "# current_directory = os.getcwd()\n",
    "# parent_directory = os.path.dirname(current_directory)\n",
    "# grandparent_directory = os.path.dirname(parent_directory)\n",
    "# DataPath_parent = grandparent_directory + '/Data_JOC_R1/Shortest_Path_Tree/'+str(grid[0])+'by'+str(grid[1])+'_grid_' + data_generation_process + \"_test/\"\n",
    "# print(\"DataPath_parent:\", DataPath_parent)\n",
    "# result_dir = DataPath_parent +\"result/Data_size=\"+str(num_train)+\"/\"\n",
    "# print(\"result_dir:\", result_dir)"
   ]
  },
  {
   "cell_type": "code",
   "execution_count": 3,
   "id": "e9d9057f",
   "metadata": {},
   "outputs": [
    {
     "data": {
      "text/plain": [
       "'/Users/zhangxun/Dropbox/Research/Decision_Driven_Regularization/Data_JOC_R1/Shortest_Path_Tree/3by3_grid_depth_3_0629/result/Data_size=100/deg=1.0/'"
      ]
     },
     "execution_count": 3,
     "metadata": {},
     "output_type": "execute_result"
    }
   ],
   "source": [
    "result_dir = \"/Users/zhangxun/Dropbox/Research/Decision_Driven_Regularization/Data_JOC_R1/Shortest_Path_Tree/3by3_grid_depth_3_0629/result/Data_size=100/deg=1.0/\"\n",
    "result_dir"
   ]
  },
  {
   "cell_type": "code",
   "execution_count": 4,
   "id": "e3b925f0",
   "metadata": {},
   "outputs": [],
   "source": [
    "with open(result_dir+'cost_Oracle.pkl', \"rb\") as tf:\n",
    "    cost_Oracle = pickle.load(tf)\n",
    "with open(result_dir+'cost_MSE.pkl', \"rb\") as tf:\n",
    "    cost_MSE = pickle.load(tf)\n",
    "with open(result_dir+'cost_SPO.pkl', \"rb\") as tf:\n",
    "    cost_SPO = pickle.load(tf)\n",
    "with open(result_dir+'cost_DDR.pkl', \"rb\") as tf:\n",
    "    cost_DDR = pickle.load(tf)"
   ]
  },
  {
   "cell_type": "code",
   "execution_count": 5,
   "id": "f6328af0",
   "metadata": {},
   "outputs": [],
   "source": [
    "from scipy.stats import gaussian_kde\n",
    "from matplotlib import gridspec\n",
    "import seaborn as sns\n",
    "import matplotlib.pyplot as plt\n",
    "def Upright_Figure(all_x, all_y, figure_name, size = (5, 5), move = [-0.07, 0.07, 0.35, 0.55], \n",
    "                        ymin = 0, ymax=100,xmin = 0,xmax = 100):\n",
    "    \n",
    "    data = np.asarray([all_x,all_y])\n",
    "\n",
    "    ####### Obtain KDE  \n",
    "    #KDE for top marginal\n",
    "    kde_X = gaussian_kde(data[0])\n",
    "    #KDE for right marginal\n",
    "    kde_Y = gaussian_kde(data[1])\n",
    "\n",
    "    x = np.linspace(0, 100, 100)\n",
    "    y = np.linspace(ymin, ymax, 100)\n",
    "\n",
    "    dx = kde_X(x) # X-marginal density\n",
    "    dy = kde_Y(y) # Y-marginal density\n",
    "\n",
    "    #Define grid for subplots\n",
    "    gs = gridspec.GridSpec(2, 2, width_ratios=[3, 1], height_ratios = [1, 3])\n",
    "\n",
    "    ####### Create scatter plot\n",
    "    fig = plt.figure(figsize = size)\n",
    "    ax = plt.subplot(gs[1, 0])\n",
    "    cax = ax.scatter(data[0], data[1], s = 15, color='#003D7C', marker = \"o\", edgecolors = \"#EF7C00\")\n",
    "    plt.xlabel('Head-to-head (%)')\n",
    "\n",
    "    plt.ylabel('Regret reduction (%)') #pio\n",
    "    plt.vlines(50, ymin, ymax, linestyle=\"dashed\", alpha = 0.8,color = 'k')\n",
    "    plt.hlines(0, xmin, xmax, linestyle=\"dashed\", alpha = 0.8,color = 'k')\n",
    "\n",
    "    # ####### Create Y-marginal (right)\n",
    "    axr = plt.subplot(gs[1, 1], xticks = [], yticks = [], frameon = False)\n",
    "    axr.plot(dy, y, color = 'black')\n",
    "\n",
    "    axr.fill_betweenx(y, 0, dy, where = y <= 0.01, alpha = 1, color='#EF7C00')\n",
    "    axr.fill_betweenx(y, 0, dy, where = y >= 0, alpha = 1, color='#003D7C')\n",
    "\n",
    "    leftarea = np.round( sum(n <= 0 for n in all_y)/len(all_y),2 )\n",
    "    rightarea = np.round( sum(n > 0 for n in all_y)/len(all_y),2 )\n",
    "\n",
    "    axr.annotate(leftarea, xy=(0.15, abs(ymin)/(ymax - ymin) + move[0]), xycoords='axes fraction', bbox=dict(boxstyle=\"round\", fc=\"w\"), size = 12)\n",
    "    axr.annotate(rightarea, xy=(0.15, abs(ymin)/(ymax - ymin) + move[1]), xycoords='axes fraction', bbox=dict(boxstyle=\"round\", fc=\"w\"), size = 12)\n",
    "\n",
    "    # ####### Create X-marginal (top)\n",
    "    axt = plt.subplot(gs[0,0], frameon = False, yticks = [], xticks = [])\n",
    "    #base = pyplot.gca().transData\n",
    "    #rot = transforms.Affine2D().rotate_deg(180)\n",
    "    axt.plot(x, dx, color = 'black')\n",
    "    axt.fill_between(x, 0, dx, where = x >= 49.9, alpha= 1, color = '#003D7C')\n",
    "    axt.fill_between(x, 0, dx, where = x <= 50, alpha= 1, color = '#EF7C00')\n",
    "\n",
    "    #     axt.invert_yaxis()\n",
    "    leftarea = np.round( sum(n <= 50 for n in all_x)/len(all_x),2 )\n",
    "    rightarea = np.round( sum(n > 50 for n in all_x)/len(all_x),2 )\n",
    "\n",
    "    axt.annotate(leftarea, xy=(move[2], 0.15), xycoords='axes fraction', bbox=dict(boxstyle=\"round\", fc=\"w\"), size = 12)\n",
    "    axt.annotate(rightarea, xy=(move[3], 0.15), xycoords='axes fraction', bbox=dict(boxstyle=\"round\", fc=\"w\"), size = 12)\n",
    "\n",
    "    # ####### Bring the marginals closer to the scatter plot and save eps file\n",
    "    fig.tight_layout(pad = 1)\n",
    "    # # plt.savefig(figure_name + '.eps', format='eps')\n",
    "    plt.savefig(figure_name + '.pdf', format='pdf')"
   ]
  },
  {
   "cell_type": "code",
   "execution_count": 6,
   "id": "76ca2848",
   "metadata": {},
   "outputs": [],
   "source": [
    "def cross_compare2plus(c_item, c_base, c_oracle):\n",
    "    N = len(c_item)\n",
    "    c_diff = c_base - c_item\n",
    "    lbel = np.zeros((N,1))\n",
    "    \n",
    "    equals = np.sum(c_diff == 0)\n",
    "    wins = np.sum(c_diff > 0) # indicate num of c_item is lower than c_base\n",
    "    lose = np.sum(c_diff < 0)\n",
    "    \n",
    "    lbel[c_diff < 0] = 1\n",
    "    lbel[c_diff > 0] = -1\n",
    "    \n",
    "#     print(N, equals, wins, lose)\n",
    "    if N == equals:\n",
    "        win_ratio = 0.5\n",
    "    else:\n",
    "        win_ratio = wins/(N - equals)\n",
    "    cost_reduction = (np.nanmean(c_diff))/np.abs(np.nanmean(c_base))\n",
    "    if np.nanmean(c_base) - np.nanmean(c_oracle) <= 1e-6:\n",
    "        regret_reduction = 0.0\n",
    "    else:\n",
    "        regret_reduction = (np.nanmean(c_diff))/np.abs(np.nanmean(c_base) - np.nanmean(c_oracle))\n",
    "    return win_ratio, cost_reduction, regret_reduction"
   ]
  },
  {
   "cell_type": "code",
   "execution_count": 7,
   "id": "2868cde4",
   "metadata": {},
   "outputs": [],
   "source": [
    "def calculate_Main_vs_Benchmark_h2h_regret(iteration_all,cost_Main,cost_bench,cost_Oracle_Ante_all):\n",
    "    \n",
    "    h2h_ = np.zeros(len(iteration_all)); cost_rd_ = np.zeros(len(iteration_all)); regret_rd_ = np.zeros(len(iteration_all))\n",
    "    for iter_index in range(len(iteration_all)):\n",
    "        iter = iteration_all[iter_index]\n",
    "        h2h_[iter_index],cost_rd_[iter_index],regret_rd_[iter_index] = cross_compare2plus(cost_Main[iter], cost_bench[iter], cost_Oracle_Ante_all[iter])\n",
    "\n",
    "    # return h2h_post,regret_post,h2h_ante,regret_ante\n",
    "    return h2h_,regret_rd_"
   ]
  },
  {
   "cell_type": "code",
   "execution_count": 8,
   "id": "9170fad5",
   "metadata": {},
   "outputs": [],
   "source": [
    "h2h_ddr_vs_spo = {}; regret_rd_ddr_vs_spo = {}\n",
    "h2h_ddr_vs_mse = {}; regret_rd_ddr_vs_mse = {}\n",
    "for deg in deg_set:\n",
    "    for mu in mu_all:\n",
    "        for lamb in lamb_all:\n",
    "            cost_DDR_mu_lamb = {}\n",
    "            cost_SPO_deg = {}\n",
    "            cost_Oracle_deg = {}\n",
    "            cost_MSE_deg = {}\n",
    "            for iter in iteration_all:\n",
    "                cost_DDR_mu_lamb[iter] = np.asarray(cost_DDR[mu,lamb,deg,iter])\n",
    "                cost_SPO_deg[iter] = np.asarray(cost_SPO[deg,iter])\n",
    "                cost_Oracle_deg[iter] = np.asarray(cost_Oracle[deg,iter])\n",
    "                cost_MSE_deg[iter] = np.asarray(cost_MSE[deg,iter])\n",
    "            h2h_ddr_vs_spo[deg,mu,lamb],regret_rd_ddr_vs_spo[deg,mu,lamb] = calculate_Main_vs_Benchmark_h2h_regret(iteration_all,cost_DDR_mu_lamb,cost_SPO_deg,cost_Oracle_deg)\n",
    "            h2h_ddr_vs_mse[deg,mu,lamb],regret_rd_ddr_vs_mse[deg,mu,lamb] = calculate_Main_vs_Benchmark_h2h_regret(iteration_all,cost_DDR_mu_lamb,cost_MSE_deg,cost_Oracle_deg)"
   ]
  },
  {
   "cell_type": "code",
   "execution_count": 9,
   "id": "efb57587",
   "metadata": {},
   "outputs": [
    {
     "data": {
      "text/plain": [
       "array([0.6 , 0.65, 0.7 , 0.75, 0.8 , 0.85, 0.9 , 0.95])"
      ]
     },
     "execution_count": 9,
     "metadata": {},
     "output_type": "execute_result"
    }
   ],
   "source": [
    "mu_all"
   ]
  },
  {
   "cell_type": "code",
   "execution_count": 10,
   "id": "618d77f3",
   "metadata": {},
   "outputs": [
    {
     "data": {
      "text/plain": [
       "array([ 50, 100, 200, 300, 400, 500, 600, 700, 800, 900])"
      ]
     },
     "execution_count": 10,
     "metadata": {},
     "output_type": "execute_result"
    }
   ],
   "source": [
    "lamb_all"
   ]
  },
  {
   "cell_type": "markdown",
   "id": "4a096dfb",
   "metadata": {},
   "source": [
    "##### DDR vs SPO"
   ]
  },
  {
   "cell_type": "code",
   "execution_count": 34,
   "id": "4732bca0",
   "metadata": {},
   "outputs": [
    {
     "data": {
      "image/png": "[encoded data removed]",
      "text/plain": [
       "<Figure size 500x500 with 3 Axes>"
      ]
     },
     "metadata": {},
     "output_type": "display_data"
    }
   ],
   "source": [
    "deg = deg_set[0]\n",
    "mu = mu_all[0]\n",
    "lamb = lamb_all[7]\n",
    "figure_name = result_dir + f\"ddr_vs_spo_mu={mu}_lamb={lamb}_deg={deg}\"\n",
    "Upright_Figure(h2h_ddr_vs_spo[deg,mu,lamb]*100, regret_rd_ddr_vs_spo[deg,mu,lamb]*100, figure_name, size = (5, 5), move = [-0.07, 0.07, 0.35, 0.55], \n",
    "                        ymin = 0, ymax=100,xmin = 0,xmax = 100)"
   ]
  },
  {
   "cell_type": "code",
   "execution_count": null,
   "id": "ac1ef009",
   "metadata": {},
   "outputs": [],
   "source": [
    "regret_rd_ddr_vs_spo_tem = regret_rd_ddr_vs_spo[deg,mu,lamb]\n",
    "true_indices = [(regret_rd_ddr_vs_spo_tem[iter] > -2) and (regret_rd_ddr_vs_spo_tem[iter] < 2) for iter in iteration_all]"
   ]
  },
  {
   "cell_type": "code",
   "execution_count": null,
   "id": "6a2a7498",
   "metadata": {},
   "outputs": [],
   "source": [
    "regret_rd_ddr_vs_spo_tem[true_indices] * 100"
   ]
  },
  {
   "cell_type": "code",
   "execution_count": null,
   "id": "c9f16c04",
   "metadata": {},
   "outputs": [],
   "source": [
    "deg = deg_set[0]\n",
    "mu = mu_all[4]\n",
    "lamb = lamb_all[0]\n",
    "figure_name = result_dir + f\"ddr_vs_spo_mu={mu}_lamb={lamb}_deg={deg}\"\n",
    "Upright_Figure(h2h_ddr_vs_spo[deg,mu,lamb][true_indices]*100, regret_rd_ddr_vs_spo[deg,mu,lamb][true_indices]*100, figure_name, size = (5, 5), move = [0.35, 0.55, 0.35, 0.55], \n",
    "                        ymin = 0, ymax=100,xmin = 0,xmax = 100)"
   ]
  },
  {
   "cell_type": "markdown",
   "id": "d8ab5293",
   "metadata": {},
   "source": [
    "##### DDR vs MSE"
   ]
  },
  {
   "cell_type": "code",
   "execution_count": 33,
   "id": "f1d0680e",
   "metadata": {},
   "outputs": [
    {
     "data": {
      "image/png": "[encoded data removed]",
      "text/plain": [
       "<Figure size 500x500 with 3 Axes>"
      ]
     },
     "metadata": {},
     "output_type": "display_data"
    }
   ],
   "source": [
    "deg = deg_set[0]\n",
    "mu = mu_all[0]\n",
    "lamb = lamb_all[2]\n",
    "figure_name = result_dir + f\"ddr_vs_mse_mu={mu}_lamb={lamb}_deg={deg}\"\n",
    "Upright_Figure(h2h_ddr_vs_mse[deg,mu,lamb]*100, regret_rd_ddr_vs_mse[deg,mu,lamb]*100, figure_name, size = (5, 5), move = [-0.07, 0.07, 0.35, 0.55], \n",
    "                        ymin = 0, ymax=100,xmin = 0,xmax = 100)"
   ]
  }
 ],
 "metadata": {
  "kernelspec": {
   "display_name": ".venv",
   "language": "python",
   "name": "python3"
  },
  "language_info": {
   "codemirror_mode": {
    "name": "ipython",
    "version": 3
   },
   "file_extension": ".py",
   "mimetype": "text/x-python",
   "name": "python",
   "nbconvert_exporter": "python",
   "pygments_lexer": "ipython3",
   "version": "3.9.6"
  }
 },
 "nbformat": 4,
 "nbformat_minor": 5
}
