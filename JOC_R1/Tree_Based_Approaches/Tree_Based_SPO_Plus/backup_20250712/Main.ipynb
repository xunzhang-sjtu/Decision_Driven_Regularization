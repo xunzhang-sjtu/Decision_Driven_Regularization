{
 "cells": [
  {
   "cell_type": "code",
   "execution_count": 1,
   "id": "be657b15",
   "metadata": {},
   "outputs": [
    {
     "name": "stdout",
     "output_type": "stream",
     "text": [
      "Set parameter Username\n",
      "Academic license - for non-commercial use only - expires 2026-03-13\n"
     ]
    }
   ],
   "source": [
    "import numpy as np\n",
    "from SPO_tree_greedy import SPOTree\n",
    "from decision_problem_solver import*\n",
    "import matplotlib as mpl\n",
    "#mpl.use('Agg')\n",
    "import matplotlib.pyplot as plt"
   ]
  },
  {
   "cell_type": "code",
   "execution_count": 3,
   "id": "428bf99e",
   "metadata": {},
   "outputs": [],
   "source": [
    "dim = 3 #(creates dim * dim grid, where dim = number of vertices)\n",
    "Edge_list = [(i,i+1) for i in range(1, dim**2 + 1) if i % dim != 0]\n",
    "Edge_list += [(i, i + dim) for i in range(1, dim**2 + 1) if i <= dim**2 - dim]\n",
    "Edge_dict = {} #(assigns each edge to a unique integer from 0 to number-of-edges)\n",
    "for index, edge in enumerate(Edge_list):\n",
    "    Edge_dict[edge] = index\n",
    "D = len(Edge_list) # D = number of decisions"
   ]
  },
  {
   "cell_type": "code",
   "execution_count": 6,
   "id": "6e7be508",
   "metadata": {},
   "outputs": [
    {
     "data": {
      "text/plain": [
       "[(1, 2),\n",
       " (2, 3),\n",
       " (4, 5),\n",
       " (5, 6),\n",
       " (7, 8),\n",
       " (8, 9),\n",
       " (1, 4),\n",
       " (2, 5),\n",
       " (3, 6),\n",
       " (4, 7),\n",
       " (5, 8),\n",
       " (6, 9)]"
      ]
     },
     "execution_count": 6,
     "metadata": {},
     "output_type": "execute_result"
    }
   ],
   "source": [
    "Edge_list"
   ]
  },
  {
   "cell_type": "code",
   "execution_count": 5,
   "id": "90a55039",
   "metadata": {},
   "outputs": [
    {
     "data": {
      "text/plain": [
       "12"
      ]
     },
     "execution_count": 5,
     "metadata": {},
     "output_type": "execute_result"
    }
   ],
   "source": [
    "len(Edge_list)"
   ]
  },
  {
   "cell_type": "code",
   "execution_count": 4,
   "id": "ad7fb154",
   "metadata": {},
   "outputs": [],
   "source": [
    "def _getArcs(grid):\n",
    "    arcs = []\n",
    "    for i in range(grid[0]):\n",
    "        # edges on rows\n",
    "        for j in range(grid[1] - 1):\n",
    "            v = i * grid[1] + j\n",
    "            arcs.append((v, v + 1))\n",
    "        # edges in columns\n",
    "        if i == grid[0] - 1:\n",
    "            continue\n",
    "        for j in range(grid[1]):\n",
    "            v = i * grid[1] + j\n",
    "            arcs.append((v, v + grid[1]))\n",
    "    return arcs"
   ]
  },
  {
   "cell_type": "code",
   "execution_count": 5,
   "id": "fcec73bd",
   "metadata": {},
   "outputs": [],
   "source": [
    "arcs = _getArcs((2,2))"
   ]
  },
  {
   "cell_type": "code",
   "execution_count": 6,
   "id": "844e8cae",
   "metadata": {},
   "outputs": [
    {
     "data": {
      "text/plain": [
       "[(0, 1), (0, 2), (1, 3), (2, 3)]"
      ]
     },
     "execution_count": 6,
     "metadata": {},
     "output_type": "execute_result"
    }
   ],
   "source": [
    "arcs"
   ]
  },
  {
   "cell_type": "code",
   "execution_count": 2,
   "id": "6b6858f3",
   "metadata": {},
   "outputs": [],
   "source": [
    "# plt.rcParams.update({'font.size': 12})\n",
    "# figsize = (5.2, 4.3)\n",
    "\n",
    "# dpi=450\n",
    "np.random.seed(0)\n",
    "#SIMULATED DATASET FUNCTIONS\n",
    "def get_costs(X):\n",
    "  X = X.reshape(-1)\n",
    "  mat = np.zeros((len(X),4))\n",
    "  for i in range(len(X)):\n",
    "    mat[i,0] = (X[i] + 0.8)*5-2.1\n",
    "    mat[i,1] = (5*X[i]+0.4)**2\n",
    "  return(mat)\n",
    "  \n",
    "def gen_dataset(n):\n",
    "  x = np.random.rand(n,1) #generate random features in [0,1]\n",
    "  costs = get_costs(x)\n",
    "  return(x,costs)\n",
    "\n",
    "def get_step_func_rep(x, costs):\n",
    "  change_inds = np.where(costs[1:]-costs[:-1] > 0)[0]\n",
    "  x_change_points = (x[change_inds.tolist()]+x[(change_inds+1).tolist()])/2.0\n",
    "  x_min = np.append(np.array(x[0]),x_change_points)\n",
    "  x_max = np.append(x_change_points,np.array(x[-1]))\n",
    "  change_inds = change_inds.tolist()\n",
    "  change_inds.append(len(x)-1)\n",
    "  y = costs[change_inds]\n",
    "  return(y, x_min, x_max)\n",
    "\n",
    "def get_decision_boundary(x, costs):\n",
    "  tmp = costs[:,1] > costs[:,0]\n",
    "  if not any(tmp) == True:\n",
    "    return None\n",
    "  return(min(x[tmp]))"
   ]
  },
  {
   "cell_type": "code",
   "execution_count": 3,
   "id": "efb7ed4e",
   "metadata": {},
   "outputs": [],
   "source": [
    "#SIMULATED DATA PARAMETERS \n",
    "n_train = 10000;\n",
    "n_valid = 2000;\n",
    "n_test = 5000;\n",
    "\n",
    "#GENERATE TRAINING DATA\n",
    "train_x, train_cost = gen_dataset(n_train)\n",
    "#GENERATE VALIDATION SET DATA\n",
    "valid_x, valid_cost = gen_dataset(n_valid)\n",
    "#GENERATE TESTING DATA\n",
    "test_x, test_cost = gen_dataset(n_test)"
   ]
  },
  {
   "cell_type": "code",
   "execution_count": 7,
   "id": "911082d4",
   "metadata": {},
   "outputs": [],
   "source": [
    "my_tree = SPOTree(max_depth = 1, min_weights_per_node = 20, quant_discret = 0.01, debias_splits=False, SPO_weight_param=1.0, SPO_full_error=True)"
   ]
  },
  {
   "cell_type": "code",
   "execution_count": null,
   "id": "e3a995b0",
   "metadata": {},
   "outputs": [
    {
     "data": {
      "text/plain": [
       "<SPO_tree_greedy.SPOTree at 0x10333f340>"
      ]
     },
     "execution_count": 8,
     "metadata": {},
     "output_type": "execute_result"
    }
   ],
   "source": [
    "my_tree.fit(train_x,train_cost,verbose=False,feats_continuous=True); #verbose specifies whether fitting procedure should print progress"
   ]
  }
 ],
 "metadata": {
  "kernelspec": {
   "display_name": ".venv",
   "language": "python",
   "name": "python3"
  },
  "language_info": {
   "codemirror_mode": {
    "name": "ipython",
    "version": 3
   },
   "file_extension": ".py",
   "mimetype": "text/x-python",
   "name": "python",
   "nbconvert_exporter": "python",
   "pygments_lexer": "ipython3",
   "version": "3.9.6"
  }
 },
 "nbformat": 4,
 "nbformat_minor": 5
}
