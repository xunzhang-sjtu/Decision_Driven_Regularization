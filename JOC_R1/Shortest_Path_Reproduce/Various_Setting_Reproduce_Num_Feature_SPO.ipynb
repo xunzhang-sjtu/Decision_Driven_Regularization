{
 "cells": [
  {
   "cell_type": "code",
   "execution_count": 1,
   "id": "e5423203",
   "metadata": {},
   "outputs": [],
   "source": [
    "import random\n",
    "import numpy as np\n",
    "import torch\n",
    "import os\n",
    "import pathlib\n",
    "import pickle\n",
    "import pandas as pd\n",
    "torch.manual_seed(42)\n",
    "torch.cuda.manual_seed(42)\n",
    "from Performance import performance_evaluation\n",
    "perfs = performance_evaluation()\n",
    "\n",
    "from Performance import H2h_Regret_Evaluation\n",
    "h2h_regret_eva = H2h_Regret_Evaluation()\n",
    "\n",
    "from Data import Data_Simulator\n",
    "DS_Obj = Data_Simulator()\n",
    "\n",
    "from Oracle import Oracle_Processing\n",
    "Oracle_Proc = Oracle_Processing()\n",
    "\n",
    "from OLS import OLS_Processing\n",
    "OLS_Proc = OLS_Processing()\n",
    "\n",
    "from DDR import DDR_Processing\n",
    "DDR_Proc = DDR_Processing()\n",
    "\n",
    "from PYEPO import EPO_Processing\n",
    "PYEPO_Proc = EPO_Processing()\n",
    "\n",
    "from Data_Load_Store import Load_Store_Methods\n",
    "Data_LSM = Load_Store_Methods()"
   ]
  },
  {
   "cell_type": "code",
   "execution_count": 2,
   "id": "914343e2",
   "metadata": {},
   "outputs": [],
   "source": [
    "import Various_Setting_Params as VSP\n",
    "import Sequential_Learning_Approaches as SLA\n",
    "import Integrated_Learning_Approaches as ILA"
   ]
  },
  {
   "cell_type": "markdown",
   "id": "886e7311",
   "metadata": {},
   "source": [
    "### Parameters"
   ]
  },
  {
   "cell_type": "code",
   "execution_count": 3,
   "id": "e9eca23d",
   "metadata": {},
   "outputs": [],
   "source": [
    "grid = (3,3)"
   ]
  },
  {
   "cell_type": "code",
   "execution_count": 4,
   "id": "554bf254",
   "metadata": {},
   "outputs": [
    {
     "name": "stdout",
     "output_type": "stream",
     "text": [
      "DataPath_parent: /Users/zhangxun/Dropbox/Research/Decision_Driven_Regularization/Data_JOC_R1/Shortest_Path/Various_Settings_Rep_SPO_Data_Generation/3by3_grid/\n"
     ]
    }
   ],
   "source": [
    "data_generation_process = \"SPO_Data_Generation\"\n",
    "# data_generation_process = \"DDR_Data_Generation\"\n",
    "current_directory = os.getcwd()\n",
    "parent_directory = os.path.dirname(current_directory)\n",
    "project_directory = os.path.dirname(os.path.dirname(os.path.dirname(parent_directory)))\n",
    "DataPath_Parent = project_directory + '/Data_JOC_R1/Shortest_Path/Various_Settings_Rep_' + data_generation_process + f'/{grid[0]}by{grid[1]}_grid/'\n",
    "pathlib.Path(DataPath_Parent).mkdir(parents=True, exist_ok=True)\n",
    "print(\"DataPath_parent:\", DataPath_Parent)\n",
    "Result_dir = DataPath_Parent + \"Result/\"\n",
    "pathlib.Path(Result_dir).mkdir(parents=True, exist_ok=True)"
   ]
  },
  {
   "cell_type": "markdown",
   "id": "a25df629",
   "metadata": {},
   "source": [
    "#### Impact of sample size"
   ]
  },
  {
   "cell_type": "code",
   "execution_count": 5,
   "id": "d2781f36",
   "metadata": {},
   "outputs": [],
   "source": [
    "grid,num_test,lower,upper,coef_seed,x_dist,e_dist,x_low,x_up,x_mean,x_var,bump,iteration_all,batch_size,num_epochs,mu_all,lamb_all = VSP.get_Params(DataPath_Parent)\n",
    "from Network import network_design\n",
    "Network = network_design()\n",
    "arcs,arc_index_mapping = Network._getArcs(grid)\n",
    "d = (grid[0] - 1) * (grid[0] - 1) * 2 + 2 * (grid[0] - 1) # num of arcs\n",
    "num_nodes = grid[0]*grid[0]"
   ]
  },
  {
   "cell_type": "code",
   "execution_count": 6,
   "id": "964552d0",
   "metadata": {},
   "outputs": [],
   "source": [
    "VSP.set_Params_Feature(DataPath_Parent)\n",
    "num_feat_all,deg,mis,e,alpha,num_train = VSP.get_Params_Feature(DataPath_Parent)"
   ]
  },
  {
   "cell_type": "markdown",
   "id": "6a0006fa",
   "metadata": {},
   "source": [
    "#### Data Generation"
   ]
  },
  {
   "cell_type": "code",
   "execution_count": 7,
   "id": "318667b4",
   "metadata": {},
   "outputs": [
    {
     "name": "stdout",
     "output_type": "stream",
     "text": [
      "DataPath: /Users/zhangxun/Dropbox/Research/Decision_Driven_Regularization/Data_JOC_R1/Shortest_Path/Various_Settings_Rep_SPO_Data_Generation/3by3_grid/data_size=100_deg=1.0_e=0.5_p=1_num_test=1000_x_dist=uniform_e_dist=normal/\n",
      "DataPath: /Users/zhangxun/Dropbox/Research/Decision_Driven_Regularization/Data_JOC_R1/Shortest_Path/Various_Settings_Rep_SPO_Data_Generation/3by3_grid/data_size=100_deg=1.0_e=0.5_p=3_num_test=1000_x_dist=uniform_e_dist=normal/\n",
      "DataPath: /Users/zhangxun/Dropbox/Research/Decision_Driven_Regularization/Data_JOC_R1/Shortest_Path/Various_Settings_Rep_SPO_Data_Generation/3by3_grid/data_size=100_deg=1.0_e=0.5_p=5_num_test=1000_x_dist=uniform_e_dist=normal/\n",
      "Already Exist\n",
      "DataPath: /Users/zhangxun/Dropbox/Research/Decision_Driven_Regularization/Data_JOC_R1/Shortest_Path/Various_Settings_Rep_SPO_Data_Generation/3by3_grid/data_size=100_deg=1.0_e=0.5_p=7_num_test=1000_x_dist=uniform_e_dist=normal/\n",
      "DataPath: /Users/zhangxun/Dropbox/Research/Decision_Driven_Regularization/Data_JOC_R1/Shortest_Path/Various_Settings_Rep_SPO_Data_Generation/3by3_grid/data_size=100_deg=1.0_e=0.5_p=10_num_test=1000_x_dist=uniform_e_dist=normal/\n",
      "DataPath: /Users/zhangxun/Dropbox/Research/Decision_Driven_Regularization/Data_JOC_R1/Shortest_Path/Various_Settings_Rep_SPO_Data_Generation/3by3_grid/data_size=100_deg=1.0_e=0.5_p=15_num_test=1000_x_dist=uniform_e_dist=normal/\n"
     ]
    }
   ],
   "source": [
    "for num_feat in num_feat_all:\n",
    "    p = num_feat\n",
    "    DataPath = DataPath_Parent + f\"data_size={num_train}_deg={deg}_e={e}_p={p}_num_test={num_test}\"+\"_x_dist=\"+x_dist+\"_e_dist=\"+e_dist+\"/\"\n",
    "    pathlib.Path(DataPath).mkdir(parents=True, exist_ok=True)\n",
    "    print(\"DataPath:\", DataPath)\n",
    "    if os.path.exists(DataPath+\"x_test_all.pkl\"):\n",
    "        print(\"Already Exist\")\n",
    "    else:\n",
    "        x_test_all, c_test_all, x_train_all, c_train_all,noise_train_all,noise_test_all,W_star_all = \\\n",
    "        DS_Obj.Simulator(DataPath,lower, upper, p, d, coef_seed,iteration_all,num_test, num_train, alpha,mis,data_generation_process,x_dist, e_dist, x_low, x_up, x_mean, x_var, bump)\n",
    "        Data_LSM.store_input_data(DataPath,x_test_all,c_test_all,x_train_all,c_train_all,noise_test_all,noise_train_all,W_star_all)"
   ]
  },
  {
   "cell_type": "markdown",
   "id": "1aa08795",
   "metadata": {},
   "source": [
    "#### Run Oracle"
   ]
  },
  {
   "cell_type": "code",
   "execution_count": 8,
   "id": "99b3b7bc",
   "metadata": {},
   "outputs": [
    {
     "name": "stdout",
     "output_type": "stream",
     "text": [
      "DataPath: /Users/zhangxun/Dropbox/Research/Decision_Driven_Regularization/Data_JOC_R1/Shortest_Path/Various_Settings_Rep_SPO_Data_Generation/3by3_grid/data_size=100_deg=1.0_e=0.5_p=1_num_test=1000_x_dist=uniform_e_dist=normal/\n",
      "Set parameter Username\n",
      "Academic license - for non-commercial use only - expires 2026-03-13\n",
      "Oracle: iter= 20 ,cost_Oracle_Ante= 15.257637842298115\n",
      "Oracle: iter= 40 ,cost_Oracle_Ante= 14.725700366736161\n",
      "Oracle: iter= 60 ,cost_Oracle_Ante= 15.22940579974066\n",
      "Oracle: iter= 80 ,cost_Oracle_Ante= 15.239774025144223\n",
      "DataPath: /Users/zhangxun/Dropbox/Research/Decision_Driven_Regularization/Data_JOC_R1/Shortest_Path/Various_Settings_Rep_SPO_Data_Generation/3by3_grid/data_size=100_deg=1.0_e=0.5_p=3_num_test=1000_x_dist=uniform_e_dist=normal/\n",
      "Oracle: iter= 20 ,cost_Oracle_Ante= 14.763298518740296\n",
      "Oracle: iter= 40 ,cost_Oracle_Ante= 15.251973661905303\n",
      "Oracle: iter= 60 ,cost_Oracle_Ante= 14.962949485864856\n",
      "Oracle: iter= 80 ,cost_Oracle_Ante= 15.039172916771127\n",
      "DataPath: /Users/zhangxun/Dropbox/Research/Decision_Driven_Regularization/Data_JOC_R1/Shortest_Path/Various_Settings_Rep_SPO_Data_Generation/3by3_grid/data_size=100_deg=1.0_e=0.5_p=5_num_test=1000_x_dist=uniform_e_dist=normal/\n",
      "Results already exist\n",
      "DataPath: /Users/zhangxun/Dropbox/Research/Decision_Driven_Regularization/Data_JOC_R1/Shortest_Path/Various_Settings_Rep_SPO_Data_Generation/3by3_grid/data_size=100_deg=1.0_e=0.5_p=7_num_test=1000_x_dist=uniform_e_dist=normal/\n",
      "Oracle: iter= 20 ,cost_Oracle_Ante= 15.084716678868107\n",
      "Oracle: iter= 40 ,cost_Oracle_Ante= 14.976641377032793\n",
      "Oracle: iter= 60 ,cost_Oracle_Ante= 14.833519418128798\n",
      "Oracle: iter= 80 ,cost_Oracle_Ante= 14.975452084727255\n",
      "DataPath: /Users/zhangxun/Dropbox/Research/Decision_Driven_Regularization/Data_JOC_R1/Shortest_Path/Various_Settings_Rep_SPO_Data_Generation/3by3_grid/data_size=100_deg=1.0_e=0.5_p=10_num_test=1000_x_dist=uniform_e_dist=normal/\n",
      "Oracle: iter= 20 ,cost_Oracle_Ante= 14.92677414219114\n",
      "Oracle: iter= 40 ,cost_Oracle_Ante= 14.999984326689162\n",
      "Oracle: iter= 60 ,cost_Oracle_Ante= 14.855616715025409\n",
      "Oracle: iter= 80 ,cost_Oracle_Ante= 14.845064008444325\n",
      "DataPath: /Users/zhangxun/Dropbox/Research/Decision_Driven_Regularization/Data_JOC_R1/Shortest_Path/Various_Settings_Rep_SPO_Data_Generation/3by3_grid/data_size=100_deg=1.0_e=0.5_p=15_num_test=1000_x_dist=uniform_e_dist=normal/\n",
      "Oracle: iter= 20 ,cost_Oracle_Ante= 14.965186501205027\n",
      "Oracle: iter= 40 ,cost_Oracle_Ante= 14.958815958080116\n",
      "Oracle: iter= 60 ,cost_Oracle_Ante= 14.997312429966906\n",
      "Oracle: iter= 80 ,cost_Oracle_Ante= 14.79941130680966\n"
     ]
    }
   ],
   "source": [
    "for num_feat in num_feat_all:\n",
    "    p = num_feat\n",
    "    DataPath = DataPath_Parent + f\"data_size={num_train}_deg={deg}_e={e}_p={p}_num_test={num_test}\"+\"_x_dist=\"+x_dist+\"_e_dist=\"+e_dist+\"/\"\n",
    "    print(\"DataPath:\", DataPath)\n",
    "    if os.path.exists(DataPath+\"cost_Oracle_Ante_all.pkl\"):\n",
    "        print(\"Results already exist\")\n",
    "    else:\n",
    "        SLA.Run_Oracle(DataPath,arcs, grid,mis,bump,iteration_all,num_feat,data_generation_process)"
   ]
  },
  {
   "cell_type": "markdown",
   "id": "9bc48412",
   "metadata": {},
   "source": [
    "#### Run OLS"
   ]
  },
  {
   "cell_type": "code",
   "execution_count": 9,
   "id": "dcafc47f",
   "metadata": {},
   "outputs": [
    {
     "name": "stdout",
     "output_type": "stream",
     "text": [
      "DataPath: /Users/zhangxun/Dropbox/Research/Decision_Driven_Regularization/Data_JOC_R1/Shortest_Path/Various_Settings_Rep_SPO_Data_Generation/3by3_grid/data_size=100_deg=1.0_e=0.5_p=1_num_test=1000_x_dist=uniform_e_dist=normal/\n",
      "OLS: iter= 20 ,cost_OLS_Ante= 15.302365123597683\n",
      "OLS: iter= 40 ,cost_OLS_Ante= 14.736042798945851\n",
      "OLS: iter= 60 ,cost_OLS_Ante= 15.42639212291927\n",
      "OLS: iter= 80 ,cost_OLS_Ante= 15.292864513530068\n",
      "DataPath: /Users/zhangxun/Dropbox/Research/Decision_Driven_Regularization/Data_JOC_R1/Shortest_Path/Various_Settings_Rep_SPO_Data_Generation/3by3_grid/data_size=100_deg=1.0_e=0.5_p=3_num_test=1000_x_dist=uniform_e_dist=normal/\n",
      "OLS: iter= 20 ,cost_OLS_Ante= 14.793918311369369\n",
      "OLS: iter= 40 ,cost_OLS_Ante= 15.28855943694076\n",
      "OLS: iter= 60 ,cost_OLS_Ante= 15.035586111987424\n",
      "OLS: iter= 80 ,cost_OLS_Ante= 15.205254634372617\n",
      "DataPath: /Users/zhangxun/Dropbox/Research/Decision_Driven_Regularization/Data_JOC_R1/Shortest_Path/Various_Settings_Rep_SPO_Data_Generation/3by3_grid/data_size=100_deg=1.0_e=0.5_p=5_num_test=1000_x_dist=uniform_e_dist=normal/\n",
      "Results already exist\n",
      "DataPath: /Users/zhangxun/Dropbox/Research/Decision_Driven_Regularization/Data_JOC_R1/Shortest_Path/Various_Settings_Rep_SPO_Data_Generation/3by3_grid/data_size=100_deg=1.0_e=0.5_p=7_num_test=1000_x_dist=uniform_e_dist=normal/\n",
      "OLS: iter= 20 ,cost_OLS_Ante= 15.236946405859852\n",
      "OLS: iter= 40 ,cost_OLS_Ante= 15.116524127250722\n",
      "OLS: iter= 60 ,cost_OLS_Ante= 14.960834814912989\n",
      "OLS: iter= 80 ,cost_OLS_Ante= 15.179645651507327\n",
      "DataPath: /Users/zhangxun/Dropbox/Research/Decision_Driven_Regularization/Data_JOC_R1/Shortest_Path/Various_Settings_Rep_SPO_Data_Generation/3by3_grid/data_size=100_deg=1.0_e=0.5_p=10_num_test=1000_x_dist=uniform_e_dist=normal/\n",
      "OLS: iter= 20 ,cost_OLS_Ante= 15.164308094760793\n",
      "OLS: iter= 40 ,cost_OLS_Ante= 15.30349278988914\n",
      "OLS: iter= 60 ,cost_OLS_Ante= 15.051247577881947\n",
      "OLS: iter= 80 ,cost_OLS_Ante= 15.037455824232667\n",
      "DataPath: /Users/zhangxun/Dropbox/Research/Decision_Driven_Regularization/Data_JOC_R1/Shortest_Path/Various_Settings_Rep_SPO_Data_Generation/3by3_grid/data_size=100_deg=1.0_e=0.5_p=15_num_test=1000_x_dist=uniform_e_dist=normal/\n",
      "OLS: iter= 20 ,cost_OLS_Ante= 15.250987667038528\n",
      "OLS: iter= 40 ,cost_OLS_Ante= 15.175672636931923\n",
      "OLS: iter= 60 ,cost_OLS_Ante= 15.245551211453149\n",
      "OLS: iter= 80 ,cost_OLS_Ante= 15.064404119571234\n"
     ]
    }
   ],
   "source": [
    "for num_feat in num_feat_all:\n",
    "    p = num_feat\n",
    "    DataPath = DataPath_Parent + f\"data_size={num_train}_deg={deg}_e={e}_p={p}_num_test={num_test}\"+\"_x_dist=\"+x_dist+\"_e_dist=\"+e_dist+\"/\"\n",
    "    print(\"DataPath:\", DataPath)\n",
    "    if os.path.exists(DataPath+\"cost_OLS_Ante_all.pkl\"):\n",
    "        print(\"Results already exist\")\n",
    "    else:\n",
    "        SLA.Run_OLS(DataPath,arcs, grid,mis,bump,iteration_all,num_feat,data_generation_process)"
   ]
  },
  {
   "cell_type": "markdown",
   "id": "99617761",
   "metadata": {},
   "source": [
    "#### Run DDR"
   ]
  },
  {
   "cell_type": "code",
   "execution_count": 10,
   "id": "c3a25f14",
   "metadata": {},
   "outputs": [
    {
     "name": "stdout",
     "output_type": "stream",
     "text": [
      "DataPath: /Users/zhangxun/Dropbox/Research/Decision_Driven_Regularization/Data_JOC_R1/Shortest_Path/Various_Settings_Rep_SPO_Data_Generation/3by3_grid/data_size=100_deg=1.0_e=0.5_p=1_num_test=1000_x_dist=uniform_e_dist=normal/\n",
      "DDR: iter= 20 ,mu= 0.75 ,lamb= 0.8 ,cost_DDR_Ante = 15.310955864119554\n",
      "DDR: iter= 40 ,mu= 0.75 ,lamb= 0.8 ,cost_DDR_Ante = 14.735688462921956\n",
      "DDR: iter= 60 ,mu= 0.75 ,lamb= 0.8 ,cost_DDR_Ante = 15.420721021145768\n",
      "DDR: iter= 80 ,mu= 0.75 ,lamb= 0.8 ,cost_DDR_Ante = 15.287383803157168\n",
      "DataPath: /Users/zhangxun/Dropbox/Research/Decision_Driven_Regularization/Data_JOC_R1/Shortest_Path/Various_Settings_Rep_SPO_Data_Generation/3by3_grid/data_size=100_deg=1.0_e=0.5_p=3_num_test=1000_x_dist=uniform_e_dist=normal/\n",
      "DDR: iter= 20 ,mu= 0.75 ,lamb= 0.8 ,cost_DDR_Ante = 14.791793511795047\n",
      "DDR: iter= 40 ,mu= 0.75 ,lamb= 0.8 ,cost_DDR_Ante = 15.29229254693371\n",
      "DDR: iter= 60 ,mu= 0.75 ,lamb= 0.8 ,cost_DDR_Ante = 15.032063207174351\n",
      "DDR: iter= 80 ,mu= 0.75 ,lamb= 0.8 ,cost_DDR_Ante = 15.199126690791152\n",
      "DataPath: /Users/zhangxun/Dropbox/Research/Decision_Driven_Regularization/Data_JOC_R1/Shortest_Path/Various_Settings_Rep_SPO_Data_Generation/3by3_grid/data_size=100_deg=1.0_e=0.5_p=5_num_test=1000_x_dist=uniform_e_dist=normal/\n",
      "Results already exist\n",
      "DataPath: /Users/zhangxun/Dropbox/Research/Decision_Driven_Regularization/Data_JOC_R1/Shortest_Path/Various_Settings_Rep_SPO_Data_Generation/3by3_grid/data_size=100_deg=1.0_e=0.5_p=7_num_test=1000_x_dist=uniform_e_dist=normal/\n",
      "DDR: iter= 20 ,mu= 0.75 ,lamb= 0.8 ,cost_DDR_Ante = 15.230325642818466\n",
      "DDR: iter= 40 ,mu= 0.75 ,lamb= 0.8 ,cost_DDR_Ante = 15.116067526620832\n",
      "DDR: iter= 60 ,mu= 0.75 ,lamb= 0.8 ,cost_DDR_Ante = 14.962804162238442\n",
      "DDR: iter= 80 ,mu= 0.75 ,lamb= 0.8 ,cost_DDR_Ante = 15.169462080211135\n",
      "DataPath: /Users/zhangxun/Dropbox/Research/Decision_Driven_Regularization/Data_JOC_R1/Shortest_Path/Various_Settings_Rep_SPO_Data_Generation/3by3_grid/data_size=100_deg=1.0_e=0.5_p=10_num_test=1000_x_dist=uniform_e_dist=normal/\n",
      "DDR: iter= 20 ,mu= 0.75 ,lamb= 0.8 ,cost_DDR_Ante = 15.170630657974755\n",
      "DDR: iter= 40 ,mu= 0.75 ,lamb= 0.8 ,cost_DDR_Ante = 15.316318069656706\n",
      "DDR: iter= 60 ,mu= 0.75 ,lamb= 0.8 ,cost_DDR_Ante = 15.062642384999254\n",
      "DDR: iter= 80 ,mu= 0.75 ,lamb= 0.8 ,cost_DDR_Ante = 15.03789778726321\n",
      "DataPath: /Users/zhangxun/Dropbox/Research/Decision_Driven_Regularization/Data_JOC_R1/Shortest_Path/Various_Settings_Rep_SPO_Data_Generation/3by3_grid/data_size=100_deg=1.0_e=0.5_p=15_num_test=1000_x_dist=uniform_e_dist=normal/\n",
      "DDR: iter= 20 ,mu= 0.75 ,lamb= 0.8 ,cost_DDR_Ante = 15.264979154525063\n",
      "DDR: iter= 40 ,mu= 0.75 ,lamb= 0.8 ,cost_DDR_Ante = 15.181959207329687\n",
      "DDR: iter= 60 ,mu= 0.75 ,lamb= 0.8 ,cost_DDR_Ante = 15.237922848787827\n",
      "DDR: iter= 80 ,mu= 0.75 ,lamb= 0.8 ,cost_DDR_Ante = 15.071697982601199\n"
     ]
    }
   ],
   "source": [
    "for num_feat in num_feat_all:\n",
    "    p = num_feat\n",
    "    DataPath = DataPath_Parent + f\"data_size={num_train}_deg={deg}_e={e}_p={p}_num_test={num_test}\"+\"_x_dist=\"+x_dist+\"_e_dist=\"+e_dist+\"/\"\n",
    "    print(\"DataPath:\", DataPath)\n",
    "    if os.path.exists(DataPath+\"cost_DDR_Ante_all.pkl\"):\n",
    "        print(\"Results already exist\")\n",
    "    else:\n",
    "        ILA.Run_DDR(DataPath,mu_all,lamb_all,arcs, grid,mis,bump,iteration_all,num_feat,data_generation_process)"
   ]
  },
  {
   "cell_type": "markdown",
   "id": "23ff0fbe",
   "metadata": {},
   "source": [
    "#### Run SPO+"
   ]
  },
  {
   "cell_type": "code",
   "execution_count": 11,
   "id": "5fd7ee5d",
   "metadata": {},
   "outputs": [
    {
     "name": "stdout",
     "output_type": "stream",
     "text": [
      "DataPath: /Users/zhangxun/Dropbox/Research/Decision_Driven_Regularization/Data_JOC_R1/Shortest_Path/Various_Settings_Rep_SPO_Data_Generation/3by3_grid/data_size=100_deg=1.0_e=0.5_p=1_num_test=1000_x_dist=uniform_e_dist=normal/\n",
      "['spo+'] : iter= 20 ,cost_EPO_Ante= 16.377086604303077\n",
      "['spo+'] : iter= 40 ,cost_EPO_Ante= 17.140253196552617\n",
      "['spo+'] : iter= 60 ,cost_EPO_Ante= 15.876693535196507\n",
      "['spo+'] : iter= 80 ,cost_EPO_Ante= 16.208182785705507\n",
      "DataPath: /Users/zhangxun/Dropbox/Research/Decision_Driven_Regularization/Data_JOC_R1/Shortest_Path/Various_Settings_Rep_SPO_Data_Generation/3by3_grid/data_size=100_deg=1.0_e=0.5_p=3_num_test=1000_x_dist=uniform_e_dist=normal/\n",
      "['spo+'] : iter= 20 ,cost_EPO_Ante= 15.646558425036845\n",
      "['spo+'] : iter= 40 ,cost_EPO_Ante= 16.182851154551333\n",
      "['spo+'] : iter= 60 ,cost_EPO_Ante= 15.66369395364822\n",
      "['spo+'] : iter= 80 ,cost_EPO_Ante= 16.30001433422056\n",
      "DataPath: /Users/zhangxun/Dropbox/Research/Decision_Driven_Regularization/Data_JOC_R1/Shortest_Path/Various_Settings_Rep_SPO_Data_Generation/3by3_grid/data_size=100_deg=1.0_e=0.5_p=5_num_test=1000_x_dist=uniform_e_dist=normal/\n",
      "Results already exist\n",
      "DataPath: /Users/zhangxun/Dropbox/Research/Decision_Driven_Regularization/Data_JOC_R1/Shortest_Path/Various_Settings_Rep_SPO_Data_Generation/3by3_grid/data_size=100_deg=1.0_e=0.5_p=7_num_test=1000_x_dist=uniform_e_dist=normal/\n",
      "['spo+'] : iter= 20 ,cost_EPO_Ante= 15.94126705262321\n",
      "['spo+'] : iter= 40 ,cost_EPO_Ante= 15.759610507085531\n",
      "['spo+'] : iter= 60 ,cost_EPO_Ante= 16.171679742672165\n",
      "['spo+'] : iter= 80 ,cost_EPO_Ante= 15.788399417147561\n",
      "DataPath: /Users/zhangxun/Dropbox/Research/Decision_Driven_Regularization/Data_JOC_R1/Shortest_Path/Various_Settings_Rep_SPO_Data_Generation/3by3_grid/data_size=100_deg=1.0_e=0.5_p=10_num_test=1000_x_dist=uniform_e_dist=normal/\n",
      "['spo+'] : iter= 20 ,cost_EPO_Ante= 15.622793051033874\n",
      "['spo+'] : iter= 40 ,cost_EPO_Ante= 16.089060994994323\n",
      "['spo+'] : iter= 60 ,cost_EPO_Ante= 15.874694875222026\n",
      "['spo+'] : iter= 80 ,cost_EPO_Ante= 15.204064138897245\n",
      "DataPath: /Users/zhangxun/Dropbox/Research/Decision_Driven_Regularization/Data_JOC_R1/Shortest_Path/Various_Settings_Rep_SPO_Data_Generation/3by3_grid/data_size=100_deg=1.0_e=0.5_p=15_num_test=1000_x_dist=uniform_e_dist=normal/\n",
      "['spo+'] : iter= 20 ,cost_EPO_Ante= 15.581625796554048\n",
      "['spo+'] : iter= 40 ,cost_EPO_Ante= 15.666277584469565\n",
      "['spo+'] : iter= 60 ,cost_EPO_Ante= 15.591523820563282\n",
      "['spo+'] : iter= 80 ,cost_EPO_Ante= 15.680026690834143\n"
     ]
    }
   ],
   "source": [
    "method_names = [\"spo+\"]\n",
    "for num_feat in num_feat_all:\n",
    "    p = num_feat\n",
    "    DataPath = DataPath_Parent + f\"data_size={num_train}_deg={deg}_e={e}_p={p}_num_test={num_test}\"+\"_x_dist=\"+x_dist+\"_e_dist=\"+e_dist+\"/\"\n",
    "    print(\"DataPath:\", DataPath)\n",
    "    if os.path.exists(DataPath+\"cost_spo+_Ante_all.pkl\"):\n",
    "        print(\"Results already exist\")\n",
    "    else:\n",
    "        ILA.run_EPO_approaches(DataPath,method_names,arcs, grid,mis,bump,iteration_all,num_feat,data_generation_process)"
   ]
  },
  {
   "cell_type": "markdown",
   "id": "88378e92",
   "metadata": {},
   "source": [
    "#### Run PG"
   ]
  },
  {
   "cell_type": "code",
   "execution_count": 12,
   "id": "cc71653a",
   "metadata": {},
   "outputs": [
    {
     "name": "stdout",
     "output_type": "stream",
     "text": [
      "DataPath: /Users/zhangxun/Dropbox/Research/Decision_Driven_Regularization/Data_JOC_R1/Shortest_Path/Various_Settings_Rep_SPO_Data_Generation/3by3_grid/data_size=100_deg=1.0_e=0.5_p=1_num_test=1000_x_dist=uniform_e_dist=normal/\n",
      "['pg'] : iter= 20 ,cost_EPO_Ante= 16.50358436418717\n",
      "['pg'] : iter= 40 ,cost_EPO_Ante= 16.369822170104467\n",
      "['pg'] : iter= 60 ,cost_EPO_Ante= 16.30277152109334\n",
      "['pg'] : iter= 80 ,cost_EPO_Ante= 15.637024637258383\n",
      "DataPath: /Users/zhangxun/Dropbox/Research/Decision_Driven_Regularization/Data_JOC_R1/Shortest_Path/Various_Settings_Rep_SPO_Data_Generation/3by3_grid/data_size=100_deg=1.0_e=0.5_p=3_num_test=1000_x_dist=uniform_e_dist=normal/\n",
      "['pg'] : iter= 20 ,cost_EPO_Ante= 15.744117426170487\n",
      "['pg'] : iter= 40 ,cost_EPO_Ante= 16.436819728069928\n",
      "['pg'] : iter= 60 ,cost_EPO_Ante= 15.960298808340431\n",
      "['pg'] : iter= 80 ,cost_EPO_Ante= 15.792383480787015\n",
      "DataPath: /Users/zhangxun/Dropbox/Research/Decision_Driven_Regularization/Data_JOC_R1/Shortest_Path/Various_Settings_Rep_SPO_Data_Generation/3by3_grid/data_size=100_deg=1.0_e=0.5_p=5_num_test=1000_x_dist=uniform_e_dist=normal/\n",
      "Results already exist\n",
      "DataPath: /Users/zhangxun/Dropbox/Research/Decision_Driven_Regularization/Data_JOC_R1/Shortest_Path/Various_Settings_Rep_SPO_Data_Generation/3by3_grid/data_size=100_deg=1.0_e=0.5_p=7_num_test=1000_x_dist=uniform_e_dist=normal/\n",
      "['pg'] : iter= 20 ,cost_EPO_Ante= 16.09090404406279\n",
      "['pg'] : iter= 40 ,cost_EPO_Ante= 16.333085039650424\n",
      "['pg'] : iter= 60 ,cost_EPO_Ante= 15.976191301630223\n",
      "['pg'] : iter= 80 ,cost_EPO_Ante= 16.243166233716355\n",
      "DataPath: /Users/zhangxun/Dropbox/Research/Decision_Driven_Regularization/Data_JOC_R1/Shortest_Path/Various_Settings_Rep_SPO_Data_Generation/3by3_grid/data_size=100_deg=1.0_e=0.5_p=10_num_test=1000_x_dist=uniform_e_dist=normal/\n",
      "['pg'] : iter= 20 ,cost_EPO_Ante= 16.110420078225054\n",
      "['pg'] : iter= 40 ,cost_EPO_Ante= 15.989325783142414\n",
      "['pg'] : iter= 60 ,cost_EPO_Ante= 16.059006805140303\n",
      "['pg'] : iter= 80 ,cost_EPO_Ante= 15.866403968097437\n",
      "DataPath: /Users/zhangxun/Dropbox/Research/Decision_Driven_Regularization/Data_JOC_R1/Shortest_Path/Various_Settings_Rep_SPO_Data_Generation/3by3_grid/data_size=100_deg=1.0_e=0.5_p=15_num_test=1000_x_dist=uniform_e_dist=normal/\n",
      "['pg'] : iter= 20 ,cost_EPO_Ante= 15.78675693912979\n",
      "['pg'] : iter= 40 ,cost_EPO_Ante= 15.9133265093386\n",
      "['pg'] : iter= 60 ,cost_EPO_Ante= 16.122130936950885\n",
      "['pg'] : iter= 80 ,cost_EPO_Ante= 15.851728699281932\n"
     ]
    }
   ],
   "source": [
    "method_names = [\"pg\"]\n",
    "for num_feat in num_feat_all:\n",
    "    p = num_feat\n",
    "    DataPath = DataPath_Parent + f\"data_size={num_train}_deg={deg}_e={e}_p={p}_num_test={num_test}\"+\"_x_dist=\"+x_dist+\"_e_dist=\"+e_dist+\"/\"\n",
    "    print(\"DataPath:\", DataPath)\n",
    "    if os.path.exists(DataPath+\"cost_pg_Ante_all.pkl\"):\n",
    "        print(\"Results already exist\")\n",
    "    else:\n",
    "        ILA.run_EPO_approaches(DataPath,method_names,arcs, grid,mis,bump,iteration_all,num_feat,data_generation_process)"
   ]
  },
  {
   "cell_type": "markdown",
   "id": "33db90e3",
   "metadata": {},
   "source": [
    "#### Run LTR"
   ]
  },
  {
   "cell_type": "code",
   "execution_count": 13,
   "id": "e8a3235c",
   "metadata": {},
   "outputs": [
    {
     "name": "stdout",
     "output_type": "stream",
     "text": [
      "DataPath: /Users/zhangxun/Dropbox/Research/Decision_Driven_Regularization/Data_JOC_R1/Shortest_Path/Various_Settings_Rep_SPO_Data_Generation/3by3_grid/data_size=100_deg=1.0_e=0.5_p=1_num_test=1000_x_dist=uniform_e_dist=normal/\n",
      "['ltr'] : iter= 20 ,cost_EPO_Ante= 16.41679228252767\n",
      "['ltr'] : iter= 40 ,cost_EPO_Ante= 15.954361235643006\n",
      "['ltr'] : iter= 60 ,cost_EPO_Ante= 15.700273222833584\n",
      "['ltr'] : iter= 80 ,cost_EPO_Ante= 16.030625034422428\n",
      "DataPath: /Users/zhangxun/Dropbox/Research/Decision_Driven_Regularization/Data_JOC_R1/Shortest_Path/Various_Settings_Rep_SPO_Data_Generation/3by3_grid/data_size=100_deg=1.0_e=0.5_p=3_num_test=1000_x_dist=uniform_e_dist=normal/\n",
      "['ltr'] : iter= 20 ,cost_EPO_Ante= 15.801021480409114\n",
      "['ltr'] : iter= 40 ,cost_EPO_Ante= 16.22686816264416\n",
      "['ltr'] : iter= 60 ,cost_EPO_Ante= 16.705250494035376\n",
      "['ltr'] : iter= 80 ,cost_EPO_Ante= 16.02744387620088\n",
      "DataPath: /Users/zhangxun/Dropbox/Research/Decision_Driven_Regularization/Data_JOC_R1/Shortest_Path/Various_Settings_Rep_SPO_Data_Generation/3by3_grid/data_size=100_deg=1.0_e=0.5_p=5_num_test=1000_x_dist=uniform_e_dist=normal/\n",
      "Results already exist\n",
      "DataPath: /Users/zhangxun/Dropbox/Research/Decision_Driven_Regularization/Data_JOC_R1/Shortest_Path/Various_Settings_Rep_SPO_Data_Generation/3by3_grid/data_size=100_deg=1.0_e=0.5_p=7_num_test=1000_x_dist=uniform_e_dist=normal/\n",
      "['ltr'] : iter= 20 ,cost_EPO_Ante= 16.066875707600186\n",
      "['ltr'] : iter= 40 ,cost_EPO_Ante= 16.066338727909113\n",
      "['ltr'] : iter= 60 ,cost_EPO_Ante= 15.984662333197615\n",
      "['ltr'] : iter= 80 ,cost_EPO_Ante= 16.05797632068409\n",
      "DataPath: /Users/zhangxun/Dropbox/Research/Decision_Driven_Regularization/Data_JOC_R1/Shortest_Path/Various_Settings_Rep_SPO_Data_Generation/3by3_grid/data_size=100_deg=1.0_e=0.5_p=10_num_test=1000_x_dist=uniform_e_dist=normal/\n",
      "['ltr'] : iter= 20 ,cost_EPO_Ante= 15.96897499253036\n",
      "['ltr'] : iter= 40 ,cost_EPO_Ante= 16.061546821177572\n",
      "['ltr'] : iter= 60 ,cost_EPO_Ante= 16.119370855592003\n",
      "['ltr'] : iter= 80 ,cost_EPO_Ante= 15.825567157783098\n",
      "DataPath: /Users/zhangxun/Dropbox/Research/Decision_Driven_Regularization/Data_JOC_R1/Shortest_Path/Various_Settings_Rep_SPO_Data_Generation/3by3_grid/data_size=100_deg=1.0_e=0.5_p=15_num_test=1000_x_dist=uniform_e_dist=normal/\n",
      "['ltr'] : iter= 20 ,cost_EPO_Ante= 16.04078404034137\n",
      "['ltr'] : iter= 40 ,cost_EPO_Ante= 16.363984140627696\n",
      "['ltr'] : iter= 60 ,cost_EPO_Ante= 15.75905947782731\n",
      "['ltr'] : iter= 80 ,cost_EPO_Ante= 15.809839244429991\n"
     ]
    }
   ],
   "source": [
    "method_names = [\"ltr\"]\n",
    "for num_feat in num_feat_all:\n",
    "    p = num_feat\n",
    "    DataPath = DataPath_Parent + f\"data_size={num_train}_deg={deg}_e={e}_p={p}_num_test={num_test}\"+\"_x_dist=\"+x_dist+\"_e_dist=\"+e_dist+\"/\"\n",
    "    print(\"DataPath:\", DataPath)\n",
    "    if os.path.exists(DataPath+\"cost_ltr_Ante_all.pkl\"):\n",
    "        print(\"Results already exist\")\n",
    "    else:\n",
    "        ILA.run_EPO_approaches(DataPath,method_names,arcs, grid,mis,bump,iteration_all,num_feat,data_generation_process)"
   ]
  },
  {
   "cell_type": "markdown",
   "id": "afd71ef4",
   "metadata": {},
   "source": [
    "### Comparison"
   ]
  },
  {
   "cell_type": "markdown",
   "id": "1add098a",
   "metadata": {},
   "source": [
    "##### DDR vs OLS"
   ]
  },
  {
   "cell_type": "code",
   "execution_count": 18,
   "id": "adc9496a",
   "metadata": {},
   "outputs": [
    {
     "name": "stdout",
     "output_type": "stream",
     "text": [
      "DataPath: /Users/zhangxun/Dropbox/Research/Decision_Driven_Regularization/Data_JOC_R1/Shortest_Path/Various_Settings_Rep_SPO_Data_Generation/3by3_grid/data_size=100_deg=1.0_e=0.5_p=1_num_test=1000_x_dist=uniform_e_dist=normal/\n",
      "DataPath: /Users/zhangxun/Dropbox/Research/Decision_Driven_Regularization/Data_JOC_R1/Shortest_Path/Various_Settings_Rep_SPO_Data_Generation/3by3_grid/data_size=100_deg=1.0_e=0.5_p=3_num_test=1000_x_dist=uniform_e_dist=normal/\n",
      "DataPath: /Users/zhangxun/Dropbox/Research/Decision_Driven_Regularization/Data_JOC_R1/Shortest_Path/Various_Settings_Rep_SPO_Data_Generation/3by3_grid/data_size=100_deg=1.0_e=0.5_p=5_num_test=1000_x_dist=uniform_e_dist=normal/\n",
      "DataPath: /Users/zhangxun/Dropbox/Research/Decision_Driven_Regularization/Data_JOC_R1/Shortest_Path/Various_Settings_Rep_SPO_Data_Generation/3by3_grid/data_size=100_deg=1.0_e=0.5_p=7_num_test=1000_x_dist=uniform_e_dist=normal/\n",
      "DataPath: /Users/zhangxun/Dropbox/Research/Decision_Driven_Regularization/Data_JOC_R1/Shortest_Path/Various_Settings_Rep_SPO_Data_Generation/3by3_grid/data_size=100_deg=1.0_e=0.5_p=10_num_test=1000_x_dist=uniform_e_dist=normal/\n",
      "DataPath: /Users/zhangxun/Dropbox/Research/Decision_Driven_Regularization/Data_JOC_R1/Shortest_Path/Various_Settings_Rep_SPO_Data_Generation/3by3_grid/data_size=100_deg=1.0_e=0.5_p=15_num_test=1000_x_dist=uniform_e_dist=normal/\n"
     ]
    }
   ],
   "source": [
    "regret_P_ante_Dict = {}; h2h_P_ante_Dict = {}\n",
    "for mu in mu_all:\n",
    "    for lamb in lamb_all:\n",
    "        regret_P_ante = np.zeros(len(num_feat_all)); h2h_P_ante = np.zeros(len(num_feat_all))\n",
    "        _index = 0\n",
    "        for num_feat in num_feat_all:\n",
    "            p = num_feat\n",
    "            DataPath = DataPath_Parent + f\"data_size={num_train}_deg={deg}_e={e}_p={p}_num_test={num_test}\"+\"_x_dist=\"+x_dist+\"_e_dist=\"+e_dist+\"/\"\n",
    "            print(\"DataPath:\", DataPath)        \n",
    "\n",
    "            cost_Oracle_Ante_all,cost_OLS_Ante_all,cost_DDR_Ante_all = Data_LSM.load_cost_data(DataPath)\n",
    "            \n",
    "            h2h_P_ante[_index], regret_P_ante[_index] = h2h_regret_eva.calculate_h2h_regret(mu,lamb,iteration_all,0,0,0,cost_DDR_Ante_all,cost_OLS_Ante_all,cost_Oracle_Ante_all)\n",
    "            _index = _index + 1\n",
    "        regret_P_ante_Dict[mu,lamb] = regret_P_ante\n",
    "        h2h_P_ante_Dict[mu,lamb] = h2h_P_ante\n",
    "with open(Result_dir+'regret_P_ante_Dict.pkl', \"wb\") as tf:\n",
    "    pickle.dump(regret_P_ante_Dict,tf)\n",
    "with open(Result_dir+'h2h_P_ante_Dict.pkl', \"wb\") as tf:\n",
    "    pickle.dump(h2h_P_ante_Dict,tf)"
   ]
  },
  {
   "cell_type": "code",
   "execution_count": 37,
   "id": "dfa6e67a",
   "metadata": {},
   "outputs": [
    {
     "data": {
      "image/png": "[encoded data removed]",
      "text/plain": [
       "<Figure size 500x500 with 1 Axes>"
      ]
     },
     "metadata": {},
     "output_type": "display_data"
    }
   ],
   "source": [
    "mu = 0.75\n",
    "lamb = 0.8\n",
    "h2h_fig = h2h_P_ante_Dict[mu,lamb]\n",
    "regret_fig = regret_P_ante_Dict[mu,lamb]\n",
    "\n",
    "ms = 8 # marker size\n",
    "fs = 12 # font size\n",
    "ls = 12 # label size\n",
    "\n",
    "import matplotlib.pyplot as plt\n",
    "fig, ax = plt.subplots(figsize=(5, 5))\n",
    "_indices = [0, 1, 3, 4, 5]\n",
    "for i in _indices:\n",
    "    ax.plot(h2h_fig[i], regret_fig[i], color='green', marker='*', markersize = ms,linestyle='None')\n",
    "ax.plot(h2h_fig[2], regret_fig[2],color='red', marker='o', markersize = 6,linestyle='None')\n",
    "ax.text(h2h_fig[2] + 0.02, regret_fig[2] - 0.01, 'Baseline', color='red',fontsize=fs)\n",
    "\n",
    "ax.text(h2h_fig[0] + 0.02, regret_fig[0] - 0.01, fr'p={num_feat_all[0]}', color='green',fontsize=fs)\n",
    "ax.text(h2h_fig[1] - 0.07, regret_fig[1] - 0.01, fr'p={num_feat_all[1]}', color='green',fontsize=fs)\n",
    "ax.text(h2h_fig[3] + 0.03, regret_fig[3] - 0.01, fr'p={num_feat_all[3]}', color='green',fontsize=fs)\n",
    "ax.text(h2h_fig[4] + 0.02, regret_fig[4] - 0.01, fr'p={num_feat_all[4]}', color='green',fontsize=fs)\n",
    "ax.text(h2h_fig[5] + 0.02, regret_fig[5] - 0.0, fr'p={num_feat_all[5]}', color='green',fontsize=fs)\n",
    "\n",
    "# ax.set_title(r'Effect of model misspecification: $\\beta$')\n",
    "ax.set_xlabel('Head-to-head')\n",
    "ax.set_ylabel('Regret reduction')\n",
    "# ax.grid(True)\n",
    "\n",
    "ax.axvline(0.5, linestyle='dashed', alpha=0.8, color='k')\n",
    "ax.axhline(0.0, linestyle='dashed', alpha=0.8, color='k')\n",
    "ax.set_xlim(0.35, 1.05)\n",
    "ax.set_ylim(-0.1, 0.7)\n",
    "ax.label_outer()\n",
    "# plt.tight_layout()\n",
    "fig.savefig(Result_dir + f'DDR_vs_OLS_Feature_ante_mu={mu}_lamb={lamb}.pdf', format='pdf', bbox_inches=\"tight\")\n",
    "plt.show()\n"
   ]
  },
  {
   "cell_type": "markdown",
   "id": "dde2ca99",
   "metadata": {},
   "source": [
    "#### DDR vs SPO+"
   ]
  },
  {
   "cell_type": "code",
   "execution_count": 39,
   "id": "5dc2385c",
   "metadata": {},
   "outputs": [
    {
     "name": "stdout",
     "output_type": "stream",
     "text": [
      "DataPath: /Users/zhangxun/Dropbox/Research/Decision_Driven_Regularization/Data_JOC_R1/Shortest_Path/Various_Settings_Rep_SPO_Data_Generation/3by3_grid/data_size=100_deg=1.0_e=0.5_p=1_num_test=1000_x_dist=uniform_e_dist=normal/\n",
      "DataPath: /Users/zhangxun/Dropbox/Research/Decision_Driven_Regularization/Data_JOC_R1/Shortest_Path/Various_Settings_Rep_SPO_Data_Generation/3by3_grid/data_size=100_deg=1.0_e=0.5_p=3_num_test=1000_x_dist=uniform_e_dist=normal/\n",
      "DataPath: /Users/zhangxun/Dropbox/Research/Decision_Driven_Regularization/Data_JOC_R1/Shortest_Path/Various_Settings_Rep_SPO_Data_Generation/3by3_grid/data_size=100_deg=1.0_e=0.5_p=5_num_test=1000_x_dist=uniform_e_dist=normal/\n",
      "DataPath: /Users/zhangxun/Dropbox/Research/Decision_Driven_Regularization/Data_JOC_R1/Shortest_Path/Various_Settings_Rep_SPO_Data_Generation/3by3_grid/data_size=100_deg=1.0_e=0.5_p=7_num_test=1000_x_dist=uniform_e_dist=normal/\n",
      "DataPath: /Users/zhangxun/Dropbox/Research/Decision_Driven_Regularization/Data_JOC_R1/Shortest_Path/Various_Settings_Rep_SPO_Data_Generation/3by3_grid/data_size=100_deg=1.0_e=0.5_p=10_num_test=1000_x_dist=uniform_e_dist=normal/\n",
      "DataPath: /Users/zhangxun/Dropbox/Research/Decision_Driven_Regularization/Data_JOC_R1/Shortest_Path/Various_Settings_Rep_SPO_Data_Generation/3by3_grid/data_size=100_deg=1.0_e=0.5_p=15_num_test=1000_x_dist=uniform_e_dist=normal/\n"
     ]
    }
   ],
   "source": [
    "regret_DDR_vs_SPO_P_ante_Dict = {}; h2h_DDR_vs_SPO_P_ante_Dict = {}\n",
    "for mu in mu_all:\n",
    "    for lamb in lamb_all:\n",
    "        regret_P_ante = np.zeros(len(num_feat_all)); h2h_P_ante = np.zeros(len(num_feat_all))\n",
    "        _index = 0\n",
    "        for num_feat in num_feat_all:\n",
    "            p = num_feat\n",
    "            DataPath = DataPath_Parent + f\"data_size={num_train}_deg={deg}_e={e}_p={p}_num_test={num_test}\"+\"_x_dist=\"+x_dist+\"_e_dist=\"+e_dist+\"/\"\n",
    "            print(\"DataPath:\", DataPath)        \n",
    "\n",
    "            cost_Oracle_Ante_all,cost_OLS_Ante_all,cost_DDR_Ante_all = Data_LSM.load_cost_data(DataPath)\n",
    "            with open(DataPath+'cost_spo+_Ante_all.pkl', \"rb\") as tf:\n",
    "                cost_SPO_Ante_all = pickle.load(tf)\n",
    "            h2h_P_ante[_index], regret_P_ante[_index] = h2h_regret_eva.calculate_h2h_regret(mu,lamb,iteration_all,0,0,0,cost_DDR_Ante_all,cost_SPO_Ante_all,cost_Oracle_Ante_all)\n",
    "            _index = _index + 1\n",
    "        regret_DDR_vs_SPO_P_ante_Dict[mu,lamb] = regret_P_ante\n",
    "        h2h_DDR_vs_SPO_P_ante_Dict[mu,lamb] = h2h_P_ante\n",
    "with open(Result_dir+'regret_DDR_vs_SPO_P_ante_Dict.pkl', \"wb\") as tf:\n",
    "    pickle.dump(regret_DDR_vs_SPO_P_ante_Dict,tf)\n",
    "with open(Result_dir+'h2h_DDR_vs_SPO_P_ante_Dict.pkl', \"wb\") as tf:\n",
    "    pickle.dump(h2h_DDR_vs_SPO_P_ante_Dict,tf)"
   ]
  },
  {
   "cell_type": "code",
   "execution_count": 52,
   "id": "f215d9cd",
   "metadata": {},
   "outputs": [
    {
     "data": {
      "image/png": "[encoded data removed]",
      "text/plain": [
       "<Figure size 500x500 with 1 Axes>"
      ]
     },
     "metadata": {},
     "output_type": "display_data"
    }
   ],
   "source": [
    "mu = 0.75\n",
    "lamb = 0.8\n",
    "h2h_fig = h2h_DDR_vs_SPO_P_ante_Dict[mu,lamb]\n",
    "regret_fig = regret_DDR_vs_SPO_P_ante_Dict[mu,lamb]\n",
    "\n",
    "ms = 6 # marker size\n",
    "fs = 12 # font size\n",
    "ls = 12 # label size\n",
    "\n",
    "import matplotlib.pyplot as plt\n",
    "fig, ax = plt.subplots(figsize=(5, 5))\n",
    "_indices = [0, 1, 3, 4, 5]\n",
    "for i in _indices:\n",
    "    ax.plot(h2h_fig[i], regret_fig[i], color='green', marker='*', markersize = 10,linestyle='None')\n",
    "ax.plot(h2h_fig[2], regret_fig[2],color='red', marker='o', markersize = 6,linestyle='None')\n",
    "ax.text(h2h_fig[2] - 0.068, regret_fig[2] - 0.01, 'Baseline', color='red',fontsize=fs)\n",
    "\n",
    "ax.text(h2h_fig[0] - 0.07, regret_fig[0] - 0.002, fr'p={num_feat_all[0]}', color='green',fontsize=fs)\n",
    "ax.text(h2h_fig[2] - 0.2, regret_fig[2] - 0.002, fr'p=3,7,10,15', color='green',fontsize=fs)\n",
    "# ax.text(h2h_fig[3] + 0.03, regret_fig[3] - 0.01, fr'p={num_feat_all[3]}', color='green',fontsize=fs)\n",
    "# ax.text(h2h_fig[4] + 0.02, regret_fig[4] - 0.01, fr'p={num_feat_all[4]}', color='green',fontsize=fs)\n",
    "# ax.text(h2h_fig[5] + 0.02, regret_fig[5] - 0.0, fr'p={num_feat_all[5]}', color='green',fontsize=fs)\n",
    "# ax.set_title(r'Effect of model misspecification: $\\beta$')\n",
    "ax.set_xlabel('Head-to-head')\n",
    "ax.set_ylabel('Regret reduction')\n",
    "# ax.grid(True)\n",
    "\n",
    "ax.axvline(0.5, linestyle='dashed', alpha=0.8, color='k')\n",
    "ax.axhline(0.0, linestyle='dashed', alpha=0.8, color='k')\n",
    "ax.set_xlim(0.4, 1.05)\n",
    "ax.set_ylim(0.9, 1.05)\n",
    "ax.label_outer()\n",
    "\n",
    "# plt.tight_layout()\n",
    "fig.savefig(Result_dir + f'DDR_vs_SPO_Feature_ante_mu={mu}_lamb={lamb}.pdf', format='pdf', bbox_inches=\"tight\")\n",
    "plt.show()\n"
   ]
  }
 ],
 "metadata": {
  "kernelspec": {
   "display_name": ".venv",
   "language": "python",
   "name": "python3"
  },
  "language_info": {
   "codemirror_mode": {
    "name": "ipython",
    "version": 3
   },
   "file_extension": ".py",
   "mimetype": "text/x-python",
   "name": "python",
   "nbconvert_exporter": "python",
   "pygments_lexer": "ipython3",
   "version": "3.9.6"
  }
 },
 "nbformat": 4,
 "nbformat_minor": 5
}
