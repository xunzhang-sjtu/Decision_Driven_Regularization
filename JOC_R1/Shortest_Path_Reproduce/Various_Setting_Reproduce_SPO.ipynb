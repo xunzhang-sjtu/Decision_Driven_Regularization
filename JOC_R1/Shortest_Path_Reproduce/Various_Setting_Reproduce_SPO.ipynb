{
 "cells": [
  {
   "cell_type": "code",
   "execution_count": 1,
   "id": "e5423203",
   "metadata": {},
   "outputs": [],
   "source": [
    "import random\n",
    "import numpy as np\n",
    "import torch\n",
    "import os\n",
    "import pathlib\n",
    "import pickle\n",
    "import pandas as pd\n",
    "torch.manual_seed(42)\n",
    "torch.cuda.manual_seed(42)\n",
    "from Performance import performance_evaluation\n",
    "perfs = performance_evaluation()\n",
    "\n",
    "from Performance import H2h_Regret_Evaluation\n",
    "h2h_regret_eva = H2h_Regret_Evaluation()\n",
    "\n",
    "from Data import Data_Simulator\n",
    "DS_Obj = Data_Simulator()\n",
    "\n",
    "from Oracle import Oracle_Processing\n",
    "Oracle_Proc = Oracle_Processing()\n",
    "\n",
    "from OLS import OLS_Processing\n",
    "OLS_Proc = OLS_Processing()\n",
    "\n",
    "from DDR import DDR_Processing\n",
    "DDR_Proc = DDR_Processing()\n",
    "\n",
    "from PYEPO import EPO_Processing\n",
    "PYEPO_Proc = EPO_Processing()\n",
    "\n",
    "from Data_Load_Store import Load_Store_Methods\n",
    "Data_LSM = Load_Store_Methods()"
   ]
  },
  {
   "cell_type": "markdown",
   "id": "886e7311",
   "metadata": {},
   "source": [
    "### Parameters"
   ]
  },
  {
   "cell_type": "code",
   "execution_count": 2,
   "id": "782cc897",
   "metadata": {},
   "outputs": [],
   "source": [
    "grid = (3,3)\n",
    "Params = {\n",
    "    \"grid\":grid,\n",
    "    \"num_test\": 1000,\n",
    "    \"lower\": 0,\n",
    "    \"upper\": 1,\n",
    "    \"coef_seed\": 1,\n",
    "    \"x_dist\": 'uniform',\n",
    "    \"e_dist\": 'normal',\n",
    "    \"x_low\": -2,\n",
    "    \"x_up\": 2,\n",
    "    \"x_mean\": 2,\n",
    "    \"x_var\": 2,\n",
    "    \"bump\": 100,\n",
    "    \"iteration_all\": np.arange(0,100),\n",
    "    \"batch_size\": 20,\n",
    "    \"num_epochs\": 1000,\n",
    "    \"mu_all\": [0.75],\n",
    "    \"lamb_all\":[0.8]\n",
    "}"
   ]
  },
  {
   "cell_type": "code",
   "execution_count": 3,
   "id": "554bf254",
   "metadata": {},
   "outputs": [
    {
     "name": "stdout",
     "output_type": "stream",
     "text": [
      "DataPath_parent: /Users/zhangxun/Dropbox/Research/Decision_Driven_Regularization/Data_JOC_R1/Shortest_Path/Various_Settings_Rep_SPO_Data_Generation/3by3_grid/\n"
     ]
    }
   ],
   "source": [
    "data_generation_process = \"SPO_Data_Generation\"\n",
    "# data_generation_process = \"DDR_Data_Generation\"\n",
    "current_directory = os.getcwd()\n",
    "parent_directory = os.path.dirname(current_directory)\n",
    "project_directory = os.path.dirname(os.path.dirname(os.path.dirname(parent_directory)))\n",
    "DataPath_Parent = project_directory + '/Data_JOC_R1/Shortest_Path/Various_Settings_Rep_' + data_generation_process + f'/{grid[0]}by{grid[1]}_grid/'\n",
    "pathlib.Path(DataPath_Parent).mkdir(parents=True, exist_ok=True)\n",
    "print(\"DataPath_parent:\", DataPath_Parent)\n",
    "\n",
    "Result_dir = DataPath_Parent + \"Result/\"\n",
    "pathlib.Path(Result_dir).mkdir(parents=True, exist_ok=True)\n",
    "\n",
    "with open(DataPath_Parent+'Params.pkl', \"wb\") as tf:\n",
    "    pickle.dump(Params,tf)"
   ]
  },
  {
   "cell_type": "markdown",
   "id": "a25df629",
   "metadata": {},
   "source": [
    "#### Impact of sample size: See Various_Setting_Reproduce_Data_Size_SPO.ipynb"
   ]
  },
  {
   "cell_type": "markdown",
   "id": "2dcc9e0d",
   "metadata": {},
   "source": [
    "#### Impact of number of feature: See Various_Setting_Reproduce_Num_Feature_SPO.ipynb"
   ]
  },
  {
   "cell_type": "markdown",
   "id": "a4f666a3",
   "metadata": {},
   "source": [
    "#### Impact of alpha: See Various_Setting_Reproduce_Noise_Level_SPO.ipynb"
   ]
  },
  {
   "cell_type": "markdown",
   "id": "d93a7c33",
   "metadata": {},
   "source": [
    "#### Impact of model misspecification: See Various_Setting_Reproduce_Mis_SPO.ipynb"
   ]
  }
 ],
 "metadata": {
  "kernelspec": {
   "display_name": ".venv",
   "language": "python",
   "name": "python3"
  },
  "language_info": {
   "codemirror_mode": {
    "name": "ipython",
    "version": 3
   },
   "file_extension": ".py",
   "mimetype": "text/x-python",
   "name": "python",
   "nbconvert_exporter": "python",
   "pygments_lexer": "ipython3",
   "version": "3.9.6"
  }
 },
 "nbformat": 4,
 "nbformat_minor": 5
}
