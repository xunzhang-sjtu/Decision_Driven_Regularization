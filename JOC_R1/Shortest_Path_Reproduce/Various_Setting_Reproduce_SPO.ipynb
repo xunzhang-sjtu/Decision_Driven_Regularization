{
 "cells": [
  {
   "cell_type": "code",
   "execution_count": 1,
   "id": "e5423203",
   "metadata": {},
   "outputs": [],
   "source": [
    "import random\n",
    "import numpy as np\n",
    "import torch\n",
    "import os\n",
    "import pathlib\n",
    "import pickle\n",
    "import pandas as pd\n",
    "torch.manual_seed(42)\n",
    "torch.cuda.manual_seed(42)\n",
    "from Performance import performance_evaluation\n",
    "perfs = performance_evaluation()\n",
    "\n",
    "from Performance import H2h_Regret_Evaluation\n",
    "h2h_regret_eva = H2h_Regret_Evaluation()\n",
    "\n",
    "from Data import Data_Simulator\n",
    "DS_Obj = Data_Simulator()\n",
    "\n",
    "from Oracle import Oracle_Processing\n",
    "Oracle_Proc = Oracle_Processing()\n",
    "\n",
    "from OLS import OLS_Processing\n",
    "OLS_Proc = OLS_Processing()\n",
    "\n",
    "from DDR import DDR_Processing\n",
    "DDR_Proc = DDR_Processing()\n",
    "\n",
    "from PYEPO import EPO_Processing\n",
    "PYEPO_Proc = EPO_Processing()\n",
    "\n",
    "from Data_Load_Store import Load_Store_Methods\n",
    "Data_LSM = Load_Store_Methods()"
   ]
  },
  {
   "cell_type": "code",
   "execution_count": 2,
   "id": "4e09dcbc",
   "metadata": {},
   "outputs": [],
   "source": [
    "def run_all_approaches(DataPath,mu_all,lamb_all,arcs, grid,mis,bump,iteration_all,num_feat,data_generation_process):\n",
    "        \n",
    "        x_test_all,c_test_all,x_train_all,c_train_all,noise_train_all,noise_test_all,W_star_all = Data_LSM.load_input_data(DataPath)\n",
    "\n",
    "        cost_Oracle_Post_all,cost_Oracle_Ante_all = Oracle_Proc.Implement_Oracle(arcs, grid,mis,bump,\\\n",
    "                                                                    W_star_all,x_test_all,noise_test_all,\\\n",
    "                                                                    iteration_all,num_feat,data_generation_process)\n",
    "        \n",
    "        cost_OLS_Post_all,cost_OLS_Ante_all = OLS_Proc.Implement_OLS(arcs, grid,mis,bump,\\\n",
    "                                                            W_star_all,x_test_all,noise_test_all,x_train_all,c_train_all,\\\n",
    "                                                            iteration_all,num_feat,data_generation_process)\n",
    "\n",
    "        cost_DDR_Post_all,cost_DDR_Ante_all = DDR_Proc.Implement_DDR(mu_all,lamb_all,arcs, grid,mis,bump,\\\n",
    "                                                                    W_star_all,x_test_all,noise_test_all,x_train_all,c_train_all,\\\n",
    "                                                                        iteration_all,num_feat,data_generation_process)\n",
    "\n",
    "        Data_LSM.store_Oracle_OLS_DDR_Cost(DataPath,cost_Oracle_Post_all,cost_Oracle_Ante_all,\\\n",
    "                                  cost_OLS_Post_all,cost_OLS_Ante_all,\\\n",
    "                                  cost_DDR_Post_all,cost_DDR_Ante_all)"
   ]
  },
  {
   "cell_type": "code",
   "execution_count": 3,
   "id": "dfd90c41",
   "metadata": {},
   "outputs": [],
   "source": [
    "def run_EPO_approaches(DataPath,method_names,arcs, grid,mis,bump,iteration_all,num_feat,data_generation_process):\n",
    "        \n",
    "        x_test_all,c_test_all,x_train_all,c_train_all,noise_train_all,noise_test_all,W_star_all = Data_LSM.load_input_data(DataPath)\n",
    "\n",
    "        batch_size = 20\n",
    "        num_epochs = 1000\n",
    "        # from PYEPO import PyEPO_Method\n",
    "        # epo_runner = PyEPO_Method()\n",
    "        method_names = [\"spo+\"]\n",
    "        cost_EPO_Post_all,cost_EPO_Ante_all = PYEPO_Proc.Implement_EPO(DataPath,iteration_all,batch_size,num_epochs,method_names,\\\n",
    "                                                    W_star_all,bump,x_train_all,c_train_all,x_test_all,noise_test_all,\\\n",
    "                                                    arcs,grid,perfs,num_feat,mis,data_generation_process)\n",
    "\n",
    "        with open(DataPath+'cost_'+method_names[0]+'_Post_all.pkl', \"wb\") as tf:\n",
    "            pickle.dump(cost_EPO_Post_all,tf)\n",
    "        with open(DataPath+'cost_'+method_names[0]+'_Ante_all.pkl', \"wb\") as tf:\n",
    "            pickle.dump(cost_EPO_Ante_all,tf)"
   ]
  },
  {
   "cell_type": "markdown",
   "id": "886e7311",
   "metadata": {},
   "source": [
    "### Parameters"
   ]
  },
  {
   "cell_type": "code",
   "execution_count": 4,
   "id": "782cc897",
   "metadata": {},
   "outputs": [],
   "source": [
    "grid = (3,3) # grid size\n",
    "from Network import network_design\n",
    "Network = network_design()\n",
    "arcs,arc_index_mapping = Network._getArcs(grid)\n",
    "\n",
    "num_test = 1000\n",
    "lower = 0 # coef lower bound\n",
    "upper = 1 # coef upper bound\n",
    "d = (grid[0] - 1) * (grid[0] - 1) * 2 + 2 * (grid[0] - 1) # num of arcs\n",
    "num_nodes = grid[0]*grid[0]\n",
    "coef_seed = 1\n",
    "\n",
    "x_dist = 'uniform'\n",
    "e_dist = 'normal'\n",
    "x_low = -2\n",
    "x_up = 2\n",
    "x_mean = 2\n",
    "x_var = 2\n",
    "bump = 100"
   ]
  },
  {
   "cell_type": "code",
   "execution_count": 5,
   "id": "554bf254",
   "metadata": {},
   "outputs": [
    {
     "name": "stdout",
     "output_type": "stream",
     "text": [
      "DataPath_parent: /Users/zhangxun/Dropbox/Research/Decision_Driven_Regularization/Data_JOC_R1/Shortest_Path/Various_Settings_SPO_Data_Generation_coef_seed=1/3by3_grid/\n"
     ]
    }
   ],
   "source": [
    "data_generation_process = \"SPO_Data_Generation\"\n",
    "# data_generation_process = \"DDR_Data_Generation\"\n",
    "current_directory = os.getcwd()\n",
    "parent_directory = os.path.dirname(current_directory)\n",
    "project_directory = os.path.dirname(os.path.dirname(os.path.dirname(parent_directory)))\n",
    "DataPath_Parent = project_directory + '/Data_JOC_R1/Shortest_Path/Various_Settings_' + data_generation_process + f'_coef_seed={coef_seed}/{grid[0]}by{grid[1]}_grid/'\n",
    "pathlib.Path(DataPath_Parent).mkdir(parents=True, exist_ok=True)\n",
    "print(\"DataPath_parent:\", DataPath_Parent)"
   ]
  },
  {
   "cell_type": "markdown",
   "id": "a25df629",
   "metadata": {},
   "source": [
    "#### Impact of sample size"
   ]
  },
  {
   "cell_type": "code",
   "execution_count": null,
   "id": "318667b4",
   "metadata": {},
   "outputs": [
    {
     "name": "stdout",
     "output_type": "stream",
     "text": [
      "DataPath: /Users/zhangxun/Dropbox/Research/Decision_Driven_Regularization/Data_JOC_R1/Shortest_Path/Various_Settings_SPO_Data_Generation_coef_seed=1/3by3_grid/data_size=100_deg=1.0_e=0.5_p=5_num_test=1000_x_dist=uniform_e_dist=normal/\n"
     ]
    }
   ],
   "source": [
    "num_feat = 5 # size of feature\n",
    "p = num_feat\n",
    "deg = 1.0 # polynomial degree\n",
    "mis = deg # model misspecification\n",
    "e = 0.5 # scale of normal std or the range of uniform. For the error term\n",
    "alpha = e # scale of normal std or the range of uniform. For the error term\n",
    "iteration_all = np.arange(0,100)\n",
    "batch_size = 20\n",
    "num_epochs = 1000\n",
    "num_train_all = [50,100,200,500,1000]\n",
    "mu_all = np.asarray([0.4,0.5,0.6])\n",
    "lamb_all = np.asarray([0.4,0.5,0.6])\n",
    "for num_train in num_train_all:\n",
    "    DataPath = DataPath_Parent + f\"data_size={num_train}_deg={deg}_e={e}_p={p}_num_test={num_test}\"+\"_x_dist=\"+x_dist+\"_e_dist=\"+e_dist+\"/\"\n",
    "    pathlib.Path(DataPath).mkdir(parents=True, exist_ok=True)\n",
    "    print(\"DataPath:\", DataPath)\n",
    "    \n",
    "    x_test_all, c_test_all, x_train_all, c_train_all,noise_train_all,noise_test_all,W_star_all = \\\n",
    "    DS_Obj.Simulator(DataPath,lower, upper, p, d, coef_seed,iteration_all,num_test, num_train, alpha,mis,data_generation_process,x_dist, e_dist, x_low, x_up, x_mean, x_var, bump)\n",
    "\n",
    "    Data_LSM.store_input_data(DataPath,x_test_all,c_test_all,x_train_all,c_train_all,noise_test_all,noise_train_all,W_star_all)"
   ]
  },
  {
   "cell_type": "code",
   "execution_count": 7,
   "id": "99b3b7bc",
   "metadata": {},
   "outputs": [
    {
     "name": "stdout",
     "output_type": "stream",
     "text": [
      "DataPath: /Users/zhangxun/Dropbox/Research/Decision_Driven_Regularization/Data_JOC_R1/Shortest_Path/Various_Settings_SPO_Data_Generation_coef_seed=1/3by3_grid/data_size=100_deg=1.0_e=0.5_p=5_num_test=1000_x_dist=uniform_e_dist=normal/\n",
      "Set parameter Username\n",
      "Academic license - for non-commercial use only - expires 2026-03-13\n",
      "Oracle: iter= 20 ,cost_Oracle_Ante= 15.172642031123184\n",
      "Oracle: iter= 40 ,cost_Oracle_Ante= 14.600967169194192\n",
      "Oracle: iter= 60 ,cost_Oracle_Ante= 15.016002191297218\n",
      "Oracle: iter= 80 ,cost_Oracle_Ante= 14.89354010044007\n",
      "OLS: iter= 20 ,cost_OLS_Ante= 15.342978625531082\n",
      "OLS: iter= 40 ,cost_OLS_Ante= 14.653128870271075\n",
      "OLS: iter= 60 ,cost_OLS_Ante= 15.116680536722342\n",
      "OLS: iter= 80 ,cost_OLS_Ante= 15.042281568159728\n",
      "DDR: iter= 20 ,mu= 0.6 ,lamb= 0.6 ,cost_DDR_Ante = 15.337401682302461\n",
      "DDR: iter= 40 ,mu= 0.6 ,lamb= 0.6 ,cost_DDR_Ante = 14.653867819231504\n",
      "DDR: iter= 60 ,mu= 0.6 ,lamb= 0.6 ,cost_DDR_Ante = 15.118742798669407\n",
      "DDR: iter= 80 ,mu= 0.6 ,lamb= 0.6 ,cost_DDR_Ante = 15.037290739854926\n"
     ]
    }
   ],
   "source": [
    "for num_train in num_train_all:\n",
    "    DataPath = DataPath_Parent + f\"data_size={num_train}_deg={deg}_e={e}_p={p}_num_test={num_test}\"+\"_x_dist=\"+x_dist+\"_e_dist=\"+e_dist+\"/\"\n",
    "    print(\"DataPath:\", DataPath)\n",
    "    run_all_approaches(DataPath,mu_all,lamb_all,arcs, grid,mis,bump,iteration_all,num_feat,data_generation_process)"
   ]
  },
  {
   "cell_type": "code",
   "execution_count": null,
   "id": "f0fb1fcb",
   "metadata": {},
   "outputs": [],
   "source": [
    "# for num_train in num_train_all:\n",
    "#     DataPath = DataPath_Parent + f\"data_size={num_train}_deg={deg}_e={e}_p={p}_num_test={num_test}\"+\"_x_dist=\"+x_dist+\"_e_dist=\"+e_dist+\"/\"\n",
    "#     print(\"DataPath:\", DataPath)\n",
    "#     method_names = [\"spo+\"]\n",
    "#     run_EPO_approaches(DataPath,method_names,arcs, grid,mis,bump,iteration_all,num_feat,data_generation_process)"
   ]
  },
  {
   "cell_type": "code",
   "execution_count": 8,
   "id": "15b7aff1",
   "metadata": {},
   "outputs": [
    {
     "name": "stdout",
     "output_type": "stream",
     "text": [
      "/Users/zhangxun/Dropbox/Research/Decision_Driven_Regularization/Data_JOC_R1/Shortest_Path/Various_Settings_SPO_Data_Generation_coef_seed=1/3by3_grid/data_size=100_deg=1.0_e=0.5_p=5_num_test=1000_x_dist=uniform_e_dist=normal/\n",
      "/Users/zhangxun/Dropbox/Research/Decision_Driven_Regularization/Data_JOC_R1/Shortest_Path/Various_Settings_SPO_Data_Generation_coef_seed=1/3by3_grid/data_size=100_deg=1.0_e=0.5_p=5_num_test=1000_x_dist=uniform_e_dist=normal/\n",
      "/Users/zhangxun/Dropbox/Research/Decision_Driven_Regularization/Data_JOC_R1/Shortest_Path/Various_Settings_SPO_Data_Generation_coef_seed=1/3by3_grid/data_size=100_deg=1.0_e=0.5_p=5_num_test=1000_x_dist=uniform_e_dist=normal/\n",
      "/Users/zhangxun/Dropbox/Research/Decision_Driven_Regularization/Data_JOC_R1/Shortest_Path/Various_Settings_SPO_Data_Generation_coef_seed=1/3by3_grid/data_size=100_deg=1.0_e=0.5_p=5_num_test=1000_x_dist=uniform_e_dist=normal/\n",
      "/Users/zhangxun/Dropbox/Research/Decision_Driven_Regularization/Data_JOC_R1/Shortest_Path/Various_Settings_SPO_Data_Generation_coef_seed=1/3by3_grid/data_size=100_deg=1.0_e=0.5_p=5_num_test=1000_x_dist=uniform_e_dist=normal/\n",
      "/Users/zhangxun/Dropbox/Research/Decision_Driven_Regularization/Data_JOC_R1/Shortest_Path/Various_Settings_SPO_Data_Generation_coef_seed=1/3by3_grid/data_size=100_deg=1.0_e=0.5_p=5_num_test=1000_x_dist=uniform_e_dist=normal/\n",
      "/Users/zhangxun/Dropbox/Research/Decision_Driven_Regularization/Data_JOC_R1/Shortest_Path/Various_Settings_SPO_Data_Generation_coef_seed=1/3by3_grid/data_size=100_deg=1.0_e=0.5_p=5_num_test=1000_x_dist=uniform_e_dist=normal/\n",
      "/Users/zhangxun/Dropbox/Research/Decision_Driven_Regularization/Data_JOC_R1/Shortest_Path/Various_Settings_SPO_Data_Generation_coef_seed=1/3by3_grid/data_size=100_deg=1.0_e=0.5_p=5_num_test=1000_x_dist=uniform_e_dist=normal/\n",
      "/Users/zhangxun/Dropbox/Research/Decision_Driven_Regularization/Data_JOC_R1/Shortest_Path/Various_Settings_SPO_Data_Generation_coef_seed=1/3by3_grid/data_size=100_deg=1.0_e=0.5_p=5_num_test=1000_x_dist=uniform_e_dist=normal/\n"
     ]
    }
   ],
   "source": [
    "regret_N_ante_Dict = {}; h2h_N_ante_Dict = {}\n",
    "for mu in mu_all:\n",
    "    for lamb in lamb_all:\n",
    "        regret_N_ante = np.zeros(len(num_train_all)); h2h_N_ante = np.zeros(len(num_train_all))\n",
    "        _index = 0\n",
    "        for num_train in num_train_all:\n",
    "            DataPath = DataPath_Parent + f\"data_size={num_train}_deg={deg}_e={e}_p={p}_num_test={num_test}\"+\"_x_dist=\"+x_dist+\"_e_dist=\"+e_dist+\"/\"\n",
    "            print(DataPath)\n",
    "            \n",
    "            cost_Oracle_Post_all,cost_Oracle_Ante_all,cost_OLS_Post_all,cost_OLS_Ante_all,cost_DDR_Post_all,cost_DDR_Ante_all = Data_LSM.load_cost_data(DataPath)\n",
    "            # with open(DataPath+'cost_spo+_Ante_all.pkl', \"rb\") as tf:\n",
    "            #     cost_SPO_Ante_all = pickle.load(tf)\n",
    "            h2h_N_ante[_index], regret_N_ante[_index] = h2h_regret_eva.calculate_h2h_regret(mu,lamb,iteration_all,\\\n",
    "                                cost_DDR_Post_all,cost_OLS_Post_all,cost_Oracle_Post_all,\\\n",
    "                                    cost_DDR_Ante_all,cost_OLS_Ante_all,cost_Oracle_Ante_all)\n",
    "            _index = _index + 1\n",
    "        regret_N_ante_Dict[mu,lamb] = regret_N_ante\n",
    "        h2h_N_ante_Dict[mu,lamb] = h2h_N_ante"
   ]
  },
  {
   "cell_type": "markdown",
   "id": "2dcc9e0d",
   "metadata": {},
   "source": [
    "#### Impact of number of feature"
   ]
  },
  {
   "cell_type": "code",
   "execution_count": null,
   "id": "c248f7f1",
   "metadata": {},
   "outputs": [],
   "source": [
    "deg = 1.0 # polynomial degree\n",
    "mis = deg # model misspecification\n",
    "e = 0.5 # scale of normal std or the range of uniform. For the error term\n",
    "alpha = e # scale of normal std or the range of uniform. For the error term\n",
    "num_train = 100\n",
    "num_feat_all = [1,3,5,7,10,15]\n",
    "for num_feat in num_feat_all:\n",
    "    p = num_feat\n",
    "    if p != 5:\n",
    "        DataPath = DataPath_Parent + f\"data_size={num_train}_deg={deg}_e={e}_p={p}_num_test={num_test}\"+\"_x_dist=\"+x_dist+\"_e_dist=\"+e_dist+\"/\"\n",
    "        pathlib.Path(DataPath).mkdir(parents=True, exist_ok=True)\n",
    "        print(\"DataPath:\", DataPath)\n",
    "\n",
    "        x_test_all, c_test_all, x_train_all, c_train_all,noise_train_all,noise_test_all,W_star_all \\\n",
    "        = DS_Obj.Simulator(DataPath,lower, upper, p, d, coef_seed,iteration_all,num_test, num_train, alpha,mis,data_generation_process,x_dist, e_dist, x_low, x_up, x_mean, x_var, bump)\n",
    "\n",
    "        Data_LSM.store_input_data(DataPath,x_test_all,c_test_all,x_train_all,c_train_all,noise_test_all,noise_train_all,W_star_all)"
   ]
  },
  {
   "cell_type": "code",
   "execution_count": null,
   "id": "e52c52b0",
   "metadata": {},
   "outputs": [],
   "source": [
    "for num_feat in num_feat_all:\n",
    "    p = num_feat\n",
    "    if p != 5:\n",
    "        DataPath = DataPath_Parent + f\"data_size={num_train}_deg={deg}_e={e}_p={p}_num_test={num_test}\"+\"_x_dist=\"+x_dist+\"_e_dist=\"+e_dist+\"/\"\n",
    "        pathlib.Path(DataPath).mkdir(parents=True, exist_ok=True)\n",
    "        print(\"DataPath:\", DataPath)        \n",
    "        run_all_approaches(DataPath,mu_all,lamb_all,arcs, grid,mis,bump,iteration_all,num_feat,data_generation_process)"
   ]
  },
  {
   "cell_type": "code",
   "execution_count": null,
   "id": "1e41ad9e",
   "metadata": {},
   "outputs": [],
   "source": [
    "for num_feat in num_feat_all:\n",
    "    p = num_feat\n",
    "    if p != 5:\n",
    "        DataPath = DataPath_Parent + f\"data_size={num_train}_deg={deg}_e={e}_p={p}_num_test={num_test}\"+\"_x_dist=\"+x_dist+\"_e_dist=\"+e_dist+\"/\"\n",
    "        pathlib.Path(DataPath).mkdir(parents=True, exist_ok=True)\n",
    "        print(\"DataPath:\", DataPath)    \n",
    "        run_EPO_approaches(DataPath,[\"spo+\"],arcs, grid,mis,bump,iteration_all,num_feat,data_generation_process)"
   ]
  },
  {
   "cell_type": "code",
   "execution_count": null,
   "id": "1b5739df",
   "metadata": {},
   "outputs": [],
   "source": [
    "regret_P_ante = np.zeros(len(num_feat_all)); h2h_P_ante = np.zeros(len(num_feat_all))\n",
    "mu = mu_all[0]\n",
    "lamb = lamb_all[0]\n",
    "_index = 0\n",
    "for num_feat in num_feat_all:\n",
    "    p = num_feat\n",
    "    DataPath = DataPath_Parent + f\"data_size={num_train}_deg={deg}_e={e}_p={p}_num_test={num_test}\"+\"_x_dist=\"+x_dist+\"_e_dist=\"+e_dist+\"/\"\n",
    "    print(\"DataPath:\", DataPath)        \n",
    "\n",
    "    cost_Oracle_Post_all,cost_Oracle_Ante_all,cost_OLS_Post_all,cost_OLS_Ante_all,cost_DDR_Post_all,cost_DDR_Ante_all = Data_LSM.load_cost_data(DataPath)\n",
    "    \n",
    "    h2h_P_ante[_index], regret_P_ante[_index] = h2h_regret_eva.calculate_h2h_regret(mu,lamb,iteration_all,\\\n",
    "                         cost_DDR_Post_all,cost_OLS_Post_all,cost_Oracle_Post_all,\\\n",
    "                            cost_DDR_Ante_all,cost_OLS_Ante_all,cost_Oracle_Ante_all)\n",
    "    _index = _index + 1"
   ]
  },
  {
   "cell_type": "markdown",
   "id": "a4f666a3",
   "metadata": {},
   "source": [
    "#### Impact of alpha"
   ]
  },
  {
   "cell_type": "code",
   "execution_count": null,
   "id": "4b56c29c",
   "metadata": {},
   "outputs": [],
   "source": [
    "deg = 1.0 # polynomial degree\n",
    "mis = deg # model misspecification\n",
    "num_train = 100\n",
    "num_feat = 5\n",
    "p = num_feat\n",
    "e_all = [0.25,0.5,0.75,1.0]\n",
    "for e in e_all:\n",
    "    alpha = e # scale of normal std or the range of uniform. For the error term\n",
    "    if e != 0.5:\n",
    "        DataPath = DataPath_Parent + f\"data_size={num_train}_deg={deg}_e={e}_p={p}_num_test={num_test}\"+\"_x_dist=\"+x_dist+\"_e_dist=\"+e_dist+\"/\"\n",
    "        pathlib.Path(DataPath).mkdir(parents=True, exist_ok=True)\n",
    "        print(\"DataPath:\", DataPath)\n",
    "        x_test_all, c_test_all, x_train_all, c_train_all,noise_train_all,noise_test_all,W_star_all \\\n",
    "        = DS_Obj.Simulator(DataPath,lower, upper, p, d, coef_seed,iteration_all,num_test, num_train, alpha,mis,data_generation_process,x_dist, e_dist, x_low, x_up, x_mean, x_var, bump)\n",
    "\n",
    "        Data_LSM.store_input_data(DataPath,x_test_all,c_test_all,x_train_all,c_train_all,noise_test_all,noise_train_all,W_star_all)"
   ]
  },
  {
   "cell_type": "code",
   "execution_count": null,
   "id": "0d73514b",
   "metadata": {},
   "outputs": [],
   "source": [
    "for e in e_all:\n",
    "    alpha = e \n",
    "    if e != 0.5:\n",
    "        DataPath = DataPath_Parent + f\"data_size={num_train}_deg={deg}_e={e}_p={p}_num_test={num_test}\"+\"_x_dist=\"+x_dist+\"_e_dist=\"+e_dist+\"/\"\n",
    "        print(\"DataPath:\", DataPath)\n",
    "        run_all_approaches(DataPath,mu_all,lamb_all,arcs, grid,mis,bump,iteration_all,num_feat,data_generation_process)"
   ]
  },
  {
   "cell_type": "code",
   "execution_count": null,
   "id": "15547b8c",
   "metadata": {},
   "outputs": [],
   "source": [
    "for e in e_all:\n",
    "    alpha = e \n",
    "    if e != 0.5:\n",
    "        DataPath = DataPath_Parent + f\"data_size={num_train}_deg={deg}_e={e}_p={p}_num_test={num_test}\"+\"_x_dist=\"+x_dist+\"_e_dist=\"+e_dist+\"/\"\n",
    "        print(\"DataPath:\", DataPath)\n",
    "        run_EPO_approaches(DataPath,[\"spo+\"],arcs, grid,mis,bump,iteration_all,num_feat,data_generation_process)"
   ]
  },
  {
   "cell_type": "code",
   "execution_count": null,
   "id": "68aee674",
   "metadata": {},
   "outputs": [],
   "source": [
    "regret_e_ante = np.zeros(len(e_all)); h2h_e_ante = np.zeros(len(e_all))\n",
    "mu = mu_all[0]\n",
    "lamb = lamb_all[0]\n",
    "_index = 0\n",
    "for e in e_all:\n",
    "    alpha = e \n",
    "    DataPath = DataPath_Parent + f\"data_size={num_train}_deg={deg}_e={e}_p={p}_num_test={num_test}\"+\"_x_dist=\"+x_dist+\"_e_dist=\"+e_dist+\"/\"\n",
    "    print(\"DataPath:\", DataPath)\n",
    "\n",
    "    cost_Oracle_Post_all,cost_Oracle_Ante_all,cost_OLS_Post_all,cost_OLS_Ante_all,cost_DDR_Post_all,cost_DDR_Ante_all = Data_LSM.load_cost_data(DataPath)\n",
    "    \n",
    "    h2h_e_ante[_index], regret_e_ante[_index] = h2h_regret_eva.calculate_h2h_regret(mu,lamb,iteration_all,\\\n",
    "                         cost_DDR_Post_all,cost_OLS_Post_all,cost_Oracle_Post_all,\\\n",
    "                            cost_DDR_Ante_all,cost_OLS_Ante_all,cost_Oracle_Ante_all)\n",
    "    _index = _index + 1"
   ]
  },
  {
   "cell_type": "markdown",
   "id": "d93a7c33",
   "metadata": {},
   "source": [
    "#### Impact of model misspecification"
   ]
  },
  {
   "cell_type": "code",
   "execution_count": null,
   "id": "755b4aa4",
   "metadata": {},
   "outputs": [],
   "source": [
    "e = 0.5\n",
    "alpha = e\n",
    "num_train = 100\n",
    "num_feat = 5\n",
    "p = num_feat\n",
    "deg_all = [0.4,0.6,0.8,1.0,1.2,1.4,1.6,2.0,3.0,4.0,8.0]\n",
    "for deg in deg_all:\n",
    "    mis = deg # model misspecification\n",
    "    if deg != 1.0:\n",
    "        DataPath = DataPath_Parent + f\"data_size={num_train}_deg={deg}_e={e}_p={p}_num_test={num_test}\"+\"_x_dist=\"+x_dist+\"_e_dist=\"+e_dist+\"/\"\n",
    "        pathlib.Path(DataPath).mkdir(parents=True, exist_ok=True)\n",
    "        print(\"DataPath:\", DataPath)\n",
    "\n",
    "        x_test_all, c_test_all, x_train_all, c_train_all,noise_train_all,noise_test_all,W_star_all \\\n",
    "        = DS_Obj.Simulator(DataPath,lower, upper, p, d, coef_seed,iteration_all,num_test, num_train, alpha,mis,data_generation_process,x_dist, e_dist, x_low, x_up, x_mean, x_var, bump)\n",
    "\n",
    "        Data_LSM.store_input_data(DataPath,x_test_all,c_test_all,x_train_all,c_train_all,noise_test_all,noise_train_all,W_star_all)"
   ]
  },
  {
   "cell_type": "code",
   "execution_count": null,
   "id": "6d90cbae",
   "metadata": {},
   "outputs": [],
   "source": [
    "for deg in deg_all:\n",
    "    mis = deg # model misspecification\n",
    "    if deg != 1.0:\n",
    "        DataPath = DataPath_Parent + f\"data_size={num_train}_deg={deg}_e={e}_p={p}_num_test={num_test}\"+\"_x_dist=\"+x_dist+\"_e_dist=\"+e_dist+\"/\"\n",
    "        print(\"DataPath:\", DataPath)\n",
    "        run_all_approaches(DataPath,mu_all,lamb_all,arcs, grid,mis,bump,iteration_all,num_feat,data_generation_process)"
   ]
  },
  {
   "cell_type": "code",
   "execution_count": null,
   "id": "e9eaf206",
   "metadata": {},
   "outputs": [],
   "source": [
    "for deg in deg_all:\n",
    "    mis = deg # model misspecification\n",
    "    if deg != 1.0:\n",
    "        DataPath = DataPath_Parent + f\"data_size={num_train}_deg={deg}_e={e}_p={p}_num_test={num_test}\"+\"_x_dist=\"+x_dist+\"_e_dist=\"+e_dist+\"/\"\n",
    "        print(\"DataPath:\", DataPath)\n",
    "        run_EPO_approaches(DataPath,[\"spo+\"],arcs, grid,mis,bump,iteration_all,num_feat,data_generation_process)"
   ]
  },
  {
   "cell_type": "code",
   "execution_count": null,
   "id": "54f3a5a0",
   "metadata": {},
   "outputs": [],
   "source": [
    "regret_d_ante = np.zeros(len(deg_all)); h2h_d_ante = np.zeros(len(deg_all))\n",
    "mu = mu_all[0]\n",
    "lamb = lamb_all[0]\n",
    "_index = 0\n",
    "for deg in deg_all:\n",
    "    mis = deg # model misspecification\n",
    "    DataPath = DataPath_Parent + f\"data_size={num_train}_deg={deg}_e={e}_p={p}_num_test={num_test}\"+\"_x_dist=\"+x_dist+\"_e_dist=\"+e_dist+\"/\"\n",
    "    print(\"DataPath:\", DataPath)\n",
    "\n",
    "    cost_Oracle_Post_all,cost_Oracle_Ante_all,cost_OLS_Post_all,cost_OLS_Ante_all,cost_DDR_Post_all,cost_DDR_Ante_all = Data_LSM.load_cost_data(DataPath)\n",
    "    \n",
    "    h2h_d_ante[_index], regret_d_ante[_index] = h2h_regret_eva.calculate_h2h_regret(mu,lamb,iteration_all,\\\n",
    "                         cost_DDR_Post_all,cost_OLS_Post_all,cost_Oracle_Post_all,\\\n",
    "                            cost_DDR_Ante_all,cost_OLS_Ante_all,cost_Oracle_Ante_all)\n",
    "    _index = _index + 1"
   ]
  },
  {
   "cell_type": "markdown",
   "id": "9fd40b43",
   "metadata": {},
   "source": [
    "## Figures"
   ]
  },
  {
   "cell_type": "markdown",
   "id": "a6db9844",
   "metadata": {},
   "source": [
    "### Plot Figure"
   ]
  },
  {
   "cell_type": "code",
   "execution_count": null,
   "id": "d9dd2372",
   "metadata": {},
   "outputs": [],
   "source": [
    "Result_dir = DataPath_Parent + \"Result/\"\n",
    "pathlib.Path(Result_dir).mkdir(parents=True, exist_ok=True)"
   ]
  },
  {
   "cell_type": "code",
   "execution_count": null,
   "id": "f6e04975",
   "metadata": {},
   "outputs": [],
   "source": [
    "import matplotlib.pyplot as plt\n",
    "fig = plt.figure(figsize = (5, 5))\n",
    "p_indices = [0,1,3,4,5]\n",
    "plt.plot(h2h_P_ante[p_indices], regret_P_ante[p_indices], color='green', marker = \"*\", label = 'p', linestyle = 'None')\n",
    "plt.text(h2h_P_ante[p_indices[0]] + 0.01, regret_P_ante[p_indices[0]] - 0.005, 'p='+str(num_feat_all[p_indices[0]]), color='green')\n",
    "plt.text(h2h_P_ante[p_indices[1]] + 0.01, regret_P_ante[p_indices[1]] - 0.005, 'p='+str(num_feat_all[p_indices[1]]), color='green')\n",
    "plt.text(h2h_P_ante[p_indices[2]] - 0.05, regret_P_ante[p_indices[2]] - 0.005, 'p='+str(num_feat_all[p_indices[2]]), color='green')\n",
    "plt.text(h2h_P_ante[p_indices[3]] - 0.05, regret_P_ante[p_indices[3]] - 0.005, 'p='+str(num_feat_all[p_indices[3]]), color='green')\n",
    "plt.text(h2h_P_ante[p_indices[4]] - 0.065, regret_P_ante[p_indices[4]] - 0.005, 'p='+str(num_feat_all[p_indices[4]]), color='green')\n",
    "\n",
    "plt.plot(h2h_d_ante[0], regret_d_ante[0], color='#003D7C', marker = \"o\", label = 'd', linestyle = 'None')\n",
    "# plt.plot(h2h_d[1], mci_d[1], color='#003D7C', marker = \"o\", linestyle = 'None')\n",
    "plt.plot(h2h_d_ante[1], regret_d_ante[1], color='#003D7C', marker = \"o\", linestyle = 'None')\n",
    "plt.plot(h2h_d_ante[2], regret_d_ante[2], color='#003D7C', marker = \"o\", linestyle = 'None')\n",
    "plt.plot(h2h_d_ante[4], regret_d_ante[4], color='#003D7C', marker = \"o\", linestyle = 'None')\n",
    "plt.plot(h2h_d_ante[5], regret_d_ante[5], color='#003D7C', marker = \"o\", linestyle = 'None')\n",
    "plt.plot(h2h_d_ante[6], regret_d_ante[6], color='#003D7C', marker = \"o\", linestyle = 'None')\n",
    "plt.plot(h2h_d_ante[7], regret_d_ante[7], color='#003D7C', marker = \"o\", linestyle = 'None')\n",
    "plt.plot(h2h_d_ante[8], regret_d_ante[8], color='#003D7C', marker = \"o\", linestyle = 'None')\n",
    "\n",
    "\n",
    "plt.text(h2h_d_ante[0] + 0.01, regret_d_ante[0] - 0.005, 'd = '+str(deg_all[0]), color='#003D7C')\n",
    "# plt.text(h2h_d[1] + 0.007, mci_d[1] - 0.003, 'd = 15', color='#003D7C')\n",
    "plt.text(h2h_d_ante[1] + 0.01, regret_d_ante[1] - 0.005, 'd = '+str(deg_all[1]), color='#003D7C')\n",
    "plt.text(h2h_d_ante[2] - 0.065, regret_d_ante[2] - 0.005, 'd = '+str(deg_all[2]), color='#003D7C')\n",
    "plt.text(h2h_d_ante[4] + 0.01, regret_d_ante[4] - 0.005, 'd = '+str(deg_all[4]), color='#003D7C')\n",
    "plt.text(h2h_d_ante[5] - 0.065, regret_d_ante[5] - 0.005, 'd = '+str(deg_all[5]), color='#003D7C')\n",
    "plt.text(h2h_d_ante[6] - 0.065, regret_d_ante[6] - 0.005, 'd = '+str(deg_all[6]), color='#003D7C')\n",
    "plt.text(h2h_d_ante[7] - 0.065, regret_d_ante[7] - 0.005, 'd = '+str(deg_all[7]), color='#003D7C')\n",
    "plt.text(h2h_d_ante[8] - 0.065, regret_d_ante[8] - 0.005, 'd = '+str(deg_all[8]), color='#003D7C')\n",
    "\n",
    "\n",
    "plt.plot(h2h_N_ante[0], regret_N_ante[0], color='#EF7C00', marker = \"^\", label = 'N',linestyle = 'None')\n",
    "plt.text(h2h_N_ante[1] + 0.01, regret_N_ante[1] - 0.01, 'Baseline', color='red')\n",
    "# plt.plot(h2h_N[1], mci_N[1], color='#EF7C00', marker = \"^\",linestyle = 'None')\n",
    "plt.plot(h2h_N_ante[2], regret_N_ante[2], color='#EF7C00', marker = \"^\",linestyle = 'None')\n",
    "plt.plot(h2h_N_ante[3], regret_N_ante[3], color='#EF7C00', marker = \"^\",linestyle = 'None')\n",
    "plt.plot(h2h_N_ante[4], regret_N_ante[4], color='#EF7C00', marker = \"^\",linestyle = 'None')\n",
    "plt.text(h2h_N_ante[0] + 0.01, regret_N_ante[0] - 0.01, 'N = 50', color='#EF7C00')\n",
    "# plt.text(h2h_N[1] + 0.005, mci_N[1] - 0.003, 'N = 100', color='#EF7C00')\n",
    "plt.text(h2h_N_ante[2] + 0.01, regret_N_ante[2] - 0.01, 'N = 200', color='#EF7C00')\n",
    "plt.text(h2h_N_ante[3] + 0.01, regret_N_ante[3] - 0.01, 'N = 500', color='#EF7C00')\n",
    "plt.text(h2h_N_ante[4] + 0.01, regret_N_ante[4] - 0.01, 'N = 1000', color='#EF7C00')\n",
    "\n",
    "\n",
    "plt.plot(h2h_e_ante[0], regret_e_ante[0], color='grey', marker = \"d\", label = r'$\\alpha$',linestyle = 'None')\n",
    "# plt.plot(h2h_alpha[1], mci_alpha[1], color='grey', marker = \"d\",linestyle = 'None')\n",
    "plt.plot(h2h_e_ante[2], regret_e_ante[2], color='grey', marker = \"d\",linestyle = 'None')\n",
    "plt.plot(h2h_e_ante[3], regret_e_ante[3], color='grey', marker = \"d\",linestyle = 'None')\n",
    "plt.text(h2h_e_ante[0] + 0.01, regret_e_ante[0] - 0.01, r'$\\alpha$ = 0.25', color='grey')\n",
    "# plt.text(h2h_alpha[1] + 0.005, mci_alpha[1] - 0.005, r'$\\alpha$ = 1', color='grey')\n",
    "plt.text(h2h_e_ante[2] - 0.075, regret_e_ante[2] - 0.01, r'$\\alpha$ = 0.75', color='grey')\n",
    "plt.text(h2h_e_ante[3] + 0.01, regret_e_ante[3] - 0.01, r'$\\alpha$ = 1.0', color='grey')\n",
    "\n",
    "plt.vlines(0.5, 0.0, 0.7, linestyle=\"dashed\", alpha = 0.8,color = 'k')\n",
    "plt.hlines(0.0, 0.4, 0.8, linestyle=\"dashed\", alpha = 0.8,color = 'k')\n",
    "plt.legend()\n",
    "\n",
    "plt.xlabel('Head-to-head')\n",
    "plt.ylabel('Regret reduction')\n",
    "\n",
    "plt.plot(h2h_N_ante[1], regret_N_ante[1], color='red', marker = \"o\", linestyle = 'None')\n",
    "# plt.annotate('Ridge vs. DDR', xy = (0.25,0.9), xycoords = 'axes fraction', bbox=dict(boxstyle=\"round\", fc=\"w\"), size = 10)\n",
    "\n",
    "# fig.savefig(DataPath_parent+'DDR_vs_OLS_DPSN.eps', format='eps', bbox_inches=\"tight\")\n",
    "fig.savefig(Result_dir +'DDR_vs_OLS_diff_settings_ante.pdf', format='pdf', bbox_inches=\"tight\")\n",
    "plt.show()"
   ]
  },
  {
   "cell_type": "code",
   "execution_count": null,
   "id": "afe1b7a5",
   "metadata": {},
   "outputs": [],
   "source": [
    "import matplotlib.pyplot as plt\n",
    "fig = plt.figure(figsize = (5, 5))\n",
    "p_indices = [0,1,3,4,5]\n",
    "plt.plot(h2h_P_ante[p_indices], regret_P_ante[p_indices], color='green', marker = \"*\", label = 'p', linestyle = 'None')\n",
    "plt.text(h2h_P_ante[p_indices[0]] + 0.01, regret_P_ante[p_indices[0]] - 0.005, 'p='+str(num_feat_all[p_indices[0]]), color='green')\n",
    "plt.text(h2h_P_ante[p_indices[1]] + 0.01, regret_P_ante[p_indices[1]] - 0.005, 'p='+str(num_feat_all[p_indices[1]]), color='green')\n",
    "plt.text(h2h_P_ante[p_indices[2]] - 0.05, regret_P_ante[p_indices[2]] - 0.005, 'p='+str(num_feat_all[p_indices[2]]), color='green')\n",
    "plt.text(h2h_P_ante[p_indices[3]] - 0.05, regret_P_ante[p_indices[3]] - 0.005, 'p='+str(num_feat_all[p_indices[3]]), color='green')\n",
    "plt.text(h2h_P_ante[p_indices[4]] - 0.065, regret_P_ante[p_indices[4]] - 0.005, 'p='+str(num_feat_all[p_indices[4]]), color='green')\n",
    "\n",
    "plt.plot(h2h_d_ante[0], regret_d_ante[0], color='#003D7C', marker = \"o\", label = 'd', linestyle = 'None')\n",
    "# plt.plot(h2h_d[1], mci_d[1], color='#003D7C', marker = \"o\", linestyle = 'None')\n",
    "plt.plot(h2h_d_ante[1], regret_d_ante[1], color='#003D7C', marker = \"o\", linestyle = 'None')\n",
    "plt.plot(h2h_d_ante[2], regret_d_ante[2], color='#003D7C', marker = \"o\", linestyle = 'None')\n",
    "plt.plot(h2h_d_ante[4], regret_d_ante[4], color='#003D7C', marker = \"o\", linestyle = 'None')\n",
    "plt.plot(h2h_d_ante[5], regret_d_ante[5], color='#003D7C', marker = \"o\", linestyle = 'None')\n",
    "plt.plot(h2h_d_ante[6], regret_d_ante[6], color='#003D7C', marker = \"o\", linestyle = 'None')\n",
    "plt.plot(h2h_d_ante[7], regret_d_ante[7], color='#003D7C', marker = \"o\", linestyle = 'None')\n",
    "plt.plot(h2h_d_ante[8], regret_d_ante[8], color='#003D7C', marker = \"o\", linestyle = 'None')\n",
    "\n",
    "\n",
    "plt.text(h2h_d_ante[0] + 0.01, regret_d_ante[0] - 0.005, 'd = '+str(deg_all[0]), color='#003D7C')\n",
    "# plt.text(h2h_d[1] + 0.007, mci_d[1] - 0.003, 'd = 15', color='#003D7C')\n",
    "plt.text(h2h_d_ante[1] + 0.01, regret_d_ante[1] - 0.005, 'd = '+str(deg_all[1]), color='#003D7C')\n",
    "plt.text(h2h_d_ante[2] - 0.065, regret_d_ante[2] - 0.005, 'd = '+str(deg_all[2]), color='#003D7C')\n",
    "plt.text(h2h_d_ante[4] + 0.01, regret_d_ante[4] - 0.005, 'd = '+str(deg_all[4]), color='#003D7C')\n",
    "plt.text(h2h_d_ante[5] - 0.065, regret_d_ante[5] - 0.005, 'd = '+str(deg_all[5]), color='#003D7C')\n",
    "plt.text(h2h_d_ante[6] - 0.065, regret_d_ante[6] - 0.005, 'd = '+str(deg_all[6]), color='#003D7C')\n",
    "plt.text(h2h_d_ante[7] - 0.065, regret_d_ante[7] - 0.005, 'd = '+str(deg_all[7]), color='#003D7C')\n",
    "plt.text(h2h_d_ante[8] - 0.065, regret_d_ante[8] - 0.005, 'd = '+str(deg_all[8]), color='#003D7C')\n",
    "\n",
    "\n",
    "plt.plot(h2h_N_ante[0], regret_N_ante[0], color='#EF7C00', marker = \"^\", label = 'N',linestyle = 'None')\n",
    "plt.text(h2h_N_ante[1] + 0.01, regret_N_ante[1] - 0.01, 'Baseline', color='red')\n",
    "# plt.plot(h2h_N[1], mci_N[1], color='#EF7C00', marker = \"^\",linestyle = 'None')\n",
    "plt.plot(h2h_N_ante[2], regret_N_ante[2], color='#EF7C00', marker = \"^\",linestyle = 'None')\n",
    "plt.plot(h2h_N_ante[3], regret_N_ante[3], color='#EF7C00', marker = \"^\",linestyle = 'None')\n",
    "plt.plot(h2h_N_ante[4], regret_N_ante[4], color='#EF7C00', marker = \"^\",linestyle = 'None')\n",
    "plt.text(h2h_N_ante[0] + 0.01, regret_N_ante[0] - 0.01, 'N = 50', color='#EF7C00')\n",
    "# plt.text(h2h_N[1] + 0.005, mci_N[1] - 0.003, 'N = 100', color='#EF7C00')\n",
    "plt.text(h2h_N_ante[2] + 0.01, regret_N_ante[2] - 0.01, 'N = 200', color='#EF7C00')\n",
    "plt.text(h2h_N_ante[3] + 0.01, regret_N_ante[3] - 0.01, 'N = 500', color='#EF7C00')\n",
    "plt.text(h2h_N_ante[4] + 0.01, regret_N_ante[4] - 0.01, 'N = 1000', color='#EF7C00')\n",
    "\n",
    "\n",
    "plt.plot(h2h_e_ante[0], regret_e_ante[0], color='grey', marker = \"d\", label = r'$\\alpha$',linestyle = 'None')\n",
    "# plt.plot(h2h_alpha[1], mci_alpha[1], color='grey', marker = \"d\",linestyle = 'None')\n",
    "plt.plot(h2h_e_ante[2], regret_e_ante[2], color='grey', marker = \"d\",linestyle = 'None')\n",
    "plt.plot(h2h_e_ante[3], regret_e_ante[3], color='grey', marker = \"d\",linestyle = 'None')\n",
    "plt.text(h2h_e_ante[0] + 0.01, regret_e_ante[0] - 0.01, r'$\\alpha$ = 0.25', color='grey')\n",
    "# plt.text(h2h_alpha[1] + 0.005, mci_alpha[1] - 0.005, r'$\\alpha$ = 1', color='grey')\n",
    "plt.text(h2h_e_ante[2] - 0.075, regret_e_ante[2] - 0.01, r'$\\alpha$ = 0.75', color='grey')\n",
    "plt.text(h2h_e_ante[3] + 0.01, regret_e_ante[3] - 0.01, r'$\\alpha$ = 1.0', color='grey')\n",
    "\n",
    "plt.vlines(0.5, 0.0, 0.7, linestyle=\"dashed\", alpha = 0.8,color = 'k')\n",
    "plt.hlines(0.0, 0.4, 0.8, linestyle=\"dashed\", alpha = 0.8,color = 'k')\n",
    "plt.legend()\n",
    "\n",
    "plt.xlabel('Head-to-head')\n",
    "plt.ylabel('Regret reduction')\n",
    "\n",
    "plt.plot(h2h_N_ante[1], regret_N_ante[1], color='red', marker = \"o\", linestyle = 'None')\n",
    "# plt.annotate('Ridge vs. DDR', xy = (0.25,0.9), xycoords = 'axes fraction', bbox=dict(boxstyle=\"round\", fc=\"w\"), size = 10)\n",
    "\n",
    "# fig.savefig(DataPath_parent+'DDR_vs_OLS_DPSN.eps', format='eps', bbox_inches=\"tight\")\n",
    "fig.savefig(Result_dir +f'DDR_vs_OLS_diff_settings_ante_mu={mu}_lamb={lamb}.pdf', format='pdf', bbox_inches=\"tight\")\n",
    "plt.show()"
   ]
  }
 ],
 "metadata": {
  "kernelspec": {
   "display_name": ".venv",
   "language": "python",
   "name": "python3"
  },
  "language_info": {
   "codemirror_mode": {
    "name": "ipython",
    "version": 3
   },
   "file_extension": ".py",
   "mimetype": "text/x-python",
   "name": "python",
   "nbconvert_exporter": "python",
   "pygments_lexer": "ipython3",
   "version": "3.9.6"
  }
 },
 "nbformat": 4,
 "nbformat_minor": 5
}
