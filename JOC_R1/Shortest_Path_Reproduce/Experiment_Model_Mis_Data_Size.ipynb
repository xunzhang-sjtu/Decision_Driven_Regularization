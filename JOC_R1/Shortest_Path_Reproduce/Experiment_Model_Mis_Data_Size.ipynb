{
 "cells": [
  {
   "cell_type": "code",
   "execution_count": 1,
   "id": "e5423203",
   "metadata": {},
   "outputs": [],
   "source": [
    "import random\n",
    "import numpy as np\n",
    "import torch\n",
    "import os\n",
    "import pathlib\n",
    "import pickle\n",
    "import pandas as pd\n",
    "torch.manual_seed(42)\n",
    "torch.cuda.manual_seed(42)\n",
    "from Performance import performance_evaluation\n",
    "perfs = performance_evaluation()\n",
    "\n",
    "from Performance import H2h_Regret_Evaluation\n",
    "h2h_regret_eva = H2h_Regret_Evaluation()\n",
    "\n",
    "from Data import Data_Simulator\n",
    "DS_Obj = Data_Simulator()\n",
    "\n",
    "from Oracle import Oracle_Processing\n",
    "Oracle_Proc = Oracle_Processing()\n",
    "\n",
    "from OLS import OLS_Processing\n",
    "OLS_Proc = OLS_Processing()\n",
    "\n",
    "from DDR import DDR_Processing\n",
    "DDR_Proc = DDR_Processing()\n",
    "\n",
    "from PYEPO import EPO_Processing\n",
    "PYEPO_Proc = EPO_Processing()\n",
    "\n",
    "from Data_Load_Store import Load_Store_Methods\n",
    "Data_LSM = Load_Store_Methods()\n",
    "\n",
    "import Figure_H2H_Regret"
   ]
  },
  {
   "cell_type": "code",
   "execution_count": 2,
   "id": "9e1d3bf5",
   "metadata": {},
   "outputs": [],
   "source": [
    "import Sequential_Learning_Approaches as SLA\n",
    "import Integrated_Learning_Approaches as ILA"
   ]
  },
  {
   "cell_type": "markdown",
   "id": "886e7311",
   "metadata": {},
   "source": [
    "### Parameters"
   ]
  },
  {
   "cell_type": "code",
   "execution_count": 3,
   "id": "782cc897",
   "metadata": {},
   "outputs": [],
   "source": [
    "grid = (3,3) # grid size\n",
    "from Network import network_design\n",
    "Network = network_design()\n",
    "arcs,arc_index_mapping = Network._getArcs(grid)\n",
    "\n",
    "num_test = 1000\n",
    "lower = 0 # coef lower bound\n",
    "upper = 1 # coef upper bound\n",
    "d = (grid[0] - 1) * (grid[0] - 1) * 2 + 2 * (grid[0] - 1) # num of arcs\n",
    "num_nodes = grid[0]*grid[0]\n",
    "coef_seed = 1\n",
    "\n",
    "x_dist = 'uniform'\n",
    "e_dist = 'normal'\n",
    "x_low = -2\n",
    "x_up = 2\n",
    "x_mean = 2\n",
    "x_var = 2\n",
    "bump = 100"
   ]
  },
  {
   "cell_type": "code",
   "execution_count": 4,
   "id": "554bf254",
   "metadata": {},
   "outputs": [
    {
     "name": "stdout",
     "output_type": "stream",
     "text": [
      "DataPath_parent: /Users/zhangxun/Dropbox/Research/Decision_Driven_Regularization/Data_JOC_R1/Shortest_Path_Rep/Model_Mis_Data_SizeSPO_Data_Generation/3by3_grid/\n"
     ]
    }
   ],
   "source": [
    "data_generation_process = \"SPO_Data_Generation\"\n",
    "# data_generation_process = \"DDR_Data_Generation\"\n",
    "current_directory = os.getcwd()\n",
    "parent_directory = os.path.dirname(current_directory)\n",
    "project_directory = os.path.dirname(os.path.dirname(os.path.dirname(parent_directory)))\n",
    "DataPath_Parent = project_directory + '/Data_JOC_R1/Shortest_Path_Rep/Model_Mis_Data_Size' + data_generation_process + f'/{grid[0]}by{grid[1]}_grid/'\n",
    "pathlib.Path(DataPath_Parent).mkdir(parents=True, exist_ok=True)\n",
    "print(\"DataPath_parent:\", DataPath_Parent)\n",
    "Result_dir = DataPath_Parent + \"Result/\"\n",
    "pathlib.Path(Result_dir).mkdir(parents=True, exist_ok=True)"
   ]
  },
  {
   "cell_type": "markdown",
   "id": "e36b76bb",
   "metadata": {},
   "source": [
    "## Impact of model misspecification when N increase"
   ]
  },
  {
   "cell_type": "code",
   "execution_count": 5,
   "id": "19a90759",
   "metadata": {},
   "outputs": [],
   "source": [
    "num_feat = 5 # size of feature\n",
    "p = num_feat\n",
    "e = 0.5 # scale of normal std or the range of uniform. For the error term\n",
    "alpha = e # scale of normal std or the range of uniform. For the error term\n",
    "iteration_all = np.arange(0,100)\n",
    "batch_size = 20\n",
    "num_epochs = 1000\n",
    "num_train_all = [100,300,500]\n",
    "mu_all = [0.75]\n",
    "lamb_all = [0.8]\n",
    "deg_all = [1.0,2.0,4.0,8.0] # polynomial degree"
   ]
  },
  {
   "cell_type": "code",
   "execution_count": 6,
   "id": "5f102172",
   "metadata": {},
   "outputs": [],
   "source": [
    "deg_all = [12.0]"
   ]
  },
  {
   "cell_type": "markdown",
   "id": "0e31bc37",
   "metadata": {},
   "source": [
    "##### Data Generation"
   ]
  },
  {
   "cell_type": "code",
   "execution_count": 7,
   "id": "43a82c3b",
   "metadata": {},
   "outputs": [
    {
     "name": "stdout",
     "output_type": "stream",
     "text": [
      "DataPath: /Users/zhangxun/Dropbox/Research/Decision_Driven_Regularization/Data_JOC_R1/Shortest_Path_Rep/Model_Mis_Data_SizeSPO_Data_Generation/3by3_grid/data_size=100_deg=12.0_e=0.5_p=5_num_test=1000_x_dist=uniform_e_dist=normal/\n",
      "DataPath: /Users/zhangxun/Dropbox/Research/Decision_Driven_Regularization/Data_JOC_R1/Shortest_Path_Rep/Model_Mis_Data_SizeSPO_Data_Generation/3by3_grid/data_size=300_deg=12.0_e=0.5_p=5_num_test=1000_x_dist=uniform_e_dist=normal/\n",
      "DataPath: /Users/zhangxun/Dropbox/Research/Decision_Driven_Regularization/Data_JOC_R1/Shortest_Path_Rep/Model_Mis_Data_SizeSPO_Data_Generation/3by3_grid/data_size=500_deg=12.0_e=0.5_p=5_num_test=1000_x_dist=uniform_e_dist=normal/\n"
     ]
    }
   ],
   "source": [
    "for num_train in num_train_all:\n",
    "    for deg in deg_all:\n",
    "        mis = deg # model misspecification\n",
    "        DataPath = DataPath_Parent + f\"data_size={num_train}_deg={deg}_e={e}_p={p}_num_test={num_test}\"+\"_x_dist=\"+x_dist+\"_e_dist=\"+e_dist+\"/\"\n",
    "        pathlib.Path(DataPath).mkdir(parents=True, exist_ok=True)\n",
    "        print(\"DataPath:\", DataPath)\n",
    "        if os.path.exists(DataPath+\"x_test_all.pkl\"):\n",
    "            print(\"Already Exist\")\n",
    "        else:\n",
    "            x_test_all, c_test_all, x_train_all, c_train_all,noise_train_all,noise_test_all,W_star_all = \\\n",
    "            DS_Obj.Simulator(DataPath,lower, upper, p, d, coef_seed,iteration_all,num_test, num_train, alpha,mis,data_generation_process,x_dist, e_dist, x_low, x_up, x_mean, x_var, bump)\n",
    "            Data_LSM.store_input_data(DataPath,x_test_all,c_test_all,x_train_all,c_train_all,noise_test_all,noise_train_all,W_star_all)"
   ]
  },
  {
   "cell_type": "markdown",
   "id": "cea683e1",
   "metadata": {},
   "source": [
    "##### Run Oracle"
   ]
  },
  {
   "cell_type": "code",
   "execution_count": 8,
   "id": "4e39a0e4",
   "metadata": {},
   "outputs": [
    {
     "name": "stdout",
     "output_type": "stream",
     "text": [
      "DataPath: /Users/zhangxun/Dropbox/Research/Decision_Driven_Regularization/Data_JOC_R1/Shortest_Path_Rep/Model_Mis_Data_SizeSPO_Data_Generation/3by3_grid/data_size=100_deg=12.0_e=0.5_p=5_num_test=1000_x_dist=uniform_e_dist=normal/\n",
      "Set parameter Username\n",
      "Academic license - for non-commercial use only - expires 2026-03-13\n",
      "Oracle: iter= 20 ,cost_Oracle_Ante= 18170719.273198586\n",
      "Oracle: iter= 40 ,cost_Oracle_Ante= 6215443.112488868\n",
      "Oracle: iter= 60 ,cost_Oracle_Ante= 8785448.328633292\n",
      "Oracle: iter= 80 ,cost_Oracle_Ante= 20894399.71882818\n",
      "DataPath: /Users/zhangxun/Dropbox/Research/Decision_Driven_Regularization/Data_JOC_R1/Shortest_Path_Rep/Model_Mis_Data_SizeSPO_Data_Generation/3by3_grid/data_size=300_deg=12.0_e=0.5_p=5_num_test=1000_x_dist=uniform_e_dist=normal/\n",
      "Oracle: iter= 20 ,cost_Oracle_Ante= 18041008.272043377\n",
      "Oracle: iter= 40 ,cost_Oracle_Ante= 6978727.051081308\n",
      "Oracle: iter= 60 ,cost_Oracle_Ante= 8307734.853664137\n",
      "Oracle: iter= 80 ,cost_Oracle_Ante= 27624742.351554703\n",
      "DataPath: /Users/zhangxun/Dropbox/Research/Decision_Driven_Regularization/Data_JOC_R1/Shortest_Path_Rep/Model_Mis_Data_SizeSPO_Data_Generation/3by3_grid/data_size=500_deg=12.0_e=0.5_p=5_num_test=1000_x_dist=uniform_e_dist=normal/\n",
      "Oracle: iter= 20 ,cost_Oracle_Ante= 15824687.794629956\n",
      "Oracle: iter= 40 ,cost_Oracle_Ante= 6855402.239714133\n",
      "Oracle: iter= 60 ,cost_Oracle_Ante= 7801635.279306324\n",
      "Oracle: iter= 80 ,cost_Oracle_Ante= 27658839.125345387\n"
     ]
    }
   ],
   "source": [
    "for num_train in num_train_all:\n",
    "    for deg in deg_all:\n",
    "        mis = deg # model misspecification\n",
    "        DataPath = DataPath_Parent + f\"data_size={num_train}_deg={deg}_e={e}_p={p}_num_test={num_test}\"+\"_x_dist=\"+x_dist+\"_e_dist=\"+e_dist+\"/\"\n",
    "        print(\"DataPath:\", DataPath)\n",
    "        if os.path.exists(DataPath+\"cost_Oracle_Ante_all.pkl\"):\n",
    "            print(\"Results already exist\")\n",
    "        else:\n",
    "            SLA.Run_Oracle(DataPath,arcs, grid,mis,bump,iteration_all,num_feat,data_generation_process)"
   ]
  },
  {
   "cell_type": "markdown",
   "id": "dc7b64b6",
   "metadata": {},
   "source": [
    "##### Run OLS"
   ]
  },
  {
   "cell_type": "code",
   "execution_count": 9,
   "id": "479e43d9",
   "metadata": {},
   "outputs": [
    {
     "name": "stdout",
     "output_type": "stream",
     "text": [
      "DataPath: /Users/zhangxun/Dropbox/Research/Decision_Driven_Regularization/Data_JOC_R1/Shortest_Path_Rep/Model_Mis_Data_SizeSPO_Data_Generation/3by3_grid/data_size=100_deg=12.0_e=0.5_p=5_num_test=1000_x_dist=uniform_e_dist=normal/\n",
      "OLS: iter= 20 ,cost_OLS_Ante= 21747225.90275271\n",
      "OLS: iter= 40 ,cost_OLS_Ante= 8699679.094800778\n",
      "OLS: iter= 60 ,cost_OLS_Ante= 12032783.566472057\n",
      "OLS: iter= 80 ,cost_OLS_Ante= 23014595.87874238\n",
      "DataPath: /Users/zhangxun/Dropbox/Research/Decision_Driven_Regularization/Data_JOC_R1/Shortest_Path_Rep/Model_Mis_Data_SizeSPO_Data_Generation/3by3_grid/data_size=300_deg=12.0_e=0.5_p=5_num_test=1000_x_dist=uniform_e_dist=normal/\n",
      "OLS: iter= 20 ,cost_OLS_Ante= 25610409.428491965\n",
      "OLS: iter= 40 ,cost_OLS_Ante= 9684320.689046826\n",
      "OLS: iter= 60 ,cost_OLS_Ante= 12587753.110064974\n",
      "OLS: iter= 80 ,cost_OLS_Ante= 38597118.43076065\n",
      "DataPath: /Users/zhangxun/Dropbox/Research/Decision_Driven_Regularization/Data_JOC_R1/Shortest_Path_Rep/Model_Mis_Data_SizeSPO_Data_Generation/3by3_grid/data_size=500_deg=12.0_e=0.5_p=5_num_test=1000_x_dist=uniform_e_dist=normal/\n",
      "OLS: iter= 20 ,cost_OLS_Ante= 30491796.27007031\n",
      "OLS: iter= 40 ,cost_OLS_Ante= 11171396.446783826\n",
      "OLS: iter= 60 ,cost_OLS_Ante= 10840939.0244982\n",
      "OLS: iter= 80 ,cost_OLS_Ante= 36825509.88034712\n"
     ]
    }
   ],
   "source": [
    "for num_train in num_train_all:\n",
    "    for deg in deg_all:\n",
    "        mis = deg # model misspecification\n",
    "        DataPath = DataPath_Parent + f\"data_size={num_train}_deg={deg}_e={e}_p={p}_num_test={num_test}\"+\"_x_dist=\"+x_dist+\"_e_dist=\"+e_dist+\"/\"\n",
    "        print(\"DataPath:\", DataPath)\n",
    "        if os.path.exists(DataPath+\"cost_OLS_Ante_all.pkl\"):\n",
    "            print(\"Results already exist\")\n",
    "        else:\n",
    "            SLA.Run_OLS(DataPath,arcs, grid,mis,bump,iteration_all,num_feat,data_generation_process)"
   ]
  },
  {
   "cell_type": "markdown",
   "id": "4343cc89",
   "metadata": {},
   "source": [
    "##### Run DDR"
   ]
  },
  {
   "cell_type": "code",
   "execution_count": 10,
   "id": "a38577c6",
   "metadata": {},
   "outputs": [
    {
     "name": "stdout",
     "output_type": "stream",
     "text": [
      "DataPath: /Users/zhangxun/Dropbox/Research/Decision_Driven_Regularization/Data_JOC_R1/Shortest_Path_Rep/Model_Mis_Data_SizeSPO_Data_Generation/3by3_grid/data_size=100_deg=12.0_e=0.5_p=5_num_test=1000_x_dist=uniform_e_dist=normal/\n",
      "DDR: iter= 20 ,mu= 0.75 ,lamb= 0.8 ,cost_DDR_Ante = 21747225.90275271\n",
      "DDR: iter= 40 ,mu= 0.75 ,lamb= 0.8 ,cost_DDR_Ante = 8699679.094800778\n",
      "DDR: iter= 60 ,mu= 0.75 ,lamb= 0.8 ,cost_DDR_Ante = 12032783.566472057\n",
      "DDR: iter= 80 ,mu= 0.75 ,lamb= 0.8 ,cost_DDR_Ante = 23014595.87874238\n",
      "DataPath: /Users/zhangxun/Dropbox/Research/Decision_Driven_Regularization/Data_JOC_R1/Shortest_Path_Rep/Model_Mis_Data_SizeSPO_Data_Generation/3by3_grid/data_size=300_deg=12.0_e=0.5_p=5_num_test=1000_x_dist=uniform_e_dist=normal/\n",
      "DDR: iter= 20 ,mu= 0.75 ,lamb= 0.8 ,cost_DDR_Ante = 25610409.428491965\n",
      "DDR: iter= 40 ,mu= 0.75 ,lamb= 0.8 ,cost_DDR_Ante = 9684320.689046826\n",
      "DDR: iter= 60 ,mu= 0.75 ,lamb= 0.8 ,cost_DDR_Ante = 12587753.110064974\n",
      "DDR: iter= 80 ,mu= 0.75 ,lamb= 0.8 ,cost_DDR_Ante = 38597118.43076065\n",
      "DataPath: /Users/zhangxun/Dropbox/Research/Decision_Driven_Regularization/Data_JOC_R1/Shortest_Path_Rep/Model_Mis_Data_SizeSPO_Data_Generation/3by3_grid/data_size=500_deg=12.0_e=0.5_p=5_num_test=1000_x_dist=uniform_e_dist=normal/\n",
      "DDR: iter= 20 ,mu= 0.75 ,lamb= 0.8 ,cost_DDR_Ante = 30491796.27007031\n",
      "DDR: iter= 40 ,mu= 0.75 ,lamb= 0.8 ,cost_DDR_Ante = 11171396.446783826\n",
      "DDR: iter= 60 ,mu= 0.75 ,lamb= 0.8 ,cost_DDR_Ante = 10840939.0244982\n",
      "DDR: iter= 80 ,mu= 0.75 ,lamb= 0.8 ,cost_DDR_Ante = 36825509.88034712\n"
     ]
    }
   ],
   "source": [
    "for num_train in num_train_all:\n",
    "    for deg in deg_all:\n",
    "        mis = deg # model misspecification\n",
    "        DataPath = DataPath_Parent + f\"data_size={num_train}_deg={deg}_e={e}_p={p}_num_test={num_test}\"+\"_x_dist=\"+x_dist+\"_e_dist=\"+e_dist+\"/\"\n",
    "        print(\"DataPath:\", DataPath)\n",
    "        if os.path.exists(DataPath+\"cost_DDR_Ante_all.pkl\"):\n",
    "            print(\"Results already exist\")\n",
    "        else:\n",
    "            ILA.Run_DDR(DataPath,mu_all,lamb_all,arcs, grid,mis,bump,iteration_all,num_feat,data_generation_process)"
   ]
  },
  {
   "cell_type": "markdown",
   "id": "2134bafc",
   "metadata": {},
   "source": [
    "##### Run SPO+"
   ]
  },
  {
   "cell_type": "code",
   "execution_count": 11,
   "id": "f1f70950",
   "metadata": {},
   "outputs": [
    {
     "name": "stdout",
     "output_type": "stream",
     "text": [
      "DataPath: /Users/zhangxun/Dropbox/Research/Decision_Driven_Regularization/Data_JOC_R1/Shortest_Path_Rep/Model_Mis_Data_SizeSPO_Data_Generation/3by3_grid/data_size=100_deg=12.0_e=0.5_p=5_num_test=1000_x_dist=uniform_e_dist=normal/\n",
      "['spo+'] : iter= 20 ,cost_EPO_Ante= 42906668.181040905\n",
      "['spo+'] : iter= 40 ,cost_EPO_Ante= 34716557.80909604\n",
      "['spo+'] : iter= 60 ,cost_EPO_Ante= 21763798.322128683\n",
      "['spo+'] : iter= 80 ,cost_EPO_Ante= 29667860.168703727\n",
      "DataPath: /Users/zhangxun/Dropbox/Research/Decision_Driven_Regularization/Data_JOC_R1/Shortest_Path_Rep/Model_Mis_Data_SizeSPO_Data_Generation/3by3_grid/data_size=300_deg=12.0_e=0.5_p=5_num_test=1000_x_dist=uniform_e_dist=normal/\n",
      "['spo+'] : iter= 20 ,cost_EPO_Ante= 22845899.851636283\n",
      "['spo+'] : iter= 40 ,cost_EPO_Ante= 21968291.46015694\n",
      "['spo+'] : iter= 60 ,cost_EPO_Ante= 12564741.621258637\n",
      "['spo+'] : iter= 80 ,cost_EPO_Ante= 34461933.75704327\n",
      "DataPath: /Users/zhangxun/Dropbox/Research/Decision_Driven_Regularization/Data_JOC_R1/Shortest_Path_Rep/Model_Mis_Data_SizeSPO_Data_Generation/3by3_grid/data_size=500_deg=12.0_e=0.5_p=5_num_test=1000_x_dist=uniform_e_dist=normal/\n",
      "['spo+'] : iter= 20 ,cost_EPO_Ante= 18608036.857266653\n",
      "['spo+'] : iter= 40 ,cost_EPO_Ante= 14115352.139539478\n",
      "['spo+'] : iter= 60 ,cost_EPO_Ante= 11849174.188271996\n",
      "['spo+'] : iter= 80 ,cost_EPO_Ante= 33884603.686486475\n"
     ]
    }
   ],
   "source": [
    "for num_train in num_train_all:\n",
    "    method_names = [\"spo+\"]\n",
    "    for deg in deg_all:\n",
    "        mis = deg # model misspecification\n",
    "        DataPath = DataPath_Parent + f\"data_size={num_train}_deg={deg}_e={e}_p={p}_num_test={num_test}\"+\"_x_dist=\"+x_dist+\"_e_dist=\"+e_dist+\"/\"\n",
    "        print(\"DataPath:\", DataPath)\n",
    "        if os.path.exists(DataPath+\"cost_spo+_Ante_all.pkl\"):\n",
    "            print(\"Results already exist\")\n",
    "        else:\n",
    "            ILA.run_EPO_approaches(DataPath,method_names,arcs, grid,mis,bump,iteration_all,num_feat,data_generation_process)"
   ]
  },
  {
   "cell_type": "markdown",
   "id": "e20c5c64",
   "metadata": {},
   "source": [
    "##### Run PG"
   ]
  },
  {
   "cell_type": "code",
   "execution_count": 12,
   "id": "f0547b9d",
   "metadata": {},
   "outputs": [
    {
     "name": "stdout",
     "output_type": "stream",
     "text": [
      "DataPath: /Users/zhangxun/Dropbox/Research/Decision_Driven_Regularization/Data_JOC_R1/Shortest_Path_Rep/Model_Mis_Data_SizeSPO_Data_Generation/3by3_grid/data_size=100_deg=12.0_e=0.5_p=5_num_test=1000_x_dist=uniform_e_dist=normal/\n",
      "['pg'] : iter= 20 ,cost_EPO_Ante= 56213510.820411615\n",
      "['pg'] : iter= 40 ,cost_EPO_Ante= 45881107.72672202\n",
      "['pg'] : iter= 60 ,cost_EPO_Ante= 30612470.136869825\n",
      "['pg'] : iter= 80 ,cost_EPO_Ante= 38717880.05875552\n",
      "DataPath: /Users/zhangxun/Dropbox/Research/Decision_Driven_Regularization/Data_JOC_R1/Shortest_Path_Rep/Model_Mis_Data_SizeSPO_Data_Generation/3by3_grid/data_size=300_deg=12.0_e=0.5_p=5_num_test=1000_x_dist=uniform_e_dist=normal/\n",
      "['pg'] : iter= 20 ,cost_EPO_Ante= 28869029.54285892\n",
      "['pg'] : iter= 40 ,cost_EPO_Ante= 13574446.868666707\n",
      "['pg'] : iter= 60 ,cost_EPO_Ante= 13357681.983492881\n",
      "['pg'] : iter= 80 ,cost_EPO_Ante= 40607411.25380515\n",
      "DataPath: /Users/zhangxun/Dropbox/Research/Decision_Driven_Regularization/Data_JOC_R1/Shortest_Path_Rep/Model_Mis_Data_SizeSPO_Data_Generation/3by3_grid/data_size=500_deg=12.0_e=0.5_p=5_num_test=1000_x_dist=uniform_e_dist=normal/\n",
      "['pg'] : iter= 20 ,cost_EPO_Ante= 28876255.53353505\n",
      "['pg'] : iter= 40 ,cost_EPO_Ante= 29318349.91051071\n",
      "['pg'] : iter= 60 ,cost_EPO_Ante= 14268104.28393468\n",
      "['pg'] : iter= 80 ,cost_EPO_Ante= 37549362.31757733\n"
     ]
    }
   ],
   "source": [
    "for num_train in num_train_all:\n",
    "    method_names = [\"pg\"]\n",
    "    for deg in deg_all:\n",
    "        mis = deg # model misspecification\n",
    "        DataPath = DataPath_Parent + f\"data_size={num_train}_deg={deg}_e={e}_p={p}_num_test={num_test}\"+\"_x_dist=\"+x_dist+\"_e_dist=\"+e_dist+\"/\"\n",
    "        print(\"DataPath:\", DataPath)\n",
    "        if os.path.exists(DataPath+\"cost_pg_Ante_all.pkl\"):\n",
    "            print(\"Results already exist\")\n",
    "        else:\n",
    "            ILA.run_EPO_approaches(DataPath,method_names,arcs, grid,mis,bump,iteration_all,num_feat,data_generation_process)"
   ]
  },
  {
   "cell_type": "markdown",
   "id": "b1f3a5cf",
   "metadata": {},
   "source": [
    "##### Run LTR"
   ]
  },
  {
   "cell_type": "code",
   "execution_count": 13,
   "id": "38ce0ab8",
   "metadata": {},
   "outputs": [
    {
     "name": "stdout",
     "output_type": "stream",
     "text": [
      "DataPath: /Users/zhangxun/Dropbox/Research/Decision_Driven_Regularization/Data_JOC_R1/Shortest_Path_Rep/Model_Mis_Data_SizeSPO_Data_Generation/3by3_grid/data_size=100_deg=12.0_e=0.5_p=5_num_test=1000_x_dist=uniform_e_dist=normal/\n",
      "['ltr'] : iter= 20 ,cost_EPO_Ante= 38701831.027774245\n",
      "['ltr'] : iter= 40 ,cost_EPO_Ante= 23899175.708880268\n",
      "['ltr'] : iter= 60 ,cost_EPO_Ante= 33007465.119217\n",
      "['ltr'] : iter= 80 ,cost_EPO_Ante= 41957805.31423462\n",
      "DataPath: /Users/zhangxun/Dropbox/Research/Decision_Driven_Regularization/Data_JOC_R1/Shortest_Path_Rep/Model_Mis_Data_SizeSPO_Data_Generation/3by3_grid/data_size=300_deg=12.0_e=0.5_p=5_num_test=1000_x_dist=uniform_e_dist=normal/\n",
      "['ltr'] : iter= 20 ,cost_EPO_Ante= 34052497.87173206\n",
      "['ltr'] : iter= 40 ,cost_EPO_Ante= 21778156.89142482\n",
      "['ltr'] : iter= 60 ,cost_EPO_Ante= 20475912.279114936\n",
      "['ltr'] : iter= 80 ,cost_EPO_Ante= 43754985.94864426\n",
      "DataPath: /Users/zhangxun/Dropbox/Research/Decision_Driven_Regularization/Data_JOC_R1/Shortest_Path_Rep/Model_Mis_Data_SizeSPO_Data_Generation/3by3_grid/data_size=500_deg=12.0_e=0.5_p=5_num_test=1000_x_dist=uniform_e_dist=normal/\n",
      "['ltr'] : iter= 20 ,cost_EPO_Ante= 42673054.44726973\n",
      "['ltr'] : iter= 40 ,cost_EPO_Ante= 26296469.53905293\n",
      "['ltr'] : iter= 60 ,cost_EPO_Ante= 21803561.549303327\n",
      "['ltr'] : iter= 80 ,cost_EPO_Ante= 49138619.342322186\n"
     ]
    }
   ],
   "source": [
    "for num_train in num_train_all:\n",
    "    method_names = [\"ltr\"]\n",
    "    for deg in deg_all:\n",
    "        mis = deg # model misspecification\n",
    "        DataPath = DataPath_Parent + f\"data_size={num_train}_deg={deg}_e={e}_p={p}_num_test={num_test}\"+\"_x_dist=\"+x_dist+\"_e_dist=\"+e_dist+\"/\"\n",
    "        print(\"DataPath:\", DataPath)\n",
    "        if os.path.exists(DataPath+\"cost_ltr_Ante_all.pkl\"):\n",
    "            print(\"Results already exist\")\n",
    "        else:\n",
    "            ILA.run_EPO_approaches(DataPath,method_names,arcs, grid,mis,bump,iteration_all,num_feat,data_generation_process)"
   ]
  },
  {
   "cell_type": "markdown",
   "id": "deaeb691",
   "metadata": {},
   "source": [
    "### Comparison"
   ]
  },
  {
   "cell_type": "code",
   "execution_count": 14,
   "id": "b010e75e",
   "metadata": {},
   "outputs": [],
   "source": [
    "def obtain_DDR_vs_benchmarks_h2h_regret(DataPath_Parent,num_train_all,deg_all,e,num_test,x_dist,e_dist,mu_all,lamb_all,benchmark):\n",
    "    h2h_ = {}; cost_rd_ = {}; regret_rd_ = {}\n",
    "    for num_train in num_train_all:\n",
    "        for deg in deg_all:\n",
    "            DataPath = DataPath_Parent + f\"data_size={num_train}_deg={deg}_e={e}_p={p}_num_test={num_test}\"+\"_x_dist=\"+x_dist+\"_e_dist=\"+e_dist+\"/\"\n",
    "            print(\"DataPath:\", DataPath)     \n",
    "            cost_Oracle_Ante_all,cost_OLS_Ante_all,cost_DDR_Ante_all = Data_LSM.load_cost_data(DataPath)\n",
    "            with open(DataPath+'cost_spo+_Ante_all.pkl', \"rb\") as tf:\n",
    "                cost_SPO_Ante_all = pickle.load(tf)\n",
    "            # with open(DataPath+'cost_rf_Ante_all.pkl', \"rb\") as tf:\n",
    "            #     cost_RF_Ante_all = pickle.load(tf)\n",
    "            # with open(DataPath+'cost_xg_Ante_all.pkl', \"rb\") as tf:\n",
    "                # cost_XG_Ante_all = pickle.load(tf)\n",
    "            with open(DataPath+'cost_pg_Ante_all.pkl', \"rb\") as tf:\n",
    "                cost_PG_Ante_all = pickle.load(tf)\n",
    "            with open(DataPath+'cost_ltr_Ante_all.pkl', \"rb\") as tf:\n",
    "                cost_LTR_Ante_all = pickle.load(tf)\n",
    "\n",
    "            for mu in mu_all:\n",
    "                for lamb in lamb_all:\n",
    "                    if benchmark == \"OLS\":\n",
    "                        h2h_[num_train,deg,mu,lamb],regret_rd_[num_train,deg,mu,lamb] = h2h_regret_eva.calculate_DDR_vs_Others_h2h_regret(mu,lamb,iteration_all,cost_DDR_Ante_all,cost_OLS_Ante_all,cost_Oracle_Ante_all)\n",
    "                    if benchmark == \"SPO+\":\n",
    "                        h2h_[num_train,deg,mu,lamb],regret_rd_[num_train,deg,mu,lamb] = h2h_regret_eva.calculate_DDR_vs_Others_h2h_regret(mu,lamb,iteration_all,cost_DDR_Ante_all,cost_SPO_Ante_all,cost_Oracle_Ante_all)\n",
    "                    # if benchmark == \"RF\":\n",
    "                    #     h2h_[num_train,deg,mu,lamb],regret_rd_[num_train,deg,mu,lamb] = h2h_regret_eva.calculate_DDR_vs_Others_h2h_regret(mu,lamb,iteration_all,cost_DDR_Ante_all,cost_RF_Ante_all,cost_Oracle_Ante_all)\n",
    "                    # if benchmark == \"XG\":\n",
    "                    #     h2h_[num_train,deg,mu,lamb],regret_rd_[num_train,deg,mu,lamb] = h2h_regret_eva.calculate_DDR_vs_Others_h2h_regret(mu,lamb,iteration_all,cost_DDR_Ante_all,cost_XG_Ante_all,cost_Oracle_Ante_all)\n",
    "                    if benchmark == \"PG\":\n",
    "                        h2h_[num_train,deg,mu,lamb],regret_rd_[num_train,deg,mu,lamb] = h2h_regret_eva.calculate_DDR_vs_Others_h2h_regret(mu,lamb,iteration_all,cost_DDR_Ante_all,cost_PG_Ante_all,cost_Oracle_Ante_all)\n",
    "                    if benchmark == \"LTR\":\n",
    "                        h2h_[num_train,deg,mu,lamb],regret_rd_[num_train,deg,mu,lamb] = h2h_regret_eva.calculate_DDR_vs_Others_h2h_regret(mu,lamb,iteration_all,cost_DDR_Ante_all,cost_LTR_Ante_all,cost_Oracle_Ante_all)\n",
    "            print(\"num_train = \",num_train,\",deg = \",deg)\n",
    "    return h2h_,regret_rd_"
   ]
  },
  {
   "cell_type": "markdown",
   "id": "7d302445",
   "metadata": {},
   "source": [
    "### DDR vs SPO"
   ]
  },
  {
   "cell_type": "code",
   "execution_count": 25,
   "id": "718b6bd2",
   "metadata": {},
   "outputs": [
    {
     "name": "stdout",
     "output_type": "stream",
     "text": [
      "DataPath: /Users/zhangxun/Dropbox/Research/Decision_Driven_Regularization/Data_JOC_R1/Shortest_Path_Rep/Model_Mis_Data_SizeSPO_Data_Generation/3by3_grid/data_size=100_deg=12.0_e=0.5_p=5_num_test=1000_x_dist=uniform_e_dist=normal/\n",
      "num_train =  100 ,deg =  12.0\n",
      "DataPath: /Users/zhangxun/Dropbox/Research/Decision_Driven_Regularization/Data_JOC_R1/Shortest_Path_Rep/Model_Mis_Data_SizeSPO_Data_Generation/3by3_grid/data_size=300_deg=12.0_e=0.5_p=5_num_test=1000_x_dist=uniform_e_dist=normal/\n",
      "num_train =  300 ,deg =  12.0\n",
      "DataPath: /Users/zhangxun/Dropbox/Research/Decision_Driven_Regularization/Data_JOC_R1/Shortest_Path_Rep/Model_Mis_Data_SizeSPO_Data_Generation/3by3_grid/data_size=500_deg=12.0_e=0.5_p=5_num_test=1000_x_dist=uniform_e_dist=normal/\n",
      "num_train =  500 ,deg =  12.0\n"
     ]
    }
   ],
   "source": [
    "h2h_ddr_vs_spo,regret_rd_ddr_vs_spo = obtain_DDR_vs_benchmarks_h2h_regret(DataPath_Parent,num_train_all,deg_all,e,num_test,x_dist,e_dist,mu_all,lamb_all,\"SPO+\")"
   ]
  },
  {
   "cell_type": "markdown",
   "id": "53439a40",
   "metadata": {},
   "source": [
    "##### N = 500,deg = 1.0"
   ]
  },
  {
   "cell_type": "code",
   "execution_count": 26,
   "id": "68c57aeb",
   "metadata": {},
   "outputs": [
    {
     "data": {
      "image/png": "[encoded data removed]",
      "text/plain": [
       "<Figure size 500x500 with 3 Axes>"
      ]
     },
     "metadata": {},
     "output_type": "display_data"
    }
   ],
   "source": [
    "num_train = 500\n",
    "deg = deg_all[0]\n",
    "mu = 0.75\n",
    "lamb = 0.8\n",
    "file_name = Result_dir + f'DDR_vs_SPO_mu={mu}_lamb={lamb}_N={num_train}_deg={deg}'\n",
    "all_x = h2h_ddr_vs_spo[num_train,deg,mu,lamb] * 100\n",
    "all_y = regret_rd_ddr_vs_spo[num_train,deg,mu,lamb] * 100\n",
    "Figure_H2H_Regret.figure_plot_upright(all_x, all_y, file_name, size = (5, 5), move = [-0.07, 0.07, 0.35, 0.55], ysame = 0, yrange = [6,6], sublabel = '', ypio = 0)"
   ]
  },
  {
   "cell_type": "markdown",
   "id": "62766e9d",
   "metadata": {},
   "source": [
    "##### N = 500,deg = 4.0"
   ]
  },
  {
   "cell_type": "code",
   "execution_count": 17,
   "id": "abc8ab71",
   "metadata": {},
   "outputs": [],
   "source": [
    "# num_train = 500\n",
    "# deg = deg_all[2]\n",
    "# mu = 0.75\n",
    "# lamb = 0.8\n",
    "# file_name = Result_dir + f'DDR_vs_SPO_mu={mu}_lamb={lamb}_N={num_train}_deg={deg}'\n",
    "# all_x = h2h_ddr_vs_spo[num_train,deg,mu,lamb] * 100\n",
    "# all_y = regret_rd_ddr_vs_spo[num_train,deg,mu,lamb] * 100\n",
    "# Figure_H2H_Regret.figure_plot_upright(all_x, all_y, file_name, size = (5, 5), move = [-0.07, 0.07, 0.35, 0.55], ysame = 0, yrange = [6,6], sublabel = '', ypio = 0)"
   ]
  },
  {
   "cell_type": "markdown",
   "id": "bdaf15c6",
   "metadata": {},
   "source": [
    "##### N = 500,deg = 8.0"
   ]
  },
  {
   "cell_type": "code",
   "execution_count": 18,
   "id": "29ac8334",
   "metadata": {},
   "outputs": [],
   "source": [
    "# num_train = 500\n",
    "# deg = deg_all[3]\n",
    "# mu = 0.75\n",
    "# lamb = 0.8\n",
    "# file_name = Result_dir + f'DDR_vs_SPO_mu={mu}_lamb={lamb}_N={num_train}_deg={deg}'\n",
    "# all_x = h2h_ddr_vs_spo[num_train,deg,mu,lamb] * 100\n",
    "# all_y = regret_rd_ddr_vs_spo[num_train,deg,mu,lamb] * 100\n",
    "# Figure_H2H_Regret.figure_plot_upright(all_x, all_y, file_name, size = (5, 5), move = [-0.07, 0.07, 0.35, 0.55], ysame = 0, yrange = [6,6], sublabel = '', ypio = 0)"
   ]
  },
  {
   "cell_type": "markdown",
   "id": "a985bbf6",
   "metadata": {},
   "source": [
    "### DDR vs PG"
   ]
  },
  {
   "cell_type": "code",
   "execution_count": 27,
   "id": "e82f9ffa",
   "metadata": {},
   "outputs": [
    {
     "name": "stdout",
     "output_type": "stream",
     "text": [
      "DataPath: /Users/zhangxun/Dropbox/Research/Decision_Driven_Regularization/Data_JOC_R1/Shortest_Path_Rep/Model_Mis_Data_SizeSPO_Data_Generation/3by3_grid/data_size=100_deg=12.0_e=0.5_p=5_num_test=1000_x_dist=uniform_e_dist=normal/\n",
      "num_train =  100 ,deg =  12.0\n",
      "DataPath: /Users/zhangxun/Dropbox/Research/Decision_Driven_Regularization/Data_JOC_R1/Shortest_Path_Rep/Model_Mis_Data_SizeSPO_Data_Generation/3by3_grid/data_size=300_deg=12.0_e=0.5_p=5_num_test=1000_x_dist=uniform_e_dist=normal/\n",
      "num_train =  300 ,deg =  12.0\n",
      "DataPath: /Users/zhangxun/Dropbox/Research/Decision_Driven_Regularization/Data_JOC_R1/Shortest_Path_Rep/Model_Mis_Data_SizeSPO_Data_Generation/3by3_grid/data_size=500_deg=12.0_e=0.5_p=5_num_test=1000_x_dist=uniform_e_dist=normal/\n",
      "num_train =  500 ,deg =  12.0\n"
     ]
    }
   ],
   "source": [
    "h2h_ddr_vs_pg,regret_rd_ddr_vs_pg = obtain_DDR_vs_benchmarks_h2h_regret(DataPath_Parent,num_train_all,deg_all,e,num_test,x_dist,e_dist,mu_all,lamb_all,\"PG\")"
   ]
  },
  {
   "cell_type": "markdown",
   "id": "1e795192",
   "metadata": {},
   "source": [
    "##### N = 500, deg = 8.0"
   ]
  },
  {
   "cell_type": "code",
   "execution_count": 32,
   "id": "8b9f369f",
   "metadata": {},
   "outputs": [
    {
     "data": {
      "text/plain": [
       "'/Users/zhangxun/Dropbox/Research/Decision_Driven_Regularization/Data_JOC_R1/Shortest_Path_Rep/Model_Mis_Data_SizeSPO_Data_Generation/3by3_grid/Result/DDR_vs_PG_mu=0.75_lamb=0.8_N=500_deg=12.0'"
      ]
     },
     "execution_count": 32,
     "metadata": {},
     "output_type": "execute_result"
    }
   ],
   "source": [
    "file_name"
   ]
  },
  {
   "cell_type": "code",
   "execution_count": 31,
   "id": "4196b0d8",
   "metadata": {},
   "outputs": [
    {
     "data": {
      "image/png": "[encoded data removed]",
      "text/plain": [
       "<Figure size 500x500 with 3 Axes>"
      ]
     },
     "metadata": {},
     "output_type": "display_data"
    }
   ],
   "source": [
    "num_train = 500\n",
    "deg = deg_all[0]\n",
    "mu = 0.75\n",
    "lamb = 0.8\n",
    "file_name = Result_dir + f'DDR_vs_PG_mu={mu}_lamb={lamb}_N={num_train}_deg={deg}'\n",
    "all_x = h2h_ddr_vs_pg[num_train,deg,mu,lamb] * 100\n",
    "all_y = regret_rd_ddr_vs_pg[num_train,deg,mu,lamb] * 100\n",
    "Figure_H2H_Regret.figure_plot_upright(all_x, all_y, file_name, size = (5, 5), move = [-0.07, 0.07, 0.35, 0.55], ysame = 0, yrange = [6,6], sublabel = '', ypio = 0)"
   ]
  },
  {
   "cell_type": "markdown",
   "id": "53919454",
   "metadata": {},
   "source": [
    "### DDR vs LTR"
   ]
  },
  {
   "cell_type": "code",
   "execution_count": 29,
   "id": "21fe7ef4",
   "metadata": {},
   "outputs": [
    {
     "name": "stdout",
     "output_type": "stream",
     "text": [
      "DataPath: /Users/zhangxun/Dropbox/Research/Decision_Driven_Regularization/Data_JOC_R1/Shortest_Path_Rep/Model_Mis_Data_SizeSPO_Data_Generation/3by3_grid/data_size=100_deg=12.0_e=0.5_p=5_num_test=1000_x_dist=uniform_e_dist=normal/\n",
      "num_train =  100 ,deg =  12.0\n",
      "DataPath: /Users/zhangxun/Dropbox/Research/Decision_Driven_Regularization/Data_JOC_R1/Shortest_Path_Rep/Model_Mis_Data_SizeSPO_Data_Generation/3by3_grid/data_size=300_deg=12.0_e=0.5_p=5_num_test=1000_x_dist=uniform_e_dist=normal/\n",
      "num_train =  300 ,deg =  12.0\n",
      "DataPath: /Users/zhangxun/Dropbox/Research/Decision_Driven_Regularization/Data_JOC_R1/Shortest_Path_Rep/Model_Mis_Data_SizeSPO_Data_Generation/3by3_grid/data_size=500_deg=12.0_e=0.5_p=5_num_test=1000_x_dist=uniform_e_dist=normal/\n",
      "num_train =  500 ,deg =  12.0\n"
     ]
    }
   ],
   "source": [
    "h2h_ddr_vs_ltr,regret_rd_ddr_vs_ltr = obtain_DDR_vs_benchmarks_h2h_regret(DataPath_Parent,num_train_all,deg_all,e,num_test,x_dist,e_dist,mu_all,lamb_all,\"LTR\")"
   ]
  },
  {
   "cell_type": "markdown",
   "id": "c5d1b34a",
   "metadata": {},
   "source": [
    "##### N = 500, deg = 8.0"
   ]
  },
  {
   "cell_type": "code",
   "execution_count": 30,
   "id": "1ed9a5ce",
   "metadata": {},
   "outputs": [
    {
     "data": {
      "image/png": "[encoded data removed]",
      "text/plain": [
       "<Figure size 500x500 with 3 Axes>"
      ]
     },
     "metadata": {},
     "output_type": "display_data"
    }
   ],
   "source": [
    "num_train = 500\n",
    "deg = deg_all[0]\n",
    "mu = 0.75\n",
    "lamb = 0.8\n",
    "file_name = Result_dir + f'DDR_vs_LTR_mu={mu}_lamb={lamb}_N={num_train}_deg={deg}'\n",
    "all_x = h2h_ddr_vs_ltr[num_train,deg,mu,lamb] * 100\n",
    "all_y = regret_rd_ddr_vs_ltr[num_train,deg,mu,lamb] * 100\n",
    "Figure_H2H_Regret.figure_plot_upright(all_x, all_y, file_name, size = (5, 5), move = [-0.07, 0.07, 0.35, 0.55], ysame = 0, yrange = [6,6], sublabel = '', ypio = 0)"
   ]
  },
  {
   "cell_type": "markdown",
   "id": "28ec9ded",
   "metadata": {},
   "source": [
    "### DDR vs OLS"
   ]
  },
  {
   "cell_type": "code",
   "execution_count": 23,
   "id": "cf374c26",
   "metadata": {},
   "outputs": [],
   "source": [
    "# h2h_ddr_vs_ols,regret_rd_ddr_vs_ols = obtain_DDR_vs_benchmarks_h2h_regret(DataPath_Parent,num_train_all,deg_all,e,num_test,x_dist,e_dist,mu_all,lamb_all,\"OLS\")"
   ]
  },
  {
   "cell_type": "markdown",
   "id": "2c55b3a3",
   "metadata": {},
   "source": [
    "##### N = 500, deg = 8.0"
   ]
  },
  {
   "cell_type": "code",
   "execution_count": 24,
   "id": "81fb2ffd",
   "metadata": {},
   "outputs": [],
   "source": [
    "# num_train = 500\n",
    "# deg = deg_all[0]\n",
    "# mu = 0.75\n",
    "# lamb = 0.8\n",
    "# file_name = Result_dir + f'DDR_vs_OLS_mu={mu}_lamb={lamb}_N={num_train}_deg={deg}'\n",
    "# all_x = h2h_ddr_vs_ols[num_train,deg,mu,lamb] * 100\n",
    "# all_y = regret_rd_ddr_vs_ols[num_train,deg,mu,lamb] * 100\n",
    "# Figure_H2H_Regret.figure_plot_upright(all_x, all_y, file_name, size = (5, 5), move = [-0.07, 0.07, 0.35, 0.55], ysame = 0, yrange = [6,6], sublabel = '', ypio = 0)"
   ]
  }
 ],
 "metadata": {
  "kernelspec": {
   "display_name": ".venv",
   "language": "python",
   "name": "python3"
  },
  "language_info": {
   "codemirror_mode": {
    "name": "ipython",
    "version": 3
   },
   "file_extension": ".py",
   "mimetype": "text/x-python",
   "name": "python",
   "nbconvert_exporter": "python",
   "pygments_lexer": "ipython3",
   "version": "3.9.6"
  }
 },
 "nbformat": 4,
 "nbformat_minor": 5
}
