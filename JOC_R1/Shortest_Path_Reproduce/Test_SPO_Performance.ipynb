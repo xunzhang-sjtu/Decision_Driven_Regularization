{
 "cells": [
  {
   "cell_type": "code",
   "execution_count": 1,
   "id": "e5423203",
   "metadata": {},
   "outputs": [],
   "source": [
    "import random\n",
    "import numpy as np\n",
    "import torch\n",
    "import os\n",
    "import pathlib\n",
    "import pickle\n",
    "import pandas as pd\n",
    "torch.manual_seed(42)\n",
    "torch.cuda.manual_seed(42)\n",
    "from Performance import performance_evaluation\n",
    "perfs = performance_evaluation()\n",
    "\n",
    "from Performance import H2h_Regret_Evaluation\n",
    "h2h_regret_eva = H2h_Regret_Evaluation()\n",
    "\n",
    "from Data import Data_Simulator\n",
    "DS_Obj = Data_Simulator()\n",
    "\n",
    "from Oracle import Oracle_Processing\n",
    "Oracle_Proc = Oracle_Processing()\n",
    "\n",
    "from OLS import OLS_Processing\n",
    "OLS_Proc = OLS_Processing()\n",
    "\n",
    "from DDR import DDR_Processing\n",
    "DDR_Proc = DDR_Processing()\n",
    "\n",
    "from PYEPO import EPO_Processing\n",
    "PYEPO_Proc = EPO_Processing()\n",
    "\n",
    "from Data_Load_Store import Load_Store_Methods\n",
    "Data_LSM = Load_Store_Methods()"
   ]
  },
  {
   "cell_type": "markdown",
   "id": "886e7311",
   "metadata": {},
   "source": [
    "### Parameters"
   ]
  },
  {
   "cell_type": "code",
   "execution_count": 2,
   "id": "782cc897",
   "metadata": {},
   "outputs": [],
   "source": [
    "grid = (5,5) # grid size\n",
    "from Network import network_design\n",
    "Network = network_design()\n",
    "arcs,arc_index_mapping = Network._getArcs(grid)\n",
    "\n",
    "num_test = 1000\n",
    "lower = 0 # coef lower bound\n",
    "upper = 1 # coef upper bound\n",
    "d = (grid[0] - 1) * (grid[0] - 1) * 2 + 2 * (grid[0] - 1) # num of arcs\n",
    "num_nodes = grid[0]*grid[0]\n",
    "coef_seed = 1\n",
    "\n",
    "x_dist = 'uniform'\n",
    "e_dist = 'normal'\n",
    "x_low = -2\n",
    "x_up = 2\n",
    "x_mean = 2\n",
    "x_var = 2\n",
    "bump = 100"
   ]
  },
  {
   "cell_type": "code",
   "execution_count": 3,
   "id": "554bf254",
   "metadata": {},
   "outputs": [
    {
     "name": "stdout",
     "output_type": "stream",
     "text": [
      "DataPath_parent: /Users/zhangxun/Dropbox/Research/Decision_Driven_Regularization/Data_JOC_R1/SPO_vs_OLSSPO_Data_Generation_coef_seed=1/5by5_Network/\n"
     ]
    }
   ],
   "source": [
    "data_generation_process = \"SPO_Data_Generation\"\n",
    "# data_generation_process = \"DDR_Data_Generation\"\n",
    "current_directory = os.getcwd()\n",
    "parent_directory = os.path.dirname(current_directory)\n",
    "project_directory = os.path.dirname(os.path.dirname(os.path.dirname(parent_directory)))\n",
    "DataPath_Parent = project_directory + '/Data_JOC_R1/SPO_vs_OLS' + data_generation_process + f'_coef_seed={coef_seed}/{grid[0]}by{grid[1]}_Network/'\n",
    "pathlib.Path(DataPath_Parent).mkdir(parents=True, exist_ok=True)\n",
    "print(\"DataPath_parent:\", DataPath_Parent)"
   ]
  },
  {
   "cell_type": "markdown",
   "id": "a25df629",
   "metadata": {},
   "source": [
    "#### Impact of sample size"
   ]
  },
  {
   "cell_type": "code",
   "execution_count": 4,
   "id": "318667b4",
   "metadata": {},
   "outputs": [
    {
     "name": "stdout",
     "output_type": "stream",
     "text": [
      "DataPath: /Users/zhangxun/Dropbox/Research/Decision_Driven_Regularization/Data_JOC_R1/SPO_vs_OLSSPO_Data_Generation_coef_seed=1/5by5_Network/data_size=1000_deg=4.0_e=0.5_d=40_p=5_x_dist=uniform_num_test=1000/\n"
     ]
    }
   ],
   "source": [
    "num_feat = 5 # size of feature\n",
    "p = num_feat\n",
    "deg = 4.0 # polynomial degree\n",
    "mis = deg # model misspecification\n",
    "e = 0.5 # scale of normal std or the range of uniform. For the error term\n",
    "alpha = e # scale of normal std or the range of uniform. For the error term\n",
    "iteration_all = np.arange(0,100)\n",
    "batch_size = 20\n",
    "num_epochs = 1000\n",
    "\n",
    "num_train = 1000\n",
    "DataPath = DataPath_Parent + \"data_size=\"+str(num_train)+\"_deg=\"+str(deg)+\"_e=\"+str(e)+\"_d=\"+str(d)+\"_p=\"+str(p)+\"_x_dist=\"+x_dist+\"_num_test=\"+str(num_test)+\"/\"\n",
    "pathlib.Path(DataPath).mkdir(parents=True, exist_ok=True)\n",
    "print(\"DataPath:\", DataPath)\n",
    "\n",
    "x_test_all, c_test_all, x_train_all, c_train_all,noise_train_all,noise_test_all,W_star_all = \\\n",
    "DS_Obj.Simulator(DataPath,lower, upper, p, d, coef_seed,iteration_all,num_test, num_train, alpha,mis,data_generation_process,x_dist, e_dist, x_low, x_up, x_mean, x_var, bump)\n",
    "\n",
    "Data_LSM.store_input_data(DataPath,x_test_all,c_test_all,x_train_all,c_train_all,noise_test_all,noise_train_all,W_star_all)"
   ]
  },
  {
   "cell_type": "code",
   "execution_count": 5,
   "id": "b0a0cd7f",
   "metadata": {},
   "outputs": [
    {
     "name": "stdout",
     "output_type": "stream",
     "text": [
      "Set parameter Username\n",
      "Academic license - for non-commercial use only - expires 2026-03-13\n",
      "Oracle: iter= 20 ,cost_Oracle_Ante= 626.4473818047255\n",
      "Oracle: iter= 40 ,cost_Oracle_Ante= 617.7016863812473\n",
      "Oracle: iter= 60 ,cost_Oracle_Ante= 554.1906641376092\n",
      "Oracle: iter= 80 ,cost_Oracle_Ante= 588.7090244734214\n",
      "OLS: iter= 20 ,cost_OLS_Ante= 633.2784570095941\n",
      "OLS: iter= 40 ,cost_OLS_Ante= 630.5775247374638\n",
      "OLS: iter= 60 ,cost_OLS_Ante= 563.4125539439547\n",
      "OLS: iter= 80 ,cost_OLS_Ante= 603.5799879345628\n"
     ]
    }
   ],
   "source": [
    "cost_Oracle_Post_all,cost_Oracle_Ante_all = Oracle_Proc.Implement_Oracle(arcs, grid,mis,bump,\\\n",
    "                                                            W_star_all,x_test_all,noise_test_all,\\\n",
    "                                                            iteration_all,num_feat,data_generation_process)\n",
    "\n",
    "cost_OLS_Post_all,cost_OLS_Ante_all = OLS_Proc.Implement_OLS(arcs, grid,mis,bump,\\\n",
    "                                                    W_star_all,x_test_all,noise_test_all,x_train_all,c_train_all,\\\n",
    "                                                    iteration_all,num_feat,data_generation_process)"
   ]
  },
  {
   "cell_type": "code",
   "execution_count": 6,
   "id": "0f87c7e4",
   "metadata": {},
   "outputs": [
    {
     "name": "stdout",
     "output_type": "stream",
     "text": [
      "['spo+'] : iter= 20 ,cost_EPO_Ante= 642.33930882729\n"
     ]
    },
    {
     "name": "stderr",
     "output_type": "stream",
     "text": [
      "Process ForkPoolWorker-2:\n",
      "Traceback (most recent call last):\n",
      "KeyboardInterrupt\n"
     ]
    },
    {
     "name": "stdout",
     "output_type": "stream",
     "text": [
      "\n",
      "Interrupt request received\n"
     ]
    },
    {
     "name": "stderr",
     "output_type": "stream",
     "text": [
      "  File \"/Users/zhangxun/Dropbox/Research/Decision_Driven_Regularization/Code_MacBook/Decision_Driven_Regularization/.venv/lib/python3.9/site-packages/multiprocess/process.py\", line 315, in _bootstrap\n",
      "    self.run()\n",
      "  File \"/Users/zhangxun/Dropbox/Research/Decision_Driven_Regularization/Code_MacBook/Decision_Driven_Regularization/.venv/lib/python3.9/site-packages/multiprocess/process.py\", line 108, in run\n",
      "    self._target(*self._args, **self._kwargs)\n",
      "  File \"/Users/zhangxun/Dropbox/Research/Decision_Driven_Regularization/Code_MacBook/Decision_Driven_Regularization/.venv/lib/python3.9/site-packages/multiprocess/pool.py\", line 114, in worker\n",
      "    task = get()\n",
      "  File \"/Users/zhangxun/Dropbox/Research/Decision_Driven_Regularization/Code_MacBook/Decision_Driven_Regularization/.venv/lib/python3.9/site-packages/multiprocess/queues.py\", line 367, in get\n",
      "    with self._rlock:\n",
      "  File \"/Users/zhangxun/Dropbox/Research/Decision_Driven_Regularization/Code_MacBook/Decision_Driven_Regularization/.venv/lib/python3.9/site-packages/multiprocess/synchronize.py\", line 101, in __enter__\n",
      "    return self._semlock.__enter__()\n"
     ]
    },
    {
     "ename": "GurobiError",
     "evalue": "Unable to retrieve attribute 'x'",
     "output_type": "error",
     "traceback": [
      "\u001b[0;31m---------------------------------------------------------------------------\u001b[0m",
      "\u001b[0;31mGurobiError\u001b[0m                               Traceback (most recent call last)",
      "Cell \u001b[0;32mIn[6], line 6\u001b[0m\n\u001b[1;32m      3\u001b[0m \u001b[38;5;66;03m# from PYEPO import PyEPO_Method\u001b[39;00m\n\u001b[1;32m      4\u001b[0m \u001b[38;5;66;03m# epo_runner = PyEPO_Method()\u001b[39;00m\n\u001b[1;32m      5\u001b[0m method_names \u001b[38;5;241m=\u001b[39m [\u001b[38;5;124m\"\u001b[39m\u001b[38;5;124mspo+\u001b[39m\u001b[38;5;124m\"\u001b[39m]\n\u001b[0;32m----> 6\u001b[0m cost_EPO_Post_all,cost_EPO_Ante_all \u001b[38;5;241m=\u001b[39m \u001b[43mPYEPO_Proc\u001b[49m\u001b[38;5;241;43m.\u001b[39;49m\u001b[43mImplement_EPO\u001b[49m\u001b[43m(\u001b[49m\u001b[43mDataPath\u001b[49m\u001b[43m,\u001b[49m\u001b[43miteration_all\u001b[49m\u001b[43m,\u001b[49m\u001b[43mbatch_size\u001b[49m\u001b[43m,\u001b[49m\u001b[43mnum_epochs\u001b[49m\u001b[43m,\u001b[49m\u001b[43mmethod_names\u001b[49m\u001b[43m,\u001b[49m\u001b[43m\\\u001b[49m\n\u001b[1;32m      7\u001b[0m \u001b[43m                                            \u001b[49m\u001b[43mW_star_all\u001b[49m\u001b[43m,\u001b[49m\u001b[43mbump\u001b[49m\u001b[43m,\u001b[49m\u001b[43mx_train_all\u001b[49m\u001b[43m,\u001b[49m\u001b[43mc_train_all\u001b[49m\u001b[43m,\u001b[49m\u001b[43mx_test_all\u001b[49m\u001b[43m,\u001b[49m\u001b[43mnoise_test_all\u001b[49m\u001b[43m,\u001b[49m\u001b[43m\\\u001b[49m\n\u001b[1;32m      8\u001b[0m \u001b[43m                                            \u001b[49m\u001b[43marcs\u001b[49m\u001b[43m,\u001b[49m\u001b[43mgrid\u001b[49m\u001b[43m,\u001b[49m\u001b[43mperfs\u001b[49m\u001b[43m,\u001b[49m\u001b[43mnum_feat\u001b[49m\u001b[43m,\u001b[49m\u001b[43mmis\u001b[49m\u001b[43m,\u001b[49m\u001b[43mdata_generation_process\u001b[49m\u001b[43m)\u001b[49m\n",
      "File \u001b[0;32m~/Dropbox/Research/Decision_Driven_Regularization/Code_MacBook/Decision_Driven_Regularization/JOC_R1/Shortest_Path_Reproduce/PYEPO.py:206\u001b[0m, in \u001b[0;36mEPO_Processing.Implement_EPO\u001b[0;34m(self, DataPath, iteration_all, batch_size, num_epochs, method_names, W_star_all, bump, x_train_all, c_train_all, x_test_all, noise_test_all, arcs, grid, perfs, num_feat, mis, data_generation_process)\u001b[0m\n\u001b[1;32m    204\u001b[0m DataPath_seed \u001b[38;5;241m=\u001b[39m DataPath \u001b[38;5;241m+\u001b[39m\u001b[38;5;124m\"\u001b[39m\u001b[38;5;124miter=\u001b[39m\u001b[38;5;124m\"\u001b[39m\u001b[38;5;241m+\u001b[39m\u001b[38;5;28mstr\u001b[39m(\u001b[38;5;28miter\u001b[39m)\u001b[38;5;241m+\u001b[39m\u001b[38;5;124m\"\u001b[39m\u001b[38;5;124m/\u001b[39m\u001b[38;5;124m\"\u001b[39m\n\u001b[1;32m    205\u001b[0m pathlib\u001b[38;5;241m.\u001b[39mPath(DataPath_seed)\u001b[38;5;241m.\u001b[39mmkdir(parents\u001b[38;5;241m=\u001b[39m\u001b[38;5;28;01mTrue\u001b[39;00m, exist_ok\u001b[38;5;241m=\u001b[39m\u001b[38;5;28;01mTrue\u001b[39;00m)\n\u001b[0;32m--> 206\u001b[0m W_EPO_all[\u001b[38;5;28miter\u001b[39m],w0_EPO_all[\u001b[38;5;28miter\u001b[39m] \u001b[38;5;241m=\u001b[39m \u001b[43mepo_runner\u001b[49m\u001b[38;5;241;43m.\u001b[39;49m\u001b[43mrun\u001b[49m\u001b[43m(\u001b[49m\u001b[43mmethod_names\u001b[49m\u001b[43m,\u001b[49m\u001b[43mDataPath_seed\u001b[49m\u001b[43m,\u001b[49m\u001b[43mbatch_size\u001b[49m\u001b[43m,\u001b[49m\u001b[43mnum_feat\u001b[49m\u001b[43m,\u001b[49m\u001b[43mgrid\u001b[49m\u001b[43m,\u001b[49m\u001b[43mnum_epochs\u001b[49m\u001b[43m,\u001b[49m\u001b[43m\\\u001b[49m\n\u001b[1;32m    207\u001b[0m \u001b[43m                                \u001b[49m\u001b[43mx_train_all\u001b[49m\u001b[43m[\u001b[49m\u001b[38;5;28;43miter\u001b[39;49m\u001b[43m]\u001b[49m\u001b[43m,\u001b[49m\u001b[43mc_train_all\u001b[49m\u001b[43m[\u001b[49m\u001b[38;5;28;43miter\u001b[39;49m\u001b[43m]\u001b[49m\u001b[43m,\u001b[49m\u001b[43marcs\u001b[49m\u001b[43m)\u001b[49m\n\u001b[1;32m    209\u001b[0m cost_pred \u001b[38;5;241m=\u001b[39m (W_EPO_all[\u001b[38;5;28miter\u001b[39m] \u001b[38;5;241m@\u001b[39m x_test_all[\u001b[38;5;28miter\u001b[39m]\u001b[38;5;241m.\u001b[39mT)\u001b[38;5;241m.\u001b[39mT \u001b[38;5;241m+\u001b[39m w0_EPO_all[\u001b[38;5;28miter\u001b[39m]\n\u001b[1;32m    210\u001b[0m \u001b[38;5;28;01mif\u001b[39;00m data_generation_process \u001b[38;5;241m==\u001b[39m \u001b[38;5;124m\"\u001b[39m\u001b[38;5;124mSPO_Data_Generation\u001b[39m\u001b[38;5;124m\"\u001b[39m:\n",
      "File \u001b[0;32m~/Dropbox/Research/Decision_Driven_Regularization/Code_MacBook/Decision_Driven_Regularization/JOC_R1/Shortest_Path_Reproduce/PYEPO.py:175\u001b[0m, in \u001b[0;36mPyEPO_Method.run\u001b[0;34m(self, method_names, DataPath_seed, batch_size, num_feat, grid, num_epochs, x_train, c_train, arcs)\u001b[0m\n\u001b[1;32m    171\u001b[0m \u001b[38;5;28;01mif\u001b[39;00m method_name \u001b[38;5;241m==\u001b[39m \u001b[38;5;124m\"\u001b[39m\u001b[38;5;124mspo+\u001b[39m\u001b[38;5;124m\"\u001b[39m:\n\u001b[1;32m    172\u001b[0m     \u001b[38;5;66;03m# print(\"=========== Run SPO,\",DataPath_seed)\u001b[39;00m\n\u001b[1;32m    173\u001b[0m \u001b[38;5;66;03m# Obtain SPO cost\u001b[39;00m\n\u001b[1;32m    174\u001b[0m     spop \u001b[38;5;241m=\u001b[39m pyepo\u001b[38;5;241m.\u001b[39mfunc\u001b[38;5;241m.\u001b[39mSPOPlus(optmodel, processes\u001b[38;5;241m=\u001b[39m\u001b[38;5;241m2\u001b[39m)\n\u001b[0;32m--> 175\u001b[0m     cost_SPO,W_EPO_mat,w0_EPO \u001b[38;5;241m=\u001b[39m \u001b[38;5;28;43mself\u001b[39;49m\u001b[38;5;241;43m.\u001b[39;49m\u001b[43mImplement_PyEPO\u001b[49m\u001b[43m(\u001b[49m\u001b[43marcs\u001b[49m\u001b[43m,\u001b[49m\u001b[43mgrid\u001b[49m\u001b[43m,\u001b[49m\u001b[43mnum_feat\u001b[49m\u001b[43m,\u001b[49m\u001b[43m \u001b[49m\u001b[43mspop\u001b[49m\u001b[43m,\u001b[49m\u001b[43m \u001b[49m\u001b[43mmethod_name\u001b[49m\u001b[43m,\u001b[49m\u001b[43m \u001b[49m\u001b[43mloader_train\u001b[49m\u001b[43m,\u001b[49m\u001b[43mnum_epochs\u001b[49m\u001b[43m,\u001b[49m\u001b[43m \u001b[49m\u001b[38;5;241;43m1e-3\u001b[39;49m\u001b[43m)\u001b[49m\n\u001b[1;32m    176\u001b[0m     rst_EPO[\u001b[38;5;124m\"\u001b[39m\u001b[38;5;124mSPO\u001b[39m\u001b[38;5;124m\"\u001b[39m] \u001b[38;5;241m=\u001b[39m cost_SPO\n\u001b[1;32m    178\u001b[0m \u001b[38;5;28;01mif\u001b[39;00m method_name \u001b[38;5;241m==\u001b[39m \u001b[38;5;124m\"\u001b[39m\u001b[38;5;124mpg\u001b[39m\u001b[38;5;124m\"\u001b[39m:\n\u001b[1;32m    179\u001b[0m     \u001b[38;5;66;03m# print(\"=========== Run PG,\",DataPath_seed)\u001b[39;00m\n",
      "File \u001b[0;32m~/Dropbox/Research/Decision_Driven_Regularization/Code_MacBook/Decision_Driven_Regularization/JOC_R1/Shortest_Path_Reproduce/PYEPO.py:146\u001b[0m, in \u001b[0;36mPyEPO_Method.Implement_PyEPO\u001b[0;34m(self, arcs, grid, num_feat, loss_func, method_name, loader_train, num_epochs, lr)\u001b[0m\n\u001b[1;32m    143\u001b[0m W_EPO_mat \u001b[38;5;241m=\u001b[39m (reg\u001b[38;5;241m.\u001b[39mlinear\u001b[38;5;241m.\u001b[39mweight\u001b[38;5;241m.\u001b[39mdata)\u001b[38;5;241m.\u001b[39mnumpy()\n\u001b[1;32m    144\u001b[0m w0_EPO \u001b[38;5;241m=\u001b[39m (reg\u001b[38;5;241m.\u001b[39mlinear\u001b[38;5;241m.\u001b[39mbias\u001b[38;5;241m.\u001b[39mdata)\u001b[38;5;241m.\u001b[39mnumpy()\n\u001b[0;32m--> 146\u001b[0m cost_arr \u001b[38;5;241m=\u001b[39m \u001b[43mperfs\u001b[49m\u001b[38;5;241;43m.\u001b[39;49m\u001b[43mcompute_EPO_Cost\u001b[49m\u001b[43m(\u001b[49m\u001b[43mfull_shortest_model\u001b[49m\u001b[43m,\u001b[49m\u001b[43mreg\u001b[49m\u001b[43m,\u001b[49m\u001b[43m \u001b[49m\u001b[43mloader_train\u001b[49m\u001b[43m,\u001b[49m\u001b[43marcs\u001b[49m\u001b[43m,\u001b[49m\u001b[43mgrid\u001b[49m\u001b[43m)\u001b[49m\n\u001b[1;32m    147\u001b[0m \u001b[38;5;66;03m# 终止条件计算\u001b[39;00m\n\u001b[1;32m    148\u001b[0m diff \u001b[38;5;241m=\u001b[39m \u001b[38;5;28mabs\u001b[39m(np\u001b[38;5;241m.\u001b[39mnanmean(cost_arr) \u001b[38;5;241m-\u001b[39m prev_cost_mean)\n",
      "File \u001b[0;32m~/Dropbox/Research/Decision_Driven_Regularization/Code_MacBook/Decision_Driven_Regularization/JOC_R1/Shortest_Path_Reproduce/Performance.py:28\u001b[0m, in \u001b[0;36mperformance_evaluation.compute_EPO_Cost\u001b[0;34m(self, full_shortest_model, predmodel, dataloader, arcs, grid)\u001b[0m\n\u001b[1;32m     25\u001b[0m \u001b[38;5;66;03m# print(\"cp[0] = \",cp[0])\u001b[39;00m\n\u001b[1;32m     26\u001b[0m \u001b[38;5;66;03m# solve\u001b[39;00m\n\u001b[1;32m     27\u001b[0m \u001b[38;5;28;01mfor\u001b[39;00m j \u001b[38;5;129;01min\u001b[39;00m \u001b[38;5;28mrange\u001b[39m(cp\u001b[38;5;241m.\u001b[39mshape[\u001b[38;5;241m0\u001b[39m]):\n\u001b[0;32m---> 28\u001b[0m     sol_pred \u001b[38;5;241m=\u001b[39m \u001b[43mfull_shortest_model\u001b[49m\u001b[38;5;241;43m.\u001b[39;49m\u001b[43msolve_Shortest_Path\u001b[49m\u001b[43m(\u001b[49m\u001b[43marcs\u001b[49m\u001b[43m,\u001b[49m\u001b[43mcp\u001b[49m\u001b[43m[\u001b[49m\u001b[43mj\u001b[49m\u001b[43m]\u001b[49m\u001b[43m,\u001b[49m\u001b[43mgrid\u001b[49m\u001b[43m)\u001b[49m\n\u001b[1;32m     29\u001b[0m     cost_pred \u001b[38;5;241m=\u001b[39m np\u001b[38;5;241m.\u001b[39mdot(sol_pred, c[j]\u001b[38;5;241m.\u001b[39mto(\u001b[38;5;124m\"\u001b[39m\u001b[38;5;124mcpu\u001b[39m\u001b[38;5;124m\"\u001b[39m)\u001b[38;5;241m.\u001b[39mdetach()\u001b[38;5;241m.\u001b[39mnumpy())\n\u001b[1;32m     30\u001b[0m     cost_pred_arr\u001b[38;5;241m.\u001b[39mappend(cost_pred)\n",
      "File \u001b[0;32m~/Dropbox/Research/Decision_Driven_Regularization/Code_MacBook/Decision_Driven_Regularization/JOC_R1/Shortest_Path_Reproduce/Shortest_Path_Model.py:52\u001b[0m, in \u001b[0;36mMy_ShortestPathModel.solve_Shortest_Path\u001b[0;34m(self, arcs, cost, grid)\u001b[0m\n\u001b[1;32m     50\u001b[0m m\u001b[38;5;241m.\u001b[39msetObjective( \u001b[38;5;28msum\u001b[39m([cost[ind] \u001b[38;5;241m*\u001b[39m x[arcs[ind]] \u001b[38;5;28;01mfor\u001b[39;00m ind \u001b[38;5;129;01min\u001b[39;00m \u001b[38;5;28mrange\u001b[39m(\u001b[38;5;28mlen\u001b[39m(arcs))]) , GRB\u001b[38;5;241m.\u001b[39mMINIMIZE)\n\u001b[1;32m     51\u001b[0m m\u001b[38;5;241m.\u001b[39moptimize()\n\u001b[0;32m---> 52\u001b[0m sol \u001b[38;5;241m=\u001b[39m \u001b[43mm\u001b[49m\u001b[38;5;241;43m.\u001b[39;49m\u001b[43mgetAttr\u001b[49m\u001b[43m(\u001b[49m\u001b[38;5;124;43m'\u001b[39;49m\u001b[38;5;124;43mx\u001b[39;49m\u001b[38;5;124;43m'\u001b[39;49m\u001b[43m)\u001b[49m\n\u001b[1;32m     53\u001b[0m \u001b[38;5;66;03m# print(\"sol = \",sol)\u001b[39;00m\n\u001b[1;32m     54\u001b[0m shortest_path \u001b[38;5;241m=\u001b[39m \u001b[38;5;28mself\u001b[39m\u001b[38;5;241m.\u001b[39mobtain_path(arcs,sol)\n",
      "File \u001b[0;32msrc/gurobipy/_model.pyx:2153\u001b[0m, in \u001b[0;36mgurobipy._model.Model.getAttr\u001b[0;34m()\u001b[0m\n",
      "File \u001b[0;32msrc/gurobipy/_attrutil.pyx:165\u001b[0m, in \u001b[0;36mgurobipy._attrutil._gettypedattrlist\u001b[0;34m()\u001b[0m\n",
      "\u001b[0;31mGurobiError\u001b[0m: Unable to retrieve attribute 'x'"
     ]
    }
   ],
   "source": [
    "batch_size = 20\n",
    "num_epochs = 1000\n",
    "# from PYEPO import PyEPO_Method\n",
    "# epo_runner = PyEPO_Method()\n",
    "method_names = [\"spo+\"]\n",
    "cost_EPO_Post_all,cost_EPO_Ante_all = PYEPO_Proc.Implement_EPO(DataPath,iteration_all,batch_size,num_epochs,method_names,\\\n",
    "                                            W_star_all,bump,x_train_all,c_train_all,x_test_all,noise_test_all,\\\n",
    "                                            arcs,grid,perfs,num_feat,mis,data_generation_process)"
   ]
  }
 ],
 "metadata": {
  "kernelspec": {
   "display_name": ".venv",
   "language": "python",
   "name": "python3"
  },
  "language_info": {
   "codemirror_mode": {
    "name": "ipython",
    "version": 3
   },
   "file_extension": ".py",
   "mimetype": "text/x-python",
   "name": "python",
   "nbconvert_exporter": "python",
   "pygments_lexer": "ipython3",
   "version": "3.9.6"
  }
 },
 "nbformat": 4,
 "nbformat_minor": 5
}
