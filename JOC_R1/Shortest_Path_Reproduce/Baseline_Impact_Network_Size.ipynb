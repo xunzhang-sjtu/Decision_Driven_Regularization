{
 "cells": [
  {
   "cell_type": "code",
   "execution_count": 1,
   "id": "4865f094",
   "metadata": {},
   "outputs": [],
   "source": [
    "import random\n",
    "import numpy as np\n",
    "import torch\n",
    "import os\n",
    "import pathlib\n",
    "import pickle\n",
    "import pandas as pd\n",
    "torch.manual_seed(42)\n",
    "torch.cuda.manual_seed(42)\n",
    "\n",
    "import Figure_H2H_Regret\n",
    "\n",
    "from Performance import performance_evaluation\n",
    "perfs = performance_evaluation()\n",
    "\n",
    "from Performance import H2h_Regret_Evaluation\n",
    "h2h_regret_eva = H2h_Regret_Evaluation()\n",
    "\n",
    "from Data import Data_Simulator\n",
    "DS_Obj = Data_Simulator()\n",
    "\n",
    "from Oracle import Oracle_Processing\n",
    "Oracle_Proc = Oracle_Processing()\n",
    "\n",
    "from OLS import OLS_Processing\n",
    "OLS_Proc = OLS_Processing()\n",
    "\n",
    "from DDR import DDR_Processing\n",
    "DDR_Proc = DDR_Processing()\n",
    "\n",
    "from PYEPO import EPO_Processing\n",
    "PYEPO_Proc = EPO_Processing()\n",
    "\n",
    "from Data_Load_Store import Load_Store_Methods\n",
    "Data_LSM = Load_Store_Methods()"
   ]
  },
  {
   "cell_type": "code",
   "execution_count": 2,
   "id": "4679a8f8",
   "metadata": {},
   "outputs": [],
   "source": [
    "import Baseline_Params \n",
    "import Sequential_Learning_Approaches as SLA\n",
    "import Integrated_Learning_Approaches as ILA"
   ]
  },
  {
   "cell_type": "markdown",
   "id": "70a9c70a",
   "metadata": {},
   "source": [
    "## Parameters"
   ]
  },
  {
   "cell_type": "code",
   "execution_count": 3,
   "id": "d87a2fcb",
   "metadata": {},
   "outputs": [],
   "source": [
    "data_generation_process = \"SPO_Data_Generation\"\n",
    "# data_generation_process = \"DDR_Data_Generation\"\n",
    "\n",
    "current_directory = os.getcwd()\n",
    "parent_directory = os.path.dirname(current_directory)\n",
    "project_directory = os.path.dirname(os.path.dirname(os.path.dirname(parent_directory)))\n",
    "middle_path = '/Data_JOC_R1/Shortest_Path_Rep/Baseline_' + data_generation_process +\"/\"\n",
    "working_dir = project_directory + middle_path\n",
    "Result_dir = project_directory + middle_path + \"Result/\"\n",
    "pathlib.Path(working_dir).mkdir(parents=True, exist_ok=True)\n",
    "pathlib.Path(Result_dir).mkdir(parents=True, exist_ok=True)"
   ]
  },
  {
   "cell_type": "code",
   "execution_count": null,
   "id": "805a3153",
   "metadata": {},
   "outputs": [],
   "source": [
    "# Baseline_Params.set_Params(working_dir)\n",
    "num_train, num_feat, num_test, deg, e, lower, upper, p, alpha, mis, coef_seed, x_dist, e_dist, x_low, x_up, x_mean, x_var, bump, grid_all, iteration_all,mu_all, lamb_all = Baseline_Params.get_Params(working_dir)"
   ]
  },
  {
   "cell_type": "markdown",
   "id": "69783cd8",
   "metadata": {},
   "source": [
    "#### Impact of network size"
   ]
  },
  {
   "cell_type": "code",
   "execution_count": null,
   "id": "390ca026",
   "metadata": {},
   "outputs": [],
   "source": [
    "h2h_ddr_vs_ols_ante = {}; cost_rd_ddr_vs_ols_ante = {}; regret_rd_ddr_vs_ols_ante = {}\n",
    "for grid in grid_all:\n",
    "    L_N = grid[0]\n",
    "    DataPath_parent = project_directory + middle_path +str(L_N)+'by'+str(L_N)+'_grid/'\n",
    "    DataPath = DataPath_parent + f\"data_size={num_train}_deg={deg}_e={e}_num_test={num_test}\"+\"_x_dist=\"+x_dist+\"_e_dist=\"+e_dist+\"/\"\n",
    "    print(\"DataPath:\", DataPath)     \n",
    "    cost_Oracle_Ante_all,cost_OLS_Ante_all,cost_DDR_Ante_all = Data_LSM.load_cost_data(DataPath)\n",
    "    for mu in mu_all:\n",
    "        for lamb in lamb_all:\n",
    "            h2h_ddr_vs_ols_ante[L_N,mu,lamb],regret_rd_ddr_vs_ols_ante[L_N,mu,lamb] \\\n",
    "                = h2h_regret_eva.calculate_DDR_vs_Others_h2h_regret(mu,lamb,iteration_all,\\\n",
    "                                                                    cost_DDR_Ante_all,cost_OLS_Ante_all,cost_Oracle_Ante_all)\n",
    "    print(\"Grid = \",grid)"
   ]
  },
  {
   "cell_type": "code",
   "execution_count": null,
   "id": "e60f0058",
   "metadata": {},
   "outputs": [],
   "source": [
    "def obtain_DDR_vs_OLS_Network_Result(grid_all,mu_all,lamb_all,h2h_ddr_vs_ols_input,regret_rd_ddr_vs_ols_input):\n",
    "    h2h_avg_all = {}; regret_rd_avg_all = {}\n",
    "    h2h_prop_all = {}; regret_rd_prop_all = {}\n",
    "\n",
    "    for grid in grid_all:\n",
    "        L_N = grid[0]\n",
    "        h2h_avg = np.zeros((len(mu_all),len(lamb_all))); regret_rd_avg = np.zeros((len(mu_all),len(lamb_all)))\n",
    "        h2h_prop = np.zeros((len(mu_all),len(lamb_all))); regret_rd_prop = np.zeros((len(mu_all),len(lamb_all)))\n",
    "\n",
    "        mu_index = 0\n",
    "        for mu in mu_all:\n",
    "            lamb_index = 0\n",
    "            for lamb in lamb_all:\n",
    "                h2h_ddr_ols_tem = h2h_ddr_vs_ols_input[L_N,mu,lamb]\n",
    "                regret_rd_ddr_vs_ols_tem = regret_rd_ddr_vs_ols_input[L_N,mu,lamb]\n",
    "\n",
    "                h2h_avg[mu_index,lamb_index] = np.nanmean(h2h_ddr_ols_tem)\n",
    "                regret_rd_avg[mu_index,lamb_index] = np.nanmean(regret_rd_ddr_vs_ols_tem)\n",
    "                \n",
    "                h2h_prop[mu_index,lamb_index] = len(h2h_ddr_ols_tem[h2h_ddr_ols_tem >= 0.5])/len(h2h_ddr_ols_tem)\n",
    "                regret_rd_prop[mu_index,lamb_index] = len(regret_rd_ddr_vs_ols_tem[regret_rd_ddr_vs_ols_tem > 0.0])/len(regret_rd_ddr_vs_ols_tem)\n",
    "        \n",
    "                lamb_index = lamb_index + 1\n",
    "            mu_index = mu_index + 1\n",
    "\n",
    "        h2h_avg_all[L_N] = h2h_avg\n",
    "        regret_rd_avg_all[L_N] = regret_rd_avg\n",
    "        h2h_prop_all[L_N] = h2h_prop\n",
    "        regret_rd_prop_all[L_N] = regret_rd_prop\n",
    "\n",
    "    return h2h_avg_all,regret_rd_avg_all,h2h_prop_all,regret_rd_prop_all"
   ]
  },
  {
   "cell_type": "code",
   "execution_count": null,
   "id": "017390a1",
   "metadata": {},
   "outputs": [],
   "source": [
    "h2h_ddr_vs_ols_ante_avg_all,regret_rd_ddr_vs_ols_ante_avg_all,h2h_ddr_vs_ols_ante_prop_all,regret_rd_ddr_vs_ols_ante_prop_all = \\\n",
    "    obtain_DDR_vs_OLS_Network_Result(grid_all,mu_all,lamb_all,h2h_ddr_vs_ols_ante,regret_rd_ddr_vs_ols_ante)"
   ]
  },
  {
   "cell_type": "code",
   "execution_count": null,
   "id": "2e43ff45",
   "metadata": {},
   "outputs": [],
   "source": [
    "regret_avg_max_ante = np.zeros(len(grid_all)); regret_avg_max_indices_ante = {}\n",
    "regret_prop_max_ante = np.zeros(len(grid_all)); regret_prop_max_indices_ante = {}\n",
    "\n",
    "grid_index = 0\n",
    "for grid in grid_all:\n",
    "    L_N = grid[0]\n",
    "\n",
    "    regret_avg_max_ante[grid_index] = np.max(regret_rd_ddr_vs_ols_ante_avg_all[L_N]) * 100\n",
    "    max_index = np.unravel_index(np.argmax(regret_rd_ddr_vs_ols_ante_avg_all[L_N]), regret_rd_ddr_vs_ols_ante_avg_all[L_N].shape)\n",
    "    regret_avg_max_indices_ante[grid[0]] = (mu_all[max_index[0]],lamb_all[max_index[1]])\n",
    "\n",
    "    regret_prop_max_ante[grid_index] = np.max(regret_rd_ddr_vs_ols_ante_prop_all[L_N]) * 100\n",
    "    max_index = np.unravel_index(np.argmax(regret_rd_ddr_vs_ols_ante_prop_all[L_N]), regret_rd_ddr_vs_ols_ante_prop_all[L_N].shape)\n",
    "    regret_prop_max_indices_ante[grid[0]] = (mu_all[max_index[0]],lamb_all[max_index[1]])\n",
    "\n",
    "    grid_index = grid_index + 1"
   ]
  },
  {
   "cell_type": "code",
   "execution_count": null,
   "id": "b228862d",
   "metadata": {},
   "outputs": [],
   "source": [
    "from scipy.stats import gaussian_kde\n",
    "from matplotlib import gridspec\n",
    "import seaborn as sns\n",
    "import matplotlib.pyplot as plt"
   ]
  },
  {
   "cell_type": "code",
   "execution_count": null,
   "id": "e2966b1b",
   "metadata": {},
   "outputs": [],
   "source": [
    "ticksize = 13\n",
    "labelsize = 13\n",
    "legendsize = 13\n",
    "\n",
    "grid_sizes = [grid[0] for grid in grid_all]\n",
    "\n",
    "plt.figure(figsize=(5, 4))\n",
    "sns.set_palette(\"tab10\")  # Enhanced color palette\n",
    "custom_colors = ['#D93B3C', 'royalblue', '#4F207F', '#EFAB02']\n",
    "markers = [\"o\",\"X\",\"s\",\"d\"]\n",
    "\n",
    "sns.lineplot(x=grid_sizes, y=regret_prop_max_ante,marker=markers[0], color=custom_colors[1], linestyle=':')\n",
    "\n",
    "# plt.title('Change of Values by Sample Size and Varphi')\n",
    "plt.xlabel('Grid Size', fontsize = labelsize)\n",
    "plt.ylabel('Head-to-head (\\%)', fontsize = labelsize)\n",
    "\n",
    "xytext_psotion = [(35, -5),(35, -5),(-35, -5),(-15, -20)]\n",
    "for i, size in enumerate(grid_sizes):\n",
    "    x_offset, y_offset = regret_prop_max_indices_ante[size]\n",
    "    plt.annotate(f\"({x_offset:.1f}, {y_offset:.1f})\",\n",
    "                 (size, regret_prop_max_ante[i]),\n",
    "                 textcoords=\"offset points\",\n",
    "                 xytext=xytext_psotion[i],\n",
    "                 ha='center',\n",
    "                 fontsize=12,\n",
    "                 color=custom_colors[1])\n",
    "\n",
    "plt.grid(True, linestyle='--', linewidth=0.5, alpha=0.7)\n",
    "plt.xticks([2, 3, 4, 5], fontsize=ticksize)\n",
    "plt.yticks(np.arange(56,66,2), fontsize=ticksize)\n",
    "\n",
    "plt.tight_layout()  # Automatically adjust subplot params to give specified padding\n",
    "plt.savefig(Result_dir +\"Impact_Network_Structure_Ante_on_H2H.pdf\", format='pdf')\n",
    "\n",
    "plt.show()"
   ]
  },
  {
   "cell_type": "code",
   "execution_count": null,
   "id": "4336c2bd",
   "metadata": {},
   "outputs": [],
   "source": [
    "ticksize = 13\n",
    "labelsize = 13\n",
    "legendsize = 13\n",
    "grid_sizes = [grid[0] for grid in grid_all]\n",
    "\n",
    "plt.figure(figsize=(5, 4))\n",
    "sns.set_palette(\"tab10\")  # Enhanced color palette\n",
    "custom_colors = ['#D93B3C', 'royalblue', '#4F207F', '#EFAB02']\n",
    "markers = [\"o\",\"X\",\"s\",\"d\"]\n",
    "\n",
    "sns.lineplot(x=grid_sizes, y=regret_avg_max_ante,marker=markers[0], color=custom_colors[1], linestyle=':')\n",
    "\n",
    "# plt.title('Change of Values by Sample Size and Varphi')\n",
    "plt.xlabel('Grid Size', fontsize = labelsize)\n",
    "plt.ylabel('Regred Reduction (\\%)', fontsize = labelsize)\n",
    "\n",
    "xytext_psotion = [(35, -5),(35, -5),(-35, -5),(-15, -20)]\n",
    "for i, size in enumerate(grid_sizes):\n",
    "    x_offset, y_offset = regret_avg_max_indices_ante[size]\n",
    "    plt.annotate(f\"({x_offset:.1f}, {y_offset:.1f})\",\n",
    "                 (size, regret_avg_max_ante[i]),\n",
    "                 textcoords=\"offset points\",\n",
    "                 xytext=xytext_psotion[i],\n",
    "                 ha='center',\n",
    "                 fontsize=12,\n",
    "                 color=custom_colors[1])\n",
    "\n",
    "plt.grid(True, linestyle='--', linewidth=0.5, alpha=0.7)\n",
    "plt.xticks([2, 3, 4,5], fontsize=ticksize)\n",
    "plt.yticks([0.2, 0.4, 0.6,0.8,1.0,1.2,1.4], fontsize=ticksize)\n",
    "\n",
    "plt.tight_layout()  # Automatically adjust subplot params to give specified padding\n",
    "plt.savefig(Result_dir +\"Impact_Network_Structure_Ante_on_Regret_Rd.pdf\", format='pdf')\n",
    "\n",
    "plt.show()"
   ]
  }
 ],
 "metadata": {
  "kernelspec": {
   "display_name": ".venv",
   "language": "python",
   "name": "python3"
  },
  "language_info": {
   "codemirror_mode": {
    "name": "ipython",
    "version": 3
   },
   "file_extension": ".py",
   "mimetype": "text/x-python",
   "name": "python",
   "nbconvert_exporter": "python",
   "pygments_lexer": "ipython3",
   "version": "3.9.6"
  }
 },
 "nbformat": 4,
 "nbformat_minor": 5
}
