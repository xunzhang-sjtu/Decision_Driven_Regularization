{
 "cells": [
  {
   "cell_type": "code",
   "execution_count": 1,
   "id": "b725af5a",
   "metadata": {},
   "outputs": [],
   "source": [
    "import random\n",
    "import numpy as np\n",
    "import torch\n",
    "import os\n",
    "import pathlib\n",
    "import pickle\n",
    "from gurobipy import *\n",
    "from rsome import ro\n",
    "from rsome import grb_solver as grb\n",
    "import rsome as rso\n",
    "from rsome import cpt_solver as cpt\n",
    "import pandas as pd\n",
    "torch.manual_seed(42)\n",
    "torch.cuda.manual_seed(42)\n",
    "\n",
    "from Performance import performance_evaluation\n",
    "perfs = performance_evaluation()"
   ]
  },
  {
   "cell_type": "code",
   "execution_count": 2,
   "id": "8180c3ea",
   "metadata": {},
   "outputs": [],
   "source": [
    "def Prepare_Data(DataPath,lower, upper, p, d, coef_seed,iteration_all,num_test, num_train, alpha,mis,data_generation_process,x_dist, e_dist, x_low, x_up, x_mean, x_var, bump):\n",
    "# #  ****** Coef generation *********\n",
    "    from Data import data_generation\n",
    "    data_gen = data_generation()\n",
    "    # W_star = data_gen.generate_truth(DataPath,lower, upper, p, d, coef_seed,data_generation_process) \n",
    "    # print(\"W_star = \",W_star[0,:])\n",
    "    np.random.seed(coef_seed)\n",
    "    x_test_all = {}; c_test_all = {}; x_train_all = {}; c_train_all = {}; W_star_all = {}; noise_train_all = {}; noise_test_all = {}\n",
    "    for iter in iteration_all:\n",
    "        DataPath_iter = DataPath +\"iter=\"+str(iter)+\"/\"\n",
    "        pathlib.Path(DataPath_iter).mkdir(parents=True, exist_ok=True)\n",
    "        W_star = data_gen.generate_truth(DataPath_iter,lower, upper, p, d, iter,data_generation_process) \n",
    "        # #  ****** Data generation *********\n",
    "        x_test_all[iter], c_test_all[iter], x_train_all[iter], c_train_all[iter], noise_train_all[iter],noise_test_all[iter],W_star_all[iter] = data_gen.generate_samples(iter,DataPath_iter,p, d, num_test, num_train, alpha, W_star, mis, num_test, \n",
    "                                data_generation_process, x_dist, e_dist, x_low, x_up, x_mean, x_var, bump) \n",
    "        # print()\n",
    "    return x_test_all, c_test_all, x_train_all, c_train_all, noise_train_all,noise_test_all,W_star_all"
   ]
  },
  {
   "cell_type": "code",
   "execution_count": 13,
   "id": "4d2bac14",
   "metadata": {},
   "outputs": [],
   "source": [
    "grid = (2,2) # grid size\n",
    "num_train = 10 # number of training data\n",
    "num_feat = 1 # size of feature\n",
    "num_test = 1000\n",
    "deg = 1.0 # polynomial degree\n",
    "e = 0.5 # scale of normal std or the range of uniform. For the error term\n",
    "\n",
    "lower = 0 # coef lower bound\n",
    "upper = 1 # coef upper bound\n",
    "p = num_feat # num of features\n",
    "# d = (grid[0] - 1) * (grid[0] - 1) * 2 + 2 * (grid[0] - 1) # num of arcs\n",
    "# num_nodes = grid[0]*grid[0]\n",
    "alpha = e # scale of normal std or the range of uniform. For the error term\n",
    "mis = deg # model misspecification\n",
    "coef_seed = 1\n",
    "\n",
    "x_dist = 'uniform'\n",
    "e_dist = 'normal'\n",
    "x_low = -2\n",
    "x_up = 2\n",
    "x_mean = 2\n",
    "x_var = 2\n",
    "bump = 100\n",
    "\n",
    "data_generation_process = \"SPO_Data_Generation\"\n",
    "# data_generation_process = \"DDR_Data_Generation\"\n",
    "\n",
    "current_directory = os.getcwd()\n",
    "parent_directory = os.path.dirname(current_directory)\n",
    "grandparent_directory = os.path.dirname(parent_directory)"
   ]
  },
  {
   "cell_type": "code",
   "execution_count": 14,
   "id": "6e11b84c",
   "metadata": {},
   "outputs": [
    {
     "name": "stdout",
     "output_type": "stream",
     "text": [
      "DataPath_parent: /Users/zhangxun/Dropbox/Research/Decision_Driven_Regularization/Data/Shortest_Path_Reproduce/Negative_Sign/2by2_grid_SPO_Data_Generation_S=100/\n"
     ]
    }
   ],
   "source": [
    "\n",
    "middle_path = '/Data/Shortest_Path_Reproduce/Negative_Sign/'\n",
    "x_test_all = {}; c_test_all = {}; x_train_all = {}; c_train_all = {}; noise_train_all = {}; noise_test_all = {}; W_star_all = {}\n",
    "iteration_all = np.arange(0,1)\n",
    "\n",
    "d = (grid[0] - 1) * (grid[0] - 1) * 2 + 2 * (grid[0] - 1) # num of arcs\n",
    "num_nodes = grid[0]*grid[0]\n",
    "DataPath_parent = os.path.dirname(grandparent_directory) + middle_path +str(grid[0])+'by'+str(grid[1])+'_grid_' + data_generation_process + \"_S=100/\"\n",
    "pathlib.Path(DataPath_parent).mkdir(parents=True, exist_ok=True)\n",
    "print(\"DataPath_parent:\", DataPath_parent)\n",
    "DataPath = DataPath_parent + \"data_size=\"+str(num_train)+\"_deg=\"+str(deg)+\"_e=\"+str(e)+\"_d=\"+str(d)+\"_x_dist=\"+x_dist+\"_num_test=\"+str(num_test)+\"_diff_W/\"\n",
    "pathlib.Path(DataPath).mkdir(parents=True, exist_ok=True)\n",
    "x_test_all[grid[0]], c_test_all[grid[0]], x_train_all[grid[0]], c_train_all[grid[0]],noise_train_all[grid[0]],noise_test_all[grid[0]],W_star_all[grid[0]] \\\n",
    "= Prepare_Data(DataPath,lower, upper, p, d, coef_seed,iteration_all,num_test, num_train, alpha,mis,data_generation_process,x_dist, e_dist, x_low, x_up, x_mean, x_var, bump)\n"
   ]
  },
  {
   "cell_type": "code",
   "execution_count": 15,
   "id": "83edd7f6",
   "metadata": {},
   "outputs": [
    {
     "data": {
      "text/plain": [
       "{np.int64(0): array([[ 0.55313206],\n",
       "        [ 0.10217833],\n",
       "        [ 1.17877957],\n",
       "        [ 0.56144991],\n",
       "        [ 1.30184623],\n",
       "        [ 0.86896349],\n",
       "        [-1.63880731],\n",
       "        [-0.55364239],\n",
       "        [ 0.02429091],\n",
       "        [ 0.370825  ]])}"
      ]
     },
     "execution_count": 15,
     "metadata": {},
     "output_type": "execute_result"
    }
   ],
   "source": [
    "x_train_all[2]"
   ]
  },
  {
   "cell_type": "code",
   "execution_count": 18,
   "id": "4f7859a3",
   "metadata": {},
   "outputs": [],
   "source": [
    "from OLS import ols_method\n",
    "ols_method_obj = ols_method()\n",
    "iter = 0\n",
    "W_ols, w0_ols, t_ols, obj_ols = ols_method_obj.ols_solver(\"\",x_train_all[grid[0]][0], c_train_all[grid[0]][0])"
   ]
  },
  {
   "cell_type": "code",
   "execution_count": 19,
   "id": "f1c57fcd",
   "metadata": {},
   "outputs": [
    {
     "data": {
      "text/plain": [
       "[[1.124152906578105],\n",
       " [0.627457613825356],\n",
       " [1.6650356724001303],\n",
       " [0.6405684315806773]]"
      ]
     },
     "execution_count": 19,
     "metadata": {},
     "output_type": "execute_result"
    }
   ],
   "source": [
    "W_ols"
   ]
  },
  {
   "cell_type": "code",
   "execution_count": 21,
   "id": "4e7fdf22",
   "metadata": {},
   "outputs": [],
   "source": [
    "from DDR import DDR_method\n",
    "ddr_object = DDR_method()\n",
    "\n",
    "from Network import network_design\n",
    "Network = network_design()\n",
    "arcs,arc_index_mapping = Network._getArcs(grid)\n",
    "\n",
    "lamb = 0.1\n",
    "mu = 0.5\n",
    "w0_ddr,W_ddr,alpha_rst,obj_ddr = ddr_object.solve_DDR(arcs,lamb,mu,num_nodes,x_train_all[grid[0]][0], c_train_all[grid[0]][0])\n"
   ]
  },
  {
   "cell_type": "code",
   "execution_count": 22,
   "id": "8c8b68cf",
   "metadata": {},
   "outputs": [
    {
     "data": {
      "text/plain": [
       "[4.086762719809838, 4.0659676383544205, 4.404938091629465, 4.163716337051171]"
      ]
     },
     "execution_count": 22,
     "metadata": {},
     "output_type": "execute_result"
    }
   ],
   "source": [
    "w0_ddr"
   ]
  }
 ],
 "metadata": {
  "kernelspec": {
   "display_name": ".venv",
   "language": "python",
   "name": "python3"
  },
  "language_info": {
   "codemirror_mode": {
    "name": "ipython",
    "version": 3
   },
   "file_extension": ".py",
   "mimetype": "text/x-python",
   "name": "python",
   "nbconvert_exporter": "python",
   "pygments_lexer": "ipython3",
   "version": "3.9.6"
  }
 },
 "nbformat": 4,
 "nbformat_minor": 5
}
