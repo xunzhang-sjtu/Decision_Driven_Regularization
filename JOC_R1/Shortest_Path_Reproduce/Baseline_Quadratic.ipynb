{
 "cells": [
  {
   "cell_type": "code",
   "execution_count": 1,
   "id": "4865f094",
   "metadata": {},
   "outputs": [],
   "source": [
    "import random\n",
    "import numpy as np\n",
    "import torch\n",
    "import os\n",
    "import pathlib\n",
    "import pickle\n",
    "import pandas as pd\n",
    "torch.manual_seed(42)\n",
    "torch.cuda.manual_seed(42)\n",
    "\n",
    "import Figure_H2H_Regret\n",
    "\n",
    "from Performance import performance_evaluation\n",
    "perfs = performance_evaluation()\n",
    "\n",
    "from Performance import H2h_Regret_Evaluation\n",
    "h2h_regret_eva = H2h_Regret_Evaluation()\n",
    "\n",
    "from Data import Data_Simulator\n",
    "DS_Obj = Data_Simulator()\n",
    "\n",
    "from Oracle import Oracle_Processing\n",
    "Oracle_Proc = Oracle_Processing()\n",
    "\n",
    "from OLS import OLS_Processing\n",
    "OLS_Proc = OLS_Processing()\n",
    "\n",
    "from DDR import DDR_Processing\n",
    "DDR_Proc = DDR_Processing()\n",
    "\n",
    "from PYEPO import EPO_Processing\n",
    "PYEPO_Proc = EPO_Processing()\n",
    "\n",
    "from Data_Load_Store import Load_Store_Methods\n",
    "Data_LSM = Load_Store_Methods()"
   ]
  },
  {
   "cell_type": "code",
   "execution_count": 2,
   "id": "4679a8f8",
   "metadata": {},
   "outputs": [],
   "source": [
    "import Baseline_Params \n",
    "import Sequential_Learning_Approaches as SLA\n",
    "import Integrated_Learning_Approaches as ILA"
   ]
  },
  {
   "cell_type": "markdown",
   "id": "70a9c70a",
   "metadata": {},
   "source": [
    "### Parameters"
   ]
  },
  {
   "cell_type": "code",
   "execution_count": 3,
   "id": "d87a2fcb",
   "metadata": {},
   "outputs": [],
   "source": [
    "data_generation_process = \"SPO_Data_Generation\"\n",
    "# data_generation_process = \"DDR_Data_Generation\"\n",
    "\n",
    "current_directory = os.getcwd()\n",
    "parent_directory = os.path.dirname(current_directory)\n",
    "project_directory = os.path.dirname(os.path.dirname(os.path.dirname(parent_directory)))\n",
    "middle_path = '/Data_JOC_R1/Shortest_Path_Final/Baseline_quadratic_' + data_generation_process +\"_0705/\"\n",
    "working_dir = project_directory + middle_path\n",
    "Result_dir = project_directory + middle_path + \"Result/\"\n",
    "pathlib.Path(working_dir).mkdir(parents=True, exist_ok=True)\n",
    "pathlib.Path(Result_dir).mkdir(parents=True, exist_ok=True)"
   ]
  },
  {
   "cell_type": "code",
   "execution_count": 4,
   "id": "805a3153",
   "metadata": {},
   "outputs": [],
   "source": [
    "Baseline_Params.set_Params(working_dir)\n",
    "num_train, num_feat, num_test, deg, e, lower, upper, p, alpha, mis, coef_seed, x_dist, e_dist, x_low, x_up, x_mean, x_var, bump, grid_all, iteration_all,mu_all,lamb_all = Baseline_Params.get_Params(working_dir)"
   ]
  },
  {
   "cell_type": "code",
   "execution_count": null,
   "id": "60114308",
   "metadata": {},
   "outputs": [],
   "source": [
    "grid_all = [(3, 3)]\n",
    "mu_all = [0.75]\n",
    "lamb_all = [0.8]\n",
    "mis = 8.0\n",
    "deg = mis\n",
    "num_train = 500\n",
    "iteration_all = np.arange(0,100)"
   ]
  },
  {
   "cell_type": "code",
   "execution_count": 6,
   "id": "d2e403ea",
   "metadata": {},
   "outputs": [
    {
     "name": "stdout",
     "output_type": "stream",
     "text": [
      "DataPath: /Users/zhangxun/Dropbox/Research/Decision_Driven_Regularization/Data_JOC_R1/Shortest_Path_Final/Baseline_quadratic_SPO_Data_Generation_0705/3by3_grid/data_size=500_deg=8.0_e=0.5_num_test=1000_x_dist=uniform_e_dist=normal/\n"
     ]
    }
   ],
   "source": [
    "for grid in grid_all:\n",
    "    L_N = grid[0]\n",
    "    d = (L_N - 1) * (L_N - 1) * 2 + 2 * (L_N - 1) # num of arcs\n",
    "    num_nodes = L_N*L_N\n",
    "\n",
    "    DataPath_parent = project_directory + middle_path +str(L_N)+'by'+str(L_N)+'_grid/'\n",
    "    DataPath = DataPath_parent + f\"data_size={num_train}_deg={deg}_e={e}_num_test={num_test}\"+\"_x_dist=\"+x_dist+\"_e_dist=\"+e_dist+\"/\"\n",
    "    pathlib.Path(DataPath).mkdir(parents=True, exist_ok=True)\n",
    "    print(\"DataPath:\", DataPath)\n",
    "    if os.path.exists(DataPath+\"x_test_all.pkl\"):\n",
    "        print(\"Already Exist\")\n",
    "    else:\n",
    "        x_test_all, c_test_all, x_train_all, c_train_all,noise_train_all,noise_test_all,W_star_all = \\\n",
    "        DS_Obj.Simulator(DataPath,lower, upper, p, d, coef_seed,iteration_all,num_test, num_train, alpha,mis,data_generation_process,x_dist, e_dist, x_low, x_up, x_mean, x_var, bump)\n",
    "\n",
    "        Data_LSM.store_input_data(DataPath,x_test_all,c_test_all,x_train_all,c_train_all,noise_test_all,noise_train_all,W_star_all)"
   ]
  },
  {
   "cell_type": "markdown",
   "id": "58d25bc7",
   "metadata": {},
   "source": [
    "##### 2.1 Run Oracle"
   ]
  },
  {
   "cell_type": "code",
   "execution_count": 7,
   "id": "c993d10b",
   "metadata": {},
   "outputs": [
    {
     "name": "stdout",
     "output_type": "stream",
     "text": [
      "DataPath: /Users/zhangxun/Dropbox/Research/Decision_Driven_Regularization/Data_JOC_R1/Shortest_Path_Final/Baseline_quadratic_SPO_Data_Generation_0705/3by3_grid/data_size=500_deg=8.0_e=0.5_num_test=1000_x_dist=uniform_e_dist=normal/\n",
      "Set parameter Username\n",
      "Academic license - for non-commercial use only - expires 2026-03-13\n",
      "Oracle: iter= 20 ,cost_Oracle_Ante= 58838.019665758504\n",
      "Oracle: iter= 40 ,cost_Oracle_Ante= 34531.36279831257\n",
      "Oracle: iter= 60 ,cost_Oracle_Ante= 40378.14894460804\n",
      "Oracle: iter= 80 ,cost_Oracle_Ante= 62370.5700807594\n"
     ]
    }
   ],
   "source": [
    "for grid in grid_all:\n",
    "    from Network import network_design\n",
    "    Network = network_design()\n",
    "    arcs,arc_index_mapping = Network._getArcs(grid)\n",
    "    L_N = grid[0]\n",
    "    DataPath_parent = project_directory + middle_path +str(L_N)+'by'+str(L_N)+'_grid/'\n",
    "    DataPath = DataPath_parent + f\"data_size={num_train}_deg={deg}_e={e}_num_test={num_test}\"+\"_x_dist=\"+x_dist+\"_e_dist=\"+e_dist+\"/\"\n",
    "    print(\"DataPath:\", DataPath)\n",
    "    if os.path.exists(DataPath+\"cost_Oracle_Ante_all.pkl\"):\n",
    "        print(\"Results already exist\")\n",
    "    else:\n",
    "        SLA.Run_Oracle(DataPath,arcs, grid,mis,bump,iteration_all,num_feat,data_generation_process)"
   ]
  },
  {
   "cell_type": "markdown",
   "id": "c24e953b",
   "metadata": {},
   "source": [
    "##### 2.2 Run OLS"
   ]
  },
  {
   "cell_type": "code",
   "execution_count": 8,
   "id": "7fff455f",
   "metadata": {},
   "outputs": [
    {
     "name": "stdout",
     "output_type": "stream",
     "text": [
      "DataPath: /Users/zhangxun/Dropbox/Research/Decision_Driven_Regularization/Data_JOC_R1/Shortest_Path_Final/Baseline_quadratic_SPO_Data_Generation_0705/3by3_grid/data_size=500_deg=8.0_e=0.5_num_test=1000_x_dist=uniform_e_dist=normal/\n",
      "OLS: iter= 0 ,cost_OLS_Ante= 64994.482417718915\n",
      "OLS: iter= 1 ,cost_OLS_Ante= 43652.21309028756\n",
      "OLS: iter= 2 ,cost_OLS_Ante= 50306.45559096332\n",
      "OLS: iter= 3 ,cost_OLS_Ante= 45146.28166862795\n",
      "OLS: iter= 4 ,cost_OLS_Ante= 57177.0450994071\n",
      "OLS: iter= 5 ,cost_OLS_Ante= 54358.711413719895\n",
      "OLS: iter= 6 ,cost_OLS_Ante= 67986.5268972346\n",
      "OLS: iter= 7 ,cost_OLS_Ante= 45280.48009151575\n",
      "OLS: iter= 8 ,cost_OLS_Ante= 60865.31812519853\n",
      "OLS: iter= 9 ,cost_OLS_Ante= 57243.68856337006\n",
      "OLS: iter= 10 ,cost_OLS_Ante= 44979.9992669612\n",
      "OLS: iter= 11 ,cost_OLS_Ante= 39907.522015355185\n",
      "OLS: iter= 12 ,cost_OLS_Ante= 39700.412961250666\n",
      "OLS: iter= 13 ,cost_OLS_Ante= 45925.445344077525\n",
      "OLS: iter= 14 ,cost_OLS_Ante= 41574.08162754006\n",
      "OLS: iter= 15 ,cost_OLS_Ante= 37684.69422861485\n",
      "OLS: iter= 16 ,cost_OLS_Ante= 41156.302371436905\n",
      "OLS: iter= 17 ,cost_OLS_Ante= 54906.93179693706\n",
      "OLS: iter= 18 ,cost_OLS_Ante= 57385.544856629145\n",
      "OLS: iter= 19 ,cost_OLS_Ante= 52970.3515492734\n",
      "OLS: iter= 20 ,cost_OLS_Ante= 69000.69985518101\n",
      "OLS: iter= 20 ,cost_OLS_Ante= 69000.69985518101\n",
      "OLS: iter= 21 ,cost_OLS_Ante= 48997.45861015227\n",
      "OLS: iter= 22 ,cost_OLS_Ante= 51886.62200390701\n",
      "OLS: iter= 23 ,cost_OLS_Ante= 47830.78786548191\n",
      "OLS: iter= 24 ,cost_OLS_Ante= 51946.270651104795\n",
      "OLS: iter= 25 ,cost_OLS_Ante= 49603.23844452771\n",
      "OLS: iter= 26 ,cost_OLS_Ante= 54938.440979753985\n",
      "OLS: iter= 27 ,cost_OLS_Ante= 64522.36906261917\n",
      "OLS: iter= 28 ,cost_OLS_Ante= 52093.65375395438\n",
      "OLS: iter= 29 ,cost_OLS_Ante= 50644.761942458346\n",
      "OLS: iter= 30 ,cost_OLS_Ante= 36226.32921571522\n",
      "OLS: iter= 31 ,cost_OLS_Ante= 32715.250414046594\n",
      "OLS: iter= 32 ,cost_OLS_Ante= 36679.701654670134\n",
      "OLS: iter= 33 ,cost_OLS_Ante= 44201.13786562143\n",
      "OLS: iter= 34 ,cost_OLS_Ante= 53339.6399877128\n",
      "OLS: iter= 35 ,cost_OLS_Ante= 31451.177677729058\n",
      "OLS: iter= 36 ,cost_OLS_Ante= 50610.67834114299\n",
      "OLS: iter= 37 ,cost_OLS_Ante= 62949.19913043794\n",
      "OLS: iter= 38 ,cost_OLS_Ante= 47924.52446675266\n",
      "OLS: iter= 39 ,cost_OLS_Ante= 77218.6066432971\n",
      "OLS: iter= 40 ,cost_OLS_Ante= 40197.480192526134\n",
      "OLS: iter= 40 ,cost_OLS_Ante= 40197.480192526134\n",
      "OLS: iter= 41 ,cost_OLS_Ante= 44781.13085289473\n",
      "OLS: iter= 42 ,cost_OLS_Ante= 55291.88032049582\n",
      "OLS: iter= 43 ,cost_OLS_Ante= 48577.107127525625\n",
      "OLS: iter= 44 ,cost_OLS_Ante= 50475.94280683218\n",
      "OLS: iter= 45 ,cost_OLS_Ante= 39186.20859994091\n",
      "OLS: iter= 46 ,cost_OLS_Ante= 47124.96940836741\n",
      "OLS: iter= 47 ,cost_OLS_Ante= 54909.71089828105\n",
      "OLS: iter= 48 ,cost_OLS_Ante= 52496.36670639054\n",
      "OLS: iter= 49 ,cost_OLS_Ante= 55453.64582470958\n",
      "OLS: iter= 50 ,cost_OLS_Ante= 49672.04093108553\n",
      "OLS: iter= 51 ,cost_OLS_Ante= 36093.42778589205\n",
      "OLS: iter= 52 ,cost_OLS_Ante= 61205.44844400968\n",
      "OLS: iter= 53 ,cost_OLS_Ante= 36106.15243242128\n",
      "OLS: iter= 54 ,cost_OLS_Ante= 53882.28486129984\n",
      "OLS: iter= 55 ,cost_OLS_Ante= 68619.26575737534\n",
      "OLS: iter= 56 ,cost_OLS_Ante= 36835.0772981963\n",
      "OLS: iter= 57 ,cost_OLS_Ante= 52419.217740028515\n",
      "OLS: iter= 58 ,cost_OLS_Ante= 50004.91452264013\n",
      "OLS: iter= 59 ,cost_OLS_Ante= 55287.16187292006\n",
      "OLS: iter= 60 ,cost_OLS_Ante= 47633.88299937575\n",
      "OLS: iter= 60 ,cost_OLS_Ante= 47633.88299937575\n",
      "OLS: iter= 61 ,cost_OLS_Ante= 29569.696745330104\n",
      "OLS: iter= 62 ,cost_OLS_Ante= 46632.06878819766\n",
      "OLS: iter= 63 ,cost_OLS_Ante= 71267.93569022903\n",
      "OLS: iter= 64 ,cost_OLS_Ante= 52764.910277098104\n",
      "OLS: iter= 65 ,cost_OLS_Ante= 38893.509920631695\n",
      "OLS: iter= 66 ,cost_OLS_Ante= 32475.03174652593\n",
      "OLS: iter= 67 ,cost_OLS_Ante= 37678.69516479297\n",
      "OLS: iter= 68 ,cost_OLS_Ante= 47701.28696075715\n",
      "OLS: iter= 69 ,cost_OLS_Ante= 35403.550908167854\n",
      "OLS: iter= 70 ,cost_OLS_Ante= 32285.84195462039\n",
      "OLS: iter= 71 ,cost_OLS_Ante= 47219.93843441148\n",
      "OLS: iter= 72 ,cost_OLS_Ante= 36271.59711103296\n",
      "OLS: iter= 73 ,cost_OLS_Ante= 56609.607810910704\n",
      "OLS: iter= 74 ,cost_OLS_Ante= 48711.32330163547\n",
      "OLS: iter= 75 ,cost_OLS_Ante= 58343.493328025615\n",
      "OLS: iter= 76 ,cost_OLS_Ante= 60606.47581777649\n",
      "OLS: iter= 77 ,cost_OLS_Ante= 38686.28768513182\n",
      "OLS: iter= 78 ,cost_OLS_Ante= 62710.031709793126\n",
      "OLS: iter= 79 ,cost_OLS_Ante= 61670.44586627274\n",
      "OLS: iter= 80 ,cost_OLS_Ante= 67463.48864935596\n",
      "OLS: iter= 80 ,cost_OLS_Ante= 67463.48864935596\n",
      "OLS: iter= 81 ,cost_OLS_Ante= 58649.54319473672\n",
      "OLS: iter= 82 ,cost_OLS_Ante= 55183.87960158867\n",
      "OLS: iter= 83 ,cost_OLS_Ante= 50643.769060614795\n",
      "OLS: iter= 84 ,cost_OLS_Ante= 34904.692738542566\n",
      "OLS: iter= 85 ,cost_OLS_Ante= 61655.79893376336\n",
      "OLS: iter= 86 ,cost_OLS_Ante= 44328.284097015785\n",
      "OLS: iter= 87 ,cost_OLS_Ante= 43011.61288462456\n",
      "OLS: iter= 88 ,cost_OLS_Ante= 46685.737899428226\n",
      "OLS: iter= 89 ,cost_OLS_Ante= 47599.61155498011\n",
      "OLS: iter= 90 ,cost_OLS_Ante= 57807.63003063389\n",
      "OLS: iter= 91 ,cost_OLS_Ante= 52799.96508669672\n",
      "OLS: iter= 92 ,cost_OLS_Ante= 49868.63013971769\n",
      "OLS: iter= 93 ,cost_OLS_Ante= 44171.31874247043\n",
      "OLS: iter= 94 ,cost_OLS_Ante= 54282.82500351414\n",
      "OLS: iter= 95 ,cost_OLS_Ante= 46588.29862180049\n",
      "OLS: iter= 96 ,cost_OLS_Ante= 46328.56807252921\n",
      "OLS: iter= 97 ,cost_OLS_Ante= 39968.312174061524\n",
      "OLS: iter= 98 ,cost_OLS_Ante= 43610.94396906782\n",
      "OLS: iter= 99 ,cost_OLS_Ante= 47372.98112639536\n"
     ]
    }
   ],
   "source": [
    "for grid in grid_all:\n",
    "    from Network import network_design\n",
    "    Network = network_design()\n",
    "    arcs,arc_index_mapping = Network._getArcs(grid)\n",
    "    L_N = grid[0]\n",
    "\n",
    "    DataPath_parent = project_directory + middle_path +str(L_N)+'by'+str(L_N)+'_grid/'\n",
    "    DataPath = DataPath_parent + f\"data_size={num_train}_deg={deg}_e={e}_num_test={num_test}\"+\"_x_dist=\"+x_dist+\"_e_dist=\"+e_dist+\"/\"\n",
    "    print(\"DataPath:\", DataPath)\n",
    "    if os.path.exists(DataPath+\"cost_OLS_Ante_all.pkl\"):\n",
    "        print(\"Results already exist\")\n",
    "    else:\n",
    "        SLA.Run_OLS(DataPath,arcs, grid,mis,bump,iteration_all,num_feat,data_generation_process)"
   ]
  },
  {
   "cell_type": "markdown",
   "id": "e884d6f7",
   "metadata": {},
   "source": [
    "##### 2.3.0 Run DDR"
   ]
  },
  {
   "cell_type": "code",
   "execution_count": 9,
   "id": "636be7f6",
   "metadata": {},
   "outputs": [
    {
     "name": "stdout",
     "output_type": "stream",
     "text": [
      "DataPath: /Users/zhangxun/Dropbox/Research/Decision_Driven_Regularization/Data_JOC_R1/Shortest_Path_Final/Baseline_quadratic_SPO_Data_Generation_0705/3by3_grid/data_size=500_deg=8.0_e=0.5_num_test=1000_x_dist=uniform_e_dist=normal/\n",
      "DDR: iter= 0 ,mu= 0.75 ,lamb= 0.8 ,cost_DDR_Ante = 64994.482417718915\n",
      "\n",
      "DDR: iter= 1 ,mu= 0.75 ,lamb= 0.8 ,cost_DDR_Ante = 43652.21309028756\n",
      "\n",
      "DDR: iter= 2 ,mu= 0.75 ,lamb= 0.8 ,cost_DDR_Ante = 50306.45559096332\n",
      "\n",
      "DDR: iter= 3 ,mu= 0.75 ,lamb= 0.8 ,cost_DDR_Ante = 45146.28166862795\n",
      "\n",
      "DDR: iter= 4 ,mu= 0.75 ,lamb= 0.8 ,cost_DDR_Ante = 57177.0450994071\n",
      "\n",
      "DDR: iter= 5 ,mu= 0.75 ,lamb= 0.8 ,cost_DDR_Ante = 54358.711413719895\n",
      "\n",
      "DDR: iter= 6 ,mu= 0.75 ,lamb= 0.8 ,cost_DDR_Ante = 67986.5268972346\n",
      "\n",
      "DDR: iter= 7 ,mu= 0.75 ,lamb= 0.8 ,cost_DDR_Ante = 45280.48009151575\n",
      "\n",
      "DDR: iter= 8 ,mu= 0.75 ,lamb= 0.8 ,cost_DDR_Ante = 60865.31812519853\n",
      "\n",
      "DDR: iter= 9 ,mu= 0.75 ,lamb= 0.8 ,cost_DDR_Ante = 57243.68856337006\n",
      "\n",
      "DDR: iter= 10 ,mu= 0.75 ,lamb= 0.8 ,cost_DDR_Ante = 44979.9992669612\n",
      "\n",
      "DDR: iter= 11 ,mu= 0.75 ,lamb= 0.8 ,cost_DDR_Ante = 39907.522015355185\n",
      "\n",
      "DDR: iter= 12 ,mu= 0.75 ,lamb= 0.8 ,cost_DDR_Ante = 39700.412961250666\n",
      "\n",
      "DDR: iter= 13 ,mu= 0.75 ,lamb= 0.8 ,cost_DDR_Ante = 45925.445344077525\n",
      "\n",
      "DDR: iter= 14 ,mu= 0.75 ,lamb= 0.8 ,cost_DDR_Ante = 41574.08162754006\n",
      "\n",
      "DDR: iter= 15 ,mu= 0.75 ,lamb= 0.8 ,cost_DDR_Ante = 37684.69422861485\n",
      "\n",
      "DDR: iter= 16 ,mu= 0.75 ,lamb= 0.8 ,cost_DDR_Ante = 41156.302371436905\n",
      "\n",
      "DDR: iter= 17 ,mu= 0.75 ,lamb= 0.8 ,cost_DDR_Ante = 54906.93179693706\n",
      "\n",
      "DDR: iter= 18 ,mu= 0.75 ,lamb= 0.8 ,cost_DDR_Ante = 57385.544856629145\n",
      "\n",
      "DDR: iter= 19 ,mu= 0.75 ,lamb= 0.8 ,cost_DDR_Ante = 52970.3515492734\n",
      "\n",
      "DDR: iter= 20 ,mu= 0.75 ,lamb= 0.8 ,cost_DDR_Ante = 69000.69985518101\n",
      "\n",
      "DDR: iter= 20 ,mu= 0.75 ,lamb= 0.8 ,cost_DDR_Ante = 69000.69985518101\n",
      "DDR: iter= 21 ,mu= 0.75 ,lamb= 0.8 ,cost_DDR_Ante = 48997.45861015227\n",
      "\n",
      "DDR: iter= 22 ,mu= 0.75 ,lamb= 0.8 ,cost_DDR_Ante = 51886.62200390701\n",
      "\n",
      "DDR: iter= 23 ,mu= 0.75 ,lamb= 0.8 ,cost_DDR_Ante = 47830.78786548191\n",
      "\n",
      "DDR: iter= 24 ,mu= 0.75 ,lamb= 0.8 ,cost_DDR_Ante = 51946.270651104795\n",
      "\n",
      "DDR: iter= 25 ,mu= 0.75 ,lamb= 0.8 ,cost_DDR_Ante = 49603.23844452771\n",
      "\n",
      "DDR: iter= 26 ,mu= 0.75 ,lamb= 0.8 ,cost_DDR_Ante = 54938.440979753985\n",
      "\n",
      "DDR: iter= 27 ,mu= 0.75 ,lamb= 0.8 ,cost_DDR_Ante = 64522.36906261917\n",
      "\n",
      "DDR: iter= 28 ,mu= 0.75 ,lamb= 0.8 ,cost_DDR_Ante = 52093.65375395438\n",
      "\n",
      "DDR: iter= 29 ,mu= 0.75 ,lamb= 0.8 ,cost_DDR_Ante = 50644.761942458346\n",
      "\n",
      "DDR: iter= 30 ,mu= 0.75 ,lamb= 0.8 ,cost_DDR_Ante = 36226.32921571522\n",
      "\n",
      "DDR: iter= 31 ,mu= 0.75 ,lamb= 0.8 ,cost_DDR_Ante = 32715.250414046594\n",
      "\n",
      "DDR: iter= 32 ,mu= 0.75 ,lamb= 0.8 ,cost_DDR_Ante = 36679.701654670134\n",
      "\n",
      "DDR: iter= 33 ,mu= 0.75 ,lamb= 0.8 ,cost_DDR_Ante = 44201.13786562143\n",
      "\n",
      "DDR: iter= 34 ,mu= 0.75 ,lamb= 0.8 ,cost_DDR_Ante = 53339.6399877128\n",
      "\n",
      "DDR: iter= 35 ,mu= 0.75 ,lamb= 0.8 ,cost_DDR_Ante = 31451.177677729058\n",
      "\n",
      "DDR: iter= 36 ,mu= 0.75 ,lamb= 0.8 ,cost_DDR_Ante = 50610.67834114299\n",
      "\n",
      "DDR: iter= 37 ,mu= 0.75 ,lamb= 0.8 ,cost_DDR_Ante = 62949.19913043794\n",
      "\n",
      "DDR: iter= 38 ,mu= 0.75 ,lamb= 0.8 ,cost_DDR_Ante = 47924.52446675266\n",
      "\n",
      "DDR: iter= 39 ,mu= 0.75 ,lamb= 0.8 ,cost_DDR_Ante = 77218.6066432971\n",
      "\n",
      "DDR: iter= 40 ,mu= 0.75 ,lamb= 0.8 ,cost_DDR_Ante = 40197.480192526134\n",
      "\n",
      "DDR: iter= 40 ,mu= 0.75 ,lamb= 0.8 ,cost_DDR_Ante = 40197.480192526134\n",
      "DDR: iter= 41 ,mu= 0.75 ,lamb= 0.8 ,cost_DDR_Ante = 44781.13085289473\n",
      "\n",
      "DDR: iter= 42 ,mu= 0.75 ,lamb= 0.8 ,cost_DDR_Ante = 55291.88032049582\n",
      "\n",
      "DDR: iter= 43 ,mu= 0.75 ,lamb= 0.8 ,cost_DDR_Ante = 48577.107127525625\n",
      "\n",
      "DDR: iter= 44 ,mu= 0.75 ,lamb= 0.8 ,cost_DDR_Ante = 50475.94280683218\n",
      "\n",
      "DDR: iter= 45 ,mu= 0.75 ,lamb= 0.8 ,cost_DDR_Ante = 39186.20859994091\n",
      "\n",
      "DDR: iter= 46 ,mu= 0.75 ,lamb= 0.8 ,cost_DDR_Ante = 47124.96940836741\n",
      "\n",
      "DDR: iter= 47 ,mu= 0.75 ,lamb= 0.8 ,cost_DDR_Ante = 54909.71089828105\n",
      "\n",
      "DDR: iter= 48 ,mu= 0.75 ,lamb= 0.8 ,cost_DDR_Ante = 52496.36670639054\n",
      "\n",
      "DDR: iter= 49 ,mu= 0.75 ,lamb= 0.8 ,cost_DDR_Ante = 55453.64582470958\n",
      "\n",
      "DDR: iter= 50 ,mu= 0.75 ,lamb= 0.8 ,cost_DDR_Ante = 49672.04093108553\n",
      "\n",
      "DDR: iter= 51 ,mu= 0.75 ,lamb= 0.8 ,cost_DDR_Ante = 36093.42778589205\n",
      "\n",
      "DDR: iter= 52 ,mu= 0.75 ,lamb= 0.8 ,cost_DDR_Ante = 61205.44844400968\n",
      "\n",
      "DDR: iter= 53 ,mu= 0.75 ,lamb= 0.8 ,cost_DDR_Ante = 36106.15243242128\n",
      "\n",
      "DDR: iter= 54 ,mu= 0.75 ,lamb= 0.8 ,cost_DDR_Ante = 53882.28486129984\n",
      "\n",
      "DDR: iter= 55 ,mu= 0.75 ,lamb= 0.8 ,cost_DDR_Ante = 68619.26575737534\n",
      "\n",
      "DDR: iter= 56 ,mu= 0.75 ,lamb= 0.8 ,cost_DDR_Ante = 36835.0772981963\n",
      "\n",
      "DDR: iter= 57 ,mu= 0.75 ,lamb= 0.8 ,cost_DDR_Ante = 52419.217740028515\n",
      "\n",
      "DDR: iter= 58 ,mu= 0.75 ,lamb= 0.8 ,cost_DDR_Ante = 50004.91452264013\n",
      "\n",
      "DDR: iter= 59 ,mu= 0.75 ,lamb= 0.8 ,cost_DDR_Ante = 55287.16187292006\n",
      "\n",
      "DDR: iter= 60 ,mu= 0.75 ,lamb= 0.8 ,cost_DDR_Ante = 47633.88299937575\n",
      "\n",
      "DDR: iter= 60 ,mu= 0.75 ,lamb= 0.8 ,cost_DDR_Ante = 47633.88299937575\n",
      "DDR: iter= 61 ,mu= 0.75 ,lamb= 0.8 ,cost_DDR_Ante = 29569.696745330104\n",
      "\n",
      "DDR: iter= 62 ,mu= 0.75 ,lamb= 0.8 ,cost_DDR_Ante = 46632.06878819766\n",
      "\n",
      "DDR: iter= 63 ,mu= 0.75 ,lamb= 0.8 ,cost_DDR_Ante = 71267.93569022903\n",
      "\n",
      "DDR: iter= 64 ,mu= 0.75 ,lamb= 0.8 ,cost_DDR_Ante = 52764.910277098104\n",
      "\n",
      "DDR: iter= 65 ,mu= 0.75 ,lamb= 0.8 ,cost_DDR_Ante = 38893.509920631695\n",
      "\n",
      "DDR: iter= 66 ,mu= 0.75 ,lamb= 0.8 ,cost_DDR_Ante = 32475.03174652593\n",
      "\n",
      "DDR: iter= 67 ,mu= 0.75 ,lamb= 0.8 ,cost_DDR_Ante = 37678.69516479297\n",
      "\n",
      "DDR: iter= 68 ,mu= 0.75 ,lamb= 0.8 ,cost_DDR_Ante = 47701.28696075715\n",
      "\n",
      "DDR: iter= 69 ,mu= 0.75 ,lamb= 0.8 ,cost_DDR_Ante = 35403.550908167854\n",
      "\n",
      "DDR: iter= 70 ,mu= 0.75 ,lamb= 0.8 ,cost_DDR_Ante = 32285.84195462039\n",
      "\n",
      "DDR: iter= 71 ,mu= 0.75 ,lamb= 0.8 ,cost_DDR_Ante = 47219.93843441148\n",
      "\n",
      "DDR: iter= 72 ,mu= 0.75 ,lamb= 0.8 ,cost_DDR_Ante = 36271.59711103296\n",
      "\n",
      "DDR: iter= 73 ,mu= 0.75 ,lamb= 0.8 ,cost_DDR_Ante = 56609.607810910704\n",
      "\n",
      "DDR: iter= 74 ,mu= 0.75 ,lamb= 0.8 ,cost_DDR_Ante = 48711.32330163547\n",
      "\n",
      "DDR: iter= 75 ,mu= 0.75 ,lamb= 0.8 ,cost_DDR_Ante = 58343.493328025615\n",
      "\n",
      "DDR: iter= 76 ,mu= 0.75 ,lamb= 0.8 ,cost_DDR_Ante = 60606.47581777649\n",
      "\n",
      "DDR: iter= 77 ,mu= 0.75 ,lamb= 0.8 ,cost_DDR_Ante = 38686.28768513182\n",
      "\n",
      "DDR: iter= 78 ,mu= 0.75 ,lamb= 0.8 ,cost_DDR_Ante = 62710.031709793126\n",
      "\n",
      "DDR: iter= 79 ,mu= 0.75 ,lamb= 0.8 ,cost_DDR_Ante = 61670.44586627274\n",
      "\n",
      "DDR: iter= 80 ,mu= 0.75 ,lamb= 0.8 ,cost_DDR_Ante = 67463.48864935596\n",
      "\n",
      "DDR: iter= 80 ,mu= 0.75 ,lamb= 0.8 ,cost_DDR_Ante = 67463.48864935596\n",
      "DDR: iter= 81 ,mu= 0.75 ,lamb= 0.8 ,cost_DDR_Ante = 58649.54319473672\n",
      "\n",
      "DDR: iter= 82 ,mu= 0.75 ,lamb= 0.8 ,cost_DDR_Ante = 55183.87960158867\n",
      "\n",
      "DDR: iter= 83 ,mu= 0.75 ,lamb= 0.8 ,cost_DDR_Ante = 50643.769060614795\n",
      "\n",
      "DDR: iter= 84 ,mu= 0.75 ,lamb= 0.8 ,cost_DDR_Ante = 34904.692738542566\n",
      "\n",
      "DDR: iter= 85 ,mu= 0.75 ,lamb= 0.8 ,cost_DDR_Ante = 61655.79893376336\n",
      "\n",
      "DDR: iter= 86 ,mu= 0.75 ,lamb= 0.8 ,cost_DDR_Ante = 44328.284097015785\n",
      "\n",
      "DDR: iter= 87 ,mu= 0.75 ,lamb= 0.8 ,cost_DDR_Ante = 43011.61288462456\n",
      "\n",
      "DDR: iter= 88 ,mu= 0.75 ,lamb= 0.8 ,cost_DDR_Ante = 46685.737899428226\n",
      "\n",
      "DDR: iter= 89 ,mu= 0.75 ,lamb= 0.8 ,cost_DDR_Ante = 47599.61155498011\n",
      "\n",
      "DDR: iter= 90 ,mu= 0.75 ,lamb= 0.8 ,cost_DDR_Ante = 57807.63003063389\n",
      "\n",
      "DDR: iter= 91 ,mu= 0.75 ,lamb= 0.8 ,cost_DDR_Ante = 52799.96508669672\n",
      "\n",
      "DDR: iter= 92 ,mu= 0.75 ,lamb= 0.8 ,cost_DDR_Ante = 49868.63013971769\n",
      "\n",
      "DDR: iter= 93 ,mu= 0.75 ,lamb= 0.8 ,cost_DDR_Ante = 44171.31874247043\n",
      "\n",
      "DDR: iter= 94 ,mu= 0.75 ,lamb= 0.8 ,cost_DDR_Ante = 54282.82500351414\n",
      "\n",
      "DDR: iter= 95 ,mu= 0.75 ,lamb= 0.8 ,cost_DDR_Ante = 46588.29862180049\n",
      "\n",
      "DDR: iter= 96 ,mu= 0.75 ,lamb= 0.8 ,cost_DDR_Ante = 46328.56807252921\n",
      "\n",
      "DDR: iter= 97 ,mu= 0.75 ,lamb= 0.8 ,cost_DDR_Ante = 39968.312174061524\n",
      "\n",
      "DDR: iter= 98 ,mu= 0.75 ,lamb= 0.8 ,cost_DDR_Ante = 43610.94396906782\n",
      "\n",
      "DDR: iter= 99 ,mu= 0.75 ,lamb= 0.8 ,cost_DDR_Ante = 47372.98112639536\n",
      "\n"
     ]
    }
   ],
   "source": [
    "for grid in grid_all:\n",
    "    from Network import network_design\n",
    "    Network = network_design()\n",
    "    arcs,arc_index_mapping = Network._getArcs(grid)\n",
    "    L_N = grid[0]\n",
    "    DataPath_parent = project_directory + middle_path +str(L_N)+'by'+str(L_N)+'_grid/'\n",
    "    DataPath = DataPath_parent + f\"data_size={num_train}_deg={deg}_e={e}_num_test={num_test}\"+\"_x_dist=\"+x_dist+\"_e_dist=\"+e_dist+\"/\"\n",
    "    print(\"DataPath:\", DataPath)\n",
    "    if os.path.exists(DataPath+\"cost_DDR_Ante_all.pkl\"):\n",
    "        print(\"Results already exist\")\n",
    "    else:\n",
    "        ILA.Run_DDR(DataPath,mu_all,lamb_all,arcs, grid,mis,bump,iteration_all,num_feat,data_generation_process)"
   ]
  },
  {
   "cell_type": "markdown",
   "id": "a56c2225",
   "metadata": {},
   "source": [
    "##### 2.3.1 Run DDR with quadratic term"
   ]
  },
  {
   "cell_type": "code",
   "execution_count": 10,
   "id": "f49aa4f8",
   "metadata": {},
   "outputs": [
    {
     "name": "stdout",
     "output_type": "stream",
     "text": [
      "DataPath: /Users/zhangxun/Dropbox/Research/Decision_Driven_Regularization/Data_JOC_R1/Shortest_Path_Final/Baseline_quadratic_SPO_Data_Generation_0705/3by3_grid/data_size=500_deg=8.0_e=0.5_num_test=1000_x_dist=uniform_e_dist=normal/\n",
      "DDR quadratic: iter= 0 ,mu= 0.75 ,lamb= 0.8 ,cost_DDR_Ante = 64632.072229147016\n",
      "\n",
      "DDR quadratic: iter= 1 ,mu= 0.75 ,lamb= 0.8 ,cost_DDR_Ante = 41689.47914754667\n",
      "\n",
      "DDR quadratic: iter= 2 ,mu= 0.75 ,lamb= 0.8 ,cost_DDR_Ante = 46334.271149533386\n",
      "\n",
      "DDR quadratic: iter= 3 ,mu= 0.75 ,lamb= 0.8 ,cost_DDR_Ante = 45877.52485637251\n",
      "\n",
      "DDR quadratic: iter= 4 ,mu= 0.75 ,lamb= 0.8 ,cost_DDR_Ante = 50668.54261573206\n",
      "\n",
      "DDR quadratic: iter= 5 ,mu= 0.75 ,lamb= 0.8 ,cost_DDR_Ante = 51142.35571701765\n",
      "\n",
      "DDR quadratic: iter= 6 ,mu= 0.75 ,lamb= 0.8 ,cost_DDR_Ante = 65072.623502337476\n",
      "\n",
      "DDR quadratic: iter= 7 ,mu= 0.75 ,lamb= 0.8 ,cost_DDR_Ante = 44156.42832736675\n",
      "\n",
      "DDR quadratic: iter= 8 ,mu= 0.75 ,lamb= 0.8 ,cost_DDR_Ante = 57497.11106264212\n",
      "\n",
      "DDR quadratic: iter= 9 ,mu= 0.75 ,lamb= 0.8 ,cost_DDR_Ante = 49326.000664879786\n",
      "\n",
      "DDR quadratic: iter= 10 ,mu= 0.75 ,lamb= 0.8 ,cost_DDR_Ante = 44816.26666019988\n",
      "\n",
      "DDR quadratic: iter= 11 ,mu= 0.75 ,lamb= 0.8 ,cost_DDR_Ante = 37063.80543308665\n",
      "\n",
      "DDR quadratic: iter= 12 ,mu= 0.75 ,lamb= 0.8 ,cost_DDR_Ante = 39233.88979307016\n",
      "\n",
      "DDR quadratic: iter= 13 ,mu= 0.75 ,lamb= 0.8 ,cost_DDR_Ante = 41833.11165027176\n",
      "\n",
      "DDR quadratic: iter= 14 ,mu= 0.75 ,lamb= 0.8 ,cost_DDR_Ante = 40799.29398809766\n",
      "\n",
      "DDR quadratic: iter= 15 ,mu= 0.75 ,lamb= 0.8 ,cost_DDR_Ante = 36222.75290011653\n",
      "\n",
      "DDR quadratic: iter= 16 ,mu= 0.75 ,lamb= 0.8 ,cost_DDR_Ante = 40037.28986526987\n",
      "\n",
      "DDR quadratic: iter= 17 ,mu= 0.75 ,lamb= 0.8 ,cost_DDR_Ante = 50618.77886563393\n",
      "\n",
      "DDR quadratic: iter= 18 ,mu= 0.75 ,lamb= 0.8 ,cost_DDR_Ante = 50980.23478143828\n",
      "\n",
      "DDR quadratic: iter= 19 ,mu= 0.75 ,lamb= 0.8 ,cost_DDR_Ante = 48998.80405781929\n",
      "\n",
      "DDR quadratic: iter= 20 ,mu= 0.75 ,lamb= 0.8 ,cost_DDR_Ante = 61633.35725258093\n",
      "\n",
      "DDR: iter= 20 ,mu= 0.75 ,lamb= 0.8 ,cost_DDR_Ante = 61633.35725258093\n",
      "DDR quadratic: iter= 21 ,mu= 0.75 ,lamb= 0.8 ,cost_DDR_Ante = 44989.87634787412\n",
      "\n",
      "DDR quadratic: iter= 22 ,mu= 0.75 ,lamb= 0.8 ,cost_DDR_Ante = 48093.188735644035\n",
      "\n",
      "DDR quadratic: iter= 23 ,mu= 0.75 ,lamb= 0.8 ,cost_DDR_Ante = 46106.32039519991\n",
      "\n",
      "DDR quadratic: iter= 24 ,mu= 0.75 ,lamb= 0.8 ,cost_DDR_Ante = 50987.95992155221\n",
      "\n",
      "DDR quadratic: iter= 25 ,mu= 0.75 ,lamb= 0.8 ,cost_DDR_Ante = 45485.702024054925\n",
      "\n",
      "DDR quadratic: iter= 26 ,mu= 0.75 ,lamb= 0.8 ,cost_DDR_Ante = 49372.073252065406\n",
      "\n",
      "DDR quadratic: iter= 27 ,mu= 0.75 ,lamb= 0.8 ,cost_DDR_Ante = 61646.59462758226\n",
      "\n",
      "DDR quadratic: iter= 28 ,mu= 0.75 ,lamb= 0.8 ,cost_DDR_Ante = 49766.24050434476\n",
      "\n",
      "DDR quadratic: iter= 29 ,mu= 0.75 ,lamb= 0.8 ,cost_DDR_Ante = 49931.20205521035\n",
      "\n",
      "DDR quadratic: iter= 30 ,mu= 0.75 ,lamb= 0.8 ,cost_DDR_Ante = 34549.962255788385\n",
      "\n",
      "DDR quadratic: iter= 31 ,mu= 0.75 ,lamb= 0.8 ,cost_DDR_Ante = 30933.774523533113\n",
      "\n",
      "DDR quadratic: iter= 32 ,mu= 0.75 ,lamb= 0.8 ,cost_DDR_Ante = 36720.19599086419\n",
      "\n",
      "DDR quadratic: iter= 33 ,mu= 0.75 ,lamb= 0.8 ,cost_DDR_Ante = 40217.455699459395\n",
      "\n",
      "DDR quadratic: iter= 34 ,mu= 0.75 ,lamb= 0.8 ,cost_DDR_Ante = 50094.019860719876\n",
      "\n",
      "DDR quadratic: iter= 35 ,mu= 0.75 ,lamb= 0.8 ,cost_DDR_Ante = 31946.995681925877\n",
      "\n",
      "DDR quadratic: iter= 36 ,mu= 0.75 ,lamb= 0.8 ,cost_DDR_Ante = 47900.7788989326\n",
      "\n",
      "DDR quadratic: iter= 37 ,mu= 0.75 ,lamb= 0.8 ,cost_DDR_Ante = 59226.38504612608\n",
      "\n",
      "DDR quadratic: iter= 38 ,mu= 0.75 ,lamb= 0.8 ,cost_DDR_Ante = 43718.74343072778\n",
      "\n",
      "DDR quadratic: iter= 39 ,mu= 0.75 ,lamb= 0.8 ,cost_DDR_Ante = 72011.33466933701\n",
      "\n",
      "DDR quadratic: iter= 40 ,mu= 0.75 ,lamb= 0.8 ,cost_DDR_Ante = 36852.15610487602\n",
      "\n",
      "DDR: iter= 40 ,mu= 0.75 ,lamb= 0.8 ,cost_DDR_Ante = 36852.15610487602\n",
      "DDR quadratic: iter= 41 ,mu= 0.75 ,lamb= 0.8 ,cost_DDR_Ante = 42275.95225042375\n",
      "\n",
      "DDR quadratic: iter= 42 ,mu= 0.75 ,lamb= 0.8 ,cost_DDR_Ante = 50536.963243605474\n",
      "\n",
      "DDR quadratic: iter= 43 ,mu= 0.75 ,lamb= 0.8 ,cost_DDR_Ante = 45633.15444663249\n",
      "\n",
      "DDR quadratic: iter= 44 ,mu= 0.75 ,lamb= 0.8 ,cost_DDR_Ante = 44808.30942415896\n",
      "\n",
      "DDR quadratic: iter= 45 ,mu= 0.75 ,lamb= 0.8 ,cost_DDR_Ante = 38107.20008302423\n",
      "\n",
      "DDR quadratic: iter= 46 ,mu= 0.75 ,lamb= 0.8 ,cost_DDR_Ante = 44240.225451811246\n",
      "\n",
      "DDR quadratic: iter= 47 ,mu= 0.75 ,lamb= 0.8 ,cost_DDR_Ante = 53357.38582051448\n",
      "\n",
      "DDR quadratic: iter= 48 ,mu= 0.75 ,lamb= 0.8 ,cost_DDR_Ante = 46272.31857136882\n",
      "\n",
      "DDR quadratic: iter= 49 ,mu= 0.75 ,lamb= 0.8 ,cost_DDR_Ante = 52031.214279737294\n",
      "\n",
      "DDR quadratic: iter= 50 ,mu= 0.75 ,lamb= 0.8 ,cost_DDR_Ante = 48045.551953904804\n",
      "\n",
      "DDR quadratic: iter= 51 ,mu= 0.75 ,lamb= 0.8 ,cost_DDR_Ante = 34111.3827290746\n",
      "\n",
      "DDR quadratic: iter= 52 ,mu= 0.75 ,lamb= 0.8 ,cost_DDR_Ante = 57977.560419882226\n",
      "\n",
      "DDR quadratic: iter= 53 ,mu= 0.75 ,lamb= 0.8 ,cost_DDR_Ante = 33437.80739169106\n",
      "\n",
      "DDR quadratic: iter= 54 ,mu= 0.75 ,lamb= 0.8 ,cost_DDR_Ante = 50811.561522516444\n",
      "\n",
      "DDR quadratic: iter= 55 ,mu= 0.75 ,lamb= 0.8 ,cost_DDR_Ante = 60080.654712714844\n",
      "\n",
      "DDR quadratic: iter= 56 ,mu= 0.75 ,lamb= 0.8 ,cost_DDR_Ante = 37560.42616112911\n",
      "\n",
      "DDR quadratic: iter= 57 ,mu= 0.75 ,lamb= 0.8 ,cost_DDR_Ante = 50115.8757537397\n",
      "\n",
      "DDR quadratic: iter= 58 ,mu= 0.75 ,lamb= 0.8 ,cost_DDR_Ante = 47154.173426121466\n",
      "\n",
      "DDR quadratic: iter= 59 ,mu= 0.75 ,lamb= 0.8 ,cost_DDR_Ante = 53975.89675824084\n",
      "\n",
      "DDR quadratic: iter= 60 ,mu= 0.75 ,lamb= 0.8 ,cost_DDR_Ante = 42997.36816776181\n",
      "\n",
      "DDR: iter= 60 ,mu= 0.75 ,lamb= 0.8 ,cost_DDR_Ante = 42997.36816776181\n",
      "DDR quadratic: iter= 61 ,mu= 0.75 ,lamb= 0.8 ,cost_DDR_Ante = 28247.090611381882\n",
      "\n",
      "DDR quadratic: iter= 62 ,mu= 0.75 ,lamb= 0.8 ,cost_DDR_Ante = 45221.305327962844\n",
      "\n",
      "DDR quadratic: iter= 63 ,mu= 0.75 ,lamb= 0.8 ,cost_DDR_Ante = 67594.66087154766\n",
      "\n",
      "DDR quadratic: iter= 64 ,mu= 0.75 ,lamb= 0.8 ,cost_DDR_Ante = 50740.709384712594\n",
      "\n",
      "DDR quadratic: iter= 65 ,mu= 0.75 ,lamb= 0.8 ,cost_DDR_Ante = 37976.68367617603\n",
      "\n",
      "DDR quadratic: iter= 66 ,mu= 0.75 ,lamb= 0.8 ,cost_DDR_Ante = 32974.95033228961\n",
      "\n",
      "DDR quadratic: iter= 67 ,mu= 0.75 ,lamb= 0.8 ,cost_DDR_Ante = 36813.84934092465\n",
      "\n",
      "DDR quadratic: iter= 68 ,mu= 0.75 ,lamb= 0.8 ,cost_DDR_Ante = 44409.97543211086\n",
      "\n",
      "DDR quadratic: iter= 69 ,mu= 0.75 ,lamb= 0.8 ,cost_DDR_Ante = 33017.05225132309\n",
      "\n",
      "DDR quadratic: iter= 70 ,mu= 0.75 ,lamb= 0.8 ,cost_DDR_Ante = 32020.144417442658\n",
      "\n",
      "DDR quadratic: iter= 71 ,mu= 0.75 ,lamb= 0.8 ,cost_DDR_Ante = 45880.08609142338\n",
      "\n",
      "DDR quadratic: iter= 72 ,mu= 0.75 ,lamb= 0.8 ,cost_DDR_Ante = 35268.38057139597\n",
      "\n",
      "DDR quadratic: iter= 73 ,mu= 0.75 ,lamb= 0.8 ,cost_DDR_Ante = 57056.58066477283\n",
      "\n",
      "DDR quadratic: iter= 74 ,mu= 0.75 ,lamb= 0.8 ,cost_DDR_Ante = 44748.673397973376\n",
      "\n",
      "DDR quadratic: iter= 75 ,mu= 0.75 ,lamb= 0.8 ,cost_DDR_Ante = 57019.061526759615\n",
      "\n",
      "DDR quadratic: iter= 76 ,mu= 0.75 ,lamb= 0.8 ,cost_DDR_Ante = 57550.85016004888\n",
      "\n",
      "DDR quadratic: iter= 77 ,mu= 0.75 ,lamb= 0.8 ,cost_DDR_Ante = 37456.782858177095\n",
      "\n",
      "DDR quadratic: iter= 78 ,mu= 0.75 ,lamb= 0.8 ,cost_DDR_Ante = 58798.14713131298\n",
      "\n",
      "DDR quadratic: iter= 79 ,mu= 0.75 ,lamb= 0.8 ,cost_DDR_Ante = 61826.798755489974\n",
      "\n",
      "DDR quadratic: iter= 80 ,mu= 0.75 ,lamb= 0.8 ,cost_DDR_Ante = 65320.21445510589\n",
      "\n",
      "DDR: iter= 80 ,mu= 0.75 ,lamb= 0.8 ,cost_DDR_Ante = 65320.21445510589\n",
      "DDR quadratic: iter= 81 ,mu= 0.75 ,lamb= 0.8 ,cost_DDR_Ante = 54808.111940976705\n",
      "\n",
      "DDR quadratic: iter= 82 ,mu= 0.75 ,lamb= 0.8 ,cost_DDR_Ante = 56643.340638807\n",
      "\n",
      "DDR quadratic: iter= 83 ,mu= 0.75 ,lamb= 0.8 ,cost_DDR_Ante = 45196.274194002515\n",
      "\n",
      "DDR quadratic: iter= 84 ,mu= 0.75 ,lamb= 0.8 ,cost_DDR_Ante = 33959.81394125042\n",
      "\n",
      "DDR quadratic: iter= 85 ,mu= 0.75 ,lamb= 0.8 ,cost_DDR_Ante = 58478.3288067551\n",
      "\n",
      "DDR quadratic: iter= 86 ,mu= 0.75 ,lamb= 0.8 ,cost_DDR_Ante = 41153.9994550574\n",
      "\n",
      "DDR quadratic: iter= 87 ,mu= 0.75 ,lamb= 0.8 ,cost_DDR_Ante = 40651.2553362061\n",
      "\n",
      "DDR quadratic: iter= 88 ,mu= 0.75 ,lamb= 0.8 ,cost_DDR_Ante = 44268.443416684626\n",
      "\n",
      "DDR quadratic: iter= 89 ,mu= 0.75 ,lamb= 0.8 ,cost_DDR_Ante = 44072.55932344\n",
      "\n",
      "DDR quadratic: iter= 90 ,mu= 0.75 ,lamb= 0.8 ,cost_DDR_Ante = 53919.17551443891\n",
      "\n",
      "DDR quadratic: iter= 91 ,mu= 0.75 ,lamb= 0.8 ,cost_DDR_Ante = 50794.73152620638\n",
      "\n",
      "DDR quadratic: iter= 92 ,mu= 0.75 ,lamb= 0.8 ,cost_DDR_Ante = 46159.65184389126\n",
      "\n",
      "DDR quadratic: iter= 93 ,mu= 0.75 ,lamb= 0.8 ,cost_DDR_Ante = 44418.286818785105\n",
      "\n",
      "DDR quadratic: iter= 94 ,mu= 0.75 ,lamb= 0.8 ,cost_DDR_Ante = 50631.63797026649\n",
      "\n",
      "DDR quadratic: iter= 95 ,mu= 0.75 ,lamb= 0.8 ,cost_DDR_Ante = 44089.0220022405\n",
      "\n",
      "DDR quadratic: iter= 96 ,mu= 0.75 ,lamb= 0.8 ,cost_DDR_Ante = 42279.8580132696\n",
      "\n",
      "DDR quadratic: iter= 97 ,mu= 0.75 ,lamb= 0.8 ,cost_DDR_Ante = 39479.55133771046\n",
      "\n",
      "DDR quadratic: iter= 98 ,mu= 0.75 ,lamb= 0.8 ,cost_DDR_Ante = 41061.06593331434\n",
      "\n",
      "DDR quadratic: iter= 99 ,mu= 0.75 ,lamb= 0.8 ,cost_DDR_Ante = 46331.10859463631\n",
      "\n"
     ]
    }
   ],
   "source": [
    "for grid in grid_all:\n",
    "    from Network import network_design\n",
    "    Network = network_design()\n",
    "    arcs,arc_index_mapping = Network._getArcs(grid)\n",
    "    L_N = grid[0]\n",
    "    DataPath_parent = project_directory + middle_path +str(L_N)+'by'+str(L_N)+'_grid/'\n",
    "    DataPath = DataPath_parent + f\"data_size={num_train}_deg={deg}_e={e}_num_test={num_test}\"+\"_x_dist=\"+x_dist+\"_e_dist=\"+e_dist+\"/\"\n",
    "    print(\"DataPath:\", DataPath)\n",
    "    if os.path.exists(DataPath+\"cost_DDR_Ante_quad_all.pkl\"):\n",
    "        print(\"Results already exist\")\n",
    "    else:\n",
    "        ILA.Run_DDR_Quadratic(DataPath,mu_all,lamb_all,arcs, grid,mis,bump,iteration_all,num_feat,data_generation_process)"
   ]
  },
  {
   "cell_type": "markdown",
   "id": "a344243f",
   "metadata": {},
   "source": [
    "##### 2.3.2 Run DDR with self quadratic term"
   ]
  },
  {
   "cell_type": "code",
   "execution_count": 11,
   "id": "dac9cbb6",
   "metadata": {},
   "outputs": [],
   "source": [
    "# for grid in grid_all:\n",
    "#     from Network import network_design\n",
    "#     Network = network_design()\n",
    "#     arcs,arc_index_mapping = Network._getArcs(grid)\n",
    "#     L_N = grid[0]\n",
    "#     DataPath_parent = project_directory + middle_path +str(L_N)+'by'+str(L_N)+'_grid/'\n",
    "#     DataPath = DataPath_parent + f\"data_size={num_train}_deg={deg}_e={e}_num_test={num_test}\"+\"_x_dist=\"+x_dist+\"_e_dist=\"+e_dist+\"/\"\n",
    "#     print(\"DataPath:\", DataPath)\n",
    "#     if os.path.exists(DataPath+\"cost_DDR_Ante_self_quad_all.pkl\"): \n",
    "#         print(\"Results already exist\")\n",
    "#     else:\n",
    "#         ILA.Run_DDR_self_Quadratic(DataPath,mu_all,lamb_all,arcs, grid,mis,bump,iteration_all,num_feat,data_generation_process)"
   ]
  },
  {
   "cell_type": "markdown",
   "id": "770e4c8a",
   "metadata": {},
   "source": [
    "##### 2.4.0 Run SPO+"
   ]
  },
  {
   "cell_type": "code",
   "execution_count": 12,
   "id": "4f188b4e",
   "metadata": {},
   "outputs": [
    {
     "name": "stdout",
     "output_type": "stream",
     "text": [
      "DataPath: /Users/zhangxun/Dropbox/Research/Decision_Driven_Regularization/Data_JOC_R1/Shortest_Path_Final/Baseline_quadratic_SPO_Data_Generation_0705/3by3_grid/data_size=500_deg=8.0_e=0.5_num_test=1000_x_dist=uniform_e_dist=normal/\n",
      "['spo+'] : iter= 0 ,cost_EPO_Ante= 67620.29173836435\n",
      "['spo+'] : iter= 1 ,cost_EPO_Ante= 46055.003466211674\n",
      "['spo+'] : iter= 2 ,cost_EPO_Ante= 47171.89977634991\n",
      "['spo+'] : iter= 3 ,cost_EPO_Ante= 44818.26960751864\n",
      "['spo+'] : iter= 4 ,cost_EPO_Ante= 53527.879756590126\n",
      "['spo+'] : iter= 5 ,cost_EPO_Ante= 51825.77801452008\n",
      "['spo+'] : iter= 6 ,cost_EPO_Ante= 77249.32415710962\n",
      "['spo+'] : iter= 7 ,cost_EPO_Ante= 44429.68226918214\n",
      "['spo+'] : iter= 8 ,cost_EPO_Ante= 62004.831406204714\n",
      "['spo+'] : iter= 9 ,cost_EPO_Ante= 53406.71066876747\n",
      "['spo+'] : iter= 10 ,cost_EPO_Ante= 47243.73155936794\n",
      "['spo+'] : iter= 11 ,cost_EPO_Ante= 40244.61326450991\n",
      "['spo+'] : iter= 12 ,cost_EPO_Ante= 39757.82571622409\n",
      "['spo+'] : iter= 13 ,cost_EPO_Ante= 42863.74939715973\n",
      "['spo+'] : iter= 14 ,cost_EPO_Ante= 44988.39503281641\n",
      "['spo+'] : iter= 15 ,cost_EPO_Ante= 36620.2394666972\n",
      "['spo+'] : iter= 16 ,cost_EPO_Ante= 37622.172032059294\n",
      "['spo+'] : iter= 17 ,cost_EPO_Ante= 50263.29697925936\n",
      "['spo+'] : iter= 18 ,cost_EPO_Ante= 52575.89418847227\n",
      "['spo+'] : iter= 19 ,cost_EPO_Ante= 52231.776834552526\n",
      "['spo+'] : iter= 20 ,cost_EPO_Ante= 64408.158401340246\n",
      "['spo+'] : iter= 20 ,cost_EPO_Ante= 64408.158401340246\n",
      "['spo+'] : iter= 21 ,cost_EPO_Ante= 44756.01016170723\n",
      "['spo+'] : iter= 22 ,cost_EPO_Ante= 53118.74308036689\n",
      "['spo+'] : iter= 23 ,cost_EPO_Ante= 49618.804158688305\n",
      "['spo+'] : iter= 24 ,cost_EPO_Ante= 53242.65195817997\n",
      "['spo+'] : iter= 25 ,cost_EPO_Ante= 48597.5326946667\n",
      "['spo+'] : iter= 26 ,cost_EPO_Ante= 52686.00080322996\n",
      "['spo+'] : iter= 27 ,cost_EPO_Ante= 63189.905284594526\n",
      "['spo+'] : iter= 28 ,cost_EPO_Ante= 52133.22651072602\n",
      "['spo+'] : iter= 29 ,cost_EPO_Ante= 51142.17776227761\n",
      "['spo+'] : iter= 30 ,cost_EPO_Ante= 35765.72021576601\n",
      "['spo+'] : iter= 31 ,cost_EPO_Ante= 32904.069862077864\n",
      "['spo+'] : iter= 32 ,cost_EPO_Ante= 37996.650100313826\n",
      "['spo+'] : iter= 33 ,cost_EPO_Ante= 44281.066736433146\n",
      "['spo+'] : iter= 34 ,cost_EPO_Ante= 53128.890456714435\n",
      "['spo+'] : iter= 35 ,cost_EPO_Ante= 31356.25615239897\n",
      "['spo+'] : iter= 36 ,cost_EPO_Ante= 51442.38586714423\n",
      "['spo+'] : iter= 37 ,cost_EPO_Ante= 63249.48702301011\n",
      "['spo+'] : iter= 38 ,cost_EPO_Ante= 45585.82737734679\n",
      "['spo+'] : iter= 39 ,cost_EPO_Ante= 77151.10551326488\n",
      "['spo+'] : iter= 40 ,cost_EPO_Ante= 43140.61708692413\n",
      "['spo+'] : iter= 40 ,cost_EPO_Ante= 43140.61708692413\n",
      "['spo+'] : iter= 41 ,cost_EPO_Ante= 42627.98624486643\n",
      "['spo+'] : iter= 42 ,cost_EPO_Ante= 56715.644244226\n",
      "['spo+'] : iter= 43 ,cost_EPO_Ante= 48831.56757379963\n",
      "['spo+'] : iter= 44 ,cost_EPO_Ante= 48976.62700978832\n",
      "['spo+'] : iter= 45 ,cost_EPO_Ante= 45293.33777020668\n",
      "['spo+'] : iter= 46 ,cost_EPO_Ante= 49873.91252183392\n",
      "['spo+'] : iter= 47 ,cost_EPO_Ante= 54886.4577971859\n",
      "['spo+'] : iter= 48 ,cost_EPO_Ante= 48313.58916054352\n",
      "['spo+'] : iter= 49 ,cost_EPO_Ante= 55889.076389219255\n",
      "['spo+'] : iter= 50 ,cost_EPO_Ante= 48842.46590681709\n",
      "['spo+'] : iter= 51 ,cost_EPO_Ante= 36381.126823731094\n",
      "['spo+'] : iter= 52 ,cost_EPO_Ante= 63403.066886899454\n",
      "['spo+'] : iter= 53 ,cost_EPO_Ante= 38096.6455486238\n",
      "['spo+'] : iter= 54 ,cost_EPO_Ante= 52917.650081397354\n",
      "['spo+'] : iter= 55 ,cost_EPO_Ante= 64690.11583959402\n",
      "['spo+'] : iter= 56 ,cost_EPO_Ante= 37131.27224789534\n",
      "['spo+'] : iter= 57 ,cost_EPO_Ante= 53856.51842044203\n",
      "['spo+'] : iter= 58 ,cost_EPO_Ante= 51782.02608554125\n",
      "['spo+'] : iter= 59 ,cost_EPO_Ante= 54830.77426571803\n",
      "['spo+'] : iter= 60 ,cost_EPO_Ante= 46738.24622210642\n",
      "['spo+'] : iter= 60 ,cost_EPO_Ante= 46738.24622210642\n",
      "['spo+'] : iter= 61 ,cost_EPO_Ante= 28917.23269759079\n",
      "['spo+'] : iter= 62 ,cost_EPO_Ante= 46668.69128640158\n",
      "['spo+'] : iter= 63 ,cost_EPO_Ante= 69290.43455265678\n",
      "['spo+'] : iter= 64 ,cost_EPO_Ante= 54284.214272966085\n",
      "['spo+'] : iter= 65 ,cost_EPO_Ante= 40247.40665385916\n",
      "['spo+'] : iter= 66 ,cost_EPO_Ante= 32365.003304333433\n",
      "['spo+'] : iter= 67 ,cost_EPO_Ante= 40133.137690437485\n",
      "['spo+'] : iter= 68 ,cost_EPO_Ante= 47201.31877333172\n",
      "['spo+'] : iter= 69 ,cost_EPO_Ante= 35085.269758573\n",
      "['spo+'] : iter= 70 ,cost_EPO_Ante= 33804.956106780795\n",
      "['spo+'] : iter= 71 ,cost_EPO_Ante= 48378.67058333493\n",
      "['spo+'] : iter= 72 ,cost_EPO_Ante= 35750.23153376551\n",
      "['spo+'] : iter= 73 ,cost_EPO_Ante= 57440.958190744364\n",
      "['spo+'] : iter= 74 ,cost_EPO_Ante= 49067.307805023745\n",
      "['spo+'] : iter= 75 ,cost_EPO_Ante= 58469.014085210874\n",
      "['spo+'] : iter= 76 ,cost_EPO_Ante= 57330.80761631739\n",
      "['spo+'] : iter= 77 ,cost_EPO_Ante= 40335.53273763637\n",
      "['spo+'] : iter= 78 ,cost_EPO_Ante= 59915.82797604664\n",
      "['spo+'] : iter= 79 ,cost_EPO_Ante= 61322.095700568185\n",
      "['spo+'] : iter= 80 ,cost_EPO_Ante= 67650.4063346316\n",
      "['spo+'] : iter= 80 ,cost_EPO_Ante= 67650.4063346316\n",
      "['spo+'] : iter= 81 ,cost_EPO_Ante= 56380.40356000836\n",
      "['spo+'] : iter= 82 ,cost_EPO_Ante= 57864.14218306877\n",
      "['spo+'] : iter= 83 ,cost_EPO_Ante= 46254.29415373284\n",
      "['spo+'] : iter= 84 ,cost_EPO_Ante= 35101.73963847181\n",
      "['spo+'] : iter= 85 ,cost_EPO_Ante= 59248.710013765914\n",
      "['spo+'] : iter= 86 ,cost_EPO_Ante= 44224.04916766454\n",
      "['spo+'] : iter= 87 ,cost_EPO_Ante= 37452.23564132465\n",
      "['spo+'] : iter= 88 ,cost_EPO_Ante= 45166.03472368118\n",
      "['spo+'] : iter= 89 ,cost_EPO_Ante= 49750.37852717151\n",
      "['spo+'] : iter= 90 ,cost_EPO_Ante= 55943.72622602635\n",
      "['spo+'] : iter= 91 ,cost_EPO_Ante= 56129.93094654231\n",
      "['spo+'] : iter= 92 ,cost_EPO_Ante= 49206.130181206885\n",
      "['spo+'] : iter= 93 ,cost_EPO_Ante= 43811.05395586603\n",
      "['spo+'] : iter= 94 ,cost_EPO_Ante= 51678.16300088599\n",
      "['spo+'] : iter= 95 ,cost_EPO_Ante= 49174.03096590415\n",
      "['spo+'] : iter= 96 ,cost_EPO_Ante= 43372.7998977205\n",
      "['spo+'] : iter= 97 ,cost_EPO_Ante= 43575.58966792324\n",
      "['spo+'] : iter= 98 ,cost_EPO_Ante= 42785.96398465478\n",
      "['spo+'] : iter= 99 ,cost_EPO_Ante= 48997.836767141394\n"
     ]
    }
   ],
   "source": [
    "method_names = [\"spo+\"]\n",
    "for grid in grid_all:\n",
    "    from Network import network_design\n",
    "    Network = network_design()\n",
    "    arcs,arc_index_mapping = Network._getArcs(grid)\n",
    "    L_N = grid[0]\n",
    "    DataPath_parent = project_directory + middle_path +str(L_N)+'by'+str(L_N)+'_grid/'\n",
    "    DataPath = DataPath_parent + f\"data_size={num_train}_deg={deg}_e={e}_num_test={num_test}\"+\"_x_dist=\"+x_dist+\"_e_dist=\"+e_dist+\"/\"\n",
    "    print(\"DataPath:\", DataPath)\n",
    "    if os.path.exists(DataPath+\"cost_spo+_Ante_all.pkl\"):\n",
    "        print(\"Results already exist\")\n",
    "    else:\n",
    "        ILA.run_EPO_approaches(DataPath,method_names,arcs, grid,mis,bump,iteration_all,num_feat,data_generation_process)"
   ]
  },
  {
   "cell_type": "markdown",
   "id": "115a7fef",
   "metadata": {},
   "source": [
    "##### 2.4.1 Run SPO+ with quadratic term"
   ]
  },
  {
   "cell_type": "code",
   "execution_count": 13,
   "id": "520765f7",
   "metadata": {},
   "outputs": [],
   "source": [
    "# method_names = [\"spo+\"]\n",
    "# for grid in grid_all:\n",
    "#     from Network import network_design\n",
    "#     Network = network_design()\n",
    "#     arcs,arc_index_mapping = Network._getArcs(grid)\n",
    "#     L_N = grid[0]\n",
    "#     DataPath_parent = project_directory + middle_path +str(L_N)+'by'+str(L_N)+'_grid/'\n",
    "#     DataPath = DataPath_parent + f\"data_size={num_train}_deg={deg}_e={e}_num_test={num_test}\"+\"_x_dist=\"+x_dist+\"_e_dist=\"+e_dist+\"/\"\n",
    "#     print(\"DataPath:\", DataPath)\n",
    "#     if os.path.exists(DataPath+\"cost_spo+_Ante_quad_all.pkl\"):\n",
    "#         print(\"Results already exist\")\n",
    "#     else:\n",
    "#         ILA.run_EPO_approaches_Quadratic(DataPath,method_names,arcs, grid,mis,bump,iteration_all,num_feat,data_generation_process)"
   ]
  },
  {
   "cell_type": "markdown",
   "id": "e8a90ac6",
   "metadata": {},
   "source": [
    "##### 2.4.2 Run SPO+ with self quadratic term"
   ]
  },
  {
   "cell_type": "code",
   "execution_count": 14,
   "id": "cb5ef062",
   "metadata": {},
   "outputs": [],
   "source": [
    "# method_names = [\"spo+\"]\n",
    "# for grid in grid_all:\n",
    "#     from Network import network_design\n",
    "#     Network = network_design()\n",
    "#     arcs,arc_index_mapping = Network._getArcs(grid)\n",
    "#     L_N = grid[0]\n",
    "#     DataPath_parent = project_directory + middle_path +str(L_N)+'by'+str(L_N)+'_grid/'\n",
    "#     DataPath = DataPath_parent + f\"data_size={num_train}_deg={deg}_e={e}_num_test={num_test}\"+\"_x_dist=\"+x_dist+\"_e_dist=\"+e_dist+\"/\"\n",
    "#     print(\"DataPath:\", DataPath)\n",
    "#     if os.path.exists(DataPath+\"cost_spo+_Ante_self_quad_all.pkl\"):\n",
    "#         print(\"Results already exist\")\n",
    "#     else:\n",
    "#         ILA.run_EPO_approaches_self_Quadratic(DataPath,method_names,arcs, grid,mis,bump,iteration_all,num_feat,data_generation_process)"
   ]
  },
  {
   "cell_type": "markdown",
   "id": "f1052548",
   "metadata": {},
   "source": [
    "##### 2.5 Run PG"
   ]
  },
  {
   "cell_type": "code",
   "execution_count": 15,
   "id": "12cfb217",
   "metadata": {},
   "outputs": [],
   "source": [
    "# method_names = [\"pg\"]\n",
    "# for grid in grid_all:\n",
    "#     from Network import network_design\n",
    "#     Network = network_design()\n",
    "#     arcs,arc_index_mapping = Network._getArcs(grid)\n",
    "#     L_N = grid[0]\n",
    "\n",
    "#     DataPath_parent = project_directory + middle_path +str(L_N)+'by'+str(L_N)+'_grid/'\n",
    "#     DataPath = DataPath_parent + f\"data_size={num_train}_deg={deg}_e={e}_num_test={num_test}\"+\"_x_dist=\"+x_dist+\"_e_dist=\"+e_dist+\"/\"\n",
    "#     print(\"DataPath:\", DataPath)\n",
    "#     if os.path.exists(DataPath+\"cost_pg_Ante_quad_all.pkl\"):\n",
    "#         print(\"Results already exist\")\n",
    "#     else:\n",
    "#         ILA.run_EPO_approaches_Quadratic(DataPath,method_names,arcs, grid,mis,bump,iteration_all,num_feat,data_generation_process)"
   ]
  },
  {
   "cell_type": "markdown",
   "id": "092c9f48",
   "metadata": {},
   "source": [
    "##### 2.6 Run LTR"
   ]
  },
  {
   "cell_type": "code",
   "execution_count": 16,
   "id": "1a1257a8",
   "metadata": {},
   "outputs": [],
   "source": [
    "# method_names = [\"ltr\"]\n",
    "# for grid in grid_all:\n",
    "#     from Network import network_design\n",
    "#     Network = network_design()\n",
    "#     arcs,arc_index_mapping = Network._getArcs(grid)\n",
    "#     L_N = grid[0]\n",
    "\n",
    "#     DataPath_parent = project_directory + middle_path +str(L_N)+'by'+str(L_N)+'_grid/'\n",
    "#     DataPath = DataPath_parent + f\"data_size={num_train}_deg={deg}_e={e}_num_test={num_test}\"+\"_x_dist=\"+x_dist+\"_e_dist=\"+e_dist+\"/\"\n",
    "#     print(\"DataPath:\", DataPath)\n",
    "#     if os.path.exists(DataPath+\"cost_ltr_Ante_quad_all.pkl\"):\n",
    "#         print(\"Results already exist\")\n",
    "#     else:\n",
    "#         ILA.run_EPO_approaches_Quadratic(DataPath,method_names,arcs, grid,mis,bump,iteration_all,num_feat,data_generation_process)"
   ]
  },
  {
   "cell_type": "markdown",
   "id": "11b8b4f5",
   "metadata": {},
   "source": [
    "##### 2.7 Run Random Forest"
   ]
  },
  {
   "cell_type": "code",
   "execution_count": 17,
   "id": "98f76774",
   "metadata": {},
   "outputs": [],
   "source": [
    "# for grid in grid_all:\n",
    "#     from Network import network_design\n",
    "#     Network = network_design()\n",
    "#     arcs,arc_index_mapping = Network._getArcs(grid)\n",
    "#     L_N = grid[0]\n",
    "\n",
    "#     DataPath_parent = project_directory + middle_path +str(L_N)+'by'+str(L_N)+'_grid/'\n",
    "#     DataPath = DataPath_parent + f\"data_size={num_train}_deg={deg}_e={e}_num_test={num_test}\"+\"_x_dist=\"+x_dist+\"_e_dist=\"+e_dist+\"/\"\n",
    "#     print(\"DataPath:\", DataPath)\n",
    "#     if os.path.exists(DataPath+\"cost_RF_Ante_quad_all.pkl\"):\n",
    "#         print(\"Results already exist\")\n",
    "#     else:\n",
    "#         SLA.Run_Random_Forest_Quadratic(DataPath,arcs, grid,mis,bump,iteration_all,num_feat,data_generation_process)"
   ]
  },
  {
   "cell_type": "markdown",
   "id": "54d4b896",
   "metadata": {},
   "source": [
    "##### 2.8 Run XGBoost"
   ]
  },
  {
   "cell_type": "code",
   "execution_count": 18,
   "id": "60b8018c",
   "metadata": {},
   "outputs": [],
   "source": [
    "# for grid in grid_all:\n",
    "#     from Network import network_design\n",
    "#     Network = network_design()\n",
    "#     arcs,arc_index_mapping = Network._getArcs(grid)\n",
    "#     L_N = grid[0]\n",
    "\n",
    "#     DataPath_parent = project_directory + middle_path +str(L_N)+'by'+str(L_N)+'_grid/'\n",
    "#     DataPath = DataPath_parent + f\"data_size={num_train}_deg={deg}_e={e}_num_test={num_test}\"+\"_x_dist=\"+x_dist+\"_e_dist=\"+e_dist+\"/\"\n",
    "#     print(\"DataPath:\", DataPath)\n",
    "#     if os.path.exists(DataPath+\"cost_XG_Ante_quad_all.pkl\"):\n",
    "#         print(\"Results already exist\")\n",
    "#     else:\n",
    "#         SLA.Run_XGBoost_Quadratic(DataPath,arcs, grid,mis,bump,iteration_all,num_feat,data_generation_process)"
   ]
  },
  {
   "cell_type": "markdown",
   "id": "978a91b1",
   "metadata": {},
   "source": [
    "### Comparison"
   ]
  },
  {
   "cell_type": "code",
   "execution_count": 19,
   "id": "44daa8d7",
   "metadata": {},
   "outputs": [],
   "source": [
    "from scipy.stats import gaussian_kde\n",
    "from matplotlib import gridspec\n",
    "import seaborn as sns\n",
    "import matplotlib.pyplot as plt\n",
    "def Upright_Figure(all_x, all_y, figure_name, size = (5, 5), move = [-0.07, 0.07, 0.35, 0.55], \n",
    "                        ymin = 0, ymax=100,xmin = 0,xmax = 100):\n",
    "    \n",
    "    data = np.asarray([all_x,all_y])\n",
    "\n",
    "    ####### Obtain KDE  \n",
    "    #KDE for top marginal\n",
    "    kde_X = gaussian_kde(data[0])\n",
    "    #KDE for right marginal\n",
    "    kde_Y = gaussian_kde(data[1])\n",
    "\n",
    "    x = np.linspace(0, 100, 100)\n",
    "    y = np.linspace(ymin, ymax, 100)\n",
    "\n",
    "    dx = kde_X(x) # X-marginal density\n",
    "    dy = kde_Y(y) # Y-marginal density\n",
    "\n",
    "    #Define grid for subplots\n",
    "    gs = gridspec.GridSpec(2, 2, width_ratios=[3, 1], height_ratios = [1, 3])\n",
    "\n",
    "    ####### Create scatter plot\n",
    "    fig = plt.figure(figsize = size)\n",
    "    ax = plt.subplot(gs[1, 0])\n",
    "    cax = ax.scatter(data[0], data[1], s = 15, color='#003D7C', marker = \"o\", edgecolors = \"#EF7C00\")\n",
    "    plt.xlabel('Head-to-head (%)')\n",
    "\n",
    "    plt.ylabel('Regret reduction (%)') #pio\n",
    "    plt.vlines(50, ymin, ymax, linestyle=\"dashed\", alpha = 0.8,color = 'k')\n",
    "    plt.hlines(0, xmin, xmax, linestyle=\"dashed\", alpha = 0.8,color = 'k')\n",
    "\n",
    "    # ####### Create Y-marginal (right)\n",
    "    axr = plt.subplot(gs[1, 1], xticks = [], yticks = [], frameon = False)\n",
    "    axr.plot(dy, y, color = 'black')\n",
    "\n",
    "    axr.fill_betweenx(y, 0, dy, where = y <= 0.01, alpha = 1, color='#EF7C00')\n",
    "    axr.fill_betweenx(y, 0, dy, where = y >= 0, alpha = 1, color='#003D7C')\n",
    "\n",
    "    leftarea = np.round( sum(n <= 0 for n in all_y)/len(all_y),2 )\n",
    "    rightarea = np.round( sum(n > 0 for n in all_y)/len(all_y),2 )\n",
    "\n",
    "    axr.annotate(leftarea, xy=(0.15, abs(ymin)/(ymax - ymin) + move[0]), xycoords='axes fraction', bbox=dict(boxstyle=\"round\", fc=\"w\"), size = 12)\n",
    "    axr.annotate(rightarea, xy=(0.15, abs(ymin)/(ymax - ymin) + move[1]), xycoords='axes fraction', bbox=dict(boxstyle=\"round\", fc=\"w\"), size = 12)\n",
    "\n",
    "    # ####### Create X-marginal (top)\n",
    "    axt = plt.subplot(gs[0,0], frameon = False, yticks = [], xticks = [])\n",
    "    #base = pyplot.gca().transData\n",
    "    #rot = transforms.Affine2D().rotate_deg(180)\n",
    "    axt.plot(x, dx, color = 'black')\n",
    "    axt.fill_between(x, 0, dx, where = x >= 49.9, alpha= 1, color = '#003D7C')\n",
    "    axt.fill_between(x, 0, dx, where = x <= 50, alpha= 1, color = '#EF7C00')\n",
    "\n",
    "    #     axt.invert_yaxis()\n",
    "    leftarea = np.round( sum(n <= 50 for n in all_x)/len(all_x),2 )\n",
    "    rightarea = np.round( sum(n > 50 for n in all_x)/len(all_x),2 )\n",
    "\n",
    "    axt.annotate(leftarea, xy=(move[2], 0.15), xycoords='axes fraction', bbox=dict(boxstyle=\"round\", fc=\"w\"), size = 12)\n",
    "    axt.annotate(rightarea, xy=(move[3], 0.15), xycoords='axes fraction', bbox=dict(boxstyle=\"round\", fc=\"w\"), size = 12)\n",
    "\n",
    "    # ####### Bring the marginals closer to the scatter plot and save eps file\n",
    "    fig.tight_layout(pad = 1)\n",
    "    # # plt.savefig(figure_name + '.eps', format='eps')\n",
    "    plt.savefig(figure_name + '.pdf', format='pdf')"
   ]
  },
  {
   "cell_type": "code",
   "execution_count": 20,
   "id": "d63636e6",
   "metadata": {},
   "outputs": [],
   "source": [
    "def obtain_DDR_vs_benchmarks_h2h_regret(grid_all,project_directory,middle_path,num_train,deg,e,num_test,x_dist,e_dist,mu_all,lamb_all,benchmark):\n",
    "    h2h_ = {}; cost_rd_ = {}; regret_rd_ = {}\n",
    "    for grid in grid_all:\n",
    "        L_N = grid[0]\n",
    "        DataPath_parent = project_directory + middle_path +str(L_N)+'by'+str(L_N)+'_grid/'\n",
    "        DataPath = DataPath_parent + f\"data_size={num_train}_deg={deg}_e={e}_num_test={num_test}\"+\"_x_dist=\"+x_dist+\"_e_dist=\"+e_dist+\"/\"\n",
    "        print(\"DataPath:\", DataPath)     \n",
    "        with open(DataPath+'cost_Oracle_Ante_all.pkl', \"rb\") as tf:\n",
    "            cost_Oracle_Ante_all = pickle.load(tf)\n",
    "        with open(DataPath+'cost_OLS_Ante_quad_all.pkl', \"rb\") as tf:\n",
    "            cost_OLS_Ante_all = pickle.load(tf)\n",
    "        with open(DataPath+'cost_DDR_Ante_quad_all.pkl', \"rb\") as tf:\n",
    "            cost_DDR_Ante_all = pickle.load(tf)\n",
    "\n",
    "        with open(DataPath+'cost_spo+_Ante_quad_all.pkl', \"rb\") as tf:\n",
    "            cost_SPO_Ante_all = pickle.load(tf)\n",
    "        with open(DataPath+'cost_rf_Ante_quad_all.pkl', \"rb\") as tf:\n",
    "            cost_RF_Ante_all = pickle.load(tf)\n",
    "        with open(DataPath+'cost_xg_Ante_quad_all.pkl', \"rb\") as tf:\n",
    "            cost_XG_Ante_all = pickle.load(tf)\n",
    "\n",
    "        for mu in mu_all:\n",
    "            for lamb in lamb_all:\n",
    "                if benchmark == \"OLS\":\n",
    "                    h2h_[L_N,mu,lamb],regret_rd_[L_N,mu,lamb] = h2h_regret_eva.calculate_DDR_vs_Others_h2h_regret(mu,lamb,iteration_all,cost_DDR_Ante_all,cost_OLS_Ante_all,cost_Oracle_Ante_all)\n",
    "                if benchmark == \"SPO+\":\n",
    "                    h2h_[L_N,mu,lamb],regret_rd_[L_N,mu,lamb] = h2h_regret_eva.calculate_DDR_vs_Others_h2h_regret(mu,lamb,iteration_all,cost_DDR_Ante_all,cost_SPO_Ante_all,cost_Oracle_Ante_all)\n",
    "                if benchmark == \"RF\":\n",
    "                    h2h_[L_N,mu,lamb],regret_rd_[L_N,mu,lamb] = h2h_regret_eva.calculate_DDR_vs_Others_h2h_regret(mu,lamb,iteration_all,cost_DDR_Ante_all,cost_RF_Ante_all,cost_Oracle_Ante_all)\n",
    "                if benchmark == \"XG\":\n",
    "                    h2h_[L_N,mu,lamb],regret_rd_[L_N,mu,lamb] = h2h_regret_eva.calculate_DDR_vs_Others_h2h_regret(mu,lamb,iteration_all,cost_DDR_Ante_all,cost_XG_Ante_all,cost_Oracle_Ante_all)\n",
    "        print(\"Grid = \",grid)\n",
    "    return h2h_,regret_rd_"
   ]
  },
  {
   "cell_type": "markdown",
   "id": "5380c179",
   "metadata": {},
   "source": [
    "### Comparison between DDR with/without quadratic term"
   ]
  },
  {
   "cell_type": "code",
   "execution_count": 46,
   "id": "f38020d2",
   "metadata": {},
   "outputs": [
    {
     "name": "stdout",
     "output_type": "stream",
     "text": [
      "DataPath: /Users/zhangxun/Dropbox/Research/Decision_Driven_Regularization/Data_JOC_R1/Shortest_Path_Final/Baseline_quadratic_SPO_Data_Generation_0705/3by3_grid/data_size=500_deg=8.0_e=0.5_num_test=1000_x_dist=uniform_e_dist=normal/\n"
     ]
    }
   ],
   "source": [
    "grid = (3,3)\n",
    "L_N = grid[0]\n",
    "DataPath_parent = project_directory + middle_path +str(L_N)+'by'+str(L_N)+'_grid/'\n",
    "DataPath = DataPath_parent + f\"data_size={num_train}_deg={deg}_e={e}_num_test={num_test}\"+\"_x_dist=\"+x_dist+\"_e_dist=\"+e_dist+\"/\"\n",
    "print(\"DataPath:\", DataPath)     \n",
    "with open(DataPath+'cost_Oracle_Ante_all.pkl', \"rb\") as tf:\n",
    "    cost_Oracle_Ante_all = pickle.load(tf)\n",
    "with open(DataPath+'cost_OLS_Ante_all.pkl', \"rb\") as tf:\n",
    "    cost_OLS_Ante_all = pickle.load(tf)\n",
    "with open(DataPath+'cost_DDR_Ante_all.pkl', \"rb\") as tf:\n",
    "    cost_DDR_Ante_all = pickle.load(tf)\n",
    "with open(DataPath+'cost_DDR_Ante_quad_all.pkl', \"rb\") as tf:\n",
    "    cost_DDR_Ante_quad_all = pickle.load(tf)\n",
    "\n",
    "with open(DataPath+'cost_spo+_Ante_all.pkl', \"rb\") as tf:\n",
    "    cost_SPO_Ante_all = pickle.load(tf)\n",
    "# with open(DataPath+'cost_spo+_Ante_quad_all.pkl', \"rb\") as tf:\n",
    "#     cost_SPO_Ante_quad_all = pickle.load(tf)\n",
    "# with open(DataPath+'cost_spo+_Ante_self_quad_all.pkl', \"rb\") as tf:\n",
    "#     cost_SPO_Ante_self_quad_all = pickle.load(tf)\n"
   ]
  },
  {
   "cell_type": "code",
   "execution_count": 22,
   "id": "a339eee0",
   "metadata": {},
   "outputs": [],
   "source": [
    "def cross_compare2plus(c_item, c_base, c_oracle):\n",
    "    N = len(c_item)\n",
    "    c_diff = c_base - c_item\n",
    "    lbel = np.zeros((N,1))\n",
    "    \n",
    "    equals = np.sum(c_diff == 0)\n",
    "    wins = np.sum(c_diff > 0) # indicate num of c_item is lower than c_base\n",
    "    lose = np.sum(c_diff < 0)\n",
    "    \n",
    "    lbel[c_diff < 0] = 1\n",
    "    lbel[c_diff > 0] = -1\n",
    "    \n",
    "#     print(N, equals, wins, lose)\n",
    "    if N == equals:\n",
    "        win_ratio = 0.5\n",
    "    else:\n",
    "        win_ratio = wins/(N - equals)\n",
    "    cost_reduction = (np.nanmean(c_diff))/np.abs(np.nanmean(c_base))\n",
    "    if np.nanmean(c_base) - np.nanmean(c_oracle) <= 1e-6:\n",
    "        regret_reduction = 0.0\n",
    "    else:\n",
    "        regret_reduction = (np.nanmean(c_diff))/np.abs(np.nanmean(c_base) - np.nanmean(c_oracle))\n",
    "    return win_ratio, cost_reduction, regret_reduction"
   ]
  },
  {
   "cell_type": "code",
   "execution_count": 23,
   "id": "89b9a37c",
   "metadata": {},
   "outputs": [],
   "source": [
    "def calculate_input_vs_benchmark(iteration_all,cost_input_all,cost_benchmark_all,cost_Oracle_Ante_all):\n",
    "    \n",
    "    h2h_ = np.zeros(len(iteration_all)); cost_rd_ = np.zeros(len(iteration_all)); regret_rd_ = np.zeros(len(iteration_all))\n",
    "    for iter_index in range(len(iteration_all)):\n",
    "        iter = iteration_all[iter_index]\n",
    "        h2h_[iter_index],cost_rd_[iter_index],regret_rd_[iter_index] = cross_compare2plus(cost_input_all[iter], cost_benchmark_all[iter], cost_Oracle_Ante_all[iter])\n",
    "\n",
    "    # return h2h_post,regret_post,h2h_ante,regret_ante\n",
    "    return h2h_,regret_rd_"
   ]
  },
  {
   "cell_type": "code",
   "execution_count": 24,
   "id": "fc5861fc",
   "metadata": {},
   "outputs": [],
   "source": [
    "def generate_df(data_mat,indices,colums):\n",
    "    df = pd.DataFrame(np.round(data_mat*100,4))\n",
    "    df.index = indices\n",
    "    df.columns = colums\n",
    "    return df"
   ]
  },
  {
   "cell_type": "code",
   "execution_count": 25,
   "id": "39527422",
   "metadata": {},
   "outputs": [],
   "source": [
    "def calculate_prob_avg(h2h_input,regret_rd_input,mu_all,lamb_all):\n",
    "    h2h_prop = np.zeros((len(mu_all),len(lamb_all))); regret_rd_prop = np.zeros((len(mu_all),len(lamb_all)))\n",
    "    h2h_avg = np.zeros((len(mu_all),len(lamb_all))); regret_rd_avg = np.zeros((len(mu_all),len(lamb_all)))\n",
    "    mu_index = 0\n",
    "    for mu in mu_all:\n",
    "        lamb_index = 0\n",
    "        for lamb in lamb_all:\n",
    "            h2h_prop[mu_index,lamb_index] = len(h2h_input[mu,lamb][h2h_input[mu,lamb] >= 0.5])/len(h2h_input[mu,lamb])\n",
    "            regret_rd_prop[mu_index,lamb_index] = len(regret_rd_input[mu,lamb][regret_rd_input[mu,lamb] > 0.0])/len(regret_rd_input[mu,lamb])\n",
    "\n",
    "            h2h_avg[mu_index,lamb_index] = np.nanmean(h2h_input[mu,lamb])\n",
    "            regret_rd_avg[mu_index,lamb_index] = np.nanmean(regret_rd_input[mu,lamb])\n",
    "\n",
    "            lamb_index = lamb_index + 1\n",
    "        mu_index = mu_index + 1\n",
    "    return generate_df(h2h_prop,mu_all,lamb_all),generate_df(regret_rd_prop,mu_all,lamb_all),generate_df(h2h_avg,mu_all,lamb_all),generate_df(regret_rd_avg,mu_all,lamb_all)"
   ]
  },
  {
   "cell_type": "code",
   "execution_count": 47,
   "id": "f16513a4",
   "metadata": {},
   "outputs": [],
   "source": [
    "h2h_ddr_wt_vs_ols_wo = {}; regret_rd_ddr_wt_vs_ols_wo = {}\n",
    "h2h_ddr_wt_vs_spo_wo = {}; regret_rd_ddr_wt_vs_spo_wo = {}\n",
    "h2h_ddr_wt_vs_spo_wt = {}; regret_rd_ddr_wt_vs_spo_wt = {}\n",
    "\n",
    "h2h_ddr_wo_vs_ols_wo = {}; regret_rd_ddr_wo_vs_ols_wo = {}\n",
    "h2h_ddr_wo_vs_spo_wo = {}; regret_rd_ddr_wo_vs_spo_wo = {}\n",
    "h2h_ddr_wo_vs_spo_wt = {}; regret_rd_ddr_wo_vs_spo_wt = {}\n",
    "\n",
    "mu_index = 0\n",
    "for mu in mu_all:\n",
    "    lamb_index = 0\n",
    "    for lamb in lamb_all:\n",
    "        cost_input_all = {}\n",
    "        for iter in iteration_all:\n",
    "            cost_input_all[iter] = cost_DDR_Ante_quad_all[iter,mu,lamb]\n",
    "        h2h_ddr_wt_vs_ols_wo[mu,lamb], regret_rd_ddr_wt_vs_ols_wo[mu, lamb] = calculate_input_vs_benchmark(iteration_all,cost_input_all,cost_OLS_Ante_all,cost_Oracle_Ante_all)\n",
    "        h2h_ddr_wt_vs_spo_wo[mu,lamb], regret_rd_ddr_wt_vs_spo_wo[mu, lamb] = calculate_input_vs_benchmark(iteration_all,cost_input_all,cost_SPO_Ante_all,cost_Oracle_Ante_all)\n",
    "        # h2h_ddr_wt_vs_spo_wt[mu,lamb], regret_rd_ddr_wt_vs_spo_wt[mu, lamb] = calculate_input_vs_benchmark(iteration_all,cost_input_all,cost_SPO_Ante_self_quad_all,cost_Oracle_Ante_all)\n",
    "\n",
    "        cost_input_all = {}\n",
    "        for iter in iteration_all:\n",
    "            cost_input_all[iter] = cost_DDR_Ante_all[iter,mu,lamb]\n",
    "        h2h_ddr_wo_vs_ols_wo[mu,lamb], regret_rd_ddr_wo_vs_ols_wo[mu, lamb] = calculate_input_vs_benchmark(iteration_all,cost_input_all,cost_OLS_Ante_all,cost_Oracle_Ante_all)\n",
    "        h2h_ddr_wo_vs_spo_wo[mu,lamb], regret_rd_ddr_wo_vs_spo_wo[mu, lamb] = calculate_input_vs_benchmark(iteration_all,cost_input_all,cost_SPO_Ante_all,cost_Oracle_Ante_all)\n",
    "        # h2h_ddr_wo_vs_spo_wt[mu,lamb], regret_rd_ddr_wo_vs_spo_wt[mu, lamb] = calculate_input_vs_benchmark(iteration_all,cost_input_all,cost_SPO_Ante_self_quad_all,cost_Oracle_Ante_all)\n",
    "\n"
   ]
  },
  {
   "cell_type": "code",
   "execution_count": 27,
   "id": "b094e128",
   "metadata": {},
   "outputs": [],
   "source": [
    "# print(\"h2h max prop: without quadratic = \", np.max(h2h_ddr_vs_ols_wo_quad_prop),\", with quadratic = \", np.max(h2h_ddr_vs_ols_wt_quad_prop))\n",
    "# print(\"regret rd max prop: without quadratic = \", np.max(regret_rd_ddr_vs_ols_wo_quad_prop),\", with quadratic = \", np.max(regret_rd_ddr_vs_ols_wt_quad_prop))"
   ]
  },
  {
   "cell_type": "code",
   "execution_count": 28,
   "id": "da6a12dc",
   "metadata": {},
   "outputs": [],
   "source": [
    "# print(\"h2h max avg: without quadratic = \", np.max(h2h_ddr_vs_ols_wo_quad_avg),\", with quadratic = \", np.max(h2h_ddr_vs_ols_wt_quad_avg))\n",
    "# print(\"regret rd max avg: without quadratic = \", np.max(regret_rd_ddr_vs_ols_wo_quad_avg),\", with quadratic = \", np.max(regret_rd_ddr_vs_ols_wt_quad_avg))"
   ]
  },
  {
   "cell_type": "code",
   "execution_count": 29,
   "id": "f1d888f4",
   "metadata": {},
   "outputs": [],
   "source": [
    "# h2h_ddr_vs_ols_wo_quad_prop_df = generate_df(h2h_ddr_vs_ols_wo_quad_prop,[f\"mu={mu}\" for mu in mu_all],[f\"lamb={lamb}\" for lamb in lamb_all])\n",
    "# regret_rd_ddr_vs_ols_wo_quad_prop_df = generate_df(regret_rd_ddr_vs_ols_wo_quad_prop,[f\"mu={mu}\" for mu in mu_all],[f\"lamb={lamb}\" for lamb in lamb_all])\n",
    "\n",
    "# h2h_ddr_vs_ols_wt_quad_prop_df = generate_df(h2h_ddr_vs_ols_wt_quad_prop,[f\"mu={mu}\" for mu in mu_all],[f\"lamb={lamb}\" for lamb in lamb_all])\n",
    "# regret_rd_ddr_vs_ols_wt_quad_prop_df = generate_df(regret_rd_ddr_vs_ols_wt_quad_prop,[f\"mu={mu}\" for mu in mu_all],[f\"lamb={lamb}\" for lamb in lamb_all])\n",
    "\n",
    "# h2h_ddr_vs_ols_wo_quad_avg_df = generate_df(h2h_ddr_vs_ols_wo_quad_avg,[f\"mu={mu}\" for mu in mu_all],[f\"lamb={lamb}\" for lamb in lamb_all])\n",
    "# regret_rd_ddr_vs_ols_wo_quad_avg_df = generate_df(regret_rd_ddr_vs_ols_wo_quad_avg,[f\"mu={mu}\" for mu in mu_all],[f\"lamb={lamb}\" for lamb in lamb_all])\n",
    "\n",
    "# h2h_ddr_vs_ols_wt_quad_avg_df = generate_df(h2h_ddr_vs_ols_wt_quad_avg,[f\"mu={mu}\" for mu in mu_all],[f\"lamb={lamb}\" for lamb in lamb_all])\n",
    "# regret_rd_ddr_vs_ols_wt_quad_avg_df = generate_df(regret_rd_ddr_vs_ols_wt_quad_avg,[f\"mu={mu}\" for mu in mu_all],[f\"lamb={lamb}\" for lamb in lamb_all])\n"
   ]
  },
  {
   "cell_type": "markdown",
   "id": "d14b88ca",
   "metadata": {},
   "source": [
    "##### DDR vs OLS"
   ]
  },
  {
   "cell_type": "markdown",
   "id": "9100ff11",
   "metadata": {},
   "source": [
    "##### without quadratic"
   ]
  },
  {
   "cell_type": "code",
   "execution_count": 30,
   "id": "3272a1e4",
   "metadata": {},
   "outputs": [
    {
     "data": {
      "text/plain": [
       "'/Users/zhangxun/Dropbox/Research/Decision_Driven_Regularization/Data_JOC_R1/Shortest_Path_Final/Baseline_quadratic_SPO_Data_Generation_0705/Result/'"
      ]
     },
     "execution_count": 30,
     "metadata": {},
     "output_type": "execute_result"
    }
   ],
   "source": [
    "Result_dir"
   ]
  },
  {
   "cell_type": "code",
   "execution_count": 31,
   "id": "0dcb7f9b",
   "metadata": {},
   "outputs": [
    {
     "data": {
      "text/plain": [
       "[0.75]"
      ]
     },
     "execution_count": 31,
     "metadata": {},
     "output_type": "execute_result"
    }
   ],
   "source": [
    "mu_all"
   ]
  },
  {
   "cell_type": "code",
   "execution_count": 32,
   "id": "ee223f7a",
   "metadata": {},
   "outputs": [
    {
     "data": {
      "text/plain": [
       "[0.8]"
      ]
     },
     "execution_count": 32,
     "metadata": {},
     "output_type": "execute_result"
    }
   ],
   "source": [
    "lamb_all"
   ]
  },
  {
   "cell_type": "code",
   "execution_count": 48,
   "id": "eb23c614",
   "metadata": {},
   "outputs": [
    {
     "ename": "LinAlgError",
     "evalue": "The data appears to lie in a lower-dimensional subspace of the space in which it is expressed. This has resulted in a singular data covariance matrix, which cannot be treated using the algorithms implemented in `gaussian_kde`. Consider performing principle component analysis / dimensionality reduction and using `gaussian_kde` with the transformed data.",
     "output_type": "error",
     "traceback": [
      "\u001b[0;31m---------------------------------------------------------------------------\u001b[0m",
      "\u001b[0;31mLinAlgError\u001b[0m                               Traceback (most recent call last)",
      "File \u001b[0;32m~/Dropbox/Research/Decision_Driven_Regularization/Code_MacBook/Decision_Driven_Regularization/.venv/lib/python3.9/site-packages/scipy/stats/_kde.py:226\u001b[0m, in \u001b[0;36mgaussian_kde.__init__\u001b[0;34m(self, dataset, bw_method, weights)\u001b[0m\n\u001b[1;32m    225\u001b[0m \u001b[38;5;28;01mtry\u001b[39;00m:\n\u001b[0;32m--> 226\u001b[0m     \u001b[38;5;28;43mself\u001b[39;49m\u001b[38;5;241;43m.\u001b[39;49m\u001b[43mset_bandwidth\u001b[49m\u001b[43m(\u001b[49m\u001b[43mbw_method\u001b[49m\u001b[38;5;241;43m=\u001b[39;49m\u001b[43mbw_method\u001b[49m\u001b[43m)\u001b[49m\n\u001b[1;32m    227\u001b[0m \u001b[38;5;28;01mexcept\u001b[39;00m linalg\u001b[38;5;241m.\u001b[39mLinAlgError \u001b[38;5;28;01mas\u001b[39;00m e:\n",
      "File \u001b[0;32m~/Dropbox/Research/Decision_Driven_Regularization/Code_MacBook/Decision_Driven_Regularization/.venv/lib/python3.9/site-packages/scipy/stats/_kde.py:574\u001b[0m, in \u001b[0;36mgaussian_kde.set_bandwidth\u001b[0;34m(self, bw_method)\u001b[0m\n\u001b[1;32m    572\u001b[0m     \u001b[38;5;28;01mraise\u001b[39;00m \u001b[38;5;167;01mValueError\u001b[39;00m(msg)\n\u001b[0;32m--> 574\u001b[0m \u001b[38;5;28;43mself\u001b[39;49m\u001b[38;5;241;43m.\u001b[39;49m\u001b[43m_compute_covariance\u001b[49m\u001b[43m(\u001b[49m\u001b[43m)\u001b[49m\n",
      "File \u001b[0;32m~/Dropbox/Research/Decision_Driven_Regularization/Code_MacBook/Decision_Driven_Regularization/.venv/lib/python3.9/site-packages/scipy/stats/_kde.py:586\u001b[0m, in \u001b[0;36mgaussian_kde._compute_covariance\u001b[0;34m(self)\u001b[0m\n\u001b[1;32m    583\u001b[0m     \u001b[38;5;28mself\u001b[39m\u001b[38;5;241m.\u001b[39m_data_covariance \u001b[38;5;241m=\u001b[39m atleast_2d(cov(\u001b[38;5;28mself\u001b[39m\u001b[38;5;241m.\u001b[39mdataset, rowvar\u001b[38;5;241m=\u001b[39m\u001b[38;5;241m1\u001b[39m,\n\u001b[1;32m    584\u001b[0m                                        bias\u001b[38;5;241m=\u001b[39m\u001b[38;5;28;01mFalse\u001b[39;00m,\n\u001b[1;32m    585\u001b[0m                                        aweights\u001b[38;5;241m=\u001b[39m\u001b[38;5;28mself\u001b[39m\u001b[38;5;241m.\u001b[39mweights))\n\u001b[0;32m--> 586\u001b[0m     \u001b[38;5;28mself\u001b[39m\u001b[38;5;241m.\u001b[39m_data_cho_cov \u001b[38;5;241m=\u001b[39m \u001b[43mlinalg\u001b[49m\u001b[38;5;241;43m.\u001b[39;49m\u001b[43mcholesky\u001b[49m\u001b[43m(\u001b[49m\u001b[38;5;28;43mself\u001b[39;49m\u001b[38;5;241;43m.\u001b[39;49m\u001b[43m_data_covariance\u001b[49m\u001b[43m,\u001b[49m\n\u001b[1;32m    587\u001b[0m \u001b[43m                                         \u001b[49m\u001b[43mlower\u001b[49m\u001b[38;5;241;43m=\u001b[39;49m\u001b[38;5;28;43;01mTrue\u001b[39;49;00m\u001b[43m)\u001b[49m\n\u001b[1;32m    589\u001b[0m \u001b[38;5;28mself\u001b[39m\u001b[38;5;241m.\u001b[39mcovariance \u001b[38;5;241m=\u001b[39m \u001b[38;5;28mself\u001b[39m\u001b[38;5;241m.\u001b[39m_data_covariance \u001b[38;5;241m*\u001b[39m \u001b[38;5;28mself\u001b[39m\u001b[38;5;241m.\u001b[39mfactor\u001b[38;5;241m*\u001b[39m\u001b[38;5;241m*\u001b[39m\u001b[38;5;241m2\u001b[39m\n",
      "File \u001b[0;32m~/Dropbox/Research/Decision_Driven_Regularization/Code_MacBook/Decision_Driven_Regularization/.venv/lib/python3.9/site-packages/scipy/linalg/_decomp_cholesky.py:88\u001b[0m, in \u001b[0;36mcholesky\u001b[0;34m(a, lower, overwrite_a, check_finite)\u001b[0m\n\u001b[1;32m     45\u001b[0m \u001b[38;5;250m\u001b[39m\u001b[38;5;124;03m\"\"\"\u001b[39;00m\n\u001b[1;32m     46\u001b[0m \u001b[38;5;124;03mCompute the Cholesky decomposition of a matrix.\u001b[39;00m\n\u001b[1;32m     47\u001b[0m \n\u001b[0;32m   (...)\u001b[0m\n\u001b[1;32m     86\u001b[0m \n\u001b[1;32m     87\u001b[0m \u001b[38;5;124;03m\"\"\"\u001b[39;00m\n\u001b[0;32m---> 88\u001b[0m c, lower \u001b[38;5;241m=\u001b[39m \u001b[43m_cholesky\u001b[49m\u001b[43m(\u001b[49m\u001b[43ma\u001b[49m\u001b[43m,\u001b[49m\u001b[43m \u001b[49m\u001b[43mlower\u001b[49m\u001b[38;5;241;43m=\u001b[39;49m\u001b[43mlower\u001b[49m\u001b[43m,\u001b[49m\u001b[43m \u001b[49m\u001b[43moverwrite_a\u001b[49m\u001b[38;5;241;43m=\u001b[39;49m\u001b[43moverwrite_a\u001b[49m\u001b[43m,\u001b[49m\u001b[43m \u001b[49m\u001b[43mclean\u001b[49m\u001b[38;5;241;43m=\u001b[39;49m\u001b[38;5;28;43;01mTrue\u001b[39;49;00m\u001b[43m,\u001b[49m\n\u001b[1;32m     89\u001b[0m \u001b[43m                     \u001b[49m\u001b[43mcheck_finite\u001b[49m\u001b[38;5;241;43m=\u001b[39;49m\u001b[43mcheck_finite\u001b[49m\u001b[43m)\u001b[49m\n\u001b[1;32m     90\u001b[0m \u001b[38;5;28;01mreturn\u001b[39;00m c\n",
      "File \u001b[0;32m~/Dropbox/Research/Decision_Driven_Regularization/Code_MacBook/Decision_Driven_Regularization/.venv/lib/python3.9/site-packages/scipy/linalg/_decomp_cholesky.py:36\u001b[0m, in \u001b[0;36m_cholesky\u001b[0;34m(a, lower, overwrite_a, clean, check_finite)\u001b[0m\n\u001b[1;32m     35\u001b[0m \u001b[38;5;28;01mif\u001b[39;00m info \u001b[38;5;241m>\u001b[39m \u001b[38;5;241m0\u001b[39m:\n\u001b[0;32m---> 36\u001b[0m     \u001b[38;5;28;01mraise\u001b[39;00m LinAlgError(\u001b[38;5;124m\"\u001b[39m\u001b[38;5;132;01m%d\u001b[39;00m\u001b[38;5;124m-th leading minor of the array is not positive \u001b[39m\u001b[38;5;124m\"\u001b[39m\n\u001b[1;32m     37\u001b[0m                       \u001b[38;5;124m\"\u001b[39m\u001b[38;5;124mdefinite\u001b[39m\u001b[38;5;124m\"\u001b[39m \u001b[38;5;241m%\u001b[39m info)\n\u001b[1;32m     38\u001b[0m \u001b[38;5;28;01mif\u001b[39;00m info \u001b[38;5;241m<\u001b[39m \u001b[38;5;241m0\u001b[39m:\n",
      "\u001b[0;31mLinAlgError\u001b[0m: 1-th leading minor of the array is not positive definite",
      "\nThe above exception was the direct cause of the following exception:\n",
      "\u001b[0;31mLinAlgError\u001b[0m                               Traceback (most recent call last)",
      "Cell \u001b[0;32mIn[48], line 6\u001b[0m\n\u001b[1;32m      4\u001b[0m all_x \u001b[38;5;241m=\u001b[39m h2h_ddr_wo_vs_ols_wo[mu,lamb] \u001b[38;5;241m*\u001b[39m \u001b[38;5;241m100\u001b[39m\n\u001b[1;32m      5\u001b[0m all_y \u001b[38;5;241m=\u001b[39m regret_rd_ddr_wo_vs_ols_wo[mu,lamb] \u001b[38;5;241m*\u001b[39m \u001b[38;5;241m100\u001b[39m\n\u001b[0;32m----> 6\u001b[0m \u001b[43mFigure_H2H_Regret\u001b[49m\u001b[38;5;241;43m.\u001b[39;49m\u001b[43mfigure_plot_upright\u001b[49m\u001b[43m(\u001b[49m\u001b[43mall_x\u001b[49m\u001b[43m,\u001b[49m\u001b[43m \u001b[49m\u001b[43mall_y\u001b[49m\u001b[43m,\u001b[49m\u001b[43m \u001b[49m\u001b[43mfile_name\u001b[49m\u001b[43m,\u001b[49m\u001b[43m \u001b[49m\u001b[43msize\u001b[49m\u001b[43m \u001b[49m\u001b[38;5;241;43m=\u001b[39;49m\u001b[43m \u001b[49m\u001b[43m(\u001b[49m\u001b[38;5;241;43m5\u001b[39;49m\u001b[43m,\u001b[49m\u001b[43m \u001b[49m\u001b[38;5;241;43m5\u001b[39;49m\u001b[43m)\u001b[49m\u001b[43m,\u001b[49m\u001b[43m \u001b[49m\u001b[43mmove\u001b[49m\u001b[43m \u001b[49m\u001b[38;5;241;43m=\u001b[39;49m\u001b[43m \u001b[49m\u001b[43m[\u001b[49m\u001b[38;5;241;43m-\u001b[39;49m\u001b[38;5;241;43m0.07\u001b[39;49m\u001b[43m,\u001b[49m\u001b[43m \u001b[49m\u001b[38;5;241;43m0.07\u001b[39;49m\u001b[43m,\u001b[49m\u001b[43m \u001b[49m\u001b[38;5;241;43m0.35\u001b[39;49m\u001b[43m,\u001b[49m\u001b[43m \u001b[49m\u001b[38;5;241;43m0.55\u001b[39;49m\u001b[43m]\u001b[49m\u001b[43m,\u001b[49m\u001b[43m \u001b[49m\u001b[43mysame\u001b[49m\u001b[43m \u001b[49m\u001b[38;5;241;43m=\u001b[39;49m\u001b[43m \u001b[49m\u001b[38;5;241;43m0\u001b[39;49m\u001b[43m,\u001b[49m\u001b[43m \u001b[49m\u001b[43myrange\u001b[49m\u001b[43m \u001b[49m\u001b[38;5;241;43m=\u001b[39;49m\u001b[43m \u001b[49m\u001b[43m[\u001b[49m\u001b[38;5;241;43m6\u001b[39;49m\u001b[43m,\u001b[49m\u001b[38;5;241;43m6\u001b[39;49m\u001b[43m]\u001b[49m\u001b[43m,\u001b[49m\u001b[43m \u001b[49m\u001b[43msublabel\u001b[49m\u001b[43m \u001b[49m\u001b[38;5;241;43m=\u001b[39;49m\u001b[43m \u001b[49m\u001b[38;5;124;43m'\u001b[39;49m\u001b[38;5;124;43m'\u001b[39;49m\u001b[43m,\u001b[49m\u001b[43m \u001b[49m\u001b[43mypio\u001b[49m\u001b[43m \u001b[49m\u001b[38;5;241;43m=\u001b[39;49m\u001b[43m \u001b[49m\u001b[38;5;241;43m0\u001b[39;49m\u001b[43m)\u001b[49m\n",
      "File \u001b[0;32m~/Dropbox/Research/Decision_Driven_Regularization/Code_MacBook/Decision_Driven_Regularization/JOC_R1/Shortest_Path_Reproduce/Figure_H2H_Regret.py:22\u001b[0m, in \u001b[0;36mfigure_plot_upright\u001b[0;34m(all_x, all_y, figure_name, size, move, ysame, yrange, sublabel, ypio)\u001b[0m\n\u001b[1;32m     20\u001b[0m kde_X \u001b[38;5;241m=\u001b[39m gaussian_kde(data[\u001b[38;5;241m0\u001b[39m])\n\u001b[1;32m     21\u001b[0m \u001b[38;5;66;03m#KDE for right marginal\u001b[39;00m\n\u001b[0;32m---> 22\u001b[0m kde_Y \u001b[38;5;241m=\u001b[39m \u001b[43mgaussian_kde\u001b[49m\u001b[43m(\u001b[49m\u001b[43mdata\u001b[49m\u001b[43m[\u001b[49m\u001b[38;5;241;43m1\u001b[39;49m\u001b[43m]\u001b[49m\u001b[43m)\u001b[49m\n\u001b[1;32m     24\u001b[0m x \u001b[38;5;241m=\u001b[39m np\u001b[38;5;241m.\u001b[39mlinspace(\u001b[38;5;241m0\u001b[39m, \u001b[38;5;241m100\u001b[39m, \u001b[38;5;241m100\u001b[39m)\n\u001b[1;32m     25\u001b[0m y \u001b[38;5;241m=\u001b[39m np\u001b[38;5;241m.\u001b[39mlinspace(ymin, ymax, \u001b[38;5;241m100\u001b[39m)\n",
      "File \u001b[0;32m~/Dropbox/Research/Decision_Driven_Regularization/Code_MacBook/Decision_Driven_Regularization/.venv/lib/python3.9/site-packages/scipy/stats/_kde.py:235\u001b[0m, in \u001b[0;36mgaussian_kde.__init__\u001b[0;34m(self, dataset, bw_method, weights)\u001b[0m\n\u001b[1;32m    227\u001b[0m \u001b[38;5;28;01mexcept\u001b[39;00m linalg\u001b[38;5;241m.\u001b[39mLinAlgError \u001b[38;5;28;01mas\u001b[39;00m e:\n\u001b[1;32m    228\u001b[0m     msg \u001b[38;5;241m=\u001b[39m (\u001b[38;5;124m\"\u001b[39m\u001b[38;5;124mThe data appears to lie in a lower-dimensional subspace \u001b[39m\u001b[38;5;124m\"\u001b[39m\n\u001b[1;32m    229\u001b[0m            \u001b[38;5;124m\"\u001b[39m\u001b[38;5;124mof the space in which it is expressed. This has resulted \u001b[39m\u001b[38;5;124m\"\u001b[39m\n\u001b[1;32m    230\u001b[0m            \u001b[38;5;124m\"\u001b[39m\u001b[38;5;124min a singular data covariance matrix, which cannot be \u001b[39m\u001b[38;5;124m\"\u001b[39m\n\u001b[0;32m   (...)\u001b[0m\n\u001b[1;32m    233\u001b[0m            \u001b[38;5;124m\"\u001b[39m\u001b[38;5;124manalysis / dimensionality reduction and using \u001b[39m\u001b[38;5;124m\"\u001b[39m\n\u001b[1;32m    234\u001b[0m            \u001b[38;5;124m\"\u001b[39m\u001b[38;5;124m`gaussian_kde` with the transformed data.\u001b[39m\u001b[38;5;124m\"\u001b[39m)\n\u001b[0;32m--> 235\u001b[0m     \u001b[38;5;28;01mraise\u001b[39;00m linalg\u001b[38;5;241m.\u001b[39mLinAlgError(msg) \u001b[38;5;28;01mfrom\u001b[39;00m\u001b[38;5;250m \u001b[39m\u001b[38;5;21;01me\u001b[39;00m\n",
      "\u001b[0;31mLinAlgError\u001b[0m: The data appears to lie in a lower-dimensional subspace of the space in which it is expressed. This has resulted in a singular data covariance matrix, which cannot be treated using the algorithms implemented in `gaussian_kde`. Consider performing principle component analysis / dimensionality reduction and using `gaussian_kde` with the transformed data."
     ]
    }
   ],
   "source": [
    "mu = 0.75\n",
    "lamb = 0.8\n",
    "file_name = Result_dir + 'DDR_vs_OLS_mu='+str(mu)+\"_lamb=\"+str(lamb)+\"_ante_grid=\"+str(L_N)\n",
    "all_x = h2h_ddr_wo_vs_ols_wo[mu,lamb] * 100\n",
    "all_y = regret_rd_ddr_wo_vs_ols_wo[mu,lamb] * 100\n",
    "Figure_H2H_Regret.figure_plot_upright(all_x, all_y, file_name, size = (5, 5), move = [-0.07, 0.07, 0.35, 0.55], ysame = 0, yrange = [6,6], sublabel = '', ypio = 0)"
   ]
  },
  {
   "cell_type": "markdown",
   "id": "4cfca22e",
   "metadata": {},
   "source": [
    "##### with quadratic"
   ]
  },
  {
   "cell_type": "code",
   "execution_count": 50,
   "id": "4e48584d",
   "metadata": {},
   "outputs": [
    {
     "data": {
      "image/png": "[encoded data removed]",
      "text/plain": [
       "<Figure size 500x500 with 3 Axes>"
      ]
     },
     "metadata": {},
     "output_type": "display_data"
    }
   ],
   "source": [
    "mu = 0.75\n",
    "lamb = 0.8\n",
    "file_name = Result_dir + 'DDR_vs_OLS_mu='+str(mu)+\"_lamb=\"+str(lamb)+\"_quadratic_ante_grid=\"+str(L_N)\n",
    "all_x = h2h_ddr_wt_vs_ols_wo[mu,lamb] * 100\n",
    "all_y = regret_rd_ddr_wt_vs_ols_wo[mu,lamb] * 100\n",
    "Figure_H2H_Regret.figure_plot_upright(all_x, all_y, file_name, size = (5, 5), move = [-0.07, 0.07, 0.35, 0.55], ysame = 0, yrange = [6,6], sublabel = '', ypio = 0)"
   ]
  },
  {
   "cell_type": "markdown",
   "id": "189dd2f2",
   "metadata": {},
   "source": [
    "##### DDR vs SPO+"
   ]
  },
  {
   "cell_type": "markdown",
   "id": "b3ed3c12",
   "metadata": {},
   "source": [
    "##### without quadratic"
   ]
  },
  {
   "cell_type": "code",
   "execution_count": 51,
   "id": "a18a807f",
   "metadata": {},
   "outputs": [
    {
     "data": {
      "image/png": "[encoded data removed]",
      "text/plain": [
       "<Figure size 500x500 with 3 Axes>"
      ]
     },
     "metadata": {},
     "output_type": "display_data"
    }
   ],
   "source": [
    "mu = 0.75\n",
    "lamb = 0.8\n",
    "file_name = Result_dir + 'DDR_vs_SPO_mu='+str(mu)+\"_lamb=\"+str(lamb)+\"_ante_grid=\"+str(L_N)\n",
    "all_x = h2h_ddr_wo_vs_spo_wo[mu,lamb] * 100\n",
    "all_y = regret_rd_ddr_wo_vs_spo_wo[mu,lamb] * 100\n",
    "# Upright_Figure(all_x, all_y, file_name, size = (5, 5), move = [0.35, 0.75, 0.35, 0.75], ymin = 0, ymax=100,xmin = 0,xmax = 100)\n",
    "Figure_H2H_Regret.figure_plot_upright(all_x, all_y, file_name, size = (5, 5), move = [-0.07, 0.07, 0.35, 0.55], ysame = 0, yrange = [6,6], sublabel = '', ypio = 0)"
   ]
  },
  {
   "cell_type": "code",
   "execution_count": 53,
   "id": "613a90ab",
   "metadata": {},
   "outputs": [
    {
     "data": {
      "image/png": "[encoded data removed]",
      "text/plain": [
       "<Figure size 500x500 with 3 Axes>"
      ]
     },
     "metadata": {},
     "output_type": "display_data"
    }
   ],
   "source": [
    "mu = 0.75\n",
    "lamb = 0.8\n",
    "file_name = Result_dir + 'DDR_vs_SPO_mu='+str(mu)+\"_lamb=\"+str(lamb)+\"_ante_quadratic_grid=\"+str(L_N)\n",
    "all_x = h2h_ddr_wt_vs_spo_wo[mu,lamb] * 100\n",
    "all_y = regret_rd_ddr_wt_vs_spo_wo[mu,lamb] * 100\n",
    "# Upright_Figure(all_x, all_y, file_name, size = (5, 5), move = [-0.07, 0.07, 0.35, 0.55], ymin = 0, ymax=100,xmin = 0,xmax = 100)\n",
    "Figure_H2H_Regret.figure_plot_upright(all_x, all_y, file_name, size = (5, 5), move = [-0.07, 0.07, 0.35, 0.55], ysame = 0, yrange = [6,6], sublabel = '', ypio = 0)"
   ]
  },
  {
   "cell_type": "markdown",
   "id": "cdd9fadf",
   "metadata": {},
   "source": [
    "##### DDR vs Random Forest"
   ]
  },
  {
   "cell_type": "code",
   "execution_count": 37,
   "id": "8f7503f6",
   "metadata": {},
   "outputs": [],
   "source": [
    "# h2h_ddr_vs_rf_ante,regret_rd_ddr_vs_rf_ante = obtain_DDR_vs_benchmarks_h2h_regret(grid_all,project_directory,middle_path,num_train,deg,e,num_test,x_dist,e_dist,mu_all,lamb_all,\"RF\")"
   ]
  },
  {
   "cell_type": "code",
   "execution_count": 38,
   "id": "7652c38f",
   "metadata": {},
   "outputs": [],
   "source": [
    "# L_N = 3\n",
    "# mu = 0.75\n",
    "# lamb = 0.8\n",
    "# file_name = Result_dir + 'DDR_vs_RF_mu='+str(mu)+\"_lamb=\"+str(lamb)+\"_ante_grid=\"+str(L_N)\n",
    "# all_x = h2h_ddr_vs_rf_ante[L_N,mu,lamb] * 100\n",
    "# all_y = regret_rd_ddr_vs_rf_ante[L_N,mu,lamb] * 100\n",
    "# Upright_Figure(all_x, all_y, file_name, size = (5, 5), move = [0.35, 0.75, 0.35, 0.75], ymin = 0, ymax=100,xmin = 0,xmax = 100)"
   ]
  },
  {
   "cell_type": "markdown",
   "id": "20a13bca",
   "metadata": {},
   "source": [
    "##### DDR vs XGBoost"
   ]
  },
  {
   "cell_type": "code",
   "execution_count": 39,
   "id": "42a9dd9d",
   "metadata": {},
   "outputs": [],
   "source": [
    "# h2h_ddr_vs_xg_ante,regret_rd_ddr_vs_xg_ante = obtain_DDR_vs_benchmarks_h2h_regret(grid_all,project_directory,middle_path,num_train,deg,e,num_test,x_dist,e_dist,mu_all,lamb_all,\"XG\")"
   ]
  },
  {
   "cell_type": "code",
   "execution_count": 40,
   "id": "6626c5bc",
   "metadata": {},
   "outputs": [],
   "source": [
    "# L_N = 3\n",
    "# mu = 0.75\n",
    "# lamb = 0.8\n",
    "# file_name = Result_dir + 'DDR_vs_XG_mu='+str(mu)+\"_lamb=\"+str(lamb)+\"_ante_grid=\"+str(L_N)\n",
    "# all_x = h2h_ddr_vs_xg_ante[L_N,mu,lamb] * 100\n",
    "# all_y = regret_rd_ddr_vs_xg_ante[L_N,mu,lamb] * 100\n",
    "# Upright_Figure(all_x, all_y, file_name, size = (5, 5), move = [0.35, 0.75, 0.35, 0.75], ymin = 0, ymax=100,xmin = 0,xmax = 100)"
   ]
  },
  {
   "cell_type": "markdown",
   "id": "1c2d4963",
   "metadata": {},
   "source": [
    "#### RMSE"
   ]
  },
  {
   "cell_type": "code",
   "execution_count": 41,
   "id": "0131234e",
   "metadata": {},
   "outputs": [],
   "source": [
    "# def obtain_RMSE(grid_all,file_name,iteration_all,is_DDR,mu,lamb,project_directory,middle_path,num_train,deg,e,num_test,x_dist,e_dist):\n",
    "#     RMSE_ = {}\n",
    "#     for grid in grid_all:\n",
    "#         L_N = grid[0]\n",
    "#         DataPath_parent = project_directory + middle_path +str(L_N)+'by'+str(L_N)+'_grid/'\n",
    "#         DataPath = DataPath_parent + f\"data_size={num_train}_deg={deg}_e={e}_num_test={num_test}\"+\"_x_dist=\"+x_dist+\"_e_dist=\"+e_dist+\"/\"\n",
    "#         print(\"DataPath:\", DataPath)     \n",
    "#         with open(DataPath+file_name, \"rb\") as tf:\n",
    "#             RMSE_all = pickle.load(tf)\n",
    "#         if is_DDR:\n",
    "#             RMSE_[L_N] = [RMSE_all[iter,mu,lamb] for iter in iteration_all]\n",
    "#         else:\n",
    "#             RMSE_[L_N] = [RMSE_all[iter] for iter in iteration_all]\n",
    "#         print(\"Grid = \",grid)\n",
    "#     return RMSE_"
   ]
  },
  {
   "cell_type": "code",
   "execution_count": 42,
   "id": "1a4e5556",
   "metadata": {},
   "outputs": [],
   "source": [
    "# mu=0.75\n",
    "# lamb = 0.8\n",
    "\n",
    "# RMSE_in_OLS = obtain_RMSE(grid_all,'RMSE_in_OLS_all.pkl',iteration_all,False,mu,lamb,project_directory,middle_path,num_train,deg,e,num_test,x_dist,e_dist)\n",
    "# RMSE_out_OLS = obtain_RMSE(grid_all,'RMSE_out_OLS_all.pkl',iteration_all,False,mu,lamb,project_directory,middle_path,num_train,deg,e,num_test,x_dist,e_dist)\n",
    "\n",
    "# RMSE_in_RF = obtain_RMSE(grid_all,'RMSE_in_RF_all.pkl',iteration_all,False,mu,lamb,project_directory,middle_path,num_train,deg,e,num_test,x_dist,e_dist)\n",
    "# RMSE_out_RF = obtain_RMSE(grid_all,'RMSE_out_RF_all.pkl',iteration_all,False,mu,lamb,project_directory,middle_path,num_train,deg,e,num_test,x_dist,e_dist)\n",
    "\n",
    "# RMSE_in_XG = obtain_RMSE(grid_all,'RMSE_in_XG_all.pkl',iteration_all,False,mu,lamb,project_directory,middle_path,num_train,deg,e,num_test,x_dist,e_dist)\n",
    "# RMSE_out_XG = obtain_RMSE(grid_all,'RMSE_out_XG_all.pkl',iteration_all,False,mu,lamb,project_directory,middle_path,num_train,deg,e,num_test,x_dist,e_dist)\n",
    "\n",
    "# RMSE_in_DDR = obtain_RMSE(grid_all,'RMSE_in_DDR_all.pkl',iteration_all,True,mu,lamb,project_directory,middle_path,num_train,deg,e,num_test,x_dist,e_dist)\n",
    "# RMSE_out_DDR = obtain_RMSE(grid_all,'RMSE_out_DDR_all.pkl',iteration_all,True,mu,lamb,project_directory,middle_path,num_train,deg,e,num_test,x_dist,e_dist)"
   ]
  },
  {
   "cell_type": "code",
   "execution_count": 43,
   "id": "653037b2",
   "metadata": {},
   "outputs": [],
   "source": [
    "# print(\"RMSE_in_OLS=\",np.round(np.nanmean(RMSE_in_OLS[L_N]),4),\",RMSE_out_OLS=\",np.round(np.nanmean(RMSE_out_OLS[L_N]),4))\n",
    "# print(\"RMSE_in_RF=\",np.round(np.nanmean(RMSE_in_RF[L_N]),4),\",RMSE_out_RF=\",np.round(np.nanmean(RMSE_out_RF[L_N]),4))\n",
    "# print(\"RMSE_in_XG=\",np.round(np.nanmean(RMSE_in_XG[L_N]),4),\",RMSE_out_XG=\",np.round(np.nanmean(RMSE_out_XG[L_N]),4))\n",
    "# print(\"RMSE_in_DDR=\",np.round(np.nanmean(RMSE_in_DDR[L_N]),4),\",RMSE_out_DDR=\",np.round(np.nanmean(RMSE_out_DDR[L_N]),4))"
   ]
  },
  {
   "cell_type": "code",
   "execution_count": 44,
   "id": "73c1eaf6",
   "metadata": {},
   "outputs": [],
   "source": [
    "# q_tile = 0.05\n",
    "# print(\"5% tile RMSE_in_OLS=\",np.round(np.quantile(RMSE_in_OLS[L_N],q_tile),4),\",RMSE_out_OLS=\",np.round(np.quantile(RMSE_out_OLS[L_N],q_tile),4))\n",
    "# print(\"5% tile RMSE_in_RF=\",np.round(np.quantile(RMSE_in_RF[L_N],q_tile),4),\",RMSE_out_RF=\",np.round(np.quantile(RMSE_out_RF[L_N],q_tile),4))\n",
    "# print(\"5% RMSE_in_XG=\",np.round(np.quantile(RMSE_in_XG[L_N],q_tile),4),\",RMSE_out_XG=\",np.round(np.quantile(RMSE_out_XG[L_N],q_tile),4))\n",
    "# print(\"5% RMSE_in_DDR=\",np.round(np.quantile(RMSE_in_DDR[L_N],q_tile),4),\",RMSE_out_DDR=\",np.round(np.quantile(RMSE_out_DDR[L_N],q_tile),4))"
   ]
  },
  {
   "cell_type": "code",
   "execution_count": 45,
   "id": "e97b59cc",
   "metadata": {},
   "outputs": [],
   "source": [
    "# q_tile = 0.95\n",
    "# print(\"95% tile RMSE_in_OLS=\",np.round(np.quantile(RMSE_in_OLS[L_N],q_tile),4),\",RMSE_out_OLS=\",np.round(np.quantile(RMSE_out_OLS[L_N],q_tile),4))\n",
    "# print(\"95% tile RMSE_in_RF=\",np.round(np.quantile(RMSE_in_RF[L_N],q_tile),4),\",RMSE_out_RF=\",np.round(np.quantile(RMSE_out_RF[L_N],q_tile),4))\n",
    "# print(\"95% RMSE_in_XG=\",np.round(np.quantile(RMSE_in_XG[L_N],q_tile),4),\",RMSE_out_XG=\",np.round(np.quantile(RMSE_out_XG[L_N],q_tile),4))\n",
    "# print(\"95% RMSE_in_DDR=\",np.round(np.quantile(RMSE_in_DDR[L_N],q_tile),4),\",RMSE_out_DDR=\",np.round(np.quantile(RMSE_out_DDR[L_N],q_tile),4))"
   ]
  }
 ],
 "metadata": {
  "kernelspec": {
   "display_name": ".venv",
   "language": "python",
   "name": "python3"
  },
  "language_info": {
   "codemirror_mode": {
    "name": "ipython",
    "version": 3
   },
   "file_extension": ".py",
   "mimetype": "text/x-python",
   "name": "python",
   "nbconvert_exporter": "python",
   "pygments_lexer": "ipython3",
   "version": "3.9.6"
  }
 },
 "nbformat": 4,
 "nbformat_minor": 5
}
