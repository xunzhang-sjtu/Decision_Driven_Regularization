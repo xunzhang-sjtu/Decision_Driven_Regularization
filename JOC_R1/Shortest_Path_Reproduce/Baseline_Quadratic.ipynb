{
 "cells": [
  {
   "cell_type": "code",
   "execution_count": 1,
   "id": "4865f094",
   "metadata": {},
   "outputs": [],
   "source": [
    "import random\n",
    "import numpy as np\n",
    "import torch\n",
    "import os\n",
    "import pathlib\n",
    "import pickle\n",
    "import pandas as pd\n",
    "torch.manual_seed(42)\n",
    "torch.cuda.manual_seed(42)\n",
    "\n",
    "import Figure_H2H_Regret\n",
    "\n",
    "from Performance import performance_evaluation\n",
    "perfs = performance_evaluation()\n",
    "\n",
    "from Performance import H2h_Regret_Evaluation\n",
    "h2h_regret_eva = H2h_Regret_Evaluation()\n",
    "\n",
    "from Data import Data_Simulator\n",
    "DS_Obj = Data_Simulator()\n",
    "\n",
    "from Oracle import Oracle_Processing\n",
    "Oracle_Proc = Oracle_Processing()\n",
    "\n",
    "from OLS import OLS_Processing\n",
    "OLS_Proc = OLS_Processing()\n",
    "\n",
    "from DDR import DDR_Processing\n",
    "DDR_Proc = DDR_Processing()\n",
    "\n",
    "from PYEPO import EPO_Processing\n",
    "PYEPO_Proc = EPO_Processing()\n",
    "\n",
    "from Data_Load_Store import Load_Store_Methods\n",
    "Data_LSM = Load_Store_Methods()"
   ]
  },
  {
   "cell_type": "code",
   "execution_count": 2,
   "id": "4679a8f8",
   "metadata": {},
   "outputs": [],
   "source": [
    "import Baseline_Params \n",
    "import Sequential_Learning_Approaches as SLA\n",
    "import Integrated_Learning_Approaches as ILA"
   ]
  },
  {
   "cell_type": "markdown",
   "id": "70a9c70a",
   "metadata": {},
   "source": [
    "### Parameters"
   ]
  },
  {
   "cell_type": "code",
   "execution_count": 3,
   "id": "d87a2fcb",
   "metadata": {},
   "outputs": [],
   "source": [
    "data_generation_process = \"SPO_Data_Generation\"\n",
    "# data_generation_process = \"DDR_Data_Generation\"\n",
    "\n",
    "current_directory = os.getcwd()\n",
    "parent_directory = os.path.dirname(current_directory)\n",
    "project_directory = os.path.dirname(os.path.dirname(os.path.dirname(parent_directory)))\n",
    "middle_path = '/Data_JOC_R1/Shortest_Path_Final/Baseline_quadratic_' + data_generation_process +\"/\"\n",
    "working_dir = project_directory + middle_path\n",
    "Result_dir = project_directory + middle_path + \"Result/\"\n",
    "pathlib.Path(working_dir).mkdir(parents=True, exist_ok=True)\n",
    "pathlib.Path(Result_dir).mkdir(parents=True, exist_ok=True)"
   ]
  },
  {
   "cell_type": "code",
   "execution_count": 4,
   "id": "805a3153",
   "metadata": {},
   "outputs": [],
   "source": [
    "Baseline_Params.set_Params(working_dir)\n",
    "num_train, num_feat, num_test, deg, e, lower, upper, p, alpha, mis, coef_seed, x_dist, e_dist, x_low, x_up, x_mean, x_var, bump, grid_all, iteration_all,mu_all,lamb_all = Baseline_Params.get_Params(working_dir)"
   ]
  },
  {
   "cell_type": "code",
   "execution_count": 5,
   "id": "60114308",
   "metadata": {},
   "outputs": [],
   "source": [
    "grid_all = [(3, 3)]\n",
    "mu_all = np.round(np.arange(0.5,1.0,0.05),4)\n",
    "lamb_all = np.round(np.arange(0.5,1.0,0.05),4)"
   ]
  },
  {
   "cell_type": "code",
   "execution_count": 6,
   "id": "d2e403ea",
   "metadata": {},
   "outputs": [
    {
     "name": "stdout",
     "output_type": "stream",
     "text": [
      "DataPath: /Users/zhangxun/Dropbox/Research/Decision_Driven_Regularization/Data_JOC_R1/Shortest_Path_Final/Baseline_quadratic_SPO_Data_Generation/3by3_grid/data_size=100_deg=1.0_e=0.5_num_test=1000_x_dist=uniform_e_dist=normal/\n",
      "Already Exist\n"
     ]
    }
   ],
   "source": [
    "for grid in grid_all:\n",
    "    L_N = grid[0]\n",
    "    d = (L_N - 1) * (L_N - 1) * 2 + 2 * (L_N - 1) # num of arcs\n",
    "    num_nodes = L_N*L_N\n",
    "\n",
    "    DataPath_parent = project_directory + middle_path +str(L_N)+'by'+str(L_N)+'_grid/'\n",
    "    DataPath = DataPath_parent + f\"data_size={num_train}_deg={deg}_e={e}_num_test={num_test}\"+\"_x_dist=\"+x_dist+\"_e_dist=\"+e_dist+\"/\"\n",
    "    pathlib.Path(DataPath).mkdir(parents=True, exist_ok=True)\n",
    "    print(\"DataPath:\", DataPath)\n",
    "    if os.path.exists(DataPath+\"x_test_all.pkl\"):\n",
    "        print(\"Already Exist\")\n",
    "    else:\n",
    "        x_test_all, c_test_all, x_train_all, c_train_all,noise_train_all,noise_test_all,W_star_all = \\\n",
    "        DS_Obj.Simulator(DataPath,lower, upper, p, d, coef_seed,iteration_all,num_test, num_train, alpha,mis,data_generation_process,x_dist, e_dist, x_low, x_up, x_mean, x_var, bump)\n",
    "\n",
    "        Data_LSM.store_input_data(DataPath,x_test_all,c_test_all,x_train_all,c_train_all,noise_test_all,noise_train_all,W_star_all)"
   ]
  },
  {
   "cell_type": "markdown",
   "id": "58d25bc7",
   "metadata": {},
   "source": [
    "##### 2.1 Run Oracle"
   ]
  },
  {
   "cell_type": "code",
   "execution_count": 7,
   "id": "c993d10b",
   "metadata": {},
   "outputs": [
    {
     "name": "stdout",
     "output_type": "stream",
     "text": [
      "DataPath: /Users/zhangxun/Dropbox/Research/Decision_Driven_Regularization/Data_JOC_R1/Shortest_Path_Final/Baseline_quadratic_SPO_Data_Generation/3by3_grid/data_size=100_deg=1.0_e=0.5_num_test=1000_x_dist=uniform_e_dist=normal/\n",
      "Results already exist\n"
     ]
    }
   ],
   "source": [
    "for grid in grid_all:\n",
    "    from Network import network_design\n",
    "    Network = network_design()\n",
    "    arcs,arc_index_mapping = Network._getArcs(grid)\n",
    "    L_N = grid[0]\n",
    "    DataPath_parent = project_directory + middle_path +str(L_N)+'by'+str(L_N)+'_grid/'\n",
    "    DataPath = DataPath_parent + f\"data_size={num_train}_deg={deg}_e={e}_num_test={num_test}\"+\"_x_dist=\"+x_dist+\"_e_dist=\"+e_dist+\"/\"\n",
    "    print(\"DataPath:\", DataPath)\n",
    "    if os.path.exists(DataPath+\"cost_Oracle_Ante_all.pkl\"):\n",
    "        print(\"Results already exist\")\n",
    "    else:\n",
    "        SLA.Run_Oracle(DataPath,arcs, grid,mis,bump,iteration_all,num_feat,data_generation_process)"
   ]
  },
  {
   "cell_type": "markdown",
   "id": "c24e953b",
   "metadata": {},
   "source": [
    "##### 2.2 Run OLS"
   ]
  },
  {
   "cell_type": "code",
   "execution_count": 8,
   "id": "7fff455f",
   "metadata": {},
   "outputs": [
    {
     "name": "stdout",
     "output_type": "stream",
     "text": [
      "DataPath: /Users/zhangxun/Dropbox/Research/Decision_Driven_Regularization/Data_JOC_R1/Shortest_Path_Final/Baseline_quadratic_SPO_Data_Generation/3by3_grid/data_size=100_deg=1.0_e=0.5_num_test=1000_x_dist=uniform_e_dist=normal/\n",
      "Results already exist\n"
     ]
    }
   ],
   "source": [
    "for grid in grid_all:\n",
    "    from Network import network_design\n",
    "    Network = network_design()\n",
    "    arcs,arc_index_mapping = Network._getArcs(grid)\n",
    "    L_N = grid[0]\n",
    "\n",
    "    DataPath_parent = project_directory + middle_path +str(L_N)+'by'+str(L_N)+'_grid/'\n",
    "    DataPath = DataPath_parent + f\"data_size={num_train}_deg={deg}_e={e}_num_test={num_test}\"+\"_x_dist=\"+x_dist+\"_e_dist=\"+e_dist+\"/\"\n",
    "    print(\"DataPath:\", DataPath)\n",
    "    if os.path.exists(DataPath+\"cost_OLS_Ante_all.pkl\"):\n",
    "        print(\"Results already exist\")\n",
    "    else:\n",
    "        SLA.Run_OLS(DataPath,arcs, grid,mis,bump,iteration_all,num_feat,data_generation_process)"
   ]
  },
  {
   "cell_type": "markdown",
   "id": "008ab599",
   "metadata": {},
   "source": [
    "##### 2.3 Run DDR without quadratic term"
   ]
  },
  {
   "cell_type": "code",
   "execution_count": 9,
   "id": "cff7d3fe",
   "metadata": {},
   "outputs": [
    {
     "name": "stdout",
     "output_type": "stream",
     "text": [
      "DataPath: /Users/zhangxun/Dropbox/Research/Decision_Driven_Regularization/Data_JOC_R1/Shortest_Path_Final/Baseline_quadratic_SPO_Data_Generation/3by3_grid/data_size=100_deg=1.0_e=0.5_num_test=1000_x_dist=uniform_e_dist=normal/\n",
      "Results already exist\n"
     ]
    }
   ],
   "source": [
    "for grid in grid_all:\n",
    "    from Network import network_design\n",
    "    Network = network_design()\n",
    "    arcs,arc_index_mapping = Network._getArcs(grid)\n",
    "    L_N = grid[0]\n",
    "    DataPath_parent = project_directory + middle_path +str(L_N)+'by'+str(L_N)+'_grid/'\n",
    "    DataPath = DataPath_parent + f\"data_size={num_train}_deg={deg}_e={e}_num_test={num_test}\"+\"_x_dist=\"+x_dist+\"_e_dist=\"+e_dist+\"/\"\n",
    "    print(\"DataPath:\", DataPath)\n",
    "    if os.path.exists(DataPath+\"cost_DDR_Ante_all.pkl\"):\n",
    "        print(\"Results already exist\")\n",
    "    else:\n",
    "        ILA.Run_DDR(DataPath,mu_all,lamb_all,arcs, grid,mis,bump,iteration_all,num_feat,data_generation_process)"
   ]
  },
  {
   "cell_type": "markdown",
   "id": "a56c2225",
   "metadata": {},
   "source": [
    "##### 2.3 Run DDR with quadratic term"
   ]
  },
  {
   "cell_type": "code",
   "execution_count": 10,
   "id": "f49aa4f8",
   "metadata": {},
   "outputs": [
    {
     "name": "stdout",
     "output_type": "stream",
     "text": [
      "DataPath: /Users/zhangxun/Dropbox/Research/Decision_Driven_Regularization/Data_JOC_R1/Shortest_Path_Final/Baseline_quadratic_SPO_Data_Generation/3by3_grid/data_size=100_deg=1.0_e=0.5_num_test=1000_x_dist=uniform_e_dist=normal/\n",
      "Results already exist\n"
     ]
    }
   ],
   "source": [
    "for grid in grid_all:\n",
    "    from Network import network_design\n",
    "    Network = network_design()\n",
    "    arcs,arc_index_mapping = Network._getArcs(grid)\n",
    "    L_N = grid[0]\n",
    "    DataPath_parent = project_directory + middle_path +str(L_N)+'by'+str(L_N)+'_grid/'\n",
    "    DataPath = DataPath_parent + f\"data_size={num_train}_deg={deg}_e={e}_num_test={num_test}\"+\"_x_dist=\"+x_dist+\"_e_dist=\"+e_dist+\"/\"\n",
    "    print(\"DataPath:\", DataPath)\n",
    "    if os.path.exists(DataPath+\"cost_DDR_Ante_quad_all.pkl\"):\n",
    "        print(\"Results already exist\")\n",
    "    else:\n",
    "        ILA.Run_DDR_Quadratic(DataPath,mu_all,lamb_all,arcs, grid,mis,bump,iteration_all,num_feat,data_generation_process)"
   ]
  },
  {
   "cell_type": "markdown",
   "id": "a344243f",
   "metadata": {},
   "source": [
    "2.4 Run DDR with self quadratic"
   ]
  },
  {
   "cell_type": "code",
   "execution_count": 11,
   "id": "dac9cbb6",
   "metadata": {},
   "outputs": [
    {
     "name": "stdout",
     "output_type": "stream",
     "text": [
      "DataPath: /Users/zhangxun/Dropbox/Research/Decision_Driven_Regularization/Data_JOC_R1/Shortest_Path_Final/Baseline_quadratic_SPO_Data_Generation/3by3_grid/data_size=100_deg=1.0_e=0.5_num_test=1000_x_dist=uniform_e_dist=normal/\n",
      "Set parameter Username\n",
      "Academic license - for non-commercial use only - expires 2026-03-13\n"
     ]
    },
    {
     "ename": "KeyboardInterrupt",
     "evalue": "",
     "output_type": "error",
     "traceback": [
      "\u001b[0;31m---------------------------------------------------------------------------\u001b[0m",
      "\u001b[0;31mKeyboardInterrupt\u001b[0m                         Traceback (most recent call last)",
      "Cell \u001b[0;32mIn[11], line 12\u001b[0m\n\u001b[1;32m     10\u001b[0m     \u001b[38;5;28mprint\u001b[39m(\u001b[38;5;124m\"\u001b[39m\u001b[38;5;124mResults already exist\u001b[39m\u001b[38;5;124m\"\u001b[39m)\n\u001b[1;32m     11\u001b[0m \u001b[38;5;28;01melse\u001b[39;00m:\n\u001b[0;32m---> 12\u001b[0m     \u001b[43mILA\u001b[49m\u001b[38;5;241;43m.\u001b[39;49m\u001b[43mRun_DDR_self_Quadratic\u001b[49m\u001b[43m(\u001b[49m\u001b[43mDataPath\u001b[49m\u001b[43m,\u001b[49m\u001b[43mmu_all\u001b[49m\u001b[43m,\u001b[49m\u001b[43mlamb_all\u001b[49m\u001b[43m,\u001b[49m\u001b[43marcs\u001b[49m\u001b[43m,\u001b[49m\u001b[43m \u001b[49m\u001b[43mgrid\u001b[49m\u001b[43m,\u001b[49m\u001b[43mmis\u001b[49m\u001b[43m,\u001b[49m\u001b[43mbump\u001b[49m\u001b[43m,\u001b[49m\u001b[43miteration_all\u001b[49m\u001b[43m,\u001b[49m\u001b[43mnum_feat\u001b[49m\u001b[43m,\u001b[49m\u001b[43mdata_generation_process\u001b[49m\u001b[43m)\u001b[49m\n",
      "File \u001b[0;32m~/Dropbox/Research/Decision_Driven_Regularization/Code_MacBook/Decision_Driven_Regularization/JOC_R1/Shortest_Path_Reproduce/Integrated_Learning_Approaches.py:136\u001b[0m, in \u001b[0;36mRun_DDR_self_Quadratic\u001b[0;34m(DataPath, mu_all, lamb_all, arcs, grid, mis, bump, iteration_all, num_feat, data_generation_process)\u001b[0m\n\u001b[1;32m    133\u001b[0m x_train_quad_all \u001b[38;5;241m=\u001b[39m add_self_quadratic_data(x_train_all,iteration_all)\n\u001b[1;32m    134\u001b[0m x_test_quad_all \u001b[38;5;241m=\u001b[39m add_self_quadratic_data(x_test_all,iteration_all)\n\u001b[0;32m--> 136\u001b[0m cost_DDR_Post_all,cost_DDR_Ante_all,RMSE_in_all,RMSE_out_all \u001b[38;5;241m=\u001b[39m \u001b[43mDDR_Proc\u001b[49m\u001b[38;5;241;43m.\u001b[39;49m\u001b[43mImplement_DDR_quad\u001b[49m\u001b[43m(\u001b[49m\u001b[43mmu_all\u001b[49m\u001b[43m,\u001b[49m\u001b[43mlamb_all\u001b[49m\u001b[43m,\u001b[49m\u001b[43marcs\u001b[49m\u001b[43m,\u001b[49m\u001b[43m \u001b[49m\u001b[43mgrid\u001b[49m\u001b[43m,\u001b[49m\u001b[43mmis\u001b[49m\u001b[43m,\u001b[49m\u001b[43mbump\u001b[49m\u001b[43m,\u001b[49m\u001b[43m\\\u001b[49m\n\u001b[1;32m    137\u001b[0m \u001b[43m                                                            \u001b[49m\u001b[43mW_star_all\u001b[49m\u001b[43m,\u001b[49m\u001b[43mx_test_all\u001b[49m\u001b[43m,\u001b[49m\u001b[43mc_test_all\u001b[49m\u001b[43m,\u001b[49m\u001b[43mx_train_all\u001b[49m\u001b[43m,\u001b[49m\u001b[43mc_train_all\u001b[49m\u001b[43m,\u001b[49m\u001b[43m\\\u001b[49m\n\u001b[1;32m    138\u001b[0m \u001b[43m                                                                \u001b[49m\u001b[43miteration_all\u001b[49m\u001b[43m,\u001b[49m\u001b[43mnum_feat\u001b[49m\u001b[43m,\u001b[49m\u001b[43mdata_generation_process\u001b[49m\u001b[43m,\u001b[49m\u001b[43mx_train_quad_all\u001b[49m\u001b[43m,\u001b[49m\u001b[43mx_test_quad_all\u001b[49m\u001b[43m)\u001b[49m\n\u001b[1;32m    140\u001b[0m \u001b[38;5;28;01mwith\u001b[39;00m \u001b[38;5;28mopen\u001b[39m(DataPath\u001b[38;5;241m+\u001b[39m\u001b[38;5;124m'\u001b[39m\u001b[38;5;124mcost_DDR_Ante_self_quad_all.pkl\u001b[39m\u001b[38;5;124m'\u001b[39m, \u001b[38;5;124m\"\u001b[39m\u001b[38;5;124mwb\u001b[39m\u001b[38;5;124m\"\u001b[39m) \u001b[38;5;28;01mas\u001b[39;00m tf:\n\u001b[1;32m    141\u001b[0m     pickle\u001b[38;5;241m.\u001b[39mdump(cost_DDR_Ante_all,tf)\n",
      "File \u001b[0;32m~/Dropbox/Research/Decision_Driven_Regularization/Code_MacBook/Decision_Driven_Regularization/JOC_R1/Shortest_Path_Reproduce/DDR.py:103\u001b[0m, in \u001b[0;36mDDR_Processing.Implement_DDR_quad\u001b[0;34m(self, mu_all, lamb_all, arcs, grid, mis, bump, W_star_all, x_test_all, c_test_all, x_train_all, c_train_all, iteration_all, num_feat, data_generation_process, x_train_quad_all, x_test_quad_all)\u001b[0m\n\u001b[1;32m    101\u001b[0m \u001b[38;5;28;01mfor\u001b[39;00m mu \u001b[38;5;129;01min\u001b[39;00m mu_all:\n\u001b[1;32m    102\u001b[0m     \u001b[38;5;28;01mfor\u001b[39;00m lamb \u001b[38;5;129;01min\u001b[39;00m lamb_all:\n\u001b[0;32m--> 103\u001b[0m         w0_ddr_dict[\u001b[38;5;28miter\u001b[39m,mu,lamb],W_ddr_dict[\u001b[38;5;28miter\u001b[39m,mu,lamb],alpha_rst,obj_ddr \u001b[38;5;241m=\u001b[39m \u001b[43mddr_object\u001b[49m\u001b[38;5;241;43m.\u001b[39;49m\u001b[43msolve_DDR\u001b[49m\u001b[43m(\u001b[49m\u001b[43marcs\u001b[49m\u001b[43m,\u001b[49m\u001b[43mlamb\u001b[49m\u001b[43m,\u001b[49m\u001b[43mmu\u001b[49m\u001b[43m,\u001b[49m\u001b[43mnum_nodes\u001b[49m\u001b[43m,\u001b[49m\u001b[43mx_train_quad_all\u001b[49m\u001b[43m[\u001b[49m\u001b[38;5;28;43miter\u001b[39;49m\u001b[43m]\u001b[49m\u001b[43m,\u001b[49m\u001b[43mc_train_all\u001b[49m\u001b[43m[\u001b[49m\u001b[38;5;28;43miter\u001b[39;49m\u001b[43m]\u001b[49m\u001b[43m)\u001b[49m\n\u001b[1;32m    104\u001b[0m         cost_pred \u001b[38;5;241m=\u001b[39m (W_ddr_dict[\u001b[38;5;28miter\u001b[39m,mu,lamb] \u001b[38;5;241m@\u001b[39m x_test_quad_all[\u001b[38;5;28miter\u001b[39m]\u001b[38;5;241m.\u001b[39mT)\u001b[38;5;241m.\u001b[39mT \u001b[38;5;241m+\u001b[39m w0_ddr_dict[\u001b[38;5;28miter\u001b[39m,mu,lamb]\n\u001b[1;32m    105\u001b[0m         cost_in \u001b[38;5;241m=\u001b[39m (W_ddr_dict[\u001b[38;5;28miter\u001b[39m,mu,lamb] \u001b[38;5;241m@\u001b[39m x_train_quad_all[\u001b[38;5;28miter\u001b[39m]\u001b[38;5;241m.\u001b[39mT)\u001b[38;5;241m.\u001b[39mT \u001b[38;5;241m+\u001b[39m w0_ddr_dict[\u001b[38;5;28miter\u001b[39m,mu,lamb]\n",
      "File \u001b[0;32m~/Dropbox/Research/Decision_Driven_Regularization/Code_MacBook/Decision_Driven_Regularization/JOC_R1/Shortest_Path_Reproduce/DDR.py:44\u001b[0m, in \u001b[0;36mDDR_method.solve_DDR\u001b[0;34m(self, arcs, lamb, mu_fixed, num_nodes, x_train, c_train)\u001b[0m\n\u001b[1;32m     41\u001b[0m         \u001b[38;5;66;03m# print(\"j = \",j,\", i = \",i, \", e = \",e)\u001b[39;00m\n\u001b[1;32m     42\u001b[0m         m\u001b[38;5;241m.\u001b[39maddConstr(alpha[n,j] \u001b[38;5;241m-\u001b[39m alpha[n,i] \u001b[38;5;241m>\u001b[39m\u001b[38;5;241m=\u001b[39m \u001b[38;5;241m-\u001b[39mmu_fixed\u001b[38;5;241m*\u001b[39mcost_true_tem[ind] \u001b[38;5;241m-\u001b[39m (\u001b[38;5;241m1\u001b[39m\u001b[38;5;241m-\u001b[39mmu_fixed)\u001b[38;5;241m*\u001b[39mcost_pred_tem)\n\u001b[0;32m---> 44\u001b[0m \u001b[43mm\u001b[49m\u001b[38;5;241;43m.\u001b[39;49m\u001b[43msetObjective\u001b[49m\u001b[43m(\u001b[49m\u001b[43mquicksum\u001b[49m\u001b[43m(\u001b[49m\u001b[43m[\u001b[49m\u001b[43merr\u001b[49m\u001b[43m[\u001b[49m\u001b[43mk\u001b[49m\u001b[43m]\u001b[49m\u001b[43m \u001b[49m\u001b[38;5;241;43m*\u001b[39;49m\u001b[43m \u001b[49m\u001b[43merr\u001b[49m\u001b[43m[\u001b[49m\u001b[43mk\u001b[49m\u001b[43m]\u001b[49m\u001b[43m \u001b[49m\u001b[38;5;28;43;01mfor\u001b[39;49;00m\u001b[43m \u001b[49m\u001b[43mk\u001b[49m\u001b[43m \u001b[49m\u001b[38;5;129;43;01min\u001b[39;49;00m\u001b[43m \u001b[49m\u001b[38;5;28;43mrange\u001b[39;49m\u001b[43m(\u001b[49m\u001b[38;5;28;43mlen\u001b[39;49m\u001b[43m(\u001b[49m\u001b[43merr\u001b[49m\u001b[43m)\u001b[49m\u001b[43m)\u001b[49m\u001b[43m]\u001b[49m\u001b[43m)\u001b[49m\u001b[38;5;241;43m/\u001b[39;49m\u001b[43mN\u001b[49m\u001b[43m \u001b[49m\u001b[38;5;241;43m+\u001b[39;49m\u001b[43m \u001b[49m\u001b[43mlamb\u001b[49m\u001b[38;5;241;43m*\u001b[39;49m\u001b[43m(\u001b[49m\u001b[43mexpr_obj\u001b[49m\u001b[43m)\u001b[49m\u001b[38;5;241;43m/\u001b[39;49m\u001b[43mN\u001b[49m\u001b[43m,\u001b[49m\u001b[43m \u001b[49m\u001b[43mGRB\u001b[49m\u001b[38;5;241;43m.\u001b[39;49m\u001b[43mMINIMIZE\u001b[49m\u001b[43m)\u001b[49m\n\u001b[1;32m     45\u001b[0m m\u001b[38;5;241m.\u001b[39moptimize()\n\u001b[1;32m     47\u001b[0m W_DDR_rst \u001b[38;5;241m=\u001b[39m m\u001b[38;5;241m.\u001b[39mgetAttr(\u001b[38;5;124m'\u001b[39m\u001b[38;5;124mx\u001b[39m\u001b[38;5;124m'\u001b[39m, W_ddr)\n",
      "\u001b[0;31mKeyboardInterrupt\u001b[0m: "
     ]
    }
   ],
   "source": [
    "for grid in grid_all:\n",
    "    from Network import network_design\n",
    "    Network = network_design()\n",
    "    arcs,arc_index_mapping = Network._getArcs(grid)\n",
    "    L_N = grid[0]\n",
    "    DataPath_parent = project_directory + middle_path +str(L_N)+'by'+str(L_N)+'_grid/'\n",
    "    DataPath = DataPath_parent + f\"data_size={num_train}_deg={deg}_e={e}_num_test={num_test}\"+\"_x_dist=\"+x_dist+\"_e_dist=\"+e_dist+\"/\"\n",
    "    print(\"DataPath:\", DataPath)\n",
    "    if os.path.exists(DataPath+\"cost_DDR_Ante_self_quad_all.pkl\"):\n",
    "        print(\"Results already exist\")\n",
    "    else:\n",
    "        ILA.Run_DDR_self_Quadratic(DataPath,mu_all,lamb_all,arcs, grid,mis,bump,iteration_all,num_feat,data_generation_process)"
   ]
  },
  {
   "cell_type": "markdown",
   "id": "115a7fef",
   "metadata": {},
   "source": [
    "##### 2.4 Run SPO+"
   ]
  },
  {
   "cell_type": "code",
   "execution_count": null,
   "id": "520765f7",
   "metadata": {},
   "outputs": [],
   "source": [
    "# method_names = [\"spo+\"]\n",
    "# for grid in grid_all:\n",
    "#     from Network import network_design\n",
    "#     Network = network_design()\n",
    "#     arcs,arc_index_mapping = Network._getArcs(grid)\n",
    "#     L_N = grid[0]\n",
    "#     DataPath_parent = project_directory + middle_path +str(L_N)+'by'+str(L_N)+'_grid/'\n",
    "#     DataPath = DataPath_parent + f\"data_size={num_train}_deg={deg}_e={e}_num_test={num_test}\"+\"_x_dist=\"+x_dist+\"_e_dist=\"+e_dist+\"/\"\n",
    "#     print(\"DataPath:\", DataPath)\n",
    "#     if os.path.exists(DataPath+\"cost_spo+_Ante_quad_all.pkl\"):\n",
    "#         print(\"Results already exist\")\n",
    "#     else:\n",
    "#         ILA.run_EPO_approaches_Quadratic(DataPath,method_names,arcs, grid,mis,bump,iteration_all,num_feat,data_generation_process)"
   ]
  },
  {
   "cell_type": "markdown",
   "id": "f1052548",
   "metadata": {},
   "source": [
    "##### 2.5 Run PG"
   ]
  },
  {
   "cell_type": "code",
   "execution_count": null,
   "id": "12cfb217",
   "metadata": {},
   "outputs": [],
   "source": [
    "# method_names = [\"pg\"]\n",
    "# for grid in grid_all:\n",
    "#     from Network import network_design\n",
    "#     Network = network_design()\n",
    "#     arcs,arc_index_mapping = Network._getArcs(grid)\n",
    "#     L_N = grid[0]\n",
    "\n",
    "#     DataPath_parent = project_directory + middle_path +str(L_N)+'by'+str(L_N)+'_grid/'\n",
    "#     DataPath = DataPath_parent + f\"data_size={num_train}_deg={deg}_e={e}_num_test={num_test}\"+\"_x_dist=\"+x_dist+\"_e_dist=\"+e_dist+\"/\"\n",
    "#     print(\"DataPath:\", DataPath)\n",
    "#     if os.path.exists(DataPath+\"cost_pg_Ante_quad_all.pkl\"):\n",
    "#         print(\"Results already exist\")\n",
    "#     else:\n",
    "#         ILA.run_EPO_approaches_Quadratic(DataPath,method_names,arcs, grid,mis,bump,iteration_all,num_feat,data_generation_process)"
   ]
  },
  {
   "cell_type": "markdown",
   "id": "092c9f48",
   "metadata": {},
   "source": [
    "##### 2.6 Run LTR"
   ]
  },
  {
   "cell_type": "code",
   "execution_count": null,
   "id": "1a1257a8",
   "metadata": {},
   "outputs": [],
   "source": [
    "# method_names = [\"ltr\"]\n",
    "# for grid in grid_all:\n",
    "#     from Network import network_design\n",
    "#     Network = network_design()\n",
    "#     arcs,arc_index_mapping = Network._getArcs(grid)\n",
    "#     L_N = grid[0]\n",
    "\n",
    "#     DataPath_parent = project_directory + middle_path +str(L_N)+'by'+str(L_N)+'_grid/'\n",
    "#     DataPath = DataPath_parent + f\"data_size={num_train}_deg={deg}_e={e}_num_test={num_test}\"+\"_x_dist=\"+x_dist+\"_e_dist=\"+e_dist+\"/\"\n",
    "#     print(\"DataPath:\", DataPath)\n",
    "#     if os.path.exists(DataPath+\"cost_ltr_Ante_quad_all.pkl\"):\n",
    "#         print(\"Results already exist\")\n",
    "#     else:\n",
    "#         ILA.run_EPO_approaches_Quadratic(DataPath,method_names,arcs, grid,mis,bump,iteration_all,num_feat,data_generation_process)"
   ]
  },
  {
   "cell_type": "markdown",
   "id": "11b8b4f5",
   "metadata": {},
   "source": [
    "##### 2.7 Run Random Forest"
   ]
  },
  {
   "cell_type": "code",
   "execution_count": null,
   "id": "98f76774",
   "metadata": {},
   "outputs": [],
   "source": [
    "# for grid in grid_all:\n",
    "#     from Network import network_design\n",
    "#     Network = network_design()\n",
    "#     arcs,arc_index_mapping = Network._getArcs(grid)\n",
    "#     L_N = grid[0]\n",
    "\n",
    "#     DataPath_parent = project_directory + middle_path +str(L_N)+'by'+str(L_N)+'_grid/'\n",
    "#     DataPath = DataPath_parent + f\"data_size={num_train}_deg={deg}_e={e}_num_test={num_test}\"+\"_x_dist=\"+x_dist+\"_e_dist=\"+e_dist+\"/\"\n",
    "#     print(\"DataPath:\", DataPath)\n",
    "#     if os.path.exists(DataPath+\"cost_RF_Ante_quad_all.pkl\"):\n",
    "#         print(\"Results already exist\")\n",
    "#     else:\n",
    "#         SLA.Run_Random_Forest_Quadratic(DataPath,arcs, grid,mis,bump,iteration_all,num_feat,data_generation_process)"
   ]
  },
  {
   "cell_type": "markdown",
   "id": "54d4b896",
   "metadata": {},
   "source": [
    "##### 2.8 Run XGBoost"
   ]
  },
  {
   "cell_type": "code",
   "execution_count": null,
   "id": "60b8018c",
   "metadata": {},
   "outputs": [],
   "source": [
    "# for grid in grid_all:\n",
    "#     from Network import network_design\n",
    "#     Network = network_design()\n",
    "#     arcs,arc_index_mapping = Network._getArcs(grid)\n",
    "#     L_N = grid[0]\n",
    "\n",
    "#     DataPath_parent = project_directory + middle_path +str(L_N)+'by'+str(L_N)+'_grid/'\n",
    "#     DataPath = DataPath_parent + f\"data_size={num_train}_deg={deg}_e={e}_num_test={num_test}\"+\"_x_dist=\"+x_dist+\"_e_dist=\"+e_dist+\"/\"\n",
    "#     print(\"DataPath:\", DataPath)\n",
    "#     if os.path.exists(DataPath+\"cost_XG_Ante_quad_all.pkl\"):\n",
    "#         print(\"Results already exist\")\n",
    "#     else:\n",
    "#         SLA.Run_XGBoost_Quadratic(DataPath,arcs, grid,mis,bump,iteration_all,num_feat,data_generation_process)"
   ]
  },
  {
   "cell_type": "markdown",
   "id": "978a91b1",
   "metadata": {},
   "source": [
    "### Comparison"
   ]
  },
  {
   "cell_type": "code",
   "execution_count": null,
   "id": "44daa8d7",
   "metadata": {},
   "outputs": [],
   "source": [
    "from scipy.stats import gaussian_kde\n",
    "from matplotlib import gridspec\n",
    "import seaborn as sns\n",
    "import matplotlib.pyplot as plt\n",
    "def Upright_Figure(all_x, all_y, figure_name, size = (5, 5), move = [-0.07, 0.07, 0.35, 0.55], \n",
    "                        ymin = 0, ymax=100,xmin = 0,xmax = 100):\n",
    "    \n",
    "    data = np.asarray([all_x,all_y])\n",
    "\n",
    "    ####### Obtain KDE  \n",
    "    #KDE for top marginal\n",
    "    kde_X = gaussian_kde(data[0])\n",
    "    #KDE for right marginal\n",
    "    kde_Y = gaussian_kde(data[1])\n",
    "\n",
    "    x = np.linspace(0, 100, 100)\n",
    "    y = np.linspace(ymin, ymax, 100)\n",
    "\n",
    "    dx = kde_X(x) # X-marginal density\n",
    "    dy = kde_Y(y) # Y-marginal density\n",
    "\n",
    "    #Define grid for subplots\n",
    "    gs = gridspec.GridSpec(2, 2, width_ratios=[3, 1], height_ratios = [1, 3])\n",
    "\n",
    "    ####### Create scatter plot\n",
    "    fig = plt.figure(figsize = size)\n",
    "    ax = plt.subplot(gs[1, 0])\n",
    "    cax = ax.scatter(data[0], data[1], s = 15, color='#003D7C', marker = \"o\", edgecolors = \"#EF7C00\")\n",
    "    plt.xlabel('Head-to-head (%)')\n",
    "\n",
    "    plt.ylabel('Regret reduction (%)') #pio\n",
    "    plt.vlines(50, ymin, ymax, linestyle=\"dashed\", alpha = 0.8,color = 'k')\n",
    "    plt.hlines(0, xmin, xmax, linestyle=\"dashed\", alpha = 0.8,color = 'k')\n",
    "\n",
    "    # ####### Create Y-marginal (right)\n",
    "    axr = plt.subplot(gs[1, 1], xticks = [], yticks = [], frameon = False)\n",
    "    axr.plot(dy, y, color = 'black')\n",
    "\n",
    "    axr.fill_betweenx(y, 0, dy, where = y <= 0.01, alpha = 1, color='#EF7C00')\n",
    "    axr.fill_betweenx(y, 0, dy, where = y >= 0, alpha = 1, color='#003D7C')\n",
    "\n",
    "    leftarea = np.round( sum(n <= 0 for n in all_y)/len(all_y),2 )\n",
    "    rightarea = np.round( sum(n > 0 for n in all_y)/len(all_y),2 )\n",
    "\n",
    "    axr.annotate(leftarea, xy=(0.15, abs(ymin)/(ymax - ymin) + move[0]), xycoords='axes fraction', bbox=dict(boxstyle=\"round\", fc=\"w\"), size = 12)\n",
    "    axr.annotate(rightarea, xy=(0.15, abs(ymin)/(ymax - ymin) + move[1]), xycoords='axes fraction', bbox=dict(boxstyle=\"round\", fc=\"w\"), size = 12)\n",
    "\n",
    "    # ####### Create X-marginal (top)\n",
    "    axt = plt.subplot(gs[0,0], frameon = False, yticks = [], xticks = [])\n",
    "    #base = pyplot.gca().transData\n",
    "    #rot = transforms.Affine2D().rotate_deg(180)\n",
    "    axt.plot(x, dx, color = 'black')\n",
    "    axt.fill_between(x, 0, dx, where = x >= 49.9, alpha= 1, color = '#003D7C')\n",
    "    axt.fill_between(x, 0, dx, where = x <= 50, alpha= 1, color = '#EF7C00')\n",
    "\n",
    "    #     axt.invert_yaxis()\n",
    "    leftarea = np.round( sum(n <= 50 for n in all_x)/len(all_x),2 )\n",
    "    rightarea = np.round( sum(n > 50 for n in all_x)/len(all_x),2 )\n",
    "\n",
    "    axt.annotate(leftarea, xy=(move[2], 0.15), xycoords='axes fraction', bbox=dict(boxstyle=\"round\", fc=\"w\"), size = 12)\n",
    "    axt.annotate(rightarea, xy=(move[3], 0.15), xycoords='axes fraction', bbox=dict(boxstyle=\"round\", fc=\"w\"), size = 12)\n",
    "\n",
    "    # ####### Bring the marginals closer to the scatter plot and save eps file\n",
    "    fig.tight_layout(pad = 1)\n",
    "    # # plt.savefig(figure_name + '.eps', format='eps')\n",
    "    plt.savefig(figure_name + '.pdf', format='pdf')"
   ]
  },
  {
   "cell_type": "code",
   "execution_count": null,
   "id": "d63636e6",
   "metadata": {},
   "outputs": [],
   "source": [
    "def obtain_DDR_vs_benchmarks_h2h_regret(grid_all,project_directory,middle_path,num_train,deg,e,num_test,x_dist,e_dist,mu_all,lamb_all,benchmark):\n",
    "    h2h_ = {}; cost_rd_ = {}; regret_rd_ = {}\n",
    "    for grid in grid_all:\n",
    "        L_N = grid[0]\n",
    "        DataPath_parent = project_directory + middle_path +str(L_N)+'by'+str(L_N)+'_grid/'\n",
    "        DataPath = DataPath_parent + f\"data_size={num_train}_deg={deg}_e={e}_num_test={num_test}\"+\"_x_dist=\"+x_dist+\"_e_dist=\"+e_dist+\"/\"\n",
    "        print(\"DataPath:\", DataPath)     \n",
    "        with open(DataPath+'cost_Oracle_Ante_all.pkl', \"rb\") as tf:\n",
    "            cost_Oracle_Ante_all = pickle.load(tf)\n",
    "        with open(DataPath+'cost_OLS_Ante_quad_all.pkl', \"rb\") as tf:\n",
    "            cost_OLS_Ante_all = pickle.load(tf)\n",
    "        with open(DataPath+'cost_DDR_Ante_quad_all.pkl', \"rb\") as tf:\n",
    "            cost_DDR_Ante_all = pickle.load(tf)\n",
    "\n",
    "        with open(DataPath+'cost_spo+_Ante_quad_all.pkl', \"rb\") as tf:\n",
    "            cost_SPO_Ante_all = pickle.load(tf)\n",
    "        with open(DataPath+'cost_rf_Ante_quad_all.pkl', \"rb\") as tf:\n",
    "            cost_RF_Ante_all = pickle.load(tf)\n",
    "        with open(DataPath+'cost_xg_Ante_quad_all.pkl', \"rb\") as tf:\n",
    "            cost_XG_Ante_all = pickle.load(tf)\n",
    "\n",
    "        for mu in mu_all:\n",
    "            for lamb in lamb_all:\n",
    "                if benchmark == \"OLS\":\n",
    "                    h2h_[L_N,mu,lamb],regret_rd_[L_N,mu,lamb] = h2h_regret_eva.calculate_DDR_vs_Others_h2h_regret(mu,lamb,iteration_all,cost_DDR_Ante_all,cost_OLS_Ante_all,cost_Oracle_Ante_all)\n",
    "                if benchmark == \"SPO+\":\n",
    "                    h2h_[L_N,mu,lamb],regret_rd_[L_N,mu,lamb] = h2h_regret_eva.calculate_DDR_vs_Others_h2h_regret(mu,lamb,iteration_all,cost_DDR_Ante_all,cost_SPO_Ante_all,cost_Oracle_Ante_all)\n",
    "                if benchmark == \"RF\":\n",
    "                    h2h_[L_N,mu,lamb],regret_rd_[L_N,mu,lamb] = h2h_regret_eva.calculate_DDR_vs_Others_h2h_regret(mu,lamb,iteration_all,cost_DDR_Ante_all,cost_RF_Ante_all,cost_Oracle_Ante_all)\n",
    "                if benchmark == \"XG\":\n",
    "                    h2h_[L_N,mu,lamb],regret_rd_[L_N,mu,lamb] = h2h_regret_eva.calculate_DDR_vs_Others_h2h_regret(mu,lamb,iteration_all,cost_DDR_Ante_all,cost_XG_Ante_all,cost_Oracle_Ante_all)\n",
    "        print(\"Grid = \",grid)\n",
    "    return h2h_,regret_rd_"
   ]
  },
  {
   "cell_type": "markdown",
   "id": "5380c179",
   "metadata": {},
   "source": [
    "### Comparison between DDR with/without quadratic term"
   ]
  },
  {
   "cell_type": "code",
   "execution_count": null,
   "id": "f38020d2",
   "metadata": {},
   "outputs": [],
   "source": [
    "# grid = (3,3)\n",
    "# L_N = grid[0]\n",
    "# DataPath_parent = project_directory + middle_path +str(L_N)+'by'+str(L_N)+'_grid/'\n",
    "# DataPath = DataPath_parent + f\"data_size={num_train}_deg={deg}_e={e}_num_test={num_test}\"+\"_x_dist=\"+x_dist+\"_e_dist=\"+e_dist+\"/\"\n",
    "# print(\"DataPath:\", DataPath)     \n",
    "# with open(DataPath+'cost_Oracle_Ante_all.pkl', \"rb\") as tf:\n",
    "#     cost_Oracle_Ante_all = pickle.load(tf)\n",
    "# with open(DataPath+'cost_OLS_Ante_all.pkl', \"rb\") as tf:\n",
    "#     cost_OLS_Ante_all = pickle.load(tf)\n",
    "# with open(DataPath+'cost_DDR_Ante_quad_all.pkl', \"rb\") as tf:\n",
    "#     cost_DDR_Ante_quad_all = pickle.load(tf)\n",
    "# with open(DataPath+'cost_DDR_Ante_all.pkl', \"rb\") as tf:\n",
    "#     cost_DDR_Ante_all = pickle.load(tf)"
   ]
  },
  {
   "cell_type": "code",
   "execution_count": null,
   "id": "a339eee0",
   "metadata": {},
   "outputs": [],
   "source": [
    "def cross_compare2plus(c_item, c_base, c_oracle):\n",
    "    N = len(c_item)\n",
    "    c_diff = c_base - c_item\n",
    "    lbel = np.zeros((N,1))\n",
    "    \n",
    "    equals = np.sum(c_diff == 0)\n",
    "    wins = np.sum(c_diff > 0) # indicate num of c_item is lower than c_base\n",
    "    lose = np.sum(c_diff < 0)\n",
    "    \n",
    "    lbel[c_diff < 0] = 1\n",
    "    lbel[c_diff > 0] = -1\n",
    "    \n",
    "#     print(N, equals, wins, lose)\n",
    "    if N == equals:\n",
    "        win_ratio = 0.5\n",
    "    else:\n",
    "        win_ratio = wins/(N - equals)\n",
    "    cost_reduction = (np.nanmean(c_diff))/np.abs(np.nanmean(c_base))\n",
    "    if np.nanmean(c_base) - np.nanmean(c_oracle) <= 1e-6:\n",
    "        regret_reduction = 0.0\n",
    "    else:\n",
    "        regret_reduction = (np.nanmean(c_diff))/np.abs(np.nanmean(c_base) - np.nanmean(c_oracle))\n",
    "    return win_ratio, cost_reduction, regret_reduction"
   ]
  },
  {
   "cell_type": "code",
   "execution_count": null,
   "id": "89b9a37c",
   "metadata": {},
   "outputs": [],
   "source": [
    "def calculate_DDR_vs_OLS(mu,lamb,iteration_all,cost_DDR_Ante_all,cost_OLS_Ante_all,cost_Oracle_Ante_all):\n",
    "    \n",
    "    h2h_ = np.zeros(len(iteration_all)); cost_rd_ = np.zeros(len(iteration_all)); regret_rd_ = np.zeros(len(iteration_all))\n",
    "    for iter_index in range(len(iteration_all)):\n",
    "        iter = iteration_all[iter_index]\n",
    "        h2h_[iter_index],cost_rd_[iter_index],regret_rd_[iter_index] = cross_compare2plus(cost_DDR_Ante_all[iter,mu,lamb], cost_OLS_Ante_all[iter], cost_Oracle_Ante_all[iter])\n",
    "\n",
    "    # return h2h_post,regret_post,h2h_ante,regret_ante\n",
    "    return h2h_,regret_rd_"
   ]
  },
  {
   "cell_type": "code",
   "execution_count": null,
   "id": "fc5861fc",
   "metadata": {},
   "outputs": [],
   "source": [
    "def generate_df(data_mat,indices,colums):\n",
    "    df = pd.DataFrame(np.round(data_mat*100,4))\n",
    "    df.index = indices\n",
    "    df.columns = colums\n",
    "    return df"
   ]
  },
  {
   "cell_type": "code",
   "execution_count": null,
   "id": "ce1e9960",
   "metadata": {},
   "outputs": [],
   "source": [
    "# h2h_ddr_vs_ols_wo_quad = {}; regret_rd_ddr_vs_ols_wo_quad = {}\n",
    "# h2h_ddr_vs_ols_wt_quad = {}; regret_rd_ddr_vs_ols_wt_quad = {}\n",
    "\n",
    "# h2h_ddr_vs_ols_wo_quad_prop = np.zeros((len(mu_all),len(lamb_all))); regret_rd_ddr_vs_ols_wo_quad_prop = np.zeros((len(mu_all),len(lamb_all)))\n",
    "# h2h_ddr_vs_ols_wt_quad_prop = np.zeros((len(mu_all),len(lamb_all))); regret_rd_ddr_vs_ols_wt_quad_prop = np.zeros((len(mu_all),len(lamb_all)))\n",
    "\n",
    "# h2h_ddr_vs_ols_wo_quad_avg = np.zeros((len(mu_all),len(lamb_all))); regret_rd_ddr_vs_ols_wo_quad_avg = np.zeros((len(mu_all),len(lamb_all)))\n",
    "# h2h_ddr_vs_ols_wt_quad_avg = np.zeros((len(mu_all),len(lamb_all))); regret_rd_ddr_vs_ols_wt_quad_avg = np.zeros((len(mu_all),len(lamb_all)))\n",
    "\n",
    "# mu_index = 0\n",
    "# for mu in mu_all:\n",
    "#     lamb_index = 0\n",
    "#     for lamb in lamb_all:\n",
    "#         h2h_ddr_vs_ols_wo_quad[mu,lamb], regret_rd_ddr_vs_ols_wo_quad[mu, lamb] = calculate_DDR_vs_OLS(mu,lamb,iteration_all,cost_DDR_Ante_all,cost_OLS_Ante_all,cost_Oracle_Ante_all)\n",
    "#         h2h_ddr_vs_ols_wt_quad[mu,lamb], regret_rd_ddr_vs_ols_wt_quad[mu, lamb] = calculate_DDR_vs_OLS(mu,lamb,iteration_all,cost_DDR_Ante_quad_all,cost_OLS_Ante_all,cost_Oracle_Ante_all)\n",
    "        \n",
    "#         h2h_ddr_vs_ols_wo_quad_prop[mu_index,lamb_index] = len(h2h_ddr_vs_ols_wo_quad[mu,lamb][h2h_ddr_vs_ols_wo_quad[mu,lamb] >= 0.5])/len(h2h_ddr_vs_ols_wo_quad[mu,lamb])\n",
    "#         regret_rd_ddr_vs_ols_wo_quad_prop[mu_index,lamb_index] = len(regret_rd_ddr_vs_ols_wo_quad[mu,lamb][regret_rd_ddr_vs_ols_wo_quad[mu,lamb] > 0.0])/len(regret_rd_ddr_vs_ols_wo_quad[mu,lamb])\n",
    "\n",
    "#         h2h_ddr_vs_ols_wt_quad_prop[mu_index,lamb_index] = len(h2h_ddr_vs_ols_wt_quad[mu,lamb][h2h_ddr_vs_ols_wt_quad[mu,lamb] >= 0.5])/len(h2h_ddr_vs_ols_wt_quad[mu,lamb])\n",
    "#         regret_rd_ddr_vs_ols_wt_quad_prop[mu_index,lamb_index] = len(regret_rd_ddr_vs_ols_wt_quad[mu,lamb][regret_rd_ddr_vs_ols_wt_quad[mu,lamb] > 0.0])/len(regret_rd_ddr_vs_ols_wt_quad[mu,lamb])\n",
    "\n",
    "#         h2h_ddr_vs_ols_wo_quad_avg[mu_index,lamb_index] = np.nanmean(h2h_ddr_vs_ols_wo_quad[mu,lamb])\n",
    "#         regret_rd_ddr_vs_ols_wo_quad_avg[mu_index,lamb_index] = np.nanmean(regret_rd_ddr_vs_ols_wo_quad[mu, lamb])\n",
    "\n",
    "#         h2h_ddr_vs_ols_wt_quad_avg[mu_index,lamb_index] = np.nanmean(h2h_ddr_vs_ols_wt_quad[mu,lamb])\n",
    "#         regret_rd_ddr_vs_ols_wt_quad_avg[mu_index,lamb_index] = np.nanmean(regret_rd_ddr_vs_ols_wt_quad[mu, lamb])\n",
    "\n",
    "#         lamb_index = lamb_index + 1\n",
    "#     mu_index = mu_index + 1"
   ]
  },
  {
   "cell_type": "code",
   "execution_count": null,
   "id": "b094e128",
   "metadata": {},
   "outputs": [],
   "source": [
    "# print(\"h2h max prop: without quadratic = \", np.max(h2h_ddr_vs_ols_wo_quad_prop),\", with quadratic = \", np.max(h2h_ddr_vs_ols_wt_quad_prop))\n",
    "# print(\"regret rd max prop: without quadratic = \", np.max(regret_rd_ddr_vs_ols_wo_quad_prop),\", with quadratic = \", np.max(regret_rd_ddr_vs_ols_wt_quad_prop))"
   ]
  },
  {
   "cell_type": "code",
   "execution_count": null,
   "id": "da6a12dc",
   "metadata": {},
   "outputs": [],
   "source": [
    "# print(\"h2h max avg: without quadratic = \", np.max(h2h_ddr_vs_ols_wo_quad_avg),\", with quadratic = \", np.max(h2h_ddr_vs_ols_wt_quad_avg))\n",
    "# print(\"regret rd max avg: without quadratic = \", np.max(regret_rd_ddr_vs_ols_wo_quad_avg),\", with quadratic = \", np.max(regret_rd_ddr_vs_ols_wt_quad_avg))"
   ]
  },
  {
   "cell_type": "code",
   "execution_count": null,
   "id": "f1d888f4",
   "metadata": {},
   "outputs": [],
   "source": [
    "# h2h_ddr_vs_ols_wo_quad_prop_df = generate_df(h2h_ddr_vs_ols_wo_quad_prop,[f\"mu={mu}\" for mu in mu_all],[f\"lamb={lamb}\" for lamb in lamb_all])\n",
    "# regret_rd_ddr_vs_ols_wo_quad_prop_df = generate_df(regret_rd_ddr_vs_ols_wo_quad_prop,[f\"mu={mu}\" for mu in mu_all],[f\"lamb={lamb}\" for lamb in lamb_all])\n",
    "\n",
    "# h2h_ddr_vs_ols_wt_quad_prop_df = generate_df(h2h_ddr_vs_ols_wt_quad_prop,[f\"mu={mu}\" for mu in mu_all],[f\"lamb={lamb}\" for lamb in lamb_all])\n",
    "# regret_rd_ddr_vs_ols_wt_quad_prop_df = generate_df(regret_rd_ddr_vs_ols_wt_quad_prop,[f\"mu={mu}\" for mu in mu_all],[f\"lamb={lamb}\" for lamb in lamb_all])\n",
    "\n",
    "# h2h_ddr_vs_ols_wo_quad_avg_df = generate_df(h2h_ddr_vs_ols_wo_quad_avg,[f\"mu={mu}\" for mu in mu_all],[f\"lamb={lamb}\" for lamb in lamb_all])\n",
    "# regret_rd_ddr_vs_ols_wo_quad_avg_df = generate_df(regret_rd_ddr_vs_ols_wo_quad_avg,[f\"mu={mu}\" for mu in mu_all],[f\"lamb={lamb}\" for lamb in lamb_all])\n",
    "\n",
    "# h2h_ddr_vs_ols_wt_quad_avg_df = generate_df(h2h_ddr_vs_ols_wt_quad_avg,[f\"mu={mu}\" for mu in mu_all],[f\"lamb={lamb}\" for lamb in lamb_all])\n",
    "# regret_rd_ddr_vs_ols_wt_quad_avg_df = generate_df(regret_rd_ddr_vs_ols_wt_quad_avg,[f\"mu={mu}\" for mu in mu_all],[f\"lamb={lamb}\" for lamb in lamb_all])\n"
   ]
  },
  {
   "cell_type": "markdown",
   "id": "d14b88ca",
   "metadata": {},
   "source": [
    "##### DDR vs OLS"
   ]
  },
  {
   "cell_type": "code",
   "execution_count": null,
   "id": "5496562f",
   "metadata": {},
   "outputs": [],
   "source": [
    "# h2h_ddr_vs_ols_ante,regret_rd_ddr_vs_ols_ante = obtain_DDR_vs_benchmarks_h2h_regret(grid_all,project_directory,middle_path,num_train,deg,e,num_test,x_dist,e_dist,mu_all,lamb_all,\"OLS\")"
   ]
  },
  {
   "cell_type": "code",
   "execution_count": null,
   "id": "eb23c614",
   "metadata": {},
   "outputs": [],
   "source": [
    "# L_N = 3\n",
    "# mu = 0.5\n",
    "# lamb = 0.9\n",
    "# file_name = Result_dir + 'DDR_vs_OLS_quad_mu='+str(mu)+\"_lamb=\"+str(lamb)+\"_ante_grid=\"+str(L_N)\n",
    "# all_x = h2h_ddr_vs_ols_ante[L_N,mu,lamb] * 100\n",
    "# all_y = regret_rd_ddr_vs_ols_ante[L_N,mu,lamb] * 100\n",
    "# Figure_H2H_Regret.figure_plot_upright(all_x, all_y, file_name, size = (5, 5), move = [-0.07, 0.07, 0.35, 0.55], ysame = 0, yrange = [6,6], sublabel = '', ypio = 0)"
   ]
  },
  {
   "cell_type": "markdown",
   "id": "189dd2f2",
   "metadata": {},
   "source": [
    "##### DDR vs SPO+"
   ]
  },
  {
   "cell_type": "code",
   "execution_count": null,
   "id": "4d9404d7",
   "metadata": {},
   "outputs": [],
   "source": [
    "# h2h_ddr_vs_spo_ante,regret_rd_ddr_vs_spo_ante = obtain_DDR_vs_benchmarks_h2h_regret(grid_all,project_directory,middle_path,num_train,deg,e,num_test,x_dist,e_dist,mu_all,lamb_all,\"SPO+\")"
   ]
  },
  {
   "cell_type": "code",
   "execution_count": null,
   "id": "a18a807f",
   "metadata": {},
   "outputs": [],
   "source": [
    "# L_N = 3\n",
    "# mu = 0.75\n",
    "# lamb = 0.8\n",
    "# file_name = Result_dir + 'DDR_vs_SPO_mu='+str(mu)+\"_lamb=\"+str(lamb)+\"_ante_grid=\"+str(L_N)\n",
    "# all_x = h2h_ddr_vs_spo_ante[L_N,mu,lamb] * 100\n",
    "# all_y = regret_rd_ddr_vs_spo_ante[L_N,mu,lamb] * 100\n",
    "# Upright_Figure(all_x, all_y, file_name, size = (5, 5), move = [0.35, 0.75, 0.35, 0.75], ymin = 0, ymax=100,xmin = 0,xmax = 100)"
   ]
  },
  {
   "cell_type": "markdown",
   "id": "cdd9fadf",
   "metadata": {},
   "source": [
    "##### DDR vs Random Forest"
   ]
  },
  {
   "cell_type": "code",
   "execution_count": null,
   "id": "8f7503f6",
   "metadata": {},
   "outputs": [],
   "source": [
    "# h2h_ddr_vs_rf_ante,regret_rd_ddr_vs_rf_ante = obtain_DDR_vs_benchmarks_h2h_regret(grid_all,project_directory,middle_path,num_train,deg,e,num_test,x_dist,e_dist,mu_all,lamb_all,\"RF\")"
   ]
  },
  {
   "cell_type": "code",
   "execution_count": null,
   "id": "7652c38f",
   "metadata": {},
   "outputs": [],
   "source": [
    "# L_N = 3\n",
    "# mu = 0.75\n",
    "# lamb = 0.8\n",
    "# file_name = Result_dir + 'DDR_vs_RF_mu='+str(mu)+\"_lamb=\"+str(lamb)+\"_ante_grid=\"+str(L_N)\n",
    "# all_x = h2h_ddr_vs_rf_ante[L_N,mu,lamb] * 100\n",
    "# all_y = regret_rd_ddr_vs_rf_ante[L_N,mu,lamb] * 100\n",
    "# Upright_Figure(all_x, all_y, file_name, size = (5, 5), move = [0.35, 0.75, 0.35, 0.75], ymin = 0, ymax=100,xmin = 0,xmax = 100)"
   ]
  },
  {
   "cell_type": "markdown",
   "id": "20a13bca",
   "metadata": {},
   "source": [
    "##### DDR vs XGBoost"
   ]
  },
  {
   "cell_type": "code",
   "execution_count": null,
   "id": "42a9dd9d",
   "metadata": {},
   "outputs": [],
   "source": [
    "# h2h_ddr_vs_xg_ante,regret_rd_ddr_vs_xg_ante = obtain_DDR_vs_benchmarks_h2h_regret(grid_all,project_directory,middle_path,num_train,deg,e,num_test,x_dist,e_dist,mu_all,lamb_all,\"XG\")"
   ]
  },
  {
   "cell_type": "code",
   "execution_count": null,
   "id": "6626c5bc",
   "metadata": {},
   "outputs": [],
   "source": [
    "# L_N = 3\n",
    "# mu = 0.75\n",
    "# lamb = 0.8\n",
    "# file_name = Result_dir + 'DDR_vs_XG_mu='+str(mu)+\"_lamb=\"+str(lamb)+\"_ante_grid=\"+str(L_N)\n",
    "# all_x = h2h_ddr_vs_xg_ante[L_N,mu,lamb] * 100\n",
    "# all_y = regret_rd_ddr_vs_xg_ante[L_N,mu,lamb] * 100\n",
    "# Upright_Figure(all_x, all_y, file_name, size = (5, 5), move = [0.35, 0.75, 0.35, 0.75], ymin = 0, ymax=100,xmin = 0,xmax = 100)"
   ]
  },
  {
   "cell_type": "markdown",
   "id": "1c2d4963",
   "metadata": {},
   "source": [
    "#### RMSE"
   ]
  },
  {
   "cell_type": "code",
   "execution_count": null,
   "id": "0131234e",
   "metadata": {},
   "outputs": [],
   "source": [
    "# def obtain_RMSE(grid_all,file_name,iteration_all,is_DDR,mu,lamb,project_directory,middle_path,num_train,deg,e,num_test,x_dist,e_dist):\n",
    "#     RMSE_ = {}\n",
    "#     for grid in grid_all:\n",
    "#         L_N = grid[0]\n",
    "#         DataPath_parent = project_directory + middle_path +str(L_N)+'by'+str(L_N)+'_grid/'\n",
    "#         DataPath = DataPath_parent + f\"data_size={num_train}_deg={deg}_e={e}_num_test={num_test}\"+\"_x_dist=\"+x_dist+\"_e_dist=\"+e_dist+\"/\"\n",
    "#         print(\"DataPath:\", DataPath)     \n",
    "#         with open(DataPath+file_name, \"rb\") as tf:\n",
    "#             RMSE_all = pickle.load(tf)\n",
    "#         if is_DDR:\n",
    "#             RMSE_[L_N] = [RMSE_all[iter,mu,lamb] for iter in iteration_all]\n",
    "#         else:\n",
    "#             RMSE_[L_N] = [RMSE_all[iter] for iter in iteration_all]\n",
    "#         print(\"Grid = \",grid)\n",
    "#     return RMSE_"
   ]
  },
  {
   "cell_type": "code",
   "execution_count": null,
   "id": "1a4e5556",
   "metadata": {},
   "outputs": [],
   "source": [
    "# mu=0.75\n",
    "# lamb = 0.8\n",
    "\n",
    "# RMSE_in_OLS = obtain_RMSE(grid_all,'RMSE_in_OLS_all.pkl',iteration_all,False,mu,lamb,project_directory,middle_path,num_train,deg,e,num_test,x_dist,e_dist)\n",
    "# RMSE_out_OLS = obtain_RMSE(grid_all,'RMSE_out_OLS_all.pkl',iteration_all,False,mu,lamb,project_directory,middle_path,num_train,deg,e,num_test,x_dist,e_dist)\n",
    "\n",
    "# RMSE_in_RF = obtain_RMSE(grid_all,'RMSE_in_RF_all.pkl',iteration_all,False,mu,lamb,project_directory,middle_path,num_train,deg,e,num_test,x_dist,e_dist)\n",
    "# RMSE_out_RF = obtain_RMSE(grid_all,'RMSE_out_RF_all.pkl',iteration_all,False,mu,lamb,project_directory,middle_path,num_train,deg,e,num_test,x_dist,e_dist)\n",
    "\n",
    "# RMSE_in_XG = obtain_RMSE(grid_all,'RMSE_in_XG_all.pkl',iteration_all,False,mu,lamb,project_directory,middle_path,num_train,deg,e,num_test,x_dist,e_dist)\n",
    "# RMSE_out_XG = obtain_RMSE(grid_all,'RMSE_out_XG_all.pkl',iteration_all,False,mu,lamb,project_directory,middle_path,num_train,deg,e,num_test,x_dist,e_dist)\n",
    "\n",
    "# RMSE_in_DDR = obtain_RMSE(grid_all,'RMSE_in_DDR_all.pkl',iteration_all,True,mu,lamb,project_directory,middle_path,num_train,deg,e,num_test,x_dist,e_dist)\n",
    "# RMSE_out_DDR = obtain_RMSE(grid_all,'RMSE_out_DDR_all.pkl',iteration_all,True,mu,lamb,project_directory,middle_path,num_train,deg,e,num_test,x_dist,e_dist)"
   ]
  },
  {
   "cell_type": "code",
   "execution_count": null,
   "id": "653037b2",
   "metadata": {},
   "outputs": [],
   "source": [
    "# print(\"RMSE_in_OLS=\",np.round(np.nanmean(RMSE_in_OLS[L_N]),4),\",RMSE_out_OLS=\",np.round(np.nanmean(RMSE_out_OLS[L_N]),4))\n",
    "# print(\"RMSE_in_RF=\",np.round(np.nanmean(RMSE_in_RF[L_N]),4),\",RMSE_out_RF=\",np.round(np.nanmean(RMSE_out_RF[L_N]),4))\n",
    "# print(\"RMSE_in_XG=\",np.round(np.nanmean(RMSE_in_XG[L_N]),4),\",RMSE_out_XG=\",np.round(np.nanmean(RMSE_out_XG[L_N]),4))\n",
    "# print(\"RMSE_in_DDR=\",np.round(np.nanmean(RMSE_in_DDR[L_N]),4),\",RMSE_out_DDR=\",np.round(np.nanmean(RMSE_out_DDR[L_N]),4))"
   ]
  },
  {
   "cell_type": "code",
   "execution_count": null,
   "id": "73c1eaf6",
   "metadata": {},
   "outputs": [],
   "source": [
    "# q_tile = 0.05\n",
    "# print(\"5% tile RMSE_in_OLS=\",np.round(np.quantile(RMSE_in_OLS[L_N],q_tile),4),\",RMSE_out_OLS=\",np.round(np.quantile(RMSE_out_OLS[L_N],q_tile),4))\n",
    "# print(\"5% tile RMSE_in_RF=\",np.round(np.quantile(RMSE_in_RF[L_N],q_tile),4),\",RMSE_out_RF=\",np.round(np.quantile(RMSE_out_RF[L_N],q_tile),4))\n",
    "# print(\"5% RMSE_in_XG=\",np.round(np.quantile(RMSE_in_XG[L_N],q_tile),4),\",RMSE_out_XG=\",np.round(np.quantile(RMSE_out_XG[L_N],q_tile),4))\n",
    "# print(\"5% RMSE_in_DDR=\",np.round(np.quantile(RMSE_in_DDR[L_N],q_tile),4),\",RMSE_out_DDR=\",np.round(np.quantile(RMSE_out_DDR[L_N],q_tile),4))"
   ]
  },
  {
   "cell_type": "code",
   "execution_count": null,
   "id": "e97b59cc",
   "metadata": {},
   "outputs": [],
   "source": [
    "# q_tile = 0.95\n",
    "# print(\"95% tile RMSE_in_OLS=\",np.round(np.quantile(RMSE_in_OLS[L_N],q_tile),4),\",RMSE_out_OLS=\",np.round(np.quantile(RMSE_out_OLS[L_N],q_tile),4))\n",
    "# print(\"95% tile RMSE_in_RF=\",np.round(np.quantile(RMSE_in_RF[L_N],q_tile),4),\",RMSE_out_RF=\",np.round(np.quantile(RMSE_out_RF[L_N],q_tile),4))\n",
    "# print(\"95% RMSE_in_XG=\",np.round(np.quantile(RMSE_in_XG[L_N],q_tile),4),\",RMSE_out_XG=\",np.round(np.quantile(RMSE_out_XG[L_N],q_tile),4))\n",
    "# print(\"95% RMSE_in_DDR=\",np.round(np.quantile(RMSE_in_DDR[L_N],q_tile),4),\",RMSE_out_DDR=\",np.round(np.quantile(RMSE_out_DDR[L_N],q_tile),4))"
   ]
  }
 ],
 "metadata": {
  "kernelspec": {
   "display_name": ".venv",
   "language": "python",
   "name": "python3"
  },
  "language_info": {
   "codemirror_mode": {
    "name": "ipython",
    "version": 3
   },
   "file_extension": ".py",
   "mimetype": "text/x-python",
   "name": "python",
   "nbconvert_exporter": "python",
   "pygments_lexer": "ipython3",
   "version": "3.9.6"
  }
 },
 "nbformat": 4,
 "nbformat_minor": 5
}
