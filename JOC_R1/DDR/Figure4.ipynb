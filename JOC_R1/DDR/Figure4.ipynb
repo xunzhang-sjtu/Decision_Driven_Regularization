{
 "cells": [
  {
   "cell_type": "code",
   "execution_count": 1,
   "metadata": {},
   "outputs": [],
   "source": [
    "import numpy as np\n",
    "from numpy import random\n",
    "import time\n",
    "import pickle\n",
    "import os\n",
    "import pathlib\n",
    "import inspect\n",
    "\n",
    "from Performance import DDR_Problem_Evaluation\n",
    "ddr_eva = DDR_Problem_Evaluation()\n",
    "from OLS import OLS_Related_Estimation\n",
    "from DDR_Estimation import DDR_Method\n",
    "from SPO import SPO_Plus_Method\n",
    "from Data import DataSimulator\n",
    "from Figure_Regret_H2H import Regret_H2H"
   ]
  },
  {
   "cell_type": "markdown",
   "metadata": {},
   "source": [
    "## Generate Data"
   ]
  },
  {
   "cell_type": "code",
   "execution_count": 2,
   "metadata": {},
   "outputs": [],
   "source": [
    "def generate_data(DataPath,iters,lower, upper, p, d, data_generation_process,\n",
    "                  samples_test, samples_train, alpha, n_epsilon, mis, thres, x_dister, e_dister, xl, xu, xm, xv, bp):\n",
    "    data_simu = DataSimulator()\n",
    "    Data = {}\n",
    "    for i in range(iters):\n",
    "        # print(\"============== iteration = \",i,\"==============\")\n",
    "        file_path = DataPath + \"iter=\"+str(i) +\"/\"\n",
    "        pathlib.Path(file_path).mkdir(parents=True, exist_ok=True)\n",
    "        # o uniform, 1 binary, 2 uniform + feature, 3 binary + feature, 4 sparse, 5 012\n",
    "        W_star = data_simu.generate_truth(lower, upper, p, d, data_generation_process) \n",
    "        Data[i] = data_simu.generate_samples(file_path,p, d, samples_test, samples_train, alpha, W_star, n_epsilon, mis, thres, \n",
    "                            data_generation_process, x_dister, e_dister, xl, xu, xm, xv, bp) \n",
    "    return Data"
   ]
  },
  {
   "cell_type": "markdown",
   "metadata": {},
   "source": [
    "## Oracle"
   ]
  },
  {
   "cell_type": "code",
   "execution_count": 3,
   "metadata": {},
   "outputs": [],
   "source": [
    "def Implement_Oracle(iters,Data,data_generation_process,DataPath,fold_name):\n",
    "    Data_path_child = DataPath + fold_name\n",
    "    cost_Oracle_wo_noise_all = {}\n",
    "    for i in range(iters):\n",
    "        x_test, z_test_ori, z_test, x_train, z_train_ori, z_train, W_star = Data[i]\n",
    "        cost_Oracle_wo_noise_all[i] = ddr_eva.compute_DDR_out_of_sample_Cost(z_test_ori,z_test_ori,z_test-z_test_ori,data_generation_process,False)\n",
    "    with open(Data_path_child+'cost_Oracle_wo_noise_all.pkl', \"wb\") as tf:\n",
    "        pickle.dump(cost_Oracle_wo_noise_all,tf)\n",
    "    return cost_Oracle_wo_noise_all"
   ]
  },
  {
   "cell_type": "markdown",
   "metadata": {},
   "source": [
    "## OLS"
   ]
  },
  {
   "cell_type": "code",
   "execution_count": 4,
   "metadata": {},
   "outputs": [],
   "source": [
    "def Implement_OLS(iters,Data,data_generation_process,DataPath,fold_name):\n",
    "    Data_path_child = DataPath + fold_name\n",
    "\n",
    "    ORE = OLS_Related_Estimation()\n",
    "    cost_OLS_wo_noise_all = {}\n",
    "    for i in range(iters):\n",
    "        x_test, z_test_ori, z_test, x_train, z_train_ori, z_train, W_star = Data[i]\n",
    "        W_ols, w0_ols, t_ols, obj_ols = ORE.OLS_Solver(\"\",x_train, z_train)\n",
    "        cost_pred = (W_ols @ x_test.T).T + w0_ols\n",
    "        cost_OLS_wo_noise_all[i] = ddr_eva.compute_DDR_out_of_sample_Cost(cost_pred,z_test_ori,z_test-z_test_ori,data_generation_process,False)\n",
    "        # if i % 100 == 0:\n",
    "        #     print(fold_name,\",iteration = \",i,\",c_OLS_without_noise = \",np.nanmean(cost_OLS_wo_noise_all[i]))\n",
    "        #     print(fold_name,\",iteration = \",i,\",c_OLS_with_noise = \",np.nanmean(cost_OLS_with_noise_all[i]))\n",
    "    with open(Data_path_child+'cost_OLS_wo_noise_all.pkl', \"wb\") as tf:\n",
    "        pickle.dump(cost_OLS_wo_noise_all,tf)\n",
    "    return cost_OLS_wo_noise_all"
   ]
  },
  {
   "cell_type": "markdown",
   "metadata": {},
   "source": [
    "## Lasso"
   ]
  },
  {
   "cell_type": "code",
   "execution_count": 5,
   "metadata": {},
   "outputs": [],
   "source": [
    "def Implement_Lasso(iters,Data,data_generation_process,DataPath,fold_name):\n",
    "    Data_path_child = DataPath + fold_name\n",
    "\n",
    "    ORE = OLS_Related_Estimation()\n",
    "    cost_Lasso_wo_noise_all = {}\n",
    "    for i in range(iters):\n",
    "        x_test, z_test_ori, z_test, x_train, z_train_ori, z_train, W_star = Data[i]\n",
    "        W_lasso, w0_lasso, t_lasso = ORE.Lasso_Solver(x_train, z_train)\n",
    "        cost_pred = (W_lasso @ x_test.T).T + w0_lasso\n",
    "        cost_Lasso_wo_noise_all[i] = ddr_eva.compute_DDR_out_of_sample_Cost(cost_pred,z_test_ori,z_test-z_test_ori,data_generation_process,False)\n",
    "\n",
    "    with open(Data_path_child+'cost_Lasso_wo_noise_all.pkl', \"wb\") as tf:\n",
    "        pickle.dump(cost_Lasso_wo_noise_all,tf)\n",
    "\n",
    "    return cost_Lasso_wo_noise_all"
   ]
  },
  {
   "cell_type": "markdown",
   "metadata": {},
   "source": [
    "## Ridge"
   ]
  },
  {
   "cell_type": "code",
   "execution_count": 6,
   "metadata": {},
   "outputs": [],
   "source": [
    "def Implement_Ridge(iters,Data,data_generation_process,DataPath,fold_name):\n",
    "    Data_path_child = DataPath + fold_name\n",
    "\n",
    "    ORE = OLS_Related_Estimation()\n",
    "    cost_Ridge_wo_noise_all = {}\n",
    "    for i in range(iters):\n",
    "        x_test, z_test_ori, z_test, x_train, z_train_ori, z_train, W_star = Data[i]\n",
    "        W_ridge, w0_ridge, t_ridge = ORE.Ridge_Solver(x_train, z_train)\n",
    "        cost_pred = (W_ridge @ x_test.T).T + w0_ridge\n",
    "        cost_Ridge_wo_noise_all[i] = ddr_eva.compute_DDR_out_of_sample_Cost(cost_pred,z_test_ori,z_test-z_test_ori,data_generation_process,False)\n",
    "        # if i % 100 == 0:\n",
    "        #     print(fold_name,\",iteration = \",i,\",c_Ridge_without_noise = \",np.nanmean(cost_Ridge_wo_noise_all[i]))\n",
    "        #     print(fold_name,\",iteration = \",i,\",c_Ridge_with_noise = \",np.nanmean(cost_Ridge_with_noise_all[i]))\n",
    "\n",
    "    with open(Data_path_child+'cost_Ridge_wo_noise_all.pkl', \"wb\") as tf:\n",
    "        pickle.dump(cost_Ridge_wo_noise_all,tf)\n",
    "\n",
    "    return cost_Ridge_wo_noise_all"
   ]
  },
  {
   "cell_type": "markdown",
   "metadata": {},
   "source": [
    "## DDR"
   ]
  },
  {
   "cell_type": "code",
   "execution_count": 7,
   "metadata": {},
   "outputs": [],
   "source": [
    "def Implement_DDR(iters,Data,data_generation_process,DataPath,fold_name,mu_all,lamb_all):\n",
    "    Data_path_child = DataPath + fold_name\n",
    "    DDR_Esti = DDR_Method()\n",
    "    W_ddr_all = {}; w0_ddr_all = {}\n",
    "    cost_DDR_wo_noise_all = {}\n",
    "    for i in range(iters):\n",
    "        x_test, z_test_ori, z_test, x_train, z_train_ori, z_train, W_star = Data[i]\n",
    "        for mu_index in range(len(mu_all)):\n",
    "            mu = mu_all[mu_index]\n",
    "            for lamb_index in range(len(lamb_all)):\n",
    "                lamb = lamb_all[lamb_index]\n",
    "                W_ddr_all[i,mu,lamb], w0_ddr_all[i,mu,lamb] = DDR_Esti.DDR_Solver(x_train, z_train, mu, lamb)\n",
    "                cost_pred = (W_ddr_all[i,mu,lamb] @ x_test.T).T + w0_ddr_all[i,mu,lamb]\n",
    "                cost_DDR_wo_noise_all[i,mu,lamb] = ddr_eva.compute_DDR_out_of_sample_Cost(cost_pred,z_test_ori,z_test-z_test_ori,data_generation_process,False)\n",
    "        # if i % 100 == 0:\n",
    "        #     print(fold_name,\",iteration = \",i,\",cost_DDR_wo_noise_all = \",np.nanmean(cost_DDR_wo_noise_all[i,mu,lamb]))\n",
    "        #     print(fold_name,\",iteration = \",i,\",cost_DDR_with_noise_all = \",np.nanmean(cost_DDR_with_noise_all[i,mu,lamb]))\n",
    "\n",
    "    with open(Data_path_child+'cost_DDR_wo_noise_all.pkl', \"wb\") as tf:\n",
    "        pickle.dump(cost_DDR_wo_noise_all,tf)\n",
    "\n",
    "    return cost_DDR_wo_noise_all"
   ]
  },
  {
   "cell_type": "markdown",
   "metadata": {},
   "source": [
    "## SPO Plus"
   ]
  },
  {
   "cell_type": "code",
   "execution_count": 8,
   "metadata": {},
   "outputs": [],
   "source": [
    "def Implement_SPO_plus(iters,Data,data_generation_process,DataPath,fold_name):\n",
    "    Data_path_child = DataPath + fold_name\n",
    "\n",
    "    SPM = SPO_Plus_Method()\n",
    "    cost_SPO_wo_noise_all = {}\n",
    "    for i in range(iters):\n",
    "        x_test, z_test_ori, z_test, x_train, z_train_ori, z_train, W_star = Data[i]\n",
    "        y_train_opt = ddr_eva.decision_finder(z_train) #generates the optimal y from the training costs\n",
    "        W_spo, w0_spo, t_spo = SPM.SPO_Solver(x_train, z_train, y_train_opt)\n",
    "        cost_pred = (W_spo @ x_test.T).T + w0_spo\n",
    "        cost_SPO_wo_noise_all[i] = ddr_eva.compute_DDR_out_of_sample_Cost(cost_pred,z_test_ori,z_test-z_test_ori,data_generation_process,False)\n",
    "        # if i % 100 == 0:\n",
    "        #     print(fold_name,\",iteration = \",i,\",cost_SPO_wo_noise_all = \",np.nanmean(cost_SPO_wo_noise_all[i]))\n",
    "        #     print(fold_name,\",iteration = \",i,\",cost_SPO_with_noise_all = \",np.nanmean(cost_SPO_with_noise_all[i]))\n",
    "\n",
    "    with open(Data_path_child+'cost_SPO_wo_noise_all.pkl', \"wb\") as tf:\n",
    "        pickle.dump(cost_SPO_wo_noise_all,tf)\n",
    "\n",
    "    return cost_SPO_wo_noise_all"
   ]
  },
  {
   "cell_type": "markdown",
   "metadata": {},
   "source": [
    "## Comparison"
   ]
  },
  {
   "cell_type": "code",
   "execution_count": 9,
   "metadata": {},
   "outputs": [
    {
     "name": "stdout",
     "output_type": "stream",
     "text": [
      "DataPath: /Users/zhangxun/Dropbox/Research/Decision_Driven_Regularization/Data_JOC_R1/DDR/Figure4_Test/\n"
     ]
    }
   ],
   "source": [
    "seed = 3\n",
    "random.seed(seed)\n",
    "\n",
    "iters = 100\n",
    "samples_test = 10000\n",
    "thres = samples_test\n",
    "lower = 0\n",
    "upper = 1\n",
    "n_epsilon = 1\n",
    "mis = 1\n",
    "x_dister = 'uniform'\n",
    "e_dister = 'normal'\n",
    "xl = -2\n",
    "xu = 2\n",
    "xm = 2\n",
    "xv = 0.25\n",
    "bp = 7\n",
    "\n",
    "mu_all = np.round(np.arange(0.25,0.251,0.1),4)\n",
    "lamb_all = np.round(np.arange(0.25,0.251,0.1),4)\n",
    "data_generation_process = \"DDR_Data_Generation\"\n",
    "\n",
    "current_directory = os.getcwd()\n",
    "project_directory = os.path.dirname(os.path.dirname(os.path.dirname(os.path.dirname(current_directory))))\n",
    "DataPath = project_directory + \"/Data_JOC_R1/DDR/Figure4_Test/\"\n",
    "print(\"DataPath:\", DataPath)\n",
    "pathlib.Path(DataPath).mkdir(parents=True, exist_ok=True)"
   ]
  },
  {
   "cell_type": "markdown",
   "metadata": {},
   "source": [
    "## Impact of p"
   ]
  },
  {
   "cell_type": "code",
   "execution_count": 10,
   "metadata": {},
   "outputs": [
    {
     "name": "stdout",
     "output_type": "stream",
     "text": [
      "samples_train=100_p=4_d=10_alpha=1/\n",
      "Set parameter Username\n",
      "Academic license - for non-commercial use only - expires 2026-03-13\n",
      "p= 4 ,h2h= 0.72 ,regret= 0.72\n",
      "samples_train=100_p=6_d=10_alpha=1/\n",
      "p= 6 ,h2h= 0.69 ,regret= 0.7\n",
      "samples_train=100_p=8_d=10_alpha=1/\n",
      "p= 8 ,h2h= 0.71 ,regret= 0.72\n",
      "samples_train=100_p=10_d=10_alpha=1/\n",
      "p= 10 ,h2h= 0.59 ,regret= 0.66\n"
     ]
    }
   ],
   "source": [
    "mu = mu_all[0]\n",
    "lamb = lamb_all[0]\n",
    "d = 10\n",
    "alpha = 1\n",
    "samples_train = 100\n",
    "p_all = [4,6,8,10]\n",
    "h2h_p = np.zeros(len(p_all)); regret_p = np.zeros(len(p_all))\n",
    "p_index = 0\n",
    "for p in p_all:\n",
    "    # random.seed(seed)\n",
    "    fold_name = \"samples_train=\"+str(samples_train)+\"_p=\"+str(p)+\"_d=\"+str(d)+\"_alpha=\"+str(alpha)+\"/\"\n",
    "    print(fold_name)\n",
    "    if p == 2:\n",
    "        with open(DataPath + fold_name+'cost_DDR_wo_noise_all.pkl', \"rb\") as tf:\n",
    "            cost_DDR_wo_noise_all = pickle.load(tf)\n",
    "        with open(DataPath + fold_name+'cost_OLS_wo_noise_all.pkl', \"rb\") as tf:\n",
    "            cost_OLS_wo_noise_all = pickle.load(tf)\n",
    "        with open(DataPath + fold_name+'cost_Oracle_wo_noise_all.pkl', \"rb\") as tf:\n",
    "            cost_Oracle_wo_noise_all = pickle.load(tf)\n",
    "    else:\n",
    "        Data = generate_data(DataPath+fold_name,iters,lower, upper, p, d, data_generation_process,\n",
    "            samples_test, samples_train, alpha, n_epsilon, mis, thres, x_dister, e_dister, xl, xu, xm, xv, bp)\n",
    "        cost_Oracle_wo_noise_all = Implement_Oracle(iters,Data,data_generation_process,DataPath,fold_name)\n",
    "        cost_OLS_wo_noise_all = Implement_OLS(iters,Data,data_generation_process,DataPath,fold_name)\n",
    "        cost_DDR_wo_noise_all = Implement_DDR(iters,Data,data_generation_process,DataPath,fold_name,mu_all,lamb_all)\n",
    "        win_ratio_ddr_ols_wo_noise = np.zeros(iters); cost_reduction_ddr_ols_wo_noise = np.zeros(iters); regret_reduction_ddr_ols_wo_noise = np.zeros(iters)\n",
    "    \n",
    "    for i in range(iters):\n",
    "        lbel, win_ratio_ddr_ols_wo_noise[i], cost_reduction_ddr_ols_wo_noise[i], regret_reduction_ddr_ols_wo_noise[i] = ddr_eva.cross_compare2plus(cost_DDR_wo_noise_all[i,mu,lamb],cost_OLS_wo_noise_all[i],cost_Oracle_wo_noise_all[i])\n",
    "    regret_p[p_index] = np.round( len(regret_reduction_ddr_ols_wo_noise[regret_reduction_ddr_ols_wo_noise > 0.0])/len(regret_reduction_ddr_ols_wo_noise),4 )\n",
    "    h2h_p[p_index] = np.round( len(win_ratio_ddr_ols_wo_noise[win_ratio_ddr_ols_wo_noise > 0.5])/len(win_ratio_ddr_ols_wo_noise),4 )\n",
    "    print(\"p=\",p,\",h2h=\",h2h_p[p_index],\",regret=\",regret_p[p_index])\n",
    "    p_index = p_index + 1\n",
    "result_p = {\"h2h\":h2h_p,\"regret\":regret_p}\n",
    "with open(DataPath+'result_p.pkl', \"wb\") as tf:\n",
    "    pickle.dump(result_p,tf)"
   ]
  },
  {
   "cell_type": "markdown",
   "metadata": {},
   "source": [
    "## Impact of d"
   ]
  },
  {
   "cell_type": "code",
   "execution_count": 11,
   "metadata": {},
   "outputs": [
    {
     "name": "stdout",
     "output_type": "stream",
     "text": [
      "d= 5 ,h2h= 0.54 ,regret= 0.58\n",
      "d= 10 ,h2h= 0.72 ,regret= 0.72\n",
      "d= 25 ,h2h= 0.67 ,regret= 0.66\n",
      "d= 50 ,h2h= 0.64 ,regret= 0.72\n"
     ]
    }
   ],
   "source": [
    "mu = mu_all[0]\n",
    "lamb = lamb_all[0]\n",
    "d_all = [5,10,25,50]\n",
    "alpha = 1\n",
    "samples_train = 100\n",
    "p = 4\n",
    "h2h_d = np.zeros(len(p_all)); regret_d = np.zeros(len(p_all))\n",
    "d_index = 0\n",
    "for d in d_all:\n",
    "    fold_name = \"samples_train=\"+str(samples_train)+\"_p=\"+str(p)+\"_d=\"+str(d)+\"_alpha=\"+str(alpha)+\"/\"\n",
    "    if d == 10:\n",
    "        with open(DataPath + fold_name+'cost_DDR_wo_noise_all.pkl', \"rb\") as tf:\n",
    "            cost_DDR_wo_noise_all = pickle.load(tf)\n",
    "        with open(DataPath + fold_name+'cost_OLS_wo_noise_all.pkl', \"rb\") as tf:\n",
    "            cost_OLS_wo_noise_all = pickle.load(tf)\n",
    "        with open(DataPath + fold_name+'cost_Oracle_wo_noise_all.pkl', \"rb\") as tf:\n",
    "            cost_Oracle_wo_noise_all = pickle.load(tf)\n",
    "    else:\n",
    "        Data = generate_data(DataPath+fold_name,iters,lower, upper, p, d, data_generation_process,\n",
    "            samples_test, samples_train, alpha, n_epsilon, mis, thres, x_dister, e_dister, xl, xu, xm, xv, bp)\n",
    "        cost_Oracle_wo_noise_all = Implement_Oracle(iters,Data,data_generation_process,DataPath,fold_name)\n",
    "        cost_OLS_wo_noise_all = Implement_OLS(iters,Data,data_generation_process,DataPath,fold_name)\n",
    "        cost_DDR_wo_noise_all = Implement_DDR(iters,Data,data_generation_process,DataPath,fold_name,mu_all,lamb_all)\n",
    "        \n",
    "    win_ratio_ddr_ols_wo_noise = np.zeros(iters); cost_reduction_ddr_ols_wo_noise = np.zeros(iters); regret_reduction_ddr_ols_wo_noise = np.zeros(iters)\n",
    "    for i in range(iters):\n",
    "        lbel, win_ratio_ddr_ols_wo_noise[i], cost_reduction_ddr_ols_wo_noise[i], regret_reduction_ddr_ols_wo_noise[i] = ddr_eva.cross_compare2plus(cost_DDR_wo_noise_all[i,mu,lamb],cost_OLS_wo_noise_all[i],cost_Oracle_wo_noise_all[i])\n",
    "    regret_d[d_index] = np.round( len(regret_reduction_ddr_ols_wo_noise[regret_reduction_ddr_ols_wo_noise > 0.0])/len(regret_reduction_ddr_ols_wo_noise),4 )\n",
    "    h2h_d[d_index] = np.round( len(win_ratio_ddr_ols_wo_noise[win_ratio_ddr_ols_wo_noise > 0.5])/len(win_ratio_ddr_ols_wo_noise),4 )\n",
    "    print(\"d=\",d,\",h2h=\",h2h_d[d_index],\",regret=\",regret_d[d_index])\n",
    "    d_index = d_index + 1\n",
    "result_d = {\"h2h\":h2h_d,\"regret\":regret_d}\n",
    "with open(DataPath+'result_d.pkl', \"wb\") as tf:\n",
    "    pickle.dump(result_d,tf)"
   ]
  },
  {
   "cell_type": "markdown",
   "metadata": {},
   "source": [
    "### Impact of sample size"
   ]
  },
  {
   "cell_type": "code",
   "execution_count": 12,
   "metadata": {},
   "outputs": [
    {
     "name": "stdout",
     "output_type": "stream",
     "text": [
      "samples_train=50_p=4_d=10_alpha=1/\n",
      "trainging size= 50 ,h2h= 0.66 ,regret= 0.67\n",
      "samples_train=100_p=4_d=10_alpha=1/\n",
      "trainging size= 100 ,h2h= 0.72 ,regret= 0.72\n",
      "samples_train=200_p=4_d=10_alpha=1/\n",
      "trainging size= 200 ,h2h= 0.62 ,regret= 0.63\n",
      "samples_train=500_p=4_d=10_alpha=1/\n",
      "trainging size= 500 ,h2h= 0.51 ,regret= 0.6\n",
      "samples_train=1000_p=4_d=10_alpha=1/\n",
      "trainging size= 1000 ,h2h= 0.5 ,regret= 0.53\n"
     ]
    }
   ],
   "source": [
    "mu = mu_all[0]\n",
    "lamb = lamb_all[0]\n",
    "p = 4\n",
    "d = 10\n",
    "alpha = 1\n",
    "samples_train_all = [50,100,200,500,1000]\n",
    "h2h_sample_all = np.zeros(len(samples_train_all)); regret_sample_all = np.zeros(len(samples_train_all))\n",
    "sample_index = 0\n",
    "for samples_train in samples_train_all:\n",
    "    fold_name = \"samples_train=\"+str(samples_train)+\"_p=\"+str(p)+\"_d=\"+str(d)+\"_alpha=\"+str(alpha)+\"/\"\n",
    "    print(fold_name)\n",
    "    if samples_train == 100:\n",
    "        with open(DataPath + fold_name+'cost_DDR_wo_noise_all.pkl', \"rb\") as tf:\n",
    "            cost_DDR_wo_noise_all = pickle.load(tf)\n",
    "        with open(DataPath + fold_name+'cost_OLS_wo_noise_all.pkl', \"rb\") as tf:\n",
    "            cost_OLS_wo_noise_all = pickle.load(tf)\n",
    "        with open(DataPath + fold_name+'cost_Oracle_wo_noise_all.pkl', \"rb\") as tf:\n",
    "            cost_Oracle_wo_noise_all = pickle.load(tf)\n",
    "    else:\n",
    "        Data = generate_data(DataPath+fold_name,iters,lower, upper, p, d, data_generation_process,\n",
    "            samples_test, samples_train, alpha, n_epsilon, mis, thres, x_dister, e_dister, xl, xu, xm, xv, bp)\n",
    "        \n",
    "        cost_Oracle_wo_noise_all = Implement_Oracle(iters,Data,data_generation_process,DataPath,fold_name)\n",
    "        cost_OLS_wo_noise_all = Implement_OLS(iters,Data,data_generation_process,DataPath,fold_name)\n",
    "        cost_DDR_wo_noise_all = Implement_DDR(iters,Data,data_generation_process,DataPath,fold_name,mu_all,lamb_all)\n",
    "\n",
    "    win_ratio_ddr_ols_wo_noise = np.zeros(iters); cost_reduction_ddr_ols_wo_noise = np.zeros(iters); regret_reduction_ddr_ols_wo_noise = np.zeros(iters)\n",
    "    for i in range(iters):\n",
    "        lbel, win_ratio_ddr_ols_wo_noise[i], cost_reduction_ddr_ols_wo_noise[i], regret_reduction_ddr_ols_wo_noise[i] = ddr_eva.cross_compare2plus(cost_DDR_wo_noise_all[i,mu,lamb],cost_OLS_wo_noise_all[i],cost_Oracle_wo_noise_all[i])\n",
    "    regret_sample_all[sample_index] = np.round( len(regret_reduction_ddr_ols_wo_noise[regret_reduction_ddr_ols_wo_noise > 0.0])/len(regret_reduction_ddr_ols_wo_noise),4 )\n",
    "    h2h_sample_all[sample_index] = np.round( len(win_ratio_ddr_ols_wo_noise[win_ratio_ddr_ols_wo_noise > 0.5])/len(win_ratio_ddr_ols_wo_noise),4 )\n",
    "\n",
    "    print(\"trainging size=\",samples_train,\",h2h=\",h2h_sample_all[sample_index],\",regret=\",regret_sample_all[sample_index])\n",
    "    sample_index = sample_index + 1\n",
    "result_N = {\"h2h\":h2h_sample_all,\"regret\":regret_sample_all}\n",
    "with open(DataPath+'result_N.pkl', \"wb\") as tf:\n",
    "    pickle.dump(result_N,tf)\n"
   ]
  },
  {
   "cell_type": "markdown",
   "metadata": {},
   "source": [
    "## Impact of alpha"
   ]
  },
  {
   "cell_type": "code",
   "execution_count": 13,
   "metadata": {},
   "outputs": [
    {
     "name": "stdout",
     "output_type": "stream",
     "text": [
      "alpha= 0.25 ,h2h= 0.58 ,regret= 0.6\n",
      "alpha= 1 ,h2h= 0.72 ,regret= 0.72\n",
      "alpha= 2.25 ,h2h= 0.73 ,regret= 0.77\n",
      "alpha= 4 ,h2h= 0.77 ,regret= 0.74\n"
     ]
    }
   ],
   "source": [
    "mu = mu_all[0]\n",
    "lamb = lamb_all[0]\n",
    "d = 10\n",
    "alpha_all = [0.25,1,2.25,4]\n",
    "samples_train = 100\n",
    "p = 4\n",
    "h2h_alpha = np.zeros(len(p_all)); regret_alpha = np.zeros(len(p_all))\n",
    "_index = 0\n",
    "for alpha in alpha_all:\n",
    "    fold_name = \"samples_train=\"+str(samples_train)+\"_p=\"+str(p)+\"_d=\"+str(d)+\"_alpha=\"+str(alpha)+\"/\"\n",
    "    if alpha == 1.0:\n",
    "        with open(DataPath + fold_name+'cost_DDR_wo_noise_all.pkl', \"rb\") as tf:\n",
    "            cost_DDR_wo_noise_all = pickle.load(tf)\n",
    "        with open(DataPath + fold_name+'cost_OLS_wo_noise_all.pkl', \"rb\") as tf:\n",
    "            cost_OLS_wo_noise_all = pickle.load(tf)\n",
    "        with open(DataPath + fold_name+'cost_Oracle_wo_noise_all.pkl', \"rb\") as tf:\n",
    "            cost_Oracle_wo_noise_all = pickle.load(tf)\n",
    "    else:\n",
    "        Data = generate_data(DataPath+fold_name,iters,lower, upper, p, d, data_generation_process,\n",
    "            samples_test, samples_train, alpha, n_epsilon, mis, thres, x_dister, e_dister, xl, xu, xm, xv, bp)\n",
    "        cost_Oracle_wo_noise_all = Implement_Oracle(iters,Data,data_generation_process,DataPath,fold_name)\n",
    "        cost_OLS_wo_noise_all = Implement_OLS(iters,Data,data_generation_process,DataPath,fold_name)\n",
    "        cost_DDR_wo_noise_all = Implement_DDR(iters,Data,data_generation_process,DataPath,fold_name,mu_all,lamb_all)\n",
    "    win_ratio_ddr_ols_wo_noise = np.zeros(iters); cost_reduction_ddr_ols_wo_noise = np.zeros(iters); regret_reduction_ddr_ols_wo_noise = np.zeros(iters)\n",
    "    for i in range(iters):\n",
    "        lbel, win_ratio_ddr_ols_wo_noise[i], cost_reduction_ddr_ols_wo_noise[i], regret_reduction_ddr_ols_wo_noise[i] = ddr_eva.cross_compare2plus(cost_DDR_wo_noise_all[i,mu,lamb],cost_OLS_wo_noise_all[i],cost_Oracle_wo_noise_all[i])\n",
    "    regret_alpha[_index] = np.round( len(regret_reduction_ddr_ols_wo_noise[regret_reduction_ddr_ols_wo_noise > 0.0])/len(regret_reduction_ddr_ols_wo_noise),4 )\n",
    "    h2h_alpha[_index] = np.round( len(win_ratio_ddr_ols_wo_noise[win_ratio_ddr_ols_wo_noise > 0.5])/len(win_ratio_ddr_ols_wo_noise),4 )\n",
    "    print(\"alpha=\",alpha,\",h2h=\",h2h_alpha[_index],\",regret=\",regret_alpha[_index])\n",
    "    _index = _index + 1\n",
    "result_alpha = {\"h2h\":h2h_alpha,\"regret\":regret_alpha}\n",
    "with open(DataPath+'result_alpha.pkl', \"wb\") as tf:\n",
    "    pickle.dump(result_alpha,tf)"
   ]
  },
  {
   "cell_type": "markdown",
   "metadata": {},
   "source": [
    "## Plot figure 4"
   ]
  },
  {
   "cell_type": "code",
   "execution_count": 14,
   "metadata": {},
   "outputs": [],
   "source": [
    "with open(DataPath+'result_p.pkl', \"rb\") as tf:\n",
    "    result_p = pickle.load(tf)\n",
    "h2h_p = result_p[\"h2h\"]\n",
    "regret_p = result_p[\"regret\"]\n",
    "\n",
    "with open(DataPath+'result_d.pkl', \"rb\") as tf:\n",
    "    result_d = pickle.load(tf)\n",
    "h2h_d = result_d[\"h2h\"]\n",
    "regret_d = result_d[\"regret\"]\n",
    "\n",
    "with open(DataPath+'result_N.pkl', \"rb\") as tf:\n",
    "    result_N = pickle.load(tf)\n",
    "h2h_sample_all = result_N[\"h2h\"]\n",
    "regret_sample_all = result_N[\"regret\"]\n",
    "\n",
    "with open(DataPath+'result_alpha.pkl', \"rb\") as tf:\n",
    "    result_alpha = pickle.load(tf)\n",
    "h2h_alpha = result_alpha[\"h2h\"]\n",
    "regret_alpha = result_alpha[\"regret\"]"
   ]
  },
  {
   "cell_type": "code",
   "execution_count": 15,
   "metadata": {},
   "outputs": [
    {
     "name": "stderr",
     "output_type": "stream",
     "text": [
      "The PostScript backend does not support transparency; partially transparent artists will be rendered opaque.\n"
     ]
    },
    {
     "data": {
      "image/png": "[encoded data removed]",
      "text/plain": [
       "<Figure size 500x500 with 1 Axes>"
      ]
     },
     "metadata": {},
     "output_type": "display_data"
    }
   ],
   "source": [
    "import matplotlib.pyplot as plt\n",
    "fig = plt.figure(figsize = (5, 5))\n",
    "plt.plot(h2h_p, regret_p, color='green', marker = \"*\", label = 'p', linestyle = 'None')\n",
    "plt.text(h2h_p[0] + 0.01, regret_p[0] - 0.005, 'Baseline', color='red')\n",
    "plt.text(h2h_p[1] + 0.01, regret_p[1] - 0.005, 'p = 6', color='green')\n",
    "plt.text(h2h_p[2] - 0.05, regret_p[2] - 0.005, 'p = 8', color='green')\n",
    "plt.text(h2h_p[3] - 0.065, regret_p[3] - 0.005, 'p = 10', color='green')\n",
    "\n",
    "plt.plot(h2h_d[0], regret_d[0], color='#003D7C', marker = \"o\", label = 'd', linestyle = 'None')\n",
    "# plt.plot(h2h_d[1], mci_d[1], color='#003D7C', marker = \"o\", linestyle = 'None')\n",
    "plt.plot(h2h_d[2], regret_d[2], color='#003D7C', marker = \"o\", linestyle = 'None')\n",
    "plt.plot(h2h_d[3], regret_d[3], color='#003D7C', marker = \"o\", linestyle = 'None')\n",
    "plt.text(h2h_d[0] + 0.01, regret_d[0] - 0.005, 'd = 5', color='#003D7C')\n",
    "# plt.text(h2h_d[1] + 0.007, mci_d[1] - 0.003, 'd = 15', color='#003D7C')\n",
    "plt.text(h2h_d[2] + 0.01, regret_d[2] - 0.005, 'd = 25', color='#003D7C')\n",
    "plt.text(h2h_d[3] - 0.065, regret_d[3] - 0.005, 'd = 50', color='#003D7C')\n",
    "\n",
    "\n",
    "plt.plot(h2h_sample_all[0], regret_sample_all[0], color='#EF7C00', marker = \"^\", label = 'N',linestyle = 'None')\n",
    "# plt.plot(h2h_N[1], mci_N[1], color='#EF7C00', marker = \"^\",linestyle = 'None')\n",
    "plt.plot(h2h_sample_all[2], regret_sample_all[2], color='#EF7C00', marker = \"^\",linestyle = 'None')\n",
    "plt.plot(h2h_sample_all[3], regret_sample_all[3], color='#EF7C00', marker = \"^\",linestyle = 'None')\n",
    "plt.plot(h2h_sample_all[4], regret_sample_all[4], color='#EF7C00', marker = \"^\",linestyle = 'None')\n",
    "plt.text(h2h_sample_all[0] - 0.02, regret_sample_all[0] + 0.005, 'N = 50', color='#EF7C00')\n",
    "# plt.text(h2h_N[1] + 0.005, mci_N[1] - 0.003, 'N = 100', color='#EF7C00')\n",
    "plt.text(h2h_sample_all[2] - 0.075, regret_sample_all[2] - 0.005, 'N = 200', color='#EF7C00')\n",
    "plt.text(h2h_sample_all[3] - 0.075, regret_sample_all[3] - 0.005, 'N = 500', color='#EF7C00')\n",
    "plt.text(h2h_sample_all[4] - 0.085, regret_sample_all[4] - 0.005, 'N = 1000', color='#EF7C00')\n",
    "\n",
    "\n",
    "plt.plot(h2h_alpha[0], regret_alpha[0], color='grey', marker = \"d\", label = r'$\\alpha$',linestyle = 'None')\n",
    "# plt.plot(h2h_alpha[1], mci_alpha[1], color='grey', marker = \"d\",linestyle = 'None')\n",
    "plt.plot(h2h_alpha[2], regret_alpha[2], color='grey', marker = \"d\",linestyle = 'None')\n",
    "plt.plot(h2h_alpha[3], regret_alpha[3], color='grey', marker = \"d\",linestyle = 'None')\n",
    "plt.text(h2h_alpha[0] + 0.01, regret_alpha[0] - 0.005, r'$\\alpha$ = 0.25', color='grey')\n",
    "# plt.text(h2h_alpha[1] + 0.005, mci_alpha[1] - 0.005, r'$\\alpha$ = 1', color='grey')\n",
    "plt.text(h2h_alpha[2] - 0.075, regret_alpha[2] - 0.005, r'$\\alpha$ = 2.25', color='grey')\n",
    "plt.text(h2h_alpha[3] - 0.05, regret_alpha[3] - 0.005, r'$\\alpha$ = 4', color='grey')\n",
    "\n",
    "plt.vlines(0.5, 0.4, 0.8, linestyle=\"dashed\", alpha = 0.8,color = 'k')\n",
    "plt.hlines(0.5, 0.4, 0.8, linestyle=\"dashed\", alpha = 0.8,color = 'k')\n",
    "plt.legend()\n",
    "\n",
    "plt.xlabel('Head-to-head')\n",
    "plt.ylabel('Regret reduction')\n",
    "\n",
    "plt.plot(h2h_sample_all[1], regret_sample_all[1], color='red', marker = \"o\", linestyle = 'None')\n",
    "# plt.annotate('Ridge vs. DDR', xy = (0.25,0.9), xycoords = 'axes fraction', bbox=dict(boxstyle=\"round\", fc=\"w\"), size = 10)\n",
    "\n",
    "fig.savefig(DataPath+'DDR_vs_OLS_DPSN.eps', format='eps', bbox_inches=\"tight\")\n",
    "fig.savefig(DataPath+'DDR_vs_OLS_DPSN.pdf', format='pdf', bbox_inches=\"tight\")\n",
    "plt.show()"
   ]
  }
 ],
 "metadata": {
  "kernelspec": {
   "display_name": ".venv",
   "language": "python",
   "name": "python3"
  },
  "language_info": {
   "codemirror_mode": {
    "name": "ipython",
    "version": 3
   },
   "file_extension": ".py",
   "mimetype": "text/x-python",
   "name": "python",
   "nbconvert_exporter": "python",
   "pygments_lexer": "ipython3",
   "version": "3.9.6"
  }
 },
 "nbformat": 4,
 "nbformat_minor": 2
}
