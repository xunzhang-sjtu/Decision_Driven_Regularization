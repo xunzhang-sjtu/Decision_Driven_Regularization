{
 "cells": [
  {
   "cell_type": "code",
   "execution_count": 9,
   "metadata": {},
   "outputs": [],
   "source": [
    "import numpy as np\n",
    "from numpy import random\n",
    "import pickle\n",
    "import os\n",
    "import pathlib\n",
    "\n",
    "from Performance import DDR_Problem_Evaluation\n",
    "ddr_eva = DDR_Problem_Evaluation()\n",
    "from OLS import OLS_Related_Estimation\n",
    "from DDR_Estimation import DDR_Method\n",
    "from SPO import SPO_Plus_Method\n",
    "from Data import DataSimulator\n",
    "from Figure_Regret_H2H import Regret_H2H"
   ]
  },
  {
   "cell_type": "markdown",
   "metadata": {},
   "source": [
    "## Generate Data"
   ]
  },
  {
   "cell_type": "code",
   "execution_count": 10,
   "metadata": {},
   "outputs": [],
   "source": [
    "def generate_data(DataPath,iters,lower, upper, p, d, data_generation_process,\n",
    "                  samples_test, samples_train, alpha, n_epsilon, mis, thres, x_dister, e_dister, xl, xu, xm, xv, bp):\n",
    "    data_simu = DataSimulator()\n",
    "    Data = {}\n",
    "    for i in range(iters):\n",
    "        # print(\"============== iteration = \",i,\"==============\")\n",
    "        file_path = DataPath + \"iter=\"+str(i) +\"/\"\n",
    "        pathlib.Path(file_path).mkdir(parents=True, exist_ok=True)\n",
    "        W_star = data_simu.generate_truth(lower, upper, p, d, data_generation_process) \n",
    "        Data[i] = data_simu.generate_samples(file_path,p, d, samples_test, samples_train, alpha, W_star, n_epsilon, mis, thres, \n",
    "                            data_generation_process, x_dister, e_dister, xl, xu, xm, xv, bp) \n",
    "    return Data"
   ]
  },
  {
   "cell_type": "markdown",
   "metadata": {},
   "source": [
    "## Oracle"
   ]
  },
  {
   "cell_type": "code",
   "execution_count": 11,
   "metadata": {},
   "outputs": [],
   "source": [
    "def Implement_Oracle(iters,Data,data_generation_process,DataPath,A,b):\n",
    "    cost_Oracle_wo_noise_all = {}\n",
    "    for i in range(iters):\n",
    "        x_test, z_test_ori, z_test, x_train, z_train_ori, z_train, W_star = Data[i]\n",
    "        cost_Oracle_wo_noise_all[i] = ddr_eva.compute_DDR_out_of_sample_Cost_with_constr(z_test_ori,z_test_ori,z_test-z_test_ori,data_generation_process,False,A,b)\n",
    "        # if i % 10 == 0:\n",
    "        #     print(fold_name,\",iteration = \",i,\",c_oracle_without_noise = \",np.nanmean(cost_Oracle_wo_noise_all[i]))\n",
    "    with open(DataPath+'cost_Oracle_wo_noise_all.pkl', \"wb\") as tf:\n",
    "        pickle.dump(cost_Oracle_wo_noise_all,tf)\n",
    "    return cost_Oracle_wo_noise_all"
   ]
  },
  {
   "cell_type": "markdown",
   "metadata": {},
   "source": [
    "## OLS"
   ]
  },
  {
   "cell_type": "code",
   "execution_count": 12,
   "metadata": {},
   "outputs": [],
   "source": [
    "def Implement_OLS(iters,Data,data_generation_process,DataPath,A,b):\n",
    "    ORE = OLS_Related_Estimation()\n",
    "    cost_OLS_with_noise_all = {}; cost_OLS_wo_noise_all = {}\n",
    "    for i in range(iters):\n",
    "        x_test, z_test_ori, z_test, x_train, z_train_ori, z_train, W_star = Data[i]\n",
    "        W_ols, w0_ols, t_ols, obj_ols = ORE.OLS_Solver(\"\",x_train, z_train)\n",
    "        cost_pred = (W_ols @ x_test.T).T + w0_ols\n",
    "        cost_OLS_wo_noise_all[i] = ddr_eva.compute_DDR_out_of_sample_Cost_with_constr(cost_pred,z_test_ori,z_test-z_test_ori,data_generation_process,False,A,b)\n",
    "        # if i % 100 == 0:\n",
    "        #     print(fold_name,\",iteration = \",i,\",c_OLS_without_noise = \",np.nanmean(cost_OLS_wo_noise_all[i]))\n",
    "    with open(DataPath+'cost_OLS_wo_noise_all.pkl', \"wb\") as tf:\n",
    "        pickle.dump(cost_OLS_wo_noise_all,tf)\n",
    "    return cost_OLS_wo_noise_all"
   ]
  },
  {
   "cell_type": "code",
   "execution_count": 13,
   "metadata": {},
   "outputs": [],
   "source": [
    "def Implement_Ridge(iters,Data,data_generation_process,DataPath):\n",
    "\n",
    "    ORE = OLS_Related_Estimation()\n",
    "    cost_Ridge_with_noise_all = {}; cost_Ridge_wo_noise_all = {}\n",
    "    for i in range(iters):\n",
    "        x_test, z_test_ori, z_test, x_train, z_train_ori, z_train, W_star = Data[i]\n",
    "        W_ridge, w0_ridge, t_ridge = ORE.Ridge_Solver(x_train, z_train)\n",
    "        cost_pred = (W_ridge @ x_test.T).T + w0_ridge\n",
    "        cost_Ridge_wo_noise_all[i] = ddr_eva.compute_DDR_out_of_sample_Cost(cost_pred,z_test_ori,z_test-z_test_ori,data_generation_process,False)\n",
    "        # if i % 100 == 0:\n",
    "        #     print(fold_name,\",iteration = \",i,\",c_Ridge_without_noise = \",np.nanmean(cost_Ridge_wo_noise_all[i]))\n",
    "\n",
    "    with open(DataPath+'cost_Ridge_wo_noise_all.pkl', \"wb\") as tf:\n",
    "        pickle.dump(cost_Ridge_wo_noise_all,tf)\n",
    "\n",
    "    return cost_Ridge_wo_noise_all"
   ]
  },
  {
   "cell_type": "markdown",
   "metadata": {},
   "source": [
    "## DDR"
   ]
  },
  {
   "cell_type": "code",
   "execution_count": 14,
   "metadata": {},
   "outputs": [],
   "source": [
    "def Implement_DDR(iters,Data,data_generation_process,DataPath,mu_all,lamb_all,A,b):\n",
    "    DDR_Esti = DDR_Method()\n",
    "    W_ddr_all = {}; w0_ddr_all = {}; obj_ddr_all = {}\n",
    "    cost_DDR_wo_noise_all = {}\n",
    "    for i in range(iters):\n",
    "        x_test, z_test_ori, z_test, x_train, z_train_ori, z_train, W_star = Data[i]\n",
    "        cost_ddr_avg_tem = np.zeros((len(mu_all),len(lamb_all)))\n",
    "        for mu_index in range(len(mu_all)):\n",
    "            mu = mu_all[mu_index]\n",
    "            for lamb_index in range(len(lamb_all)):\n",
    "                lamb = lamb_all[lamb_index]\n",
    "                W_ddr_all[i,mu,lamb], w0_ddr_all[i,mu,lamb] = DDR_Esti.DDR_Solver_with_Constr(x_train, z_train, mu, lamb,A,b)\n",
    "                cost_pred = (W_ddr_all[i,mu,lamb] @ x_test.T).T + w0_ddr_all[i,mu,lamb]\n",
    "                cost_DDR_wo_noise_all[i,mu,lamb] = ddr_eva.compute_DDR_out_of_sample_Cost_with_constr(cost_pred,z_test_ori,z_test-z_test_ori,data_generation_process,False,A,b)\n",
    "        # if i % 100 == 0:\n",
    "        #     print(fold_name,\",iteration = \",i,\",cost_DDR_wo_noise_all = \",np.nanmean(cost_DDR_wo_noise_all[i,mu,lamb]))\n",
    "    with open(DataPath+'cost_DDR_wo_noise_all.pkl', \"wb\") as tf:\n",
    "        pickle.dump(cost_DDR_wo_noise_all,tf)\n",
    "\n",
    "    return cost_DDR_wo_noise_all"
   ]
  },
  {
   "cell_type": "markdown",
   "metadata": {},
   "source": [
    "## SPO Plus"
   ]
  },
  {
   "cell_type": "code",
   "execution_count": 15,
   "metadata": {},
   "outputs": [],
   "source": [
    "# def Implement_SPO_plus(iters,Data,data_generation_process,DataPath):\n",
    "#     SPM = SPO_Plus_Method()\n",
    "#     cost_SPO_with_noise_all = {}; cost_SPO_wo_noise_all = {}\n",
    "#     for i in range(iters):\n",
    "#         x_test, z_test_ori, z_test, x_train, z_train_ori, z_train, W_star = Data[i]\n",
    "#         y_train_opt = ddr_eva.decision_finder(z_train) #generates the optimal y from the training costs\n",
    "#         W_spo, w0_spo, t_spo = SPM.SPO_Solver(x_train, z_train, y_train_opt)\n",
    "#         cost_pred = (W_spo @ x_test.T).T + w0_spo\n",
    "#         cost_SPO_wo_noise_all[i] = ddr_eva.compute_DDR_out_of_sample_Cost(cost_pred,z_test_ori,z_test-z_test_ori,data_generation_process,False)\n",
    "#         # if i % 100 == 0:\n",
    "#         #     print(fold_name,\",iteration = \",i,\",cost_SPO_wo_noise_all = \",np.nanmean(cost_SPO_wo_noise_all[i]))\n",
    "#     with open(DataPath+'cost_SPO_wo_noise_all.pkl', \"wb\") as tf:\n",
    "#         pickle.dump(cost_SPO_wo_noise_all,tf)\n",
    "#     return cost_SPO_wo_noise_all"
   ]
  },
  {
   "cell_type": "markdown",
   "metadata": {},
   "source": [
    "## Comparison"
   ]
  },
  {
   "cell_type": "code",
   "execution_count": 16,
   "metadata": {},
   "outputs": [
    {
     "name": "stdout",
     "output_type": "stream",
     "text": [
      "DataPath: /Users/zhangxun/Dropbox/Research/Decision_Driven_Regularization/Data_JOC_R1/DDR/Figure6/\n"
     ]
    }
   ],
   "source": [
    "seed = 3\n",
    "random.seed(seed)\n",
    "iters = 100\n",
    "samples_test = 10000\n",
    "thres = 100000000\n",
    "lower = 0\n",
    "upper = 1\n",
    "n_epsilon = 1\n",
    "mis = 1\n",
    "x_dister = 'uniform'\n",
    "e_dister = 'normal'\n",
    "xl = -2\n",
    "xu = 2\n",
    "xm = 2\n",
    "xv = 0.25\n",
    "bp = 7\n",
    "\n",
    "d = 10\n",
    "alpha = 1\n",
    "samples_train = 100\n",
    "p = 4\n",
    "\n",
    "a = 3\n",
    "A = np.random.uniform(-2,0,(a,d))\n",
    "b = np.random.uniform(-1,0,a)\n",
    "\n",
    "mu_all = np.round(np.arange(0.25,0.251,0.1),4)\n",
    "lamb_all = np.round(np.arange(0.25,0.251,0.1),4)\n",
    "data_generation_process = \"DDR_Data_Generation\"\n",
    "\n",
    "current_directory = os.getcwd()\n",
    "project_directory = os.path.dirname(os.path.dirname(os.path.dirname(os.path.dirname(current_directory))))\n",
    "DataPath = project_directory + \"/Data_JOC_R1/DDR/Figure6/\"\n",
    "print(\"DataPath:\", DataPath)\n",
    "pathlib.Path(DataPath).mkdir(parents=True, exist_ok=True)"
   ]
  },
  {
   "cell_type": "code",
   "execution_count": 17,
   "metadata": {},
   "outputs": [],
   "source": [
    "mu = mu_all[0]\n",
    "lamb = lamb_all[0]\n",
    "\n",
    "Data = generate_data(DataPath,iters,lower, upper, p, d, data_generation_process,\n",
    "    samples_test, samples_train, alpha, n_epsilon, mis, thres, x_dister, e_dister, xl, xu, xm, xv, bp)\n",
    "\n",
    "cost_Oracle_wo_noise_all = Implement_Oracle(iters,Data,data_generation_process,DataPath,A,b)\n",
    "cost_OLS_wo_noise_all = Implement_OLS(iters,Data,data_generation_process,DataPath,A,b)\n",
    "cost_DDR_wo_noise_all = Implement_DDR(iters,Data,data_generation_process,DataPath,mu_all,lamb_all,A,b)\n",
    "\n",
    "win_ratio_ddr_ols_wo_noise = np.zeros(iters); cost_reduction_ddr_ols_wo_noise = np.zeros(iters); regret_reduction_ddr_ols_wo_noise = np.zeros(iters)\n",
    "for i in range(iters):\n",
    "    lbel, win_ratio_ddr_ols_wo_noise[i], cost_reduction_ddr_ols_wo_noise[i], regret_reduction_ddr_ols_wo_noise[i] = ddr_eva.cross_compare2plus(cost_DDR_wo_noise_all[i,mu,lamb],cost_OLS_wo_noise_all[i],cost_Oracle_wo_noise_all[i])"
   ]
  },
  {
   "cell_type": "code",
   "execution_count": 18,
   "metadata": {},
   "outputs": [
    {
     "data": {
      "text/plain": [
       "'/Users/zhangxun/Dropbox/Research/Decision_Driven_Regularization/Data_JOC_R1/DDR/Figure6/'"
      ]
     },
     "execution_count": 18,
     "metadata": {},
     "output_type": "execute_result"
    }
   ],
   "source": [
    "DataPath"
   ]
  },
  {
   "cell_type": "code",
   "execution_count": 19,
   "metadata": {},
   "outputs": [
    {
     "name": "stderr",
     "output_type": "stream",
     "text": [
      "The PostScript backend does not support transparency; partially transparent artists will be rendered opaque.\n"
     ]
    },
    {
     "data": {
      "image/png": "[encoded data removed]",
      "text/plain": [
       "<Figure size 500x500 with 3 Axes>"
      ]
     },
     "metadata": {},
     "output_type": "display_data"
    }
   ],
   "source": [
    "output_dir = DataPath + \"output/\"\n",
    "pathlib.Path(output_dir).mkdir(parents=True, exist_ok=True)\n",
    "figure_name = output_dir + \"DDR_vs_OLS\"\n",
    "fig_regret_h2h = Regret_H2H()\n",
    "fig_regret_h2h.figure_plot_upright(win_ratio_ddr_ols_wo_noise*100,regret_reduction_ddr_ols_wo_noise*100,figure_name)"
   ]
  }
 ],
 "metadata": {
  "kernelspec": {
   "display_name": ".venv",
   "language": "python",
   "name": "python3"
  },
  "language_info": {
   "codemirror_mode": {
    "name": "ipython",
    "version": 3
   },
   "file_extension": ".py",
   "mimetype": "text/x-python",
   "name": "python",
   "nbconvert_exporter": "python",
   "pygments_lexer": "ipython3",
   "version": "3.9.6"
  }
 },
 "nbformat": 4,
 "nbformat_minor": 2
}
